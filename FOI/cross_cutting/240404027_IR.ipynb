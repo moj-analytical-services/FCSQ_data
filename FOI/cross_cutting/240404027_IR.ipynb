{
 "cells": [
  {
   "cell_type": "code",
   "execution_count": null,
   "id": "5d14ea08-0ed3-4a5a-9dc8-0e42e1990287",
   "metadata": {},
   "outputs": [],
   "source": [
    "import os  # for file paths\n",
    "import pandas as pd\n",
    "import awswrangler as wr\n",
    "import pydbtools as pydb  # see https://github.com/moj-analytical-services/pydbtools\n",
    "\n",
    "# few things for viewing dataframes better\n",
    "pd.set_option(\"display.max_columns\", 100)\n",
    "pd.set_option(\"display.width\", 900)\n",
    "pd.set_option(\"display.max_colwidth\", 200)"
   ]
  },
  {
   "cell_type": "code",
   "execution_count": null,
   "id": "eea35739-384c-4903-961d-f12e241b3993",
   "metadata": {},
   "outputs": [],
   "source": [
    "# define some variables to be used throughout the notebook\n",
    "db1 = \"familyman_live_v4\" #database where Familyman data is stored\n",
    "db2 = \"fcsq\" #database where tables created as part of FCSQ processing are stored where required\n",
    "#snapshot dates and publication period are set in the main run file. However, if running this notebook independently you will need to set them here\n",
    "snapshot_date = \"2024-04-02\"\n",
    "#pub_year = 2011\n",
    "#pub_qtr = 4"
   ]
  },
  {
   "cell_type": "markdown",
   "id": "1067be2b-0062-4d75-a64f-8e7412e1a7ed",
   "metadata": {},
   "source": [
    "### Children Act applicants"
   ]
  },
  {
   "cell_type": "code",
   "execution_count": null,
   "id": "50b4dc02-6a29-484a-a301-a5dd40c4b201",
   "metadata": {},
   "outputs": [],
   "source": [
    "#Get childre act applications data and link applicants to it\n",
    "pydb.create_temp_table( \n",
    "f\"\"\"\n",
    "SELECT \n",
    "  a.year,\n",
    "  a.main_case_type,\n",
    "  g.gender_code,\n",
    "  count(*) AS count\n",
    "FROM\n",
    "  {db2}.ca_applications a\n",
    "  LEFT JOIN {db2}.ca_applicants g\n",
    "    ON a.case_number = g.case_number\n",
    "WHERE \n",
    "  a.Year = 2023\n",
    "  and a.quarter <> 4\n",
    "GROUP BY\n",
    "  a.year,\n",
    "  a.main_case_type,\n",
    "  g.gender_code\n",
    "\n",
    "\"\"\",\n",
    "\n",
    "\"ca_apps_gender\")"
   ]
  },
  {
   "cell_type": "code",
   "execution_count": null,
   "id": "c8e415b5-0a81-40e9-bb55-c208c5127151",
   "metadata": {},
   "outputs": [],
   "source": [
    "#Pull out all gender types just to see that the total rougly tallies to FCSQ\n",
    "pydb.read_sql_query (\"select * from __temp__.ca_apps_gender\")"
   ]
  },
  {
   "cell_type": "markdown",
   "id": "f943a208-d994-4e39-abc9-0d11a09400c3",
   "metadata": {},
   "source": [
    "### Domestic Violence applicants"
   ]
  },
  {
   "cell_type": "code",
   "execution_count": null,
   "id": "150605be-846e-40df-aab5-3beb83a331a5",
   "metadata": {},
   "outputs": [],
   "source": [
    "#Gender is saved in the DV apps gender table (thankfully!)\n",
    "#Distinct event to get to application level rather than orders applied for\n",
    "pydb.create_temp_table( \n",
    "f\"\"\"\n",
    "SELECT \n",
    "DISTINCT\n",
    "  year,\n",
    "  event,\n",
    "  gender\n",
    "FROM\n",
    "  {db2}.dv_app_gender\n",
    "WHERE \n",
    "  Year = 2023\n",
    "  and quarter <> 4\n",
    "GROUP BY\n",
    "  year,\n",
    "  event,\n",
    "  gender\n",
    "\n",
    "\"\"\",\n",
    "\n",
    "\"dv_apps_gender\")"
   ]
  },
  {
   "cell_type": "code",
   "execution_count": null,
   "id": "e48e394f-06e9-4a7c-9c5a-765a837804e0",
   "metadata": {},
   "outputs": [],
   "source": [
    "pydb.create_temp_table( \n",
    "f\"\"\"\n",
    "SELECT \n",
    "  year,\n",
    "  gender,\n",
    "  count (*) AS count\n",
    "FROM\n",
    "  __temp__.dv_apps_gender\n",
    "GROUP BY\n",
    "  year,\n",
    "  gender\n",
    "\n",
    "\"\"\",\n",
    "\n",
    "\"dv_apps_gender_agg\")"
   ]
  },
  {
   "cell_type": "code",
   "execution_count": null,
   "id": "80a4c035-9f82-4bb3-86c8-489f85e05c6b",
   "metadata": {},
   "outputs": [],
   "source": [
    "pydb.read_sql_query (\"select * from __temp__.dv_apps_gender_agg\")"
   ]
  },
  {
   "cell_type": "markdown",
   "id": "bc269bae-4801-41cb-b8ed-9334e810ac5c",
   "metadata": {
    "tags": []
   },
   "source": [
    "### Adoption applicants"
   ]
  },
  {
   "cell_type": "code",
   "execution_count": null,
   "id": "dc550ec9-25ca-4bd6-a96a-55d9666e14c9",
   "metadata": {},
   "outputs": [],
   "source": [
    "#Get adoption applications data and link applicants to it\n",
    "pydb.create_temp_table( \n",
    "f\"\"\"\n",
    "SELECT \n",
    "  a.year,\n",
    "  g.gender,\n",
    "  count(*) AS count\n",
    "FROM\n",
    "  {db2}.adopt_application_5 a\n",
    "  LEFT JOIN {db2}.adoptions_parties g\n",
    "    ON a.case_number = g.case_number\n",
    "WHERE \n",
    "  a.Year = 2023\n",
    "  and a.quarter <> 4\n",
    "  AND g.role_model = 'APLZ'\n",
    "GROUP BY\n",
    "  a.year,\n",
    "  g.gender\n",
    "\n",
    "\"\"\",\n",
    "\n",
    "\"adoption_apps_gender\")"
   ]
  },
  {
   "cell_type": "code",
   "execution_count": null,
   "id": "a9ccd7bc-1599-4e49-a2e9-a9015927aaf6",
   "metadata": {},
   "outputs": [],
   "source": [
    "pydb.read_sql_query (\"select * from __temp__.adoption_apps_gender\")"
   ]
  },
  {
   "cell_type": "markdown",
   "id": "3a477ff6-e331-4778-8dce-ca66c3bc2840",
   "metadata": {},
   "source": [
    "### Children Act timeliness - timeliness code will need to be re-run to create the relevant temp tables"
   ]
  },
  {
   "cell_type": "code",
   "execution_count": null,
   "id": "4d1ee8a7-422d-4b01-a44e-50c95e6f676b",
   "metadata": {},
   "outputs": [],
   "source": [
    "#Group by number of weeks and add a count of how many for each week so we can eventually take the highest\n",
    "pydb.create_temp_table( \n",
    "f\"\"\"\n",
    "SELECT \n",
    "  weeks,\n",
    "  count (*) AS count\n",
    "FROM\n",
    "  __temp__.ca_timeliness_all\n",
    "WHERE \n",
    "  year = 2023 \n",
    "  AND order_case_type = 'P'\n",
    "  AND quarter <> 4\n",
    "GROUP BY\n",
    "  weeks\n",
    "\n",
    "\"\"\",\n",
    "\"priv_weeks_count\")"
   ]
  },
  {
   "cell_type": "code",
   "execution_count": null,
   "id": "85139177-64b4-4926-97a6-ae49c380ad22",
   "metadata": {},
   "outputs": [],
   "source": [
    "#get the number of weeks with the highest count\n",
    "pydb.read_sql_query (\"select MAX (count) AS mode FROM __temp__.priv_weeks_count\")"
   ]
  },
  {
   "cell_type": "code",
   "execution_count": null,
   "id": "e0417651-2117-47b3-9808-b3a1b3a1d8b9",
   "metadata": {},
   "outputs": [],
   "source": [
    "pd.set_option('display.max_rows', None)"
   ]
  },
  {
   "cell_type": "code",
   "execution_count": null,
   "id": "7f43030e-2384-4c28-ad02-3f22669bff10",
   "metadata": {},
   "outputs": [],
   "source": [
    "# Getting the complete distribution of private law weeks\n",
    "#get the number of weeks with the highest count\n",
    "pydb.read_sql_query (\"select * FROM __temp__.priv_weeks_count order by weeks\")"
   ]
  },
  {
   "cell_type": "code",
   "execution_count": null,
   "id": "8c135cfb-2894-47fc-bb77-846bf32e3d82",
   "metadata": {},
   "outputs": [],
   "source": [
    "#mannually put in number above - most common is 0 weeks\n",
    "pydb.read_sql_query (\"select weeks from __temp__.priv_weeks_count where count = 6170\")"
   ]
  },
  {
   "cell_type": "markdown",
   "id": "2972d95c-4b2d-4f5c-8845-3325f76eded2",
   "metadata": {},
   "source": [
    "### DV timeliness"
   ]
  },
  {
   "cell_type": "code",
   "execution_count": null,
   "id": "e1c6666e-a64e-4ab9-91d6-d99f44ebd11d",
   "metadata": {},
   "outputs": [],
   "source": [
    "#Group by number of weeks and add a count of how many for each week so we can eventually take the highest\n",
    "pydb.create_temp_table( \n",
    "f\"\"\"\n",
    "SELECT \n",
    "  ROUND(wait_weeks) as weeks,\n",
    "  count (*) AS count\n",
    "FROM\n",
    "  fcsq.dv_apps_and_orders_match\n",
    "WHERE \n",
    "  year = 2023\n",
    "  and month not in (10, 11, 12)\n",
    "GROUP BY\n",
    "  ROUND(wait_weeks)\n",
    "\n",
    "\"\"\",\n",
    "\"dv_weeks_count\")"
   ]
  },
  {
   "cell_type": "code",
   "execution_count": null,
   "id": "e069e360-80b4-41ee-bfd2-aafe70528001",
   "metadata": {},
   "outputs": [],
   "source": [
    "#get the number of weeks with the highest count\n",
    "pydb.read_sql_query (\"select MAX (count) AS mode FROM __temp__.dv_weeks_count\")"
   ]
  },
  {
   "cell_type": "code",
   "execution_count": null,
   "id": "7ee6dac4-9080-49e7-b60f-0a013e36c692",
   "metadata": {},
   "outputs": [],
   "source": [
    "#get the complete distribution of domestic violence weeks\n",
    "pydb.read_sql_query (\"select * FROM __temp__.dv_weeks_count order by weeks\")"
   ]
  },
  {
   "cell_type": "code",
   "execution_count": null,
   "id": "83c61541-74c2-42bd-a3bc-741ef0ab4051",
   "metadata": {},
   "outputs": [],
   "source": [
    "#mannually put in number above - most common is 0 weeks\n",
    "pydb.read_sql_query (\"select weeks from __temp__.dv_weeks_count where count = 14088\")"
   ]
  },
  {
   "cell_type": "markdown",
   "id": "888eb2ab-df26-49bb-8cfa-f7f7b372ec9e",
   "metadata": {},
   "source": [
    "### Adoption timeliness "
   ]
  },
  {
   "cell_type": "code",
   "execution_count": null,
   "id": "966a421b-a1ed-4eb3-a39d-42091ee9e15a",
   "metadata": {},
   "outputs": [],
   "source": [
    "#Group by number of weeks and add a count of how many for each week so we can eventually take the highest\n",
    "pydb.create_temp_table( \n",
    "f\"\"\"\n",
    "SELECT \n",
    "  ROUND(wait_weeks) as weeks,\n",
    "  count (*) AS count\n",
    "FROM\n",
    "  fcsq.ADOPT_APPS_AND_ORDERS_MATCH\n",
    "WHERE \n",
    "  year = 2023 \n",
    "  and quarter <> 4\n",
    "GROUP BY\n",
    "  ROUND(wait_weeks)\n",
    "\n",
    "\"\"\",\n",
    "\"adopt_weeks_count\")"
   ]
  },
  {
   "cell_type": "code",
   "execution_count": null,
   "id": "84a02d6d-9fa3-4895-b95e-e4bf29cfa41a",
   "metadata": {},
   "outputs": [],
   "source": [
    "#get the number of weeks with the highest count\n",
    "pydb.read_sql_query (\"select MAX (count) AS mode FROM __temp__.adopt_weeks_count\")"
   ]
  },
  {
   "cell_type": "code",
   "execution_count": null,
   "id": "dff83803-3714-4df9-89fd-fe13df4192ba",
   "metadata": {},
   "outputs": [],
   "source": [
    "# get full distribution\n",
    "pydb.read_sql_query (\"select * FROM __temp__.adopt_weeks_count order by weeks\")"
   ]
  },
  {
   "cell_type": "code",
   "execution_count": null,
   "id": "853994c7-d1ad-4b91-87f3-61988e864e28",
   "metadata": {},
   "outputs": [],
   "source": [
    "#mannually put in number above - most common is 0 weeks\n",
    "pydb.read_sql_query (\"select weeks from __temp__.adopt_weeks_count where count = 171\")"
   ]
  },
  {
   "cell_type": "code",
   "execution_count": null,
   "id": "a6db2f3e-7e04-4f1f-80bf-0c54f0c72eae",
   "metadata": {},
   "outputs": [],
   "source": []
  }
 ],
 "metadata": {
  "kernelspec": {
   "display_name": "FCSQ_run",
   "language": "python",
   "name": "venv_fcsq"
  },
  "language_info": {
   "codemirror_mode": {
    "name": "ipython",
    "version": 3
   },
   "file_extension": ".py",
   "mimetype": "text/x-python",
   "name": "python",
   "nbconvert_exporter": "python",
   "pygments_lexer": "ipython3",
   "version": "3.9.6"
  }
 },
 "nbformat": 4,
 "nbformat_minor": 5
}
