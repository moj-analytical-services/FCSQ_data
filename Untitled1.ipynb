{
 "cells": [
  {
   "cell_type": "markdown",
   "id": "b4d8da35-a4eb-4632-a8c4-de3d6cc128e1",
   "metadata": {
    "tags": []
   },
   "source": [
    "## TEMPLATE table"
   ]
  },
  {
   "cell_type": "markdown",
   "id": "a55ae3ab-9c02-4cf8-a5ff-453039d148e5",
   "metadata": {},
   "source": [
    "### Drop the TEMPLATE table if it already exists and remove its data from the S3 bucket"
   ]
  },
  {
   "cell_type": "code",
   "execution_count": 2,
   "id": "a469efbf-1382-4ffd-a6ef-0b8cb460f9fb",
   "metadata": {
    "collapsed": true,
    "jupyter": {
     "outputs_hidden": true
    },
    "tags": []
   },
   "outputs": [
    {
     "data": {
      "text/plain": [
       "[{'ResponseMetadata': {'RequestId': '4R20G5FS5428264N',\n",
       "   'HostId': 'O6LSL2hs3yJAYUJp6b9jbJSCVubGUWQjBVpULgHUhNJGkXqu9b68i/Kntd8WcYUJniwTleoACTjuEi0w2yE37w==',\n",
       "   'HTTPStatusCode': 200,\n",
       "   'HTTPHeaders': {'x-amz-id-2': 'O6LSL2hs3yJAYUJp6b9jbJSCVubGUWQjBVpULgHUhNJGkXqu9b68i/Kntd8WcYUJniwTleoACTjuEi0w2yE37w==',\n",
       "    'x-amz-request-id': '4R20G5FS5428264N',\n",
       "    'date': 'Tue, 19 Apr 2022 12:29:32 GMT',\n",
       "    'content-type': 'application/xml',\n",
       "    'transfer-encoding': 'chunked',\n",
       "    'server': 'AmazonS3',\n",
       "    'connection': 'close'},\n",
       "   'RetryAttempts': 0},\n",
       "  'Deleted': [{'Key': 'fcsq_processing/Adoption/adopt_applications_data_sorted/20220419_092449_00082_emh2s_52b1086d-6984-47de-9a5f-ef4c6216128f',\n",
       "    'DeleteMarker': True,\n",
       "    'DeleteMarkerVersionId': 'AwP8VmTDnYgZOE4AnkgoWBdOQc2IyA6.'},\n",
       "   {'Key': 'fcsq_processing/Adoption/adopt_applications_data_sorted/20220419_092449_00082_emh2s_a7e2414f-58aa-4b78-8367-3e84acad8187',\n",
       "    'DeleteMarker': True,\n",
       "    'DeleteMarkerVersionId': 'ZZIfzoRODBSw4a010u0zGrnk.foda84G'},\n",
       "   {'Key': 'fcsq_processing/Adoption/adopt_applications_data_sorted/20220419_092449_00082_emh2s_c8fa9973-de5b-4299-860e-0591ede5dc1e',\n",
       "    'DeleteMarker': True,\n",
       "    'DeleteMarkerVersionId': 'ze8KncDmqD0.fiNbowii26d.99peuvHq'},\n",
       "   {'Key': 'fcsq_processing/Adoption/adopt_applications_data_sorted/20220419_092449_00082_emh2s_250b4cf5-ebd8-4ad4-9895-823d901d1506',\n",
       "    'DeleteMarker': True,\n",
       "    'DeleteMarkerVersionId': 'X0lYelkI4xmhVQKLP2OkrHc2h_nXyfS_'},\n",
       "   {'Key': 'fcsq_processing/Adoption/adopt_applications_data_sorted/20220419_092449_00082_emh2s_9c56ba6f-7bba-4315-a06d-f5b28e8fd539',\n",
       "    'DeleteMarker': True,\n",
       "    'DeleteMarkerVersionId': 'g0O.lRietIzz0_vYcd3tUCQZorFuzvNy'},\n",
       "   {'Key': 'fcsq_processing/Adoption/adopt_applications_data_sorted/20220419_092449_00082_emh2s_bdbaf60b-9808-4c25-b6ee-89cee53cf17a',\n",
       "    'DeleteMarker': True,\n",
       "    'DeleteMarkerVersionId': 'sUpvzXLCpXNUawB0OmIi4L2usVihDlP9'},\n",
       "   {'Key': 'fcsq_processing/Adoption/adopt_applications_data_sorted/20220419_092449_00082_emh2s_c2cf3639-3185-4db5-8737-60650f767347',\n",
       "    'DeleteMarker': True,\n",
       "    'DeleteMarkerVersionId': 'xhuGEgvxfHd0glX07M9VQBAjxMbPXuv7'},\n",
       "   {'Key': 'fcsq_processing/Adoption/adopt_applications_data_sorted/20220419_092449_00082_emh2s_cd902d46-e4bd-41ba-9c54-d029546dc2ee',\n",
       "    'DeleteMarker': True,\n",
       "    'DeleteMarkerVersionId': 'MZ9oVrtiVacSA9SfqvVE8zWMYnFd7ssk'},\n",
       "   {'Key': 'fcsq_processing/Adoption/adopt_applications_data_sorted/20220419_092449_00082_emh2s_82700cd4-38d2-435c-a7e2-0ac54a6a47b7',\n",
       "    'DeleteMarker': True,\n",
       "    'DeleteMarkerVersionId': 'KqIblQZ.0Mo8nlgWYdDZktii.3u3C7ue'},\n",
       "   {'Key': 'fcsq_processing/Adoption/adopt_applications_data_sorted/20220419_092449_00082_emh2s_219d596b-b9ab-4677-9767-3af27b33bbaa',\n",
       "    'DeleteMarker': True,\n",
       "    'DeleteMarkerVersionId': 'v7Xxtu7cKhS.10fAkLZt9PUsTFH2sjXF'},\n",
       "   {'Key': 'fcsq_processing/Adoption/adopt_applications_data_sorted/20220419_092449_00082_emh2s_714d2319-bb6a-4e47-bc6e-de862d4c3ce1',\n",
       "    'DeleteMarker': True,\n",
       "    'DeleteMarkerVersionId': 'EXKVYXR.dzXdoPS_5bHpTnZM3zUjh2qA'},\n",
       "   {'Key': 'fcsq_processing/Adoption/adopt_applications_data_sorted/20220419_092449_00082_emh2s_53ef65c8-d39e-4484-aed6-44a994bc8e7a',\n",
       "    'DeleteMarker': True,\n",
       "    'DeleteMarkerVersionId': '4CrwtojysERdbzME0kFnt7utlMOqPXqG'},\n",
       "   {'Key': 'fcsq_processing/Adoption/adopt_applications_data_sorted/20220419_092449_00082_emh2s_14c304e2-7137-46ae-bc6d-82998c6850fe',\n",
       "    'DeleteMarker': True,\n",
       "    'DeleteMarkerVersionId': '7SLj8Wb1B.yjXX4gnDwQJKHo9_2t0aKT'},\n",
       "   {'Key': 'fcsq_processing/Adoption/adopt_applications_data_sorted/20220419_092449_00082_emh2s_cafc6552-69fe-4fdc-b08a-9128fef224c3',\n",
       "    'DeleteMarker': True,\n",
       "    'DeleteMarkerVersionId': 'Y2tTv0X6CkztC7wjHM2DV2E0_dsyIfRS'},\n",
       "   {'Key': 'fcsq_processing/Adoption/adopt_applications_data_sorted/20220419_092449_00082_emh2s_f3a2f4e0-e011-42e4-bdfe-49c442d4e9b7',\n",
       "    'DeleteMarker': True,\n",
       "    'DeleteMarkerVersionId': 'DuYJGyrLyOA0WQ2FBfh9idweEptQXzzj'},\n",
       "   {'Key': 'fcsq_processing/Adoption/adopt_applications_data_sorted/20220419_092449_00082_emh2s_a263e4db-c999-4680-8bff-ff96cce57d06',\n",
       "    'DeleteMarker': True,\n",
       "    'DeleteMarkerVersionId': 'K48kMMbRAHBQqbvR0iJD2CcnhEtTBBUr'},\n",
       "   {'Key': 'fcsq_processing/Adoption/adopt_applications_data_sorted/20220419_092449_00082_emh2s_91ef4c44-0f70-4f00-b3cb-1bc02041b326',\n",
       "    'DeleteMarker': True,\n",
       "    'DeleteMarkerVersionId': 'Ivs8ojFhUHM_jpsNa3Crlp4oRqMQftBV'},\n",
       "   {'Key': 'fcsq_processing/Adoption/adopt_applications_data_sorted/20220419_092449_00082_emh2s_fe8113d8-bccf-4816-a9c1-078ab143d2a5',\n",
       "    'DeleteMarker': True,\n",
       "    'DeleteMarkerVersionId': 'VBuxA29Ctc3EcN6xhW_cp8xRScX6YGmg'},\n",
       "   {'Key': 'fcsq_processing/Adoption/adopt_applications_data_sorted/20220419_092449_00082_emh2s_d99bd9c6-34c6-4ea2-a3a6-87b4157c78af',\n",
       "    'DeleteMarker': True,\n",
       "    'DeleteMarkerVersionId': 'NdpbiUHG9txytP1w0DZprGPNZWhcnuYu'},\n",
       "   {'Key': 'fcsq_processing/Adoption/adopt_applications_data_sorted/20220419_092449_00082_emh2s_86800b69-644d-4532-a8cb-186bf74afcfc',\n",
       "    'DeleteMarker': True,\n",
       "    'DeleteMarkerVersionId': 'xKS9Wzsc5qqJpw.Y_Z_YIRe_zVksq7.2'},\n",
       "   {'Key': 'fcsq_processing/Adoption/adopt_applications_data_sorted/20220419_092449_00082_emh2s_c7a998e5-3599-4a66-8f31-aec49776796a',\n",
       "    'DeleteMarker': True,\n",
       "    'DeleteMarkerVersionId': 'TuAq7iKoZ77lttcdgLTaH_kEGPjpM1nR'},\n",
       "   {'Key': 'fcsq_processing/Adoption/adopt_applications_data_sorted/20220419_092449_00082_emh2s_14ac5227-707b-48a7-b873-14a567593013',\n",
       "    'DeleteMarker': True,\n",
       "    'DeleteMarkerVersionId': 'kBRp9ye9pKkfoseKcHaLnkSf.rMKfSTJ'},\n",
       "   {'Key': 'fcsq_processing/Adoption/adopt_applications_data_sorted/20220419_092449_00082_emh2s_e52e89c1-2bac-4615-a434-1a34b0ece666',\n",
       "    'DeleteMarker': True,\n",
       "    'DeleteMarkerVersionId': 'JsvUA8UWoI0h0q_KGPHiu82U8FBt2FsN'},\n",
       "   {'Key': 'fcsq_processing/Adoption/adopt_applications_data_sorted/20220419_092449_00082_emh2s_6e1d0033-288d-48fe-9540-8906d6d2deff',\n",
       "    'DeleteMarker': True,\n",
       "    'DeleteMarkerVersionId': 'UurCy.pEF9OzESgB8_VxGLwui37M7KKs'},\n",
       "   {'Key': 'fcsq_processing/Adoption/adopt_applications_data_sorted/20220419_092449_00082_emh2s_1ee31b1c-47fb-40f7-87b9-0174f00f7c80',\n",
       "    'DeleteMarker': True,\n",
       "    'DeleteMarkerVersionId': 'YZ3MTW6GiTOwVwCJjHtEDlADLD14l7iM'},\n",
       "   {'Key': 'fcsq_processing/Adoption/adopt_applications_data_sorted/20220419_092449_00082_emh2s_525d8b19-ba2a-47b6-bd05-fc93a165106c',\n",
       "    'DeleteMarker': True,\n",
       "    'DeleteMarkerVersionId': 'upy0oZz_TWFsaoKRmY2o_WctmCphtcyn'},\n",
       "   {'Key': 'fcsq_processing/Adoption/adopt_applications_data_sorted/20220419_092449_00082_emh2s_7ff41048-7440-4d31-88b7-d4aa5127ee22',\n",
       "    'DeleteMarker': True,\n",
       "    'DeleteMarkerVersionId': '9ZFpIvUACBgCL.SIJgq44ICaWkdFgDpk'},\n",
       "   {'Key': 'fcsq_processing/Adoption/adopt_applications_data_sorted/20220419_092449_00082_emh2s_b7eb5900-6f87-4e98-a06c-8e309899e914',\n",
       "    'DeleteMarker': True,\n",
       "    'DeleteMarkerVersionId': 'W.14h_gD3fcRGrN_DoVrWQLXQPz6z66i'},\n",
       "   {'Key': 'fcsq_processing/Adoption/adopt_applications_data_sorted/20220419_092449_00082_emh2s_dabaab79-c3b1-4fb0-a88d-987ad15ec4f6',\n",
       "    'DeleteMarker': True,\n",
       "    'DeleteMarkerVersionId': '.h9n4UwFFcQuaeMsp.U_NL0iJYX7JVuh'},\n",
       "   {'Key': 'fcsq_processing/Adoption/adopt_applications_data_sorted/20220419_092449_00082_emh2s_7da7f87a-52e6-4d78-9a9c-623627adf10e',\n",
       "    'DeleteMarker': True,\n",
       "    'DeleteMarkerVersionId': 'C6Ejt9TlzW7RLWjMLhnaaWDZkq3ADHaL'}]}]"
      ]
     },
     "execution_count": 2,
     "metadata": {},
     "output_type": "execute_result"
    }
   ],
   "source": [
    "drop_TEMPLATE = f\"\"\"\n",
    "DROP TABLE IF EXISTS fcsq.TEMPLATE;\n",
    "\"\"\"\n",
    "pydb.start_query_execution_and_wait(drop_TEMPLATE)\n",
    "\n",
    "# clean up previous TEMPLATE files\n",
    "bucket.objects.filter(Prefix=\"fcsq_processing/Adoption/TEMPLATE/\").delete()"
   ]
  },
  {
   "cell_type": "markdown",
   "id": "940739dd-6880-46b9-816b-40c7d3cf379b",
   "metadata": {},
   "source": [
    "### Create the TEMPLATE table in Athena"
   ]
  },
  {
   "cell_type": "code",
   "execution_count": 3,
   "id": "769b71a4-abf5-4432-a6ce-64fbaaa40f3b",
   "metadata": {
    "scrolled": true
   },
   "outputs": [
    {
     "data": {
      "text/plain": [
       "{'QueryExecutionId': 'e3e00ef8-066b-4db4-9047-00be6fc1fa48',\n",
       " 'Query': \"CREATE TABLE IF NOT EXISTS fcsq.adopt_applications_data_sorted\\nWITH (format = 'PARQUET', external_location = 's3://alpha-family-data/fcsq_processing/Adoption/adopt_applications_data_sorted') AS\\nSELECT * FROM\\nfcsq.adopt_application_5\\nORDER BY \\nCASE_NUMBER, APP_DATE\",\n",
       " 'StatementType': 'DDL',\n",
       " 'ResultConfiguration': {'OutputLocation': 's3://aws-athena-query-results-593291632749-eu-west-1/tables/e3e00ef8-066b-4db4-9047-00be6fc1fa48'},\n",
       " 'QueryExecutionContext': {},\n",
       " 'Status': {'State': 'SUCCEEDED',\n",
       "  'SubmissionDateTime': datetime.datetime(2022, 4, 19, 12, 29, 34, 143000, tzinfo=tzlocal()),\n",
       "  'CompletionDateTime': datetime.datetime(2022, 4, 19, 12, 29, 36, 626000, tzinfo=tzlocal())},\n",
       " 'Statistics': {'EngineExecutionTimeInMillis': 2347,\n",
       "  'DataScannedInBytes': 2372649,\n",
       "  'DataManifestLocation': 's3://aws-athena-query-results-593291632749-eu-west-1/tables/e3e00ef8-066b-4db4-9047-00be6fc1fa48-manifest.csv',\n",
       "  'TotalExecutionTimeInMillis': 2483,\n",
       "  'QueryQueueTimeInMillis': 116,\n",
       "  'QueryPlanningTimeInMillis': 104,\n",
       "  'ServiceProcessingTimeInMillis': 20},\n",
       " 'WorkGroup': 'primary',\n",
       " 'EngineVersion': {'SelectedEngineVersion': 'Athena engine version 2',\n",
       "  'EffectiveEngineVersion': 'Athena engine version 2'}}"
      ]
     },
     "execution_count": 3,
     "metadata": {},
     "output_type": "execute_result"
    }
   ],
   "source": [
    "create_TEMPLATE = f\"\"\"\n",
    "CREATE TABLE IF NOT EXISTS fcsq.TEMPLATE\n",
    "WITH (format = 'PARQUET', external_location = 's3://alpha-family-data/fcsq_processing/Adoption/TEMPLATE') AS\n",
    "\"\"\"\n",
    "\n",
    "pydb.start_query_execution_and_wait(create_TEMPLATE)\n",
    "\n"
   ]
  },
  {
   "cell_type": "markdown",
   "id": "6cc7fcb6-0d42-43f3-a9ed-e7d267425b4f",
   "metadata": {},
   "source": [
    "#### TEMPLATE validation"
   ]
  },
  {
   "cell_type": "code",
   "execution_count": 4,
   "id": "e09df7d0-b6ab-44d6-9d14-cf0343b1ee00",
   "metadata": {},
   "outputs": [
    {
     "data": {
      "text/html": [
       "<div>\n",
       "<style scoped>\n",
       "    .dataframe tbody tr th:only-of-type {\n",
       "        vertical-align: middle;\n",
       "    }\n",
       "\n",
       "    .dataframe tbody tr th {\n",
       "        vertical-align: top;\n",
       "    }\n",
       "\n",
       "    .dataframe thead th {\n",
       "        text-align: right;\n",
       "    }\n",
       "</style>\n",
       "<table border=\"1\" class=\"dataframe\">\n",
       "  <thead>\n",
       "    <tr style=\"text-align: right;\">\n",
       "      <th></th>\n",
       "      <th>count</th>\n",
       "    </tr>\n",
       "  </thead>\n",
       "  <tbody>\n",
       "    <tr>\n",
       "      <th>0</th>\n",
       "      <td>175169</td>\n",
       "    </tr>\n",
       "  </tbody>\n",
       "</table>\n",
       "</div>"
      ],
      "text/plain": [
       "    count\n",
       "0  175169"
      ]
     },
     "execution_count": 4,
     "metadata": {},
     "output_type": "execute_result"
    }
   ],
   "source": [
    "TEMPLATE_count = pydb.read_sql_query(\"select count(*) as count from fcsq.TEMPLATE\")\n",
    "TEMPLATE_count"
   ]
  }
 ],
 "metadata": {
  "kernelspec": {
   "display_name": "venvname",
   "language": "python",
   "name": "venvname"
  },
  "language_info": {
   "codemirror_mode": {
    "name": "ipython",
    "version": 3
   },
   "file_extension": ".py",
   "mimetype": "text/x-python",
   "name": "python",
   "nbconvert_exporter": "python",
   "pygments_lexer": "ipython3",
   "version": "3.9.6"
  }
 },
 "nbformat": 4,
 "nbformat_minor": 5
}
