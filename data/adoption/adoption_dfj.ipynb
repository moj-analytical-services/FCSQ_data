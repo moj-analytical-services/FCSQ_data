{
 "cells": [
  {
   "cell_type": "markdown",
   "id": "d0498ecb",
   "metadata": {},
   "source": [
    "# Adoption DFJ"
   ]
  },
  {
   "cell_type": "markdown",
   "id": "aa9ef8da-f9cd-4ad6-bd1c-dcad3388001f",
   "metadata": {},
   "source": [
    "## Contents\n",
    "#### Setup\n",
    "1. [Import packages and options](#import_packages)\n",
    "2. [Define key variables](#define_key_variables)"
   ]
  },
  {
   "cell_type": "markdown",
   "id": "8503ede4-3f43-432f-818d-d4a82a0a5621",
   "metadata": {},
   "source": [
    "## 1. Import packages and set options \n",
    "<a name=\"import_packages\"></a>"
   ]
  },
  {
   "cell_type": "code",
   "execution_count": 3,
   "id": "053dd161",
   "metadata": {},
   "outputs": [],
   "source": [
    "import pandas as pd  # for the data structures to store and manipulate tables\n",
    "import pydbtools as pydb  # see https://github.com/moj-analytical-services/pydbtools\n",
    "import boto3  # for working with AWS\n",
    "\n",
    "# few things for viewing dataframes better\n",
    "pd.set_option(\"display.max_columns\", 100)\n",
    "pd.set_option(\"display.width\", 900)\n",
    "pd.set_option(\"display.max_colwidth\", 200)"
   ]
  },
  {
   "cell_type": "markdown",
   "id": "028b6a15-409e-4bba-9eac-85c6b161299f",
   "metadata": {},
   "source": [
    "## 2. Define key variables to be used throughout the notebook \n",
    "<a name=\"define_key_variables\"></a>"
   ]
  },
  {
   "cell_type": "code",
   "execution_count": 6,
   "id": "3ac79e19-3e98-4d3b-b876-cc165063e2d0",
   "metadata": {},
   "outputs": [],
   "source": [
    "#this is the database we will be extracting from\n",
    "database = \"familyman_dev_v3\" \n",
    "\n",
    "#this extracts the latest snapshot from athena\n",
    "#get_snapshot_date = f\"SELECT mojap_snapshot_date from {database}.events order by mojap_snapshot_date desc limit 1\"\n",
    "#snapshot_date = str(pydb.read_sql_query(get_snapshot_date)['mojap_snapshot_date'].values[0])\n",
    "\n",
    "#this extracts the August snapshot from athena\n",
    "snapshot_date = '2022-08-04'\n",
    "\n",
    "#this is the athena database we will be storing our tables in\n",
    "fcsq_database = \"fcsq\"\n",
    "\n",
    "#this is the s3 bucket we will be saving data to\n",
    "s3 = boto3.resource(\"s3\")\n",
    "bucket = s3.Bucket(\"alpha-family-data\")\n",
    "\n",
    "#change these to the current quarter and year not the quarter being published\n",
    "latest_quarter = 3\n",
    "latest_year = 2022"
   ]
  },
  {
   "cell_type": "markdown",
   "id": "de433726",
   "metadata": {
    "tags": []
   },
   "source": [
    "## Adoption_Disposals_Orders table"
   ]
  },
  {
   "cell_type": "markdown",
   "id": "27ab9b76",
   "metadata": {},
   "source": [
    "### Create the Adoption_Disposals_Orders temp table "
   ]
  },
  {
   "cell_type": "code",
   "execution_count": 7,
   "id": "0d1350f2",
   "metadata": {},
   "outputs": [],
   "source": [
    "create_Adoption_Disposals_Orders = f\"\"\"\n",
    "SELECT YEAR, QUARTER, Court, count(*) as Disposals\n",
    "FROM fcsq.adopt_disposals5_adoption\n",
    "WHERE Year>2010\n",
    "GROUP BY Year,Quarter,Court\n",
    "ORDER BY Year,Quarter,Court;\n",
    "\"\"\"\n",
    "\n",
    "pydb.create_temp_table(create_Adoption_Disposals_Orders,'Adoption_Disposals_Orders');\n",
    "\n"
   ]
  },
  {
   "cell_type": "markdown",
   "id": "b9ef8cd3",
   "metadata": {},
   "source": [
    "#### Adoption_Disposals_Orders validation"
   ]
  },
  {
   "cell_type": "code",
   "execution_count": 8,
   "id": "ce4f4d7a",
   "metadata": {},
   "outputs": [],
   "source": [
    "#Adoption_Disposals_Orders_count = pydb.read_sql_query(\"select count(*) as count from __temp__.Adoption_Disposals_Orders\")\n",
    "#Adoption_Disposals_Orders_count"
   ]
  },
  {
   "cell_type": "markdown",
   "id": "7368113e",
   "metadata": {
    "tags": []
   },
   "source": [
    "## adopt_disposal_case_count_A table"
   ]
  },
  {
   "cell_type": "markdown",
   "id": "5f6e1fa0",
   "metadata": {},
   "source": [
    "### Drop the adopt_disposal_case_count_A table if it already exists and remove its data from the S3 bucket"
   ]
  },
  {
   "cell_type": "code",
   "execution_count": 9,
   "id": "00c85ce4",
   "metadata": {
    "scrolled": true,
    "tags": []
   },
   "outputs": [],
   "source": [
    "drop_adopt_disposal_case_count_A = f\"\"\"\n",
    "DROP TABLE IF EXISTS fcsq.adopt_disposal_case_count_A;\n",
    "\"\"\"\n",
    "pydb.start_query_execution_and_wait(drop_adopt_disposal_case_count_A)\n",
    "\n",
    "# clean up previous adopt_disposal_case_count_A files\n",
    "bucket.objects.filter(Prefix=\"fcsq_processing/Adoption/adopt_disposal_case_count_A/\").delete();"
   ]
  },
  {
   "cell_type": "markdown",
   "id": "79a0a67f",
   "metadata": {},
   "source": [
    "### Create the adopt_disposal_case_count_A table in Athena"
   ]
  },
  {
   "cell_type": "code",
   "execution_count": 10,
   "id": "7b434d72",
   "metadata": {
    "scrolled": true
   },
   "outputs": [],
   "source": [
    "create_adopt_disposal_case_count_A = f\"\"\"\n",
    "SELECT \n",
    "t1.CASE_NUMBER, \n",
    "Min(t1.Receipt_date) AS MinOfReceipt_date,\n",
    "t1.Court \n",
    "FROM fcsq.adopt_disposals5_adoption as t1\n",
    "GROUP BY t1.CASE_NUMBER, t1.Court;\n",
    "\n",
    "\"\"\"\n",
    "\n",
    "pydb.create_temp_table(create_adopt_disposal_case_count_A,'adopt_disposal_case_count_A');\n",
    "\n"
   ]
  },
  {
   "cell_type": "markdown",
   "id": "671d30e3",
   "metadata": {},
   "source": [
    "#### adopt_disposal_case_count_A validation"
   ]
  },
  {
   "cell_type": "code",
   "execution_count": 11,
   "id": "caad0bbc",
   "metadata": {},
   "outputs": [],
   "source": [
    "#adopt_disposal_case_count_A_count = pydb.read_sql_query(\"select count(*) as count from __temp__.adopt_disposal_case_count_A\")\n",
    "#adopt_disposal_case_count_A_count"
   ]
  },
  {
   "cell_type": "markdown",
   "id": "b623346b",
   "metadata": {},
   "source": [
    "### Create the adopt_disposal_case_count_B table in Athena"
   ]
  },
  {
   "cell_type": "code",
   "execution_count": 12,
   "id": "fb3924e4",
   "metadata": {
    "scrolled": true
   },
   "outputs": [],
   "source": [
    "create_adopt_disposal_case_count_B = f\"\"\"\n",
    "SELECT \n",
    "t1.CASE_NUMBER, \n",
    "Year (t1.MinOfReceipt_date) AS YEAR,\n",
    "CASE WHEN Month(t1.MinOfReceipt_date)<4\n",
    "    THEN 1\n",
    "        WHEN Month(t1.MinOfReceipt_date)<7\n",
    "        THEN 2\n",
    "            WHEN Month(t1.MinOfReceipt_date)<10\n",
    "            THEN 3\n",
    "\n",
    "ELSE 4\n",
    "END AS Quarter,\n",
    "t1.MinOfReceipt_date,\n",
    "t1.Court \n",
    "FROM __temp__.adopt_disposal_case_count_A  as t1;\n",
    "\n",
    "\"\"\"\n",
    "\n",
    "pydb.create_temp_table(create_adopt_disposal_case_count_B,'adopt_disposal_case_count_B')\n",
    "\n"
   ]
  },
  {
   "cell_type": "markdown",
   "id": "68a22d06",
   "metadata": {},
   "source": [
    "#### adopt_disposal_case_count_B validation"
   ]
  },
  {
   "cell_type": "code",
   "execution_count": 13,
   "id": "27215b23",
   "metadata": {},
   "outputs": [],
   "source": [
    "#adopt_disposal_case_count_B_count = pydb.read_sql_query(\"select count(*) as count from __temp__.adopt_disposal_case_count_B\")\n",
    "#adopt_disposal_case_count_B_count"
   ]
  },
  {
   "cell_type": "markdown",
   "id": "cedf0421",
   "metadata": {
    "tags": []
   },
   "source": [
    "## Adoption_Disposals_Case table"
   ]
  },
  {
   "cell_type": "markdown",
   "id": "b7f0986c",
   "metadata": {},
   "source": [
    "### Create the Adoption_Disposals_Case table in Athena"
   ]
  },
  {
   "cell_type": "code",
   "execution_count": 14,
   "id": "df10b4b0",
   "metadata": {
    "scrolled": true
   },
   "outputs": [],
   "source": [
    "create_Adoption_Disposals_Case = f\"\"\"\n",
    "SELECT Year,Quarter,Court,count(*) as Case_End\n",
    "FROM __temp__.adopt_disposal_case_count_B\n",
    "WHERE year>2010\n",
    "GROUP BY Year,Quarter,Court\n",
    "ORDER BY Year,Quarter,Court;\n",
    "\"\"\"\n",
    "\n",
    "pydb.create_temp_table(create_Adoption_Disposals_Case,'Adoption_Disposals_Case');\n",
    "\n"
   ]
  },
  {
   "cell_type": "markdown",
   "id": "08516c3a",
   "metadata": {},
   "source": [
    "#### Adoption_Disposals_Case validation"
   ]
  },
  {
   "cell_type": "code",
   "execution_count": 15,
   "id": "bbf392d1",
   "metadata": {},
   "outputs": [],
   "source": [
    "#Adoption_Disposals_Case_count = pydb.read_sql_query(\"select count(*) as count from __temp__.Adoption_Disposals_Case\")\n",
    "#Adoption_Disposals_Case_count"
   ]
  },
  {
   "cell_type": "markdown",
   "id": "6e442430",
   "metadata": {
    "tags": []
   },
   "source": [
    "## adoption_disposals_merge table"
   ]
  },
  {
   "cell_type": "markdown",
   "id": "fdd7040f",
   "metadata": {},
   "source": [
    "### Create the adoption_disposals_merge table in Athena"
   ]
  },
  {
   "cell_type": "code",
   "execution_count": 16,
   "id": "1e63bce5",
   "metadata": {},
   "outputs": [],
   "source": [
    "create_adoption_disposals_merge = f\"\"\"\n",
    "SELECT\n",
    "t1.year,\n",
    "t1.quarter,\n",
    "t1.court,\n",
    "t1.Disposals,\n",
    "t2.Case_End,\n",
    "'Adoption' as Category,\n",
    "'End' as Stage\n",
    "FROM __temp__.adoption_disposals_orders t1 \n",
    "INNER JOIN \n",
    "__temp__.adoption_disposals_case t2\n",
    "ON t1.year = t2.year AND t1.quarter = t2.quarter AND t1.court = t2.court\n",
    "where t1.year <> 2021 or t1.quarter <> 3;\n",
    "\"\"\"\n",
    "\n",
    "pydb.create_temp_table(create_adoption_disposals_merge,'adoption_disposals_merge');\n",
    "\n"
   ]
  },
  {
   "cell_type": "markdown",
   "id": "cd6aed63",
   "metadata": {},
   "source": [
    "#### adoption_disposals_merge validation"
   ]
  },
  {
   "cell_type": "code",
   "execution_count": 17,
   "id": "354694b4",
   "metadata": {},
   "outputs": [],
   "source": [
    "#adoption_disposals_merge_count = pydb.read_sql_query(\"select * from __temp__.adoption_disposals_merge ORDER BY Year,Quarter,Court;\")\n",
    "#adoption_disposals_merge_count"
   ]
  },
  {
   "cell_type": "markdown",
   "id": "5eea6774",
   "metadata": {
    "tags": []
   },
   "source": [
    "## adoption_disposals_format  table"
   ]
  },
  {
   "cell_type": "markdown",
   "id": "3eccd0b0",
   "metadata": {},
   "source": [
    "### Create the adoption_disposals_format  table in Athena"
   ]
  },
  {
   "cell_type": "code",
   "execution_count": 40,
   "id": "cfffc664",
   "metadata": {
    "scrolled": true
   },
   "outputs": [],
   "source": [
    "create_adoption_disposals_format  = f\"\"\"\n",
    "SELECT\n",
    "Category,\n",
    "Stage,\n",
    "Year,\n",
    "Quarter,\n",
    "Court,\n",
    "Disposals as Count,\n",
    "Case_end as Cases\n",
    "FROM\n",
    "__temp__.adoption_disposals_merge;\n",
    "\"\"\"\n",
    "\n",
    "pydb.create_temp_table(create_adoption_disposals_format,'adoption_disposals_format');\n",
    "\n",
    "df = pydb.read_sql_query(create_adoption_disposals_format)\n",
    "df.to_csv(path_or_buf = 's3://alpha-family-data/CSVs/Adoption/adoption_disposals_format.csv',index=False)\n"
   ]
  },
  {
   "cell_type": "markdown",
   "id": "a8dcc2fa",
   "metadata": {},
   "source": [
    "#### adoption_disposals_format  validation"
   ]
  },
  {
   "cell_type": "code",
   "execution_count": 19,
   "id": "f21fb3f0",
   "metadata": {
    "scrolled": true
   },
   "outputs": [],
   "source": [
    "#adoption_disposals_format_count = pydb.read_sql_query(\"select count(*) as count from __temp__.adoption_disposals_format \")\n",
    "#adoption_disposals_format_count"
   ]
  },
  {
   "cell_type": "markdown",
   "id": "dfb0e15b",
   "metadata": {
    "tags": []
   },
   "source": [
    "## Adoption_Applications_Ordera table"
   ]
  },
  {
   "cell_type": "markdown",
   "id": "e24fc5ce",
   "metadata": {},
   "source": [
    "### Create the Adoption_Applications_Ordera table in Athena"
   ]
  },
  {
   "cell_type": "code",
   "execution_count": 20,
   "id": "d514b64d",
   "metadata": {},
   "outputs": [],
   "source": [
    "create_Adoption_Applications_Ordera = f\"\"\"\n",
    "SELECT YEAR, QUARTER, Court, count(*) as Apps\n",
    "FROM fcsq.adopt_apps_6_adoptions_only\n",
    "WHERE Year>2010\n",
    "GROUP BY Year,Quarter,Court\n",
    "ORDER BY Year,Quarter,Court;\n",
    "\"\"\"\n",
    "\n",
    "pydb.create_temp_table(create_Adoption_Applications_Ordera,'Adoption_Applications_Ordera');\n",
    "\n"
   ]
  },
  {
   "cell_type": "markdown",
   "id": "a9ec4666",
   "metadata": {},
   "source": [
    "#### Adoption_Applications_Ordera validation"
   ]
  },
  {
   "cell_type": "code",
   "execution_count": 21,
   "id": "12f19dbc",
   "metadata": {},
   "outputs": [],
   "source": [
    "#Adoption_Applications_Ordera_count = pydb.read_sql_query(\"select count(*) as count from __temp__.Adoption_Applications_Ordera\")\n",
    "#Adoption_Applications_Ordera_count"
   ]
  },
  {
   "cell_type": "markdown",
   "id": "886005f2",
   "metadata": {
    "tags": []
   },
   "source": [
    "## Application_case_count_C table"
   ]
  },
  {
   "cell_type": "markdown",
   "id": "f8490e5d",
   "metadata": {},
   "source": [
    "### Create the Application_case_count_C table in Athena"
   ]
  },
  {
   "cell_type": "code",
   "execution_count": 22,
   "id": "757389b6",
   "metadata": {
    "scrolled": true
   },
   "outputs": [],
   "source": [
    "create_Application_case_count_C = f\"\"\"\n",
    "SELECT \n",
    "t1.CASE_NUMBER, \n",
    "Min(t1.App_date) AS MinOfApp_date,\n",
    "t1.Court \n",
    "FROM fcsq.adopt_apps_6_adoptions_only as t1\n",
    "GROUP BY t1.CASE_NUMBER, t1.Court;\n",
    "\n",
    "\"\"\"\n",
    "\n",
    "pydb.create_temp_table(create_Application_case_count_C,'Application_case_count_C');\n",
    "\n"
   ]
  },
  {
   "cell_type": "markdown",
   "id": "e5f5f609",
   "metadata": {},
   "source": [
    "#### Application_case_count_C validation"
   ]
  },
  {
   "cell_type": "code",
   "execution_count": 23,
   "id": "36723130",
   "metadata": {},
   "outputs": [],
   "source": [
    "#Application_case_count_C_count = pydb.read_sql_query(\"select count(*) as count from __temp__.Application_case_count_C\")\n",
    "#Application_case_count_C_count"
   ]
  },
  {
   "cell_type": "markdown",
   "id": "9a36ab3d",
   "metadata": {},
   "source": [
    "### Create the Application_case_count_D table in Athena"
   ]
  },
  {
   "cell_type": "code",
   "execution_count": 24,
   "id": "d452416a",
   "metadata": {
    "scrolled": true
   },
   "outputs": [],
   "source": [
    "create_Application_case_count_D = f\"\"\"\n",
    "SELECT \n",
    "t1.CASE_NUMBER, \n",
    "Year (t1.MinOfApp_date) AS YEAR,\n",
    "CASE WHEN Month(t1.MinOfApp_date)<4\n",
    "    THEN 1\n",
    "        WHEN Month(t1.MinOfApp_date)<7\n",
    "        THEN 2\n",
    "            WHEN Month(t1.MinOfApp_date)<10\n",
    "            THEN 3\n",
    "\n",
    "ELSE 4\n",
    "END AS Quarter,\n",
    "t1.MinOfApp_date,\n",
    "t1.Court \n",
    "FROM __temp__.application_case_count_C  as t1;\n",
    "\n",
    "\"\"\"\n",
    "\n",
    "pydb.create_temp_table(create_Application_case_count_D,'Application_case_count_D');\n",
    "\n"
   ]
  },
  {
   "cell_type": "markdown",
   "id": "cde591a9",
   "metadata": {},
   "source": [
    "#### Application_case_count_D validation"
   ]
  },
  {
   "cell_type": "code",
   "execution_count": 25,
   "id": "e07b6ee7",
   "metadata": {},
   "outputs": [],
   "source": [
    "#Application_case_count_D_count = pydb.read_sql_query(\"select count(*) as count from __temp__.Application_case_count_D\")\n",
    "#Application_case_count_D_count"
   ]
  },
  {
   "cell_type": "markdown",
   "id": "758ca4f6",
   "metadata": {
    "tags": []
   },
   "source": [
    "## Adoption_Applications_Case table"
   ]
  },
  {
   "cell_type": "markdown",
   "id": "fe57fa0b",
   "metadata": {},
   "source": [
    "### Create the Adoption_Applications_Case table in Athena"
   ]
  },
  {
   "cell_type": "code",
   "execution_count": 26,
   "id": "fd215fd0",
   "metadata": {
    "scrolled": true
   },
   "outputs": [],
   "source": [
    "create_Adoption_Applications_Case = f\"\"\"\n",
    "SELECT Year,Quarter,Court,count(*) as Case_Count\n",
    "FROM __temp__.Application_case_count_D\n",
    "WHERE year>2010\n",
    "GROUP BY Year,Quarter,Court\n",
    "ORDER BY Year,Quarter,Court;\n",
    "\"\"\"\n",
    "\n",
    "pydb.create_temp_table(create_Adoption_Applications_Case,'Adoption_Applications_Case');\n",
    "\n"
   ]
  },
  {
   "cell_type": "markdown",
   "id": "819a40e3",
   "metadata": {},
   "source": [
    "#### Adoption_Applications_Case validation"
   ]
  },
  {
   "cell_type": "code",
   "execution_count": 27,
   "id": "b6031e83",
   "metadata": {},
   "outputs": [],
   "source": [
    "#Adoption_Applications_Case_count = pydb.read_sql_query(\"select count(*) as count from __temp__.Adoption_Applications_Case\")\n",
    "#Adoption_Applications_Case_count"
   ]
  },
  {
   "cell_type": "markdown",
   "id": "2ad3a19f",
   "metadata": {
    "tags": []
   },
   "source": [
    "## adoption_Applications_merge table"
   ]
  },
  {
   "cell_type": "markdown",
   "id": "ef79dfbc",
   "metadata": {},
   "source": [
    "### Create the adoption_Applications_merge table in Athena"
   ]
  },
  {
   "cell_type": "code",
   "execution_count": 28,
   "id": "7b5d6c3c",
   "metadata": {},
   "outputs": [],
   "source": [
    "create_adoption_Applications_merge = f\"\"\"\n",
    "SELECT\n",
    "t1.year,\n",
    "t1.quarter,\n",
    "t1.court,\n",
    "t1.apps,\n",
    "t2.Case_Count,\n",
    "'Adoption' as Category,\n",
    "'Start' as Stage\n",
    "FROM __temp__.Adoption_Applications_Ordera t1 \n",
    "INNER JOIN \n",
    "__temp__.Adoption_Applications_Case t2\n",
    "ON t1.year = t2.year AND t1.quarter = t2.quarter AND t1.court = t2.court\n",
    "where t1.year <> 2021 or t1.quarter <> 3;\n",
    "\"\"\"\n",
    "\n",
    "pydb.create_temp_table(create_adoption_Applications_merge,'adoption_Applications_merge');\n",
    "\n"
   ]
  },
  {
   "cell_type": "markdown",
   "id": "be843817",
   "metadata": {},
   "source": [
    "#### adoption_Applications_merge validation"
   ]
  },
  {
   "cell_type": "code",
   "execution_count": 29,
   "id": "d0cb5a63",
   "metadata": {},
   "outputs": [],
   "source": [
    "#adoption_Applications_merge_count = pydb.read_sql_query(\"select * from __temp__.adoption_Applications_merge ORDER BY Year,Quarter,Court;\")\n",
    "#adoption_Applications_merge_count"
   ]
  },
  {
   "cell_type": "markdown",
   "id": "7f40c922",
   "metadata": {
    "tags": []
   },
   "source": [
    "## adoption_Applications_format  table"
   ]
  },
  {
   "cell_type": "markdown",
   "id": "0d333811",
   "metadata": {},
   "source": [
    "### Create the adoption_Applications_format  table in Athena"
   ]
  },
  {
   "cell_type": "code",
   "execution_count": 41,
   "id": "5c336fec",
   "metadata": {
    "scrolled": true
   },
   "outputs": [],
   "source": [
    "create_adoption_Applications_format  = f\"\"\"\n",
    "SELECT\n",
    "Category,\n",
    "Stage,\n",
    "Year,\n",
    "Quarter,\n",
    "Court,\n",
    "apps as Count,\n",
    "Case_Count as Cases\n",
    "FROM\n",
    "__temp__.adoption_Applications_merge;\n",
    "\"\"\"\n",
    "\n",
    "pydb.create_temp_table(create_adoption_Applications_format,'adoption_Applications_format');\n",
    "\n",
    "df = pydb.read_sql_query(create_adoption_Applications_format)\n",
    "df.to_csv(path_or_buf = 's3://alpha-family-data/CSVs/Adoption/adoption_Applications_format.csv',index=False)\n"
   ]
  },
  {
   "cell_type": "markdown",
   "id": "3d0ff009",
   "metadata": {},
   "source": [
    "#### adoption_Applications_format  validation"
   ]
  },
  {
   "cell_type": "code",
   "execution_count": 31,
   "id": "fc8d4d9f",
   "metadata": {},
   "outputs": [],
   "source": [
    "#adoption_Applications_format_count = pydb.read_sql_query(\"select * from __temp__.adoption_Applications_format ORDER BY Year,Quarter,Court\")\n",
    "#adoption_Applications_format_count"
   ]
  },
  {
   "cell_type": "markdown",
   "id": "2ca41353",
   "metadata": {
    "tags": []
   },
   "source": [
    "## adopt_court_level_append table"
   ]
  },
  {
   "cell_type": "markdown",
   "id": "29c116c8",
   "metadata": {},
   "source": [
    "### Create the adopt_court_level_append table in Athena"
   ]
  },
  {
   "cell_type": "code",
   "execution_count": 32,
   "id": "352dc722",
   "metadata": {
    "scrolled": true
   },
   "outputs": [],
   "source": [
    "create_adopt_court_level_append = f\"\"\"\n",
    "SELECT * FROM __temp__.adoption_Applications_format \n",
    "UNION \n",
    "SELECT * FROM __temp__.adoption_Disposals_format \n",
    "ORDER BY Year,Quarter,Court\n",
    "\"\"\"\n",
    "\n",
    "pydb.create_temp_table(create_adopt_court_level_append,'adopt_court_level_append');\n",
    "\n"
   ]
  },
  {
   "cell_type": "markdown",
   "id": "6786c2cd",
   "metadata": {},
   "source": [
    "#### adopt_court_level_append validation"
   ]
  },
  {
   "cell_type": "code",
   "execution_count": 33,
   "id": "c6c54299",
   "metadata": {},
   "outputs": [],
   "source": [
    "#adopt_court_level_append_count = pydb.read_sql_query(\"select * from __temp__.adopt_court_level_append\")\n",
    "#adopt_court_level_append_count"
   ]
  },
  {
   "cell_type": "markdown",
   "id": "bf7642ed",
   "metadata": {
    "tags": []
   },
   "source": [
    "## court_lookup table"
   ]
  },
  {
   "cell_type": "markdown",
   "id": "45f698ca",
   "metadata": {},
   "source": [
    "### Create the court_lookup table in Athena"
   ]
  },
  {
   "cell_type": "code",
   "execution_count": 34,
   "id": "87483770",
   "metadata": {
    "scrolled": true
   },
   "outputs": [],
   "source": [
    "create_court_lookup = f\"\"\"\n",
    "SELECT \n",
    "code,\n",
    "Region,\n",
    "Region_Pre2014,\n",
    "DFJ_New\n",
    "FROM fcsq.court_mv_feb21_dfj;\n",
    "\"\"\"\n",
    "\n",
    "pydb.create_temp_table(create_court_lookup,'court_lookup');\n",
    "\n"
   ]
  },
  {
   "cell_type": "markdown",
   "id": "399d5c1b",
   "metadata": {},
   "source": [
    "#### court_lookup validation"
   ]
  },
  {
   "cell_type": "code",
   "execution_count": 35,
   "id": "4edf295f",
   "metadata": {},
   "outputs": [],
   "source": [
    "#court_lookup_count = pydb.read_sql_query(\"select * from __temp__.court_lookup\")\n",
    "#court_lookup_count"
   ]
  },
  {
   "cell_type": "markdown",
   "id": "53957372",
   "metadata": {
    "tags": []
   },
   "source": [
    "## court_level_merge table"
   ]
  },
  {
   "cell_type": "markdown",
   "id": "cf7d003c",
   "metadata": {},
   "source": [
    "### Create the court_level_merge table in Athena"
   ]
  },
  {
   "cell_type": "code",
   "execution_count": 36,
   "id": "3920845d",
   "metadata": {
    "scrolled": true
   },
   "outputs": [],
   "source": [
    "create_court_level_merge = f\"\"\"\n",
    "SELECT\n",
    "t1.Category,\n",
    "t1.Stage,\n",
    "t1.Year,\n",
    "t1.Quarter,\n",
    "t1.Count,\n",
    "t1.Cases,\n",
    "t2.DFJ_New,\n",
    "Case when Year < 2014 then t2.Region_Pre2014\n",
    "Else t2.Region\n",
    "End As Final_Region\n",
    "FROM \n",
    "__temp__.adopt_court_level_append t1\n",
    "INNER JOIN\n",
    "__temp__.court_lookup t2\n",
    "ON CAST(t1.court as integer) = t2.code\n",
    "where CAST(t1.court as integer) in (SELECT code from __temp__.court_lookup);\n",
    "\"\"\"\n",
    "\n",
    "pydb.create_temp_table(create_court_level_merge,'court_level_merge');\n",
    "\n"
   ]
  },
  {
   "cell_type": "markdown",
   "id": "87a2d3b4",
   "metadata": {},
   "source": [
    "#### court_level_merge validation"
   ]
  },
  {
   "cell_type": "code",
   "execution_count": 37,
   "id": "8ed3baad",
   "metadata": {},
   "outputs": [],
   "source": [
    "#court_level_merge_count = pydb.read_sql_query(\"select * from __temp__.court_level_merge where year=2020 and quarter=3 and dfj_new='Carlisle DFJ' order by year,quarter,dfj_new\")\n",
    "#court_level_merge_count"
   ]
  },
  {
   "cell_type": "markdown",
   "id": "4988fdbd",
   "metadata": {
    "tags": []
   },
   "source": [
    "## court_level_sum table"
   ]
  },
  {
   "cell_type": "markdown",
   "id": "9bcc67cd",
   "metadata": {},
   "source": [
    "### Create the court_level_sum table in Athena"
   ]
  },
  {
   "cell_type": "code",
   "execution_count": 38,
   "id": "2a4a385a",
   "metadata": {
    "scrolled": true
   },
   "outputs": [],
   "source": [
    "csv_output_table = f\"\"\"\n",
    "SELECT\n",
    "Category,\n",
    "Stage,\n",
    "Year,\n",
    "Quarter,\n",
    "DFJ_New,\n",
    "Final_Region as region,\n",
    "SUM(count) as count,\n",
    "SUM(cases) as cases\n",
    "FROM __temp__.court_level_merge\n",
    "group by\n",
    "Category,\n",
    "Stage,\n",
    "Year,\n",
    "Quarter,\n",
    "DFJ_New,\n",
    "Final_Region;\n",
    "\"\"\"\n",
    "\n",
    "df = pydb.read_sql_query(csv_output_table)\n",
    "df.to_csv(path_or_buf = 's3://alpha-family-data/CSVs/Adoption/adopt_dfj.csv',index=False)\n"
   ]
  },
  {
   "cell_type": "markdown",
   "id": "e3e666e7",
   "metadata": {},
   "source": [
    "#### court_level_sum validation"
   ]
  },
  {
   "cell_type": "code",
   "execution_count": 39,
   "id": "c930066b",
   "metadata": {
    "scrolled": true
   },
   "outputs": [],
   "source": [
    "court_level_sum_count = pydb.read_sql_query(\"select * from __temp__.court_level_sum ORDER BY Category,Year,Quarter,region,DFJ_New,Stage\")\n",
    "#court_level_sum_count"
   ]
  }
 ],
 "metadata": {
  "kernelspec": {
   "display_name": "venv",
   "language": "python",
   "name": "venv"
  },
  "language_info": {
   "codemirror_mode": {
    "name": "ipython",
    "version": 3
   },
   "file_extension": ".py",
   "mimetype": "text/x-python",
   "name": "python",
   "nbconvert_exporter": "python",
   "pygments_lexer": "ipython3",
   "version": "3.9.6"
  }
 },
 "nbformat": 4,
 "nbformat_minor": 5
}
