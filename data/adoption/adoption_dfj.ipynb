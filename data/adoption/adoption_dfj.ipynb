{
 "cells": [
  {
   "cell_type": "markdown",
   "id": "d0498ecb",
   "metadata": {},
   "source": [
    "# Adoption DFJ"
   ]
  },
  {
   "cell_type": "markdown",
   "id": "aa9ef8da-f9cd-4ad6-bd1c-dcad3388001f",
   "metadata": {},
   "source": [
    "## Contents\n",
    "#### Setup\n",
    "1. [Import packages and options](#import_packages)\n",
    "2. [Define key variables](#define_key_variables)\n",
    "\n",
    "#### Stage 1 - [Disposals](#disposals)\n",
    "3. [adoption_disposals_orders](#Adoption_Disposals_Orders) - filters out non-adoption and calculates the number of disposal orders\n",
    "4. [adopt_disposal_case_count_A](#adopt_disposal_case_count_A) - finds the first disposal from each case number and court\n",
    "5. [adopt_disposal_case_count_B](#adopt_disposal_case_count_B) - formats the adopt_disposal_case_count_A table by adding a quarter column\n",
    "6. [adoption_disposals_case](#Adoption_Disposals_Case) - filters by year>2010 and produces the count of the first disposal from each case number and court\n",
    "7. [adoption_disposals_merge](#adoption_disposals_merge) - joins both the adoption_disposals_orders and adoption_disposals_case tables\n",
    "8. [adoption_disposals_format](#adoption_disposals_format) - formats adoption_disposals_merge table by ordering the columns and renaming column names\n",
    "\n",
    "#### Stage 2 - [Applications](#applications)\n",
    "9. [adoption_applications_ordera](#Adoption_Applications_Ordera) - filters by year>2010 and calculates the number of applications\n",
    "10. [application_case_count_C](#Application_case_count_C) - finds the first application from each case number and court\n",
    "11. [application_case_count_D](#Application_case_count_D) - formats the Application_case_count_D table by adding a quarter column\n",
    "12. [adoption_applications_case](#Adoption_Applications_Case) - filters by year>2010 and produces the count of the first application from each case number and court\n",
    "13. [adoption_applications_merge](#adoption_Applications_merge) - joins both the Adoption_Applications_Ordera and Adoption_Applications_Case tables\n",
    "14. [adoption_applications_format](#adoption_Applications_format) - formats adoption_Applications_merge table by ordering the columns and renaming column names\n",
    "\n",
    "#### Stage 3 - [Preparing the final output](#prepare_final_output)\n",
    "15. [adopt_court_level_append](#adopt_court_level_append) - combines both adoption_Applications_format and adoption_Disposals_format tables\n",
    "16. [court_lookup](#court_lookup) - creates a table with court information (e.g court codes and region)\n",
    "17. [court_level_merge](#court_level_merge) - joins both the adopt_court_level_append and court_lookup tables\n",
    "18. [adopt_dfj](#adopt_dfj) - this query calculates the total number of counts and cases in each quarter and region to produce the final DFJ csv output"
   ]
  },
  {
   "cell_type": "markdown",
   "id": "8503ede4-3f43-432f-818d-d4a82a0a5621",
   "metadata": {},
   "source": [
    "## 1. Import packages and set options \n",
    "<a name=\"import_packages\"></a>"
   ]
  },
  {
   "cell_type": "code",
   "execution_count": null,
   "id": "053dd161",
   "metadata": {},
   "outputs": [],
   "source": [
    "import pandas as pd  # for the data structures to store and manipulate tables\n",
    "import pydbtools as pydb  # see https://github.com/moj-analytical-services/pydbtools\n",
    "import boto3  # for working with AWS\n",
    "\n",
    "# few things for viewing dataframes better\n",
    "pd.set_option(\"display.max_columns\", 100)\n",
    "pd.set_option(\"display.width\", 900)\n",
    "pd.set_option(\"display.max_colwidth\", 200)"
   ]
  },
  {
   "cell_type": "markdown",
   "id": "028b6a15-409e-4bba-9eac-85c6b161299f",
   "metadata": {},
   "source": [
    "## 2. Define key variables to be used throughout the notebook \n",
    "<a name=\"define_key_variables\"></a>"
   ]
  },
  {
   "cell_type": "code",
   "execution_count": null,
   "id": "3ac79e19-3e98-4d3b-b876-cc165063e2d0",
   "metadata": {},
   "outputs": [],
   "source": [
    "#this is the database we will be extracting from\n",
    "database = \"familyman_live_v4\" \n",
    "\n",
    "#this extracts the latest snapshot from athena\n",
    "get_snapshot_date = f\"SELECT mojap_snapshot_date from {database}.events order by mojap_snapshot_date desc limit 1\"\n",
    "snapshot_date = str(pydb.read_sql_query(get_snapshot_date)['mojap_snapshot_date'].values[0])\n",
    "\n",
    "#this extracts the November snapshot from athena\n",
    "#snapshot_date = '2022-11-09'\n",
    "\n",
    "#this is the athena database we will be storing our tables in\n",
    "fcsq_database = \"fcsq\"\n",
    "\n",
    "#this is the s3 bucket we will be saving data to\n",
    "s3 = boto3.resource(\"s3\")\n",
    "bucket = s3.Bucket(\"alpha-family-data\")\n",
    "\n",
    "#change these to the current quarter and year not the quarter being published\n",
    "latest_quarter = 3\n",
    "latest_year = 2023"
   ]
  },
  {
   "cell_type": "markdown",
   "id": "06a212df-34f5-419f-ae3a-2f4f162cf0e7",
   "metadata": {},
   "source": [
    "# Stage 1 - Disposals\n",
    "<a name=\"disposals\"></a>"
   ]
  },
  {
   "cell_type": "markdown",
   "id": "de433726",
   "metadata": {
    "tags": []
   },
   "source": [
    "## 3. Adoption_Disposals_Orders table - filters out non-adoption and calculates the number of disposal orders\n",
    "<a name=\"Adoption_Disposals_Orders\"></a>"
   ]
  },
  {
   "cell_type": "markdown",
   "id": "3e27ae1c-df96-41f8-bd2a-335afb0da39d",
   "metadata": {},
   "source": [
    "### Drop the Adoption_Disposals_Orders table if it already exists and remove its data from the S3 bucket"
   ]
  },
  {
   "cell_type": "code",
   "execution_count": null,
   "id": "9d28e9d6-3295-4adb-b4cb-18b84b2d1fa2",
   "metadata": {
    "tags": []
   },
   "outputs": [],
   "source": [
    "drop_Adoption_Disposals_Orders = f\"\"\"\n",
    "DROP TABLE IF EXISTS fcsq.Adoption_Disposals_Orders;\n",
    "\"\"\"\n",
    "pydb.start_query_execution_and_wait(drop_Adoption_Disposals_Orders)\n",
    "\n",
    "# clean up previous Adoption_Disposals_Orders files\n",
    "bucket.objects.filter(Prefix=\"fcsq_processing/Adoption/Adoption_Disposals_Orders/\").delete();"
   ]
  },
  {
   "cell_type": "markdown",
   "id": "27ab9b76",
   "metadata": {},
   "source": [
    "### Create the Adoption_Disposals_Orders table in Athena"
   ]
  },
  {
   "cell_type": "code",
   "execution_count": null,
   "id": "0d1350f2",
   "metadata": {},
   "outputs": [],
   "source": [
    "create_Adoption_Disposals_Orders = f\"\"\"\n",
    "CREATE TABLE IF NOT EXISTS fcsq.Adoption_Disposals_Orders\n",
    "WITH (format = 'PARQUET', external_location = 's3://alpha-family-data/fcsq_processing/Adoption/Adoption_Disposals_Orders') AS\n",
    "SELECT YEAR, QUARTER, Court, count(*) as Disposals\n",
    "FROM __temp__.adopt_disp_details \n",
    "WHERE adoption = 'Adoption'\n",
    "GROUP BY Year,Quarter,Court\n",
    "ORDER BY Year,Quarter,Court;\n",
    "\"\"\"\n",
    "\n",
    "pydb.start_query_execution_and_wait(create_Adoption_Disposals_Orders);"
   ]
  },
  {
   "cell_type": "markdown",
   "id": "b9ef8cd3",
   "metadata": {},
   "source": [
    "#### Adoption_Disposals_Orders validation"
   ]
  },
  {
   "cell_type": "code",
   "execution_count": null,
   "id": "ce4f4d7a",
   "metadata": {},
   "outputs": [],
   "source": [
    "#Adoption_Disposals_Orders_count = pydb.read_sql_query(\"select count(*) as count from __temp__.Adoption_Disposals_Orders\")\n",
    "#Adoption_Disposals_Orders_count"
   ]
  },
  {
   "cell_type": "markdown",
   "id": "7368113e",
   "metadata": {
    "tags": []
   },
   "source": [
    "## 4. adopt_disposal_case_count_A table - finds the first disposal from each case number and court \n",
    "<a name=\"adopt_disposal_case_count_A\"></a>"
   ]
  },
  {
   "cell_type": "markdown",
   "id": "79a0a67f",
   "metadata": {},
   "source": [
    "### Create the adopt_disposal_case_count_A temporary table"
   ]
  },
  {
   "cell_type": "code",
   "execution_count": null,
   "id": "7b434d72",
   "metadata": {},
   "outputs": [],
   "source": [
    "create_adopt_disposal_case_count_A = f\"\"\"\n",
    "SELECT \n",
    "t1.CASE_NUMBER, \n",
    "Min(t1.Receipt_date) AS MinOfReceipt_date,\n",
    "t1.Court \n",
    "FROM fcsq.adopt_disposals5_adoption as t1\n",
    "GROUP BY t1.CASE_NUMBER, t1.Court;\n",
    "\n",
    "\"\"\"\n",
    "\n",
    "pydb.create_temp_table(create_adopt_disposal_case_count_A,'adopt_disposal_case_count_A');"
   ]
  },
  {
   "cell_type": "markdown",
   "id": "671d30e3",
   "metadata": {},
   "source": [
    "#### adopt_disposal_case_count_A validation"
   ]
  },
  {
   "cell_type": "code",
   "execution_count": null,
   "id": "caad0bbc",
   "metadata": {},
   "outputs": [],
   "source": [
    "#adopt_disposal_case_count_A_count = pydb.read_sql_query(\"select count(*) as count from __temp__.adopt_disposal_case_count_A\")\n",
    "#adopt_disposal_case_count_A_count"
   ]
  },
  {
   "cell_type": "markdown",
   "id": "e5e2834e-4410-43dc-b6e7-5835c00cf6de",
   "metadata": {
    "tags": []
   },
   "source": [
    "## 5. adopt_disposal_case_count_B table - formats the adopt_disposal_case_count_A table by adding a quarter column\n",
    "<a name=\"adopt_disposal_case_count_B\"></a>"
   ]
  },
  {
   "cell_type": "markdown",
   "id": "b623346b",
   "metadata": {},
   "source": [
    "### Create the adopt_disposal_case_count_B temporary table"
   ]
  },
  {
   "cell_type": "code",
   "execution_count": null,
   "id": "fb3924e4",
   "metadata": {},
   "outputs": [],
   "source": [
    "create_adopt_disposal_case_count_B = f\"\"\"\n",
    "SELECT \n",
    "t1.CASE_NUMBER, \n",
    "Year (t1.MinOfReceipt_date) AS YEAR,\n",
    "CASE WHEN Month(t1.MinOfReceipt_date)<4\n",
    "    THEN 1\n",
    "        WHEN Month(t1.MinOfReceipt_date)<7\n",
    "        THEN 2\n",
    "            WHEN Month(t1.MinOfReceipt_date)<10\n",
    "            THEN 3\n",
    "\n",
    "ELSE 4\n",
    "END AS Quarter,\n",
    "t1.MinOfReceipt_date,\n",
    "t1.Court \n",
    "FROM __temp__.adopt_disposal_case_count_A  as t1;\n",
    "\n",
    "\"\"\"\n",
    "\n",
    "pydb.create_temp_table(create_adopt_disposal_case_count_B,'adopt_disposal_case_count_B')"
   ]
  },
  {
   "cell_type": "markdown",
   "id": "68a22d06",
   "metadata": {},
   "source": [
    "#### adopt_disposal_case_count_B validation"
   ]
  },
  {
   "cell_type": "code",
   "execution_count": null,
   "id": "27215b23",
   "metadata": {},
   "outputs": [],
   "source": [
    "#adopt_disposal_case_count_B_count = pydb.read_sql_query(\"select count(*) as count from __temp__.adopt_disposal_case_count_B\")\n",
    "#adopt_disposal_case_count_B_count"
   ]
  },
  {
   "cell_type": "markdown",
   "id": "cedf0421",
   "metadata": {
    "tags": []
   },
   "source": [
    "## 6. Adoption_Disposals_Case table - filters by year>2010 and produces the count of the first disposal from each case number and court\n",
    "<a name=\"Adoption_Disposals_Case\"></a>"
   ]
  },
  {
   "cell_type": "markdown",
   "id": "c6dc84db-2a6a-4a2b-93ae-cc1011572812",
   "metadata": {},
   "source": [
    "### Drop the Adoption_Disposals_Case table if it already exists and remove its data from the S3 bucket"
   ]
  },
  {
   "cell_type": "code",
   "execution_count": null,
   "id": "0b964963-a437-4281-b14b-e842d2aeb7f3",
   "metadata": {
    "tags": []
   },
   "outputs": [],
   "source": [
    "drop_Adoption_Disposals_Case = f\"\"\"\n",
    "DROP TABLE IF EXISTS fcsq.Adoption_Disposals_Case;\n",
    "\"\"\"\n",
    "pydb.start_query_execution_and_wait(drop_Adoption_Disposals_Case)\n",
    "\n",
    "# clean up previous Adoption_Disposals_Case files\n",
    "bucket.objects.filter(Prefix=\"fcsq_processing/Adoption/Adoption_Disposals_Case/\").delete();"
   ]
  },
  {
   "cell_type": "markdown",
   "id": "b7f0986c",
   "metadata": {},
   "source": [
    "### Create the Adoption_Disposals_Case table in Athena"
   ]
  },
  {
   "cell_type": "code",
   "execution_count": null,
   "id": "df10b4b0",
   "metadata": {},
   "outputs": [],
   "source": [
    "create_Adoption_Disposals_Case = f\"\"\"\n",
    "CREATE TABLE IF NOT EXISTS fcsq.Adoption_Disposals_Case\n",
    "WITH (format = 'PARQUET', external_location = 's3://alpha-family-data/fcsq_processing/Adoption/Adoption_Disposals_Case') AS\n",
    "SELECT Year, Quarter, Court, count(*) as Case_End\n",
    "FROM __temp__.adopt_disposal_case_count_B\n",
    "WHERE year>2010\n",
    "GROUP BY Year, Quarter, Court\n",
    "ORDER BY Year, Quarter, Court;\n",
    "\"\"\"\n",
    "\n",
    "pydb.start_query_execution_and_wait(create_Adoption_Disposals_Case);"
   ]
  },
  {
   "cell_type": "markdown",
   "id": "08516c3a",
   "metadata": {},
   "source": [
    "#### Adoption_Disposals_Case validation"
   ]
  },
  {
   "cell_type": "code",
   "execution_count": null,
   "id": "bbf392d1",
   "metadata": {},
   "outputs": [],
   "source": [
    "#Adoption_Disposals_Case_count = pydb.read_sql_query(\"select count(*) as count from fcsq.Adoption_Disposals_Case\")\n",
    "#Adoption_Disposals_Case_count"
   ]
  },
  {
   "cell_type": "markdown",
   "id": "6e442430",
   "metadata": {
    "tags": []
   },
   "source": [
    "## 7. adoption_disposals_merge table - joins both the adoption_disposals_orders and adoption_disposals_case tables\n",
    "<a name=\"adoption_disposals_merge\"></a>"
   ]
  },
  {
   "cell_type": "markdown",
   "id": "5055b377-c3b5-43f9-9aee-4fdfe301e99f",
   "metadata": {},
   "source": [
    "### Drop the adoption_disposals_merge table if it already exists and remove its data from the S3 bucket"
   ]
  },
  {
   "cell_type": "code",
   "execution_count": null,
   "id": "0f4dc12d-605f-4d0c-ac19-dfcd8499686d",
   "metadata": {
    "tags": []
   },
   "outputs": [],
   "source": [
    "drop_adoption_disposals_merge = f\"\"\"\n",
    "DROP TABLE IF EXISTS fcsq.adoption_disposals_merge;\n",
    "\"\"\"\n",
    "pydb.start_query_execution_and_wait(drop_adoption_disposals_merge)\n",
    "\n",
    "# clean up previous adoption_disposals_merge files\n",
    "bucket.objects.filter(Prefix=\"fcsq_processing/Adoption/adoption_disposals_merge/\").delete();"
   ]
  },
  {
   "cell_type": "markdown",
   "id": "fdd7040f",
   "metadata": {},
   "source": [
    "### Create the adoption_disposals_merge table in Athena"
   ]
  },
  {
   "cell_type": "code",
   "execution_count": null,
   "id": "1e63bce5",
   "metadata": {},
   "outputs": [],
   "source": [
    "create_adoption_disposals_merge = f\"\"\"\n",
    "CREATE TABLE IF NOT EXISTS fcsq.adoption_disposals_merge\n",
    "WITH (format = 'PARQUET', external_location = 's3://alpha-family-data/fcsq_processing/Adoption/adoption_disposals_merge') AS\n",
    "SELECT\n",
    "t1.year,\n",
    "t1.quarter,\n",
    "t1.court,\n",
    "COALESCE(t1.Disposals, 0) AS Disposals,\n",
    "COALESCE(t2.Case_End, 0) AS Case_End,\n",
    "'Adoption' as Category,\n",
    "'End' as Stage\n",
    "FROM fcsq.adoption_disposals_orders t1 \n",
    "FULL OUTER JOIN \n",
    "fcsq.adoption_disposals_case t2\n",
    "ON t1.year = t2.year AND t1.quarter = t2.quarter AND t1.court = t2.court\n",
    "WHERE NOT (t1.year = {latest_year} AND t1.quarter = {latest_quarter});\n",
    "\"\"\"\n",
    "\n",
    "pydb.start_query_execution_and_wait(create_adoption_disposals_merge);"
   ]
  },
  {
   "cell_type": "markdown",
   "id": "cd6aed63",
   "metadata": {},
   "source": [
    "#### adoption_disposals_merge validation"
   ]
  },
  {
   "cell_type": "code",
   "execution_count": null,
   "id": "354694b4",
   "metadata": {},
   "outputs": [],
   "source": [
    "#adoption_disposals_merge_count = pydb.read_sql_query(\"select * from fcsq.adoption_disposals_merge ORDER BY Year,Quarter,Court;\")\n",
    "#adoption_disposals_merge_count"
   ]
  },
  {
   "cell_type": "markdown",
   "id": "5eea6774",
   "metadata": {
    "tags": []
   },
   "source": [
    "## 8. adoption_disposals_format table - formats adoption_disposals_merge table by ordering the columns and renaming column names\n",
    "<a name=\"adoption_disposals_format\"></a>"
   ]
  },
  {
   "cell_type": "markdown",
   "id": "3eccd0b0",
   "metadata": {},
   "source": [
    "### Create the adoption_disposals_format temporary table"
   ]
  },
  {
   "cell_type": "code",
   "execution_count": null,
   "id": "cfffc664",
   "metadata": {},
   "outputs": [],
   "source": [
    "create_adoption_disposals_format  = f\"\"\"\n",
    "SELECT\n",
    "Category,\n",
    "Stage,\n",
    "Year,\n",
    "Quarter,\n",
    "Court,\n",
    "Disposals as Count,\n",
    "Case_end as Cases\n",
    "FROM\n",
    "fcsq.adoption_disposals_merge;\n",
    "\"\"\"\n",
    "\n",
    "pydb.create_temp_table(create_adoption_disposals_format,'adoption_disposals_format');"
   ]
  },
  {
   "cell_type": "markdown",
   "id": "a8dcc2fa",
   "metadata": {},
   "source": [
    "#### adoption_disposals_format  validation"
   ]
  },
  {
   "cell_type": "code",
   "execution_count": null,
   "id": "f21fb3f0",
   "metadata": {},
   "outputs": [],
   "source": [
    "#adoption_disposals_format_count = pydb.read_sql_query(\"select count(*) as count from __temp__.adoption_disposals_format \")\n",
    "#adoption_disposals_format_count"
   ]
  },
  {
   "cell_type": "markdown",
   "id": "9af97c2d-5086-445f-a818-c0a22567c034",
   "metadata": {},
   "source": [
    "# Stage 2 - Applications\n",
    "<a name=\"applications\"></a>"
   ]
  },
  {
   "cell_type": "markdown",
   "id": "dfb0e15b",
   "metadata": {
    "tags": []
   },
   "source": [
    "## 9. Adoption_Applications_Ordera table - filters by year>2010 and calculates the number of applications \n",
    "<a name=\"Adoption_Applications_Ordera\"></a>"
   ]
  },
  {
   "cell_type": "markdown",
   "id": "40a333c2-078d-46f0-8321-e78bf306087d",
   "metadata": {},
   "source": [
    "### Drop the Adoption_Applications_Ordera table if it already exists and remove its data from the S3 bucket"
   ]
  },
  {
   "cell_type": "code",
   "execution_count": null,
   "id": "e50e575c-7765-47c5-a2e4-802f80f35627",
   "metadata": {
    "tags": []
   },
   "outputs": [],
   "source": [
    "drop_Adoption_Applications_Ordera = f\"\"\"\n",
    "DROP TABLE IF EXISTS fcsq.Adoption_Applications_Ordera;\n",
    "\"\"\"\n",
    "pydb.start_query_execution_and_wait(drop_Adoption_Applications_Ordera)\n",
    "\n",
    "# clean up previous Adoption_Applications_Ordera files\n",
    "bucket.objects.filter(Prefix=\"fcsq_processing/Adoption/Adoption_Applications_Ordera/\").delete();"
   ]
  },
  {
   "cell_type": "markdown",
   "id": "e24fc5ce",
   "metadata": {},
   "source": [
    "### Create the Adoption_Applications_Ordera table in Athena"
   ]
  },
  {
   "cell_type": "code",
   "execution_count": null,
   "id": "d514b64d",
   "metadata": {},
   "outputs": [],
   "source": [
    "create_Adoption_Applications_Ordera = f\"\"\"\n",
    "CREATE TABLE IF NOT EXISTS fcsq.Adoption_Applications_Ordera\n",
    "WITH (format = 'PARQUET', external_location = 's3://alpha-family-data/fcsq_processing/Adoption/Adoption_Applications_Ordera') AS\n",
    "SELECT YEAR, QUARTER, Court, SUM(adoptions_total) as Apps\n",
    "FROM fcsq.adopt_apps_6_adoptions_only\n",
    "WHERE Year>2010\n",
    "GROUP BY Year,Quarter,Court\n",
    "ORDER BY Year,Quarter,Court;\n",
    "\"\"\"\n",
    "\n",
    "pydb.start_query_execution_and_wait(create_Adoption_Applications_Ordera);"
   ]
  },
  {
   "cell_type": "markdown",
   "id": "a9ec4666",
   "metadata": {},
   "source": [
    "#### Adoption_Applications_Ordera validation"
   ]
  },
  {
   "cell_type": "code",
   "execution_count": null,
   "id": "12f19dbc",
   "metadata": {},
   "outputs": [],
   "source": [
    "#Adoption_Applications_Ordera_count = pydb.read_sql_query(\"select count(*) as count from __temp__.Adoption_Applications_Ordera\")\n",
    "#Adoption_Applications_Ordera_count"
   ]
  },
  {
   "cell_type": "markdown",
   "id": "886005f2",
   "metadata": {
    "tags": []
   },
   "source": [
    "## 10. Application_case_count_C table - finds the first application from each case number and court\n",
    "<a name=\"Application_case_count_C\"></a>"
   ]
  },
  {
   "cell_type": "markdown",
   "id": "f8490e5d",
   "metadata": {},
   "source": [
    "### Create the Application_case_count_C temporary table"
   ]
  },
  {
   "cell_type": "code",
   "execution_count": null,
   "id": "757389b6",
   "metadata": {},
   "outputs": [],
   "source": [
    "create_Application_case_count_C = f\"\"\"\n",
    "SELECT \n",
    "t1.CASE_NUMBER, \n",
    "Min(t1.App_date) AS MinOfApp_date,\n",
    "t1.Court\n",
    "FROM fcsq.adopt_apps_6_adoptions_only as t1\n",
    "GROUP BY t1.CASE_NUMBER, t1.Court;\n",
    "\n",
    "\"\"\"\n",
    "\n",
    "pydb.create_temp_table(create_Application_case_count_C,'Application_case_count_C');"
   ]
  },
  {
   "cell_type": "markdown",
   "id": "e5f5f609",
   "metadata": {},
   "source": [
    "#### Application_case_count_C validation"
   ]
  },
  {
   "cell_type": "code",
   "execution_count": null,
   "id": "36723130",
   "metadata": {},
   "outputs": [],
   "source": [
    "#Application_case_count_C_count = pydb.read_sql_query(\"select count(*) as count from __temp__.Application_case_count_C\")\n",
    "#Application_case_count_C_count"
   ]
  },
  {
   "cell_type": "markdown",
   "id": "bdf53b39-4832-41e4-9787-6ae517e40062",
   "metadata": {},
   "source": [
    "## 11. Application_case_count_D table - formats the Application_case_count_D table by adding a quarter column\n",
    "<a name=\"Application_case_count_D\"></a>"
   ]
  },
  {
   "cell_type": "markdown",
   "id": "9a36ab3d",
   "metadata": {},
   "source": [
    "### Create the Application_case_count_D temporary table"
   ]
  },
  {
   "cell_type": "code",
   "execution_count": null,
   "id": "d452416a",
   "metadata": {},
   "outputs": [],
   "source": [
    "create_Application_case_count_D = f\"\"\"\n",
    "SELECT \n",
    "t1.CASE_NUMBER, \n",
    "Year (t1.MinOfApp_date) AS YEAR,\n",
    "CASE WHEN Month(t1.MinOfApp_date)<4\n",
    "    THEN 1\n",
    "        WHEN Month(t1.MinOfApp_date)<7\n",
    "        THEN 2\n",
    "            WHEN Month(t1.MinOfApp_date)<10\n",
    "            THEN 3\n",
    "\n",
    "ELSE 4\n",
    "END AS Quarter,\n",
    "t1.MinOfApp_date,\n",
    "t1.Court\n",
    "FROM __temp__.application_case_count_C  as t1;\n",
    "\n",
    "\"\"\"\n",
    "\n",
    "pydb.create_temp_table(create_Application_case_count_D,'Application_case_count_D');"
   ]
  },
  {
   "cell_type": "markdown",
   "id": "cde591a9",
   "metadata": {},
   "source": [
    "#### Application_case_count_D validation"
   ]
  },
  {
   "cell_type": "code",
   "execution_count": null,
   "id": "e07b6ee7",
   "metadata": {},
   "outputs": [],
   "source": [
    "#Application_case_count_D_count = pydb.read_sql_query(\"select count(*) as count from __temp__.Application_case_count_D\")\n",
    "#Application_case_count_D_count"
   ]
  },
  {
   "cell_type": "markdown",
   "id": "758ca4f6",
   "metadata": {
    "tags": []
   },
   "source": [
    "## 12. Adoption_Applications_Case table - filters by year>2010 and produces the count of the first application from each case number and court\n",
    "<a name=\"Adoption_Applications_Case\"></a>"
   ]
  },
  {
   "cell_type": "markdown",
   "id": "f6684dcd-b18b-408f-9917-82c29c2ce8ae",
   "metadata": {},
   "source": [
    "### Drop the Adoption_Applications_Case table if it already exists and remove its data from the S3 bucket"
   ]
  },
  {
   "cell_type": "code",
   "execution_count": null,
   "id": "2cc73ed3-5f9c-42bf-94b7-47fb0dad5574",
   "metadata": {
    "tags": []
   },
   "outputs": [],
   "source": [
    "drop_Adoption_Applications_Case = f\"\"\"\n",
    "DROP TABLE IF EXISTS fcsq.Adoption_Applications_Case;\n",
    "\"\"\"\n",
    "pydb.start_query_execution_and_wait(drop_Adoption_Applications_Case)\n",
    "\n",
    "# clean up previous Adoption_Applications_Case files\n",
    "bucket.objects.filter(Prefix=\"fcsq_processing/Adoption/Adoption_Applications_Case/\").delete();"
   ]
  },
  {
   "cell_type": "markdown",
   "id": "fe57fa0b",
   "metadata": {},
   "source": [
    "### Create the Adoption_Applications_Case table in Athena"
   ]
  },
  {
   "cell_type": "code",
   "execution_count": null,
   "id": "fd215fd0",
   "metadata": {},
   "outputs": [],
   "source": [
    "create_Adoption_Applications_Case = f\"\"\"\n",
    "CREATE TABLE IF NOT EXISTS fcsq.Adoption_Applications_Case\n",
    "WITH (format = 'PARQUET', external_location = 's3://alpha-family-data/fcsq_processing/Adoption/Adoption_Applications_Case') AS\n",
    "SELECT Year, Quarter, Court, count(case_number) as Case_Count\n",
    "FROM __temp__.Application_case_count_D\n",
    "WHERE year>2010\n",
    "GROUP BY Year,Quarter,Court\n",
    "ORDER BY Year,Quarter,Court;\n",
    "\"\"\"\n",
    "\n",
    "pydb.start_query_execution_and_wait(create_Adoption_Applications_Case);"
   ]
  },
  {
   "cell_type": "markdown",
   "id": "819a40e3",
   "metadata": {},
   "source": [
    "#### Adoption_Applications_Case validation"
   ]
  },
  {
   "cell_type": "code",
   "execution_count": null,
   "id": "b6031e83",
   "metadata": {},
   "outputs": [],
   "source": [
    "#Adoption_Applications_Case_count = pydb.read_sql_query(\"select count(*) as count from __temp__.Adoption_Applications_Case\")\n",
    "#Adoption_Applications_Case_count"
   ]
  },
  {
   "cell_type": "markdown",
   "id": "2ad3a19f",
   "metadata": {
    "tags": []
   },
   "source": [
    "## 13. adoption_Applications_merge table - joins both the Adoption_Applications_Ordera and Adoption_Applications_Case tables\n",
    "<a name=\"adoption_Applications_merge\"></a>"
   ]
  },
  {
   "cell_type": "markdown",
   "id": "29a5bfcf-8366-4172-873f-33af32667ede",
   "metadata": {},
   "source": [
    "### Drop the adoption_Applications_merge table if it already exists and remove its data from the S3 bucket"
   ]
  },
  {
   "cell_type": "code",
   "execution_count": null,
   "id": "009d753c-ca35-4381-a2b4-672471e5c85d",
   "metadata": {
    "tags": []
   },
   "outputs": [],
   "source": [
    "drop_adoption_Applications_merge = f\"\"\"\n",
    "DROP TABLE IF EXISTS fcsq.adoption_Applications_merge;\n",
    "\"\"\"\n",
    "pydb.start_query_execution_and_wait(drop_adoption_Applications_merge)\n",
    "\n",
    "# clean up previous adoption_Applications_merge files\n",
    "bucket.objects.filter(Prefix=\"fcsq_processing/Adoption/adoption_Applications_merge/\").delete();"
   ]
  },
  {
   "cell_type": "markdown",
   "id": "ef79dfbc",
   "metadata": {},
   "source": [
    "### Create the adoption_Applications_merge table in Athena"
   ]
  },
  {
   "cell_type": "code",
   "execution_count": null,
   "id": "7b5d6c3c",
   "metadata": {},
   "outputs": [],
   "source": [
    "create_adoption_Applications_merge = f\"\"\"\n",
    "CREATE TABLE IF NOT EXISTS fcsq.adoption_Applications_merge\n",
    "WITH (format = 'PARQUET', external_location = 's3://alpha-family-data/fcsq_processing/Adoption/adoption_Applications_merge') AS\n",
    "SELECT\n",
    "t1.year,\n",
    "t1.quarter,\n",
    "t1.court,\n",
    "COALESCE(t1.apps, 0) AS apps,\n",
    "COALESCE(t2.Case_Count, 0) AS Case_Count,\n",
    "'Adoption' as Category,\n",
    "'Start' as Stage\n",
    "FROM fcsq.Adoption_Applications_Ordera t1 \n",
    "FULL OUTER JOIN \n",
    "fcsq.Adoption_Applications_Case t2\n",
    "ON t1.year = t2.year AND t1.quarter = t2.quarter AND t1.court = t2.court\n",
    "WHERE NOT (t1.year = {latest_year} AND t1.quarter = {latest_quarter});\n",
    "\"\"\"\n",
    "\n",
    "pydb.start_query_execution_and_wait(create_adoption_Applications_merge);"
   ]
  },
  {
   "cell_type": "markdown",
   "id": "be843817",
   "metadata": {},
   "source": [
    "#### adoption_Applications_merge validation"
   ]
  },
  {
   "cell_type": "code",
   "execution_count": null,
   "id": "d0cb5a63",
   "metadata": {},
   "outputs": [],
   "source": [
    "#adoption_Applications_merge_count = pydb.read_sql_query(\"select * from __temp__.adoption_Applications_merge ORDER BY Year,Quarter,Court;\")\n",
    "#adoption_Applications_merge_count"
   ]
  },
  {
   "cell_type": "markdown",
   "id": "7f40c922",
   "metadata": {
    "tags": []
   },
   "source": [
    "## 14. adoption_Applications_format table - formats adoption_Applications_merge table by ordering the columns and renaming column names\n",
    "<a name=\"adoption_Applications_format\"></a>"
   ]
  },
  {
   "cell_type": "markdown",
   "id": "0d333811",
   "metadata": {},
   "source": [
    "### Create the adoption_Applications_format temporary table"
   ]
  },
  {
   "cell_type": "code",
   "execution_count": null,
   "id": "5c336fec",
   "metadata": {},
   "outputs": [],
   "source": [
    "create_adoption_Applications_format  = f\"\"\"\n",
    "SELECT\n",
    "Category,\n",
    "Stage,\n",
    "Year,\n",
    "Quarter,\n",
    "Court,\n",
    "apps as Count,\n",
    "Case_Count as Cases\n",
    "FROM\n",
    "fcsq.adoption_Applications_merge;\n",
    "\"\"\"\n",
    "\n",
    "pydb.create_temp_table(create_adoption_Applications_format,'adoption_Applications_format');"
   ]
  },
  {
   "cell_type": "markdown",
   "id": "3d0ff009",
   "metadata": {},
   "source": [
    "#### adoption_Applications_format  validation"
   ]
  },
  {
   "cell_type": "code",
   "execution_count": null,
   "id": "fc8d4d9f",
   "metadata": {},
   "outputs": [],
   "source": [
    "#adoption_Applications_format_count = pydb.read_sql_query(\"select * from __temp__.adoption_Applications_format ORDER BY Year,Quarter,Court\")\n",
    "#adoption_Applications_format_count"
   ]
  },
  {
   "cell_type": "markdown",
   "id": "61fcce69-12c9-4689-81d6-49283aacaaf3",
   "metadata": {},
   "source": [
    "# Stage 3 - Preparing the final output\n",
    "<a name=\"prepare_final_output\"></a>"
   ]
  },
  {
   "cell_type": "markdown",
   "id": "2ca41353",
   "metadata": {
    "tags": []
   },
   "source": [
    "## 15. adopt_court_level_append table - combines both adoption_Applications_format and adoption_Disposals_format tables\n",
    "<a name=\"adopt_court_level_append\"></a>"
   ]
  },
  {
   "cell_type": "markdown",
   "id": "be06f10d-ba7a-4d0b-a39a-eea4eb34432f",
   "metadata": {},
   "source": [
    "### Drop the adopt_court_level_append table if it already exists and remove its data from the S3 bucket"
   ]
  },
  {
   "cell_type": "code",
   "execution_count": null,
   "id": "934b6e50-6a19-48a3-97dc-4dee137b0041",
   "metadata": {
    "tags": []
   },
   "outputs": [],
   "source": [
    "drop_adopt_court_level_append = f\"\"\"\n",
    "DROP TABLE IF EXISTS fcsq.adopt_court_level_append;\n",
    "\"\"\"\n",
    "pydb.start_query_execution_and_wait(drop_adopt_court_level_append)\n",
    "\n",
    "# clean up previous adopt_court_level_append files\n",
    "bucket.objects.filter(Prefix=\"fcsq_processing/Adoption/adopt_court_level_append/\").delete();"
   ]
  },
  {
   "cell_type": "markdown",
   "id": "29c116c8",
   "metadata": {},
   "source": [
    "### Create the adopt_court_level_append table in Athena"
   ]
  },
  {
   "cell_type": "code",
   "execution_count": null,
   "id": "352dc722",
   "metadata": {},
   "outputs": [],
   "source": [
    "create_adopt_court_level_append = f\"\"\"\n",
    "CREATE TABLE IF NOT EXISTS fcsq.adopt_court_level_append \n",
    "WITH (format = 'PARQUET', external_location = 's3://alpha-family-data/fcsq_processing/Adoption/adopt_court_level_append') AS\n",
    "SELECT * FROM __temp__.adoption_Applications_format \n",
    "UNION \n",
    "SELECT * FROM __temp__.adoption_Disposals_format \n",
    "ORDER BY Year,Quarter,Court\n",
    "\"\"\"\n",
    "\n",
    "pydb.start_query_execution_and_wait(create_adopt_court_level_append);"
   ]
  },
  {
   "cell_type": "markdown",
   "id": "6786c2cd",
   "metadata": {},
   "source": [
    "#### adopt_court_level_append validation"
   ]
  },
  {
   "cell_type": "code",
   "execution_count": null,
   "id": "c6c54299",
   "metadata": {},
   "outputs": [],
   "source": [
    "#adopt_court_level_append_count = pydb.read_sql_query(\"select * from fcsq.adopt_court_level_append\")\n",
    "#adopt_court_level_append_count"
   ]
  },
  {
   "cell_type": "markdown",
   "id": "bf7642ed",
   "metadata": {
    "tags": []
   },
   "source": [
    "## 16. court_lookup table - creates a table with court information (e.g court codes and region)\n",
    "<a name=\"court_lookup\"></a>"
   ]
  },
  {
   "cell_type": "markdown",
   "id": "45f698ca",
   "metadata": {},
   "source": [
    "### Create the court_lookup temporary table"
   ]
  },
  {
   "cell_type": "code",
   "execution_count": null,
   "id": "87483770",
   "metadata": {},
   "outputs": [],
   "source": [
    "create_court_lookup = f\"\"\"\n",
    "SELECT \n",
    "code,\n",
    "Region,\n",
    "Region_Pre2014,\n",
    "DFJ_New\n",
    "FROM fcsq.court_mv_feb21_dfj;\n",
    "\"\"\"\n",
    "\n",
    "pydb.create_temp_table(create_court_lookup,'court_lookup');"
   ]
  },
  {
   "cell_type": "markdown",
   "id": "399d5c1b",
   "metadata": {},
   "source": [
    "#### court_lookup validation"
   ]
  },
  {
   "cell_type": "code",
   "execution_count": null,
   "id": "4edf295f",
   "metadata": {},
   "outputs": [],
   "source": [
    "#court_lookup_count = pydb.read_sql_query(\"select * from __temp__.court_lookup\")\n",
    "#court_lookup_count"
   ]
  },
  {
   "cell_type": "markdown",
   "id": "53957372",
   "metadata": {
    "tags": []
   },
   "source": [
    "## 17. court_level_merge table - joins both the adopt_court_level_append and court_lookup tables\n",
    "<a name=\"court_level_merge\"></a>"
   ]
  },
  {
   "cell_type": "markdown",
   "id": "2b8eca31-2492-4d51-8e87-1e2ba3fa3558",
   "metadata": {},
   "source": [
    "### Drop the court_level_merge table if it already exists and remove its data from the S3 bucket"
   ]
  },
  {
   "cell_type": "code",
   "execution_count": null,
   "id": "8eba7757-4742-4fd1-8408-8905c6d40a26",
   "metadata": {
    "tags": []
   },
   "outputs": [],
   "source": [
    "drop_court_level_merge = f\"\"\"\n",
    "DROP TABLE IF EXISTS fcsq.court_level_merge;\n",
    "\"\"\"\n",
    "pydb.start_query_execution_and_wait(drop_court_level_merge)\n",
    "\n",
    "# clean up previous court_level_merge files\n",
    "bucket.objects.filter(Prefix=\"fcsq_processing/Adoption/court_level_merge/\").delete();"
   ]
  },
  {
   "cell_type": "markdown",
   "id": "cf7d003c",
   "metadata": {},
   "source": [
    "### Create the court_level_merge table in Athena"
   ]
  },
  {
   "cell_type": "code",
   "execution_count": null,
   "id": "3920845d",
   "metadata": {},
   "outputs": [],
   "source": [
    "create_court_level_merge = f\"\"\"\n",
    "CREATE TABLE IF NOT EXISTS fcsq.court_level_merge\n",
    "WITH (format = 'PARQUET', external_location = 's3://alpha-family-data/fcsq_processing/Adoption/court_level_merge') AS\n",
    "SELECT\n",
    "t1.Category,\n",
    "t1.Stage,\n",
    "t1.Year,\n",
    "t1.Quarter,\n",
    "t1.Count,\n",
    "t1.Cases,\n",
    "t2.DFJ_New,\n",
    "Case when Year < 2014 then t2.Region_Pre2014\n",
    "Else t2.Region\n",
    "End As Final_Region\n",
    "FROM \n",
    "fcsq.adopt_court_level_append t1\n",
    "INNER JOIN\n",
    "__temp__.court_lookup t2\n",
    "ON CAST(t1.court as integer) = t2.code\n",
    "where CAST(t1.court as integer) in (SELECT code from __temp__.court_lookup);\n",
    "\"\"\"\n",
    "\n",
    "pydb.start_query_execution_and_wait(create_court_level_merge);"
   ]
  },
  {
   "cell_type": "markdown",
   "id": "87a2d3b4",
   "metadata": {},
   "source": [
    "#### court_level_merge validation"
   ]
  },
  {
   "cell_type": "code",
   "execution_count": null,
   "id": "8ed3baad",
   "metadata": {},
   "outputs": [],
   "source": [
    "#court_level_merge_count = pydb.read_sql_query(\"select * from __temp__.court_level_merge where year=2020 and quarter=3 and dfj_new='Carlisle DFJ' order by year,quarter,dfj_new\")\n",
    "#court_level_merge_count"
   ]
  },
  {
   "cell_type": "markdown",
   "id": "4988fdbd",
   "metadata": {
    "tags": []
   },
   "source": [
    "## 18. adopt_dfj table - this query calculates the total number of counts and cases in each quarter and region to produce the final DFJ csv output\n",
    "<a name=\"adopt_dfj\"></a>"
   ]
  },
  {
   "cell_type": "markdown",
   "id": "9bcc67cd",
   "metadata": {},
   "source": [
    "### Create the adopt_dfj athena table "
   ]
  },
  {
   "cell_type": "markdown",
   "id": "e082643f-463c-43e0-ad7e-84cfbea683d9",
   "metadata": {},
   "source": [
    "### Drop the adopt_dfj table if it already exists and remove its data from the S3 bucket"
   ]
  },
  {
   "cell_type": "code",
   "execution_count": null,
   "id": "df32d117-82f6-4661-9ed2-9965d0fafd19",
   "metadata": {},
   "outputs": [],
   "source": [
    "drop_adopt_dfj = f\"\"\"\n",
    "DROP TABLE IF EXISTS fcsq.adopt_dfj;\n",
    "\"\"\"\n",
    "pydb.start_query_execution_and_wait(drop_adopt_dfj)\n",
    "\n",
    "# clean up previous adopt_dfj files\n",
    "bucket.objects.filter(Prefix=\"fcsq_processing/Adoption/adopt_dfj/\").delete();"
   ]
  },
  {
   "cell_type": "markdown",
   "id": "55b116cd-2c70-45d9-8825-b207adebc075",
   "metadata": {},
   "source": [
    "### Create the adopt_dfj table in Athena"
   ]
  },
  {
   "cell_type": "code",
   "execution_count": null,
   "id": "d8cfc670-8c27-43b6-b407-ce007d26e3c0",
   "metadata": {},
   "outputs": [],
   "source": [
    "create_adopt_dfj = f\"\"\"\n",
    "CREATE TABLE IF NOT EXISTS fcsq.adopt_dfj\n",
    "WITH (format = 'PARQUET', external_location = 's3://alpha-family-data/fcsq_processing/Adoption/adopt_dfj/') AS\n",
    "SELECT\n",
    "Category,\n",
    "Stage,\n",
    "Year,\n",
    "Quarter,\n",
    "DFJ_New,\n",
    "Final_Region as region,\n",
    "SUM(count) as count,\n",
    "SUM(cases) as cases\n",
    "FROM fcsq.court_level_merge\n",
    "group by\n",
    "Category,\n",
    "Stage,\n",
    "Year,\n",
    "Quarter,\n",
    "DFJ_New,\n",
    "Final_Region\n",
    "order by\n",
    "Category,\n",
    "Stage,\n",
    "Year,\n",
    "Quarter,\n",
    "DFJ_New,\n",
    "Final_Region;\n",
    "\"\"\"\n",
    "pydb.start_query_execution_and_wait(create_adopt_dfj);"
   ]
  },
  {
   "cell_type": "code",
   "execution_count": null,
   "id": "2a483fe1-5e95-4bae-a8b0-43544212dc30",
   "metadata": {},
   "outputs": [],
   "source": [
    "df = pydb.read_sql_query(\"select * from fcsq.adopt_dfj;\")\n",
    "df.to_csv(path_or_buf = 's3://alpha-family-data/CSVs/DFJ/adopt_dfj.csv',index=False)"
   ]
  },
  {
   "cell_type": "markdown",
   "id": "e07e831a-d1f1-4adb-b496-0efcdc8fc9ff",
   "metadata": {},
   "source": [
    "#### adopt_dfj validation"
   ]
  },
  {
   "cell_type": "code",
   "execution_count": null,
   "id": "c930066b",
   "metadata": {},
   "outputs": [],
   "source": [
    "#adopt_dfj_count = pydb.read_sql_query(\"select * from fcsq.adopt_dfj ORDER BY Category,Year,Quarter,region,DFJ_New,Stage\")\n",
    "#adopt_dfj_count"
   ]
  }
 ],
 "metadata": {
  "kernelspec": {
   "display_name": "FCSQ (Python3)",
   "language": "python",
   "name": "fcsq"
  },
  "language_info": {
   "codemirror_mode": {
    "name": "ipython",
    "version": 3
   },
   "file_extension": ".py",
   "mimetype": "text/x-python",
   "name": "python",
   "nbconvert_exporter": "python",
   "pygments_lexer": "ipython3",
   "version": "3.9.4"
  }
 },
 "nbformat": 4,
 "nbformat_minor": 5
}
