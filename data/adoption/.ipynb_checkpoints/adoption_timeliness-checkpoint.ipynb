{
 "cells": [
  {
   "cell_type": "markdown",
   "metadata": {},
   "source": [
    "# Adopt Timeliness"
   ]
  },
  {
   "cell_type": "markdown",
   "metadata": {
    "jp-MarkdownHeadingCollapsed": true,
    "tags": []
   },
   "source": [
    "## Contents\n",
    "#### Setup\n",
    "1. [Import packages and options](#import_packages)\n",
    "2. [Define key variables](#define_key_variables)\n",
    "\n",
    "#### Familyman data extractions\n",
    "3. [Adopt_applications_data_sorted](#Adopt_applications_data_sorted) - Orders adopt_application_5 by case_number and application date\n",
    "4. [Adopt_applications_temp](#Adopt_applications_temp) - takes the adopt_applications_data sorted table and filters it so it only has the first application record per case number\n",
    "5. [adopt_orders_data_sorted](#adopt_orders_data_sorted) - Sorts the disposals table by case_number and receipt date, removing contact orders, placement revoke or vary orders and other type orders\n",
    "6. [adopt_orders_temp](#adopt_orders_temp) - takes the adopt_orders_data_sorted table and filters it so it only has the first disposal record per case number\n",
    "7. [adopt_apps_and_orders_match](#adopt_apps_and_orders_match) - calculates the wait_weeks from the disposal date and the application date\n",
    "8. [Adopt_case_data_temp](#Adopt_case_data_temp) - filters by year>2010 and by first application date\n",
    "9. [Applicant_Info](#Applicant_Info) - joins the roles, parties and address tables for applicants to get information on the applicants\n",
    "10. [adopt_respondent_info](#adopt_respondent_info) - joins the roles, parties and address tables for respondents to get information on the respondents\n",
    "11. [applicants_3](#applicants_3) takes the adopt_applicant_info table and reformats it, decoding gender and representative role values into strings\n",
    "\n",
    "#### Stage 1 - Legal representation\n",
    "12. [Adopt_respondents_temp](#Adopt_respondents_temp) - takes the adopt_respondent_info table and reformats it, decoding gender and representative role values into strings\n",
    "13. [Adopt_app_rep](#Adopt_app_rep) - joins the case data with the applicant representation data\n",
    "14. [Adopt_resp_rep](#Adopt_resp_rep) - joins the case data with the respondent representation data\n",
    "15. [Adopt_Hearing_Events](#Adopt_Hearing_Events) - takes the adoption hearing events from the hearings table and joins it with the events table data \n",
    "16. [Adopt_Hearings_Cases](#Adopt_Hearings_Cases) - takes the hearing events, filters by adoption event codes and adds a flag whether the hearing is the first in the case\n",
    "17. [Hearing_Adopt_Applicants](#Hearing_Adopt_Applicants) - joins the cases from applicant representation table to the first hearing for the case in the adopt hearings cases table\n",
    "18. [Hearing_Adopt_Respondents](#Hearing_Adopt_Respondents) - joins the cases from respondents representation table to the first hearing for the case in the adopt hearings cases table \n",
    "19. [Adopt_App](#Adopt_App) - Groups the hearing_adopt_applicants table and produces a count per group\n",
    "20. [Adopt_Resp](#Adopt_Resp) - Groups the hearing_adopt_respondents table and produces a count per group\n",
    "21. [adopt_case](#adopt_case) - groups and formats adopt_case_data_v3 table and gives a count for each group\n",
    "22. [Adopt_Case_Hearings](#Adopt_Case_Hearings) - creates a count of all the cases with a hearing per quarter\n",
    "23. [Adoption](#Adoption) - Joins the applicant/respondent representation count tables, case count table, and case hearing count tables \n",
    "\n",
    "#### Stage 2 - Timeliness\n",
    "24. [Applicant_representation](#Applicant_representation) - creates a table showing whether all, some, or none of the applicants for a case have representation\n",
    "25. [Respondent_representation](#Respondent_representation) - creates a table showing whether all, some, or none of the respondents for a case have representation\n",
    "26. [Adopt_Disposals_Final](#Adopt_Disposals_Final) - joins the adopt_apps_and_orders_match table and the representation tables, joining timeliness and legal representation data for a case together\n",
    "27. [Adopt_Quarterly](#Adopt_Quarterly) - groups the disposals_final table by quarter, providing a total and mean wait_weeks per quarter\n",
    "28. [Adopt_Annual](#Adopt_Annual) - groups the disposals_final table annually, providing a total and mean wait_weeks annually \n",
    "29. [Adopt_time_regional](#Adopt_time_regional) - groups the disposals_final table regionally, providing a total, mean, and median wait_weeks\n",
    "30. [Adopt_time_national](#Adopt_time_national) - groups the disposals_final table nationally, providing a total, mean, and median wait_weeks\n",
    "31. [Adopt_timeliness](#Adopt_timeliness) - combines regional and national, providing a total, mean, and median wait_weeks\n",
    "32. [Adopt_timeliness_combined](#Adopt_timeliness_combined) - combines and orders the annual and quarterly timeliness data\n"
   ]
  },
  {
   "cell_type": "markdown",
   "metadata": {
    "tags": []
   },
   "source": [
    "## 1. Import packages and set options \n",
    "<a name=\"import_packages\"></a>"
   ]
  },
  {
   "cell_type": "code",
   "execution_count": 1,
   "metadata": {},
   "outputs": [],
   "source": [
    "import pandas as pd  # a module which provides the data structures and functions to store and manipulate tables in dataframes\n",
    "import pydbtools as pydb  # A module which allows SQL queries to be run on the Analytical Platform from Python, see https://github.com/moj-analytical-services/pydbtools\n",
    "import boto3  # allows you to directly create, update, and delete AWS resources from Python scripts\n",
    "\n",
    "# sets parameters to view dataframes for tables easier\n",
    "pd.set_option(\"display.max_columns\", 100)\n",
    "pd.set_option(\"display.width\", 900)\n",
    "pd.set_option(\"display.max_colwidth\", 200)\n"
   ]
  },
  {
   "cell_type": "markdown",
   "metadata": {},
   "source": [
    "## 2. Define key variables to be used throughout the notebook \n",
    "<a name=\"define_key_variables\"></a>"
   ]
  },
  {
   "cell_type": "code",
   "execution_count": 2,
   "metadata": {},
   "outputs": [],
   "source": [
    "#this is the database we will be extracting from\n",
    "database = \"familyman_dev_v3\" \n",
    "\n",
    "#this extracts the latest snapshot from athena\n",
    "get_snapshot_date = f\"SELECT mojap_snapshot_date from {database}.events order by mojap_snapshot_date desc limit 1\"\n",
    "snapshot_date = str(pydb.read_sql_query(get_snapshot_date)['mojap_snapshot_date'].values[0])\n",
    "\n",
    "#this extracts the August snapshot from athena\n",
    "#snapshot_date = '2022-08-04'\n",
    "\n",
    "#this is the athena database we will be storing our tables in\n",
    "fcsq_database = \"fcsq\"\n",
    "\n",
    "#this is the s3 bucket we will be saving data to\n",
    "s3 = boto3.resource(\"s3\")\n",
    "bucket = s3.Bucket(\"alpha-family-data\")\n",
    "\n",
    "#change these to the current quarter and year not the quarter being published\n",
    "latest_quarter = 4\n",
    "latest_year = 2022"
   ]
  },
  {
   "cell_type": "code",
   "execution_count": 3,
   "metadata": {},
   "outputs": [
    {
     "data": {
      "text/plain": [
       "\"\\nCREATE EXTERNAL TABLE IF NOT EXISTS `fcsq`.`COURT_MV_FEB21_DFJ` (\\n  `CODE` int,\\n  `COURT` string,\\n  `NAME` string,\\n  `Court_Type` string,\\n  `DFJ_Area` string,\\n  `Region` string,\\n  `Court_pre_2014` string,\\n  `Region_Pre2014` string,\\n  `DFJ_New` string\\n)\\nROW FORMAT SERDE 'org.apache.hadoop.hive.serde2.lazy.LazySimpleSerDe' \\nWITH SERDEPROPERTIES (\\n  'serialization.format' = ',',\\n  'field.delim' = ','\\n) LOCATION 's3://alpha-family-data/fcsq_processing/lookups/COURT_MV_FEB21_DFJ/'\\nTBLPROPERTIES ('has_encrypted_data'='false');\\n\""
      ]
     },
     "execution_count": 3,
     "metadata": {},
     "output_type": "execute_result"
    }
   ],
   "source": [
    "\"\"\"\n",
    "CREATE EXTERNAL TABLE IF NOT EXISTS `fcsq`.`COURT_MV_FEB21_DFJ` (\n",
    "  `CODE` int,\n",
    "  `COURT` string,\n",
    "  `NAME` string,\n",
    "  `Court_Type` string,\n",
    "  `DFJ_Area` string,\n",
    "  `Region` string,\n",
    "  `Court_pre_2014` string,\n",
    "  `Region_Pre2014` string,\n",
    "  `DFJ_New` string\n",
    ")\n",
    "ROW FORMAT SERDE 'org.apache.hadoop.hive.serde2.lazy.LazySimpleSerDe' \n",
    "WITH SERDEPROPERTIES (\n",
    "  'serialization.format' = ',',\n",
    "  'field.delim' = ','\n",
    ") LOCATION 's3://alpha-family-data/fcsq_processing/lookups/COURT_MV_FEB21_DFJ/'\n",
    "TBLPROPERTIES ('has_encrypted_data'='false');\n",
    "\"\"\""
   ]
  },
  {
   "cell_type": "markdown",
   "metadata": {},
   "source": [
    "## 3. Adopt_applications_data_sorted table - Orders adopt_application_5 by case_number and application date\n",
    "<a name=\"Adopt_applications_data_sorted\"></a>"
   ]
  },
  {
   "cell_type": "markdown",
   "metadata": {},
   "source": [
    "### Drop the adopt_applications_data_sorted table if it already exists and remove its data from the S3 bucket"
   ]
  },
  {
   "cell_type": "code",
   "execution_count": 4,
   "metadata": {},
   "outputs": [],
   "source": [
    "drop_adopt_applications_data_sorted = f\"\"\"\n",
    "DROP TABLE IF EXISTS fcsq.adopt_applications_data_sorted;\n",
    "\"\"\"\n",
    "pydb.start_query_execution_and_wait(drop_adopt_applications_data_sorted)\n",
    "\n",
    "# clean up previous adopt_applications_data_sorted files\n",
    "bucket.objects.filter(Prefix=\"fcsq_processing/Adoption/adopt_applications_data_sorted/\").delete();"
   ]
  },
  {
   "cell_type": "markdown",
   "metadata": {},
   "source": [
    "### Create the adopt_applications_data_sorted table in Athena"
   ]
  },
  {
   "cell_type": "code",
   "execution_count": 5,
   "metadata": {},
   "outputs": [],
   "source": [
    "create_adopt_applications_data_sorted = f\"\"\"\n",
    "CREATE TABLE IF NOT EXISTS fcsq.adopt_applications_data_sorted\n",
    "WITH (format = 'PARQUET', external_location = 's3://alpha-family-data/fcsq_processing/Adoption/adopt_applications_data_sorted') AS\n",
    "SELECT * FROM\n",
    "fcsq.adopt_application_5\n",
    "ORDER BY \n",
    "CASE_NUMBER, APP_DATE\n",
    "\"\"\"\n",
    "\n",
    "pydb.start_query_execution_and_wait(create_adopt_applications_data_sorted);\n",
    "\n"
   ]
  },
  {
   "cell_type": "markdown",
   "metadata": {},
   "source": [
    "#### adopt_applications_data_sorted validation"
   ]
  },
  {
   "cell_type": "code",
   "execution_count": 6,
   "metadata": {},
   "outputs": [],
   "source": [
    "#adopt_applications_data_sorted_count = pydb.read_sql_query(\"select count(*) as count from fcsq.adopt_applications_data_sorted\")\n",
    "#adopt_applications_data_sorted_count\n"
   ]
  },
  {
   "cell_type": "markdown",
   "metadata": {},
   "source": [
    "## 4. Create adopt_applications temporary tables - takes the adopt_applications_data sorted table and filters it so it only has the first application record per case number\n",
    "<a name=\"Adopt_applications_temp\"></a>"
   ]
  },
  {
   "cell_type": "code",
   "execution_count": 7,
   "metadata": {},
   "outputs": [],
   "source": [
    "create_adopt_applications_1 = f\"\"\"\n",
    "SELECT *, row_number() over (order by CASE_NUMBER, APP_DATE) as SEQ_NUM\n",
    "FROM fcsq.adopt_applications_data_sorted\n",
    "\"\"\"\n",
    "pydb.create_temp_table(create_adopt_applications_1,'adopt_applications_1')\n",
    "\n",
    "create_adopt_applications_2 = f\"\"\"\n",
    "SELECT DISTINCT case_number, app_type, min(seq_num) as min_of_seq_num\n",
    "FROM __temp__.adopt_applications_1 GROUP BY case_number, app_type\n",
    "\"\"\"\n",
    "pydb.create_temp_table(create_adopt_applications_2,'adopt_applications_2')\n",
    "\n",
    "create_adopt_applications_3 = f\"\"\"\n",
    "SELECT\n",
    "    t1.case_number,\n",
    "    t2.App_date,\n",
    "    t2.year,\n",
    "    t2.quarter,\n",
    "    t2.court,\n",
    "    t2.app_type,\n",
    "    t2.Case_app_type, \n",
    "    t2.Adoption, \n",
    "    t2.Contested, \n",
    "    t2.Standard, \n",
    "    t2.Convention, \n",
    "    t2.Foreign, \n",
    "    t2.Placement, \n",
    "    t2.Placement_revoke_or_vary, \n",
    "    t2.Contact_s26, \n",
    "    t2.Contact_s26_revoke_or_vary, \n",
    "    t2.Change_surname, \n",
    "    t2.Remove_child_from_UK, \n",
    "    t2.Other_order_type, \n",
    "    t2.Adoption_Cases, \n",
    "    t2.Non_Adoption_Cases\n",
    "FROM __temp__.ADOPT_APPLICATIONS_2 t1 LEFT JOIN\n",
    "__temp__.ADOPT_APPLICATIONS_1 t2 ON (t1.MIN_of_seq_num = t2.Seq_Num)\n",
    "\"\"\"\n",
    "pydb.create_temp_table(create_adopt_applications_3,'adopt_applications_3')"
   ]
  },
  {
   "cell_type": "markdown",
   "metadata": {},
   "source": [
    "## 5. adopt_orders_data_sorted table - Sorts the disposals table by case_number and receipt date, removing contact orders, placement revoke or vary orders and other type orders\n",
    "<a name=\"adopt_orders_data_sorted\"></a>"
   ]
  },
  {
   "cell_type": "markdown",
   "metadata": {},
   "source": [
    "### Drop the adopt_orders_data_sorted table if it already exists and remove its data from the S3 bucket"
   ]
  },
  {
   "cell_type": "code",
   "execution_count": 8,
   "metadata": {},
   "outputs": [],
   "source": [
    "drop_adopt_orders_data_sorted = f\"\"\"\n",
    "DROP TABLE IF EXISTS fcsq.adopt_orders_data_sorted;\n",
    "\"\"\"\n",
    "pydb.start_query_execution_and_wait(drop_adopt_orders_data_sorted)\n",
    "\n",
    "# clean up previous adopt_orders_data_sorted files\n",
    "bucket.objects.filter(Prefix=\"fcsq_processing/Adoption/adopt_orders_data_sorted/\").delete();"
   ]
  },
  {
   "cell_type": "markdown",
   "metadata": {},
   "source": [
    "### Create the adopt_orders_data_sorted table in Athena"
   ]
  },
  {
   "cell_type": "code",
   "execution_count": 9,
   "metadata": {},
   "outputs": [],
   "source": [
    "create_adopt_orders_data_sorted = f\"\"\"\n",
    "CREATE TABLE IF NOT EXISTS fcsq.adopt_orders_data_sorted\n",
    "WITH (format = 'PARQUET', external_location = 's3://alpha-family-data/fcsq_processing/Adoption/adopt_orders_data_sorted') AS\n",
    "SELECT * \n",
    "FROM fcsq.adopt_disposals5 t1\n",
    "    WHERE t1.Type in ('Standard','Convention','?Foreign?')\n",
    "    ORDER BY t1.CASE_NUMBER, t1.Receipt_date;\n",
    "\"\"\"\n",
    "pydb.start_query_execution_and_wait(create_adopt_orders_data_sorted);"
   ]
  },
  {
   "cell_type": "code",
   "execution_count": 10,
   "metadata": {},
   "outputs": [
    {
     "data": {
      "text/plain": [
       "\"\\n\\n#t1.Type != 'Contact_s26' AND t1.Type != 'Contact_s26_revoke_or_vary' AND t1.Type != \\n 'Placement_revoke_or_vary' AND t1.Type != 'Other_order_type'\\n \\n\""
      ]
     },
     "execution_count": 10,
     "metadata": {},
     "output_type": "execute_result"
    }
   ],
   "source": [
    "\"\"\"\n",
    "\n",
    "#t1.Type != 'Contact_s26' AND t1.Type != 'Contact_s26_revoke_or_vary' AND t1.Type != \n",
    " 'Placement_revoke_or_vary' AND t1.Type != 'Other_order_type'\n",
    " \n",
    "\"\"\""
   ]
  },
  {
   "cell_type": "markdown",
   "metadata": {},
   "source": [
    "#### adopt_orders_data_sorted validation"
   ]
  },
  {
   "cell_type": "code",
   "execution_count": 11,
   "metadata": {},
   "outputs": [],
   "source": [
    "#adopt_orders_data_sorted_count = pydb.read_sql_query(\"select count(*) as count from fcsq.adopt_orders_data_sorted\")\n",
    "#adopt_orders_data_sorted_count"
   ]
  },
  {
   "cell_type": "markdown",
   "metadata": {},
   "source": [
    "## 6. Create adopt_orders temporary tables - takes the adopt_orders_data_sorted table and filters it so it only has the first disposal record per case number\n",
    "<a name=\"adopt_orders_temp\"></a>"
   ]
  },
  {
   "cell_type": "code",
   "execution_count": 12,
   "metadata": {},
   "outputs": [],
   "source": [
    "create_adopt_orders_0 = f\"\"\"\n",
    "SELECT t1.CASE_NUMBER, \n",
    "          t1.Court, \n",
    "          t1.Year, \n",
    "          t1.Quarter, \n",
    "          t2.App_type, \n",
    "          t2.App_date, \n",
    "          t1.Receipt_date AS Disp_Date, \n",
    "          t1.EVENT_MODEL, \n",
    "          t1.FIELD_MODEL, \n",
    "          t1.Order_type, \n",
    "          t1.Country_of_birth, \n",
    "          t1.Number_applicants, \n",
    "          t1.Adopter_type, \n",
    "          t1.Adopter, \n",
    "          t1.Child_sex, /*Changed this from child_sex2 as the process has changed, check to see if an error comes up*/ \n",
    "          t1.Age_band, \n",
    "          t1.Child_age, \n",
    "          t1.Adoption, \n",
    "          t1.Type, \n",
    "          t1.Adopter_2, \n",
    "          DAY(t1.Receipt_date -t2.App_date) as DATE_DIFF\n",
    "      FROM fcsq.ADOPT_ORDERS_DATA_SORTED t1\n",
    "           INNER JOIN __temp__.ADOPT_APPLICATIONS_3 t2 ON (t1.CASE_NUMBER = t2.CASE_NUMBER)\n",
    "                 WHERE (DAY(t1.Receipt_date -t2.App_date)) >= 0;\n",
    "\"\"\"\n",
    "pydb.create_temp_table(create_adopt_orders_0,'adopt_orders_0')\n",
    "\n",
    "\n",
    "create_adopt_orders_1 = f\"\"\"\n",
    "   SELECT t1.CASE_NUMBER, \n",
    "          t1.Court, \n",
    "          t1.Year, \n",
    "          t1.Quarter, \n",
    "          t1.App_type, \n",
    "          t1.EVENT_MODEL AS Disp_Type, \n",
    "          t1.App_date, \n",
    "          t1.Disp_Date, \n",
    "          t1.FIELD_MODEL, \n",
    "          t1.Order_type, \n",
    "          t1.Number_applicants, \n",
    "          t1.Child_sex, /*Changed this from child_sex2 as the process has changed, check to see if an error comes up*/ \n",
    "          t1.Adoption, \n",
    "          t1.Type, \n",
    "          row_number() over (order by CASE_NUMBER,App_type,App_date,disp_date) as Seq_no\n",
    "      FROM __temp__.ADOPT_ORDERS_0 t1\n",
    "      ORDER BY t1.CASE_NUMBER,\n",
    "               t1.App_type,\n",
    "               t1.App_date;\n",
    "\"\"\"\n",
    "\n",
    "pydb.create_temp_table(create_adopt_orders_1,'adopt_orders_1')\n",
    "\n",
    "create_adopt_orders_2 = f\"\"\"\n",
    "SELECT DISTINCT CASE_NUMBER, \n",
    "          App_type, \n",
    "          App_date, \n",
    "        (MIN(Seq_No)) AS MIN_of_Seq_No\n",
    "      FROM __temp__.ADOPT_ORDERS_1 t1\n",
    "      GROUP BY CASE_NUMBER,\n",
    "               App_type,\n",
    "               App_date;\n",
    "\"\"\"\n",
    "\n",
    "pydb.create_temp_table(create_adopt_orders_2,'adopt_orders_2')\n",
    "\n",
    "create_adopt_orders_3 = f\"\"\"\n",
    "   SELECT DISTINCT t1.CASE_NUMBER, \n",
    "          t1.App_type, \n",
    "          t2.Court, \n",
    "          t1.App_date, \n",
    "          t2.Disp_Date, \n",
    "          t2.Disp_Type, \n",
    "          t2.Year, \n",
    "          t2.Quarter, \n",
    "          t2.Order_type, \n",
    "          t2.Adoption, \n",
    "          t2.Type\n",
    "      FROM __temp__.ADOPT_ORDERS_2 t1\n",
    "           LEFT JOIN __temp__.ADOPT_ORDERS_1 t2 ON (t1.MIN_of_Seq_No = t2.Seq_No);\n",
    "\"\"\"\n",
    "pydb.create_temp_table(create_adopt_orders_3,'adopt_orders_3')\n"
   ]
  },
  {
   "cell_type": "code",
   "execution_count": 13,
   "metadata": {},
   "outputs": [],
   "source": [
    "#adopt_orders_3_check = pydb.read_sql_query(\"SELECT count(*) as count from __temp__.adopt_orders_3\")\n",
    "#adopt_orders_3_check"
   ]
  },
  {
   "cell_type": "markdown",
   "metadata": {},
   "source": [
    "## 7. adopt_apps_and_orders_match table - calculates the wait_weeks from the disposal date and the application date\n",
    "<a name=\"adopt_apps_and_orders_match\"></a>"
   ]
  },
  {
   "cell_type": "markdown",
   "metadata": {},
   "source": [
    "### Drop the adopt_apps_and_orders_match table if it already exists and remove its data from the S3 bucket"
   ]
  },
  {
   "cell_type": "code",
   "execution_count": 14,
   "metadata": {
    "scrolled": true
   },
   "outputs": [],
   "source": [
    "drop_adopt_apps_and_orders_match = f\"\"\"\n",
    "DROP TABLE IF EXISTS fcsq.adopt_apps_and_orders_match;\n",
    "\"\"\"\n",
    "pydb.start_query_execution_and_wait(drop_adopt_apps_and_orders_match)\n",
    "\n",
    "# clean up previous adopt_apps_and_orders_match files\n",
    "bucket.objects.filter(Prefix=\"fcsq_processing/Adoption/ADOPT_APPS_AND_ORDERS_MATCH/\").delete();"
   ]
  },
  {
   "cell_type": "markdown",
   "metadata": {},
   "source": [
    "### Create the adopt_apps_and_orders_match table in Athena"
   ]
  },
  {
   "cell_type": "code",
   "execution_count": 15,
   "metadata": {
    "scrolled": true
   },
   "outputs": [],
   "source": [
    "create_adopt_apps_and_orders_match =f\"\"\"\n",
    "CREATE TABLE IF NOT EXISTS fcsq.ADOPT_APPS_AND_ORDERS_MATCH\n",
    "WITH (format = 'PARQUET', external_location = 's3://alpha-family-data/fcsq_processing/Adoption/ADOPT_APPS_AND_ORDERS_MATCH') AS\n",
    "   SELECT t2.CASE_NUMBER, \n",
    "          t2.App_type, \n",
    "          t2.Court, \n",
    "          t2.App_date, \n",
    "          t2.Disp_Date, \n",
    "          /* Wait_weeks */\n",
    "            (CAST (DAY(t2.Disp_Date-t2.App_date) as double)/7) AS Wait_weeks, \n",
    "          t2.Disp_Type, \n",
    "          t2.Year, \n",
    "          t2.Quarter, \n",
    "          t2.Order_type, \n",
    "          t2.Adoption, \n",
    "          t2.Type, \n",
    "          /* DSP_COURT */\n",
    "          t2.Court AS DSP_COURT\n",
    "      FROM __temp__.ADOPT_ORDERS_3 t2;\n",
    "\n",
    "\n",
    "\"\"\"\n",
    "pydb.start_query_execution_and_wait(create_adopt_apps_and_orders_match);"
   ]
  },
  {
   "cell_type": "markdown",
   "metadata": {},
   "source": [
    "#### ADOPT_APPS_AND_ORDERS_MATCH validation"
   ]
  },
  {
   "cell_type": "code",
   "execution_count": 16,
   "metadata": {},
   "outputs": [],
   "source": [
    "#adopt_apps_and_orders_match_count = pydb.read_sql_query(\"select count(*) as count from fcsq.ADOPT_APPS_AND_ORDERS_MATCH\")\n",
    "#adopt_apps_and_orders_match_count"
   ]
  },
  {
   "cell_type": "code",
   "execution_count": 17,
   "metadata": {},
   "outputs": [],
   "source": [
    "#pydb.read_sql_query(\"select * from fcsq.adopt_apps_and_orders_match where case_number='LV20Z04103'\")"
   ]
  },
  {
   "cell_type": "markdown",
   "metadata": {},
   "source": [
    "## 8. Adopt_case_data temporary tables - filters by year>2010 and by first application date\n",
    "<a name=\"Adopt_case_data_temp\"></a>"
   ]
  },
  {
   "cell_type": "code",
   "execution_count": 18,
   "metadata": {},
   "outputs": [],
   "source": [
    "create_adopt_case_data_v1 = f\"\"\"\n",
    "SELECT T1.YEAR,\n",
    "            T1.QUARTER,\n",
    "            T1.COURT,\n",
    "            T1.CASE_NUMBER,\n",
    "            T1.APP_TYPE,\n",
    "            T1.CASE_APP_TYPE,\n",
    "            T1.ADOPTION,\n",
    "            T1.HIGH_COURT,\n",
    "            T1.CONTESTED,\n",
    "            T1.NUMBER_APPLICANTS,\n",
    "            T1.ADOPTER_TYPE,\n",
    "            date_format(T1.APP_DATE,'%d-%m-%Y') AS APP_DATE2\n",
    "    FROM fcsq.adopt_apps_6_adoptions_only AS t1\n",
    "    ORDER BY case_number, app_date2, court;\n",
    "    \n",
    "\"\"\"\n",
    "\n",
    "create_adopt_case_data_v2 = f\"\"\"\n",
    "SELECT *,(case when row_number() over (partition by case_number order by \n",
    "        APP_DATE2) = 1 then 1 else 0 end) as case_number_id\n",
    "FROM __temp__.adopt_case_data_v1\n",
    "\"\"\"\n",
    "\n",
    "create_adopt_case_data_v3 = f\"\"\"\n",
    "SELECT *\n",
    "FROM __temp__.adopt_case_data_v2\n",
    "where case_number_id = 1 and year > 2010;\n",
    "\"\"\"\n",
    "pydb.create_temp_table(create_adopt_case_data_v1,'adopt_case_data_v1')\n",
    "\n",
    "pydb.create_temp_table(create_adopt_case_data_v2,'adopt_case_data_v2')\n",
    "pydb.create_temp_table(create_adopt_case_data_v3,'adopt_case_data_v3')\n",
    "\n",
    "\n",
    "\n"
   ]
  },
  {
   "cell_type": "code",
   "execution_count": 19,
   "metadata": {},
   "outputs": [],
   "source": [
    "#adopt_case_data_v3_count = \"SELECT count(*) as count from __temp__.adopt_case_data_v3\"\n",
    "#pydb.read_sql_query(adopt_case_data_v3_count)"
   ]
  },
  {
   "cell_type": "markdown",
   "metadata": {},
   "source": [
    "## 9. Applicant_Info table - joins the roles, parties and address tables for applicants to get information on the applicants\n",
    "<a name=\"Applicant_Info\"></a>"
   ]
  },
  {
   "cell_type": "markdown",
   "metadata": {},
   "source": [
    "### Drop the Applicant_Info table if it already exists and remove its data from the S3 bucket"
   ]
  },
  {
   "cell_type": "code",
   "execution_count": 20,
   "metadata": {},
   "outputs": [],
   "source": [
    "drop_Adopt_Applicant_Info = f\"\"\"\n",
    "DROP TABLE IF EXISTS fcsq.Adopt_Applicant_Info;\n",
    "\"\"\"\n",
    "pydb.start_query_execution_and_wait(drop_Adopt_Applicant_Info)\n",
    "\n",
    "# clean up previous Adopt_Applicant_Info files\n",
    "bucket.objects.filter(Prefix=\"fcsq_processing/Adoption/Adopt_Applicant_Info/\").delete();"
   ]
  },
  {
   "cell_type": "markdown",
   "metadata": {},
   "source": [
    "### Create the Applicant_Info table in Athena"
   ]
  },
  {
   "cell_type": "code",
   "execution_count": 21,
   "metadata": {},
   "outputs": [],
   "source": [
    "create_Adopt_Applicant_Info = f\"\"\"\n",
    "CREATE TABLE IF NOT EXISTS fcsq.Adopt_Applicant_Info\n",
    "WITH (format = 'PARQUET', external_location = 's3://alpha-family-data/fcsq_processing/Adoption/Adopt_Applicant_Info') AS\n",
    " SELECT DISTINCT\n",
    "   {database}.roles.ROLE, \n",
    "   {database}.roles.REPRESENTATIVE_ROLE, \n",
    "   {database}.roles.ROLE_MODEL, \n",
    "   {database}.roles.PARTY, \n",
    "   {database}.roles.CASE_NUMBER, \n",
    "   {database}.parties.PERSON_GIVEN_FIRST_NAME, \n",
    "   {database}.parties.PERSON_FAMILY_NAME, \n",
    "   {database}.parties.COMPANY, \n",
    "   {database}.addresses.POSTCODE, \n",
    "   {database}.parties.GENDER, \n",
    "   {database}.roles.DELETE_FLAG\n",
    "FROM \n",
    "  ({database}.roles INNER JOIN {database}.parties ON {database}.roles.PARTY = {database}.parties.PARTY) \n",
    "  INNER JOIN {database}.addresses ON {database}.roles.ADDRESS = {database}.addresses.ADDRESS\n",
    "WHERE \n",
    "    (((({database}.roles.ROLE_MODEL)= 'APLZ') AND (({database}.roles.DELETE_FLAG)= 'N')) \n",
    "    OR ((({database}.roles.ROLE_MODEL)= 'APLA') AND (({database}.roles.DELETE_FLAG)= 'N')))\n",
    "    AND {database}.roles.mojap_snapshot_date = date '{snapshot_date}'\n",
    "    AND {database}.parties.mojap_snapshot_date = date '{snapshot_date}'\n",
    "    AND {database}.addresses.mojap_snapshot_date = date '{snapshot_date}';\n",
    "\"\"\"\n",
    "\n",
    "pydb.start_query_execution_and_wait(create_Adopt_Applicant_Info);\n",
    "\n"
   ]
  },
  {
   "cell_type": "code",
   "execution_count": 22,
   "metadata": {},
   "outputs": [],
   "source": [
    "#pydb.read_sql_query(\"SELECT * from fcsq.adopt_applicant_info where case_number='NE19Z02909'\")"
   ]
  },
  {
   "cell_type": "markdown",
   "metadata": {},
   "source": [
    "#### Applicant_Info validation"
   ]
  },
  {
   "cell_type": "code",
   "execution_count": 23,
   "metadata": {},
   "outputs": [],
   "source": [
    "#Adopt_Applicant_Info_count = pydb.read_sql_query(\"select count(*) as count from fcsq.Adopt_Applicant_Info\")\n",
    "#Adopt_Applicant_Info_count"
   ]
  },
  {
   "cell_type": "code",
   "execution_count": 24,
   "metadata": {},
   "outputs": [],
   "source": [
    "#pydb.read_sql_query(\"select * from fcsq.adopt_applicant_info where case_number='HB12Z00228'\")"
   ]
  },
  {
   "cell_type": "markdown",
   "metadata": {},
   "source": [
    "## 10. adopt_respondent_info table - joins the roles, parties and address tables for respondents to get information on the respondents\n",
    "<a name=\"adopt_respondent_info\"></a>"
   ]
  },
  {
   "cell_type": "markdown",
   "metadata": {},
   "source": [
    "### Drop the adopt_respondent_info table if it already exists and remove its data from the S3 bucket"
   ]
  },
  {
   "cell_type": "code",
   "execution_count": 25,
   "metadata": {
    "scrolled": true
   },
   "outputs": [],
   "source": [
    "drop_adopt_respondent_info = f\"\"\"\n",
    "DROP TABLE IF EXISTS fcsq.adopt_respondent_info;\n",
    "\"\"\"\n",
    "pydb.start_query_execution_and_wait(drop_adopt_respondent_info)\n",
    "\n",
    "# clean up previous adopt_respondent_info files\n",
    "bucket.objects.filter(Prefix=\"fcsq_processing/Adoption/adopt_respondent_info/\").delete();"
   ]
  },
  {
   "cell_type": "markdown",
   "metadata": {},
   "source": [
    "### Create the adopt_respondent_info table in Athena"
   ]
  },
  {
   "cell_type": "code",
   "execution_count": 26,
   "metadata": {
    "scrolled": true
   },
   "outputs": [],
   "source": [
    "create_adopt_respondent_info = f\"\"\"\n",
    "CREATE TABLE IF NOT EXISTS fcsq.adopt_respondent_info\n",
    "WITH (format = 'PARQUET', external_location = 's3://alpha-family-data/fcsq_processing/Adoption/adopt_respondent_info') AS\n",
    "SELECT DISTINCT\n",
    "  {database}.roles.ROLE, \n",
    "  {database}.roles.REPRESENTATIVE_ROLE, \n",
    "  {database}.roles.ROLE_MODEL, \n",
    "  {database}.roles.PARTY, \n",
    "  {database}.roles.CASE_NUMBER, \n",
    "  {database}.parties.GENDER, \n",
    "  {database}.addresses.POSTCODE, \n",
    "  {database}.roles.DELETE_FLAG\n",
    "FROM \n",
    "  ({database}.roles INNER JOIN {database}.parties ON {database}.roles.PARTY = {database}.parties.PARTY) \n",
    "    LEFT JOIN {database}.addresses ON {database}.roles.ADDRESS = {database}.addresses.ADDRESS\n",
    "WHERE \n",
    "    (((({database}.roles.ROLE_MODEL)='RSPA') AND (({database}.roles.DELETE_FLAG)='N')) \n",
    "    OR ((({database}.roles.ROLE_MODEL)='RSPZ') AND (({database}.roles.DELETE_FLAG)='N')))\n",
    "    AND {database}.roles.mojap_snapshot_date = date '{snapshot_date}'\n",
    "    AND {database}.parties.mojap_snapshot_date = date '{snapshot_date}'\n",
    "    AND {database}.addresses.mojap_snapshot_date = date '{snapshot_date}';\n",
    "\"\"\"\n",
    "\n",
    "pydb.start_query_execution_and_wait(create_adopt_respondent_info);\n",
    "\n"
   ]
  },
  {
   "cell_type": "markdown",
   "metadata": {},
   "source": [
    "#### adopt_respondent_info validation"
   ]
  },
  {
   "cell_type": "code",
   "execution_count": 27,
   "metadata": {},
   "outputs": [],
   "source": [
    "#adopt_respondent_info_count = pydb.read_sql_query(\"select count(*) as count from fcsq.adopt_respondent_info\")\n",
    "#adopt_respondent_info_count"
   ]
  },
  {
   "cell_type": "code",
   "execution_count": 28,
   "metadata": {},
   "outputs": [],
   "source": [
    "#pydb.read_sql_query(\"select * from fcsq.adopt_respondent_info where case_number='HB12Z00228'\")"
   ]
  },
  {
   "cell_type": "markdown",
   "metadata": {},
   "source": [
    "## 11. applicants 3 table - takes the adopt_applicant_info table and reformats it, decoding gender and representative role values into strings\n",
    "<a name=\"applicants_3\"></a>"
   ]
  },
  {
   "cell_type": "code",
   "execution_count": 29,
   "metadata": {},
   "outputs": [],
   "source": [
    "create_adopt_applicants_1 = f\"\"\"\n",
    "SELECT T1.role,\n",
    "    T1.representative_role,\n",
    "    T1.role_model,\n",
    "    T1.party,\n",
    "    T1.case_number,\n",
    "    T1.gender,\n",
    "    case when cast(gender as varchar(1)) = '1' then 'Male'\n",
    "    when cast(gender as varchar(1)) = '2' then 'Female'\n",
    "    else 'Unknown' end as Gender_Decode\n",
    "\n",
    "    FROM fcsq.adopt_applicant_info AS t1\n",
    "    ORDER BY t1.Case_Number;\n",
    "\"\"\"\n",
    "\n",
    "pydb.create_temp_table(create_adopt_applicants_1,'adopt_applicants_1')\n",
    "\n",
    "\n",
    "\n",
    "create_adopt_applicants_2 = f\"\"\"\n",
    "SELECT DISTINCT \n",
    "    T1.case_number,\n",
    "    T1.party,\n",
    "    max(T1.representative_role) as Rep_Role,\n",
    "    max(T1.gender_decode) as Gender_Max\n",
    "    from __temp__.adopt_applicants_1 AS t1\n",
    "    group by Case_number, party;\n",
    "\"\"\"\n",
    "\n",
    "pydb.create_temp_table(create_adopt_applicants_2,'adopt_applicants_2')\n",
    "\n",
    "\n",
    "create_adopt_applicants_3= f\"\"\"\n",
    "SELECT t1.case_number,\n",
    "    t1.party as App_Party_ID,\n",
    "    t1.Rep_Role,\n",
    "    t1.Gender_Max,\n",
    "    case when t1.Rep_Role IS NULL then 'N'\n",
    "    when t1.Rep_Role IS NOT NULL then 'Y'\n",
    "    End as REPRESENTATION,\n",
    "    case when Rep_Role IS NULL AND Gender_Max = 'Female' then 'Unrep_Female'\n",
    "    when Rep_Role IS NULL AND Gender_Max = 'Male' then 'Unrep_Male'\n",
    "    when Rep_Role IS NULL AND Gender_Max = 'Unknown' then 'Unrep_Unknown'\n",
    "    when Rep_Role IS NOT NULL AND Gender_Max = 'Female' then 'Rep_Female'\n",
    "    when Rep_Role IS NOT NULL AND Gender_Max = 'Male' then 'Rep_Male'\n",
    "    when Rep_Role IS NOT NULL AND Gender_Max = 'Unknown' then 'Rep_Unknown'\n",
    "    else '' end as App_Rep_Cat\n",
    "    \n",
    "    from __temp__.adopt_applicants_2 AS t1;\n",
    "\n",
    "\n",
    "\"\"\"\n",
    "\n",
    "pydb.create_temp_table(create_adopt_applicants_3,'adopt_applicants_3')\n"
   ]
  },
  {
   "cell_type": "markdown",
   "metadata": {},
   "source": [
    "## 12. Adopt_respondents temporary tables - takes the adopt_respondent_info table and reformats it, decoding gender and representative role values into strings\n",
    "<a name=\"Adopt_respondents_temp\"></a>"
   ]
  },
  {
   "cell_type": "code",
   "execution_count": 30,
   "metadata": {},
   "outputs": [],
   "source": [
    "create_adopt_respondents_1 = f\"\"\"\n",
    "SELECT T1.role,\n",
    "    T1.representative_role,\n",
    "    T1.role_model,\n",
    "    T1.party,\n",
    "    T1.case_number,\n",
    "    T1.gender,\n",
    "    case when cast(gender as varchar(1)) = '1' then 'Male'\n",
    "    when cast(gender as varchar(1)) = '2' then 'Female'\n",
    "    else 'Unknown' end as Gender_Decode\n",
    "\n",
    "    FROM fcsq.adopt_respondent_info AS t1\n",
    "    ORDER BY t1.Case_Number;\n",
    "\"\"\"\n",
    "#pydb.start_query_execution_and_wait(create_adopt_respondents_1)\n",
    "pydb.create_temp_table(create_adopt_respondents_1,'adopt_respondents_1')\n",
    "\n",
    "\n",
    "\n",
    "create_adopt_respondents_2 = f\"\"\"\n",
    "    SELECT DISTINCT T1.case_number,\n",
    "        T1.party,\n",
    "        max(T1.representative_role) as Rep_Role,\n",
    "        max(T1.gender_decode) as Gender_Max\n",
    "    from __temp__.adopt_respondents_1 AS t1\n",
    "    group by Case_number, party;\n",
    "\"\"\"\n",
    "\n",
    "pydb.create_temp_table(create_adopt_respondents_2,'adopt_respondents_2')\n",
    "#pydb.start_query_execution_and_wait(create_adopt_respondents_2)\n",
    "\n",
    "\n",
    "create_adopt_respondents_3= f\"\"\"\n",
    "SELECT t1.case_number,\n",
    "    t1.party as Resp_Party_ID,\n",
    "    t1.Rep_Role,\n",
    "    t1.Gender_Max,\n",
    "    case when t1.Rep_Role IS NULL then 'N'\n",
    "    when t1.Rep_Role IS NOT NULL then 'Y'\n",
    "    End as REPRESENTATION,\n",
    "    case when Rep_Role IS NULL AND Gender_Max = 'Female' then 'Unrep_Female'\n",
    "    when Rep_Role IS NULL AND Gender_Max = 'Male' then 'Unrep_Male'\n",
    "    when Rep_Role IS NULL AND Gender_Max = 'Unknown' then 'Unrep_Unknown'\n",
    "    when Rep_Role IS NOT NULL AND Gender_Max = 'Female' then 'Rep_Female'\n",
    "    when Rep_Role IS NOT NULL AND Gender_Max = 'Male' then 'Rep_Male'\n",
    "    when Rep_Role IS NOT NULL AND Gender_Max = 'Unknown' then 'Rep_Unknown'\n",
    "    else '' end as Resp_Rep_Cat\n",
    "    \n",
    "    from __temp__.adopt_respondents_2 AS t1;\n",
    "\n",
    "\n",
    "\"\"\"\n",
    "#pydb.start_query_execution_and_wait(create_adopt_respondents_3)\n",
    "pydb.create_temp_table(create_adopt_respondents_3,'adopt_respondents_3')"
   ]
  },
  {
   "cell_type": "markdown",
   "metadata": {},
   "source": [
    "## 13. Create adopt_app_rep table - joins the case data with the applicant representation data \n",
    "<a name=\"adopt_app_rep\"></a>"
   ]
  },
  {
   "cell_type": "code",
   "execution_count": 31,
   "metadata": {},
   "outputs": [],
   "source": [
    "adopt_app_rep_final = f\"\"\"\n",
    "SELECT t1.YEAR, \n",
    "    t1.QUARTER,\n",
    "    t1.CASE_NUMBER, \n",
    "    t1.Court,\n",
    "    t2.App_Party_ID,\n",
    "    t2.Representation,\n",
    "    t2.Gender_Max as App_Gender,\n",
    "    t2.App_Rep_Cat          \n",
    "FROM __temp__.ADOPT_CASE_DATA_v3 t1\n",
    "    LEFT JOIN __temp__.ADOPT_APPLICANTS_3 t2 ON (t1.CASE_NUMBER = t2.CASE_NUMBER);\n",
    "\n",
    "\"\"\"\n",
    "\n",
    "pydb.create_temp_table(adopt_app_rep_final,'adopt_app_rep_final')\n"
   ]
  },
  {
   "cell_type": "code",
   "execution_count": 32,
   "metadata": {},
   "outputs": [],
   "source": [
    "#adopt_app_rep_final_check = \"SELECT COUNT(*) as Count from __temp__.adopt_app_rep_final\"\n",
    "#pydb.read_sql_query(adopt_app_rep_final_check)"
   ]
  },
  {
   "cell_type": "markdown",
   "metadata": {},
   "source": [
    "## 14. Create adopt_resp_rep table - joins the case data with the respondent representation data\n",
    "<a name=\"Adopt_resp_rep\"></a>"
   ]
  },
  {
   "cell_type": "code",
   "execution_count": 33,
   "metadata": {},
   "outputs": [],
   "source": [
    "adopt_resp_rep_final = f\"\"\"\n",
    "   SELECT t1.YEAR, \n",
    "        t1.QUARTER,\n",
    "        t1.CASE_NUMBER, \n",
    "        t1.Court,\n",
    "          t2.Resp_Party_ID,\n",
    "          t2.Representation,\n",
    "          t2.Gender_Max as Resp_Gender,\n",
    "          t2.Resp_Rep_Cat\n",
    "          \n",
    "      FROM __temp__.ADOPT_CASE_DATA_v3 t1\n",
    "           LEFT JOIN __temp__.ADOPT_RESPONDENTS_3 t2 ON (t1.CASE_NUMBER = t2.CASE_NUMBER);\n",
    "\"\"\"\n",
    "\n",
    "pydb.create_temp_table(adopt_resp_rep_final,'adopt_resp_rep_final')"
   ]
  },
  {
   "cell_type": "code",
   "execution_count": 34,
   "metadata": {},
   "outputs": [],
   "source": [
    "#adopt_resp_rep_final_check = \"SELECT COUNT(*) as Count from __temp__.adopt_resp_rep_final\"\n",
    "#pydb.read_sql_query(adopt_resp_rep_final_check)"
   ]
  },
  {
   "cell_type": "markdown",
   "metadata": {},
   "source": [
    "## 15. Adopt_Hearing_Events table - takes the adoption hearing events from the hearings table and joins it with the events table data \n",
    "<a name=\"Adopt_Hearing_Events\"></a>"
   ]
  },
  {
   "cell_type": "markdown",
   "metadata": {},
   "source": [
    "### Drop the Adopt_Hearing_Events table if it already exists and remove its data from the S3 bucket"
   ]
  },
  {
   "cell_type": "code",
   "execution_count": 35,
   "metadata": {
    "scrolled": true
   },
   "outputs": [],
   "source": [
    "drop_Adopt_Hearing_Events = f\"\"\"\n",
    "DROP TABLE IF EXISTS fcsq.Adopt_Hearing_Events;\n",
    "\"\"\"\n",
    "pydb.start_query_execution_and_wait(drop_Adopt_Hearing_Events)\n",
    "\n",
    "# clean up previous Adopt_Hearing_Events files\n",
    "bucket.objects.filter(Prefix=\"fcsq_processing/Adoption/Adopt_Hearing_Events/\").delete();"
   ]
  },
  {
   "cell_type": "markdown",
   "metadata": {},
   "source": [
    "### Create the Adopt_Hearing_Events table in Athena"
   ]
  },
  {
   "cell_type": "code",
   "execution_count": 36,
   "metadata": {},
   "outputs": [],
   "source": [
    "create_Adopt_Hearing_Events = f\"\"\"\n",
    "CREATE TABLE IF NOT EXISTS fcsq.Adopt_Hearing_Events\n",
    "WITH (format = 'PARQUET', external_location = 's3://alpha-family-data/fcsq_processing/Adoption/Adopt_Hearing_Events') AS\n",
    "SELECT {database}.hearings.EVENT,\n",
    "  {database}.hearings.VACATED_FLAG,\n",
    "  {database}.hearings.HEARING_TYPE,\n",
    "  {database}.hearings.HEARING_DATE,\n",
    "  {database}.events.RECEIPT_DATE,\n",
    "  {database}.events.ERROR,\n",
    "  {database}.events.CASE_NUMBER,\n",
    "  {database}.events.EVENT_MODEL\n",
    "FROM {database}.hearings\n",
    "INNER JOIN {database}.events\n",
    "ON {database}.hearings.EVENT            = {database}.events.EVENT\n",
    "WHERE {database}.hearings.VACATED_FLAG IS NULL\n",
    "AND {database}.events.ERROR             = 'N'\n",
    "AND HEARING_DATE > date_parse('31-12-2009 00:00:00', '%d-%m-%Y %H:%i:%s')\n",
    "AND (substring(case_number,5,1)='A' OR substring(case_number,5,1)='Z')\n",
    "AND {database}.hearings.mojap_snapshot_date = date '{snapshot_date}' and {database}.events.mojap_snapshot_date = date '{snapshot_date}';\n",
    "\"\"\"\n",
    "\n",
    "pydb.start_query_execution_and_wait(create_Adopt_Hearing_Events);\n",
    "\n"
   ]
  },
  {
   "cell_type": "markdown",
   "metadata": {},
   "source": [
    "#### Adopt_Hearing_Events validation"
   ]
  },
  {
   "cell_type": "code",
   "execution_count": 37,
   "metadata": {},
   "outputs": [],
   "source": [
    "#Adopt_Hearing_Events_count = pydb.read_sql_query(\"select count(*) as count from fcsq.Adopt_Hearing_Events\")\n",
    "#Adopt_Hearing_Events_count"
   ]
  },
  {
   "cell_type": "markdown",
   "metadata": {},
   "source": [
    "## 16. Adopt_Hearings_Cases table - takes the hearing events, filters by adoption event codes and adds a flag whether the hearing is the first in the case\n",
    "<a name=\"Adopt_Hearings_Cases\"></a>"
   ]
  },
  {
   "cell_type": "markdown",
   "metadata": {},
   "source": [
    "### Drop the Adopt_Hearings_Cases table if it already exists and remove its data from the S3 bucket"
   ]
  },
  {
   "cell_type": "code",
   "execution_count": 38,
   "metadata": {
    "scrolled": true
   },
   "outputs": [],
   "source": [
    "drop_Adopt_Hearings_Cases = f\"\"\"\n",
    "DROP TABLE IF EXISTS fcsq.Adopt_Hearings_Cases;\n",
    "\"\"\"\n",
    "pydb.start_query_execution_and_wait(drop_Adopt_Hearings_Cases)\n",
    "\n",
    "# clean up previous Adopt_Hearings_Cases files\n",
    "bucket.objects.filter(Prefix=\"fcsq_processing/Adoption/Adopt_Hearings_Cases/\").delete();"
   ]
  },
  {
   "cell_type": "markdown",
   "metadata": {},
   "source": [
    "### Create the Adopt_Hearings_Cases table in Athena"
   ]
  },
  {
   "cell_type": "code",
   "execution_count": 39,
   "metadata": {},
   "outputs": [],
   "source": [
    "\"\"\"\n",
    "Equivalent to Hearings_Adopt_V3\n",
    "\"\"\"\n",
    "\n",
    "create_Adopt_Hearings_Cases = f\"\"\"\n",
    "CREATE TABLE IF NOT EXISTS fcsq.Adopt_Hearings_Cases\n",
    "WITH (format = 'PARQUET', external_location = 's3://alpha-family-data/fcsq_processing/Adoption/Adopt_Hearings_Cases') AS\n",
    "select t1.case_number,\n",
    "    t1.error,\n",
    "    t1.event,\n",
    "    t1.event_model,\n",
    "    t1.hearing_date,\n",
    "    t1.hearing_type,\n",
    "    t1.receipt_date,\n",
    "    t1.vacated_flag,\n",
    "    substring(Case_Number,5,1) AS Case_Type\n",
    "    from fcsq.Adopt_Hearing_Events AS t1\n",
    "    where t1.event_model in ('A8', 'A90', 'A91', 'G60')\n",
    "    order by t1.case_number, t1.receipt_date;\n",
    "\"\"\"\n",
    "\n",
    "pydb.start_query_execution_and_wait(create_Adopt_Hearings_Cases)\n",
    "\n",
    "create_Adopt_Hearings_Cases_v2 = f\"\"\"\n",
    "SELECT *,\n",
    "(case when row_number() over (partition by Case_Number order by receipt_date) = 1 then 1 else 0 end) as Case_Number_ID\n",
    "FROM fcsq.Adopt_Hearings_Cases\n",
    "\"\"\"\n",
    "\n",
    "pydb.create_temp_table(create_Adopt_Hearings_Cases_v2,'adopt_hearings_cases_v2')\n",
    "\n"
   ]
  },
  {
   "cell_type": "markdown",
   "metadata": {},
   "source": [
    "#### Adopt_Hearings_Cases validation"
   ]
  },
  {
   "cell_type": "code",
   "execution_count": 40,
   "metadata": {},
   "outputs": [],
   "source": [
    "#Adopt_Hearings_Cases_count = pydb.read_sql_query(\"select count(*) as count from __temp__.Adopt_Hearings_Cases_v2\")\n",
    "#Adopt_Hearings_Cases_count"
   ]
  },
  {
   "cell_type": "markdown",
   "metadata": {},
   "source": [
    "## 17. Hearing_Adopt_Applicants table - joins the cases from applicant representation table to the first hearing for the case in the adopt hearings cases table \n",
    "<a name=\"Hearing_Adopt_Applicants\"></a>"
   ]
  },
  {
   "cell_type": "markdown",
   "metadata": {},
   "source": [
    "### Drop the Hearing_Adopt_Applicants table if it already exists and remove its data from the S3 bucket"
   ]
  },
  {
   "cell_type": "code",
   "execution_count": 41,
   "metadata": {},
   "outputs": [],
   "source": [
    "drop_Hearing_Adopt_Applicants = f\"\"\"\n",
    "DROP TABLE IF EXISTS fcsq.Hearing_Adopt_Applicants;\n",
    "\"\"\"\n",
    "pydb.start_query_execution_and_wait(drop_Hearing_Adopt_Applicants)\n",
    "\n",
    "# clean up previous Hearing_Adopt_Applicants files\n",
    "bucket.objects.filter(Prefix=\"fcsq_processing/Adoption/Hearing_Adopt_Applicants/\").delete();"
   ]
  },
  {
   "cell_type": "markdown",
   "metadata": {},
   "source": [
    "### Create the Hearing_Adopt_Applicants table in Athena"
   ]
  },
  {
   "cell_type": "code",
   "execution_count": 42,
   "metadata": {},
   "outputs": [],
   "source": [
    "create_Hearing_Adopt_Applicants = f\"\"\"\n",
    "CREATE TABLE IF NOT EXISTS fcsq.Hearing_Adopt_Applicants\n",
    "WITH (format = 'PARQUET', external_location = 's3://alpha-family-data/fcsq_processing/Adoption/Hearing_Adopt_Applicants') AS\n",
    "SELECT t1.*,\n",
    "t2.Case_Number_ID AS Hearing_Count\n",
    "FROM __temp__.ADOPT_APP_REP_FINAL t1\n",
    "LEFT JOIN __temp__.Adopt_Hearings_Cases_v2 t2 ON (t1.CASE_NUMBER = t2.CASE_NUMBER)\n",
    "where t2.Case_Number_ID > 0;\n",
    "\"\"\"\n",
    "\n",
    "pydb.start_query_execution_and_wait(create_Hearing_Adopt_Applicants);\n",
    "\n"
   ]
  },
  {
   "cell_type": "markdown",
   "metadata": {},
   "source": [
    "#### Hearing_Adopt_Applicants validation"
   ]
  },
  {
   "cell_type": "code",
   "execution_count": 43,
   "metadata": {},
   "outputs": [],
   "source": [
    "#Hearing_Adopt_Applicants_count = pydb.read_sql_query(\"select count(*) as count from __temp__.adopt_app_rep_final\")\n",
    "#Hearing_Adopt_Applicants_count"
   ]
  },
  {
   "cell_type": "markdown",
   "metadata": {},
   "source": [
    "## 18. Hearing_Adopt_Respondents table - joins the cases from respondents representation table to the first hearing for the case in the adopt hearings cases table \n",
    "<a name=\"Hearing_Adopt_Respondents\"></a>"
   ]
  },
  {
   "cell_type": "markdown",
   "metadata": {},
   "source": [
    "### Drop the Hearing_Adopt_Respondents table if it already exists and remove its data from the S3 bucket"
   ]
  },
  {
   "cell_type": "code",
   "execution_count": 44,
   "metadata": {},
   "outputs": [],
   "source": [
    "drop_Hearing_Adopt_Respondents = f\"\"\"\n",
    "DROP TABLE IF EXISTS fcsq.Hearing_Adopt_Respondents;\n",
    "\"\"\"\n",
    "pydb.start_query_execution_and_wait(drop_Hearing_Adopt_Respondents)\n",
    "\n",
    "# clean up previous Hearing_Adopt_Respondents files\n",
    "bucket.objects.filter(Prefix=\"fcsq_processing/Adoption/Hearing_Adopt_Respondents/\").delete();"
   ]
  },
  {
   "cell_type": "markdown",
   "metadata": {},
   "source": [
    "### Create the Hearing_Adopt_Respondents table in Athena"
   ]
  },
  {
   "cell_type": "code",
   "execution_count": 45,
   "metadata": {},
   "outputs": [],
   "source": [
    "create_Hearing_Adopt_Respondents = f\"\"\"\n",
    "CREATE TABLE IF NOT EXISTS fcsq.Hearing_Adopt_Respondents\n",
    "WITH (format = 'PARQUET', external_location = 's3://alpha-family-data/fcsq_processing/Adoption/Hearing_Adopt_Respondents') AS\n",
    "    SELECT t1.*,\n",
    "    t2.Case_Number_ID AS Hearing_Count\n",
    "    FROM __temp__.ADOPT_RESP_REP_FINAL t1\n",
    "    LEFT JOIN __temp__.Adopt_Hearings_Cases_v2 t2 ON (t1.CASE_NUMBER = t2.CASE_NUMBER)\n",
    "    where t2.Case_Number_ID > 0;\n",
    "\"\"\"\n",
    "\n",
    "pydb.start_query_execution_and_wait(create_Hearing_Adopt_Respondents);\n",
    "\n"
   ]
  },
  {
   "cell_type": "markdown",
   "metadata": {},
   "source": [
    "#### Hearing_Adopt_Respondents validation"
   ]
  },
  {
   "cell_type": "code",
   "execution_count": 46,
   "metadata": {},
   "outputs": [],
   "source": [
    "#Hearing_Adopt_Respondents_count = pydb.read_sql_query(\"select count(*) as count from fcsq.Hearing_Adopt_Respondents\")\n",
    "#Hearing_Adopt_Respondents_count"
   ]
  },
  {
   "cell_type": "markdown",
   "metadata": {},
   "source": [
    "## 19. Adopt_App table - Groups the hearing_adopt_applicants table and produces a count per group\n",
    "<a name=\"Adopt_App\"></a>"
   ]
  },
  {
   "cell_type": "markdown",
   "metadata": {},
   "source": [
    "### Drop the Adopt_App table if it already exists and remove its data from the S3 bucket"
   ]
  },
  {
   "cell_type": "code",
   "execution_count": 47,
   "metadata": {},
   "outputs": [],
   "source": [
    "drop_Adopt_App = f\"\"\"\n",
    "DROP TABLE IF EXISTS fcsq.Adopt_App;\n",
    "\"\"\"\n",
    "pydb.start_query_execution_and_wait(drop_Adopt_App)\n",
    "\n",
    "# clean up previous Adopt_App files\n",
    "bucket.objects.filter(Prefix=\"fcsq_processing/Adoption/Adopt_App/\").delete();"
   ]
  },
  {
   "cell_type": "markdown",
   "metadata": {},
   "source": [
    "### Create the Adopt_App table in Athena"
   ]
  },
  {
   "cell_type": "code",
   "execution_count": 48,
   "metadata": {},
   "outputs": [],
   "source": [
    "create_Adopt_App = f\"\"\"\n",
    "CREATE TABLE IF NOT EXISTS fcsq.Adopt_App\n",
    "WITH (format = 'PARQUET', external_location = 's3://alpha-family-data/fcsq_processing/Adoption/Adopt_App') AS\n",
    "SELECT\n",
    "  'Adoption' AS CASE_TYPE,\n",
    "  Year,\n",
    "  Quarter,\n",
    "  'Party' AS Category,\n",
    "  'Applicant' AS PARTY,\n",
    "   App_Gender AS Gender,\n",
    "  Representation,\n",
    "  Count (*) AS Count\n",
    "FROM\n",
    "  fcsq.HEARING_ADOPT_APPLICANTS\n",
    "WHERE \n",
    "  Representation <> '' /*A very small number of cases from 2011/12 look into whether these should be recoded as N (gender is also blank)*/\n",
    "GROUP BY\n",
    "  'Adoption',\n",
    "  Year,\n",
    "  Quarter,\n",
    "  'Party',\n",
    "  'Applicant',\n",
    "  App_Gender,\n",
    "  Representation;\n",
    "\"\"\"\n",
    "\n",
    "pydb.start_query_execution_and_wait(create_Adopt_App);\n",
    "\n"
   ]
  },
  {
   "cell_type": "markdown",
   "metadata": {},
   "source": [
    "#### Adopt_App validation"
   ]
  },
  {
   "cell_type": "code",
   "execution_count": 49,
   "metadata": {},
   "outputs": [],
   "source": [
    "#Adopt_App_count = pydb.read_sql_query(\"select count(*) as count from fcsq.Adopt_App\")\n",
    "#Adopt_App_count"
   ]
  },
  {
   "cell_type": "markdown",
   "metadata": {},
   "source": [
    "## 20. Adopt_resp table - Groups the hearing_adopt_respondents table and produces a count per group\n",
    "<a name=\"Adopt_resp\"></a>"
   ]
  },
  {
   "cell_type": "markdown",
   "metadata": {},
   "source": [
    "### Drop the Adopt_resp table if it already exists and remove its data from the S3 bucket"
   ]
  },
  {
   "cell_type": "code",
   "execution_count": 50,
   "metadata": {},
   "outputs": [],
   "source": [
    "drop_Adopt_resp = f\"\"\"\n",
    "DROP TABLE IF EXISTS fcsq.Adopt_resp;\n",
    "\"\"\"\n",
    "pydb.start_query_execution_and_wait(drop_Adopt_resp)\n",
    "\n",
    "# clean up previous Adopt_resp files\n",
    "bucket.objects.filter(Prefix=\"fcsq_processing/Adoption/Adopt_resp/\").delete();"
   ]
  },
  {
   "cell_type": "markdown",
   "metadata": {},
   "source": [
    "### Create the Adopt_resp table in Athena"
   ]
  },
  {
   "cell_type": "code",
   "execution_count": 51,
   "metadata": {},
   "outputs": [],
   "source": [
    "create_Adopt_resp = f\"\"\"\n",
    "CREATE TABLE IF NOT EXISTS fcsq.Adopt_resp\n",
    "WITH (format = 'PARQUET', external_location = 's3://alpha-family-data/fcsq_processing/Adoption/Adopt_resp') AS\n",
    "SELECT\n",
    "  'Adoption' AS CASE_TYPE,\n",
    "  Year,\n",
    "  Quarter,\n",
    "  'Party' AS Category,\n",
    "  'Respondent' AS PARTY,\n",
    "  Resp_Gender AS Gender,\n",
    "  Representation,\n",
    "  Count (*) AS Count\n",
    "FROM\n",
    "  fcsq.HEARING_ADOPT_RESPONDENTS\n",
    "WHERE \n",
    "  Representation <> '' /*A very small number of cases from 2011/12 look into whether these should be recoded as N (gender is also blank)*/\n",
    "GROUP BY\n",
    "  'Adoption',\n",
    "  Year,\n",
    "  Quarter,\n",
    "  'Party',\n",
    "  'Applicant',\n",
    "  Resp_Gender,\n",
    "  Representation;\n",
    "\"\"\"\n",
    "\n",
    "pydb.start_query_execution_and_wait(create_Adopt_resp);\n",
    "\n"
   ]
  },
  {
   "cell_type": "markdown",
   "metadata": {},
   "source": [
    "#### Adopt_resp validation"
   ]
  },
  {
   "cell_type": "code",
   "execution_count": 52,
   "metadata": {},
   "outputs": [],
   "source": [
    "#Adopt_resp_count = pydb.read_sql_query(\"select count(*) as count from fcsq.Adopt_resp\")\n",
    "#Adopt_resp_count"
   ]
  },
  {
   "cell_type": "markdown",
   "metadata": {},
   "source": [
    "## 21. adopt_case table - groups and formats adopt_case_data_v3 table and gives a count for each group\n",
    "<a name=\"adopt_case\"></a>"
   ]
  },
  {
   "cell_type": "markdown",
   "metadata": {
    "tags": []
   },
   "source": [
    "### Drop the adopt_case table if it already exists and remove its data from the S3 bucket"
   ]
  },
  {
   "cell_type": "code",
   "execution_count": 53,
   "metadata": {},
   "outputs": [],
   "source": [
    "drop_adopt_case = f\"\"\"\n",
    "DROP TABLE IF EXISTS fcsq.adopt_case;\n",
    "\"\"\"\n",
    "pydb.start_query_execution_and_wait(drop_adopt_case)\n",
    "\n",
    "# clean up previous adopt_case files\n",
    "bucket.objects.filter(Prefix=\"fcsq_processing/Adoption/Adopt_case/\").delete();"
   ]
  },
  {
   "cell_type": "markdown",
   "metadata": {},
   "source": [
    "### Create the adopt_case table in Athena"
   ]
  },
  {
   "cell_type": "code",
   "execution_count": 54,
   "metadata": {},
   "outputs": [],
   "source": [
    "create_adopt_case = f\"\"\"\n",
    "CREATE TABLE IF NOT EXISTS fcsq.Adopt_case\n",
    "WITH (format = 'PARQUET', external_location = 's3://alpha-family-data/fcsq_processing/Adoption/Adopt_case') AS\n",
    "SELECT *,\n",
    "    Count(*) as Count FROM\n",
    "    (SELECT\n",
    "        'Adoption' AS CASE_TYPE,\n",
    "        Year,\n",
    "        Quarter,\n",
    "        'Cases' AS Category,\n",
    "        'N/A' AS PARTY,\n",
    "        'N/A' AS Gender,\n",
    "        'N/A' AS Representation\n",
    "    FROM\n",
    "      __temp__.adopt_case_data_v3)\n",
    "GROUP BY\n",
    "  CASE_TYPE,\n",
    "  Year,\n",
    "  Quarter,\n",
    "  Category,\n",
    "  PARTY,\n",
    "  Gender,\n",
    "  Representation;\n",
    "\"\"\"\n",
    "\n",
    "pydb.start_query_execution_and_wait(create_adopt_case);\n",
    "\n"
   ]
  },
  {
   "cell_type": "markdown",
   "metadata": {},
   "source": [
    "#### adopt_case validation"
   ]
  },
  {
   "cell_type": "code",
   "execution_count": 55,
   "metadata": {},
   "outputs": [],
   "source": [
    "#adopt_case_count = pydb.read_sql_query(\"select count(*) as count from fcsq.adopt_case\")\n",
    "#adopt_case_count"
   ]
  },
  {
   "cell_type": "markdown",
   "metadata": {},
   "source": [
    "## 22. Adopt_Case_Hearings table - creates a count of all the cases with a hearing per quarter\n",
    "<a name=\"Adopt_Case_Hearings\"></a>"
   ]
  },
  {
   "cell_type": "markdown",
   "metadata": {},
   "source": [
    "### Drop the Adopt_Case_Hearings table if it already exists and remove its data from the S3 bucket"
   ]
  },
  {
   "cell_type": "code",
   "execution_count": 56,
   "metadata": {},
   "outputs": [],
   "source": [
    "drop_Adopt_Case_Hearings = f\"\"\"\n",
    "DROP TABLE IF EXISTS fcsq.Adopt_Case_Hearings;\n",
    "\"\"\"\n",
    "pydb.start_query_execution_and_wait(drop_Adopt_Case_Hearings)\n",
    "\n",
    "# clean up previous Adopt_Case_Hearings files\n",
    "bucket.objects.filter(Prefix=\"fcsq_processing/Adoption/Adopt_Case_Hearings/\").delete();"
   ]
  },
  {
   "cell_type": "markdown",
   "metadata": {},
   "source": [
    "### Create the Adopt_Case_Hearings table in Athena"
   ]
  },
  {
   "cell_type": "code",
   "execution_count": 57,
   "metadata": {},
   "outputs": [],
   "source": [
    "create_hearing_adopt_case =f\"\"\"\n",
    "SELECT DISTINCT Year, Quarter, Case_Number\n",
    "FROM fcsq.HEARING_ADOPT_Applicants;\n",
    "\"\"\"\n",
    "\n",
    "pydb.create_temp_table(create_hearing_adopt_case,'hearing_adopt_case')\n",
    "\n",
    "\n",
    "\n",
    "create_Adopt_Case_Hearings = f\"\"\"\n",
    "CREATE TABLE IF NOT EXISTS fcsq.Adopt_Case_Hearings\n",
    "WITH (format = 'PARQUET', external_location = 's3://alpha-family-data/fcsq_processing/Adoption/Adopt_Case_Hearings') AS\n",
    "SELECT *, Count(*) as Count FROM\n",
    "    (SELECT\n",
    "      'Adoption' AS CASE_TYPE,\n",
    "      Year,\n",
    "      Quarter,\n",
    "      'Cases with a hearing' AS Category,\n",
    "      'N/A' AS PARTY,\n",
    "      'N/A' AS Gender,\n",
    "      'N/A' AS Representation\n",
    "    FROM\n",
    "      __temp__.Hearing_ADOPT_Case)\n",
    "GROUP BY\n",
    "  CASE_TYPE,\n",
    "  Year,\n",
    "  Quarter,\n",
    "  Category,\n",
    "  PARTY,\n",
    "  Gender,\n",
    "  Representation;\n",
    "\"\"\"\n",
    "\n",
    "pydb.start_query_execution_and_wait(create_Adopt_Case_Hearings);\n",
    "\n"
   ]
  },
  {
   "cell_type": "markdown",
   "metadata": {},
   "source": [
    "#### Adopt_Case_Hearings validation"
   ]
  },
  {
   "cell_type": "code",
   "execution_count": 58,
   "metadata": {},
   "outputs": [],
   "source": [
    "#Adopt_Case_Hearings_count = pydb.read_sql_query(\"select count(*) as count from fcsq.Adopt_Case_Hearings\")\n",
    "#Adopt_Case_Hearings_count"
   ]
  },
  {
   "cell_type": "markdown",
   "metadata": {},
   "source": [
    "## 23. Adoption table - Joins the applicant/respondent representation count tables, case count table, and case hearing count tables \n",
    "<a name=\"Adoption\"></a>"
   ]
  },
  {
   "cell_type": "markdown",
   "metadata": {},
   "source": [
    "### Drop the Adoption table if it already exists and remove its data from the S3 bucket"
   ]
  },
  {
   "cell_type": "code",
   "execution_count": 59,
   "metadata": {},
   "outputs": [],
   "source": [
    "drop_Adoption = f\"\"\"\n",
    "DROP TABLE IF EXISTS fcsq.Adoption;\n",
    "\"\"\"\n",
    "pydb.start_query_execution_and_wait(drop_Adoption)\n",
    "\n",
    "# clean up previous Adoption files\n",
    "bucket.objects.filter(Prefix=\"fcsq_processing/Adoption/Adoption/\").delete();"
   ]
  },
  {
   "cell_type": "markdown",
   "metadata": {},
   "source": [
    "### Create the Adoption table in Athena"
   ]
  },
  {
   "cell_type": "code",
   "execution_count": 60,
   "metadata": {},
   "outputs": [],
   "source": [
    "create_Adoption = f\"\"\"\n",
    "CREATE TABLE IF NOT EXISTS fcsq.Adoption\n",
    "WITH (format = 'PARQUET', external_location = 's3://alpha-family-data/fcsq_processing/Adoption/Adoption') AS\n",
    "SELECT\n",
    "  *\n",
    "FROM\n",
    " fcsq.ADOPT_APP\n",
    "UNION ALL\n",
    "SELECT\n",
    "  *\n",
    "FROM\n",
    "  fcsq.ADOPT_RESP\n",
    "UNION ALL\n",
    "SELECT\n",
    "  *\n",
    "FROM\n",
    "  fcsq.ADOPT_CASE\n",
    "UNION ALL\n",
    "SELECT\n",
    "  *\n",
    "FROM\n",
    "  fcsq.ADOPT_CASE_HEARINGS;\n",
    "\"\"\"\n",
    "\n",
    "pydb.start_query_execution_and_wait(create_Adoption);\n",
    "\n"
   ]
  },
  {
   "cell_type": "markdown",
   "metadata": {},
   "source": [
    "#### Adoption validation"
   ]
  },
  {
   "cell_type": "code",
   "execution_count": 61,
   "metadata": {},
   "outputs": [],
   "source": [
    "#Adoption_count = pydb.read_sql_query(\"select count(*) as count from fcsq.Adoption\")\n",
    "#Adoption_count"
   ]
  },
  {
   "cell_type": "code",
   "execution_count": 62,
   "metadata": {},
   "outputs": [],
   "source": [
    "#df = pydb.read_sql_query(\"SELECT * FROM fcsq.Adoption\")\n",
    "#df"
   ]
  },
  {
   "cell_type": "code",
   "execution_count": 63,
   "metadata": {},
   "outputs": [],
   "source": [
    "legrep_lookup = f\"\"\"\n",
    "SELECT\n",
    "case_type || '|' || cast(year as varchar(10)) || '|' || 'Q' || cast(quarter as varchar(1)) as lookup,\n",
    "case_type,\n",
    "year,\n",
    "cast(quarter as varchar(3)) as quarter,\n",
    "category,\n",
    "party,\n",
    "gender,\n",
    "representation,\n",
    "count\n",
    "from fcsq.adoption\n",
    "WHERE NOT (year = {latest_year} AND quarter = {latest_quarter})\n",
    "order by lookup\n",
    "\n",
    "\"\"\"\n",
    "pydb.create_temp_table(legrep_lookup,'legrep_lookup')\n",
    "\n",
    "#pydb.read_sql_query(\"SELECT * from __temp__.legrep_lookup\")"
   ]
  },
  {
   "cell_type": "code",
   "execution_count": 64,
   "metadata": {},
   "outputs": [],
   "source": [
    "legrep_with_annual = f\"\"\"\n",
    "SELECT\n",
    "* from __temp__.legrep_lookup\n",
    "UNION ALL\n",
    "SELECT \n",
    "lookup,\n",
    "case_type,\n",
    "year,\n",
    "quarter,\n",
    "category,\n",
    "party,\n",
    "gender,\n",
    "representation,\n",
    "sum(count) from\n",
    "(\n",
    "SELECT\n",
    "case_type || '|' || cast(year as varchar(10)) || '|' as lookup,\n",
    "case_type,\n",
    "year,\n",
    "'N/A' as quarter,\n",
    "category,\n",
    "party,\n",
    "gender,\n",
    "representation,\n",
    "count\n",
    "from __temp__.legrep_lookup where year<>{latest_year}\n",
    ")\n",
    "group by \n",
    "lookup,\n",
    "case_type,\n",
    "year,\n",
    "quarter,\n",
    "category,\n",
    "party,\n",
    "gender,\n",
    "representation\n",
    "order by lookup\n",
    "\"\"\"\n",
    "\n",
    "pydb.create_temp_table(legrep_with_annual,'legrep_with_annual')"
   ]
  },
  {
   "cell_type": "code",
   "execution_count": 65,
   "metadata": {
    "scrolled": true,
    "tags": []
   },
   "outputs": [],
   "source": [
    "legrep_cases = f\"\"\"\n",
    "SELECT lookup,\n",
    "sum(count) as cases\n",
    "from __temp__.legrep_with_annual\n",
    "where category='Cases'\n",
    "group by lookup\n",
    "order by lookup\n",
    "\"\"\"\n",
    "\n",
    "pydb.create_temp_table(legrep_cases,'legrep_cases')"
   ]
  },
  {
   "cell_type": "code",
   "execution_count": 66,
   "metadata": {
    "scrolled": true,
    "tags": []
   },
   "outputs": [],
   "source": [
    "legrep_hearing_cases = f\"\"\"\n",
    "SELECT lookup,\n",
    "sum(count) as cases_hearing\n",
    "from __temp__.legrep_with_annual\n",
    "where category='Cases with a hearing'\n",
    "group by lookup\n",
    "order by lookup\n",
    "\"\"\"\n",
    "pydb.create_temp_table(legrep_hearing_cases,'legrep_hearing_cases')\n"
   ]
  },
  {
   "cell_type": "code",
   "execution_count": 67,
   "metadata": {},
   "outputs": [],
   "source": [
    "legrep_app_rep = f\"\"\"\n",
    "SELECT lookup,\n",
    "sum(count) as app_rep\n",
    "from __temp__.legrep_with_annual\n",
    "where category='Party' and party = 'Applicant' and representation = 'Y'\n",
    "group by lookup\n",
    "order by lookup\n",
    "\"\"\"\n",
    "\n",
    "pydb.create_temp_table(legrep_app_rep,'legrep_app_rep')"
   ]
  },
  {
   "cell_type": "code",
   "execution_count": 68,
   "metadata": {},
   "outputs": [],
   "source": [
    "legrep_app_unrep = f\"\"\"\n",
    "SELECT lookup,\n",
    "sum(count) as app_unrep\n",
    "from __temp__.legrep_with_annual\n",
    "where category='Party' and party = 'Applicant' and representation = 'N'\n",
    "group by lookup\n",
    "order by lookup\n",
    "\"\"\"\n",
    "\n",
    "pydb.create_temp_table(legrep_app_unrep,'legrep_app_unrep')"
   ]
  },
  {
   "cell_type": "code",
   "execution_count": 69,
   "metadata": {
    "scrolled": true
   },
   "outputs": [],
   "source": [
    "legrep_res_rep = f\"\"\"\n",
    "SELECT lookup,\n",
    "sum(count) as res_rep\n",
    "from __temp__.legrep_with_annual\n",
    "where category='Party' and party = 'Respondent' and representation = 'Y'\n",
    "group by lookup\n",
    "order by lookup\n",
    "\"\"\"\n",
    "\n",
    "pydb.create_temp_table(legrep_res_rep,'legrep_res_rep')"
   ]
  },
  {
   "cell_type": "code",
   "execution_count": 70,
   "metadata": {},
   "outputs": [],
   "source": [
    "legrep_res_unrep = f\"\"\"\n",
    "SELECT lookup,\n",
    "sum(count) as res_unrep\n",
    "from __temp__.legrep_with_annual\n",
    "where category='Party' and party = 'Respondent' and representation = 'N'\n",
    "group by lookup\n",
    "order by lookup\n",
    "\"\"\"\n",
    "\n",
    "pydb.create_temp_table(legrep_res_unrep,'legrep_res_unrep')"
   ]
  },
  {
   "cell_type": "code",
   "execution_count": 71,
   "metadata": {},
   "outputs": [],
   "source": [
    "legrep_total_parties = f\"\"\"\n",
    "SELECT lookup,\n",
    "sum(count) as total_parties\n",
    "from __temp__.legrep_with_annual\n",
    "where category='Party'\n",
    "group by lookup\n",
    "order by lookup\n",
    "\"\"\"\n",
    "\n",
    "pydb.create_temp_table(legrep_total_parties,'legrep_total_parties')"
   ]
  },
  {
   "cell_type": "code",
   "execution_count": 72,
   "metadata": {
    "scrolled": true
   },
   "outputs": [],
   "source": [
    "legrep_final_output = f\"\"\"\n",
    "SELECT\n",
    "t1.lookup,\n",
    "t1.cases,\n",
    "t2.cases_hearing,\n",
    "t3.app_rep,\n",
    "t4.app_unrep,\n",
    "t5.res_rep,\n",
    "t6.res_unrep,\n",
    "t7.total_parties\n",
    "\n",
    "from\n",
    "((((((__temp__.legrep_cases t1 \n",
    "INNER JOIN\n",
    "__temp__.legrep_hearing_cases t2\n",
    "ON \n",
    "t1.lookup = t2.lookup)\n",
    "\n",
    "INNER JOIN \n",
    "__temp__.legrep_app_rep t3\n",
    "ON \n",
    "t1.lookup = t3.lookup)\n",
    "\n",
    "INNER JOIN \n",
    "__temp__.legrep_app_unrep t4\n",
    "ON \n",
    "t1.lookup = t4.lookup)\n",
    "\n",
    "INNER JOIN \n",
    "__temp__.legrep_res_rep t5\n",
    "ON \n",
    "t1.lookup = t5.lookup)\n",
    "\n",
    "INNER JOIN \n",
    "__temp__.legrep_res_unrep t6\n",
    "ON \n",
    "t1.lookup = t6.lookup)\n",
    "\n",
    "INNER JOIN \n",
    "__temp__.legrep_total_parties t7\n",
    "ON \n",
    "t1.lookup = t7.lookup)\n",
    "\"\"\"\n",
    "\n",
    "df = pydb.read_sql_query(legrep_final_output)\n",
    "\n",
    "df.to_csv(path_or_buf = 's3://alpha-family-data/CSVs/Adoption/adoption_legrep.csv',index=False)"
   ]
  },
  {
   "cell_type": "markdown",
   "metadata": {},
   "source": [
    "## 24. Applicant_representation table - creates a table showing whether all, some, or none of the applicants for a case have representation\n",
    "<a name=\"Applicant_representation\"></a>"
   ]
  },
  {
   "cell_type": "markdown",
   "metadata": {},
   "source": [
    "### Drop the Applicant_representation table if it already exists and remove its data from the S3 bucket"
   ]
  },
  {
   "cell_type": "code",
   "execution_count": 73,
   "metadata": {},
   "outputs": [],
   "source": [
    "drop_Applicant_representation = f\"\"\"\n",
    "DROP TABLE IF EXISTS fcsq.Applicant_representation;\n",
    "\"\"\"\n",
    "pydb.start_query_execution_and_wait(drop_Applicant_representation)\n",
    "\n",
    "# clean up previous Applicant_representation files\n",
    "bucket.objects.filter(Prefix=\"fcsq_processing/Adoption/Applicant_representation/\").delete();"
   ]
  },
  {
   "cell_type": "markdown",
   "metadata": {},
   "source": [
    "### Create the Applicant_representation table in Athena"
   ]
  },
  {
   "cell_type": "code",
   "execution_count": 74,
   "metadata": {},
   "outputs": [],
   "source": [
    "create_applicants_1 = f\"\"\"\n",
    "SELECT Distinct t1.Case_Number, t1.Party, MAX(t1.Representative_Role) as Max_Rep_Role\n",
    "FROM fcsq.Adopt_Applicant_Info t1\n",
    "Group by Case_Number, Party;\n",
    "\"\"\"\n",
    "\n",
    "pydb.create_temp_table(create_applicants_1,'applicants_1')\n",
    "\n",
    "create_applicants_2 = f\"\"\"\n",
    "SELECT  t1.*,\n",
    "case when Max_Rep_Role IS NULL then 0\n",
    "else 1\n",
    "end as Rep_IND\n",
    "FROM __temp__.Applicants_1 t1;\n",
    "\"\"\"\n",
    "pydb.create_temp_table(create_applicants_2,'applicants_2')\n",
    "\n",
    "create_applicants_3 = f\"\"\"\n",
    "SELECT Distinct t1.Case_Number,\n",
    "Count(t1.Party) as CountOfParty,\n",
    "SUM(t1.Rep_Ind) as SumOfRep_IND\n",
    "FROM __temp__.Applicants_2 t1\n",
    "Group by Case_Number;\n",
    "\"\"\"\n",
    "pydb.create_temp_table(create_applicants_3,'applicants_3')\n",
    "\n",
    "create_Applicant_representation = f\"\"\"\n",
    "CREATE TABLE IF NOT EXISTS fcsq.Applicant_representation\n",
    "WITH (format = 'PARQUET', external_location = 's3://alpha-family-data/fcsq_processing/Adoption/Applicant_representation') AS\n",
    "SELECT t1.Case_Number,\n",
    "t1.CountOfParty,\n",
    "t1.SumOfRep_IND,\n",
    "CASE WHEN t1.SumOfRep_Ind > t1.CountOfParty then 'Error'\n",
    "WHEN t1.SumOfRep_Ind = t1.CountOfParty then 'All'\n",
    "WHEN t1.SumOfRep_Ind =0 then 'None' else 'Some'  end as App_Rep_Cat\n",
    "FROM __temp__.Applicants_3 t1;\n",
    "\"\"\"\n",
    "\n",
    "pydb.start_query_execution_and_wait(create_Applicant_representation);\n",
    "\n"
   ]
  },
  {
   "cell_type": "markdown",
   "metadata": {},
   "source": [
    "#### Applicant_representation validation"
   ]
  },
  {
   "cell_type": "code",
   "execution_count": 75,
   "metadata": {},
   "outputs": [],
   "source": [
    "#Applicant_representation_count = pydb.read_sql_query(\"select count(*) as count from fcsq.Applicant_representation\")\n",
    "#Applicant_representation_count"
   ]
  },
  {
   "cell_type": "markdown",
   "metadata": {},
   "source": [
    "## 25. Respondent_Representation table - creates a table showing whether all, some, or none of the respondents for a case have representation\n",
    "<a name=\"Respondent_representation\"></a>"
   ]
  },
  {
   "cell_type": "markdown",
   "metadata": {},
   "source": [
    "### Drop the Respondent_Representation table if it already exists and remove its data from the S3 bucket"
   ]
  },
  {
   "cell_type": "code",
   "execution_count": 76,
   "metadata": {
    "scrolled": true
   },
   "outputs": [],
   "source": [
    "drop_Respondent_Representation = f\"\"\"\n",
    "DROP TABLE IF EXISTS fcsq.Respondent_Representation;\n",
    "\"\"\"\n",
    "pydb.start_query_execution_and_wait(drop_Respondent_Representation)\n",
    "\n",
    "# clean up previous Respondent_Representation files\n",
    "bucket.objects.filter(Prefix=\"fcsq_processing/Adoption/Respondent_Representation/\").delete();"
   ]
  },
  {
   "cell_type": "markdown",
   "metadata": {},
   "source": [
    "### Create the Respondent_Representation table in Athena"
   ]
  },
  {
   "cell_type": "code",
   "execution_count": 77,
   "metadata": {},
   "outputs": [],
   "source": [
    "create_respondents_1 = f\"\"\"\n",
    "SELECT Distinct t1.Case_Number, t1.Party, MAX(t1.Representative_Role) as Max_Rep_Role\n",
    "FROM fcsq.Adopt_Respondent_Info t1\n",
    "Group by Case_Number, Party;\n",
    "\"\"\"\n",
    "\n",
    "pydb.create_temp_table(create_respondents_1,'respondents_1')\n",
    "\n",
    "create_respondents_2 = f\"\"\"\n",
    "SELECT  t1.*,\n",
    "case when Max_Rep_Role IS NULL then 0\n",
    "else 1\n",
    "end as Rep_IND\n",
    "FROM __temp__.respondents_1 t1;\n",
    "\"\"\"\n",
    "pydb.create_temp_table(create_respondents_2,'respondents_2')\n",
    "\n",
    "create_respondents_3 = f\"\"\"\n",
    "SELECT Distinct t1.Case_Number,\n",
    "Count(t1.Party) as CountOfParty,\n",
    "SUM(t1.Rep_Ind) as SumOfRep_IND\n",
    "FROM __temp__.respondents_2 t1\n",
    "Group by Case_Number;\n",
    "\"\"\"\n",
    "pydb.create_temp_table(create_respondents_3,'respondents_3')\n",
    "\n",
    "create_Respondent_Representation = f\"\"\"\n",
    "CREATE TABLE IF NOT EXISTS fcsq.Respondent_Representation\n",
    "WITH (format = 'PARQUET', external_location = 's3://alpha-family-data/fcsq_processing/Adoption/Respondent_Representation') AS\n",
    "SELECT t1.Case_Number,\n",
    "t1.CountOfParty,\n",
    "t1.SumOfRep_IND,\n",
    "CASE WHEN t1.SumOfRep_Ind > t1.CountOfParty then 'Error'\n",
    "WHEN t1.SumOfRep_Ind = t1.CountOfParty then 'All'\n",
    "WHEN t1.SumOfRep_Ind =0 then 'None' else 'Some'  end as Res_Rep_Cat\n",
    "FROM __temp__.Respondents_3 t1\n",
    "\"\"\"\n",
    "\n",
    "pydb.start_query_execution_and_wait(create_Respondent_Representation);\n",
    "\n"
   ]
  },
  {
   "cell_type": "markdown",
   "metadata": {},
   "source": [
    "#### Respondent_Representation validation"
   ]
  },
  {
   "cell_type": "code",
   "execution_count": 78,
   "metadata": {},
   "outputs": [],
   "source": [
    "#Respondent_Representation_count = pydb.read_sql_query(\"select count(*) as count from fcsq.Respondent_Representation\")\n",
    "#Respondent_Representation_count"
   ]
  },
  {
   "cell_type": "markdown",
   "metadata": {
    "tags": []
   },
   "source": [
    "## 26. Adopt_Disposals_Final table - joins the adopt_apps_and_orders_match table and the representation tables, joining timeliness and legal representation data for a case together\n",
    "<a name=\"Adopt_Disposals_Final\"></a>"
   ]
  },
  {
   "cell_type": "code",
   "execution_count": 121,
   "metadata": {},
   "outputs": [],
   "source": [
    "create_ADOPT_APP_AND_ORDERS_WITH_REP = f\"\"\"\n",
    "SELECT t1.*,\n",
    "t2.APP_REP_CAT, \n",
    "t3.RES_REP_CAT\n",
    "FROM fcsq.ADOPT_APPS_AND_ORDERS_MATCH AS t1\n",
    "LEFT JOIN fcsq.Applicant_Representation AS t2 ON (t1.CASE_NUMBER = t2.CASE_NUMBER)\n",
    "LEFT JOIN fcsq.RESPONDENT_REPRESENTATION as t3 ON t1.CASE_NUMBER = t3.CASE_NUMBER;\n",
    "\"\"\"\n",
    "pydb.create_temp_table(create_ADOPT_APP_AND_ORDERS_WITH_REP,'ADOPT_APP_AND_ORDERS_WITH_REP')"
   ]
  },
  {
   "cell_type": "code",
   "execution_count": 80,
   "metadata": {
    "tags": []
   },
   "outputs": [],
   "source": [
    "#pydb.read_sql_query(\"SELECT Count(*) as COUNT from __temp__.adopt_app_and_orders_with_rep\")"
   ]
  },
  {
   "cell_type": "code",
   "execution_count": 136,
   "metadata": {},
   "outputs": [],
   "source": [
    "create_Adopt_Disposals_Final = f\"\"\"\n",
    "SELECT t1.*,\n",
    "t2.Region_Pre2014, \n",
    "t2.Region,\n",
    "cast(t1.Year as varchar(3)) || '-Q' || cast(t1.quarter as varchar(3)) AS Quarter2, \n",
    "case when (t1.APP_REP_CAT Is Null Or t1.RES_REP_CAT Is Null)  then '5 Unknown'\n",
    "    when t1.APP_REP_CAT='None' and t1.RES_REP_CAT ='None' then '4 Neither'\n",
    "    when t1.APP_REP_CAT='None' and t1.RES_REP_CAT != 'None' then '3 Respondent Only'\n",
    "    when t1.APP_REP_CAT != 'None' and t1.RES_REP_CAT = 'None' then '2 Applicant Only'\n",
    "Else '1 Both'\n",
    "End AS REP_CAT,\n",
    "Case when t1.YEAR < 2014 then t2.Region_Pre2014\n",
    "Else t2.Region\n",
    "End As Final_Region\n",
    "\n",
    "FROM __temp__.ADOPT_APP_AND_ORDERS_WITH_REP AS t1 LEFT JOIN fcsq.COURT_MV_FEB21_DFJ as t2\n",
    "ON t1.DSP_COURT = cast(t2.Code as varchar(3));\n",
    "\n",
    "\"\"\"\n",
    "\n",
    "pydb.create_temp_table(create_Adopt_Disposals_Final,'Adopt_Disposals_Final')\n",
    "\n",
    "\n",
    "create_Adopt_Disposals_Final_2 = f\"\"\"\n",
    "SELECT *\n",
    "FROM __temp__.ADOPT_DISPOSALS_FINAL\n",
    "WHERE adoption = 'Adoption';\n",
    "\"\"\"\n",
    "\n",
    "pydb.create_temp_table(create_Adopt_Disposals_Final_2,'Adopt_Disposals_Final_2')\n",
    "\n"
   ]
  },
  {
   "cell_type": "markdown",
   "metadata": {},
   "source": [
    "#### Adopt_Disposals_Final validation"
   ]
  },
  {
   "cell_type": "code",
   "execution_count": 82,
   "metadata": {},
   "outputs": [],
   "source": [
    "#Adopt_Disposals_Final_count = pydb.read_sql_query(\"select count(*) as count from __temp__.Adopt_Disposals_Final_2\")\n",
    "#Adopt_Disposals_Final_count"
   ]
  },
  {
   "cell_type": "markdown",
   "metadata": {},
   "source": [
    "## 27. Adopt_Quarterly table - groups the disposals_final table by quarter, providing a total and mean wait_weeks per quarter\n",
    "<a name=\"Adopt_Quarterly\"></a>"
   ]
  },
  {
   "cell_type": "markdown",
   "metadata": {},
   "source": [
    "### Drop the Adopt_Quarterly table if it already exists and remove its data from the S3 bucket"
   ]
  },
  {
   "cell_type": "code",
   "execution_count": 83,
   "metadata": {
    "scrolled": true
   },
   "outputs": [],
   "source": [
    "drop_Adopt_Quarterly = f\"\"\"\n",
    "DROP TABLE IF EXISTS fcsq.Adopt_Quarterly;\n",
    "\"\"\"\n",
    "pydb.start_query_execution_and_wait(drop_Adopt_Quarterly)\n",
    "\n",
    "# clean up previous Adopt_Quarterly files\n",
    "bucket.objects.filter(Prefix=\"fcsq_processing/Adoption/Adopt_Quarterly/\").delete();"
   ]
  },
  {
   "cell_type": "markdown",
   "metadata": {},
   "source": [
    "### Create the Adopt_Quarterly table in Athena"
   ]
  },
  {
   "cell_type": "code",
   "execution_count": 84,
   "metadata": {},
   "outputs": [
    {
     "data": {
      "text/plain": [
       "{'QueryExecutionId': 'b6558481-1fa0-449f-ada5-5743e124e6af',\n",
       " 'Query': \"CREATE TABLE IF NOT EXISTS fcsq.Adopt_Quarterly\\nWITH (format = 'PARQUET', external_location = 's3://alpha-family-data/fcsq_processing/Adoption/Adopt_Quarterly') AS\\nSELECT DISTINCT\\n        'Adoption' as type,\\n        year,\\n        'Q' || cast(quarter as varchar(3)) AS quarter,\\n        rep_cat,\\n        count(*) as n,\\n        avg(wait_weeks) as mean\\n    FROM \\n        mojap_de_temp_alpha_user_jdlv500.ADOPT_DISPOSALS_FINAL_2\\n    WHERE year > 2010\\n    AND adoption='Adoption' \\n    AND NOT (year = 2022 AND quarter = 3)\\nGROUP BY\\n    year,\\n    quarter,\\n    rep_cat\\n    \\nUNION ALL\\nSELECT DISTINCT\\n        'Adoption' as type,\\n        year,\\n        'Q' || cast(quarter as varchar(3)) AS quarter,\\n        'All' as rep_cat,\\n        count(*) as n,\\n        avg(wait_weeks) as mean\\n    FROM \\n        mojap_de_temp_alpha_user_jdlv500.ADOPT_DISPOSALS_FINAL_2\\n    WHERE year > 2010 \\n    AND adoption='Adoption' \\n    AND NOT (year = 2022 AND quarter = 3)\\nGROUP BY\\n    year,\\n    quarter\",\n",
       " 'StatementType': 'DDL',\n",
       " 'ResultConfiguration': {'OutputLocation': 's3://aws-athena-query-results-593291632749-eu-west-1/tables/b6558481-1fa0-449f-ada5-5743e124e6af'},\n",
       " 'QueryExecutionContext': {},\n",
       " 'Status': {'State': 'SUCCEEDED',\n",
       "  'SubmissionDateTime': datetime.datetime(2022, 11, 14, 15, 24, 1, 310000, tzinfo=tzlocal()),\n",
       "  'CompletionDateTime': datetime.datetime(2022, 11, 14, 15, 24, 3, 277000, tzinfo=tzlocal())},\n",
       " 'Statistics': {'EngineExecutionTimeInMillis': 1813,\n",
       "  'DataScannedInBytes': 561295,\n",
       "  'DataManifestLocation': 's3://aws-athena-query-results-593291632749-eu-west-1/tables/b6558481-1fa0-449f-ada5-5743e124e6af-manifest.csv',\n",
       "  'TotalExecutionTimeInMillis': 1967,\n",
       "  'QueryQueueTimeInMillis': 119,\n",
       "  'QueryPlanningTimeInMillis': 155,\n",
       "  'ServiceProcessingTimeInMillis': 35},\n",
       " 'WorkGroup': 'primary',\n",
       " 'EngineVersion': {'SelectedEngineVersion': 'Athena engine version 2',\n",
       "  'EffectiveEngineVersion': 'Athena engine version 2'}}"
      ]
     },
     "execution_count": 84,
     "metadata": {},
     "output_type": "execute_result"
    }
   ],
   "source": [
    "create_Adopt_Quarterly = f\"\"\"\n",
    "CREATE TABLE IF NOT EXISTS fcsq.Adopt_Quarterly\n",
    "WITH (format = 'PARQUET', external_location = 's3://alpha-family-data/fcsq_processing/Adoption/Adopt_Quarterly') AS\n",
    "SELECT DISTINCT\n",
    "        'Adoption' as type,\n",
    "        year,\n",
    "        'Q' || cast(quarter as varchar(3)) AS quarter,\n",
    "        rep_cat,\n",
    "        count(*) as n,\n",
    "        avg(wait_weeks) as mean\n",
    "    FROM \n",
    "        __temp__.ADOPT_DISPOSALS_FINAL_2\n",
    "    WHERE year > 2010\n",
    "    AND adoption='Adoption' \n",
    "    AND NOT (year = {latest_year} AND quarter = {latest_quarter})\n",
    "GROUP BY\n",
    "    year,\n",
    "    quarter,\n",
    "    rep_cat\n",
    "    \n",
    "UNION ALL\n",
    "SELECT DISTINCT\n",
    "        'Adoption' as type,\n",
    "        year,\n",
    "        'Q' || cast(quarter as varchar(3)) AS quarter,\n",
    "        'All' as rep_cat,\n",
    "        count(*) as n,\n",
    "        avg(wait_weeks) as mean\n",
    "    FROM \n",
    "        __temp__.ADOPT_DISPOSALS_FINAL_2\n",
    "    WHERE year > 2010 \n",
    "    AND adoption='Adoption' \n",
    "    AND NOT (year = {latest_year} AND quarter = {latest_quarter})\n",
    "GROUP BY\n",
    "    year,\n",
    "    quarter\n",
    "\"\"\"\n",
    "\n",
    "\n",
    "pydb.start_query_execution_and_wait(create_Adopt_Quarterly)"
   ]
  },
  {
   "cell_type": "markdown",
   "metadata": {},
   "source": [
    "#### Adopt_Quarterly validation"
   ]
  },
  {
   "cell_type": "code",
   "execution_count": 85,
   "metadata": {},
   "outputs": [],
   "source": [
    "#Adopt_Quarterly_count = pydb.read_sql_query(\"select count(*) as count from fcsq.Adopt_Quarterly\")\n",
    "#Adopt_Quarterly_count"
   ]
  },
  {
   "cell_type": "markdown",
   "metadata": {},
   "source": [
    "## 28. Adopt_Annual table - groups the disposals_final table annually, providing a total and mean wait_weeks annually\n",
    "<a name=\"Adopt_Annual\"></a>"
   ]
  },
  {
   "cell_type": "markdown",
   "metadata": {},
   "source": [
    "### Drop the Adopt_Annual table if it already exists and remove its data from the S3 bucket"
   ]
  },
  {
   "cell_type": "code",
   "execution_count": 86,
   "metadata": {},
   "outputs": [],
   "source": [
    "drop_Adopt_Annual = f\"\"\"\n",
    "DROP TABLE IF EXISTS fcsq.Adopt_Annual;\n",
    "\"\"\"\n",
    "pydb.start_query_execution_and_wait(drop_Adopt_Annual)\n",
    "\n",
    "# clean up previous Adopt_Annual files\n",
    "bucket.objects.filter(Prefix=\"fcsq_processing/Adoption/Adopt_Annual/\").delete();"
   ]
  },
  {
   "cell_type": "markdown",
   "metadata": {},
   "source": [
    "### Create the Adopt_Annual table in Athena"
   ]
  },
  {
   "cell_type": "code",
   "execution_count": 87,
   "metadata": {},
   "outputs": [],
   "source": [
    "create_Adopt_Annual = f\"\"\"\n",
    "CREATE TABLE IF NOT EXISTS fcsq.Adopt_Annual\n",
    "WITH (format = 'PARQUET', external_location = 's3://alpha-family-data/fcsq_processing/Adoption/Adopt_Annual') AS\n",
    "SELECT DISTINCT\n",
    "        'Adoption' as type,\n",
    "        year,\n",
    "        'N/A' as quarter,\n",
    "        rep_cat,\n",
    "        count(*) as n,\n",
    "        avg(wait_weeks) as mean\n",
    "    FROM \n",
    "        __temp__.ADOPT_DISPOSALS_FINAL_2\n",
    "    WHERE year > 2010 \n",
    "    AND year < {latest_year}\n",
    "    AND adoption='Adoption'\n",
    "GROUP BY\n",
    "    year,\n",
    "    rep_cat\n",
    "    \n",
    "UNION ALL\n",
    "SELECT DISTINCT\n",
    "        'Adoption' as type,\n",
    "        year,\n",
    "        'N/A' as quarter,\n",
    "        'All' as rep_cat,\n",
    "        count(*) as n,\n",
    "        avg(wait_weeks) as mean\n",
    "    FROM \n",
    "        __temp__.ADOPT_DISPOSALS_FINAL_2\n",
    "    WHERE year > 2010 \n",
    "    AND year < {latest_year}\n",
    "    AND adoption='Adoption'\n",
    "GROUP BY\n",
    "    year\n",
    "\"\"\"\n",
    "\n",
    "pydb.start_query_execution_and_wait(create_Adopt_Annual);\n",
    "\n"
   ]
  },
  {
   "cell_type": "markdown",
   "metadata": {},
   "source": [
    "#### Adopt_Annual validation"
   ]
  },
  {
   "cell_type": "code",
   "execution_count": 88,
   "metadata": {
    "scrolled": true
   },
   "outputs": [],
   "source": [
    "#Adopt_Annual_count = pydb.read_sql_query(\"select count(*) as count from fcsq.Adopt_Annual\")\n",
    "#Adopt_Annual_count"
   ]
  },
  {
   "cell_type": "markdown",
   "metadata": {
    "tags": []
   },
   "source": [
    "## 29. Adopt_time_regional table - groups the disposals_final table regionally, providing a total, mean, and median wait_weeks\n",
    "<a name=\"Adopt_time_regional\"></a>"
   ]
  },
  {
   "cell_type": "markdown",
   "metadata": {},
   "source": [
    "### Drop the Adopt_time_regional table if it already exists and remove its data from the S3 bucket"
   ]
  },
  {
   "cell_type": "code",
   "execution_count": 194,
   "metadata": {},
   "outputs": [],
   "source": [
    "drop_Adopt_time_regional = f\"\"\"\n",
    "DROP TABLE IF EXISTS fcsq.adopt_time_regional;\n",
    "\"\"\"\n",
    "pydb.start_query_execution_and_wait(drop_Adopt_time_regional)\n",
    "\n",
    "# clean up previous Adopt_time_regional files\n",
    "bucket.objects.filter(Prefix=\"fcsq_processing/Adoption/adopt_time_regional/\").delete();"
   ]
  },
  {
   "cell_type": "markdown",
   "metadata": {},
   "source": [
    "### Create the Adopt_time_regional table in Athena"
   ]
  },
  {
   "cell_type": "code",
   "execution_count": 195,
   "metadata": {
    "tags": []
   },
   "outputs": [],
   "source": [
    "create_adopt_time_regional = f\"\"\"\n",
    "CREATE TABLE IF NOT EXISTS fcsq.adopt_time_regional\n",
    "WITH (format = 'PARQUET', external_location = 's3://alpha-family-data/fcsq_processing/Adoption/adopt_time_regional') AS\n",
    "SELECT  Final_Region,\n",
    "        Rep_Cat,\n",
    "        Quarter2,\n",
    "        count(*) as Number_of_Cases,\n",
    "        ROUND(avg(wait_weeks), 1) as Mean_duration,\n",
    "       (CASE WHEN COUNT(*) % 2 = 0\n",
    "        THEN (MAX(CASE WHEN tile2 = 1 THEN wait_weeks END) +\n",
    "                 MIN(CASE WHEN tile2 = 2 THEN wait_weeks END)\n",
    "                  ) / 2.0\n",
    "        ELSE MAX(CASE WHEN tile2 = 1 THEN wait_weeks END)\n",
    "    END) as median\n",
    "    FROM (SELECT d.*, NTILE(2) OVER (PARTITION BY Final_Region, Rep_Cat, Quarter2 ORDER BY wait_weeks) as tile2\n",
    "FROM __temp__.Adopt_Disposals_Final_2 d\n",
    "WHERE year > 2010\n",
    ") d\n",
    "GROUP BY Final_Region,\n",
    "Quarter2, Rep_Cat\n",
    "\n",
    "ORDER BY Final_Region,\n",
    "Quarter2, Rep_Cat;\n",
    "\"\"\"\n",
    "\n",
    "pydb.start_query_execution_and_wait(create_adopt_time_regional);"
   ]
  },
  {
   "cell_type": "markdown",
   "metadata": {},
   "source": [
    "#### Adopt_time_regional validation"
   ]
  },
  {
   "cell_type": "code",
   "execution_count": 196,
   "metadata": {},
   "outputs": [],
   "source": [
    "#adopt_time_regional_count = pydb.read_sql_query(\"select count(*) as count from fcsq.adopt_time_regional\")\n",
    "#adopt_time_regional_count"
   ]
  },
  {
   "cell_type": "markdown",
   "metadata": {
    "tags": []
   },
   "source": [
    "## 30. Adopt_time_national table - groups the disposals_final table nationally, providing a total, mean, and median wait_weeks\n",
    "<a name=\"Adopt_time_national\"></a>"
   ]
  },
  {
   "cell_type": "markdown",
   "metadata": {},
   "source": [
    "### Drop the Adopt_time_national table if it already exists and remove its data from the S3 bucket"
   ]
  },
  {
   "cell_type": "code",
   "execution_count": 198,
   "metadata": {},
   "outputs": [],
   "source": [
    "drop_Adopt_time_national = f\"\"\"\n",
    "DROP TABLE IF EXISTS fcsq.adopt_time_national;\n",
    "\"\"\"\n",
    "pydb.start_query_execution_and_wait(drop_Adopt_time_national)\n",
    "\n",
    "# clean up previous Adopt_time_national files\n",
    "bucket.objects.filter(Prefix=\"fcsq_processing/Adoption/adopt_time_national/\").delete();"
   ]
  },
  {
   "cell_type": "markdown",
   "metadata": {},
   "source": [
    "### Create the Adopt_time_national table in Athena"
   ]
  },
  {
   "cell_type": "code",
   "execution_count": 199,
   "metadata": {},
   "outputs": [],
   "source": [
    "create_adopt_time_national = f\"\"\"\n",
    "CREATE TABLE IF NOT EXISTS fcsq.adopt_time_national\n",
    "WITH (format = 'PARQUET', external_location = 's3://alpha-family-data/fcsq_processing/Adoption/adopt_time_national') AS\n",
    "SELECT Rep_Cat, \n",
    "    Quarter2,\n",
    "    count(*) as Number_of_Cases,\n",
    "    ROUND(avg(wait_weeks), 1) as Mean_duration,\n",
    "    (CASE WHEN COUNT(*) % 2 = 0\n",
    "        THEN (MAX(CASE WHEN tile2 = 1 THEN wait_weeks END) +\n",
    "                 MIN(CASE WHEN tile2 = 2 THEN wait_weeks END)\n",
    "                  ) / 2.0\n",
    "        ELSE MAX(CASE WHEN tile2 = 1 THEN wait_weeks END)\n",
    "    END) as median\n",
    "    FROM (SELECT d.*, NTILE(2) OVER (PARTITION BY Rep_Cat, Quarter2 ORDER BY wait_weeks) as tile2\n",
    "FROM __temp__.Adopt_Disposals_Final_2 d\n",
    "WHERE year > 2010\n",
    ") d\n",
    "GROUP BY Quarter2, Rep_Cat\n",
    "\n",
    "ORDER BY Quarter2, Rep_Cat;\n",
    "\"\"\"\n",
    "\n",
    "pydb.start_query_execution_and_wait(create_adopt_time_national);"
   ]
  },
  {
   "cell_type": "markdown",
   "metadata": {},
   "source": [
    "#### Adopt_time_national validation"
   ]
  },
  {
   "cell_type": "code",
   "execution_count": 201,
   "metadata": {},
   "outputs": [],
   "source": [
    "#adopt_time_national_count = pydb.read_sql_query(\"select count(*) as count from fcsq.adopt_time_national\")\n",
    "#adopt_time_national_count"
   ]
  },
  {
   "cell_type": "markdown",
   "metadata": {},
   "source": [
    "## 31. adopt_timeliness table - groups the disposals_final table regionally and nationally, providing a total, mean, and median wait_weeks\n",
    "<a name=\"Adopt_timeliness\"></a>"
   ]
  },
  {
   "cell_type": "markdown",
   "metadata": {},
   "source": [
    "### Drop the adopt_timeliness table if it already exists and remove its data from the S3 bucket"
   ]
  },
  {
   "cell_type": "code",
   "execution_count": 206,
   "metadata": {},
   "outputs": [],
   "source": [
    "drop_adopt_timeliness = f\"\"\"\n",
    "DROP TABLE IF EXISTS fcsq.adopt_timeliness;\n",
    "\"\"\"\n",
    "pydb.start_query_execution_and_wait(drop_adopt_timeliness)\n",
    "\n",
    "# clean up previous adopt_timeliness files\n",
    "bucket.objects.filter(Prefix=\"fcsq_processing/Adoption/adopt_timeliness/\").delete();"
   ]
  },
  {
   "cell_type": "markdown",
   "metadata": {},
   "source": [
    "### Create the adopt_timeliness table in Athena"
   ]
  },
  {
   "cell_type": "code",
   "execution_count": 207,
   "metadata": {},
   "outputs": [],
   "source": [
    "create_adopt_timeliness = f\"\"\"\n",
    "CREATE TABLE IF NOT EXISTS fcsq.adopt_timeliness\n",
    "WITH (format = 'PARQUET', external_location = 's3://alpha-family-data/fcsq_processing/Adoption/adopt_timeliness/') AS\n",
    "select 'Adoption' AS Case_Type,\n",
    "Final_Region as Region, Rep_Cat as Representation, Quarter2 as Quarter,\n",
    "Number_of_Cases, \n",
    "Mean_duration, \n",
    "ROUND(Median, 1) AS Median_duration\n",
    "from fcsq.adopt_time_regional\n",
    "\n",
    "UNION ALL\n",
    "select 'Adoption' AS Case_Type,\n",
    "'England & Wales' as Region, Rep_Cat as Representation, Quarter2 as Quarter,\n",
    "Number_of_Cases,\n",
    "Mean_duration, \n",
    "ROUND(Median, 1) AS Median_duration\n",
    "from fcsq.adopt_time_national\n",
    "\"\"\"\n",
    "\n",
    "\n",
    "pydb.start_query_execution_and_wait(create_adopt_timeliness);"
   ]
  },
  {
   "cell_type": "markdown",
   "metadata": {},
   "source": [
    "#### adopt_timeliness validation"
   ]
  },
  {
   "cell_type": "code",
   "execution_count": 208,
   "metadata": {},
   "outputs": [],
   "source": [
    "#adopt_timeliness_count = pydb.read_sql_query(\"select * from fcsq.adopt_timeliness\")\n",
    "#adopt_timeliness_count"
   ]
  },
  {
   "cell_type": "code",
   "execution_count": 209,
   "metadata": {},
   "outputs": [],
   "source": [
    "timeliness_output =f\"\"\"\n",
    "SELECT *\n",
    "FROM fcsq.adopt_timeliness\n",
    "WHERE NOT (quarter = '{latest_year}-Q{latest_quarter}')\n",
    "ORDER BY region, representation, quarter;\n",
    "\"\"\"\n",
    "\n",
    "df = pydb.read_sql_query(timeliness_output)\n",
    "df.to_csv(path_or_buf = 's3://alpha-family-data/CSVs/Adoption/adopt_csv_timeliness.csv',index=False)"
   ]
  },
  {
   "cell_type": "markdown",
   "metadata": {},
   "source": [
    "## 32. adopt_timeliness_combined table - combines and orders the annual and quarterly timeliness data \n",
    "<a name=\"Adopt_timeliness_combined\"></a>"
   ]
  },
  {
   "cell_type": "markdown",
   "metadata": {},
   "source": [
    "### Drop the adopt_timeliness_combined table if it already exists and remove its data from the S3 bucket"
   ]
  },
  {
   "cell_type": "code",
   "execution_count": 100,
   "metadata": {},
   "outputs": [],
   "source": [
    "drop_adopt_timeliness_combined = f\"\"\"\n",
    "DROP TABLE IF EXISTS fcsq.adopt_timeliness_combined;\n",
    "\"\"\"\n",
    "pydb.start_query_execution_and_wait(drop_adopt_timeliness_combined)\n",
    "\n",
    "# clean up previous adopt_timeliness_combined files\n",
    "bucket.objects.filter(Prefix=\"fcsq_processing/Adoption/adopt_timeliness_combined/\").delete();"
   ]
  },
  {
   "cell_type": "markdown",
   "metadata": {},
   "source": [
    "### Create the adopt_timeliness_combined table in Athena"
   ]
  },
  {
   "cell_type": "code",
   "execution_count": null,
   "metadata": {
    "tags": []
   },
   "outputs": [],
   "source": [
    "create_adopt_timeliness_combined = f\"\"\"\n",
    "CREATE TABLE IF NOT EXISTS fcsq.adopt_timeliness_combined\n",
    "WITH (format = 'PARQUET', external_location = 's3://alpha-family-data/fcsq_processing/Adoption/adopt_timeliness_combined') AS\n",
    "SELECT * FROM fcsq.Adopt_Annual \n",
    "UNION ALL \n",
    "SELECT * FROM fcsq.Adopt_Quarterly ORDER BY type,year,quarter,rep_cat\n",
    "\"\"\"\n",
    "\n",
    "pydb.start_query_execution_and_wait(create_adopt_timeliness_combined);\n",
    "\n"
   ]
  },
  {
   "cell_type": "markdown",
   "metadata": {},
   "source": [
    "#### adopt_timeliness_combined validation"
   ]
  },
  {
   "cell_type": "code",
   "execution_count": null,
   "metadata": {},
   "outputs": [],
   "source": [
    "#adopt_timeliness_combined_count = pydb.read_sql_query(\"select count(*) as count from fcsq.adopt_timeliness_combined\")\n",
    "#adopt_timeliness_combined_count"
   ]
  },
  {
   "cell_type": "code",
   "execution_count": null,
   "metadata": {},
   "outputs": [],
   "source": [
    "#pydb.read_sql_query(\"select * from fcsq.adopt_timeliness_combined\")"
   ]
  },
  {
   "cell_type": "code",
   "execution_count": null,
   "metadata": {},
   "outputs": [],
   "source": [
    "lookup_table = f\"\"\"\n",
    "SELECT \n",
    "CASE when quarter = 'N/A' THEN \n",
    "type || '|' ||cast(year as varchar(20))||'|'\n",
    "ELSE\n",
    "type || '|' ||cast(year as varchar(20))||'|' || quarter end as lookup,\n",
    "rep_cat,\n",
    "n,\n",
    "mean\n",
    "from fcsq.adopt_timeliness_combined;\n",
    "\"\"\"\n",
    "\n",
    "pydb.create_temp_table(lookup_table, 'lookup_table')"
   ]
  },
  {
   "cell_type": "code",
   "execution_count": null,
   "metadata": {},
   "outputs": [],
   "source": [
    "#df = pydb.read_sql_query(\"SELECT CASE when quarter = 'N/A' THEN type || '|' ||cast(year as varchar(20))||'|' ELSE type || '|' ||cast(year as varchar(20))||'|' || quarter || '|' end as lookup, rep_cat, n, mean from fcsq.adopt_timeliness_combined\")\n",
    "#df.head()"
   ]
  },
  {
   "cell_type": "code",
   "execution_count": null,
   "metadata": {},
   "outputs": [],
   "source": [
    "n_count_table = f\"\"\"\n",
    "SELECT lookup, rep_cat, n\n",
    "FROM __temp__.lookup_table \n",
    "ORDER BY lookup;\n",
    "\"\"\"\n",
    "\n",
    "pydb.create_temp_table(n_count_table, 'n_count_table')"
   ]
  },
  {
   "cell_type": "code",
   "execution_count": null,
   "metadata": {},
   "outputs": [],
   "source": [
    "#df = pydb.read_sql_query(\"SELECT * FROM __temp__.n_count_table order by lookup;\")\n",
    "#df.head()"
   ]
  },
  {
   "cell_type": "code",
   "execution_count": null,
   "metadata": {},
   "outputs": [],
   "source": [
    "n_count_table_final = f\"\"\"\n",
    "SELECT\n",
    "lookup,\n",
    "map_n['1 Both'] as \"1_Bothn\",\n",
    "map_n['2 Applicant Only'] as \"2_Applicant_Onlyn\",\n",
    "map_n['3 Respondent Only'] as \"3_Respondent_Onlyn\",\n",
    "map_n['4 Neither'] as \"4_Neithern\",\n",
    "map_n['5 Unknown'] as \"5_Unknown\",\n",
    "map_n['All'] as \"Alln\"\n",
    "from (\n",
    "SELECT \n",
    "lookup,\n",
    "map_agg(\n",
    "rep_cat,\n",
    "n\n",
    ") map_n\n",
    "FROM __temp__.n_count_table\n",
    "group by lookup) \n",
    "order by lookup;\n",
    "\"\"\"\n",
    "\n",
    "pydb.create_temp_table(n_count_table_final,'n_count_table_final')"
   ]
  },
  {
   "cell_type": "code",
   "execution_count": null,
   "metadata": {},
   "outputs": [],
   "source": [
    "#df = pydb.read_sql_query(\"SELECT * FROM __temp__.n_count_table_final order by lookup;\")\n",
    "#df.head()"
   ]
  },
  {
   "cell_type": "code",
   "execution_count": null,
   "metadata": {},
   "outputs": [],
   "source": [
    "mean_table = f\"\"\"\n",
    "SELECT lookup, rep_cat, mean\n",
    "FROM __temp__.lookup_table \n",
    "ORDER BY lookup;\n",
    "\"\"\"\n",
    "\n",
    "pydb.create_temp_table(mean_table, 'mean_table')"
   ]
  },
  {
   "cell_type": "code",
   "execution_count": null,
   "metadata": {},
   "outputs": [],
   "source": [
    "#df = pydb.read_sql_query(\"SELECT * FROM __temp__.mean_table order by lookup;\")\n",
    "#df.head()"
   ]
  },
  {
   "cell_type": "code",
   "execution_count": null,
   "metadata": {},
   "outputs": [],
   "source": [
    "mean_table_final = f\"\"\"\n",
    "SELECT\n",
    "lookup,\n",
    "map_mean['1 Both'] as \"1_Both_mean\",\n",
    "map_mean['2 Applicant Only'] as \"2_Applicant_Only_mean\",\n",
    "map_mean['3 Respondent Only'] as \"3_Respondent_Only_mean\",\n",
    "map_mean['4 Neither'] as \"4_Neither_mean\",\n",
    "map_mean['5 Unknown'] as \"5_Unknown_mean\",\n",
    "map_mean['All'] as \"All_mean\"\n",
    "from (\n",
    "SELECT \n",
    "lookup,\n",
    "map_agg(\n",
    "rep_cat,\n",
    "mean\n",
    ") map_mean\n",
    "FROM __temp__.mean_table\n",
    "group by lookup) \n",
    "order by lookup;\n",
    "\"\"\"\n",
    "\n",
    "pydb.create_temp_table(mean_table_final,'mean_table_final')"
   ]
  },
  {
   "cell_type": "code",
   "execution_count": null,
   "metadata": {},
   "outputs": [],
   "source": [
    "csv_output_table =\"\"\"\n",
    "SELECT \n",
    "t1.lookup,\n",
    "t1.\"1_Bothn\",\n",
    "t2.\"1_Both_mean\",\n",
    "t1.\"2_Applicant_Onlyn\",\n",
    "t2.\"2_Applicant_Only_mean\",\n",
    "t1.\"3_Respondent_Onlyn\",\n",
    "t2.\"3_Respondent_Only_mean\",\n",
    "t1.\"4_Neithern\",\n",
    "t2.\"4_Neither_mean\",\n",
    "t1.\"5_Unknown\",\n",
    "t2.\"5_Unknown_mean\",\n",
    "t1.\"Alln\",\n",
    "t2.\"All_mean\"\n",
    "from \n",
    "__temp__.n_count_table_final t1\n",
    "INNER JOIN\n",
    "__temp__.mean_table_final t2\n",
    "on (t1.lookup = t2.lookup);\n",
    "\"\"\"\n",
    "\n",
    "\n",
    "df = pydb.read_sql_query(csv_output_table)\n",
    "df.to_csv(path_or_buf = 's3://alpha-family-data/CSVs/Adoption/adopt_t10_timeliness.csv',index=False)"
   ]
  },
  {
   "cell_type": "code",
   "execution_count": null,
   "metadata": {},
   "outputs": [],
   "source": [
    "#view_table = pydb.read_sql_query(\"SELECT * FROM fcsq.adopt_timeliness_combined\")\n",
    "#view_table.pivot_table(index=['type','year','quarter'],columns=['rep_cat'],values = ['n','mean'],aggfunc=sum, fill_value=0).swaplevel(axis=1).sort_index(axis=1)\n"
   ]
  }
 ],
 "metadata": {
  "kernelspec": {
   "display_name": "venv",
   "language": "python",
   "name": "venv"
  },
  "language_info": {
   "codemirror_mode": {
    "name": "ipython",
    "version": 3
   },
   "file_extension": ".py",
   "mimetype": "text/x-python",
   "name": "python",
   "nbconvert_exporter": "python",
   "pygments_lexer": "ipython3",
   "version": "3.9.6"
  },
  "varInspector": {
   "cols": {
    "lenName": 16,
    "lenType": 16,
    "lenVar": 40
   },
   "kernels_config": {
    "python": {
     "delete_cmd_postfix": "",
     "delete_cmd_prefix": "del ",
     "library": "var_list.py",
     "varRefreshCmd": "print(var_dic_list())"
    },
    "r": {
     "delete_cmd_postfix": ") ",
     "delete_cmd_prefix": "rm(",
     "library": "var_list.r",
     "varRefreshCmd": "cat(var_dic_list()) "
    }
   },
   "types_to_exclude": [
    "module",
    "function",
    "builtin_function_or_method",
    "instance",
    "_Feature"
   ],
   "window_display": false
  }
 },
 "nbformat": 4,
 "nbformat_minor": 4
}
