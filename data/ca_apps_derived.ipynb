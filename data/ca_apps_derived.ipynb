{
 "cells": [
  {
   "cell_type": "markdown",
   "id": "49ecef52-81a7-4a09-b681-e56f37f3eb62",
   "metadata": {},
   "source": [
    "# Children Act Applications\n",
    "\n",
    "### This code includes the following processes:\n",
    "##### - Extracting application data\n",
    "##### - Children\n",
    "##### - Individual children per year/quarter\n",
    "##### - Orders applied for\n",
    "##### - Application events\n",
    "##### - Applicants and respondents\n",
    "##### - High Court"
   ]
  },
  {
   "cell_type": "markdown",
   "id": "d13837e4-255b-4121-88e0-82712ff09ab8",
   "metadata": {},
   "source": [
    "#### Import packages and set options"
   ]
  },
  {
   "cell_type": "code",
   "execution_count": null,
   "id": "741a75ef-5eef-4368-b42a-06b7c257e2dd",
   "metadata": {},
   "outputs": [],
   "source": [
    "import os  # for file paths\n",
    "import pandas as pd\n",
    "import awswrangler as wr\n",
    "import pydbtools as pydb  # see https://github.com/moj-analytical-services/pydbtools\n",
    "\n",
    "# few things for viewing dataframes better\n",
    "pd.set_option(\"display.max_columns\", 100)\n",
    "pd.set_option(\"display.width\", 900)\n",
    "pd.set_option(\"display.max_colwidth\", 200)"
   ]
  },
  {
   "cell_type": "markdown",
   "id": "0b290ab2-b853-40ec-b48d-922ee0a07411",
   "metadata": {},
   "source": [
    "#### Defining variables"
   ]
  },
  {
   "cell_type": "code",
   "execution_count": null,
   "id": "7e8a34f1-19e5-4fac-9ded-d0d445ec4d45",
   "metadata": {},
   "outputs": [],
   "source": [
    "# define some variables to be used throughout the notebook\n",
    "db1 = \"familyman_derived_dev_v2\" #database where Familyman data is stored\n",
    "db2 = \"familyman_dev_v2\"\n",
    "snapshot_date = \"2021-11-11\" #To update where necessary\n",
    "db3 = \"fcsq\" #database where tables created as part of FCSQ processing are stored where required"
   ]
  },
  {
   "cell_type": "markdown",
   "id": "2aaa102d-7bdc-48b8-8cd0-6e9515349568",
   "metadata": {},
   "source": [
    "## Applications"
   ]
  },
  {
   "cell_type": "markdown",
   "id": "51ef832f-0f2e-4ee8-b14f-c6a813cdd125",
   "metadata": {},
   "source": [
    "#### Extracting applications, filtered by specific order types"
   ]
  },
  {
   "cell_type": "code",
   "execution_count": null,
   "id": "21cfdff2-6447-4822-9069-9127b0796f99",
   "metadata": {},
   "outputs": [],
   "source": [
    "# Creating a table with all the applications for CA, with order type codes selected from the lookup file (lookup file has been created independently from this process).\n",
    "# The cross join unnest function flattens the application array value to one row per app type (the original array value has been left in to help see how this aspect of the code works if needed)\n",
    "# U22 events are initial applications, while G50 events are subsequent applications within a case \n",
    "pydb.create_temp_table( \n",
    "f\"\"\"\n",
    "SELECT \n",
    "    e.case_number,\n",
    "    e.receipt_date,\n",
    "    EXTRACT(year FROM e.receipt_date) AS year,\n",
    "    EXTRACT(quarter FROM e.receipt_date) AS quarter,\n",
    "    e.event,\n",
    "    e.event_model,\n",
    "    application_type_value_array as all_event_app_types,\n",
    "    TRIM(ord_type) as order_type,\n",
    "    o.order_type_code as order_code,\n",
    "    o.order_desc,\n",
    "    CAST(SUBSTR(CAST(e.event AS varchar),1,3) AS integer) AS court_code\n",
    "  FROM \n",
    "    {db1}.events_derived AS e\n",
    "    CROSS JOIN UNNEST(application_type_value_array) AS t(ord_type)\n",
    "    LEFT JOIN {db3}.apps_order_type_lookup o\n",
    "      ON ord_type = o.order_type\n",
    "  WHERE \n",
    "    e.event_model IN('U22','G50')\n",
    "    AND  o.child_act = 'Y'\n",
    "    AND e.mojap_snapshot_date = DATE'{snapshot_date}'\n",
    "    \n",
    "\"\"\",\n",
    "    \n",
    "\"ca_apps_d\")"
   ]
  },
  {
   "cell_type": "markdown",
   "id": "e3e4529d-6608-481d-aa91-7aa79279e622",
   "metadata": {},
   "source": [
    "## Children"
   ]
  },
  {
   "cell_type": "markdown",
   "id": "c05933a8-291b-4dce-bf91-a063f74549d1",
   "metadata": {},
   "source": [
    "#### Children (event) - children recorded on the application event"
   ]
  },
  {
   "cell_type": "code",
   "execution_count": null,
   "id": "faf1fc88-f539-47a2-922a-dad19ba37b01",
   "metadata": {},
   "outputs": [],
   "source": [
    "# Events with a child role id recorded against the application event are extracted. Children not recorded in the event value field are dealt with in the following step\n",
    "# We are using the main familyman database to get the child information as the role id is not contained within the event of the derived tables\n",
    "# As with the previous code above, the cross join unnest flattens the child data to 1 row per child recorded against the application (event)\n",
    "pydb.create_temp_table( \n",
    "f\"\"\"\n",
    "  SELECT \n",
    "    a.*,\n",
    "    f.value children,\n",
    "    TRY_CAST(TRIM(child_role_id) as bigint) child_role_id,\n",
    "    p.dob,\n",
    "    p.gender\n",
    "  FROM \n",
    "    __temp__.ca_apps_d a\n",
    "    INNER JOIN {db2}.event_fields f\n",
    "      ON a.event = f.event\n",
    "    CROSS JOIN UNNEST(SPLIT(f.value,',')) AS t(child_role_id)  \n",
    "    LEFT JOIN {db1}.people_derived p\n",
    "      ON TRY_CAST(TRIM(child_role_id) as bigint) = p.role\n",
    "  WHERE f.field_model IN('U22_CH','G50_CH')\n",
    "    AND child_role_id <> ''\n",
    "    AND f.mojap_snapshot_date = DATE'{snapshot_date}'\n",
    "    AND p.mojap_snapshot_date = DATE'{snapshot_date}'\n",
    "\"\"\",\n",
    "\n",
    "\"ca_apps_child_event_d\")"
   ]
  },
  {
   "cell_type": "markdown",
   "id": "65e052ca-ddde-4525-b29a-61733056ef5d",
   "metadata": {},
   "source": [
    " #### Children (case) - joining the children onto the application data using the people table where children are not recorded on the event."
   ]
  },
  {
   "cell_type": "code",
   "execution_count": null,
   "id": "6091dd24-f5d4-419e-ae20-f5d498ad2d6e",
   "metadata": {},
   "outputs": [],
   "source": [
    "# Take all events where no children were recorded against the event in the children(events) table and get children details from the people table.\n",
    "# Where there are no children recorded on the event then all children recorded in the case are considered involved in the application - this is not an assumption but based on how Familyman data entry works \n",
    "# This table does not include those where children are recorded on the event and are flagged to delete in the roles table (main FM tables). These children are included in the next stage\n",
    "# Adding date of birth and gender from the parties table\n",
    "pydb.create_temp_table( \n",
    "f\"\"\"\n",
    "  SELECT\n",
    "    a.*,\n",
    "    p.role child_role_id,\n",
    "    p.dob,\n",
    "    p.gender\n",
    "  FROM\n",
    "    __temp__.ca_apps_d a\n",
    "    JOIN {db1}.people_derived p \n",
    "      on a.case_number = p.case_number\n",
    "  WHERE\n",
    "    event not in (SELECT event FROM __temp__.ca_apps_child_event_d)\n",
    "    AND p.role_model in ('CHLDC', 'CHLDZ')\n",
    "    AND p.mojap_snapshot_date = DATE'{snapshot_date}'\n",
    "\"\"\",\n",
    "\n",
    "\"ca_apps_child_case_d\")"
   ]
  },
  {
   "cell_type": "markdown",
   "id": "36435f3d-acb2-426f-8740-62ec1a921376",
   "metadata": {},
   "source": [
    "#### Children (not recorded) - children that are not recorded on the event or the case. "
   ]
  },
  {
   "cell_type": "code",
   "execution_count": null,
   "id": "cb640761-a5dc-4ec4-8b33-75a5ab92a46d",
   "metadata": {},
   "outputs": [],
   "source": [
    "#There are a small number of applicaitons where the children are not reocorded on the event and there are also no children recorded on the case (or all chilren recorded have a delete flag of 'Y'). This tends to be for DV cases, where CA order types \n",
    "#   may have been made but children are not necessarily recorded on the case. Here we default to just one child per order/disposal, with unknown characteristics. This is an assumption and will not always be correct.\n",
    "pydb.create_temp_table(\n",
    "f\"\"\"\n",
    "  SELECT\n",
    "    *,\n",
    "    CAST(NULL AS INTEGER) AS child_role_id,\n",
    "    CAST(NULL AS DATE) dob,\n",
    "    CAST(NULL AS INTEGER) AS gender\n",
    "  FROM\n",
    "    __temp__.ca_apps_d\n",
    "  WHERE\n",
    "    event NOT IN (SELECT event FROM __temp__.ca_apps_child_event_d)\n",
    "    AND event NOT IN (SELECT event FROM __temp__.ca_apps_child_case_d)\n",
    "\"\"\",\n",
    "\n",
    "\"ca_apps_no_child_d\")"
   ]
  },
  {
   "cell_type": "markdown",
   "id": "f2b9bb3f-a853-404a-ad91-0f04a7e5a4c9",
   "metadata": {
    "tags": []
   },
   "source": [
    "#### Appending children from events, children from case and no child recorded data sets"
   ]
  },
  {
   "cell_type": "code",
   "execution_count": null,
   "id": "c4106950-6f66-40e1-98f0-9c344f68b9f7",
   "metadata": {},
   "outputs": [],
   "source": [
    "# Unioning all the children data sets together\n",
    "pydb.create_temp_table( \n",
    "f\"\"\"\n",
    "  SELECT \n",
    "    case_number,\n",
    "    receipt_date,\n",
    "    year,\n",
    "    quarter,\n",
    "    event_model,\n",
    "    event,\n",
    "    court_code,\n",
    "    order_type,\n",
    "    order_code,\n",
    "    order_desc,\n",
    "    child_role_id,\n",
    "    dob,\n",
    "    gender\n",
    "  FROM\n",
    "    __temp__.ca_apps_child_event_d\n",
    "  UNION ALL\n",
    "  SELECT\n",
    "    case_number,\n",
    "    receipt_date,\n",
    "    year,\n",
    "    quarter,\n",
    "    event_model,\n",
    "    event,\n",
    "    court_code,\n",
    "    order_type,\n",
    "    order_code,\n",
    "    order_desc,\n",
    "    child_role_id,\n",
    "    dob,\n",
    "    gender\n",
    "  FROM\n",
    "    __temp__.ca_apps_child_case_d\n",
    "  UNION ALL\n",
    "  SELECT\n",
    "    case_number,\n",
    "    receipt_date,\n",
    "    year,\n",
    "    quarter,\n",
    "    event_model,\n",
    "    event,\n",
    "    court_code,\n",
    "    order_type,\n",
    "    order_code,\n",
    "    order_desc,\n",
    "    child_role_id,\n",
    "    dob,\n",
    "    gender\n",
    "  FROM\n",
    "    __temp__.ca_apps_no_child_d\n",
    "\"\"\",\n",
    "\n",
    " \"ca_apps_all_children_d\")"
   ]
  },
  {
   "cell_type": "markdown",
   "id": "92c86c6c-e0f9-4ac9-918a-7355b63458ca",
   "metadata": {
    "tags": []
   },
   "source": [
    " #### Calculating child age and flagging duplicate child/order type data within a case"
   ]
  },
  {
   "cell_type": "code",
   "execution_count": null,
   "id": "3b18dc06-a883-436d-87fa-17e7f749fc98",
   "metadata": {},
   "outputs": [],
   "source": [
    "# The apps all children table contains some records with the same order type for the same child in the same case in the same year. \n",
    "# Here we order the cases so that in those cases initial apps are ranked earlier than subsequent apps, and where the ord type is the same the earliest app is ranked highest\n",
    "pydb.create_temp_table( \n",
    "f\"\"\"\n",
    "SELECT\n",
    "    *,\n",
    "    Floor((date_diff('day',cast(dob as date),cast(receipt_date as date)))/365.25) AS child_age,\n",
    "    substr(case_number, 5,1) as case_type,\n",
    "    ROW_NUMBER() OVER(PARTITION BY year, case_number, child_role_id, order_desc\n",
    "                       ORDER BY case_number, child_role_id, order_desc, event_model DESC, receipt_date ASC) \n",
    "      AS dup_rank\n",
    "FROM \n",
    "   __temp__.ca_apps_all_children_d\n",
    "\"\"\",\n",
    "\n",
    "\"ca_apps_dup_rank_d\")"
   ]
  },
  {
   "cell_type": "markdown",
   "id": "5a242718-4517-4908-9aed-b316fff9439c",
   "metadata": {},
   "source": [
    "### Children involved in applications dataset"
   ]
  },
  {
   "cell_type": "code",
   "execution_count": null,
   "id": "f9dc402b-0a46-4de0-bfb3-e584cd40f51a",
   "metadata": {},
   "outputs": [],
   "source": [
    "# Select the earliest record in each year for each order type per child\n",
    "# Add whether public or private law case type (potentially revisit this as private law may contain adoption cases)\n",
    "# Gender descriptions and age bands added\n",
    "pydb.create_temp_table( \n",
    "f\"\"\"\n",
    "SELECT\n",
    "    year,\n",
    "    quarter,\n",
    "    case_number,\n",
    "    receipt_date,\n",
    "    event,\n",
    "    event_model,\n",
    "    order_type,\n",
    "    order_code,\n",
    "    order_desc,\n",
    "    child_role_id,\n",
    "    CASE WHEN gender = 1 THEN 'Male'\n",
    "         WHEN gender = 2 THEN 'Female'\n",
    "        ELSE 'Unknown'\n",
    "      end as Gender,\n",
    "    dob,\n",
    "    child_age,\n",
    "    CASE WHEN Child_age is Null\n",
    "          THEN 'Unknown'\n",
    "         WHEN Child_age < 0\n",
    "          THEN 'Other'\n",
    "         WHEN Child_age < 1\n",
    "          THEN '<1 year'\n",
    "         WHEN Child_age<5\n",
    "           THEN '1-4 years'\n",
    "         WHEN Child_age<10\n",
    "          THEN '5-9 years'\n",
    "         WHEN Child_age<15\n",
    "          THEN '10-14 years'\n",
    "         WHEN Child_age<18\n",
    "          THEN '15-17 years'\n",
    "           ELSE 'Other'\n",
    "      END AS Age_band,\n",
    "    court_code,\n",
    "    CASE WHEN order_type in ('CRO','SSC','DCO','OSA','SO','DSO','OC','OCST','ARC','ARST','ESO','XESO','CAO','EPO','XEPO','DEPO','WEP')\n",
    "      OR case_type = 'C' THEN 'C' Else 'P' END \n",
    "     AS order_case_type\n",
    "FROM \n",
    "   __temp__.ca_apps_dup_rank_d\n",
    "WHERE\n",
    "  dup_rank = 1\n",
    "\"\"\",\n",
    "    \n",
    "\"ca_apps_child_d\")"
   ]
  },
  {
   "cell_type": "markdown",
   "id": "fb3f8e90-7c94-4d70-992c-190c5e4d3f75",
   "metadata": {},
   "source": [
    "## Individual children"
   ]
  },
  {
   "cell_type": "markdown",
   "id": "3a649474-d21b-4bbd-aaf2-6df193e3ad91",
   "metadata": {},
   "source": [
    "#### Individual children by year"
   ]
  },
  {
   "cell_type": "code",
   "execution_count": null,
   "id": "5341e607-304c-4cea-9842-25dd9b78e712",
   "metadata": {},
   "outputs": [],
   "source": [
    "# Adding a count for the number of times an individual child appears within a year, and then selecting the earliest record\n",
    "pydb.create_temp_table( \n",
    "f\"\"\"\n",
    "WITH ca_apps_count_child_yr AS (\n",
    "\n",
    "SELECT    \n",
    "  *,    \n",
    "  ROW_NUMBER() OVER(PARTITION BY year, child_role_id, order_case_type\n",
    "                       ORDER BY child_role_id, year, receipt_date ASC) \n",
    "      AS child_count_yr\n",
    "FROM \n",
    "  __temp__.ca_apps_child_d\n",
    "  \n",
    ")\n",
    "  \n",
    "SELECT    \n",
    "  year, \n",
    "  quarter,\n",
    "  case_number,\n",
    "  child_role_id,\n",
    "  gender,\n",
    "  dob,\n",
    "  age_band,\n",
    "  order_case_type\n",
    "FROM \n",
    "  ca_apps_count_child_yr\n",
    "WHERE\n",
    "  child_count_yr = 1 \n",
    "\"\"\",\n",
    "\n",
    "\"ca_apps_ind_child_yr_d\")"
   ]
  },
  {
   "cell_type": "markdown",
   "id": "0e0f67a7-4ca1-44bb-a91f-8709d1e90022",
   "metadata": {},
   "source": [
    "#### Individual children by quarter"
   ]
  },
  {
   "cell_type": "code",
   "execution_count": null,
   "id": "5f1702ef-daf6-43ec-9348-24d1b64e4922",
   "metadata": {},
   "outputs": [],
   "source": [
    "# Adding a count for the number of times an individual child appears within a quarter, and then selecting the earliest record\n",
    "pydb.create_temp_table( \n",
    "f\"\"\"\n",
    "WITH ca_apps_count_child_qtr AS (\n",
    "\n",
    "SELECT    \n",
    "  *,    \n",
    "  ROW_NUMBER() OVER(PARTITION BY year, quarter, child_role_id, order_case_type\n",
    "                       ORDER BY child_role_id, year, quarter, receipt_date ASC) \n",
    "      AS child_count_qtr\n",
    "FROM \n",
    "  __temp__.ca_apps_child_d\n",
    "\n",
    ")\n",
    "\n",
    "SELECT    \n",
    "  year, \n",
    "  quarter,\n",
    "  case_number,\n",
    "  child_role_id,\n",
    "  gender,\n",
    "  dob,\n",
    "  age_band,\n",
    "  order_case_type\n",
    "FROM \n",
    "  ca_apps_count_child_qtr\n",
    "WHERE\n",
    "  child_count_qtr = 1\n",
    "  \n",
    "\"\"\",\n",
    "\n",
    "\"ca_apps_ind_child_qtr_d\")"
   ]
  },
  {
   "cell_type": "markdown",
   "id": "8067edda-3b7c-4786-a782-63cbe58cb634",
   "metadata": {},
   "source": [
    "## Orders applied for"
   ]
  },
  {
   "cell_type": "code",
   "execution_count": null,
   "id": "391d544a-3032-4d9e-bdbf-e979c6e551e7",
   "metadata": {},
   "outputs": [],
   "source": [
    "# Remove the child ID and group up so we only count an order type within an event once, rather than per child\n",
    "pydb.create_temp_table( \n",
    "f\"\"\"\n",
    "SELECT \n",
    "  DISTINCT \n",
    "    year,\n",
    "    quarter,\n",
    "    case_number,\n",
    "    order_case_type,\n",
    "    receipt_date,\n",
    "    event,\n",
    "    court_code,\n",
    "    order_type,\n",
    "    order_code,\n",
    "    order_desc\n",
    "FROM \n",
    "  __temp__.ca_apps_child_d\n",
    "\"\"\",\n",
    "    \n",
    "\"ca_apps_order_types_d\")"
   ]
  },
  {
   "cell_type": "markdown",
   "id": "1ab2d648-4313-42f7-a601-180af3816ac1",
   "metadata": {},
   "source": [
    "## Application count data"
   ]
  },
  {
   "cell_type": "code",
   "execution_count": null,
   "id": "151a584d-5b26-4fce-80d2-8d1d2f54e248",
   "metadata": {},
   "outputs": [],
   "source": [
    "# Counting applications (individual events). Here multiple orders applied for under one event are only counted once\n",
    "# Creating the main case type field that ensures any 'P' case that has both private law and public law applications is counted within rivate law case starts\n",
    "# 'Other' case type will refer to where children act order types have been applied for in DV/adoption cases\n",
    "pydb.create_temp_table( \n",
    "f\"\"\"\n",
    "SELECT \n",
    "  DISTINCT \n",
    "    year,\n",
    "    quarter,\n",
    "    case_number,\n",
    "    order_case_type,\n",
    "    CASE WHEN SUBSTR(case_number,5,1) NOT IN ('P','C')\n",
    "           THEN 'Other'\n",
    "         WHEN order_case_type = 'C' \n",
    "              AND case_number in (SELECT case_number\n",
    "                                  FROM __temp__.ca_apps_order_types_d\n",
    "                                  WHERE order_case_type = 'P')\n",
    "           THEN 'P'\n",
    "        ELSE order_case_type END\n",
    "      AS main_case_type,\n",
    "    receipt_date,\n",
    "    event,\n",
    "    court_code\n",
    "FROM \n",
    "  __temp__.ca_apps_child_d\n",
    "\"\"\",\n",
    "\n",
    "\"ca_apps_event_count_d\")"
   ]
  },
  {
   "cell_type": "markdown",
   "id": "65325419-a44c-464a-9cc7-58b6b7c9a082",
   "metadata": {},
   "source": [
    "## Case count data"
   ]
  },
  {
   "cell_type": "code",
   "execution_count": null,
   "id": "5e28c0d6-5caf-4a51-be51-12779060d222",
   "metadata": {},
   "outputs": [],
   "source": [
    "# selecting the earliet date for each case\n",
    "# grouping by main_case type so that a case only appears once in the dataset (and can't get counted in both public and private law)\n",
    "pydb.create_temp_table(\n",
    "f\"\"\"\n",
    "SELECT\n",
    "  main_case_type,    \n",
    "  case_number,\n",
    "  (MIN(receipt_date)) AS MIN_of_RECEIPT_DATE,\n",
    "  EXTRACT (YEAR FROM (MIN(receipt_date))) AS Year,\n",
    "  EXTRACT (QUARTER FROM (MIN(receipt_date))) AS Quarter,\n",
    "  MIN_BY (court_code, receipt_date) as court_code\n",
    "FROM \n",
    "  __temp__.ca_apps_event_count_d\n",
    "GROUP BY \n",
    "  main_case_type, \n",
    "  case_number  \n",
    "\n",
    "\"\"\",\n",
    "\n",
    "\"ca_apps_case_count_d\")"
   ]
  },
  {
   "cell_type": "markdown",
   "id": "a9aae06a-cb51-4759-9bef-07ab84bfb31c",
   "metadata": {},
   "source": [
    "## Parties"
   ]
  },
  {
   "cell_type": "markdown",
   "id": "350ac382-2447-4719-81da-1ea92219bdf5",
   "metadata": {},
   "source": [
    "#### Applicants"
   ]
  },
  {
   "cell_type": "code",
   "execution_count": null,
   "id": "af26bafd-9a90-4e84-bc8f-9f40e9a98629",
   "metadata": {},
   "outputs": [],
   "source": [
    "# link case starts to applicants from the people table.\n",
    "# Add a count for the number of applicants within each case\n",
    "# currently applicants and respondents from adoption cases are included as there are some adoption cases included within private law but this will be revisited\n",
    "pydb.create_temp_table( \n",
    "f\"\"\"\n",
    "  SELECT\n",
    "    c.*,\n",
    "    p.role_model,\n",
    "    p.role role_id,\n",
    "    p.party as party_id,\n",
    "    p.gender,\n",
    "    ROW_NUMBER() OVER(PARTITION BY c.case_number\n",
    "                      ORDER BY c.case_number) \n",
    "      AS applicant_count\n",
    "  FROM\n",
    "    __temp__.ca_apps_case_count_d c\n",
    "    JOIN {db1}.people_derived p \n",
    "      on c.case_number = p.case_number \n",
    "  WHERE\n",
    "    p.role_model in ('APLC','APLZ','APLA')\n",
    "    AND p.mojap_snapshot_date = DATE'{snapshot_date}'\n",
    "\"\"\",\n",
    "\n",
    "\"applicants_d\")"
   ]
  },
  {
   "cell_type": "markdown",
   "id": "4573982b-2a99-4925-b9cc-160b2c48532c",
   "metadata": {},
   "source": [
    "#### Respondents"
   ]
  },
  {
   "cell_type": "code",
   "execution_count": null,
   "id": "81169391-d352-4e4b-86b5-2e96074f7d87",
   "metadata": {},
   "outputs": [],
   "source": [
    "# link case starts to respondents from the people table.\n",
    "# Add a count for the number of respondents within each case\n",
    "# currently applicants and respondents from adoption cases are included as there are some adoption cases included within private law but this will be revisited\n",
    "pydb.create_temp_table( \n",
    "f\"\"\"\n",
    "  SELECT\n",
    "    c.*,\n",
    "    p.role_model,\n",
    "    p.role role_id,\n",
    "    p.party as party_id,\n",
    "    p.gender,\n",
    "    ROW_NUMBER() OVER(PARTITION BY c.case_number\n",
    "                      ORDER BY c.case_number) \n",
    "      AS respondent_count\n",
    "  FROM\n",
    "    __temp__.ca_apps_case_count_d c\n",
    "    JOIN {db1}.people_derived p \n",
    "      on c.case_number = p.case_number \n",
    "  WHERE\n",
    "    p.role_model in ('RSPC','RSPZ','RSPA')\n",
    "    AND p.mojap_snapshot_date = DATE'{snapshot_date}'\n",
    "\"\"\",\n",
    "\n",
    "\"respondents_d\")"
   ]
  },
  {
   "cell_type": "markdown",
   "id": "a18c8b36-c056-44fa-9038-176bd061c3ca",
   "metadata": {},
   "source": [
    "### Applicant and respondent counts"
   ]
  },
  {
   "cell_type": "code",
   "execution_count": null,
   "id": "a28d81db-61a1-4d28-93e6-3033ed282799",
   "metadata": {},
   "outputs": [],
   "source": [
    "#Linking the count of applicants and respondents to cases started\n",
    "pydb.create_temp_table( \n",
    "f\"\"\"\n",
    "  SELECT\n",
    "    c.main_case_type,    \n",
    "    c.case_number,\n",
    "    c.MIN_of_RECEIPT_DATE as receipt_date,\n",
    "    c.Year,\n",
    "    c.Quarter,\n",
    "    c.court_code,\n",
    "    MAX(a.applicant_count) as No_of_applicants,\n",
    "    MAX(r.respondent_count) as No_of_respondents\n",
    "  FROM\n",
    "    __temp__.ca_apps_case_count_d c \n",
    "    LEFT JOIN __temp__.applicants_d a \n",
    "      on c.case_number = a.case_number\n",
    "    LEFT JOIN __temp__.respondents_d r\n",
    "      on c.case_number = r.case_number  \n",
    "  GROUP BY\n",
    "    c.main_case_type,    \n",
    "    c.case_number,\n",
    "    c.MIN_of_RECEIPT_DATE,\n",
    "    c.Year,\n",
    "    c.Quarter,\n",
    "    c.court_code\n",
    "\"\"\",\n",
    "    \n",
    "\"party_count_d\")\n"
   ]
  },
  {
   "cell_type": "markdown",
   "id": "71a02681-0224-4dba-aaa4-134bb34ee758",
   "metadata": {},
   "source": [
    "## High Court"
   ]
  },
  {
   "cell_type": "code",
   "execution_count": null,
   "id": "dad43f61-fb01-4475-9428-aa56deca3145",
   "metadata": {},
   "outputs": [],
   "source": [
    "#Adding high court information to the case starts table\n",
    "#The high court flag is based on any high court event record within a case being flagged as a'Y'\n",
    "pydb.create_temp_table(\n",
    "f\"\"\"\n",
    "SELECT\n",
    "  c.*,\n",
    "  CASE WHEN court_code IN (359,115,100,469,241,321)\n",
    "      THEN 'Central London DFJ'\n",
    "      ELSE 'Not Central London DFJ'END \n",
    "    AS HC_London_Ind,\n",
    "  CASE WHEN case_number IN (SELECT case_number\n",
    "                            FROM {db1}.events_derived\n",
    "                            WHERE is_high_court = 'Y')\n",
    "      THEN 'Y'\n",
    "      ELSE 'N' END\n",
    "    AS case_HC_value\n",
    "FROM \n",
    "  __temp__.party_count_d c\n",
    " \n",
    "\n",
    "\"\"\",\n",
    "\n",
    "\"ca_case_HC_d\")"
   ]
  },
  {
   "cell_type": "code",
   "execution_count": null,
   "id": "b8323dd9-a8d4-4f3e-b49f-ba30c6e4d17b",
   "metadata": {},
   "outputs": [],
   "source": [
    "pydb.create_temp_table(\n",
    "f\"\"\"\n",
    "  Select\n",
    "    a.*\n",
    "  FROM\n",
    "    __temp__.ca_case_HC_d a\n",
    "  WHERE\n",
    "    year = 2011\n",
    "    and main_case_type = 'C'\n",
    "    and case_number NOT IN (SELECT case_number from __temp__.ca_apps_case_count WHERE year = 2011 and main_case_type = 'C' )\n",
    "\n",
    "\"\"\",\n",
    "    \n",
    "\"case_diff\")"
   ]
  },
  {
   "cell_type": "code",
   "execution_count": null,
   "id": "b9ce1010-657b-444c-8590-f55d61105a08",
   "metadata": {},
   "outputs": [],
   "source": [
    "pydb.read_sql_query(\"select * from __temp__.case_diff limit 10\")"
   ]
  },
  {
   "cell_type": "code",
   "execution_count": null,
   "id": "f6fc4d51-e7e6-48c9-a869-f519c1e6de0d",
   "metadata": {},
   "outputs": [],
   "source": [
    "pydb.read_sql_query(\"select count(*) as count from __temp__.party_count WHERE year = 2011 and main_case_type = 'C'\")"
   ]
  }
 ],
 "metadata": {
  "kernelspec": {
   "display_name": "Python 3",
   "language": "python",
   "name": "python3"
  },
  "language_info": {
   "codemirror_mode": {
    "name": "ipython",
    "version": 3
   },
   "file_extension": ".py",
   "mimetype": "text/x-python",
   "name": "python",
   "nbconvert_exporter": "python",
   "pygments_lexer": "ipython3",
   "version": "3.9.4"
  }
 },
 "nbformat": 4,
 "nbformat_minor": 5
}
