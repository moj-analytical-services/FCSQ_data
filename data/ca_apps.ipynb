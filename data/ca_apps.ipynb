{
 "cells": [
  {
   "cell_type": "markdown",
   "metadata": {},
   "source": [
    "# Children Act Applications\n",
    "\n",
    "### This code includes the following processes:\n",
    "1. Children Act applications data extraction\n",
    "2. Creation of main applications data\n",
    "3. extration and creation of parties data\n",
    "4. Events and cases tables\n",
    "5. Individual children\n",
    "6. High court cases"
   ]
  },
  {
   "cell_type": "markdown",
   "metadata": {},
   "source": [
    "#### Import packages and set options"
   ]
  },
  {
   "cell_type": "code",
   "execution_count": 6,
   "metadata": {},
   "outputs": [],
   "source": [
    "import os  # for file paths\n",
    "import pandas as pd\n",
    "import awswrangler as wr\n",
    "import pydbtools as pydb  # see https://github.com/moj-analytical-services/pydbtools\n",
    "import altair as alt  # for plotting, see https://altair-viz.github.io/getting_started/overview.html\n",
    "\n",
    "# few things for viewing dataframes better\n",
    "pd.set_option(\"display.max_columns\", 100)\n",
    "pd.set_option(\"display.width\", 900)\n",
    "pd.set_option(\"display.max_colwidth\", 200)"
   ]
  },
  {
   "cell_type": "markdown",
   "metadata": {},
   "source": [
    "#### Defining variables"
   ]
  },
  {
   "cell_type": "code",
   "execution_count": 7,
   "metadata": {},
   "outputs": [],
   "source": [
    "# define some variables to be used throughout the notebook\n",
    "database = \"familyman_dev_v2\"\n",
    "snapshot_date = \"2021-07-08\"\n",
    "database2 = \"fcsq\""
   ]
  },
  {
   "cell_type": "code",
   "execution_count": 8,
   "metadata": {},
   "outputs": [],
   "source": [
    "# create path for within athena FCSQ database in the S3 folder\n",
    "fcsq_db_path = f\"s3://alpha-family-data/fcsq_processing/CA_apps/\""
   ]
  },
  {
   "cell_type": "markdown",
   "metadata": {},
   "source": [
    "#### Example code\n",
    "##### Running SQL in Python"
   ]
  },
  {
   "cell_type": "code",
   "execution_count": 9,
   "metadata": {
    "collapsed": true,
    "jupyter": {
     "outputs_hidden": true
    }
   },
   "outputs": [
    {
     "data": {
      "text/html": [
       "<div>\n",
       "<style scoped>\n",
       "    .dataframe tbody tr th:only-of-type {\n",
       "        vertical-align: middle;\n",
       "    }\n",
       "\n",
       "    .dataframe tbody tr th {\n",
       "        vertical-align: top;\n",
       "    }\n",
       "\n",
       "    .dataframe thead th {\n",
       "        text-align: right;\n",
       "    }\n",
       "</style>\n",
       "<table border=\"1\" class=\"dataframe\">\n",
       "  <thead>\n",
       "    <tr style=\"text-align: right;\">\n",
       "      <th></th>\n",
       "      <th>case_number</th>\n",
       "      <th>security</th>\n",
       "      <th>second_case_number</th>\n",
       "      <th>parent_case_number</th>\n",
       "      <th>closed</th>\n",
       "      <th>case_model</th>\n",
       "      <th>admin_court_id</th>\n",
       "      <th>date_printed</th>\n",
       "      <th>mojap_file_land_timestamp</th>\n",
       "      <th>mojap_snapshot_date</th>\n",
       "    </tr>\n",
       "  </thead>\n",
       "  <tbody>\n",
       "    <tr>\n",
       "      <th>0</th>\n",
       "      <td>NN95D01595</td>\n",
       "      <td>5</td>\n",
       "      <td>&lt;NA&gt;</td>\n",
       "      <td>&lt;NA&gt;</td>\n",
       "      <td>&lt;NA&gt;</td>\n",
       "      <td>FM1</td>\n",
       "      <td>NN</td>\n",
       "      <td>NaT</td>\n",
       "      <td>1625742440</td>\n",
       "      <td>2021-07-08</td>\n",
       "    </tr>\n",
       "    <tr>\n",
       "      <th>1</th>\n",
       "      <td>NN95D01598</td>\n",
       "      <td>5</td>\n",
       "      <td>&lt;NA&gt;</td>\n",
       "      <td>&lt;NA&gt;</td>\n",
       "      <td>&lt;NA&gt;</td>\n",
       "      <td>FM1</td>\n",
       "      <td>NN</td>\n",
       "      <td>NaT</td>\n",
       "      <td>1625742440</td>\n",
       "      <td>2021-07-08</td>\n",
       "    </tr>\n",
       "    <tr>\n",
       "      <th>2</th>\n",
       "      <td>NN95D01600</td>\n",
       "      <td>5</td>\n",
       "      <td>&lt;NA&gt;</td>\n",
       "      <td>&lt;NA&gt;</td>\n",
       "      <td>&lt;NA&gt;</td>\n",
       "      <td>FM1</td>\n",
       "      <td>NN</td>\n",
       "      <td>NaT</td>\n",
       "      <td>1625742440</td>\n",
       "      <td>2021-07-08</td>\n",
       "    </tr>\n",
       "    <tr>\n",
       "      <th>3</th>\n",
       "      <td>NN95D01602</td>\n",
       "      <td>5</td>\n",
       "      <td>&lt;NA&gt;</td>\n",
       "      <td>&lt;NA&gt;</td>\n",
       "      <td>&lt;NA&gt;</td>\n",
       "      <td>FM1</td>\n",
       "      <td>NN</td>\n",
       "      <td>NaT</td>\n",
       "      <td>1625742440</td>\n",
       "      <td>2021-07-08</td>\n",
       "    </tr>\n",
       "    <tr>\n",
       "      <th>4</th>\n",
       "      <td>NN95D01605</td>\n",
       "      <td>5</td>\n",
       "      <td>&lt;NA&gt;</td>\n",
       "      <td>&lt;NA&gt;</td>\n",
       "      <td>&lt;NA&gt;</td>\n",
       "      <td>FM1</td>\n",
       "      <td>NN</td>\n",
       "      <td>NaT</td>\n",
       "      <td>1625742440</td>\n",
       "      <td>2021-07-08</td>\n",
       "    </tr>\n",
       "    <tr>\n",
       "      <th>5</th>\n",
       "      <td>NN95D01606</td>\n",
       "      <td>5</td>\n",
       "      <td>&lt;NA&gt;</td>\n",
       "      <td>&lt;NA&gt;</td>\n",
       "      <td>&lt;NA&gt;</td>\n",
       "      <td>FM1</td>\n",
       "      <td>NN</td>\n",
       "      <td>NaT</td>\n",
       "      <td>1625742440</td>\n",
       "      <td>2021-07-08</td>\n",
       "    </tr>\n",
       "    <tr>\n",
       "      <th>6</th>\n",
       "      <td>NN95D01607</td>\n",
       "      <td>5</td>\n",
       "      <td>&lt;NA&gt;</td>\n",
       "      <td>&lt;NA&gt;</td>\n",
       "      <td>&lt;NA&gt;</td>\n",
       "      <td>FM1</td>\n",
       "      <td>NN</td>\n",
       "      <td>NaT</td>\n",
       "      <td>1625742440</td>\n",
       "      <td>2021-07-08</td>\n",
       "    </tr>\n",
       "    <tr>\n",
       "      <th>7</th>\n",
       "      <td>NN95D01608</td>\n",
       "      <td>5</td>\n",
       "      <td>&lt;NA&gt;</td>\n",
       "      <td>&lt;NA&gt;</td>\n",
       "      <td>&lt;NA&gt;</td>\n",
       "      <td>FM1</td>\n",
       "      <td>NN</td>\n",
       "      <td>NaT</td>\n",
       "      <td>1625742440</td>\n",
       "      <td>2021-07-08</td>\n",
       "    </tr>\n",
       "    <tr>\n",
       "      <th>8</th>\n",
       "      <td>NN95D01609</td>\n",
       "      <td>5</td>\n",
       "      <td>&lt;NA&gt;</td>\n",
       "      <td>&lt;NA&gt;</td>\n",
       "      <td>&lt;NA&gt;</td>\n",
       "      <td>FM1</td>\n",
       "      <td>NN</td>\n",
       "      <td>NaT</td>\n",
       "      <td>1625742440</td>\n",
       "      <td>2021-07-08</td>\n",
       "    </tr>\n",
       "    <tr>\n",
       "      <th>9</th>\n",
       "      <td>NN95D01611</td>\n",
       "      <td>5</td>\n",
       "      <td>&lt;NA&gt;</td>\n",
       "      <td>&lt;NA&gt;</td>\n",
       "      <td>&lt;NA&gt;</td>\n",
       "      <td>FM1</td>\n",
       "      <td>NN</td>\n",
       "      <td>NaT</td>\n",
       "      <td>1625742440</td>\n",
       "      <td>2021-07-08</td>\n",
       "    </tr>\n",
       "  </tbody>\n",
       "</table>\n",
       "</div>"
      ],
      "text/plain": [
       "  case_number  security second_case_number parent_case_number closed case_model admin_court_id date_printed  mojap_file_land_timestamp mojap_snapshot_date\n",
       "0  NN95D01595         5               <NA>               <NA>   <NA>        FM1             NN          NaT                 1625742440          2021-07-08\n",
       "1  NN95D01598         5               <NA>               <NA>   <NA>        FM1             NN          NaT                 1625742440          2021-07-08\n",
       "2  NN95D01600         5               <NA>               <NA>   <NA>        FM1             NN          NaT                 1625742440          2021-07-08\n",
       "3  NN95D01602         5               <NA>               <NA>   <NA>        FM1             NN          NaT                 1625742440          2021-07-08\n",
       "4  NN95D01605         5               <NA>               <NA>   <NA>        FM1             NN          NaT                 1625742440          2021-07-08\n",
       "5  NN95D01606         5               <NA>               <NA>   <NA>        FM1             NN          NaT                 1625742440          2021-07-08\n",
       "6  NN95D01607         5               <NA>               <NA>   <NA>        FM1             NN          NaT                 1625742440          2021-07-08\n",
       "7  NN95D01608         5               <NA>               <NA>   <NA>        FM1             NN          NaT                 1625742440          2021-07-08\n",
       "8  NN95D01609         5               <NA>               <NA>   <NA>        FM1             NN          NaT                 1625742440          2021-07-08\n",
       "9  NN95D01611         5               <NA>               <NA>   <NA>        FM1             NN          NaT                 1625742440          2021-07-08"
      ]
     },
     "execution_count": 9,
     "metadata": {},
     "output_type": "execute_result"
    }
   ],
   "source": [
    "# Here we use an f-string which allows variables to be incorporated into the string.\n",
    "# The database contains many snapshots in time. These need to be defined for each table\n",
    "# to avoid returning duplicates\n",
    "\n",
    "# triple quotation marks allow a string to be defined within the quaotation marks even on new lines\n",
    "# makes long sql strings much more readable.\n",
    "# single quotation marks limit the string to a single line.\n",
    "\n",
    "s1 = f\"\"\"\n",
    "select * from {database}.cases \n",
    "where mojap_snapshot_date = date '{snapshot_date}'\n",
    "limit 10\n",
    "\"\"\"\n",
    "\n",
    "# pydbtools read_sql_query function will return the results of the query into a pandas dataframe\n",
    "simple_results = pydb.read_sql_query(s1)\n",
    "simple_results"
   ]
  },
  {
   "cell_type": "markdown",
   "metadata": {},
   "source": [
    "##### Creating temporary tables"
   ]
  },
  {
   "cell_type": "code",
   "execution_count": 10,
   "metadata": {},
   "outputs": [
    {
     "data": {
      "text/html": [
       "<div>\n",
       "<style scoped>\n",
       "    .dataframe tbody tr th:only-of-type {\n",
       "        vertical-align: middle;\n",
       "    }\n",
       "\n",
       "    .dataframe tbody tr th {\n",
       "        vertical-align: top;\n",
       "    }\n",
       "\n",
       "    .dataframe thead th {\n",
       "        text-align: right;\n",
       "    }\n",
       "</style>\n",
       "<table border=\"1\" class=\"dataframe\">\n",
       "  <thead>\n",
       "    <tr style=\"text-align: right;\">\n",
       "      <th></th>\n",
       "      <th>count</th>\n",
       "    </tr>\n",
       "  </thead>\n",
       "  <tbody>\n",
       "    <tr>\n",
       "      <th>0</th>\n",
       "      <td>10</td>\n",
       "    </tr>\n",
       "  </tbody>\n",
       "</table>\n",
       "</div>"
      ],
      "text/plain": [
       "   count\n",
       "0     10"
      ]
     },
     "execution_count": 10,
     "metadata": {},
     "output_type": "execute_result"
    }
   ],
   "source": [
    "# Here we are creating a temporary table that can be queried later\n",
    "#  from the __temp__ database\n",
    "pydb.create_temp_table(s1, \"case_table\")\n",
    "\n",
    "# Query the temporary table just created. The database to query is called __temp__, this is\n",
    "# an alias for a sandbox database that is created for each user. For more details, see\n",
    "# the pydbtools docs\n",
    "temp_table = pydb.read_sql_query(\"select count(*) as count from __temp__.case_table\")\n",
    "\n",
    "temp_table"
   ]
  },
  {
   "cell_type": "markdown",
   "metadata": {},
   "source": [
    "##### Creating tables in Athena\n",
    "###### When creating tables in Athena, the underlying data also needs to be written to a folder in S3"
   ]
  },
  {
   "cell_type": "code",
   "execution_count": 11,
   "metadata": {},
   "outputs": [],
   "source": [
    "# create path for new table (initial bucket path and sub-folder defined earlier)\n",
    "test_table_s3_path = os.path.join(fcsq_db_path, \"test_table/\")"
   ]
  },
  {
   "cell_type": "code",
   "execution_count": 12,
   "metadata": {},
   "outputs": [],
   "source": [
    "# create table in Athena FCSQ database, stating the S3 path to store underlying data\n",
    "test_table = f\"\"\"\n",
    "CREATE TABLE {database2}.test_table WITH\n",
    "(\n",
    "    external_location='{test_table_s3_path}'\n",
    ") AS\n",
    "SELECT *\n",
    "FROM __temp__.case_table\n",
    "\"\"\"\n",
    "# execute the SQL query\n",
    "_ = pydb.start_query_execution_and_wait(test_table)"
   ]
  },
  {
   "cell_type": "markdown",
   "metadata": {},
   "source": [
    "##### Deleting tables in Athena"
   ]
  },
  {
   "cell_type": "code",
   "execution_count": 13,
   "metadata": {},
   "outputs": [
    {
     "name": "stdout",
     "output_type": "stream",
     "text": [
      "deleting objs\n"
     ]
    }
   ],
   "source": [
    "# Delete all the underlying data stored within the S3 location\n",
    "if wr.s3.list_objects(test_table_s3_path):\n",
    "    print(\"deleting objs\")\n",
    "    wr.s3.delete_objects(test_table_s3_path)"
   ]
  },
  {
   "cell_type": "code",
   "execution_count": 14,
   "metadata": {},
   "outputs": [],
   "source": [
    "# drop the table in Athena\n",
    "drop_test_table = f\"\"\"\n",
    "DROP TABLE {database2}.test_table\n",
    "\"\"\"\n",
    "# execute the SQL query\n",
    "_ = pydb.start_query_execution_and_wait(drop_test_table)"
   ]
  },
  {
   "cell_type": "code",
   "execution_count": 15,
   "metadata": {
    "collapsed": true,
    "jupyter": {
     "outputs_hidden": true
    }
   },
   "outputs": [
    {
     "ename": "InvalidRequestException",
     "evalue": "An error occurred (InvalidRequestException) when calling the StartQueryExecution operation: line 7:1: mismatched input 'DROP'. Expecting: '(', <query>",
     "output_type": "error",
     "traceback": [
      "\u001b[0;31m---------------------------------------------------------------------------\u001b[0m",
      "\u001b[0;31mInvalidRequestException\u001b[0m                   Traceback (most recent call last)",
      "\u001b[0;32m<ipython-input-15-168cc619c7c0>\u001b[0m in \u001b[0;36m<module>\u001b[0;34m\u001b[0m\n\u001b[1;32m      1\u001b[0m \u001b[0;31m# This also works but not using old versions of pybd. Note the recommended option is the start_query...wait option\u001b[0m\u001b[0;34m\u001b[0m\u001b[0;34m\u001b[0m\u001b[0;34m\u001b[0m\u001b[0m\n\u001b[0;32m----> 2\u001b[0;31m \u001b[0mpydb\u001b[0m\u001b[0;34m.\u001b[0m\u001b[0mread_sql_query\u001b[0m\u001b[0;34m(\u001b[0m\u001b[0;34mf\"\"\"DROP TABLE {database2}.test_table\"\"\"\u001b[0m\u001b[0;34m)\u001b[0m\u001b[0;34m\u001b[0m\u001b[0;34m\u001b[0m\u001b[0m\n\u001b[0m",
      "\u001b[0;32m~/.local/lib/python3.7/site-packages/pydbtools/wrangler.py\u001b[0m in \u001b[0;36mwrapper\u001b[0;34m(*args, **kwargs)\u001b[0m\n\u001b[1;32m    117\u001b[0m         \u001b[0mlogger\u001b[0m\u001b[0;34m.\u001b[0m\u001b[0mdebug\u001b[0m\u001b[0;34m(\u001b[0m\u001b[0;34mf\"Modifying function {func.__name__}\"\u001b[0m\u001b[0;34m)\u001b[0m\u001b[0;34m\u001b[0m\u001b[0;34m\u001b[0m\u001b[0m\n\u001b[1;32m    118\u001b[0m         \u001b[0mlogger\u001b[0m\u001b[0;34m.\u001b[0m\u001b[0mdebug\u001b[0m\u001b[0;34m(\u001b[0m\u001b[0mpprint\u001b[0m\u001b[0;34m.\u001b[0m\u001b[0mpformat\u001b[0m\u001b[0;34m(\u001b[0m\u001b[0mdict\u001b[0m\u001b[0;34m(\u001b[0m\u001b[0margmap\u001b[0m\u001b[0;34m)\u001b[0m\u001b[0;34m)\u001b[0m\u001b[0;34m)\u001b[0m\u001b[0;34m\u001b[0m\u001b[0;34m\u001b[0m\u001b[0m\n\u001b[0;32m--> 119\u001b[0;31m         \u001b[0;32mreturn\u001b[0m \u001b[0mfunc\u001b[0m\u001b[0;34m(\u001b[0m\u001b[0;34m**\u001b[0m\u001b[0margmap\u001b[0m\u001b[0;34m)\u001b[0m\u001b[0;34m\u001b[0m\u001b[0;34m\u001b[0m\u001b[0m\n\u001b[0m\u001b[1;32m    120\u001b[0m \u001b[0;34m\u001b[0m\u001b[0m\n\u001b[1;32m    121\u001b[0m     \u001b[0;32mreturn\u001b[0m \u001b[0mwrapper\u001b[0m\u001b[0;34m\u001b[0m\u001b[0;34m\u001b[0m\u001b[0m\n",
      "\u001b[0;32m~/.local/lib/python3.7/site-packages/awswrangler/_config.py\u001b[0m in \u001b[0;36mwrapper\u001b[0;34m(*args_raw, **kwargs)\u001b[0m\n\u001b[1;32m    405\u001b[0m                 \u001b[0;32mdel\u001b[0m \u001b[0margs\u001b[0m\u001b[0;34m[\u001b[0m\u001b[0mname\u001b[0m\u001b[0;34m]\u001b[0m\u001b[0;34m\u001b[0m\u001b[0;34m\u001b[0m\u001b[0m\n\u001b[1;32m    406\u001b[0m                 \u001b[0margs\u001b[0m \u001b[0;34m=\u001b[0m \u001b[0;34m{\u001b[0m\u001b[0;34m**\u001b[0m\u001b[0margs\u001b[0m\u001b[0;34m,\u001b[0m \u001b[0;34m**\u001b[0m\u001b[0mkeywords\u001b[0m\u001b[0;34m}\u001b[0m\u001b[0;34m\u001b[0m\u001b[0;34m\u001b[0m\u001b[0m\n\u001b[0;32m--> 407\u001b[0;31m         \u001b[0;32mreturn\u001b[0m \u001b[0mfunction\u001b[0m\u001b[0;34m(\u001b[0m\u001b[0;34m**\u001b[0m\u001b[0margs\u001b[0m\u001b[0;34m)\u001b[0m\u001b[0;34m\u001b[0m\u001b[0;34m\u001b[0m\u001b[0m\n\u001b[0m\u001b[1;32m    408\u001b[0m \u001b[0;34m\u001b[0m\u001b[0m\n\u001b[1;32m    409\u001b[0m     \u001b[0mwrapper\u001b[0m\u001b[0;34m.\u001b[0m\u001b[0m__doc__\u001b[0m \u001b[0;34m=\u001b[0m \u001b[0m_inject_config_doc\u001b[0m\u001b[0;34m(\u001b[0m\u001b[0mdoc\u001b[0m\u001b[0;34m=\u001b[0m\u001b[0mfunction\u001b[0m\u001b[0;34m.\u001b[0m\u001b[0m__doc__\u001b[0m\u001b[0;34m,\u001b[0m \u001b[0mavailable_configs\u001b[0m\u001b[0;34m=\u001b[0m\u001b[0mavailable_configs\u001b[0m\u001b[0;34m)\u001b[0m\u001b[0;34m\u001b[0m\u001b[0;34m\u001b[0m\u001b[0m\n",
      "\u001b[0;32m~/.local/lib/python3.7/site-packages/awswrangler/athena/_read.py\u001b[0m in \u001b[0;36mread_sql_query\u001b[0;34m(sql, database, ctas_approach, categories, chunksize, s3_output, workgroup, encryption, kms_key, keep_files, ctas_temp_table_name, use_threads, boto3_session, max_cache_seconds, max_cache_query_inspections, max_remote_cache_entries, max_local_cache_entries, data_source, params, s3_additional_kwargs)\u001b[0m\n\u001b[1;32m    824\u001b[0m         \u001b[0muse_threads\u001b[0m\u001b[0;34m=\u001b[0m\u001b[0muse_threads\u001b[0m\u001b[0;34m,\u001b[0m\u001b[0;34m\u001b[0m\u001b[0;34m\u001b[0m\u001b[0m\n\u001b[1;32m    825\u001b[0m         \u001b[0ms3_additional_kwargs\u001b[0m\u001b[0;34m=\u001b[0m\u001b[0ms3_additional_kwargs\u001b[0m\u001b[0;34m,\u001b[0m\u001b[0;34m\u001b[0m\u001b[0;34m\u001b[0m\u001b[0m\n\u001b[0;32m--> 826\u001b[0;31m         \u001b[0mboto3_session\u001b[0m\u001b[0;34m=\u001b[0m\u001b[0msession\u001b[0m\u001b[0;34m,\u001b[0m\u001b[0;34m\u001b[0m\u001b[0;34m\u001b[0m\u001b[0m\n\u001b[0m\u001b[1;32m    827\u001b[0m     )\n\u001b[1;32m    828\u001b[0m \u001b[0;34m\u001b[0m\u001b[0m\n",
      "\u001b[0;32m~/.local/lib/python3.7/site-packages/awswrangler/athena/_read.py\u001b[0m in \u001b[0;36m_resolve_query_without_cache\u001b[0;34m(sql, database, data_source, ctas_approach, categories, chunksize, s3_output, workgroup, encryption, kms_key, keep_files, ctas_temp_table_name, use_threads, s3_additional_kwargs, boto3_session)\u001b[0m\n\u001b[1;32m    542\u001b[0m                 \u001b[0muse_threads\u001b[0m\u001b[0;34m=\u001b[0m\u001b[0muse_threads\u001b[0m\u001b[0;34m,\u001b[0m\u001b[0;34m\u001b[0m\u001b[0;34m\u001b[0m\u001b[0m\n\u001b[1;32m    543\u001b[0m                 \u001b[0ms3_additional_kwargs\u001b[0m\u001b[0;34m=\u001b[0m\u001b[0ms3_additional_kwargs\u001b[0m\u001b[0;34m,\u001b[0m\u001b[0;34m\u001b[0m\u001b[0;34m\u001b[0m\u001b[0m\n\u001b[0;32m--> 544\u001b[0;31m                 \u001b[0mboto3_session\u001b[0m\u001b[0;34m=\u001b[0m\u001b[0mboto3_session\u001b[0m\u001b[0;34m,\u001b[0m\u001b[0;34m\u001b[0m\u001b[0;34m\u001b[0m\u001b[0m\n\u001b[0m\u001b[1;32m    545\u001b[0m             )\n\u001b[1;32m    546\u001b[0m         \u001b[0;32mfinally\u001b[0m\u001b[0;34m:\u001b[0m\u001b[0;34m\u001b[0m\u001b[0;34m\u001b[0m\u001b[0m\n",
      "\u001b[0;32m~/.local/lib/python3.7/site-packages/awswrangler/athena/_read.py\u001b[0m in \u001b[0;36m_resolve_query_without_cache_ctas\u001b[0;34m(sql, database, data_source, s3_output, keep_files, chunksize, categories, encryption, workgroup, kms_key, wg_config, name, use_threads, s3_additional_kwargs, boto3_session)\u001b[0m\n\u001b[1;32m    414\u001b[0m                 \u001b[0;34m\"Is not possible to wrap this query into a CTAS statement. Please use ctas_approach=False.\"\u001b[0m\u001b[0;34m\u001b[0m\u001b[0;34m\u001b[0m\u001b[0m\n\u001b[1;32m    415\u001b[0m             )\n\u001b[0;32m--> 416\u001b[0;31m         \u001b[0;32mraise\u001b[0m \u001b[0mex\u001b[0m\u001b[0;34m\u001b[0m\u001b[0;34m\u001b[0m\u001b[0m\n\u001b[0m\u001b[1;32m    417\u001b[0m     \u001b[0m_logger\u001b[0m\u001b[0;34m.\u001b[0m\u001b[0mdebug\u001b[0m\u001b[0;34m(\u001b[0m\u001b[0;34m\"query_id: %s\"\u001b[0m\u001b[0;34m,\u001b[0m \u001b[0mquery_id\u001b[0m\u001b[0;34m)\u001b[0m\u001b[0;34m\u001b[0m\u001b[0;34m\u001b[0m\u001b[0m\n\u001b[1;32m    418\u001b[0m     \u001b[0;32mtry\u001b[0m\u001b[0;34m:\u001b[0m\u001b[0;34m\u001b[0m\u001b[0;34m\u001b[0m\u001b[0m\n",
      "\u001b[0;32m~/.local/lib/python3.7/site-packages/awswrangler/athena/_read.py\u001b[0m in \u001b[0;36m_resolve_query_without_cache_ctas\u001b[0;34m(sql, database, data_source, s3_output, keep_files, chunksize, categories, encryption, workgroup, kms_key, wg_config, name, use_threads, s3_additional_kwargs, boto3_session)\u001b[0m\n\u001b[1;32m    402\u001b[0m             \u001b[0mencryption\u001b[0m\u001b[0;34m=\u001b[0m\u001b[0mencryption\u001b[0m\u001b[0;34m,\u001b[0m\u001b[0;34m\u001b[0m\u001b[0;34m\u001b[0m\u001b[0m\n\u001b[1;32m    403\u001b[0m             \u001b[0mkms_key\u001b[0m\u001b[0;34m=\u001b[0m\u001b[0mkms_key\u001b[0m\u001b[0;34m,\u001b[0m\u001b[0;34m\u001b[0m\u001b[0;34m\u001b[0m\u001b[0m\n\u001b[0;32m--> 404\u001b[0;31m             \u001b[0mboto3_session\u001b[0m\u001b[0;34m=\u001b[0m\u001b[0mboto3_session\u001b[0m\u001b[0;34m,\u001b[0m\u001b[0;34m\u001b[0m\u001b[0;34m\u001b[0m\u001b[0m\n\u001b[0m\u001b[1;32m    405\u001b[0m         )\n\u001b[1;32m    406\u001b[0m     \u001b[0;32mexcept\u001b[0m \u001b[0mbotocore\u001b[0m\u001b[0;34m.\u001b[0m\u001b[0mexceptions\u001b[0m\u001b[0;34m.\u001b[0m\u001b[0mClientError\u001b[0m \u001b[0;32mas\u001b[0m \u001b[0mex\u001b[0m\u001b[0;34m:\u001b[0m\u001b[0;34m\u001b[0m\u001b[0;34m\u001b[0m\u001b[0m\n",
      "\u001b[0;32m~/.local/lib/python3.7/site-packages/awswrangler/athena/_utils.py\u001b[0m in \u001b[0;36m_start_query_execution\u001b[0;34m(sql, wg_config, database, data_source, s3_output, workgroup, encryption, kms_key, boto3_session)\u001b[0m\n\u001b[1;32m    165\u001b[0m         \u001b[0mex_code\u001b[0m\u001b[0;34m=\u001b[0m\u001b[0;34m\"ThrottlingException\"\u001b[0m\u001b[0;34m,\u001b[0m\u001b[0;34m\u001b[0m\u001b[0;34m\u001b[0m\u001b[0m\n\u001b[1;32m    166\u001b[0m         \u001b[0mmax_num_tries\u001b[0m\u001b[0;34m=\u001b[0m\u001b[0;36m5\u001b[0m\u001b[0;34m,\u001b[0m\u001b[0;34m\u001b[0m\u001b[0;34m\u001b[0m\u001b[0m\n\u001b[0;32m--> 167\u001b[0;31m         \u001b[0;34m**\u001b[0m\u001b[0margs\u001b[0m\u001b[0;34m,\u001b[0m\u001b[0;34m\u001b[0m\u001b[0;34m\u001b[0m\u001b[0m\n\u001b[0m\u001b[1;32m    168\u001b[0m     )\n\u001b[1;32m    169\u001b[0m     \u001b[0;32mreturn\u001b[0m \u001b[0mcast\u001b[0m\u001b[0;34m(\u001b[0m\u001b[0mstr\u001b[0m\u001b[0;34m,\u001b[0m \u001b[0mresponse\u001b[0m\u001b[0;34m[\u001b[0m\u001b[0;34m\"QueryExecutionId\"\u001b[0m\u001b[0;34m]\u001b[0m\u001b[0;34m)\u001b[0m\u001b[0;34m\u001b[0m\u001b[0;34m\u001b[0m\u001b[0m\n",
      "\u001b[0;32m~/.local/lib/python3.7/site-packages/awswrangler/_utils.py\u001b[0m in \u001b[0;36mtry_it\u001b[0;34m(f, ex, ex_code, base, max_num_tries, **kwargs)\u001b[0m\n\u001b[1;32m    318\u001b[0m     \u001b[0;32mfor\u001b[0m \u001b[0mi\u001b[0m \u001b[0;32min\u001b[0m \u001b[0mrange\u001b[0m\u001b[0;34m(\u001b[0m\u001b[0mmax_num_tries\u001b[0m\u001b[0;34m)\u001b[0m\u001b[0;34m:\u001b[0m\u001b[0;34m\u001b[0m\u001b[0;34m\u001b[0m\u001b[0m\n\u001b[1;32m    319\u001b[0m         \u001b[0;32mtry\u001b[0m\u001b[0;34m:\u001b[0m\u001b[0;34m\u001b[0m\u001b[0;34m\u001b[0m\u001b[0m\n\u001b[0;32m--> 320\u001b[0;31m             \u001b[0;32mreturn\u001b[0m \u001b[0mf\u001b[0m\u001b[0;34m(\u001b[0m\u001b[0;34m**\u001b[0m\u001b[0mkwargs\u001b[0m\u001b[0;34m)\u001b[0m\u001b[0;34m\u001b[0m\u001b[0;34m\u001b[0m\u001b[0m\n\u001b[0m\u001b[1;32m    321\u001b[0m         \u001b[0;32mexcept\u001b[0m \u001b[0mex\u001b[0m \u001b[0;32mas\u001b[0m \u001b[0mexception\u001b[0m\u001b[0;34m:\u001b[0m\u001b[0;34m\u001b[0m\u001b[0;34m\u001b[0m\u001b[0m\n\u001b[1;32m    322\u001b[0m             \u001b[0;32mif\u001b[0m \u001b[0mex_code\u001b[0m \u001b[0;32mis\u001b[0m \u001b[0;32mnot\u001b[0m \u001b[0;32mNone\u001b[0m \u001b[0;32mand\u001b[0m \u001b[0mhasattr\u001b[0m\u001b[0;34m(\u001b[0m\u001b[0mexception\u001b[0m\u001b[0;34m,\u001b[0m \u001b[0;34m\"response\"\u001b[0m\u001b[0;34m)\u001b[0m\u001b[0;34m:\u001b[0m\u001b[0;34m\u001b[0m\u001b[0;34m\u001b[0m\u001b[0m\n",
      "\u001b[0;32m~/.local/lib/python3.7/site-packages/botocore/client.py\u001b[0m in \u001b[0;36m_api_call\u001b[0;34m(self, *args, **kwargs)\u001b[0m\n\u001b[1;32m    355\u001b[0m                     \"%s() only accepts keyword arguments.\" % py_operation_name)\n\u001b[1;32m    356\u001b[0m             \u001b[0;31m# The \"self\" in this scope is referring to the BaseClient.\u001b[0m\u001b[0;34m\u001b[0m\u001b[0;34m\u001b[0m\u001b[0;34m\u001b[0m\u001b[0m\n\u001b[0;32m--> 357\u001b[0;31m             \u001b[0;32mreturn\u001b[0m \u001b[0mself\u001b[0m\u001b[0;34m.\u001b[0m\u001b[0m_make_api_call\u001b[0m\u001b[0;34m(\u001b[0m\u001b[0moperation_name\u001b[0m\u001b[0;34m,\u001b[0m \u001b[0mkwargs\u001b[0m\u001b[0;34m)\u001b[0m\u001b[0;34m\u001b[0m\u001b[0;34m\u001b[0m\u001b[0m\n\u001b[0m\u001b[1;32m    358\u001b[0m \u001b[0;34m\u001b[0m\u001b[0m\n\u001b[1;32m    359\u001b[0m         \u001b[0m_api_call\u001b[0m\u001b[0;34m.\u001b[0m\u001b[0m__name__\u001b[0m \u001b[0;34m=\u001b[0m \u001b[0mstr\u001b[0m\u001b[0;34m(\u001b[0m\u001b[0mpy_operation_name\u001b[0m\u001b[0;34m)\u001b[0m\u001b[0;34m\u001b[0m\u001b[0;34m\u001b[0m\u001b[0m\n",
      "\u001b[0;32m~/.local/lib/python3.7/site-packages/botocore/client.py\u001b[0m in \u001b[0;36m_make_api_call\u001b[0;34m(self, operation_name, api_params)\u001b[0m\n\u001b[1;32m    674\u001b[0m             \u001b[0merror_code\u001b[0m \u001b[0;34m=\u001b[0m \u001b[0mparsed_response\u001b[0m\u001b[0;34m.\u001b[0m\u001b[0mget\u001b[0m\u001b[0;34m(\u001b[0m\u001b[0;34m\"Error\"\u001b[0m\u001b[0;34m,\u001b[0m \u001b[0;34m{\u001b[0m\u001b[0;34m}\u001b[0m\u001b[0;34m)\u001b[0m\u001b[0;34m.\u001b[0m\u001b[0mget\u001b[0m\u001b[0;34m(\u001b[0m\u001b[0;34m\"Code\"\u001b[0m\u001b[0;34m)\u001b[0m\u001b[0;34m\u001b[0m\u001b[0;34m\u001b[0m\u001b[0m\n\u001b[1;32m    675\u001b[0m             \u001b[0merror_class\u001b[0m \u001b[0;34m=\u001b[0m \u001b[0mself\u001b[0m\u001b[0;34m.\u001b[0m\u001b[0mexceptions\u001b[0m\u001b[0;34m.\u001b[0m\u001b[0mfrom_code\u001b[0m\u001b[0;34m(\u001b[0m\u001b[0merror_code\u001b[0m\u001b[0;34m)\u001b[0m\u001b[0;34m\u001b[0m\u001b[0;34m\u001b[0m\u001b[0m\n\u001b[0;32m--> 676\u001b[0;31m             \u001b[0;32mraise\u001b[0m \u001b[0merror_class\u001b[0m\u001b[0;34m(\u001b[0m\u001b[0mparsed_response\u001b[0m\u001b[0;34m,\u001b[0m \u001b[0moperation_name\u001b[0m\u001b[0;34m)\u001b[0m\u001b[0;34m\u001b[0m\u001b[0;34m\u001b[0m\u001b[0m\n\u001b[0m\u001b[1;32m    677\u001b[0m         \u001b[0;32melse\u001b[0m\u001b[0;34m:\u001b[0m\u001b[0;34m\u001b[0m\u001b[0;34m\u001b[0m\u001b[0m\n\u001b[1;32m    678\u001b[0m             \u001b[0;32mreturn\u001b[0m \u001b[0mparsed_response\u001b[0m\u001b[0;34m\u001b[0m\u001b[0;34m\u001b[0m\u001b[0m\n",
      "\u001b[0;31mInvalidRequestException\u001b[0m: An error occurred (InvalidRequestException) when calling the StartQueryExecution operation: line 7:1: mismatched input 'DROP'. Expecting: '(', <query>"
     ]
    }
   ],
   "source": [
    "# This also works but not using old versions of pybd. Note the recommended option is the start_query...wait option\n",
    "pydb.read_sql_query(f\"\"\"DROP TABLE {database2}.test_table\"\"\")"
   ]
  },
  {
   "cell_type": "code",
   "execution_count": null,
   "metadata": {},
   "outputs": [],
   "source": [
    "# can also embed the code within the brackets rather than creating as a separate object\n",
    "_ = pydb.start_query_execution_and_wait(f\"\"\"DROP TABLE {database2}.test_table\"\"\")"
   ]
  },
  {
   "cell_type": "markdown",
   "metadata": {},
   "source": [
    "## 1. Applications - creating childout parties data"
   ]
  },
  {
   "cell_type": "markdown",
   "metadata": {},
   "source": [
    "#### 1.1. Applications - table of all applications, filtered by specific order types"
   ]
  },
  {
   "cell_type": "code",
   "execution_count": 16,
   "metadata": {},
   "outputs": [],
   "source": [
    "# Creating a table with all the applications for CA, codes selected from the order type lookup file.\n",
    "# The cross join unnest function flattens the application values to one row per app type\n",
    "ca1 = f\"\"\"\n",
    "SELECT \n",
    "    e.case_number,\n",
    "    e.receipt_date,\n",
    "    EXTRACT(year FROM e.receipt_date) AS year,\n",
    "    EXTRACT(quarter FROM e.receipt_date) AS quarter,\n",
    "    f.event,\n",
    "    f.field_model,\n",
    "    f.value ord_types,\n",
    "    TRIM(ord_type) as ord_type,\n",
    "    CAST(SUBSTR(CAST(f.event AS varchar),1,3) AS integer) AS court_code\n",
    "  FROM \n",
    "    {database}.event_fields F\n",
    "    INNER JOIN {database}.events e\n",
    "      ON f.event = e.event\n",
    "    CROSS JOIN UNNEST(SPLIT(f.value,',')) AS t(ord_type)\n",
    "  WHERE \n",
    "    field_model IN('U22_AT','G50_AT')\n",
    "    AND   TRIM(ord_type) IN (SELECT \n",
    "                               order_type \n",
    "                             FROM \n",
    "                              {database2}.order_type_lookup\n",
    "                             WHERE \n",
    "                               child_act = 'Y')\n",
    "    AND e.error = 'N'\n",
    "    AND f.mojap_snapshot_date = DATE'{snapshot_date}'\n",
    "    AND e.mojap_snapshot_date = DATE'{snapshot_date}'\n",
    "\"\"\"\n",
    "\n",
    "pydb.create_temp_table(ca1, \"ca_apps\")"
   ]
  },
  {
   "cell_type": "markdown",
   "metadata": {},
   "source": [
    "#### 1.2. Children (events) - joining the children onto the application data where children are recorded on the event"
   ]
  },
  {
   "cell_type": "code",
   "execution_count": 17,
   "metadata": {},
   "outputs": [],
   "source": [
    "# Only events with children recorded are included. Children not recorded in the value field are dealt with in the following step\n",
    "# As with the previous code above, the cross join unnest flattens the child data to 1 row per child recorded against the application (event)\n",
    "ca2 = f\"\"\"\n",
    "  SELECT \n",
    "    a.*,\n",
    "    f.value children,\n",
    "    TRY_CAST(TRIM(child_role_id) as bigint) child_role_id\n",
    "  FROM \n",
    "    __temp__.ca_apps a\n",
    "    LEFT JOIN {database}.event_fields f\n",
    "      ON f.event = a.event\n",
    "   CROSS JOIN UNNEST(SPLIT(f.value,',')) AS t(child_role_id)\n",
    "  WHERE f.field_model IN('U22_CH','G50_CH')\n",
    "    AND child_role_id <> ''\n",
    "    AND f.mojap_snapshot_date = DATE'{snapshot_date}'\n",
    "\"\"\"\n",
    "\n",
    "pydb.create_temp_table(ca2, \"ca_apps_child_event\")"
   ]
  },
  {
   "cell_type": "markdown",
   "metadata": {},
   "source": [
    "#### 1.3. Children (case) - joining the children onto the application data using the roles table (via case number) where children are not recorded under the event. "
   ]
  },
  {
   "cell_type": "code",
   "execution_count": 18,
   "metadata": {},
   "outputs": [],
   "source": [
    "# Take all events where no children were recorded against the event in the previous table and get children details from the roles/parties tables.\n",
    "# It is assumed all children on the case were involved in the application\n",
    "# Adding date of birth and gender from the parties table\n",
    "ca3 = f\"\"\"\n",
    "  SELECT\n",
    "    a.*,\n",
    "    r.role child_role_id,\n",
    "    p.dob,\n",
    "    p.gender,\n",
    "    r.delete_flag\n",
    "  FROM\n",
    "    __temp__.ca_apps a\n",
    "    JOIN {database}.roles r \n",
    "      on a.case_number = r.case_number\n",
    "    JOIN {database}.parties p \n",
    "      on r.party = p.party \n",
    "  WHERE\n",
    "    event not in (SELECT event FROM __temp__.ca_apps_child_event)\n",
    "    AND role_model in ('CHLDC', 'CHLDZ')\n",
    "    AND r.mojap_snapshot_date = DATE'{snapshot_date}'\n",
    "    AND p.mojap_snapshot_date = DATE'{snapshot_date}'\n",
    "\"\"\"\n",
    "\n",
    "pydb.create_temp_table(ca3, \"ca_apps_child_case\")"
   ]
  },
  {
   "cell_type": "markdown",
   "metadata": {},
   "source": [
    "#### 1.4. Appending children from events and children from case"
   ]
  },
  {
   "cell_type": "code",
   "execution_count": 19,
   "metadata": {},
   "outputs": [],
   "source": [
    "# Unioning the dataset where child details were taken from the event to the table where the child details were taken from the roles table\n",
    "# Gender and DoB of the child are added to the children from events table\n",
    "ca4 = f\"\"\"\n",
    "  SELECT \n",
    "    a.case_number,\n",
    "    a.receipt_date,\n",
    "    a.year,\n",
    "    a.quarter,\n",
    "    a.event,\n",
    "    a.field_model,\n",
    "    a.court_code,\n",
    "    a.ord_type,\n",
    "    a.child_role_id,\n",
    "    p.dob,\n",
    "    p.gender,\n",
    "    r.delete_flag\n",
    "  FROM\n",
    "    __temp__.ca_apps_child_event a\n",
    "    JOIN {database}.roles r on a.child_role_id = r.role\n",
    "    JOIN {database}.parties p on r.party = p.party \n",
    "  WHERE\n",
    "    r.mojap_snapshot_date = DATE'{snapshot_date}'\n",
    "    AND p.mojap_snapshot_date = DATE'{snapshot_date}'\n",
    "  UNION ALL\n",
    "  SELECT\n",
    "    case_number,\n",
    "    receipt_date,\n",
    "    year,\n",
    "    quarter,\n",
    "    event,\n",
    "    field_model,\n",
    "    court_code,\n",
    "    ord_type,\n",
    "    child_role_id,\n",
    "    dob,\n",
    "    gender,\n",
    "    delete_flag\n",
    "  FROM\n",
    "    __temp__.ca_apps_child_case\n",
    "\"\"\"\n",
    "\n",
    "pydb.create_temp_table(ca4, \"ca_apps_all_children\")"
   ]
  },
  {
   "cell_type": "markdown",
   "metadata": {},
   "source": [
    "#### 1.5 Ranking duplicate child/order type data within a case"
   ]
  },
  {
   "cell_type": "code",
   "execution_count": 20,
   "metadata": {},
   "outputs": [],
   "source": [
    "# The apps all children table contains some records with the same order type for the same child in the same case. Here we\n",
    "# order the cases so that in those cases initial apps are ranked earlier than subsequent apps, and where the ord type is the same the earliest app is ranked highest\n",
    "ca5 = f\"\"\"\n",
    "SELECT\n",
    "    *,\n",
    "    substr(case_number, 5,1) as case_type,\n",
    "    ROW_NUMBER() OVER(PARTITION BY year, case_number, child_role_id, ord_type \n",
    "                       ORDER BY case_number, child_role_id, ord_type, field_model DESC, receipt_date ASC) \n",
    "      AS dup_rank\n",
    "FROM \n",
    "   __temp__.\"ca_apps_all_children\"\n",
    "\"\"\"\n",
    "\n",
    "pydb.create_temp_table(ca5, \"ca_apps_dup_rank\")"
   ]
  },
  {
   "cell_type": "markdown",
   "metadata": {},
   "source": [
    "#### 1.6 Selecting the earliest duplicate child/order record within a case"
   ]
  },
  {
   "cell_type": "code",
   "execution_count": 21,
   "metadata": {},
   "outputs": [],
   "source": [
    "# Select the ealliest record for each duplicate order type per child\n",
    "# Add whether public or private law case type (potentially revisit this as private law may contain adoption cases)\n",
    "ca6 = f\"\"\"\n",
    "SELECT\n",
    "    year,\n",
    "    quarter,\n",
    "    case_number,\n",
    "    receipt_date,\n",
    "    event,\n",
    "    field_model,\n",
    "    ord_type,\n",
    "    child_role_id,\n",
    "    court_code,\n",
    "    CASE WHEN ord_type in ('CRO','SSC','DCO','OSA','SO','DSO','OC','OCST','ARC','ARST','ESO','XESO','CAO','EPO','XEPO','DEPO','WEP')\n",
    "      OR case_type = 'C' THEN 'C' Else 'P' end as case_type\n",
    "    \n",
    "FROM \n",
    "   __temp__.ca_apps_dup_rank\n",
    "WHERE\n",
    "  dup_rank = 1\n",
    "  and delete_flag = 'N'\n",
    "\"\"\"\n",
    "\n",
    "pydb.create_temp_table(ca6, \"ca_apps_child_count\")"
   ]
  },
  {
   "cell_type": "markdown",
   "metadata": {},
   "source": [
    "## 2. Order count data"
   ]
  },
  {
   "cell_type": "markdown",
   "metadata": {},
   "source": [
    "#### 2.1 Creating order count data"
   ]
  },
  {
   "cell_type": "code",
   "execution_count": 22,
   "metadata": {},
   "outputs": [],
   "source": [
    "# Remove the child ID and group up so we only count an order type within an event once, rather than per child\n",
    "ca7 = f\"\"\"\n",
    "SELECT \n",
    "  DISTINCT \n",
    "    year,\n",
    "    quarter,\n",
    "    case_number,\n",
    "    case_type,\n",
    "    receipt_date,\n",
    "    event,\n",
    "    court_code,\n",
    "    ord_type\n",
    "FROM \n",
    "  __temp__.ca_apps_child_count\n",
    "\"\"\"\n",
    "\n",
    "pydb.create_temp_table(ca7, \"ca_apps_order_count\")"
   ]
  },
  {
   "cell_type": "markdown",
   "metadata": {},
   "source": [
    "## 3. Application count data"
   ]
  },
  {
   "cell_type": "markdown",
   "metadata": {},
   "source": [
    "#### 3.1 Creating applications data"
   ]
  },
  {
   "cell_type": "code",
   "execution_count": 23,
   "metadata": {},
   "outputs": [],
   "source": [
    "# Counting applications (individual events). Here multiple orders applied for under one event are only counted once\n",
    "ca8 = f\"\"\"\n",
    "SELECT \n",
    "  DISTINCT \n",
    "    year,\n",
    "    quarter,\n",
    "    case_number,\n",
    "    case_type,\n",
    "    receipt_date,\n",
    "    event,\n",
    "    court_code\n",
    "FROM \n",
    "  __temp__.ca_apps_child_count\n",
    "\"\"\"\n",
    "\n",
    "pydb.create_temp_table(ca8, \"ca_apps_event_count\")"
   ]
  },
  {
   "cell_type": "markdown",
   "metadata": {},
   "source": [
    "## 4. Case count data"
   ]
  },
  {
   "cell_type": "markdown",
   "metadata": {},
   "source": [
    "#### 4.1 Creating cases data"
   ]
  },
  {
   "cell_type": "code",
   "execution_count": 24,
   "metadata": {},
   "outputs": [],
   "source": [
    "# Keeping just one record per case, and selecting the earliest record\n",
    "ca9 = f\"\"\"\n",
    "SELECT    \n",
    "  case_type,    \n",
    "  case_number,\n",
    "  (MIN(receipt_date)) AS MIN_of_RECEIPT_DATE,\n",
    "  EXTRACT (YEAR FROM (MIN(receipt_date))) AS Year,\n",
    "  EXTRACT (QUARTER FROM (MIN(receipt_date))) AS Quarter\n",
    "FROM \n",
    "  __temp__.ca_apps_event_count\n",
    "GROUP BY \n",
    "  case_type, \n",
    "  case_number\n",
    "\"\"\"\n",
    "\n",
    "pydb.create_temp_table(ca9, \"ca_apps_case_count\")"
   ]
  },
  {
   "cell_type": "markdown",
   "metadata": {},
   "source": [
    "## 5. Individual children"
   ]
  },
  {
   "cell_type": "markdown",
   "metadata": {},
   "source": [
    "#### 5.1 Individual children by year"
   ]
  },
  {
   "cell_type": "code",
   "execution_count": null,
   "metadata": {},
   "outputs": [],
   "source": [
    "# Counting applications for individual children within a year\n",
    "ca10 = f\"\"\"\n",
    "SELECT    \n",
    "  *,    \n",
    "  ROW_NUMBER() OVER(PARTITION BY year, child_role_id, case_type\n",
    "                       ORDER BY child_role_id, year, receipt_date ASC) \n",
    "      AS child_count_yr\n",
    "FROM \n",
    "  __temp__.ca_apps_child_count\n",
    "\"\"\"\n",
    "\n",
    "pydb.create_temp_table(ca10, \"ca_apps_rank_child_yr\")"
   ]
  },
  {
   "cell_type": "code",
   "execution_count": null,
   "metadata": {
    "jupyter": {
     "source_hidden": true
    }
   },
   "outputs": [],
   "source": [
    "pydb.read_sql_query(\"select * from __temp__.ca_apps_rank_child_yr\")"
   ]
  },
  {
   "cell_type": "code",
   "execution_count": null,
   "metadata": {},
   "outputs": [],
   "source": [
    "# Keeping only the earliest application per child per year\n",
    "ca10 = f\"\"\"\n",
    "SELECT    \n",
    "  year, \n",
    "  quarter,\n",
    "  case_number,\n",
    "  child_role_id,\n",
    "  case_type\n",
    "FROM \n",
    "  __temp__.ca_apps_rank_child_yr\n",
    "WHERE\n",
    "  child_count_yr = 1\n",
    "\"\"\"\n",
    "\n",
    "pydb.create_temp_table(ca10, \"ca_apps_ind_child_yr\")"
   ]
  },
  {
   "cell_type": "markdown",
   "metadata": {},
   "source": [
    "#### Individual children by quarter"
   ]
  },
  {
   "cell_type": "code",
   "execution_count": null,
   "metadata": {},
   "outputs": [],
   "source": [
    "# Counting applications for individual children within a quarter\n",
    "ca11 = f\"\"\"\n",
    "SELECT    \n",
    "  *,    \n",
    "  ROW_NUMBER() OVER(PARTITION BY year, quarter, child_role_id, case_type\n",
    "                       ORDER BY child_role_id, year, quarter, receipt_date ASC) \n",
    "      AS child_count_qtr\n",
    "FROM \n",
    "  __temp__.ca_apps_child_count\n",
    "\"\"\"\n",
    "\n",
    "pydb.create_temp_table(ca11, \"ca_apps_rank_child_qtr\")"
   ]
  },
  {
   "cell_type": "code",
   "execution_count": null,
   "metadata": {},
   "outputs": [],
   "source": [
    "# Keeping only the earliest application per child per quarter\n",
    "ca10 = f\"\"\"\n",
    "SELECT    \n",
    "  year, \n",
    "  quarter,\n",
    "  case_number,\n",
    "  child_role_id,\n",
    "  case_type\n",
    "FROM \n",
    "  __temp__.ca_apps_rank_child_qtr\n",
    "WHERE\n",
    "  child_count_qtr = 1\n",
    "\"\"\"\n",
    "\n",
    "pydb.create_temp_table(ca10, \"ca_apps_ind_child_qtr\")"
   ]
  },
  {
   "cell_type": "markdown",
   "metadata": {},
   "source": [
    "## 6. High Court"
   ]
  },
  {
   "cell_type": "code",
   "execution_count": null,
   "metadata": {
    "jupyter": {
     "source_hidden": true
    }
   },
   "outputs": [],
   "source": [
    "# Keeping only the earliest application per child per quarter\n",
    "ca11 = f\"\"\"\n",
    "SELECT    \n",
    "  c.year, \n",
    "  c.quarter,\n",
    "  c.case_type,\n",
    "  c.case_number,\n",
    "  e.creating_court,\n",
    "  f.value\n",
    "FROM \n",
    "  __temp__.ca_apps_case_count c\n",
    " LEFT JOIN {database}.events e\n",
    "   ON c.case_number = e.case_number \n",
    " LEFT JOIN {database}.event_fields F\n",
    "   ON e.case_number = f.case_number\n",
    "WHERE\n",
    "  f.field_model = 'FM2C_HC'\n",
    "  AND f.value = 'Y'\n",
    "  AND f.mojap_snapshot_date = DATE'{snapshot_date}'\n",
    "  AND e.mojap_snapshot_date = DATE'{snapshot_date}'\n",
    "  AND e.error = 'N'\n",
    "\"\"\"\n",
    "\n",
    "pydb.create_temp_table(ca11, \"ca_apps_high_court\")"
   ]
  },
  {
   "cell_type": "code",
   "execution_count": null,
   "metadata": {},
   "outputs": [],
   "source": [
    "# extracting high court cases listed against the case field\n",
    "ca11 = f\"\"\"\n",
    "WITH high_court_cases AS (\n",
    "\n",
    "SELECT\n",
    "  DISTINCT\n",
    "  c.case_number,\n",
    "  c.value as case_HC_value,\n",
    "  e.creating_court,\n",
    "  CASE WHEN e.creating_court in ('EC','FD','IL','LB','WT','ZC')\n",
    "        THEN 'Central London DFJ'\n",
    "          ELSE 'Not Central London DFJ'\n",
    "    END AS HC_London_Ind,\n",
    "  ROW_NUMBER() OVER(PARTITION BY c.case_number, c.value\n",
    "                       ORDER BY c.case_number, c.value DESC, receipt_date ASC) \n",
    "      AS case_rank\n",
    "FROM\n",
    "  {database}.case_fields c\n",
    "  LEFT JOIN {database}.events e\n",
    "    on c.case_number = e.case_number\n",
    "WHERE\n",
    "  (c.field_model = 'FM2C_HC' AND c.value = 'Y') \n",
    "  AND e.event_model = 'U22'\n",
    "  AND e.error = 'N'\n",
    "  AND c.mojap_snapshot_date = DATE'{snapshot_date}'\n",
    "  AND e.mojap_snapshot_date = DATE'{snapshot_date}'\n",
    "  \n",
    ")\n",
    "\n",
    "SELECT\n",
    "  *\n",
    "FROM \n",
    "  high_court_cases\n",
    "WHERE \n",
    "  case_rank = 1;\n",
    "\n",
    "\n",
    "\"\"\"\n",
    "\n",
    "pydb.create_temp_table(ca11, \"ca_high_court_cases\")"
   ]
  },
  {
   "cell_type": "code",
   "execution_count": null,
   "metadata": {},
   "outputs": [],
   "source": [
    "pydb.read_sql_query(\"select * from __temp__.ca_high_court_cases where case_rank = 2\")"
   ]
  },
  {
   "cell_type": "code",
   "execution_count": null,
   "metadata": {},
   "outputs": [],
   "source": [
    "pydb.read_sql_query(\n",
    "    \"select case_number, count(*) count from __temp__.ca_high_court_cases group by case_number having count (case_number) > 1 \"\n",
    ")"
   ]
  },
  {
   "cell_type": "code",
   "execution_count": null,
   "metadata": {},
   "outputs": [],
   "source": [
    "pydb.read_sql_query(\n",
    "    \"select * from __temp__.ca_high_court_cases where case_number in ('HG05P00436','CV04P00272') \"\n",
    ")"
   ]
  },
  {
   "cell_type": "code",
   "execution_count": null,
   "metadata": {},
   "outputs": [],
   "source": [
    "# link high court cases to original case table\n",
    "ca12 = f\"\"\"\n",
    "SELECT\n",
    "  c.*,\n",
    "  h.case_HC_value,\n",
    "  h.creating_court AS HC_U22_court,\n",
    "  h.HC_London_ind\n",
    "FROM\n",
    "  __temp__.ca_apps_case_count c\n",
    "  LEFT JOIN __temp__.ca_high_court_cases h\n",
    "    ON c.case_number = h.case_number\n",
    "\"\"\"\n",
    "pydb.create_temp_table(ca12, \"ca_cases_HC\")"
   ]
  },
  {
   "cell_type": "code",
   "execution_count": null,
   "metadata": {},
   "outputs": [],
   "source": [
    "pydb.read_sql_query(\n",
    "    \"select * from __temp__.ca_cases_HC where case_hc_value is not null\"\n",
    ")"
   ]
  },
  {
   "cell_type": "markdown",
   "metadata": {},
   "source": [
    "## Parties"
   ]
  },
  {
   "cell_type": "markdown",
   "metadata": {},
   "source": [
    "#### Creating a table with applicants and respondents"
   ]
  },
  {
   "cell_type": "code",
   "execution_count": 30,
   "metadata": {},
   "outputs": [],
   "source": [
    "ca13 = f\"\"\"\n",
    "  SELECT\n",
    "    DISTINCT\n",
    "    r.role_model,\n",
    "    CASE WHEN r.role_model in ('APLC','APLZ','APLA')\n",
    "          THEN 'Applicant'\n",
    "         WHEN r.role_model in ('RSPC','RSPZ','RSPA')\n",
    "          THEN 'Respondent'\n",
    "      END AS case_role, \n",
    "    r.role role_id,\n",
    "    r.party as party_id,\n",
    "    r.case_number,\n",
    "    p.gender\n",
    "  FROM\n",
    "    {database}.roles r \n",
    "    JOIN {database}.parties p \n",
    "      on r.party = p.party \n",
    "  WHERE\n",
    "    r.role_model in ('APLC','APLZ','APLA','RSPC','RSPZ','RSPA')\n",
    "    AND r.mojap_snapshot_date = DATE'{snapshot_date}'\n",
    "    AND p.mojap_snapshot_date = DATE'{snapshot_date}'\n",
    "    AND r.delete_flag = 'N'\n",
    "\"\"\"\n",
    "\n",
    "pydb.create_temp_table(ca13, \"app_resp\")"
   ]
  },
  {
   "cell_type": "markdown",
   "metadata": {},
   "source": [
    "#### Linking applicants to case starts"
   ]
  },
  {
   "cell_type": "code",
   "execution_count": 48,
   "metadata": {},
   "outputs": [],
   "source": [
    "ca14 = f\"\"\"\n",
    "  SELECT\n",
    "    c.year,\n",
    "    c.quarter,\n",
    "    c.MIN_of_RECEIPT_DATE,\n",
    "    c.case_number,\n",
    "    c.case_type,\n",
    "    r.role_model,\n",
    "    r.case_role, \n",
    "    r.role_id,\n",
    "    r.party_id,\n",
    "    r.gender,\n",
    "    ROW_NUMBER() OVER(PARTITION BY c.case_number\n",
    "                      ORDER BY c.case_number) \n",
    "      AS applicant_count\n",
    "  FROM\n",
    "    __temp__.ca_apps_case_count c \n",
    "    JOIN __temp__.app_resp r \n",
    "      on c.case_number = r.case_number \n",
    "  WHERE\n",
    "    r.case_role = 'Applicant'\n",
    "\"\"\"\n",
    "\n",
    "pydb.create_temp_table(ca14, \"applicants\")"
   ]
  },
  {
   "cell_type": "code",
   "execution_count": 43,
   "metadata": {},
   "outputs": [
    {
     "data": {
      "text/html": [
       "<div>\n",
       "<style scoped>\n",
       "    .dataframe tbody tr th:only-of-type {\n",
       "        vertical-align: middle;\n",
       "    }\n",
       "\n",
       "    .dataframe tbody tr th {\n",
       "        vertical-align: top;\n",
       "    }\n",
       "\n",
       "    .dataframe thead th {\n",
       "        text-align: right;\n",
       "    }\n",
       "</style>\n",
       "<table border=\"1\" class=\"dataframe\">\n",
       "  <thead>\n",
       "    <tr style=\"text-align: right;\">\n",
       "      <th></th>\n",
       "      <th>year</th>\n",
       "      <th>quarter</th>\n",
       "      <th>min_of_receipt_date</th>\n",
       "      <th>case_number</th>\n",
       "      <th>role_model</th>\n",
       "      <th>case_role</th>\n",
       "      <th>role_id</th>\n",
       "      <th>party_id</th>\n",
       "      <th>gender</th>\n",
       "      <th>applicant_count</th>\n",
       "    </tr>\n",
       "  </thead>\n",
       "  <tbody>\n",
       "    <tr>\n",
       "      <th>0</th>\n",
       "      <td>2011</td>\n",
       "      <td>1</td>\n",
       "      <td>2011-01-13</td>\n",
       "      <td>US11P00027</td>\n",
       "      <td>APLC</td>\n",
       "      <td>Applicant</td>\n",
       "      <td>930808</td>\n",
       "      <td>981367</td>\n",
       "      <td>2</td>\n",
       "      <td>1</td>\n",
       "    </tr>\n",
       "    <tr>\n",
       "      <th>1</th>\n",
       "      <td>2011</td>\n",
       "      <td>1</td>\n",
       "      <td>2011-01-13</td>\n",
       "      <td>US11P00027</td>\n",
       "      <td>APLC</td>\n",
       "      <td>Applicant</td>\n",
       "      <td>930807</td>\n",
       "      <td>981366</td>\n",
       "      <td>1</td>\n",
       "      <td>2</td>\n",
       "    </tr>\n",
       "  </tbody>\n",
       "</table>\n",
       "</div>"
      ],
      "text/plain": [
       "   year  quarter min_of_receipt_date case_number role_model  case_role  role_id  party_id  gender  applicant_count\n",
       "0  2011        1          2011-01-13  US11P00027       APLC  Applicant   930808    981367       2                1\n",
       "1  2011        1          2011-01-13  US11P00027       APLC  Applicant   930807    981366       1                2"
      ]
     },
     "execution_count": 43,
     "metadata": {},
     "output_type": "execute_result"
    }
   ],
   "source": [
    "pydb.read_sql_query(\"select * from __temp__.applicants where case_number = 'US11P00027'\")"
   ]
  },
  {
   "cell_type": "markdown",
   "metadata": {},
   "source": [
    "#### Linking respondents to case starts"
   ]
  },
  {
   "cell_type": "code",
   "execution_count": 49,
   "metadata": {},
   "outputs": [],
   "source": [
    "ca15 = f\"\"\"\n",
    "  SELECT\n",
    "    c.year,\n",
    "    c.quarter,\n",
    "    c.MIN_of_RECEIPT_DATE,\n",
    "    c.case_number,\n",
    "    c.case_type,\n",
    "    r.role_model,\n",
    "    r.case_role, \n",
    "    r.role_id,\n",
    "    r.party_id,\n",
    "    r.gender,\n",
    "    ROW_NUMBER() OVER(PARTITION BY c.case_number\n",
    "                      ORDER BY c.case_number) \n",
    "      AS respondent_count\n",
    "  FROM\n",
    "    __temp__.ca_apps_case_count c \n",
    "    JOIN __temp__.app_resp r \n",
    "      on c.case_number = r.case_number \n",
    "  WHERE\n",
    "    r.case_role = 'Respondent'\n",
    "\"\"\"\n",
    "\n",
    "pydb.create_temp_table(ca15, \"respondents\")"
   ]
  },
  {
   "cell_type": "markdown",
   "metadata": {},
   "source": [
    "#### Counting applicants and respondents in each case"
   ]
  },
  {
   "cell_type": "code",
   "execution_count": 58,
   "metadata": {},
   "outputs": [],
   "source": [
    "ca16 = f\"\"\"\n",
    "  SELECT\n",
    "    c.year,\n",
    "    c.quarter,\n",
    "    c.case_number,\n",
    "    c.case_type,\n",
    "    MAX(a.applicant_count) as No_of_applicants,\n",
    "    MAX(r.respondent_count) as No_of_respondents\n",
    "  FROM\n",
    "    __temp__.ca_apps_case_count c \n",
    "    JOIN __temp__.applicants a \n",
    "      on c.case_number = a.case_number\n",
    "    JOIN __temp__.respondents r\n",
    "      on c.case_number = r.case_number  \n",
    "  GROUP BY\n",
    "    c.year,\n",
    "    c.quarter,\n",
    "    c.case_type,\n",
    "    c.case_number\n",
    "\"\"\"\n",
    "pydb.create_temp_table(ca16, \"party_count\")\n"
   ]
  },
  {
   "cell_type": "code",
   "execution_count": null,
   "metadata": {},
   "outputs": [],
   "source": []
  },
  {
   "cell_type": "code",
   "execution_count": 62,
   "metadata": {},
   "outputs": [
    {
     "data": {
      "text/html": [
       "<div>\n",
       "<style scoped>\n",
       "    .dataframe tbody tr th:only-of-type {\n",
       "        vertical-align: middle;\n",
       "    }\n",
       "\n",
       "    .dataframe tbody tr th {\n",
       "        vertical-align: top;\n",
       "    }\n",
       "\n",
       "    .dataframe thead th {\n",
       "        text-align: right;\n",
       "    }\n",
       "</style>\n",
       "<table border=\"1\" class=\"dataframe\">\n",
       "  <thead>\n",
       "    <tr style=\"text-align: right;\">\n",
       "      <th></th>\n",
       "      <th>year</th>\n",
       "      <th>case_type</th>\n",
       "      <th>count</th>\n",
       "    </tr>\n",
       "  </thead>\n",
       "  <tbody>\n",
       "    <tr>\n",
       "      <th>0</th>\n",
       "      <td>2017</td>\n",
       "      <td>C</td>\n",
       "      <td>19008</td>\n",
       "    </tr>\n",
       "    <tr>\n",
       "      <th>1</th>\n",
       "      <td>2018</td>\n",
       "      <td>C</td>\n",
       "      <td>18915</td>\n",
       "    </tr>\n",
       "    <tr>\n",
       "      <th>2</th>\n",
       "      <td>2019</td>\n",
       "      <td>C</td>\n",
       "      <td>18274</td>\n",
       "    </tr>\n",
       "    <tr>\n",
       "      <th>3</th>\n",
       "      <td>2020</td>\n",
       "      <td>C</td>\n",
       "      <td>17955</td>\n",
       "    </tr>\n",
       "  </tbody>\n",
       "</table>\n",
       "</div>"
      ],
      "text/plain": [
       "   year case_type  count\n",
       "0  2017         C  19008\n",
       "1  2018         C  18915\n",
       "2  2019         C  18274\n",
       "3  2020         C  17955"
      ]
     },
     "execution_count": 62,
     "metadata": {},
     "output_type": "execute_result"
    }
   ],
   "source": [
    "pydb.read_sql_query(\"select year, case_type, count(*) count from __temp__.party_count where year between 2017 and 2020 and no_of_applicants = 1 and case_type = 'C' group by year,case_type order by year\")"
   ]
  },
  {
   "cell_type": "code",
   "execution_count": 63,
   "metadata": {},
   "outputs": [
    {
     "data": {
      "text/html": [
       "<div>\n",
       "<style scoped>\n",
       "    .dataframe tbody tr th:only-of-type {\n",
       "        vertical-align: middle;\n",
       "    }\n",
       "\n",
       "    .dataframe tbody tr th {\n",
       "        vertical-align: top;\n",
       "    }\n",
       "\n",
       "    .dataframe thead th {\n",
       "        text-align: right;\n",
       "    }\n",
       "</style>\n",
       "<table border=\"1\" class=\"dataframe\">\n",
       "  <thead>\n",
       "    <tr style=\"text-align: right;\">\n",
       "      <th></th>\n",
       "      <th>year</th>\n",
       "      <th>case_type</th>\n",
       "      <th>count</th>\n",
       "    </tr>\n",
       "  </thead>\n",
       "  <tbody>\n",
       "    <tr>\n",
       "      <th>0</th>\n",
       "      <td>2017</td>\n",
       "      <td>P</td>\n",
       "      <td>48368</td>\n",
       "    </tr>\n",
       "    <tr>\n",
       "      <th>1</th>\n",
       "      <td>2018</td>\n",
       "      <td>P</td>\n",
       "      <td>49808</td>\n",
       "    </tr>\n",
       "    <tr>\n",
       "      <th>2</th>\n",
       "      <td>2019</td>\n",
       "      <td>P</td>\n",
       "      <td>52812</td>\n",
       "    </tr>\n",
       "    <tr>\n",
       "      <th>3</th>\n",
       "      <td>2020</td>\n",
       "      <td>P</td>\n",
       "      <td>53376</td>\n",
       "    </tr>\n",
       "  </tbody>\n",
       "</table>\n",
       "</div>"
      ],
      "text/plain": [
       "   year case_type  count\n",
       "0  2017         P  48368\n",
       "1  2018         P  49808\n",
       "2  2019         P  52812\n",
       "3  2020         P  53376"
      ]
     },
     "execution_count": 63,
     "metadata": {},
     "output_type": "execute_result"
    }
   ],
   "source": [
    "pydb.read_sql_query(\"select year, case_type, count(*) count from __temp__.party_count where year between 2017 and 2020 and no_of_applicants = 1 and case_type = 'P' group by year,case_type order by year\")"
   ]
  },
  {
   "cell_type": "code",
   "execution_count": null,
   "metadata": {},
   "outputs": [],
   "source": []
  }
 ],
 "metadata": {
  "kernelspec": {
   "display_name": "Python 3",
   "language": "python",
   "name": "python3"
  },
  "language_info": {
   "codemirror_mode": {
    "name": "ipython",
    "version": 3
   },
   "file_extension": ".py",
   "mimetype": "text/x-python",
   "name": "python",
   "nbconvert_exporter": "python",
   "pygments_lexer": "ipython3",
   "version": "3.7.1"
  }
 },
 "nbformat": 4,
 "nbformat_minor": 4
}
