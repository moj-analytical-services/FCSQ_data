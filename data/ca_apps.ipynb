{
 "cells": [
  {
   "cell_type": "markdown",
   "metadata": {},
   "source": [
    "# Children Act Applications\n",
    "\n",
    "### This code includes the following processes:\n",
    "1. Children Act applications data extraction, creating of child level dataset\n",
    "2. Creation of order level dataset\n",
    "3. Creation of application (events) level dataset\n",
    "4. Creation of case starts daatset\n",
    "5. Individual children (annual and quarterly)\n",
    "6. Extaction of High court information and creation of high court flag\n",
    "7. Extration of parties data and counting applicants/respondents in a case"
   ]
  },
  {
   "cell_type": "markdown",
   "metadata": {},
   "source": [
    "#### Import packages and set options"
   ]
  },
  {
   "cell_type": "code",
   "execution_count": null,
   "metadata": {},
   "outputs": [],
   "source": [
    "import os  # for file paths\n",
    "import pandas as pd\n",
    "import awswrangler as wr\n",
    "import pydbtools as pydb  # see https://github.com/moj-analytical-services/pydbtools\n",
    "\n",
    "# few things for viewing dataframes better\n",
    "pd.set_option(\"display.max_columns\", 100)\n",
    "pd.set_option(\"display.width\", 900)\n",
    "pd.set_option(\"display.max_colwidth\", 200)"
   ]
  },
  {
   "cell_type": "markdown",
   "metadata": {},
   "source": [
    "#### Defining variables"
   ]
  },
  {
   "cell_type": "code",
   "execution_count": null,
   "metadata": {},
   "outputs": [],
   "source": [
    "# define some variables to be used throughout the notebook\n",
    "db1 = \"familyman_dev_v2\" #database where Familyman data is stored\n",
    "snapshot_date = \"2021-11-11\" #To update where necessary\n",
    "db2 = \"fcsq\" #database where tables created as part of FCSQ processing are stored where required"
   ]
  },
  {
   "cell_type": "code",
   "execution_count": null,
   "metadata": {},
   "outputs": [],
   "source": [
    "# create path for within athena FCSQ database in the S3 folder\n",
    "fcsq_db_path = f\"s3://alpha-family-data/fcsq_processing/CA_apps/\""
   ]
  },
  {
   "cell_type": "markdown",
   "metadata": {},
   "source": [
    "## 1. Applications and children"
   ]
  },
  {
   "cell_type": "markdown",
   "metadata": {},
   "source": [
    "#### 1.1. Applications - table of all applications, filtered by specific order types"
   ]
  },
  {
   "cell_type": "code",
   "execution_count": null,
   "metadata": {},
   "outputs": [],
   "source": [
    "# Creating a table with all the applications for CA, codes selected from the order type lookup file.\n",
    "# The cross join unnest function flattens the application values to one row per app type\n",
    "pydb.create_temp_table( \n",
    "f\"\"\"\n",
    "SELECT \n",
    "    e.case_number,\n",
    "    e.receipt_date,\n",
    "    EXTRACT(year FROM e.receipt_date) AS year,\n",
    "    EXTRACT(quarter FROM e.receipt_date) AS quarter,\n",
    "    f.event,\n",
    "    f.field_model,\n",
    "    f.value as all_event_app_types,\n",
    "    TRIM(ord_type) as order_type,\n",
    "    CAST(SUBSTR(CAST(f.event AS varchar),1,3) AS integer) AS court_code\n",
    "  FROM \n",
    "    {db1}.event_fields F\n",
    "    INNER JOIN {db1}.events e\n",
    "      ON f.event = e.event\n",
    "    CROSS JOIN UNNEST(SPLIT(f.value,',')) AS t(ord_type)\n",
    "  WHERE \n",
    "    field_model IN('U22_AT','G50_AT')\n",
    "    AND   TRIM(ord_type) IN (SELECT \n",
    "                               order_type \n",
    "                             FROM \n",
    "                              {db2}.order_type_lookup\n",
    "                             WHERE \n",
    "                               child_act = 'Y')\n",
    "    AND e.error = 'N'\n",
    "    AND f.mojap_snapshot_date = DATE'{snapshot_date}'\n",
    "    AND e.mojap_snapshot_date = DATE'{snapshot_date}'\n",
    "\"\"\",\n",
    "\n",
    "\"ca_apps\")"
   ]
  },
  {
   "cell_type": "markdown",
   "metadata": {},
   "source": [
    "#### 1.2. Children (events) - joining children onto the application event where children are recorded on the event"
   ]
  },
  {
   "cell_type": "code",
   "execution_count": null,
   "metadata": {},
   "outputs": [],
   "source": [
    "# Only events with children recorded are included. Children not recorded in the value field are dealt with in the following step\n",
    "# As with the previous code above, the cross join unnest flattens the child data to 1 row per child recorded against the application (event)\n",
    "pydb.create_temp_table( \n",
    "f\"\"\"\n",
    "  SELECT \n",
    "    a.*,\n",
    "    f.value children,\n",
    "    TRY_CAST(TRIM(child_role_id) as bigint) child_role_id\n",
    "  FROM \n",
    "    __temp__.ca_apps a\n",
    "    LEFT JOIN {db1}.event_fields f\n",
    "      ON f.event = a.event\n",
    "   CROSS JOIN UNNEST(SPLIT(f.value,',')) AS t(child_role_id)\n",
    "  WHERE f.field_model IN('U22_CH','G50_CH')\n",
    "    AND child_role_id <> ''\n",
    "    AND f.mojap_snapshot_date = DATE'{snapshot_date}'\n",
    "\"\"\",\n",
    "\n",
    "\"ca_apps_child_event\")"
   ]
  },
  {
   "cell_type": "markdown",
   "metadata": {},
   "source": [
    "#### 1.2.1 Adding child characteristics for children recoreded on the event"
   ]
  },
  {
   "cell_type": "code",
   "execution_count": null,
   "metadata": {},
   "outputs": [],
   "source": [
    "#Linking to the party table to get date of birth and gender of the child. \n",
    "#Removes children that are flagged to delete in the roles table - these orders will be added to the child not recorded table and dob and gender will be unknown*/\n",
    "pydb.create_temp_table( \n",
    "f\"\"\"\n",
    "  SELECT \n",
    "    a.case_number,\n",
    "    a.receipt_date,\n",
    "    a.year,\n",
    "    a.quarter,\n",
    "    a.event,\n",
    "    a.field_model,\n",
    "    a.court_code,\n",
    "    a.order_type,\n",
    "    a.child_role_id,\n",
    "    p.dob,\n",
    "    p.gender\n",
    "  FROM\n",
    "    __temp__.ca_apps_child_event a\n",
    "    JOIN {db1}.roles r ON a.child_role_id = r.role\n",
    "    JOIN {db1}.parties p ON r.party = p.party \n",
    "  WHERE\n",
    "    r.delete_flag = 'N'\n",
    "    AND r.mojap_snapshot_date = DATE'{snapshot_date}'\n",
    "    AND p.mojap_snapshot_date = DATE'{snapshot_date}'\n",
    " \"\"\",\n",
    "\n",
    " \"ca_apps_child_event_2\")  "
   ]
  },
  {
   "cell_type": "markdown",
   "metadata": {},
   "source": [
    "#### 1.3. Children (case) - joining the children onto the application data using the roles table where children are not recorded on the event. "
   ]
  },
  {
   "cell_type": "code",
   "execution_count": null,
   "metadata": {},
   "outputs": [],
   "source": [
    "# Take all events where no children were recorded against the event in the children(events) table and get children details from the roles/parties tables.\n",
    "# Where there are no children recorded on the event then all children recorded in the case are considered involved in the application - this is not an assumption but based on how Familyman data entry works \n",
    "# This table does not include those where children are recorded on the event and are flagged to delete in the roles table. These children are included in the next stage\n",
    "# Adding date of birth and gender from the parties table\n",
    "pydb.create_temp_table( \n",
    "f\"\"\"\n",
    "  SELECT\n",
    "    a.*,\n",
    "    r.role child_role_id,\n",
    "    p.dob,\n",
    "    p.gender\n",
    "  FROM\n",
    "    __temp__.ca_apps a\n",
    "    JOIN {db1}.roles r \n",
    "      on a.case_number = r.case_number\n",
    "    JOIN {db1}.parties p \n",
    "      on r.party = p.party \n",
    "  WHERE\n",
    "    event NOT IN (SELECT event FROM __temp__.ca_apps_child_event)\n",
    "    AND role_model in ('CHLDC', 'CHLDZ')\n",
    "    AND r.delete_flag = 'N'\n",
    "    AND r.mojap_snapshot_date = DATE'{snapshot_date}'\n",
    "    AND p.mojap_snapshot_date = DATE'{snapshot_date}'\n",
    "\"\"\",\n",
    "\n",
    "\"ca_apps_child_case\")"
   ]
  },
  {
   "cell_type": "markdown",
   "metadata": {},
   "source": [
    "#### 1.4. Children (not recorded) - children that are not recorded on the event or the case. "
   ]
  },
  {
   "cell_type": "code",
   "execution_count": null,
   "metadata": {},
   "outputs": [],
   "source": [
    "#There are a small number of applicaitons where the children are not reocorded on the event and there are also no children recorded on the case (or all chilren recorded have a delete flag of 'Y'). This tends to be for DV cases, where CA order types \n",
    "#   may have been made but children are not necessarily recorded on the case. Here we default to just one child per order/disposal, with unknown characteristics. This is an assumption and will not always be correct.\n",
    "pydb.create_temp_table(\n",
    "f\"\"\"\n",
    "  SELECT\n",
    "    *,\n",
    "    CAST(NULL AS INTEGER) AS child_role_id,\n",
    "    CAST(NULL AS DATE) dob,\n",
    "    CAST(NULL AS INTEGER) AS gender\n",
    "  FROM\n",
    "    __temp__.ca_apps\n",
    "  WHERE\n",
    "    event NOT IN (SELECT event FROM __temp__.ca_apps_child_event_2)\n",
    "    AND event NOT IN (SELECT event FROM __temp__.ca_apps_child_case)\n",
    "\"\"\",\n",
    "\n",
    "\"ca_apps_no_child\")"
   ]
  },
  {
   "cell_type": "markdown",
   "metadata": {},
   "source": [
    "#### 1.5. Appending children from events, children from case and no child data sets"
   ]
  },
  {
   "cell_type": "code",
   "execution_count": null,
   "metadata": {},
   "outputs": [],
   "source": [
    "# Unioning all the children data sets together\n",
    "pydb.create_temp_table( \n",
    "f\"\"\"\n",
    "  SELECT \n",
    "    case_number,\n",
    "    receipt_date,\n",
    "    year,\n",
    "    quarter,\n",
    "    event,\n",
    "    field_model,\n",
    "    court_code,\n",
    "    order_type,\n",
    "    child_role_id,\n",
    "    dob,\n",
    "    gender\n",
    "  FROM\n",
    "    __temp__.ca_apps_child_event_2\n",
    "  UNION ALL\n",
    "  SELECT\n",
    "    case_number,\n",
    "    receipt_date,\n",
    "    year,\n",
    "    quarter,\n",
    "    event,\n",
    "    field_model,\n",
    "    court_code,\n",
    "    order_type,\n",
    "    child_role_id,\n",
    "    dob,\n",
    "    gender\n",
    "  FROM\n",
    "    __temp__.ca_apps_child_case\n",
    "  UNION ALL\n",
    "  SELECT\n",
    "    case_number,\n",
    "    receipt_date,\n",
    "    year,\n",
    "    quarter,\n",
    "    event,\n",
    "    field_model,\n",
    "    court_code,\n",
    "    order_type,\n",
    "    child_role_id,\n",
    "    dob,\n",
    "    gender\n",
    "  FROM\n",
    "    __temp__.ca_apps_no_child\n",
    "\"\"\",\n",
    "\n",
    " \"ca_apps_all_children\")"
   ]
  },
  {
   "cell_type": "markdown",
   "metadata": {},
   "source": [
    "#### Adding the order type details"
   ]
  },
  {
   "cell_type": "code",
   "execution_count": null,
   "metadata": {},
   "outputs": [],
   "source": [
    "# Order type code and description are added from the lookup. Lookup has been created independently from this process.\n",
    "pydb.create_temp_table( \n",
    "f\"\"\"\n",
    "SELECT\n",
    "    a.*,\n",
    "    l.order_code,\n",
    "    l.order_desc\n",
    "FROM \n",
    "   __temp__.ca_apps_all_children a\n",
    "   LEFT JOIN {db2}.order_type_lookup l\n",
    "     ON a.order_type = l.order_type\n",
    "\"\"\",\n",
    "\n",
    "\"ca_apps_order_type\")"
   ]
  },
  {
   "cell_type": "markdown",
   "metadata": {},
   "source": [
    "#### 1.6 Ranking duplicate child/order type data within a case"
   ]
  },
  {
   "cell_type": "code",
   "execution_count": null,
   "metadata": {},
   "outputs": [],
   "source": [
    "# The apps all children table contains some records with the same order type for the same child in the same case in the same year. \n",
    "# Here we order the cases so that in those cases initial apps are ranked earlier than subsequent apps, and where the ord type is the same the earliest app is ranked highest\n",
    "pydb.create_temp_table( \n",
    "f\"\"\"\n",
    "SELECT\n",
    "    *,\n",
    "    Floor((date_diff('day',cast(dob as date),cast(receipt_date as date)))/365.25) AS child_age,\n",
    "    substr(case_number, 5,1) as case_type,\n",
    "    ROW_NUMBER() OVER(PARTITION BY year, case_number, child_role_id, order_desc\n",
    "                       ORDER BY case_number, child_role_id, order_desc, field_model DESC, receipt_date ASC) \n",
    "      AS dup_rank\n",
    "FROM \n",
    "   __temp__.ca_apps_order_type\n",
    "\"\"\",\n",
    "\n",
    "\"ca_apps_dup_rank\")"
   ]
  },
  {
   "cell_type": "markdown",
   "metadata": {},
   "source": [
    "## 1.7 Children involved in applications dataset \n",
    "#### Children counted for every order type applied for"
   ]
  },
  {
   "cell_type": "code",
   "execution_count": null,
   "metadata": {},
   "outputs": [],
   "source": [
    "#drop table in Athena (if it already exists)\n",
    "_ = pydb.start_query_execution_and_wait(f\"\"\"DROP TABLE {db2}.ca_apps_child\"\"\")"
   ]
  },
  {
   "cell_type": "code",
   "execution_count": null,
   "metadata": {},
   "outputs": [],
   "source": [
    "# Select the ealliest record for each duplicate order type per child\n",
    "# Add whether public or private law case type (potentially revisit this as private law may contain adoption cases)\n",
    "\n",
    "#set S3 file path\n",
    "app_child_s3_path = os.path.join(fcsq_db_path, \"app_child/\")\n",
    "# Delete all the underlying data stored within the S3 location\n",
    "if wr.s3.list_objects(app_child_s3_path):\n",
    "    print(\"deleting objs\")\n",
    "    wr.s3.delete_objects(app_child_s3_path)\n",
    "    \n",
    "#Create table in Athena\n",
    "\n",
    "t_child =  f\"\"\"\n",
    "CREATE TABLE {db2}.ca_apps_child WITH\n",
    "(\n",
    "    external_location='{app_child_s3_path}'\n",
    ") AS\n",
    "SELECT\n",
    "    year,\n",
    "    quarter,\n",
    "    case_number,\n",
    "    receipt_date,\n",
    "    event,\n",
    "    field_model,\n",
    "    order_type,\n",
    "    order_code,\n",
    "    order_desc,\n",
    "    child_role_id,\n",
    "    CASE WHEN gender = 1 THEN 'Male'\n",
    "         WHEN gender = 2 THEN 'Female'\n",
    "        ELSE 'Unknown'\n",
    "      end as Gender,\n",
    "    dob,\n",
    "    child_age,\n",
    "    CASE WHEN Child_age is Null\n",
    "          THEN 'Unknown'\n",
    "         WHEN Child_age < 0\n",
    "          THEN 'Other'\n",
    "         WHEN Child_age < 1\n",
    "          THEN '<1 year'\n",
    "         WHEN Child_age<5\n",
    "           THEN '1-4 years'\n",
    "         WHEN Child_age<10\n",
    "          THEN '5-9 years'\n",
    "         WHEN Child_age<15\n",
    "          THEN '10-14 years'\n",
    "         WHEN Child_age<18\n",
    "          THEN '15-17 years'\n",
    "           ELSE 'Other'\n",
    "      END AS Age_band,\n",
    "    court_code,\n",
    "    CASE WHEN order_type in ('CRO','SSC','DCO','OSA','SO','DSO','OC','OCST','ARC','ARST','ESO','XESO','CAO','EPO','XEPO','DEPO','WEP')\n",
    "      OR case_type = 'C' THEN 'C' Else 'P' END \n",
    "     AS order_case_type\n",
    "FROM \n",
    "   __temp__.ca_apps_dup_rank\n",
    "WHERE\n",
    "  dup_rank = 1\n",
    "\"\"\"\n",
    "\n",
    "_ = pydb.start_query_execution_and_wait(t_child)"
   ]
  },
  {
   "cell_type": "markdown",
   "metadata": {},
   "source": [
    "## 2. Orders applied for"
   ]
  },
  {
   "cell_type": "code",
   "execution_count": null,
   "metadata": {},
   "outputs": [],
   "source": [
    "#drop table in Athena (if it already exists)\n",
    "_ = pydb.start_query_execution_and_wait(f\"\"\"DROP TABLE {db2}.ca_apps_order_types\"\"\")"
   ]
  },
  {
   "cell_type": "code",
   "execution_count": null,
   "metadata": {},
   "outputs": [],
   "source": [
    "# Remove the child ID and group up so we only count an order type within an event once, rather than per child\n",
    "\n",
    "#set S3 file path\n",
    "app_orders_s3_path = os.path.join(fcsq_db_path, \"app_order_types/\")\n",
    "# Delete all the underlying data stored within the S3 location\n",
    "if wr.s3.list_objects(app_orders_s3_path):\n",
    "    print(\"deleting objs\")\n",
    "    wr.s3.delete_objects(app_orders_s3_path)\n",
    "\n",
    "t_orders = f\"\"\"\n",
    "CREATE TABLE {db2}.ca_apps_order_types WITH\n",
    "(\n",
    "    external_location='{app_orders_s3_path}'\n",
    ") AS\n",
    "SELECT \n",
    "  DISTINCT \n",
    "    year,\n",
    "    quarter,\n",
    "    case_number,\n",
    "    order_case_type,\n",
    "    receipt_date,\n",
    "    event,\n",
    "    court_code,\n",
    "    order_type,\n",
    "    order_code,\n",
    "    order_desc\n",
    "FROM \n",
    "  {db2}.ca_apps_child\n",
    "\"\"\"\n",
    "\n",
    "_ = pydb.start_query_execution_and_wait(t_orders)"
   ]
  },
  {
   "cell_type": "markdown",
   "metadata": {},
   "source": [
    "## 3. Application count data"
   ]
  },
  {
   "cell_type": "code",
   "execution_count": null,
   "metadata": {},
   "outputs": [],
   "source": [
    "# Counting applications (individual events). Here multiple orders applied for under one event are only counted once\n",
    "pydb.create_temp_table( \n",
    "f\"\"\"\n",
    "SELECT \n",
    "  DISTINCT \n",
    "    year,\n",
    "    quarter,\n",
    "    case_number,\n",
    "    order_case_type,\n",
    "    CASE WHEN SUBSTR(case_number,5,1) NOT IN ('P','C')\n",
    "           THEN 'NA'\n",
    "         WHEN order_case_type = 'C' \n",
    "              AND case_number in (SELECT case_number\n",
    "                                  FROM {db2}.ca_apps_order_types\n",
    "                                  WHERE order_case_type = 'P')\n",
    "           THEN 'P'\n",
    "        ELSE order_case_type END\n",
    "      AS main_case_type,\n",
    "    receipt_date,\n",
    "    event,\n",
    "    court_code\n",
    "FROM \n",
    "  {db2}.ca_apps_child\n",
    "\"\"\",\n",
    "\n",
    "\"ca_apps_event_count\")"
   ]
  },
  {
   "cell_type": "markdown",
   "metadata": {},
   "source": [
    "## 4. Case count data"
   ]
  },
  {
   "cell_type": "code",
   "execution_count": null,
   "metadata": {},
   "outputs": [],
   "source": [
    "# Keeping just one record per case, and selecting the earliest record\n",
    "pydb.create_temp_table( \n",
    "f\"\"\"\n",
    "SELECT    \n",
    "  main_case_type,    \n",
    "  case_number,\n",
    "  (MIN(receipt_date)) AS MIN_of_RECEIPT_DATE,\n",
    "  EXTRACT (YEAR FROM (MIN(receipt_date))) AS Year,\n",
    "  EXTRACT (QUARTER FROM (MIN(receipt_date))) AS Quarter\n",
    "FROM \n",
    "  __temp__.ca_apps_event_count\n",
    "GROUP BY \n",
    "  main_case_type, \n",
    "  case_number\n",
    "\"\"\",\n",
    "\n",
    " \"ca_apps_case_count\")"
   ]
  },
  {
   "cell_type": "markdown",
   "metadata": {},
   "source": [
    "## 5. Individual children"
   ]
  },
  {
   "cell_type": "markdown",
   "metadata": {},
   "source": [
    "#### 5.1 Individual children by year"
   ]
  },
  {
   "cell_type": "code",
   "execution_count": null,
   "metadata": {},
   "outputs": [],
   "source": [
    "# Adding a count for the number of times an individual child appears within a year, and then selecting the earliest record\n",
    "pydb.create_temp_table( \n",
    "f\"\"\"\n",
    "WITH ca_apps_count_child_yr AS (\n",
    "\n",
    "SELECT    \n",
    "  *,    \n",
    "  ROW_NUMBER() OVER(PARTITION BY year, child_role_id, order_case_type\n",
    "                       ORDER BY child_role_id, year, receipt_date ASC) \n",
    "      AS child_count_yr\n",
    "FROM \n",
    "  {db2}.ca_apps_child\n",
    "  \n",
    ")\n",
    "  \n",
    "SELECT    \n",
    "  year, \n",
    "  quarter,\n",
    "  case_number,\n",
    "  child_role_id,\n",
    "  gender,\n",
    "  dob,\n",
    "  age_band,\n",
    "  order_case_type\n",
    "FROM \n",
    "  ca_apps_count_child_yr\n",
    "WHERE\n",
    "  child_count_yr = 1 \n",
    "\"\"\",\n",
    "\n",
    "\"ca_apps_ind_child_yr\")"
   ]
  },
  {
   "cell_type": "markdown",
   "metadata": {},
   "source": [
    "#### 5.2 Individual children by quarter"
   ]
  },
  {
   "cell_type": "code",
   "execution_count": null,
   "metadata": {},
   "outputs": [],
   "source": [
    "# Adding a count for the number of times an individual child appears within a quarter, and then selecting the earliest record\n",
    "pydb.create_temp_table( \n",
    "f\"\"\"\n",
    "WITH ca_apps_count_child_qtr AS (\n",
    "\n",
    "SELECT    \n",
    "  *,    \n",
    "  ROW_NUMBER() OVER(PARTITION BY year, quarter, child_role_id, order_case_type\n",
    "                       ORDER BY child_role_id, year, quarter, receipt_date ASC) \n",
    "      AS child_count_qtr\n",
    "FROM \n",
    "  {db2}.ca_apps_child\n",
    "\n",
    ")\n",
    "\n",
    "SELECT    \n",
    "  year, \n",
    "  quarter,\n",
    "  case_number,\n",
    "  child_role_id,\n",
    "  gender,\n",
    "  dob,\n",
    "  age_band,\n",
    "  order_case_type\n",
    "FROM \n",
    "  ca_apps_count_child_qtr\n",
    "WHERE\n",
    "  child_count_qtr = 1\n",
    "  \n",
    "\"\"\",\n",
    "\n",
    "\"ca_apps_ind_child_qtr\")"
   ]
  },
  {
   "cell_type": "markdown",
   "metadata": {},
   "source": [
    "## 6. High Court"
   ]
  },
  {
   "cell_type": "markdown",
   "metadata": {},
   "source": [
    "#### 6.1 Extracting High Court cases"
   ]
  },
  {
   "cell_type": "code",
   "execution_count": null,
   "metadata": {},
   "outputs": [],
   "source": [
    "# extracting high court cases listed against the case field table.\n",
    "# there is also a HC event field model (U22_HC). Howver, HMCTS advice that we use the case field as this could be updated during the case (and the event field can't), and so won't be as accurate\n",
    "# There are some duplicate case numbers with different receipt days so we rank and take the earliest\n",
    "# the creating court is taken from the court listed against the U22 (proceedings issued) event\n",
    "pydb.create_temp_table( \n",
    "f\"\"\"\n",
    "WITH high_court_cases AS (\n",
    "\n",
    "SELECT\n",
    "  DISTINCT\n",
    "  c.case_number,\n",
    "  c.value as case_HC_value,\n",
    "  e.creating_court,\n",
    "  CASE WHEN e.creating_court in ('EC','FD','IL','LB','WT','ZC')\n",
    "        THEN 'Central London DFJ'\n",
    "          ELSE 'Not Central London DFJ'\n",
    "    END AS HC_London_Ind,\n",
    "  ROW_NUMBER() OVER(PARTITION BY c.case_number, c.value\n",
    "                       ORDER BY c.case_number, c.value DESC, receipt_date ASC) \n",
    "      AS case_rank\n",
    "FROM\n",
    "  {db1}.case_fields c\n",
    "  LEFT JOIN {db1}.events e\n",
    "    on c.case_number = e.case_number\n",
    "WHERE\n",
    "  (c.field_model = 'FM2C_HC' AND c.value = 'Y') \n",
    "  AND e.event_model = 'U22'\n",
    "  AND e.error = 'N'\n",
    "  AND c.mojap_snapshot_date = DATE'{snapshot_date}'\n",
    "  AND e.mojap_snapshot_date = DATE'{snapshot_date}'\n",
    "  \n",
    ")\n",
    "\n",
    "SELECT\n",
    "  *\n",
    "FROM \n",
    "  high_court_cases\n",
    "WHERE \n",
    "  case_rank = 1;\n",
    "\n",
    "\"\"\",\n",
    "\n",
    "\"ca_high_court_cases\")"
   ]
  },
  {
   "cell_type": "markdown",
   "metadata": {},
   "source": [
    "#### 6.2 Linking High Court cases the the cases starts table"
   ]
  },
  {
   "cell_type": "code",
   "execution_count": null,
   "metadata": {},
   "outputs": [],
   "source": [
    "# link high court cases to original case table\n",
    "pydb.create_temp_table( \n",
    "f\"\"\"\n",
    "SELECT\n",
    "  c.*,\n",
    "  h.case_HC_value,\n",
    "  h.creating_court AS HC_U22_court,\n",
    "  h.HC_London_ind\n",
    "FROM\n",
    "  __temp__.ca_apps_case_count c\n",
    "  LEFT JOIN __temp__.ca_high_court_cases h\n",
    "    ON c.case_number = h.case_number\n",
    "\"\"\",\n",
    "    \n",
    "\"ca_cases_HC\")"
   ]
  },
  {
   "cell_type": "markdown",
   "metadata": {},
   "source": [
    "## 7.Parties"
   ]
  },
  {
   "cell_type": "markdown",
   "metadata": {},
   "source": [
    "#### 7.1 Creating a table with applicants and respondents"
   ]
  },
  {
   "cell_type": "code",
   "execution_count": null,
   "metadata": {},
   "outputs": [],
   "source": [
    "# pick out applicant and respondents from the roles table along with gender details from the party table.\n",
    "# currently applicants and respondents from adoption cases are included as there are some adoption cases included within private law but this will be revisited\n",
    "pydb.create_temp_table( \n",
    "f\"\"\"\n",
    "  SELECT\n",
    "    DISTINCT\n",
    "    r.role_model,\n",
    "    CASE WHEN r.role_model in ('APLC','APLZ','APLA')\n",
    "          THEN 'Applicant'\n",
    "         WHEN r.role_model in ('RSPC','RSPZ','RSPA')\n",
    "          THEN 'Respondent'\n",
    "      END AS case_role, \n",
    "    r.role role_id,\n",
    "    r.party as party_id,\n",
    "    r.case_number,\n",
    "    p.gender\n",
    "  FROM\n",
    "    {db1}.roles r \n",
    "    JOIN {db1}.parties p \n",
    "      on r.party = p.party \n",
    "  WHERE\n",
    "    r.role_model in ('APLC','APLZ','APLA','RSPC','RSPZ','RSPA')\n",
    "    AND r.mojap_snapshot_date = DATE'{snapshot_date}'\n",
    "    AND p.mojap_snapshot_date = DATE'{snapshot_date}'\n",
    "    AND r.delete_flag = 'N'\n",
    "\"\"\",\n",
    "\n",
    "\"app_resp\")"
   ]
  },
  {
   "cell_type": "markdown",
   "metadata": {},
   "source": [
    "#### 7.2 Linking applicants to case starts"
   ]
  },
  {
   "cell_type": "code",
   "execution_count": null,
   "metadata": {},
   "outputs": [],
   "source": [
    "# When linking we also add a count to how many applicants are recorded on the case\n",
    "# As this is being counted against case starts we are not including applicants in subsequent applications (G50 events)\n",
    "pydb.create_temp_table(\n",
    "f\"\"\"\n",
    "  SELECT\n",
    "    c.year,\n",
    "    c.quarter,\n",
    "    c.MIN_of_RECEIPT_DATE,\n",
    "    c.case_number,\n",
    "    c.main_case_type,\n",
    "    r.role_model,\n",
    "    r.case_role, \n",
    "    r.role_id,\n",
    "    r.party_id,\n",
    "    r.gender,\n",
    "    ROW_NUMBER() OVER(PARTITION BY c.case_number, main_case_type\n",
    "                      ORDER BY c.case_number, main_case_type) \n",
    "      AS applicant_count\n",
    "  FROM\n",
    "    __temp__.ca_apps_case_count c \n",
    "    JOIN __temp__.app_resp r \n",
    "      on c.case_number = r.case_number \n",
    "  WHERE\n",
    "    r.case_role = 'Applicant'\n",
    "\"\"\",\n",
    "\n",
    "\"applicants\")"
   ]
  },
  {
   "cell_type": "markdown",
   "metadata": {},
   "source": [
    "#### 7.3 Linking respondents to case starts"
   ]
  },
  {
   "cell_type": "code",
   "execution_count": null,
   "metadata": {},
   "outputs": [],
   "source": [
    "# When linking we also add a count to how many respondents are recorded on the case\n",
    "# As this is being counted against case starts we are not including respondents in subsequent applications (G50 events)\n",
    "pydb.create_temp_table(\n",
    "f\"\"\"\n",
    "  SELECT\n",
    "    c.year,\n",
    "    c.quarter,\n",
    "    c.MIN_of_RECEIPT_DATE,\n",
    "    c.case_number,\n",
    "    c.main_case_type,\n",
    "    r.role_model,\n",
    "    r.case_role, \n",
    "    r.role_id,\n",
    "    r.party_id,\n",
    "    r.gender,\n",
    "    ROW_NUMBER() OVER(PARTITION BY c.case_number, main_case_type\n",
    "                      ORDER BY c.case_number, main_case_type) \n",
    "      AS respondent_count\n",
    "  FROM\n",
    "    __temp__.ca_apps_case_count c \n",
    "    JOIN __temp__.app_resp r \n",
    "      on c.case_number = r.case_number \n",
    "  WHERE\n",
    "    r.case_role = 'Respondent'\n",
    "\"\"\",\n",
    "\n",
    "\"respondents\")"
   ]
  },
  {
   "cell_type": "markdown",
   "metadata": {},
   "source": [
    "#### 7.4 Counting applicants and respondents in each case"
   ]
  },
  {
   "cell_type": "code",
   "execution_count": null,
   "metadata": {},
   "outputs": [],
   "source": [
    "#Linking the count of applicants in a case to the count of respondents in a case\n",
    "pydb.create_temp_table( \n",
    "f\"\"\"\n",
    "  SELECT\n",
    "    c.year,\n",
    "    c.quarter,\n",
    "    c.case_number,\n",
    "    c.main_case_type,\n",
    "    MAX(a.applicant_count) as No_of_applicants,\n",
    "    MAX(r.respondent_count) as No_of_respondents\n",
    "  FROM\n",
    "    __temp__.ca_apps_case_count c \n",
    "    JOIN __temp__.applicants a \n",
    "      on c.case_number = a.case_number\n",
    "    JOIN __temp__.respondents r\n",
    "      on c.case_number = r.case_number  \n",
    "  GROUP BY\n",
    "    c.year,\n",
    "    c.quarter,\n",
    "    c.main_case_type,\n",
    "    c.case_number\n",
    "\"\"\",\n",
    "    \n",
    "\"party_count\")\n"
   ]
  }
 ],
 "metadata": {
  "kernelspec": {
   "display_name": "Python 3",
   "language": "python",
   "name": "python3"
  },
  "language_info": {
   "codemirror_mode": {
    "name": "ipython",
    "version": 3
   },
   "file_extension": ".py",
   "mimetype": "text/x-python",
   "name": "python",
   "nbconvert_exporter": "python",
   "pygments_lexer": "ipython3",
   "version": "3.9.4"
  }
 },
 "nbformat": 4,
 "nbformat_minor": 4
}
