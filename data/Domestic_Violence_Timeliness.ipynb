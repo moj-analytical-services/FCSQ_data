{
 "cells": [
  {
   "cell_type": "markdown",
   "id": "98edb470-90b8-486e-85f1-2ca06d8eb314",
   "metadata": {},
   "source": [
    "# Domestic Violence Timeliness "
   ]
  },
  {
   "cell_type": "markdown",
   "id": "0bbbfca6-b3a2-48a2-a7f3-1b67616b827f",
   "metadata": {
    "jp-MarkdownHeadingCollapsed": true,
    "tags": []
   },
   "source": [
    "## Contents\n",
    "#### Setup\n",
    "1. [import_packages](#import_packages) \n",
    "2. [define_key_variables](#define_key_variables) \n",
    "\n",
    "3. [dv_case_data_temp](#DV_case_data_temp) - filters by year > 2010 and by first application date\n",
    "\n",
    "4. [dv_applicant_info](#DV_applicant_info) - joins the roles, parties and address tables for applicants to get information on the applicants\n",
    "5. [dv_respondent_info](#DV_respondent_info) - joins the roles, parties and address tables for respondents to get information on the respondents\n",
    "\n",
    "6. [dv_applicants_temp](#DV_applicants_temp) takes the dv_applicant_info table and reformats it, decoding gender and representative role values into strings\n",
    "7. [dv_respondents_temp](#DV_respondents_temp) - takes the dv_respondent_info table and reformats it, decoding gender and representative role values into strings\n",
    "\n",
    "8. [dv_app_rep](#DV_app_rep) - joins the case data with the applicant representation data\n",
    "9. [dv_resp_rep](#DV_resp_rep) - joins the case data with the respondent representation data\n",
    "\n",
    "10. [dv_hearing_events](#DV_Hearing_Events) - takes the domestic violence hearing events from the hearings table and joins it with the events table data \n",
    "11. [dv_hearing_cases](#DV_Hearing_Cases) - takes the hearing events, filters by domestic violence event codes and adds a flag whether the hearing is the first in the case\n",
    "\n",
    "12. [hearing_dv_applicants](#Hearing_DV_Applicants) - joins the cases from applicant representation table to the first hearing for the case in the DV_Hearing_Cases table\n",
    "13. [hearing_dv_respondents](#Hearing_DV_Respondents) - joins the cases from respondent representation table to the first hearing for the case in the DV_Hearing_Cases table\n",
    "\n",
    "14. [dv_app](#DV_App) - groups the hearing_dv_applicants table and produces a count per group\n",
    "15. [dv_resp](#DV_Resp) - groups the hearing_dv_respondents table and produces a count per group\n",
    "16. [dv_case](#DV_Case) - groups and formats dv_case_data_v3 table and gives a count for each group\n",
    "17. [dv_case_hearings](#DV_Case_Hearings) - creates a count of all the cases with a hearing per quarter\n",
    "\n",
    "18. [domestic violence](#Domestic_Violence) - joins the applicant/respondent representation count tables, case count table, and case hearing count tables\n",
    "\n",
    "19. [dv_applications_data_sorted](#DV_applications_data_sorted) - orders dv_application_5 by case_number and application date\n",
    "20. [dv_applications_temp](#DV_applications_temp) - takes the dv_applications_data sorted table and filters it so it only has the first application record per case number\n",
    "\n",
    "21. [dv_orders_data_sorted](#DV_orders_data_sorted) - sorts the disposals table by case_number and receipt date, removing contact orders, placement revoke or vary orders and other type orders\n",
    "22. [dv_orders_temp](#DV_orders_temp)- takes the dv_orders_data sorted table and filters it so it only has the first order record per case number\n",
    "\n",
    "23. [dv_apps_and_orders_match](#DV_apps_and_orders_match) - calculates the timeliness based on the difference between app_date and disp_date\n"
   ]
  },
  {
   "cell_type": "markdown",
   "id": "d4a6a595-3f27-4a93-959e-82ddcb091185",
   "metadata": {
    "tags": []
   },
   "source": [
    "## 1. Import packages and set options \n",
    "<a name=\"import_packages\"></a>"
   ]
  },
  {
   "cell_type": "code",
   "execution_count": 1,
   "id": "13ac4c63-b2f7-4257-a60e-1e35492c0deb",
   "metadata": {},
   "outputs": [],
   "source": [
    "import pandas as pd  # a module which provides the data structures and functions to store and manipulate tables in dataframes\n",
    "import pydbtools as pydb  # A module which allows SQL queries to be run on the Analytical Platform from Python, see https://github.com/moj-analytical-services/pydbtools\n",
    "import boto3  # allows you to directly create, update, and delete AWS resources from Python scripts\n",
    "\n",
    "# sets parameters to view dataframes for tables easier\n",
    "pd.set_option(\"display.max_columns\", 100)\n",
    "pd.set_option(\"display.width\", 900)\n",
    "pd.set_option(\"display.max_colwidth\", 200)"
   ]
  },
  {
   "cell_type": "markdown",
   "id": "9d5a8c2a-86c5-4bac-bb83-abd9f7a1b024",
   "metadata": {
    "tags": []
   },
   "source": [
    "## 2. Define key variables to be used throughout the notebook \n",
    "<a name=\"define_key_variables\"></a>"
   ]
  },
  {
   "cell_type": "code",
   "execution_count": 2,
   "id": "7a4457a8-6b48-4031-a580-577bac53e6ca",
   "metadata": {},
   "outputs": [],
   "source": [
    "#this is the database we will be extracting from\n",
    "database = \"familyman_dev_v3\" \n",
    "\n",
    "#this extracts the August snapshot from athena\n",
    "snapshot_date = '2022-08-04'\n",
    "\n",
    "#this is the athena database we will be storing our tables in\n",
    "fcsq_database = \"fcsq\"\n",
    "\n",
    "#this is the s3 bucket we will be saving data to\n",
    "s3 = boto3.resource(\"s3\")\n",
    "bucket = s3.Bucket(\"alpha-family-data\")\n",
    "\n",
    "#change these to the current quarter and year not the quarter being published\n",
    "latest_quarter = 3\n",
    "latest_year = 2022"
   ]
  },
  {
   "cell_type": "markdown",
   "id": "1ae048e9-08d1-4eb3-96de-d08770c664a5",
   "metadata": {},
   "source": [
    "## 3. DV_case_data temporary tables - filters by receipt_date > 2010 and by first application date\n",
    "<a name=\"DV_case_data_temp\"></a>"
   ]
  },
  {
   "cell_type": "code",
   "execution_count": 3,
   "id": "c2386a01-04d8-4777-ad28-faff1e7317d8",
   "metadata": {},
   "outputs": [],
   "source": [
    "create_dv_case_data_v1 = f\"\"\"\n",
    "SELECT *,\n",
    "ROW_NUMBER() OVER(\n",
    "PARTITION BY CASE_NUMBER\n",
    "ORDER BY CASE_NUMBER, RECEIPT_DATE, EVENT_COURT\n",
    ") CASE_NUMBER_ID\n",
    "FROM fcsq.DV_APPS_FINAL ;\n",
    "\"\"\"\n",
    "\n",
    "pydb.create_temp_table(create_dv_case_data_v1,'dv_case_data_v1')\n",
    "\n",
    "create_dv_case_data_v2 = f\"\"\"\n",
    "SELECT *\n",
    "FROM __temp__.dv_case_data_v1\n",
    "WHERE CASE_NUMBER_ID = 1;\n",
    "\"\"\"\n",
    "\n",
    "pydb.create_temp_table(create_dv_case_data_v2,'dv_case_data_v2')\n",
    "\n",
    "create_dv_case_data_v3 = f\"\"\"\n",
    "SELECT *\n",
    "FROM __temp__.dv_case_data_v2\n",
    "\n",
    "WHERE RECEIPT_DATE >= cast('2011-01-01'as timestamp) \n",
    "AND RECEIPT_DATE  <= cast('2022-06-30'as timestamp)\n",
    "\n",
    "ORDER BY Year,\n",
    "Quarter;\n",
    "\"\"\"\n",
    "\n",
    "pydb.create_temp_table(create_dv_case_data_v3,'dv_case_data_v3')"
   ]
  },
  {
   "cell_type": "code",
   "execution_count": 4,
   "id": "c3e7008e-9f8b-4032-9235-91f96060da0e",
   "metadata": {},
   "outputs": [],
   "source": [
    "#DV_CASE_DATA_count = pydb.read_sql_query(\"SELECT count(*) as count from __temp__.dv_case_data_v3;\")\n",
    "#DV_CASE_DATA_count"
   ]
  },
  {
   "cell_type": "markdown",
   "id": "bf2c3189-68da-4728-9c28-5396b0c418b8",
   "metadata": {},
   "source": [
    "## 4. Applicant_Info table - joins the roles, parties and address tables for applicants to get information on the applicants\n",
    "<a name=\"DV_applicant_info\"></a>"
   ]
  },
  {
   "cell_type": "markdown",
   "id": "4735512e-efe9-4004-87aa-cd7c6ccda3ae",
   "metadata": {},
   "source": [
    "### Drop the Applicant_Info table if it already exists and remove its data from the S3 bucket"
   ]
  },
  {
   "cell_type": "code",
   "execution_count": 5,
   "id": "3af9510e-e6ca-4c8e-bcf1-abd6cfff5bc2",
   "metadata": {},
   "outputs": [],
   "source": [
    "drop_Applicants_Table = \"DROP TABLE IF EXISTS fcsq.Applicants\"\n",
    "pydb.start_query_execution_and_wait(drop_Applicants_Table)\n",
    "bucket.objects.filter(Prefix=\"fcsq_processing/Domestic_Violence/Applicants\").delete();"
   ]
  },
  {
   "cell_type": "markdown",
   "id": "64874b5e-82e7-431a-bc8c-025a6e87181c",
   "metadata": {},
   "source": [
    "### Create the Applicant_Info table in Athena"
   ]
  },
  {
   "cell_type": "code",
   "execution_count": 6,
   "id": "872807e5-4caa-48b2-b75b-1aa8e7bf8702",
   "metadata": {},
   "outputs": [],
   "source": [
    "create_Applicants_Table = f\"\"\"\n",
    "CREATE TABLE IF NOT EXISTS fcsq.Applicants\n",
    "WITH (format = 'PARQUET', external_location = 's3://alpha-family-data/fcsq_processing/Domestic_Violence/Applicants') AS\n",
    " SELECT DISTINCT\n",
    "   {database}.roles.ROLE, \n",
    "   {database}.roles.REPRESENTATIVE_ROLE, \n",
    "   {database}.roles.ROLE_MODEL, \n",
    "   {database}.roles.PARTY, \n",
    "   {database}.roles.CASE_NUMBER, \n",
    "   {database}.parties.PERSON_GIVEN_FIRST_NAME, \n",
    "   {database}.parties.PERSON_FAMILY_NAME, \n",
    "   {database}.parties.COMPANY, \n",
    "   {database}.addresses.POSTCODE, \n",
    "   {database}.parties.GENDER, \n",
    "   {database}.roles.DELETE_FLAG\n",
    "FROM \n",
    "  ({database}.roles INNER JOIN {database}.parties ON {database}.roles.PARTY = {database}.parties.PARTY) \n",
    "  INNER JOIN {database}.addresses ON {database}.roles.ADDRESS = {database}.addresses.ADDRESS\n",
    "WHERE (((({database}.roles.ROLE_MODEL)= 'APLC') AND (({database}.roles.DELETE_FLAG)= 'N'))\n",
    "    OR ((({database}.roles.ROLE_MODEL)= 'APLZ') AND (({database}.roles.DELETE_FLAG)= 'N')) \n",
    "    OR ((({database}.roles.ROLE_MODEL)= 'APLA') AND (({database}.roles.DELETE_FLAG)= 'N')))\n",
    "    AND {database}.roles.mojap_snapshot_date = date '{snapshot_date}'\n",
    "    AND {database}.parties.mojap_snapshot_date = date '{snapshot_date}'\n",
    "    AND {database}.addresses.mojap_snapshot_date = date '{snapshot_date}';\n",
    "\"\"\"\n",
    "\n",
    "pydb.start_query_execution_and_wait(create_Applicants_Table);\n"
   ]
  },
  {
   "cell_type": "code",
   "execution_count": 7,
   "id": "7bff41a9-5ea4-4677-b049-c1e6862661c3",
   "metadata": {},
   "outputs": [],
   "source": [
    "#pydb.read_sql_query(\"SELECT * from fcsq.Applicants where case_number='NE19Z02909'\")"
   ]
  },
  {
   "cell_type": "markdown",
   "id": "5658dd5c-3941-4cd8-a50e-b6045663d99a",
   "metadata": {},
   "source": [
    "#### Applicants validation"
   ]
  },
  {
   "cell_type": "code",
   "execution_count": 8,
   "id": "8ae62211-5ac7-458a-abfd-5de922a088aa",
   "metadata": {},
   "outputs": [],
   "source": [
    "#Applicants_count = pydb.read_sql_query(\"SELECT count(*) as count from fcsq.Applicants\")\n",
    "#Applicants_count"
   ]
  },
  {
   "cell_type": "code",
   "execution_count": 9,
   "id": "add43f02-21c0-4d5f-a106-6f937b35665a",
   "metadata": {},
   "outputs": [],
   "source": [
    "#pydb.read_sql_query(\"select * from fcsq.Applicants where case_number='HB12Z00228'\")"
   ]
  },
  {
   "cell_type": "markdown",
   "id": "da1fb20a-0a96-4901-baaf-3813f30946e0",
   "metadata": {
    "tags": []
   },
   "source": [
    "## 5. Respondent_Info table - joins the roles, parties and address tables for respondents to get information on the respondents\n",
    "<a name=\"DV_respondent_info\"></a>"
   ]
  },
  {
   "cell_type": "markdown",
   "id": "8eecfde0-004a-4546-be09-476142ca6a1e",
   "metadata": {},
   "source": [
    "### Drop the Respondent_Info table if it already exists and remove its data from the S3 bucket"
   ]
  },
  {
   "cell_type": "code",
   "execution_count": 10,
   "id": "24f5934a-2103-4bbf-99f2-0dd6f5f974dd",
   "metadata": {},
   "outputs": [],
   "source": [
    "drop_Respondents_Table = \"DROP TABLE IF EXISTS fcsq.Respondents\"\n",
    "pydb.start_query_execution_and_wait(drop_Respondents_Table)\n",
    "bucket.objects.filter(Prefix=\"fcsq_processing/Domestic_Violence/Respondents\").delete();"
   ]
  },
  {
   "cell_type": "markdown",
   "id": "95e156c6-3c59-45b4-b59c-544339ae022b",
   "metadata": {},
   "source": [
    "### Create the Respondent_Info table in Athena"
   ]
  },
  {
   "cell_type": "code",
   "execution_count": 11,
   "id": "304f7211-97de-479f-8287-cedde5b1aa4f",
   "metadata": {},
   "outputs": [],
   "source": [
    "create_Respondents_Table = f\"\"\"\n",
    "CREATE TABLE IF NOT EXISTS fcsq.Respondents\n",
    "WITH (format = 'PARQUET', external_location = 's3://alpha-family-data/fcsq_processing/Domestic_Violence/Respondents') AS\n",
    "SELECT DISTINCT\n",
    "  {database}.roles.ROLE, \n",
    "  {database}.roles.REPRESENTATIVE_ROLE, \n",
    "  {database}.roles.ROLE_MODEL, \n",
    "  {database}.roles.PARTY, \n",
    "  {database}.roles.CASE_NUMBER, \n",
    "  {database}.parties.GENDER, \n",
    "  {database}.addresses.POSTCODE, \n",
    "  {database}.roles.DELETE_FLAG\n",
    "FROM \n",
    "  ({database}.roles INNER JOIN {database}.parties ON {database}.roles.PARTY = {database}.parties.PARTY) \n",
    "  INNER JOIN {database}.addresses ON {database}.roles.ADDRESS = {database}.addresses.ADDRESS\n",
    "WHERE \n",
    "    (((({database}.roles.ROLE_MODEL)='RSPA') AND (({database}.roles.DELETE_FLAG)='N')) \n",
    "    OR ((({database}.roles.ROLE_MODEL)='RSPZ') AND (({database}.roles.DELETE_FLAG)='N'))\n",
    "    OR ((({database}.roles.ROLE_MODEL)='RSPC') AND (({database}.roles.DELETE_FLAG)='N')))\n",
    "    AND {database}.roles.mojap_snapshot_date = date '{snapshot_date}'\n",
    "    AND {database}.parties.mojap_snapshot_date = date '{snapshot_date}'\n",
    "    AND {database}.addresses.mojap_snapshot_date = date '{snapshot_date}';\n",
    "\"\"\"\n",
    "\n",
    "pydb.start_query_execution_and_wait(create_Respondents_Table);"
   ]
  },
  {
   "cell_type": "markdown",
   "id": "68df663e-bb8d-44cd-919f-7e0b8ca74dd2",
   "metadata": {},
   "source": [
    "#### Respondents validation"
   ]
  },
  {
   "cell_type": "code",
   "execution_count": 12,
   "id": "a7db8db3-e9dd-4330-9ebe-3f764fbec364",
   "metadata": {},
   "outputs": [],
   "source": [
    "#Respondents_count = pydb.read_sql_query(\"SELECT count(*) as count from fcsq.Respondents\")\n",
    "#Respondents_count"
   ]
  },
  {
   "cell_type": "code",
   "execution_count": 13,
   "id": "b4c3e75f-70fc-47eb-a315-014e793c6510",
   "metadata": {},
   "outputs": [],
   "source": [
    "#pydb.read_sql_query(\"select * from fcsq.Respondents where case_number='HB12Z00228'\")"
   ]
  },
  {
   "cell_type": "markdown",
   "id": "1ccd81d3-c01f-4752-b271-084a04a2a707",
   "metadata": {},
   "source": [
    "## 6. Applicants temporary tables - takes the Applicants_Info table and reformats it, decoding gender and representative role values into strings\n",
    "<a name=\"DV_applicants_temp\"></a>"
   ]
  },
  {
   "cell_type": "code",
   "execution_count": 14,
   "id": "9e9c56f4-28d1-4b58-8a48-49315dfec8eb",
   "metadata": {},
   "outputs": [],
   "source": [
    "create_applicants_v1 = f\"\"\"\n",
    "SELECT T1.role,\n",
    "    T1.representative_role,\n",
    "    T1.role_model,\n",
    "    T1.party,\n",
    "    T1.case_number,\n",
    "    T1.gender,\n",
    "    case when gender = 1 then 'Male'\n",
    "    when gender = 2 then 'Female'\n",
    "    else 'Unknown' end as Gender_Decode\n",
    "\n",
    "FROM fcsq.Applicants AS t1\n",
    "ORDER BY t1.Case_Number;\n",
    "\"\"\"\n",
    "\n",
    "pydb.create_temp_table(create_applicants_v1,'applicants_v1')\n",
    "\n",
    "create_applicants_v2 = f\"\"\"\n",
    "SELECT DISTINCT T1.case_number,\n",
    "    T1.party,\n",
    "    max(T1.representative_role) as Rep_Role,\n",
    "    max(T1.gender_decode) as Gender_Max\n",
    "\n",
    "FROM __temp__.applicants_v1 AS t1\n",
    "GROUP BY Case_number, party;\n",
    "\"\"\"\n",
    "\n",
    "pydb.create_temp_table(create_applicants_v2,'applicants_v2')\n",
    "\n",
    "create_applicants_v3 = f\"\"\"\n",
    "SELECT t1.case_number,\n",
    "    t1.party as App_Party_ID,\n",
    "    t1.Rep_Role,\n",
    "    t1.Gender_Max,\n",
    "    case when t1.Rep_Role IS NULL then 'N'\n",
    "    when t1.Rep_Role IS NOT NULL then 'Y'\n",
    "    End as REPRESENTATION,\n",
    "    case when Rep_Role IS NULL AND Gender_Max = 'Female' then 'Unrep_Female'\n",
    "    when Rep_Role IS NULL AND Gender_Max = 'Male' then 'Unrep_Male'\n",
    "    when Rep_Role IS NULL AND Gender_Max = 'Unknown' then 'Unrep_Unknown'\n",
    "    when Rep_Role IS NOT NULL AND Gender_Max = 'Female' then 'Rep_Female'\n",
    "    when Rep_Role IS NOT NULL AND Gender_Max = 'Male' then 'Rep_Male'\n",
    "    when Rep_Role IS NOT NULL AND Gender_Max = 'Unknown' then 'Rep_Unknown'\n",
    "    else '' end as App_Rep_Cat\n",
    "    \n",
    "    from __temp__.applicants_v2 AS t1;\n",
    "\"\"\"\n",
    "\n",
    "pydb.create_temp_table(create_applicants_v3,'applicants_v3')"
   ]
  },
  {
   "cell_type": "markdown",
   "id": "edde5321-12d3-4b37-b6fb-234669dcb9cf",
   "metadata": {},
   "source": [
    "## 7. Respondents temporary tables - takes the Respondents_Info table and reformats it, decoding gender and representative role values into strings\n",
    "<a name=\"DV_respondents_temp\"></a>"
   ]
  },
  {
   "cell_type": "code",
   "execution_count": 15,
   "id": "1e9a7d91-79a5-4ca3-88b8-c7ed33fcaca7",
   "metadata": {},
   "outputs": [],
   "source": [
    "create_respondents_v1 = f\"\"\"\n",
    "SELECT T1.role,\n",
    "    T1.representative_role,\n",
    "    T1.role_model,\n",
    "    T1.party,\n",
    "    T1.case_number,\n",
    "    T1.gender,\n",
    "    case when gender = 1 then 'Male'\n",
    "    when gender = 2 then 'Female'\n",
    "    else 'Unknown' end as Gender_Decode\n",
    "\n",
    "FROM fcsq.Respondents AS t1\n",
    "ORDER BY t1.Case_Number;\n",
    "\"\"\"\n",
    "\n",
    "pydb.create_temp_table(create_respondents_v1,'respondents_v1')\n",
    "\n",
    "create_respondents_v2 = f\"\"\"\n",
    "SELECT DISTINCT T1.case_number,\n",
    "    T1.party,\n",
    "    max(T1.representative_role) as Rep_Role,\n",
    "    max(T1.gender_decode) as Gender_Max\n",
    "\n",
    "FROM __temp__.respondents_v1 AS t1\n",
    "GROUP BY Case_number, party;\n",
    "\"\"\"\n",
    "\n",
    "pydb.create_temp_table(create_respondents_v2,'respondents_v2')\n",
    "\n",
    "create_respondents_v3 = f\"\"\"\n",
    "SELECT t1.case_number,\n",
    "    t1.party as Resp_Party_ID,\n",
    "    t1.Rep_Role,\n",
    "    t1.Gender_Max,\n",
    "    case when t1.Rep_Role IS NULL then 'N'\n",
    "    when t1.Rep_Role IS NOT NULL then 'Y'\n",
    "    End as REPRESENTATION,\n",
    "    case when Rep_Role IS NULL AND Gender_Max = 'Female' then 'Unrep_Female'\n",
    "    when Rep_Role IS NULL AND Gender_Max = 'Male' then 'Unrep_Male'\n",
    "    when Rep_Role IS NULL AND Gender_Max = 'Unknown' then 'Unrep_Unknown'\n",
    "    when Rep_Role IS NOT NULL AND Gender_Max = 'Female' then 'Rep_Female'\n",
    "    when Rep_Role IS NOT NULL AND Gender_Max = 'Male' then 'Rep_Male'\n",
    "    when Rep_Role IS NOT NULL AND Gender_Max = 'Unknown' then 'Rep_Unknown'\n",
    "    else '' end as Resp_Rep_Cat\n",
    "    \n",
    "    from __temp__.respondents_v2 AS t1;\n",
    "\"\"\"\n",
    "\n",
    "pydb.create_temp_table(create_respondents_v3,'respondents_v3')"
   ]
  },
  {
   "cell_type": "markdown",
   "id": "3c2ec33b-71dc-46f0-b129-852ecbb7ce72",
   "metadata": {},
   "source": [
    "## 8. Create dv_app_rep table - joins the case data with the applicant representation data \n",
    "<a name=\"DV_app_rep\"></a>"
   ]
  },
  {
   "cell_type": "code",
   "execution_count": 16,
   "id": "99e27a4b-aa17-4485-afac-04604168c5de",
   "metadata": {},
   "outputs": [],
   "source": [
    "dv_app_rep_final = f\"\"\"\n",
    "SELECT t1.YEAR, \n",
    "    t1.QUARTER,\n",
    "    t1.CASE_NUMBER, \n",
    "    t1.EVENT_COURT AS Court,\n",
    "    t2.App_Party_ID,\n",
    "    t2.Representation,\n",
    "    t2.Gender_Max as App_Gender,\n",
    "    t2.App_Rep_Cat          \n",
    "FROM __temp__.dv_case_data_v3 t1\n",
    "    LEFT JOIN __temp__.applicants_v3 t2 ON (t1.CASE_NUMBER = t2.CASE_NUMBER);\n",
    "\n",
    "\"\"\"\n",
    "\n",
    "pydb.create_temp_table(dv_app_rep_final,'dv_app_rep_final')"
   ]
  },
  {
   "cell_type": "code",
   "execution_count": 17,
   "id": "5ddf1587-4f1b-4c08-bb6b-5e64466a954a",
   "metadata": {},
   "outputs": [],
   "source": [
    "#dv_app_rep_final_check = \"SELECT COUNT(*) as Count from __temp__.dv_app_rep_final\"\n",
    "#pydb.read_sql_query(dv_app_rep_final_check)"
   ]
  },
  {
   "cell_type": "markdown",
   "id": "ee1860c7-b062-47d5-bded-7674f7872223",
   "metadata": {},
   "source": [
    "## 9. Create dv_resp_rep table - joins the case data with the respondent representation data\n",
    "<a name=\"DV_resp_rep\"></a>"
   ]
  },
  {
   "cell_type": "code",
   "execution_count": 18,
   "id": "8239c046-b40e-408d-a6c9-8bef6639090d",
   "metadata": {},
   "outputs": [],
   "source": [
    "dv_resp_rep_final = f\"\"\"\n",
    "   SELECT t1.YEAR, \n",
    "        t1.QUARTER,\n",
    "        t1.CASE_NUMBER, \n",
    "        t1.EVENT_COURT AS Court,\n",
    "          t2.Resp_Party_ID,\n",
    "          t2.Representation,\n",
    "          t2.Gender_Max as Resp_Gender,\n",
    "          t2.Resp_Rep_Cat\n",
    "          \n",
    "      FROM __temp__.dv_case_data_v3 t1\n",
    "           LEFT JOIN __temp__.respondents_v3 t2 ON (t1.CASE_NUMBER = t2.CASE_NUMBER);\n",
    "\"\"\"\n",
    "\n",
    "pydb.create_temp_table(dv_resp_rep_final,'dv_resp_rep_final')"
   ]
  },
  {
   "cell_type": "code",
   "execution_count": 19,
   "id": "eef94200-ab4e-49f9-883e-da0fc71080bf",
   "metadata": {},
   "outputs": [],
   "source": [
    "#dv_resp_rep_final_check = \"SELECT COUNT(*) as Count from __temp__.dv_resp_rep_final\"\n",
    "#pydb.read_sql_query(dv_resp_rep_final_check)"
   ]
  },
  {
   "cell_type": "markdown",
   "id": "e2fba1c0-3693-4f58-ac28-5297ed693221",
   "metadata": {},
   "source": [
    "## 10. Create DV_Hearing_Events table - takes the domestic violence hearing events from the hearings table and joins it with the events table data \n",
    "<a name=\"DV_Hearing_Events\"></a>"
   ]
  },
  {
   "cell_type": "markdown",
   "id": "70208b1a-74f1-4a71-8439-083a10251cf0",
   "metadata": {},
   "source": [
    "### Drop the DV_Hearing_Events table if it already exists and remove its data from the S3 bucket"
   ]
  },
  {
   "cell_type": "code",
   "execution_count": 20,
   "id": "815ed0b6-e103-4363-ae4c-0aed76fb6bf6",
   "metadata": {},
   "outputs": [],
   "source": [
    "drop_DV_Hearing_Events = \"DROP TABLE IF EXISTS fcsq.DV_Hearing_Events\"\n",
    "pydb.start_query_execution_and_wait(drop_DV_Hearing_Events)\n",
    "bucket.objects.filter(Prefix=\"fcsq_processing/Domestic_Violence/DV_Hearing_Events\").delete();"
   ]
  },
  {
   "cell_type": "markdown",
   "id": "501ac242-1b57-466c-8343-ea0d21d71c13",
   "metadata": {},
   "source": [
    "### Create the DV_Hearing_Events table in Athena"
   ]
  },
  {
   "cell_type": "code",
   "execution_count": 21,
   "id": "696163df-74d3-4013-89eb-e8933e8825d8",
   "metadata": {},
   "outputs": [],
   "source": [
    "create_DV_Hearing_Events = f\"\"\"\n",
    "CREATE TABLE IF NOT EXISTS fcsq.DV_Hearing_Events\n",
    "WITH (format = 'PARQUET', external_location = 's3://alpha-family-data/fcsq_processing/Domestic_Violence/DV_Hearing_Events') AS\n",
    "SELECT {database}.hearings.EVENT,\n",
    "  {database}.hearings.VACATED_FLAG,\n",
    "  {database}.hearings.HEARING_TYPE,\n",
    "  {database}.hearings.HEARING_DATE,\n",
    "  {database}.events.RECEIPT_DATE,\n",
    "  {database}.events.ERROR,\n",
    "  {database}.events.CASE_NUMBER,\n",
    "  {database}.events.EVENT_MODEL\n",
    "FROM {database}.hearings\n",
    "INNER JOIN {database}.events\n",
    "ON {database}.hearings.EVENT            = {database}.events.EVENT\n",
    "WHERE {database}.hearings.VACATED_FLAG IS NULL\n",
    "AND {database}.events.ERROR             = 'N'\n",
    "AND HEARING_DATE > date_parse('31-12-2009 00:00:00', '%d-%m-%Y %H:%i:%s')\n",
    "AND substring(case_number,5,1) = 'F'\n",
    "AND {database}.hearings.mojap_snapshot_date = date '{snapshot_date}' and {database}.events.mojap_snapshot_date = date '{snapshot_date}';\n",
    "\"\"\"\n",
    "\n",
    "pydb.start_query_execution_and_wait(create_DV_Hearing_Events);"
   ]
  },
  {
   "cell_type": "markdown",
   "id": "b5ea0e12-fb5d-4751-b252-83bad9372d30",
   "metadata": {},
   "source": [
    "#### DV_Hearing_Events validation"
   ]
  },
  {
   "cell_type": "code",
   "execution_count": 22,
   "id": "4eebdb84-e0be-427b-b8d3-92bd061b94ad",
   "metadata": {},
   "outputs": [],
   "source": [
    "#DV_Hearing_Events_count = pydb.read_sql_query(\"select count(*) as count from fcsq.DV_Hearing_Events\")\n",
    "#DV_Hearing_Events_count"
   ]
  },
  {
   "cell_type": "markdown",
   "id": "574d8a10-b589-40ef-8f55-874243355dcc",
   "metadata": {},
   "source": [
    "## 11. DV_Hearing_Cases table - takes the hearing events, filters by domestic violence event codes and adds a flag whether the hearing is the first in the case\n",
    "<a name=\"DV_Hearing_Cases\"></a> "
   ]
  },
  {
   "cell_type": "markdown",
   "id": "698c24d1-3643-43f3-bf70-70f69f030545",
   "metadata": {},
   "source": [
    "### Drop the DV_Hearing_Cases table if it already exists and remove its data from the S3 bucket"
   ]
  },
  {
   "cell_type": "code",
   "execution_count": 23,
   "id": "c6f6a045-7089-4e60-9014-dfed33850906",
   "metadata": {},
   "outputs": [],
   "source": [
    "drop_DV_Hearings_Cases = \"DROP TABLE IF EXISTS fcsq.DV_Hearings_Cases\"\n",
    "pydb.start_query_execution_and_wait(drop_DV_Hearings_Cases)\n",
    "bucket.objects.filter(Prefix=\"fcsq_processing/Domestic_Violence/DV_Hearings_Cases\").delete();"
   ]
  },
  {
   "cell_type": "markdown",
   "id": "448eff09-7ac1-44e5-b1b9-6a251645c5eb",
   "metadata": {},
   "source": [
    "### Create the DV_Hearing_Cases table in Athena"
   ]
  },
  {
   "cell_type": "code",
   "execution_count": 24,
   "id": "5fa6ff38-e767-4f17-8d3a-61b0fbc50d7e",
   "metadata": {},
   "outputs": [],
   "source": [
    "create_DV_Hearings_Cases = f\"\"\"\n",
    "CREATE TABLE IF NOT EXISTS fcsq.DV_Hearings_Cases\n",
    "WITH (format = 'PARQUET', external_location = 's3://alpha-family-data/fcsq_processing/Domestic_Violence/DV_Hearings_Cases') AS\n",
    "select t1.case_number,\n",
    "    t1.error,\n",
    "    t1.event,\n",
    "    t1.event_model,\n",
    "    t1.hearing_date,\n",
    "    t1.hearing_type,\n",
    "    t1.receipt_date,\n",
    "    t1.vacated_flag,\n",
    "    substring(Case_Number,5,1) AS Case_Type\n",
    "    from fcsq.DV_Hearing_Events AS t1\n",
    "    where t1.event_model in ('C6', 'G61', 'FL402', 'FL405')\n",
    "    order by t1.case_number, t1.receipt_date;\n",
    "\"\"\"\n",
    "\n",
    "pydb.start_query_execution_and_wait(create_DV_Hearings_Cases)\n",
    "\n",
    "create_dv_hearings_cases_v2 = f\"\"\"\n",
    "SELECT *,\n",
    "(case when row_number() over (partition by Case_Number order by receipt_date) = 1 then 1 else 0 end) as Case_Number_ID\n",
    "FROM fcsq.DV_Hearings_Cases;\n",
    "\"\"\"\n",
    "\n",
    "pydb.create_temp_table(create_dv_hearings_cases_v2,'dv_hearings_cases_v2')"
   ]
  },
  {
   "cell_type": "markdown",
   "id": "deba2df6-289a-4881-919f-960e8cca911c",
   "metadata": {},
   "source": [
    "#### DV_Hearing_Cases validation"
   ]
  },
  {
   "cell_type": "code",
   "execution_count": 25,
   "id": "9145ff9f-88f0-4b4f-9f5f-e01a04c6c5d5",
   "metadata": {},
   "outputs": [],
   "source": [
    "#DV_Hearings_Cases_count = pydb.read_sql_query(\"select count(*) as count from __temp__.dv_hearings_cases_v2\")\n",
    "#DV_Hearings_Cases_count"
   ]
  },
  {
   "cell_type": "markdown",
   "id": "58ba9e5a-b4be-4321-bc33-92eb7f5b6b3d",
   "metadata": {},
   "source": [
    "## 12. Hearing_DV_Applicants table - joins the cases from applicant representation table to the first hearing for the case in the DV_Hearing_Cases table \n",
    "<a name=\"Hearing_DV_Applicants\"></a>"
   ]
  },
  {
   "cell_type": "markdown",
   "id": "bdb42dc7-351a-4320-ab6a-a310cdf1e63a",
   "metadata": {},
   "source": [
    "### Drop the Hearing_DV_Applicant table if it already exists and remove its data from the S3 bucket"
   ]
  },
  {
   "cell_type": "code",
   "execution_count": 26,
   "id": "ad0cd28f-4cde-443e-a2dc-5aae8c220f54",
   "metadata": {},
   "outputs": [],
   "source": [
    "drop_Hearing_DV_Applicant = \"DROP TABLE IF EXISTS fcsq.Hearing_DV_Applicant\"\n",
    "pydb.start_query_execution_and_wait(drop_Hearing_DV_Applicant)\n",
    "bucket.objects.filter(Prefix=\"fcsq_processing/Domestic_Violence/Hearing_DV_Applicant\").delete();"
   ]
  },
  {
   "cell_type": "markdown",
   "id": "0694dc7a-d442-4396-a13a-96aa5df02784",
   "metadata": {},
   "source": [
    "### Create the Hearing_DV_Applicant table in Athena"
   ]
  },
  {
   "cell_type": "code",
   "execution_count": 27,
   "id": "05c6f8b7-d0e1-4f99-bee9-e390d3b7c8c2",
   "metadata": {},
   "outputs": [
    {
     "data": {
      "text/plain": [
       "{'QueryExecutionId': 'd1777b43-5cc3-4fea-a0f9-5a8c05d32bfe',\n",
       " 'Query': \"CREATE TABLE IF NOT EXISTS fcsq.Hearing_DV_Applicant\\nWITH (format = 'PARQUET', external_location = 's3://alpha-family-data/fcsq_processing/Domestic_Violence/Hearing_DV_Applicants') AS\\nSELECT t1.*,\\nt2.Case_Number_ID\\n\\nFROM mojap_de_temp_alpha_user_jdlv500.dv_app_rep_final t1\\nLEFT JOIN mojap_de_temp_alpha_user_jdlv500.dv_hearings_cases_v2 t2 ON (t1.CASE_NUMBER = t2.CASE_NUMBER)\\nwhere Case_Number_ID > 0\",\n",
       " 'StatementType': 'DDL',\n",
       " 'ResultConfiguration': {'OutputLocation': 's3://aws-athena-query-results-593291632749-eu-west-1/tables/d1777b43-5cc3-4fea-a0f9-5a8c05d32bfe'},\n",
       " 'QueryExecutionContext': {},\n",
       " 'Status': {'State': 'SUCCEEDED',\n",
       "  'SubmissionDateTime': datetime.datetime(2022, 10, 12, 13, 15, 43, 961000, tzinfo=tzlocal()),\n",
       "  'CompletionDateTime': datetime.datetime(2022, 10, 12, 13, 15, 47, 33000, tzinfo=tzlocal())},\n",
       " 'Statistics': {'EngineExecutionTimeInMillis': 2813,\n",
       "  'DataScannedInBytes': 5272712,\n",
       "  'DataManifestLocation': 's3://aws-athena-query-results-593291632749-eu-west-1/tables/d1777b43-5cc3-4fea-a0f9-5a8c05d32bfe-manifest.csv',\n",
       "  'TotalExecutionTimeInMillis': 3072,\n",
       "  'QueryQueueTimeInMillis': 182,\n",
       "  'QueryPlanningTimeInMillis': 312,\n",
       "  'ServiceProcessingTimeInMillis': 77},\n",
       " 'WorkGroup': 'primary',\n",
       " 'EngineVersion': {'SelectedEngineVersion': 'Athena engine version 2',\n",
       "  'EffectiveEngineVersion': 'Athena engine version 2'}}"
      ]
     },
     "execution_count": 27,
     "metadata": {},
     "output_type": "execute_result"
    }
   ],
   "source": [
    "create_Hearing_DV_Applicant = f\"\"\"\n",
    "CREATE TABLE IF NOT EXISTS fcsq.Hearing_DV_Applicant\n",
    "WITH (format = 'PARQUET', external_location = 's3://alpha-family-data/fcsq_processing/Domestic_Violence/Hearing_DV_Applicants') AS\n",
    "SELECT t1.*,\n",
    "t2.Case_Number_ID\n",
    "\n",
    "FROM __temp__.dv_app_rep_final t1\n",
    "LEFT JOIN __temp__.dv_hearings_cases_v2 t2 ON (t1.CASE_NUMBER = t2.CASE_NUMBER)\n",
    "where Case_Number_ID > 0;\n",
    "\"\"\"\n",
    "\n",
    "pydb.start_query_execution_and_wait(create_Hearing_DV_Applicant)"
   ]
  },
  {
   "cell_type": "markdown",
   "id": "782c570a-2e88-4bfa-a409-12f9a2bfa80b",
   "metadata": {},
   "source": [
    "#### Hearing_DV_Applicant validation"
   ]
  },
  {
   "cell_type": "code",
   "execution_count": 28,
   "id": "9749d68d-c1df-43c9-87af-69e4092d9c9b",
   "metadata": {},
   "outputs": [],
   "source": [
    "#Hearing_DV_Applicant_count = pydb.read_sql_query(\"select count(*) as count from fcsq.Hearing_DV_Applicant\")\n",
    "#Hearing_DV_Applicant_count"
   ]
  },
  {
   "cell_type": "markdown",
   "id": "518e7a8a-5533-46d3-ab90-6022e70d4d31",
   "metadata": {},
   "source": [
    "## 13. Hearing_DV_Respondent table - joins the cases from respondent representation table to the first hearing for the case in the DV_Hearing_Cases table \n",
    "<a name=\"Hearing_DV_Respondents\"></a>"
   ]
  },
  {
   "cell_type": "markdown",
   "id": "e52648a8-0fe9-4e2c-a1c8-bafea91a10a3",
   "metadata": {},
   "source": [
    "### Drop the Hearing_DV_Respondent table if it already exists and remove its data from the S3 bucket"
   ]
  },
  {
   "cell_type": "code",
   "execution_count": 29,
   "id": "91f6f6e3-12e2-4459-93ef-850c9b40ccae",
   "metadata": {},
   "outputs": [],
   "source": [
    "drop_Hearing_DV_Respondent = \"DROP TABLE IF EXISTS fcsq.Hearing_DV_Respondent\"\n",
    "pydb.start_query_execution_and_wait(drop_Hearing_DV_Respondent)\n",
    "bucket.objects.filter(Prefix=\"fcsq_processing/Domestic_Violence/Hearing_DV_Respondent\").delete();"
   ]
  },
  {
   "cell_type": "markdown",
   "id": "4ed10467-30a1-487c-89a4-05d8e0d0f474",
   "metadata": {},
   "source": [
    "### Create the Hearing_DV_Respondent table in Athena"
   ]
  },
  {
   "cell_type": "code",
   "execution_count": 30,
   "id": "34362091-c03b-409e-a344-3d5efdb55359",
   "metadata": {},
   "outputs": [
    {
     "data": {
      "text/plain": [
       "{'QueryExecutionId': 'f09c7ffa-375f-4989-8c1d-2f06507ad1c0',\n",
       " 'Query': \"CREATE TABLE IF NOT EXISTS fcsq.Hearing_DV_Respondent\\nWITH (format = 'PARQUET', external_location = 's3://alpha-family-data/fcsq_processing/Domestic_Violence/Hearing_DV_Respondents') AS\\nSELECT t1.*,\\nt2.Case_Number_ID\\n\\nFROM mojap_de_temp_alpha_user_jdlv500.dv_resp_rep_final t1\\nLEFT JOIN mojap_de_temp_alpha_user_jdlv500.dv_hearings_cases_v2 t2 ON (t1.CASE_NUMBER = t2.CASE_NUMBER)\\nwhere Case_Number_ID > 0\",\n",
       " 'StatementType': 'DDL',\n",
       " 'ResultConfiguration': {'OutputLocation': 's3://aws-athena-query-results-593291632749-eu-west-1/tables/f09c7ffa-375f-4989-8c1d-2f06507ad1c0'},\n",
       " 'QueryExecutionContext': {},\n",
       " 'Status': {'State': 'SUCCEEDED',\n",
       "  'SubmissionDateTime': datetime.datetime(2022, 10, 12, 13, 15, 52, 652000, tzinfo=tzlocal()),\n",
       "  'CompletionDateTime': datetime.datetime(2022, 10, 12, 13, 15, 55, 485000, tzinfo=tzlocal())},\n",
       " 'Statistics': {'EngineExecutionTimeInMillis': 2703,\n",
       "  'DataScannedInBytes': 5306345,\n",
       "  'DataManifestLocation': 's3://aws-athena-query-results-593291632749-eu-west-1/tables/f09c7ffa-375f-4989-8c1d-2f06507ad1c0-manifest.csv',\n",
       "  'TotalExecutionTimeInMillis': 2833,\n",
       "  'QueryQueueTimeInMillis': 108,\n",
       "  'QueryPlanningTimeInMillis': 186,\n",
       "  'ServiceProcessingTimeInMillis': 22},\n",
       " 'WorkGroup': 'primary',\n",
       " 'EngineVersion': {'SelectedEngineVersion': 'Athena engine version 2',\n",
       "  'EffectiveEngineVersion': 'Athena engine version 2'}}"
      ]
     },
     "execution_count": 30,
     "metadata": {},
     "output_type": "execute_result"
    }
   ],
   "source": [
    "create_Hearing_DV_Respondent = f\"\"\"\n",
    "CREATE TABLE IF NOT EXISTS fcsq.Hearing_DV_Respondent\n",
    "WITH (format = 'PARQUET', external_location = 's3://alpha-family-data/fcsq_processing/Domestic_Violence/Hearing_DV_Respondents') AS\n",
    "SELECT t1.*,\n",
    "t2.Case_Number_ID\n",
    "\n",
    "FROM __temp__.dv_resp_rep_final t1\n",
    "LEFT JOIN __temp__.dv_hearings_cases_v2 t2 ON (t1.CASE_NUMBER = t2.CASE_NUMBER)\n",
    "where Case_Number_ID > 0;\n",
    "\"\"\"\n",
    "\n",
    "pydb.start_query_execution_and_wait(create_Hearing_DV_Respondent)"
   ]
  },
  {
   "cell_type": "markdown",
   "id": "a9f4d45e-f620-4cc9-b649-9985ff8a971e",
   "metadata": {},
   "source": [
    "#### Hearing_DV_Respondent validation"
   ]
  },
  {
   "cell_type": "code",
   "execution_count": 31,
   "id": "943650dc-0744-4d9f-a94c-a30cefe5c273",
   "metadata": {},
   "outputs": [],
   "source": [
    "#Hearing_DV_Respondent_count = pydb.read_sql_query(\"select count(*) as count from fcsq.Hearing_DV_Respondent\")\n",
    "#Hearing_DV_Respondent_count"
   ]
  },
  {
   "cell_type": "markdown",
   "id": "5c9e9367-64fc-4b8d-8988-690cdd988179",
   "metadata": {},
   "source": [
    "## 14. DV_App table - Groups the hearing_dv_applicants table and produces a count per group\n",
    "<a name=\"DV_App\"></a>"
   ]
  },
  {
   "cell_type": "markdown",
   "id": "fdd0ae6a-2ae2-4eb5-ad17-111e09ccc8fb",
   "metadata": {},
   "source": [
    "### Drop the DV_App table if it already exists and remove its data from the S3 bucket"
   ]
  },
  {
   "cell_type": "code",
   "execution_count": 32,
   "id": "21ee064c-69af-4bda-b3ed-cc778c8f96fe",
   "metadata": {},
   "outputs": [],
   "source": [
    "drop_DV_App = \"DROP TABLE IF EXISTS fcsq.DV_App\"\n",
    "pydb.start_query_execution_and_wait(drop_DV_App)\n",
    "bucket.objects.filter(Prefix=\"fcsq_processing/Domestic_Violence/DV_App\").delete();"
   ]
  },
  {
   "cell_type": "markdown",
   "id": "e02229c8-f28e-43f1-b667-8617d720408c",
   "metadata": {},
   "source": [
    "### Create the DV_App table in Athena"
   ]
  },
  {
   "cell_type": "code",
   "execution_count": 33,
   "id": "1275de21-4bb3-4e78-93ea-d8f2dfdb19a7",
   "metadata": {},
   "outputs": [],
   "source": [
    "create_DV_App = f\"\"\"\n",
    "CREATE TABLE IF NOT EXISTS fcsq.DV_App\n",
    "WITH (format = 'PARQUET', external_location = 's3://alpha-family-data/fcsq_processing/Domestic_Violence/DV_App') AS\n",
    "SELECT\n",
    "  'Domestic Violence' AS CASE_TYPE,\n",
    "  Year,\n",
    "  Quarter,\n",
    "  'Party' AS Category,\n",
    "  'Applicant' AS PARTY,\n",
    "   App_Gender AS Gender,\n",
    "  Representation,\n",
    "  Count (*) AS Count\n",
    "FROM\n",
    "  fcsq.Hearing_DV_Applicant\n",
    "WHERE \n",
    "  Representation <> '' /*A very small number of cases from 2011/12 look into whether these should be recoded as N (gender is also blank)*/\n",
    "GROUP BY\n",
    "  'Domestic Violence',\n",
    "  Year,\n",
    "  Quarter,\n",
    "  'Party',\n",
    "  'Applicant',\n",
    "  App_Gender,\n",
    "  Representation;\n",
    "\"\"\"\n",
    "\n",
    "pydb.start_query_execution_and_wait(create_DV_App);"
   ]
  },
  {
   "cell_type": "markdown",
   "id": "b1f14dd5-5342-44af-b0a3-d5f88b0f31df",
   "metadata": {},
   "source": [
    "#### DV_App validation"
   ]
  },
  {
   "cell_type": "code",
   "execution_count": 34,
   "id": "9da64b87-81ff-4c10-ab0e-f5c4b1a1f397",
   "metadata": {},
   "outputs": [],
   "source": [
    "#DV_App_count = pydb.read_sql_query(\"select count(*) as count from fcsq.DV_App\")\n",
    "#DV_App_count"
   ]
  },
  {
   "cell_type": "markdown",
   "id": "5fa00f97-6596-416e-98d9-e1fd28cab0ad",
   "metadata": {},
   "source": [
    "## 15. DV_Resp table - Groups the hearing_dv_respondents table and produces a count per group\n",
    "<a name=\"DV_Resp\"></a>"
   ]
  },
  {
   "cell_type": "markdown",
   "id": "3d18a693-aab7-405e-8b1b-31e3fbedb670",
   "metadata": {},
   "source": [
    "### Drop the DV_Resp table if it already exists and remove its data from the S3 bucket"
   ]
  },
  {
   "cell_type": "code",
   "execution_count": 35,
   "id": "24b014e9-b67d-4ceb-abb4-bca60aca186f",
   "metadata": {},
   "outputs": [],
   "source": [
    "drop_DV_Resp = \"DROP TABLE IF EXISTS fcsq.DV_Resp\"\n",
    "pydb.start_query_execution_and_wait(drop_DV_Resp)\n",
    "bucket.objects.filter(Prefix=\"fcsq_processing/Domestic_Violence/DV_Resp\").delete();"
   ]
  },
  {
   "cell_type": "markdown",
   "id": "8feecd5a-7785-4098-823b-1cde15fc6590",
   "metadata": {},
   "source": [
    "### Create the DV_Resp table in Athena"
   ]
  },
  {
   "cell_type": "code",
   "execution_count": 36,
   "id": "d5a146a3-6f51-4f26-9e5c-02c5003857a2",
   "metadata": {},
   "outputs": [],
   "source": [
    "create_DV_Resp = f\"\"\"\n",
    "CREATE TABLE IF NOT EXISTS fcsq.DV_resp\n",
    "WITH (format = 'PARQUET', external_location = 's3://alpha-family-data/fcsq_processing/Domestic_Violence/DV_Resp') AS\n",
    "SELECT\n",
    "  'Domestic Violence' AS CASE_TYPE,\n",
    "  Year,\n",
    "  Quarter,\n",
    "  'Party' AS Category,\n",
    "  'Applicant' AS PARTY,\n",
    "   Resp_Gender AS Gender,\n",
    "  Representation,\n",
    "  Count (*) AS Count\n",
    "FROM\n",
    "  fcsq.Hearing_DV_Respondent\n",
    "WHERE \n",
    "  Representation <> '' /*A very small number of cases from 2011/12 look into whether these should be recoded as N (gender is also blank)*/\n",
    "GROUP BY\n",
    "  'Domestic Violence',\n",
    "  Year,\n",
    "  Quarter,\n",
    "  'Party',\n",
    "  'Applicant',\n",
    "  Resp_Gender,\n",
    "  Representation;\n",
    "\"\"\"\n",
    "\n",
    "pydb.start_query_execution_and_wait(create_DV_Resp);"
   ]
  },
  {
   "cell_type": "markdown",
   "id": "b6b64b26-5d45-4d8a-b329-f1c471e1831d",
   "metadata": {},
   "source": [
    "#### DV_Resp validation"
   ]
  },
  {
   "cell_type": "code",
   "execution_count": 37,
   "id": "bbd9bd65-2149-49ab-9e8a-1e516deec7ad",
   "metadata": {},
   "outputs": [],
   "source": [
    "#DV_Resp_count = pydb.read_sql_query(\"select count(*) as count from fcsq.DV_Resp\")\n",
    "#DV_Resp_count"
   ]
  },
  {
   "cell_type": "markdown",
   "id": "84432d4b-3d4c-4412-a0c4-947e4fcd004b",
   "metadata": {},
   "source": [
    "## 16. dv_case table - groups and formats dv_case_data_v3 table and gives a count for each group\n",
    "<a name=\"DV_Case\"></a>"
   ]
  },
  {
   "cell_type": "markdown",
   "id": "811da59c-4654-4b58-a089-9cae4b364066",
   "metadata": {},
   "source": [
    "### Drop the dv_case table if it already exists and remove its data from the S3 bucket"
   ]
  },
  {
   "cell_type": "code",
   "execution_count": 38,
   "id": "3a92f7d1-a6e5-4386-8474-87136a73a5c0",
   "metadata": {},
   "outputs": [],
   "source": [
    "drop_DV_case = \"DROP TABLE IF EXISTS fcsq.DV_case\"\n",
    "pydb.start_query_execution_and_wait(drop_DV_case)\n",
    "bucket.objects.filter(Prefix=\"fcsq_processing/Domestic_Violence/DV_case\").delete();"
   ]
  },
  {
   "cell_type": "markdown",
   "id": "04868d26-5802-448d-a64d-88ea35f27f3a",
   "metadata": {},
   "source": [
    "### Create the dv_case table in Athena"
   ]
  },
  {
   "cell_type": "code",
   "execution_count": 39,
   "id": "17dc3ea2-9abb-4879-a92d-14f80d791977",
   "metadata": {},
   "outputs": [],
   "source": [
    "create_DV_case = f\"\"\"\n",
    "CREATE TABLE IF NOT EXISTS fcsq.DV_case\n",
    "WITH (format = 'PARQUET', external_location = 's3://alpha-family-data/fcsq_processing/Domestic_Violence/DV_case') AS\n",
    "SELECT *, Count(*) as Count FROM\n",
    "    (SELECT\n",
    "      'Domestic Violence' AS CASE_TYPE,\n",
    "      Year,\n",
    "      Quarter,\n",
    "      'Cases' AS Category,\n",
    "      ' ' AS PARTY,\n",
    "      ' ' AS Gender,\n",
    "      ' ' AS Representation\n",
    "    FROM\n",
    "      __temp__.dv_case_data_v3)\n",
    "\n",
    "GROUP BY\n",
    "  CASE_TYPE,\n",
    "  Year,\n",
    "  Quarter,\n",
    "  Category,\n",
    "  PARTY,\n",
    "  Gender,\n",
    "  Representation\n",
    "\n",
    "ORDER BY \n",
    "    Year,\n",
    "    Quarter;\n",
    "\"\"\"\n",
    "\n",
    "pydb.start_query_execution_and_wait(create_DV_case);"
   ]
  },
  {
   "cell_type": "markdown",
   "id": "ad78f842-18a7-44cc-852f-8c81943ecc17",
   "metadata": {},
   "source": [
    "#### DV_case validation"
   ]
  },
  {
   "cell_type": "code",
   "execution_count": 40,
   "id": "266cc428-417d-4c27-b8fc-5ffa6bbd4144",
   "metadata": {},
   "outputs": [],
   "source": [
    "#DV_case_count = pydb.read_sql_query(\"select count(*) as count from fcsq.DV_case\")\n",
    "#DV_case_count"
   ]
  },
  {
   "cell_type": "markdown",
   "id": "9bfa953e-3c7e-45ca-bda1-39bf85b786cd",
   "metadata": {},
   "source": [
    "## 17. DV_Case_Hearings table - creates a count of all the cases with a hearing per quarter\n",
    "<a name=\"DV_Case_Hearings\"></a>"
   ]
  },
  {
   "cell_type": "markdown",
   "id": "51f46237-3669-4ac4-8a13-13b94fdc383a",
   "metadata": {},
   "source": [
    "### Drop the DV_Case_Hearings table if it already exists and remove its data from the S3 bucket"
   ]
  },
  {
   "cell_type": "code",
   "execution_count": 41,
   "id": "af8aef41-8914-4184-96c4-c87d11ac2c96",
   "metadata": {},
   "outputs": [],
   "source": [
    "drop_DV_Case_Hearings = \"DROP TABLE IF EXISTS fcsq.DV_Case_Hearings\"\n",
    "pydb.start_query_execution_and_wait(drop_DV_Case_Hearings)\n",
    "bucket.objects.filter(Prefix=\"fcsq_processing/Domestic_Violence/DV_Case_Hearings\").delete();"
   ]
  },
  {
   "cell_type": "markdown",
   "id": "2f35ab1f-9ba9-4675-8f8e-26816d3a3a68",
   "metadata": {},
   "source": [
    "### Create the DV_Case_Hearings table in Athena"
   ]
  },
  {
   "cell_type": "code",
   "execution_count": 42,
   "id": "baa5efa6-ed7f-45d3-a029-85993a32192d",
   "metadata": {},
   "outputs": [],
   "source": [
    "create_hearing_dv_case =f\"\"\"\n",
    "SELECT DISTINCT Year, Quarter, Case_Number\n",
    "FROM fcsq.Hearing_DV_Applicant;\n",
    "\"\"\"\n",
    "\n",
    "pydb.create_temp_table(create_hearing_dv_case,'hearing_dv_case')\n",
    "\n",
    "\n",
    "\n",
    "create_DV_Case_Hearings = f\"\"\"\n",
    "CREATE TABLE IF NOT EXISTS fcsq.DV_Case_Hearings\n",
    "WITH (format = 'PARQUET', external_location = 's3://alpha-family-data/fcsq_processing/Domestic_Violence/DV_Case_Hearings') AS\n",
    "SELECT *, Count(*) as Count FROM\n",
    "    (SELECT\n",
    "      'Domestic Violence' AS CASE_TYPE,\n",
    "      Year,\n",
    "      Quarter,\n",
    "      'Cases with a hearing' AS Category,\n",
    "      ' ' AS PARTY,\n",
    "      ' ' AS Gender,\n",
    "      ' ' AS Representation\n",
    "    FROM\n",
    "      __temp__.hearing_dv_case)\n",
    "GROUP BY\n",
    "  CASE_TYPE,\n",
    "  Year,\n",
    "  Quarter,\n",
    "  Category,\n",
    "  PARTY,\n",
    "  Gender,\n",
    "  Representation\n",
    "ORDER BY \n",
    "  Year,\n",
    "  Quarter;\n",
    "\"\"\"\n",
    "\n",
    "pydb.start_query_execution_and_wait(create_DV_Case_Hearings);"
   ]
  },
  {
   "cell_type": "code",
   "execution_count": 43,
   "id": "19d67c5e-d52e-4bf4-9434-b08b3f5b731f",
   "metadata": {},
   "outputs": [],
   "source": [
    "#DV_Case_Hearings = pydb.read_sql_query(\"select count(*) as count from fcsq.DV_Case_Hearings\")\n",
    "#DV_Case_Hearings"
   ]
  },
  {
   "cell_type": "markdown",
   "id": "5c16f303-3d77-4b89-a9cd-590c616a1a84",
   "metadata": {},
   "source": [
    "## 18. Domestic Violence table - Joins the applicant/respondent representation count tables, case count table, and case hearing count tables \n",
    "<a name=\"Domestic_Violence\"></a>"
   ]
  },
  {
   "cell_type": "markdown",
   "id": "f97bc5f6-c76c-4211-9374-784b022b70da",
   "metadata": {},
   "source": [
    "### Drop the Domestic Violence table if it already exists and remove its data from the S3 bucket"
   ]
  },
  {
   "cell_type": "code",
   "execution_count": 44,
   "id": "8f0423aa-d455-458d-aaf3-d1f5556178cc",
   "metadata": {},
   "outputs": [],
   "source": [
    "drop_Domestic_Violence = \"DROP TABLE IF EXISTS fcsq.Domestic_Violence\"\n",
    "pydb.start_query_execution_and_wait(drop_Domestic_Violence)\n",
    "bucket.objects.filter(Prefix=\"fcsq_processing/Domestic_Violence/Domestic_Violence\").delete();"
   ]
  },
  {
   "cell_type": "markdown",
   "id": "3eae6c91-a91e-4751-9b43-9c2a9a34cb25",
   "metadata": {},
   "source": [
    "### Create the Domestic Violence table in Athena"
   ]
  },
  {
   "cell_type": "code",
   "execution_count": 45,
   "id": "85bb213f-7f99-4c9b-b87b-b678cc2e8455",
   "metadata": {},
   "outputs": [],
   "source": [
    "create_Domestic_Violence = f\"\"\"\n",
    "CREATE TABLE IF NOT EXISTS fcsq.Domestic_Violence\n",
    "WITH (format = 'PARQUET', external_location = 's3://alpha-family-data/fcsq_processing/Domestic_Violence/Domestic_Violence') AS\n",
    "SELECT\n",
    "  *\n",
    "FROM\n",
    " fcsq.DV_APP\n",
    "UNION ALL\n",
    "SELECT\n",
    "  *\n",
    "FROM\n",
    "  fcsq.DV_RESP\n",
    "UNION ALL\n",
    "SELECT\n",
    "  *\n",
    "FROM\n",
    "  fcsq.DV_CASE\n",
    "UNION ALL\n",
    "SELECT\n",
    "  *\n",
    "FROM\n",
    "  fcsq.DV_CASE_HEARINGS;\n",
    "\"\"\"\n",
    "\n",
    "pydb.start_query_execution_and_wait(create_Domestic_Violence);"
   ]
  },
  {
   "cell_type": "markdown",
   "id": "19e74fa3-3598-437f-bf80-fc94461ceef7",
   "metadata": {},
   "source": [
    "#### Domestic Violence validation"
   ]
  },
  {
   "cell_type": "code",
   "execution_count": 46,
   "id": "a8f26832-2b31-4da4-b94b-6ed003b24554",
   "metadata": {},
   "outputs": [],
   "source": [
    "#Domestic_Violence_count = pydb.read_sql_query(\"select count(*) as count from fcsq.Domestic_Violence\")\n",
    "#Domestic_Violence_count"
   ]
  },
  {
   "cell_type": "code",
   "execution_count": 47,
   "id": "9a0d4f43-4ff0-451b-be12-fd764b1f3445",
   "metadata": {},
   "outputs": [],
   "source": [
    "#pydb.read_sql_query(\"select * from fcsq.Domestic_Violence \")"
   ]
  },
  {
   "cell_type": "markdown",
   "id": "d67a5230-d3bc-4046-96ba-ca348ca19739",
   "metadata": {},
   "source": [
    "## 19. DV_applications_data_sorted table - Orders dv_application_5 by case_number and application date\n",
    "<a name=\"DV_applications_data_sorted\"></a>"
   ]
  },
  {
   "cell_type": "markdown",
   "id": "2ee98ee1-2be7-4954-b41e-a64d7c5c8e05",
   "metadata": {},
   "source": [
    "### Drop the dv_applications_data_sorted table if it already exists and remove its data from the S3 bucket"
   ]
  },
  {
   "cell_type": "code",
   "execution_count": 48,
   "id": "29cb151d-3136-4017-93a5-955102247417",
   "metadata": {},
   "outputs": [],
   "source": [
    "drop_dv_applications_data_sorted = \"DROP TABLE IF EXISTS fcsq.dv_applications_data_sorted\"\n",
    "pydb.start_query_execution_and_wait(drop_dv_applications_data_sorted)\n",
    "bucket.objects.filter(Prefix=\"fcsq_processing/Domestic_Violence/dv_applications_data_sorted\").delete();"
   ]
  },
  {
   "cell_type": "markdown",
   "id": "a8aee188-d28c-452e-b058-e2299e29b76e",
   "metadata": {},
   "source": [
    "### Create the dv_applications_data_sorted table in Athena"
   ]
  },
  {
   "cell_type": "code",
   "execution_count": 49,
   "id": "4ff1f817-ffcc-42fb-95ae-893861b86dca",
   "metadata": {},
   "outputs": [],
   "source": [
    "create_dv_applications_data_sorted = f\"\"\"\n",
    "CREATE TABLE IF NOT EXISTS fcsq.dv_applications_data_sorted\n",
    "WITH (format = 'PARQUET', external_location = 's3://alpha-family-data/fcsq_processing/Domestic_Violence/dv_applications_data_sorted') AS\n",
    "SELECT t1.*\n",
    "      FROM fcsq.DV_APPS_FINAL t1\n",
    "      ORDER BY t1.CASE_NUMBER,\n",
    "               t1.RECEIPT_DATE,\n",
    "               t1.Description;\n",
    "\"\"\"\n",
    "\n",
    "pydb.start_query_execution_and_wait(create_dv_applications_data_sorted);"
   ]
  },
  {
   "cell_type": "code",
   "execution_count": 50,
   "id": "e33205a2-6c41-40f2-8a62-70ed3dc81d85",
   "metadata": {
    "tags": []
   },
   "outputs": [],
   "source": [
    "#pydb.read_sql_query(\"select * from fcsq.dv_applications_data_sorted \")"
   ]
  },
  {
   "cell_type": "markdown",
   "id": "c91ec117-d70b-4840-af35-8e0d0909269e",
   "metadata": {},
   "source": [
    "#### DV_applications_data_sorted validation"
   ]
  },
  {
   "cell_type": "code",
   "execution_count": 51,
   "id": "fac8c5a1-bbad-4861-a23c-e3057df99faf",
   "metadata": {
    "tags": []
   },
   "outputs": [],
   "source": [
    "#dv_applications_data_sorted_count = pydb.read_sql_query(\"select count(*) as count from fcsq.dv_applications_data_sorted\")\n",
    "#dv_applications_data_sorted_count"
   ]
  },
  {
   "cell_type": "markdown",
   "id": "c56aeb3e-62cd-46df-8ad4-177500e18b04",
   "metadata": {
    "tags": []
   },
   "source": [
    "## 20. Create dv_applications temporary tables - takes the dv_applications_data sorted table and filters it so it only has the first application record per case number\n",
    "<a name=\"DV_applications_temp\"></a>"
   ]
  },
  {
   "cell_type": "code",
   "execution_count": 52,
   "id": "5cae9280-f19c-4ca5-a182-df13cc7babe9",
   "metadata": {},
   "outputs": [],
   "source": [
    "create_dv_applications_1 = f\"\"\"\n",
    "SELECT t1.*, row_number() over (order by CASE_NUMBER, RECEIPT_DATE) as SEQ_NUM\n",
    "      FROM fcsq.dv_applications_data_sorted t1;\n",
    "\"\"\"\n",
    "\n",
    "pydb.create_temp_table(create_dv_applications_1,'dv_applications_1')\n",
    "\n",
    "create_dv_applications_2 = f\"\"\"\n",
    "SELECT DISTINCT CASE_NUMBER, Description, EVENT, (MIN(Seq_Num)) AS MIN_of_Seq_Num\n",
    "FROM __temp__.dv_applications_1\n",
    "GROUP BY CASE_NUMBER, Description, EVENT;\n",
    "\"\"\"\n",
    "\n",
    "pydb.create_temp_table(create_dv_applications_2,'dv_applications_2')\n",
    "\n",
    "create_dv_applications_3 = f\"\"\"\n",
    "SELECT t1.CASE_NUMBER, \n",
    "    t2.RECEIPT_DATE, \n",
    "    t2.YEAR, \n",
    "    t2.QUARTER, \n",
    "    t2.EVENT, \n",
    "    t2.EVENT_COURT, \n",
    "    t2.Description\n",
    "FROM __temp__.dv_applications_2 t1\n",
    "LEFT JOIN __temp__.dv_applications_1 t2 ON (t1.MIN_of_Seq_NUM = t2.Seq_NUM) AND (t1.Description = \n",
    "t2.Description);\n",
    "\"\"\"\n",
    "\n",
    "pydb.create_temp_table(create_dv_applications_3,'dv_applications_3')"
   ]
  },
  {
   "cell_type": "markdown",
   "id": "12986028-b35f-4e90-b468-7203a699661e",
   "metadata": {},
   "source": [
    "## 21. DV_orders_data_sorted table - Sorts the disposals table by case_number and receipt date, removing contact orders, placement revoke or vary orders and other type orders\n",
    "<a name=\"DV_orders_data_sorted\"></a>"
   ]
  },
  {
   "cell_type": "markdown",
   "id": "d1d16055-dfa0-400c-a625-10bc84be0b79",
   "metadata": {},
   "source": [
    "### Drop the dv_orders_data_sorted table if it already exists and remove its data from the S3 bucket"
   ]
  },
  {
   "cell_type": "code",
   "execution_count": 53,
   "id": "c000198f-ed6b-4968-b7ed-22f919802e0e",
   "metadata": {},
   "outputs": [],
   "source": [
    "drop_dv_orders_data_sorted = \"DROP TABLE IF EXISTS fcsq.dv_orders_data_sorted\"\n",
    "pydb.start_query_execution_and_wait(drop_dv_orders_data_sorted)\n",
    "bucket.objects.filter(Prefix=\"fcsq_processing/Domestic_Violence/dv_orders_data_sorted\").delete();"
   ]
  },
  {
   "cell_type": "markdown",
   "id": "8c99b7e6-ad7a-4b5e-bd70-8fa88e46ca2d",
   "metadata": {},
   "source": [
    "### Create the dv_orders_data_sorted table in Athena"
   ]
  },
  {
   "cell_type": "code",
   "execution_count": 54,
   "id": "f54164a0-1ef0-4337-8580-f517496ba582",
   "metadata": {},
   "outputs": [],
   "source": [
    "create_dv_orders_data_sorted = f\"\"\"\n",
    "CREATE TABLE IF NOT EXISTS fcsq.dv_orders_data_sorted\n",
    "WITH (format = 'PARQUET', external_location = 's3://alpha-family-data/fcsq_processing/Domestic_Violence/dv_orders_data_sorted') AS\n",
    "SELECT t1.RECEIPT_DATE, \n",
    "    t1.CASE_NUMBER, \n",
    "    t1.EVENT, \n",
    "    t1.CREATING_COURT,\n",
    "    CAST(EVENT AS VARCHAR(3)) AS EVENT_CODE,\n",
    "    t1.FIELD_MODEL, \n",
    "    t1.VALUE\n",
    "FROM fcsq.DV_Ords1 t1\n",
    "ORDER BY t1.CASE_NUMBER,\n",
    "    t1.RECEIPT_DATE;\n",
    "\"\"\"\n",
    "\n",
    "pydb.start_query_execution_and_wait(create_dv_orders_data_sorted);"
   ]
  },
  {
   "cell_type": "code",
   "execution_count": 55,
   "id": "4b5b2db1-8616-46fe-b18a-129c75f60763",
   "metadata": {
    "tags": []
   },
   "outputs": [],
   "source": [
    "#pydb.read_sql_query(\"select * from fcsq.dv_orders_data_sorted\")"
   ]
  },
  {
   "cell_type": "markdown",
   "id": "d23f1687-f0f6-4ee6-be0d-7ddd2caf38a5",
   "metadata": {},
   "source": [
    "#### DV_orders_data_sorted validation"
   ]
  },
  {
   "cell_type": "code",
   "execution_count": 56,
   "id": "3cd137d3-633e-4438-9456-ff03c2dc24b9",
   "metadata": {},
   "outputs": [],
   "source": [
    "#dv_orders_data_sorted_count = pydb.read_sql_query(\"select count(*) as count from fcsq.dv_orders_data_sorted\")\n",
    "#dv_orders_data_sorted_count"
   ]
  },
  {
   "cell_type": "markdown",
   "id": "a35df7d5-e2b7-4b42-9ca0-f64b38c28ea4",
   "metadata": {},
   "source": [
    "## 22. Create dv_orders temporary tables - takes the dv_orders_data sorted table and filters it so it only has the first order record per case number\n",
    "<a name=\"DV_orders_temp\"></a>"
   ]
  },
  {
   "cell_type": "code",
   "execution_count": 57,
   "id": "7762c45a-962b-4562-bee4-b47948703c4a",
   "metadata": {},
   "outputs": [],
   "source": [
    "create_dv_orders_0 = f\"\"\"\n",
    "SELECT t1.CASE_NUMBER, \n",
    "          t1.EVENT, \n",
    "          t1.CREATING_COURT, \n",
    "          t2.RECEIPT_DATE AS APP_DATE, \n",
    "          t1.RECEIPT_DATE AS DISP_DATE, \n",
    "          t2.Description AS APP_Order_Type, \n",
    "          t1.FIELD_MODEL, \n",
    "          t1.EVENT_CODE, \n",
    "          t1.VALUE, \n",
    "          DAY(t1.RECEIPT_DATE - t2.RECEIPT_DATE) AS DATE_DIFF\n",
    "      FROM fcsq.dv_orders_data_sorted t1\n",
    "           INNER JOIN __temp__.dv_applications_3 t2 ON (t1.CASE_NUMBER = t2.CASE_NUMBER)\n",
    "      WHERE DAY(t1.RECEIPT_DATE - t2.RECEIPT_DATE) >= 0;\n",
    "\"\"\"\n",
    "pydb.create_temp_table(create_dv_orders_0,'dv_orders_0')"
   ]
  },
  {
   "cell_type": "code",
   "execution_count": 58,
   "id": "6dda9bdd-86f8-484d-8656-b75abe227157",
   "metadata": {},
   "outputs": [],
   "source": [
    "#dv_orders_data_temp_count = pydb.read_sql_query(\"select count(*) as count from __temp__.dv_orders_0\")\n",
    "#dv_orders_data_temp_count"
   ]
  },
  {
   "cell_type": "code",
   "execution_count": 59,
   "id": "933a28b8-983f-4d03-a979-222adc1357fc",
   "metadata": {},
   "outputs": [],
   "source": [
    "create_dv_orders_1 = f\"\"\"\n",
    "SELECT DISTINCT t1.CASE_NUMBER, \n",
    "          t1.EVENT, \n",
    "          t1.CREATING_COURT, \n",
    "          t1.EVENT_CODE, \n",
    "          t1.APP_Order_Type, \n",
    "          t1.APP_DATE, \n",
    "          t1.DISP_DATE, \n",
    "          t1.FIELD_MODEL, \n",
    "          t1.VALUE,\n",
    "          row_number() over (ORDER BY CASE_NUMBER) as SEQ_NUM\n",
    "      FROM __temp__.dv_orders_0 t1\n",
    "      ORDER BY t1.CASE_NUMBER,\n",
    "               t1.APP_Order_Type,\n",
    "               t1.APP_DATE,\n",
    "               t1.DISP_DATE,\n",
    "               t1.EVENT;\n",
    "\"\"\"\n",
    "pydb.create_temp_table(create_dv_orders_1,'dv_orders_1')"
   ]
  },
  {
   "cell_type": "code",
   "execution_count": 60,
   "id": "b25a63ce-b55d-4b51-ab66-4b40dfcd473d",
   "metadata": {},
   "outputs": [],
   "source": [
    "#dv_orders_data_temp_count = pydb.read_sql_query(\"select count(*) as count from __temp__.dv_orders_1\")\n",
    "#dv_orders_data_temp_count"
   ]
  },
  {
   "cell_type": "code",
   "execution_count": 61,
   "id": "c6a32f85-ee68-4e26-9cfe-67dd982db3b7",
   "metadata": {},
   "outputs": [],
   "source": [
    "#pydb.read_sql_query(\"select * from __temp__.dv_orders_1\")"
   ]
  },
  {
   "cell_type": "code",
   "execution_count": 62,
   "id": "2683c226-3f50-4653-a9a6-af2375ee8b91",
   "metadata": {},
   "outputs": [],
   "source": [
    "create_dv_orders_2 = f\"\"\"\n",
    "SELECT DISTINCT t1.CASE_NUMBER, \n",
    "          t1.APP_Order_Type, \n",
    "          t1.APP_DATE, \n",
    "          (MIN(t1.SEQ_NUM)) AS MIN_SEQ_NUM\n",
    "      FROM __temp__.dv_orders_1 t1\n",
    "      GROUP BY t1.CASE_NUMBER,\n",
    "               t1.APP_Order_Type,\n",
    "               t1.APP_DATE;\n",
    "\"\"\"\n",
    "pydb.create_temp_table(create_dv_orders_2,'dv_orders_2')"
   ]
  },
  {
   "cell_type": "code",
   "execution_count": 63,
   "id": "032c1092-e92e-4ac4-849e-0a6412b595a8",
   "metadata": {},
   "outputs": [],
   "source": [
    "#dv_orders_data_temp_count = pydb.read_sql_query(\"select count(*) as count from __temp__.dv_orders_2\")\n",
    "#dv_orders_data_temp_count"
   ]
  },
  {
   "cell_type": "code",
   "execution_count": 64,
   "id": "1ecd8161-25dd-46da-bd45-3a8613d36d73",
   "metadata": {},
   "outputs": [],
   "source": [
    "#pydb.read_sql_query(\"select * from __temp__.dv_orders_2\")"
   ]
  },
  {
   "cell_type": "code",
   "execution_count": 65,
   "id": "8cb09f04-34f2-4b9c-b9dc-b1f28b4917e5",
   "metadata": {},
   "outputs": [],
   "source": [
    "create_dv_orders_3 = f\"\"\"\n",
    "SELECT DISTINCT t1.CASE_NUMBER, \n",
    "          t1.APP_Order_Type, \n",
    "          t1.APP_DATE, \n",
    "          t2.DISP_DATE, \n",
    "          t2.EVENT, \n",
    "          t2.CREATING_COURT, \n",
    "          t2.EVENT_CODE, \n",
    "          t2.FIELD_MODEL, \n",
    "          t2.VALUE\n",
    "      FROM __temp__.dv_orders_2 t1\n",
    "           LEFT JOIN __temp__.dv_orders_1 t2 ON (t1.MIN_SEQ_NUM = t2.SEQ_NUM);\n",
    "\"\"\"\n",
    "pydb.create_temp_table(create_dv_orders_3,'dv_orders_3')"
   ]
  },
  {
   "cell_type": "code",
   "execution_count": 66,
   "id": "cebbe3e6-27ef-426c-9a64-bc5847cac913",
   "metadata": {},
   "outputs": [],
   "source": [
    "#dv_orders_data_temp_count = pydb.read_sql_query(\"select count(*) as count from __temp__.dv_orders_3\")\n",
    "#dv_orders_data_temp_count"
   ]
  },
  {
   "cell_type": "code",
   "execution_count": 67,
   "id": "00aed558-9536-430c-a331-3ada428d25e7",
   "metadata": {},
   "outputs": [],
   "source": [
    "#pydb.read_sql_query(\"select * from __temp__.dv_orders_3\")"
   ]
  },
  {
   "cell_type": "markdown",
   "id": "deab598e-44e7-4002-b42d-c8e86783e64f",
   "metadata": {},
   "source": [
    "## 23. dv_apps_and_orders_match table - calculates the timeliness based on the difference between app_date and disp_date\n",
    "<a name=\"DV_apps_and_orders_match\"></a>"
   ]
  },
  {
   "cell_type": "markdown",
   "id": "b2b2225f-4719-4635-828a-86b13786e374",
   "metadata": {},
   "source": [
    "### Drop the dv_apps_and_orders_match table if it already exists and remove its data from the S3 bucket"
   ]
  },
  {
   "cell_type": "code",
   "execution_count": 68,
   "id": "18c42c51-fa80-487f-ae98-959216695e39",
   "metadata": {},
   "outputs": [],
   "source": [
    "drop_dv_apps_and_orders_match = \"DROP TABLE IF EXISTS fcsq.dv_apps_and_orders_match\"\n",
    "pydb.start_query_execution_and_wait(drop_dv_apps_and_orders_match)\n",
    "bucket.objects.filter(Prefix=\"fcsq_processing/Domestic_Violence/dv_apps_and_orders_match\").delete();"
   ]
  },
  {
   "cell_type": "markdown",
   "id": "25ada03c-fcea-4516-8ff0-ff8e9ed1023a",
   "metadata": {},
   "source": [
    "### Create the dv_apps_and_orders_match table in Athena"
   ]
  },
  {
   "cell_type": "code",
   "execution_count": 69,
   "id": "e6ff79da-ac19-4565-8310-e03b81a686c4",
   "metadata": {},
   "outputs": [],
   "source": [
    "create_dv_apps_and_orders_match = f\"\"\"\n",
    "CREATE TABLE IF NOT EXISTS fcsq.dv_apps_and_orders_match\n",
    "WITH (format = 'PARQUET', external_location = 's3://alpha-family-data/fcsq_processing/Domestic_Violence/dv_apps_and_orders_match') AS\n",
    "SELECT t2.CASE_NUMBER, \n",
    "    t2.APP_Order_Type, \n",
    "    t2.APP_DATE, \n",
    "    t2.DISP_DATE, \n",
    "    t2.FIELD_MODEL,\n",
    "    t2.EVENT_CODE AS DSP_COURT,\n",
    "    DAY(t2.DISP_DATE - t2.APP_DATE)/7 AS Wait_weeks,\n",
    "    YEAR(t2.DISP_DATE) AS Year,\n",
    "    Month(t2.DISP_DATE) AS Month,\n",
    "    t2.VALUE AS Orders\n",
    "FROM __temp__.dv_orders_3 t2;\n",
    "\"\"\"\n",
    "\n",
    "pydb.start_query_execution_and_wait(create_dv_apps_and_orders_match);\n"
   ]
  },
  {
   "cell_type": "code",
   "execution_count": 70,
   "id": "4c6e0f90-515a-4407-a5b5-c44e55b5e1ca",
   "metadata": {},
   "outputs": [],
   "source": [
    "#dv_apps_and_orders_match_count = pydb.read_sql_query(\"select count(*) as count from __temp__.dv_orders_3\")\n",
    "#dv_apps_and_orders_match_count"
   ]
  }
 ],
 "metadata": {
  "kernelspec": {
   "display_name": "venv",
   "language": "python",
   "name": "venv"
  },
  "language_info": {
   "codemirror_mode": {
    "name": "ipython",
    "version": 3
   },
   "file_extension": ".py",
   "mimetype": "text/x-python",
   "name": "python",
   "nbconvert_exporter": "python",
   "pygments_lexer": "ipython3",
   "version": "3.9.6"
  }
 },
 "nbformat": 4,
 "nbformat_minor": 5
}
