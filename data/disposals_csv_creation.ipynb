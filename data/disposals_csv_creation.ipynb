{
 "cells": [
  {
   "cell_type": "code",
   "execution_count": null,
   "id": "d93db95f-0718-4d51-88d5-de47b3c413e6",
   "metadata": {},
   "outputs": [],
   "source": [
    "# libraries\n",
    "import pandas as pd\n",
    "import pydbtools as pydb\n",
    "import boto3\n",
    "from datetime import datetime\n",
    "#import re\n",
    "import os  # for file paths\n",
    "import awswrangler as wr"
   ]
  },
  {
   "cell_type": "markdown",
   "id": "b1cea333-f7fd-4d41-871f-ad28abcbb529",
   "metadata": {},
   "source": [
    "# Disposals Outputs"
   ]
  },
  {
   "cell_type": "markdown",
   "id": "e23643f6-6955-43e9-a006-936a5b75a0a5",
   "metadata": {},
   "source": [
    "#### Child counts"
   ]
  },
  {
   "cell_type": "code",
   "execution_count": null,
   "id": "f67fda3b-e055-48f2-a023-30c7ca0ed295",
   "metadata": {},
   "outputs": [],
   "source": [
    "pydb.create_temp_table( \n",
    "f\"\"\"\n",
    "SELECT\n",
    "  Year,\n",
    "  Quarter,\n",
    "  'Disposal' AS Type,\n",
    "  'Children' AS Count_type,\n",
    "  CASE WHEN Case_type = 'C' THEN 'Public law'\n",
    "       WHEN Case_type = 'P' THEN 'Private law'\n",
    "    End AS Public_private,\n",
    "   Disp_type AS Disposal_type,\n",
    "   order_desc AS Order_type,\n",
    "   order_code AS Order_type_code,\n",
    "  'N/A' AS Gender,\n",
    "  'N/A' AS age_band,\n",
    "  'N/A' AS Applicants_in_case,\n",
    "  'N/A' AS Respondents_in_case,\n",
    "  'N/A' AS HC_INDICATOR,\n",
    "   COUNT(*) AS Count\n",
    "FROM\n",
    "  __temp__.ca_disps_all_children\n",
    "Where\n",
    "  Year>=2011\n",
    "Group BY\n",
    "  Year,\n",
    "  Quarter,\n",
    "  CASE WHEN Case_type = 'C' THEN 'Public law'\n",
    "       WHEN Case_type = 'P' THEN 'Private law'\n",
    "    End,\n",
    "  Disp_type,\n",
    "  order_desc,\n",
    "  order_code\n",
    "  \n",
    "\"\"\",\n",
    "\n",
    "\"child_counts\")"
   ]
  },
  {
   "cell_type": "code",
   "execution_count": null,
   "id": "1c6d1fcc-965f-41d8-81f4-ea1745e3ccbc",
   "metadata": {},
   "outputs": [],
   "source": [
    "pydb.read_sql_query (\"select * from __temp__.child_counts where disposal_type = 'Order'\")"
   ]
  },
  {
   "cell_type": "markdown",
   "id": "423df135-f9cc-47a8-acec-d2d6fab6e90e",
   "metadata": {},
   "source": [
    "### Order counts"
   ]
  },
  {
   "cell_type": "code",
   "execution_count": null,
   "id": "c1ef0fdc-a4e3-47e0-abe3-217507549ddc",
   "metadata": {},
   "outputs": [],
   "source": [
    "pydb.create_temp_table( \n",
    "f\"\"\"\n",
    "SELECT\n",
    "  Year,\n",
    "  Quarter,\n",
    "  'Disposal' AS Type,\n",
    "  'Order type' AS Count_type,\n",
    "  CASE WHEN Case_type = 'C' THEN 'Public law'\n",
    "       WHEN Case_type = 'P' THEN 'Private law'\n",
    "    End AS Public_private,\n",
    "   Disp_type AS Disposal_type,\n",
    "   order_desc AS Order_type,\n",
    "   order_code AS Order_type_code,\n",
    "  'N/A' AS Gender,\n",
    "  'N/A' AS age_band,\n",
    "  'N/A' AS Applicants_in_case,\n",
    "  'N/A' AS Respondents_in_case,\n",
    "  'N/A' AS HC_INDICATOR,\n",
    "   COUNT(*) AS Count\n",
    "FROM\n",
    "  __temp__.ca_disp_order_type\n",
    "Where\n",
    "  Year>=2011\n",
    "Group BY\n",
    "  Year,\n",
    "  Quarter,\n",
    "  CASE WHEN Case_type = 'C' THEN 'Public law'\n",
    "       WHEN Case_type = 'P' THEN 'Private law'\n",
    "    End,\n",
    "  Disp_type,\n",
    "  order_desc,\n",
    "  order_code\n",
    "  \n",
    "\"\"\",\n",
    "\n",
    "\"order_type_counts\")"
   ]
  },
  {
   "cell_type": "code",
   "execution_count": null,
   "id": "8a9dff24-338f-4f65-9bbb-37af2cbd8c6d",
   "metadata": {},
   "outputs": [],
   "source": [
    "pydb.read_sql_query (\"select * from __temp__.order_type_counts where disposal_type <> 'Order'\")"
   ]
  },
  {
   "cell_type": "markdown",
   "id": "cf04d793-fd96-4549-86da-50b55a459e55",
   "metadata": {},
   "source": [
    "### Disposal events"
   ]
  },
  {
   "cell_type": "code",
   "execution_count": null,
   "id": "48087d29-1faf-45fc-a9c0-d40f222a86f4",
   "metadata": {},
   "outputs": [],
   "source": [
    "pydb.create_temp_table( \n",
    "f\"\"\"\n",
    "SELECT\n",
    "  Year,\n",
    "  Quarter,\n",
    "  'Disposal' AS Type,\n",
    "  'Disposal events' AS Count_type,\n",
    "  CASE WHEN Case_type = 'C' THEN 'Public law'\n",
    "       WHEN Case_type = 'P' THEN 'Private law'\n",
    "    End AS Public_private,\n",
    "   'N/A' AS Disposal_type,\n",
    "   'All' AS Order_type,\n",
    "   'NA' AS Order_type_code,\n",
    "  'N/A' AS Gender,\n",
    "  'N/A' AS age_band,\n",
    "  'N/A' AS Applicants_in_case,\n",
    "  'N/A' AS Respondents_in_case,\n",
    "  'N/A' AS HC_INDICATOR,\n",
    "   COUNT(*) AS Count\n",
    "FROM\n",
    "  __temp__.ca_disp_events\n",
    "Where\n",
    "  Year>=2011\n",
    "Group BY\n",
    "  Year,\n",
    "  Quarter,\n",
    "  CASE WHEN Case_type = 'C' THEN 'Public law'\n",
    "       WHEN Case_type = 'P' THEN 'Private law'\n",
    "    End\n",
    "  \n",
    "\"\"\",\n",
    "\n",
    "\"disp_event_counts\")"
   ]
  },
  {
   "cell_type": "code",
   "execution_count": null,
   "id": "a8378681-315a-4038-b7e7-3db646d118e1",
   "metadata": {},
   "outputs": [],
   "source": [
    "pydb.read_sql_query (\"select * from __temp__.disp_event_counts\")"
   ]
  },
  {
   "cell_type": "markdown",
   "id": "7e1f0709-9ebb-48ff-9c4f-65d9e06fcccb",
   "metadata": {},
   "source": [
    "### Case counts"
   ]
  },
  {
   "cell_type": "code",
   "execution_count": null,
   "id": "a4b38874-e121-4bb4-bf53-9e9ec8b6ec60",
   "metadata": {},
   "outputs": [],
   "source": [
    "pydb.create_temp_table( \n",
    "f\"\"\"\n",
    "SELECT\n",
    "  Year,\n",
    "  Quarter,\n",
    "  'Cases' AS Type,\n",
    "  'Cases closed' AS Count_type,\n",
    "  CASE WHEN Case_type = 'C' THEN 'Public law'\n",
    "       WHEN Case_type = 'P' THEN 'Private law'\n",
    "    End AS Public_private,\n",
    "   'N/A' AS Disposal_type,\n",
    "   'All' AS Order_type,\n",
    "   'N/A' AS Order_type_code,\n",
    "  'N/A' AS Gender,\n",
    "  'N/A' AS age_band,\n",
    "  'N/A' AS Applicants_in_case,\n",
    "  'N/A' AS Respondents_in_case,\n",
    "  'N/A' AS HC_INDICATOR,\n",
    "   COUNT(*) AS Count\n",
    "FROM\n",
    "  __temp__.ca_closed_cases\n",
    "Where\n",
    "  Year>=2011\n",
    "Group BY\n",
    "  Year,\n",
    "  Quarter,\n",
    "  CASE WHEN Case_type = 'C' THEN 'Public law'\n",
    "       WHEN Case_type = 'P' THEN 'Private law'\n",
    "    End\n",
    "  \n",
    "\"\"\",\n",
    "\n",
    "\"disp_case_counts\")"
   ]
  },
  {
   "cell_type": "code",
   "execution_count": null,
   "id": "8854e4a0-ce48-4692-8cd6-a8051f1c0361",
   "metadata": {},
   "outputs": [],
   "source": [
    "pydb.read_sql_query (\"select * from __temp__.disp_case_counts\")"
   ]
  },
  {
   "cell_type": "code",
   "execution_count": null,
   "id": "60e1d2a9-f2c8-4815-ba09-49c81f963750",
   "metadata": {},
   "outputs": [],
   "source": [
    "pydb.read_sql_query (f\"\"\"select * from {fcsq_db}.ca_order_type_lookup\"\"\")"
   ]
  }
 ],
 "metadata": {
  "kernelspec": {
   "display_name": "Python 3",
   "language": "python",
   "name": "python3"
  },
  "language_info": {
   "codemirror_mode": {
    "name": "ipython",
    "version": 3
   },
   "file_extension": ".py",
   "mimetype": "text/x-python",
   "name": "python",
   "nbconvert_exporter": "python",
   "pygments_lexer": "ipython3",
   "version": "3.9.4"
  }
 },
 "nbformat": 4,
 "nbformat_minor": 5
}
