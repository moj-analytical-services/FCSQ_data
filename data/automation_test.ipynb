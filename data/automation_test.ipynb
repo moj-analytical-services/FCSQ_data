{
 "cells": [
  {
   "cell_type": "code",
   "execution_count": null,
   "id": "cf0dc4ce",
   "metadata": {},
   "outputs": [],
   "source": [
    "import nbformat as nbf\n",
    "import shutil\n",
    "import json\n",
    "import re\n",
    "\n",
    "import numpy as np\n",
    "import pandas as pd\n",
    "import pydbtools as pydb\n",
    "\n"
   ]
  },
  {
   "cell_type": "code",
   "execution_count": null,
   "id": "80213c91",
   "metadata": {},
   "outputs": [],
   "source": [
    "def get_count(Name,validation_checks):\n",
    "    count = pydb.read_sql_query(f\"select count(*) as count from {Name}\")['count'][0]\n",
    "    print (Name,count)\n",
    "    validation_checks = add_count(Name.split(\".\")[1],count,validation_checks)\n",
    "    return validation_checks"
   ]
  },
  {
   "cell_type": "code",
   "execution_count": null,
   "id": "bfd6fdb4",
   "metadata": {},
   "outputs": [],
   "source": [
    "def add_count(Name,Count,validation_checks):\n",
    "    if validation_checks.size!=0:\n",
    "        validation_checks = np.vstack([validation_checks,[Name,Count]])\n",
    "    else:\n",
    "        validation_checks=np.array([Name,Count])\n",
    "        validation_checks = validation_checks.reshape(1,2)\n",
    "\n",
    "    return validation_checks"
   ]
  },
  {
   "cell_type": "code",
   "execution_count": null,
   "id": "2e154a30-695a-47df-bba6-48c2aee727d0",
   "metadata": {},
   "outputs": [],
   "source": [
    "def get_equivalence_dict():\n",
    "    with open('table_equivalents.txt','r') as f:\n",
    "        data = f.read()\n",
    "    f.close()\n",
    "    equivalents_dict = json.loads(data)\n",
    "    return equivalents_dict"
   ]
  },
  {
   "cell_type": "code",
   "execution_count": null,
   "id": "6eb77a7d-fc84-4baa-960d-0eb11313cc8a",
   "metadata": {},
   "outputs": [],
   "source": [
    "def automatic_code_update(code):\n",
    "    equivalents_dict = get_equivalence_dict()\n",
    "    matched_tables = []\n",
    "    for table in equivalents_dict:\n",
    "        code,matched_tables = replace_table(code,table,equivalents_dict[table],matched_tables)        \n",
    "    more_tables = \"\"\n",
    "    more_tables = input(\"Are all the tables used for creating this table listed? (Y/N): \"+str(matched_tables)).upper()\n",
    "    while more_tables!=\"Y\":\n",
    "        old_name = input(\"What is the table name in the existing code (include full name e.g. \\\"Adoptout.table_name\\\"?): \")\n",
    "        new_name = input(\"What is the table name on the platform (include full name e.g. \\\"fcsq.table_name\\\"?): \")\n",
    "        add_to_code_dict(old_name,new_name)\n",
    "        code,matched_tables = replace_table(code,old_name,new_name,matched_tables)\n",
    "        more_tables = input(\"Are all tables included listed now? (Y/N): \"+str(matched_tables)).upper()\n",
    "        \n",
    "    print (\"\\n\")\n",
    "    \n",
    "    return code"
   ]
  },
  {
   "cell_type": "code",
   "execution_count": null,
   "id": "5afc356d-4c58-4afa-9e27-e1d00c542f53",
   "metadata": {},
   "outputs": [],
   "source": [
    "def replace_table(code,table,new_table,matched_tables):\n",
    "    table_in_code = re.compile(re.escape(table), re.IGNORECASE)\n",
    "    new_code = table_in_code.sub(new_table,code)\n",
    "    if new_code!=code:\n",
    "        matched_tables.append(table)\n",
    "    return (new_code,matched_tables)"
   ]
  },
  {
   "cell_type": "code",
   "execution_count": null,
   "id": "35e30a15-2def-446e-9525-848a5a110fbf",
   "metadata": {},
   "outputs": [],
   "source": [
    "def add_to_code_dict(old_name,new_name):\n",
    "    equivalence_dict = get_equivalence_dict()\n",
    "    equivalence_dict[old_name]=new_name\n",
    "    with open('table_equivalents.txt','w') as f:\n",
    "        f.write(json.dumps(equivalence_dict))\n",
    "    f.close()\n",
    "    "
   ]
  },
  {
   "cell_type": "code",
   "execution_count": null,
   "id": "d026c312-eef1-4024-8cf0-c1b61cd7cf12",
   "metadata": {},
   "outputs": [],
   "source": [
    "def get_inputs():\n",
    "    table_name = input(\"table name (no spaces): \")\n",
    "    while len(table_name.split())>1:\n",
    "        table_name = input(\"table name (no spaces): \")\n",
    "    number = input(\"number: \")\n",
    "    desc = input(\"table description: \")\n",
    "    temp_flag = \"\"\n",
    "    while temp_flag not in ('T','F'):\n",
    "        temp_flag = input(\"Temporary table T/F: \").upper()\n",
    "    if temp_flag == 'T':\n",
    "        temp_flag = True\n",
    "    else:\n",
    "        temp_flag = False\n",
    "    return table_name,number,desc,temp_flag"
   ]
  },
  {
   "cell_type": "code",
   "execution_count": null,
   "id": "5b1a9721-1f33-4681-9b44-c8173ff1928d",
   "metadata": {},
   "outputs": [],
   "source": [
    "def create_backup(notebook_name):\n",
    "    original = notebook_name\n",
    "    target = \"automation_backup.ipynb\"\n",
    "    shutil.copyfile(original, target)"
   ]
  },
  {
   "cell_type": "code",
   "execution_count": null,
   "id": "59f993b4-c58f-4517-89e6-c61cd335b12f",
   "metadata": {},
   "outputs": [],
   "source": [
    "def new_title_cell(number,name,desc):\n",
    "    cell = nbf.v4.new_markdown_cell(f\"## {number}. {name} table - {desc} <a name={name}></a>\")\n",
    "    return [cell]"
   ]
  },
  {
   "cell_type": "code",
   "execution_count": null,
   "id": "c1a25df7-f9db-4c05-a49d-2a909d95a847",
   "metadata": {},
   "outputs": [],
   "source": [
    "def new_drop_table_cells(name,folder_name):\n",
    "    drop_mk_cell = nbf.v4.new_markdown_cell(f\"### Drop the {name} table if it already exists and remove its data from the S3 bucket\")\n",
    "    \n",
    "    drop_code = f\"\"\"drop_{name} = \\\"DROP TABLE IF EXISTS fcsq.{name}\\\"\n",
    "pydb.start_query_execution_and_wait(drop_{name})\n",
    "bucket.objects.filter(Prefix=\\\"fcsq_processing/{folder_name}/{name}\\\").delete();\"\"\"    \n",
    "    drop_code_cell = nbf.v4.new_code_cell(drop_code)\n",
    "    \n",
    "    return [drop_mk_cell,drop_code_cell]"
   ]
  },
  {
   "cell_type": "code",
   "execution_count": null,
   "id": "f89534f2-2637-4b71-a5a2-b24f4798bdfb",
   "metadata": {},
   "outputs": [],
   "source": [
    "def new_create_table_cells(name,code,temp_flag,folder_name):\n",
    "    create_mk_cell = nbf.v4.new_markdown_cell(f\"### Create the {name} table\")\n",
    "    start_code = f\"create_{name}_table =f\\\"\\\"\\\"\"\n",
    "    if temp_flag:\n",
    "        end_code = f\"pydb.create_temp_table(create_{name}_table,\\'{name}\\')\"\n",
    "    else:\n",
    "        start_code += f\"\"\"\n",
    "CREATE TABLE IF NOT EXISTS fcsq.{name}\n",
    "WITH (format = 'PARQUET', external_location = 's3://alpha-family-data/fcsq_processing/{folder_name}/{name}') AS\"\"\"\n",
    "        end_code =  f\"pydb.start_query_execution_and_wait(create_{name}_table);\"\n",
    "        \n",
    "    create_code = start_code+code+\"\\\"\\\"\\\"\\n\"+end_code \n",
    "    create_code_cell = nbf.v4.new_code_cell(create_code)    \n",
    "    return [create_mk_cell,create_code_cell]"
   ]
  },
  {
   "cell_type": "code",
   "execution_count": null,
   "id": "23092a35-eebe-4e44-9715-cc12a3699365",
   "metadata": {},
   "outputs": [],
   "source": [
    "def new_validation_cells(name,temp_flag):\n",
    "    validation_mk_cell = nbf.v4.new_markdown_cell(f\"#### {name} validation\")\n",
    "    if temp_flag:\n",
    "        database = \"__temp__\"\n",
    "    else:\n",
    "        database = \"fcsq\"\n",
    "    validation_code = f\"\"\"{name}_count = pydb.read_sql_query(\"SELECT count(*) as count from {database}.{name}\\\")\n",
    "{name}_count\"\"\"\n",
    "    validation_code_cell = nbf.v4.new_code_cell(validation_code)\n",
    "    return [validation_mk_cell,validation_code_cell]"
   ]
  },
  {
   "cell_type": "code",
   "execution_count": null,
   "id": "702fadd5",
   "metadata": {},
   "outputs": [],
   "source": [
    "def add_table(name,number,desc,temp_flag,code,folder_name,notebook_name):\n",
    "    create_backup(notebook_name)\n",
    "    cells = new_title_cell(number,name,desc)\n",
    "    if temp_flag == False:\n",
    "        cells = cells+new_drop_table_cells(name,folder_name)\n",
    "    cells = cells+new_create_table_cells(name,code,temp_flag,folder_name)\n",
    "    cells = cells+new_validation_cells(name,temp_flag)\n",
    "    \n",
    "    return cells\n",
    "\n"
   ]
  },
  {
   "cell_type": "code",
   "execution_count": null,
   "id": "ab9d4637-ba41-4ff8-8de7-d7402814e304",
   "metadata": {},
   "outputs": [],
   "source": [
    "def create_snapshots_code():\n",
    "    snapshots_needed = input(\"Type the name of any tables which need snapshot dates added separated by a comma, if none leave blank\")\n",
    "    snapshots_needed = snapshots_needed.split(\",\")\n",
    "    snapshot_text = \"Where (\"\n",
    "    for i in range(len(snapshots_needed)):\n",
    "        snapshot_text=snapshot_text+\"{database}.\"+snapshots_needed[i]+\".mojap_snapshot_date= date\\'{snapshot_date}\\'\"\n",
    "        if i!=len(snapshots_needed)-1:\n",
    "            snapshot_text+=\" AND \"\n",
    "        else:\n",
    "            snapshot_text+=\")\"\n",
    "            \n",
    "    return snapshot_text"
   ]
  },
  {
   "cell_type": "code",
   "execution_count": null,
   "id": "d87c0982-821e-4ebf-bb19-551489b0cc28",
   "metadata": {
    "tags": []
   },
   "outputs": [],
   "source": [
    "code = f\"\"\"\n",
    "SELECT\n",
    "   *\n",
    " FROM\n",
    "   DV_all_data\n",
    " WHERE NOT (YEAR = 2022 and QUARTER = 2);\n",
    "\"\"\"\n",
    "\n",
    "notebook_name = 'Domestic_Violence/Domestic_Violence_Extractions.ipynb'\n",
    "\n",
    "code = automatic_code_update(code)\n",
    "\n",
    "table_name,number,desc,temp_flag = get_inputs()\n",
    "\n",
    "folder_name = 'Domestic_Violence'\n",
    "\n",
    "cells = add_table(table_name,number,desc,temp_flag,code,folder_name,notebook_name)\n",
    "\n",
    "\n",
    "nb = nbf.read(notebook_name, as_version=4)\n",
    "\n",
    "nb['cells'] += cells\n",
    "with open(notebook_name, 'w') as f:\n",
    "        nbf.write(nb, f)\n",
    "        \n",
    "\n"
   ]
  },
  {
   "cell_type": "code",
   "execution_count": null,
   "id": "5f3d0876",
   "metadata": {},
   "outputs": [],
   "source": [
    "\"\"\"\n",
    "\n",
    "Automatically updates numbering of queries\n",
    "\n",
    "\"\"\"\n",
    "import re\n",
    "nb = nbf.read(notebook_name, as_version=4)\n",
    "create_backup(notebook_name)\n",
    "contents = [\"## Contents\"]\n",
    "\n",
    "numbering_pointer = 1\n",
    "create_contents = input(\"Create contents page? (Y/N): \").upper()\n",
    "for i in range(len(nb['cells'])):    \n",
    "    if nb['cells'][i]['cell_type'] == 'markdown':\n",
    "        split_cell = re.split(\"## \\d+\\.\", nb['cells'][i]['source'],1)\n",
    "        if len(split_cell) == 2:\n",
    "            if (create_contents==\"Y\"):\n",
    "                desc_text_search = re.search('-.+<a',nb['cells'][i]['source'])\n",
    "                if desc_text_search:\n",
    "                    desc_text = desc_text_search.group(0)[:-2]\n",
    "                else:\n",
    "                    desc_text = \"\"\n",
    "                html_tag = re.search('<a name=.+><\\/a>',nb['cells'][i]['source']).group(0)\n",
    "                html_tag_name = html_tag[8:-5]\n",
    "                contents.append(f\"{numbering_pointer}. [{html_tag_name}](#{html_tag_name}) {desc_text}\")\n",
    "            split_cell[0] = f\"## {numbering_pointer}.\"\n",
    "            new_cell = \"\".join(split_cell)\n",
    "            nb['cells'][i]['source'] = new_cell\n",
    "            numbering_pointer+=1\n",
    "\n",
    "if create_contents == \"Y\":\n",
    "    contents_cell = nbf.v4.new_markdown_cell(\"\\n\".join(contents))\n",
    "    nb['cells'].append(contents_cell)\n",
    "    \n",
    "with open(notebook_name, 'w') as f:\n",
    "    nbf.write(nb, f)\n",
    "f.close()          "
   ]
  },
  {
   "cell_type": "code",
   "execution_count": null,
   "id": "b5c12183",
   "metadata": {},
   "outputs": [],
   "source": [
    "import re\n",
    "nb = nbf.read(notebook_name, as_version=4)\n",
    "list_of_SAS_tables=[]\n",
    "list_of_tables = []\n",
    "for i in range(len(nb['cells'])):    \n",
    "    if nb['cells'][i]['cell_type'] == 'code':\n",
    "            table_search = re.search(('(fcsq\\..+\")|(__temp__\\..+)\"'),nb['cells'][i]['source'])            \n",
    "            if table_search!=None:\n",
    "                    table_name = table_search.group(0).split(\" \")[0][:-1]\n",
    "                    if table_name not in list_of_tables:\n",
    "                        #prefix = input(f\"Which database is {table_name} from in SAS: \")\n",
    "                        list_of_tables.append(table_name)\n",
    "                        list_of_SAS_tables.append(prefix+table_name)\n",
    "\n",
    "list_of_tables\n",
    "list_of_SAS_tables\n",
    "\n",
    "\n",
    "\n",
    "\n",
    "with open(\"SAS_Code.txt\",'w') as f:\n",
    "    f.write(SAS_Code)\n",
    "f.close()\n"
   ]
  },
  {
   "cell_type": "code",
   "execution_count": null,
   "id": "9275ad12",
   "metadata": {},
   "outputs": [],
   "source": [
    "SAS_Code = \"\"\n",
    "for table in list_of_tables:\n",
    "    table_name = table.split(\".\")[1]\n",
    "    line_check = f\"SELECT '{table_name}',count(*) as count from {table_name}\\n UNION ALL\\n\"\n",
    "    SAS_Code+=line_check\n",
    "\n",
    "print (SAS_Code)"
   ]
  },
  {
   "cell_type": "code",
   "execution_count": null,
   "id": "d27f708a",
   "metadata": {},
   "outputs": [],
   "source": [
    "validation_checks = np.array([])\n",
    "for table in list_of_tables:\n",
    "    validation_checks = get_count(table,validation_checks)\n",
    "    \n",
    "#checks_df = pd.DataFrame(validation_checks,columns=['Name','Count'])\n",
    "#checks_df"
   ]
  },
  {
   "cell_type": "code",
   "execution_count": null,
   "id": "da5527db",
   "metadata": {},
   "outputs": [],
   "source": [
    "checks_df.to_csv(path_or_buf = 's3://alpha-family-data/CSVs/Domestic_Violence/Domestic_Violence_Validation.csv',index=False)"
   ]
  },
  {
   "cell_type": "code",
   "execution_count": null,
   "id": "b6f71e7c",
   "metadata": {},
   "outputs": [],
   "source": [
    "list_of_tables"
   ]
  },
  {
   "cell_type": "code",
   "execution_count": null,
   "id": "96fd70a5-de25-4f8a-941d-52f6cf5c4e77",
   "metadata": {},
   "outputs": [],
   "source": [
    "\"\"\"\n",
    "\n",
    "Restore backup\n",
    "\n",
    "\"\"\"\n",
    "\n",
    "nb = nbf.read(\"automation_backup.ipynb\", as_version=4)\n",
    "with open(notebook_name, 'w') as f:\n",
    "        nbf.write(nb, f)\n",
    "\n"
   ]
  },
  {
   "cell_type": "code",
   "execution_count": null,
   "id": "ce831dab",
   "metadata": {},
   "outputs": [],
   "source": [
    "create_snapshots_code()"
   ]
  }
 ],
 "metadata": {
  "kernelspec": {
   "display_name": "venv",
   "language": "python",
   "name": "venv"
  },
  "language_info": {
   "codemirror_mode": {
    "name": "ipython",
    "version": 3
   },
   "file_extension": ".py",
   "mimetype": "text/x-python",
   "name": "python",
   "nbconvert_exporter": "python",
   "pygments_lexer": "ipython3",
   "version": "3.9.6"
  }
 },
 "nbformat": 4,
 "nbformat_minor": 5
}
