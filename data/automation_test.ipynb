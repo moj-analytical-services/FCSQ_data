{
 "cells": [
  {
   "cell_type": "code",
   "execution_count": 116,
   "id": "cf0dc4ce",
   "metadata": {},
   "outputs": [],
   "source": [
    "import nbformat as nbf\n",
    "import shutil\n",
    "\n"
   ]
  },
  {
   "cell_type": "code",
   "execution_count": 40,
   "id": "91ca8bf4",
   "metadata": {},
   "outputs": [],
   "source": [
    "nb = nbf.read('testing_notebook.ipynb', as_version=4)"
   ]
  },
  {
   "cell_type": "code",
   "execution_count": 141,
   "id": "d026c312-eef1-4024-8cf0-c1b61cd7cf12",
   "metadata": {},
   "outputs": [],
   "source": [
    "def get_inputs():\n",
    "    table_name = input(\"table name (no spaces): \")\n",
    "    while len(table_name.split())>1:\n",
    "        table_name = input(\"table name (no spaces): \")\n",
    "    number = input(\"number: \")\n",
    "    desc = input(\"table description: \")\n",
    "    temp_flag = \"\"\n",
    "    while temp_flag not in ('T','F'):\n",
    "        temp_flag = input(\"Temporary table T/F: \").upper()\n",
    "    if temp_flag == 'T':\n",
    "        temp_flag = True\n",
    "    else:\n",
    "        temp_flag = False\n",
    "    return table_name,number,desc,temp_flag"
   ]
  },
  {
   "cell_type": "code",
   "execution_count": 142,
   "id": "5b1a9721-1f33-4681-9b44-c8173ff1928d",
   "metadata": {},
   "outputs": [],
   "source": [
    "def create_backup():\n",
    "    original = r'testing_notebook.ipynb'\n",
    "    target = r'copy_of_testing_notebook.ipynb'\n",
    "    shutil.copyfile(original, target)"
   ]
  },
  {
   "cell_type": "code",
   "execution_count": 156,
   "id": "59f993b4-c58f-4517-89e6-c61cd335b12f",
   "metadata": {},
   "outputs": [],
   "source": [
    "def new_title_cell(number,name,desc):\n",
    "    cell = nbf.v4.new_markdown_cell(f\"## {number}. {name} table - {desc} <a name={name}></a>\")\n",
    "    return [cell]"
   ]
  },
  {
   "cell_type": "code",
   "execution_count": 157,
   "id": "c1a25df7-f9db-4c05-a49d-2a909d95a847",
   "metadata": {},
   "outputs": [],
   "source": [
    "def new_drop_table_cells(name):\n",
    "    drop_mk_cell = nbf.v4.new_markdown_cell(f\"### Drop the {name} table if it already exists and remove its data from the S3 bucket\")\n",
    "    \n",
    "    drop_code = f\"\"\"drop_{name} = \\\"DROP TABLE IF EXISTS fcsq.{name}\\\"\n",
    "pydb.start_query_execution_and_wait(drop_{name})\n",
    "bucket.objects.filter(Prefix=\\\"fcsq_processing/Adoption/{name}\\\").delete();\"\"\"    \n",
    "    drop_code_cell = nbf.v4.new_code_cell(drop_code)\n",
    "    \n",
    "    return [drop_mk_cell,drop_code_cell]"
   ]
  },
  {
   "cell_type": "code",
   "execution_count": 158,
   "id": "f89534f2-2637-4b71-a5a2-b24f4798bdfb",
   "metadata": {},
   "outputs": [],
   "source": [
    "def new_create_table_cells(name,code,temp_flag):\n",
    "    create_mk_cell = nbf.v4.new_markdown_cell(f\"### Create the {name} table\")\n",
    "    start_code = f\"create_{name}_table =f\\\"\\\"\\\"\"\n",
    "    if temp_flag:\n",
    "        end_code = f\"pydb.create_temp_table(create_{name}_table)\"\n",
    "    else:\n",
    "        start_code += f\"\"\"\n",
    "CREATE TABLE IF NOT EXISTS fcsq.{name}\n",
    "WITH (format = 'PARQUET', external_location = 's3://alpha-family-data/fcsq_processing/Adoption/{name}') AS\"\"\"\n",
    "        end_code =  f\"pydb.start_query_execution_and_wait(create_{name}_table);\"\n",
    "    \n",
    "    create_code = start_code+code+\"\\\"\\\"\\\"\\n\"+end_code \n",
    "    create_code_cell = nbf.v4.new_code_cell(create_code)\n",
    "    \n",
    "    return [create_mk_cell,create_code_cell]"
   ]
  },
  {
   "cell_type": "code",
   "execution_count": 159,
   "id": "23092a35-eebe-4e44-9715-cc12a3699365",
   "metadata": {},
   "outputs": [],
   "source": [
    "def new_validation_cells(name,temp_flag):\n",
    "    validation_mk_cell = nbf.v4.new_markdown_cell(f\"#### {name} validation\")\n",
    "    if temp_flag:\n",
    "        database = \"__temp__\"\n",
    "    else:\n",
    "        database = \"fcsq\"\n",
    "    validation_code = f\"\"\"{name}_count = pydb.read_sql_query(\"SELECT count(*) as count from {database}.{name}\\\")\n",
    "{name}_count\"\"\"\n",
    "    validation_code_cell = nbf.v4.new_code_cell(validation_code)\n",
    "    return [validation_mk_cell,validation_code_cell]"
   ]
  },
  {
   "cell_type": "code",
   "execution_count": 160,
   "id": "702fadd5",
   "metadata": {},
   "outputs": [],
   "source": [
    "def add_table(name,number,desc,temp_flag,code):\n",
    "    create_backup()\n",
    "    cells = new_title_cell(number,name,desc)\n",
    "    if temp_flag == False:\n",
    "        cells = cells+new_drop_table_cells(name)        \n",
    "    cells = cells+new_create_table_cells(name,code,temp_flag)+new_validation_cells(name,temp_flag)\n",
    "    \n",
    "    return cells\n",
    "\n"
   ]
  },
  {
   "cell_type": "code",
   "execution_count": 162,
   "id": "d87c0982-821e-4ebf-bb19-551489b0cc28",
   "metadata": {},
   "outputs": [
    {
     "name": "stdin",
     "output_type": "stream",
     "text": [
      "table name (no spaces):  new\n",
      "number:  4\n",
      "table description:  vivrhe\n",
      "Temporary table T/F:  F\n"
     ]
    }
   ],
   "source": [
    "code = f\"\"\"\n",
    "SELECT * FROM\n",
    "fcsq.adopt_application_5\n",
    "ORDER BY \n",
    "CASE_NUMBER, APP_DATE\n",
    "\"\"\"\n",
    "\n",
    "   \n",
    "table_name,number,desc,temp_flag = get_inputs()\n",
    "\n",
    "cells = add_table(table_name,number,desc,temp_flag,code)\n",
    "\n",
    "nb['cells']= cells\n",
    "with open('testing_notebook.ipynb', 'w') as f:\n",
    "        nbf.write(nb, f)"
   ]
  },
  {
   "cell_type": "code",
   "execution_count": null,
   "id": "34ce3dd4-09da-40e8-a96f-f5b9390381fe",
   "metadata": {},
   "outputs": [],
   "source": []
  }
 ],
 "metadata": {
  "kernelspec": {
   "display_name": "venvname",
   "language": "python",
   "name": "venvname"
  },
  "language_info": {
   "codemirror_mode": {
    "name": "ipython",
    "version": 3
   },
   "file_extension": ".py",
   "mimetype": "text/x-python",
   "name": "python",
   "nbconvert_exporter": "python",
   "pygments_lexer": "ipython3",
   "version": "3.9.6"
  }
 },
 "nbformat": 4,
 "nbformat_minor": 5
}
