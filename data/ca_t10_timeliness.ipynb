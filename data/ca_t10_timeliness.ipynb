{
 "cells": [
  {
   "cell_type": "code",
   "execution_count": null,
   "id": "79f62fc9-c10e-4284-a1a9-646aa5bc1cd1",
   "metadata": {},
   "outputs": [],
   "source": [
    "# libraries\n",
    "import pandas as pd\n",
    "import pydbtools as pydb\n",
    "import boto3\n",
    "from datetime import datetime\n",
    "#import re\n",
    "import os  # for file paths\n",
    "import awswrangler as wr"
   ]
  },
  {
   "cell_type": "code",
   "execution_count": null,
   "id": "ca30fab2-625c-40fa-ab5f-57b16bfae077",
   "metadata": {},
   "outputs": [],
   "source": [
    "# Structured  dataframes\n",
    "pd.set_option(\"display.max_columns\", 100)\n",
    "pd.set_option(\"display.width\", 900)\n",
    "pd.set_option(\"display.max_colwidth\", 200)"
   ]
  },
  {
   "cell_type": "markdown",
   "id": "52374633-48ce-4e76-9791-328863ca7cb3",
   "metadata": {},
   "source": [
    "##### Assigning key variables"
   ]
  },
  {
   "cell_type": "code",
   "execution_count": null,
   "id": "94081d79-60c1-4c0e-890d-1a09b64a9373",
   "metadata": {},
   "outputs": [],
   "source": [
    "# define some variables to be used throughout the notebook\n",
    "db1 = \"familyman_derived_dev_v2\" #database where Familyman data is stored\n",
    "db2 = \"familyman_dev_v2\"\n",
    "snapshot_date = \"2022-05-23\" #To update where necessary\n",
    "db3 = \"fcsq\" #database where tables created as part of FCSQ processing are stored where required"
   ]
  },
  {
   "cell_type": "code",
   "execution_count": null,
   "id": "55c90f29-032e-4cf7-9490-3f093222640c",
   "metadata": {},
   "outputs": [],
   "source": [
    "pydb.create_temp_table(\n",
    "f\"\"\" \n",
    "SELECT \n",
    "  case_number,\n",
    "  CAST(value AS Date) AS case_DOI\n",
    "FROM \n",
    "  {db2}.case_fields AS f\n",
    " \n",
    "WHERE\n",
    "  field_model = 'FM2C_DI'\n",
    "  AND mojap_snapshot_date = DATE'{snapshot_date}'\n",
    "\n",
    "\"\"\",\n",
    "\n",
    "\"DOI\")"
   ]
  },
  {
   "cell_type": "code",
   "execution_count": null,
   "id": "584a18e3-b4be-40a4-945e-3ed84135664e",
   "metadata": {},
   "outputs": [],
   "source": [
    "pydb.create_temp_table(\n",
    "f\"\"\" \n",
    "SELECT \n",
    "  t1.year,\n",
    "  t1.quarter,\n",
    "  t1.case_number,\n",
    "  t1.receipt_date,\n",
    "  t1.event,\n",
    "  t1.event_model,\n",
    "  t1.order_type,\n",
    "  t1.order_code,\n",
    "  t1.order_desc,\n",
    "  t1.child_role_id,\n",
    "  t1.order_case_type,\n",
    "  t2.case_DOI,\n",
    "  CASE WHEN  t2.case_DOI is null\n",
    "        THEN t1.receipt_date\n",
    "       WHEN t1.event_model = 'U22' AND (t2.Case_DOI<t1.Receipt_date)\n",
    "        THEN t2.Case_DOI\n",
    "        ELSE t1.Receipt_date END\n",
    "      AS Start_date\n",
    "FROM \n",
    "  __temp__.ca_apps_child_d AS t1\n",
    "      LEFT JOIN __temp__.DOI AS t2 \n",
    "       ON t1.case_number = t2.case_number\n",
    "\n",
    "\"\"\",\n",
    "\n",
    "\"child_doi\")"
   ]
  },
  {
   "cell_type": "code",
   "execution_count": null,
   "id": "a7f3f901-c2f9-4a02-95ac-a7dce3a37427",
   "metadata": {},
   "outputs": [],
   "source": [
    "pydb.create_temp_table(\n",
    "f\"\"\" \n",
    "WITH app_rank AS (\n",
    "\n",
    "SELECT \n",
    "  *,\n",
    "  RANK() OVER(PARTITION BY case_number, child_role_id\n",
    "                       ORDER BY start_date) \n",
    "      AS app_rank\n",
    "FROM \n",
    "  __temp__.child_doi\n",
    ")\n",
    "\n",
    "SELECT\n",
    "  *\n",
    "FROM\n",
    "  app_rank\n",
    "WHERE\n",
    "  app_rank = 1\n",
    "\n",
    "\"\"\",\n",
    "\n",
    "\"earliest_app\")"
   ]
  },
  {
   "cell_type": "code",
   "execution_count": null,
   "id": "7c1690b7-41b2-48d7-8474-29eb49b86ced",
   "metadata": {},
   "outputs": [],
   "source": [
    "pydb.create_temp_table(\n",
    "f\"\"\" \n",
    "SELECT \n",
    "  a.*,\n",
    "  d.disp_date,\n",
    "  date_diff('day',a.start_date, d.disp_date) AS days,\n",
    "  date_diff('week',a.start_date, d.disp_date) AS weeks,\n",
    "  ROW_NUMBER() OVER(PARTITION BY a.case_number, a.child_role_id, a.order_code\n",
    "                       ORDER BY d.disp_date) \n",
    "      AS disp_rank   \n",
    "FROM\n",
    "  __temp__.earliest_app a\n",
    "  LEFT JOIN __temp__.ca_disps_all_children_d d\n",
    "    ON a.case_number = d.case_number\n",
    "    AND a.child_role_id = d.child_role_id\n",
    "WHERE \n",
    "  date_diff('day',a.start_date, d.disp_date) >= 0\n",
    "\n",
    "\"\"\",\n",
    "\n",
    "\"app_disp_match\")"
   ]
  },
  {
   "cell_type": "code",
   "execution_count": null,
   "id": "ef1a65d3-8dd3-4015-b4d6-3248f645379b",
   "metadata": {},
   "outputs": [],
   "source": [
    "pydb.read_sql_query (\"select * from __temp__.app_disp_match where case_number = 'PE17P00021' and child_role_id = 7630003 limit 10\")"
   ]
  },
  {
   "cell_type": "code",
   "execution_count": null,
   "id": "a8a4a994-d881-43a1-918f-98fc09a38c66",
   "metadata": {},
   "outputs": [],
   "source": [
    "pydb.read_sql_query (\"select * from __temp__.ca_disps_all_children_d where case_number = 'PE17P00021' and child_role_id = 7630003\")"
   ]
  }
 ],
 "metadata": {
  "kernelspec": {
   "display_name": "Python 3",
   "language": "python",
   "name": "python3"
  },
  "language_info": {
   "codemirror_mode": {
    "name": "ipython",
    "version": 3
   },
   "file_extension": ".py",
   "mimetype": "text/x-python",
   "name": "python",
   "nbconvert_exporter": "python",
   "pygments_lexer": "ipython3",
   "version": "3.9.4"
  }
 },
 "nbformat": 4,
 "nbformat_minor": 5
}
