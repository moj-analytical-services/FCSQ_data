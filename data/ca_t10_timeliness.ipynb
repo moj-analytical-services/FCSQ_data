{
 "cells": [
  {
   "cell_type": "code",
   "execution_count": null,
   "id": "79f62fc9-c10e-4284-a1a9-646aa5bc1cd1",
   "metadata": {},
   "outputs": [],
   "source": [
    "# libraries\n",
    "import pandas as pd\n",
    "import pydbtools as pydb\n",
    "import boto3\n",
    "from datetime import datetime\n",
    "#import re\n",
    "import os  # for file paths\n",
    "import awswrangler as wr"
   ]
  },
  {
   "cell_type": "code",
   "execution_count": null,
   "id": "ca30fab2-625c-40fa-ab5f-57b16bfae077",
   "metadata": {},
   "outputs": [],
   "source": [
    "# Structured  dataframes\n",
    "pd.set_option(\"display.max_columns\", 100)\n",
    "pd.set_option(\"display.width\", 900)\n",
    "pd.set_option(\"display.max_colwidth\", 200)"
   ]
  },
  {
   "cell_type": "markdown",
   "id": "52374633-48ce-4e76-9791-328863ca7cb3",
   "metadata": {},
   "source": [
    "##### Assigning key variables"
   ]
  },
  {
   "cell_type": "code",
   "execution_count": null,
   "id": "94081d79-60c1-4c0e-890d-1a09b64a9373",
   "metadata": {},
   "outputs": [],
   "source": [
    "# define some variables to be used throughout the notebook\n",
    "db1 = \"familyman_derived_dev_v2\" #database where Familyman data is stored\n",
    "db2 = \"familyman_dev_v3\"\n",
    "snapshot_date = \"2022-08-04\" #To update where necessary\n",
    "db3 = \"fcsq\" #database where tables created as part of FCSQ processing are stored where required"
   ]
  },
  {
   "cell_type": "code",
   "execution_count": null,
   "id": "55c90f29-032e-4cf7-9490-3f093222640c",
   "metadata": {},
   "outputs": [],
   "source": [
    "pydb.create_temp_table(\n",
    "f\"\"\" \n",
    "SELECT \n",
    "  case_number,\n",
    "  CAST(value AS Date) AS case_DOI\n",
    "FROM \n",
    "  {db2}.case_fields AS f\n",
    " \n",
    "WHERE\n",
    "  field_model = 'FM2C_DI'\n",
    "  AND mojap_snapshot_date = DATE'{snapshot_date}'\n",
    "\n",
    "\"\"\",\n",
    "\n",
    "\"DOI\")"
   ]
  },
  {
   "cell_type": "code",
   "execution_count": null,
   "id": "584a18e3-b4be-40a4-945e-3ed84135664e",
   "metadata": {},
   "outputs": [],
   "source": [
    "pydb.create_temp_table(\n",
    "f\"\"\" \n",
    "SELECT \n",
    "  t1.year,\n",
    "  t1.quarter,\n",
    "  t1.case_number,\n",
    "  t1.receipt_date,\n",
    "  t1.event,\n",
    "  t1.field_model,\n",
    "  t1.order_type,\n",
    "  t1.order_code,\n",
    "  t1.order_desc,\n",
    "  t1.child_role_id,\n",
    "  t1.order_case_type,\n",
    "  t2.case_DOI,\n",
    "  CASE WHEN  t2.case_DOI is null\n",
    "        THEN t1.receipt_date\n",
    "       WHEN t1.field_model = 'U22_AT' AND (t2.Case_DOI<t1.Receipt_date)\n",
    "        THEN t2.Case_DOI\n",
    "        ELSE t1.Receipt_date END\n",
    "      AS Start_date\n",
    "FROM \n",
    "  {db3}.ca_apps_child AS t1\n",
    "      LEFT JOIN __temp__.DOI AS t2 \n",
    "       ON t1.case_number = t2.case_number\n",
    "WHERE\n",
    "  t1.order_code IN (1,4,14,25,27,29,30,31,32)\n",
    "\n",
    "\"\"\",\n",
    "\n",
    "\"child_doi\")"
   ]
  },
  {
   "cell_type": "code",
   "execution_count": null,
   "id": "7c1690b7-41b2-48d7-8474-29eb49b86ced",
   "metadata": {},
   "outputs": [],
   "source": [
    "pydb.create_temp_table(\n",
    "f\"\"\" \n",
    "SELECT \n",
    "  a.*,\n",
    "  d.disp_date,\n",
    "  date_diff('day',a.start_date, d.disp_date) AS days,\n",
    "  date_diff('week',a.start_date, d.disp_date) AS weeks,\n",
    "  ROW_NUMBER() OVER(PARTITION BY a.case_number, a.child_role_id, a.order_code, a.start_date\n",
    "                       ORDER BY d.disp_date) \n",
    "      AS disp_rank   \n",
    "FROM\n",
    "  __temp__.child_doi a\n",
    "  LEFT JOIN __temp__.ca_disps_all_children d\n",
    "    ON a.case_number = d.case_number\n",
    "    AND a.order_case_type = d.order_case_type\n",
    "    AND a.child_role_id = d.child_role_id\n",
    "WHERE \n",
    "  date_diff('day',a.start_date, d.disp_date) >= 0\n",
    "  AND d.event_model NOT IN ('CPA','C21','C27','C30','C31','C33','C35B','C44A','C44B','C46A','C46B','C47A','C47C','C48A', \n",
    "                          'C48B','C48C','C49','D51','D84C','MAGEPO','MAGS37')\n",
    "  AND d.disp_type_code <> 2\n",
    "\n",
    "\"\"\",\n",
    "\n",
    "\"app_disp_match\")"
   ]
  },
  {
   "cell_type": "code",
   "execution_count": null,
   "id": "c333b37d-7440-4ae7-8624-4ffa5e48f0dc",
   "metadata": {},
   "outputs": [],
   "source": [
    "pydb.create_temp_table(\n",
    "f\"\"\" \n",
    "SELECT \n",
    "  *\n",
    "FROM \n",
    "  __temp__.app_disp_match\n",
    "WHERE\n",
    "  disp_rank = 1\n",
    "\n",
    "\"\"\",\n",
    "\n",
    "\"app_disp_match2\")"
   ]
  },
  {
   "cell_type": "code",
   "execution_count": null,
   "id": "31196a9c-3b1d-4428-98b9-f4026a32411b",
   "metadata": {},
   "outputs": [],
   "source": [
    "pydb.create_temp_table(\n",
    "f\"\"\" \n",
    "SELECT \n",
    "  *,\n",
    "  ROW_NUMBER() OVER(PARTITION BY case_number, child_role_id, order_code\n",
    "                       ORDER BY start_date, case_number, child_role_id, order_code) \n",
    "    AS app_rank2\n",
    "FROM \n",
    "  __temp__.app_disp_match2\n",
    "\n",
    "\"\"\",\n",
    "\n",
    "\"app_disp_match3\")"
   ]
  },
  {
   "cell_type": "code",
   "execution_count": null,
   "id": "78e38a37-8295-4b91-a6f0-d9e9e65bc5fc",
   "metadata": {},
   "outputs": [],
   "source": [
    " pydb.create_temp_table(\n",
    "f\"\"\" \n",
    " SELECT\n",
    "   YEAR(disp_date) AS year,\n",
    "   count(case_number) AS disposals,\n",
    "   AVG(days)/7 as av_weeks\n",
    " FROM\n",
    "   __temp__.app_disp_match3\n",
    " WHERE \n",
    "   order_case_type = 'P'\n",
    "   and YEAR(disp_date) > 2010\n",
    "   and app_rank2 = 1\n",
    "GROUP BY\n",
    "  YEAR(disp_date)\n",
    "\"\"\",\n",
    "\n",
    "\"avg_time\")"
   ]
  },
  {
   "cell_type": "code",
   "execution_count": null,
   "id": "f854d7c0-3a02-486c-9ef2-480b8a652947",
   "metadata": {
    "jupyter": {
     "outputs_hidden": true
    },
    "tags": []
   },
   "outputs": [],
   "source": [
    "pydb.read_sql_query(\"select * from __temp__.app_disp_match3 where case_number = 'ZC19P00432'\")"
   ]
  },
  {
   "cell_type": "code",
   "execution_count": null,
   "id": "77fb1130-d6c2-434d-a7a9-2fc73660ff0e",
   "metadata": {
    "jupyter": {
     "outputs_hidden": true
    },
    "tags": []
   },
   "outputs": [],
   "source": [
    "pydb.read_sql_query(\"select * from __temp__.app_disp_match where case_number = 'AF20P00021' and child_role_id = 11138742\")"
   ]
  },
  {
   "cell_type": "code",
   "execution_count": null,
   "id": "506182b2-66c4-49b8-af70-3b47cbdb03c5",
   "metadata": {},
   "outputs": [],
   "source": [
    " pydb.create_temp_table(\n",
    "f\"\"\" \n",
    " SELECT\n",
    "   YEAR(disp_date) AS year,\n",
    "   count(case_number) AS disposals,\n",
    "   AVG(days)/7 as av_weeks\n",
    " FROM\n",
    "   __temp__.app_disp_match\n",
    " WHERE \n",
    "   order_case_type = 'P'\n",
    "   and YEAR(disp_date) > 2010\n",
    "   and disp_rank = 1\n",
    "GROUP BY\n",
    "  YEAR(disp_date)\n",
    "\"\"\",\n",
    "\n",
    "\"avg_time\")"
   ]
  },
  {
   "cell_type": "code",
   "execution_count": null,
   "id": "50dd9c17-9a33-448f-a2f1-60ab13751bb2",
   "metadata": {},
   "outputs": [],
   "source": [
    " pydb.create_temp_table( \n",
    "f\"\"\"\n",
    "select A.*,  \n",
    "  YEAR(disp_date) AS disp_year, \n",
    "  QUARTER(disp_date) AS disp_qtr \n",
    "from \n",
    "  __temp__.app_disp_match3 as A \n",
    "where \n",
    "  YEAR(disp_date) = 2021 \n",
    "  and QUARTER(disp_date) = 3\n",
    "  and order_case_type = 'P'\n",
    "   and app_rank2 = 1\n",
    "\"\"\",\n",
    "     \n",
    "\"qtr_time\")"
   ]
  },
  {
   "cell_type": "code",
   "execution_count": null,
   "id": "56eff318-6cfd-4aa6-a690-73a1963596c9",
   "metadata": {},
   "outputs": [],
   "source": [
    "pydb.read_sql_query (\"select count(*) as count from __temp__.qtr_time\")"
   ]
  },
  {
   "cell_type": "code",
   "execution_count": null,
   "id": "40e34f3a-6107-4715-b6e1-f9740b4711e4",
   "metadata": {},
   "outputs": [],
   "source": [
    "data = pydb.read_sql_query (\"select * from __temp__.qtr_time\")"
   ]
  },
  {
   "cell_type": "code",
   "execution_count": null,
   "id": "723d7446-c035-4ffd-b628-6b7ac1510dfc",
   "metadata": {},
   "outputs": [],
   "source": [
    "df = pd.DataFrame(data)"
   ]
  },
  {
   "cell_type": "code",
   "execution_count": null,
   "id": "cd0cccf2-8fd5-46df-b43d-6d46aaa26c7d",
   "metadata": {},
   "outputs": [],
   "source": [
    "df.to_csv (r's3://alpha-family-data/fcsq_processing/CA_disps/test_csv/t10_checks.csv', header = True)"
   ]
  },
  {
   "cell_type": "code",
   "execution_count": null,
   "id": "c9fec9aa-067d-4842-bbd3-9b40c291b057",
   "metadata": {},
   "outputs": [],
   "source": [
    "df.to_csv ('Exports/t10_checks.csv',header = True)"
   ]
  },
  {
   "cell_type": "code",
   "execution_count": null,
   "id": "bdba6c48-db90-4cf0-9ef7-9e932de47ca5",
   "metadata": {},
   "outputs": [],
   "source": [
    "pydb.read_sql_query (\"select * from __temp__.avg_time order by year\")"
   ]
  },
  {
   "cell_type": "code",
   "execution_count": null,
   "id": "5a025fb6-d17b-4cff-91d7-855655716a57",
   "metadata": {},
   "outputs": [],
   "source": [
    "pydb.read_sql_query (\"select * from __temp__.app_disp_match where case_number = 'BH18P00002' and disp_rank = 1\")"
   ]
  },
  {
   "cell_type": "code",
   "execution_count": null,
   "id": "ae2bf6b1-c278-46a9-95e9-c1714b9afb08",
   "metadata": {
    "tags": []
   },
   "outputs": [],
   "source": [
    "pydb.read_sql_query (\"select * from __temp__.app_disp_match3 where case_number = 'ZC19P00432'\")"
   ]
  },
  {
   "cell_type": "code",
   "execution_count": null,
   "id": "02f03d6a-004e-4c59-bc06-5a019c6b92ad",
   "metadata": {
    "jupyter": {
     "outputs_hidden": true
    },
    "tags": []
   },
   "outputs": [],
   "source": [
    "pydb.read_sql_query (\"select * from __temp__.ca_disps_all_children where case_number = 'BM16P08570'\")"
   ]
  },
  {
   "cell_type": "code",
   "execution_count": null,
   "id": "80cc3a68-47fb-4b28-8138-934b2d37cbfb",
   "metadata": {},
   "outputs": [],
   "source": [
    "pydb.read_sql_query (\"select * from __temp__.ca_disps1 where event = 12706218617\")"
   ]
  },
  {
   "cell_type": "code",
   "execution_count": null,
   "id": "5e4f9d48-2e44-4e2a-b670-f57888820484",
   "metadata": {},
   "outputs": [],
   "source": [
    "pydb.read_sql_query (\"select * from __temp__.ca_apps_child_d where case_number = 'AF18P00095'\")"
   ]
  },
  {
   "cell_type": "code",
   "execution_count": null,
   "id": "6e272646-b0df-48ff-8cf6-5e9c63164caa",
   "metadata": {},
   "outputs": [],
   "source": [
    "pydb.read_sql_query (\"select * from __temp__.app_disp_match where case_number = 'BD19P00174'\")"
   ]
  }
 ],
 "metadata": {
  "kernelspec": {
   "display_name": "Python 3",
   "language": "python",
   "name": "python3"
  },
  "language_info": {
   "codemirror_mode": {
    "name": "ipython",
    "version": 3
   },
   "file_extension": ".py",
   "mimetype": "text/x-python",
   "name": "python",
   "nbconvert_exporter": "python",
   "pygments_lexer": "ipython3",
   "version": "3.9.4"
  }
 },
 "nbformat": 4,
 "nbformat_minor": 5
}
