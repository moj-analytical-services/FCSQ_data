{
 "cells": [
  {
   "cell_type": "code",
   "execution_count": null,
   "id": "79f62fc9-c10e-4284-a1a9-646aa5bc1cd1",
   "metadata": {},
   "outputs": [],
   "source": [
    "# libraries\n",
    "import pandas as pd\n",
    "import pydbtools as pydb\n",
    "import boto3\n",
    "from datetime import datetime\n",
    "#import re\n",
    "import os  # for file paths\n",
    "import awswrangler as wr"
   ]
  },
  {
   "cell_type": "code",
   "execution_count": null,
   "id": "ca30fab2-625c-40fa-ab5f-57b16bfae077",
   "metadata": {},
   "outputs": [],
   "source": [
    "# Structured  dataframes\n",
    "pd.set_option(\"display.max_columns\", 100)\n",
    "pd.set_option(\"display.width\", 900)\n",
    "pd.set_option(\"display.max_colwidth\", 200)"
   ]
  },
  {
   "cell_type": "markdown",
   "id": "52374633-48ce-4e76-9791-328863ca7cb3",
   "metadata": {},
   "source": [
    "##### Assigning key variables"
   ]
  },
  {
   "cell_type": "code",
   "execution_count": null,
   "id": "94081d79-60c1-4c0e-890d-1a09b64a9373",
   "metadata": {},
   "outputs": [],
   "source": [
    "# define some variables to be used throughout the notebook\n",
    "db1 = \"familyman_derived_dev_v2\" #database where Familyman data is stored\n",
    "db2 = \"familyman_dev_v2\"\n",
    "snapshot_date = \"2022-05-23\" #To update where necessary\n",
    "db3 = \"fcsq\" #database where tables created as part of FCSQ processing are stored where required"
   ]
  },
  {
   "cell_type": "code",
   "execution_count": null,
   "id": "55c90f29-032e-4cf7-9490-3f093222640c",
   "metadata": {},
   "outputs": [],
   "source": [
    "pydb.create_temp_table(\n",
    "f\"\"\" \n",
    "SELECT \n",
    "  case_number,\n",
    "  CAST(value AS Date) AS date_of_issue\n",
    "FROM \n",
    "  {db2}.case_fields AS f\n",
    " \n",
    "WHERE\n",
    "  field_model = 'FM2C_DI'\n",
    "  AND mojap_snapshot_date = DATE'{snapshot_date}'\n",
    "\n",
    "\"\"\",\n",
    "\n",
    "\"DOI\")"
   ]
  },
  {
   "cell_type": "code",
   "execution_count": null,
   "id": "a7f3f901-c2f9-4a02-95ac-a7dce3a37427",
   "metadata": {},
   "outputs": [],
   "source": [
    "pydb.create_temp_table(\n",
    "f\"\"\" \n",
    "SELECT \n",
    "  case_number,\n",
    "  CAST(value AS Date) AS date_of_issue\n",
    "FROM \n",
    "  {db2}.case_fields AS f\n",
    " \n",
    "WHERE\n",
    "  field_model = 'FM2C_DI'\n",
    "  AND mojap_snapshot_date = DATE'{snapshot_date}'\n",
    "\n",
    "\"\"\",\n",
    "\n",
    "\"DOI\")"
   ]
  },
  {
   "cell_type": "code",
   "execution_count": null,
   "id": "ef1a65d3-8dd3-4015-b4d6-3248f645379b",
   "metadata": {},
   "outputs": [],
   "source": [
    "pydb.read_sql_query (\"select * from __temp__.doi limit 10\")"
   ]
  }
 ],
 "metadata": {
  "kernelspec": {
   "display_name": "Python 3",
   "language": "python",
   "name": "python3"
  },
  "language_info": {
   "codemirror_mode": {
    "name": "ipython",
    "version": 3
   },
   "file_extension": ".py",
   "mimetype": "text/x-python",
   "name": "python",
   "nbconvert_exporter": "python",
   "pygments_lexer": "ipython3",
   "version": "3.9.4"
  }
 },
 "nbformat": 4,
 "nbformat_minor": 5
}
