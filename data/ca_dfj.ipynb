{
 "cells": [
  {
   "cell_type": "markdown",
   "id": "37e1cb98-85f7-4614-b99f-183d143a6191",
   "metadata": {},
   "source": [
    "## DFJ file"
   ]
  },
  {
   "cell_type": "markdown",
   "id": "399484d0-758f-4130-8bcc-2a84c7ea1513",
   "metadata": {},
   "source": [
    "#### Import packages"
   ]
  },
  {
   "cell_type": "code",
   "execution_count": null,
   "id": "01438669-3717-4bcd-85f1-5f56d2494307",
   "metadata": {},
   "outputs": [],
   "source": [
    "# libraries\n",
    "import pandas as pd\n",
    "import pydbtools as pydb\n",
    "import boto3\n",
    "from datetime import datetime\n",
    "#import re\n",
    "import os  # for file paths\n",
    "import awswrangler as wr"
   ]
  },
  {
   "cell_type": "code",
   "execution_count": null,
   "id": "3a425963-14e8-4868-8eec-7cbb016bef6c",
   "metadata": {},
   "outputs": [],
   "source": [
    "# Structured  dataframes\n",
    "pd.set_option(\"display.max_columns\", 100)\n",
    "pd.set_option(\"display.width\", 900)\n",
    "pd.set_option(\"display.max_colwidth\", 200)"
   ]
  },
  {
   "cell_type": "markdown",
   "id": "5d6478a9-feb3-4d83-9115-e41e036c1d51",
   "metadata": {
    "tags": []
   },
   "source": [
    "#### Assigning key variables"
   ]
  },
  {
   "cell_type": "code",
   "execution_count": null,
   "id": "5c9766ae-8b62-4c10-ab4e-ac89b2b569fc",
   "metadata": {},
   "outputs": [],
   "source": [
    "# This is the database where the familyman data is stored on the platform\n",
    "db1 = \"familyman_dev_v3\"\n",
    "# This database is used for FCCSQ processing\n",
    "fcsq_db = \"fcsq\"\n",
    "# create path for within athena FCSQ database in the S3 folder, alongside other S3 items\n",
    "fcsq_db_path = f\"s3://alpha-family-data/fcsq_processing/CA_disps/\"\n",
    "s3 = boto3.resource(\"s3\")\n",
    "bucket = s3.Bucket(\"alpha-family-data\")\n",
    "#Select the snapshot date you require. Each record in Familyman has a snapshot date (essentially just a column in the tables) that relates to the database at that point in time\n",
    "snapshot_date = \"2022-08-04\""
   ]
  },
  {
   "cell_type": "markdown",
   "id": "00c9f8ae-4dde-45b2-a556-140258e63a6e",
   "metadata": {},
   "source": [
    "### Getting data from applications datasets"
   ]
  },
  {
   "cell_type": "code",
   "execution_count": null,
   "id": "53db9e6d-5399-4583-93da-6936d5fbc1d6",
   "metadata": {},
   "outputs": [],
   "source": [
    "#Fetching the data from the orders applied for dataset created in the main children act application processing\n",
    "pydb.create_temp_table(\n",
    "f\"\"\" \n",
    "SELECT \n",
    "  year,\n",
    "  quarter,\n",
    "  CASE WHEN order_case_type = 'P'\n",
    "        THEN 'Private Law'\n",
    "      WHEN order_case_type = 'C'\n",
    "        THEN 'Public Law'\n",
    "      ELSE 'check' END\n",
    "    AS Category,\n",
    "  COUNT(*) AS Start\n",
    "FROM\n",
    "  {fcsq_db}.ca_apps_order_types\n",
    "GROUP BY\n",
    "  year,\n",
    "  quarter,\n",
    "  order_case_type\n",
    "  \n",
    "\"\"\",\n",
    "    \n",
    "\"ca_dfj_starts\")"
   ]
  },
  {
   "cell_type": "code",
   "execution_count": null,
   "id": "9c2ebf5c-9020-4e0a-947d-4df242a082e7",
   "metadata": {},
   "outputs": [],
   "source": [
    "pydb.create_temp_table(\n",
    "f\"\"\" \n",
    "SELECT \n",
    "  year,\n",
    "  quarter,\n",
    "  CASE WHEN order_case_type = 'P'\n",
    "        THEN 'Private Law'\n",
    "      WHEN order_case_type = 'C'\n",
    "        THEN 'Public Law'\n",
    "      ELSE 'check' END\n",
    "    AS Category,\n",
    "  COUNT(*) AS Finish\n",
    "FROM\n",
    "  {fcsq_db}.ca_all_disposals\n",
    "WHERE\n",
    "  disp_type_code = 1\n",
    "GROUP BY\n",
    "  year,\n",
    "  quarter,\n",
    "  order_case_type\n",
    "  \n",
    "\"\"\",\n",
    "    \n",
    "\"ca_dfj_end\")"
   ]
  },
  {
   "cell_type": "code",
   "execution_count": null,
   "id": "c6cdace5-c29b-4bbf-a3c7-c118aef77546",
   "metadata": {},
   "outputs": [],
   "source": [
    "pydb.read_sql_query(\"select * from __temp__.ca_dfj_starts where year > 2011 order by year, quarter\")"
   ]
  }
 ],
 "metadata": {
  "kernelspec": {
   "display_name": "Python 3",
   "language": "python",
   "name": "python3"
  },
  "language_info": {
   "codemirror_mode": {
    "name": "ipython",
    "version": 3
   },
   "file_extension": ".py",
   "mimetype": "text/x-python",
   "name": "python",
   "nbconvert_exporter": "python",
   "pygments_lexer": "ipython3",
   "version": "3.9.4"
  }
 },
 "nbformat": 4,
 "nbformat_minor": 5
}
