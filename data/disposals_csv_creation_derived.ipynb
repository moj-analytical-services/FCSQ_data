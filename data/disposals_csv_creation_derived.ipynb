{
 "cells": [
  {
   "cell_type": "code",
   "execution_count": null,
   "id": "9441ce9e-0c47-4777-babe-05ade8724263",
   "metadata": {},
   "outputs": [],
   "source": []
  },
  {
   "cell_type": "code",
   "execution_count": null,
   "id": "3d83867d-8063-4bbf-97c4-03626eeb4f09",
   "metadata": {},
   "outputs": [],
   "source": [
    "# libraries\n",
    "import pandas as pd\n",
    "import pydbtools as pydb\n",
    "import boto3\n",
    "from datetime import datetime\n",
    "#import re\n",
    "import os  # for file paths\n",
    "import awswrangler as wr"
   ]
  },
  {
   "cell_type": "markdown",
   "id": "ecce10c7-c6a9-4e83-8229-ab4fa4932a62",
   "metadata": {},
   "source": [
    "# Disposals Outputs"
   ]
  },
  {
   "cell_type": "markdown",
   "id": "4cc99c11-c60c-4fc9-b6c1-b75ce8a58870",
   "metadata": {},
   "source": [
    "#### Child counts"
   ]
  },
  {
   "cell_type": "code",
   "execution_count": null,
   "id": "a20506a9-8d2d-439d-bf03-5ebd9ef529c9",
   "metadata": {},
   "outputs": [],
   "source": [
    "pydb.create_temp_table( \n",
    "f\"\"\"\n",
    "SELECT\n",
    "  Year,\n",
    "  Quarter,\n",
    "  'Disposal' AS Type,\n",
    "  'Children' AS Count_type,\n",
    "  CASE WHEN order_case_type = 'C' THEN 'Public law'\n",
    "       WHEN order_case_type = 'P' THEN 'Private law'\n",
    "    End AS Public_private,\n",
    "   Disp_type AS Disposal_type,\n",
    "   order_desc AS Order_type,\n",
    "   order_code AS Order_type_code,\n",
    "  'N/A' AS Gender,\n",
    "  'N/A' AS age_band,\n",
    "  'N/A' AS Applicants_in_case,\n",
    "  'N/A' AS Respondents_in_case,\n",
    "  'N/A' AS HC_INDICATOR,\n",
    "   COUNT(*) AS Count\n",
    "FROM\n",
    "  __temp__.ca_disps_all_children_d\n",
    "Where\n",
    "  Year>=2011\n",
    "Group BY\n",
    "  Year,\n",
    "  Quarter,\n",
    "  CASE WHEN order_case_type = 'C' THEN 'Public law'\n",
    "       WHEN order_case_type = 'P' THEN 'Private law'\n",
    "    End,\n",
    "  Disp_type,\n",
    "  order_desc,\n",
    "  order_code\n",
    "  \n",
    "\"\"\",\n",
    "\n",
    "\"child_counts_d\")"
   ]
  },
  {
   "cell_type": "markdown",
   "id": "6f2e3153-955f-4f70-b0e6-b19642b7c647",
   "metadata": {},
   "source": [
    "### Order counts"
   ]
  },
  {
   "cell_type": "code",
   "execution_count": null,
   "id": "7f958ea9-827d-4dd7-8375-83e11811cb35",
   "metadata": {},
   "outputs": [],
   "source": [
    "pydb.create_temp_table( \n",
    "f\"\"\"\n",
    "SELECT\n",
    "  Year,\n",
    "  Quarter,\n",
    "  'Disposal' AS Type,\n",
    "  'Order type' AS Count_type,\n",
    "  CASE WHEN order_case_type = 'C' THEN 'Public law'\n",
    "       WHEN order_case_type = 'P' THEN 'Private law'\n",
    "    End AS Public_private,\n",
    "   Disp_type AS Disposal_type,\n",
    "   order_desc AS Order_type,\n",
    "   order_code AS Order_type_code,\n",
    "  'N/A' AS Gender,\n",
    "  'N/A' AS age_band,\n",
    "  'N/A' AS Applicants_in_case,\n",
    "  'N/A' AS Respondents_in_case,\n",
    "  'N/A' AS HC_INDICATOR,\n",
    "   COUNT(*) AS Count\n",
    "FROM\n",
    "  __temp__.ca_all_disposals_d\n",
    "Where\n",
    "  Year>=2011\n",
    "Group BY\n",
    "  Year,\n",
    "  Quarter,\n",
    "  CASE WHEN order_case_type = 'C' THEN 'Public law'\n",
    "       WHEN order_case_type = 'P' THEN 'Private law'\n",
    "    End,\n",
    "  Disp_type,\n",
    "  order_desc,\n",
    "  order_code\n",
    "  \n",
    "\"\"\",\n",
    "\n",
    "\"order_type_counts_d\")"
   ]
  },
  {
   "cell_type": "markdown",
   "id": "13d46b17-c04e-4d7c-8ae3-72a1a44ea262",
   "metadata": {},
   "source": [
    "### Case counts"
   ]
  },
  {
   "cell_type": "code",
   "execution_count": null,
   "id": "21f14d5e-77a0-4231-9925-d03945fb76df",
   "metadata": {},
   "outputs": [],
   "source": [
    "pydb.create_temp_table( \n",
    "f\"\"\"\n",
    "SELECT\n",
    "  Year,\n",
    "  Quarter,\n",
    "  'Cases' AS Type,\n",
    "  'Cases closed' AS Count_type,\n",
    "  CASE WHEN case_type = 'C' THEN 'Public law'\n",
    "       WHEN case_type = 'P' THEN 'Private law'\n",
    "    End AS Public_private,\n",
    "   'N/A' AS Disposal_type,\n",
    "   'All' AS Order_type,\n",
    "  CAST(NULL AS INTEGER) AS Order_type_code,\n",
    "  'N/A' AS Gender,\n",
    "  'N/A' AS age_band,\n",
    "  'N/A' AS Applicants_in_case,\n",
    "  'N/A' AS Respondents_in_case,\n",
    "  'N/A' AS HC_INDICATOR,\n",
    "   COUNT(*) AS Count\n",
    "FROM\n",
    "  __temp__.ca_closed_cases_d\n",
    "Where\n",
    "  Year>=2011\n",
    "Group BY\n",
    "  Year,\n",
    "  Quarter,\n",
    "  CASE WHEN case_type = 'C' THEN 'Public law'\n",
    "       WHEN case_type = 'P' THEN 'Private law'\n",
    "    End\n",
    "  \n",
    "\"\"\",\n",
    "\n",
    "\"disp_case_counts_d\")"
   ]
  },
  {
   "cell_type": "markdown",
   "id": "ae4b9012-9d4a-4def-99b0-a797c78c63a1",
   "metadata": {},
   "source": [
    "### Combined Special Guardianship and Supervision orders (this code will need revisiting once duplicate issues have been resolved)"
   ]
  },
  {
   "cell_type": "code",
   "execution_count": null,
   "id": "0c8e46a7-478b-467a-9f1d-c07b1c7791e0",
   "metadata": {},
   "outputs": [],
   "source": [
    "#Supervision orders\n",
    "pydb.create_temp_table( \n",
    "f\"\"\"\n",
    "SELECT * FROM __temp__.ca_disps_all_children_d WHERE order_code = 4   \n",
    "\"\"\",\n",
    "\"so\")"
   ]
  },
  {
   "cell_type": "code",
   "execution_count": null,
   "id": "f09b3561-73f7-4b75-91a3-6858c6060859",
   "metadata": {},
   "outputs": [],
   "source": [
    "#SGO orders\n",
    "pydb.create_temp_table( \n",
    "f\"\"\"\n",
    "SELECT * FROM __temp__.ca_disps_all_children_d WHERE order_code = 27   \n",
    "\"\"\",\n",
    "\"sgo\")"
   ]
  },
  {
   "cell_type": "code",
   "execution_count": null,
   "id": "c33a827e-749a-4ec9-9a31-c2adacea642b",
   "metadata": {},
   "outputs": [],
   "source": [
    "#Join SO and SGO info together to see if both orders were given to the same child on the same day\n",
    "pydb.create_temp_table( \n",
    "f\"\"\"\n",
    "SELECT\n",
    "  so.*,\n",
    "  sgo.order_desc AS sgo_order\n",
    "FROM\n",
    "  __temp__.so so \n",
    "  LEFT JOIN __temp__.sgo sgo \n",
    "    ON so.receipt_date = sgo.receipt_date\n",
    "    AND so.child_role_id = sgo.child_role_id\n",
    "WHERE\n",
    "  sgo.order_desc IS NOT NULL\n",
    "\"\"\",\n",
    "\n",
    "\"so_sgo_children_d\")"
   ]
  },
  {
   "cell_type": "code",
   "execution_count": null,
   "id": "8fa997f3-2f82-4386-90e6-2f19e134e015",
   "metadata": {},
   "outputs": [],
   "source": [
    "# now get rid of the children and count only orders\n",
    "pydb.create_temp_table( \n",
    "f\"\"\"\n",
    "SELECT\n",
    "  DISTINCT year,\n",
    "           quarter,\n",
    "           order_case_type,\n",
    "           disp_type_code,\n",
    "           event\n",
    "FROM\n",
    "  __temp__.so_sgo_children_d\n",
    "\n",
    "\"\"\",\n",
    "\n",
    "\"so_sgo_orders_d\")"
   ]
  },
  {
   "cell_type": "code",
   "execution_count": null,
   "id": "95dc314e-47a6-4035-b6cc-cc67af1d603b",
   "metadata": {},
   "outputs": [],
   "source": [
    "# csv data for combined orders - children\n",
    "pydb.create_temp_table( \n",
    "f\"\"\"\n",
    "SELECT\n",
    "  Year,\n",
    "  Quarter,\n",
    "  'Disposal' AS Type,\n",
    "  'Combined orders - children' AS Count_type,\n",
    "  CASE WHEN order_case_type = 'C' THEN 'Public law'\n",
    "       WHEN order_case_type = 'P' THEN 'Private law'\n",
    "    End AS Public_private,\n",
    "   'Combined orders' AS Disposal_type,\n",
    "   'Supervision and SGO' AS Order_type,\n",
    "  CAST(NULL AS INTEGER) AS Order_type_code,\n",
    "  'N/A' AS Gender,\n",
    "  'N/A' AS age_band,\n",
    "  'N/A' AS Applicants_in_case,\n",
    "  'N/A' AS Respondents_in_case,\n",
    "  'N/A' AS HC_INDICATOR,\n",
    "   COUNT(*) AS Count\n",
    "FROM\n",
    "  __temp__.so_sgo_children_d\n",
    "Where\n",
    "  Year>=2011\n",
    "  AND disp_type_code IN (1,2) \n",
    "Group BY\n",
    "  Year,\n",
    "  Quarter,\n",
    "  CASE WHEN order_case_type = 'C' THEN 'Public law'\n",
    "       WHEN order_case_type = 'P' THEN 'Private law'\n",
    "    End\n",
    "  \n",
    "\"\"\",\n",
    "\n",
    "\"combined_orders_CH_d\")"
   ]
  },
  {
   "cell_type": "code",
   "execution_count": null,
   "id": "57e48665-4cad-4ece-8760-e082c56982b8",
   "metadata": {},
   "outputs": [],
   "source": [
    "#csv data for combined orders - orders made only\n",
    "pydb.create_temp_table( \n",
    "f\"\"\"\n",
    "SELECT\n",
    "  Year,\n",
    "  Quarter,\n",
    "  'Disposal' AS Type,\n",
    "  'Combined orders - orders' AS Count_type,\n",
    "  CASE WHEN order_case_type = 'C' THEN 'Public law'\n",
    "       WHEN order_case_type = 'P' THEN 'Private law'\n",
    "    End AS Public_private,\n",
    "   'Combined orders' AS Disposal_type,\n",
    "   'Supervision and SGO' AS Order_type,\n",
    "  CAST(NULL AS INTEGER) AS Order_type_code,\n",
    "  'N/A' AS Gender,\n",
    "  'N/A' AS age_band,\n",
    "  'N/A' AS Applicants_in_case,\n",
    "  'N/A' AS Respondents_in_case,\n",
    "  'N/A' AS HC_INDICATOR,\n",
    "   COUNT(*) AS Count\n",
    "FROM\n",
    "  __temp__.so_sgo_orders_d\n",
    "Where\n",
    "  Year>=2011\n",
    "  AND disp_type_code IN (1,2) \n",
    "Group BY\n",
    "  Year,\n",
    "  Quarter,\n",
    "  CASE WHEN order_case_type = 'C' THEN 'Public law'\n",
    "       WHEN order_case_type = 'P' THEN 'Private law'\n",
    "    End\n",
    "  \n",
    "\"\"\",\n",
    "\n",
    "\"combined_orders_ORD_d\")"
   ]
  },
  {
   "cell_type": "markdown",
   "id": "ec2ef561-ae13-4ed2-b610-e824bc88de79",
   "metadata": {},
   "source": [
    "### Combine all datasets"
   ]
  },
  {
   "cell_type": "code",
   "execution_count": null,
   "id": "9d912597-8fd9-4589-a79e-96d78cded1df",
   "metadata": {},
   "outputs": [],
   "source": [
    "pydb.create_temp_table( \n",
    "f\"\"\"\n",
    "SELECT\n",
    "  *\n",
    "FROM\n",
    "  __temp__.child_counts_d\n",
    "UNION ALL\n",
    "SELECT\n",
    "  *\n",
    "FROM\n",
    "  __temp__.order_type_counts_d\n",
    "UNION ALL\n",
    "SELECT\n",
    "  *\n",
    "FROM\n",
    "  __temp__.disp_case_counts_d\n",
    "UNION ALL \n",
    "SELECT\n",
    "  *\n",
    "FROM\n",
    "  __temp__.combined_orders_CH_d\n",
    "UNION ALL \n",
    "SELECT\n",
    "  *\n",
    "FROM\n",
    "  __temp__.combined_orders_ORD_d\n",
    "  \n",
    "\"\"\",\n",
    "\n",
    "\"disp_csv_d\")"
   ]
  },
  {
   "cell_type": "markdown",
   "id": "46037c60-d859-4040-b93d-00a3a3c7fe83",
   "metadata": {},
   "source": [
    "### Exporting data"
   ]
  },
  {
   "cell_type": "code",
   "execution_count": null,
   "id": "19883e2e-ce89-42a5-95b4-679e9802670d",
   "metadata": {},
   "outputs": [],
   "source": [
    "data = pydb.read_sql_query (\"select * from __temp__.disp_csv_d\")"
   ]
  },
  {
   "cell_type": "code",
   "execution_count": null,
   "id": "3c297fca-0600-4174-b00b-92ad66f0eea5",
   "metadata": {},
   "outputs": [],
   "source": [
    "df = pd.DataFrame(data)"
   ]
  },
  {
   "cell_type": "code",
   "execution_count": null,
   "id": "cf5a6dfa-e279-42ee-a7c1-334cf3a470bc",
   "metadata": {},
   "outputs": [],
   "source": [
    "df.to_csv (r's3://alpha-family-data/fcsq_processing/CA_disps/test_csv/ca_disps_d.csv', header = True)"
   ]
  },
  {
   "cell_type": "code",
   "execution_count": null,
   "id": "3711d74a-402d-459e-9383-734f75fe3fec",
   "metadata": {},
   "outputs": [],
   "source": [
    "df.to_csv ('Exports/disposals.csv',header = True)"
   ]
  }
 ],
 "metadata": {
  "kernelspec": {
   "display_name": "Python 3",
   "language": "python",
   "name": "python3"
  },
  "language_info": {
   "codemirror_mode": {
    "name": "ipython",
    "version": 3
   },
   "file_extension": ".py",
   "mimetype": "text/x-python",
   "name": "python",
   "nbconvert_exporter": "python",
   "pygments_lexer": "ipython3",
   "version": "3.9.4"
  }
 },
 "nbformat": 4,
 "nbformat_minor": 5
}
