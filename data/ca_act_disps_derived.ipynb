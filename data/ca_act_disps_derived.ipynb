{
 "cells": [
  {
   "cell_type": "markdown",
   "id": "71f6d9ef-bd50-4404-b5da-a8c158292a06",
   "metadata": {},
   "source": [
    "#### Import packages"
   ]
  },
  {
   "cell_type": "code",
   "execution_count": null,
   "id": "609d18fa-9959-4f90-8991-dd11e8d2bb91",
   "metadata": {},
   "outputs": [],
   "source": [
    "# libraries\n",
    "import pandas as pd\n",
    "import pydbtools as pydb\n",
    "import boto3\n",
    "from datetime import datetime\n",
    "#import re\n",
    "import os  # for file paths\n",
    "import awswrangler as wr"
   ]
  },
  {
   "cell_type": "code",
   "execution_count": null,
   "id": "74c1f7db-7b14-4006-bb1b-9e511198c29a",
   "metadata": {},
   "outputs": [],
   "source": [
    "# Structured  dataframes\n",
    "pd.set_option(\"display.max_columns\", 100)\n",
    "pd.set_option(\"display.width\", 900)\n",
    "pd.set_option(\"display.max_colwidth\", 200)"
   ]
  },
  {
   "cell_type": "markdown",
   "id": "afc96d3a-647b-4d10-a8ee-f9c1439f5b6d",
   "metadata": {},
   "source": [
    "#### Assigning key variables"
   ]
  },
  {
   "cell_type": "code",
   "execution_count": null,
   "id": "7398410d-95cd-4dae-a079-b9d4c8055775",
   "metadata": {},
   "outputs": [],
   "source": [
    "# define some variables to be used throughout the notebook\n",
    "db1 = \"familyman_derived_dev_v2\" #database where Familyman data is stored\n",
    "db2 = \"familyman_dev_v2\"\n",
    "snapshot_date = \"2022-05-23\" #To update where necessary\n",
    "db3 = \"fcsq\" #database where tables created as part of FCSQ processing are stored where required"
   ]
  },
  {
   "cell_type": "code",
   "execution_count": null,
   "id": "c93bc482-f4f3-47ad-bd8a-06d442fa6ec5",
   "metadata": {},
   "outputs": [],
   "source": [
    "#Select all disposal events*/\n",
    "pydb.create_temp_table(\n",
    "f\"\"\" \n",
    "SELECT \n",
    "  e.event,\n",
    "  e.case_number,\n",
    "  e.event_model,\n",
    "  CASE WHEN e.event_model IN ('C43', 'ORDNOM', 'ORDREF','G63')\n",
    "      THEN 'GEN'\n",
    "      ELSE e.event_model END \n",
    "    AS lookup_event_code,\n",
    "  e.receipt_date,\n",
    "  e.entry_date,\n",
    "  COALESCE(e.receipt_date, e.entry_date) AS disp_date,\n",
    "  e.creating_court,\n",
    "  CASE WHEN e.event_model = 'G63'\n",
    "        THEN app.application_type_value_array\n",
    "       WHEN e.order_type_value_if_in_fields_array IS NULL\n",
    "        THEN ARRAY[NULL]\n",
    "         ELSE e.order_type_value_if_in_fields_array END  \n",
    "    AS all_event_ord_types\n",
    "FROM \n",
    "  {db1}.events_derived AS e\n",
    "  LEFT JOIN {db1}.events_derived AS app\n",
    "    ON e.withdrawn_application_type_value = app.event\n",
    "      AND e.mojap_snapshot_date = app.mojap_snapshot_date    \n",
    "WHERE\n",
    "  e.event_model IN ('C23','C25','C26','C27','C28','C29',\n",
    "                    'C30','C31','C32A','C32B','C33','C34A','C34B','C35A','C35B','C37',\n",
    "                    'C38A','C38B','C39','C40','C42','C43A','C44A','C44B','C45A','C45B',\n",
    "                    'C53','C80','C81','C82',\n",
    "                    \n",
    "                    'C21', 'C24', 'C36','C43', 'ORDNOM', 'ORDREF',\n",
    "                    \n",
    "                    'G63')\n",
    "  AND e.mojap_snapshot_date = DATE'{snapshot_date}'\n",
    "\n",
    "\n",
    "\n",
    "\"\"\",\n",
    "\n",
    "\"ca_extract_disps_d\")"
   ]
  },
  {
   "cell_type": "code",
   "execution_count": null,
   "id": "5a2f182b-a4d8-427e-b750-ad4b587ecb7e",
   "metadata": {},
   "outputs": [],
   "source": [
    "#split disposal events to one per row\n",
    "pydb.create_temp_table(\n",
    "f\"\"\" \n",
    "SELECT \n",
    "  t1.*,\n",
    "  TRIM(ord_type) as order_type,\n",
    "  CASE WHEN t2.order_code < 19 OR (SUBSTR(case_number,5,1) = 'C') THEN 'C'\n",
    "        ELSE 'P' END \n",
    "      AS order_case_type,  \n",
    "  CASE WHEN t1.event_model = 'G63' THEN 3\n",
    "       WHEN t1.event_model = 'ORDREF' THEN 4\n",
    "       WHEN t1.event_model = 'ORDNOM' THEN 5\n",
    "       WHEN t2.order_code BETWEEN 40 AND 45 THEN 2\n",
    "       ELSE 1 END\n",
    "    AS disp_type_code,\n",
    "  CASE WHEN t1.event_model = 'G63' THEN 'Withdrawn'\n",
    "       WHEN t1.event_model = 'ORDREF' THEN 'Refused'\n",
    "       WHEN t1.event_model = 'ORDNOM' THEN 'No order'\n",
    "       WHEN t2.order_code BETWEEN 40 AND 45 THEN 'Interim Order'\n",
    "       ELSE 'Order' END\n",
    "    AS disp_type,\n",
    "  order_code,\n",
    "  order_desc\n",
    "FROM \n",
    "  __temp__.ca_extract_disps_d AS t1\n",
    "  CROSS JOIN UNNEST(all_event_ord_types) \n",
    "        AS t(ord_type)    \n",
    "  LEFT JOIN {db3}.ca_order_type_lookup t2\n",
    "    ON t1.lookup_event_code = t2.event_model\n",
    "    AND TRIM(ord_type) = t2.value\n",
    "\n",
    "\n",
    "\"\"\",\n",
    "\n",
    "\"ca_disps_split_d\")"
   ]
  }
 ],
 "metadata": {
  "kernelspec": {
   "display_name": "Python 3",
   "language": "python",
   "name": "python3"
  },
  "language_info": {
   "codemirror_mode": {
    "name": "ipython",
    "version": 3
   },
   "file_extension": ".py",
   "mimetype": "text/x-python",
   "name": "python",
   "nbconvert_exporter": "python",
   "pygments_lexer": "ipython3",
   "version": "3.9.4"
  }
 },
 "nbformat": 4,
 "nbformat_minor": 5
}
