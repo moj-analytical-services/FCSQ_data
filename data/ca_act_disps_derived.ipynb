{
 "cells": [
  {
   "cell_type": "markdown",
   "id": "71f6d9ef-bd50-4404-b5da-a8c158292a06",
   "metadata": {},
   "source": [
    "#### Import packages"
   ]
  },
  {
   "cell_type": "code",
   "execution_count": null,
   "id": "609d18fa-9959-4f90-8991-dd11e8d2bb91",
   "metadata": {},
   "outputs": [],
   "source": [
    "# libraries\n",
    "import pandas as pd\n",
    "import pydbtools as pydb\n",
    "import boto3\n",
    "from datetime import datetime\n",
    "#import re\n",
    "import os  # for file paths\n",
    "import awswrangler as wr"
   ]
  },
  {
   "cell_type": "code",
   "execution_count": null,
   "id": "74c1f7db-7b14-4006-bb1b-9e511198c29a",
   "metadata": {},
   "outputs": [],
   "source": [
    "# Structured  dataframes\n",
    "pd.set_option(\"display.max_columns\", 100)\n",
    "pd.set_option(\"display.width\", 900)\n",
    "pd.set_option(\"display.max_colwidth\", 200)"
   ]
  },
  {
   "cell_type": "markdown",
   "id": "afc96d3a-647b-4d10-a8ee-f9c1439f5b6d",
   "metadata": {},
   "source": [
    "#### Assigning key variables"
   ]
  },
  {
   "cell_type": "code",
   "execution_count": null,
   "id": "7398410d-95cd-4dae-a079-b9d4c8055775",
   "metadata": {},
   "outputs": [],
   "source": [
    "# define some variables to be used throughout the notebook\n",
    "db1 = \"familyman_derived_dev_v2\" #database where Familyman data is stored\n",
    "db2 = \"familyman_dev_v2\"\n",
    "snapshot_date = \"2022-05-23\" #To update where necessary\n",
    "db3 = \"fcsq\" #database where tables created as part of FCSQ processing are stored where required"
   ]
  },
  {
   "cell_type": "markdown",
   "id": "55a44aa0-e246-4a7f-9f98-a6c3ceeaedde",
   "metadata": {},
   "source": [
    "### Extracting disposals"
   ]
  },
  {
   "cell_type": "code",
   "execution_count": null,
   "id": "c93bc482-f4f3-47ad-bd8a-06d442fa6ec5",
   "metadata": {},
   "outputs": [],
   "source": [
    "#Select all disposal events\n",
    "#Familyman will store values differently depending on the disposal type. Here we are dealing with 3 types: \n",
    "  #Firstly, where the event model is one of the following ('C21', 'C24', 'C36', 'C43', 'ORDNOM', 'ORDREF_), the type of event is determined by field values, and so the value is stored within the order_type_fields_array column within the events derived table\n",
    "     #The C43 (CAO orders), 'ORDNOM', 'ORDREF', and 'G63' event models use the same field values to record the order type, and so the lookup value is set to a general value ('GEN')\n",
    "  #Secondly, there are withdrawn events (G63). The value stored in the withdrawn_application_type_value column corresponds to the orignal application event (usually G50 or U22), and so we link back to those records to get the oder type applied for\n",
    "  #Thirdly, for the remaining event models, we can determine the order the type by the value of the event model. As such these do not have an order_type_fields_array value (and so we set these to an array so that the order_type column is in a consistent format, \n",
    "      # and also set an 'N/A' value that is used for the order type lookup later)\n",
    "\n",
    "pydb.create_temp_table(\n",
    "f\"\"\" \n",
    "SELECT \n",
    "  e.event,\n",
    "  e.case_number,\n",
    "  e.event_model,\n",
    "  CASE WHEN e.event_model IN ('C43', 'ORDNOM', 'ORDREF','G63')\n",
    "      THEN 'GEN'\n",
    "      ELSE e.event_model END \n",
    "    AS lookup_event_code,\n",
    "  e.receipt_date,\n",
    "  e.entry_date,\n",
    "  COALESCE(e.receipt_date, e.entry_date) AS disp_date,\n",
    "  e.creating_court,\n",
    "  CASE WHEN e.event_model = 'G63'\n",
    "        THEN app.application_type_value_array\n",
    "       WHEN e.order_type_value_if_in_fields_array IS NULL\n",
    "        THEN ARRAY['N/A']\n",
    "         ELSE e.order_type_value_if_in_fields_array END  \n",
    "    AS all_event_ord_types\n",
    "FROM \n",
    "  {db1}.events_derived AS e\n",
    "  LEFT JOIN {db1}.events_derived AS app\n",
    "    ON e.withdrawn_application_type_value = app.event\n",
    "      AND e.mojap_snapshot_date = app.mojap_snapshot_date    \n",
    "WHERE\n",
    "  e.event_model IN ('C23','C25','C26','C27','C28','C29',\n",
    "                    'C30','C31','C32A','C32B','C33','C34A','C34B','C35A','C35B','C37',\n",
    "                    'C38A','C38B','C39','C40','C42','C43A','C44A','C44B','C45A','C45B',\n",
    "                    'C53','C80','C81','C82',\n",
    "                    \n",
    "                    'C21', 'C24', 'C36','C43', 'ORDNOM', 'ORDREF',\n",
    "                    \n",
    "                    'G63')\n",
    "  AND e.mojap_snapshot_date = DATE'{snapshot_date}'\n",
    "\n",
    "\n",
    "\n",
    "\"\"\",\n",
    "\n",
    "\"ca_extract_disps_d\")"
   ]
  },
  {
   "cell_type": "markdown",
   "id": "3cc05798-19e5-4ece-8559-ca7ea5ff4c3e",
   "metadata": {},
   "source": [
    "### Separating disposal types and adding order type descriptions"
   ]
  },
  {
   "cell_type": "code",
   "execution_count": null,
   "id": "5a2f182b-a4d8-427e-b750-ad4b587ecb7e",
   "metadata": {},
   "outputs": [],
   "source": [
    "#split disposal events to one per row\n",
    "# The order type lookup file has been created separately\n",
    "# Order code to be up to 45 but including up to 54 as this is what some of the published data includes\n",
    "# The order case_type is based on the type of order being disposed. A case may have both public and private law disposal types\n",
    "pydb.create_temp_table(\n",
    "f\"\"\" \n",
    "SELECT \n",
    "  t1.*,\n",
    "  TRIM(ord_type) as order_type,\n",
    "  CASE WHEN t2.order_code < 19 OR (SUBSTR(case_number,5,1) = 'C') THEN 'C'\n",
    "        ELSE 'P' END \n",
    "      AS order_case_type,  \n",
    "  CASE WHEN t1.event_model = 'G63' THEN 3\n",
    "       WHEN t1.event_model = 'ORDREF' THEN 4\n",
    "       WHEN t1.event_model = 'ORDNOM' THEN 5\n",
    "       WHEN t2.order_code BETWEEN 40 AND 45 THEN 2\n",
    "       ELSE 1 END\n",
    "    AS disp_type_code,\n",
    "  CASE WHEN t1.event_model = 'G63' THEN 'Withdrawn'\n",
    "       WHEN t1.event_model = 'ORDREF' THEN 'Refused'\n",
    "       WHEN t1.event_model = 'ORDNOM' THEN 'No order'\n",
    "       WHEN t2.order_code BETWEEN 40 AND 45 THEN 'Interim Order'\n",
    "       ELSE 'Order' END\n",
    "    AS disp_type,\n",
    "  order_code,\n",
    "  order_desc\n",
    "FROM \n",
    "  __temp__.ca_extract_disps_d AS t1\n",
    "  CROSS JOIN UNNEST(all_event_ord_types) \n",
    "        AS t(ord_type)    \n",
    "  LEFT JOIN {db3}.ca_order_type_lookup t2\n",
    "    ON t1.lookup_event_code = t2.event_model\n",
    "    AND TRIM(ord_type) = t2.value\n",
    "WHERE\n",
    "  t2.order_code BETWEEN 0 AND 54\n",
    "\n",
    "\"\"\",\n",
    "\n",
    "\"ca_disps_split_d\")"
   ]
  },
  {
   "cell_type": "markdown",
   "id": "4d85f705-0e99-4a63-bc07-72c9d9b9cb77",
   "metadata": {},
   "source": [
    "### Excluding duplicate order types within the same event"
   ]
  },
  {
   "cell_type": "code",
   "execution_count": null,
   "id": "5e011348-bcd7-4aa0-a56e-be58e04737f7",
   "metadata": {},
   "outputs": [],
   "source": [
    "#Use the distinct function to remove duplicte order types within an event. The order type field (which contains the letter code) is not included in the select fields as different codes can map to the same order type (eg 'CAST' & 'CN' are both contact)\n",
    "#The duplicates account for around 0.25% of all disposals, so it is not a significant number \n",
    "#The main_case_type ensures that in the small number of cases where there are both private and public order types within a case, only one case type is selected in the case (based on order type activity within the case) \n",
    "#For the main_case_type, where the case number is 'P' and it has both public and private law disposals it will be counted within private law cases disposed\n",
    "#The FM_case_type is based on the letter within the case number. Naturally there will be 1 per case.\n",
    "#Domestic violence and adoption case types are filtered out of the main/FM_case_type fields so they can be excluded from final CA case counts\n",
    "pydb.create_temp_table( \n",
    "f\"\"\"\n",
    "  SELECT \n",
    "    DISTINCT\n",
    "    case_number,\n",
    "    disp_date,\n",
    "    EXTRACT(YEAR FROM disp_date) AS Year,\n",
    "    EXTRACT(QUARTER FROM disp_date) AS Quarter,\n",
    "    order_case_type,\n",
    "    CASE WHEN SUBSTR(case_number,5,1) NOT IN ('P','C')\n",
    "           THEN 'NA'\n",
    "         WHEN order_case_type = 'C' \n",
    "              AND case_number in (SELECT case_number\n",
    "                                  FROM __temp__.ca_disps_order_name\n",
    "                                  WHERE order_case_type = 'P')\n",
    "           THEN 'P'\n",
    "        ELSE order_case_type END\n",
    "      AS main_case_type,\n",
    "    CASE WHEN SUBSTR(case_number,5,1) NOT IN ('P','C')\n",
    "           THEN 'NA'\n",
    "           ELSE  SUBSTR(case_number,5,1) END\n",
    "      AS FM_case_type,\n",
    "    receipt_date,\n",
    "    entry_date,\n",
    "    event,\n",
    "    event_model,\n",
    "    disp_type_code,\n",
    "    disp_type,\n",
    "    order_code,\n",
    "    order_desc,\n",
    "    creating_court\n",
    "  FROM \n",
    "    __temp__.ca_disps_split_d\n",
    "\n",
    "\"\"\",\n",
    "\n",
    "\"ca_all_disposals_d\")"
   ]
  },
  {
   "cell_type": "markdown",
   "id": "f1435a75-55b3-4624-ba75-66e9aab8e9a5",
   "metadata": {},
   "source": [
    "### Adding children to the disposal events"
   ]
  },
  {
   "cell_type": "markdown",
   "id": "975c8a63-4600-4b1a-8cd7-3f446c96ebe5",
   "metadata": {},
   "source": [
    "#### Children recorded on the disposal event"
   ]
  },
  {
   "cell_type": "code",
   "execution_count": null,
   "id": "9abb4941-635f-4bf3-b6eb-b3ef21910739",
   "metadata": {},
   "outputs": [],
   "source": [
    "# Events with a child role id recorded against the disposal event are extracted. Children not recorded in the event value field are dealt with in the following step\n",
    "# We are using the main familyman database to get the child information as the role id is not contained within the event of the derived tables\n",
    "# As with the disposal code above, the cross join unnest flattens the child data to 1 row per child recorded against the disposal (event)\n",
    "pydb.create_temp_table( \n",
    "f\"\"\"\n",
    "  SELECT \n",
    "    a.*,\n",
    "    f.value children,\n",
    "    TRY_CAST(TRIM(child_role_id) as bigint) child_role_id,\n",
    "    p.dob,\n",
    "    p.gender\n",
    "  FROM \n",
    "    __temp__.ca_all_disposals_d a\n",
    "    INNER JOIN {db2}.event_fields f\n",
    "      ON a.event = f.event\n",
    "    CROSS JOIN UNNEST(SPLIT(f.value,',')) AS t(child_role_id)  \n",
    "    LEFT JOIN {db1}.people_derived p\n",
    "      ON TRY_CAST(TRIM(child_role_id) as bigint) = p.role\n",
    "  WHERE f.field_model IN('C21_CH','C23_CH','C24_CH','C25_CH','C26_CH','C27_CH','C28_CH','C29_CH',\n",
    "                      'C30_CH','C31_CH','C32A_CH','C32B_CH','C33_CH','C34A_CH',\n",
    "                      'C34B_CH','C35A_CH','C35B_CH','C36_CH','C37_CH','C38A_CH',\n",
    "                      'C38B_CH','C39_CH','C40_CH','C42_CH','C43_CH',\n",
    "                      'C43A_CH','C44A_CH','C44B_CH','C45A_CH','C45B_CH','C53_CH',\n",
    "                      'C80_CH','C81_CH','C82_CH','CPA_CH','ORDNOM_CH','ORDREF_CH', 'G63_CH')\n",
    "    AND child_role_id <> ''\n",
    "    AND f.mojap_snapshot_date = DATE'{snapshot_date}'\n",
    "    AND p.mojap_snapshot_date = DATE'{snapshot_date}'\n",
    "\"\"\",\n",
    "\n",
    "\"ca_disps_child_event_d\")"
   ]
  },
  {
   "cell_type": "markdown",
   "id": "9b22c1bf-6daa-4ab3-9635-0793baf3256b",
   "metadata": {},
   "source": [
    "#### Children - recorded on the case (not recorded on the disopsal event)"
   ]
  },
  {
   "cell_type": "code",
   "execution_count": null,
   "id": "53e8e30a-8efb-49d5-8d2c-52e3111307f7",
   "metadata": {},
   "outputs": [],
   "source": [
    "# Take all events where no children were recorded against the event in the children(events) table and get children details from the people table.\n",
    "# Where there are no children recorded on the event then all children recorded in the case are considered involved in the application - this is not an assumption but based on how Familyman data entry works \n",
    "# This table does not include those where children are recorded on the event and are flagged to delete in the roles table (main FM tables). These children are included in the next stage\n",
    "# Adding date of birth and gender from the parties table\n",
    "pydb.create_temp_table( \n",
    "f\"\"\"\n",
    "  SELECT\n",
    "    a.*,\n",
    "    p.role child_role_id,\n",
    "    p.dob,\n",
    "    p.gender\n",
    "  FROM\n",
    "    __temp__.ca_all_disposals_d a\n",
    "    JOIN {db1}.people_derived p \n",
    "      on a.case_number = p.case_number\n",
    "  WHERE\n",
    "    event not in (SELECT event FROM __temp__.ca_disps_child_event_d)\n",
    "    AND p.role_model in ('CHLDC', 'CHLDZ')\n",
    "    AND p.mojap_snapshot_date = DATE'{snapshot_date}'\n",
    "\"\"\",\n",
    "\n",
    "\"ca_disps_child_case_d\")"
   ]
  },
  {
   "cell_type": "markdown",
   "id": "c26b4f2c-8745-4a38-a37a-e9ed34aa3435",
   "metadata": {},
   "source": [
    "#### Children - not recorded on event or case"
   ]
  },
  {
   "cell_type": "code",
   "execution_count": null,
   "id": "b8998ab0-2049-45da-8a5b-bf91a2b85e23",
   "metadata": {},
   "outputs": [],
   "source": [
    "#There are a small number of applicaitons where the children are not reocorded on the event and there are also no children recorded on the case (or all chilren recorded have a delete flag of 'Y'). This tends to be for DV cases, where CA order types \n",
    "#   may have been made but children are not necessarily recorded on the case. Here we default to just one child per order/disposal, with unknown characteristics. This is an assumption and will not always be correct.\n",
    "pydb.create_temp_table(\n",
    "f\"\"\"\n",
    "  SELECT\n",
    "    *,\n",
    "    CAST(NULL AS INTEGER) AS child_role_id,\n",
    "    CAST(NULL AS DATE) dob,\n",
    "    CAST(NULL AS INTEGER) AS gender\n",
    "  FROM\n",
    "    __temp__.ca_all_disposals_d\n",
    "  WHERE\n",
    "    event NOT IN (SELECT event FROM __temp__.ca_disps_child_event_d)\n",
    "    AND event NOT IN (SELECT event FROM __temp__.ca_disps_child_case_d)\n",
    "\"\"\",\n",
    "\n",
    "\"ca_disps_no_child_d\")"
   ]
  },
  {
   "cell_type": "code",
   "execution_count": null,
   "id": "6ea2cea8-9cc2-44fe-b784-d38a7b40efe8",
   "metadata": {},
   "outputs": [],
   "source": [
    "pydb.read_sql_query (\"select count (*) as count from __temp__.ca_disps_all_children_d\")"
   ]
  },
  {
   "cell_type": "code",
   "execution_count": null,
   "id": "b5509c69-24aa-47ec-b9f2-b4ab5f55db51",
   "metadata": {},
   "outputs": [],
   "source": [
    "pydb.read_sql_query (\"select count (*) as count from __temp__.ca_disps_all_children\")"
   ]
  },
  {
   "cell_type": "markdown",
   "id": "ec0aec63-8671-4876-871f-255f1f730ce5",
   "metadata": {},
   "source": [
    "### Child disposals data set\n",
    "##### Combining children data sets together"
   ]
  },
  {
   "cell_type": "code",
   "execution_count": null,
   "id": "0f7df937-7003-4a1d-bac0-deaec94dd67a",
   "metadata": {},
   "outputs": [],
   "source": [
    "#Append the two datasets created previouly, which also includes all disposal data\n",
    "#The child event table also links to the party table to get the dob/gender info\n",
    "\n",
    "pydb.create_temp_table( \n",
    "f\"\"\"\n",
    "  SELECT \n",
    "    a.case_number,\n",
    "    a.disp_date,\n",
    "    Year,\n",
    "    Quarter,\n",
    "    a.order_case_type,\n",
    "    a.main_case_type,\n",
    "    a.FM_case_type,\n",
    "    a.receipt_date,\n",
    "    a.entry_date,\n",
    "    a.event,\n",
    "    a.event_model,\n",
    "    a.disp_type_code,\n",
    "    a.disp_type,\n",
    "    a.order_code,\n",
    "    a.order_desc,\n",
    "    a.child_role_id,\n",
    "    a.dob,\n",
    "    a.gender,\n",
    "    a.creating_court\n",
    "  FROM\n",
    "    __temp__.ca_disps_child_event_d a\n",
    "  UNION ALL\n",
    "  SELECT\n",
    "    a.case_number,\n",
    "    a.disp_date,\n",
    "    Year,\n",
    "    Quarter,\n",
    "    a.order_case_type,\n",
    "    a.main_case_type,\n",
    "    a.FM_case_type,\n",
    "    a.receipt_date,\n",
    "    a.entry_date,\n",
    "    a.event,\n",
    "    a.event_model,\n",
    "    a.disp_type_code,\n",
    "    a.disp_type,\n",
    "    a.order_code,\n",
    "    a.order_desc,\n",
    "    a.child_role_id,\n",
    "    a.dob,\n",
    "    a.gender,\n",
    "    a.creating_court\n",
    "  FROM\n",
    "    __temp__.ca_disps_child_case_d a\n",
    "  UNION ALL\n",
    "  SELECT\n",
    "    a.case_number,\n",
    "    a.disp_date,\n",
    "    Year,\n",
    "    Quarter,\n",
    "    a.order_case_type,\n",
    "    a.main_case_type,\n",
    "    a.FM_case_type,\n",
    "    a.receipt_date,\n",
    "    a.entry_date,\n",
    "    a.event,\n",
    "    a.event_model,\n",
    "    a.disp_type_code,\n",
    "    a.disp_type,\n",
    "    a.order_code,\n",
    "    a.order_desc,\n",
    "    a.child_role_id,\n",
    "    a.dob,\n",
    "    a.gender,\n",
    "    a.creating_court\n",
    "  FROM\n",
    "    __temp__.ca_disps_no_child_d a\n",
    "\"\"\",\n",
    "\n",
    "\"ca_disps_all_children_d\")"
   ]
  }
 ],
 "metadata": {
  "kernelspec": {
   "display_name": "Python 3",
   "language": "python",
   "name": "python3"
  },
  "language_info": {
   "codemirror_mode": {
    "name": "ipython",
    "version": 3
   },
   "file_extension": ".py",
   "mimetype": "text/x-python",
   "name": "python",
   "nbconvert_exporter": "python",
   "pygments_lexer": "ipython3",
   "version": "3.9.4"
  }
 },
 "nbformat": 4,
 "nbformat_minor": 5
}
