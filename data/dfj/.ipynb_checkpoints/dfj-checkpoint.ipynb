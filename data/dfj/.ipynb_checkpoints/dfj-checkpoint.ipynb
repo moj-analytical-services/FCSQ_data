{
 "cells": [
  {
   "cell_type": "markdown",
   "id": "dad4cd0d-da36-42b3-9d96-67faadee00cb",
   "metadata": {
    "tags": []
   },
   "source": [
    "# CSV DFJ and Regional Level"
   ]
  },
  {
   "cell_type": "markdown",
   "id": "27ce77a5-41f7-46f4-950a-013bab46cf67",
   "metadata": {},
   "source": [
    "## Contents\n",
    "#### Setup\n",
    "1. [import_packages](#import_packages) \n",
    "\n",
    "#### Stage 1 - [CSV DFJ and Regional Level](#CSV_DFJ_and_Regional_Level)\n",
    "2. [divorce_dfj_table](#divorce_dfj_table) -  imports Divorce CSV dfj data from S3 bucket into a temporary table\n",
    "3. [fr_dfj_table](#fr_dfj_table) -  imports Financial Remedy CSV dfj data from S3 bucket into a temporary table\n",
    "4. [care_dfj_table](#care_dfj_table) -  imports Care and Supervision CSV dfj data from S3 bucket into a temporary table\n",
    "5. [dfj_temp](#dfj_temp) - joins all the CSV dfj outputs from each case type (Adoption, Care and Supervision, Domestic Violence, Divorce, Financial Remedy, Private Law, and Public Law)"
   ]
  },
  {
   "cell_type": "markdown",
   "id": "a7823761-9169-44fc-8aec-9dafd0b2f733",
   "metadata": {
    "tags": []
   },
   "source": [
    "## 1. Import packages and set options \n",
    "<a name=\"import_packages\"></a>"
   ]
  },
  {
   "cell_type": "code",
   "execution_count": null,
   "id": "d0054013-ce77-4625-8a91-fa995681284e",
   "metadata": {
    "tags": []
   },
   "outputs": [],
   "source": [
    "import pandas as pd  # a module which provides the data structures and functions to store and manipulate tables in dataframes\n",
    "import pydbtools as pydb  # A module which allows SQL queries to be run on the Analytical Platform from Python, see https://github.com/moj-analytical-services/pydbtools\n",
    "import boto3  # allows you to directly create, update, and delete AWS resources from Python scripts\n",
    "import numpy as np\n",
    "import re\n",
    "\n",
    "# sets parameters to view dataframes for tables easier\n",
    "pd.set_option(\"display.max_columns\", 100)\n",
    "pd.set_option(\"display.width\", 900)\n",
    "pd.set_option(\"display.max_colwidth\", 200)"
   ]
  },
  {
   "cell_type": "markdown",
   "id": "fd6f4453-f6af-4c83-bd30-42c2b5779e48",
   "metadata": {},
   "source": [
    "## Stage 1 - CSV DFJ and Regional Level\n",
    "<a name=\"CSV_DFJ_and_Regional_Level\"></a>"
   ]
  },
  {
   "cell_type": "markdown",
   "id": "8482a836-7c00-4f04-afd5-853ad730c768",
   "metadata": {},
   "source": [
    "### Import Divorce DFJ\n",
    "<a name=\"divorce_dfj_table\"></a>"
   ]
  },
  {
   "cell_type": "markdown",
   "id": "08e79896-659c-4a4f-8123-b93df92491f7",
   "metadata": {},
   "source": [
    "#### Create the divorce_dfj table"
   ]
  },
  {
   "cell_type": "code",
   "execution_count": null,
   "id": "5483b698-75d9-4307-8be6-7fc5f86c94d0",
   "metadata": {},
   "outputs": [],
   "source": [
    "#imports Divorce DFJ data from S3 bucket into a temporary table\n",
    "divorce_dfj_table = pd.read_csv(\"s3://alpha-family-data/CSVs/DFJ/Divorce_DFJ_CSV.csv\", low_memory=False)"
   ]
  },
  {
   "cell_type": "code",
   "execution_count": null,
   "id": "cf45692d-b777-447d-a0c8-197865ebd78c",
   "metadata": {},
   "outputs": [],
   "source": [
    "pydb.dataframe_to_temp_table(divorce_dfj_table, \"divorce_dfj\")"
   ]
  },
  {
   "cell_type": "markdown",
   "id": "b52fb019-200c-465b-9613-85e0d5412fb4",
   "metadata": {},
   "source": [
    "##### divorce_dfj validation"
   ]
  },
  {
   "cell_type": "code",
   "execution_count": null,
   "id": "792feb51-5c8d-4e42-a153-e446f9c1a496",
   "metadata": {
    "tags": []
   },
   "outputs": [],
   "source": [
    "#divorce_dfj_count = pydb.read_sql_query(\"SELECT * from __temp__.divorce_dfj limit 10\")\n",
    "#divorce_dfj_count"
   ]
  },
  {
   "cell_type": "markdown",
   "id": "85cf9020-df4b-4920-b0dc-237bcc004ac6",
   "metadata": {},
   "source": [
    "### Import Financial Remedy DFJ\n",
    "<a name=\"fr_dfj_table\"></a>"
   ]
  },
  {
   "cell_type": "markdown",
   "id": "91563986-74dd-47d6-a797-10f618852725",
   "metadata": {},
   "source": [
    "#### Create the fr_dfj table"
   ]
  },
  {
   "cell_type": "code",
   "execution_count": null,
   "id": "2483ef1d-b9fe-46a4-b84e-f5a7bae27585",
   "metadata": {},
   "outputs": [],
   "source": [
    "#imports Financial Remedy DFJ data from S3 bucket into a temporary table\n",
    "fr_dfj_table = pd.read_csv(\"s3://alpha-family-data/CSVs/DFJ/FR_DFJ.csv\", low_memory=False)"
   ]
  },
  {
   "cell_type": "code",
   "execution_count": null,
   "id": "17645bdc-0024-47d6-aa48-65beb30f8e54",
   "metadata": {},
   "outputs": [],
   "source": [
    "pydb.dataframe_to_temp_table(fr_dfj_table, \"fr_dfj\")"
   ]
  },
  {
   "cell_type": "markdown",
   "id": "3746f825-2e15-4ccf-9a84-dc517b0ada72",
   "metadata": {},
   "source": [
    "##### fr_dfj validation"
   ]
  },
  {
   "cell_type": "code",
   "execution_count": null,
   "id": "06dc80ff-d50c-49ce-ac4b-cd2f0dd827c9",
   "metadata": {
    "tags": []
   },
   "outputs": [],
   "source": [
    "#fr_dfj_count = pydb.read_sql_query(\"SELECT * from __temp__.fr_dfj limit 10\")\n",
    "#fr_dfj_count"
   ]
  },
  {
   "cell_type": "markdown",
   "id": "34915dd6-ae26-435c-aaf3-398d4fa444fb",
   "metadata": {},
   "source": [
    "### Import Care and Supervision DFJ\n",
    "<a name=\"care_dfj_table\"></a>\n",
    "\n",
    "#### *Temporary - once Public law amalgamation is complete and Children Act on the AP includes Public law timeliness - this code can be removed*"
   ]
  },
  {
   "cell_type": "markdown",
   "id": "f03ec921-137d-49ab-aa5c-7d98a88195ae",
   "metadata": {},
   "source": [
    "#### Create the care_dfj table"
   ]
  },
  {
   "cell_type": "code",
   "execution_count": null,
   "id": "fc5cf233-7398-4da5-b558-082f63dd640d",
   "metadata": {},
   "outputs": [],
   "source": [
    "#imports Care and Supervision DFJ data from S3 bucket into a temporary table\n",
    "care_dfj_table = pd.read_csv(\"s3://alpha-family-data/CSVs/DFJ/care_and_supervision_dfj.csv\", low_memory=False)"
   ]
  },
  {
   "cell_type": "code",
   "execution_count": null,
   "id": "fcbea69a-852c-4799-9264-19f77c9300ae",
   "metadata": {},
   "outputs": [],
   "source": [
    "pydb.dataframe_to_temp_table(care_dfj_table, \"care_dfj\")"
   ]
  },
  {
   "cell_type": "markdown",
   "id": "7fed677b-5d7d-4d00-a059-8a67c0fd05d0",
   "metadata": {},
   "source": [
    "##### care_dfj validation"
   ]
  },
  {
   "cell_type": "code",
   "execution_count": null,
   "id": "cb99d457-9ce1-4946-8a52-613d5ac27a6f",
   "metadata": {
    "tags": []
   },
   "outputs": [],
   "source": [
    "#care_dfj_count = pydb.read_sql_query(\"SELECT * from __temp__.care_dfj limit 10\")\n",
    "#care_dfj_count"
   ]
  },
  {
   "cell_type": "markdown",
   "id": "dcaaba54-b164-4ac8-94fc-1808a5dfcc88",
   "metadata": {},
   "source": [
    "### Final Output CSV Timeliness\n",
    "<a name=\"dfj_temp\"></a>"
   ]
  },
  {
   "cell_type": "code",
   "execution_count": null,
   "id": "1992a67b-a587-47c9-abcf-779a8fe7de5a",
   "metadata": {},
   "outputs": [],
   "source": [
    "pydb.create_temp_table(\n",
    "f\"\"\" \n",
    "SELECT * FROM fcsq.adopt_dfj\n",
    "\n",
    "UNION\n",
    "\n",
    "SELECT * FROM fcsq.ca_dfj\n",
    "\n",
    "UNION\n",
    "\n",
    "SELECT * FROM fcsq.domestic_violence_dfj\n",
    "\n",
    "UNION\n",
    "\n",
    "SELECT * FROM __temp__.fr_dfj\n",
    "\n",
    "UNION\n",
    "\n",
    "SELECT * FROM __temp__.care_dfj\n",
    "\n",
    "UNION\n",
    "\n",
    "SELECT *,\n",
    "NULL as cases\n",
    "FROM __temp__.divorce_dfj\n",
    "\n",
    "\"\"\",\n",
    "\n",
    "\"dfj_temp\")"
   ]
  },
  {
   "cell_type": "code",
   "execution_count": null,
   "id": "d8663e70-36f8-4ea5-b142-7be012035791",
   "metadata": {},
   "outputs": [],
   "source": [
    "#dfj_temp = pydb.read_sql_query(\"SELECT * FROM __temp__.dfj_temp;\")\n",
    "#dfj_temp"
   ]
  },
  {
   "cell_type": "code",
   "execution_count": null,
   "id": "d3a72136-7222-4066-8edb-ac6a716ef8f0",
   "metadata": {},
   "outputs": [],
   "source": [
    "#Orders the data by year, country, and county_ua\n",
    "dfj = pydb.read_sql_query(\"\"\"\n",
    "SELECT *\n",
    "from __temp__.dfj_temp\n",
    "ORDER BY category,\n",
    "stage,\n",
    "year,\n",
    "quarter,\n",
    "dfj_new,\n",
    "region\n",
    "\"\"\")"
   ]
  },
  {
   "cell_type": "code",
   "execution_count": null,
   "id": "1b315964-fff5-4986-af35-284f0166369a",
   "metadata": {},
   "outputs": [],
   "source": [
    "#Export the final csv\n",
    "dfj.to_csv(\"s3://alpha-family-data/CSVs/DFJ/CSV DFJ and Regional Level.csv\", index = False)"
   ]
  }
 ],
 "metadata": {
  "kernelspec": {
   "display_name": "Nixon FOI (Python3)",
   "language": "python",
   "name": "venv_nixonfoi"
  },
  "language_info": {
   "codemirror_mode": {
    "name": "ipython",
    "version": 3
   },
   "file_extension": ".py",
   "mimetype": "text/x-python",
   "name": "python",
   "nbconvert_exporter": "python",
   "pygments_lexer": "ipython3",
   "version": "3.9.6"
  }
 },
 "nbformat": 4,
 "nbformat_minor": 5
}
