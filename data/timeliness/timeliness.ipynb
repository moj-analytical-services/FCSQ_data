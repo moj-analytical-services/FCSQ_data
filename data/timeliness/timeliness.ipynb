{
 "cells": [
  {
   "cell_type": "markdown",
   "id": "dad4cd0d-da36-42b3-9d96-67faadee00cb",
   "metadata": {
    "tags": []
   },
   "source": [
    "# Table 10 and CSV Timeliness "
   ]
  },
  {
   "cell_type": "markdown",
   "id": "06bd8557-bf89-41c0-a6fe-54abfb21e841",
   "metadata": {},
   "source": [
    "## Contents\n",
    "#### Setup\n",
    "1. [import_packages](#import_packages) \n",
    "\n",
    "#### Stage 1 - [CSV Timeliness](#CSV_Timeliness)\n",
    "2. [divorce_csv_timeliness](#divorce_csv_timeliness) - imports Divorce CSV timeliness data from S3 bucket into a temporary table\n",
    "3. [fr_csv_timeliness](#fr_csv_timeliness) - imports Financial Remedy CSV timeliness data from S3 bucket into a temporary table\n",
    "4. [public_csv_timeliness](#public_csv_timeliness) - imports Children Act Public Law CSV timeliness data from S3 bucket into a temporary table\n",
    "5. [csv_timeliness_temp](#csv_timeliness_temp) - joins all the csv timeliness outputs from each case type (Adoption, Domestic Violence, Divorce, Financial Remedy, Private Law, and Public Law)\n",
    "\n",
    "#### Stage 2 - [Table 10 Timeliness](#Table_10_Timeliness)\n",
    "6. [div_t10_timeliness](#div_t10_timeliness) - imports Divorce Table 10 timeliness data from S3 bucket into a temporary table\n",
    "7. [fin_rem_t10_timeliness](#fin_rem_t10_timeliness) - imports Financial Remedy Table 10 timeliness data from S3 bucket into a temporary table\n",
    "8. [public_t10_timeliness](#public_t10_timeliness) - imports Children Act Public Law Table 10 timeliness data from S3 bucket into a temporary table\n",
    "9. [t10_timeliness_temp](#t10_timeliness_temp) - joins all the table 10 timeliness outputs from each case type (Adoption, Domestic Violence, Divorce, Financial Remedy, Private Law, and Public Law) and ammends the data types of the items stored in certain columns"
   ]
  },
  {
   "cell_type": "markdown",
   "id": "a7823761-9169-44fc-8aec-9dafd0b2f733",
   "metadata": {
    "tags": []
   },
   "source": [
    "## 1. Import packages and set options \n",
    "<a name=\"import_packages\"></a>"
   ]
  },
  {
   "cell_type": "code",
   "execution_count": null,
   "id": "d0054013-ce77-4625-8a91-fa995681284e",
   "metadata": {
    "tags": []
   },
   "outputs": [],
   "source": [
    "import pandas as pd  # a module which provides the data structures and functions to store and manipulate tables in dataframes\n",
    "import pydbtools as pydb  # A module which allows SQL queries to be run on the Analytical Platform from Python, see https://github.com/moj-analytical-services/pydbtools\n",
    "import boto3  # allows you to directly create, update, and delete AWS resources from Python scripts\n",
    "import numpy as np\n",
    "import re\n",
    "\n",
    "# sets parameters to view dataframes for tables easier\n",
    "pd.set_option(\"display.max_columns\", 100)\n",
    "pd.set_option(\"display.width\", 900)\n",
    "pd.set_option(\"display.max_colwidth\", 200)"
   ]
  },
  {
   "cell_type": "markdown",
   "id": "fd6f4453-f6af-4c83-bd30-42c2b5779e48",
   "metadata": {},
   "source": [
    "## Stage 1 - CSV Timeliness\n",
    "<a name=\"CSV_Timeliness\"></a>"
   ]
  },
  {
   "cell_type": "markdown",
   "id": "8482a836-7c00-4f04-afd5-853ad730c768",
   "metadata": {},
   "source": [
    "### Import Divorce CSV Timeliness\n",
    "<a name=\"divorce_csv_timeliness\"></a>"
   ]
  },
  {
   "cell_type": "markdown",
   "id": "08e79896-659c-4a4f-8123-b93df92491f7",
   "metadata": {},
   "source": [
    "#### Create the divorce_csv_timeliness table"
   ]
  },
  {
   "cell_type": "code",
   "execution_count": null,
   "id": "5483b698-75d9-4307-8be6-7fc5f86c94d0",
   "metadata": {},
   "outputs": [],
   "source": [
    "#imports Divorce CSV timeliness data from S3 bucket into a temporary table\n",
    "divorce_csv_timeliness_table = pd.read_csv(\"s3://alpha-family-data/CSVs/Timeliness/Nisi_rep_timeliness_csv.csv\", low_memory=False)"
   ]
  },
  {
   "cell_type": "code",
   "execution_count": null,
   "id": "cf45692d-b777-447d-a0c8-197865ebd78c",
   "metadata": {},
   "outputs": [],
   "source": [
    "pydb.dataframe_to_temp_table(divorce_csv_timeliness_table, \"divorce_csv_timeliness\")"
   ]
  },
  {
   "cell_type": "markdown",
   "id": "b52fb019-200c-465b-9613-85e0d5412fb4",
   "metadata": {},
   "source": [
    "##### divorce_csv_timeliness validation"
   ]
  },
  {
   "cell_type": "code",
   "execution_count": null,
   "id": "792feb51-5c8d-4e42-a153-e446f9c1a496",
   "metadata": {
    "tags": []
   },
   "outputs": [],
   "source": [
    "#divorce_csv_timeliness_count = pydb.read_sql_query(\"SELECT * from __temp__.divorce_csv_timeliness limit 10\")\n",
    "#divorce_csv_timeliness_count"
   ]
  },
  {
   "cell_type": "markdown",
   "id": "85cf9020-df4b-4920-b0dc-237bcc004ac6",
   "metadata": {},
   "source": [
    "### Import Financial Remedy CSV Timeliness\n",
    "<a name=\"fr_csv_timeliness\"></a>"
   ]
  },
  {
   "cell_type": "markdown",
   "id": "91563986-74dd-47d6-a797-10f618852725",
   "metadata": {},
   "source": [
    "#### Create the fr_csv_timeliness table"
   ]
  },
  {
   "cell_type": "code",
   "execution_count": null,
   "id": "2483ef1d-b9fe-46a4-b84e-f5a7bae27585",
   "metadata": {},
   "outputs": [],
   "source": [
    "#imports Financial Remedy CSV timeliness data from S3 bucket into a temporary table\n",
    "fr_csv_timeliness_table = pd.read_csv(\"s3://alpha-family-data/CSVs/Timeliness/fr_rep_timeliness_csv.csv\", low_memory=False)"
   ]
  },
  {
   "cell_type": "code",
   "execution_count": null,
   "id": "17645bdc-0024-47d6-aa48-65beb30f8e54",
   "metadata": {},
   "outputs": [],
   "source": [
    "pydb.dataframe_to_temp_table(fr_csv_timeliness_table, \"fr_csv_timeliness\")"
   ]
  },
  {
   "cell_type": "markdown",
   "id": "3746f825-2e15-4ccf-9a84-dc517b0ada72",
   "metadata": {},
   "source": [
    "##### fr_csv_timeliness validation"
   ]
  },
  {
   "cell_type": "code",
   "execution_count": null,
   "id": "06dc80ff-d50c-49ce-ac4b-cd2f0dd827c9",
   "metadata": {
    "tags": []
   },
   "outputs": [],
   "source": [
    "#fr_csv_timeliness_count = pydb.read_sql_query(\"SELECT * from __temp__.fr_csv_timeliness limit 10\")\n",
    "#fr_csv_timeliness_count"
   ]
  },
  {
   "cell_type": "markdown",
   "id": "34915dd6-ae26-435c-aaf3-398d4fa444fb",
   "metadata": {},
   "source": [
    "### Import Children Act Public Law CSV Timeliness \n",
    "<a name=\"public_csv_timeliness\"></a>\n",
    "\n",
    "#### *Temporary - once Public law amalgamation is complete and Children Act on the AP includes Public law timeliness - this code can be removed*"
   ]
  },
  {
   "cell_type": "markdown",
   "id": "f03ec921-137d-49ab-aa5c-7d98a88195ae",
   "metadata": {},
   "source": [
    "#### Create the public_csv_timeliness table"
   ]
  },
  {
   "cell_type": "code",
   "execution_count": null,
   "id": "fc5cf233-7398-4da5-b558-082f63dd640d",
   "metadata": {},
   "outputs": [],
   "source": [
    "#imports Children Act Public Law CSV timeliness data from S3 bucket into a temporary table\n",
    "public_csv_timeliness_table = pd.read_csv(\"s3://alpha-family-data/CSVs/Timeliness/public_csv_timeliness.csv\", low_memory=False)"
   ]
  },
  {
   "cell_type": "code",
   "execution_count": null,
   "id": "fcbea69a-852c-4799-9264-19f77c9300ae",
   "metadata": {},
   "outputs": [],
   "source": [
    "pydb.dataframe_to_temp_table(public_csv_timeliness_table, \"public_csv_timeliness\")"
   ]
  },
  {
   "cell_type": "markdown",
   "id": "7fed677b-5d7d-4d00-a059-8a67c0fd05d0",
   "metadata": {},
   "source": [
    "##### public_csv_timeliness validation"
   ]
  },
  {
   "cell_type": "code",
   "execution_count": null,
   "id": "cb99d457-9ce1-4946-8a52-613d5ac27a6f",
   "metadata": {
    "tags": []
   },
   "outputs": [],
   "source": [
    "#public_csv_timeliness_count = pydb.read_sql_query(\"SELECT * from __temp__.public_csv_timeliness limit 10\")\n",
    "#public_csv_timeliness_count"
   ]
  },
  {
   "cell_type": "markdown",
   "id": "dcaaba54-b164-4ac8-94fc-1808a5dfcc88",
   "metadata": {},
   "source": [
    "### Final Output CSV Timeliness\n",
    "<a name=\"csv_timeliness_temp\"></a>"
   ]
  },
  {
   "cell_type": "code",
   "execution_count": null,
   "id": "1992a67b-a587-47c9-abcf-779a8fe7de5a",
   "metadata": {},
   "outputs": [],
   "source": [
    "pydb.create_temp_table(\n",
    "f\"\"\" \n",
    "SELECT * FROM fcsq.adopt_csv_timeliness\n",
    "\n",
    "UNION\n",
    "\n",
    "SELECT * FROM fcsq.ca_csv_timeliness\n",
    "\n",
    "UNION\n",
    "\n",
    "SELECT * FROM __temp__.public_csv_timeliness\n",
    "\n",
    "UNION\n",
    "\n",
    "SELECT * FROM __temp__.divorce_csv_timeliness\n",
    "\n",
    "UNION\n",
    "\n",
    "SELECT * FROM fcsq.dv_csv_timeliness\n",
    "\n",
    "UNION\n",
    "\n",
    "SELECT * FROM __temp__.fr_csv_timeliness\n",
    "\"\"\",\n",
    "\n",
    "\"csv_timeliness_temp\")"
   ]
  },
  {
   "cell_type": "code",
   "execution_count": null,
   "id": "d8663e70-36f8-4ea5-b142-7be012035791",
   "metadata": {},
   "outputs": [],
   "source": [
    "#csv_timeliness_temp = pydb.read_sql_query(\"SELECT * FROM __temp__.csv_timeliness_temp;\")\n",
    "#csv_timeliness_temp"
   ]
  },
  {
   "cell_type": "code",
   "execution_count": null,
   "id": "d3a72136-7222-4066-8edb-ac6a716ef8f0",
   "metadata": {},
   "outputs": [],
   "source": [
    "#Orders the data by year, country, and county_ua\n",
    "csv_timeliness = pydb.read_sql_query(\"\"\"\n",
    "SELECT *\n",
    "from __temp__.csv_timeliness_temp\n",
    "ORDER BY case_type,\n",
    "region,\n",
    "representation,\n",
    "quarter\n",
    "\"\"\")"
   ]
  },
  {
   "cell_type": "code",
   "execution_count": null,
   "id": "1b315964-fff5-4986-af35-284f0166369a",
   "metadata": {},
   "outputs": [],
   "source": [
    "#Export the final csv\n",
    "csv_timeliness.to_csv(\"s3://alpha-family-data/CSVs/Timeliness/CSV Timeliness.csv\", index = False)"
   ]
  },
  {
   "cell_type": "markdown",
   "id": "0c55e950-54aa-4224-ac01-4fefbdca0524",
   "metadata": {},
   "source": [
    "## Stage 2 - Table 10 Timeliness\n",
    "<a name=\"Table_10_Timeliness\"></a>"
   ]
  },
  {
   "cell_type": "markdown",
   "id": "293648ee-a6f2-490a-bad9-5f1ecda38d7f",
   "metadata": {},
   "source": [
    "### Import Divorce Table 10 Timeliness\n",
    "<a name=\"div_t10_timeliness\"></a>"
   ]
  },
  {
   "cell_type": "markdown",
   "id": "6ad0eb1d-f508-4e35-b72f-534ca75af2da",
   "metadata": {},
   "source": [
    "#### Create the divorce_t10_timeliness table"
   ]
  },
  {
   "cell_type": "code",
   "execution_count": null,
   "id": "f10008c9-ef29-4ecc-aaa1-d2e2708ff3d5",
   "metadata": {},
   "outputs": [],
   "source": [
    "#imports Divorce T10 timeliness data from S3 bucket into a temporary table\n",
    "divorce_t10_timeliness_table = pd.read_csv(\"s3://alpha-family-data/CSVs/Timeliness/DIV_TABLE_10_LOOKUP.csv\", low_memory=False)"
   ]
  },
  {
   "cell_type": "code",
   "execution_count": null,
   "id": "73bcd83a-843e-4158-8703-e43b40405eda",
   "metadata": {},
   "outputs": [],
   "source": [
    "pydb.dataframe_to_temp_table(divorce_t10_timeliness_table, \"div_t10_timeliness\")"
   ]
  },
  {
   "cell_type": "markdown",
   "id": "59b697e1-2dcd-42c6-930a-46bcfe546ffd",
   "metadata": {},
   "source": [
    "##### divorce_t10_timeliness validation"
   ]
  },
  {
   "cell_type": "code",
   "execution_count": null,
   "id": "c99eb3ab-7acb-4973-a2ae-576afa9c2647",
   "metadata": {
    "tags": []
   },
   "outputs": [],
   "source": [
    "#div_t10_timeliness_count = pydb.read_sql_query(\"SELECT * from __temp__.div_t10_timeliness limit 10\")\n",
    "#div_t10_timeliness_count"
   ]
  },
  {
   "cell_type": "markdown",
   "id": "48bac5fa-3151-41ab-b233-d913da8c2184",
   "metadata": {},
   "source": [
    "### Import Financial Remedy Table 10 Timeliness\n",
    "<a name=\"fin_rem_t10_timeliness\"></a>"
   ]
  },
  {
   "cell_type": "markdown",
   "id": "804f2dbe-5198-407b-9541-b615861c694e",
   "metadata": {},
   "source": [
    "#### Create the fr_t10_timeliness table"
   ]
  },
  {
   "cell_type": "code",
   "execution_count": null,
   "id": "b28a2529-3786-4cb4-93ac-e0448fae992d",
   "metadata": {},
   "outputs": [],
   "source": [
    "#imports Financial Remedy T10 timeliness data from S3 bucket into a temporary table\n",
    "fin_rem_t10_timeliness_table = pd.read_csv(\"s3://alpha-family-data/CSVs/Timeliness/FR_TABLE_10_LOOKUP.csv\", low_memory=False)"
   ]
  },
  {
   "cell_type": "code",
   "execution_count": null,
   "id": "0a1fe0d1-2080-4e15-8446-ff2e8fd64414",
   "metadata": {},
   "outputs": [],
   "source": [
    "pydb.dataframe_to_temp_table(fin_rem_t10_timeliness_table, \"fin_rem_t10_timeliness\")"
   ]
  },
  {
   "cell_type": "markdown",
   "id": "a2d569d1-b168-4bd3-bcfa-6bab3122e80c",
   "metadata": {},
   "source": [
    "##### fr_t10_timeliness validation"
   ]
  },
  {
   "cell_type": "code",
   "execution_count": null,
   "id": "2b1c082d-53c3-497e-a06c-c5d281ce2a9e",
   "metadata": {
    "tags": []
   },
   "outputs": [],
   "source": [
    "#fin_rem_t10_timeliness_count = pydb.read_sql_query(\"SELECT * from __temp__.fin_rem_t10_timeliness limit 10\")\n",
    "#fin_rem_t10_timeliness_count"
   ]
  },
  {
   "cell_type": "markdown",
   "id": "f639d5b0-ccb0-4d53-b005-ea706de8480a",
   "metadata": {},
   "source": [
    "### Import Children Act Public Law Table 10 Timeliness \n",
    "<a name=\"public_t10_timeliness\"></a>\n",
    "\n",
    "#### *Temporary - once Public law amalgamation is complete and Children Act on the AP includes Public law timeliness - this code can be removed*"
   ]
  },
  {
   "cell_type": "markdown",
   "id": "5ce90df0-5b80-441d-b8ee-927a5873261b",
   "metadata": {},
   "source": [
    "#### Create the public_t10_timeliness table"
   ]
  },
  {
   "cell_type": "code",
   "execution_count": null,
   "id": "f6808570-f836-4141-9c7a-6ab2695c637e",
   "metadata": {},
   "outputs": [],
   "source": [
    "#imports Children Act Public Law T10 timeliness data from S3 bucket into a temporary table\n",
    "public_t10_timeliness_table = pd.read_csv(\"s3://alpha-family-data/CSVs/Timeliness/public_t10_timeliness.csv\", low_memory=False)"
   ]
  },
  {
   "cell_type": "code",
   "execution_count": null,
   "id": "c76baacc-8d7c-4036-8811-04534bcccc85",
   "metadata": {},
   "outputs": [],
   "source": [
    "pydb.dataframe_to_temp_table(public_t10_timeliness_table, \"public_t10_timeliness\")"
   ]
  },
  {
   "cell_type": "markdown",
   "id": "b7d10013-bee1-4b31-9325-8546e90d6b1a",
   "metadata": {},
   "source": [
    "##### public_t10_timeliness validation"
   ]
  },
  {
   "cell_type": "code",
   "execution_count": null,
   "id": "b979c933-5c3b-4379-8a3b-1fff1b66dabb",
   "metadata": {
    "tags": []
   },
   "outputs": [],
   "source": [
    "#public_t10_timeliness_count = pydb.read_sql_query(\"SELECT * from __temp__.public_t10_timeliness limit 10\")\n",
    "#public_t10_timeliness_count"
   ]
  },
  {
   "cell_type": "markdown",
   "id": "81bc25f9-53a3-4d1e-8158-4588ef59b30a",
   "metadata": {},
   "source": [
    "### Final Output Table 10 Timeliness\n",
    "<a name=\"t10_timeliness_temp\"></a>"
   ]
  },
  {
   "cell_type": "code",
   "execution_count": null,
   "id": "95022956-adad-4e54-9ccc-d7840ad4cca2",
   "metadata": {},
   "outputs": [],
   "source": [
    "pydb.create_temp_table(\n",
    "f\"\"\" \n",
    "SELECT *\n",
    "FROM fcsq.adopt_t10_timeliness\n",
    "\n",
    "UNION \n",
    "\n",
    "SELECT lookup,\n",
    "both_n as \"1_bothn\",\n",
    "both_mean as \"1_bothmean\",\n",
    "applicant_n as \"2_applicantn\",\n",
    "applicant_mean as \"2_applicantmean\",\n",
    "respondent_n as \"3_respondentn\",\n",
    "respondent_mean as \"3_respondentmean\",\n",
    "neither_n as \"4_neithern\",\n",
    "neither_mean as \"4_neithermean\",\n",
    "NULL as \"5_unknownn\",\n",
    "NULL as \"5_unknownmean\",\n",
    "all_n as \"alln\",\n",
    "all_mean as \"allmean\"\n",
    "FROM fcsq.ca_t10_timeliness\n",
    "\n",
    "UNION \n",
    "\n",
    "SELECT * FROM fcsq.dv_t10_timeliness\n",
    "\n",
    "UNION\n",
    "\n",
    "SELECT \n",
    "lookup,\n",
    "CAST(both_n as bigint) as \"1_bothn\",\n",
    "CAST(both_mean as double) as \"1_bothmean\",\n",
    "CAST(applicant_n as bigint) as \"2_applicantn\",\n",
    "CAST(applicant_mean as double) as \"2_applicantmean\",\n",
    "CAST(respondent_n as bigint) as \"3_respondentn\",\n",
    "CAST(respondent_mean as double) as \"3_respondentmean\",\n",
    "CAST(neither_n as bigint) as \"4_neithern\",\n",
    "CAST(neither_mean as double) as \"4_neithermean\",\n",
    "CAST(REPLACE(unknown_n, '.', NULL) as bigint) as \"5_unknownn\",\n",
    "CAST(REPLACE(unknown_mean, '.', NULL) as double) as \"5_unknownmean\",\n",
    "CAST(all_n as bigint) as \"alln\",\n",
    "CAST(all_mean as double) as \"allmean\"\n",
    "\n",
    "FROM __temp__.fin_rem_t10_timeliness\n",
    "\n",
    "UNION \n",
    "\n",
    "SELECT\n",
    "lookup,\n",
    "CAST(both_n as bigint) as \"1_bothn\",\n",
    "CAST(both_mean as double) as \"1_bothmean\",\n",
    "CAST(applicant_n as bigint) as \"2_applicantn\",\n",
    "CAST(applicant_mean as double) as \"2_applicantmean\",\n",
    "CAST(respondent_n as bigint) as \"3_respondentn\",\n",
    "CAST(respondent_mean as double) as \"3_respondentmean\",\n",
    "CAST(neither_n as bigint) as \"4_neithern\",\n",
    "CAST(neither_mean as double) as \"4_neithermean\",\n",
    "CAST(REPLACE(unknown_n, '.', NULL) as bigint) as \"5_unknownn\",\n",
    "CAST(REPLACE(unknown_mean, '.', NULL) as double) as \"5_unknownmean\",\n",
    "CAST(all_n as bigint) as \"alln\",\n",
    "CAST(all_mean as double) as \"allmean\" \n",
    "\n",
    "FROM __temp__.div_t10_timeliness\n",
    "\n",
    "UNION \n",
    "\n",
    "SELECT \n",
    "lookup,\n",
    "CAST(\"1_bothn\" as bigint) as \"1_bothn\",\n",
    "CAST(\"1_bothmean\" as double) as \"1_bothmean\",\n",
    "CAST(\"2_applicant_onlyn\" as bigint) as \"2_applicantn\",\n",
    "CAST(\"2_applicant_onlymean\" as double) as \"2_applicantmean\",\n",
    "CAST(\"3_respondent_onlyn\" as bigint) as \"3_respondentn\",\n",
    "CAST(\"3_respondent_onlymean\" as double) as \"3_respondentmean\",\n",
    "CAST(\"4_neithern\" as bigint) as \"4_neithern\",\n",
    "CAST(\"4_neithermean\" as double) as \"4_neithermean\",\n",
    "CAST(\"5_unknownn\" as bigint) as \"5_unknownn\",\n",
    "CAST(\"5_unknownmean\" as double) as \"5_unknownmean\",\n",
    "CAST(\"alln\" as bigint) as \"alln\",\n",
    "CAST(\"allmean\" as double) as \"allmean\" \n",
    "\n",
    "FROM __temp__.public_t10_timeliness\n",
    "\n",
    "\"\"\",\n",
    "\n",
    "\"t10_timeliness_temp\")"
   ]
  },
  {
   "cell_type": "code",
   "execution_count": null,
   "id": "b497dfbb-776e-4d5b-b7e0-071f74b37225",
   "metadata": {},
   "outputs": [],
   "source": [
    "t10_timeliness_temp = pydb.read_sql_query(\"SELECT * FROM __temp__.t10_timeliness_temp;\")\n",
    "t10_timeliness_temp"
   ]
  },
  {
   "cell_type": "code",
   "execution_count": null,
   "id": "9323ecd0-0a45-48c2-a3c3-097318b11e5c",
   "metadata": {},
   "outputs": [],
   "source": [
    "#Orders the data by year, country, and county_ua\n",
    "t10_timeliness = pydb.read_sql_query(\"\"\"\n",
    "SELECT *\n",
    "from __temp__.t10_timeliness_temp\n",
    "ORDER BY lookup\n",
    "\"\"\")"
   ]
  },
  {
   "cell_type": "code",
   "execution_count": null,
   "id": "6055813c-dfe8-4b25-b7fe-0288a73ab9cd",
   "metadata": {},
   "outputs": [],
   "source": [
    "#Export the final csv\n",
    "t10_timeliness.to_csv(\"s3://alpha-family-data/CSVs/Timeliness/Table_10_lookup.csv\", index = False)"
   ]
  }
 ],
 "metadata": {
  "kernelspec": {
   "display_name": "FCSQ (Python3)",
   "language": "python",
   "name": "fcsq"
  },
  "language_info": {
   "codemirror_mode": {
    "name": "ipython",
    "version": 3
   },
   "file_extension": ".py",
   "mimetype": "text/x-python",
   "name": "python",
   "nbconvert_exporter": "python",
   "pygments_lexer": "ipython3",
   "version": "3.9.4"
  }
 },
 "nbformat": 4,
 "nbformat_minor": 5
}
