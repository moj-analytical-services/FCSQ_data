{
 "cells": [
  {
   "cell_type": "markdown",
   "id": "dad4cd0d-da36-42b3-9d96-67faadee00cb",
   "metadata": {
    "tags": []
   },
   "source": [
    "# Table 10 and CSV Timeliness "
   ]
  },
  {
   "cell_type": "markdown",
   "id": "a7823761-9169-44fc-8aec-9dafd0b2f733",
   "metadata": {
    "tags": []
   },
   "source": [
    "## 1. Import packages and set options \n",
    "<a name=\"import_packages\"></a>"
   ]
  },
  {
   "cell_type": "code",
   "execution_count": null,
   "id": "d0054013-ce77-4625-8a91-fa995681284e",
   "metadata": {
    "tags": []
   },
   "outputs": [],
   "source": [
    "import pandas as pd  # a module which provides the data structures and functions to store and manipulate tables in dataframes\n",
    "import pydbtools as pydb  # A module which allows SQL queries to be run on the Analytical Platform from Python, see https://github.com/moj-analytical-services/pydbtools\n",
    "import boto3  # allows you to directly create, update, and delete AWS resources from Python scripts\n",
    "import numpy as np\n",
    "import re\n",
    "\n",
    "# sets parameters to view dataframes for tables easier\n",
    "pd.set_option(\"display.max_columns\", 100)\n",
    "pd.set_option(\"display.width\", 900)\n",
    "pd.set_option(\"display.max_colwidth\", 200)"
   ]
  },
  {
   "cell_type": "markdown",
   "id": "fd6f4453-f6af-4c83-bd30-42c2b5779e48",
   "metadata": {},
   "source": [
    "## Stage 1 - CSV Timeliness"
   ]
  },
  {
   "cell_type": "markdown",
   "id": "598e4012-f200-4bed-a240-71b592a7b4b0",
   "metadata": {},
   "source": [
    "### Import Domestic Violence CSV Timeliness"
   ]
  },
  {
   "cell_type": "markdown",
   "id": "65dfbaa8-88fb-4abb-a5d5-ad23c9e91fcf",
   "metadata": {},
   "source": [
    "#### Create the dv_csv_timeliness table"
   ]
  },
  {
   "cell_type": "code",
   "execution_count": null,
   "id": "fb7d415e-7337-40e0-84e4-107d83dcd550",
   "metadata": {},
   "outputs": [],
   "source": [
    "#imports DV CSV timeliness data from S3 bucket into a temporary table\n",
    "dv_csv_timeliness_table = pd.read_csv(\"s3://alpha-family-data/CSVs/Timeliness/dv_csv_timeliness.csv\", low_memory=False)"
   ]
  },
  {
   "cell_type": "code",
   "execution_count": null,
   "id": "74452c92-e791-48a5-a09b-2783a732eecc",
   "metadata": {},
   "outputs": [],
   "source": [
    "pydb.dataframe_to_temp_table(dv_csv_timeliness_table, \"dv_csv_timeliness\")"
   ]
  },
  {
   "cell_type": "markdown",
   "id": "6f26da03-58a4-4fc3-bd63-50d77ee1d5b1",
   "metadata": {},
   "source": [
    "##### dv_csv_timeliness validation"
   ]
  },
  {
   "cell_type": "code",
   "execution_count": null,
   "id": "1ce41ca4-f78d-4ecc-98e3-b88393b9e1fe",
   "metadata": {},
   "outputs": [],
   "source": [
    "#dv_csv_timeliness_count = pydb.read_sql_query(\"SELECT * from __temp__.dv_csv_timeliness limit 10\")\n",
    "#dv_csv_timeliness_count"
   ]
  },
  {
   "cell_type": "markdown",
   "id": "d1d7fbc9-15d1-419f-aeb4-cb8effc22bd9",
   "metadata": {},
   "source": [
    "### Import Adoption CSV Timeliness"
   ]
  },
  {
   "cell_type": "markdown",
   "id": "73838c2b-501d-41ad-887a-bf8d157568a9",
   "metadata": {},
   "source": [
    "#### Create the adopt_csv_timeliness table"
   ]
  },
  {
   "cell_type": "code",
   "execution_count": null,
   "id": "62b9eabe-013d-48fc-b20a-a7285b73992d",
   "metadata": {},
   "outputs": [],
   "source": [
    "#imports Adoption CSV timeliness data from S3 bucket into a temporary table\n",
    "adopt_csv_timeliness_table = pd.read_csv(\"s3://alpha-family-data/CSVs/Timeliness/adopt_csv_timeliness.csv\", low_memory=False)"
   ]
  },
  {
   "cell_type": "code",
   "execution_count": null,
   "id": "cb54a4cb-b0c2-46c2-bc0b-879d5d1426d9",
   "metadata": {},
   "outputs": [],
   "source": [
    "pydb.dataframe_to_temp_table(adopt_csv_timeliness_table, \"adopt_csv_timeliness\")"
   ]
  },
  {
   "cell_type": "markdown",
   "id": "8168566a-3711-48c6-a156-87649bfd623b",
   "metadata": {},
   "source": [
    "##### adopt_csv_timeliness validation"
   ]
  },
  {
   "cell_type": "code",
   "execution_count": null,
   "id": "31f76cc0-c63a-4821-a45e-d1de790ae0d1",
   "metadata": {},
   "outputs": [],
   "source": [
    "#adopt_csv_timeliness_count = pydb.read_sql_query(\"SELECT * from __temp__.adopt_csv_timeliness limit 10\")\n",
    "#adopt_csv_timeliness_count"
   ]
  },
  {
   "cell_type": "markdown",
   "id": "28c53d2a-e144-4669-bbce-53a93192dc29",
   "metadata": {},
   "source": [
    "### Import Children Act CSV Timeliness"
   ]
  },
  {
   "cell_type": "markdown",
   "id": "8d903e90-6f44-45a4-8015-50f38fe87476",
   "metadata": {},
   "source": [
    "#### Create the ca_csv_timeliness table"
   ]
  },
  {
   "cell_type": "code",
   "execution_count": null,
   "id": "cde7d6bc-2c7e-415f-8063-9e074aaf803c",
   "metadata": {},
   "outputs": [],
   "source": [
    "#imports Children Act CSV timeliness data from S3 bucket into a temporary table\n",
    "ca_csv_timeliness_table = pd.read_csv(\"s3://alpha-family-data/CSVs/Timeliness/ca_time_csv.csv\", low_memory=False)"
   ]
  },
  {
   "cell_type": "code",
   "execution_count": null,
   "id": "1e897d0b-096f-439c-bec7-f30f159b1e3b",
   "metadata": {},
   "outputs": [],
   "source": [
    "pydb.dataframe_to_temp_table(ca_csv_timeliness_table, \"ca_csv_timeliness\")"
   ]
  },
  {
   "cell_type": "markdown",
   "id": "871de2f2-d7b5-4113-adcc-b1d4f10d08ed",
   "metadata": {},
   "source": [
    "##### ca_csv_timeliness validation"
   ]
  },
  {
   "cell_type": "code",
   "execution_count": null,
   "id": "07133ee7-7be3-434e-b560-45542e6fa9a2",
   "metadata": {
    "tags": []
   },
   "outputs": [],
   "source": [
    "#ca_csv_timeliness_count = pydb.read_sql_query(\"SELECT * from __temp__.ca_csv_timeliness limit 10\")\n",
    "#ca_csv_timeliness_count"
   ]
  },
  {
   "cell_type": "markdown",
   "id": "8482a836-7c00-4f04-afd5-853ad730c768",
   "metadata": {},
   "source": [
    "### Import Divorce CSV Timeliness"
   ]
  },
  {
   "cell_type": "markdown",
   "id": "08e79896-659c-4a4f-8123-b93df92491f7",
   "metadata": {},
   "source": [
    "#### Create the divorce_csv_timeliness table"
   ]
  },
  {
   "cell_type": "code",
   "execution_count": null,
   "id": "5483b698-75d9-4307-8be6-7fc5f86c94d0",
   "metadata": {},
   "outputs": [],
   "source": [
    "#imports Divorce CSV timeliness data from S3 bucket into a temporary table\n",
    "divorce_csv_timeliness_table = pd.read_csv(\"s3://alpha-family-data/CSVs/Timeliness/Nisi_rep_timeliness_csv.csv\", low_memory=False)"
   ]
  },
  {
   "cell_type": "code",
   "execution_count": null,
   "id": "cf45692d-b777-447d-a0c8-197865ebd78c",
   "metadata": {},
   "outputs": [],
   "source": [
    "pydb.dataframe_to_temp_table(divorce_csv_timeliness_table, \"divorce_csv_timeliness\")"
   ]
  },
  {
   "cell_type": "markdown",
   "id": "b52fb019-200c-465b-9613-85e0d5412fb4",
   "metadata": {},
   "source": [
    "##### divorce_csv_timeliness validation"
   ]
  },
  {
   "cell_type": "code",
   "execution_count": null,
   "id": "792feb51-5c8d-4e42-a153-e446f9c1a496",
   "metadata": {
    "tags": []
   },
   "outputs": [],
   "source": [
    "#divorce_csv_timeliness_count = pydb.read_sql_query(\"SELECT * from __temp__.divorce_csv_timeliness limit 10\")\n",
    "#divorce_csv_timeliness_count"
   ]
  },
  {
   "cell_type": "markdown",
   "id": "85cf9020-df4b-4920-b0dc-237bcc004ac6",
   "metadata": {},
   "source": [
    "### Import Financial Remedy CSV Timeliness *CHECK*"
   ]
  },
  {
   "cell_type": "markdown",
   "id": "91563986-74dd-47d6-a797-10f618852725",
   "metadata": {},
   "source": [
    "#### Create the fr_csv_timeliness table"
   ]
  },
  {
   "cell_type": "code",
   "execution_count": null,
   "id": "2483ef1d-b9fe-46a4-b84e-f5a7bae27585",
   "metadata": {},
   "outputs": [],
   "source": [
    "#imports Financial Remedy CSV timeliness data from S3 bucket into a temporary table\n",
    "fr_csv_timeliness_table = pd.read_csv(\"s3://alpha-family-data/CSVs/Timeliness/fr_rep_timeliness_csv.csv\", low_memory=False)"
   ]
  },
  {
   "cell_type": "code",
   "execution_count": null,
   "id": "17645bdc-0024-47d6-aa48-65beb30f8e54",
   "metadata": {},
   "outputs": [],
   "source": [
    "pydb.dataframe_to_temp_table(fr_csv_timeliness_table, \"fr_csv_timeliness\")"
   ]
  },
  {
   "cell_type": "markdown",
   "id": "3746f825-2e15-4ccf-9a84-dc517b0ada72",
   "metadata": {},
   "source": [
    "##### fr_csv_timeliness validation"
   ]
  },
  {
   "cell_type": "code",
   "execution_count": null,
   "id": "06dc80ff-d50c-49ce-ac4b-cd2f0dd827c9",
   "metadata": {
    "tags": []
   },
   "outputs": [],
   "source": [
    "#fr_csv_timeliness_count = pydb.read_sql_query(\"SELECT * from __temp__.fr_csv_timeliness limit 10\")\n",
    "#fr_csv_timeliness_count"
   ]
  },
  {
   "cell_type": "markdown",
   "id": "34915dd6-ae26-435c-aaf3-398d4fa444fb",
   "metadata": {},
   "source": [
    "### Import Children Act Public Law CSV Timeliness \n",
    "\n",
    "#### *Temporary - once Public law amalgamation is complete and Children Act on the AP includes Public law timeliness - this code can be removed*"
   ]
  },
  {
   "cell_type": "markdown",
   "id": "f03ec921-137d-49ab-aa5c-7d98a88195ae",
   "metadata": {},
   "source": [
    "#### Create the public_csv_timeliness table"
   ]
  },
  {
   "cell_type": "code",
   "execution_count": null,
   "id": "fc5cf233-7398-4da5-b558-082f63dd640d",
   "metadata": {},
   "outputs": [],
   "source": [
    "#imports Children Act Public Law CSV timeliness data from S3 bucket into a temporary table\n",
    "public_csv_timeliness_table = pd.read_csv(\"s3://alpha-family-data/CSVs/Timeliness/public_csv_timeliness.csv\", low_memory=False)"
   ]
  },
  {
   "cell_type": "code",
   "execution_count": null,
   "id": "fcbea69a-852c-4799-9264-19f77c9300ae",
   "metadata": {},
   "outputs": [],
   "source": [
    "pydb.dataframe_to_temp_table(public_csv_timeliness_table, \"public_csv_timeliness\")"
   ]
  },
  {
   "cell_type": "markdown",
   "id": "7fed677b-5d7d-4d00-a059-8a67c0fd05d0",
   "metadata": {},
   "source": [
    "##### public_csv_timeliness validation"
   ]
  },
  {
   "cell_type": "code",
   "execution_count": null,
   "id": "cb99d457-9ce1-4946-8a52-613d5ac27a6f",
   "metadata": {
    "tags": []
   },
   "outputs": [],
   "source": [
    "#public_csv_timeliness_count = pydb.read_sql_query(\"SELECT * from __temp__.public_csv_timeliness limit 10\")\n",
    "#public_csv_timeliness_count"
   ]
  },
  {
   "cell_type": "markdown",
   "id": "dcaaba54-b164-4ac8-94fc-1808a5dfcc88",
   "metadata": {},
   "source": [
    "### Final Output CSV Timeliness"
   ]
  },
  {
   "cell_type": "code",
   "execution_count": null,
   "id": "1992a67b-a587-47c9-abcf-779a8fe7de5a",
   "metadata": {},
   "outputs": [],
   "source": [
    "pydb.create_temp_table(\n",
    "f\"\"\" \n",
    "SELECT * FROM __temp__.adopt_csv_timeliness\n",
    "\n",
    "UNION\n",
    "\n",
    "SELECT * FROM __temp__.ca_csv_timeliness\n",
    "\n",
    "UNION\n",
    "\n",
    "SELECT * FROM __temp__.public_csv_timeliness\n",
    "\n",
    "UNION\n",
    "\n",
    "SELECT * FROM __temp__.divorce_csv_timeliness\n",
    "\n",
    "UNION\n",
    "\n",
    "SELECT * FROM __temp__.dv_csv_timeliness\n",
    "\n",
    "UNION\n",
    "\n",
    "SELECT * FROM __temp__.fr_csv_timeliness\n",
    "\"\"\",\n",
    "\n",
    "\"csv_timeliness_temp\")"
   ]
  },
  {
   "cell_type": "code",
   "execution_count": null,
   "id": "d8663e70-36f8-4ea5-b142-7be012035791",
   "metadata": {},
   "outputs": [],
   "source": [
    "#csv_timeliness_temp = pydb.read_sql_query(\"SELECT * FROM __temp__.csv_timeliness_temp;\")\n",
    "#csv_timeliness_temp"
   ]
  },
  {
   "cell_type": "code",
   "execution_count": null,
   "id": "d3a72136-7222-4066-8edb-ac6a716ef8f0",
   "metadata": {},
   "outputs": [],
   "source": [
    "#Orders the data by year, country, and county_ua\n",
    "csv_timeliness = pydb.read_sql_query(\"\"\"\n",
    "SELECT *\n",
    "from __temp__.csv_timeliness_temp\n",
    "ORDER BY case_type,\n",
    "region,\n",
    "representation,\n",
    "quarter\n",
    "\"\"\")"
   ]
  },
  {
   "cell_type": "code",
   "execution_count": null,
   "id": "1b315964-fff5-4986-af35-284f0166369a",
   "metadata": {},
   "outputs": [],
   "source": [
    "#Export the final csv\n",
    "csv_timeliness.to_csv(\"s3://alpha-family-data/CSVs/Timeliness/CSV Timeliness.csv\", index = False)"
   ]
  },
  {
   "cell_type": "markdown",
   "id": "0c55e950-54aa-4224-ac01-4fefbdca0524",
   "metadata": {},
   "source": [
    "## Stage 2 - Table 10 Timeliness"
   ]
  },
  {
   "cell_type": "markdown",
   "id": "e3b1a533-4ea6-4499-b1cf-50419c0a006c",
   "metadata": {},
   "source": [
    "### Import Domestic Violence Table 10 Timeliness"
   ]
  },
  {
   "cell_type": "markdown",
   "id": "86963ae4-ee76-4a18-9a51-71fd8302dab1",
   "metadata": {},
   "source": [
    "#### Create the dv_t10_timeliness table"
   ]
  },
  {
   "cell_type": "code",
   "execution_count": null,
   "id": "ae9f72ff-06b6-4a52-8a0d-d6038c4dcf36",
   "metadata": {},
   "outputs": [],
   "source": [
    "#imports DV T10 timeliness data from S3 bucket into a temporary table\n",
    "dv_t10_timeliness_table = pd.read_csv(\"s3://alpha-family-data/CSVs/Timeliness/dv_t10_timeliness.csv\", low_memory=False)"
   ]
  },
  {
   "cell_type": "code",
   "execution_count": null,
   "id": "f38bfece-50de-44f9-a4ef-cc55a6a4fee2",
   "metadata": {},
   "outputs": [],
   "source": [
    "pydb.dataframe_to_temp_table(dv_t10_timeliness_table, \"dv_t10_timeliness\")"
   ]
  },
  {
   "cell_type": "markdown",
   "id": "b59acb7d-253b-46c7-9075-1ffb0a576e6d",
   "metadata": {},
   "source": [
    "##### dv_t10_timeliness validation"
   ]
  },
  {
   "cell_type": "code",
   "execution_count": null,
   "id": "490f16de-9bd9-459f-ac49-0223f45d7361",
   "metadata": {},
   "outputs": [],
   "source": [
    "#dv_t10_timeliness_count = pydb.read_sql_query(\"SELECT * from __temp__.dv_t10_timeliness limit 10\")\n",
    "#dv_t10_timeliness_count"
   ]
  },
  {
   "cell_type": "markdown",
   "id": "5d787a60-0d75-484e-9b58-b88ef32fc0e0",
   "metadata": {},
   "source": [
    "### Import Adoption Table 10 Timeliness"
   ]
  },
  {
   "cell_type": "markdown",
   "id": "c8a7fac3-abe4-47b3-b764-a9faeaf0b2d2",
   "metadata": {},
   "source": [
    "#### Create the adopt_t10_timeliness table"
   ]
  },
  {
   "cell_type": "code",
   "execution_count": null,
   "id": "7f4327ab-1b72-4f62-b70b-0a2df0d36538",
   "metadata": {},
   "outputs": [],
   "source": [
    "#imports Adoption T10 timeliness data from S3 bucket into a temporary table\n",
    "adopt_t10_timeliness_table = pd.read_csv(\"s3://alpha-family-data/CSVs/Timeliness/adopt_t10_timeliness.csv\", low_memory=False)"
   ]
  },
  {
   "cell_type": "code",
   "execution_count": null,
   "id": "65a63ad6-9af8-4a76-a8e5-5de04d060305",
   "metadata": {},
   "outputs": [],
   "source": [
    "pydb.dataframe_to_temp_table(adopt_t10_timeliness_table, \"adopt_t10_timeliness\")"
   ]
  },
  {
   "cell_type": "markdown",
   "id": "45fddf46-874b-4fbc-833c-e1fcd4659038",
   "metadata": {},
   "source": [
    "##### adopt_t10_timeliness validation"
   ]
  },
  {
   "cell_type": "code",
   "execution_count": null,
   "id": "3ad1c755-0e70-4995-8cb5-dd05dc341e2b",
   "metadata": {},
   "outputs": [],
   "source": [
    "#adopt_t10_timeliness_count = pydb.read_sql_query(\"SELECT * from __temp__.adopt_t10_timeliness limit 10\")\n",
    "#adopt_t10_timeliness_count"
   ]
  },
  {
   "cell_type": "markdown",
   "id": "bcad62cb-64a4-47c8-a764-79c005f4d2c3",
   "metadata": {},
   "source": [
    "### Import Children Act Table 10 Timeliness"
   ]
  },
  {
   "cell_type": "markdown",
   "id": "a9d4f969-4c8f-4a18-a7c8-f0595fe8c940",
   "metadata": {},
   "source": [
    "#### Create the ca_t10_timeliness table"
   ]
  },
  {
   "cell_type": "code",
   "execution_count": null,
   "id": "74539086-1317-41fe-bef0-c145c9efdb10",
   "metadata": {},
   "outputs": [],
   "source": [
    "#imports Children Act T10 timeliness data from S3 bucket into a temporary table\n",
    "child_act_t10_timeliness_table = pd.read_csv(\"s3://alpha-family-data/CSVs/Timeliness/ca_time_lookup.csv\", low_memory=False)"
   ]
  },
  {
   "cell_type": "code",
   "execution_count": null,
   "id": "5062e03e-5528-4f25-b694-deb6c4dab070",
   "metadata": {},
   "outputs": [],
   "source": [
    "pydb.dataframe_to_temp_table(child_act_t10_timeliness_table, \"child_act_t10_timeliness\")"
   ]
  },
  {
   "cell_type": "markdown",
   "id": "18d42974-5387-4838-b03e-a7b27ac95e5b",
   "metadata": {},
   "source": [
    "##### ca_t10_timeliness validation"
   ]
  },
  {
   "cell_type": "code",
   "execution_count": null,
   "id": "67865657-b5ff-4d5a-a4b5-a3e2b562885d",
   "metadata": {
    "tags": []
   },
   "outputs": [],
   "source": [
    "#child_act_t10_timeliness_count = pydb.read_sql_query(\"SELECT * from __temp__.child_act_t10_timeliness limit 10\")\n",
    "#child_act_t10_timeliness_count"
   ]
  },
  {
   "cell_type": "markdown",
   "id": "293648ee-a6f2-490a-bad9-5f1ecda38d7f",
   "metadata": {},
   "source": [
    "### Import Divorce Table 10 Timeliness"
   ]
  },
  {
   "cell_type": "markdown",
   "id": "6ad0eb1d-f508-4e35-b72f-534ca75af2da",
   "metadata": {},
   "source": [
    "#### Create the divorce_t10_timeliness table"
   ]
  },
  {
   "cell_type": "code",
   "execution_count": null,
   "id": "f10008c9-ef29-4ecc-aaa1-d2e2708ff3d5",
   "metadata": {},
   "outputs": [],
   "source": [
    "#imports Divorce T10 timeliness data from S3 bucket into a temporary table\n",
    "divorce_t10_timeliness_table = pd.read_csv(\"s3://alpha-family-data/CSVs/Timeliness/DIV_TABLE_10_LOOKUP.csv\", low_memory=False)"
   ]
  },
  {
   "cell_type": "code",
   "execution_count": null,
   "id": "73bcd83a-843e-4158-8703-e43b40405eda",
   "metadata": {},
   "outputs": [],
   "source": [
    "pydb.dataframe_to_temp_table(divorce_t10_timeliness_table, \"div_t10_timeliness\")"
   ]
  },
  {
   "cell_type": "markdown",
   "id": "59b697e1-2dcd-42c6-930a-46bcfe546ffd",
   "metadata": {},
   "source": [
    "##### divorce_t10_timeliness validation"
   ]
  },
  {
   "cell_type": "code",
   "execution_count": null,
   "id": "c99eb3ab-7acb-4973-a2ae-576afa9c2647",
   "metadata": {
    "tags": []
   },
   "outputs": [],
   "source": [
    "#div_t10_timeliness_count = pydb.read_sql_query(\"SELECT * from __temp__.div_t10_timeliness limit 10\")\n",
    "#div_t10_timeliness_count"
   ]
  },
  {
   "cell_type": "markdown",
   "id": "48bac5fa-3151-41ab-b233-d913da8c2184",
   "metadata": {},
   "source": [
    "### Import Financial Remedy Table 10 Timeliness"
   ]
  },
  {
   "cell_type": "markdown",
   "id": "804f2dbe-5198-407b-9541-b615861c694e",
   "metadata": {},
   "source": [
    "#### Create the fr_t10_timeliness table"
   ]
  },
  {
   "cell_type": "code",
   "execution_count": null,
   "id": "b28a2529-3786-4cb4-93ac-e0448fae992d",
   "metadata": {},
   "outputs": [],
   "source": [
    "#imports Financial Remedy T10 timeliness data from S3 bucket into a temporary table\n",
    "fin_rem_t10_timeliness_table = pd.read_csv(\"s3://alpha-family-data/CSVs/Timeliness/FR_TABLE_10_LOOKUP.csv\", low_memory=False)"
   ]
  },
  {
   "cell_type": "code",
   "execution_count": null,
   "id": "0a1fe0d1-2080-4e15-8446-ff2e8fd64414",
   "metadata": {},
   "outputs": [],
   "source": [
    "pydb.dataframe_to_temp_table(fin_rem_t10_timeliness_table, \"fin_rem_t10_timeliness\")"
   ]
  },
  {
   "cell_type": "markdown",
   "id": "a2d569d1-b168-4bd3-bcfa-6bab3122e80c",
   "metadata": {},
   "source": [
    "##### fr_t10_timeliness validation"
   ]
  },
  {
   "cell_type": "code",
   "execution_count": null,
   "id": "2b1c082d-53c3-497e-a06c-c5d281ce2a9e",
   "metadata": {
    "tags": []
   },
   "outputs": [],
   "source": [
    "#fin_rem_t10_timeliness_count = pydb.read_sql_query(\"SELECT * from __temp__.fin_rem_t10_timeliness limit 10\")\n",
    "#fin_rem_t10_timeliness_count"
   ]
  },
  {
   "cell_type": "markdown",
   "id": "f639d5b0-ccb0-4d53-b005-ea706de8480a",
   "metadata": {},
   "source": [
    "### Import Children Act Public Law Table 10 Timeliness \n",
    "\n",
    "#### *Temporary - once Public law amalgamation is complete and Children Act on the AP includes Public law timeliness - this code can be removed*"
   ]
  },
  {
   "cell_type": "markdown",
   "id": "5ce90df0-5b80-441d-b8ee-927a5873261b",
   "metadata": {},
   "source": [
    "#### Create the public_t10_timeliness table"
   ]
  },
  {
   "cell_type": "code",
   "execution_count": null,
   "id": "f6808570-f836-4141-9c7a-6ab2695c637e",
   "metadata": {},
   "outputs": [],
   "source": [
    "#imports Children Act Public Law T10 timeliness data from S3 bucket into a temporary table\n",
    "public_t10_timeliness_table = pd.read_csv(\"s3://alpha-family-data/CSVs/Timeliness/public_t10_timeliness.csv\", low_memory=False)"
   ]
  },
  {
   "cell_type": "code",
   "execution_count": null,
   "id": "c76baacc-8d7c-4036-8811-04534bcccc85",
   "metadata": {},
   "outputs": [],
   "source": [
    "pydb.dataframe_to_temp_table(public_t10_timeliness_table, \"public_t10_timeliness\")"
   ]
  },
  {
   "cell_type": "markdown",
   "id": "b7d10013-bee1-4b31-9325-8546e90d6b1a",
   "metadata": {},
   "source": [
    "##### public_t10_timeliness validation"
   ]
  },
  {
   "cell_type": "code",
   "execution_count": null,
   "id": "b979c933-5c3b-4379-8a3b-1fff1b66dabb",
   "metadata": {
    "tags": []
   },
   "outputs": [],
   "source": [
    "#public_t10_timeliness_count = pydb.read_sql_query(\"SELECT * from __temp__.public_t10_timeliness limit 10\")\n",
    "#public_t10_timeliness_count"
   ]
  },
  {
   "cell_type": "markdown",
   "id": "81bc25f9-53a3-4d1e-8158-4588ef59b30a",
   "metadata": {},
   "source": [
    "### Final Output Table 10 Timeliness"
   ]
  },
  {
   "cell_type": "code",
   "execution_count": null,
   "id": "95022956-adad-4e54-9ccc-d7840ad4cca2",
   "metadata": {},
   "outputs": [],
   "source": [
    "pydb.create_temp_table(\n",
    "f\"\"\" \n",
    "SELECT *\n",
    "FROM __temp__.adopt_t10_timeliness\n",
    "\n",
    "UNION \n",
    "\n",
    "SELECT * FROM __temp__.child_act_t10_timeliness\n",
    "\n",
    "UNION \n",
    "\n",
    "SELECT * FROM __temp__.dv_t10_timeliness\n",
    "\n",
    "UNION\n",
    "\n",
    "SELECT \n",
    "lookup,\n",
    "CAST(both_n as bigint) as \"1_bothn\",\n",
    "CAST(both_mean as double) as \"1_bothmean\",\n",
    "CAST(applicant_n as bigint) as \"2_applicantn\",\n",
    "CAST(applicant_mean as double) as \"2_applicantmean\",\n",
    "CAST(respondent_n as bigint) as \"3_respondentn\",\n",
    "CAST(respondent_mean as double) as \"3_respondentmean\",\n",
    "CAST(neither_n as bigint) as \"4_neithern\",\n",
    "CAST(neither_mean as double) as \"4_neithermean\",\n",
    "CAST(REPLACE(unknown_n, '.', NULL) as bigint) as \"5_unknownn\",\n",
    "CAST(REPLACE(unknown_mean, '.', NULL) as double) as \"5_unknownmean\",\n",
    "CAST(all_n as bigint) as \"alln\",\n",
    "CAST(all_mean as double) as \"allmean\"\n",
    "\n",
    "FROM __temp__.fin_rem_t10_timeliness\n",
    "\n",
    "UNION \n",
    "\n",
    "SELECT\n",
    "lookup,\n",
    "CAST(both_n as bigint) as \"1_bothn\",\n",
    "CAST(both_mean as double) as \"1_bothmean\",\n",
    "CAST(applicant_n as bigint) as \"2_applicantn\",\n",
    "CAST(applicant_mean as double) as \"2_applicantmean\",\n",
    "CAST(respondent_n as bigint) as \"3_respondentn\",\n",
    "CAST(respondent_mean as double) as \"3_respondentmean\",\n",
    "CAST(neither_n as bigint) as \"4_neithern\",\n",
    "CAST(neither_mean as double) as \"4_neithermean\",\n",
    "CAST(REPLACE(unknown_n, '.', NULL) as bigint) as \"5_unknownn\",\n",
    "CAST(REPLACE(unknown_mean, '.', NULL) as double) as \"5_unknownmean\",\n",
    "CAST(all_n as bigint) as \"alln\",\n",
    "CAST(all_mean as double) as \"allmean\" \n",
    "\n",
    "FROM __temp__.div_t10_timeliness\n",
    "\n",
    "UNION \n",
    "\n",
    "SELECT \n",
    "lookup,\n",
    "CAST(\"1_bothn\" as bigint) as \"1_bothn\",\n",
    "CAST(\"1_bothmean\" as double) as \"1_bothmean\",\n",
    "CAST(\"2_applicant_onlyn\" as bigint) as \"2_applicantn\",\n",
    "CAST(\"2_applicant_onlymean\" as double) as \"2_applicantmean\",\n",
    "CAST(\"3_respondent_onlyn\" as bigint) as \"3_respondentn\",\n",
    "CAST(\"3_respondent_onlymean\" as double) as \"3_respondentmean\",\n",
    "CAST(\"4_neithern\" as bigint) as \"4_neithern\",\n",
    "CAST(\"4_neithermean\" as double) as \"4_neithermean\",\n",
    "CAST(\"5_unknownn\" as bigint) as \"5_unknownn\",\n",
    "CAST(\"5_unknownmean\" as double) as \"5_unknownmean\",\n",
    "CAST(\"alln\" as bigint) as \"alln\",\n",
    "CAST(\"allmean\" as double) as \"allmean\" \n",
    "\n",
    "FROM __temp__.public_t10_timeliness\n",
    "\n",
    "\"\"\",\n",
    "\n",
    "\"t10_timeliness_temp\")"
   ]
  },
  {
   "cell_type": "code",
   "execution_count": null,
   "id": "b497dfbb-776e-4d5b-b7e0-071f74b37225",
   "metadata": {},
   "outputs": [],
   "source": [
    "#t10_timeliness_temp = pydb.read_sql_query(\"SELECT * FROM __temp__.t10_timeliness_temp;\")\n",
    "#t10_timeliness_temp"
   ]
  },
  {
   "cell_type": "code",
   "execution_count": null,
   "id": "9323ecd0-0a45-48c2-a3c3-097318b11e5c",
   "metadata": {},
   "outputs": [],
   "source": [
    "#Orders the data by year, country, and county_ua\n",
    "t10_timeliness = pydb.read_sql_query(\"\"\"\n",
    "SELECT *\n",
    "from __temp__.t10_timeliness_temp\n",
    "ORDER BY lookup\n",
    "\"\"\")"
   ]
  },
  {
   "cell_type": "code",
   "execution_count": null,
   "id": "6055813c-dfe8-4b25-b7fe-0288a73ab9cd",
   "metadata": {},
   "outputs": [],
   "source": [
    "#Export the final csv\n",
    "t10_timeliness.to_csv(\"s3://alpha-family-data/CSVs/Timeliness/Table_10_lookup.csv\", index = False)"
   ]
  }
 ],
 "metadata": {
  "kernelspec": {
   "display_name": "Nixon FOI (Python3)",
   "language": "python",
   "name": "venv_nixonfoi"
  },
  "language_info": {
   "codemirror_mode": {
    "name": "ipython",
    "version": 3
   },
   "file_extension": ".py",
   "mimetype": "text/x-python",
   "name": "python",
   "nbconvert_exporter": "python",
   "pygments_lexer": "ipython3",
   "version": "3.9.6"
  }
 },
 "nbformat": 4,
 "nbformat_minor": 5
}
