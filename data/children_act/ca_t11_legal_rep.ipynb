{
 "cells": [
  {
   "cell_type": "markdown",
   "id": "74817050-18b3-4cf4-8c4a-3e7988b97a68",
   "metadata": {},
   "source": [
    "## Children Act (Private Law) legal representation (table 11)"
   ]
  },
  {
   "cell_type": "code",
   "execution_count": null,
   "id": "de464b5b-a248-4ef7-ab62-801743a8d6ba",
   "metadata": {},
   "outputs": [],
   "source": [
    "import os  # for file paths\n",
    "import pandas as pd\n",
    "import awswrangler as wr\n",
    "import pydbtools as pydb  # see https://github.com/moj-analytical-services/pydbtools\n",
    "\n",
    "# few things for viewing dataframes better\n",
    "pd.set_option(\"display.max_columns\", 100)\n",
    "pd.set_option(\"display.width\", 900)\n",
    "pd.set_option(\"display.max_colwidth\", 200)"
   ]
  },
  {
   "cell_type": "markdown",
   "id": "64f48d4d-ef0b-4795-80dd-8a28943e22ae",
   "metadata": {},
   "source": [
    "#### Defining variables"
   ]
  },
  {
   "cell_type": "code",
   "execution_count": null,
   "id": "263c1013-a9ab-44d0-a1f7-79a8653ee0ab",
   "metadata": {},
   "outputs": [],
   "source": [
    "# define some variables to be used throughout the notebook\n",
    "db1 = \"familyman_dev_v3\" #database where Familyman data is stored\n",
    "snapshot_date = \"2022-09-06\" #To update where necessary\n",
    "db2 = \"fcsq\" #database where tables created as part of FCSQ processing are stored where required"
   ]
  },
  {
   "cell_type": "code",
   "execution_count": null,
   "id": "239ebebf-4252-485f-ab42-008c3442bc52",
   "metadata": {},
   "outputs": [],
   "source": [
    "# create path for within athena FCSQ database in the S3 folder\n",
    "fcsq_db_path = f\"s3://alpha-family-data/fcsq_processing/CA_apps/\""
   ]
  },
  {
   "cell_type": "markdown",
   "id": "90e93e48-2c51-48ce-8aee-6e458ff6fdba",
   "metadata": {},
   "source": [
    "### Extration of hearing data"
   ]
  },
  {
   "cell_type": "code",
   "execution_count": null,
   "id": "ac56df75-dd81-4df4-82ea-461783a409da",
   "metadata": {},
   "outputs": [],
   "source": [
    "#Extrating hearings data for private law - the event models used are those used from the previous SAS process\n",
    "#Some fields not really required but pulling them in as they can be useful to see what hearing data might be held (eg. hearing type)\n",
    "pydb.create_temp_table( \n",
    "f\"\"\"\n",
    "SELECT \n",
    "  h.event,\n",
    "  h.vacated_flag,\n",
    "  h.hearing_type,\n",
    "  h.hearing_date,\n",
    "  e.receipt_date,\n",
    "  e.case_number,\n",
    "  e.event_model\n",
    "FROM \n",
    "  {db1}.hearings h\n",
    "  LEFT JOIN {db1}.events e \n",
    "    ON h.event = e.event\n",
    "WHERE \n",
    "  h.vacated_flag IS NULL\n",
    "  AND e.error = 'N'\n",
    "  AND SUBSTR(case_number,5,1) = 'P'\n",
    "  AND event_model IN ('C6', 'G61')\n",
    "  AND e.mojap_snapshot_date = DATE'{snapshot_date}'\n",
    "  AND h.mojap_snapshot_date = DATE'{snapshot_date}'\n",
    "\"\"\",\n",
    "\n",
    "\"private_law_hearings\")"
   ]
  },
  {
   "cell_type": "markdown",
   "id": "be95d8e4-8c96-4548-b0cc-c841db2bcc6b",
   "metadata": {},
   "source": [
    "### Adding hearing data to case starts"
   ]
  },
  {
   "cell_type": "code",
   "execution_count": null,
   "id": "28e3e293-7749-48e9-ae6e-58b9a25ceaf8",
   "metadata": {},
   "outputs": [],
   "source": [
    "#Adding a flag to cases to show which ones have had a hearing\n",
    "#The starts table is created during the main child applications processing\n",
    "pydb.create_temp_table( \n",
    "f\"\"\"\n",
    "SELECT \n",
    "  year,\n",
    "  quarter,\n",
    "  case_number,\n",
    "  main_case_type,\n",
    "  CASE WHEN case_number IN (SELECT case_number \n",
    "                            FROM __temp__.private_law_hearings)\n",
    "        THEN 'Y' \n",
    "        ELSE 'N' END \n",
    "    AS hearing\n",
    "FROM \n",
    "  {db2}.ca_case_starts\n",
    "WHERE\n",
    "  main_case_type = 'P'\n",
    "\n",
    "\"\"\",\n",
    "\n",
    "\"case_starts_hearings\")"
   ]
  },
  {
   "cell_type": "markdown",
   "id": "30b92ab3-145c-4bab-ae30-c71f751433d9",
   "metadata": {},
   "source": [
    "### Applicant and respondent data for cases with a hearing"
   ]
  },
  {
   "cell_type": "code",
   "execution_count": null,
   "id": "7ddf2d73-3fe9-4b16-96fc-04cbaa53f3eb",
   "metadata": {},
   "outputs": [],
   "source": [
    "#Appending applicant and respondent data and just keeping those in cases with a hearing\n",
    "#The applicant and respondent data sets are created during the main child applications processing\n",
    "#Data here is at applicant/respondent level and not case level\n",
    "pydb.create_temp_table( \n",
    "f\"\"\"\n",
    "WITH case_parties AS (\n",
    "\n",
    "SELECT \n",
    "  'Applicant' AS party,\n",
    "  year,\n",
    "  quarter,\n",
    "  case_number,\n",
    "  main_case_type, \n",
    "  role_id,\n",
    "  gender_desc AS gender,\n",
    "  representation     \n",
    "FROM \n",
    "  {db2}.ca_applicants \n",
    "  \n",
    "UNION ALL\n",
    "SELECT \n",
    "  'Respondent' AS party,\n",
    "  year,\n",
    "  quarter,\n",
    "  case_number,\n",
    "  main_case_type, \n",
    "  role_id,\n",
    "  gender_desc AS gender,\n",
    "  representation    \n",
    "FROM \n",
    "  {db2}.ca_respondents \n",
    "                  \n",
    "    )\n",
    "\n",
    "SELECT\n",
    "  *\n",
    "FROM\n",
    "  case_parties\n",
    "WHERE\n",
    "  case_number IN (SELECT case_number \n",
    "                  FROM __temp__.case_starts_hearings\n",
    "                  WHERE hearing = 'Y')\n",
    "  \n",
    "\"\"\",\n",
    "\n",
    "\"party_hearings\")"
   ]
  },
  {
   "cell_type": "markdown",
   "id": "940704e4-5ba9-4fc2-873f-7290bd905de9",
   "metadata": {},
   "source": [
    "### Aggregating data for csv"
   ]
  },
  {
   "cell_type": "code",
   "execution_count": null,
   "id": "4dd66201-ab9b-42ab-bcd2-7989e9f541df",
   "metadata": {},
   "outputs": [],
   "source": [
    "#Aggregating party data\n",
    "pydb.create_temp_table( \n",
    "f\"\"\"\n",
    "SELECT \n",
    "  'Private Law' AS case_type,\n",
    "  Year,\n",
    "  Quarter,\n",
    "  'Party' AS Category,\n",
    "  party,\n",
    "  gender,\n",
    "  representation,\n",
    "  Count (*) AS Count\n",
    "FROM \n",
    "  __temp__.party_hearings\n",
    "GROUP BY\n",
    "  Year,\n",
    "  Quarter,\n",
    "  party,\n",
    "  gender,\n",
    "  representation;\n",
    "\"\"\",\n",
    "\n",
    "\"party_counts\")"
   ]
  },
  {
   "cell_type": "code",
   "execution_count": null,
   "id": "9958f375-42f0-4d44-9e19-289e9648672a",
   "metadata": {},
   "outputs": [],
   "source": [
    "#Aggregated case starts data\n",
    "pydb.create_temp_table( \n",
    "f\"\"\"\n",
    "SELECT\n",
    "  'Private Law' AS case_type,\n",
    "  Year,\n",
    "  Quarter,\n",
    "  'Cases' AS Category,\n",
    "  CAST (null AS VARCHAR) AS party,\n",
    "  CAST (null AS VARCHAR) AS Gender,\n",
    "  CAST (null AS VARCHAR) AS Representation,\n",
    "  Count (*) AS Count\n",
    "FROM\n",
    "  __temp__.case_starts_hearings\n",
    "GROUP BY\n",
    "  Year,\n",
    "  Quarter\n",
    "  \n",
    "\"\"\",\n",
    "\n",
    "\"case_start_counts\")"
   ]
  },
  {
   "cell_type": "code",
   "execution_count": null,
   "id": "ae9b2553-1374-4024-9534-fe5af02e4ae9",
   "metadata": {},
   "outputs": [],
   "source": [
    "#Aggregated case starts with a hearing\n",
    "pydb.create_temp_table( \n",
    "f\"\"\"\n",
    "SELECT\n",
    "  'Private Law' AS case_type,\n",
    "  Year,\n",
    "  Quarter,\n",
    "  'Cases with a hearing' AS Category,\n",
    "  CAST (null AS VARCHAR) AS party,\n",
    "  CAST (null AS VARCHAR) AS Gender,\n",
    "  CAST (null AS VARCHAR) AS Representation,\n",
    "  Count (*) AS Count\n",
    "FROM\n",
    "  __temp__.case_starts_hearings\n",
    "WHERE\n",
    "  hearing = 'Y'\n",
    "GROUP BY\n",
    "  Year,\n",
    "  Quarter\n",
    "  \n",
    "\"\"\",\n",
    "\n",
    "\"case_starts_with_hearing_counts\")"
   ]
  },
  {
   "cell_type": "code",
   "execution_count": null,
   "id": "082b1a38-b9c0-418e-a577-21d5e762bdd8",
   "metadata": {},
   "outputs": [],
   "source": [
    "#Appending all aggregated data sets to create the final csv\n",
    "pydb.create_temp_table( \n",
    "f\"\"\"\n",
    "WITH all_agg_data AS (\n",
    "SELECT\n",
    "  *\n",
    "FROM\n",
    "  __temp__.party_counts\n",
    "UNION ALL\n",
    "SELECT\n",
    "  *\n",
    "FROM\n",
    "  __temp__.case_start_counts\n",
    "UNION ALL\n",
    "SELECT\n",
    "  *\n",
    "FROM\n",
    "  __temp__.case_starts_with_hearing_counts\n",
    "  \n",
    "  )\n",
    "\n",
    "SELECT\n",
    "  *\n",
    "FROM \n",
    "  all_agg_data\n",
    "WHERE\n",
    "  year > 2010\n",
    "  \n",
    "\"\"\",\n",
    "\n",
    "\"private_law_leg_rep_csv\")"
   ]
  },
  {
   "cell_type": "markdown",
   "id": "75437763-234e-4059-b07c-3bd62de3443c",
   "metadata": {},
   "source": [
    "### Lookup data"
   ]
  },
  {
   "cell_type": "code",
   "execution_count": null,
   "id": "1d187c7e-3493-4b6b-a0b9-d623aa6379d6",
   "metadata": {},
   "outputs": [],
   "source": [
    "#Annual lookup data\n",
    "pydb.create_temp_table( \n",
    "f\"\"\"\n",
    "SELECT\n",
    "  'Private Law|'||CAST(Year AS VARCHAR)||'|' as lookup,\n",
    "  SUM(CASE WHEN category = 'Cases' THEN count END)\n",
    "   AS cases,\n",
    "  SUM(CASE WHEN category = 'Cases with a hearing' THEN count END)\n",
    "   AS cases_hearing,\n",
    "  SUM(CASE WHEN party = 'Applicant' and representation = 'Y' THEN count END)\n",
    "   AS app_rep,\n",
    "  SUM(CASE WHEN party = 'Applicant' and representation = 'N' THEN count END)\n",
    "   AS app_unrep,\n",
    "  SUM(CASE WHEN party = 'Respondent' and representation = 'Y' THEN count END)\n",
    "   AS res_rep,\n",
    "  SUM(CASE WHEN party = 'Respondent' and representation = 'N' THEN count END)\n",
    "   AS res_unrep,\n",
    "  SUM(CASE WHEN party IN ('Applicant','Respondent') THEN count END)\n",
    "   AS total_parties\n",
    "FROM\n",
    "  __temp__.private_law_leg_rep_csv\n",
    "GROUP BY\n",
    "  year\n",
    "\n",
    "UNION ALL\n",
    "\n",
    "SELECT\n",
    "  'Private Law|'||CAST(Year AS VARCHAR)||'|Q'||CAST(Quarter AS VARCHAR) AS lookup,\n",
    "  SUM(CASE WHEN category = 'Cases' THEN count END)\n",
    "   AS cases,\n",
    "  SUM(CASE WHEN category = 'Cases with a hearing' THEN count END)\n",
    "   AS cases_hearing,\n",
    "  SUM(CASE WHEN party = 'Applicant' and representation = 'Y' THEN count END)\n",
    "   AS app_rep,\n",
    "  SUM(CASE WHEN party = 'Applicant' and representation = 'N' THEN count END)\n",
    "   AS app_unrep,\n",
    "  SUM(CASE WHEN party = 'Respondent' and representation = 'Y' THEN count END)\n",
    "   AS res_rep,\n",
    "  SUM(CASE WHEN party = 'Respondent' and representation = 'N' THEN count END)\n",
    "   AS res_unrep,\n",
    "  SUM(CASE WHEN party IN ('Applicant','Respondent') THEN count END)\n",
    "   AS total_parties\n",
    "FROM\n",
    "  __temp__.private_law_leg_rep_csv\n",
    "GROUP BY\n",
    "  year,\n",
    "  quarter\n",
    "\n",
    "  \n",
    "\"\"\",\n",
    "\n",
    "\"private_law_leg_rep_lookup\")"
   ]
  },
  {
   "cell_type": "markdown",
   "id": "38d9fef8-1157-4857-bc79-6d7d6c6403cb",
   "metadata": {},
   "source": [
    "##### Export csv to S3"
   ]
  },
  {
   "cell_type": "code",
   "execution_count": null,
   "id": "1be0eb6a-04d8-43c0-bfcd-59d09ffa2846",
   "metadata": {},
   "outputs": [],
   "source": [
    "pri_leg_rep_csv_data = pydb.read_sql_query (\"select * from __temp__.private_law_leg_rep_csv\")"
   ]
  },
  {
   "cell_type": "code",
   "execution_count": null,
   "id": "7458c06b-5cf9-4d56-be9b-d64da3580c36",
   "metadata": {},
   "outputs": [],
   "source": [
    "pri_leg_rep_csv_df = pd.DataFrame(pri_leg_rep_csv_data)"
   ]
  },
  {
   "cell_type": "code",
   "execution_count": null,
   "id": "e3f43ece-6633-4150-92a6-30206f50cab8",
   "metadata": {},
   "outputs": [],
   "source": [
    "pri_leg_rep_csv_df.to_csv (r's3://alpha-family-data/fcsq_processing/children_act_temporary_outputs/private_law_leg_rep_csv.csv',header = True)"
   ]
  },
  {
   "cell_type": "markdown",
   "id": "00c3d5c0-9286-4e5b-ae7e-d4fcfd4bb317",
   "metadata": {},
   "source": [
    "##### Export lookup to S3 "
   ]
  },
  {
   "cell_type": "code",
   "execution_count": null,
   "id": "bcd5e16f-16ba-4cd8-84a8-63e6abfb2995",
   "metadata": {},
   "outputs": [],
   "source": [
    "pri_leg_rep_lookup_data = pydb.read_sql_query (\"select * from __temp__.private_law_leg_rep_lookup\")"
   ]
  },
  {
   "cell_type": "code",
   "execution_count": null,
   "id": "3a099c67-b334-4653-9acb-716c01aa25d6",
   "metadata": {},
   "outputs": [],
   "source": [
    "pri_leg_rep_lookup_df = pd.DataFrame(pri_leg_rep_lookup_data)"
   ]
  },
  {
   "cell_type": "code",
   "execution_count": null,
   "id": "5330a9f0-74d9-460c-8505-3260a7cab137",
   "metadata": {},
   "outputs": [],
   "source": [
    "pri_leg_rep_lookup_df.to_csv (r's3://alpha-family-data/fcsq_processing/children_act_temporary_outputs/private_law_leg_rep_lookup.csv',header = True)"
   ]
  }
 ],
 "metadata": {
  "kernelspec": {
   "display_name": "Python 3",
   "language": "python",
   "name": "python3"
  },
  "language_info": {
   "codemirror_mode": {
    "name": "ipython",
    "version": 3
   },
   "file_extension": ".py",
   "mimetype": "text/x-python",
   "name": "python",
   "nbconvert_exporter": "python",
   "pygments_lexer": "ipython3",
   "version": "3.9.4"
  }
 },
 "nbformat": 4,
 "nbformat_minor": 5
}
