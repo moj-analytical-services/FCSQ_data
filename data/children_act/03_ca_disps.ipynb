{
 "cells": [
  {
   "cell_type": "markdown",
   "metadata": {},
   "source": [
    "# Childrens Act Disposals\n",
    "\n",
    "### [Disposals](all_disposals)\n",
    "##### [Disposal events - orders made, orders refused and orders of no order]()\n",
    "##### [Withdrawn events]()\n",
    "##### [Combining all disposals]()\n",
    "##### [Adding order type details]()\n",
    "##### [Removing duplicate disposal types]()\n",
    "### [Children]()\n",
    "##### [Children recorded on the disposal event]()\n",
    "##### [Children recorded on the case]()\n",
    "##### [No children recorded]()\n",
    "##### [Child disposals dataset]()\n",
    "### [Cases]()\n",
    "##### [Final/non final order date]()\n",
    "##### [Case closed event date]()\n",
    "##### [Case re-opened event date]()\n",
    "##### [Dates added to cases]()\n",
    "##### [Final date in case]()\n",
    "##### [Case close date calculation]()\n",
    "##### [Case closed dataset]()"
   ]
  },
  {
   "cell_type": "markdown",
   "metadata": {},
   "source": [
    "#### Import packages"
   ]
  },
  {
   "cell_type": "code",
   "execution_count": null,
   "metadata": {},
   "outputs": [],
   "source": [
    "# libraries\n",
    "import pandas as pd\n",
    "import pydbtools as pydb\n",
    "import boto3\n",
    "from datetime import datetime\n",
    "#import re\n",
    "import os  # for file paths\n",
    "import awswrangler as wr"
   ]
  },
  {
   "cell_type": "code",
   "execution_count": null,
   "metadata": {},
   "outputs": [],
   "source": [
    "# Structured  dataframes\n",
    "pd.set_option(\"display.max_columns\", 100)\n",
    "pd.set_option(\"display.width\", 900)\n",
    "pd.set_option(\"display.max_colwidth\", 200)"
   ]
  },
  {
   "cell_type": "markdown",
   "metadata": {
    "tags": []
   },
   "source": [
    "#### Assigning key variables"
   ]
  },
  {
   "cell_type": "code",
   "execution_count": null,
   "metadata": {},
   "outputs": [],
   "source": [
    "# This is the database where the familyman data is stored on the platform\n",
    "db1 = \"familyman_dev_v3\"\n",
    "# This database is used for FCCSQ processing\n",
    "fcsq_db = \"fcsq\"\n",
    "# create path for within athena FCSQ database in the S3 folder, alongside other S3 items\n",
    "fcsq_db_path = f\"s3://alpha-family-data/fcsq_processing/CA_disps/\"\n",
    "s3 = boto3.resource(\"s3\")\n",
    "bucket = s3.Bucket(\"alpha-family-data\")\n",
    "#Select the snapshot date you require. Each record in Familyman has a snapshot date (essentially just a column in the tables) that relates to the database at that point in time\n",
    "snapshot_date = \"2022-08-04\""
   ]
  },
  {
   "cell_type": "markdown",
   "metadata": {},
   "source": [
    "## Extracting disposals "
   ]
  },
  {
   "cell_type": "markdown",
   "metadata": {},
   "source": [
    "#### All disposals - excluding withdrawn events"
   ]
  },
  {
   "cell_type": "code",
   "execution_count": null,
   "metadata": {},
   "outputs": [],
   "source": [
    "# The first select query extracts orders where the type of order is defined by the event model.\n",
    "# The second select query extracts disposals where the type of order is determined by the value of the field model. Included in this are orders of no order (ORDNOM) and orders refused (ORDREF).\n",
    "    # C43 contains child arrangement orders (contact/residence - the most common orders types in children act cases) \n",
    "# The cross join unnest function in the second select query splits the value (order types - where multiple values can be entered) into one row per value\n",
    "pydb.create_temp_table(\n",
    "f\"\"\" \n",
    "SELECT \n",
    "  event,\n",
    "  case_number,\n",
    "  event_model,\n",
    "  event_model as lookup_event_code,\n",
    "  receipt_date,\n",
    "  entry_date,\n",
    "  COALESCE(receipt_date, entry_date) AS disp_date,\n",
    "  creating_court,\n",
    "  CAST(NULL AS VARCHAR) AS field_model,\n",
    "  CAST(NULL AS VARCHAR) AS all_event_ord_types,\n",
    "  'N/A' AS order_type\n",
    "FROM \n",
    "  {db1}.events \n",
    "WHERE \n",
    "  (event_model IN ('C23','C25','C26','C27','C28','C29',\n",
    "                    'C30','C31','C32A','C32B','C33','C34A','C34B','C35A','C35B','C37',\n",
    "                    'C38A','C38B','C39','C40','C42','C43A','C44A','C44B','C45A','C45B',\n",
    "                    'C53','C80','C81','C82') \n",
    "            AND error = 'N')\n",
    "  AND mojap_snapshot_date = date '{snapshot_date}'\n",
    "\n",
    "UNION ALL\n",
    "\n",
    "SELECT \n",
    "  e.event,\n",
    "  e.case_number,\n",
    "  e.event_model,\n",
    "  CASE WHEN e.event_model IN ('C43', 'ORDNOM', 'ORDREF')\n",
    "      THEN 'GEN'\n",
    "      ELSE e.event_model END\n",
    "    AS lookup_event_code,\n",
    "  e.receipt_date,\n",
    "  e.entry_date,\n",
    "  COALESCE(e.receipt_date, e.entry_date) AS disp_date,\n",
    "  e.creating_court,\n",
    "  f.field_model,\n",
    "  f.value as all_event_ord_types,\n",
    "  TRIM(ord_type) as order_type\n",
    "FROM \n",
    "  {db1}.events e\n",
    "  INNER JOIN {db1}.event_fields f\n",
    "    ON e.event = f.event\n",
    "  CROSS JOIN UNNEST(SPLIT(f.value,',')) AS t(ord_type)  \n",
    "WHERE \n",
    "  ((f.field_model IN ('C21_3', 'C24_6', 'C36_5', 'C43_5', 'ORDNOM_5', 'ORDREF_5'))\n",
    "    AND error = 'N')\n",
    "  AND e.mojap_snapshot_date = date '{snapshot_date}'\n",
    "  AND f.mojap_snapshot_date = date '{snapshot_date}'\n",
    "  \n",
    "\"\"\",\n",
    "\n",
    "\"ca_disps1\")"
   ]
  },
  {
   "cell_type": "markdown",
   "metadata": {},
   "source": [
    "#### Withdrawn events\n",
    "###### Withdrawn events are extracted seperately to other disposal events as they need to be linked back to the original application to get the order type being withdrawn"
   ]
  },
  {
   "cell_type": "code",
   "execution_count": null,
   "metadata": {},
   "outputs": [],
   "source": [
    "#Extracting withdrawn events (G63). \n",
    "#To get the type of order being withdrawn we can link back to the original application (U22/G50) event\n",
    "#Cross Join unnest function splits out the application values into a single row per order type\n",
    "\n",
    "pydb.create_temp_table(\n",
    "f\"\"\" \n",
    "SELECT \n",
    "  w.event,\n",
    "  e.case_number,\n",
    "  e.event_model,\n",
    "  'GEN' AS lookup_event_code,\n",
    "  e.receipt_date,\n",
    "  e.entry_date,\n",
    "  COALESCE(e.receipt_date, e.entry_date) AS disp_date,\n",
    "  e.creating_court,\n",
    "  w.field_model,\n",
    "  a.value as all_event_ord_types,\n",
    "  TRIM(ord_type) as order_type\n",
    "FROM \n",
    "  {db1}.event_fields w\n",
    "  left join {db1}.event_fields a\n",
    "    on w.value = CAST (a.event AS VARCHAR)\n",
    "  left join {db1}.events e\n",
    "    on w.event = e.event\n",
    "CROSS JOIN UNNEST(SPLIT(a.value,',')) AS t(ord_type)    \n",
    "WHERE \n",
    "  w.field_model = 'G63_1' \n",
    "  AND a.field_model IN ('G50_AT','U22_AT')\n",
    "  AND e.error = 'N'\n",
    "  AND w.mojap_snapshot_date = date '{snapshot_date}'\n",
    "  AND e.mojap_snapshot_date = date '{snapshot_date}'\n",
    "  AND a.mojap_snapshot_date = date '{snapshot_date}'\n",
    "  \n",
    "\"\"\",\n",
    "\n",
    "\"ca_withdrawn\")"
   ]
  },
  {
   "cell_type": "markdown",
   "metadata": {},
   "source": [
    "#### Combining withdrawn events with other disposal events"
   ]
  },
  {
   "cell_type": "code",
   "execution_count": null,
   "metadata": {},
   "outputs": [],
   "source": [
    "#drop table in Athena (if it already exists)\n",
    "_ = pydb.start_query_execution_and_wait(f\"\"\"DROP TABLE {fcsq_db}.ca_non_filtered_disposals\"\"\")"
   ]
  },
  {
   "cell_type": "code",
   "execution_count": null,
   "metadata": {},
   "outputs": [],
   "source": [
    "#Append withdrawn events to the main set of disposal events\n",
    "#Table is also used within the private law timeliness process\n",
    "\n",
    "#set S3 file path\n",
    "non_filtered_disps_s3_path = os.path.join(fcsq_db_path, \"non_filtered_disps/\")\n",
    "# Delete all the underlying data stored within the S3 location\n",
    "if wr.s3.list_objects(non_filtered_disps_s3_path):\n",
    "    print(\"deleting objs\")\n",
    "    wr.s3.delete_objects(non_filtered_disps_s3_path)\n",
    "    \n",
    "#Create table in Athena\n",
    "\n",
    "non_filtered_disps =  f\"\"\"\n",
    "CREATE TABLE {fcsq_db}.ca_non_filtered_disposals WITH\n",
    "(\n",
    "    external_location='{non_filtered_disps_s3_path}'\n",
    ") AS\n",
    "SELECT \n",
    "  *,\n",
    "  EXTRACT(YEAR FROM disp_date) AS Year,\n",
    "  EXTRACT(QUARTER FROM disp_date) AS Quarter,\n",
    "  EXTRACT(MONTH FROM disp_date) AS Month\n",
    "FROM\n",
    "  __temp__.ca_disps1\n",
    "UNION ALL \n",
    "SELECT\n",
    "  *,\n",
    "  EXTRACT(YEAR FROM disp_date) AS Year,\n",
    "  EXTRACT(QUARTER FROM disp_date) AS Quarter,\n",
    "  EXTRACT(MONTH FROM disp_date) AS Month\n",
    "FROM\n",
    "  __temp__.ca_withdrawn\n",
    "\n",
    "\"\"\"\n",
    "    \n",
    "_ = pydb.start_query_execution_and_wait(non_filtered_disps)"
   ]
  },
  {
   "cell_type": "markdown",
   "metadata": {},
   "source": [
    "#### Adding the order and disposal type descriptions, court/region information, along with caluculation of case type based on the type of order. Filtering out order types we do not include"
   ]
  },
  {
   "cell_type": "code",
   "execution_count": null,
   "metadata": {},
   "outputs": [],
   "source": [
    "# The order type lookup file has been created separately\n",
    "# Order code to be up to 45 but including up to 54 as this is what some of the published data includes\n",
    "# The order case_type is based on the type of order being disposed. A case may have both public and private law disposal types\n",
    "pydb.create_temp_table(\n",
    "f\"\"\"\n",
    "SELECT\n",
    "  t1.*,\n",
    "  CASE WHEN t2.order_code < 19 OR (SUBSTR(case_number,5,1) = 'C') THEN 'C'\n",
    "        ELSE 'P' END \n",
    "      AS order_case_type,  \n",
    "  CASE WHEN t1.event_model = 'G63' THEN 3\n",
    "       WHEN t1.event_model = 'ORDREF' THEN 4\n",
    "       WHEN t1.event_model = 'ORDNOM' THEN 5\n",
    "       WHEN t2.order_code BETWEEN 40 AND 45 THEN 2\n",
    "       ELSE 1 END\n",
    "    AS disp_type_code,\n",
    "  CASE WHEN t1.event_model = 'G63' THEN 'Withdrawn'\n",
    "       WHEN t1.event_model = 'ORDREF' THEN 'Refused'\n",
    "       WHEN t1.event_model = 'ORDNOM' THEN 'No order'\n",
    "       WHEN t2.order_code BETWEEN 40 AND 45 THEN 'Interim Order'\n",
    "       ELSE 'Order' END\n",
    "    AS disp_type,\n",
    "  order_code,\n",
    "  order_desc,\n",
    "  CASE WHEN t1.year < 2014 THEN t3.court_pre_2014\n",
    "        ELSE t3.name END \n",
    "    AS disposal_court,\n",
    "  t3.dfj_new AS disposal_dfj,\n",
    "  CASE WHEN t1.year < 2014 THEN t3.region_pre2014\n",
    "        ELSE t3.region END \n",
    "    AS disposal_region\n",
    "FROM\n",
    "  {fcsq_db}.ca_non_filtered_disposals t1\n",
    "  LEFT JOIN {fcsq_db}.ca_order_type_lookup t2\n",
    "    ON t1.lookup_event_code = t2.event_model\n",
    "    AND t1.order_type = t2.value\n",
    "  LEFT JOIN {fcsq_db}.court_mv_feb21_dfj t3\n",
    "    ON t1.creating_court = t3.court\n",
    "WHERE\n",
    "  t2.order_code BETWEEN 0 AND 54\n",
    "\n",
    "\"\"\",\n",
    "    \n",
    "\"ca_disps_order_name\")"
   ]
  },
  {
   "cell_type": "markdown",
   "metadata": {},
   "source": [
    "#### Excluding duplicate order types within the same event. Creation of case level case type "
   ]
  },
  {
   "cell_type": "code",
   "execution_count": null,
   "metadata": {
    "tags": []
   },
   "outputs": [],
   "source": [
    "#drop table in Athena (if it already exists)\n",
    "_ = pydb.start_query_execution_and_wait(f\"\"\"DROP TABLE {fcsq_db}.ca_all_disposals\"\"\")"
   ]
  },
  {
   "cell_type": "code",
   "execution_count": null,
   "metadata": {},
   "outputs": [],
   "source": [
    "#Use the distinct function to remove duplicte order types within an event. The order type field (which contains the letter code) is not included in the select fields as different codes can map to the same order type (eg 'CAST' & 'CN' are both contact)\n",
    "#The duplicates account for around 0.25% of all disposals, so it is not a significant number \n",
    "#The main_case_type ensures that in the small number of cases where there are both private and public order types within a case, only one case type is selected in the case (based on order type activity within the case) \n",
    "#For the main_case_type, where the case number is 'P' and it has both public and private law disposals it will be counted within private law cases disposed\n",
    "#The FM_case_type is based on the letter within the case number. Naturally there will be 1 per case.\n",
    "#Domestic violence and adoption case types are filtered out of the main/FM_case_type fields so they can be excluded from final CA case counts\n",
    "\n",
    "\n",
    "#set S3 file path\n",
    "all_disps_s3_path = os.path.join(fcsq_db_path, \"all_disps/\")\n",
    "# Delete all the underlying data stored within the S3 location\n",
    "if wr.s3.list_objects(all_disps_s3_path):\n",
    "    print(\"deleting objs\")\n",
    "    wr.s3.delete_objects(all_disps_s3_path)\n",
    "    \n",
    "#Create table in Athena\n",
    "\n",
    "all_disps =  f\"\"\"\n",
    "CREATE TABLE {fcsq_db}.ca_all_disposals WITH\n",
    "(\n",
    "    external_location='{all_disps_s3_path}'\n",
    ") AS\n",
    "  SELECT \n",
    "    DISTINCT\n",
    "    case_number,\n",
    "    disp_date,\n",
    "    EXTRACT(YEAR FROM disp_date) AS Year,\n",
    "    EXTRACT(QUARTER FROM disp_date) AS Quarter,\n",
    "    order_case_type,\n",
    "    CASE WHEN SUBSTR(case_number,5,1) NOT IN ('P','C')\n",
    "           THEN 'NA'\n",
    "         WHEN order_case_type = 'C' \n",
    "              AND case_number in (SELECT case_number\n",
    "                                  FROM __temp__.ca_disps_order_name\n",
    "                                  WHERE order_case_type = 'P')\n",
    "           THEN 'P'\n",
    "        ELSE order_case_type END\n",
    "      AS main_case_type,\n",
    "    CASE WHEN SUBSTR(case_number,5,1) NOT IN ('P','C')\n",
    "           THEN 'NA'\n",
    "           ELSE  SUBSTR(case_number,5,1) END\n",
    "      AS FM_case_type,\n",
    "    receipt_date,\n",
    "    entry_date,\n",
    "    event,\n",
    "    event_model,\n",
    "    field_model,\n",
    "    /*order_type, excluded as the same order type can have multiple order type codes and will therefore be double counted eg CAST & CN*/\n",
    "    disp_type_code,\n",
    "    disp_type,\n",
    "    order_code,\n",
    "    order_desc,\n",
    "    creating_court,\n",
    "    disposal_court,\n",
    "    disposal_dfj,\n",
    "    disposal_region\n",
    "  FROM \n",
    "    __temp__.ca_disps_order_name\n",
    "\n",
    "\"\"\"\n",
    "\n",
    "_ = pydb.start_query_execution_and_wait(all_disps)"
   ]
  },
  {
   "cell_type": "markdown",
   "metadata": {},
   "source": [
    "## Adding children to the disposal events\n",
    "##### This is done in 3 stages:    \n",
    "######   - First, some children are recorded directly on the event\n",
    "######   - Second, where the child data field within the event is blank, we pull out all the children recorded on the case from the roles table\n",
    "######   - Finally, there are a small number of cases in which children are neither recorded on the event or the case. Here we default to one child per disposal event, with unknown characteristics"
   ]
  },
  {
   "cell_type": "markdown",
   "metadata": {},
   "source": [
    "#### Children - recorded on the disposal event"
   ]
  },
  {
   "cell_type": "code",
   "execution_count": null,
   "metadata": {},
   "outputs": [],
   "source": [
    "#First we extract the child role ID where the child is listed on the event\n",
    "#Cross join unnest function splits where multiple children are listed in the event field into one row per child\n",
    "pydb.create_temp_table(\n",
    "f\"\"\"\n",
    "  SELECT \n",
    "    a.*,\n",
    "    f.value children,\n",
    "    TRY_CAST(TRIM(child_role_id) as bigint) child_role_id\n",
    "  FROM \n",
    "    {fcsq_db}.ca_all_disposals a\n",
    "    LEFT JOIN {db1}.event_fields f\n",
    "      ON f.event = a.event\n",
    "   CROSS JOIN UNNEST(SPLIT(f.value,',')) AS t(child_role_id)\n",
    "  WHERE \n",
    "     f.field_model IN('C21_CH','C23_CH','C24_CH','C25_CH','C26_CH','C27_CH','C28_CH','C29_CH',\n",
    "                      'C30_CH','C31_CH','C32A_CH','C32B_CH','C33_CH','C34A_CH',\n",
    "                      'C34B_CH','C35A_CH','C35B_CH','C36_CH','C37_CH','C38A_CH',\n",
    "                      'C38B_CH','C39_CH','C40_CH','C42_CH','C43_CH',\n",
    "                      'C43A_CH','C44A_CH','C44B_CH','C45A_CH','C45B_CH','C53_CH',\n",
    "                      'C80_CH','C81_CH','C82_CH','CPA_CH','ORDNOM_CH','ORDREF_CH', 'G63_CH')\n",
    "    AND child_role_id <> ''\n",
    "    AND f.mojap_snapshot_date = DATE'{snapshot_date}'\n",
    "\"\"\",\n",
    "\n",
    "\"ca_disps_child_event\")"
   ]
  },
  {
   "cell_type": "markdown",
   "metadata": {},
   "source": [
    "##### Now link to the parties table to get child characteristics"
   ]
  },
  {
   "cell_type": "code",
   "execution_count": null,
   "metadata": {},
   "outputs": [],
   "source": [
    "#Here we only include children where the delete flag is not marked as Y. For cases there there is only one child on the case and they are marked as 'Y' this will exclude the disposal event, but it will get picked up again at the \n",
    "# stage where we include children not recorded on the case or the event and will default to a child count of 1.\n",
    "pydb.create_temp_table(\n",
    "f\"\"\"\n",
    "  SELECT \n",
    "    a.*,\n",
    "    p.dob,\n",
    "    p.gender\n",
    "  FROM \n",
    "    __temp__.ca_disps_child_event a\n",
    "    JOIN {db1}.roles r on a.child_role_id = r.role\n",
    "    JOIN {db1}.parties p on r.party = p.party\n",
    "  WHERE \n",
    "    r.delete_flag = 'N'\n",
    "    AND r.mojap_snapshot_date = DATE'{snapshot_date}'\n",
    "    AND p.mojap_snapshot_date = DATE'{snapshot_date}'\n",
    "\"\"\",\n",
    "\n",
    "\"ca_disps_child_event2\")"
   ]
  },
  {
   "cell_type": "markdown",
   "metadata": {},
   "source": [
    "#### Children - recorded on the case (not recorded on the disopsal event)"
   ]
  },
  {
   "cell_type": "code",
   "execution_count": null,
   "metadata": {},
   "outputs": [],
   "source": [
    "#Secondly, we take all the events in which children were not directly recorded and link to the case details to get child information recorded on the case\n",
    "#Where a child id is not recorded on the event, this means the event relates to all children listed on the case\n",
    "#We get the dob and gender of the child from the party table\n",
    "pydb.create_temp_table(\n",
    "f\"\"\"\n",
    "  SELECT\n",
    "    a.*,\n",
    "    r.role child_role_id,\n",
    "    p.dob,\n",
    "    p.gender\n",
    "  FROM\n",
    "    {fcsq_db}.ca_all_disposals a\n",
    "    JOIN {db1}.roles r \n",
    "      on a.case_number = r.case_number\n",
    "    JOIN {db1}.parties p \n",
    "      on r.party = p.party \n",
    "  WHERE\n",
    "    event not in (SELECT event FROM __temp__.ca_disps_child_event)\n",
    "    AND role_model in ('CHLDC', 'CHLDZ')\n",
    "    AND r.delete_flag = 'N'\n",
    "    AND r.mojap_snapshot_date = DATE'{snapshot_date}'\n",
    "    AND p.mojap_snapshot_date = DATE'{snapshot_date}'\n",
    "\"\"\",\n",
    "\n",
    "\"ca_disps_child_case\")"
   ]
  },
  {
   "cell_type": "markdown",
   "metadata": {},
   "source": [
    "#### Children - not recorded on event or case"
   ]
  },
  {
   "cell_type": "code",
   "execution_count": null,
   "metadata": {},
   "outputs": [],
   "source": [
    "#There are a small number of disposals where the children are not reocorded on the event and there are also no children recorded on the case. This tends to be for DV cases, where CA order types \n",
    "#   may have been made but children are not necessarily recorded on the case. Here we default to just one child per order/disposal, with unknown characteristics.\n",
    "pydb.create_temp_table(\n",
    "f\"\"\"\n",
    "  SELECT\n",
    "    *,\n",
    "    CAST(NULL AS INTEGER) AS child_role_id,\n",
    "    CAST(NULL AS DATE) dob,\n",
    "    CAST(NULL AS INTEGER) AS gender\n",
    "  FROM\n",
    "    {fcsq_db}.ca_all_disposals\n",
    "  WHERE\n",
    "    event NOT IN (SELECT event FROM __temp__.ca_disps_child_event2)\n",
    "    AND event NOT IN (SELECT event FROM __temp__.ca_disps_child_case)\n",
    "\"\"\",\n",
    "\n",
    "\"ca_disps_no_child\")"
   ]
  },
  {
   "cell_type": "markdown",
   "metadata": {},
   "source": [
    "### Child disposals data set\n",
    "##### Combining children data sets together"
   ]
  },
  {
   "cell_type": "code",
   "execution_count": null,
   "metadata": {},
   "outputs": [],
   "source": [
    "#drop table in Athena (if it already exists)\n",
    "_ = pydb.start_query_execution_and_wait(f\"\"\"DROP TABLE {fcsq_db}.ca_disps_all_children\"\"\")"
   ]
  },
  {
   "cell_type": "code",
   "execution_count": null,
   "metadata": {},
   "outputs": [],
   "source": [
    "#Append the two datasets created previouly, which also includes all disposal data\n",
    "#The child event table also links to the party table to get the dob/gender info\n",
    "\n",
    "#set S3 file path\n",
    "all_child_disps_s3_path = os.path.join(fcsq_db_path, \"all_child_disps/\")\n",
    "# Delete all the underlying data stored within the S3 location\n",
    "if wr.s3.list_objects(all_child_disps_s3_path):\n",
    "    print(\"deleting objs\")\n",
    "    wr.s3.delete_objects(all_child_disps_s3_path)\n",
    "    \n",
    "#Create table in Athena\n",
    "\n",
    "all_child_disps =  f\"\"\"\n",
    "CREATE TABLE {fcsq_db}.ca_disps_all_children WITH\n",
    "(\n",
    "    external_location='{all_child_disps_s3_path}'\n",
    ") AS\n",
    "  SELECT \n",
    "    a.case_number,\n",
    "    a.disp_date,\n",
    "    Year,\n",
    "    Quarter,\n",
    "    a.order_case_type,\n",
    "    a.main_case_type,\n",
    "    a.FM_case_type,\n",
    "    a.receipt_date,\n",
    "    a.entry_date,\n",
    "    a.event,\n",
    "    a.event_model,\n",
    "    a.field_model,\n",
    "    a.disp_type_code,\n",
    "    a.disp_type,\n",
    "    a.order_code,\n",
    "    a.order_desc,\n",
    "    a.child_role_id,\n",
    "    a.dob,\n",
    "    a.gender,\n",
    "    a.creating_court,\n",
    "    disposal_court,\n",
    "    disposal_dfj,\n",
    "    disposal_region\n",
    "  FROM\n",
    "    __temp__.ca_disps_child_event2 a\n",
    "  UNION ALL\n",
    "  SELECT\n",
    "    a.case_number,\n",
    "    a.disp_date,\n",
    "    Year,\n",
    "    Quarter,\n",
    "    a.order_case_type,\n",
    "    a.main_case_type,\n",
    "    a.FM_case_type,\n",
    "    a.receipt_date,\n",
    "    a.entry_date,\n",
    "    a.event,\n",
    "    a.event_model,\n",
    "    a.field_model,\n",
    "    a.disp_type_code,\n",
    "    a.disp_type,\n",
    "    a.order_code,\n",
    "    a.order_desc,\n",
    "    a.child_role_id,\n",
    "    a.dob,\n",
    "    a.gender,\n",
    "    a.creating_court,\n",
    "    disposal_court,\n",
    "    disposal_dfj,\n",
    "    disposal_region\n",
    "  FROM\n",
    "    __temp__.ca_disps_child_case a\n",
    "  UNION ALL\n",
    "  SELECT\n",
    "    a.case_number,\n",
    "    a.disp_date,\n",
    "    Year,\n",
    "    Quarter,\n",
    "    a.order_case_type,\n",
    "    a.main_case_type,\n",
    "    a.FM_case_type,\n",
    "    a.receipt_date,\n",
    "    a.entry_date,\n",
    "    a.event,\n",
    "    a.event_model,\n",
    "    a.field_model,\n",
    "    a.disp_type_code,\n",
    "    a.disp_type,\n",
    "    a.order_code,\n",
    "    a.order_desc,\n",
    "    a.child_role_id,\n",
    "    a.dob,\n",
    "    a.gender,\n",
    "    a.creating_court,\n",
    "    disposal_court,\n",
    "    disposal_dfj,\n",
    "    disposal_region\n",
    "  FROM\n",
    "    __temp__.ca_disps_no_child a\n",
    "\"\"\"\n",
    "\n",
    "_ = pydb.start_query_execution_and_wait(all_child_disps)"
   ]
  },
  {
   "cell_type": "markdown",
   "metadata": {},
   "source": [
    "## Closed cases\n",
    "##### 3 different event types are used to determine the case closed date (not all cases will have all events populated):\n",
    "#####   - Date of final order/non-final order\n",
    "#####   - Date of case closed event\n",
    "#####   - Date of case re-opened event\n",
    "\n",
    "##### For each date event, a flag is created to identify the last date within each case, which is then added to each case and the case close date can be determined"
   ]
  },
  {
   "cell_type": "markdown",
   "metadata": {},
   "source": [
    "#### Final order/non-final order events"
   ]
  },
  {
   "cell_type": "code",
   "execution_count": null,
   "metadata": {},
   "outputs": [],
   "source": [
    "#Extract final order information for disposals. The value field indicates whether the event was a final order within the case\n",
    "#Columns added to create a flag for the latest final order within each case\n",
    "pydb.create_temp_table( \n",
    "f\"\"\"\n",
    "  SELECT \n",
    "    e.event,\n",
    "    e.case_number,\n",
    "    COALESCE(e.receipt_date, e.entry_date) AS disp_date,\n",
    "    f.field_model,\n",
    "    f.value as FO_value,\n",
    "    ROW_NUMBER() OVER(PARTITION BY e.case_number, f.value\n",
    "                       ORDER BY e.case_number, COALESCE(e.receipt_date, e.entry_date) DESC) \n",
    "      AS max_date_rank,\n",
    "    e.creating_court\n",
    "  FROM \n",
    "    {db1}.event_fields f\n",
    "    JOIN {db1}.events e\n",
    "      ON f.event = e.event\n",
    "  WHERE \n",
    "      field_model IN ('C21_FO','C23_FO','C24_FO','C25_FO','C26_FO','C27_FO','C28_FO','C29_FO','C30_FO',\n",
    "                      'C31_FO','C32A_FO','C32B_FO','C33_FO','C34A_FO','C34B_FO','C35A_FO','C35B_FO','C36_FO',\n",
    "                      'C37_FO','C38A_FO','C38B_FO','C39_FO','C40_FO','C42_FO','C43_FO','C43A_FO','C44A_FO',\n",
    "                      'C44B_FO','C45A_FO','C45B_FO','C53_FO','C80_FO','C81_FO','C82_FO','CPA_FO',\n",
    "                      'ORDNOM_FO','ORDREF_FO','G63_FO')\n",
    "              \n",
    "    AND f.mojap_snapshot_date = DATE'{snapshot_date}'\n",
    "    AND e.mojap_snapshot_date = DATE'{snapshot_date}'\n",
    "    AND e.error = 'N'\n",
    "\"\"\",\n",
    "\n",
    "\"ca_final_orders\")"
   ]
  },
  {
   "cell_type": "markdown",
   "metadata": {},
   "source": [
    "#### Case closed events"
   ]
  },
  {
   "cell_type": "code",
   "execution_count": null,
   "metadata": {},
   "outputs": [],
   "source": [
    "#Extracting the case closed event, and as with final orders create a flag for the latest date recorded for each case\n",
    "pydb.create_temp_table(\n",
    "f\"\"\"\n",
    "SELECT\n",
    "    case_number,\n",
    "    receipt_date,\n",
    "    CAST (entry_date AS DATE) AS entry_date,\n",
    "    ROW_NUMBER() OVER(PARTITION BY case_number\n",
    "                       ORDER BY case_number, entry_date DESC) \n",
    "      AS max_date_rank,\n",
    "    creating_court\n",
    "FROM\n",
    "    {db1}.events\n",
    "WHERE\n",
    "  event_model = 'U24'\n",
    "  AND error = 'N'\n",
    "  AND mojap_snapshot_date = date '{snapshot_date}'\n",
    "\"\"\",\n",
    "\n",
    "\"ca_case_closed_events\")\n",
    " "
   ]
  },
  {
   "cell_type": "markdown",
   "metadata": {},
   "source": [
    "#### Case re-opened events"
   ]
  },
  {
   "cell_type": "code",
   "execution_count": null,
   "metadata": {},
   "outputs": [],
   "source": [
    "#Extract information on whether a case has been re-opened, and if so columns added so we can easily identify the latest re-open date for each case\n",
    "pydb.create_temp_table(\n",
    "f\"\"\"\n",
    "SELECT\n",
    "    case_number,\n",
    "    receipt_date,\n",
    "    CAST (entry_date AS DATE) AS entry_date,\n",
    "    ROW_NUMBER() OVER(PARTITION BY case_number\n",
    "                       ORDER BY case_number, entry_date DESC) \n",
    "      AS max_date_rank  \n",
    "FROM\n",
    "    {db1}.events\n",
    "WHERE\n",
    "  event_model = 'G62'\n",
    "  AND error = 'N'\n",
    "  AND mojap_snapshot_date = date '{snapshot_date}'\n",
    "\"\"\",\n",
    "\n",
    "\"ca_case_reopened_events\")\n",
    " "
   ]
  },
  {
   "cell_type": "markdown",
   "metadata": {},
   "source": [
    "#### Final order/case closed/case re-opened dates added to case"
   ]
  },
  {
   "cell_type": "code",
   "execution_count": null,
   "metadata": {},
   "outputs": [],
   "source": [
    "#Here we get a distinct list of case numbers, and add to them the dates calculated earlier, so that for each case we have the last final order, non final order, date close and case re-opened event\n",
    "pydb.create_temp_table(\n",
    "f\"\"\"\n",
    "SELECT\n",
    "    DISTINCT\n",
    "    t1.case_number,\n",
    "    t1.main_case_type AS case_type,\n",
    "    (SELECT f.disp_date FROM __temp__.ca_final_orders f\n",
    "                         WHERE f.max_date_rank = 1 \n",
    "                         AND f.fo_value = 'Y'\n",
    "                         AND t1.case_number = f.case_number)\n",
    "        AS last_final_order,\n",
    "    (SELECT f.creating_court FROM __temp__.ca_final_orders f\n",
    "                              WHERE f.max_date_rank = 1 \n",
    "                              AND f.fo_value = 'Y'\n",
    "                              AND t1.case_number = f.case_number)\n",
    "        AS last_final_order_court,\n",
    "    (SELECT f.disp_date FROM __temp__.ca_final_orders f\n",
    "                         WHERE f.max_date_rank = 1 \n",
    "                         AND f.fo_value = 'N'\n",
    "                         AND t1.case_number = f.case_number)\n",
    "        AS last_no_final_order,    \n",
    "    (SELECT c.entry_date FROM __temp__.ca_case_closed_events c\n",
    "                         WHERE c.max_date_rank = 1 \n",
    "                         AND t1.case_number = c.case_number) \n",
    "        AS last_close_date,  \n",
    "    (SELECT c.creating_court FROM __temp__.ca_case_closed_events c\n",
    "                              WHERE c.max_date_rank = 1 \n",
    "                              AND t1.case_number = c.case_number) \n",
    "        AS last_close_date_court,     \n",
    "    (SELECT r.entry_date FROM __temp__.ca_case_reopened_events r\n",
    "                         WHERE r.max_date_rank = 1 \n",
    "                         AND t1.case_number = r.case_number)\n",
    "        AS last_reopen\n",
    "FROM\n",
    "  {fcsq_db}.ca_all_disposals t1\n",
    "WHERE \n",
    "  disp_type_code <> 2\n",
    "  \n",
    "\"\"\",\n",
    "    \n",
    "\"ca_closed_date_events\")"
   ]
  },
  {
   "cell_type": "markdown",
   "metadata": {},
   "source": [
    "#### Calculate final event type within each case"
   ]
  },
  {
   "cell_type": "code",
   "execution_count": null,
   "metadata": {
    "tags": []
   },
   "outputs": [],
   "source": [
    "#Here the code compares each of the different dates and adds a column to show what type of event the last date recorded on the case is\n",
    "pydb.create_temp_table(\n",
    "f\"\"\"\n",
    "SELECT\n",
    "  case_number,\n",
    "  case_type,\n",
    "  last_final_order,\n",
    "  last_final_order_court,\n",
    "  last_no_final_order,\n",
    "  last_close_date,\n",
    "  last_close_date_court,\n",
    "  last_reopen,\n",
    "  CASE WHEN last_close_date = GREATEST ((COALESCE(last_final_order, CAST('1900-01-01' AS DATE))), (COALESCE(last_no_final_order, CAST('1900-01-01' AS DATE))), \n",
    "                                      (COALESCE(last_close_date, CAST('1900-01-01' AS DATE))), (COALESCE(last_reopen, CAST('1900-01-01' AS DATE))))\n",
    "             THEN 'case closed'\n",
    "       WHEN last_final_order = GREATEST ((COALESCE(last_final_order, CAST('1900-01-01' AS DATE))), (COALESCE(last_no_final_order, CAST('1900-01-01' AS DATE))), \n",
    "                                      (COALESCE(last_close_date, CAST('1900-01-01' AS DATE))), (COALESCE(last_reopen, CAST('1900-01-01' AS DATE))))\n",
    "             THEN 'final order'     \n",
    "       WHEN last_no_final_order = GREATEST ((COALESCE(last_final_order, CAST('1900-01-01' AS DATE))), (COALESCE(last_no_final_order, CAST('1900-01-01' AS DATE))), \n",
    "                                      (COALESCE(last_close_date, CAST('1900-01-01' AS DATE))), (COALESCE(last_reopen, CAST('1900-01-01' AS DATE))))\n",
    "             THEN 'non final order' \n",
    "       WHEN last_reopen = GREATEST ((COALESCE(last_final_order, CAST('1900-01-01' AS DATE))), (COALESCE(last_no_final_order, CAST('1900-01-01' AS DATE))), \n",
    "                                      (COALESCE(last_close_date, CAST('1900-01-01' AS DATE))), (COALESCE(last_reopen, CAST('1900-01-01' AS DATE))))\n",
    "             THEN 'case reopened'\n",
    "     END AS last_date_type\n",
    "        \n",
    "FROM\n",
    "  __temp__.ca_closed_date_events\n",
    "\"\"\",\n",
    "\n",
    "\"ca_last_case_date\")"
   ]
  },
  {
   "cell_type": "markdown",
   "metadata": {},
   "source": [
    "#### Calculate case close date"
   ]
  },
  {
   "cell_type": "code",
   "execution_count": null,
   "metadata": {},
   "outputs": [],
   "source": [
    "#to check we are happy with how we deal with case date where case close date = case reopen date\n",
    "#for the vast majority of cases the close date will be the date of the last final order. There are some exceptions (where the case is flgged as closed and the re-open/non final orders are recorded as\n",
    "#   later than the last final order)\n",
    "pydb.create_temp_table(\n",
    "f\"\"\"\n",
    "SELECT\n",
    "  case_number,\n",
    "  case_type,\n",
    "  last_final_order,\n",
    "  last_no_final_order,\n",
    "  last_close_date,\n",
    "  last_reopen,\n",
    "  last_date_type,\n",
    "  CASE WHEN last_close_date = last_reopen \n",
    "        AND last_date_type = 'case closed'\n",
    "         THEN last_close_date\n",
    "       WHEN last_reopen > last_final_order\n",
    "        AND last_date_type = 'case closed'\n",
    "         THEN last_close_date  \n",
    "       WHEN last_date_type = 'case closed'\n",
    "         THEN COALESCE (last_final_order, last_close_date)\n",
    "       WHEN last_date_type = 'final order'\n",
    "         THEN last_final_order\n",
    "       WHEN last_date_type = 'non final order'\n",
    "        AND last_close_date IS NOT NULL\n",
    "        AND (last_reopen IS NULL \n",
    "                OR (last_reopen IS NOT NULL AND last_close_date > last_reopen))\n",
    "          THEN last_close_date\n",
    "       ELSE NULL   \n",
    "      END \n",
    "    AS case_closed_date,\n",
    "  CASE WHEN last_close_date = last_reopen \n",
    "        AND last_date_type = 'case closed'\n",
    "         THEN last_close_date_court\n",
    "       WHEN last_reopen > last_final_order\n",
    "        AND last_date_type = 'case closed'\n",
    "         THEN last_close_date_court  \n",
    "       WHEN last_date_type = 'case closed'\n",
    "         THEN COALESCE (last_final_order_court, last_close_date_court)\n",
    "       WHEN last_date_type = 'final order'\n",
    "         THEN last_final_order_court\n",
    "       WHEN last_date_type = 'non final order'\n",
    "        AND last_close_date IS NOT NULL\n",
    "        AND (last_reopen IS NULL \n",
    "                OR (last_reopen IS NOT NULL AND last_close_date > last_reopen))\n",
    "          THEN last_close_date_court\n",
    "       ELSE NULL   \n",
    "      END \n",
    "    AS case_closed_court\n",
    "FROM\n",
    "  __temp__.ca_last_case_date\n",
    "\n",
    "\"\"\",\n",
    "    \n",
    "\"ca_closed_date\")\n",
    "                  "
   ]
  },
  {
   "cell_type": "markdown",
   "metadata": {},
   "source": [
    "### Cases closed"
   ]
  },
  {
   "cell_type": "code",
   "execution_count": null,
   "metadata": {},
   "outputs": [],
   "source": [
    "#drop table in Athena (if it already exists)\n",
    "_ = pydb.start_query_execution_and_wait(f\"\"\"DROP TABLE {fcsq_db}.ca_closed_cases\"\"\")"
   ]
  },
  {
   "cell_type": "code",
   "execution_count": null,
   "metadata": {
    "tags": []
   },
   "outputs": [],
   "source": [
    "#Year and quarter added, alongside court/area lookup\n",
    "\n",
    "#set S3 file path\n",
    "closed_cases_s3_path = os.path.join(fcsq_db_path, \"closed_cases/\")\n",
    "# Delete all the underlying data stored within the S3 location\n",
    "if wr.s3.list_objects(closed_cases_s3_path):\n",
    "    print(\"deleting objs\")\n",
    "    wr.s3.delete_objects(closed_cases_s3_path)\n",
    "    \n",
    "#Create table in Athena\n",
    "\n",
    "closed_cases =  f\"\"\"\n",
    "CREATE TABLE {fcsq_db}.ca_closed_cases WITH\n",
    "(\n",
    "    external_location='{closed_cases_s3_path}'\n",
    ") AS\n",
    "SELECT\n",
    "  c.case_number,\n",
    "  EXTRACT(YEAR FROM c.case_closed_date) AS Year,\n",
    "  EXTRACT(QUARTER FROM c.case_closed_date) AS Quarter,\n",
    "  c.case_type,\n",
    "  c.case_closed_date,\n",
    "  c.case_closed_court,\n",
    "  ct.dfj_new AS case_closed_dfj,\n",
    "  CASE WHEN EXTRACT(YEAR FROM c.case_closed_date) < 2014 THEN ct.region_pre2014\n",
    "        ELSE ct.region END \n",
    "    AS case_closed_region\n",
    "FROM\n",
    "  __temp__.ca_closed_date c\n",
    "  LEFT JOIN {fcsq_db}.court_mv_feb21_dfj ct\n",
    "    ON c.case_closed_court = ct.court\n",
    "WHERE\n",
    "  case_closed_date IS NOT NULL\n",
    "\n",
    "\"\"\"\n",
    "    \n",
    "_ = pydb.start_query_execution_and_wait(closed_cases)"
   ]
  },
  {
   "cell_type": "code",
   "execution_count": null,
   "metadata": {},
   "outputs": [],
   "source": [
    "data = pydb.read_sql_query (\"select * from __temp__.ca_closed_cases where year = 2015 and quarter = 1\")"
   ]
  },
  {
   "cell_type": "code",
   "execution_count": null,
   "metadata": {},
   "outputs": [],
   "source": [
    "df = pd.DataFrame(data)"
   ]
  },
  {
   "cell_type": "code",
   "execution_count": null,
   "metadata": {},
   "outputs": [],
   "source": [
    "df.to_csv ('Exports/closed_data_check.csv', header = True)"
   ]
  },
  {
   "cell_type": "code",
   "execution_count": null,
   "metadata": {},
   "outputs": [],
   "source": [
    "df.to_csv (r's3://alpha-family-data/fcsq_processing/CA_disps/case_check/ca_disp_cases.csv', header = True)"
   ]
  },
  {
   "cell_type": "markdown",
   "metadata": {},
   "source": [
    "### Removal of duplicate children"
   ]
  },
  {
   "cell_type": "markdown",
   "metadata": {},
   "source": [
    "#### This code is not currently used as the old SAS process never removed duplicate orders made - but placing here as it's likely we will come to this in future"
   ]
  },
  {
   "cell_type": "code",
   "execution_count": null,
   "metadata": {},
   "outputs": [],
   "source": [
    "pydb.create_temp_table(\n",
    "f\"\"\"\n",
    "  SELECT\n",
    "    *,\n",
    "    ROW_NUMBER() OVER(PARTITION BY case_number, child_role_id, order_code, receipt_date, disp_type \n",
    "                       ORDER BY case_number, child_role_id, order_code, receipt_date, event) \n",
    "      AS dup_rank\n",
    "  FROM\n",
    "    __temp__.ca_disps_all_children\n",
    "\n",
    "\"\"\",\n",
    "    \n",
    "\"ca_disp_dup_flag\")"
   ]
  },
  {
   "cell_type": "code",
   "execution_count": null,
   "metadata": {
    "jupyter": {
     "outputs_hidden": true
    },
    "tags": []
   },
   "outputs": [],
   "source": [
    "pydb.read_sql_query (\"select * from __temp__.ca_disp_dup_flag where case_number in ('AF13P00441') limit 10\") "
   ]
  },
  {
   "cell_type": "code",
   "execution_count": null,
   "metadata": {
    "jupyter": {
     "outputs_hidden": true
    },
    "tags": []
   },
   "outputs": [],
   "source": [
    "pydb.read_sql_query (\"select * from __temp__.ca_disp_dup_flag where dup_rank = 2 limit 10\") "
   ]
  },
  {
   "cell_type": "code",
   "execution_count": null,
   "metadata": {},
   "outputs": [],
   "source": [
    "#get an idea of how many might be duplicate order types\n",
    "pydb.read_sql_query (\"select count(*) count from __temp__.ca_disp_dup_flag where year > 2010 and disp_type_code = 1 and dup_rank > 1\")"
   ]
  },
  {
   "cell_type": "code",
   "execution_count": null,
   "metadata": {},
   "outputs": [],
   "source": [
    "#drop table in Athena (if it already exists)\n",
    "_ = pydb.start_query_execution_and_wait(f\"\"\"DROP TABLE {fcsq_db}.ca_disps\"\"\")"
   ]
  },
  {
   "cell_type": "code",
   "execution_count": null,
   "metadata": {},
   "outputs": [],
   "source": [
    "#set S3 file path\n",
    "disp_s3_path = os.path.join(fcsq_db_path, \"disps/\")\n",
    "# Delete all the underlying data stored within the S3 location\n",
    "if wr.s3.list_objects(disp_s3_path):\n",
    "    print(\"deleting objs\")\n",
    "    wr.s3.delete_objects(disp_s3_path)\n",
    "    \n",
    "t_disps = f\"\"\"\n",
    "CREATE TABLE {fcsq_db}.ca_disps WITH\n",
    "(\n",
    "    external_location='{disp_s3_path}'\n",
    ") AS   \n",
    "SELECT\n",
    "*\n",
    "FROM\n",
    "__temp__.ca_disps_children_FO\n",
    "\"\"\"\n",
    "    \n",
    "_ = pydb.start_query_execution_and_wait(t_disps)    "
   ]
  }
 ],
 "metadata": {
  "kernelspec": {
   "display_name": "Python 3",
   "language": "python",
   "name": "python3"
  },
  "language_info": {
   "codemirror_mode": {
    "name": "ipython",
    "version": 3
   },
   "file_extension": ".py",
   "mimetype": "text/x-python",
   "name": "python",
   "nbconvert_exporter": "python",
   "pygments_lexer": "ipython3",
   "version": "3.9.4"
  }
 },
 "nbformat": 4,
 "nbformat_minor": 4
}
