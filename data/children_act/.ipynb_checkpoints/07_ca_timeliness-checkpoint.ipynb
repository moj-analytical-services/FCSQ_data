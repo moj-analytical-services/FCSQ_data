{
 "cells": [
  {
   "cell_type": "markdown",
   "id": "af4c502d-8c56-40dd-b629-6c2966995dc0",
   "metadata": {},
   "source": [
    "## Children Act timeliess"
   ]
  },
  {
   "cell_type": "markdown",
   "id": "bd22c19c-7c38-4b0c-863f-8473d02d0873",
   "metadata": {},
   "source": [
    "#### This code has been put together trying to replicate the existing SAS output"
   ]
  },
  {
   "cell_type": "code",
   "execution_count": 30,
   "id": "79f62fc9-c10e-4284-a1a9-646aa5bc1cd1",
   "metadata": {},
   "outputs": [],
   "source": [
    "# libraries\n",
    "import pandas as pd\n",
    "import pydbtools as pydb\n",
    "import os  # for file paths\n",
    "import awswrangler as wr"
   ]
  },
  {
   "cell_type": "code",
   "execution_count": 31,
   "id": "ca30fab2-625c-40fa-ab5f-57b16bfae077",
   "metadata": {},
   "outputs": [],
   "source": [
    "# Structured  dataframes\n",
    "pd.set_option(\"display.max_columns\", 100)\n",
    "pd.set_option(\"display.width\", 900)\n",
    "pd.set_option(\"display.max_colwidth\", 200)"
   ]
  },
  {
   "cell_type": "markdown",
   "id": "52374633-48ce-4e76-9791-328863ca7cb3",
   "metadata": {},
   "source": [
    "##### Assigning key variables"
   ]
  },
  {
   "cell_type": "code",
   "execution_count": 59,
   "id": "94081d79-60c1-4c0e-890d-1a09b64a9373",
   "metadata": {},
   "outputs": [],
   "source": [
    "# define some variables to be used throughout the notebook\n",
    "db1 = \"familyman_dev_v3\" #database where Familyman data is stored\n",
    "db2 = \"fcsq\" #database where tables created as part of FCSQ processing are stored where required\n",
    "#snapshot date and pub periods are set in the main run file. However, if running this notebook independently you will need to set them here\n",
    "snapshot_date = \"2023-05-10\"\n",
    "pub_year = 2023 #set the publication year\n",
    "pub_qtr = 1 #set the publication quarter\n",
    "fcsq_db_path = f\"s3://alpha-family-data/fcsq_processing/CA_disps/\" # create path for within athena FCSQ database in the S3 folder, alongside other S3 items"
   ]
  },
  {
   "cell_type": "markdown",
   "id": "50c2765e-ad19-4637-8602-7a3da1e85f58",
   "metadata": {},
   "source": [
    "#### Extract date of issue"
   ]
  },
  {
   "cell_type": "code",
   "execution_count": 60,
   "id": "55c90f29-032e-4cf7-9490-3f093222640c",
   "metadata": {},
   "outputs": [
    {
     "name": "stdout",
     "output_type": "stream",
     "text": [
      "extracting date of issue....\n"
     ]
    }
   ],
   "source": [
    "print(\"extracting date of issue....\")\n",
    "pydb.create_temp_table(\n",
    "f\"\"\" \n",
    "SELECT \n",
    "  case_number,\n",
    "  CAST(value AS Date) AS case_DOI\n",
    "FROM \n",
    "  {db1}.case_fields AS f\n",
    " \n",
    "WHERE\n",
    "  field_model = 'FM2C_DI'\n",
    "  AND mojap_snapshot_date = DATE'{snapshot_date}'\n",
    "\n",
    "\"\"\",\n",
    "\n",
    "\"DOI\")"
   ]
  },
  {
   "cell_type": "markdown",
   "id": "3b93c8bc-4a0e-41bf-bdc5-e38d6b8bd5ef",
   "metadata": {},
   "source": [
    "#### Create start date using date of issue"
   ]
  },
  {
   "cell_type": "code",
   "execution_count": 61,
   "id": "584a18e3-b4be-40a4-945e-3ed84135664e",
   "metadata": {},
   "outputs": [
    {
     "name": "stdout",
     "output_type": "stream",
     "text": [
      "creating start date....\n"
     ]
    }
   ],
   "source": [
    "#Adding the start date to the main child apps data created in the main child apps process (so data is at child and order level)\n",
    "#Only including specific order types\n",
    "print(\"creating start date....\")\n",
    "pydb.create_temp_table(\n",
    "f\"\"\" \n",
    "SELECT \n",
    "  t1.case_number,\n",
    "  t1.receipt_date,\n",
    "  t1.event,\n",
    "  t1.field_model,\n",
    "  t1.order_type,\n",
    "  t1.order_code,\n",
    "  t1.order_desc,\n",
    "  t1.child_role_id,\n",
    "  t1.order_case_type,\n",
    "  t2.case_DOI,\n",
    "  CASE WHEN  t2.case_DOI is null\n",
    "        THEN t1.receipt_date\n",
    "       WHEN t1.field_model = 'U22_AT' AND (t2.Case_DOI<t1.Receipt_date)\n",
    "        THEN t2.Case_DOI\n",
    "        ELSE t1.Receipt_date END\n",
    "      AS Start_date\n",
    "FROM \n",
    "  {db2}.ca_apps_child AS t1\n",
    "      LEFT JOIN __temp__.DOI AS t2 \n",
    "       ON t1.case_number = t2.case_number\n",
    "WHERE\n",
    "  t1.order_code IN (1,4,14,25,27,29,30,31,32)\n",
    "\n",
    "\"\"\",\n",
    "\n",
    "\"ca_apps_issue_date\")"
   ]
  },
  {
   "cell_type": "markdown",
   "id": "47d49c18-ab4c-4083-9f46-68c1efbb6bee",
   "metadata": {},
   "source": [
    "#### Matching applications to disposals"
   ]
  },
  {
   "cell_type": "code",
   "execution_count": 62,
   "id": "7c1690b7-41b2-48d7-8474-29eb49b86ced",
   "metadata": {},
   "outputs": [
    {
     "name": "stdout",
     "output_type": "stream",
     "text": [
      "matching applications to disposals....\n"
     ]
    }
   ],
   "source": [
    "#Matching apps data to the main child disposal data set created in the child disposals processing - matches at child and order level\n",
    "#Filetering out certain order types alongside interim orders\n",
    "#Ranks the earlies diposal as the first disposal\n",
    "print(\"matching applications to disposals....\")\n",
    "pydb.create_temp_table(\n",
    "f\"\"\" \n",
    "SELECT \n",
    "  a.*,\n",
    "  YEAR(d.disp_date) AS Year,\n",
    "  QUARTER(d.disp_date) AS Quarter,\n",
    "  MONTH(d.disp_date) AS Month,\n",
    "  d.disp_date,\n",
    "  date_diff('day',a.start_date, d.disp_date) AS days,\n",
    "  date_diff('week',a.start_date, d.disp_date) AS weeks,\n",
    "  ROW_NUMBER() OVER(PARTITION BY a.case_number, a.child_role_id, a.order_code, a.start_date\n",
    "                       ORDER BY d.disp_date) \n",
    "      AS disp_rank,\n",
    "  d.disposal_court,\n",
    "  d.disposal_dfj,\n",
    "  d.disposal_region \n",
    "FROM\n",
    "  __temp__.ca_apps_issue_date a\n",
    "  LEFT JOIN {db2}.ca_disps_all_children d\n",
    "    ON a.case_number = d.case_number\n",
    "    AND a.order_case_type = d.order_case_type\n",
    "    AND a.child_role_id = d.child_role_id\n",
    "WHERE \n",
    "  date_diff('day',a.start_date, d.disp_date) >= 0\n",
    "  AND d.event_model NOT IN ('CPA','C21','C27','C30','C31','C33','C35B','C44A','C44B','C46A','C46B','C47A','C47C','C48A', \n",
    "                          'C48B','C48C','C49','D51','D84C','MAGEPO','MAGS37')\n",
    "  AND d.disp_type_code <> 2\n",
    "\n",
    "\"\"\",\n",
    "\n",
    "\"app_disp_match\")"
   ]
  },
  {
   "cell_type": "markdown",
   "id": "6898759a-81e5-4359-96c7-a30d1f3e9967",
   "metadata": {},
   "source": [
    "#### Selecting the earliest disposal"
   ]
  },
  {
   "cell_type": "code",
   "execution_count": 63,
   "id": "c333b37d-7440-4ae7-8624-4ffa5e48f0dc",
   "metadata": {},
   "outputs": [
    {
     "name": "stdout",
     "output_type": "stream",
     "text": [
      "selecting the earliest disposal....\n"
     ]
    }
   ],
   "source": [
    "#Selects the first diposal for each order type/child matched\n",
    "#Multiple children can get matched to the same disposal (if the disposal has multiple child id's)\n",
    "#More than one application/order type can be matched to one disposal - here we are replicating the SAS process \n",
    "print(\"selecting the earliest disposal....\")\n",
    "pydb.create_temp_table(\n",
    "f\"\"\" \n",
    "SELECT \n",
    "  *\n",
    "FROM \n",
    "  __temp__.app_disp_match\n",
    "WHERE\n",
    "  disp_rank = 1\n",
    "\n",
    "\"\"\",\n",
    "\n",
    "\"first_disp\")"
   ]
  },
  {
   "cell_type": "markdown",
   "id": "5dab54fe-8047-4974-93a8-103b826d5d29",
   "metadata": {},
   "source": [
    "#### Creation of main timeliess dataset, deletion of dup apps"
   ]
  },
  {
   "cell_type": "code",
   "execution_count": 64,
   "id": "31196a9c-3b1d-4428-98b9-f4026a32411b",
   "metadata": {},
   "outputs": [
    {
     "name": "stdout",
     "output_type": "stream",
     "text": [
      "creating main timeliness dataset....\n"
     ]
    }
   ],
   "source": [
    "#Here we get rid of any instances of an application of the same order type for the same child, and only the earliest one is selected\n",
    "print(\"creating main timeliness dataset....\")\n",
    "pydb.create_temp_table(\n",
    "f\"\"\" \n",
    "WITH dup_app_type AS\n",
    " (SELECT \n",
    "   *,\n",
    "   ROW_NUMBER() OVER(PARTITION BY case_number, child_role_id, order_code\n",
    "                       ORDER BY start_date, case_number, child_role_id, order_code) \n",
    "     AS dup_app_rank\n",
    " FROM \n",
    "   __temp__.first_disp\n",
    " )\n",
    "\n",
    "SELECT\n",
    "  *\n",
    "FROM\n",
    "  dup_app_type\n",
    "WHERE\n",
    "  dup_app_rank = 1\n",
    "\n",
    "\"\"\",\n",
    "\n",
    "\"ca_timeliness_all\")"
   ]
  },
  {
   "cell_type": "markdown",
   "id": "432a2666-b672-485e-a601-d61b49d9dba1",
   "metadata": {},
   "source": [
    "#### Legal rep"
   ]
  },
  {
   "cell_type": "markdown",
   "id": "e4d595b1-758c-4dda-bf00-249112822eed",
   "metadata": {},
   "source": [
    "##### Applicants"
   ]
  },
  {
   "cell_type": "code",
   "execution_count": 65,
   "id": "15ab2263-5958-4036-8ddf-37998172d359",
   "metadata": {},
   "outputs": [
    {
     "name": "stdout",
     "output_type": "stream",
     "text": [
      "getting applicants with legal representation....\n"
     ]
    }
   ],
   "source": [
    "#Table of case numbers in which at least one applicant has legal rep\n",
    "#Applicants table was created during main application processing\n",
    "print(\"getting applicants with legal representation....\")\n",
    "pydb.create_temp_table(\n",
    "f\"\"\" \n",
    "SELECT \n",
    "  DISTINCT\n",
    "    case_number,\n",
    "    representation\n",
    "FROM \n",
    "  {db2}.ca_applicants\n",
    "WHERE\n",
    "  representation = 'Y'\n",
    "\n",
    "\"\"\",\n",
    "\n",
    "\"app_legal_rep\")"
   ]
  },
  {
   "cell_type": "markdown",
   "id": "4653ba5c-1202-4e31-9e95-9959dc0eaa92",
   "metadata": {},
   "source": [
    "##### Respondents"
   ]
  },
  {
   "cell_type": "code",
   "execution_count": 66,
   "id": "18490d77-ea6c-4e90-912a-2d3bebf5df44",
   "metadata": {},
   "outputs": [
    {
     "name": "stdout",
     "output_type": "stream",
     "text": [
      "getting respondents with legal representation....\n"
     ]
    }
   ],
   "source": [
    "#Table of case numbers in which at least one respondent has legal rep\n",
    "#Respondents table was created during main application processing\n",
    "print(\"getting respondents with legal representation....\")\n",
    "pydb.create_temp_table(\n",
    "f\"\"\" \n",
    "SELECT \n",
    "  DISTINCT\n",
    "    case_number,\n",
    "    representation\n",
    "FROM \n",
    "  {db2}.ca_respondents\n",
    "WHERE\n",
    "  representation = 'Y'\n",
    "\n",
    "\"\"\",\n",
    "\n",
    "\"resp_legal_rep\")"
   ]
  },
  {
   "cell_type": "markdown",
   "id": "0d2b4f62-0744-4977-86e8-96fb029d9d31",
   "metadata": {},
   "source": [
    "#### Timeliness with legal rep"
   ]
  },
  {
   "cell_type": "code",
   "execution_count": 67,
   "id": "82d789ba-ef98-40fc-839d-2f2767858742",
   "metadata": {},
   "outputs": [
    {
     "name": "stdout",
     "output_type": "stream",
     "text": [
      "creating timeliness with party representation....\n"
     ]
    }
   ],
   "source": [
    "print(\"creating timeliness with party representation....\")\n",
    "pydb.create_temp_table(\n",
    "f\"\"\" \n",
    "SELECT \n",
    "  t.*,\n",
    "  CASE WHEN a.representation = 'Y'\n",
    "       AND  r.representation = 'Y'\n",
    "         THEN 'Both'\n",
    "       WHEN a.representation = 'Y'\n",
    "       AND  r.representation IS NULL\n",
    "         THEN 'Applicant Only'\n",
    "       WHEN a.representation IS NULL\n",
    "       AND  r.representation = 'Y'\n",
    "         THEN 'Respondent Only' \n",
    "      WHEN a.representation IS NULL\n",
    "      AND  r.representation IS NULL\n",
    "         THEN 'Neither' END\n",
    "    AS representation\n",
    "FROM \n",
    "  __temp__.ca_timeliness_all t\n",
    "  LEFT JOIN __temp__.app_legal_rep a\n",
    "    ON t.case_number = a.case_number\n",
    "  LEFT JOIN __temp__.resp_legal_rep r\n",
    "    ON t.case_number = r.case_number\n",
    "WHERE \n",
    "  t.year > 2010\n",
    "\n",
    "\"\"\",\n",
    "\n",
    "\"timeliness_legal_rep\")"
   ]
  },
  {
   "cell_type": "markdown",
   "id": "52a00add-67d4-4f13-9279-88a3a007cc72",
   "metadata": {},
   "source": [
    "#### Creating median groups"
   ]
  },
  {
   "cell_type": "code",
   "execution_count": 68,
   "id": "2afdabe6-d1d3-429b-a35f-0af1a7210b2d",
   "metadata": {},
   "outputs": [
    {
     "name": "stdout",
     "output_type": "stream",
     "text": [
      "creating median tiles....\n"
     ]
    }
   ],
   "source": [
    "#Here the ntile function splits the data in to 2 groups to help calculate the median. Different groupings (eg regional or national) require separate splits\n",
    "print(\"creating median tiles....\")\n",
    "pydb.create_temp_table(\n",
    "f\"\"\"\n",
    "SELECT\n",
    "  *,\n",
    "  NTILE(2) OVER (PARTITION BY year, quarter, order_case_type, disposal_region, representation ORDER BY days) \n",
    "    AS median_tile_regional,\n",
    "  NTILE(2) OVER (PARTITION BY year, quarter, order_case_type, representation ORDER BY days) \n",
    "    AS median_tile_national\n",
    "FROM\n",
    "  __temp__.timeliness_legal_rep\n",
    "\n",
    "    \n",
    "\"\"\",\n",
    "\n",
    "\"ca_time_median_groups\")"
   ]
  },
  {
   "cell_type": "markdown",
   "id": "77679a01-3e81-4b23-9708-4670707ef4dd",
   "metadata": {},
   "source": [
    "#### CSV outputs"
   ]
  },
  {
   "cell_type": "code",
   "execution_count": 69,
   "id": "7505a1ca-4804-489e-bab8-9ed8862d9b53",
   "metadata": {
    "tags": []
   },
   "outputs": [
    {
     "name": "stdout",
     "output_type": "stream",
     "text": [
      "creating regional csv....\n"
     ]
    }
   ],
   "source": [
    "#Regional, quarterly for csv\n",
    "#Median calculation takes the max value from the lower half of the median group if an even number of rows, else takes the aveage of the max value from group one and min value from group 2\n",
    "print(\"creating regional csv....\")\n",
    "pydb.create_temp_table(\n",
    "f\"\"\" \n",
    " SELECT\n",
    "  'Children Act (Private)' as Case_type,\n",
    "  disposal_region AS region,\n",
    "  Representation,\n",
    "  CAST(Year AS VARCHAR) ||'-Q'||CAST(Quarter AS VARCHAR) AS Quarter,\n",
    "  COUNT (*) AS Number_of_cases,\n",
    "  ROUND(AVG ((days)/7),1) as mean_duration,\n",
    "  ROUND((CASE WHEN COUNT(*) % 2 = ROUND(COUNT(*),0)\n",
    "        THEN (MAX(CASE WHEN median_tile_regional = 1 THEN days END) +\n",
    "              MIN(CASE WHEN median_tile_regional = 2 THEN days END)) / 2.0\n",
    "        ELSE MAX(CASE WHEN median_tile_regional = 1 THEN days END)\n",
    "         END)/7,1) \n",
    "     AS median_duration\n",
    "FROM\n",
    "  __temp__.ca_time_median_groups\n",
    "WHERE\n",
    "  order_case_type = 'P'  \n",
    "GROUP BY\n",
    "  year,\n",
    "  quarter,\n",
    "  disposal_region,\n",
    "  representation\n",
    "\"\"\",\n",
    "\n",
    "\"ca_timeliness_region_csv\")"
   ]
  },
  {
   "cell_type": "code",
   "execution_count": 70,
   "id": "ef0ebd0f-abf3-4733-8385-e3f53261ac83",
   "metadata": {},
   "outputs": [
    {
     "name": "stdout",
     "output_type": "stream",
     "text": [
      "creating E&W csv....\n"
     ]
    }
   ],
   "source": [
    "#E&W, quarterly for csv\n",
    "#Median calculation takes the max value from the lower half of the median group if an even number of rows, else takes the aveage of the max value from group one and min value from group 2\n",
    "print(\"creating E&W csv....\")\n",
    "pydb.create_temp_table(\n",
    "f\"\"\" \n",
    " SELECT\n",
    "  'Children Act (Private)' as Case_type,\n",
    "  'England & Wales' AS region,\n",
    "  Representation,\n",
    "  CAST(Year AS VARCHAR) ||'-Q'||CAST(Quarter AS VARCHAR) AS Quarter,\n",
    "  COUNT (*) AS Number_of_disposals,\n",
    "  ROUND(AVG ((days)/7),1) as mean_duration,\n",
    "  ROUND((CASE WHEN COUNT(*) % 2 = ROUND(COUNT(*),0)\n",
    "        THEN (MAX(CASE WHEN median_tile_national = 1 THEN days END) +\n",
    "              MIN(CASE WHEN median_tile_national = 2 THEN days END)) / 2.0\n",
    "        ELSE MAX(CASE WHEN median_tile_national = 1 THEN days END)\n",
    "         END)/7,1) \n",
    "     AS median_duration\n",
    "FROM\n",
    "  __temp__.ca_time_median_groups\n",
    "WHERE\n",
    "  order_case_type = 'P'\n",
    "GROUP BY\n",
    "  year,\n",
    "  quarter,\n",
    "  representation\n",
    "\"\"\",\n",
    "\n",
    "\"ca_timeliness_national_csv\")"
   ]
  },
  {
   "cell_type": "code",
   "execution_count": 71,
   "id": "ed7ea811-525f-43fd-9768-6a242068385c",
   "metadata": {},
   "outputs": [
    {
     "name": "stdout",
     "output_type": "stream",
     "text": [
      "dropping previous child csv timeliness dataset in athena....\n"
     ]
    }
   ],
   "source": [
    "#drop table in Athena (if it already exists)\n",
    "_ = pydb.start_query_execution_and_wait(f\"\"\"DROP TABLE {db2}.ca_csv_timeliness\"\"\")\n",
    "print(\"dropping previous child csv timeliness dataset in athena....\")"
   ]
  },
  {
   "cell_type": "code",
   "execution_count": 72,
   "id": "88023502-abf3-4581-ae06-06b31c7f08af",
   "metadata": {},
   "outputs": [
    {
     "name": "stdout",
     "output_type": "stream",
     "text": [
      "combining regional and national csv's....\n",
      "creating child csv timeliness dataset....\n"
     ]
    }
   ],
   "source": [
    "#Append regional and national csv data\n",
    "print(\"combining regional and national csv's....\")\n",
    "\n",
    "#set S3 file path\n",
    "ca_csv_timeliness_s3_path = os.path.join(fcsq_db_path, \"ca_csv_timeliness/\")\n",
    "# Delete all the underlying data stored within the S3 location\n",
    "if wr.s3.list_objects(ca_csv_timeliness_s3_path):\n",
    "    print(\"deleting child csv timeliness dataset in s3....\")\n",
    "    wr.s3.delete_objects(ca_csv_timeliness_s3_path)\n",
    "    \n",
    "#Create table in Athena\n",
    "print(\"creating child csv timeliness dataset....\")\n",
    "\n",
    "t_child =  f\"\"\"\n",
    "CREATE TABLE {db2}.ca_csv_timeliness WITH\n",
    "(\n",
    "    external_location='{ca_csv_timeliness_s3_path}'\n",
    ") AS\n",
    "SELECT\n",
    "   *\n",
    "FROM\n",
    "  __temp__.ca_timeliness_region_csv\n",
    "UNION ALL\n",
    "SELECT\n",
    "   *\n",
    "FROM\n",
    "  __temp__.ca_timeliness_national_csv;\n",
    "\n",
    "\"\"\"\n",
    "\n",
    "_ = pydb.start_query_execution_and_wait(t_child)"
   ]
  },
  {
   "cell_type": "markdown",
   "id": "13672ef1-738d-4866-a539-b42244235406",
   "metadata": {},
   "source": [
    "##### Export csv to S3"
   ]
  },
  {
   "cell_type": "code",
   "execution_count": 73,
   "id": "d80820c0-f0fb-49ed-9018-3f2ffd3fea18",
   "metadata": {},
   "outputs": [
    {
     "data": {
      "text/html": [
       "<div>\n",
       "<style scoped>\n",
       "    .dataframe tbody tr th:only-of-type {\n",
       "        vertical-align: middle;\n",
       "    }\n",
       "\n",
       "    .dataframe tbody tr th {\n",
       "        vertical-align: top;\n",
       "    }\n",
       "\n",
       "    .dataframe thead th {\n",
       "        text-align: right;\n",
       "    }\n",
       "</style>\n",
       "<table border=\"1\" class=\"dataframe\">\n",
       "  <thead>\n",
       "    <tr style=\"text-align: right;\">\n",
       "      <th></th>\n",
       "      <th>case_type</th>\n",
       "      <th>region</th>\n",
       "      <th>representation</th>\n",
       "      <th>quarter</th>\n",
       "      <th>number_of_cases</th>\n",
       "      <th>mean_duration</th>\n",
       "      <th>median_duration</th>\n",
       "    </tr>\n",
       "  </thead>\n",
       "  <tbody>\n",
       "    <tr>\n",
       "      <th>0</th>\n",
       "      <td>Children Act (Private)</td>\n",
       "      <td>SOUTH EAST</td>\n",
       "      <td>Neither</td>\n",
       "      <td>2016-Q4</td>\n",
       "      <td>1660</td>\n",
       "      <td>12.8</td>\n",
       "      <td>8.0</td>\n",
       "    </tr>\n",
       "    <tr>\n",
       "      <th>1</th>\n",
       "      <td>Children Act (Private)</td>\n",
       "      <td>MIDLANDS</td>\n",
       "      <td>Neither</td>\n",
       "      <td>2022-Q3</td>\n",
       "      <td>1670</td>\n",
       "      <td>36.0</td>\n",
       "      <td>30.0</td>\n",
       "    </tr>\n",
       "    <tr>\n",
       "      <th>2</th>\n",
       "      <td>Children Act (Private)</td>\n",
       "      <td>NORTH WEST</td>\n",
       "      <td>Applicant Only</td>\n",
       "      <td>2016-Q2</td>\n",
       "      <td>832</td>\n",
       "      <td>11.5</td>\n",
       "      <td>8.1</td>\n",
       "    </tr>\n",
       "    <tr>\n",
       "      <th>3</th>\n",
       "      <td>Children Act (Private)</td>\n",
       "      <td>SOUTH EAST</td>\n",
       "      <td>Both</td>\n",
       "      <td>2013-Q3</td>\n",
       "      <td>1171</td>\n",
       "      <td>15.6</td>\n",
       "      <td>10.0</td>\n",
       "    </tr>\n",
       "    <tr>\n",
       "      <th>4</th>\n",
       "      <td>Children Act (Private)</td>\n",
       "      <td>NORTH EAST</td>\n",
       "      <td>Both</td>\n",
       "      <td>2013-Q3</td>\n",
       "      <td>1505</td>\n",
       "      <td>23.0</td>\n",
       "      <td>19.7</td>\n",
       "    </tr>\n",
       "    <tr>\n",
       "      <th>...</th>\n",
       "      <td>...</td>\n",
       "      <td>...</td>\n",
       "      <td>...</td>\n",
       "      <td>...</td>\n",
       "      <td>...</td>\n",
       "      <td>...</td>\n",
       "      <td>...</td>\n",
       "    </tr>\n",
       "    <tr>\n",
       "      <th>1563</th>\n",
       "      <td>Children Act (Private)</td>\n",
       "      <td>SOUTH EAST</td>\n",
       "      <td>Both</td>\n",
       "      <td>2022-Q4</td>\n",
       "      <td>915</td>\n",
       "      <td>30.0</td>\n",
       "      <td>22.7</td>\n",
       "    </tr>\n",
       "    <tr>\n",
       "      <th>1564</th>\n",
       "      <td>Children Act (Private)</td>\n",
       "      <td>WALES</td>\n",
       "      <td>Neither</td>\n",
       "      <td>2020-Q2</td>\n",
       "      <td>262</td>\n",
       "      <td>15.6</td>\n",
       "      <td>13.6</td>\n",
       "    </tr>\n",
       "    <tr>\n",
       "      <th>1565</th>\n",
       "      <td>Children Act (Private)</td>\n",
       "      <td>WALES</td>\n",
       "      <td>Respondent Only</td>\n",
       "      <td>2019-Q1</td>\n",
       "      <td>226</td>\n",
       "      <td>24.7</td>\n",
       "      <td>18.0</td>\n",
       "    </tr>\n",
       "    <tr>\n",
       "      <th>1566</th>\n",
       "      <td>Children Act (Private)</td>\n",
       "      <td>LONDON</td>\n",
       "      <td>Neither</td>\n",
       "      <td>2022-Q1</td>\n",
       "      <td>995</td>\n",
       "      <td>40.6</td>\n",
       "      <td>35.6</td>\n",
       "    </tr>\n",
       "    <tr>\n",
       "      <th>1567</th>\n",
       "      <td>Children Act (Private)</td>\n",
       "      <td>SOUTH WEST</td>\n",
       "      <td>Neither</td>\n",
       "      <td>2013-Q3</td>\n",
       "      <td>729</td>\n",
       "      <td>9.4</td>\n",
       "      <td>7.0</td>\n",
       "    </tr>\n",
       "  </tbody>\n",
       "</table>\n",
       "<p>1568 rows × 7 columns</p>\n",
       "</div>"
      ],
      "text/plain": [
       "                   case_type      region   representation  quarter  number_of_cases  mean_duration  median_duration\n",
       "0     Children Act (Private)  SOUTH EAST          Neither  2016-Q4             1660           12.8              8.0\n",
       "1     Children Act (Private)    MIDLANDS          Neither  2022-Q3             1670           36.0             30.0\n",
       "2     Children Act (Private)  NORTH WEST   Applicant Only  2016-Q2              832           11.5              8.1\n",
       "3     Children Act (Private)  SOUTH EAST             Both  2013-Q3             1171           15.6             10.0\n",
       "4     Children Act (Private)  NORTH EAST             Both  2013-Q3             1505           23.0             19.7\n",
       "...                      ...         ...              ...      ...              ...            ...              ...\n",
       "1563  Children Act (Private)  SOUTH EAST             Both  2022-Q4              915           30.0             22.7\n",
       "1564  Children Act (Private)       WALES          Neither  2020-Q2              262           15.6             13.6\n",
       "1565  Children Act (Private)       WALES  Respondent Only  2019-Q1              226           24.7             18.0\n",
       "1566  Children Act (Private)      LONDON          Neither  2022-Q1              995           40.6             35.6\n",
       "1567  Children Act (Private)  SOUTH WEST          Neither  2013-Q3              729            9.4              7.0\n",
       "\n",
       "[1568 rows x 7 columns]"
      ]
     },
     "execution_count": 73,
     "metadata": {},
     "output_type": "execute_result"
    }
   ],
   "source": [
    "ca_time_csv_data = pydb.read_sql_query (\"select * from fcsq.ca_csv_timeliness\")\n",
    "ca_time_csv_data"
   ]
  },
  {
   "cell_type": "markdown",
   "id": "2328c242-1d33-4a60-84a3-4f255e7b8576",
   "metadata": {},
   "source": [
    "#### Lookup"
   ]
  },
  {
   "cell_type": "code",
   "execution_count": 74,
   "id": "170ce512-596f-42d4-ae2d-7092b7332cfa",
   "metadata": {},
   "outputs": [
    {
     "name": "stdout",
     "output_type": "stream",
     "text": [
      "creating annual lookup....\n"
     ]
    }
   ],
   "source": [
    "#Annual lookup\n",
    "print(\"creating annual lookup....\")\n",
    "pydb.create_temp_table(\n",
    "f\"\"\" \n",
    " SELECT\n",
    "  'Private Law|'||CAST(Year AS VARCHAR)||'|' as lookup,\n",
    "  COUNT(CASE WHEN representation = 'Both' THEN case_number END)\n",
    "    AS Both_n,\n",
    "  ROUND ((AVG(CASE WHEN representation = 'Both' THEN (days/7) END)),3)\n",
    "    AS Both_mean,\n",
    "  COUNT(CASE WHEN representation = 'Applicant Only' THEN case_number END)\n",
    "    AS Applicant_n,\n",
    "  ROUND ((AVG(CASE WHEN representation = 'Applicant Only' THEN (days/7) END)),3)\n",
    "    AS Applicant_mean,\n",
    "  COUNT(CASE WHEN representation = 'Respondent Only' THEN case_number END)\n",
    "    AS Respondent_n,\n",
    "  ROUND ((AVG(CASE WHEN representation = 'Respondent Only' THEN (days/7) END)),3)\n",
    "    AS respondent_mean,\n",
    "  COUNT(CASE WHEN representation = 'Neither' THEN case_number END)\n",
    "    AS neither_n,\n",
    "  ROUND ((AVG(CASE WHEN representation = 'Neither' THEN (days/7) END)),3)\n",
    "    AS neither_mean,  \n",
    "  COUNT(*) AS All_n,\n",
    "  ROUND((AVG(days/7)),3)\n",
    "    AS All_mean\n",
    "FROM\n",
    "  __temp__.timeliness_legal_rep\n",
    "WHERE  \n",
    "  CASE WHEN {pub_qtr} = 4\n",
    "        THEN Year BETWEEN 2011 AND {pub_year}\n",
    "        ELSE Year BETWEEN 2011 AND {pub_year} -1 END\n",
    "  AND order_case_type = 'P'\n",
    "GROUP BY\n",
    "  Year;\n",
    "\"\"\",\n",
    "\n",
    "\"Annual_lookup\")"
   ]
  },
  {
   "cell_type": "code",
   "execution_count": 75,
   "id": "7010930e-36ec-425c-961d-86cc6a9d5fcd",
   "metadata": {},
   "outputs": [
    {
     "name": "stdout",
     "output_type": "stream",
     "text": [
      "creating quarterly lookup....\n"
     ]
    }
   ],
   "source": [
    "#Quarterly lookup\n",
    "print(\"creating quarterly lookup....\")\n",
    "pydb.create_temp_table(\n",
    "f\"\"\" \n",
    " SELECT\n",
    "  'Private Law|'||CAST(Year AS VARCHAR)||'|Q'||CAST(Quarter AS VARCHAR) AS lookup,\n",
    "  COUNT(CASE WHEN representation = 'Both' THEN case_number END)\n",
    "    AS Both_n,\n",
    "  ROUND ((AVG(CASE WHEN representation = 'Both' THEN (days/7) END)),3)\n",
    "    AS Both_mean,\n",
    "  COUNT(CASE WHEN representation = 'Applicant Only' THEN case_number END)\n",
    "    AS Applicant_n,\n",
    "  ROUND ((AVG(CASE WHEN representation = 'Applicant Only' THEN (days/7) END)),3)\n",
    "    AS Applicant_mean,\n",
    "  COUNT(CASE WHEN representation = 'Respondent Only' THEN case_number END)\n",
    "    AS Respondent_n,\n",
    "  ROUND ((AVG(CASE WHEN representation = 'Respondent Only' THEN (days/7) END)),3)\n",
    "    AS respondent_mean,\n",
    "  COUNT(CASE WHEN representation = 'Neither' THEN case_number END)\n",
    "    AS neither_n,\n",
    "  ROUND ((AVG(CASE WHEN representation = 'Neither' THEN (days/7) END)),3)\n",
    "    AS neither_mean,  \n",
    "  COUNT(*) AS All_n,\n",
    "  ROUND((AVG(days/7)),3)\n",
    "    AS All_mean\n",
    "FROM\n",
    "  __temp__.timeliness_legal_rep\n",
    "WHERE  \n",
    "  order_case_type = 'P'\n",
    "GROUP BY\n",
    "  Year,\n",
    "  Quarter;\n",
    "\"\"\",\n",
    "\n",
    "\"Quarter_lookup\")"
   ]
  },
  {
   "cell_type": "code",
   "execution_count": 76,
   "id": "7a83c14b-c474-443a-8acd-47de550d9923",
   "metadata": {},
   "outputs": [
    {
     "name": "stdout",
     "output_type": "stream",
     "text": [
      "dropping previous child t10 timeliness dataset in athena....\n"
     ]
    }
   ],
   "source": [
    "#drop table in Athena (if it already exists)\n",
    "_ = pydb.start_query_execution_and_wait(f\"\"\"DROP TABLE {db2}.ca_t10_timeliness\"\"\")\n",
    "print(\"dropping previous child t10 timeliness dataset in athena....\")"
   ]
  },
  {
   "cell_type": "code",
   "execution_count": 77,
   "id": "5eb0cdb1-4dd4-4bad-8a77-2c1c3ce0a87c",
   "metadata": {},
   "outputs": [
    {
     "name": "stdout",
     "output_type": "stream",
     "text": [
      "combining annual and quarterly lookups....\n",
      "creating child t10 timeliness dataset....\n"
     ]
    }
   ],
   "source": [
    "print(\"combining annual and quarterly lookups....\")\n",
    "\n",
    "#set S3 file path\n",
    "ca_t10_timeliness_s3_path = os.path.join(fcsq_db_path, \"ca_t10_timeliness/\")\n",
    "# Delete all the underlying data stored within the S3 location\n",
    "if wr.s3.list_objects(ca_t10_timeliness_s3_path):\n",
    "    print(\"deleting child t10 timeliness dataset in s3....\")\n",
    "    wr.s3.delete_objects(ca_t10_timeliness_s3_path)\n",
    "    \n",
    "#Create table in Athena\n",
    "print(\"creating child t10 timeliness dataset....\")\n",
    "t_child =  f\"\"\"\n",
    "CREATE TABLE {db2}.ca_t10_timeliness WITH\n",
    "(\n",
    "    external_location='{ca_t10_timeliness_s3_path}'\n",
    ") AS\n",
    "SELECT\n",
    "  *\n",
    "FROM\n",
    "  __temp__.annual_lookup\n",
    "UNION ALL\n",
    "SELECT\n",
    "  *\n",
    "FROM\n",
    "  __temp__.quarter_lookup;\n",
    "\n",
    "\"\"\"\n",
    "\n",
    "_ = pydb.start_query_execution_and_wait(t_child)"
   ]
  },
  {
   "cell_type": "code",
   "execution_count": 78,
   "id": "107c641c-bcc9-4cf9-b783-b4cb0c212fb1",
   "metadata": {},
   "outputs": [
    {
     "data": {
      "text/html": [
       "<div>\n",
       "<style scoped>\n",
       "    .dataframe tbody tr th:only-of-type {\n",
       "        vertical-align: middle;\n",
       "    }\n",
       "\n",
       "    .dataframe tbody tr th {\n",
       "        vertical-align: top;\n",
       "    }\n",
       "\n",
       "    .dataframe thead th {\n",
       "        text-align: right;\n",
       "    }\n",
       "</style>\n",
       "<table border=\"1\" class=\"dataframe\">\n",
       "  <thead>\n",
       "    <tr style=\"text-align: right;\">\n",
       "      <th></th>\n",
       "      <th>lookup</th>\n",
       "      <th>both_n</th>\n",
       "      <th>both_mean</th>\n",
       "      <th>applicant_n</th>\n",
       "      <th>applicant_mean</th>\n",
       "      <th>respondent_n</th>\n",
       "      <th>respondent_mean</th>\n",
       "      <th>neither_n</th>\n",
       "      <th>neither_mean</th>\n",
       "      <th>all_n</th>\n",
       "      <th>all_mean</th>\n",
       "    </tr>\n",
       "  </thead>\n",
       "  <tbody>\n",
       "    <tr>\n",
       "      <th>0</th>\n",
       "      <td>Private Law|2014|Q4</td>\n",
       "      <td>3899</td>\n",
       "      <td>18.973</td>\n",
       "      <td>6440</td>\n",
       "      <td>11.669</td>\n",
       "      <td>2131</td>\n",
       "      <td>18.167</td>\n",
       "      <td>5382</td>\n",
       "      <td>14.514</td>\n",
       "      <td>17852</td>\n",
       "      <td>14.898</td>\n",
       "    </tr>\n",
       "    <tr>\n",
       "      <th>1</th>\n",
       "      <td>Private Law|2019|</td>\n",
       "      <td>18807</td>\n",
       "      <td>17.368</td>\n",
       "      <td>29053</td>\n",
       "      <td>12.648</td>\n",
       "      <td>12802</td>\n",
       "      <td>20.725</td>\n",
       "      <td>38596</td>\n",
       "      <td>16.333</td>\n",
       "      <td>99258</td>\n",
       "      <td>16.017</td>\n",
       "    </tr>\n",
       "    <tr>\n",
       "      <th>2</th>\n",
       "      <td>Private Law|2021|</td>\n",
       "      <td>20483</td>\n",
       "      <td>26.771</td>\n",
       "      <td>26987</td>\n",
       "      <td>21.833</td>\n",
       "      <td>15206</td>\n",
       "      <td>32.166</td>\n",
       "      <td>37340</td>\n",
       "      <td>26.396</td>\n",
       "      <td>100016</td>\n",
       "      <td>26.119</td>\n",
       "    </tr>\n",
       "    <tr>\n",
       "      <th>3</th>\n",
       "      <td>Private Law|2021|Q4</td>\n",
       "      <td>5101</td>\n",
       "      <td>28.401</td>\n",
       "      <td>6517</td>\n",
       "      <td>22.682</td>\n",
       "      <td>3588</td>\n",
       "      <td>34.836</td>\n",
       "      <td>9206</td>\n",
       "      <td>28.204</td>\n",
       "      <td>24412</td>\n",
       "      <td>27.746</td>\n",
       "    </tr>\n",
       "    <tr>\n",
       "      <th>4</th>\n",
       "      <td>Private Law|2016|Q1</td>\n",
       "      <td>4066</td>\n",
       "      <td>15.982</td>\n",
       "      <td>6290</td>\n",
       "      <td>11.444</td>\n",
       "      <td>2309</td>\n",
       "      <td>18.388</td>\n",
       "      <td>6197</td>\n",
       "      <td>14.447</td>\n",
       "      <td>18862</td>\n",
       "      <td>14.259</td>\n",
       "    </tr>\n",
       "    <tr>\n",
       "      <th>...</th>\n",
       "      <td>...</td>\n",
       "      <td>...</td>\n",
       "      <td>...</td>\n",
       "      <td>...</td>\n",
       "      <td>...</td>\n",
       "      <td>...</td>\n",
       "      <td>...</td>\n",
       "      <td>...</td>\n",
       "      <td>...</td>\n",
       "      <td>...</td>\n",
       "      <td>...</td>\n",
       "    </tr>\n",
       "    <tr>\n",
       "      <th>56</th>\n",
       "      <td>Private Law|2018|Q1</td>\n",
       "      <td>3900</td>\n",
       "      <td>15.586</td>\n",
       "      <td>6203</td>\n",
       "      <td>12.314</td>\n",
       "      <td>2524</td>\n",
       "      <td>19.010</td>\n",
       "      <td>7362</td>\n",
       "      <td>15.366</td>\n",
       "      <td>19989</td>\n",
       "      <td>14.922</td>\n",
       "    </tr>\n",
       "    <tr>\n",
       "      <th>57</th>\n",
       "      <td>Private Law|2020|Q4</td>\n",
       "      <td>5280</td>\n",
       "      <td>23.338</td>\n",
       "      <td>6732</td>\n",
       "      <td>18.103</td>\n",
       "      <td>3512</td>\n",
       "      <td>28.148</td>\n",
       "      <td>9423</td>\n",
       "      <td>22.202</td>\n",
       "      <td>24947</td>\n",
       "      <td>22.174</td>\n",
       "    </tr>\n",
       "    <tr>\n",
       "      <th>58</th>\n",
       "      <td>Private Law|2013|Q2</td>\n",
       "      <td>7893</td>\n",
       "      <td>21.660</td>\n",
       "      <td>8554</td>\n",
       "      <td>11.037</td>\n",
       "      <td>2258</td>\n",
       "      <td>18.589</td>\n",
       "      <td>3890</td>\n",
       "      <td>11.817</td>\n",
       "      <td>22595</td>\n",
       "      <td>15.637</td>\n",
       "    </tr>\n",
       "    <tr>\n",
       "      <th>59</th>\n",
       "      <td>Private Law|2017|Q2</td>\n",
       "      <td>4025</td>\n",
       "      <td>14.533</td>\n",
       "      <td>7027</td>\n",
       "      <td>11.217</td>\n",
       "      <td>2453</td>\n",
       "      <td>17.492</td>\n",
       "      <td>7617</td>\n",
       "      <td>13.800</td>\n",
       "      <td>21122</td>\n",
       "      <td>13.509</td>\n",
       "    </tr>\n",
       "    <tr>\n",
       "      <th>60</th>\n",
       "      <td>Private Law|2020|Q1</td>\n",
       "      <td>4276</td>\n",
       "      <td>17.945</td>\n",
       "      <td>6680</td>\n",
       "      <td>14.160</td>\n",
       "      <td>3180</td>\n",
       "      <td>21.478</td>\n",
       "      <td>8767</td>\n",
       "      <td>17.662</td>\n",
       "      <td>22903</td>\n",
       "      <td>17.223</td>\n",
       "    </tr>\n",
       "  </tbody>\n",
       "</table>\n",
       "<p>61 rows × 11 columns</p>\n",
       "</div>"
      ],
      "text/plain": [
       "                 lookup  both_n  both_mean  applicant_n  applicant_mean  respondent_n  respondent_mean  neither_n  neither_mean   all_n  all_mean\n",
       "0   Private Law|2014|Q4    3899     18.973         6440          11.669          2131           18.167       5382        14.514   17852    14.898\n",
       "1     Private Law|2019|   18807     17.368        29053          12.648         12802           20.725      38596        16.333   99258    16.017\n",
       "2     Private Law|2021|   20483     26.771        26987          21.833         15206           32.166      37340        26.396  100016    26.119\n",
       "3   Private Law|2021|Q4    5101     28.401         6517          22.682          3588           34.836       9206        28.204   24412    27.746\n",
       "4   Private Law|2016|Q1    4066     15.982         6290          11.444          2309           18.388       6197        14.447   18862    14.259\n",
       "..                  ...     ...        ...          ...             ...           ...              ...        ...           ...     ...       ...\n",
       "56  Private Law|2018|Q1    3900     15.586         6203          12.314          2524           19.010       7362        15.366   19989    14.922\n",
       "57  Private Law|2020|Q4    5280     23.338         6732          18.103          3512           28.148       9423        22.202   24947    22.174\n",
       "58  Private Law|2013|Q2    7893     21.660         8554          11.037          2258           18.589       3890        11.817   22595    15.637\n",
       "59  Private Law|2017|Q2    4025     14.533         7027          11.217          2453           17.492       7617        13.800   21122    13.509\n",
       "60  Private Law|2020|Q1    4276     17.945         6680          14.160          3180           21.478       8767        17.662   22903    17.223\n",
       "\n",
       "[61 rows x 11 columns]"
      ]
     },
     "execution_count": 78,
     "metadata": {},
     "output_type": "execute_result"
    }
   ],
   "source": [
    "ca_time_csv_data = pydb.read_sql_query (\"select * from fcsq.ca_t10_timeliness\")\n",
    "ca_time_csv_data"
   ]
  }
 ],
 "metadata": {
  "kernelspec": {
   "display_name": "Nixon FOI (Python3)",
   "language": "python",
   "name": "venv_nixon-foi"
  },
  "language_info": {
   "codemirror_mode": {
    "name": "ipython",
    "version": 3
   },
   "file_extension": ".py",
   "mimetype": "text/x-python",
   "name": "python",
   "nbconvert_exporter": "python",
   "pygments_lexer": "ipython3",
   "version": "3.9.6"
  }
 },
 "nbformat": 4,
 "nbformat_minor": 5
}
