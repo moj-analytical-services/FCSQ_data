{
 "cells": [
  {
   "cell_type": "markdown",
   "id": "883b83b4-5275-437f-a1e1-5b10ab350cba",
   "metadata": {},
   "source": [
    "## Private Law timeliness (table 9)"
   ]
  },
  {
   "cell_type": "markdown",
   "id": "4cc8240c-11ea-44f6-84e4-f2f49123fcc9",
   "metadata": {},
   "source": [
    "#### Import packages"
   ]
  },
  {
   "cell_type": "code",
   "execution_count": null,
   "id": "16f57d66-6ac2-4203-99d2-1142527843db",
   "metadata": {},
   "outputs": [],
   "source": [
    "# libraries\n",
    "import pandas as pd\n",
    "import pydbtools as pydb\n",
    "import os  # for file paths\n",
    "import awswrangler as wr"
   ]
  },
  {
   "cell_type": "code",
   "execution_count": null,
   "id": "f7837cb3-40a6-42b2-b3be-b6ace28c1cee",
   "metadata": {},
   "outputs": [],
   "source": [
    "# Structured  dataframes\n",
    "pd.set_option(\"display.max_columns\", 100)\n",
    "pd.set_option(\"display.width\", 900)\n",
    "pd.set_option(\"display.max_colwidth\", 200)"
   ]
  },
  {
   "cell_type": "markdown",
   "id": "edb8c10f-b235-4977-8cb2-d3f1d5b01542",
   "metadata": {
    "tags": []
   },
   "source": [
    "#### Assigning key variables"
   ]
  },
  {
   "cell_type": "code",
   "execution_count": null,
   "id": "cd0d9352-820b-4df1-bd67-59ad7b77108f",
   "metadata": {},
   "outputs": [],
   "source": [
    "db1 = \"familyman_dev_v3\" # This is the database where the familyman data is stored on the platform\n",
    "fcsq_db = \"fcsq\" # This database is used for FCCSQ processing\n",
    "# create path for within athena FCSQ database in the S3 folder, alongside other S3 items\n",
    "fcsq_db_path = f\"s3://alpha-family-data/fcsq_processing/CA_disps/\"\n",
    "#snapshot dates and publication period are set in the main run file. However, if running this notebook independently you will need to set them here\n",
    "#snapshot_date = \"2022-08-04\"\n",
    "#pub_year = 2022\n",
    "#pub_qtr = 3"
   ]
  },
  {
   "cell_type": "markdown",
   "id": "62abb69f-a45b-480f-8182-87c4245686a8",
   "metadata": {},
   "source": [
    "### There are 2 steps used in this process (extraction of DOI and calculation of the first case close date), that are identical to previous processing steps used in other areas of the children act process. They have been deliberately duplicated here (rather than using the existing tables) to help show that T9 is more or less a standalone process. Other than the final disposal date for each case, the calcualtion for T9 does not use any of the tables created in any of the other child act FCSQ processing stages"
   ]
  },
  {
   "cell_type": "code",
   "execution_count": null,
   "id": "3972b682-d09a-4c22-b37f-ed74fe566c25",
   "metadata": {},
   "outputs": [],
   "source": [
    "#Extract date of issue from Familyman\n",
    "print(\"extracting date of issue....\")\n",
    "pydb.create_temp_table(\n",
    "f\"\"\" \n",
    "SELECT \n",
    "  case_number,\n",
    "  CAST(value AS Date) AS case_DOI\n",
    "FROM \n",
    "  {db1}.case_fields AS f\n",
    "WHERE\n",
    "  field_model = 'FM2C_DI'\n",
    "  AND mojap_snapshot_date = DATE'{snapshot_date}'\n",
    "\n",
    "\"\"\",\n",
    "\n",
    "\"DOI_P\")"
   ]
  },
  {
   "cell_type": "markdown",
   "id": "dd806603-3595-4a62-9eed-ea15126b66c8",
   "metadata": {},
   "source": [
    "#### Extraction of all private law initial applications"
   ]
  },
  {
   "cell_type": "code",
   "execution_count": null,
   "id": "beb40e0b-c828-4a79-9b89-566b969c1b30",
   "metadata": {},
   "outputs": [],
   "source": [
    "# Creating a table with all the initial applications (U22) for private law cases, no filters used on order types etc. This replicates the SAS process\n",
    "# Other fields such as court, applications types will evenually be dropped but including in the initial extraction in case they are handy to refer back to in future\n",
    "print(\"extracting private law intial applications....\")\n",
    "pydb.create_temp_table( \n",
    "f\"\"\"\n",
    "SELECT \n",
    "    e.case_number,\n",
    "    e.receipt_date,\n",
    "    f.event,\n",
    "    f.field_model,\n",
    "    f.value as all_event_app_types,\n",
    "    CAST(SUBSTR(CAST(f.event AS varchar),1,3) AS integer) AS court_code\n",
    "  FROM \n",
    "    {db1}.event_fields f\n",
    "    INNER JOIN {db1}.events e\n",
    "      ON f.event = e.event\n",
    "  WHERE \n",
    "    field_model = 'U22_AT'\n",
    "    AND SUBSTR(e.case_number,5,1) = 'P'\n",
    "    AND e.error = 'N'\n",
    "    AND f.mojap_snapshot_date = DATE'{snapshot_date}'\n",
    "    AND e.mojap_snapshot_date = DATE'{snapshot_date}'\n",
    "\"\"\",\n",
    "\n",
    "\"ca_apps_p\")"
   ]
  },
  {
   "cell_type": "markdown",
   "id": "394d7b4f-079b-4b92-9eb0-22804e23e3a9",
   "metadata": {},
   "source": [
    "#### Add date of issue to private law applications"
   ]
  },
  {
   "cell_type": "markdown",
   "id": "d8a7235e-4427-4931-84ea-5775a2797cca",
   "metadata": {},
   "source": [
    "##### Does selecting the MIN DOI exclude cases where there is no DOI recorded (from SAS process - taken from OPT according to notes) - although only a couple of thousand or so do not have DOI recorded"
   ]
  },
  {
   "cell_type": "code",
   "execution_count": null,
   "id": "8720a090-29b3-462f-8ec6-f5d2eb2f5188",
   "metadata": {},
   "outputs": [],
   "source": [
    "print(\"joining issue date to applications....\")\n",
    "pydb.create_temp_table(\n",
    "f\"\"\"\n",
    "SELECT\n",
    "  a.case_number,\n",
    "  MIN(d.Case_DOI) AS issue_date\n",
    "FROM\n",
    "   __temp__.ca_apps_p a\n",
    "   LEFT JOIN __temp__.DOI_P d\n",
    "     ON a.case_number = d.case_number\n",
    "GROUP BY\n",
    "  a.case_number  \n",
    "\n",
    "\"\"\",\n",
    "\n",
    "\"ca_apps_doi_p\")"
   ]
  },
  {
   "cell_type": "markdown",
   "id": "63ac9575-0df5-45c7-983d-4cf4ce647f66",
   "metadata": {},
   "source": [
    "#### Extracting case close event dates and ranking to keep the earliest date"
   ]
  },
  {
   "cell_type": "code",
   "execution_count": null,
   "id": "1bc6f8e4-2a36-4aa2-8ed1-f1b15c55de6f",
   "metadata": {},
   "outputs": [],
   "source": [
    "#Extracting the case closed event, and keep the earliest date so we know the first time the case was closed (as it is possible for cases to be re-opened)\n",
    "#Entry date used as this is the date used in the SAS processing\n",
    "print(\"extracting case close dates and ranking to keep the earliest....\")\n",
    "pydb.create_temp_table(\n",
    "f\"\"\"\n",
    "WITH case_closed_events_p AS (\n",
    "SELECT\n",
    "    case_number,\n",
    "    CAST (entry_date AS DATE) AS entry_date,\n",
    "    ROW_NUMBER() OVER(PARTITION BY case_number\n",
    "                       ORDER BY case_number, entry_date ASC)\n",
    "        AS min_date_rank\n",
    "FROM\n",
    "    {db1}.events\n",
    "WHERE\n",
    "  event_model = 'U24'\n",
    "  AND SUBSTR(case_number,5,1) = 'P'\n",
    "  AND error = 'N'\n",
    "  AND mojap_snapshot_date = date '{snapshot_date}'\n",
    ")\n",
    "\n",
    "SELECT\n",
    "  case_number,\n",
    "  entry_date AS first_close_date\n",
    "FROM\n",
    "  case_closed_events_p\n",
    "WHERE \n",
    "  min_date_rank = 1\n",
    "\"\"\",\n",
    "\n",
    "\"ca_first_close_p\")"
   ]
  },
  {
   "cell_type": "markdown",
   "id": "4e2e61cf-65b9-4355-bf81-a665b8739593",
   "metadata": {},
   "source": [
    "#### Get last disposal date in the case"
   ]
  },
  {
   "cell_type": "code",
   "execution_count": null,
   "id": "d9a8913a-e87a-4e95-9c04-979f1beae4bc",
   "metadata": {},
   "outputs": [],
   "source": [
    "#get the last disposal date in the case, excluding those that happened after the first close date\n",
    "#the disposal table is created in the main disposal processsing. It includes dipsosal types that are not included in the final child dipsosal dataset (which filters out codes > 53)\n",
    "#as with previous steps the logic has been used in order to match SAS output\n",
    "#contains all disposal types and not just final orders made\n",
    "print(\"getting the last disposal in the case....\")\n",
    "pydb.create_temp_table(\n",
    "f\"\"\"\n",
    "SELECT\n",
    "  f.case_number,\n",
    "  f.first_close_date,\n",
    "  MAX(c.disp_date) AS last_disposal_date\n",
    "FROM\n",
    "  __temp__.ca_first_close_p f\n",
    "  LEFT JOIN {fcsq_db}.ca_non_filtered_disposals c\n",
    "    ON f.case_number = c.case_number\n",
    "WHERE \n",
    "  c.disp_date <= first_close_date\n",
    "  AND c.event_model <> 'C21'\n",
    "GROUP BY\n",
    "  f.case_number,\n",
    "  f.first_close_date\n",
    "\"\"\",\n",
    "\n",
    "\"ca_last_disp_date_p\")"
   ]
  },
  {
   "cell_type": "markdown",
   "id": "92f6ccad-8e36-46bb-a5eb-50722b1275b6",
   "metadata": {},
   "source": [
    "#### Matching starts to final disposal"
   ]
  },
  {
   "cell_type": "code",
   "execution_count": null,
   "id": "275fdbb4-531d-46b0-ad2e-865542e2147b",
   "metadata": {
    "jupyter": {
     "outputs_hidden": true
    },
    "tags": []
   },
   "outputs": [],
   "source": [
    "#Calculating the time from the date of issue to the final disposal in the case (not including if the case has been subsequently re-opened)\n",
    "#Time periods are based on the date of the final disposal\n",
    "print(\"matching starts to final disposal....\")\n",
    "pydb.create_temp_table(\n",
    "f\"\"\"\n",
    "SELECT\n",
    "  s.case_number,\n",
    "  s.issue_date,\n",
    "  c.last_disposal_date,\n",
    "  date_diff('day',s.issue_date, c.last_disposal_date) AS issue_to_last_disp_days,\n",
    "  EXTRACT(YEAR FROM c.last_disposal_date) AS disp_year,\n",
    "  EXTRACT(QUARTER FROM c.last_disposal_date) AS disp_quarter\n",
    "FROM\n",
    "  __temp__.ca_apps_doi_p s\n",
    "  INNER JOIN __temp__.ca_last_disp_date_p c\n",
    "    ON s.case_number = c.case_number\n",
    "WHERE\n",
    "  date_diff('day',s.issue_date, c.last_disposal_date) >= 0\n",
    "  AND (EXTRACT(YEAR FROM c.last_disposal_date) BETWEEN 2011 AND {pub_year})\n",
    "  AND NOT ((EXTRACT(YEAR FROM c.last_disposal_date)) = {pub_year} \n",
    "            AND EXTRACT(QUARTER FROM c.last_disposal_date) = {pub_qtr} + 1)\n",
    "    \n",
    "\"\"\",\n",
    "\n",
    "\"ca_issue_to_last_disp\")"
   ]
  },
  {
   "cell_type": "markdown",
   "id": "0fce4a2f-4513-4bdd-a228-81573e781a56",
   "metadata": {},
   "source": [
    "#### Creating median groups"
   ]
  },
  {
   "cell_type": "code",
   "execution_count": null,
   "id": "df84add3-1d36-41f3-8b6d-c1da1568c5c0",
   "metadata": {},
   "outputs": [],
   "source": [
    "#Here the ntile function splits the data in to 2 groups to help calculate the median. Different groupings (eg year or quarter) require separate splits\n",
    "print(\"creating median tiles....\")\n",
    "pydb.create_temp_table(\n",
    "f\"\"\"\n",
    "SELECT\n",
    "  *,\n",
    "  NTILE(2) OVER (PARTITION BY disp_year ORDER BY issue_to_last_disp_days) \n",
    "    AS median_tile_annual,\n",
    "  NTILE(2) OVER (PARTITION BY disp_year, disp_quarter ORDER BY issue_to_last_disp_days) \n",
    "    AS median_tile_quarter\n",
    "FROM\n",
    "  __temp__.ca_issue_to_last_disp\n",
    "\n",
    "    \n",
    "\"\"\",\n",
    "\n",
    "\"pri_time_median_groups\")"
   ]
  },
  {
   "cell_type": "markdown",
   "id": "9f75d43c-f4cc-4638-8a3a-0c441e9f7740",
   "metadata": {},
   "source": [
    "### CSV"
   ]
  },
  {
   "cell_type": "code",
   "execution_count": null,
   "id": "dd68d228-b5a8-42cb-a271-b5fadebab1a4",
   "metadata": {},
   "outputs": [],
   "source": [
    "#Annual for csv\n",
    "#Median calculation takes the max value from the lower half of the median group if an even number of rows, else takes the aveage of the max value from group one and min value from group 2\n",
    "print(\"creating annual csv....\")\n",
    "pydb.create_temp_table(\n",
    "f\"\"\" \n",
    " SELECT\n",
    "  'Children Act (Private)' as case_type,\n",
    "  disp_year AS year,\n",
    "  CAST (NULL AS VARCHAR) AS quarter,\n",
    "  COUNT (*) AS Number_of_disposals,\n",
    "  ROUND(AVG(issue_to_last_disp_days)/7,1) as Mean_duration,\n",
    "  ROUND((CASE WHEN COUNT(*) % 2 = ROUND(COUNT(*),0)\n",
    "        THEN (MAX(CASE WHEN median_tile_annual = 1 THEN issue_to_last_disp_days END) +\n",
    "                 MIN(CASE WHEN median_tile_annual = 2 THEN issue_to_last_disp_days END)\n",
    "                  ) / 2.0\n",
    "        ELSE MAX(CASE WHEN median_tile_annual = 1 THEN issue_to_last_disp_days END)\n",
    "    END)/7,1) as median_duration\n",
    "FROM\n",
    "  __temp__.pri_time_median_groups\n",
    "WHERE  \n",
    "  CASE WHEN {pub_qtr} = 4\n",
    "        THEN disp_year BETWEEN 2011 AND {pub_year}\n",
    "        ELSE disp_year BETWEEN 2011 AND {pub_year} -1 END     \n",
    "GROUP BY\n",
    "  disp_year\n",
    "\"\"\",\n",
    "\n",
    "\"private_annual\")"
   ]
  },
  {
   "cell_type": "code",
   "execution_count": null,
   "id": "af95f8f9-49d7-4c9e-a7bd-bea2f7ea5000",
   "metadata": {},
   "outputs": [],
   "source": [
    "#Quarterly for csv \n",
    "#Median calculation takes the max value from the lower half of the median group if an even number of rows, else takes the aveage of the max value from group one and min value from group 2\n",
    "print(\"creating quarterly csv....\")\n",
    "pydb.create_temp_table(\n",
    "f\"\"\" \n",
    " SELECT\n",
    "  'Children Act (Private)' as case_type,\n",
    "  CAST (NULL AS INTEGER) AS year,\n",
    "  CAST(disp_year AS VARCHAR) ||'-Q'||CAST(disp_quarter AS VARCHAR) AS quarter,\n",
    "  COUNT (*) AS Number_of_disposals,\n",
    "  ROUND(AVG (issue_to_last_disp_days)/7,1) as Mean_duration,\n",
    "  ROUND((CASE WHEN COUNT(*) % 2 = ROUND(COUNT(*),0)\n",
    "        THEN (MAX(CASE WHEN median_tile_quarter = 1 THEN issue_to_last_disp_days END) +\n",
    "                 MIN(CASE WHEN median_tile_quarter = 2 THEN issue_to_last_disp_days END)\n",
    "                  ) / 2.0\n",
    "        ELSE MAX(CASE WHEN median_tile_quarter = 1 THEN issue_to_last_disp_days END)\n",
    "    END)/7,1) as median_duration\n",
    "FROM\n",
    "  __temp__.pri_time_median_groups\n",
    "GROUP BY\n",
    "  disp_year,\n",
    "  disp_quarter\n",
    "\"\"\",\n",
    "\n",
    "\"private_quarterly\")"
   ]
  },
  {
   "cell_type": "code",
   "execution_count": null,
   "id": "1c7cd75d-6893-4bb6-8963-82b62ad80e0d",
   "metadata": {},
   "outputs": [],
   "source": [
    "#Appending annual and quarterly to make the final csv\n",
    "print(\"combining annual and quarterly csv....\")\n",
    "pydb.create_temp_table(\n",
    "f\"\"\" \n",
    "SELECT\n",
    "  *\n",
    "FROM\n",
    "  __temp__.private_annual\n",
    "UNION ALL\n",
    "SELECT\n",
    "  *\n",
    "FROM\n",
    "  __temp__.private_quarterly\n",
    "\"\"\",\n",
    "\n",
    "\"private_time_csv\")"
   ]
  },
  {
   "cell_type": "markdown",
   "id": "74346e19-2ddf-426c-9a50-01f222af05be",
   "metadata": {},
   "source": [
    "#### Exporting to S3"
   ]
  },
  {
   "cell_type": "code",
   "execution_count": null,
   "id": "8cf087e2-60cf-49ca-891f-b6a01b005007",
   "metadata": {},
   "outputs": [],
   "source": [
    "pri_time_data = pydb.read_sql_query (\"select * from __temp__.private_time_csv\")"
   ]
  },
  {
   "cell_type": "code",
   "execution_count": null,
   "id": "f9c75662-3ad8-4dca-a6b2-fe025b8fe1e7",
   "metadata": {},
   "outputs": [],
   "source": [
    "pri_time_df = pd.DataFrame(pri_time_data)"
   ]
  },
  {
   "cell_type": "code",
   "execution_count": null,
   "id": "5e9946aa-fcc2-454f-b007-c13a091bbd56",
   "metadata": {},
   "outputs": [],
   "source": [
    "print(\"exporting csv to S3....\")\n",
    "pri_time_df.to_csv (r's3://alpha-family-data/fcsq_processing/children_act_temporary_outputs/t9_data.csv',header = True)"
   ]
  }
 ],
 "metadata": {
  "kernelspec": {
   "display_name": "Python 3",
   "language": "python",
   "name": "python3"
  },
  "language_info": {
   "codemirror_mode": {
    "name": "ipython",
    "version": 3
   },
   "file_extension": ".py",
   "mimetype": "text/x-python",
   "name": "python",
   "nbconvert_exporter": "python",
   "pygments_lexer": "ipython3",
   "version": "3.9.4"
  }
 },
 "nbformat": 4,
 "nbformat_minor": 5
}
