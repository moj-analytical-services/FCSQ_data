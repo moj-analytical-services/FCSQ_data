{
 "cells": [
  {
   "cell_type": "markdown",
   "id": "2dd6858b-519b-419d-a42c-71e70491fb8e",
   "metadata": {},
   "source": [
    "# Children Act disposals csv"
   ]
  },
  {
   "cell_type": "markdown",
   "id": "2524e05f-4457-411d-ae27-81276098b7ff",
   "metadata": {},
   "source": [
    "### This code summarises the information produced from the children act disposals code into tidy data sets, and combines them all at the end.\n",
    "1. Child counts\n",
    "2. Order counts\n",
    "3. Case counts\n",
    "4. Combined orders (SGO and SO)\n",
    "5. Combine all datasets"
   ]
  },
  {
   "cell_type": "code",
   "execution_count": null,
   "id": "d93db95f-0718-4d51-88d5-de47b3c413e6",
   "metadata": {},
   "outputs": [],
   "source": [
    "# libraries\n",
    "import pandas as pd\n",
    "import pydbtools as pydb\n",
    "import boto3\n",
    "from datetime import datetime\n",
    "#import re\n",
    "import os  # for file paths\n",
    "import awswrangler as wr"
   ]
  },
  {
   "cell_type": "markdown",
   "id": "b1cea333-f7fd-4d41-871f-ad28abcbb529",
   "metadata": {},
   "source": [
    "### CSV creation stages"
   ]
  },
  {
   "cell_type": "markdown",
   "id": "e23643f6-6955-43e9-a006-936a5b75a0a5",
   "metadata": {},
   "source": [
    "#### Child counts"
   ]
  },
  {
   "cell_type": "code",
   "execution_count": null,
   "id": "f67fda3b-e055-48f2-a023-30c7ca0ed295",
   "metadata": {},
   "outputs": [],
   "source": [
    "pydb.create_temp_table( \n",
    "f\"\"\"\n",
    "SELECT\n",
    "  Year,\n",
    "  CAST(Quarter AS VARCHAR) AS Quarter,\n",
    "  'Disposal' AS Type,\n",
    "  'Children' AS Count_type,\n",
    "  CASE WHEN order_case_type = 'C' THEN 'Public law'\n",
    "       WHEN order_case_type = 'P' THEN 'Private law'\n",
    "    End AS Public_private,\n",
    "   Disp_type AS Disposal_type,\n",
    "   order_desc AS Order_type,\n",
    "   order_code AS Order_type_code,\n",
    "  'N/A' AS Gender,\n",
    "  'N/A' AS age_band,\n",
    "  'N/A' AS Applicants_in_case,\n",
    "  'N/A' AS Respondents_in_case,\n",
    "  'N/A' AS HC_INDICATOR,\n",
    "   COUNT(*) AS Count\n",
    "FROM\n",
    "  __temp__.ca_disps_all_children\n",
    "Where\n",
    "  Year>=2011\n",
    "Group BY\n",
    "  Year,\n",
    "  Quarter,\n",
    "  CASE WHEN order_case_type = 'C' THEN 'Public law'\n",
    "       WHEN order_case_type = 'P' THEN 'Private law'\n",
    "    End,\n",
    "  Disp_type,\n",
    "  order_desc,\n",
    "  order_code\n",
    "  \n",
    "\"\"\",\n",
    "\n",
    "\"child_counts\")"
   ]
  },
  {
   "cell_type": "markdown",
   "id": "423df135-f9cc-47a8-acec-d2d6fab6e90e",
   "metadata": {},
   "source": [
    "### Order counts"
   ]
  },
  {
   "cell_type": "code",
   "execution_count": null,
   "id": "c1ef0fdc-a4e3-47e0-abe3-217507549ddc",
   "metadata": {},
   "outputs": [],
   "source": [
    "pydb.create_temp_table( \n",
    "f\"\"\"\n",
    "SELECT\n",
    "  Year,\n",
    "  CAST(Quarter AS VARCHAR) AS Quarter,\n",
    "  'Disposal' AS Type,\n",
    "  'Order type' AS Count_type,\n",
    "  CASE WHEN order_case_type = 'C' THEN 'Public law'\n",
    "       WHEN order_case_type = 'P' THEN 'Private law'\n",
    "    End AS Public_private,\n",
    "   Disp_type AS Disposal_type,\n",
    "   order_desc AS Order_type,\n",
    "   order_code AS Order_type_code,\n",
    "  'N/A' AS Gender,\n",
    "  'N/A' AS age_band,\n",
    "  'N/A' AS Applicants_in_case,\n",
    "  'N/A' AS Respondents_in_case,\n",
    "  'N/A' AS HC_INDICATOR,\n",
    "   COUNT(*) AS Count\n",
    "FROM\n",
    "  __temp__.ca_all_disposals\n",
    "Where\n",
    "  Year>=2011\n",
    "Group BY\n",
    "  Year,\n",
    "  Quarter,\n",
    "  CASE WHEN order_case_type = 'C' THEN 'Public law'\n",
    "       WHEN order_case_type = 'P' THEN 'Private law'\n",
    "    End,\n",
    "  Disp_type,\n",
    "  order_desc,\n",
    "  order_code\n",
    "  \n",
    "\"\"\",\n",
    "\n",
    "\"order_type_counts\")"
   ]
  },
  {
   "cell_type": "markdown",
   "id": "7e1f0709-9ebb-48ff-9c4f-65d9e06fcccb",
   "metadata": {},
   "source": [
    "### Case counts"
   ]
  },
  {
   "cell_type": "code",
   "execution_count": null,
   "id": "a4b38874-e121-4bb4-bf53-9e9ec8b6ec60",
   "metadata": {},
   "outputs": [],
   "source": [
    "pydb.create_temp_table( \n",
    "f\"\"\"\n",
    "SELECT\n",
    "  Year,\n",
    "  CAST(Quarter AS VARCHAR) AS Quarter,\n",
    "  'Cases' AS Type,\n",
    "  'Cases closed' AS Count_type,\n",
    "  CASE WHEN case_type = 'C' THEN 'Public law'\n",
    "       WHEN case_type = 'P' THEN 'Private law'\n",
    "    End AS Public_private,\n",
    "   'N/A' AS Disposal_type,\n",
    "   'All' AS Order_type,\n",
    "  CAST(NULL AS INTEGER) AS Order_type_code,\n",
    "  'N/A' AS Gender,\n",
    "  'N/A' AS age_band,\n",
    "  'N/A' AS Applicants_in_case,\n",
    "  'N/A' AS Respondents_in_case,\n",
    "  'N/A' AS HC_INDICATOR,\n",
    "   COUNT(*) AS Count\n",
    "FROM\n",
    "  __temp__.ca_closed_cases\n",
    "Where\n",
    "  Year>=2011\n",
    "Group BY\n",
    "  Year,\n",
    "  Quarter,\n",
    "  CASE WHEN case_type = 'C' THEN 'Public law'\n",
    "       WHEN case_type = 'P' THEN 'Private law'\n",
    "    End\n",
    "  \n",
    "\"\"\",\n",
    "\n",
    "\"disp_case_counts\")"
   ]
  },
  {
   "cell_type": "markdown",
   "id": "834d1b66-fa5f-4bf1-86ec-39edc239b867",
   "metadata": {},
   "source": [
    "### Combined Special Guardianship and Supervision orders (this code will need revisiting once duplicate issues have been resolved)"
   ]
  },
  {
   "cell_type": "code",
   "execution_count": null,
   "id": "6423d134-af3b-4ec5-b34c-c4cd2ad47664",
   "metadata": {},
   "outputs": [],
   "source": [
    "#Supervision orders\n",
    "pydb.create_temp_table( \n",
    "f\"\"\"\n",
    "SELECT * FROM __temp__.ca_disps_all_children WHERE order_code = 4   \n",
    "\"\"\",\n",
    "\"so\")"
   ]
  },
  {
   "cell_type": "code",
   "execution_count": null,
   "id": "b093e736-812b-48a4-bcd8-d5bf8f69ffda",
   "metadata": {},
   "outputs": [],
   "source": [
    "#SGO orders\n",
    "pydb.create_temp_table( \n",
    "f\"\"\"\n",
    "SELECT * FROM __temp__.ca_disps_all_children WHERE order_code = 27   \n",
    "\"\"\",\n",
    "\"sgo\")"
   ]
  },
  {
   "cell_type": "code",
   "execution_count": null,
   "id": "616cf8c1-6738-47cd-b796-8542318329e6",
   "metadata": {},
   "outputs": [],
   "source": [
    "#Join SO and SGO info together to see if both orders were given to the same child on the same day\n",
    "pydb.create_temp_table( \n",
    "f\"\"\"\n",
    "SELECT\n",
    "  so.*,\n",
    "  sgo.order_desc AS sgo_order\n",
    "FROM\n",
    "  __temp__.so so \n",
    "  LEFT JOIN __temp__.sgo sgo \n",
    "    ON so.receipt_date = sgo.receipt_date\n",
    "    AND so.child_role_id = sgo.child_role_id\n",
    "WHERE\n",
    "  sgo.order_desc IS NOT NULL\n",
    "\"\"\",\n",
    "\n",
    "\"so_sgo_children\")"
   ]
  },
  {
   "cell_type": "code",
   "execution_count": null,
   "id": "92847e0a-5f7d-46fc-9104-5e786d0e008f",
   "metadata": {},
   "outputs": [],
   "source": [
    "# now get rid of the children and count only orders\n",
    "pydb.create_temp_table( \n",
    "f\"\"\"\n",
    "SELECT\n",
    "  DISTINCT year,\n",
    "           quarter,\n",
    "           order_case_type,\n",
    "           disp_type_code,\n",
    "           event\n",
    "FROM\n",
    "  __temp__.so_sgo_children\n",
    "\n",
    "\"\"\",\n",
    "\n",
    "\"so_sgo_orders\")"
   ]
  },
  {
   "cell_type": "code",
   "execution_count": null,
   "id": "588369ae-5a4b-41f0-aea1-33aba4ace6cf",
   "metadata": {},
   "outputs": [],
   "source": [
    "# csv data for combined orders - children\n",
    "pydb.create_temp_table( \n",
    "f\"\"\"\n",
    "SELECT\n",
    "  Year,\n",
    "  CAST(Quarter AS VARCHAR) AS Quarter,\n",
    "  'Disposal' AS Type,\n",
    "  'Combined orders - children' AS Count_type,\n",
    "  CASE WHEN order_case_type = 'C' THEN 'Public law'\n",
    "       WHEN order_case_type = 'P' THEN 'Private law'\n",
    "    End AS Public_private,\n",
    "   'Combined orders' AS Disposal_type,\n",
    "   'Supervision and SGO' AS Order_type,\n",
    "  CAST(NULL AS INTEGER) AS Order_type_code,\n",
    "  'N/A' AS Gender,\n",
    "  'N/A' AS age_band,\n",
    "  'N/A' AS Applicants_in_case,\n",
    "  'N/A' AS Respondents_in_case,\n",
    "  'N/A' AS HC_INDICATOR,\n",
    "   COUNT(*) AS Count\n",
    "FROM\n",
    "  __temp__.so_sgo_children\n",
    "Where\n",
    "  Year>=2011\n",
    "  AND disp_type_code IN (1,2) \n",
    "Group BY\n",
    "  Year,\n",
    "  Quarter,\n",
    "  CASE WHEN order_case_type = 'C' THEN 'Public law'\n",
    "       WHEN order_case_type = 'P' THEN 'Private law'\n",
    "    End\n",
    "  \n",
    "\"\"\",\n",
    "\n",
    "\"combined_orders_CH\")"
   ]
  },
  {
   "cell_type": "code",
   "execution_count": null,
   "id": "0eb9084d-ebd9-470c-8de6-faf10ff2353d",
   "metadata": {},
   "outputs": [],
   "source": [
    "#csv data for combined orders - orders made only\n",
    "pydb.create_temp_table( \n",
    "f\"\"\"\n",
    "SELECT\n",
    "  Year,\n",
    "  CAST(Quarter AS VARCHAR) AS Quarter,\n",
    "  'Disposal' AS Type,\n",
    "  'Combined orders - orders' AS Count_type,\n",
    "  CASE WHEN order_case_type = 'C' THEN 'Public law'\n",
    "       WHEN order_case_type = 'P' THEN 'Private law'\n",
    "    End AS Public_private,\n",
    "   'Combined orders' AS Disposal_type,\n",
    "   'Supervision and SGO' AS Order_type,\n",
    "  CAST(NULL AS INTEGER) AS Order_type_code,\n",
    "  'N/A' AS Gender,\n",
    "  'N/A' AS age_band,\n",
    "  'N/A' AS Applicants_in_case,\n",
    "  'N/A' AS Respondents_in_case,\n",
    "  'N/A' AS HC_INDICATOR,\n",
    "   COUNT(*) AS Count\n",
    "FROM\n",
    "  __temp__.so_sgo_orders\n",
    "Where\n",
    "  Year>=2011\n",
    "  AND disp_type_code IN (1,2) \n",
    "Group BY\n",
    "  Year,\n",
    "  Quarter,\n",
    "  CASE WHEN order_case_type = 'C' THEN 'Public law'\n",
    "       WHEN order_case_type = 'P' THEN 'Private law'\n",
    "    End\n",
    "  \n",
    "\"\"\",\n",
    "\n",
    "\"combined_orders_ORD\")"
   ]
  },
  {
   "cell_type": "markdown",
   "id": "38d98d01-b489-4f50-8621-d6f56285b82b",
   "metadata": {},
   "source": [
    "### Combine all disposal datasets"
   ]
  },
  {
   "cell_type": "code",
   "execution_count": null,
   "id": "bef6da9a-88a3-4e39-b6a3-c2e5b70c8401",
   "metadata": {},
   "outputs": [],
   "source": [
    "pydb.create_temp_table( \n",
    "f\"\"\"\n",
    "SELECT\n",
    "  *\n",
    "FROM\n",
    "  __temp__.child_counts\n",
    "UNION ALL\n",
    "SELECT\n",
    "  *\n",
    "FROM\n",
    "  __temp__.order_type_counts\n",
    "UNION ALL\n",
    "SELECT\n",
    "  *\n",
    "FROM\n",
    "  __temp__.disp_case_counts\n",
    "UNION ALL \n",
    "SELECT\n",
    "  *\n",
    "FROM\n",
    "  __temp__.combined_orders_CH\n",
    "UNION ALL \n",
    "SELECT\n",
    "  *\n",
    "FROM\n",
    "  __temp__.combined_orders_ORD \n",
    "  \n",
    "\"\"\",\n",
    "\n",
    "\"ca_disp_csv\")"
   ]
  }
 ],
 "metadata": {
  "kernelspec": {
   "display_name": "Python 3",
   "language": "python",
   "name": "python3"
  },
  "language_info": {
   "codemirror_mode": {
    "name": "ipython",
    "version": 3
   },
   "file_extension": ".py",
   "mimetype": "text/x-python",
   "name": "python",
   "nbconvert_exporter": "python",
   "pygments_lexer": "ipython3",
   "version": "3.9.4"
  }
 },
 "nbformat": 4,
 "nbformat_minor": 5
}
