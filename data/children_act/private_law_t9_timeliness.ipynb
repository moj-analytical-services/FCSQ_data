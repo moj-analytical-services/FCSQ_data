{
 "cells": [
  {
   "cell_type": "markdown",
   "id": "4cc8240c-11ea-44f6-84e4-f2f49123fcc9",
   "metadata": {},
   "source": [
    "#### Import packages"
   ]
  },
  {
   "cell_type": "code",
   "execution_count": null,
   "id": "16f57d66-6ac2-4203-99d2-1142527843db",
   "metadata": {},
   "outputs": [],
   "source": [
    "# libraries\n",
    "import pandas as pd\n",
    "import pydbtools as pydb\n",
    "import boto3\n",
    "from datetime import datetime\n",
    "#import re\n",
    "import os  # for file paths\n",
    "import awswrangler as wr"
   ]
  },
  {
   "cell_type": "code",
   "execution_count": null,
   "id": "f7837cb3-40a6-42b2-b3be-b6ace28c1cee",
   "metadata": {},
   "outputs": [],
   "source": [
    "# Structured  dataframes\n",
    "pd.set_option(\"display.max_columns\", 100)\n",
    "pd.set_option(\"display.width\", 900)\n",
    "pd.set_option(\"display.max_colwidth\", 200)"
   ]
  },
  {
   "cell_type": "markdown",
   "id": "edb8c10f-b235-4977-8cb2-d3f1d5b01542",
   "metadata": {
    "tags": []
   },
   "source": [
    "#### Assigning key variables"
   ]
  },
  {
   "cell_type": "code",
   "execution_count": null,
   "id": "cd0d9352-820b-4df1-bd67-59ad7b77108f",
   "metadata": {},
   "outputs": [],
   "source": [
    "# This is the database where the familyman data is stored on the platform\n",
    "db1 = \"familyman_dev_v3\"\n",
    "# This database is used for FCCSQ processing\n",
    "fcsq_db = \"fcsq\"\n",
    "# create path for within athena FCSQ database in the S3 folder, alongside other S3 items\n",
    "fcsq_db_path = f\"s3://alpha-family-data/fcsq_processing/CA_disps/\"\n",
    "s3 = boto3.resource(\"s3\")\n",
    "bucket = s3.Bucket(\"alpha-family-data\")\n",
    "#Select the snapshot date you require. Each record in Familyman has a snapshot date (essentially just a column in the tables) that relates to the database at that point in time\n",
    "snapshot_date = \"2022-08-04\""
   ]
  },
  {
   "cell_type": "markdown",
   "id": "62abb69f-a45b-480f-8182-87c4245686a8",
   "metadata": {},
   "source": [
    "### Private Law Timeliness"
   ]
  },
  {
   "cell_type": "code",
   "execution_count": null,
   "id": "3972b682-d09a-4c22-b37f-ed74fe566c25",
   "metadata": {},
   "outputs": [],
   "source": [
    "#Date of issue for initial application in case - as the DOI isn't linked to the U22 event the U22 really just helps to get to one record per case, with the date of issue being the earliest\n",
    "   #one recorded on the case\n",
    "pydb.create_temp_table(\n",
    "f\"\"\"\n",
    "SELECT\n",
    "  case_number,\n",
    "  MIN(Case_DOI) AS issue_date\n",
    "FROM\n",
    "   {fcsq_db}.ca_apps_issue_date\n",
    "WHERE\n",
    "  field_model = 'U22_AT'\n",
    "  AND order_case_type = 'P'\n",
    "GROUP BY\n",
    "  case_number  \n",
    "\n",
    "\"\"\",\n",
    "\n",
    "\"ca_apps_doi\")"
   ]
  },
  {
   "cell_type": "code",
   "execution_count": null,
   "id": "beb40e0b-c828-4a79-9b89-566b969c1b30",
   "metadata": {},
   "outputs": [],
   "source": [
    "#get the last disposal date in the case, filtering by closed cases only\n",
    "pydb.create_temp_table(\n",
    "f\"\"\"\n",
    "SELECT\n",
    "  c.case_number,\n",
    "  d.first_close_date\n",
    "FROM\n",
    "  {fcsq_db}.ca_closed_cases c\n",
    "  LEFT JOIN {fcsq_db}.ca_closed_date_events d\n",
    "    ON c.case_number = d.case_number\n",
    "WHERE \n",
    "  c.case_type = 'P'\n",
    "\"\"\",\n",
    "\n",
    "\"ca_first_close\")"
   ]
  },
  {
   "cell_type": "code",
   "execution_count": null,
   "id": "8720a090-29b3-462f-8ec6-f5d2eb2f5188",
   "metadata": {},
   "outputs": [],
   "source": [
    "#get the last disposal date in the case, filtering by closed cases only\n",
    "pydb.create_temp_table(\n",
    "f\"\"\"\n",
    "SELECT\n",
    "  f.case_number,\n",
    "  f.first_close_date,\n",
    "  MAX(c.disp_date) AS last_disposal_date\n",
    "FROM\n",
    "  __temp__.ca_first_close f\n",
    "  LEFT JOIN {fcsq_db}.ca_disps_all_children c\n",
    "    ON f.case_number = c.case_number\n",
    "WHERE \n",
    "  c.disp_date <= first_close_date\n",
    "GROUP BY\n",
    "  f.case_number,\n",
    "  f.first_close_date\n",
    "\"\"\",\n",
    "\n",
    "\"ca_last_disp_date\")"
   ]
  },
  {
   "cell_type": "code",
   "execution_count": null,
   "id": "1bc6f8e4-2a36-4aa2-8ed1-f1b15c55de6f",
   "metadata": {},
   "outputs": [],
   "source": [
    "#get the last disposal date in the case, filtering by closed cases only\n",
    "pydb.create_temp_table(\n",
    "f\"\"\"\n",
    "SELECT\n",
    "  s.case_number,\n",
    "  s.issue_date,\n",
    "  c.last_disposal_date,\n",
    "  date_diff('day',s.issue_date, c.last_disposal_date) AS issue_to_last_disp_days,\n",
    "  EXTRACT(YEAR FROM c.last_disposal_date) AS disp_year,\n",
    "  EXTRACT(QUARTER FROM c.last_disposal_date) AS disp_quarter\n",
    "FROM\n",
    "  __temp__.ca_apps_doi s\n",
    "  INNER JOIN __temp__.ca_last_disp_date c\n",
    "    ON s.case_number = c.case_number\n",
    "WHERE\n",
    "  date_diff('day',s.issue_date, c.last_disposal_date) >= 0\n",
    "    \n",
    "\"\"\",\n",
    "\n",
    "\"ca_issue_to_last_disp\")"
   ]
  },
  {
   "cell_type": "code",
   "execution_count": null,
   "id": "8cf087e2-60cf-49ca-891f-b6a01b005007",
   "metadata": {},
   "outputs": [],
   "source": [
    "pydb.read_sql_query (\"select disp_year, disp_quarter, count(*) as count, AVG(issue_to_last_disp_days)/7 AS av_days FROM __temp__.ca_issue_to_last_disp where disp_year = 2011 and disp_quarter = 4 group by disp_year, disp_quarter\")"
   ]
  },
  {
   "cell_type": "code",
   "execution_count": null,
   "id": "f9c75662-3ad8-4dca-a6b2-fe025b8fe1e7",
   "metadata": {},
   "outputs": [],
   "source": [
    "data = pydb.read_sql_query (\"select * FROM __temp__.ca_issue_to_last_disp where disp_year = 2011 and disp_quarter = 4\")"
   ]
  },
  {
   "cell_type": "code",
   "execution_count": null,
   "id": "5e9946aa-fcc2-454f-b007-c13a091bbd56",
   "metadata": {},
   "outputs": [],
   "source": [
    "df = pd.DataFrame(data)"
   ]
  },
  {
   "cell_type": "code",
   "execution_count": null,
   "id": "b32b69e5-b544-458e-8f85-823c5aee8f6a",
   "metadata": {},
   "outputs": [],
   "source": [
    "df.to_csv ('Exports/t9_case_check.csv', header = True)"
   ]
  },
  {
   "cell_type": "code",
   "execution_count": null,
   "id": "1ede2175-77e9-4e60-bada-c4da48f50180",
   "metadata": {
    "jupyter": {
     "outputs_hidden": true
    },
    "tags": []
   },
   "outputs": [],
   "source": [
    "pydb.read_sql_query(f\"\"\"select * from {fcsq_db}.ca_apps_child where case_number = 'AF11P50004'\"\"\")"
   ]
  }
 ],
 "metadata": {
  "kernelspec": {
   "display_name": "Python 3",
   "language": "python",
   "name": "python3"
  },
  "language_info": {
   "codemirror_mode": {
    "name": "ipython",
    "version": 3
   },
   "file_extension": ".py",
   "mimetype": "text/x-python",
   "name": "python",
   "nbconvert_exporter": "python",
   "pygments_lexer": "ipython3",
   "version": "3.9.4"
  }
 },
 "nbformat": 4,
 "nbformat_minor": 5
}
