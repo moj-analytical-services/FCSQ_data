{
 "cells": [
  {
   "cell_type": "markdown",
   "id": "365b71a4-44e5-4a35-9a5b-d32d7f9477fe",
   "metadata": {},
   "source": [
    "##### Run children act application code"
   ]
  },
  {
   "cell_type": "code",
   "execution_count": 51,
   "id": "adf273e0-c465-42f2-a355-58e317f52ea2",
   "metadata": {
    "tags": []
   },
   "outputs": [
    {
     "name": "stdout",
     "output_type": "stream",
     "text": [
      "extracting applications....\n",
      "joining children to applications using event number....\n",
      "adding child charactersistics for children recorded on the event....\n",
      "joining children not recorded on the event to the application via roles table....\n",
      "creating table for children not recorded on the event or case....\n",
      "combining all child tables into one....\n",
      "adding order type and area details....\n",
      "ranking duplicate child applications....\n",
      "dropping previous child dataset in athena....\n",
      "deleting child dataset in s3....\n",
      "creating main child dataset....\n",
      "dropping previous orders applied for dataset in athena....\n",
      "deleting orders applied for dataset in s3....\n",
      "creating orders applied for table in Athena\n",
      "dropping previous applications dataset in athena....\n",
      "deleting applications dataset in s3....\n",
      "creating applications table in Athena....\n",
      "creating case start table....\n",
      "counting individual children annually....\n",
      "counting individual children quarterly....\n",
      "extracting high court cases....\n",
      "linking high court cases to case starts....\n",
      "creating a table with applicants and respondents....\n",
      "deleting applicant case starts table in athena....\n",
      "deleting applicant case starts data in s3\n",
      "creating applicant case starts table in athena....\n",
      "deleting respondent case starts table in athena....\n",
      "deleting respondent case starts data in s3\n",
      "creating respondent case starts table in athena....\n",
      "deleting final case starts table in athena....\n",
      "deleting final case starts table in s3\n",
      "creating final case starts table in athena with party counts and hight court flag....\n"
     ]
    }
   ],
   "source": [
    "%run 01_ca_apps.ipynb"
   ]
  },
  {
   "cell_type": "markdown",
   "id": "aef79a77-2957-4c89-87c9-b42308a4eaa5",
   "metadata": {},
   "source": [
    "##### Run children act csv creation code"
   ]
  },
  {
   "cell_type": "code",
   "execution_count": 52,
   "id": "b9f0dd8a-9b1e-49c4-8b13-ac4b51cbcd4b",
   "metadata": {
    "tags": []
   },
   "outputs": [
    {
     "name": "stdout",
     "output_type": "stream",
     "text": [
      "aggregating child level dataset....\n",
      "aggregating orders applied for dataset....\n",
      "aggregating applications dataset....\n",
      "aggregating case starts dataset....\n",
      "aggregating annual individual children dataset....\n",
      "aggregating quarterly individual children dataset....\n",
      "creating children act application csv....\n"
     ]
    }
   ],
   "source": [
    "%run 02_ca_apps_csv_creation.ipynb"
   ]
  },
  {
   "cell_type": "markdown",
   "id": "1ba9d297-615f-46fe-a425-c4c50bf4a2a1",
   "metadata": {},
   "source": [
    "##### Run children act disposals code"
   ]
  },
  {
   "cell_type": "code",
   "execution_count": 53,
   "id": "6a9f4870-5085-4597-9f66-e4f617d81e08",
   "metadata": {
    "tags": []
   },
   "outputs": [
    {
     "name": "stdout",
     "output_type": "stream",
     "text": [
      "extracting disposals (excluding withdrawn events)....\n",
      "extracting withdrawn events....\n",
      "dropping existing non filtered disposals table in Athena....\n",
      "deleting existing non filtered disposal data from s3\n",
      "creating non filtered disposals table in Athena....\n",
      "adding order type descriptions and area details....\n",
      "dropping existing disposals table in Athena....\n",
      "deleting existing disposals data in s3\n",
      "creating disposals table in Athena....\n",
      "joining children to disposals by event....\n",
      "getting child charactersitics for children recorded on the event....\n",
      "joining children not recorded on the event using roles table....\n",
      "creating a table for children not recorded on the event or the case....\n",
      "dropping child disposals table in Athena....\n",
      "deleting child disposals data in s3\n",
      "creating child disposals table in Athena....\n",
      "extrating final order flag....\n",
      "extrating final case closed event....\n",
      "extrating final case re-opened event....\n",
      "adding extracted dates to cases....\n",
      "calculating final event type within case....\n",
      "calculating case closed date....\n",
      "dropping existing case closed table in Athena....\n",
      "deleting existing case closed data in s3\n",
      "creating case closed table in Athena....\n"
     ]
    }
   ],
   "source": [
    "%run 03_ca_disps.ipynb"
   ]
  },
  {
   "cell_type": "markdown",
   "id": "2bc52f10-ddc5-44a9-b2d4-17a100be38a7",
   "metadata": {},
   "source": [
    "##### Run children act disposals csv creation"
   ]
  },
  {
   "cell_type": "code",
   "execution_count": 64,
   "id": "c9ac733c-523c-4a06-ab5f-2076f399b7d4",
   "metadata": {
    "tags": []
   },
   "outputs": [
    {
     "name": "stdout",
     "output_type": "stream",
     "text": [
      "aggregating child level dataset....\n",
      "aggregating order/disposal level dataset....\n",
      "aggregating case level dataset....\n",
      "creating a table of child level supervision orders....\n",
      "creating a table of child level special guardianship orders....\n",
      "combining child level supervision and special guardianship orders....\n",
      "removing children to count only combined orders....\n",
      "aggregating child level combined orders....\n",
      "aggregating order level combined orders....\n",
      "creating children act disposals csv....\n"
     ]
    }
   ],
   "source": [
    "%run 04_ca_disp_csv_creation.ipynb"
   ]
  },
  {
   "cell_type": "markdown",
   "id": "5d2392fb-144e-4d59-88f0-11287727f07f",
   "metadata": {},
   "source": [
    "##### Combine apps csv and disps csv to create child act csv and export to S3"
   ]
  },
  {
   "cell_type": "code",
   "execution_count": 65,
   "id": "e2518de5-3b6e-42a8-86c9-c2e554524706",
   "metadata": {},
   "outputs": [],
   "source": [
    "#Combine apps csv and disps csv\n",
    "ca_csv_data = pydb.read_sql_query( \n",
    "f\"\"\"\n",
    "SELECT\n",
    "  * \n",
    "FROM\n",
    "  __temp__.ca_apps_csv\n",
    "UNION ALL\n",
    "SELECT\n",
    "  *\n",
    "FROM \n",
    "  __temp__.ca_disp_csv\"\"\")"
   ]
  },
  {
   "cell_type": "code",
   "execution_count": 66,
   "id": "8a472705-7dea-48bb-bd40-838ff4669388",
   "metadata": {},
   "outputs": [],
   "source": [
    "ca_csv_df = pd.DataFrame(ca_csv_data)"
   ]
  },
  {
   "cell_type": "code",
   "execution_count": 67,
   "id": "eee0dc0f-4645-4ec9-8698-c43b9d701e8f",
   "metadata": {},
   "outputs": [],
   "source": [
    "ca_csv_df.to_csv (r's3://alpha-family-data/fcsq_processing/children_act_temporary_outputs/ca_csv.csv', header = True)"
   ]
  },
  {
   "cell_type": "markdown",
   "id": "88bef599-4736-49ab-8d23-34db1bdeb6f8",
   "metadata": {},
   "source": [
    "##### Run private law timeliness"
   ]
  },
  {
   "cell_type": "code",
   "execution_count": 58,
   "id": "80afd148-bf9f-4858-8b5f-b26c216c32a4",
   "metadata": {
    "tags": []
   },
   "outputs": [
    {
     "name": "stdout",
     "output_type": "stream",
     "text": [
      "extracting date of issue....\n",
      "extracting private law intial applications....\n",
      "joining issue date to applications....\n",
      "extracting case close dates and ranking to keep the earliest....\n",
      "getting the last disposal in the case....\n",
      "matching starts to final disposal....\n",
      "creating annual csv....\n",
      "creating quarterly csv....\n",
      "combining annual and quarterly csv....\n",
      "exporting csv to S3....\n"
     ]
    }
   ],
   "source": [
    "%run private_law_t9_timeliness.ipynb"
   ]
  },
  {
   "cell_type": "markdown",
   "id": "b175bebf-d354-4ab0-ad17-2577f9f84cc4",
   "metadata": {},
   "source": [
    "##### Run children act timeliness"
   ]
  },
  {
   "cell_type": "code",
   "execution_count": 59,
   "id": "582e3677-3bb7-41f9-93e4-a6dc7a98fc2a",
   "metadata": {
    "tags": []
   },
   "outputs": [
    {
     "name": "stdout",
     "output_type": "stream",
     "text": [
      "extracting date of issue....\n",
      "creating start date....\n",
      "matching applications to disposals....\n",
      "selecting the earliest disposal....\n",
      "creating main timeliness dataset....\n",
      "getting applicants with legal representation....\n",
      "getting respondents with legal representation....\n",
      "creating timeliness with party representation....\n",
      "creating regional csv....\n",
      "creating E&W csv....\n",
      "combining regional and national csv's....\n",
      "creating annual lookup....\n",
      "creating quarterly lookup....\n",
      "combining annual and quarterly lookups....\n",
      "exporting csv to S3....\n",
      "exporting lookup to S3....\n"
     ]
    }
   ],
   "source": [
    "%run ca_t10_timeliness.ipynb"
   ]
  },
  {
   "cell_type": "markdown",
   "id": "eb85a10c-8b42-43a0-b824-58eef9cfcb2a",
   "metadata": {},
   "source": [
    "##### Run private law legal rep"
   ]
  },
  {
   "cell_type": "code",
   "execution_count": 60,
   "id": "1346987b-2389-45fb-bcf8-e70ebacd0fee",
   "metadata": {
    "tags": []
   },
   "outputs": [
    {
     "name": "stdout",
     "output_type": "stream",
     "text": [
      "extracting hearing data....\n",
      "joining hearing data to case starts....\n",
      "creating table with applicants and respondents for cases with a hearing....\n",
      "aggregating party data....\n",
      "aggregating case starts data....\n",
      "aggregating case starts with a hearing data....\n",
      "creating csv....\n",
      "creating lookup data....\n",
      "exporting csv to S3....\n",
      "exporting lookup to S3....\n"
     ]
    }
   ],
   "source": [
    "%run ca_t11_legal_rep.ipynb"
   ]
  },
  {
   "cell_type": "markdown",
   "id": "5cfb7b2d-57e1-409f-9f22-103d621ac855",
   "metadata": {},
   "source": [
    "##### Run children act dfj"
   ]
  },
  {
   "cell_type": "code",
   "execution_count": 61,
   "id": "4c35e414-ab9e-4cce-bf9b-3a53b33e0942",
   "metadata": {
    "tags": []
   },
   "outputs": [
    {
     "name": "stdout",
     "output_type": "stream",
     "text": [
      "aggregating orders applied for by dfj....\n",
      "aggregating case starts by dfj....\n",
      "combining orders applied for and case starts....\n",
      "aggregating orders made by dfj....\n",
      "aggregating cases closed by dfj....\n",
      "combining orders made and cases closed....\n",
      "combining start and end data....\n",
      "exporting csv to S3....\n"
     ]
    }
   ],
   "source": [
    "%run ca_dfj.ipynb"
   ]
  }
 ],
 "metadata": {
  "kernelspec": {
   "display_name": "Python 3",
   "language": "python",
   "name": "python3"
  },
  "language_info": {
   "codemirror_mode": {
    "name": "ipython",
    "version": 3
   },
   "file_extension": ".py",
   "mimetype": "text/x-python",
   "name": "python",
   "nbconvert_exporter": "python",
   "pygments_lexer": "ipython3",
   "version": "3.9.4"
  }
 },
 "nbformat": 4,
 "nbformat_minor": 5
}
