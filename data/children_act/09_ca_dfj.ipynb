{
 "cells": [
  {
   "cell_type": "markdown",
   "id": "37e1cb98-85f7-4614-b99f-183d143a6191",
   "metadata": {},
   "source": [
    "## DFJ file (Children Act)"
   ]
  },
  {
   "cell_type": "markdown",
   "id": "a6a26958-12e8-4a8f-ad66-3a2bc4986958",
   "metadata": {},
   "source": [
    "### This code takes information produced from the application and disposals processes and summarises at DFJ level. The 4 areas it summarises are:\n",
    "1.  Orders applied for\n",
    "2.    Case starts\n",
    "3.    Orders made\n",
    "4.    Cases closes"
   ]
  },
  {
   "cell_type": "markdown",
   "id": "399484d0-758f-4130-8bcc-2a84c7ea1513",
   "metadata": {},
   "source": [
    "#### Import packages"
   ]
  },
  {
   "cell_type": "code",
   "execution_count": null,
   "id": "01438669-3717-4bcd-85f1-5f56d2494307",
   "metadata": {},
   "outputs": [],
   "source": [
    "# libraries\n",
    "import pandas as pd\n",
    "import pydbtools as pydb\n",
    "import os  # for file paths\n",
    "import awswrangler as wr"
   ]
  },
  {
   "cell_type": "code",
   "execution_count": null,
   "id": "3a425963-14e8-4868-8eec-7cbb016bef6c",
   "metadata": {},
   "outputs": [],
   "source": [
    "# Structured  dataframes\n",
    "pd.set_option(\"display.max_columns\", 100)\n",
    "pd.set_option(\"display.width\", 900)\n",
    "pd.set_option(\"display.max_colwidth\", 200)"
   ]
  },
  {
   "cell_type": "markdown",
   "id": "5d6478a9-feb3-4d83-9115-e41e036c1d51",
   "metadata": {
    "tags": []
   },
   "source": [
    "#### Assigning key variables"
   ]
  },
  {
   "cell_type": "code",
   "execution_count": null,
   "id": "5c9766ae-8b62-4c10-ab4e-ac89b2b569fc",
   "metadata": {},
   "outputs": [],
   "source": [
    "db1 = \"familyman_dev_v3\" # This is the database where the familyman data is stored on the platform\n",
    "fcsq_db = \"fcsq\" # This database is used for FCCSQ processing\n",
    "# create path for within athena FCSQ database in the S3 folder, alongside other S3 items\n",
    "fcsq_db_path = f\"s3://alpha-family-data/fcsq_processing/CA_disps/\""
   ]
  },
  {
   "cell_type": "markdown",
   "id": "00c9f8ae-4dde-45b2-a556-140258e63a6e",
   "metadata": {},
   "source": [
    "#### Orders applied for"
   ]
  },
  {
   "cell_type": "code",
   "execution_count": null,
   "id": "2d293d44-8601-41f1-8098-95f5cf01a6a0",
   "metadata": {},
   "outputs": [],
   "source": [
    "#Fetching the data from the orders applied for dataset created in the main children act application processing\n",
    "print(\"aggregating orders applied for by dfj....\")\n",
    "pydb.create_temp_table(\n",
    "f\"\"\" \n",
    "SELECT \n",
    "  CASE WHEN order_case_type = 'P'\n",
    "        THEN 'Private Law'\n",
    "      WHEN order_case_type = 'C'\n",
    "        THEN 'Public Law'\n",
    "      ELSE 'check' END\n",
    "    AS Category,\n",
    "  'Start' AS stage,  \n",
    "  year,\n",
    "  quarter,  \n",
    "  app_dfj AS dfj,\n",
    "  app_region AS region,  \n",
    "  COUNT(*) AS Count\n",
    "FROM\n",
    "  {fcsq_db}.ca_apps_order_types\n",
    "WHERE\n",
    "  year > 2010\n",
    "GROUP BY\n",
    "  year,\n",
    "  quarter,\n",
    "  order_case_type,\n",
    "  app_dfj,\n",
    "  app_region\n",
    "  \n",
    "\"\"\",\n",
    "    \n",
    "\"ca_dfj_orders_applied_for\")"
   ]
  },
  {
   "cell_type": "markdown",
   "id": "3727966c-a660-4942-8495-d8be89e53990",
   "metadata": {},
   "source": [
    "#### Case starts"
   ]
  },
  {
   "cell_type": "code",
   "execution_count": null,
   "id": "53db9e6d-5399-4583-93da-6936d5fbc1d6",
   "metadata": {},
   "outputs": [],
   "source": [
    "#Fetching the data from the case starts dataset created in the main children act application processing\n",
    "print(\"aggregating case starts by dfj....\")\n",
    "pydb.create_temp_table(\n",
    "f\"\"\" \n",
    "SELECT \n",
    "  CASE WHEN main_case_type = 'P'\n",
    "        THEN 'Private Law'\n",
    "      WHEN main_case_type = 'C'\n",
    "        THEN 'Public Law' END\n",
    "    AS Category,\n",
    "  'Start' AS stage,  \n",
    "  year,\n",
    "  quarter,  \n",
    "  dfj,\n",
    "  region,  \n",
    "  COUNT(*) AS Cases\n",
    "FROM\n",
    "  {fcsq_db}.ca_case_starts\n",
    "WHERE\n",
    "  year > 2010  \n",
    "  AND main_case_type IN ('P','C')\n",
    "GROUP BY\n",
    "  year,\n",
    "  quarter,\n",
    "  main_case_type,\n",
    "  dfj,\n",
    "  region\n",
    "  \n",
    "\"\"\",\n",
    "    \n",
    "\"ca_dfj_case_starts\")"
   ]
  },
  {
   "cell_type": "markdown",
   "id": "019ab71d-93a3-4618-ab4d-6ee882368eae",
   "metadata": {},
   "source": [
    "##### Combining order and start counts"
   ]
  },
  {
   "cell_type": "code",
   "execution_count": null,
   "id": "6d410f04-b190-4474-98cc-2818cab25189",
   "metadata": {},
   "outputs": [],
   "source": [
    "#Create a the starts dataset - combining the order counts from the apps table to the cases counts from the starts table\n",
    "print(\"combining orders applied for and case starts....\")\n",
    "pydb.create_temp_table(\n",
    "f\"\"\" \n",
    "SELECT \n",
    "  CASE WHEN a.category IS NULL\n",
    "        THEN c.category\n",
    "        ELSE a.category END\n",
    "      AS category,\n",
    "  CASE WHEN a.stage IS NULL\n",
    "        THEN c.stage\n",
    "        ELSE a.stage END\n",
    "      AS stage,\n",
    "  CASE WHEN a.year IS NULL\n",
    "        THEN c.year\n",
    "        ELSE a.year END\n",
    "      AS year,\n",
    "  CASE WHEN a.quarter IS NULL\n",
    "        THEN c.quarter\n",
    "        ELSE a.quarter END\n",
    "      AS quarter,\n",
    "  CASE WHEN a.dfj IS NULL\n",
    "        THEN c.dfj\n",
    "        ELSE a.dfj END\n",
    "      AS dfj,\n",
    "  CASE WHEN a.region IS NULL\n",
    "        THEN c.region\n",
    "        ELSE a.region END\n",
    "      AS region,        \n",
    "  a.count,\n",
    "  c.cases\n",
    "FROM\n",
    "  __temp__.ca_dfj_orders_applied_for a\n",
    "  FULL JOIN __temp__.ca_dfj_case_starts c\n",
    "    ON a.category = c.category\n",
    "    AND a.stage = c.stage  \n",
    "    AND a.year = c.year\n",
    "    AND a.quarter = c.quarter  \n",
    "    AND a.dfj = c.dfj  \n",
    "\"\"\",\n",
    "    \n",
    "\"ca_dfj_starts\")"
   ]
  },
  {
   "cell_type": "markdown",
   "id": "5539374e-bc06-42ba-96df-3424d70c3eeb",
   "metadata": {},
   "source": [
    "#### Orders made"
   ]
  },
  {
   "cell_type": "code",
   "execution_count": null,
   "id": "9c2ebf5c-9020-4e0a-947d-4df242a082e7",
   "metadata": {},
   "outputs": [],
   "source": [
    "#Fetching the data from the child disposals data created in the main children act disposals processing\n",
    "print(\"aggregating orders made by dfj....\")\n",
    "pydb.create_temp_table(\n",
    "f\"\"\" \n",
    "SELECT \n",
    "  CASE WHEN order_case_type = 'P'\n",
    "        THEN 'Private Law'\n",
    "      WHEN order_case_type = 'C'\n",
    "        THEN 'Public Law'\n",
    "      ELSE 'check' END\n",
    "    AS Category,\n",
    "  'End' AS stage,  \n",
    "  year,\n",
    "  quarter,  \n",
    "  disposal_dfj AS dfj,\n",
    "  disposal_region AS region,  \n",
    "  COUNT(*) AS count\n",
    "FROM\n",
    "  {fcsq_db}.ca_all_disposals\n",
    "WHERE\n",
    "  disp_type_code = 1\n",
    "  AND year > 2010\n",
    "GROUP BY\n",
    "  year,\n",
    "  quarter,\n",
    "  order_case_type,\n",
    "  disposal_dfj,\n",
    "  disposal_region\n",
    "  \n",
    "\"\"\",\n",
    "    \n",
    "\"ca_dfj_orders_made\")"
   ]
  },
  {
   "cell_type": "markdown",
   "id": "e4e255ff-b8b7-4bbe-acba-682cd3d1a934",
   "metadata": {},
   "source": [
    "#### Cases closed"
   ]
  },
  {
   "cell_type": "code",
   "execution_count": null,
   "id": "a924b23e-e697-4835-9c5e-b7c601f1ac39",
   "metadata": {},
   "outputs": [],
   "source": [
    "#Fetching the data from the child cases data created in the main children act disposals processing\n",
    "print(\"aggregating cases closed by dfj....\")\n",
    "pydb.create_temp_table(\n",
    "f\"\"\" \n",
    "SELECT\n",
    "  CASE WHEN case_type = 'P'\n",
    "        THEN 'Private Law'\n",
    "      WHEN case_type = 'C'\n",
    "        THEN 'Public Law' END\n",
    "    AS Category,\n",
    "  'End' AS stage,\n",
    "  year,\n",
    "  quarter,  \n",
    "  case_closed_dfj AS dfj,\n",
    "  case_closed_region AS region,  \n",
    "  COUNT(*) AS cases\n",
    "FROM\n",
    "  {fcsq_db}.ca_closed_cases\n",
    "WHERE\n",
    "  year > 2010 \n",
    "  AND case_type IN ('P','C')\n",
    "GROUP BY\n",
    "  year,\n",
    "  quarter,\n",
    "  case_type,\n",
    "  case_closed_dfj,\n",
    "  case_closed_region\n",
    "  \n",
    "\"\"\",\n",
    "    \n",
    "\"ca_dfj_case_closed\")"
   ]
  },
  {
   "cell_type": "markdown",
   "id": "cff999b2-b880-413c-9ca3-ac27d1de7fed",
   "metadata": {},
   "source": [
    "##### Combining order and case closed counts"
   ]
  },
  {
   "cell_type": "code",
   "execution_count": null,
   "id": "5ee5a26f-7cd5-410a-b8d4-4cc6cd166168",
   "metadata": {},
   "outputs": [],
   "source": [
    "#Create a the ends dataset - combining the order counts from the disps table to the cases counts from the closed table\n",
    "print(\"combining orders made and cases closed....\")\n",
    "pydb.create_temp_table(\n",
    "f\"\"\" \n",
    "SELECT \n",
    "  CASE WHEN o.category IS NULL\n",
    "        THEN c.category\n",
    "        ELSE o.category END\n",
    "      AS category,\n",
    "  CASE WHEN o.stage IS NULL\n",
    "        THEN c.stage\n",
    "        ELSE o.stage END\n",
    "      AS stage,\n",
    "  CASE WHEN o.year IS NULL\n",
    "        THEN c.year\n",
    "        ELSE o.year END\n",
    "      AS year,\n",
    "  CASE WHEN o.quarter IS NULL\n",
    "        THEN c.quarter\n",
    "        ELSE o.quarter END\n",
    "      AS quarter,\n",
    "  CASE WHEN o.dfj IS NULL\n",
    "        THEN c.dfj\n",
    "        ELSE o.dfj END\n",
    "      AS dfj,\n",
    "  CASE WHEN o.region IS NULL\n",
    "        THEN c.region\n",
    "        ELSE o.region END\n",
    "      AS region,   \n",
    "  o.count,\n",
    "  c.cases\n",
    "FROM\n",
    "  __temp__.ca_dfj_orders_made o\n",
    "  FULL JOIN __temp__.ca_dfj_case_closed c\n",
    "    ON o.category = c.category\n",
    "    AND o.stage = c.stage  \n",
    "    AND o.year = c.year\n",
    "    AND o.quarter = c.quarter  \n",
    "    AND o.dfj = c.dfj  \n",
    "\"\"\",\n",
    "    \n",
    "\"ca_dfj_ends\")"
   ]
  },
  {
   "cell_type": "markdown",
   "id": "81e2a40a-9c8b-4cdc-88d8-dbf59b838fb7",
   "metadata": {},
   "source": [
    "#### Combining start and end data"
   ]
  },
  {
   "cell_type": "code",
   "execution_count": null,
   "id": "25d82df2-a8e1-451f-a1b5-14e03b9af64e",
   "metadata": {},
   "outputs": [],
   "source": [
    "#Appending application/starts and orders made/closed dfj data together\n",
    "print(\"combining start and end data....\")\n",
    "pydb.create_temp_table(\n",
    "f\"\"\" \n",
    "SELECT \n",
    "  *\n",
    "FROM\n",
    "  __temp__.ca_dfj_starts\n",
    "UNION ALL\n",
    "SELECT \n",
    "  *\n",
    "FROM\n",
    "  __temp__.ca_dfj_ends\n",
    "  \n",
    "\"\"\",\n",
    "    \n",
    "\"ca_dfj\")"
   ]
  },
  {
   "cell_type": "markdown",
   "id": "d58c0370-148f-483b-b189-bff5b7dfa7b1",
   "metadata": {},
   "source": [
    "##### Converting to dataframe and exporting to S3"
   ]
  },
  {
   "cell_type": "code",
   "execution_count": null,
   "id": "e5716deb-7d92-4cb1-ba8e-80ae45755ae9",
   "metadata": {},
   "outputs": [],
   "source": [
    "dfj_data = pydb.read_sql_query (\"select * from __temp__.ca_dfj\")"
   ]
  },
  {
   "cell_type": "code",
   "execution_count": null,
   "id": "d66e6ce2-95cb-41f9-8705-0cf8a664c6af",
   "metadata": {},
   "outputs": [],
   "source": [
    "dfj_df = pd.DataFrame(dfj_data)"
   ]
  },
  {
   "cell_type": "code",
   "execution_count": null,
   "id": "6db3f8d7-1fa4-479f-8c53-4f31be011976",
   "metadata": {},
   "outputs": [],
   "source": [
    "print(\"exporting csv to S3....\")\n",
    "dfj_df.to_csv (r's3://alpha-family-data/fcsq_processing/children_act_temporary_outputs/ca_dfj.csv', header = True)"
   ]
  }
 ],
 "metadata": {
  "kernelspec": {
   "display_name": "Python 3",
   "language": "python",
   "name": "python3"
  },
  "language_info": {
   "codemirror_mode": {
    "name": "ipython",
    "version": 3
   },
   "file_extension": ".py",
   "mimetype": "text/x-python",
   "name": "python",
   "nbconvert_exporter": "python",
   "pygments_lexer": "ipython3",
   "version": "3.9.4"
  }
 },
 "nbformat": 4,
 "nbformat_minor": 5
}
