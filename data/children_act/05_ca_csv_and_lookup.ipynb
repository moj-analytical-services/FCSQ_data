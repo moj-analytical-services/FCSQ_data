{
 "cells": [
  {
   "cell_type": "markdown",
   "id": "8fbad99d-37ee-48e0-add2-eaa9939a4b66",
   "metadata": {},
   "source": [
    "# Main children act outputs"
   ]
  },
  {
   "cell_type": "markdown",
   "id": "3181401d-68a9-4cec-a031-e06e972756df",
   "metadata": {},
   "source": [
    "### This code combines data created during the applications and disposals stages and creates the main children act csv, as well as the lookup file that feeds into the order/child count application and orders made tables"
   ]
  },
  {
   "cell_type": "markdown",
   "id": "b4604eac-291a-43e4-b454-6b0ab985c153",
   "metadata": {},
   "source": [
    "##### Import packages"
   ]
  },
  {
   "cell_type": "code",
   "execution_count": null,
   "id": "b9416978-ff87-4642-8198-974961a90afc",
   "metadata": {},
   "outputs": [],
   "source": [
    "import os  # for file paths\n",
    "import pandas as pd\n",
    "import awswrangler as wr\n",
    "import pydbtools as pydb  # see https://github.com/moj-analytical-services/pydbtools\n",
    "\n",
    "# few things for viewing dataframes better\n",
    "pd.set_option(\"display.max_columns\", 100)\n",
    "pd.set_option(\"display.width\", 900)\n",
    "pd.set_option(\"display.max_colwidth\", 200)"
   ]
  },
  {
   "cell_type": "code",
   "execution_count": null,
   "id": "ecabf7f3-1857-4f9a-926f-6238a5c5517a",
   "metadata": {},
   "outputs": [],
   "source": [
    "#publication periods are set in the main run file. However, if this code is run independantly they can be set here\n",
    "#pub_year = 2022\n",
    "#pub_qtr = 3"
   ]
  },
  {
   "cell_type": "markdown",
   "id": "c70c676f-da1a-4c02-92eb-4bbc08b46932",
   "metadata": {},
   "source": [
    "#### Creating main child act csv"
   ]
  },
  {
   "cell_type": "code",
   "execution_count": null,
   "id": "ac793757-7585-447d-8a3b-f7cfae959349",
   "metadata": {},
   "outputs": [],
   "source": [
    "#Append main application and disposal data into one csv\n",
    "print(\"creating main child act csv....\")\n",
    "pydb.create_temp_table( \n",
    "f\"\"\"\n",
    "SELECT\n",
    "  year,\n",
    "  quarter AS qtr,\n",
    "  type,\n",
    "  count_type,\n",
    "  public_private,\n",
    "  disposal_type,\n",
    "  order_type,\n",
    "  order_type_code,\n",
    "  gender,\n",
    "  age_band,\n",
    "  applicants_in_case,\n",
    "  respondents_in_case,\n",
    "  hc_indicator,\n",
    "  count\n",
    "FROM\n",
    "  __temp__.ca_apps_csv\n",
    "UNION ALL\n",
    "SELECT\n",
    "  year,\n",
    "  quarter AS qtr,\n",
    "  type,\n",
    "  count_type,\n",
    "  public_private,\n",
    "  disposal_type,\n",
    "  order_type,\n",
    "  order_type_code,\n",
    "  gender,\n",
    "  age_band,\n",
    "  applicants_in_case,\n",
    "  respondents_in_case,\n",
    "  hc_indicator,\n",
    "  count\n",
    "FROM \n",
    "  __temp__.ca_disp_csv\n",
    "\"\"\",\n",
    "\n",
    "\"ca_csv\")"
   ]
  },
  {
   "cell_type": "markdown",
   "id": "80e11f77-bc23-4d45-ba50-689cfeddee27",
   "metadata": {},
   "source": [
    "#### Set as dataframe and export to s3"
   ]
  },
  {
   "cell_type": "code",
   "execution_count": null,
   "id": "1443fadb-54d7-47a0-bb96-d8c5a074bc4b",
   "metadata": {},
   "outputs": [],
   "source": [
    "ca_csv_data = pydb.read_sql_query(\"SELECT * FROM __temp__.ca_csv\")"
   ]
  },
  {
   "cell_type": "code",
   "execution_count": null,
   "id": "f787cca4-708a-4a86-b8bb-079505edbca6",
   "metadata": {},
   "outputs": [],
   "source": [
    "ca_csv_df = pd.DataFrame(ca_csv_data)"
   ]
  },
  {
   "cell_type": "code",
   "execution_count": null,
   "id": "71c31a21-b742-4335-8449-7e6fa2dd2737",
   "metadata": {},
   "outputs": [],
   "source": [
    "print(\"exporting main ca csv to s3....\")\n",
    "ca_csv_df.to_csv (r's3://alpha-family-data/fcsq_processing/children_act_temporary_outputs/CSV Children Act.csv', header = True, index = False)"
   ]
  },
  {
   "cell_type": "markdown",
   "id": "c862e62d-4334-48a0-9877-ba7a2e6856a1",
   "metadata": {},
   "source": [
    "#### Setting latest 4 quarterly periods"
   ]
  },
  {
   "cell_type": "code",
   "execution_count": null,
   "id": "d4aec3cb-6aaa-4852-9430-5653cd033cbf",
   "metadata": {},
   "outputs": [],
   "source": [
    "#Table 3 and 4 only contain the last 4 quarterly periods, so here we set what those quarterly periods will be depending on the publication period\n",
    "print(\"setting last 4 quarterly periods for order type tables....\")\n",
    "if(pub_qtr == 1):\n",
    "    prev_q4 = 2\n",
    "    prev_q3 = 3\n",
    "    prev_q2 = 4\n",
    "    prev_q1 = 1\n",
    "    prev_yq4 = pub_year - 1\n",
    "    prev_yq3 = pub_year - 1\n",
    "    prev_yq2 = pub_year - 1\n",
    "    prev_yq1 = pub_year\n",
    "    \n",
    "elif(pub_qtr == 2):\n",
    "    prev_q4 = 3\n",
    "    prev_q3 = 4\n",
    "    prev_q2 = 1\n",
    "    prev_q1 = 2\n",
    "    prev_yq4 = pub_year - 1\n",
    "    prev_yq3 = pub_year - 1\n",
    "    prev_yq2 = pub_year\n",
    "    prev_yq1 = pub_year\n",
    "    \n",
    "elif(pub_qtr == 3):\n",
    "    prev_q4 = 4\n",
    "    prev_q3 = 1\n",
    "    prev_q2 = 2\n",
    "    prev_q1 = 3\n",
    "    prev_yq4 = pub_year - 1\n",
    "    prev_yq3 = pub_year\n",
    "    prev_yq2 = pub_year\n",
    "    prev_yq1 = pub_year\n",
    "    \n",
    "elif(pub_qtr == 4):\n",
    "    prev_q4 = 1\n",
    "    prev_q3 = 2\n",
    "    prev_q2 = 3\n",
    "    prev_q1 = 4\n",
    "    prev_yq4 = pub_year\n",
    "    prev_yq3 = pub_year\n",
    "    prev_yq2 = pub_year\n",
    "    prev_yq1 = pub_year"
   ]
  },
  {
   "cell_type": "markdown",
   "id": "aa19eb52-f352-4d5f-bdf0-66a3fdcb3bd7",
   "metadata": {},
   "source": [
    "#### Creating lookup file"
   ]
  },
  {
   "cell_type": "code",
   "execution_count": null,
   "id": "4ff9688c-85dd-4d58-a4ed-c56a15139086",
   "metadata": {
    "tags": []
   },
   "outputs": [],
   "source": [
    "#Here we are creating columns that will form the lookup value that feeds in the order type/child count apps and disposals tables\n",
    "print(\"creating lookup data table....\")\n",
    "pydb.create_temp_table( \n",
    "f\"\"\"\n",
    "SELECT \n",
    "  CASE WHEN count_type IN ('Combined orders - children', 'Combined orders - orders')\n",
    "        THEN '99'\n",
    "       WHEN Order_type_code in (5,6,7)\n",
    "        THEN '07'\n",
    "       WHEN Order_type_code in (11,12)\n",
    "        THEN '11' \n",
    "       WHEN Order_type_code in (15,16,17)\n",
    "        THEN '15' \n",
    "       WHEN Order_type_code in (35,36)\n",
    "        THEN '35'\n",
    "    ELSE CAST(Order_type_code AS VARCHAR)\n",
    "  END AS lookup_code,\n",
    "  CASE WHEN Type = 'Disposal' THEN 'Order'\n",
    "        ELSE Type\n",
    "    END AS Type2,\n",
    "  Public_private,  \n",
    "  CASE WHEN Count_type = 'Combined orders - children' THEN 'Children'\n",
    "       WHEN Count_type = 'Combined orders - orders' THEN 'Order type'\n",
    "        ELSE Count_type\n",
    "    END AS Count_type2,\n",
    "  SUM(CASE WHEN year = 2011 THEN Count END) AS Y2011,\n",
    "  SUM(CASE WHEN year = 2012 THEN Count END) AS Y2012,\n",
    "  SUM(CASE WHEN year = 2013 THEN Count END) AS Y2013,\n",
    "  SUM(CASE WHEN year = 2014 THEN Count END) AS Y2014,\n",
    "  SUM(CASE WHEN year = 2015 THEN Count END) AS Y2015,\n",
    "  SUM(CASE WHEN year = 2016 THEN Count END) AS Y2016,\n",
    "  SUM(CASE WHEN year = 2017 THEN Count END) AS Y2017,\n",
    "  SUM(CASE WHEN year = 2018 THEN Count END) AS Y2018,\n",
    "  SUM(CASE WHEN year = 2019 THEN Count END) AS Y2019,\n",
    "  SUM(CASE WHEN year = 2020 THEN Count END) AS Y2020,\n",
    "  SUM(CASE WHEN year = 2021 THEN Count END) AS Y2021,\n",
    "  SUM(CASE WHEN year = 2022 THEN Count END) AS Y2022,\n",
    "  SUM(CASE WHEN Year = {prev_yq4} AND qtr = CAST({prev_q4} AS VARCHAR) THEN Count END) AS YQ1,\n",
    "  SUM(CASE WHEN Year = {prev_yq3} AND qtr = CAST({prev_q3} AS VARCHAR) THEN Count END) AS YQ2,\n",
    "  SUM(CASE WHEN Year = {prev_yq2} AND qtr = CAST({prev_q2} AS VARCHAR) THEN Count END) AS YQ3,\n",
    "  SUM(CASE WHEN Year = {prev_yq1} AND qtr = CAST({prev_q1} AS VARCHAR) THEN Count END) AS YQ4\n",
    "  \n",
    "FROM\n",
    "  __temp__.ca_csv\n",
    "WHERE\n",
    "  (count_type IN ('Children', 'Order type', 'Combined orders - children', 'Combined orders - orders')\n",
    "   AND disposal_type NOT IN ('No order', 'Refused','Withdrawn'))  \n",
    "GROUP BY\n",
    "  CASE WHEN count_type IN ('Combined orders - children', 'Combined orders - orders')\n",
    "        THEN '99'\n",
    "       WHEN Order_type_code in (5,6,7)\n",
    "        THEN '07'\n",
    "       WHEN Order_type_code in (11,12)\n",
    "        THEN '11' \n",
    "       WHEN Order_type_code in (15,16,17)\n",
    "        THEN '15' \n",
    "       WHEN Order_type_code in (35,36)\n",
    "        THEN '35'\n",
    "    ELSE CAST(Order_type_code AS VARCHAR) END,\n",
    "  CASE WHEN Type = 'Disposal' THEN 'Order'\n",
    "        ELSE Type END,\n",
    "  Public_private,\n",
    "  CASE WHEN Count_type = 'Combined orders - children' THEN 'Children'\n",
    "       WHEN Count_type = 'Combined orders - orders' THEN 'Order type'\n",
    "        ELSE Count_type END;\n",
    "\n",
    "\n",
    "\"\"\",\n",
    "    \n",
    "\"lookup_cats\")"
   ]
  },
  {
   "cell_type": "code",
   "execution_count": null,
   "id": "49691941-48e2-4a76-bd76-53c13d1f0927",
   "metadata": {
    "tags": []
   },
   "outputs": [],
   "source": [
    "#Creating the lookup file\n",
    "#Currently the latest year will need to be manually added - process probably won't get used in 2023\n",
    "print(\"creating ca lookup file for order type tables....\")\n",
    "pydb.create_temp_table( \n",
    "f\"\"\"\n",
    "SELECT \n",
    "   lookup_code||type2||public_private||count_type2 AS lookup,\n",
    "   y2011,\n",
    "   y2012,\n",
    "   y2013,\n",
    "   y2014,\n",
    "   y2015,\n",
    "   y2016,\n",
    "   y2017,\n",
    "   y2018,\n",
    "   y2019,\n",
    "   y2020,\n",
    "   y2021,\n",
    "   y2022,\n",
    "   yq1,\n",
    "   yq2,\n",
    "   yq3,\n",
    "   yq4\n",
    "FROM\n",
    "  __temp__.lookup_cats \n",
    "\n",
    "\"\"\",\n",
    "    \n",
    "\"ca_lookup\")"
   ]
  },
  {
   "cell_type": "markdown",
   "id": "382ec10a-50f9-412a-9c91-c3b3f8215e00",
   "metadata": {},
   "source": [
    "#### Export lookup to S3"
   ]
  },
  {
   "cell_type": "code",
   "execution_count": null,
   "id": "fa02d042-c279-4558-9098-f62ca916436b",
   "metadata": {},
   "outputs": [],
   "source": [
    "ca_lookup_data = pydb.read_sql_query(\"SELECT * FROM __temp__.ca_lookup\")"
   ]
  },
  {
   "cell_type": "code",
   "execution_count": null,
   "id": "2da73fe6-03b8-405e-8a13-3afd146c430c",
   "metadata": {},
   "outputs": [],
   "source": [
    "ca_lookup_df = pd.DataFrame(ca_lookup_data)"
   ]
  },
  {
   "cell_type": "code",
   "execution_count": null,
   "id": "0d82e48a-ef3b-4591-9c4a-f05d9a55d1e6",
   "metadata": {},
   "outputs": [],
   "source": [
    "print(\"exporting main ca lookup to s3....\")\n",
    "ca_lookup_df.to_csv (r's3://alpha-family-data/fcsq_processing/children_act_temporary_outputs/ca_lookup.csv', header = True, index=False)"
   ]
  }
 ],
 "metadata": {
  "kernelspec": {
   "display_name": "Python 3",
   "language": "python",
   "name": "python3"
  },
  "language_info": {
   "codemirror_mode": {
    "name": "ipython",
    "version": 3
   },
   "file_extension": ".py",
   "mimetype": "text/x-python",
   "name": "python",
   "nbconvert_exporter": "python",
   "pygments_lexer": "ipython3",
   "version": "3.9.4"
  }
 },
 "nbformat": 4,
 "nbformat_minor": 5
}
