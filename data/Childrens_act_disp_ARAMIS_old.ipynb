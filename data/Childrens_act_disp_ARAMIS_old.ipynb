{
 "cells": [
  {
   "cell_type": "markdown",
   "metadata": {},
   "source": [
    "# Childrens Act Disposals ARAMIS.sql"
   ]
  },
  {
   "cell_type": "code",
   "execution_count": null,
   "metadata": {},
   "outputs": [],
   "source": [
    "# libraries\n",
    "import pandas as pd\n",
    "import pydbtools as pydb\n",
    "import boto3\n",
    "from datetime import datetime\n",
    "#import re"
   ]
  },
  {
   "cell_type": "code",
   "execution_count": null,
   "metadata": {},
   "outputs": [],
   "source": [
    "# Structured  dataframes\n",
    "pd.set_option(\"display.max_columns\", 100)\n",
    "pd.set_option(\"display.width\", 900)\n",
    "pd.set_option(\"display.max_colwidth\", 200)"
   ]
  },
  {
   "cell_type": "code",
   "execution_count": null,
   "metadata": {},
   "outputs": [],
   "source": [
    "# Assigning databases and S3 bucket\n",
    "db1 = \"familyman_dev_v2\"\n",
    "fcsq_db = \"fcsq\"\n",
    "s3 = boto3.resource(\"s3\")\n",
    "bucket = s3.Bucket(\"alpha-family-data\")\n",
    "snapshot_date = \"2021-08-19\""
   ]
  },
  {
   "cell_type": "markdown",
   "metadata": {},
   "source": [
    "# Events part 1"
   ]
  },
  {
   "cell_type": "code",
   "execution_count": null,
   "metadata": {},
   "outputs": [],
   "source": [
    "event_1 = f\"\"\"\n",
    "SELECT a.event,\n",
    "    a.case_number,\n",
    "    a.event_model,\n",
    "    a.receipt_date,\n",
    "    a.entry_date,\n",
    "    a.error as event_error,\n",
    "    a.creating_court,\n",
    "    b.code as Court_code\n",
    "   \n",
    "FROM {db1}.events a\n",
    "INNER JOIN {db1}.courts_mv b ON a.creating_court = b.court\n",
    "\n",
    "WHERE ((a.event_model IN ('C23','C25','C26','C27','C28','C29',\n",
    "'C30','C31','C32A','C32B','C33','C34A','C34B','C35A','C35B','C37',\n",
    "'C38A','C38B','C39','C40','C42','C43A','C44A','C44B','C45A','C45B',\n",
    "'C53','C80','C81','C82') AND a.error = 'N')\n",
    "OR (a.event_model = 'CPA' AND a.error = 'N' AND a.narrative Is Null))\n",
    "AND a.mojap_snapshot_date = date '{snapshot_date}'\n",
    "AND b.mojap_snapshot_date = date '{snapshot_date}'\n",
    "\"\"\"\n",
    "\n",
    "table=pydb.create_temp_table(event_1,\"Event1\")"
   ]
  },
  {
   "cell_type": "code",
   "execution_count": null,
   "metadata": {},
   "outputs": [],
   "source": [
    "df = pydb.read_sql_query(\"select * from __temp__.Event1\")\n",
    "df.head()"
   ]
  },
  {
   "cell_type": "markdown",
   "metadata": {},
   "source": [
    "Writing into CSV folder"
   ]
  },
  {
   "cell_type": "code",
   "execution_count": null,
   "metadata": {},
   "outputs": [],
   "source": [
    "#Event1_csv_file = df.to_csv(\"s3://alpha-family-data/fcsq_processing/childrens_act/event1.csv\")\n",
    "Event1_csv_file = df.to_csv(\"\\\\dom1.infra.int\\data\\hq\\102PF\\Shared\\Group_LCDSHD2_IMD\\IMD\\Statistics Branch\\Family\\Childrens Act\\FCSQ processing\\&&YearQ\\Disposals\\1. Workings\\SQL Developer Transfer\\event1.csv\")"
   ]
  },
  {
   "cell_type": "code",
   "execution_count": null,
   "metadata": {},
   "outputs": [],
   "source": [
    "s3 = boto3.resource('s3')"
   ]
  },
  {
   "cell_type": "code",
   "execution_count": null,
   "metadata": {},
   "outputs": [],
   "source": [
    "#pd.read_csv(\"s3://alpha-family-data/fcsq_processing/childrens_act/event1.csv\" ,index_col=[0])\n",
    "pd.read_csv(\"\\\\dom1.infra.int\\data\\hq\\102PF\\Shared\\Group_LCDSHD2_IMD\\IMD\\Statistics Branch\\Family\\Childrens Act\\FCSQ processing\\&&YearQ\\Disposals\\1. Workings\\SQL Developer Transfer\\event1.csv\" ,index_col=[0])"
   ]
  },
  {
   "cell_type": "markdown",
   "metadata": {},
   "source": [
    "# Co code Consent_data"
   ]
  },
  {
   "cell_type": "code",
   "execution_count": null,
   "metadata": {},
   "outputs": [],
   "source": [
    "consent_data_1 = f\"\"\"\n",
    "SELECT\n",
    "    a.event,\n",
    "    a.case_number,\n",
    "    a.event_model,\n",
    "    a.receipt_date,\n",
    "    a.error as event_error,\n",
    "    a.creating_court,\n",
    "    b.code as Court_code,\n",
    "    c.field_model,\n",
    "    c.value\n",
    "FROM {db1}.EVENTS a \n",
    "INNER JOIN {db1}.event_fields c  ON a.EVENT = c.EVENT\n",
    "INNER JOIN {db1}.COURTS_MV b ON a.CREATING_COURT = b.COURT\n",
    "WHERE \n",
    " a.Error= 'N' AND c.FIELD_MODEL IN('C21_CO','C23_CO','C24_CO','C25_CO',\n",
    "        'C26_CO','C27_CO','C28_CO','C29_CO','C30_CO','C31_CO','C32A_CO','C32B_CO','C33_CO','C34A_CO','C34B_CO','C35A_CO','C35B_CO',\n",
    "        'C36_CO','C37_CO','C38A_CO','C38B_CO','C39_CO','C40_CO','C42_CO','C43_CO','C43A_CO','C44A_CO','C44B_CO','C45A_CO','C45B_CO',\n",
    "        'C53_CO','C80_CO','C81_CO','C82_CO','CPA_CO','ORDNOM_CO','ORDREF_CO') \n",
    "AND a.mojap_snapshot_date = date '{snapshot_date}'\n",
    "AND b.mojap_snapshot_date = date '{snapshot_date}'\n",
    "AND c.mojap_snapshot_date = date '{snapshot_date}';\n",
    "\"\"\"\n",
    "pydb.create_temp_table(consent_data_1,\"Consent_data\")"
   ]
  },
  {
   "cell_type": "code",
   "execution_count": null,
   "metadata": {},
   "outputs": [],
   "source": [
    "df = pydb.read_sql_query(\"select * from __temp__.Consent_data\")\n",
    "df.head()"
   ]
  },
  {
   "cell_type": "markdown",
   "metadata": {},
   "source": [
    "Writing into CSV folder"
   ]
  },
  {
   "cell_type": "code",
   "execution_count": null,
   "metadata": {},
   "outputs": [],
   "source": [
    "#Consent_data_csv_file = df.to_csv(\"s3://alpha-family-data/fcsq_processing/childrens_act/Consent_data.csv\")\n",
    "Consent_data_csv_file = df.to_csv(\"\\\\dom1.infra.int\\data\\hq\\102PF\\Shared\\Group_LCDSHD2_IMD\\IMD\\Statistics Branch\\Family\\Childrens Act\\FCSQ processing\\&&YearQ\\Disposals\\1. Workings\\SQL Developer Transfer\\Consent_data.csv\")"
   ]
  },
  {
   "cell_type": "code",
   "execution_count": null,
   "metadata": {},
   "outputs": [],
   "source": [
    "#pd.read_csv(\"s3://alpha-family-data/fcsq_processing/childrens_act/Consent_data.csv\" ,index_col=[0])\n",
    "pd.read_csv(\"\\\\dom1.infra.int\\data\\hq\\102PF\\Shared\\Group_LCDSHD2_IMD\\IMD\\Statistics Branch\\Family\\Childrens Act\\FCSQ processing\\&&YearQ\\Disposals\\1. Workings\\SQL Developer Transfer\\Consent_data.csv\" ,index_col=[0])"
   ]
  },
  {
   "cell_type": "markdown",
   "metadata": {},
   "source": [
    "# Case Closed Events "
   ]
  },
  {
   "cell_type": "markdown",
   "metadata": {},
   "source": [
    "crt_caseclosed = f\"\"\"\n",
    "SELECT case_number,\n",
    "    event,\n",
    "    event_model,\n",
    "    receipt_date,\n",
    "    entry_date,\n",
    "    error as Event_error\n",
    "     \n",
    "FROM {db1}.events  WHERE  event_model = 'U24' AND error = 'N'\n",
    "AND mojap_snapshot_date = date '{snapshot_date}'\n",
    "\"\"\"\n",
    "\n",
    "pydb.create_temp_table(crt_caseclosed ,\"caseclosed_event\")"
   ]
  },
  {
   "cell_type": "code",
   "execution_count": null,
   "metadata": {},
   "outputs": [],
   "source": [
    "df = pydb.read_sql_query(\"select * from __temp__.caseclosed_event\")\n",
    "df.head()"
   ]
  },
  {
   "cell_type": "markdown",
   "metadata": {},
   "source": [
    "Writing into CSV folder"
   ]
  },
  {
   "cell_type": "code",
   "execution_count": null,
   "metadata": {},
   "outputs": [],
   "source": [
    "#caseclosed_event_csv_file = df.to_csv(\"s3://alpha-family-data/fcsq_processing/childrens_act/caseclosed_event.csv\")\n",
    "Consent_data_csv_file = df.to_csv(\"\\\\dom1.infra.int\\data\\hq\\102PF\\Shared\\Group_LCDSHD2_IMD\\IMD\\Statistics Branch\\Family\\Childrens Act\\FCSQ processing\\&&YearQ\\Disposals\\1. Workings\\SQL Developer Transfer\\caseclosed_event\")"
   ]
  },
  {
   "cell_type": "code",
   "execution_count": null,
   "metadata": {},
   "outputs": [],
   "source": [
    "#pd.read_csv(\"s3://alpha-family-data/fcsq_processing/childrens_act/caseclosed_event.csv\" ,index_col=[0])\n",
    "pd.read_csv(\"\\\\dom1.infra.int\\data\\hq\\102PF\\Shared\\Group_LCDSHD2_IMD\\IMD\\Statistics Branch\\Family\\Childrens Act\\FCSQ processing\\&&YearQ\\Disposals\\1. Workings\\SQL Developer Transfer\\caseclosed_event\" ,index_col=[0])"
   ]
  },
  {
   "cell_type": "markdown",
   "metadata": {},
   "source": [
    "# case reopened events"
   ]
  },
  {
   "cell_type": "code",
   "execution_count": null,
   "metadata": {},
   "outputs": [],
   "source": [
    "case_reopened_events1 = f\"\"\"\n",
    "SELECT case_number,\n",
    " event,\n",
    " event_model,\n",
    " receipt_date,\n",
    " entry_date,\n",
    " error\n",
    " \n",
    "FROM {db1}.events\n",
    "WHERE event_model = 'G62'\n",
    "AND error  = 'N'\n",
    "AND mojap_snapshot_date = date '{snapshot_date}'\n",
    "\"\"\"\n",
    "\n",
    "pydb.create_temp_table(case_reopened_events1, \"casereopened_event\")\n"
   ]
  },
  {
   "cell_type": "code",
   "execution_count": null,
   "metadata": {},
   "outputs": [],
   "source": [
    "df = pydb.read_sql_query(\"select * from __temp__.casereopened_event\")\n",
    "df.head()"
   ]
  },
  {
   "cell_type": "markdown",
   "metadata": {},
   "source": [
    "Writing into CSV folder"
   ]
  },
  {
   "cell_type": "code",
   "execution_count": null,
   "metadata": {},
   "outputs": [],
   "source": [
    "#casereopened_event_csv_file = df.to_csv(\"s3://alpha-family-data/fcsq_processing/childrens_act/casereopened_event.csv\")\n",
    "casereopened_event_csv_file = df.to_csv(\"\\\\dom1.infra.int\\data\\hq\\102PF\\Shared\\Group_LCDSHD2_IMD\\IMD\\Statistics Branch\\Family\\Childrens Act\\FCSQ processing\\&&YearQ\\Disposals\\1. Workings\\SQL Developer Transfer\\casereopened_event.csv\")"
   ]
  },
  {
   "cell_type": "code",
   "execution_count": null,
   "metadata": {},
   "outputs": [],
   "source": [
    "#pd.read_csv(\"s3://alpha-family-data/fcsq_processing/childrens_act/casereopened_event.csv\" ,index_col=[0])\n",
    "pd.read_csv(\"\\\\dom1.infra.int\\data\\hq\\102PF\\Shared\\Group_LCDSHD2_IMD\\IMD\\Statistics Branch\\Family\\Childrens Act\\FCSQ processing\\&&YearQ\\Disposals\\1. Workings\\SQL Developer Transfer\\casereopened_event.csv\" ,index_col=[0])"
   ]
  },
  {
   "cell_type": "markdown",
   "metadata": {},
   "source": [
    "# Child party details"
   ]
  },
  {
   "cell_type": "code",
   "execution_count": null,
   "metadata": {},
   "outputs": [],
   "source": [
    "child_party_details1 = f\"\"\"\n",
    "SELECT  \n",
    "  a.ROLE, \n",
    "  a.CASE_NUMBER,\n",
    "  a.PARTY, \n",
    "  a.ROLE_MODEL, \n",
    "  b.GENDER, \n",
    "  b.DOB, \n",
    "  a.DELETE_FLAG \n",
    "FROM \n",
    "  {db1}.PARTIES b\n",
    "  INNER JOIN {db1}.ROLES a\n",
    "  ON b.PARTY = a.PARTY\n",
    "WHERE \n",
    "  a.ROLE_MODEL In ('CHLDC','CHLDZ')\n",
    "    AND a.DELETE_FLAG = 'N'\n",
    "AND a.mojap_snapshot_date = date '{snapshot_date}'\n",
    "AND b.mojap_snapshot_date = date '{snapshot_date}'\n",
    "\"\"\"\n",
    "pydb.create_temp_table(child_party_details1, \"childparty_details\")"
   ]
  },
  {
   "cell_type": "code",
   "execution_count": null,
   "metadata": {},
   "outputs": [],
   "source": [
    "df = pydb.read_sql_query(\"select * from __temp__.childparty_details\")\n",
    "df.head()"
   ]
  },
  {
   "cell_type": "markdown",
   "metadata": {},
   "source": [
    "Writing into CSV folder"
   ]
  },
  {
   "cell_type": "code",
   "execution_count": null,
   "metadata": {},
   "outputs": [],
   "source": [
    "#childparty_details_csv_file = df.to_csv(\"s3://alpha-family-data/fcsq_processing/childrens_act/childparty_details.csv\")\n",
    "childparty_details_csv_file = df.to_csv(\"\\\\dom1.infra.int\\data\\hq\\102PF\\Shared\\Group_LCDSHD2_IMD\\IMD\\Statistics Branch\\Family\\Childrens Act\\FCSQ processing\\&&YearQ\\Disposals\\1. Workings\\SQL Developer Transfer\\childparty_details.csv\")"
   ]
  },
  {
   "cell_type": "code",
   "execution_count": null,
   "metadata": {},
   "outputs": [],
   "source": [
    "#pd.read_csv(\"s3://alpha-family-data/fcsq_processing/childrens_act/childparty_details.csv\" ,index_col=[0])\n",
    "pd.read_csv(\"\\\\dom1.infra.int\\data\\hq\\102PF\\Shared\\Group_LCDSHD2_IMD\\IMD\\Statistics Branch\\Family\\Childrens Act\\FCSQ processing\\&&YearQ\\Disposals\\1. Workings\\SQL Developer Transfer\\childparty_details.csv\" ,index_col=[0])"
   ]
  },
  {
   "cell_type": "markdown",
   "metadata": {},
   "source": [
    "# High court"
   ]
  },
  {
   "cell_type": "code",
   "execution_count": null,
   "metadata": {},
   "outputs": [],
   "source": [
    "high_court1 = f\"\"\"\n",
    "SELECT \n",
    "  a.RECEIPT_DATE, \n",
    "  a.CASE_NUMBER, \n",
    "  a.EVENT, \n",
    "  b.FIELD_MODEL, \n",
    "  b.VALUE, \n",
    "  a.Error\n",
    "FROM \n",
    "  {db1}.EVENTS a\n",
    "  INNER JOIN {db1}.EVENT_FIELDS b\n",
    "    ON a.EVENT = b.EVENT\n",
    "WHERE \n",
    "    a.RECEIPT_DATE >= CAST('2011-01-01' AS DATE)\n",
    "    AND b.FIELD_MODEL \n",
    "       IN ('FAMLAW1_HC','FM1_HC','FM2A_HC','FM2C_HC','FM3A_HC','PRIVLAW_1',\n",
    "           'PUBLAW_1','U21_HC','U22_HC','A71_13','A72_12') \n",
    "    AND a.Error='N'\n",
    "AND a.mojap_snapshot_date = date '{snapshot_date}'\n",
    "AND b.mojap_snapshot_date = date '{snapshot_date}'\n",
    "\"\"\"\n",
    "pydb.create_temp_table(high_court1, \"high_court\")"
   ]
  },
  {
   "cell_type": "code",
   "execution_count": null,
   "metadata": {},
   "outputs": [],
   "source": [
    "df = pydb.read_sql_query(\"select * from __temp__.high_court\")\n",
    "df.head()"
   ]
  },
  {
   "cell_type": "markdown",
   "metadata": {},
   "source": [
    "Writing into CSV folder"
   ]
  },
  {
   "cell_type": "code",
   "execution_count": null,
   "metadata": {},
   "outputs": [],
   "source": [
    "#high_court_csv_file = df.to_csv(\"s3://alpha-family-data/fcsq_processing/childrens_act/high_court.csv\")\n",
    "high_court_csv_file = df.to_csv(\"\\\\dom1.infra.int\\data\\hq\\102PF\\Shared\\Group_LCDSHD2_IMD\\IMD\\Statistics Branch\\Family\\Childrens Act\\FCSQ processing\\&&YearQ\\Disposals\\1. Workings\\SQL Developer Transfer\\high_court.csv\")"
   ]
  },
  {
   "cell_type": "code",
   "execution_count": null,
   "metadata": {},
   "outputs": [],
   "source": [
    "#pd.read_csv(\"s3://alpha-family-data/fcsq_processing/childrens_act/high_court.csv\" ,index_col=[0])\n",
    "pd.read_csv(\"\\\\dom1.infra.int\\data\\hq\\102PF\\Shared\\Group_LCDSHD2_IMD\\IMD\\Statistics Branch\\Family\\Childrens Act\\FCSQ processing\\&&YearQ\\Disposals\\1. Workings\\SQL Developer Transfer\\high_court.csv\" ,index_col=[0])"
   ]
  },
  {
   "cell_type": "markdown",
   "metadata": {},
   "source": [
    "# Tier of judiciary"
   ]
  },
  {
   "cell_type": "code",
   "execution_count": null,
   "metadata": {},
   "outputs": [],
   "source": [
    "Tier_of_judiciary1 = f\"\"\"\n",
    "SELECT \n",
    "    a.receipt_date,\n",
    "    a.case_number,\n",
    "    a.event,\n",
    "    b.field_model,\n",
    "    b.value,\n",
    "    a.error\n",
    "      \n",
    "FROM {db1}.events a\n",
    "INNER JOIN {db1}.event_fields b ON a.event =  b.event\n",
    "WHERE a.receipt_date >= CAST('2011-01-01' AS DATE) \n",
    "    AND b.field_model \n",
    "       IN ('C21_TOJ','C23_TOJ','C24_TOJ','C25_TOJ','C26_TOJ','C27_TOJ','C28_TOJ','C29_TOJ','C30_TOJ','C31_TOJ','C32a_TOJ',\n",
    "       'C32B_TOJ','C33_TOJ','C32A_TOJ','C34B_TOJ','C35A_TOJ','C35B_TOJ','C36_TOJ','C37_TOJ','C38A_TOJ','C38B_TOJ',\n",
    "       'C39_TOJ','C40_TOJ','C43_TOJ','C43A_TOJ','C44A_TOJ','C44B_TOJ','C45A_TOJ','C45B_TOJ','C46A_TOJ','C46B_TOJ','C47A_TOJ',\n",
    "       'C47B_TOJ','C47C_TOJ','C48A_TOJ','C48B_TOJ','C48C_TOJ','C49_TOJ','C50_TOJ','C53_TOJ','C54_TOJ','C63A_TOJ','C80_TOJ',\n",
    "       'C81_TOJ','C82_TOJ')\n",
    "    AND a.error='N'\n",
    "AND a.mojap_snapshot_date = date '{snapshot_date}'\n",
    "AND b.mojap_snapshot_date = date '{snapshot_date}'\n",
    "\"\"\"\n",
    "pydb.create_temp_table(Tier_of_judiciary1, \"Tier_of_judiciary\")"
   ]
  },
  {
   "cell_type": "code",
   "execution_count": null,
   "metadata": {},
   "outputs": [],
   "source": [
    "df = pydb.read_sql_query(\"select * from __temp__.Tier_of_judiciary\")\n",
    "df.head()"
   ]
  },
  {
   "cell_type": "markdown",
   "metadata": {},
   "source": [
    "Writing into CSV folder"
   ]
  },
  {
   "cell_type": "code",
   "execution_count": null,
   "metadata": {},
   "outputs": [],
   "source": [
    "#Tier_of_judiciary_csv_file = df.to_csv(\"s3://alpha-family-data/fcsq_processing/childrens_act/Tier_of_judiciary.csv\")\n",
    "Tier_of_judiciary_csv_file = df.to_csv(\"\\\\dom1.infra.int\\data\\hq\\102PF\\Shared\\Group_LCDSHD2_IMD\\IMD\\Statistics Branch\\Family\\Childrens Act\\FCSQ processing\\&&YearQ\\Disposals\\1. Workings\\SQL Developer Transfer\\Tier_of_judiciary.csv\")"
   ]
  },
  {
   "cell_type": "code",
   "execution_count": null,
   "metadata": {},
   "outputs": [],
   "source": [
    "#pd.read_csv(\"s3://alpha-family-data/fcsq_processing/childrens_act/Tier_of_judiciary.csv\",index_col=[0])\n",
    "pd.read_csv(\"\\\\dom1.infra.int\\data\\hq\\102PF\\Shared\\Group_LCDSHD2_IMD\\IMD\\Statistics Branch\\Family\\Childrens Act\\FCSQ processing\\&&YearQ\\Disposals\\1. Workings\\SQL Developer Transfer\\Tier_of_judiciary.csv\" ,index_col=[0])"
   ]
  },
  {
   "cell_type": "code",
   "execution_count": null,
   "metadata": {},
   "outputs": [],
   "source": []
  }
 ],
 "metadata": {
  "kernelspec": {
   "display_name": "Python 3",
   "language": "python",
   "name": "python3"
  },
  "language_info": {
   "codemirror_mode": {
    "name": "ipython",
    "version": 3
   },
   "file_extension": ".py",
   "mimetype": "text/x-python",
   "name": "python",
   "nbconvert_exporter": "python",
   "pygments_lexer": "ipython3",
   "version": "3.7.1"
  }
 },
 "nbformat": 4,
 "nbformat_minor": 4
}
