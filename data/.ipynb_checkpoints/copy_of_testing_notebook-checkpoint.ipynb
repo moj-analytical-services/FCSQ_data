{
 "cells": [
  {
   "cell_type": "markdown",
   "id": "08407b75",
   "metadata": {},
   "source": [
    "## 2. table_2 table - a second table <a name=table_2></a>"
   ]
  },
  {
   "cell_type": "markdown",
   "id": "d8277528",
   "metadata": {},
   "source": [
    "### Create the table_2 table"
   ]
  },
  {
   "cell_type": "code",
   "execution_count": null,
   "id": "34cffec3",
   "metadata": {},
   "outputs": [],
   "source": [
    "create_table_2_table =f\"\"\"\n",
    "SELECT * FROM\n",
    "fcsq.adopt_application_5\n",
    "ORDER BY \n",
    "CASE_NUMBER, APP_DATE\n",
    "\"\"\"\n",
    "pydb.create_temp_table(create_table_2_table)"
   ]
  },
  {
   "cell_type": "markdown",
   "id": "ad28f47b",
   "metadata": {},
   "source": [
    "#### table_2 validation"
   ]
  },
  {
   "cell_type": "code",
   "execution_count": null,
   "id": "83647020",
   "metadata": {},
   "outputs": [],
   "source": [
    "table_2_count = pydb.read_sql_query(\"SELECT count(*) as count from __temp__.table_2\")\n",
    "table_2_count"
   ]
  }
 ],
 "metadata": {
  "kernelspec": {
   "display_name": "venvname",
   "language": "python",
   "name": "venvname"
  },
  "language_info": {
   "codemirror_mode": {
    "name": "ipython",
    "version": 3
   },
   "file_extension": ".py",
   "mimetype": "text/x-python",
   "name": "python",
   "nbconvert_exporter": "python",
   "pygments_lexer": "ipython3",
   "version": "3.9.6"
  }
 },
 "nbformat": 4,
 "nbformat_minor": 5
}
