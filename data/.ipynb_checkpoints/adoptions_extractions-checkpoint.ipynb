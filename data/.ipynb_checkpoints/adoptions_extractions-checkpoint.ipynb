{
 "cells": [
  {
   "cell_type": "markdown",
   "metadata": {},
   "source": [
    "# Adoption extraction tables"
   ]
  },
  {
   "cell_type": "markdown",
   "metadata": {},
   "source": [
    "# Contents\n",
    "1. [Import packages and options](#import_packages)\n",
    "2. [Define key variables](#define_key_variables)\n",
    "3. [Adoption_parties](#adoption_parties)\n",
    "4. [Adoptions_applications](#adoptions_applications)\n",
    "5. [Adoptions_cases](#adoptions_cases)\n",
    "6. [Adoptions_disposals](#adoptions_disposals)\n",
    "7. [Adoptions_disposal_fields](#adoptions_disposal_fields)"
   ]
  },
  {
   "cell_type": "markdown",
   "metadata": {},
   "source": [
    "## Import packages and set options \n",
    "<a name=\"import_packages\"></a>"
   ]
  },
  {
   "cell_type": "code",
   "execution_count": null,
   "metadata": {},
   "outputs": [],
   "source": [
    "import pandas as pd  # for the data structures to store and manipulate tables\n",
    "import pydbtools as pydb  # see https://github.com/moj-analytical-services/pydbtools\n",
    "import boto3  # for working with AWS\n",
    "\n",
    "# few things for viewing dataframes better\n",
    "pd.set_option(\"display.max_columns\", 100)\n",
    "pd.set_option(\"display.width\", 900)\n",
    "pd.set_option(\"display.max_colwidth\", 200)"
   ]
  },
  {
   "cell_type": "markdown",
   "metadata": {},
   "source": [
    "## Define some variables to be used throughout the notebook \n",
    "<a name=\"define_key_variables\"></a>"
   ]
  },
  {
   "cell_type": "code",
   "execution_count": null,
   "metadata": {},
   "outputs": [],
   "source": [
    "database = \"familyman_dev_v2\"\n",
    "snapshot_date = \"2021-08-19\"\n",
    "database_derived = \"familyman_derived_dev_v1\"\n",
    "\n",
    "fcsq_database = \"fcsq\"\n",
    "\n",
    "s3 = boto3.resource(\"s3\")\n",
    "bucket = s3.Bucket(\"alpha-family-data\")"
   ]
  },
  {
   "cell_type": "markdown",
   "metadata": {},
   "source": [
    "## Adoption_parties table\n",
    "<a name=\"adoption_parties\"></a>"
   ]
  },
  {
   "cell_type": "markdown",
   "metadata": {},
   "source": [
    "### Drop the adoptions_parties table if it already exists and remove its data from the S3 bucket"
   ]
  },
  {
   "cell_type": "code",
   "execution_count": null,
   "metadata": {},
   "outputs": [],
   "source": [
    "drop_adoptions_parties = f\"\"\"\n",
    "DROP TABLE IF EXISTS fcsq.ADOPTIONS_PARTIES;\n",
    "\"\"\"\n",
    "pydb.read_sql_query(drop_adoptions_parties)\n",
    "\n",
    "# clean up previous adoptions_parties files\n",
    "bucket.objects.filter(Prefix=\"fcsq_processing/Adoption/Adoptions_Parties/\").delete()"
   ]
  },
  {
   "cell_type": "markdown",
   "metadata": {},
   "source": [
    "### Create the adoptions_parties table in Athena"
   ]
  },
  {
   "cell_type": "code",
   "execution_count": null,
   "metadata": {},
   "outputs": [],
   "source": [
    "create_adoptions_parties = f\"\"\"\n",
    "CREATE TABLE IF NOT EXISTS fcsq.ADOPTIONS_PARTIES\n",
    "WITH (format = 'PARQUET', external_location = 's3://alpha-family-data/fcsq_processing/Adoption/Adoptions_Parties') AS\n",
    "SELECT R.CASE_NUMBER,\n",
    "  R.ROLE,\n",
    "  R.ROLE_MODEL,\n",
    "  R.REPRESENTATIVE_ROLE AS Representative,\n",
    "  F.FIELD_MODEL,\n",
    "  F.VALUE AS Rel_to_child,\n",
    "  R.PARTY,\n",
    "  P.DOB,\n",
    "  P.GENDER,\n",
    "  P.MOJAP_SNAPSHOT_DATE\n",
    "FROM {database}.parties P\n",
    "INNER JOIN {database}.roles R\n",
    "ON P.PARTY = R.PARTY\n",
    "INNER JOIN {database}.role_fields F\n",
    "ON R.ROLE               = F.ROLE\n",
    "WHERE ((R.ROLE_MODEL     = 'APLZ'\n",
    "AND F.FIELD_MODEL = 'APLZ_RTC')\n",
    "OR (R.ROLE_MODEL        = 'CHLDZ'\n",
    "AND F.FIELD_MODEL = 'CHLDZ_CP'))\n",
    "AND R.mojap_snapshot_date = date '{snapshot_date}'\n",
    "AND F.mojap_snapshot_date = date '{snapshot_date}'\n",
    "AND P.mojap_snapshot_date = date '{snapshot_date}'\n",
    "\"\"\"\n",
    "\n",
    "pydb.read_sql_query(create_adoptions_parties)\n",
    "\n"
   ]
  },
  {
   "cell_type": "markdown",
   "metadata": {},
   "source": [
    "#### Adoption_parties validation"
   ]
  },
  {
   "cell_type": "code",
   "execution_count": null,
   "metadata": {},
   "outputs": [],
   "source": [
    "# Query the table just created. The database to query is called __temp__, this is\n",
    "# an alias for a sandbox database that is created for each user. For more details, see\n",
    "# the pydbtools docs\n",
    "\n",
    "parties_count = pydb.read_sql_query(\"select count(*) as count from fcsq.adoptions_parties\")\n",
    "parties_count"
   ]
  },
  {
   "cell_type": "markdown",
   "metadata": {},
   "source": [
    "## Adoptions_applications table\n",
    "<a name=\"adoptions_applications\"></a>"
   ]
  },
  {
   "cell_type": "markdown",
   "metadata": {},
   "source": [
    "### Drop the adoptions_applications table if it already exists and remove its data from the S3 bucket"
   ]
  },
  {
   "cell_type": "code",
   "execution_count": null,
   "metadata": {
    "jupyter": {
     "outputs_hidden": true
    }
   },
   "outputs": [],
   "source": [
    "drop_adoptions_applications = \"DROP TABLE IF EXISTS fcsq.ADOPTIONS_APPLICATIONS;\"\n",
    "pydb.read_sql_query(drop_adoptions_applications)\n",
    "\n",
    "bucket.objects.filter(\n",
    "    Prefix=\"fcsq_processing/Adoption/Adoptions_applications/\"\n",
    ").delete()"
   ]
  },
  {
   "cell_type": "markdown",
   "metadata": {},
   "source": [
    "### Create the adoptions_applications table in Athena"
   ]
  },
  {
   "cell_type": "code",
   "execution_count": null,
   "metadata": {},
   "outputs": [],
   "source": [
    "create_adoptions_applications_u21 = f\"\"\"\n",
    "SELECT E.CASE_NUMBER,\n",
    "  E.EVENT,\n",
    "  E.RECEIPT_DATE,\n",
    "  E.ENTRY_DATE,\n",
    "  CASE E.RECEIPT_DATE\n",
    "      WHEN NULL THEN E.ENTRY_DATE\n",
    "      ELSE E.RECEIPT_DATE\n",
    "  END AS Receipt_date2,\n",
    "  E.EVENT_MODEL,\n",
    "  F.VALUE  AS App_Type,\n",
    "  date_parse(F1.VALUE, '%Y-%m-%d') AS Date_of_issue,\n",
    "  F2.VALUE AS High_court\n",
    "FROM {database}.events E\n",
    "INNER JOIN {database}.event_fields F2\n",
    "ON E.EVENT = F2.EVENT\n",
    "INNER JOIN {database}.event_fields F1\n",
    "ON E.EVENT = F1.EVENT\n",
    "INNER JOIN {database}.event_fields F\n",
    "ON E.EVENT               = F.EVENT\n",
    "WHERE (E.EVENT_MODEL      = 'U21'\n",
    "AND F.FIELD_MODEL  = 'U21_1'\n",
    "AND F1.FIELD_MODEL = 'U21_2'\n",
    "AND F2.FIELD_MODEL = 'U21_HC')\n",
    "AND E.mojap_snapshot_date = date '{snapshot_date}'\n",
    "AND F.mojap_snapshot_date = date '{snapshot_date}'\n",
    "AND F1.mojap_snapshot_date = date '{snapshot_date}'\n",
    "AND F2.mojap_snapshot_date = date '{snapshot_date}';\n",
    "\"\"\"\n",
    "\n",
    "\"\"\"\n",
    "Changes made to original code (not including variable name changes):\n",
    "\n",
    "Changed decode statement to case statement as decode is not supported\n",
    "Changed TO_DATE to date_parse as TO_DATE not supported\n",
    "(date_parse currently gives time as well, I will look to change this)\n",
    "\n",
    "\n",
    "\"\"\"\n",
    "\n",
    "pydb.create_temp_table(create_adoptions_applications_u21, \"adoptions_applications_u21\")\n",
    "print(\"u21 applications done\")\n",
    "\n",
    "create_adoptions_applications_G50 = f\"\"\"\n",
    "SELECT\n",
    "  E.CASE_NUMBER,\n",
    "  E.EVENT,\n",
    "  E.RECEIPT_DATE,\n",
    "  E.ENTRY_DATE,\n",
    "  CASE E.RECEIPT_DATE\n",
    "      WHEN NULL THEN E.ENTRY_DATE\n",
    "      ELSE E.RECEIPT_DATE\n",
    "  END AS Receipt_date2,\n",
    "  E.EVENT_MODEL,\n",
    "  CASE WHEN F.VALUE like '%RUK%' and F.VALUE like '%CCS%' THEN 'RUK,CCS'\n",
    "       WHEN F.VALUE like '%RUK%' THEN 'RUK'\n",
    "       WHEN F.VALUE like '%CCS%' THEN 'CCS'\n",
    "        END AS App_Type, /*Have done it like this so that we do not include non adoption app types*/\n",
    "  CASE E.RECEIPT_DATE\n",
    "      WHEN NULL THEN E.ENTRY_DATE\n",
    "      ELSE E.RECEIPT_DATE\n",
    "  END AS Date_of_issue,\n",
    "  'N' AS High_court\n",
    "FROM\n",
    "  {database}.events E\n",
    "  INNER JOIN {database}.event_fields F\n",
    "    ON E.EVENT = F.EVENT\n",
    "WHERE\n",
    "  F.FIELD_MODEL = 'G50_AT'\n",
    "  AND (F.VALUE like '%RUK%'\n",
    "   OR F.VALUE like '%CCS%')\n",
    "   AND E.mojap_snapshot_date = date '{snapshot_date}'\n",
    "   AND F.mojap_snapshot_date = date '{snapshot_date}';\n",
    "\"\"\"\n",
    "\n",
    "pydb.create_temp_table(create_adoptions_applications_G50, \"adoptions_applications_G50\")\n",
    "\n",
    "\n",
    "print(\"G50 cases done\")\n",
    "\n",
    "create_adoptions_applications = f\"\"\"\n",
    "CREATE TABLE IF NOT EXISTS fcsq.ADOPTIONS_APPLICATIONS\n",
    "WITH (format = 'PARQUET', external_location = 's3://alpha-family-data/fcsq_processing/Adoption/Adoptions_applications') AS\n",
    "SELECT\n",
    "  *\n",
    "FROM\n",
    "  __temp__.ADOPTIONS_APPLICATIONS_U21\n",
    "WHERE case_number <> 'CV11Z00105'\n",
    "UNION ALL\n",
    "SELECT\n",
    "  *\n",
    "FROM\n",
    "  __temp__.ADOPTIONS_APPLICATIONS_G50\n",
    "WHERE case_number <> 'CV11Z00105';\n",
    "\"\"\"\n",
    "\n",
    "pydb.read_sql_query(create_adoptions_applications)\n",
    "\n",
    "print(\"adoptions_applications table created\")\n"
   ]
  },
  {
   "cell_type": "markdown",
   "metadata": {},
   "source": [
    "#### Adoptions_applications validation"
   ]
  },
  {
   "cell_type": "code",
   "execution_count": null,
   "metadata": {},
   "outputs": [],
   "source": [
    "applications_count = pydb.read_sql_query(\"select count(*) as count from fcsq.adoptions_applications\")\n",
    "applications_count"
   ]
  },
  {
   "cell_type": "markdown",
   "metadata": {},
   "source": [
    "## Adoptions_cases table\n",
    "<a name=\"adoptions_cases\"></a>"
   ]
  },
  {
   "cell_type": "markdown",
   "metadata": {},
   "source": [
    "### Drop the adoptions_cases table if it already exists and remove its data from the S3 bucket"
   ]
  },
  {
   "cell_type": "code",
   "execution_count": null,
   "metadata": {},
   "outputs": [],
   "source": [
    "drop_adoptions_cases = \"DROP TABLE IF EXISTS fcsq.ADOPTIONS_CASES;\"\n",
    "pydb.read_sql_query(drop_adoptions_cases)\n",
    "\n",
    "bucket.objects.filter(Prefix=\"fcsq_processing/Adoption/Adoptions_cases/\").delete()"
   ]
  },
  {
   "cell_type": "markdown",
   "metadata": {},
   "source": [
    "### Create the adoptions_cases table in Athena"
   ]
  },
  {
   "cell_type": "code",
   "execution_count": null,
   "metadata": {},
   "outputs": [],
   "source": [
    "create_adoptions_cases = f\"\"\"\n",
    "CREATE TABLE IF NOT EXISTS fcsq.ADOPTIONS_CASES\n",
    "WITH (format = 'PARQUET', external_location = 's3://alpha-family-data/fcsq_processing/Adoption/Adoptions_cases') AS\n",
    "SELECT F.CASE_NUMBER,\n",
    "  F.VALUE AS Contested,\n",
    "  F1.VALUE AS Case_issue_date,\n",
    "  F2.VALUE AS Case_app_type,\n",
    "  CASE F.CASE_NUMBER\n",
    "      WHEN 'BM08Z09028' THEN '2008-09-19'\n",
    "      ELSE F1.VALUE\n",
    "  END AS Case_issue_date2\n",
    "FROM {database}.case_fields F\n",
    "INNER JOIN {database}.case_fields F2\n",
    "ON F.CASE_NUMBER = F2.CASE_NUMBER\n",
    "INNER JOIN {database}.case_fields F1\n",
    "ON F.CASE_NUMBER    = F1.CASE_NUMBER\n",
    "WHERE F.FIELD_MODEL = 'FM3A_AC'\n",
    "AND F1.FIELD_MODEL  = 'FM3A_DOI'\n",
    "AND F2.FIELD_MODEL  = 'FM3A_AT'\n",
    "AND F.case_number <> 'CV11Z00105'\n",
    "AND F.mojap_snapshot_date = date '{snapshot_date}'\n",
    "AND F1.mojap_snapshot_date = date '{snapshot_date}'\n",
    "AND F2.mojap_snapshot_date = date '{snapshot_date}';\n",
    "\n",
    "\"\"\"\n",
    "pydb.read_sql_query(create_adoptions_cases)"
   ]
  },
  {
   "cell_type": "markdown",
   "metadata": {},
   "source": [
    "#### Adoptions_cases validation"
   ]
  },
  {
   "cell_type": "code",
   "execution_count": null,
   "metadata": {},
   "outputs": [],
   "source": [
    "cases_count = pydb.read_sql_query(\"select count(*) as count from fcsq.adoptions_cases\")\n",
    "cases_count"
   ]
  },
  {
   "cell_type": "markdown",
   "metadata": {},
   "source": [
    "## Adoptions_disposals table\n",
    "<a name=\"adoptions_disposals\"></a>"
   ]
  },
  {
   "cell_type": "markdown",
   "metadata": {},
   "source": [
    "### Drop the adoptions_disposals table if it already exists and remove its data from the S3 bucket"
   ]
  },
  {
   "cell_type": "code",
   "execution_count": null,
   "metadata": {},
   "outputs": [],
   "source": [
    "drop_adoptions_disposals = \"DROP TABLE IF EXISTS fcsq.ADOPTIONS_DISPOSALS;\"\n",
    "pydb.read_sql_query(drop_adoptions_disposals)\n",
    "\n",
    "bucket.objects.filter(Prefix=\"fcsq_processing/Adoption/Adoptions_disposals/\").delete()"
   ]
  },
  {
   "cell_type": "markdown",
   "metadata": {},
   "source": [
    "### Create the adoptions_disposals table in Athena"
   ]
  },
  {
   "cell_type": "code",
   "execution_count": null,
   "metadata": {},
   "outputs": [],
   "source": [
    "create_adoptions_disposals = f\"\"\"\n",
    "CREATE TABLE IF NOT EXISTS fcsq.ADOPTIONS_DISPOSALS\n",
    "WITH (format = 'PARQUET', external_location = 's3://alpha-family-data/fcsq_processing/Adoption/Adoptions_disposals') AS\n",
    "SELECT E.CASE_NUMBER,\n",
    "  E.EVENT,\n",
    "  E.RECEIPT_DATE,\n",
    "  E.ENTRY_DATE,\n",
    "  CASE E.RECEIPT_DATE\n",
    "      WHEN NULL THEN E.ENTRY_DATE\n",
    "      ELSE E.RECEIPT_DATE  \n",
    "  END AS Receipt_date2,\n",
    "  E.EVENT_MODEL\n",
    "FROM {database}.events E\n",
    "WHERE ((E.EVENT_MODEL IN ('A70', 'A71', 'A72', 'A73', 'A74', 'A75', 'A76', 'A77', 'A78', 'A79', 'A80', 'A81', 'A12', 'A13', 'A15')\n",
    "AND E.ERROR          = 'N')\n",
    "OR (E.EVENT_MODEL    IN ('G63', 'ORDREF', 'ORDNOM')\n",
    "AND E.ERROR          = 'N')\n",
    "OR (E.EVENT_MODEL    IN ('A12', 'A13', 'A15')\n",
    "AND E.ERROR          = 'N'))\n",
    "AND E.case_number <> 'CV11Z00105'\n",
    "AND E.mojap_snapshot_date = date '{snapshot_date}'; \n",
    "\"\"\"\n",
    "pydb.read_sql_query(create_adoptions_disposals)"
   ]
  },
  {
   "cell_type": "markdown",
   "metadata": {},
   "source": [
    "#### Adoptions_disposals validation"
   ]
  },
  {
   "cell_type": "code",
   "execution_count": null,
   "metadata": {},
   "outputs": [],
   "source": [
    "disposals_count = pydb.read_sql_query(\"select count(*) as count from fcsq.adoptions_disposals\")\n",
    "disposals_count"
   ]
  },
  {
   "cell_type": "markdown",
   "metadata": {},
   "source": [
    "## Adoptions_disposal_fields table\n",
    "<a name=\"adoptions_disposal_fields\"></a>"
   ]
  },
  {
   "cell_type": "markdown",
   "metadata": {},
   "source": [
    "### Drop the adoptions_disposal_fields table if it already exists and remove its data from the S3 bucket"
   ]
  },
  {
   "cell_type": "code",
   "execution_count": null,
   "metadata": {},
   "outputs": [],
   "source": [
    "drop_adoptions_disposal_fields = \"DROP TABLE IF EXISTS fcsq.ADOPTIONS_DISPOSAL_FIELDS;\"\n",
    "pydb.read_sql_query(drop_adoptions_disposal_fields)\n",
    "\n",
    "bucket.objects.filter(\n",
    "    Prefix=\"fcsq_processing/Adoption/Adoptions_disposal_fields/\"\n",
    ").delete()"
   ]
  },
  {
   "cell_type": "markdown",
   "metadata": {},
   "source": [
    "### Create the adoptions_disposal_fields table in Athena"
   ]
  },
  {
   "cell_type": "code",
   "execution_count": null,
   "metadata": {},
   "outputs": [],
   "source": [
    "create_adoptions_disposal_fields = f\"\"\"\n",
    "CREATE TABLE IF NOT EXISTS fcsq.ADOPTIONS_DISPOSAL_FIELDS\n",
    "WITH (format = 'PARQUET', external_location = 's3://alpha-family-data/fcsq_processing/Adoption/Adoptions_disposal_fields') AS\n",
    "SELECT EVENT,\n",
    "FIELD_MODEL,\n",
    "VALUE\n",
    "FROM {database}.event_fields E\n",
    "WHERE (FIELD_MODEL LIKE 'A1%'\n",
    "  OR FIELD_MODEL LIKE 'A7%'\n",
    "  OR FIELD_MODEL IN ('G63_1', 'ORDNOM_5', 'ORDREF_5', 'A80_4', 'A81_5'))\n",
    "  AND E.mojap_snapshot_date = date '{snapshot_date}';\n",
    "\"\"\"\n",
    "pydb.read_sql_query(create_adoptions_disposal_fields)"
   ]
  },
  {
   "cell_type": "markdown",
   "metadata": {},
   "source": [
    "#### Adoptions_disposal_fields validation"
   ]
  },
  {
   "cell_type": "code",
   "execution_count": null,
   "metadata": {},
   "outputs": [],
   "source": [
    "disposal_fields_count = pydb.read_sql_query(\"select count(*) as count from fcsq.adoptions_disposal_fields\")\n",
    "disposal_fields_count"
   ]
  },
  {
   "cell_type": "markdown",
   "metadata": {},
   "source": [
    "# Stage 1 - Create The Main Parties Data"
   ]
  },
  {
   "cell_type": "markdown",
   "metadata": {},
   "source": [
    "## Adopt_app_count table"
   ]
  },
  {
   "cell_type": "markdown",
   "metadata": {},
   "source": [
    "### Drop the adopt_app_count table if it already exists and remove its data from the S3 bucket"
   ]
  },
  {
   "cell_type": "code",
   "execution_count": null,
   "metadata": {
    "jupyter": {
     "outputs_hidden": true
    }
   },
   "outputs": [],
   "source": [
    "drop_adopt_app_count = f\"\"\"\n",
    "DROP TABLE IF EXISTS fcsq.ADOPT_APP_COUNT;\n",
    "\"\"\"\n",
    "pydb.read_sql_query(drop_adopt_app_count)\n",
    "\n",
    "# clean up previous adopt_app_count files\n",
    "bucket.objects.filter(Prefix=\"fcsq_processing/Adoption/adopt_app_count/\").delete()"
   ]
  },
  {
   "cell_type": "markdown",
   "metadata": {},
   "source": [
    "### Create the adopt_app_count table in Athena"
   ]
  },
  {
   "cell_type": "code",
   "execution_count": null,
   "metadata": {},
   "outputs": [],
   "source": [
    "create_adopt_app_count = f\"\"\"\n",
    "CREATE TABLE IF NOT EXISTS fcsq.ADOPT_APP_COUNT\n",
    "WITH (format = 'PARQUET', external_location = 's3://alpha-family-data/fcsq_processing/Adoption/adopt_app_count') AS\n",
    "SELECT case_number, role_model, COUNT(role) AS countofrole\n",
    "FROM fcsq.adoptions_parties\n",
    "GROUP BY case_number, role_model\n",
    "HAVING role_model = 'APLZ';\n",
    "\"\"\"\n",
    "\n",
    "pydb.read_sql_query(create_adopt_app_count)\n",
    "\n"
   ]
  },
  {
   "cell_type": "code",
   "execution_count": null,
   "metadata": {},
   "outputs": [],
   "source": [
    "adopt_app_count_validation = pydb.read_sql_query(\"select count(*) as count from fcsq.adopt_app_count\")\n",
    "adopt_app_count_validation"
   ]
  },
  {
   "cell_type": "markdown",
   "metadata": {},
   "source": [
    "## Adopt_appl_sex table"
   ]
  },
  {
   "cell_type": "markdown",
   "metadata": {},
   "source": [
    "### Drop the adopt_appl_sex table if it already exists and remove its data from the S3 bucket"
   ]
  },
  {
   "cell_type": "code",
   "execution_count": null,
   "metadata": {},
   "outputs": [],
   "source": [
    "drop_adopt_appl_sex = f\"\"\"\n",
    "DROP TABLE IF EXISTS fcsq.ADOPT_APPL_SEX;\n",
    "\"\"\"\n",
    "pydb.read_sql_query(drop_adopt_appl_sex)\n",
    "\n",
    "# clean up previous adopt_appl_sex files\n",
    "bucket.objects.filter(Prefix=\"fcsq_processing/Adoption/adopt_appl_sex/\").delete()"
   ]
  },
  {
   "cell_type": "markdown",
   "metadata": {},
   "source": [
    "### Create the adopt_appl_sex table in Athena"
   ]
  },
  {
   "cell_type": "code",
   "execution_count": null,
   "metadata": {},
   "outputs": [],
   "source": [
    "create_adopt_appl_sex = f\"\"\"\n",
    "CREATE TABLE IF NOT EXISTS fcsq.ADOPT_APPL_SEX\n",
    "WITH (format = 'PARQUET', external_location = 's3://alpha-family-data/fcsq_processing/Adoption/adopt_appl_sex') AS\n",
    "SELECT app_count.case_number, app_count.role_model, \n",
    "app_count.countofrole, \n",
    "MIN(parties.gender) min_sex,\n",
    "MAX(parties_1.gender) max_sex\n",
    "FROM fcsq.adopt_app_count app_count INNER JOIN fcsq.adoptions_parties parties ON app_count.case_number = parties.case_number\n",
    "INNER JOIN fcsq.adoptions_parties parties_1 ON app_count.case_number = parties_1.case_number\n",
    "GROUP BY app_count.case_number, app_count.role_model, app_count.countofrole, parties.role_model, parties_1.role_model\n",
    "HAVING parties.role_model='APLZ' AND parties_1.role_model='APLZ';\n",
    "\"\"\"\n",
    "\n",
    "pydb.read_sql_query(create_adopt_appl_sex)\n",
    "\n"
   ]
  },
  {
   "cell_type": "markdown",
   "metadata": {},
   "source": [
    "## adopt_appl_rtc table"
   ]
  },
  {
   "cell_type": "markdown",
   "metadata": {},
   "source": [
    "### Drop the adopt_appl_rtc table if it already exists and remove its data from the S3 bucket"
   ]
  },
  {
   "cell_type": "code",
   "execution_count": null,
   "metadata": {},
   "outputs": [],
   "source": [
    "drop_adopt_appl_rtc = f\"\"\"\n",
    "DROP TABLE IF EXISTS fcsq.adopt_appl_rtc;\n",
    "\"\"\"\n",
    "pydb.read_sql_query(drop_adopt_appl_rtc)\n",
    "\n",
    "# clean up previous adopt_appl_rtc files\n",
    "bucket.objects.filter(Prefix=\"fcsq_processing/Adoption/adopt_appl_rtc/\").delete()"
   ]
  },
  {
   "cell_type": "markdown",
   "metadata": {},
   "source": [
    "### Create the adopt_appl_rtc table in Athena"
   ]
  },
  {
   "cell_type": "code",
   "execution_count": null,
   "metadata": {},
   "outputs": [],
   "source": [
    "create_adopt_appl_rtc = f\"\"\"\n",
    "CREATE TABLE IF NOT EXISTS fcsq.ADOPT_APPL_RTC\n",
    "WITH (format = 'PARQUET', external_location = 's3://alpha-family-data/fcsq_processing/Adoption/adopt_appl_rtc') AS\n",
    "SELECT appl_sex.case_number, \n",
    "        appl_sex.role_model, \n",
    "        appl_sex.countofrole, \n",
    "        appl_sex.min_sex, \n",
    "        appl_sex.max_sex, \n",
    "        MIN(parties.rel_to_child) min_rtc, \n",
    "        MAX(parties_1.rel_to_child) max_rtc\n",
    "FROM fcsq.adopt_appl_sex appl_sex\n",
    "INNER JOIN fcsq.adoptions_parties parties \n",
    "        ON appl_sex.case_number = parties.case_number \n",
    "INNER JOIN fcsq.adoptions_parties parties_1 \n",
    "        ON appl_sex.case_number = parties_1.case_number\n",
    "GROUP BY appl_sex.case_number, \n",
    "          appl_sex.role_model, \n",
    "          appl_sex.countofrole, \n",
    "          appl_sex.min_sex, \n",
    "          appl_sex.max_sex, \n",
    "          parties.role_model, \n",
    "          parties_1.role_model\n",
    "HAVING parties.role_model='APLZ' AND parties_1.role_model='APLZ';\n",
    "\"\"\"\n",
    "\n",
    "pydb.read_sql_query(create_adopt_appl_rtc)\n",
    "\n"
   ]
  },
  {
   "cell_type": "markdown",
   "metadata": {},
   "source": [
    "## adopt_applicant_type_a table"
   ]
  },
  {
   "cell_type": "markdown",
   "metadata": {},
   "source": [
    "### Drop the adopt_applicant_type_a table if it already exists and remove its data from the S3 bucket"
   ]
  },
  {
   "cell_type": "code",
   "execution_count": null,
   "metadata": {},
   "outputs": [],
   "source": [
    "drop_adopt_applicant_type_a = f\"\"\"\n",
    "DROP TABLE IF EXISTS fcsq.adopt_applicant_type_a;\n",
    "\"\"\"\n",
    "pydb.read_sql_query(drop_adopt_applicant_type_a)\n",
    "\n",
    "# clean up previous adopt_applicant_type_a files\n",
    "bucket.objects.filter(Prefix=\"fcsq_processing/Adoption/adopt_applicant_type_a/\").delete()"
   ]
  },
  {
   "cell_type": "markdown",
   "metadata": {},
   "source": [
    "### Create the adopt_applicant_type_a table in Athena"
   ]
  },
  {
   "cell_type": "code",
   "execution_count": null,
   "metadata": {},
   "outputs": [],
   "source": [
    "create_adopt_applicant_type_a = f\"\"\"\n",
    "CREATE TABLE IF NOT EXISTS fcsq.ADOPT_APPLICANT_TYPE_A\n",
    "WITH (format = 'PARQUET', external_location = 's3://alpha-family-data/fcsq_processing/Adoption/adopt_applicant_type_a') AS\n",
    "SELECT case_number, \n",
    "        role_model, \n",
    "        countofrole number_applicants, \n",
    "        min_sex, \n",
    "        max_sex, \n",
    "        min_rtc, \n",
    "        max_rtc,\n",
    "CASE  WHEN countofrole=1 THEN 'single' \n",
    "      WHEN min_sex=1 AND max_sex =1 THEN 'same-sex couple' \n",
    "      WHEN min_sex=2 AND max_sex=2  THEN 'same-sex couple' \n",
    "      WHEN min_sex=1 AND max_sex =2 THEN 'mixed-sex couple'\n",
    "                ELSE 'Other or not stated'       \n",
    "END adopter_type\n",
    "FROM fcsq.adopt_appl_rtc;\n",
    "\"\"\"\n",
    "\n",
    "pydb.read_sql_query(create_adopt_applicant_type_a)\n",
    "\n"
   ]
  },
  {
   "cell_type": "markdown",
   "metadata": {},
   "source": [
    "## adopt_applicant_type_b table"
   ]
  },
  {
   "cell_type": "markdown",
   "metadata": {},
   "source": [
    "### Drop the adopt_applicant_type_b table if it already exists and remove its data from the S3 bucket"
   ]
  },
  {
   "cell_type": "code",
   "execution_count": null,
   "metadata": {},
   "outputs": [],
   "source": [
    "drop_adopt_applicant_type_b = f\"\"\"\n",
    "DROP TABLE IF EXISTS fcsq.adopt_applicant_type_b;\n",
    "\"\"\"\n",
    "pydb.read_sql_query(drop_adopt_applicant_type_b)\n",
    "\n",
    "# clean up previous adopt_applicant_type_b files\n",
    "bucket.objects.filter(Prefix=\"fcsq_processing/Adoption/adopt_applicant_type_b/\").delete()"
   ]
  },
  {
   "cell_type": "markdown",
   "metadata": {},
   "source": [
    "### Create the adopt_applicant_type_b table in Athena"
   ]
  },
  {
   "cell_type": "code",
   "execution_count": null,
   "metadata": {},
   "outputs": [],
   "source": [
    "create_adopt_applicant_type_b = f\"\"\"\n",
    "CREATE TABLE IF NOT EXISTS fcsq.adopt_applicant_type_b\n",
    "WITH (format = 'PARQUET', external_location = 's3://alpha-family-data/fcsq_processing/Adoption/adopt_applicant_type_b') AS\n",
    "SELECT case_number, \n",
    "        role_model, \n",
    "        number_applicants, \n",
    "        min_sex, \n",
    "        max_sex, \n",
    "        min_rtc,\n",
    "        max_rtc,\n",
    "        adopter_type,\n",
    "CASE WHEN (min_rtc Like 'Step%' OR max_rtc Like 'Step%') THEN 'Step parent'\n",
    "      WHEN (min_rtc Like 'Natural%' OR max_rtc like 'Natural%') THEN 'Other or not stated'  \n",
    "      WHEN number_applicants > 2 THEN 'Other or not stated'\n",
    "      WHEN (min_rtc = 'Other' OR max_rtc = 'Other') THEN 'Other or not stated'\n",
    "      WHEN (min_rtc IN ('Child','Adoption Agency','Central Authority','Home Office','Local Authority','Voluntary Organisation') AND max_rtc IN ('Child','Adoption Agency','Central Authority','Home Office','Local Authority','Voluntary Organisation')) THEN 'Other or not stated'\n",
    "      WHEN (min_rtc IN ('Child','Adoption Agency','Central Authority','Home Office','Local Authority','Voluntary Organisation') OR max_rtc IN ('Child','Adoption Agency','Central Authority','Home Office','Local Authority','Voluntary Organisation')) THEN 'Sole applicant'\n",
    "      WHEN number_applicants >1 THEN adopter_type \n",
    "      ELSE 'Sole applicant' \n",
    "      END adopter \n",
    "FROM fcsq.adopt_applicant_type_a;\n",
    "\"\"\"\n",
    "\n",
    "pydb.read_sql_query(create_adopt_applicant_type_b)\n",
    "\n"
   ]
  },
  {
   "cell_type": "markdown",
   "metadata": {},
   "source": [
    "## adopt_applicant_type table"
   ]
  },
  {
   "cell_type": "markdown",
   "metadata": {},
   "source": [
    "### Drop the adopt_applicant_type table if it already exists and remove its data from the S3 bucket"
   ]
  },
  {
   "cell_type": "code",
   "execution_count": null,
   "metadata": {},
   "outputs": [],
   "source": [
    "drop_adopt_applicant_type = f\"\"\"\n",
    "DROP TABLE IF EXISTS fcsq.adopt_applicant_type;\n",
    "\"\"\"\n",
    "pydb.read_sql_query(drop_adopt_applicant_type)\n",
    "\n",
    "# clean up previous adopt_applicant_type files\n",
    "bucket.objects.filter(Prefix=\"fcsq_processing/Adoption/adopt_applicant_type/\").delete()"
   ]
  },
  {
   "cell_type": "markdown",
   "metadata": {},
   "source": [
    "### Create the adopt_applicant_type table in Athena"
   ]
  },
  {
   "cell_type": "code",
   "execution_count": null,
   "metadata": {},
   "outputs": [],
   "source": [
    "create_adopt_applicant_type = f\"\"\"\n",
    "CREATE TABLE IF NOT EXISTS fcsq.adopt_applicant_type\n",
    "WITH (format = 'PARQUET', external_location = 's3://alpha-family-data/fcsq_processing/Adoption/adopt_applicant_type') AS\n",
    "SELECT\n",
    "case_number, \n",
    "  role_model, \n",
    "  number_applicants, \n",
    "  min_sex, \n",
    "  max_sex, \n",
    "  min_rtc, \n",
    "  max_rtc, \n",
    "  adopter_type,\n",
    "CASE WHEN (min_rtc = 'Foster Carer' AND max_rtc = 'Sibling') THEN 'Other or not stated'\n",
    "        WHEN (adopter_type = 'mixed-sex couple' AND min_rtc = 'Uncle' AND max_rtc = 'Uncle') THEN 'Other or not stated'\n",
    "        ELSE adopter\n",
    "        END adopter\n",
    "FROM fcsq.adopt_applicant_type_b;\n",
    "\"\"\"\n",
    "\n",
    "pydb.read_sql_query(create_adopt_applicant_type)\n",
    "\n"
   ]
  },
  {
   "cell_type": "markdown",
   "metadata": {},
   "source": [
    "## adopt_child_parties table"
   ]
  },
  {
   "cell_type": "markdown",
   "metadata": {},
   "source": [
    "### Drop the adopt_child_parties table if it already exists and remove its data from the S3 bucket"
   ]
  },
  {
   "cell_type": "code",
   "execution_count": null,
   "metadata": {},
   "outputs": [],
   "source": [
    "drop_adopt_child_parties = f\"\"\"\n",
    "DROP TABLE IF EXISTS fcsq.adopt_child_parties;\n",
    "\"\"\"\n",
    "pydb.read_sql_query(drop_adopt_child_parties)\n",
    "\n",
    "# clean up previous adopt_child_parties files\n",
    "bucket.objects.filter(Prefix=\"fcsq_processing/Adoption/adopt_child_parties/\").delete()"
   ]
  },
  {
   "cell_type": "markdown",
   "metadata": {},
   "source": [
    "### Create the adopt_child_parties table in Athena"
   ]
  },
  {
   "cell_type": "code",
   "execution_count": null,
   "metadata": {},
   "outputs": [],
   "source": [
    "create_adopt_child_parties = f\"\"\"\n",
    "CREATE TABLE IF NOT EXISTS fcsq.adopt_child_parties\n",
    "WITH (format = 'PARQUET', external_location = 's3://alpha-family-data/fcsq_processing/Adoption/adopt_child_parties') AS\n",
    "SELECT case_number, \n",
    "        role child_role, \n",
    "        party child_party, \n",
    "        dob, \n",
    "        gender child_sex\n",
    "FROM fcsq.adoptions_parties\n",
    "WHERE role_model='CHLDZ';\n",
    "\"\"\"\n",
    "\n",
    "\n",
    "\"\"\"\n",
    "Note:\n",
    "Removed dob TO_DATE as not supported and left dob as original timestamp\n",
    "\n",
    "\"\"\"\n",
    "pydb.read_sql_query(create_adopt_child_parties)\n",
    "\n"
   ]
  },
  {
   "cell_type": "markdown",
   "metadata": {},
   "source": [
    "# Stage 2 - Applications"
   ]
  },
  {
   "cell_type": "markdown",
   "metadata": {},
   "source": [
    "## adopt_application1 table"
   ]
  },
  {
   "cell_type": "markdown",
   "metadata": {},
   "source": [
    "### Drop the adopt_application1 table if it already exists and remove its data from the S3 bucket"
   ]
  },
  {
   "cell_type": "code",
   "execution_count": null,
   "metadata": {},
   "outputs": [],
   "source": [
    "drop_adopt_application1 = f\"\"\"\n",
    "DROP TABLE IF EXISTS fcsq.adopt_application1;\n",
    "\"\"\"\n",
    "pydb.read_sql_query(drop_adopt_application1)\n",
    "\n",
    "# clean up previous adopt_application1 files\n",
    "bucket.objects.filter(Prefix=\"fcsq_processing/Adoption/adopt_application1/\").delete()"
   ]
  },
  {
   "cell_type": "markdown",
   "metadata": {},
   "source": [
    "### Create the adopt_application1 table in Athena"
   ]
  },
  {
   "cell_type": "code",
   "execution_count": null,
   "metadata": {},
   "outputs": [],
   "source": [
    "create_adopt_application1 = f\"\"\"\n",
    "CREATE TABLE IF NOT EXISTS fcsq.adopt_application1\n",
    "WITH (format = 'PARQUET', external_location = 's3://alpha-family-data/fcsq_processing/Adoption/adopt_application1') AS\n",
    "SELECT \ta1.case_number, \n",
    "        a1.event, \n",
    "        a1.receipt_date2, \n",
    "        a1.app_type, \n",
    "        c1.case_app_type, \n",
    "        a1.date_of_issue, \n",
    "        date_parse(c1.case_issue_date2, '%Y-%m-%d') AS case_issue_date2,\n",
    "        a1.high_court, \n",
    "        c1.contested, \n",
    "        b1.number_applicants, \n",
    "        b1.min_sex, \n",
    "        b1.max_sex, \n",
    "        b1.adopter_type, \n",
    "        b1.min_rtc,\n",
    "        b1.max_rtc, \n",
    "        b1.adopter, \n",
    "        SUBSTR(cast(event as varchar(50)), 1,3) court, \n",
    "        ', '||  app_type ||  ',' app_type2,\n",
    "\t\n",
    "        CASE WHEN a1.date_of_issue <= a1.receipt_date2 \n",
    "                THEN a1.date_of_issue\n",
    "              ELSE a1.receipt_date2\n",
    "              END min_date,\n",
    "\n",
    "        CASE WHEN a1.app_type='AO' OR a1.app_type='CA' OR a1.app_type='PFO' OR a1.app_type='AD' OR a1.app_type='PF' OR a1.app_type='SP' THEN 'Adoption'\n",
    "              WHEN a1.app_type LIKE '%AO%' OR a1.app_type LIKE  '%CA%' OR a1.app_type LIKE '%PF%' OR a1.app_type LIKE '%AD%' OR a1.app_type LIKE '%SP%' THEN 'Adoption+other'\n",
    "              ELSE 'Non-adoption'\n",
    "              END adoption\n",
    "\n",
    "FROM (fcsq.adoptions_applications a1 \n",
    "LEFT JOIN fcsq.adopt_applicant_type b1 ON a1.case_number = b1.case_number) \n",
    "LEFT JOIN fcsq.adoptions_cases c1 ON a1.case_number = c1.case_number;\n",
    "\"\"\"\n",
    "\n",
    "pydb.read_sql_query(create_adopt_application1)\n",
    "print (\"Done\")\n"
   ]
  },
  {
   "cell_type": "markdown",
   "metadata": {},
   "source": [
    "## adopt_application2 table"
   ]
  },
  {
   "cell_type": "markdown",
   "metadata": {},
   "source": [
    "### Drop the adopt_application2 table if it already exists and remove its data from the S3 bucket"
   ]
  },
  {
   "cell_type": "code",
   "execution_count": null,
   "metadata": {},
   "outputs": [],
   "source": [
    "drop_adopt_application2 = f\"\"\"\n",
    "DROP TABLE IF EXISTS fcsq.adopt_application2;\n",
    "\"\"\"\n",
    "pydb.read_sql_query(drop_adopt_application2)\n",
    "\n",
    "# clean up previous adopt_application2 files\n",
    "bucket.objects.filter(Prefix=\"fcsq_processing/Adoption/adopt_application2/\").delete()"
   ]
  },
  {
   "cell_type": "markdown",
   "metadata": {},
   "source": [
    "### Create the adopt_application2 table in Athena"
   ]
  },
  {
   "cell_type": "code",
   "execution_count": null,
   "metadata": {},
   "outputs": [],
   "source": [
    "create_adopt_application2 = f\"\"\"\n",
    "CREATE TABLE IF NOT EXISTS fcsq.adopt_application2\n",
    "WITH (format = 'PARQUET', external_location = 's3://alpha-family-data/fcsq_processing/Adoption/adopt_application2') AS\n",
    "SELECT case_number, \n",
    "        event, \n",
    "        min_date, \n",
    "        EXTRACT(YEAR FROM min_date) year,\n",
    "\n",
    "        CASE WHEN  min_date IS NULL THEN NULL\n",
    "              WHEN EXTRACT(MONTH FROM min_date) between 1 and 3 THEN 1\n",
    "              WHEN EXTRACT(MONTH from min_date) between 4 and 6 THEN 2\n",
    "              WHEN EXTRACT(month from min_date) between 7 and 9 THEN 3\n",
    "              WHEN EXTRACT(month from min_date) between 10 and 12 THEN 4\n",
    "              END quarter,\n",
    "\n",
    "        court, \n",
    "        app_type, \n",
    "        app_type2, \n",
    "        adoption, \n",
    "        case_app_type, \n",
    "        high_court, \n",
    "        contested, \n",
    "        number_applicants, \n",
    "        min_sex, \n",
    "        max_sex, \n",
    "        adopter_type, \n",
    "        min_rtc, \n",
    "        max_rtc, \n",
    "        adopter, \n",
    "        receipt_date2, \n",
    "        date_of_issue, \n",
    "        case_issue_date2,\n",
    "\n",
    "        CASE WHEN app_type2 LIKE ', AO%' OR app_type2 LIKE ', AD%' OR app_type2 LIKE ', CA%' OR app_type2 LIKE ', PFO%' OR app_type2 LIKE ', PF%' THEN 'Adoption' \n",
    "              ELSE 'N'\n",
    "              END adoption1 ,\n",
    "\n",
    "        CASE WHEN app_type2 LIKE ', AO%' OR app_type2 LIKE ', AD%' OR app_type2 LIKE ', SP%' THEN 1\n",
    "              ELSE 0\n",
    "              END standard ,\n",
    "\n",
    "        CASE WHEN app_type2 LIKE '%, CA%' OR app_type2 LIKE '%, CA%'\n",
    "              THEN 1 \n",
    "              ELSE 0\n",
    "              END convention , \n",
    "\n",
    "        CASE WHEN app_type2 LIKE '%, PF%'\n",
    "              THEN 1\n",
    "                ELSE 0\n",
    "                END foreign , \n",
    "\n",
    "        CASE WHEN app_type2 LIKE '%, PLA%' OR app_type2 LIKE ', FO%'\n",
    "              THEN 1\n",
    "              ELSE 0\n",
    "              END placement , \n",
    "\n",
    "        CASE WHEN app_type2 LIKE '%, RPLA%'\n",
    "              THEN 1\n",
    "              ELSE 0\n",
    "              END placement_revoke  , \n",
    "\n",
    "\n",
    "        CASE WHEN app_type2 LIKE '%, VPLA%'\n",
    "              THEN 1\n",
    "              ELSE 0\n",
    "              END  placement_vary , \n",
    "\n",
    "        CASE WHEN app_type2 LIKE '%, CNO%'\n",
    "              THEN 1\n",
    "              ELSE 0\n",
    "              END contact_s26 , \n",
    "\n",
    "        CASE WHEN app_type2 LIKE '%, RCNO%'\n",
    "              THEN 1\n",
    "              ELSE 0\n",
    "              END contact_s26_revoke, \n",
    "\n",
    "        CASE WHEN app_type2 LIKE '%, VCNO%'\n",
    "              THEN 1\n",
    "              ELSE 0\n",
    "              END contact_s26_vary , \n",
    "\n",
    "        CASE WHEN app_type2 LIKE '%, CCS%' \n",
    "              THEN 1\n",
    "              ELSE 0\n",
    "              END change_surname , \n",
    "\n",
    "        CASE WHEN app_type2 LIKE '%, RUK%'\n",
    "              THEN 1\n",
    "              ELSE 0\n",
    "              END  remove_child_from_uk, \n",
    "\n",
    "        CASE WHEN app_type2 LIKE '%, OR%'\n",
    "              THEN 1\n",
    "              ELSE 0\n",
    "              END other_recovery,\n",
    "\n",
    "        CASE WHEN app_type2 LIKE '%, PT10%'\n",
    "              THEN 1\n",
    "              ELSE 0\n",
    "              END other_part_10, \n",
    "\n",
    "        CASE WHEN app_type2 LIKE '%, PT9%'\n",
    "              THEN 1\n",
    "              ELSE 0\n",
    "              END other_part_9, \n",
    "\n",
    "        CASE WHEN app_type2 LIKE '%, S84%'\n",
    "              THEN 1\n",
    "              ELSE 0\n",
    "              END other_s84_order, \n",
    "\n",
    "        CASE WHEN app_type2 LIKE '%, S88%'\n",
    "              THEN 1\n",
    "              ELSE 0\n",
    "              END other_s88_direction , \n",
    "\n",
    "        CASE WHEN app_type2 LIKE '%, S89%'\n",
    "              THEN 1\n",
    "              ELSE 0\n",
    "              END other_s89_order \n",
    "\n",
    "FROM fcsq.adopt_application1;\n",
    "\"\"\"\n",
    "\n",
    "pydb.read_sql_query(create_adopt_application2)\n",
    "\n"
   ]
  },
  {
   "cell_type": "markdown",
   "metadata": {},
   "source": [
    "## adopt_application3 table"
   ]
  },
  {
   "cell_type": "markdown",
   "metadata": {},
   "source": [
    "### Drop the adopt_application3 table if it already exists and remove its data from the S3 bucket"
   ]
  },
  {
   "cell_type": "code",
   "execution_count": null,
   "metadata": {},
   "outputs": [],
   "source": [
    "drop_adopt_application3 = f\"\"\"\n",
    "DROP TABLE IF EXISTS fcsq.adopt_application3;\n",
    "\"\"\"\n",
    "pydb.read_sql_query(drop_adopt_application3)\n",
    "\n",
    "# clean up previous adopt_application3 files\n",
    "bucket.objects.filter(Prefix=\"fcsq_processing/Adoption/adopt_application3/\").delete()"
   ]
  },
  {
   "cell_type": "markdown",
   "metadata": {},
   "source": [
    "### Create the adopt_application3 table in Athena"
   ]
  },
  {
   "cell_type": "code",
   "execution_count": null,
   "metadata": {},
   "outputs": [],
   "source": [
    "create_adopt_application3 = f\"\"\"\n",
    "CREATE TABLE IF NOT EXISTS fcsq.adopt_application3\n",
    "WITH (format = 'PARQUET', external_location = 's3://alpha-family-data/fcsq_processing/Adoption/adopt_application3') AS\n",
    "SELECT application2.case_number, \n",
    "        MIN(application2.min_date) app_date, \n",
    "        application2.year, \n",
    "        application2.quarter, \n",
    "        application2.court, \n",
    "        application2.app_type, \n",
    "        application2.app_type2, \n",
    "        application2.case_app_type, \n",
    "        application2.adoption, \n",
    "        application2.high_court, \n",
    "        application2.contested, \n",
    "        application2.number_applicants, \n",
    "        application2.min_sex, \n",
    "        application2.max_sex, \n",
    "        application2.adopter_type, \n",
    "        application2.min_rtc, \n",
    "        application2.max_rtc, \n",
    "        application2.adopter\n",
    "FROM fcsq.adopt_application2 application2\n",
    "GROUP BY application2.case_number, \n",
    "          application2.year, \n",
    "          application2.quarter, \n",
    "          application2.court, \n",
    "          application2.app_type, \n",
    "          application2.app_type2, \n",
    "          application2.case_app_type, \n",
    "          application2.adoption, \n",
    "          application2.high_court, \n",
    "          application2.contested, \n",
    "          application2.number_applicants, \n",
    "          application2.min_sex, \n",
    "          application2.max_sex, \n",
    "          application2.adopter_type, \n",
    "          application2.min_rtc, \n",
    "          application2.max_rtc, \n",
    "          application2.adopter\n",
    "HAVING (application2.case_number)<>'CV11Z00105';\n",
    "\"\"\"\n",
    "\n",
    "pydb.read_sql_query(create_adopt_application3)\n",
    "\n"
   ]
  },
  {
   "cell_type": "markdown",
   "metadata": {},
   "source": [
    "## adopt_application4 table"
   ]
  },
  {
   "cell_type": "markdown",
   "metadata": {},
   "source": [
    "### Drop the adopt_application4 table if it already exists and remove its data from the S3 bucket"
   ]
  },
  {
   "cell_type": "code",
   "execution_count": null,
   "metadata": {},
   "outputs": [],
   "source": [
    "drop_adopt_application4 = f\"\"\"\n",
    "DROP TABLE IF EXISTS fcsq.adopt_application4;\n",
    "\"\"\"\n",
    "pydb.read_sql_query(drop_adopt_application4)\n",
    "\n",
    "# clean up previous adopt_application4 files\n",
    "bucket.objects.filter(Prefix=\"fcsq_processing/Adoption/adopt_application4/\").delete()"
   ]
  },
  {
   "cell_type": "markdown",
   "metadata": {},
   "source": [
    "### Create the adopt_application4 table in Athena"
   ]
  },
  {
   "cell_type": "code",
   "execution_count": null,
   "metadata": {},
   "outputs": [],
   "source": [
    "create_adopt_application4 = f\"\"\"\n",
    "CREATE TABLE IF NOT EXISTS fcsq.adopt_application4\n",
    "WITH (format = 'PARQUET', external_location = 's3://alpha-family-data/fcsq_processing/Adoption/adopt_application4') AS\n",
    "SELECT application2.case_number, \n",
    "        application2.min_date app_date, \n",
    "        application2.year, \n",
    "        application2.quarter, \n",
    "        application2.court, \n",
    "        application2.app_type, \n",
    "        application2.case_app_type, \n",
    "        application2.adoption, \n",
    "        application2.high_court, \n",
    "        application2.contested, \n",
    "        application2.number_applicants, \n",
    "        application2.min_sex, \n",
    "        application2.max_sex, \n",
    "        application2.adopter_type, \n",
    "        application2.min_rtc, \n",
    "        application2.max_rtc, \n",
    "        application2.adopter, \n",
    "        application2.standard, \n",
    "        application2.convention, \n",
    "        application2.foreign, \n",
    "        application2.placement, \n",
    "\n",
    "        application2.placement_revoke + application2.placement_vary  placement_revoke_or_vary, \n",
    "\n",
    "        application2.contact_s26, \n",
    "\n",
    "        application2.contact_s26_revoke + application2.contact_s26_vary contact_s26_revoke_or_vary, \n",
    "        \n",
    "        application2.change_surname, \n",
    "        application2.remove_child_from_uk, \n",
    "\n",
    "        application2.other_recovery+application2.other_part_10+application2.other_part_9+application2.other_s84_order+application2.other_s88_direction+application2.other_s89_order other_order_type\n",
    "\n",
    "\n",
    "FROM fcsq.adopt_application2 application2;\n",
    "\"\"\"\n",
    "\n",
    "pydb.read_sql_query(create_adopt_application4)\n",
    "\n"
   ]
  },
  {
   "cell_type": "markdown",
   "metadata": {},
   "source": [
    "## TEMPLATE table"
   ]
  },
  {
   "cell_type": "markdown",
   "metadata": {},
   "source": [
    "### Drop the TEMPLATE table if it already exists and remove its data from the S3 bucket"
   ]
  },
  {
   "cell_type": "code",
   "execution_count": null,
   "metadata": {},
   "outputs": [],
   "source": [
    "drop_TEMPLATE = f\"\"\"\n",
    "DROP TABLE IF EXISTS fcsq.TEMPLATE;\n",
    "\"\"\"\n",
    "pydb.read_sql_query(drop_TEMPLATE)\n",
    "\n",
    "# clean up previous TEMPLATE files\n",
    "bucket.objects.filter(Prefix=\"fcsq_processing/Adoption/TEMPLATE/\").delete()"
   ]
  },
  {
   "cell_type": "markdown",
   "metadata": {},
   "source": [
    "### Create the TEMPLATE table in Athena"
   ]
  },
  {
   "cell_type": "code",
   "execution_count": null,
   "metadata": {},
   "outputs": [],
   "source": [
    "create_TEMPLATE = f\"\"\"\n",
    "CREATE TABLE IF NOT EXISTS fcsq.TEMPLATE\n",
    "WITH (format = 'PARQUET', external_location = 's3://alpha-family-data/fcsq_processing/Adoption/TEMPLATE') AS\n",
    "\"\"\"\n",
    "\n",
    "pydb.read_sql_query(create_TEMPLATE)\n",
    "\n"
   ]
  }
 ],
 "metadata": {
  "kernelspec": {
   "display_name": "venvname",
   "language": "python",
   "name": "venvname"
  },
  "language_info": {
   "codemirror_mode": {
    "name": "ipython",
    "version": 3
   },
   "file_extension": ".py",
   "mimetype": "text/x-python",
   "name": "python",
   "nbconvert_exporter": "python",
   "pygments_lexer": "ipython3",
   "version": "3.7.1"
  },
  "varInspector": {
   "cols": {
    "lenName": 16,
    "lenType": 16,
    "lenVar": 40
   },
   "kernels_config": {
    "python": {
     "delete_cmd_postfix": "",
     "delete_cmd_prefix": "del ",
     "library": "var_list.py",
     "varRefreshCmd": "print(var_dic_list())"
    },
    "r": {
     "delete_cmd_postfix": ") ",
     "delete_cmd_prefix": "rm(",
     "library": "var_list.r",
     "varRefreshCmd": "cat(var_dic_list()) "
    }
   },
   "types_to_exclude": [
    "module",
    "function",
    "builtin_function_or_method",
    "instance",
    "_Feature"
   ],
   "window_display": false
  }
 },
 "nbformat": 4,
 "nbformat_minor": 4
}
