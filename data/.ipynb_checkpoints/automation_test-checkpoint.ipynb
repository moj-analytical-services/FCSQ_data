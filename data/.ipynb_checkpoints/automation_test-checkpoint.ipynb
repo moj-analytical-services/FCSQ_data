{
 "cells": [
  {
   "cell_type": "code",
   "execution_count": 16,
   "id": "cf0dc4ce",
   "metadata": {},
   "outputs": [],
   "source": [
    "import nbformat as nbf\n",
    "import shutil\n",
    "import json\n",
    "import re\n",
    "\n"
   ]
  },
  {
   "cell_type": "code",
   "execution_count": 17,
   "id": "2e154a30-695a-47df-bba6-48c2aee727d0",
   "metadata": {},
   "outputs": [],
   "source": [
    "def get_equivalence_dict():\n",
    "    with open('table_equivalents.txt','r') as f:\n",
    "        data = f.read()\n",
    "    f.close()\n",
    "    equivalents_dict = json.loads(data)\n",
    "    return equivalents_dict"
   ]
  },
  {
   "cell_type": "code",
   "execution_count": 18,
   "id": "6eb77a7d-fc84-4baa-960d-0eb11313cc8a",
   "metadata": {},
   "outputs": [],
   "source": [
    "def automatic_code_update(code):\n",
    "    equivalents_dict = get_equivalence_dict()\n",
    "    matched_tables = []\n",
    "    for table in equivalents_dict:\n",
    "        code,matched_tables = replace_table(code,table,equivalents_dict[table],matched_tables)        \n",
    "    more_tables = \"\"\n",
    "    more_tables = input(\"Are all the tables used for creating this table listed? (Y/N): \"+str(matched_tables)).upper()\n",
    "    while more_tables!=\"Y\":\n",
    "        old_name = input(\"What is the table name in the existing code (include full name e.g. \\\"Adoptout.table_name\\\"?): \")\n",
    "        new_name = input(\"What is the table name on the platform (include full name e.g. \\\"fcsq.table_name\\\"?): \")\n",
    "        add_to_code_dict(old_name,new_name)\n",
    "        code,matched_tables = replace_table(code,old_name,new_name,matched_tables)\n",
    "        more_tables = input(\"Are all tables included listed now? (Y/N): \"+str(matched_tables)).upper()\n",
    "        \n",
    "    print (\"\\n\")\n",
    "    \n",
    "    return code"
   ]
  },
  {
   "cell_type": "code",
   "execution_count": 19,
   "id": "5afc356d-4c58-4afa-9e27-e1d00c542f53",
   "metadata": {},
   "outputs": [],
   "source": [
    "def replace_table(code,table,new_table,matched_tables):\n",
    "    table_in_code = re.compile(re.escape(table), re.IGNORECASE)\n",
    "    new_code = table_in_code.sub(new_table,code)\n",
    "    if new_code!=code:\n",
    "        matched_tables.append(table)\n",
    "    return (new_code,matched_tables)"
   ]
  },
  {
   "cell_type": "code",
   "execution_count": 20,
   "id": "35e30a15-2def-446e-9525-848a5a110fbf",
   "metadata": {},
   "outputs": [],
   "source": [
    "def add_to_code_dict(old_name,new_name):\n",
    "    equivalence_dict = get_equivalence_dict()\n",
    "    equivalence_dict[old_name]=new_name\n",
    "    with open('table_equivalents.txt','w') as f:\n",
    "        f.write(json.dumps(equivalence_dict))\n",
    "    f.close()\n",
    "    "
   ]
  },
  {
   "cell_type": "code",
   "execution_count": 21,
   "id": "d026c312-eef1-4024-8cf0-c1b61cd7cf12",
   "metadata": {},
   "outputs": [],
   "source": [
    "def get_inputs():\n",
    "    table_name = input(\"table name (no spaces): \")\n",
    "    while len(table_name.split())>1:\n",
    "        table_name = input(\"table name (no spaces): \")\n",
    "    number = input(\"number: \")\n",
    "    desc = input(\"table description: \")\n",
    "    temp_flag = \"\"\n",
    "    while temp_flag not in ('T','F'):\n",
    "        temp_flag = input(\"Temporary table T/F: \").upper()\n",
    "    if temp_flag == 'T':\n",
    "        temp_flag = True\n",
    "    else:\n",
    "        temp_flag = False\n",
    "    return table_name,number,desc,temp_flag"
   ]
  },
  {
   "cell_type": "code",
   "execution_count": 22,
   "id": "5b1a9721-1f33-4681-9b44-c8173ff1928d",
   "metadata": {},
   "outputs": [],
   "source": [
    "def create_backup(notebook_name):\n",
    "    original = notebook_name\n",
    "    target = \"automation_backup.ipynb\"\n",
    "    shutil.copyfile(original, target)"
   ]
  },
  {
   "cell_type": "code",
   "execution_count": 23,
   "id": "59f993b4-c58f-4517-89e6-c61cd335b12f",
   "metadata": {},
   "outputs": [],
   "source": [
    "def new_title_cell(number,name,desc):\n",
    "    cell = nbf.v4.new_markdown_cell(f\"## {number}. {name} table - {desc} <a name={name}></a>\")\n",
    "    return [cell]"
   ]
  },
  {
   "cell_type": "code",
   "execution_count": 24,
   "id": "c1a25df7-f9db-4c05-a49d-2a909d95a847",
   "metadata": {},
   "outputs": [],
   "source": [
    "def new_drop_table_cells(name,folder_name):\n",
    "    drop_mk_cell = nbf.v4.new_markdown_cell(f\"### Drop the {name} table if it already exists and remove its data from the S3 bucket\")\n",
    "    \n",
    "    drop_code = f\"\"\"drop_{name} = \\\"DROP TABLE IF EXISTS fcsq.{name}\\\"\n",
    "pydb.start_query_execution_and_wait(drop_{name})\n",
    "bucket.objects.filter(Prefix=\\\"fcsq_processing/{folder_name}/{name}\\\").delete();\"\"\"    \n",
    "    drop_code_cell = nbf.v4.new_code_cell(drop_code)\n",
    "    \n",
    "    return [drop_mk_cell,drop_code_cell]"
   ]
  },
  {
   "cell_type": "code",
   "execution_count": 31,
   "id": "f89534f2-2637-4b71-a5a2-b24f4798bdfb",
   "metadata": {},
   "outputs": [],
   "source": [
    "def new_create_table_cells(name,code,temp_flag,folder_name):\n",
    "    create_mk_cell = nbf.v4.new_markdown_cell(f\"### Create the {name} table\")\n",
    "    start_code = f\"create_{name}_table =f\\\"\\\"\\\"\"\n",
    "    if temp_flag:\n",
    "        end_code = f\"pydb.create_temp_table(create_{name}_table,\\'{name}\\'\\)\"\n",
    "    else:\n",
    "        start_code += f\"\"\"\n",
    "CREATE TABLE IF NOT EXISTS fcsq.{name}\n",
    "WITH (format = 'PARQUET', external_location = 's3://alpha-family-data/fcsq_processing/{folder_name}/{name}') AS\"\"\"\n",
    "        end_code =  f\"pydb.start_query_execution_and_wait(create_{name}_table);\"\n",
    "        \n",
    "    create_code = start_code+code+\"\\\"\\\"\\\"\\n\"+end_code \n",
    "    create_code_cell = nbf.v4.new_code_cell(create_code)    \n",
    "    return [create_mk_cell,create_code_cell]"
   ]
  },
  {
   "cell_type": "code",
   "execution_count": 26,
   "id": "23092a35-eebe-4e44-9715-cc12a3699365",
   "metadata": {},
   "outputs": [],
   "source": [
    "def new_validation_cells(name,temp_flag):\n",
    "    validation_mk_cell = nbf.v4.new_markdown_cell(f\"#### {name} validation\")\n",
    "    if temp_flag:\n",
    "        database = \"__temp__\"\n",
    "    else:\n",
    "        database = \"fcsq\"\n",
    "    validation_code = f\"\"\"{name}_count = pydb.read_sql_query(\"SELECT count(*) as count from {database}.{name}\\\")\n",
    "{name}_count\"\"\"\n",
    "    validation_code_cell = nbf.v4.new_code_cell(validation_code)\n",
    "    return [validation_mk_cell,validation_code_cell]"
   ]
  },
  {
   "cell_type": "code",
   "execution_count": 27,
   "id": "702fadd5",
   "metadata": {},
   "outputs": [],
   "source": [
    "def add_table(name,number,desc,temp_flag,code,folder_name,notebook_name):\n",
    "    create_backup(notebook_name)\n",
    "    cells = new_title_cell(number,name,desc)\n",
    "    if temp_flag == False:\n",
    "        cells = cells+new_drop_table_cells(name,folder_name)\n",
    "    cells = cells+new_create_table_cells(name,code,temp_flag,folder_name)\n",
    "    cells = cells+new_validation_cells(name,temp_flag)\n",
    "    \n",
    "    return cells\n",
    "\n"
   ]
  },
  {
   "cell_type": "code",
   "execution_count": 28,
   "id": "ab9d4637-ba41-4ff8-8de7-d7402814e304",
   "metadata": {},
   "outputs": [],
   "source": [
    "def create_snapshots_code():\n",
    "    snapshots_needed = input(\"Type the name of any tables which need snapshot dates added separated by a comma, if none leave blank\")\n",
    "    snapshots_needed = snapshots_needed.split(\",\")\n",
    "    snapshot_text = \"Where (\"\n",
    "    for i in range(len(snapshots_needed)):\n",
    "        snapshot_text=snapshot_text+\"{database}.\"+snapshots_needed[i]+\".mojap_snapshot_date= date\\'{snapshot_date}\\'\"\n",
    "        if i!=len(snapshots_needed)-1:\n",
    "            snapshot_text+=\" AND \"\n",
    "        else:\n",
    "            snapshot_text+=\")\"\n",
    "            \n",
    "    return snapshot_text"
   ]
  },
  {
   "cell_type": "code",
   "execution_count": 30,
   "id": "d87c0982-821e-4ebf-bb19-551489b0cc28",
   "metadata": {
    "tags": []
   },
   "outputs": [
    {
     "name": "stdin",
     "output_type": "stream",
     "text": [
      "Are all the tables used for creating this table listed? (Y/N): [] N\n",
      "What is the table name in the existing code (include full name e.g. \"Adoptout.table_name\"?):  dvint.APP_LOOKUP1\n",
      "What is the table name on the platform (include full name e.g. \"fcsq.table_name\"?):  __temp__.APP_LOOKUP1\n",
      "Are all tables included listed now? (Y/N): ['dvint.APP_LOOKUP1'] Y\n"
     ]
    },
    {
     "name": "stdout",
     "output_type": "stream",
     "text": [
      "\n",
      "\n"
     ]
    },
    {
     "name": "stdin",
     "output_type": "stream",
     "text": [
      "table name (no spaces):  APP_LOOKUP2\n",
      "number:  9\n",
      "table description:  This query looks at the adjusted value to see whether it can find any of the four order types in the value string. If so, it puts the order type description.\n",
      "Temporary table T/F:  T\n"
     ]
    }
   ],
   "source": [
    "code = f\"\"\"\n",
    "SELECT t1.ADJUSTED_VALUE,\n",
    "       /*ENM*/\n",
    "       (IFC(FIND(t1.ADJUSTED_VALUE,'ENM')>0,'Exparte Non-Molestation','')) AS ENM,\n",
    "       /*ONM*/\n",
    "       (IFC(FIND(t1.ADJUSTED_VALUE,'ONM')>0,'On Notice Non-Molestation','')) AS ONM,\n",
    "       /*EO*/\n",
    "       (IFC(FIND(t1.ADJUSTED_VALUE,', EO')>0 Or FIND(t1.ADJUSTED_VALUE,', EO ,')>0,'Exparte Occupation','')) AS EO,\n",
    "       /*ONO*/\n",
    "       (IFC(FIND(t1.ADJUSTED_VALUE,'ONO')>0,'On Notice Occupation','')) AS ONO\n",
    "FROM dvint.APP_LOOKUP1 AS t1;\n",
    "\"\"\"\n",
    "\n",
    "notebook_name = 'Domestic_Violence/Domestic_Violence_Extractions.ipynb'\n",
    "\n",
    "code = automatic_code_update(code)\n",
    "\n",
    "table_name,number,desc,temp_flag = get_inputs()\n",
    "\n",
    "folder_name = 'Domestic_Violence'\n",
    "\n",
    "cells = add_table(table_name,number,desc,temp_flag,code,folder_name,notebook_name)\n",
    "\n",
    "\n",
    "nb = nbf.read(notebook_name, as_version=4)\n",
    "\n",
    "nb['cells'] += cells\n",
    "with open(notebook_name, 'w') as f:\n",
    "        nbf.write(nb, f)\n",
    "        \n",
    "\n"
   ]
  },
  {
   "cell_type": "code",
   "execution_count": null,
   "id": "02f05661-ebdd-4ec2-ac54-48c1a4fd6dfb",
   "metadata": {},
   "outputs": [],
   "source": [
    "create_snapshots_code()"
   ]
  },
  {
   "cell_type": "code",
   "execution_count": null,
   "id": "96fd70a5-de25-4f8a-941d-52f6cf5c4e77",
   "metadata": {},
   "outputs": [],
   "source": []
  }
 ],
 "metadata": {
  "kernelspec": {
   "display_name": "venvname",
   "language": "python",
   "name": "venvname"
  },
  "language_info": {
   "codemirror_mode": {
    "name": "ipython",
    "version": 3
   },
   "file_extension": ".py",
   "mimetype": "text/x-python",
   "name": "python",
   "nbconvert_exporter": "python",
   "pygments_lexer": "ipython3",
   "version": "3.9.6"
  }
 },
 "nbformat": 4,
 "nbformat_minor": 5
}
