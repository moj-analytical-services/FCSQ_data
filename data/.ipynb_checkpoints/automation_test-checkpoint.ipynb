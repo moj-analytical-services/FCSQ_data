{
 "cells": [
  {
   "cell_type": "code",
   "execution_count": 39,
   "id": "cf0dc4ce",
   "metadata": {},
   "outputs": [],
   "source": [
    "import nbformat as nbf\n"
   ]
  },
  {
   "cell_type": "code",
   "execution_count": 40,
   "id": "91ca8bf4",
   "metadata": {},
   "outputs": [],
   "source": [
    "nb = nbf.read('testing_notebook.ipynb', as_version=4)"
   ]
  },
  {
   "cell_type": "code",
   "execution_count": 41,
   "id": "59f993b4-c58f-4517-89e6-c61cd335b12f",
   "metadata": {},
   "outputs": [],
   "source": [
    "def new_title_cell(number,name):\n",
    "    cell = nbf.v4.new_markdown_cell(f\"## {number}. {name} table <a name={name}></a>\")\n",
    "    return cell"
   ]
  },
  {
   "cell_type": "code",
   "execution_count": 42,
   "id": "c1a25df7-f9db-4c05-a49d-2a909d95a847",
   "metadata": {},
   "outputs": [],
   "source": [
    "def new_drop_table_cells(name):\n",
    "    drop_mk_cell = nbf.v4.new_markdown_cell(f\"### Drop the {name} table if it already exists and remove its data from the S3 bucket\")\n",
    "    \n",
    "    drop_code = f\"\"\"drop_{name} = \\\"DROP TABLE IF EXISTS fcsq.{name}\\\"\n",
    "pydb.start_query_execution_and_wait(drop_{name})\n",
    "bucket.objects.filter(Prefix=\\\"fcsq_processing/Adoption/{name}\\\").delete();\"\"\"    \n",
    "    drop_code_cell = nbf.v4.new_code_cell(drop_code)\n",
    "    \n",
    "    return drop_mk_cell,drop_code_cell"
   ]
  },
  {
   "cell_type": "code",
   "execution_count": 52,
   "id": "f89534f2-2637-4b71-a5a2-b24f4798bdfb",
   "metadata": {},
   "outputs": [],
   "source": [
    "def new_create_table_cells(name,code,temp_flag):\n",
    "    create_mk_cell = nbf.v4.new_markdown_cell(f\"### Create the {name} table\")\n",
    "    \n",
    "    create_code = f\"\"\"create_{name}_table =f\\\"\"\"\n",
    "CREATE TABLE IF NOT EXISTS fcsq.{name}\n",
    "    WITH (format = 'PARQUET', external_location = 's3://alpha-family-data/fcsq_processing/Adoption/{name}') AS\n",
    "    {code}\\\"\"\" \n",
    "pydb.start_query_execution_and_wait(create_{name}_table);\"\"\"    \n",
    "    create_code_cell = nbf.v4.new_code_cell(create_code)\n",
    "    \n",
    "    return create_mk_cell,create_code_cell"
   ]
  },
  {
   "cell_type": "code",
   "execution_count": 65,
   "id": "702fadd5",
   "metadata": {},
   "outputs": [],
   "source": [
    "def add_table(name,number,desc,temp_flag,code):\n",
    "    title_cell = new_title_cell(number,name)\n",
    "    drop_mk_cell,drop_code_cell = new_drop_table_cells(name)\n",
    "    create_mk_cell,create_code_cell = new_create_table_cells(name,code,temp_flag)\n",
    "    \n",
    "    cells = [title_cell,drop_mk_cell,drop_code_cell,create_mk_cell,create_code_cell]\n",
    "    return cells\n",
    "\n",
    "code = f\"\"\"\n",
    "SELECT * FROM\n",
    "fcsq.adopt_application_5\n",
    "ORDER BY \n",
    "CASE_NUMBER, APP_DATE\n",
    "\"\"\"\n",
    "\n",
    "\n",
    "cells = add_table('testing',1,\"\",True,code)\n",
    "cells\n",
    "\n",
    "nb['cells']= cells\n",
    "with open('testing_notebook.ipynb', 'w') as f:\n",
    "        nbf.write(nb, f)"
   ]
  }
 ],
 "metadata": {
  "kernelspec": {
   "display_name": "venvname",
   "language": "python",
   "name": "venvname"
  },
  "language_info": {
   "codemirror_mode": {
    "name": "ipython",
    "version": 3
   },
   "file_extension": ".py",
   "mimetype": "text/x-python",
   "name": "python",
   "nbconvert_exporter": "python",
   "pygments_lexer": "ipython3",
   "version": "3.9.6"
  }
 },
 "nbformat": 4,
 "nbformat_minor": 5
}
