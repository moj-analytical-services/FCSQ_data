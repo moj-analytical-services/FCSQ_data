{
 "cells": [
  {
   "cell_type": "markdown",
   "metadata": {},
   "source": [
    "# Adopt Timeliness"
   ]
  },
  {
   "cell_type": "markdown",
   "metadata": {
    "jp-MarkdownHeadingCollapsed": true,
    "tags": []
   },
   "source": [
    "## Contents\n",
    "#### Setup\n",
    "1. [Import packages and options](#import_packages)\n",
    "2. [Define key variables](#define_key_variables)\n",
    "\n",
    "3. [Adopt_applications_data_sorted](#Adopt_applications_data_sorted) - Orders adopt_application_5 by case_number and application date\n",
    "4. [Adopt_applications_temp](#Adopt_applications_temp) - takes the adopt_applications_data sorted table and filters it so it only has the first application record per case number\n",
    "5. [adopt_orders_data_sorted](#adopt_orders_data_sorted) - Sorts the disposals table by case_number and receipt date, removing contact orders, placement revoke or vary orders and other type orders\n",
    "6. [adopt_orders_temp](#adopt_orders_temp) - takes the adopt_orders_data_sorted table and filters it so it only has the first disposal record per case number\n",
    "7. [adopt_apps_and_orders_match](#adopt_apps_and_orders_match) - calculates the wait_weeks from the disposal date and the application date\n",
    "\n",
    "\n",
    "8. [Adopt_case_data_temp](#Adopt_case_data_temp) - filters by year>2010 and by first application date\n",
    "9. [Applicant_Info](#Applicant_Info) - joins the roles, parties and address tables for applicants to get information on the applicants\n",
    "10. [adopt_respondent_info](#adopt_respondent_info) - joins the roles, parties and address tables for respondents to get information on the respondents\n",
    "11. [applicants_3](#applicants_3) takes the adopt_applicant_info table and reformats it, decoding gender and representative role values into strings\n",
    "\n",
    "12. [Adopt_respondents_temp](#Adopt_respondents_temp) - takes the adopt_respondent_info table and reformats it, decoding gender and representative role values into strings\n",
    "13. [Adopt_app_rep](#Adopt_app_rep) - joins the case data with the applicant representation data\n",
    "14. [Adopt_resp_rep](#Adopt_resp_rep) - joins the case data with the respondent representation data\n",
    "15. [Adopt_Hearing_Events](#Adopt_Hearing_Events) - takes the adoption hearing events from the hearings table and joins it with the events table data \n",
    "16. [Adopt_Hearings_Cases](#Adopt_Hearings_Cases) - takes the hearing events, filters by adoption event codes and adds a flag whether the hearing is the first in the case\n",
    "17. [Hearing_Adopt_Applicants](#Hearing_Adopt_Applicants) - joins the cases from applicant representation table to the first hearing for the case in the adopt hearings cases table\n",
    "\n",
    "18. [Hearing_Adopt_Respondents](#Hearing_Adopt_Respondents) - joins the cases from respondents representation table to the first hearing for the case in the adopt hearings cases table \n",
    "19. [Adopt_App](#Adopt_App) - Groups the hearing_adopt_applicants table and produces a count per group\n",
    "20. [Adopt_Resp](#Adopt_Resp) - Groups the hearing_adopt_respondents table and produces a count per group\n",
    "21. [adopt_case](#adopt_case) - groups and formats adopt_case_data_v3 table and gives a count for each group\n",
    "22. [Adopt_Case_Hearings](#Adopt_Case_Hearings) - creates a count of all the cases with a hearing per quarter\n",
    "23. [Adoption](#Adoption) - Joins the applicant/respondent representation count tables, case count table, and case hearing count tables \n",
    "24. [Applicant_representation](#Applicant_representation) - creates a table showing whether all, some, or none of the applicants for a case have representation\n",
    "25. [Respondent_representation](#Respondent_representation) - creates a table showing whether all, some, or none of the respondents for a case have representation\n",
    "26. [Adopt_Disposals_Final](#Adopt_Disposals_Final) - joins the adopt_apps_and_orders_match table and the representation tables, joining timeliness and legal representation data for a case together\n",
    "27. [Adopt_Quarterly](#Adopt_Quarterly) - groups the disposals_final table by quarter, providing a total and mean wait_weeks per quarter\n",
    "28. [Adopt_Annual](#Adopt_Annual) - groups the disposals_final table annually, providing a total and mean wait_weeks annually \n",
    "29. [Adopt_timeliness_combined](#Adopt_timeliness_combined) - combines and orders the annual and quarterly timeliness data\n"
   ]
  },
  {
   "cell_type": "markdown",
   "metadata": {
    "tags": []
   },
   "source": [
    "## 1. Import packages and set options \n",
    "<a name=\"import_packages\"></a>"
   ]
  },
  {
   "cell_type": "code",
   "execution_count": 1,
   "metadata": {},
   "outputs": [],
   "source": [
    "import pandas as pd  # a module which provides the data structures and functions to store and manipulate tables in dataframes\n",
    "import pydbtools as pydb  # A module which allows SQL queries to be run on the Analytical Platform from Python, see https://github.com/moj-analytical-services/pydbtools\n",
    "import boto3  # allows you to directly create, update, and delete AWS resources from Python scripts\n",
    "\n",
    "# sets parameters to view dataframes for tables easier\n",
    "pd.set_option(\"display.max_columns\", 100)\n",
    "pd.set_option(\"display.width\", 900)\n",
    "pd.set_option(\"display.max_colwidth\", 200)\n"
   ]
  },
  {
   "cell_type": "markdown",
   "metadata": {},
   "source": [
    "## 2. Define key variables to be used throughout the notebook \n",
    "<a name=\"define_key_variables\"></a>"
   ]
  },
  {
   "cell_type": "code",
   "execution_count": 2,
   "metadata": {},
   "outputs": [],
   "source": [
    "#this is the database we will be extracting from\n",
    "database = \"familyman_dev_v3\" \n",
    "\n",
    "#this is the snapshot date of familyman we will be extracting from\n",
    "snapshot_date = \"2022-06-24\" #snapshot for new database\n",
    "\n",
    "#this is the athena database we will be storing our tables in\n",
    "fcsq_database = \"fcsq\"\n",
    "\n",
    "#this is the s3 bucket we will be saving data to\n",
    "s3 = boto3.resource(\"s3\")\n",
    "bucket = s3.Bucket(\"alpha-family-data\")"
   ]
  },
  {
   "cell_type": "code",
   "execution_count": 4,
   "metadata": {},
   "outputs": [
    {
     "data": {
      "text/plain": [
       "\"\\nCREATE EXTERNAL TABLE IF NOT EXISTS `fcsq`.`COURT_MV_FEB21_DFJ` (\\n  `CODE` int,\\n  `COURT` string,\\n  `NAME` string,\\n  `Court_Type` string,\\n  `DFJ_Area` string,\\n  `Region` string,\\n  `Court_pre_2014` string,\\n  `Region_Pre2014` string,\\n  `DFJ_New` string\\n)\\nROW FORMAT SERDE 'org.apache.hadoop.hive.serde2.lazy.LazySimpleSerDe' \\nWITH SERDEPROPERTIES (\\n  'serialization.format' = ',',\\n  'field.delim' = ','\\n) LOCATION 's3://alpha-family-data/fcsq_processing/lookups/COURT_MV_FEB21_DFJ/'\\nTBLPROPERTIES ('has_encrypted_data'='false');\\n\""
      ]
     },
     "execution_count": 4,
     "metadata": {},
     "output_type": "execute_result"
    }
   ],
   "source": [
    "\"\"\"\n",
    "CREATE EXTERNAL TABLE IF NOT EXISTS `fcsq`.`COURT_MV_FEB21_DFJ` (\n",
    "  `CODE` int,\n",
    "  `COURT` string,\n",
    "  `NAME` string,\n",
    "  `Court_Type` string,\n",
    "  `DFJ_Area` string,\n",
    "  `Region` string,\n",
    "  `Court_pre_2014` string,\n",
    "  `Region_Pre2014` string,\n",
    "  `DFJ_New` string\n",
    ")\n",
    "ROW FORMAT SERDE 'org.apache.hadoop.hive.serde2.lazy.LazySimpleSerDe' \n",
    "WITH SERDEPROPERTIES (\n",
    "  'serialization.format' = ',',\n",
    "  'field.delim' = ','\n",
    ") LOCATION 's3://alpha-family-data/fcsq_processing/lookups/COURT_MV_FEB21_DFJ/'\n",
    "TBLPROPERTIES ('has_encrypted_data'='false');\n",
    "\"\"\""
   ]
  },
  {
   "cell_type": "markdown",
   "metadata": {},
   "source": [
    "## 3. Adopt_applications_data_sorted table - Orders adopt_application_5 by case_number and application date\n",
    "<a name=\"Adopt_applications_data_sorted\"></a>"
   ]
  },
  {
   "cell_type": "markdown",
   "metadata": {},
   "source": [
    "### Drop the adopt_applications_data_sorted table if it already exists and remove its data from the S3 bucket"
   ]
  },
  {
   "cell_type": "code",
   "execution_count": 5,
   "metadata": {},
   "outputs": [],
   "source": [
    "drop_adopt_applications_data_sorted = f\"\"\"\n",
    "DROP TABLE IF EXISTS fcsq.adopt_applications_data_sorted;\n",
    "\"\"\"\n",
    "pydb.start_query_execution_and_wait(drop_adopt_applications_data_sorted)\n",
    "\n",
    "# clean up previous adopt_applications_data_sorted files\n",
    "bucket.objects.filter(Prefix=\"fcsq_processing/Adoption/adopt_applications_data_sorted/\").delete();"
   ]
  },
  {
   "cell_type": "markdown",
   "metadata": {},
   "source": [
    "### Create the adopt_applications_data_sorted table in Athena"
   ]
  },
  {
   "cell_type": "code",
   "execution_count": 6,
   "metadata": {},
   "outputs": [],
   "source": [
    "create_adopt_applications_data_sorted = f\"\"\"\n",
    "CREATE TABLE IF NOT EXISTS fcsq.adopt_applications_data_sorted\n",
    "WITH (format = 'PARQUET', external_location = 's3://alpha-family-data/fcsq_processing/Adoption/adopt_applications_data_sorted') AS\n",
    "SELECT * FROM\n",
    "fcsq.adopt_application_5\n",
    "ORDER BY \n",
    "CASE_NUMBER, APP_DATE\n",
    "\"\"\"\n",
    "\n",
    "pydb.start_query_execution_and_wait(create_adopt_applications_data_sorted);\n",
    "\n"
   ]
  },
  {
   "cell_type": "markdown",
   "metadata": {},
   "source": [
    "#### adopt_applications_data_sorted validation"
   ]
  },
  {
   "cell_type": "code",
   "execution_count": 7,
   "metadata": {},
   "outputs": [
    {
     "data": {
      "text/html": [
       "<div>\n",
       "<style scoped>\n",
       "    .dataframe tbody tr th:only-of-type {\n",
       "        vertical-align: middle;\n",
       "    }\n",
       "\n",
       "    .dataframe tbody tr th {\n",
       "        vertical-align: top;\n",
       "    }\n",
       "\n",
       "    .dataframe thead th {\n",
       "        text-align: right;\n",
       "    }\n",
       "</style>\n",
       "<table border=\"1\" class=\"dataframe\">\n",
       "  <thead>\n",
       "    <tr style=\"text-align: right;\">\n",
       "      <th></th>\n",
       "      <th>count</th>\n",
       "    </tr>\n",
       "  </thead>\n",
       "  <tbody>\n",
       "    <tr>\n",
       "      <th>0</th>\n",
       "      <td>182095</td>\n",
       "    </tr>\n",
       "  </tbody>\n",
       "</table>\n",
       "</div>"
      ],
      "text/plain": [
       "    count\n",
       "0  182095"
      ]
     },
     "execution_count": 7,
     "metadata": {},
     "output_type": "execute_result"
    }
   ],
   "source": [
    "adopt_applications_data_sorted_count = pydb.read_sql_query(\"select count(*) as count from fcsq.adopt_applications_data_sorted\")\n",
    "adopt_applications_data_sorted_count\n"
   ]
  },
  {
   "cell_type": "markdown",
   "metadata": {},
   "source": [
    "## 4. Create adopt_applications temporary tables - takes the adopt_applications_data sorted table and filters it so it only has the first application record per case number\n",
    "<a name=\"Adopt_applications_temp\"></a>"
   ]
  },
  {
   "cell_type": "code",
   "execution_count": 8,
   "metadata": {},
   "outputs": [],
   "source": [
    "create_adopt_applications_1 = f\"\"\"\n",
    "SELECT *, row_number() over (order by CASE_NUMBER, APP_DATE) as SEQ_NUM\n",
    "FROM fcsq.adopt_applications_data_sorted\n",
    "\"\"\"\n",
    "pydb.create_temp_table(create_adopt_applications_1,'adopt_applications_1')\n",
    "\n",
    "create_adopt_applications_2 = f\"\"\"\n",
    "SELECT DISTINCT case_number, app_type, min(seq_num) as min_of_seq_num\n",
    "FROM __temp__.adopt_applications_1 GROUP BY case_number, app_type\n",
    "\"\"\"\n",
    "pydb.create_temp_table(create_adopt_applications_2,'adopt_applications_2')\n",
    "\n",
    "create_adopt_applications_3 = f\"\"\"\n",
    "SELECT\n",
    "    t1.case_number,\n",
    "    t2.App_date,\n",
    "    t2.year,\n",
    "    t2.quarter,\n",
    "    t2.court,\n",
    "    t2.app_type,\n",
    "    t2.Case_app_type, \n",
    "    t2.Adoption, \n",
    "    t2.Contested, \n",
    "    t2.Standard, \n",
    "    t2.Convention, \n",
    "    t2.Foreign, \n",
    "    t2.Placement, \n",
    "    t2.Placement_revoke_or_vary, \n",
    "    t2.Contact_s26, \n",
    "    t2.Contact_s26_revoke_or_vary, \n",
    "    t2.Change_surname, \n",
    "    t2.Remove_child_from_UK, \n",
    "    t2.Other_order_type, \n",
    "    t2.Adoption_Cases, \n",
    "    t2.Non_Adoption_Cases\n",
    "FROM __temp__.ADOPT_APPLICATIONS_2 t1 LEFT JOIN\n",
    "__temp__.ADOPT_APPLICATIONS_1 t2 ON (t1.MIN_of_seq_num = t2.Seq_Num)\n",
    "\"\"\"\n",
    "pydb.create_temp_table(create_adopt_applications_3,'adopt_applications_3')"
   ]
  },
  {
   "cell_type": "markdown",
   "metadata": {},
   "source": [
    "## 5. adopt_orders_data_sorted table - Sorts the disposals table by case_number and receipt date, removing contact orders, placement revoke or vary orders and other type orders\n",
    "<a name=\"adopt_orders_data_sorted\"></a>"
   ]
  },
  {
   "cell_type": "markdown",
   "metadata": {},
   "source": [
    "### Drop the adopt_orders_data_sorted table if it already exists and remove its data from the S3 bucket"
   ]
  },
  {
   "cell_type": "code",
   "execution_count": 207,
   "metadata": {},
   "outputs": [],
   "source": [
    "drop_adopt_orders_data_sorted = f\"\"\"\n",
    "DROP TABLE IF EXISTS fcsq.adopt_orders_data_sorted;\n",
    "\"\"\"\n",
    "pydb.start_query_execution_and_wait(drop_adopt_orders_data_sorted)\n",
    "\n",
    "# clean up previous adopt_orders_data_sorted files\n",
    "bucket.objects.filter(Prefix=\"fcsq_processing/Adoption/adopt_orders_data_sorted/\").delete();"
   ]
  },
  {
   "cell_type": "markdown",
   "metadata": {},
   "source": [
    "### Create the adopt_orders_data_sorted table in Athena"
   ]
  },
  {
   "cell_type": "code",
   "execution_count": 208,
   "metadata": {},
   "outputs": [],
   "source": [
    "create_adopt_orders_data_sorted = f\"\"\"\n",
    "CREATE TABLE IF NOT EXISTS fcsq.adopt_orders_data_sorted\n",
    "WITH (format = 'PARQUET', external_location = 's3://alpha-family-data/fcsq_processing/Adoption/adopt_orders_data_sorted') AS\n",
    "SELECT * \n",
    "FROM fcsq.adopt_disposals5 t1\n",
    "    WHERE t1.Type in ('Standard','Convention','?Foreign?')\n",
    "    ORDER BY t1.CASE_NUMBER, t1.Receipt_date;\n",
    "\"\"\"\n",
    "pydb.start_query_execution_and_wait(create_adopt_orders_data_sorted);"
   ]
  },
  {
   "cell_type": "code",
   "execution_count": 209,
   "metadata": {},
   "outputs": [],
   "source": [
    "\"\"\" \n",
    "\n",
    "#t1.Type != 'Contact_s26' AND t1.Type != 'Contact_s26_revoke_or_vary' AND t1.Type != \n",
    "        #'Placement_revoke_or_vary' AND t1.Type != 'Other_order_type'"
   ]
  },
  {
   "cell_type": "markdown",
   "metadata": {},
   "source": [
    "#### adopt_orders_data_sorted validation"
   ]
  },
  {
   "cell_type": "code",
   "execution_count": 215,
   "metadata": {},
   "outputs": [
    {
     "data": {
      "text/html": [
       "<div>\n",
       "<style scoped>\n",
       "    .dataframe tbody tr th:only-of-type {\n",
       "        vertical-align: middle;\n",
       "    }\n",
       "\n",
       "    .dataframe tbody tr th {\n",
       "        vertical-align: top;\n",
       "    }\n",
       "\n",
       "    .dataframe thead th {\n",
       "        text-align: right;\n",
       "    }\n",
       "</style>\n",
       "<table border=\"1\" class=\"dataframe\">\n",
       "  <thead>\n",
       "    <tr style=\"text-align: right;\">\n",
       "      <th></th>\n",
       "      <th>count</th>\n",
       "    </tr>\n",
       "  </thead>\n",
       "  <tbody>\n",
       "    <tr>\n",
       "      <th>0</th>\n",
       "      <td>84636</td>\n",
       "    </tr>\n",
       "  </tbody>\n",
       "</table>\n",
       "</div>"
      ],
      "text/plain": [
       "   count\n",
       "0  84636"
      ]
     },
     "execution_count": 215,
     "metadata": {},
     "output_type": "execute_result"
    }
   ],
   "source": [
    "adopt_orders_data_sorted_count = pydb.read_sql_query(\"select count(*) as count from fcsq.adopt_orders_data_sorted\")\n",
    "adopt_orders_data_sorted_count"
   ]
  },
  {
   "cell_type": "markdown",
   "metadata": {},
   "source": [
    "## 6. Create adopt_orders temporary tables - takes the adopt_orders_data_sorted table and filters it so it only has the first disposal record per case number\n",
    "<a name=\"adopt_orders_temp\"></a>"
   ]
  },
  {
   "cell_type": "code",
   "execution_count": 217,
   "metadata": {},
   "outputs": [],
   "source": [
    "create_adopt_orders_0 = f\"\"\"\n",
    "SELECT t1.CASE_NUMBER, \n",
    "          t1.Court, \n",
    "          t1.Year, \n",
    "          t1.Quarter, \n",
    "          t2.App_type, \n",
    "          t2.App_date, \n",
    "          t1.Receipt_date AS Disp_Date, \n",
    "          t1.EVENT_MODEL, \n",
    "          t1.FIELD_MODEL, \n",
    "          t1.Order_type, \n",
    "          t1.Country_of_birth, \n",
    "          t1.Number_applicants, \n",
    "          t1.Adopter_type, \n",
    "          t1.Adopter, \n",
    "          t1.Child_sex, /*Changed this from child_sex2 as the process has changed, check to see if an error comes up*/ \n",
    "          t1.Age_band, \n",
    "          t1.Child_age, \n",
    "          t1.Adoption, \n",
    "          t1.Type, \n",
    "          t1.Adopter_2, \n",
    "          DAY(t1.Receipt_date -t2.App_date) as DATE_DIFF\n",
    "      FROM fcsq.ADOPT_ORDERS_DATA_SORTED t1\n",
    "           INNER JOIN __temp__.ADOPT_APPLICATIONS_3 t2 ON (t1.CASE_NUMBER = t2.CASE_NUMBER)\n",
    "                 WHERE (DAY(t1.Receipt_date -t2.App_date)) >= 0;\n",
    "\"\"\"\n",
    "pydb.create_temp_table(create_adopt_orders_0,'adopt_orders_0')\n",
    "\n",
    "\n",
    "create_adopt_orders_1 = f\"\"\"\n",
    "   SELECT t1.CASE_NUMBER, \n",
    "          t1.Court, \n",
    "          t1.Year, \n",
    "          t1.Quarter, \n",
    "          t1.App_type, \n",
    "          t1.EVENT_MODEL AS Disp_Type, \n",
    "          t1.App_date, \n",
    "          t1.Disp_Date, \n",
    "          t1.FIELD_MODEL, \n",
    "          t1.Order_type, \n",
    "          t1.Number_applicants, \n",
    "          t1.Child_sex, /*Changed this from child_sex2 as the process has changed, check to see if an error comes up*/ \n",
    "          t1.Adoption, \n",
    "          t1.Type, \n",
    "          row_number() over (order by CASE_NUMBER,App_type,App_date,disp_date) as Seq_no\n",
    "      FROM __temp__.ADOPT_ORDERS_0 t1\n",
    "      ORDER BY t1.CASE_NUMBER,\n",
    "               t1.App_type,\n",
    "               t1.App_date;\n",
    "\"\"\"\n",
    "\n",
    "pydb.create_temp_table(create_adopt_orders_1,'adopt_orders_1')\n",
    "\n",
    "create_adopt_orders_2 = f\"\"\"\n",
    "SELECT DISTINCT CASE_NUMBER, \n",
    "          App_type, \n",
    "          App_date, \n",
    "        (MIN(Seq_No)) AS MIN_of_Seq_No\n",
    "      FROM __temp__.ADOPT_ORDERS_1 t1\n",
    "      GROUP BY CASE_NUMBER,\n",
    "               App_type,\n",
    "               App_date;\n",
    "\"\"\"\n",
    "\n",
    "pydb.create_temp_table(create_adopt_orders_2,'adopt_orders_2')\n",
    "\n",
    "create_adopt_orders_3 = f\"\"\"\n",
    "   SELECT DISTINCT t1.CASE_NUMBER, \n",
    "          t1.App_type, \n",
    "          t2.Court, \n",
    "          t1.App_date, \n",
    "          t2.Disp_Date, \n",
    "          t2.Disp_Type, \n",
    "          t2.Year, \n",
    "          t2.Quarter, \n",
    "          t2.Order_type, \n",
    "          t2.Adoption, \n",
    "          t2.Type\n",
    "      FROM __temp__.ADOPT_ORDERS_2 t1\n",
    "           LEFT JOIN __temp__.ADOPT_ORDERS_1 t2 ON (t1.MIN_of_Seq_No = t2.Seq_No);\n",
    "\"\"\"\n",
    "pydb.create_temp_table(create_adopt_orders_3,'adopt_orders_3')\n"
   ]
  },
  {
   "cell_type": "code",
   "execution_count": null,
   "metadata": {},
   "outputs": [],
   "source": [
    "adopt_orders_3_check = pydb.read_sql_query(\"SELECT count(*) as count from __temp__.adopt_orders_3\")\n",
    "adopt_orders_3_check"
   ]
  },
  {
   "cell_type": "markdown",
   "metadata": {},
   "source": [
    "## 7. adopt_apps_and_orders_match table - calculates the wait_weeks from the disposal date and the application date\n",
    "<a name=\"adopt_apps_and_orders_match\"></a>"
   ]
  },
  {
   "cell_type": "markdown",
   "metadata": {},
   "source": [
    "### Drop the adopt_apps_and_orders_match table if it already exists and remove its data from the S3 bucket"
   ]
  },
  {
   "cell_type": "code",
   "execution_count": 222,
   "metadata": {
    "scrolled": true
   },
   "outputs": [],
   "source": [
    "drop_adopt_apps_and_orders_match = f\"\"\"\n",
    "DROP TABLE IF EXISTS fcsq.adopt_apps_and_orders_match;\n",
    "\"\"\"\n",
    "pydb.start_query_execution_and_wait(drop_adopt_apps_and_orders_match)\n",
    "\n",
    "# clean up previous adopt_apps_and_orders_match files\n",
    "bucket.objects.filter(Prefix=\"fcsq_processing/Adoption/ADOPT_APPS_AND_ORDERS_MATCH/\").delete();"
   ]
  },
  {
   "cell_type": "markdown",
   "metadata": {},
   "source": [
    "### Create the adopt_apps_and_orders_match table in Athena"
   ]
  },
  {
   "cell_type": "code",
   "execution_count": 223,
   "metadata": {
    "scrolled": true
   },
   "outputs": [],
   "source": [
    "create_adopt_apps_and_orders_match =f\"\"\"\n",
    "CREATE TABLE IF NOT EXISTS fcsq.ADOPT_APPS_AND_ORDERS_MATCH\n",
    "WITH (format = 'PARQUET', external_location = 's3://alpha-family-data/fcsq_processing/Adoption/ADOPT_APPS_AND_ORDERS_MATCH') AS\n",
    "   SELECT t2.CASE_NUMBER, \n",
    "          t2.App_type, \n",
    "          t2.Court, \n",
    "          t2.App_date, \n",
    "          t2.Disp_Date, \n",
    "          /* Wait_weeks */\n",
    "            (CAST (DAY(t2.Disp_Date-t2.App_date) as double)/7) AS Wait_weeks, \n",
    "          t2.Disp_Type, \n",
    "          t2.Year, \n",
    "          t2.Quarter, \n",
    "          t2.Order_type, \n",
    "          t2.Adoption, \n",
    "          t2.Type, \n",
    "          /* DSP_COURT */\n",
    "          t2.Court AS DSP_COURT\n",
    "      FROM __temp__.ADOPT_ORDERS_3 t2;\n",
    "\n",
    "\n",
    "\"\"\"\n",
    "pydb.start_query_execution_and_wait(create_adopt_apps_and_orders_match);"
   ]
  },
  {
   "cell_type": "markdown",
   "metadata": {},
   "source": [
    "#### ADOPT_APPS_AND_ORDERS_MATCH validation"
   ]
  },
  {
   "cell_type": "code",
   "execution_count": 224,
   "metadata": {},
   "outputs": [
    {
     "data": {
      "text/html": [
       "<div>\n",
       "<style scoped>\n",
       "    .dataframe tbody tr th:only-of-type {\n",
       "        vertical-align: middle;\n",
       "    }\n",
       "\n",
       "    .dataframe tbody tr th {\n",
       "        vertical-align: top;\n",
       "    }\n",
       "\n",
       "    .dataframe thead th {\n",
       "        text-align: right;\n",
       "    }\n",
       "</style>\n",
       "<table border=\"1\" class=\"dataframe\">\n",
       "  <thead>\n",
       "    <tr style=\"text-align: right;\">\n",
       "      <th></th>\n",
       "      <th>count</th>\n",
       "    </tr>\n",
       "  </thead>\n",
       "  <tbody>\n",
       "    <tr>\n",
       "      <th>0</th>\n",
       "      <td>83963</td>\n",
       "    </tr>\n",
       "  </tbody>\n",
       "</table>\n",
       "</div>"
      ],
      "text/plain": [
       "   count\n",
       "0  83963"
      ]
     },
     "execution_count": 224,
     "metadata": {},
     "output_type": "execute_result"
    }
   ],
   "source": [
    "adopt_apps_and_orders_match_count = pydb.read_sql_query(\"select count(*) as count from fcsq.ADOPT_APPS_AND_ORDERS_MATCH\")\n",
    "adopt_apps_and_orders_match_count"
   ]
  },
  {
   "cell_type": "code",
   "execution_count": 225,
   "metadata": {},
   "outputs": [
    {
     "data": {
      "text/html": [
       "<div>\n",
       "<style scoped>\n",
       "    .dataframe tbody tr th:only-of-type {\n",
       "        vertical-align: middle;\n",
       "    }\n",
       "\n",
       "    .dataframe tbody tr th {\n",
       "        vertical-align: top;\n",
       "    }\n",
       "\n",
       "    .dataframe thead th {\n",
       "        text-align: right;\n",
       "    }\n",
       "</style>\n",
       "<table border=\"1\" class=\"dataframe\">\n",
       "  <thead>\n",
       "    <tr style=\"text-align: right;\">\n",
       "      <th></th>\n",
       "      <th>case_number</th>\n",
       "      <th>app_type</th>\n",
       "      <th>court</th>\n",
       "      <th>app_date</th>\n",
       "      <th>disp_date</th>\n",
       "      <th>wait_weeks</th>\n",
       "      <th>disp_type</th>\n",
       "      <th>year</th>\n",
       "      <th>quarter</th>\n",
       "      <th>order_type</th>\n",
       "      <th>adoption</th>\n",
       "      <th>type</th>\n",
       "      <th>dsp_court</th>\n",
       "    </tr>\n",
       "  </thead>\n",
       "  <tbody>\n",
       "    <tr>\n",
       "      <th>0</th>\n",
       "      <td>LV20Z04103</td>\n",
       "      <td>AO</td>\n",
       "      <td>251</td>\n",
       "      <td>2020-11-25</td>\n",
       "      <td>2021-08-18</td>\n",
       "      <td>38.0</td>\n",
       "      <td>A76</td>\n",
       "      <td>2021</td>\n",
       "      <td>3</td>\n",
       "      <td>&lt;NA&gt;</td>\n",
       "      <td>Adoption</td>\n",
       "      <td>Standard</td>\n",
       "      <td>251</td>\n",
       "    </tr>\n",
       "  </tbody>\n",
       "</table>\n",
       "</div>"
      ],
      "text/plain": [
       "  case_number app_type court   app_date  disp_date  wait_weeks disp_type  year  quarter order_type  adoption      type dsp_court\n",
       "0  LV20Z04103       AO   251 2020-11-25 2021-08-18        38.0       A76  2021        3       <NA>  Adoption  Standard       251"
      ]
     },
     "execution_count": 225,
     "metadata": {},
     "output_type": "execute_result"
    }
   ],
   "source": [
    "pydb.read_sql_query(\"select * from fcsq.adopt_apps_and_orders_match where case_number='LV20Z04103'\")"
   ]
  },
  {
   "cell_type": "markdown",
   "metadata": {},
   "source": [
    "## 8. Adopt_case_data temporary tables - filters by year>2010 and by first application date\n",
    "<a name=\"Adopt_case_data_temp\"></a>"
   ]
  },
  {
   "cell_type": "code",
   "execution_count": 226,
   "metadata": {},
   "outputs": [],
   "source": [
    "create_adopt_case_data_v1 = f\"\"\"\n",
    "SELECT T1.YEAR,\n",
    "            T1.QUARTER,\n",
    "            T1.COURT,\n",
    "            T1.CASE_NUMBER,\n",
    "            T1.APP_TYPE,\n",
    "            T1.CASE_APP_TYPE,\n",
    "            T1.ADOPTION,\n",
    "            T1.HIGH_COURT,\n",
    "            T1.CONTESTED,\n",
    "            T1.NUMBER_APPLICANTS,\n",
    "            T1.ADOPTER_TYPE,\n",
    "            date_format(T1.APP_DATE,'%d-%m-%Y') AS APP_DATE2\n",
    "    FROM fcsq.adopt_apps_6_adoptions_only AS t1\n",
    "    ORDER BY case_number, app_date2, court;\n",
    "    \n",
    "\"\"\"\n",
    "\n",
    "create_adopt_case_data_v2 = f\"\"\"\n",
    "SELECT *,(case when row_number() over (partition by case_number order by \n",
    "        APP_DATE2) = 1 then 1 else 0 end) as case_number_id\n",
    "FROM __temp__.adopt_case_data_v1\n",
    "\"\"\"\n",
    "\n",
    "create_adopt_case_data_v3 = f\"\"\"\n",
    "SELECT *\n",
    "FROM __temp__.adopt_case_data_v2\n",
    "where case_number_id = 1 and year > 2010;\n",
    "\"\"\"\n",
    "pydb.create_temp_table(create_adopt_case_data_v1,'adopt_case_data_v1')\n",
    "\n",
    "pydb.create_temp_table(create_adopt_case_data_v2,'adopt_case_data_v2')\n",
    "pydb.create_temp_table(create_adopt_case_data_v3,'adopt_case_data_v3')\n",
    "\n",
    "\n",
    "\n"
   ]
  },
  {
   "cell_type": "code",
   "execution_count": 2,
   "metadata": {},
   "outputs": [
    {
     "data": {
      "text/html": [
       "<div>\n",
       "<style scoped>\n",
       "    .dataframe tbody tr th:only-of-type {\n",
       "        vertical-align: middle;\n",
       "    }\n",
       "\n",
       "    .dataframe tbody tr th {\n",
       "        vertical-align: top;\n",
       "    }\n",
       "\n",
       "    .dataframe thead th {\n",
       "        text-align: right;\n",
       "    }\n",
       "</style>\n",
       "<table border=\"1\" class=\"dataframe\">\n",
       "  <thead>\n",
       "    <tr style=\"text-align: right;\">\n",
       "      <th></th>\n",
       "      <th>count</th>\n",
       "    </tr>\n",
       "  </thead>\n",
       "  <tbody>\n",
       "    <tr>\n",
       "      <th>0</th>\n",
       "      <td>0</td>\n",
       "    </tr>\n",
       "  </tbody>\n",
       "</table>\n",
       "</div>"
      ],
      "text/plain": [
       "   count\n",
       "0      0"
      ]
     },
     "execution_count": 2,
     "metadata": {},
     "output_type": "execute_result"
    }
   ],
   "source": [
    "adopt_case_data_v3_count = \"SELECT count(*) as count from __temp__.adopt_case_data_v3\"\n",
    "pydb.read_sql_query(adopt_case_data_v3_count)"
   ]
  },
  {
   "cell_type": "markdown",
   "metadata": {},
   "source": [
    "## 9. Applicant_Info table - joins the roles, parties and address tables for applicants to get information on the applicants\n",
    "<a name=\"Applicant_Info\"></a>"
   ]
  },
  {
   "cell_type": "markdown",
   "metadata": {},
   "source": [
    "### Drop the Applicant_Info table if it already exists and remove its data from the S3 bucket"
   ]
  },
  {
   "cell_type": "code",
   "execution_count": 228,
   "metadata": {},
   "outputs": [],
   "source": [
    "drop_Adopt_Applicant_Info = f\"\"\"\n",
    "DROP TABLE IF EXISTS fcsq.Adopt_Applicant_Info;\n",
    "\"\"\"\n",
    "pydb.start_query_execution_and_wait(drop_Adopt_Applicant_Info)\n",
    "\n",
    "# clean up previous Adopt_Applicant_Info files\n",
    "bucket.objects.filter(Prefix=\"fcsq_processing/Adoption/Adopt_Applicant_Info/\").delete();"
   ]
  },
  {
   "cell_type": "markdown",
   "metadata": {},
   "source": [
    "### Create the Applicant_Info table in Athena"
   ]
  },
  {
   "cell_type": "code",
   "execution_count": 229,
   "metadata": {},
   "outputs": [],
   "source": [
    "create_Adopt_Applicant_Info = f\"\"\"\n",
    "CREATE TABLE IF NOT EXISTS fcsq.Adopt_Applicant_Info\n",
    "WITH (format = 'PARQUET', external_location = 's3://alpha-family-data/fcsq_processing/Adoption/Adopt_Applicant_Info') AS\n",
    " SELECT DISTINCT\n",
    "   {database}.roles.ROLE, \n",
    "   {database}.roles.REPRESENTATIVE_ROLE, \n",
    "   {database}.roles.ROLE_MODEL, \n",
    "   {database}.roles.PARTY, \n",
    "   {database}.roles.CASE_NUMBER, \n",
    "   {database}.parties.PERSON_GIVEN_FIRST_NAME, \n",
    "   {database}.parties.PERSON_FAMILY_NAME, \n",
    "   {database}.parties.COMPANY, \n",
    "   {database}.addresses.POSTCODE, \n",
    "   {database}.parties.GENDER, \n",
    "   {database}.roles.DELETE_FLAG\n",
    "FROM \n",
    "  ({database}.roles INNER JOIN {database}.parties ON {database}.roles.PARTY = {database}.parties.PARTY) \n",
    "  INNER JOIN {database}.addresses ON {database}.roles.ADDRESS = {database}.addresses.ADDRESS\n",
    "WHERE \n",
    "    (((({database}.roles.ROLE_MODEL)= 'APLZ') AND (({database}.roles.DELETE_FLAG)= 'N')) \n",
    "    OR ((({database}.roles.ROLE_MODEL)= 'APLA') AND (({database}.roles.DELETE_FLAG)= 'N')))\n",
    "    AND {database}.roles.mojap_snapshot_date = date '{snapshot_date}'\n",
    "    AND {database}.parties.mojap_snapshot_date = date '{snapshot_date}'\n",
    "    AND {database}.addresses.mojap_snapshot_date = date '{snapshot_date}';\n",
    "\"\"\"\n",
    "\n",
    "pydb.start_query_execution_and_wait(create_Adopt_Applicant_Info);\n",
    "\n"
   ]
  },
  {
   "cell_type": "code",
   "execution_count": 230,
   "metadata": {},
   "outputs": [
    {
     "data": {
      "text/html": [
       "<div>\n",
       "<style scoped>\n",
       "    .dataframe tbody tr th:only-of-type {\n",
       "        vertical-align: middle;\n",
       "    }\n",
       "\n",
       "    .dataframe tbody tr th {\n",
       "        vertical-align: top;\n",
       "    }\n",
       "\n",
       "    .dataframe thead th {\n",
       "        text-align: right;\n",
       "    }\n",
       "</style>\n",
       "<table border=\"1\" class=\"dataframe\">\n",
       "  <thead>\n",
       "    <tr style=\"text-align: right;\">\n",
       "      <th></th>\n",
       "      <th>role</th>\n",
       "      <th>representative_role</th>\n",
       "      <th>role_model</th>\n",
       "      <th>party</th>\n",
       "      <th>case_number</th>\n",
       "      <th>person_given_first_name</th>\n",
       "      <th>person_family_name</th>\n",
       "      <th>company</th>\n",
       "      <th>postcode</th>\n",
       "      <th>gender</th>\n",
       "      <th>delete_flag</th>\n",
       "    </tr>\n",
       "  </thead>\n",
       "  <tbody>\n",
       "    <tr>\n",
       "      <th>0</th>\n",
       "      <td>10712248</td>\n",
       "      <td>&lt;NA&gt;</td>\n",
       "      <td>APLZ</td>\n",
       "      <td>8748181</td>\n",
       "      <td>NE19Z02909</td>\n",
       "      <td>Christopher Martyn</td>\n",
       "      <td>Urwin</td>\n",
       "      <td>&lt;NA&gt;</td>\n",
       "      <td>&lt;NA&gt;</td>\n",
       "      <td>1</td>\n",
       "      <td>N</td>\n",
       "    </tr>\n",
       "  </tbody>\n",
       "</table>\n",
       "</div>"
      ],
      "text/plain": [
       "       role  representative_role role_model    party case_number person_given_first_name person_family_name company postcode  gender delete_flag\n",
       "0  10712248                 <NA>       APLZ  8748181  NE19Z02909      Christopher Martyn              Urwin    <NA>     <NA>       1           N"
      ]
     },
     "execution_count": 230,
     "metadata": {},
     "output_type": "execute_result"
    }
   ],
   "source": [
    "pydb.read_sql_query(\"SELECT * from fcsq.adopt_applicant_info where case_number='NE19Z02909'\")"
   ]
  },
  {
   "cell_type": "markdown",
   "metadata": {},
   "source": [
    "#### Applicant_Info validation"
   ]
  },
  {
   "cell_type": "code",
   "execution_count": 231,
   "metadata": {},
   "outputs": [
    {
     "data": {
      "text/html": [
       "<div>\n",
       "<style scoped>\n",
       "    .dataframe tbody tr th:only-of-type {\n",
       "        vertical-align: middle;\n",
       "    }\n",
       "\n",
       "    .dataframe tbody tr th {\n",
       "        vertical-align: top;\n",
       "    }\n",
       "\n",
       "    .dataframe thead th {\n",
       "        text-align: right;\n",
       "    }\n",
       "</style>\n",
       "<table border=\"1\" class=\"dataframe\">\n",
       "  <thead>\n",
       "    <tr style=\"text-align: right;\">\n",
       "      <th></th>\n",
       "      <th>count</th>\n",
       "    </tr>\n",
       "  </thead>\n",
       "  <tbody>\n",
       "    <tr>\n",
       "      <th>0</th>\n",
       "      <td>252806</td>\n",
       "    </tr>\n",
       "  </tbody>\n",
       "</table>\n",
       "</div>"
      ],
      "text/plain": [
       "    count\n",
       "0  252806"
      ]
     },
     "execution_count": 231,
     "metadata": {},
     "output_type": "execute_result"
    }
   ],
   "source": [
    "Adopt_Applicant_Info_count = pydb.read_sql_query(\"select count(*) as count from fcsq.Adopt_Applicant_Info\")\n",
    "Adopt_Applicant_Info_count"
   ]
  },
  {
   "cell_type": "code",
   "execution_count": 232,
   "metadata": {},
   "outputs": [
    {
     "data": {
      "text/html": [
       "<div>\n",
       "<style scoped>\n",
       "    .dataframe tbody tr th:only-of-type {\n",
       "        vertical-align: middle;\n",
       "    }\n",
       "\n",
       "    .dataframe tbody tr th {\n",
       "        vertical-align: top;\n",
       "    }\n",
       "\n",
       "    .dataframe thead th {\n",
       "        text-align: right;\n",
       "    }\n",
       "</style>\n",
       "<table border=\"1\" class=\"dataframe\">\n",
       "  <thead>\n",
       "    <tr style=\"text-align: right;\">\n",
       "      <th></th>\n",
       "      <th>role</th>\n",
       "      <th>representative_role</th>\n",
       "      <th>role_model</th>\n",
       "      <th>party</th>\n",
       "      <th>case_number</th>\n",
       "      <th>person_given_first_name</th>\n",
       "      <th>person_family_name</th>\n",
       "      <th>company</th>\n",
       "      <th>postcode</th>\n",
       "      <th>gender</th>\n",
       "      <th>delete_flag</th>\n",
       "    </tr>\n",
       "  </thead>\n",
       "  <tbody>\n",
       "    <tr>\n",
       "      <th>0</th>\n",
       "      <td>3232792</td>\n",
       "      <td>3437788</td>\n",
       "      <td>APLZ</td>\n",
       "      <td>2735994</td>\n",
       "      <td>HB12Z00228</td>\n",
       "      <td>Beverley Paula</td>\n",
       "      <td>Pierre</td>\n",
       "      <td>&lt;NA&gt;</td>\n",
       "      <td>CR2 9BA</td>\n",
       "      <td>2</td>\n",
       "      <td>N</td>\n",
       "    </tr>\n",
       "    <tr>\n",
       "      <th>1</th>\n",
       "      <td>3232791</td>\n",
       "      <td>3437788</td>\n",
       "      <td>APLZ</td>\n",
       "      <td>2736019</td>\n",
       "      <td>HB12Z00228</td>\n",
       "      <td>Donald Garfield</td>\n",
       "      <td>Finnikin And B Pierre</td>\n",
       "      <td>&lt;NA&gt;</td>\n",
       "      <td>CR2 9BA</td>\n",
       "      <td>1</td>\n",
       "      <td>N</td>\n",
       "    </tr>\n",
       "  </tbody>\n",
       "</table>\n",
       "</div>"
      ],
      "text/plain": [
       "      role  representative_role role_model    party case_number person_given_first_name     person_family_name company postcode  gender delete_flag\n",
       "0  3232792              3437788       APLZ  2735994  HB12Z00228          Beverley Paula                 Pierre    <NA>  CR2 9BA       2           N\n",
       "1  3232791              3437788       APLZ  2736019  HB12Z00228         Donald Garfield  Finnikin And B Pierre    <NA>  CR2 9BA       1           N"
      ]
     },
     "execution_count": 232,
     "metadata": {},
     "output_type": "execute_result"
    }
   ],
   "source": [
    "pydb.read_sql_query(\"select * from fcsq.adopt_applicant_info where case_number='HB12Z00228'\")"
   ]
  },
  {
   "cell_type": "markdown",
   "metadata": {},
   "source": [
    "## 10. adopt_respondent_info table - joins the roles, parties and address tables for respondents to get information on the respondents\n",
    "<a name=\"adopt_respondent_info\"></a>"
   ]
  },
  {
   "cell_type": "markdown",
   "metadata": {},
   "source": [
    "### Drop the adopt_respondent_info table if it already exists and remove its data from the S3 bucket"
   ]
  },
  {
   "cell_type": "code",
   "execution_count": 233,
   "metadata": {
    "scrolled": true
   },
   "outputs": [],
   "source": [
    "drop_adopt_respondent_info = f\"\"\"\n",
    "DROP TABLE IF EXISTS fcsq.adopt_respondent_info;\n",
    "\"\"\"\n",
    "pydb.start_query_execution_and_wait(drop_adopt_respondent_info)\n",
    "\n",
    "# clean up previous adopt_respondent_info files\n",
    "bucket.objects.filter(Prefix=\"fcsq_processing/Adoption/adopt_respondent_info/\").delete();"
   ]
  },
  {
   "cell_type": "markdown",
   "metadata": {},
   "source": [
    "### Create the adopt_respondent_info table in Athena"
   ]
  },
  {
   "cell_type": "code",
   "execution_count": 234,
   "metadata": {
    "scrolled": true
   },
   "outputs": [],
   "source": [
    "create_adopt_respondent_info = f\"\"\"\n",
    "CREATE TABLE IF NOT EXISTS fcsq.adopt_respondent_info\n",
    "WITH (format = 'PARQUET', external_location = 's3://alpha-family-data/fcsq_processing/Adoption/adopt_respondent_info') AS\n",
    "SELECT DISTINCT\n",
    "  {database}.roles.ROLE, \n",
    "  {database}.roles.REPRESENTATIVE_ROLE, \n",
    "  {database}.roles.ROLE_MODEL, \n",
    "  {database}.roles.PARTY, \n",
    "  {database}.roles.CASE_NUMBER, \n",
    "  {database}.parties.GENDER, \n",
    "  {database}.addresses.POSTCODE, \n",
    "  {database}.roles.DELETE_FLAG\n",
    "FROM \n",
    "  ({database}.roles INNER JOIN {database}.parties ON {database}.roles.PARTY = {database}.parties.PARTY) \n",
    "    LEFT JOIN {database}.addresses ON {database}.roles.ADDRESS = {database}.addresses.ADDRESS\n",
    "WHERE \n",
    "    (((({database}.roles.ROLE_MODEL)='RSPA') AND (({database}.roles.DELETE_FLAG)='N')) \n",
    "    OR ((({database}.roles.ROLE_MODEL)='RSPZ') AND (({database}.roles.DELETE_FLAG)='N')))\n",
    "    AND {database}.roles.mojap_snapshot_date = date '{snapshot_date}'\n",
    "    AND {database}.parties.mojap_snapshot_date = date '{snapshot_date}'\n",
    "    AND {database}.addresses.mojap_snapshot_date = date '{snapshot_date}';\n",
    "\"\"\"\n",
    "\n",
    "pydb.start_query_execution_and_wait(create_adopt_respondent_info);\n",
    "\n"
   ]
  },
  {
   "cell_type": "markdown",
   "metadata": {},
   "source": [
    "#### adopt_respondent_info validation"
   ]
  },
  {
   "cell_type": "code",
   "execution_count": 235,
   "metadata": {},
   "outputs": [
    {
     "data": {
      "text/html": [
       "<div>\n",
       "<style scoped>\n",
       "    .dataframe tbody tr th:only-of-type {\n",
       "        vertical-align: middle;\n",
       "    }\n",
       "\n",
       "    .dataframe tbody tr th {\n",
       "        vertical-align: top;\n",
       "    }\n",
       "\n",
       "    .dataframe thead th {\n",
       "        text-align: right;\n",
       "    }\n",
       "</style>\n",
       "<table border=\"1\" class=\"dataframe\">\n",
       "  <thead>\n",
       "    <tr style=\"text-align: right;\">\n",
       "      <th></th>\n",
       "      <th>count</th>\n",
       "    </tr>\n",
       "  </thead>\n",
       "  <tbody>\n",
       "    <tr>\n",
       "      <th>0</th>\n",
       "      <td>298261</td>\n",
       "    </tr>\n",
       "  </tbody>\n",
       "</table>\n",
       "</div>"
      ],
      "text/plain": [
       "    count\n",
       "0  298261"
      ]
     },
     "execution_count": 235,
     "metadata": {},
     "output_type": "execute_result"
    }
   ],
   "source": [
    "adopt_respondent_info_count = pydb.read_sql_query(\"select count(*) as count from fcsq.adopt_respondent_info\")\n",
    "adopt_respondent_info_count"
   ]
  },
  {
   "cell_type": "code",
   "execution_count": 236,
   "metadata": {},
   "outputs": [
    {
     "data": {
      "text/html": [
       "<div>\n",
       "<style scoped>\n",
       "    .dataframe tbody tr th:only-of-type {\n",
       "        vertical-align: middle;\n",
       "    }\n",
       "\n",
       "    .dataframe tbody tr th {\n",
       "        vertical-align: top;\n",
       "    }\n",
       "\n",
       "    .dataframe thead th {\n",
       "        text-align: right;\n",
       "    }\n",
       "</style>\n",
       "<table border=\"1\" class=\"dataframe\">\n",
       "  <thead>\n",
       "    <tr style=\"text-align: right;\">\n",
       "      <th></th>\n",
       "      <th>role</th>\n",
       "      <th>representative_role</th>\n",
       "      <th>role_model</th>\n",
       "      <th>party</th>\n",
       "      <th>case_number</th>\n",
       "      <th>gender</th>\n",
       "      <th>postcode</th>\n",
       "      <th>delete_flag</th>\n",
       "    </tr>\n",
       "  </thead>\n",
       "  <tbody>\n",
       "    <tr>\n",
       "      <th>0</th>\n",
       "      <td>3232794</td>\n",
       "      <td>&lt;NA&gt;</td>\n",
       "      <td>RSPZ</td>\n",
       "      <td>2736020</td>\n",
       "      <td>HB12Z00228</td>\n",
       "      <td>2</td>\n",
       "      <td>CR7 8JF</td>\n",
       "      <td>N</td>\n",
       "    </tr>\n",
       "    <tr>\n",
       "      <th>1</th>\n",
       "      <td>3232774</td>\n",
       "      <td>3606633</td>\n",
       "      <td>RSPZ</td>\n",
       "      <td>2736056</td>\n",
       "      <td>HB12Z00228</td>\n",
       "      <td>1</td>\n",
       "      <td>CR7 8JF</td>\n",
       "      <td>N</td>\n",
       "    </tr>\n",
       "  </tbody>\n",
       "</table>\n",
       "</div>"
      ],
      "text/plain": [
       "      role  representative_role role_model    party case_number  gender postcode delete_flag\n",
       "0  3232794                 <NA>       RSPZ  2736020  HB12Z00228       2  CR7 8JF           N\n",
       "1  3232774              3606633       RSPZ  2736056  HB12Z00228       1  CR7 8JF           N"
      ]
     },
     "execution_count": 236,
     "metadata": {},
     "output_type": "execute_result"
    }
   ],
   "source": [
    "pydb.read_sql_query(\"select * from fcsq.adopt_respondent_info where case_number='HB12Z00228'\")"
   ]
  },
  {
   "cell_type": "markdown",
   "metadata": {},
   "source": [
    "## 11. applicants 3 table - takes the adopt_applicant_info table and reformats it, decoding gender and representative role values into strings\n",
    "<a name=\"applicants_3\"></a>"
   ]
  },
  {
   "cell_type": "code",
   "execution_count": 237,
   "metadata": {},
   "outputs": [],
   "source": [
    "create_adopt_applicants_1 = f\"\"\"\n",
    "SELECT T1.role,\n",
    "    T1.representative_role,\n",
    "    T1.role_model,\n",
    "    T1.party,\n",
    "    T1.case_number,\n",
    "    T1.gender,\n",
    "    case when cast(gender as varchar(1)) = '1' then 'Male'\n",
    "    when cast(gender as varchar(1)) = '2' then 'Female'\n",
    "    else 'Unknown' end as Gender_Decode\n",
    "\n",
    "    FROM fcsq.adopt_applicant_info AS t1\n",
    "    ORDER BY t1.Case_Number;\n",
    "\"\"\"\n",
    "\n",
    "pydb.create_temp_table(create_adopt_applicants_1,'adopt_applicants_1')\n",
    "\n",
    "\n",
    "\n",
    "create_adopt_applicants_2 = f\"\"\"\n",
    "SELECT DISTINCT \n",
    "    T1.case_number,\n",
    "    T1.party,\n",
    "    max(T1.representative_role) as Rep_Role,\n",
    "    max(T1.gender_decode) as Gender_Max\n",
    "    from __temp__.adopt_applicants_1 AS t1\n",
    "    group by Case_number, party;\n",
    "\"\"\"\n",
    "\n",
    "pydb.create_temp_table(create_adopt_applicants_2,'adopt_applicants_2')\n",
    "\n",
    "\n",
    "create_adopt_applicants_3= f\"\"\"\n",
    "SELECT t1.case_number,\n",
    "    t1.party as App_Party_ID,\n",
    "    t1.Rep_Role,\n",
    "    t1.Gender_Max,\n",
    "    case when t1.Rep_Role IS NULL then 'N'\n",
    "    when t1.Rep_Role IS NOT NULL then 'Y'\n",
    "    End as REPRESENTATION,\n",
    "    case when Rep_Role IS NULL AND Gender_Max = 'Female' then 'Unrep_Female'\n",
    "    when Rep_Role IS NULL AND Gender_Max = 'Male' then 'Unrep_Male'\n",
    "    when Rep_Role IS NULL AND Gender_Max = 'Unknown' then 'Unrep_Unknown'\n",
    "    when Rep_Role IS NOT NULL AND Gender_Max = 'Female' then 'Rep_Female'\n",
    "    when Rep_Role IS NOT NULL AND Gender_Max = 'Male' then 'Rep_Male'\n",
    "    when Rep_Role IS NOT NULL AND Gender_Max = 'Unknown' then 'Rep_Unknown'\n",
    "    else '' end as App_Rep_Cat\n",
    "    \n",
    "    from __temp__.adopt_applicants_2 AS t1;\n",
    "\n",
    "\n",
    "\"\"\"\n",
    "\n",
    "pydb.create_temp_table(create_adopt_applicants_3,'adopt_applicants_3')\n"
   ]
  },
  {
   "cell_type": "markdown",
   "metadata": {},
   "source": [
    "## 12. Adopt_respondents temporary tables - takes the adopt_respondent_info table and reformats it, decoding gender and representative role values into strings\n",
    "<a name=\"Adopt_respondents_temp\"></a>"
   ]
  },
  {
   "cell_type": "code",
   "execution_count": 238,
   "metadata": {},
   "outputs": [],
   "source": [
    "create_adopt_respondents_1 = f\"\"\"\n",
    "SELECT T1.role,\n",
    "    T1.representative_role,\n",
    "    T1.role_model,\n",
    "    T1.party,\n",
    "    T1.case_number,\n",
    "    T1.gender,\n",
    "    case when cast(gender as varchar(1)) = '1' then 'Male'\n",
    "    when cast(gender as varchar(1)) = '2' then 'Female'\n",
    "    else 'Unknown' end as Gender_Decode\n",
    "\n",
    "    FROM fcsq.adopt_respondent_info AS t1\n",
    "    ORDER BY t1.Case_Number;\n",
    "\"\"\"\n",
    "#pydb.start_query_execution_and_wait(create_adopt_respondents_1)\n",
    "pydb.create_temp_table(create_adopt_respondents_1,'adopt_respondents_1')\n",
    "\n",
    "\n",
    "\n",
    "create_adopt_respondents_2 = f\"\"\"\n",
    "    SELECT DISTINCT T1.case_number,\n",
    "        T1.party,\n",
    "        max(T1.representative_role) as Rep_Role,\n",
    "        max(T1.gender_decode) as Gender_Max\n",
    "    from __temp__.adopt_respondents_1 AS t1\n",
    "    group by Case_number, party;\n",
    "\"\"\"\n",
    "\n",
    "pydb.create_temp_table(create_adopt_respondents_2,'adopt_respondents_2')\n",
    "#pydb.start_query_execution_and_wait(create_adopt_respondents_2)\n",
    "\n",
    "\n",
    "create_adopt_respondents_3= f\"\"\"\n",
    "SELECT t1.case_number,\n",
    "    t1.party as Resp_Party_ID,\n",
    "    t1.Rep_Role,\n",
    "    t1.Gender_Max,\n",
    "    case when t1.Rep_Role IS NULL then 'N'\n",
    "    when t1.Rep_Role IS NOT NULL then 'Y'\n",
    "    End as REPRESENTATION,\n",
    "    case when Rep_Role IS NULL AND Gender_Max = 'Female' then 'Unrep_Female'\n",
    "    when Rep_Role IS NULL AND Gender_Max = 'Male' then 'Unrep_Male'\n",
    "    when Rep_Role IS NULL AND Gender_Max = 'Unknown' then 'Unrep_Unknown'\n",
    "    when Rep_Role IS NOT NULL AND Gender_Max = 'Female' then 'Rep_Female'\n",
    "    when Rep_Role IS NOT NULL AND Gender_Max = 'Male' then 'Rep_Male'\n",
    "    when Rep_Role IS NOT NULL AND Gender_Max = 'Unknown' then 'Rep_Unknown'\n",
    "    else '' end as Resp_Rep_Cat\n",
    "    \n",
    "    from __temp__.adopt_respondents_2 AS t1;\n",
    "\n",
    "\n",
    "\"\"\"\n",
    "#pydb.start_query_execution_and_wait(create_adopt_respondents_3)\n",
    "pydb.create_temp_table(create_adopt_respondents_3,'adopt_respondents_3')"
   ]
  },
  {
   "cell_type": "markdown",
   "metadata": {},
   "source": [
    "## 13. Create adopt_app_rep table - joins the case data with the applicant representation data \n",
    "<a name=\"adopt_app_rep\"></a>"
   ]
  },
  {
   "cell_type": "code",
   "execution_count": 239,
   "metadata": {},
   "outputs": [],
   "source": [
    "adopt_app_rep_final = f\"\"\"\n",
    "SELECT t1.YEAR, \n",
    "    t1.QUARTER,\n",
    "    t1.CASE_NUMBER, \n",
    "    t1.Court,\n",
    "    t2.App_Party_ID,\n",
    "    t2.Representation,\n",
    "    t2.Gender_Max as App_Gender,\n",
    "    t2.App_Rep_Cat          \n",
    "FROM __temp__.ADOPT_CASE_DATA_v3 t1\n",
    "    LEFT JOIN __temp__.ADOPT_APPLICANTS_3 t2 ON (t1.CASE_NUMBER = t2.CASE_NUMBER);\n",
    "\n",
    "\"\"\"\n",
    "\n",
    "pydb.create_temp_table(adopt_app_rep_final,'adopt_app_rep_final')\n"
   ]
  },
  {
   "cell_type": "code",
   "execution_count": 241,
   "metadata": {},
   "outputs": [
    {
     "data": {
      "text/html": [
       "<div>\n",
       "<style scoped>\n",
       "    .dataframe tbody tr th:only-of-type {\n",
       "        vertical-align: middle;\n",
       "    }\n",
       "\n",
       "    .dataframe tbody tr th {\n",
       "        vertical-align: top;\n",
       "    }\n",
       "\n",
       "    .dataframe thead th {\n",
       "        text-align: right;\n",
       "    }\n",
       "</style>\n",
       "<table border=\"1\" class=\"dataframe\">\n",
       "  <thead>\n",
       "    <tr style=\"text-align: right;\">\n",
       "      <th></th>\n",
       "      <th>count</th>\n",
       "    </tr>\n",
       "  </thead>\n",
       "  <tbody>\n",
       "    <tr>\n",
       "      <th>0</th>\n",
       "      <td>107706</td>\n",
       "    </tr>\n",
       "  </tbody>\n",
       "</table>\n",
       "</div>"
      ],
      "text/plain": [
       "    count\n",
       "0  107706"
      ]
     },
     "execution_count": 241,
     "metadata": {},
     "output_type": "execute_result"
    }
   ],
   "source": [
    "adopt_app_rep_final_check = \"SELECT COUNT(*) as Count from __temp__.adopt_app_rep_final\"\n",
    "pydb.read_sql_query(adopt_app_rep_final_check)"
   ]
  },
  {
   "cell_type": "markdown",
   "metadata": {},
   "source": [
    "## 14. Create adopt_resp_rep table - joins the case data with the respondent representation data\n",
    "<a name=\"Adopt_resp_rep\"></a>"
   ]
  },
  {
   "cell_type": "code",
   "execution_count": 242,
   "metadata": {},
   "outputs": [],
   "source": [
    "adopt_resp_rep_final = f\"\"\"\n",
    "   SELECT t1.YEAR, \n",
    "        t1.QUARTER,\n",
    "        t1.CASE_NUMBER, \n",
    "        t1.Court,\n",
    "          t2.Resp_Party_ID,\n",
    "          t2.Representation,\n",
    "          t2.Gender_Max as Resp_Gender,\n",
    "          t2.Resp_Rep_Cat\n",
    "          \n",
    "      FROM __temp__.ADOPT_CASE_DATA_v3 t1\n",
    "           LEFT JOIN __temp__.ADOPT_RESPONDENTS_3 t2 ON (t1.CASE_NUMBER = t2.CASE_NUMBER);\n",
    "\"\"\"\n",
    "\n",
    "pydb.create_temp_table(adopt_resp_rep_final,'adopt_resp_rep_final')"
   ]
  },
  {
   "cell_type": "code",
   "execution_count": 243,
   "metadata": {},
   "outputs": [
    {
     "data": {
      "text/html": [
       "<div>\n",
       "<style scoped>\n",
       "    .dataframe tbody tr th:only-of-type {\n",
       "        vertical-align: middle;\n",
       "    }\n",
       "\n",
       "    .dataframe tbody tr th {\n",
       "        vertical-align: top;\n",
       "    }\n",
       "\n",
       "    .dataframe thead th {\n",
       "        text-align: right;\n",
       "    }\n",
       "</style>\n",
       "<table border=\"1\" class=\"dataframe\">\n",
       "  <thead>\n",
       "    <tr style=\"text-align: right;\">\n",
       "      <th></th>\n",
       "      <th>count</th>\n",
       "    </tr>\n",
       "  </thead>\n",
       "  <tbody>\n",
       "    <tr>\n",
       "      <th>0</th>\n",
       "      <td>107059</td>\n",
       "    </tr>\n",
       "  </tbody>\n",
       "</table>\n",
       "</div>"
      ],
      "text/plain": [
       "    count\n",
       "0  107059"
      ]
     },
     "execution_count": 243,
     "metadata": {},
     "output_type": "execute_result"
    }
   ],
   "source": [
    "adopt_resp_rep_final_check = \"SELECT COUNT(*) as Count from __temp__.adopt_resp_rep_final\"\n",
    "pydb.read_sql_query(adopt_resp_rep_final_check)"
   ]
  },
  {
   "cell_type": "markdown",
   "metadata": {},
   "source": [
    "## 15. Adopt_Hearing_Events table - takes the adoption hearing events from the hearings table and joins it with the events table data \n",
    "<a name=\"Adopt_Hearing_Events\"></a>"
   ]
  },
  {
   "cell_type": "markdown",
   "metadata": {},
   "source": [
    "### Drop the Adopt_Hearing_Events table if it already exists and remove its data from the S3 bucket"
   ]
  },
  {
   "cell_type": "code",
   "execution_count": 245,
   "metadata": {
    "scrolled": true
   },
   "outputs": [],
   "source": [
    "drop_Adopt_Hearing_Events = f\"\"\"\n",
    "DROP TABLE IF EXISTS fcsq.Adopt_Hearing_Events;\n",
    "\"\"\"\n",
    "pydb.start_query_execution_and_wait(drop_Adopt_Hearing_Events)\n",
    "\n",
    "# clean up previous Adopt_Hearing_Events files\n",
    "bucket.objects.filter(Prefix=\"fcsq_processing/Adoption/Adopt_Hearing_Events/\").delete();"
   ]
  },
  {
   "cell_type": "markdown",
   "metadata": {},
   "source": [
    "### Create the Adopt_Hearing_Events table in Athena"
   ]
  },
  {
   "cell_type": "code",
   "execution_count": 246,
   "metadata": {},
   "outputs": [],
   "source": [
    "create_Adopt_Hearing_Events = f\"\"\"\n",
    "CREATE TABLE IF NOT EXISTS fcsq.Adopt_Hearing_Events\n",
    "WITH (format = 'PARQUET', external_location = 's3://alpha-family-data/fcsq_processing/Adoption/Adopt_Hearing_Events') AS\n",
    "SELECT {database}.hearings.EVENT,\n",
    "  {database}.hearings.VACATED_FLAG,\n",
    "  {database}.hearings.HEARING_TYPE,\n",
    "  {database}.hearings.HEARING_DATE,\n",
    "  {database}.events.RECEIPT_DATE,\n",
    "  {database}.events.ERROR,\n",
    "  {database}.events.CASE_NUMBER,\n",
    "  {database}.events.EVENT_MODEL\n",
    "FROM {database}.hearings\n",
    "INNER JOIN {database}.events\n",
    "ON {database}.hearings.EVENT            = {database}.events.EVENT\n",
    "WHERE {database}.hearings.VACATED_FLAG IS NULL\n",
    "AND {database}.events.ERROR             = 'N'\n",
    "AND HEARING_DATE > date_parse('31-12-2009 00:00:00', '%d-%m-%Y %H:%i:%s')\n",
    "AND (substring(case_number,5,1)='A' OR substring(case_number,5,1)='Z')\n",
    "AND {database}.hearings.mojap_snapshot_date = date '{snapshot_date}' and {database}.events.mojap_snapshot_date = date '{snapshot_date}';\n",
    "\"\"\"\n",
    "\n",
    "pydb.start_query_execution_and_wait(create_Adopt_Hearing_Events);\n",
    "\n"
   ]
  },
  {
   "cell_type": "markdown",
   "metadata": {},
   "source": [
    "#### Adopt_Hearing_Events validation"
   ]
  },
  {
   "cell_type": "code",
   "execution_count": 247,
   "metadata": {},
   "outputs": [
    {
     "data": {
      "text/html": [
       "<div>\n",
       "<style scoped>\n",
       "    .dataframe tbody tr th:only-of-type {\n",
       "        vertical-align: middle;\n",
       "    }\n",
       "\n",
       "    .dataframe tbody tr th {\n",
       "        vertical-align: top;\n",
       "    }\n",
       "\n",
       "    .dataframe thead th {\n",
       "        text-align: right;\n",
       "    }\n",
       "</style>\n",
       "<table border=\"1\" class=\"dataframe\">\n",
       "  <thead>\n",
       "    <tr style=\"text-align: right;\">\n",
       "      <th></th>\n",
       "      <th>count</th>\n",
       "    </tr>\n",
       "  </thead>\n",
       "  <tbody>\n",
       "    <tr>\n",
       "      <th>0</th>\n",
       "      <td>535689</td>\n",
       "    </tr>\n",
       "  </tbody>\n",
       "</table>\n",
       "</div>"
      ],
      "text/plain": [
       "    count\n",
       "0  535689"
      ]
     },
     "execution_count": 247,
     "metadata": {},
     "output_type": "execute_result"
    }
   ],
   "source": [
    "Adopt_Hearing_Events_count = pydb.read_sql_query(\"select count(*) as count from fcsq.Adopt_Hearing_Events\")\n",
    "Adopt_Hearing_Events_count"
   ]
  },
  {
   "cell_type": "markdown",
   "metadata": {},
   "source": [
    "## 16. Adopt_Hearings_Cases table - takes the hearing events, filters by adoption event codes and adds a flag whether the hearing is the first in the case\n",
    "<a name=\"Adopt_Hearings_Cases\"></a>"
   ]
  },
  {
   "cell_type": "markdown",
   "metadata": {},
   "source": [
    "### Drop the Adopt_Hearings_Cases table if it already exists and remove its data from the S3 bucket"
   ]
  },
  {
   "cell_type": "code",
   "execution_count": 248,
   "metadata": {
    "scrolled": true
   },
   "outputs": [],
   "source": [
    "drop_Adopt_Hearings_Cases = f\"\"\"\n",
    "DROP TABLE IF EXISTS fcsq.Adopt_Hearings_Cases;\n",
    "\"\"\"\n",
    "pydb.start_query_execution_and_wait(drop_Adopt_Hearings_Cases)\n",
    "\n",
    "# clean up previous Adopt_Hearings_Cases files\n",
    "bucket.objects.filter(Prefix=\"fcsq_processing/Adoption/Adopt_Hearings_Cases/\").delete();"
   ]
  },
  {
   "cell_type": "markdown",
   "metadata": {},
   "source": [
    "### Create the Adopt_Hearings_Cases table in Athena"
   ]
  },
  {
   "cell_type": "code",
   "execution_count": 249,
   "metadata": {},
   "outputs": [],
   "source": [
    "\"\"\"\n",
    "Equivalent to Hearings_Adopt_V3\n",
    "\"\"\"\n",
    "\n",
    "create_Adopt_Hearings_Cases = f\"\"\"\n",
    "CREATE TABLE IF NOT EXISTS fcsq.Adopt_Hearings_Cases\n",
    "WITH (format = 'PARQUET', external_location = 's3://alpha-family-data/fcsq_processing/Adoption/Adopt_Hearings_Cases') AS\n",
    "select t1.case_number,\n",
    "    t1.error,\n",
    "    t1.event,\n",
    "    t1.event_model,\n",
    "    t1.hearing_date,\n",
    "    t1.hearing_type,\n",
    "    t1.receipt_date,\n",
    "    t1.vacated_flag,\n",
    "    substring(Case_Number,5,1) AS Case_Type\n",
    "    from fcsq.Adopt_Hearing_Events AS t1\n",
    "    where t1.event_model in ('A8', 'A90', 'A91', 'G60')\n",
    "    order by t1.case_number, t1.receipt_date;\n",
    "\"\"\"\n",
    "\n",
    "pydb.start_query_execution_and_wait(create_Adopt_Hearings_Cases)\n",
    "\n",
    "create_Adopt_Hearings_Cases_v2 = f\"\"\"\n",
    "SELECT *,\n",
    "(case when row_number() over (partition by Case_Number order by receipt_date) = 1 then 1 else 0 end) as Case_Number_ID\n",
    "FROM fcsq.Adopt_Hearings_Cases\n",
    "\"\"\"\n",
    "\n",
    "pydb.create_temp_table(create_Adopt_Hearings_Cases_v2,'adopt_hearings_cases_v2')\n",
    "\n"
   ]
  },
  {
   "cell_type": "markdown",
   "metadata": {},
   "source": [
    "#### Adopt_Hearings_Cases validation"
   ]
  },
  {
   "cell_type": "code",
   "execution_count": 250,
   "metadata": {},
   "outputs": [
    {
     "data": {
      "text/html": [
       "<div>\n",
       "<style scoped>\n",
       "    .dataframe tbody tr th:only-of-type {\n",
       "        vertical-align: middle;\n",
       "    }\n",
       "\n",
       "    .dataframe tbody tr th {\n",
       "        vertical-align: top;\n",
       "    }\n",
       "\n",
       "    .dataframe thead th {\n",
       "        text-align: right;\n",
       "    }\n",
       "</style>\n",
       "<table border=\"1\" class=\"dataframe\">\n",
       "  <thead>\n",
       "    <tr style=\"text-align: right;\">\n",
       "      <th></th>\n",
       "      <th>count</th>\n",
       "    </tr>\n",
       "  </thead>\n",
       "  <tbody>\n",
       "    <tr>\n",
       "      <th>0</th>\n",
       "      <td>340760</td>\n",
       "    </tr>\n",
       "  </tbody>\n",
       "</table>\n",
       "</div>"
      ],
      "text/plain": [
       "    count\n",
       "0  340760"
      ]
     },
     "execution_count": 250,
     "metadata": {},
     "output_type": "execute_result"
    }
   ],
   "source": [
    "Adopt_Hearings_Cases_count = pydb.read_sql_query(\"select count(*) as count from __temp__.Adopt_Hearings_Cases_v2\")\n",
    "Adopt_Hearings_Cases_count"
   ]
  },
  {
   "cell_type": "markdown",
   "metadata": {},
   "source": [
    "## 17. Hearing_Adopt_Applicants table - joins the cases from applicant representation table to the first hearing for the case in the adopt hearings cases table \n",
    "<a name=\"Hearing_Adopt_Applicants\"></a>"
   ]
  },
  {
   "cell_type": "markdown",
   "metadata": {},
   "source": [
    "### Drop the Hearing_Adopt_Applicants table if it already exists and remove its data from the S3 bucket"
   ]
  },
  {
   "cell_type": "code",
   "execution_count": 251,
   "metadata": {},
   "outputs": [],
   "source": [
    "drop_Hearing_Adopt_Applicants = f\"\"\"\n",
    "DROP TABLE IF EXISTS fcsq.Hearing_Adopt_Applicants;\n",
    "\"\"\"\n",
    "pydb.start_query_execution_and_wait(drop_Hearing_Adopt_Applicants)\n",
    "\n",
    "# clean up previous Hearing_Adopt_Applicants files\n",
    "bucket.objects.filter(Prefix=\"fcsq_processing/Adoption/Hearing_Adopt_Applicants/\").delete();"
   ]
  },
  {
   "cell_type": "markdown",
   "metadata": {},
   "source": [
    "### Create the Hearing_Adopt_Applicants table in Athena"
   ]
  },
  {
   "cell_type": "code",
   "execution_count": 252,
   "metadata": {},
   "outputs": [],
   "source": [
    "create_Hearing_Adopt_Applicants = f\"\"\"\n",
    "CREATE TABLE IF NOT EXISTS fcsq.Hearing_Adopt_Applicants\n",
    "WITH (format = 'PARQUET', external_location = 's3://alpha-family-data/fcsq_processing/Adoption/Hearing_Adopt_Applicants') AS\n",
    "SELECT t1.*,\n",
    "t2.Case_Number_ID AS Hearing_Count\n",
    "FROM __temp__.ADOPT_APP_REP_FINAL t1\n",
    "LEFT JOIN __temp__.Adopt_Hearings_Cases_v2 t2 ON (t1.CASE_NUMBER = t2.CASE_NUMBER)\n",
    "where t2.Case_Number_ID > 0;\n",
    "\"\"\"\n",
    "\n",
    "pydb.start_query_execution_and_wait(create_Hearing_Adopt_Applicants);\n",
    "\n"
   ]
  },
  {
   "cell_type": "markdown",
   "metadata": {},
   "source": [
    "#### Hearing_Adopt_Applicants validation"
   ]
  },
  {
   "cell_type": "code",
   "execution_count": 253,
   "metadata": {},
   "outputs": [
    {
     "data": {
      "text/html": [
       "<div>\n",
       "<style scoped>\n",
       "    .dataframe tbody tr th:only-of-type {\n",
       "        vertical-align: middle;\n",
       "    }\n",
       "\n",
       "    .dataframe tbody tr th {\n",
       "        vertical-align: top;\n",
       "    }\n",
       "\n",
       "    .dataframe thead th {\n",
       "        text-align: right;\n",
       "    }\n",
       "</style>\n",
       "<table border=\"1\" class=\"dataframe\">\n",
       "  <thead>\n",
       "    <tr style=\"text-align: right;\">\n",
       "      <th></th>\n",
       "      <th>count</th>\n",
       "    </tr>\n",
       "  </thead>\n",
       "  <tbody>\n",
       "    <tr>\n",
       "      <th>0</th>\n",
       "      <td>107706</td>\n",
       "    </tr>\n",
       "  </tbody>\n",
       "</table>\n",
       "</div>"
      ],
      "text/plain": [
       "    count\n",
       "0  107706"
      ]
     },
     "execution_count": 253,
     "metadata": {},
     "output_type": "execute_result"
    }
   ],
   "source": [
    "Hearing_Adopt_Applicants_count = pydb.read_sql_query(\"select count(*) as count from __temp__.adopt_app_rep_final\")\n",
    "Hearing_Adopt_Applicants_count"
   ]
  },
  {
   "cell_type": "markdown",
   "metadata": {},
   "source": [
    "## 18. Hearing_Adopt_Respondents table - joins the cases from respondents representation table to the first hearing for the case in the adopt hearings cases table \n",
    "<a name=\"Hearing_Adopt_Respondents\"></a>"
   ]
  },
  {
   "cell_type": "markdown",
   "metadata": {},
   "source": [
    "### Drop the Hearing_Adopt_Respondents table if it already exists and remove its data from the S3 bucket"
   ]
  },
  {
   "cell_type": "code",
   "execution_count": 254,
   "metadata": {},
   "outputs": [],
   "source": [
    "drop_Hearing_Adopt_Respondents = f\"\"\"\n",
    "DROP TABLE IF EXISTS fcsq.Hearing_Adopt_Respondents;\n",
    "\"\"\"\n",
    "pydb.start_query_execution_and_wait(drop_Hearing_Adopt_Respondents)\n",
    "\n",
    "# clean up previous Hearing_Adopt_Respondents files\n",
    "bucket.objects.filter(Prefix=\"fcsq_processing/Adoption/Hearing_Adopt_Respondents/\").delete();"
   ]
  },
  {
   "cell_type": "markdown",
   "metadata": {},
   "source": [
    "### Create the Hearing_Adopt_Respondents table in Athena"
   ]
  },
  {
   "cell_type": "code",
   "execution_count": 255,
   "metadata": {},
   "outputs": [],
   "source": [
    "create_Hearing_Adopt_Respondents = f\"\"\"\n",
    "CREATE TABLE IF NOT EXISTS fcsq.Hearing_Adopt_Respondents\n",
    "WITH (format = 'PARQUET', external_location = 's3://alpha-family-data/fcsq_processing/Adoption/Hearing_Adopt_Respondents') AS\n",
    "    SELECT t1.*,\n",
    "    t2.Case_Number_ID AS Hearing_Count\n",
    "    FROM __temp__.ADOPT_RESP_REP_FINAL t1\n",
    "    LEFT JOIN __temp__.Adopt_Hearings_Cases_v2 t2 ON (t1.CASE_NUMBER = t2.CASE_NUMBER)\n",
    "    where t2.Case_Number_ID > 0;\n",
    "\"\"\"\n",
    "\n",
    "pydb.start_query_execution_and_wait(create_Hearing_Adopt_Respondents);\n",
    "\n"
   ]
  },
  {
   "cell_type": "markdown",
   "metadata": {},
   "source": [
    "#### Hearing_Adopt_Respondents validation"
   ]
  },
  {
   "cell_type": "code",
   "execution_count": 256,
   "metadata": {},
   "outputs": [
    {
     "data": {
      "text/html": [
       "<div>\n",
       "<style scoped>\n",
       "    .dataframe tbody tr th:only-of-type {\n",
       "        vertical-align: middle;\n",
       "    }\n",
       "\n",
       "    .dataframe tbody tr th {\n",
       "        vertical-align: top;\n",
       "    }\n",
       "\n",
       "    .dataframe thead th {\n",
       "        text-align: right;\n",
       "    }\n",
       "</style>\n",
       "<table border=\"1\" class=\"dataframe\">\n",
       "  <thead>\n",
       "    <tr style=\"text-align: right;\">\n",
       "      <th></th>\n",
       "      <th>count</th>\n",
       "    </tr>\n",
       "  </thead>\n",
       "  <tbody>\n",
       "    <tr>\n",
       "      <th>0</th>\n",
       "      <td>100448</td>\n",
       "    </tr>\n",
       "  </tbody>\n",
       "</table>\n",
       "</div>"
      ],
      "text/plain": [
       "    count\n",
       "0  100448"
      ]
     },
     "execution_count": 256,
     "metadata": {},
     "output_type": "execute_result"
    }
   ],
   "source": [
    "Hearing_Adopt_Respondents_count = pydb.read_sql_query(\"select count(*) as count from fcsq.Hearing_Adopt_Respondents\")\n",
    "Hearing_Adopt_Respondents_count"
   ]
  },
  {
   "cell_type": "markdown",
   "metadata": {},
   "source": [
    "## 19. Adopt_App table - Groups the hearing_adopt_applicants table and produces a count per group\n",
    "<a name=\"Adopt_App\"></a>"
   ]
  },
  {
   "cell_type": "markdown",
   "metadata": {},
   "source": [
    "### Drop the Adopt_App table if it already exists and remove its data from the S3 bucket"
   ]
  },
  {
   "cell_type": "code",
   "execution_count": 257,
   "metadata": {},
   "outputs": [],
   "source": [
    "drop_Adopt_App = f\"\"\"\n",
    "DROP TABLE IF EXISTS fcsq.Adopt_App;\n",
    "\"\"\"\n",
    "pydb.start_query_execution_and_wait(drop_Adopt_App)\n",
    "\n",
    "# clean up previous Adopt_App files\n",
    "bucket.objects.filter(Prefix=\"fcsq_processing/Adoption/Adopt_App/\").delete();"
   ]
  },
  {
   "cell_type": "markdown",
   "metadata": {},
   "source": [
    "### Create the Adopt_App table in Athena"
   ]
  },
  {
   "cell_type": "code",
   "execution_count": 258,
   "metadata": {},
   "outputs": [],
   "source": [
    "create_Adopt_App = f\"\"\"\n",
    "CREATE TABLE IF NOT EXISTS fcsq.Adopt_App\n",
    "WITH (format = 'PARQUET', external_location = 's3://alpha-family-data/fcsq_processing/Adoption/Adopt_App') AS\n",
    "SELECT\n",
    "  'Adoption' AS CASE_TYPE,\n",
    "  Year,\n",
    "  Quarter,\n",
    "  'Party' AS Category,\n",
    "  'Applicant' AS PARTY,\n",
    "   App_Gender AS Gender,\n",
    "  Representation,\n",
    "  Count (*) AS Count\n",
    "FROM\n",
    "  fcsq.HEARING_ADOPT_APPLICANTS\n",
    "WHERE \n",
    "  Representation <> '' /*A very small number of cases from 2011/12 look into whether these should be recoded as N (gender is also blank)*/\n",
    "GROUP BY\n",
    "  'Adoption',\n",
    "  Year,\n",
    "  Quarter,\n",
    "  'Party',\n",
    "  'Applicant',\n",
    "  App_Gender,\n",
    "  Representation;\n",
    "\"\"\"\n",
    "\n",
    "pydb.start_query_execution_and_wait(create_Adopt_App);\n",
    "\n"
   ]
  },
  {
   "cell_type": "markdown",
   "metadata": {},
   "source": [
    "#### Adopt_App validation"
   ]
  },
  {
   "cell_type": "code",
   "execution_count": 259,
   "metadata": {},
   "outputs": [
    {
     "data": {
      "text/html": [
       "<div>\n",
       "<style scoped>\n",
       "    .dataframe tbody tr th:only-of-type {\n",
       "        vertical-align: middle;\n",
       "    }\n",
       "\n",
       "    .dataframe tbody tr th {\n",
       "        vertical-align: top;\n",
       "    }\n",
       "\n",
       "    .dataframe thead th {\n",
       "        text-align: right;\n",
       "    }\n",
       "</style>\n",
       "<table border=\"1\" class=\"dataframe\">\n",
       "  <thead>\n",
       "    <tr style=\"text-align: right;\">\n",
       "      <th></th>\n",
       "      <th>count</th>\n",
       "    </tr>\n",
       "  </thead>\n",
       "  <tbody>\n",
       "    <tr>\n",
       "      <th>0</th>\n",
       "      <td>236</td>\n",
       "    </tr>\n",
       "  </tbody>\n",
       "</table>\n",
       "</div>"
      ],
      "text/plain": [
       "   count\n",
       "0    236"
      ]
     },
     "execution_count": 259,
     "metadata": {},
     "output_type": "execute_result"
    }
   ],
   "source": [
    "Adopt_App_count = pydb.read_sql_query(\"select count(*) as count from fcsq.Adopt_App\")\n",
    "Adopt_App_count"
   ]
  },
  {
   "cell_type": "markdown",
   "metadata": {},
   "source": [
    "## 20. Adopt_resp table - Groups the hearing_adopt_respondents table and produces a count per group\n",
    "<a name=\"Adopt_resp\"></a>"
   ]
  },
  {
   "cell_type": "markdown",
   "metadata": {},
   "source": [
    "### Drop the Adopt_resp table if it already exists and remove its data from the S3 bucket"
   ]
  },
  {
   "cell_type": "code",
   "execution_count": 260,
   "metadata": {},
   "outputs": [],
   "source": [
    "drop_Adopt_resp = f\"\"\"\n",
    "DROP TABLE IF EXISTS fcsq.Adopt_resp;\n",
    "\"\"\"\n",
    "pydb.start_query_execution_and_wait(drop_Adopt_resp)\n",
    "\n",
    "# clean up previous Adopt_resp files\n",
    "bucket.objects.filter(Prefix=\"fcsq_processing/Adoption/Adopt_resp/\").delete();"
   ]
  },
  {
   "cell_type": "markdown",
   "metadata": {},
   "source": [
    "### Create the Adopt_resp table in Athena"
   ]
  },
  {
   "cell_type": "code",
   "execution_count": 261,
   "metadata": {},
   "outputs": [],
   "source": [
    "create_Adopt_resp = f\"\"\"\n",
    "CREATE TABLE IF NOT EXISTS fcsq.Adopt_resp\n",
    "WITH (format = 'PARQUET', external_location = 's3://alpha-family-data/fcsq_processing/Adoption/Adopt_resp') AS\n",
    "SELECT\n",
    "  'Adoption' AS CASE_TYPE,\n",
    "  Year,\n",
    "  Quarter,\n",
    "  'Party' AS Category,\n",
    "  'Respondent' AS PARTY,\n",
    "  Resp_Gender AS Gender,\n",
    "  Representation,\n",
    "  Count (*) AS Count\n",
    "FROM\n",
    "  fcsq.HEARING_ADOPT_RESPONDENTS\n",
    "WHERE \n",
    "  Representation <> '' /*A very small number of cases from 2011/12 look into whether these should be recoded as N (gender is also blank)*/\n",
    "GROUP BY\n",
    "  'Adoption',\n",
    "  Year,\n",
    "  Quarter,\n",
    "  'Party',\n",
    "  'Applicant',\n",
    "  Resp_Gender,\n",
    "  Representation;\n",
    "\"\"\"\n",
    "\n",
    "pydb.start_query_execution_and_wait(create_Adopt_resp);\n",
    "\n"
   ]
  },
  {
   "cell_type": "markdown",
   "metadata": {},
   "source": [
    "#### Adopt_resp validation"
   ]
  },
  {
   "cell_type": "code",
   "execution_count": 262,
   "metadata": {},
   "outputs": [
    {
     "data": {
      "text/html": [
       "<div>\n",
       "<style scoped>\n",
       "    .dataframe tbody tr th:only-of-type {\n",
       "        vertical-align: middle;\n",
       "    }\n",
       "\n",
       "    .dataframe tbody tr th {\n",
       "        vertical-align: top;\n",
       "    }\n",
       "\n",
       "    .dataframe thead th {\n",
       "        text-align: right;\n",
       "    }\n",
       "</style>\n",
       "<table border=\"1\" class=\"dataframe\">\n",
       "  <thead>\n",
       "    <tr style=\"text-align: right;\">\n",
       "      <th></th>\n",
       "      <th>count</th>\n",
       "    </tr>\n",
       "  </thead>\n",
       "  <tbody>\n",
       "    <tr>\n",
       "      <th>0</th>\n",
       "      <td>253</td>\n",
       "    </tr>\n",
       "  </tbody>\n",
       "</table>\n",
       "</div>"
      ],
      "text/plain": [
       "   count\n",
       "0    253"
      ]
     },
     "execution_count": 262,
     "metadata": {},
     "output_type": "execute_result"
    }
   ],
   "source": [
    "Adopt_resp_count = pydb.read_sql_query(\"select count(*) as count from fcsq.Adopt_resp\")\n",
    "Adopt_resp_count"
   ]
  },
  {
   "cell_type": "markdown",
   "metadata": {},
   "source": [
    "## 21. adopt_case table - groups and formats adopt_case_data_v3 table and gives a count for each group\n",
    "<a name=\"adopt_case\"></a>"
   ]
  },
  {
   "cell_type": "markdown",
   "metadata": {},
   "source": [
    "### Drop the adopt_case table if it already exists and remove its data from the S3 bucket"
   ]
  },
  {
   "cell_type": "code",
   "execution_count": 263,
   "metadata": {},
   "outputs": [],
   "source": [
    "drop_adopt_case = f\"\"\"\n",
    "DROP TABLE IF EXISTS fcsq.adopt_case;\n",
    "\"\"\"\n",
    "pydb.start_query_execution_and_wait(drop_adopt_case)\n",
    "\n",
    "# clean up previous adopt_case files\n",
    "bucket.objects.filter(Prefix=\"fcsq_processing/Adoption/Adopt_case/\").delete();"
   ]
  },
  {
   "cell_type": "markdown",
   "metadata": {},
   "source": [
    "### Create the adopt_case table in Athena"
   ]
  },
  {
   "cell_type": "code",
   "execution_count": 264,
   "metadata": {},
   "outputs": [],
   "source": [
    "create_adopt_case = f\"\"\"\n",
    "CREATE TABLE IF NOT EXISTS fcsq.Adopt_case\n",
    "WITH (format = 'PARQUET', external_location = 's3://alpha-family-data/fcsq_processing/Adoption/Adopt_case') AS\n",
    "SELECT *,\n",
    "    Count(*) as Count FROM\n",
    "    (SELECT\n",
    "        'Adoption' AS CASE_TYPE,\n",
    "        Year,\n",
    "        Quarter,\n",
    "        'Cases' AS Category,\n",
    "        'N/A' AS PARTY,\n",
    "        'N/A' AS Gender,\n",
    "        'N/A' AS Representation\n",
    "    FROM\n",
    "      __temp__.adopt_case_data_v3)\n",
    "GROUP BY\n",
    "  CASE_TYPE,\n",
    "  Year,\n",
    "  Quarter,\n",
    "  Category,\n",
    "  PARTY,\n",
    "  Gender,\n",
    "  Representation;\n",
    "\"\"\"\n",
    "\n",
    "pydb.start_query_execution_and_wait(create_adopt_case);\n",
    "\n"
   ]
  },
  {
   "cell_type": "markdown",
   "metadata": {},
   "source": [
    "#### adopt_case validation"
   ]
  },
  {
   "cell_type": "code",
   "execution_count": 265,
   "metadata": {},
   "outputs": [
    {
     "data": {
      "text/html": [
       "<div>\n",
       "<style scoped>\n",
       "    .dataframe tbody tr th:only-of-type {\n",
       "        vertical-align: middle;\n",
       "    }\n",
       "\n",
       "    .dataframe tbody tr th {\n",
       "        vertical-align: top;\n",
       "    }\n",
       "\n",
       "    .dataframe thead th {\n",
       "        text-align: right;\n",
       "    }\n",
       "</style>\n",
       "<table border=\"1\" class=\"dataframe\">\n",
       "  <thead>\n",
       "    <tr style=\"text-align: right;\">\n",
       "      <th></th>\n",
       "      <th>count</th>\n",
       "    </tr>\n",
       "  </thead>\n",
       "  <tbody>\n",
       "    <tr>\n",
       "      <th>0</th>\n",
       "      <td>46</td>\n",
       "    </tr>\n",
       "  </tbody>\n",
       "</table>\n",
       "</div>"
      ],
      "text/plain": [
       "   count\n",
       "0     46"
      ]
     },
     "execution_count": 265,
     "metadata": {},
     "output_type": "execute_result"
    }
   ],
   "source": [
    "adopt_case_count = pydb.read_sql_query(\"select count(*) as count from fcsq.adopt_case\")\n",
    "adopt_case_count"
   ]
  },
  {
   "cell_type": "markdown",
   "metadata": {},
   "source": [
    "## 22. Adopt_Case_Hearings table - creates a count of all the cases with a hearing per quarter\n",
    "<a name=\"Adopt_Case_Hearings\"></a>"
   ]
  },
  {
   "cell_type": "markdown",
   "metadata": {},
   "source": [
    "### Drop the Adopt_Case_Hearings table if it already exists and remove its data from the S3 bucket"
   ]
  },
  {
   "cell_type": "code",
   "execution_count": 266,
   "metadata": {},
   "outputs": [],
   "source": [
    "drop_Adopt_Case_Hearings = f\"\"\"\n",
    "DROP TABLE IF EXISTS fcsq.Adopt_Case_Hearings;\n",
    "\"\"\"\n",
    "pydb.start_query_execution_and_wait(drop_Adopt_Case_Hearings)\n",
    "\n",
    "# clean up previous Adopt_Case_Hearings files\n",
    "bucket.objects.filter(Prefix=\"fcsq_processing/Adoption/Adopt_Case_Hearings/\").delete();"
   ]
  },
  {
   "cell_type": "markdown",
   "metadata": {},
   "source": [
    "### Create the Adopt_Case_Hearings table in Athena"
   ]
  },
  {
   "cell_type": "code",
   "execution_count": 267,
   "metadata": {},
   "outputs": [],
   "source": [
    "create_hearing_adopt_case =f\"\"\"\n",
    "SELECT DISTINCT Year, Quarter, Case_Number\n",
    "FROM fcsq.HEARING_ADOPT_Applicants;\n",
    "\"\"\"\n",
    "\n",
    "pydb.create_temp_table(create_hearing_adopt_case,'hearing_adopt_case')\n",
    "\n",
    "\n",
    "\n",
    "create_Adopt_Case_Hearings = f\"\"\"\n",
    "CREATE TABLE IF NOT EXISTS fcsq.Adopt_Case_Hearings\n",
    "WITH (format = 'PARQUET', external_location = 's3://alpha-family-data/fcsq_processing/Adoption/Adopt_Case_Hearings') AS\n",
    "SELECT *, Count(*) as Count FROM\n",
    "    (SELECT\n",
    "      'Adoption' AS CASE_TYPE,\n",
    "      Year,\n",
    "      Quarter,\n",
    "      'Cases with a hearing' AS Category,\n",
    "      'N/A' AS PARTY,\n",
    "      'N/A' AS Gender,\n",
    "      'N/A' AS Representation\n",
    "    FROM\n",
    "      __temp__.Hearing_ADOPT_Case)\n",
    "GROUP BY\n",
    "  CASE_TYPE,\n",
    "  Year,\n",
    "  Quarter,\n",
    "  Category,\n",
    "  PARTY,\n",
    "  Gender,\n",
    "  Representation;\n",
    "\"\"\"\n",
    "\n",
    "pydb.start_query_execution_and_wait(create_Adopt_Case_Hearings);\n",
    "\n"
   ]
  },
  {
   "cell_type": "markdown",
   "metadata": {},
   "source": [
    "#### Adopt_Case_Hearings validation"
   ]
  },
  {
   "cell_type": "code",
   "execution_count": 268,
   "metadata": {},
   "outputs": [
    {
     "data": {
      "text/html": [
       "<div>\n",
       "<style scoped>\n",
       "    .dataframe tbody tr th:only-of-type {\n",
       "        vertical-align: middle;\n",
       "    }\n",
       "\n",
       "    .dataframe tbody tr th {\n",
       "        vertical-align: top;\n",
       "    }\n",
       "\n",
       "    .dataframe thead th {\n",
       "        text-align: right;\n",
       "    }\n",
       "</style>\n",
       "<table border=\"1\" class=\"dataframe\">\n",
       "  <thead>\n",
       "    <tr style=\"text-align: right;\">\n",
       "      <th></th>\n",
       "      <th>count</th>\n",
       "    </tr>\n",
       "  </thead>\n",
       "  <tbody>\n",
       "    <tr>\n",
       "      <th>0</th>\n",
       "      <td>46</td>\n",
       "    </tr>\n",
       "  </tbody>\n",
       "</table>\n",
       "</div>"
      ],
      "text/plain": [
       "   count\n",
       "0     46"
      ]
     },
     "execution_count": 268,
     "metadata": {},
     "output_type": "execute_result"
    }
   ],
   "source": [
    "Adopt_Case_Hearings_count = pydb.read_sql_query(\"select count(*) as count from fcsq.Adopt_Case_Hearings\")\n",
    "Adopt_Case_Hearings_count"
   ]
  },
  {
   "cell_type": "markdown",
   "metadata": {},
   "source": [
    "## 23. Adoption table - Joins the applicant/respondent representation count tables, case count table, and case hearing count tables \n",
    "<a name=\"Adoption\"></a>"
   ]
  },
  {
   "cell_type": "markdown",
   "metadata": {},
   "source": [
    "### Drop the Adoption table if it already exists and remove its data from the S3 bucket"
   ]
  },
  {
   "cell_type": "code",
   "execution_count": 269,
   "metadata": {},
   "outputs": [],
   "source": [
    "drop_Adoption = f\"\"\"\n",
    "DROP TABLE IF EXISTS fcsq.Adoption;\n",
    "\"\"\"\n",
    "pydb.start_query_execution_and_wait(drop_Adoption)\n",
    "\n",
    "# clean up previous Adoption files\n",
    "bucket.objects.filter(Prefix=\"fcsq_processing/Adoption/Adoption/\").delete();"
   ]
  },
  {
   "cell_type": "markdown",
   "metadata": {},
   "source": [
    "### Create the Adoption table in Athena"
   ]
  },
  {
   "cell_type": "code",
   "execution_count": 270,
   "metadata": {},
   "outputs": [],
   "source": [
    "create_Adoption = f\"\"\"\n",
    "CREATE TABLE IF NOT EXISTS fcsq.Adoption\n",
    "WITH (format = 'PARQUET', external_location = 's3://alpha-family-data/fcsq_processing/Adoption/Adoption') AS\n",
    "SELECT\n",
    "  *\n",
    "FROM\n",
    " fcsq.ADOPT_APP\n",
    "UNION ALL\n",
    "SELECT\n",
    "  *\n",
    "FROM\n",
    "  fcsq.ADOPT_RESP\n",
    "UNION ALL\n",
    "SELECT\n",
    "  *\n",
    "FROM\n",
    "  fcsq.ADOPT_CASE\n",
    "UNION ALL\n",
    "SELECT\n",
    "  *\n",
    "FROM\n",
    "  fcsq.ADOPT_CASE_HEARINGS;\n",
    "\"\"\"\n",
    "\n",
    "pydb.start_query_execution_and_wait(create_Adoption);\n",
    "\n"
   ]
  },
  {
   "cell_type": "markdown",
   "metadata": {},
   "source": [
    "#### Adoption validation"
   ]
  },
  {
   "cell_type": "code",
   "execution_count": 271,
   "metadata": {},
   "outputs": [
    {
     "data": {
      "text/html": [
       "<div>\n",
       "<style scoped>\n",
       "    .dataframe tbody tr th:only-of-type {\n",
       "        vertical-align: middle;\n",
       "    }\n",
       "\n",
       "    .dataframe tbody tr th {\n",
       "        vertical-align: top;\n",
       "    }\n",
       "\n",
       "    .dataframe thead th {\n",
       "        text-align: right;\n",
       "    }\n",
       "</style>\n",
       "<table border=\"1\" class=\"dataframe\">\n",
       "  <thead>\n",
       "    <tr style=\"text-align: right;\">\n",
       "      <th></th>\n",
       "      <th>count</th>\n",
       "    </tr>\n",
       "  </thead>\n",
       "  <tbody>\n",
       "    <tr>\n",
       "      <th>0</th>\n",
       "      <td>581</td>\n",
       "    </tr>\n",
       "  </tbody>\n",
       "</table>\n",
       "</div>"
      ],
      "text/plain": [
       "   count\n",
       "0    581"
      ]
     },
     "execution_count": 271,
     "metadata": {},
     "output_type": "execute_result"
    }
   ],
   "source": [
    "Adoption_count = pydb.read_sql_query(\"select count(*) as count from fcsq.Adoption\")\n",
    "Adoption_count"
   ]
  },
  {
   "cell_type": "code",
   "execution_count": null,
   "metadata": {},
   "outputs": [],
   "source": [
    "df = pydb.read_sql_query(\"SELECT * FROM fcsq.Adoption\")\n",
    "    df.to_csv(path_or_buf = 's3://alpha-family-data/CSVs/Adoption_legrep.csv',index=False)"
   ]
  },
  {
   "cell_type": "markdown",
   "metadata": {},
   "source": [
    "## 24. Applicant_representation table - creates a table showing whether all, some, or none of the applicants for a case have representation\n",
    "<a name=\"Applicant_representation\"></a>"
   ]
  },
  {
   "cell_type": "markdown",
   "metadata": {},
   "source": [
    "### Drop the Applicant_representation table if it already exists and remove its data from the S3 bucket"
   ]
  },
  {
   "cell_type": "code",
   "execution_count": 272,
   "metadata": {},
   "outputs": [],
   "source": [
    "drop_Applicant_representation = f\"\"\"\n",
    "DROP TABLE IF EXISTS fcsq.Applicant_representation;\n",
    "\"\"\"\n",
    "pydb.start_query_execution_and_wait(drop_Applicant_representation)\n",
    "\n",
    "# clean up previous Applicant_representation files\n",
    "bucket.objects.filter(Prefix=\"fcsq_processing/Adoption/Applicant_representation/\").delete();"
   ]
  },
  {
   "cell_type": "markdown",
   "metadata": {},
   "source": [
    "### Create the Applicant_representation table in Athena"
   ]
  },
  {
   "cell_type": "code",
   "execution_count": 273,
   "metadata": {},
   "outputs": [],
   "source": [
    "create_applicants_1 = f\"\"\"\n",
    "SELECT Distinct t1.Case_Number, t1.Party, MAX(t1.Representative_Role) as Max_Rep_Role\n",
    "FROM fcsq.Adopt_Applicant_Info t1\n",
    "Group by Case_Number, Party;\n",
    "\"\"\"\n",
    "\n",
    "pydb.create_temp_table(create_applicants_1,'applicants_1')\n",
    "\n",
    "create_applicants_2 = f\"\"\"\n",
    "SELECT  t1.*,\n",
    "case when Max_Rep_Role IS NULL then 0\n",
    "else 1\n",
    "end as Rep_IND\n",
    "FROM __temp__.Applicants_1 t1;\n",
    "\"\"\"\n",
    "pydb.create_temp_table(create_applicants_2,'applicants_2')\n",
    "\n",
    "create_applicants_3 = f\"\"\"\n",
    "SELECT Distinct t1.Case_Number,\n",
    "Count(t1.Party) as CountOfParty,\n",
    "SUM(t1.Rep_Ind) as SumOfRep_IND\n",
    "FROM __temp__.Applicants_2 t1\n",
    "Group by Case_Number;\n",
    "\"\"\"\n",
    "pydb.create_temp_table(create_applicants_3,'applicants_3')\n",
    "\n",
    "create_Applicant_representation = f\"\"\"\n",
    "CREATE TABLE IF NOT EXISTS fcsq.Applicant_representation\n",
    "WITH (format = 'PARQUET', external_location = 's3://alpha-family-data/fcsq_processing/Adoption/Applicant_representation') AS\n",
    "SELECT t1.Case_Number,\n",
    "t1.CountOfParty,\n",
    "t1.SumOfRep_IND,\n",
    "CASE WHEN t1.SumOfRep_Ind > t1.CountOfParty then 'Error'\n",
    "WHEN t1.SumOfRep_Ind = t1.CountOfParty then 'All'\n",
    "WHEN t1.SumOfRep_Ind =0 then 'None' else 'Some'  end as App_Rep_Cat\n",
    "FROM __temp__.Applicants_3 t1;\n",
    "\"\"\"\n",
    "\n",
    "pydb.start_query_execution_and_wait(create_Applicant_representation);\n",
    "\n"
   ]
  },
  {
   "cell_type": "markdown",
   "metadata": {},
   "source": [
    "#### Applicant_representation validation"
   ]
  },
  {
   "cell_type": "code",
   "execution_count": 274,
   "metadata": {},
   "outputs": [
    {
     "data": {
      "text/html": [
       "<div>\n",
       "<style scoped>\n",
       "    .dataframe tbody tr th:only-of-type {\n",
       "        vertical-align: middle;\n",
       "    }\n",
       "\n",
       "    .dataframe tbody tr th {\n",
       "        vertical-align: top;\n",
       "    }\n",
       "\n",
       "    .dataframe thead th {\n",
       "        text-align: right;\n",
       "    }\n",
       "</style>\n",
       "<table border=\"1\" class=\"dataframe\">\n",
       "  <thead>\n",
       "    <tr style=\"text-align: right;\">\n",
       "      <th></th>\n",
       "      <th>count</th>\n",
       "    </tr>\n",
       "  </thead>\n",
       "  <tbody>\n",
       "    <tr>\n",
       "      <th>0</th>\n",
       "      <td>182174</td>\n",
       "    </tr>\n",
       "  </tbody>\n",
       "</table>\n",
       "</div>"
      ],
      "text/plain": [
       "    count\n",
       "0  182174"
      ]
     },
     "execution_count": 274,
     "metadata": {},
     "output_type": "execute_result"
    }
   ],
   "source": [
    "Applicant_representation_count = pydb.read_sql_query(\"select count(*) as count from fcsq.Applicant_representation\")\n",
    "Applicant_representation_count"
   ]
  },
  {
   "cell_type": "markdown",
   "metadata": {},
   "source": [
    "## 25. Respondent_Representation table - creates a table showing whether all, some, or none of the respondents for a case have representation\n",
    "<a name=\"Respondent_representation\"></a>"
   ]
  },
  {
   "cell_type": "markdown",
   "metadata": {},
   "source": [
    "### Drop the Respondent_Representation table if it already exists and remove its data from the S3 bucket"
   ]
  },
  {
   "cell_type": "code",
   "execution_count": 275,
   "metadata": {
    "scrolled": true
   },
   "outputs": [],
   "source": [
    "drop_Respondent_Representation = f\"\"\"\n",
    "DROP TABLE IF EXISTS fcsq.Respondent_Representation;\n",
    "\"\"\"\n",
    "pydb.start_query_execution_and_wait(drop_Respondent_Representation)\n",
    "\n",
    "# clean up previous Respondent_Representation files\n",
    "bucket.objects.filter(Prefix=\"fcsq_processing/Adoption/Respondent_Representation/\").delete();"
   ]
  },
  {
   "cell_type": "markdown",
   "metadata": {},
   "source": [
    "### Create the Respondent_Representation table in Athena"
   ]
  },
  {
   "cell_type": "code",
   "execution_count": 276,
   "metadata": {},
   "outputs": [],
   "source": [
    "create_respondents_1 = f\"\"\"\n",
    "SELECT Distinct t1.Case_Number, t1.Party, MAX(t1.Representative_Role) as Max_Rep_Role\n",
    "FROM fcsq.Adopt_Respondent_Info t1\n",
    "Group by Case_Number, Party;\n",
    "\"\"\"\n",
    "\n",
    "pydb.create_temp_table(create_respondents_1,'respondents_1')\n",
    "\n",
    "create_respondents_2 = f\"\"\"\n",
    "SELECT  t1.*,\n",
    "case when Max_Rep_Role IS NULL then 0\n",
    "else 1\n",
    "end as Rep_IND\n",
    "FROM __temp__.respondents_1 t1;\n",
    "\"\"\"\n",
    "pydb.create_temp_table(create_respondents_2,'respondents_2')\n",
    "\n",
    "create_respondents_3 = f\"\"\"\n",
    "SELECT Distinct t1.Case_Number,\n",
    "Count(t1.Party) as CountOfParty,\n",
    "SUM(t1.Rep_Ind) as SumOfRep_IND\n",
    "FROM __temp__.respondents_2 t1\n",
    "Group by Case_Number;\n",
    "\"\"\"\n",
    "pydb.create_temp_table(create_respondents_3,'respondents_3')\n",
    "\n",
    "create_Respondent_Representation = f\"\"\"\n",
    "CREATE TABLE IF NOT EXISTS fcsq.Respondent_Representation\n",
    "WITH (format = 'PARQUET', external_location = 's3://alpha-family-data/fcsq_processing/Adoption/Respondent_Representation') AS\n",
    "SELECT t1.Case_Number,\n",
    "t1.CountOfParty,\n",
    "t1.SumOfRep_IND,\n",
    "CASE WHEN t1.SumOfRep_Ind > t1.CountOfParty then 'Error'\n",
    "WHEN t1.SumOfRep_Ind = t1.CountOfParty then 'All'\n",
    "WHEN t1.SumOfRep_Ind =0 then 'None' else 'Some'  end as Res_Rep_Cat\n",
    "FROM __temp__.Respondents_3 t1\n",
    "\"\"\"\n",
    "\n",
    "pydb.start_query_execution_and_wait(create_Respondent_Representation);\n",
    "\n"
   ]
  },
  {
   "cell_type": "markdown",
   "metadata": {},
   "source": [
    "#### Respondent_Representation validation"
   ]
  },
  {
   "cell_type": "code",
   "execution_count": 277,
   "metadata": {},
   "outputs": [
    {
     "data": {
      "text/html": [
       "<div>\n",
       "<style scoped>\n",
       "    .dataframe tbody tr th:only-of-type {\n",
       "        vertical-align: middle;\n",
       "    }\n",
       "\n",
       "    .dataframe tbody tr th {\n",
       "        vertical-align: top;\n",
       "    }\n",
       "\n",
       "    .dataframe thead th {\n",
       "        text-align: right;\n",
       "    }\n",
       "</style>\n",
       "<table border=\"1\" class=\"dataframe\">\n",
       "  <thead>\n",
       "    <tr style=\"text-align: right;\">\n",
       "      <th></th>\n",
       "      <th>count</th>\n",
       "    </tr>\n",
       "  </thead>\n",
       "  <tbody>\n",
       "    <tr>\n",
       "      <th>0</th>\n",
       "      <td>171474</td>\n",
       "    </tr>\n",
       "  </tbody>\n",
       "</table>\n",
       "</div>"
      ],
      "text/plain": [
       "    count\n",
       "0  171474"
      ]
     },
     "execution_count": 277,
     "metadata": {},
     "output_type": "execute_result"
    }
   ],
   "source": [
    "Respondent_Representation_count = pydb.read_sql_query(\"select count(*) as count from fcsq.Respondent_Representation\")\n",
    "Respondent_Representation_count"
   ]
  },
  {
   "cell_type": "markdown",
   "metadata": {
    "tags": []
   },
   "source": [
    "## 26. Adopt_Disposals_Final table - joins the adopt_apps_and_orders_match table and the representation tables, joining timeliness and legal representation data for a case together\n",
    "<a name=\"Adopt_Disposals_Final\"></a>"
   ]
  },
  {
   "cell_type": "code",
   "execution_count": 308,
   "metadata": {},
   "outputs": [],
   "source": [
    "create_ADOPT_APP_AND_ORDERS_WITH_REP = f\"\"\"\n",
    "SELECT t1.*,\n",
    "t2.APP_REP_CAT, \n",
    "t3.RES_REP_CAT\n",
    "FROM fcsq.ADOPT_APPS_AND_ORDERS_MATCH AS t1\n",
    "LEFT JOIN fcsq.Applicant_Representation AS t2 ON (t1.CASE_NUMBER = t2.CASE_NUMBER)\n",
    "LEFT JOIN fcsq.RESPONDENT_REPRESENTATION as t3 ON t1.CASE_NUMBER = t3.CASE_NUMBER;\n",
    "\"\"\"\n",
    "pydb.create_temp_table(create_ADOPT_APP_AND_ORDERS_WITH_REP,'ADOPT_APP_AND_ORDERS_WITH_REP')"
   ]
  },
  {
   "cell_type": "code",
   "execution_count": 311,
   "metadata": {},
   "outputs": [
    {
     "data": {
      "text/html": [
       "<div>\n",
       "<style scoped>\n",
       "    .dataframe tbody tr th:only-of-type {\n",
       "        vertical-align: middle;\n",
       "    }\n",
       "\n",
       "    .dataframe tbody tr th {\n",
       "        vertical-align: top;\n",
       "    }\n",
       "\n",
       "    .dataframe thead th {\n",
       "        text-align: right;\n",
       "    }\n",
       "</style>\n",
       "<table border=\"1\" class=\"dataframe\">\n",
       "  <thead>\n",
       "    <tr style=\"text-align: right;\">\n",
       "      <th></th>\n",
       "      <th>count</th>\n",
       "    </tr>\n",
       "  </thead>\n",
       "  <tbody>\n",
       "    <tr>\n",
       "      <th>0</th>\n",
       "      <td>83963</td>\n",
       "    </tr>\n",
       "  </tbody>\n",
       "</table>\n",
       "</div>"
      ],
      "text/plain": [
       "   count\n",
       "0  83963"
      ]
     },
     "execution_count": 311,
     "metadata": {},
     "output_type": "execute_result"
    }
   ],
   "source": [
    "pydb.read_sql_query(\"SELECT Count(*) as COUNT from __temp__.adopt_app_and_orders_with_rep\")"
   ]
  },
  {
   "cell_type": "code",
   "execution_count": 312,
   "metadata": {},
   "outputs": [],
   "source": [
    "create_Adopt_Disposals_Final = f\"\"\"\n",
    "SELECT t1.*,\n",
    "t2.Region_Pre2014, \n",
    "t2.Region,\n",
    "cast(t1.Year as varchar(3)) || '-Q' || cast(t1.quarter as varchar(3)) AS Quarter2, \n",
    "case when (t1.APP_REP_CAT Is Null Or t1.RES_REP_CAT Is Null)  then '5 Unknown'\n",
    "    when t1.APP_REP_CAT='None' and t1.RES_REP_CAT ='None' then '4 Neither'\n",
    "    when t1.APP_REP_CAT='None' and t1.RES_REP_CAT != 'None' then '3 Respondent Only'\n",
    "    when t1.APP_REP_CAT != 'None' and t1.RES_REP_CAT = 'None' then '2 Applicant Only'\n",
    "Else '1 Both'\n",
    "End AS REP_CAT,\n",
    "Case when t1.YEAR < 2014 then t2.Region_Pre2014\n",
    "Else t2.Region\n",
    "End As Final_Region\n",
    "\n",
    "FROM __temp__.ADOPT_APP_AND_ORDERS_WITH_REP AS t1 LEFT JOIN fcsq.COURT_MV_FEB21_DFJ as t2\n",
    "ON t1.DSP_COURT = cast(t2.Code as varchar(3));\n",
    "\n",
    "\"\"\"\n",
    "\n",
    "pydb.create_temp_table(create_Adopt_Disposals_Final,'Adopt_Disposals_Final')\n",
    "\n",
    "\n",
    "create_Adopt_Disposals_Final_2 = f\"\"\"\n",
    "SELECT *\n",
    "FROM __temp__.ADOPT_DISPOSALS_FINAL\n",
    "WHERE adoption = 'Adoption';\n",
    "\"\"\"\n",
    "\n",
    "pydb.create_temp_table(create_Adopt_Disposals_Final_2,'Adopt_Disposals_Final_2')\n",
    "\n"
   ]
  },
  {
   "cell_type": "markdown",
   "metadata": {},
   "source": [
    "#### Adopt_Disposals_Final validation"
   ]
  },
  {
   "cell_type": "code",
   "execution_count": 290,
   "metadata": {},
   "outputs": [
    {
     "data": {
      "text/html": [
       "<div>\n",
       "<style scoped>\n",
       "    .dataframe tbody tr th:only-of-type {\n",
       "        vertical-align: middle;\n",
       "    }\n",
       "\n",
       "    .dataframe tbody tr th {\n",
       "        vertical-align: top;\n",
       "    }\n",
       "\n",
       "    .dataframe thead th {\n",
       "        text-align: right;\n",
       "    }\n",
       "</style>\n",
       "<table border=\"1\" class=\"dataframe\">\n",
       "  <thead>\n",
       "    <tr style=\"text-align: right;\">\n",
       "      <th></th>\n",
       "      <th>count</th>\n",
       "    </tr>\n",
       "  </thead>\n",
       "  <tbody>\n",
       "    <tr>\n",
       "      <th>0</th>\n",
       "      <td>83963</td>\n",
       "    </tr>\n",
       "  </tbody>\n",
       "</table>\n",
       "</div>"
      ],
      "text/plain": [
       "   count\n",
       "0  83963"
      ]
     },
     "execution_count": 290,
     "metadata": {},
     "output_type": "execute_result"
    }
   ],
   "source": [
    "Adopt_Disposals_Final_count = pydb.read_sql_query(\"select count(*) as count from __temp__.Adopt_Disposals_Final_2\")\n",
    "Adopt_Disposals_Final_count"
   ]
  },
  {
   "cell_type": "markdown",
   "metadata": {},
   "source": [
    "## 27. Adopt_Quarterly table - groups the disposals_final table by quarter, providing a total and mean wait_weeks per quarter\n",
    "<a name=\"Adopt_Quarterly\"></a>"
   ]
  },
  {
   "cell_type": "markdown",
   "metadata": {},
   "source": [
    "### Drop the Adopt_Quarterly table if it already exists and remove its data from the S3 bucket"
   ]
  },
  {
   "cell_type": "code",
   "execution_count": 294,
   "metadata": {
    "scrolled": true
   },
   "outputs": [],
   "source": [
    "drop_Adopt_Quarterly = f\"\"\"\n",
    "DROP TABLE IF EXISTS fcsq.Adopt_Quarterly;\n",
    "\"\"\"\n",
    "pydb.start_query_execution_and_wait(drop_Adopt_Quarterly)\n",
    "\n",
    "# clean up previous Adopt_Quarterly files\n",
    "bucket.objects.filter(Prefix=\"fcsq_processing/Adoption/Adopt_Quarterly/\").delete();"
   ]
  },
  {
   "cell_type": "markdown",
   "metadata": {},
   "source": [
    "### Create the Adopt_Quarterly table in Athena"
   ]
  },
  {
   "cell_type": "code",
   "execution_count": 295,
   "metadata": {},
   "outputs": [
    {
     "data": {
      "text/html": [
       "<div>\n",
       "<style scoped>\n",
       "    .dataframe tbody tr th:only-of-type {\n",
       "        vertical-align: middle;\n",
       "    }\n",
       "\n",
       "    .dataframe tbody tr th {\n",
       "        vertical-align: top;\n",
       "    }\n",
       "\n",
       "    .dataframe thead th {\n",
       "        text-align: right;\n",
       "    }\n",
       "</style>\n",
       "<table border=\"1\" class=\"dataframe\">\n",
       "  <thead>\n",
       "    <tr style=\"text-align: right;\">\n",
       "      <th></th>\n",
       "      <th>type</th>\n",
       "      <th>year</th>\n",
       "      <th>quarter</th>\n",
       "      <th>rep_cat</th>\n",
       "      <th>n</th>\n",
       "      <th>mean</th>\n",
       "    </tr>\n",
       "  </thead>\n",
       "  <tbody>\n",
       "    <tr>\n",
       "      <th>0</th>\n",
       "      <td>Adoption</td>\n",
       "      <td>2015</td>\n",
       "      <td>Q3</td>\n",
       "      <td>1 Both</td>\n",
       "      <td>16</td>\n",
       "      <td>28.651786</td>\n",
       "    </tr>\n",
       "    <tr>\n",
       "      <th>1</th>\n",
       "      <td>Adoption</td>\n",
       "      <td>2015</td>\n",
       "      <td>Q3</td>\n",
       "      <td>2 Applicant Only</td>\n",
       "      <td>60</td>\n",
       "      <td>21.635714</td>\n",
       "    </tr>\n",
       "    <tr>\n",
       "      <th>2</th>\n",
       "      <td>Adoption</td>\n",
       "      <td>2015</td>\n",
       "      <td>Q3</td>\n",
       "      <td>3 Respondent Only</td>\n",
       "      <td>44</td>\n",
       "      <td>28.032468</td>\n",
       "    </tr>\n",
       "    <tr>\n",
       "      <th>3</th>\n",
       "      <td>Adoption</td>\n",
       "      <td>2015</td>\n",
       "      <td>Q3</td>\n",
       "      <td>4 Neither</td>\n",
       "      <td>1326</td>\n",
       "      <td>14.965740</td>\n",
       "    </tr>\n",
       "    <tr>\n",
       "      <th>4</th>\n",
       "      <td>Adoption</td>\n",
       "      <td>2015</td>\n",
       "      <td>Q3</td>\n",
       "      <td>5 Unknown</td>\n",
       "      <td>15</td>\n",
       "      <td>20.438095</td>\n",
       "    </tr>\n",
       "    <tr>\n",
       "      <th>5</th>\n",
       "      <td>Adoption</td>\n",
       "      <td>2015</td>\n",
       "      <td>Q3</td>\n",
       "      <td>All</td>\n",
       "      <td>1461</td>\n",
       "      <td>15.839249</td>\n",
       "    </tr>\n",
       "  </tbody>\n",
       "</table>\n",
       "</div>"
      ],
      "text/plain": [
       "       type  year quarter            rep_cat     n       mean\n",
       "0  Adoption  2015      Q3             1 Both    16  28.651786\n",
       "1  Adoption  2015      Q3   2 Applicant Only    60  21.635714\n",
       "2  Adoption  2015      Q3  3 Respondent Only    44  28.032468\n",
       "3  Adoption  2015      Q3          4 Neither  1326  14.965740\n",
       "4  Adoption  2015      Q3          5 Unknown    15  20.438095\n",
       "5  Adoption  2015      Q3                All  1461  15.839249"
      ]
     },
     "execution_count": 295,
     "metadata": {},
     "output_type": "execute_result"
    }
   ],
   "source": [
    "create_Adopt_Quarterly = f\"\"\"\n",
    "CREATE TABLE IF NOT EXISTS fcsq.Adopt_Quarterly\n",
    "WITH (format = 'PARQUET', external_location = 's3://alpha-family-data/fcsq_processing/Adoption/Adopt_Quarterly') AS\n",
    "SELECT DISTINCT\n",
    "        'Adoption' as type,\n",
    "        year,\n",
    "        'Q' || cast(quarter as varchar(3)) AS quarter,\n",
    "        rep_cat,\n",
    "        count(*) as n,\n",
    "        avg(wait_weeks) as mean\n",
    "    FROM \n",
    "        __temp__.ADOPT_DISPOSALS_FINAL_2\n",
    "    WHERE year > 2010\n",
    "    AND adoption='Adoption'\n",
    "GROUP BY\n",
    "    year,\n",
    "    quarter,\n",
    "    rep_cat\n",
    "    \n",
    "UNION ALL\n",
    "SELECT DISTINCT\n",
    "        'Adoption' as type,\n",
    "        year,\n",
    "        'Q' || cast(quarter as varchar(3)) AS quarter,\n",
    "        'All' as rep_cat,\n",
    "        count(*) as n,\n",
    "        avg(wait_weeks) as mean\n",
    "    FROM \n",
    "        __temp__.ADOPT_DISPOSALS_FINAL_2\n",
    "    WHERE year > 2010 \n",
    "    AND adoption='Adoption'\n",
    "GROUP BY\n",
    "    year,\n",
    "    quarter\n",
    "\"\"\"\n",
    "\n",
    "\n",
    "pydb.start_query_execution_and_wait(create_Adopt_Quarterly)\n",
    "\n",
    "\n",
    "\n"
   ]
  },
  {
   "cell_type": "markdown",
   "metadata": {},
   "source": [
    "#### Adopt_Quarterly validation"
   ]
  },
  {
   "cell_type": "code",
   "execution_count": 296,
   "metadata": {},
   "outputs": [
    {
     "data": {
      "text/html": [
       "<div>\n",
       "<style scoped>\n",
       "    .dataframe tbody tr th:only-of-type {\n",
       "        vertical-align: middle;\n",
       "    }\n",
       "\n",
       "    .dataframe tbody tr th {\n",
       "        vertical-align: top;\n",
       "    }\n",
       "\n",
       "    .dataframe thead th {\n",
       "        text-align: right;\n",
       "    }\n",
       "</style>\n",
       "<table border=\"1\" class=\"dataframe\">\n",
       "  <thead>\n",
       "    <tr style=\"text-align: right;\">\n",
       "      <th></th>\n",
       "      <th>count</th>\n",
       "    </tr>\n",
       "  </thead>\n",
       "  <tbody>\n",
       "    <tr>\n",
       "      <th>0</th>\n",
       "      <td>276</td>\n",
       "    </tr>\n",
       "  </tbody>\n",
       "</table>\n",
       "</div>"
      ],
      "text/plain": [
       "   count\n",
       "0    276"
      ]
     },
     "execution_count": 296,
     "metadata": {},
     "output_type": "execute_result"
    }
   ],
   "source": [
    "Adopt_Quarterly_count = pydb.read_sql_query(\"select count(*) as count from fcsq.Adopt_Quarterly\")\n",
    "Adopt_Quarterly_count"
   ]
  },
  {
   "cell_type": "markdown",
   "metadata": {},
   "source": [
    "## 28. Adopt_Annual table - groups the disposals_final table annually, providing a total and mean wait_weeks annually\n",
    "<a name=\"Adopt_Annual\"></a>"
   ]
  },
  {
   "cell_type": "markdown",
   "metadata": {},
   "source": [
    "### Drop the Adopt_Annual table if it already exists and remove its data from the S3 bucket"
   ]
  },
  {
   "cell_type": "code",
   "execution_count": 298,
   "metadata": {},
   "outputs": [],
   "source": [
    "drop_Adopt_Annual = f\"\"\"\n",
    "DROP TABLE IF EXISTS fcsq.Adopt_Annual;\n",
    "\"\"\"\n",
    "pydb.start_query_execution_and_wait(drop_Adopt_Annual)\n",
    "\n",
    "# clean up previous Adopt_Annual files\n",
    "bucket.objects.filter(Prefix=\"fcsq_processing/Adoption/Adopt_Annual/\").delete();"
   ]
  },
  {
   "cell_type": "markdown",
   "metadata": {},
   "source": [
    "### Create the Adopt_Annual table in Athena"
   ]
  },
  {
   "cell_type": "code",
   "execution_count": 299,
   "metadata": {},
   "outputs": [],
   "source": [
    "create_Adopt_Annual = f\"\"\"\n",
    "CREATE TABLE IF NOT EXISTS fcsq.Adopt_Annual\n",
    "WITH (format = 'PARQUET', external_location = 's3://alpha-family-data/fcsq_processing/Adoption/Adopt_Annual') AS\n",
    "SELECT DISTINCT\n",
    "        'Adoption' as type,\n",
    "        year,\n",
    "        'N/A' as quarter,\n",
    "        rep_cat,\n",
    "        count(*) as n,\n",
    "        avg(wait_weeks) as mean\n",
    "    FROM \n",
    "        __temp__.ADOPT_DISPOSALS_FINAL_2\n",
    "    WHERE year > 2010 \n",
    "    AND year < 2022\n",
    "    AND adoption='Adoption'\n",
    "GROUP BY\n",
    "    year,\n",
    "    rep_cat\n",
    "    \n",
    "UNION ALL\n",
    "SELECT DISTINCT\n",
    "        'Adoption' as type,\n",
    "        year,\n",
    "        'N/A' as quarter,\n",
    "        'All' as rep_cat,\n",
    "        count(*) as n,\n",
    "        avg(wait_weeks) as mean\n",
    "    FROM \n",
    "        __temp__.ADOPT_DISPOSALS_FINAL_2\n",
    "    WHERE year > 2010 \n",
    "    AND year < 2022\n",
    "    AND adoption='Adoption'\n",
    "GROUP BY\n",
    "    year\n",
    "\"\"\"\n",
    "\n",
    "pydb.start_query_execution_and_wait(create_Adopt_Annual);\n",
    "\n"
   ]
  },
  {
   "cell_type": "markdown",
   "metadata": {},
   "source": [
    "#### Adopt_Annual validation"
   ]
  },
  {
   "cell_type": "code",
   "execution_count": 300,
   "metadata": {
    "scrolled": true
   },
   "outputs": [
    {
     "data": {
      "text/html": [
       "<div>\n",
       "<style scoped>\n",
       "    .dataframe tbody tr th:only-of-type {\n",
       "        vertical-align: middle;\n",
       "    }\n",
       "\n",
       "    .dataframe tbody tr th {\n",
       "        vertical-align: top;\n",
       "    }\n",
       "\n",
       "    .dataframe thead th {\n",
       "        text-align: right;\n",
       "    }\n",
       "</style>\n",
       "<table border=\"1\" class=\"dataframe\">\n",
       "  <thead>\n",
       "    <tr style=\"text-align: right;\">\n",
       "      <th></th>\n",
       "      <th>count</th>\n",
       "    </tr>\n",
       "  </thead>\n",
       "  <tbody>\n",
       "    <tr>\n",
       "      <th>0</th>\n",
       "      <td>66</td>\n",
       "    </tr>\n",
       "  </tbody>\n",
       "</table>\n",
       "</div>"
      ],
      "text/plain": [
       "   count\n",
       "0     66"
      ]
     },
     "execution_count": 300,
     "metadata": {},
     "output_type": "execute_result"
    }
   ],
   "source": [
    "Adopt_Annual_count = pydb.read_sql_query(\"select count(*) as count from fcsq.Adopt_Annual\")\n",
    "Adopt_Annual_count\n",
    "\n"
   ]
  },
  {
   "cell_type": "markdown",
   "metadata": {},
   "source": [
    "## 29. adopt_timeliness_combined table - combines and orders the annual and quarterly timeliness data \n",
    "<a name=\"Adopt_timeliness_combined\"></a>"
   ]
  },
  {
   "cell_type": "markdown",
   "metadata": {},
   "source": [
    "### Drop the adopt_timeliness_combined table if it already exists and remove its data from the S3 bucket"
   ]
  },
  {
   "cell_type": "code",
   "execution_count": 303,
   "metadata": {},
   "outputs": [],
   "source": [
    "drop_adopt_timeliness_combined = f\"\"\"\n",
    "DROP TABLE IF EXISTS fcsq.adopt_timeliness_combined;\n",
    "\"\"\"\n",
    "pydb.start_query_execution_and_wait(drop_adopt_timeliness_combined)\n",
    "\n",
    "# clean up previous adopt_timeliness_combined files\n",
    "bucket.objects.filter(Prefix=\"fcsq_processing/Adoption/adopt_timeliness_combined/\").delete();"
   ]
  },
  {
   "cell_type": "markdown",
   "metadata": {},
   "source": [
    "### Create the adopt_timeliness_combined table in Athena"
   ]
  },
  {
   "cell_type": "code",
   "execution_count": 304,
   "metadata": {
    "tags": []
   },
   "outputs": [],
   "source": [
    "create_adopt_timeliness_combined = f\"\"\"\n",
    "CREATE TABLE IF NOT EXISTS fcsq.adopt_timeliness_combined\n",
    "WITH (format = 'PARQUET', external_location = 's3://alpha-family-data/fcsq_processing/Adoption/adopt_timeliness_combined') AS\n",
    "SELECT * FROM fcsq.Adopt_Annual \n",
    "UNION ALL \n",
    "SELECT * FROM fcsq.Adopt_Quarterly ORDER BY type,year,quarter,rep_cat\n",
    "\"\"\"\n",
    "\n",
    "pydb.start_query_execution_and_wait(create_adopt_timeliness_combined);\n",
    "\n"
   ]
  },
  {
   "cell_type": "markdown",
   "metadata": {},
   "source": [
    "#### adopt_timeliness_combined validation"
   ]
  },
  {
   "cell_type": "code",
   "execution_count": 305,
   "metadata": {},
   "outputs": [
    {
     "data": {
      "text/html": [
       "<div>\n",
       "<style scoped>\n",
       "    .dataframe tbody tr th:only-of-type {\n",
       "        vertical-align: middle;\n",
       "    }\n",
       "\n",
       "    .dataframe tbody tr th {\n",
       "        vertical-align: top;\n",
       "    }\n",
       "\n",
       "    .dataframe thead th {\n",
       "        text-align: right;\n",
       "    }\n",
       "</style>\n",
       "<table border=\"1\" class=\"dataframe\">\n",
       "  <thead>\n",
       "    <tr style=\"text-align: right;\">\n",
       "      <th></th>\n",
       "      <th>count</th>\n",
       "    </tr>\n",
       "  </thead>\n",
       "  <tbody>\n",
       "    <tr>\n",
       "      <th>0</th>\n",
       "      <td>342</td>\n",
       "    </tr>\n",
       "  </tbody>\n",
       "</table>\n",
       "</div>"
      ],
      "text/plain": [
       "   count\n",
       "0    342"
      ]
     },
     "execution_count": 305,
     "metadata": {},
     "output_type": "execute_result"
    }
   ],
   "source": [
    "adopt_timeliness_combined_count = pydb.read_sql_query(\"select count(*) as count from fcsq.adopt_timeliness_combined\")\n",
    "adopt_timeliness_combined_count"
   ]
  },
  {
   "cell_type": "code",
   "execution_count": 6,
   "metadata": {},
   "outputs": [
    {
     "data": {
      "text/html": [
       "<div>\n",
       "<style scoped>\n",
       "    .dataframe tbody tr th:only-of-type {\n",
       "        vertical-align: middle;\n",
       "    }\n",
       "\n",
       "    .dataframe tbody tr th {\n",
       "        vertical-align: top;\n",
       "    }\n",
       "\n",
       "    .dataframe thead th {\n",
       "        text-align: right;\n",
       "    }\n",
       "</style>\n",
       "<table border=\"1\" class=\"dataframe\">\n",
       "  <thead>\n",
       "    <tr style=\"text-align: right;\">\n",
       "      <th></th>\n",
       "      <th>type</th>\n",
       "      <th>year</th>\n",
       "      <th>quarter</th>\n",
       "      <th>rep_cat</th>\n",
       "      <th>n</th>\n",
       "      <th>mean</th>\n",
       "    </tr>\n",
       "  </thead>\n",
       "  <tbody>\n",
       "    <tr>\n",
       "      <th>0</th>\n",
       "      <td>Adoption</td>\n",
       "      <td>2011</td>\n",
       "      <td>N/A</td>\n",
       "      <td>1 Both</td>\n",
       "      <td>93</td>\n",
       "      <td>29.124424</td>\n",
       "    </tr>\n",
       "    <tr>\n",
       "      <th>1</th>\n",
       "      <td>Adoption</td>\n",
       "      <td>2011</td>\n",
       "      <td>N/A</td>\n",
       "      <td>2 Applicant Only</td>\n",
       "      <td>252</td>\n",
       "      <td>19.257370</td>\n",
       "    </tr>\n",
       "    <tr>\n",
       "      <th>2</th>\n",
       "      <td>Adoption</td>\n",
       "      <td>2011</td>\n",
       "      <td>N/A</td>\n",
       "      <td>3 Respondent Only</td>\n",
       "      <td>179</td>\n",
       "      <td>19.018356</td>\n",
       "    </tr>\n",
       "    <tr>\n",
       "      <th>3</th>\n",
       "      <td>Adoption</td>\n",
       "      <td>2011</td>\n",
       "      <td>N/A</td>\n",
       "      <td>4 Neither</td>\n",
       "      <td>3968</td>\n",
       "      <td>15.529558</td>\n",
       "    </tr>\n",
       "    <tr>\n",
       "      <th>4</th>\n",
       "      <td>Adoption</td>\n",
       "      <td>2011</td>\n",
       "      <td>N/A</td>\n",
       "      <td>5 Unknown</td>\n",
       "      <td>172</td>\n",
       "      <td>15.033223</td>\n",
       "    </tr>\n",
       "    <tr>\n",
       "      <th>...</th>\n",
       "      <td>...</td>\n",
       "      <td>...</td>\n",
       "      <td>...</td>\n",
       "      <td>...</td>\n",
       "      <td>...</td>\n",
       "      <td>...</td>\n",
       "    </tr>\n",
       "    <tr>\n",
       "      <th>337</th>\n",
       "      <td>Adoption</td>\n",
       "      <td>2022</td>\n",
       "      <td>Q2</td>\n",
       "      <td>2 Applicant Only</td>\n",
       "      <td>11</td>\n",
       "      <td>20.181818</td>\n",
       "    </tr>\n",
       "    <tr>\n",
       "      <th>338</th>\n",
       "      <td>Adoption</td>\n",
       "      <td>2022</td>\n",
       "      <td>Q2</td>\n",
       "      <td>3 Respondent Only</td>\n",
       "      <td>31</td>\n",
       "      <td>28.834101</td>\n",
       "    </tr>\n",
       "    <tr>\n",
       "      <th>339</th>\n",
       "      <td>Adoption</td>\n",
       "      <td>2022</td>\n",
       "      <td>Q2</td>\n",
       "      <td>4 Neither</td>\n",
       "      <td>625</td>\n",
       "      <td>21.512457</td>\n",
       "    </tr>\n",
       "    <tr>\n",
       "      <th>340</th>\n",
       "      <td>Adoption</td>\n",
       "      <td>2022</td>\n",
       "      <td>Q2</td>\n",
       "      <td>5 Unknown</td>\n",
       "      <td>3</td>\n",
       "      <td>14.523810</td>\n",
       "    </tr>\n",
       "    <tr>\n",
       "      <th>341</th>\n",
       "      <td>Adoption</td>\n",
       "      <td>2022</td>\n",
       "      <td>Q2</td>\n",
       "      <td>All</td>\n",
       "      <td>675</td>\n",
       "      <td>22.029206</td>\n",
       "    </tr>\n",
       "  </tbody>\n",
       "</table>\n",
       "<p>342 rows × 6 columns</p>\n",
       "</div>"
      ],
      "text/plain": [
       "         type  year quarter            rep_cat     n       mean\n",
       "0    Adoption  2011     N/A             1 Both    93  29.124424\n",
       "1    Adoption  2011     N/A   2 Applicant Only   252  19.257370\n",
       "2    Adoption  2011     N/A  3 Respondent Only   179  19.018356\n",
       "3    Adoption  2011     N/A          4 Neither  3968  15.529558\n",
       "4    Adoption  2011     N/A          5 Unknown   172  15.033223\n",
       "..        ...   ...     ...                ...   ...        ...\n",
       "337  Adoption  2022      Q2   2 Applicant Only    11  20.181818\n",
       "338  Adoption  2022      Q2  3 Respondent Only    31  28.834101\n",
       "339  Adoption  2022      Q2          4 Neither   625  21.512457\n",
       "340  Adoption  2022      Q2          5 Unknown     3  14.523810\n",
       "341  Adoption  2022      Q2                All   675  22.029206\n",
       "\n",
       "[342 rows x 6 columns]"
      ]
     },
     "execution_count": 6,
     "metadata": {},
     "output_type": "execute_result"
    }
   ],
   "source": [
    "pydb.read_sql_query(\"select * from fcsq.adopt_timeliness_combined\")"
   ]
  },
  {
   "cell_type": "code",
   "execution_count": 65,
   "metadata": {},
   "outputs": [],
   "source": [
    "lookup_table = f\"\"\"\n",
    "SELECT \n",
    "CASE when quarter = 'N/A' THEN \n",
    "type || '|' ||cast(year as varchar(20))||'|'\n",
    "ELSE\n",
    "type || '|' ||cast(year as varchar(20))||'|' || quarter || '|' end as lookup,\n",
    "rep_cat,\n",
    "n,\n",
    "mean\n",
    "from fcsq.adopt_timeliness_combined;\n",
    "\"\"\"\n",
    "\n",
    "pydb.create_temp_table(lookup_table, 'lookup_table')"
   ]
  },
  {
   "cell_type": "code",
   "execution_count": 67,
   "metadata": {},
   "outputs": [],
   "source": [
    "n_count_table = f\"\"\"\n",
    "SELECT\n",
    "lookup,\n",
    "map_n['1 Both'] as \"1_Bothn\",\n",
    "map_n['2 Applicant Only'] as \"2_Applicant_Onlyn\",\n",
    "map_n['3 Respondent Only'] as \"3_Respondent_Onlyn\",\n",
    "map_n['4 Neither'] as \"4_Neithern\",\n",
    "map_n['5 Unknown'] as \"5_Unknown\",\n",
    "map_n['All'] as \"Alln\"\n",
    "from (\n",
    "SELECT \n",
    "lookup,\n",
    "map_agg(\n",
    "rep_cat,\n",
    "n\n",
    ") map_n\n",
    "FROM __temp__.test\n",
    "group by lookup) \n",
    "order by lookup;\n",
    "\"\"\"\n",
    "pydb.create_temp_table(n_count_table,'n_count_table')\n",
    "\n",
    "mean_table = f\"\"\"\n",
    "SELECT\n",
    "lookup,\n",
    "map_mean['1 Both'] as \"1_Both_mean\",\n",
    "map_mean['2 Applicant Only'] as \"2_Applicant_Only_mean\",\n",
    "map_mean['3 Respondent Only'] as \"3_Respondent_Only_mean\",\n",
    "map_mean['4 Neither'] as \"4_Neither_mean\",\n",
    "map_mean['5 Unknown'] as \"5_Unknown_mean\",\n",
    "map_mean['All'] as \"All_mean\"\n",
    "from (\n",
    "SELECT \n",
    "lookup,\n",
    "map_agg(\n",
    "rep_cat,\n",
    "mean\n",
    ") map_mean\n",
    "FROM __temp__.test\n",
    "group by lookup) \n",
    "order by lookup;\n",
    "\"\"\"\n",
    "\n",
    "pydb.create_temp_table(mean_table,'mean_table')\n",
    "\n",
    "\n",
    "\n",
    "\n",
    "\n"
   ]
  },
  {
   "cell_type": "code",
   "execution_count": 69,
   "metadata": {},
   "outputs": [],
   "source": [
    "csv_output_table =\"\"\"\n",
    "SELECT \n",
    "t1.lookup,\n",
    "t1.\"1_Bothn\",\n",
    "t2.\"1_Both_mean\",\n",
    "t1.\"2_Applicant_Onlyn\",\n",
    "t2.\"2_Applicant_Only_mean\",\n",
    "t1.\"3_Respondent_Onlyn\",\n",
    "t2.\"3_Respondent_Only_mean\",\n",
    "t1.\"4_Neithern\",\n",
    "t2.\"4_Neither_mean\",\n",
    "t1.\"5_Unknown\",\n",
    "t2.\"5_Unknown_mean\",\n",
    "t1.\"Alln\",\n",
    "t2.\"All_mean\"\n",
    "from \n",
    "__temp__.n_count_table t1\n",
    "INNER JOIN\n",
    "__temp__.mean_table t2\n",
    "on (t1.lookup = t2.lookup);\n",
    "\"\"\"\n",
    "\n",
    "\n",
    "df = pydb.read_sql_query(csv_output_table)\n",
    "df.to_csv(path_or_buf = 's3://alpha-family-data/CSVs/Adoption_Timeliness.csv',index=False)"
   ]
  },
  {
   "cell_type": "code",
   "execution_count": 3,
   "metadata": {
    "scrolled": false
   },
   "outputs": [
    {
     "data": {
      "text/html": [
       "<div>\n",
       "<style scoped>\n",
       "    .dataframe tbody tr th:only-of-type {\n",
       "        vertical-align: middle;\n",
       "    }\n",
       "\n",
       "    .dataframe tbody tr th {\n",
       "        vertical-align: top;\n",
       "    }\n",
       "\n",
       "    .dataframe thead tr th {\n",
       "        text-align: left;\n",
       "    }\n",
       "\n",
       "    .dataframe thead tr:last-of-type th {\n",
       "        text-align: right;\n",
       "    }\n",
       "</style>\n",
       "<table border=\"1\" class=\"dataframe\">\n",
       "  <thead>\n",
       "    <tr>\n",
       "      <th></th>\n",
       "      <th></th>\n",
       "      <th>rep_cat</th>\n",
       "      <th colspan=\"2\" halign=\"left\">1 Both</th>\n",
       "      <th colspan=\"2\" halign=\"left\">2 Applicant Only</th>\n",
       "      <th colspan=\"2\" halign=\"left\">3 Respondent Only</th>\n",
       "      <th colspan=\"2\" halign=\"left\">4 Neither</th>\n",
       "      <th colspan=\"2\" halign=\"left\">5 Unknown</th>\n",
       "      <th colspan=\"2\" halign=\"left\">All</th>\n",
       "    </tr>\n",
       "    <tr>\n",
       "      <th></th>\n",
       "      <th></th>\n",
       "      <th></th>\n",
       "      <th>mean</th>\n",
       "      <th>n</th>\n",
       "      <th>mean</th>\n",
       "      <th>n</th>\n",
       "      <th>mean</th>\n",
       "      <th>n</th>\n",
       "      <th>mean</th>\n",
       "      <th>n</th>\n",
       "      <th>mean</th>\n",
       "      <th>n</th>\n",
       "      <th>mean</th>\n",
       "      <th>n</th>\n",
       "    </tr>\n",
       "    <tr>\n",
       "      <th>type</th>\n",
       "      <th>year</th>\n",
       "      <th>quarter</th>\n",
       "      <th></th>\n",
       "      <th></th>\n",
       "      <th></th>\n",
       "      <th></th>\n",
       "      <th></th>\n",
       "      <th></th>\n",
       "      <th></th>\n",
       "      <th></th>\n",
       "      <th></th>\n",
       "      <th></th>\n",
       "      <th></th>\n",
       "      <th></th>\n",
       "    </tr>\n",
       "  </thead>\n",
       "  <tbody>\n",
       "    <tr>\n",
       "      <th rowspan=\"57\" valign=\"top\">Adoption</th>\n",
       "      <th rowspan=\"5\" valign=\"top\">2011</th>\n",
       "      <th>N/A</th>\n",
       "      <td>29.124424</td>\n",
       "      <td>93</td>\n",
       "      <td>19.257370</td>\n",
       "      <td>252</td>\n",
       "      <td>19.018356</td>\n",
       "      <td>179</td>\n",
       "      <td>15.529558</td>\n",
       "      <td>3968</td>\n",
       "      <td>15.033223</td>\n",
       "      <td>172</td>\n",
       "      <td>16.117649</td>\n",
       "      <td>4664</td>\n",
       "    </tr>\n",
       "    <tr>\n",
       "      <th>Q1</th>\n",
       "      <td>32.278195</td>\n",
       "      <td>19</td>\n",
       "      <td>21.970522</td>\n",
       "      <td>63</td>\n",
       "      <td>20.758242</td>\n",
       "      <td>39</td>\n",
       "      <td>15.853214</td>\n",
       "      <td>909</td>\n",
       "      <td>14.145963</td>\n",
       "      <td>46</td>\n",
       "      <td>16.606213</td>\n",
       "      <td>1076</td>\n",
       "    </tr>\n",
       "    <tr>\n",
       "      <th>Q2</th>\n",
       "      <td>34.033613</td>\n",
       "      <td>17</td>\n",
       "      <td>19.384615</td>\n",
       "      <td>52</td>\n",
       "      <td>16.620130</td>\n",
       "      <td>44</td>\n",
       "      <td>14.730476</td>\n",
       "      <td>1050</td>\n",
       "      <td>15.293233</td>\n",
       "      <td>38</td>\n",
       "      <td>15.292256</td>\n",
       "      <td>1201</td>\n",
       "    </tr>\n",
       "    <tr>\n",
       "      <th>Q3</th>\n",
       "      <td>26.396825</td>\n",
       "      <td>27</td>\n",
       "      <td>16.682540</td>\n",
       "      <td>63</td>\n",
       "      <td>19.961039</td>\n",
       "      <td>44</td>\n",
       "      <td>15.817739</td>\n",
       "      <td>968</td>\n",
       "      <td>14.298030</td>\n",
       "      <td>58</td>\n",
       "      <td>16.192118</td>\n",
       "      <td>1160</td>\n",
       "    </tr>\n",
       "    <tr>\n",
       "      <th>Q4</th>\n",
       "      <td>26.800000</td>\n",
       "      <td>30</td>\n",
       "      <td>19.050193</td>\n",
       "      <td>74</td>\n",
       "      <td>18.945055</td>\n",
       "      <td>52</td>\n",
       "      <td>15.784960</td>\n",
       "      <td>1041</td>\n",
       "      <td>17.485714</td>\n",
       "      <td>30</td>\n",
       "      <td>16.426709</td>\n",
       "      <td>1227</td>\n",
       "    </tr>\n",
       "    <tr>\n",
       "      <th rowspan=\"5\" valign=\"top\">2012</th>\n",
       "      <th>N/A</th>\n",
       "      <td>29.933333</td>\n",
       "      <td>75</td>\n",
       "      <td>23.284467</td>\n",
       "      <td>229</td>\n",
       "      <td>19.105551</td>\n",
       "      <td>157</td>\n",
       "      <td>14.427927</td>\n",
       "      <td>4652</td>\n",
       "      <td>18.880272</td>\n",
       "      <td>105</td>\n",
       "      <td>15.269808</td>\n",
       "      <td>5218</td>\n",
       "    </tr>\n",
       "    <tr>\n",
       "      <th>Q1</th>\n",
       "      <td>27.296703</td>\n",
       "      <td>13</td>\n",
       "      <td>22.721550</td>\n",
       "      <td>59</td>\n",
       "      <td>20.084249</td>\n",
       "      <td>39</td>\n",
       "      <td>14.796361</td>\n",
       "      <td>1060</td>\n",
       "      <td>17.520000</td>\n",
       "      <td>25</td>\n",
       "      <td>15.552556</td>\n",
       "      <td>1196</td>\n",
       "    </tr>\n",
       "    <tr>\n",
       "      <th>Q2</th>\n",
       "      <td>30.123810</td>\n",
       "      <td>15</td>\n",
       "      <td>26.263039</td>\n",
       "      <td>63</td>\n",
       "      <td>17.937729</td>\n",
       "      <td>39</td>\n",
       "      <td>14.487096</td>\n",
       "      <td>1096</td>\n",
       "      <td>20.220408</td>\n",
       "      <td>35</td>\n",
       "      <td>15.538118</td>\n",
       "      <td>1248</td>\n",
       "    </tr>\n",
       "    <tr>\n",
       "      <th>Q3</th>\n",
       "      <td>33.366460</td>\n",
       "      <td>23</td>\n",
       "      <td>21.293956</td>\n",
       "      <td>52</td>\n",
       "      <td>21.833977</td>\n",
       "      <td>37</td>\n",
       "      <td>14.630694</td>\n",
       "      <td>1198</td>\n",
       "      <td>19.529762</td>\n",
       "      <td>24</td>\n",
       "      <td>15.501392</td>\n",
       "      <td>1334</td>\n",
       "    </tr>\n",
       "    <tr>\n",
       "      <th>Q4</th>\n",
       "      <td>27.952381</td>\n",
       "      <td>24</td>\n",
       "      <td>22.358442</td>\n",
       "      <td>55</td>\n",
       "      <td>16.877551</td>\n",
       "      <td>42</td>\n",
       "      <td>13.889941</td>\n",
       "      <td>1298</td>\n",
       "      <td>17.523810</td>\n",
       "      <td>21</td>\n",
       "      <td>14.587897</td>\n",
       "      <td>1440</td>\n",
       "    </tr>\n",
       "    <tr>\n",
       "      <th rowspan=\"5\" valign=\"top\">2013</th>\n",
       "      <th>N/A</th>\n",
       "      <td>28.295367</td>\n",
       "      <td>74</td>\n",
       "      <td>20.768116</td>\n",
       "      <td>207</td>\n",
       "      <td>19.068161</td>\n",
       "      <td>153</td>\n",
       "      <td>14.196926</td>\n",
       "      <td>5530</td>\n",
       "      <td>15.414747</td>\n",
       "      <td>62</td>\n",
       "      <td>14.731995</td>\n",
       "      <td>6026</td>\n",
       "    </tr>\n",
       "    <tr>\n",
       "      <th>Q1</th>\n",
       "      <td>37.376623</td>\n",
       "      <td>22</td>\n",
       "      <td>21.320106</td>\n",
       "      <td>54</td>\n",
       "      <td>21.282738</td>\n",
       "      <td>48</td>\n",
       "      <td>14.628715</td>\n",
       "      <td>1192</td>\n",
       "      <td>19.129870</td>\n",
       "      <td>11</td>\n",
       "      <td>15.556142</td>\n",
       "      <td>1327</td>\n",
       "    </tr>\n",
       "    <tr>\n",
       "      <th>Q2</th>\n",
       "      <td>23.292208</td>\n",
       "      <td>22</td>\n",
       "      <td>18.232143</td>\n",
       "      <td>56</td>\n",
       "      <td>17.894180</td>\n",
       "      <td>54</td>\n",
       "      <td>14.060805</td>\n",
       "      <td>1459</td>\n",
       "      <td>14.731429</td>\n",
       "      <td>25</td>\n",
       "      <td>14.469501</td>\n",
       "      <td>1616</td>\n",
       "    </tr>\n",
       "    <tr>\n",
       "      <th>Q3</th>\n",
       "      <td>29.659341</td>\n",
       "      <td>13</td>\n",
       "      <td>19.103448</td>\n",
       "      <td>58</td>\n",
       "      <td>18.464286</td>\n",
       "      <td>28</td>\n",
       "      <td>13.578354</td>\n",
       "      <td>1444</td>\n",
       "      <td>17.704762</td>\n",
       "      <td>15</td>\n",
       "      <td>14.045755</td>\n",
       "      <td>1558</td>\n",
       "    </tr>\n",
       "    <tr>\n",
       "      <th>Q4</th>\n",
       "      <td>21.974790</td>\n",
       "      <td>17</td>\n",
       "      <td>26.120879</td>\n",
       "      <td>39</td>\n",
       "      <td>17.937888</td>\n",
       "      <td>23</td>\n",
       "      <td>14.599104</td>\n",
       "      <td>1435</td>\n",
       "      <td>10.129870</td>\n",
       "      <td>11</td>\n",
       "      <td>14.994098</td>\n",
       "      <td>1525</td>\n",
       "    </tr>\n",
       "    <tr>\n",
       "      <th rowspan=\"5\" valign=\"top\">2014</th>\n",
       "      <th>N/A</th>\n",
       "      <td>30.596059</td>\n",
       "      <td>58</td>\n",
       "      <td>22.310924</td>\n",
       "      <td>238</td>\n",
       "      <td>23.215015</td>\n",
       "      <td>196</td>\n",
       "      <td>15.263089</td>\n",
       "      <td>6131</td>\n",
       "      <td>31.181406</td>\n",
       "      <td>63</td>\n",
       "      <td>16.030084</td>\n",
       "      <td>6686</td>\n",
       "    </tr>\n",
       "    <tr>\n",
       "      <th>Q1</th>\n",
       "      <td>20.285714</td>\n",
       "      <td>5</td>\n",
       "      <td>18.060440</td>\n",
       "      <td>52</td>\n",
       "      <td>22.109023</td>\n",
       "      <td>38</td>\n",
       "      <td>14.592715</td>\n",
       "      <td>1510</td>\n",
       "      <td>14.983193</td>\n",
       "      <td>17</td>\n",
       "      <td>14.901621</td>\n",
       "      <td>1622</td>\n",
       "    </tr>\n",
       "    <tr>\n",
       "      <th>Q2</th>\n",
       "      <td>35.344538</td>\n",
       "      <td>17</td>\n",
       "      <td>24.778061</td>\n",
       "      <td>56</td>\n",
       "      <td>23.863636</td>\n",
       "      <td>44</td>\n",
       "      <td>14.656734</td>\n",
       "      <td>1539</td>\n",
       "      <td>12.047619</td>\n",
       "      <td>15</td>\n",
       "      <td>15.425408</td>\n",
       "      <td>1671</td>\n",
       "    </tr>\n",
       "    <tr>\n",
       "      <th>Q3</th>\n",
       "      <td>28.849206</td>\n",
       "      <td>18</td>\n",
       "      <td>21.009070</td>\n",
       "      <td>63</td>\n",
       "      <td>22.862245</td>\n",
       "      <td>56</td>\n",
       "      <td>16.589554</td>\n",
       "      <td>1600</td>\n",
       "      <td>82.704762</td>\n",
       "      <td>15</td>\n",
       "      <td>17.640982</td>\n",
       "      <td>1752</td>\n",
       "    </tr>\n",
       "    <tr>\n",
       "      <th>Q4</th>\n",
       "      <td>30.722222</td>\n",
       "      <td>18</td>\n",
       "      <td>24.771855</td>\n",
       "      <td>67</td>\n",
       "      <td>23.788177</td>\n",
       "      <td>58</td>\n",
       "      <td>15.143725</td>\n",
       "      <td>1482</td>\n",
       "      <td>18.026786</td>\n",
       "      <td>16</td>\n",
       "      <td>16.041351</td>\n",
       "      <td>1641</td>\n",
       "    </tr>\n",
       "    <tr>\n",
       "      <th rowspan=\"5\" valign=\"top\">2015</th>\n",
       "      <th>N/A</th>\n",
       "      <td>28.826698</td>\n",
       "      <td>61</td>\n",
       "      <td>20.390756</td>\n",
       "      <td>204</td>\n",
       "      <td>24.996811</td>\n",
       "      <td>224</td>\n",
       "      <td>15.257169</td>\n",
       "      <td>5570</td>\n",
       "      <td>15.863265</td>\n",
       "      <td>70</td>\n",
       "      <td>15.925973</td>\n",
       "      <td>6129</td>\n",
       "    </tr>\n",
       "    <tr>\n",
       "      <th>Q1</th>\n",
       "      <td>27.846154</td>\n",
       "      <td>13</td>\n",
       "      <td>21.018433</td>\n",
       "      <td>62</td>\n",
       "      <td>24.060268</td>\n",
       "      <td>64</td>\n",
       "      <td>15.052715</td>\n",
       "      <td>1439</td>\n",
       "      <td>12.957143</td>\n",
       "      <td>20</td>\n",
       "      <td>15.722778</td>\n",
       "      <td>1598</td>\n",
       "    </tr>\n",
       "    <tr>\n",
       "      <th>Q2</th>\n",
       "      <td>28.727891</td>\n",
       "      <td>21</td>\n",
       "      <td>18.412698</td>\n",
       "      <td>36</td>\n",
       "      <td>25.857143</td>\n",
       "      <td>53</td>\n",
       "      <td>15.352426</td>\n",
       "      <td>1484</td>\n",
       "      <td>15.285714</td>\n",
       "      <td>18</td>\n",
       "      <td>15.939649</td>\n",
       "      <td>1612</td>\n",
       "    </tr>\n",
       "    <tr>\n",
       "      <th>Q3</th>\n",
       "      <td>28.651786</td>\n",
       "      <td>16</td>\n",
       "      <td>21.380145</td>\n",
       "      <td>59</td>\n",
       "      <td>28.032468</td>\n",
       "      <td>44</td>\n",
       "      <td>14.974104</td>\n",
       "      <td>1324</td>\n",
       "      <td>20.438095</td>\n",
       "      <td>15</td>\n",
       "      <td>15.833725</td>\n",
       "      <td>1458</td>\n",
       "    </tr>\n",
       "    <tr>\n",
       "      <th>Q4</th>\n",
       "      <td>30.428571</td>\n",
       "      <td>11</td>\n",
       "      <td>19.835866</td>\n",
       "      <td>47</td>\n",
       "      <td>23.104308</td>\n",
       "      <td>63</td>\n",
       "      <td>15.655977</td>\n",
       "      <td>1323</td>\n",
       "      <td>15.857143</td>\n",
       "      <td>17</td>\n",
       "      <td>16.225188</td>\n",
       "      <td>1461</td>\n",
       "    </tr>\n",
       "    <tr>\n",
       "      <th rowspan=\"5\" valign=\"top\">2016</th>\n",
       "      <th>N/A</th>\n",
       "      <td>37.101648</td>\n",
       "      <td>52</td>\n",
       "      <td>23.213346</td>\n",
       "      <td>152</td>\n",
       "      <td>26.427501</td>\n",
       "      <td>267</td>\n",
       "      <td>15.345046</td>\n",
       "      <td>5261</td>\n",
       "      <td>14.046083</td>\n",
       "      <td>31</td>\n",
       "      <td>16.255348</td>\n",
       "      <td>5763</td>\n",
       "    </tr>\n",
       "    <tr>\n",
       "      <th>Q1</th>\n",
       "      <td>44.342857</td>\n",
       "      <td>20</td>\n",
       "      <td>22.913621</td>\n",
       "      <td>43</td>\n",
       "      <td>28.942085</td>\n",
       "      <td>74</td>\n",
       "      <td>15.841837</td>\n",
       "      <td>1400</td>\n",
       "      <td>14.457143</td>\n",
       "      <td>10</td>\n",
       "      <td>17.024564</td>\n",
       "      <td>1547</td>\n",
       "    </tr>\n",
       "    <tr>\n",
       "      <th>Q2</th>\n",
       "      <td>37.438095</td>\n",
       "      <td>15</td>\n",
       "      <td>22.988095</td>\n",
       "      <td>36</td>\n",
       "      <td>27.747899</td>\n",
       "      <td>68</td>\n",
       "      <td>15.078587</td>\n",
       "      <td>1347</td>\n",
       "      <td>12.253968</td>\n",
       "      <td>9</td>\n",
       "      <td>16.065860</td>\n",
       "      <td>1475</td>\n",
       "    </tr>\n",
       "    <tr>\n",
       "      <th>Q3</th>\n",
       "      <td>29.732143</td>\n",
       "      <td>8</td>\n",
       "      <td>24.822394</td>\n",
       "      <td>37</td>\n",
       "      <td>24.474286</td>\n",
       "      <td>75</td>\n",
       "      <td>15.405766</td>\n",
       "      <td>1328</td>\n",
       "      <td>16.678571</td>\n",
       "      <td>4</td>\n",
       "      <td>16.196576</td>\n",
       "      <td>1452</td>\n",
       "    </tr>\n",
       "    <tr>\n",
       "      <th>Q4</th>\n",
       "      <td>27.000000</td>\n",
       "      <td>9</td>\n",
       "      <td>22.142857</td>\n",
       "      <td>36</td>\n",
       "      <td>23.840000</td>\n",
       "      <td>50</td>\n",
       "      <td>14.993255</td>\n",
       "      <td>1186</td>\n",
       "      <td>14.232143</td>\n",
       "      <td>8</td>\n",
       "      <td>15.615206</td>\n",
       "      <td>1289</td>\n",
       "    </tr>\n",
       "    <tr>\n",
       "      <th rowspan=\"5\" valign=\"top\">2017</th>\n",
       "      <th>N/A</th>\n",
       "      <td>35.755760</td>\n",
       "      <td>31</td>\n",
       "      <td>24.592955</td>\n",
       "      <td>146</td>\n",
       "      <td>26.694626</td>\n",
       "      <td>218</td>\n",
       "      <td>15.974002</td>\n",
       "      <td>4951</td>\n",
       "      <td>17.642857</td>\n",
       "      <td>38</td>\n",
       "      <td>16.767486</td>\n",
       "      <td>5384</td>\n",
       "    </tr>\n",
       "    <tr>\n",
       "      <th>Q1</th>\n",
       "      <td>34.857143</td>\n",
       "      <td>6</td>\n",
       "      <td>22.380952</td>\n",
       "      <td>27</td>\n",
       "      <td>27.767857</td>\n",
       "      <td>40</td>\n",
       "      <td>16.185660</td>\n",
       "      <td>1325</td>\n",
       "      <td>31.519481</td>\n",
       "      <td>11</td>\n",
       "      <td>16.832404</td>\n",
       "      <td>1409</td>\n",
       "    </tr>\n",
       "    <tr>\n",
       "      <th>Q2</th>\n",
       "      <td>44.946429</td>\n",
       "      <td>8</td>\n",
       "      <td>26.082540</td>\n",
       "      <td>45</td>\n",
       "      <td>27.590909</td>\n",
       "      <td>66</td>\n",
       "      <td>15.825767</td>\n",
       "      <td>1243</td>\n",
       "      <td>10.803571</td>\n",
       "      <td>8</td>\n",
       "      <td>16.870177</td>\n",
       "      <td>1370</td>\n",
       "    </tr>\n",
       "    <tr>\n",
       "      <th>Q3</th>\n",
       "      <td>33.653061</td>\n",
       "      <td>7</td>\n",
       "      <td>24.275000</td>\n",
       "      <td>40</td>\n",
       "      <td>24.140394</td>\n",
       "      <td>58</td>\n",
       "      <td>15.700554</td>\n",
       "      <td>1186</td>\n",
       "      <td>11.942857</td>\n",
       "      <td>10</td>\n",
       "      <td>16.408148</td>\n",
       "      <td>1301</td>\n",
       "    </tr>\n",
       "    <tr>\n",
       "      <th>Q4</th>\n",
       "      <td>30.414286</td>\n",
       "      <td>10</td>\n",
       "      <td>24.752101</td>\n",
       "      <td>34</td>\n",
       "      <td>27.547619</td>\n",
       "      <td>54</td>\n",
       "      <td>16.164578</td>\n",
       "      <td>1197</td>\n",
       "      <td>13.095238</td>\n",
       "      <td>9</td>\n",
       "      <td>16.947962</td>\n",
       "      <td>1304</td>\n",
       "    </tr>\n",
       "    <tr>\n",
       "      <th rowspan=\"5\" valign=\"top\">2018</th>\n",
       "      <th>N/A</th>\n",
       "      <td>35.281853</td>\n",
       "      <td>37</td>\n",
       "      <td>27.457818</td>\n",
       "      <td>127</td>\n",
       "      <td>28.500992</td>\n",
       "      <td>144</td>\n",
       "      <td>16.351726</td>\n",
       "      <td>4549</td>\n",
       "      <td>21.537415</td>\n",
       "      <td>21</td>\n",
       "      <td>17.165437</td>\n",
       "      <td>4878</td>\n",
       "    </tr>\n",
       "    <tr>\n",
       "      <th>Q1</th>\n",
       "      <td>37.542857</td>\n",
       "      <td>5</td>\n",
       "      <td>32.387755</td>\n",
       "      <td>28</td>\n",
       "      <td>32.587302</td>\n",
       "      <td>27</td>\n",
       "      <td>16.712400</td>\n",
       "      <td>1212</td>\n",
       "      <td>16.285714</td>\n",
       "      <td>7</td>\n",
       "      <td>17.469787</td>\n",
       "      <td>1279</td>\n",
       "    </tr>\n",
       "    <tr>\n",
       "      <th>Q2</th>\n",
       "      <td>35.000000</td>\n",
       "      <td>13</td>\n",
       "      <td>24.267857</td>\n",
       "      <td>24</td>\n",
       "      <td>28.808362</td>\n",
       "      <td>41</td>\n",
       "      <td>16.101485</td>\n",
       "      <td>1174</td>\n",
       "      <td>27.690476</td>\n",
       "      <td>6</td>\n",
       "      <td>16.921985</td>\n",
       "      <td>1258</td>\n",
       "    </tr>\n",
       "    <tr>\n",
       "      <th>Q3</th>\n",
       "      <td>29.102041</td>\n",
       "      <td>7</td>\n",
       "      <td>28.416327</td>\n",
       "      <td>35</td>\n",
       "      <td>25.902597</td>\n",
       "      <td>44</td>\n",
       "      <td>16.161860</td>\n",
       "      <td>1075</td>\n",
       "      <td>21.607143</td>\n",
       "      <td>4</td>\n",
       "      <td>16.994359</td>\n",
       "      <td>1165</td>\n",
       "    </tr>\n",
       "    <tr>\n",
       "      <th>Q4</th>\n",
       "      <td>38.250000</td>\n",
       "      <td>12</td>\n",
       "      <td>25.082143</td>\n",
       "      <td>40</td>\n",
       "      <td>28.232143</td>\n",
       "      <td>32</td>\n",
       "      <td>16.407563</td>\n",
       "      <td>1088</td>\n",
       "      <td>21.428571</td>\n",
       "      <td>4</td>\n",
       "      <td>17.264334</td>\n",
       "      <td>1176</td>\n",
       "    </tr>\n",
       "    <tr>\n",
       "      <th rowspan=\"5\" valign=\"top\">2019</th>\n",
       "      <th>N/A</th>\n",
       "      <td>43.699634</td>\n",
       "      <td>39</td>\n",
       "      <td>25.346939</td>\n",
       "      <td>91</td>\n",
       "      <td>28.081330</td>\n",
       "      <td>202</td>\n",
       "      <td>16.780320</td>\n",
       "      <td>4595</td>\n",
       "      <td>30.607143</td>\n",
       "      <td>32</td>\n",
       "      <td>17.698787</td>\n",
       "      <td>4959</td>\n",
       "    </tr>\n",
       "    <tr>\n",
       "      <th>Q1</th>\n",
       "      <td>49.866667</td>\n",
       "      <td>15</td>\n",
       "      <td>22.989011</td>\n",
       "      <td>26</td>\n",
       "      <td>29.013736</td>\n",
       "      <td>52</td>\n",
       "      <td>17.218186</td>\n",
       "      <td>1227</td>\n",
       "      <td>10.028571</td>\n",
       "      <td>5</td>\n",
       "      <td>18.136819</td>\n",
       "      <td>1325</td>\n",
       "    </tr>\n",
       "    <tr>\n",
       "      <th>Q2</th>\n",
       "      <td>42.314286</td>\n",
       "      <td>10</td>\n",
       "      <td>25.370130</td>\n",
       "      <td>22</td>\n",
       "      <td>27.411028</td>\n",
       "      <td>57</td>\n",
       "      <td>16.563806</td>\n",
       "      <td>1087</td>\n",
       "      <td>15.267857</td>\n",
       "      <td>8</td>\n",
       "      <td>17.458374</td>\n",
       "      <td>1184</td>\n",
       "    </tr>\n",
       "    <tr>\n",
       "      <th>Q3</th>\n",
       "      <td>37.553571</td>\n",
       "      <td>8</td>\n",
       "      <td>27.730769</td>\n",
       "      <td>26</td>\n",
       "      <td>28.920330</td>\n",
       "      <td>52</td>\n",
       "      <td>16.022491</td>\n",
       "      <td>1156</td>\n",
       "      <td>59.259740</td>\n",
       "      <td>11</td>\n",
       "      <td>17.317752</td>\n",
       "      <td>1253</td>\n",
       "    </tr>\n",
       "    <tr>\n",
       "      <th>Q4</th>\n",
       "      <td>38.785714</td>\n",
       "      <td>6</td>\n",
       "      <td>25.277311</td>\n",
       "      <td>17</td>\n",
       "      <td>26.766551</td>\n",
       "      <td>41</td>\n",
       "      <td>17.290667</td>\n",
       "      <td>1125</td>\n",
       "      <td>19.410714</td>\n",
       "      <td>8</td>\n",
       "      <td>17.850579</td>\n",
       "      <td>1197</td>\n",
       "    </tr>\n",
       "    <tr>\n",
       "      <th rowspan=\"5\" valign=\"top\">2020</th>\n",
       "      <th>N/A</th>\n",
       "      <td>73.662338</td>\n",
       "      <td>22</td>\n",
       "      <td>24.938556</td>\n",
       "      <td>93</td>\n",
       "      <td>33.497076</td>\n",
       "      <td>171</td>\n",
       "      <td>20.176166</td>\n",
       "      <td>3474</td>\n",
       "      <td>18.248447</td>\n",
       "      <td>23</td>\n",
       "      <td>21.194706</td>\n",
       "      <td>3783</td>\n",
       "    </tr>\n",
       "    <tr>\n",
       "      <th>Q1</th>\n",
       "      <td>32.714286</td>\n",
       "      <td>4</td>\n",
       "      <td>19.260073</td>\n",
       "      <td>39</td>\n",
       "      <td>28.877551</td>\n",
       "      <td>42</td>\n",
       "      <td>16.044033</td>\n",
       "      <td>996</td>\n",
       "      <td>12.089286</td>\n",
       "      <td>8</td>\n",
       "      <td>16.686344</td>\n",
       "      <td>1089</td>\n",
       "    </tr>\n",
       "    <tr>\n",
       "      <th>Q2</th>\n",
       "      <td>35.000000</td>\n",
       "      <td>3</td>\n",
       "      <td>23.369048</td>\n",
       "      <td>12</td>\n",
       "      <td>23.462585</td>\n",
       "      <td>21</td>\n",
       "      <td>19.257827</td>\n",
       "      <td>543</td>\n",
       "      <td>25.171429</td>\n",
       "      <td>5</td>\n",
       "      <td>19.625000</td>\n",
       "      <td>584</td>\n",
       "    </tr>\n",
       "    <tr>\n",
       "      <th>Q3</th>\n",
       "      <td>49.387755</td>\n",
       "      <td>7</td>\n",
       "      <td>31.000000</td>\n",
       "      <td>21</td>\n",
       "      <td>34.882353</td>\n",
       "      <td>51</td>\n",
       "      <td>22.521866</td>\n",
       "      <td>931</td>\n",
       "      <td>13.000000</td>\n",
       "      <td>2</td>\n",
       "      <td>23.487719</td>\n",
       "      <td>1012</td>\n",
       "    </tr>\n",
       "    <tr>\n",
       "      <th>Q4</th>\n",
       "      <td>129.875000</td>\n",
       "      <td>8</td>\n",
       "      <td>30.319728</td>\n",
       "      <td>21</td>\n",
       "      <td>39.358396</td>\n",
       "      <td>57</td>\n",
       "      <td>22.596898</td>\n",
       "      <td>1004</td>\n",
       "      <td>21.392857</td>\n",
       "      <td>8</td>\n",
       "      <td>24.387588</td>\n",
       "      <td>1098</td>\n",
       "    </tr>\n",
       "    <tr>\n",
       "      <th rowspan=\"5\" valign=\"top\">2021</th>\n",
       "      <th>N/A</th>\n",
       "      <td>62.302521</td>\n",
       "      <td>17</td>\n",
       "      <td>29.842193</td>\n",
       "      <td>86</td>\n",
       "      <td>33.541317</td>\n",
       "      <td>204</td>\n",
       "      <td>19.755705</td>\n",
       "      <td>4063</td>\n",
       "      <td>17.437500</td>\n",
       "      <td>32</td>\n",
       "      <td>20.739080</td>\n",
       "      <td>4402</td>\n",
       "    </tr>\n",
       "    <tr>\n",
       "      <th>Q1</th>\n",
       "      <td>40.761905</td>\n",
       "      <td>3</td>\n",
       "      <td>35.397516</td>\n",
       "      <td>23</td>\n",
       "      <td>35.932143</td>\n",
       "      <td>40</td>\n",
       "      <td>20.147810</td>\n",
       "      <td>1096</td>\n",
       "      <td>12.928571</td>\n",
       "      <td>8</td>\n",
       "      <td>20.990720</td>\n",
       "      <td>1170</td>\n",
       "    </tr>\n",
       "    <tr>\n",
       "      <th>Q2</th>\n",
       "      <td>46.523810</td>\n",
       "      <td>6</td>\n",
       "      <td>29.540373</td>\n",
       "      <td>23</td>\n",
       "      <td>36.027356</td>\n",
       "      <td>47</td>\n",
       "      <td>19.501002</td>\n",
       "      <td>1069</td>\n",
       "      <td>28.285714</td>\n",
       "      <td>4</td>\n",
       "      <td>20.549671</td>\n",
       "      <td>1149</td>\n",
       "    </tr>\n",
       "    <tr>\n",
       "      <th>Q3</th>\n",
       "      <td>93.971429</td>\n",
       "      <td>5</td>\n",
       "      <td>28.699248</td>\n",
       "      <td>19</td>\n",
       "      <td>31.618395</td>\n",
       "      <td>73</td>\n",
       "      <td>20.472793</td>\n",
       "      <td>995</td>\n",
       "      <td>18.883117</td>\n",
       "      <td>11</td>\n",
       "      <td>21.669473</td>\n",
       "      <td>1103</td>\n",
       "    </tr>\n",
       "    <tr>\n",
       "      <th>Q4</th>\n",
       "      <td>62.619048</td>\n",
       "      <td>3</td>\n",
       "      <td>25.122449</td>\n",
       "      <td>21</td>\n",
       "      <td>31.902597</td>\n",
       "      <td>44</td>\n",
       "      <td>18.791172</td>\n",
       "      <td>903</td>\n",
       "      <td>14.857143</td>\n",
       "      <td>9</td>\n",
       "      <td>19.613557</td>\n",
       "      <td>980</td>\n",
       "    </tr>\n",
       "    <tr>\n",
       "      <th rowspan=\"2\" valign=\"top\">2022</th>\n",
       "      <th>Q1</th>\n",
       "      <td>45.530612</td>\n",
       "      <td>7</td>\n",
       "      <td>30.742857</td>\n",
       "      <td>30</td>\n",
       "      <td>31.824675</td>\n",
       "      <td>44</td>\n",
       "      <td>20.779710</td>\n",
       "      <td>797</td>\n",
       "      <td>18.089286</td>\n",
       "      <td>8</td>\n",
       "      <td>21.836827</td>\n",
       "      <td>886</td>\n",
       "    </tr>\n",
       "    <tr>\n",
       "      <th>Q2</th>\n",
       "      <td>53.000000</td>\n",
       "      <td>5</td>\n",
       "      <td>20.181818</td>\n",
       "      <td>11</td>\n",
       "      <td>28.834101</td>\n",
       "      <td>31</td>\n",
       "      <td>21.512457</td>\n",
       "      <td>625</td>\n",
       "      <td>14.523810</td>\n",
       "      <td>3</td>\n",
       "      <td>22.029206</td>\n",
       "      <td>675</td>\n",
       "    </tr>\n",
       "  </tbody>\n",
       "</table>\n",
       "</div>"
      ],
      "text/plain": [
       "rep_cat               1 Both                2 Applicant Only        \\\n",
       "                                   mean   n              mean    n   \n",
       "type     year quarter                                                \n",
       "Adoption 2011 N/A             29.124424  93         19.257370  252   \n",
       "              Q1              32.278195  19         21.970522   63   \n",
       "              Q2              34.033613  17         19.384615   52   \n",
       "              Q3              26.396825  27         16.682540   63   \n",
       "              Q4              26.800000  30         19.050193   74   \n",
       "         2012 N/A             29.933333  75         23.284467  229   \n",
       "              Q1              27.296703  13         22.721550   59   \n",
       "              Q2              30.123810  15         26.263039   63   \n",
       "              Q3              33.366460  23         21.293956   52   \n",
       "              Q4              27.952381  24         22.358442   55   \n",
       "         2013 N/A             28.295367  74         20.768116  207   \n",
       "              Q1              37.376623  22         21.320106   54   \n",
       "              Q2              23.292208  22         18.232143   56   \n",
       "              Q3              29.659341  13         19.103448   58   \n",
       "              Q4              21.974790  17         26.120879   39   \n",
       "         2014 N/A             30.596059  58         22.310924  238   \n",
       "              Q1              20.285714   5         18.060440   52   \n",
       "              Q2              35.344538  17         24.778061   56   \n",
       "              Q3              28.849206  18         21.009070   63   \n",
       "              Q4              30.722222  18         24.771855   67   \n",
       "         2015 N/A             28.826698  61         20.390756  204   \n",
       "              Q1              27.846154  13         21.018433   62   \n",
       "              Q2              28.727891  21         18.412698   36   \n",
       "              Q3              28.651786  16         21.380145   59   \n",
       "              Q4              30.428571  11         19.835866   47   \n",
       "         2016 N/A             37.101648  52         23.213346  152   \n",
       "              Q1              44.342857  20         22.913621   43   \n",
       "              Q2              37.438095  15         22.988095   36   \n",
       "              Q3              29.732143   8         24.822394   37   \n",
       "              Q4              27.000000   9         22.142857   36   \n",
       "         2017 N/A             35.755760  31         24.592955  146   \n",
       "              Q1              34.857143   6         22.380952   27   \n",
       "              Q2              44.946429   8         26.082540   45   \n",
       "              Q3              33.653061   7         24.275000   40   \n",
       "              Q4              30.414286  10         24.752101   34   \n",
       "         2018 N/A             35.281853  37         27.457818  127   \n",
       "              Q1              37.542857   5         32.387755   28   \n",
       "              Q2              35.000000  13         24.267857   24   \n",
       "              Q3              29.102041   7         28.416327   35   \n",
       "              Q4              38.250000  12         25.082143   40   \n",
       "         2019 N/A             43.699634  39         25.346939   91   \n",
       "              Q1              49.866667  15         22.989011   26   \n",
       "              Q2              42.314286  10         25.370130   22   \n",
       "              Q3              37.553571   8         27.730769   26   \n",
       "              Q4              38.785714   6         25.277311   17   \n",
       "         2020 N/A             73.662338  22         24.938556   93   \n",
       "              Q1              32.714286   4         19.260073   39   \n",
       "              Q2              35.000000   3         23.369048   12   \n",
       "              Q3              49.387755   7         31.000000   21   \n",
       "              Q4             129.875000   8         30.319728   21   \n",
       "         2021 N/A             62.302521  17         29.842193   86   \n",
       "              Q1              40.761905   3         35.397516   23   \n",
       "              Q2              46.523810   6         29.540373   23   \n",
       "              Q3              93.971429   5         28.699248   19   \n",
       "              Q4              62.619048   3         25.122449   21   \n",
       "         2022 Q1              45.530612   7         30.742857   30   \n",
       "              Q2              53.000000   5         20.181818   11   \n",
       "\n",
       "rep_cat               3 Respondent Only      4 Neither                \\\n",
       "                                   mean    n              mean     n   \n",
       "type     year quarter                                                  \n",
       "Adoption 2011 N/A             19.018356  179         15.529558  3968   \n",
       "              Q1              20.758242   39         15.853214   909   \n",
       "              Q2              16.620130   44         14.730476  1050   \n",
       "              Q3              19.961039   44         15.817739   968   \n",
       "              Q4              18.945055   52         15.784960  1041   \n",
       "         2012 N/A             19.105551  157         14.427927  4652   \n",
       "              Q1              20.084249   39         14.796361  1060   \n",
       "              Q2              17.937729   39         14.487096  1096   \n",
       "              Q3              21.833977   37         14.630694  1198   \n",
       "              Q4              16.877551   42         13.889941  1298   \n",
       "         2013 N/A             19.068161  153         14.196926  5530   \n",
       "              Q1              21.282738   48         14.628715  1192   \n",
       "              Q2              17.894180   54         14.060805  1459   \n",
       "              Q3              18.464286   28         13.578354  1444   \n",
       "              Q4              17.937888   23         14.599104  1435   \n",
       "         2014 N/A             23.215015  196         15.263089  6131   \n",
       "              Q1              22.109023   38         14.592715  1510   \n",
       "              Q2              23.863636   44         14.656734  1539   \n",
       "              Q3              22.862245   56         16.589554  1600   \n",
       "              Q4              23.788177   58         15.143725  1482   \n",
       "         2015 N/A             24.996811  224         15.257169  5570   \n",
       "              Q1              24.060268   64         15.052715  1439   \n",
       "              Q2              25.857143   53         15.352426  1484   \n",
       "              Q3              28.032468   44         14.974104  1324   \n",
       "              Q4              23.104308   63         15.655977  1323   \n",
       "         2016 N/A             26.427501  267         15.345046  5261   \n",
       "              Q1              28.942085   74         15.841837  1400   \n",
       "              Q2              27.747899   68         15.078587  1347   \n",
       "              Q3              24.474286   75         15.405766  1328   \n",
       "              Q4              23.840000   50         14.993255  1186   \n",
       "         2017 N/A             26.694626  218         15.974002  4951   \n",
       "              Q1              27.767857   40         16.185660  1325   \n",
       "              Q2              27.590909   66         15.825767  1243   \n",
       "              Q3              24.140394   58         15.700554  1186   \n",
       "              Q4              27.547619   54         16.164578  1197   \n",
       "         2018 N/A             28.500992  144         16.351726  4549   \n",
       "              Q1              32.587302   27         16.712400  1212   \n",
       "              Q2              28.808362   41         16.101485  1174   \n",
       "              Q3              25.902597   44         16.161860  1075   \n",
       "              Q4              28.232143   32         16.407563  1088   \n",
       "         2019 N/A             28.081330  202         16.780320  4595   \n",
       "              Q1              29.013736   52         17.218186  1227   \n",
       "              Q2              27.411028   57         16.563806  1087   \n",
       "              Q3              28.920330   52         16.022491  1156   \n",
       "              Q4              26.766551   41         17.290667  1125   \n",
       "         2020 N/A             33.497076  171         20.176166  3474   \n",
       "              Q1              28.877551   42         16.044033   996   \n",
       "              Q2              23.462585   21         19.257827   543   \n",
       "              Q3              34.882353   51         22.521866   931   \n",
       "              Q4              39.358396   57         22.596898  1004   \n",
       "         2021 N/A             33.541317  204         19.755705  4063   \n",
       "              Q1              35.932143   40         20.147810  1096   \n",
       "              Q2              36.027356   47         19.501002  1069   \n",
       "              Q3              31.618395   73         20.472793   995   \n",
       "              Q4              31.902597   44         18.791172   903   \n",
       "         2022 Q1              31.824675   44         20.779710   797   \n",
       "              Q2              28.834101   31         21.512457   625   \n",
       "\n",
       "rep_cat               5 Unknown              All                      \n",
       "                                   mean    n              mean     n  \n",
       "type     year quarter                                                 \n",
       "Adoption 2011 N/A             15.033223  172         16.117649  4664  \n",
       "              Q1              14.145963   46         16.606213  1076  \n",
       "              Q2              15.293233   38         15.292256  1201  \n",
       "              Q3              14.298030   58         16.192118  1160  \n",
       "              Q4              17.485714   30         16.426709  1227  \n",
       "         2012 N/A             18.880272  105         15.269808  5218  \n",
       "              Q1              17.520000   25         15.552556  1196  \n",
       "              Q2              20.220408   35         15.538118  1248  \n",
       "              Q3              19.529762   24         15.501392  1334  \n",
       "              Q4              17.523810   21         14.587897  1440  \n",
       "         2013 N/A             15.414747   62         14.731995  6026  \n",
       "              Q1              19.129870   11         15.556142  1327  \n",
       "              Q2              14.731429   25         14.469501  1616  \n",
       "              Q3              17.704762   15         14.045755  1558  \n",
       "              Q4              10.129870   11         14.994098  1525  \n",
       "         2014 N/A             31.181406   63         16.030084  6686  \n",
       "              Q1              14.983193   17         14.901621  1622  \n",
       "              Q2              12.047619   15         15.425408  1671  \n",
       "              Q3              82.704762   15         17.640982  1752  \n",
       "              Q4              18.026786   16         16.041351  1641  \n",
       "         2015 N/A             15.863265   70         15.925973  6129  \n",
       "              Q1              12.957143   20         15.722778  1598  \n",
       "              Q2              15.285714   18         15.939649  1612  \n",
       "              Q3              20.438095   15         15.833725  1458  \n",
       "              Q4              15.857143   17         16.225188  1461  \n",
       "         2016 N/A             14.046083   31         16.255348  5763  \n",
       "              Q1              14.457143   10         17.024564  1547  \n",
       "              Q2              12.253968    9         16.065860  1475  \n",
       "              Q3              16.678571    4         16.196576  1452  \n",
       "              Q4              14.232143    8         15.615206  1289  \n",
       "         2017 N/A             17.642857   38         16.767486  5384  \n",
       "              Q1              31.519481   11         16.832404  1409  \n",
       "              Q2              10.803571    8         16.870177  1370  \n",
       "              Q3              11.942857   10         16.408148  1301  \n",
       "              Q4              13.095238    9         16.947962  1304  \n",
       "         2018 N/A             21.537415   21         17.165437  4878  \n",
       "              Q1              16.285714    7         17.469787  1279  \n",
       "              Q2              27.690476    6         16.921985  1258  \n",
       "              Q3              21.607143    4         16.994359  1165  \n",
       "              Q4              21.428571    4         17.264334  1176  \n",
       "         2019 N/A             30.607143   32         17.698787  4959  \n",
       "              Q1              10.028571    5         18.136819  1325  \n",
       "              Q2              15.267857    8         17.458374  1184  \n",
       "              Q3              59.259740   11         17.317752  1253  \n",
       "              Q4              19.410714    8         17.850579  1197  \n",
       "         2020 N/A             18.248447   23         21.194706  3783  \n",
       "              Q1              12.089286    8         16.686344  1089  \n",
       "              Q2              25.171429    5         19.625000   584  \n",
       "              Q3              13.000000    2         23.487719  1012  \n",
       "              Q4              21.392857    8         24.387588  1098  \n",
       "         2021 N/A             17.437500   32         20.739080  4402  \n",
       "              Q1              12.928571    8         20.990720  1170  \n",
       "              Q2              28.285714    4         20.549671  1149  \n",
       "              Q3              18.883117   11         21.669473  1103  \n",
       "              Q4              14.857143    9         19.613557   980  \n",
       "         2022 Q1              18.089286    8         21.836827   886  \n",
       "              Q2              14.523810    3         22.029206   675  "
      ]
     },
     "execution_count": 3,
     "metadata": {},
     "output_type": "execute_result"
    }
   ],
   "source": [
    "view_table = pydb.read_sql_query(\"SELECT * FROM fcsq.adopt_timeliness_combined\")\n",
    "view_table.pivot_table(index=['type','year','quarter'],columns=['rep_cat'],values = ['n','mean'],aggfunc=sum, fill_value=0).swaplevel(axis=1).sort_index(axis=1)\n"
   ]
  }
 ],
 "metadata": {
  "kernelspec": {
   "display_name": "venvname",
   "language": "python",
   "name": "venvname"
  },
  "language_info": {
   "codemirror_mode": {
    "name": "ipython",
    "version": 3
   },
   "file_extension": ".py",
   "mimetype": "text/x-python",
   "name": "python",
   "nbconvert_exporter": "python",
   "pygments_lexer": "ipython3",
   "version": "3.9.6"
  },
  "varInspector": {
   "cols": {
    "lenName": 16,
    "lenType": 16,
    "lenVar": 40
   },
   "kernels_config": {
    "python": {
     "delete_cmd_postfix": "",
     "delete_cmd_prefix": "del ",
     "library": "var_list.py",
     "varRefreshCmd": "print(var_dic_list())"
    },
    "r": {
     "delete_cmd_postfix": ") ",
     "delete_cmd_prefix": "rm(",
     "library": "var_list.r",
     "varRefreshCmd": "cat(var_dic_list()) "
    }
   },
   "types_to_exclude": [
    "module",
    "function",
    "builtin_function_or_method",
    "instance",
    "_Feature"
   ],
   "window_display": false
  }
 },
 "nbformat": 4,
 "nbformat_minor": 4
}
