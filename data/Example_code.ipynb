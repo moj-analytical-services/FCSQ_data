{
 "cells": [
  {
   "cell_type": "markdown",
   "id": "08ba949d-58f2-457e-a1a8-9dd53d86dc7c",
   "metadata": {},
   "source": [
    "#### Example code\n",
    "##### Running SQL in Python"
   ]
  },
  {
   "cell_type": "code",
   "execution_count": null,
   "id": "12aaf0eb-c480-4051-91b7-8776a1a6a3b8",
   "metadata": {
    "jupyter": {
     "outputs_hidden": true,
     "source_hidden": true
    },
    "tags": []
   },
   "outputs": [],
   "source": [
    "# Here we use an f-string which allows variables to be incorporated into the string.\n",
    "# The database contains many snapshots in time. These need to be defined for each table\n",
    "# to avoid returning duplicates\n",
    "\n",
    "# triple quotation marks allow a string to be defined within the quaotation marks even on new lines\n",
    "# makes long sql strings much more readable.\n",
    "# single quotation marks limit the string to a single line.\n",
    "\n",
    "s1 = f\"\"\"\n",
    "select * from {db1}.cases \n",
    "where mojap_snapshot_date = date '{snapshot_date}'\n",
    "limit 10\n",
    "\"\"\"\n",
    "\n",
    "# pydbtools read_sql_query function will return the results of the query into a pandas dataframe\n",
    "simple_results = pydb.read_sql_query(s1)\n",
    "simple_results"
   ]
  },
  {
   "cell_type": "markdown",
   "id": "26ec1831-2213-4a54-b3de-3e6d867e4c6b",
   "metadata": {},
   "source": [
    "##### Creating temporary tables"
   ]
  },
  {
   "cell_type": "code",
   "execution_count": null,
   "id": "0477c607-453f-44f8-9e2f-bedc565f045f",
   "metadata": {
    "jupyter": {
     "outputs_hidden": true,
     "source_hidden": true
    },
    "tags": []
   },
   "outputs": [],
   "source": [
    "# Here we are creating a temporary table that can be queried later\n",
    "#  from the __temp__ database\n",
    "pydb.create_temp_table(s1, \"case_table\")\n",
    "\n",
    "# Query the temporary table just created. The database to query is called __temp__, this is\n",
    "# an alias for a sandbox database that is created for each user. For more details, see\n",
    "# the pydbtools docs\n",
    "temp_table = pydb.read_sql_query(\"select count(*) as count from __temp__.case_table\")\n",
    "\n",
    "temp_table"
   ]
  },
  {
   "cell_type": "markdown",
   "id": "04b77acc-3f96-4a7c-b3c7-c7ebac863fa1",
   "metadata": {
    "tags": []
   },
   "source": [
    "##### Creating tables in Athena\n",
    "###### When creating tables in Athena, the underlying data also needs to be written to a folder in S3"
   ]
  },
  {
   "cell_type": "code",
   "execution_count": null,
   "id": "4b478237-4deb-4696-a569-77284af31dac",
   "metadata": {
    "tags": []
   },
   "outputs": [],
   "source": [
    "# create path for new table (initial bucket path and sub-folder defined earlier)\n",
    "test_table_s3_path = os.path.join(fcsq_db_path, \"test_table/\")"
   ]
  },
  {
   "cell_type": "code",
   "execution_count": null,
   "id": "0530ecf4-bc1c-45bd-a36f-e89684225a4a",
   "metadata": {
    "tags": []
   },
   "outputs": [],
   "source": [
    "# create table in Athena FCSQ database, stating the S3 path to store underlying data\n",
    "test_table = f\"\"\"\n",
    "CREATE TABLE {db2}.test_table WITH\n",
    "(\n",
    "    external_location='{test_table_s3_path}'\n",
    ") AS\n",
    "SELECT *\n",
    "FROM __temp__.case_table\n",
    "\"\"\"\n",
    "# execute the SQL query\n",
    "_ = pydb.start_query_execution_and_wait(test_table)"
   ]
  },
  {
   "cell_type": "markdown",
   "id": "d39871d8-8ca1-4001-b652-4bd3a9fbdd4d",
   "metadata": {
    "tags": []
   },
   "source": [
    "##### Deleting tables in Athena"
   ]
  },
  {
   "cell_type": "code",
   "execution_count": null,
   "id": "93c0f91b-203a-4b30-a969-048df15a5b67",
   "metadata": {
    "tags": []
   },
   "outputs": [],
   "source": [
    "# Delete all the underlying data stored within the S3 location\n",
    "if wr.s3.list_objects(test_table_s3_path):\n",
    "    print(\"deleting objs\")\n",
    "    wr.s3.delete_objects(test_table_s3_path)"
   ]
  },
  {
   "cell_type": "code",
   "execution_count": null,
   "id": "8fdca891-8d57-451d-9cf8-5808801a963a",
   "metadata": {
    "tags": []
   },
   "outputs": [],
   "source": [
    "# drop the table in Athena\n",
    "drop_test_table = f\"\"\"\n",
    "DROP TABLE {db2}.test_table\n",
    "\"\"\"\n",
    "# execute the SQL query\n",
    "_ = pydb.start_query_execution_and_wait(drop_test_table)"
   ]
  },
  {
   "cell_type": "code",
   "execution_count": null,
   "id": "42368fad-324d-440b-b896-dd7f8dec6e4e",
   "metadata": {
    "jupyter": {
     "outputs_hidden": true
    },
    "tags": []
   },
   "outputs": [],
   "source": [
    "# This also works but not using old versions of pybd. Note the recommended option is the start_query...wait option\n",
    "pydb.read_sql_query(f\"\"\"DROP TABLE {db2}.test_table\"\"\")"
   ]
  },
  {
   "cell_type": "code",
   "execution_count": null,
   "id": "1182196f-9000-4c0b-b8eb-5d3bd1036eca",
   "metadata": {
    "tags": []
   },
   "outputs": [],
   "source": [
    "# can also embed the code within the brackets rather than creating as a separate object\n",
    "_ = pydb.start_query_execution_and_wait(f\"\"\"DROP TABLE {db2}.test_table\"\"\")"
   ]
  }
 ],
 "metadata": {
  "kernelspec": {
   "display_name": "Python 3",
   "language": "python",
   "name": "python3"
  },
  "language_info": {
   "codemirror_mode": {
    "name": "ipython",
    "version": 3
   },
   "file_extension": ".py",
   "mimetype": "text/x-python",
   "name": "python",
   "nbconvert_exporter": "python",
   "pygments_lexer": "ipython3",
   "version": "3.9.4"
  }
 },
 "nbformat": 4,
 "nbformat_minor": 5
}
