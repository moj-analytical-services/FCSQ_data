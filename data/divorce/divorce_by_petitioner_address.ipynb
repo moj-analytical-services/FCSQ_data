{
 "cells": [
  {
   "cell_type": "markdown",
   "id": "1068eaa6-e4c1-45c0-9a60-78388df51cc3",
   "metadata": {},
   "source": [
    "# Matrimonial Matters County & UA Level Annual"
   ]
  },
  {
   "cell_type": "markdown",
   "id": "3cf430da-0a8e-40ec-94c7-2ccbd231a9b2",
   "metadata": {
    "jp-MarkdownHeadingCollapsed": true,
    "tags": []
   },
   "source": [
    "## Contents\n",
    "#### Setup\n",
    "1. [import_packages](#import_packages) \n",
    "2. [define_key_variables](#define_key_variables) \n",
    "\n"
   ]
  },
  {
   "cell_type": "markdown",
   "id": "eafbdc4f-8548-4641-8e84-d25665d01e09",
   "metadata": {
    "tags": []
   },
   "source": [
    "## 1. Import packages and set options \n",
    "<a name=\"import_packages\"></a>"
   ]
  },
  {
   "cell_type": "code",
   "execution_count": null,
   "id": "4ad1d43f-d851-4588-bf05-5a7a972f238d",
   "metadata": {
    "tags": []
   },
   "outputs": [],
   "source": [
    "import pandas as pd  # a module which provides the data structures and functions to store and manipulate tables in dataframes\n",
    "import pydbtools as pydb  # A module which allows SQL queries to be run on the Analytical Platform from Python, see https://github.com/moj-analytical-services/pydbtools\n",
    "import boto3  # allows you to directly create, update, and delete AWS resources from Python scripts\n",
    "import numpy as np\n",
    "import re\n",
    "\n",
    "# sets parameters to view dataframes for tables easier\n",
    "pd.set_option(\"display.max_columns\", 100)\n",
    "pd.set_option(\"display.width\", 900)\n",
    "pd.set_option(\"display.max_colwidth\", 200)"
   ]
  },
  {
   "cell_type": "markdown",
   "id": "010943ed-945c-4146-a9bb-c982ebb370f2",
   "metadata": {
    "tags": []
   },
   "source": [
    "## 2. Define key variables to be used throughout the notebook \n",
    "<a name=\"define_key_variables\"></a>"
   ]
  },
  {
   "cell_type": "code",
   "execution_count": null,
   "id": "2b1dc3ac-8572-43e9-a0ba-f715323f66bf",
   "metadata": {
    "tags": []
   },
   "outputs": [],
   "source": [
    "#this is the database we will be extracting from\n",
    "database = \"familyman_dev_v3\" \n",
    "\n",
    "#this is the athena database we will be storing our tables in\n",
    "fcsq_database = \"fcsq\"\n",
    "\n",
    "#this is the s3 bucket we will be saving data to\n",
    "s3 = boto3.resource(\"s3\")\n",
    "bucket = s3.Bucket(\"alpha-family-data\")\n",
    "\n",
    "#setting current year\n",
    "current_year = 2023\n",
    "\n",
    "#creating a variable to automate the column names from imported csvs\n",
    "prev_endyear = (current_year - 1) - 2000"
   ]
  },
  {
   "cell_type": "markdown",
   "id": "7eb8457a-aa46-4e67-80af-ca986f5d71dd",
   "metadata": {},
   "source": [
    "# Stage 1 - Divorce County and UA lookup\n",
    "<a name=\"Divorce County and UA lookup\"></a>"
   ]
  },
  {
   "cell_type": "markdown",
   "id": "848160c2-69a3-4b82-84dd-b7c6cf44ad26",
   "metadata": {},
   "source": [
    "## Import ONS Postcode Directory "
   ]
  },
  {
   "cell_type": "markdown",
   "id": "7823958c-5dc7-4c37-aa61-076cb0d0771e",
   "metadata": {
    "tags": []
   },
   "source": [
    "### Create the ons_postcode table"
   ]
  },
  {
   "cell_type": "code",
   "execution_count": null,
   "id": "09cdd829-cdf5-4459-87bc-213bda27d44e",
   "metadata": {},
   "outputs": [],
   "source": [
    "ons_postcode_table = pd.read_csv(\"s3://alpha-family-data/CSVs/Divorce/Petitioner LA/Lookup/ONSPD_NOV_2022_UK.csv\", low_memory=False)"
   ]
  },
  {
   "cell_type": "code",
   "execution_count": null,
   "id": "ec315eab-0cca-4ede-b42c-294957bc6f30",
   "metadata": {},
   "outputs": [],
   "source": [
    "pydb.dataframe_to_temp_table(ons_postcode_table, \"ons_postcode\")"
   ]
  },
  {
   "cell_type": "markdown",
   "id": "d48b2509-e45b-405a-8f6c-6306ed158bbe",
   "metadata": {
    "tags": []
   },
   "source": [
    "#### ons_postcode validation"
   ]
  },
  {
   "cell_type": "code",
   "execution_count": null,
   "id": "d99999f7-07ab-464c-808a-ea2cc6a140b1",
   "metadata": {},
   "outputs": [],
   "source": [
    "ons_postcode_count = pydb.read_sql_query(\"SELECT * from __temp__.ons_postcode limit 10\")\n",
    "ons_postcode_count"
   ]
  },
  {
   "cell_type": "markdown",
   "id": "dcc95f8f-b964-45c3-8fc2-4126d3ec5051",
   "metadata": {},
   "source": [
    "## Import Local Authority Districts"
   ]
  },
  {
   "cell_type": "markdown",
   "id": "c58f1ebe-7a23-4521-988c-e036d55f0618",
   "metadata": {
    "tags": []
   },
   "source": [
    "### Create the la_districts table"
   ]
  },
  {
   "cell_type": "code",
   "execution_count": null,
   "id": "cf376541-8cbd-4296-8306-f636e5ec3e98",
   "metadata": {},
   "outputs": [],
   "source": [
    "la_districts_table = pd.read_csv(\"s3://alpha-family-data/CSVs/Divorce/Petitioner LA/Lookup/Local_Authority_Districts_(December_2022)_Names_and_Codes_in_the_United_Kingdom.csv\")"
   ]
  },
  {
   "cell_type": "code",
   "execution_count": null,
   "id": "e6262343-462f-419c-80d3-72b126d08d67",
   "metadata": {},
   "outputs": [],
   "source": [
    "pydb.dataframe_to_temp_table(la_districts_table, \"la_districts\")"
   ]
  },
  {
   "cell_type": "markdown",
   "id": "b6cf9923-3522-42f4-a70e-432e12db1d7e",
   "metadata": {
    "tags": []
   },
   "source": [
    "#### la_districts validation"
   ]
  },
  {
   "cell_type": "code",
   "execution_count": null,
   "id": "e92be816-8d21-4448-bd71-b361bf1350f6",
   "metadata": {},
   "outputs": [],
   "source": [
    "la_districts_count = pydb.read_sql_query(\"SELECT * from __temp__.la_districts\")\n",
    "la_districts_count"
   ]
  },
  {
   "cell_type": "markdown",
   "id": "90fa71a8-5429-493e-9ea9-8f0e563df693",
   "metadata": {},
   "source": [
    "## Import Local Authority Districts to Counties"
   ]
  },
  {
   "cell_type": "markdown",
   "id": "b252d12e-76f8-46ce-92a3-7f7d01a28e04",
   "metadata": {
    "tags": []
   },
   "source": [
    "### Create the la_districts_counties table"
   ]
  },
  {
   "cell_type": "code",
   "execution_count": null,
   "id": "6197c682-0f00-4b77-b33f-72e85df061dd",
   "metadata": {},
   "outputs": [],
   "source": [
    "la_districts_counties_table = pd.read_csv(\"s3://alpha-family-data/CSVs/Divorce/Petitioner LA/Lookup/Local_Authority_District_to_County_(December_2022)_Lookup_in_England.csv\")"
   ]
  },
  {
   "cell_type": "code",
   "execution_count": null,
   "id": "87de7393-6c86-4e41-a4fa-10436e1bea40",
   "metadata": {},
   "outputs": [],
   "source": [
    "pydb.dataframe_to_temp_table(la_districts_counties_table, \"la_districts_counties\")"
   ]
  },
  {
   "cell_type": "markdown",
   "id": "aeef3e94-ed4f-4a1b-8ee9-622d6fc54eef",
   "metadata": {
    "tags": []
   },
   "source": [
    "#### la_districts_counties validation"
   ]
  },
  {
   "cell_type": "code",
   "execution_count": null,
   "id": "61e8f3de-e8df-48a2-bb56-b6343087f474",
   "metadata": {},
   "outputs": [],
   "source": [
    "la_districts_counties_count = pydb.read_sql_query(\"SELECT * from __temp__.la_districts_counties\")\n",
    "la_districts_counties_count"
   ]
  },
  {
   "cell_type": "markdown",
   "id": "c8079346-f962-4c26-be95-4202c07c0a26",
   "metadata": {},
   "source": [
    "## Creating Lookup"
   ]
  },
  {
   "cell_type": "markdown",
   "id": "f9237fe4-675c-42b5-a848-8baef1dbab6b",
   "metadata": {},
   "source": [
    "### Create the lookup_working table"
   ]
  },
  {
   "cell_type": "code",
   "execution_count": null,
   "id": "ed9ef147-f6d0-4399-98a3-f8a9e6469d49",
   "metadata": {},
   "outputs": [],
   "source": [
    "create_lookup_working =f\"\"\"\n",
    "SELECT \n",
    "a.LAD{prev_endyear}CD AS code,\n",
    "a.LAD{prev_endyear}NM AS la,\n",
    "b.CTY{prev_endyear}NM AS county,\n",
    "CASE WHEN a.LAD{prev_endyear}CD LIKE 'E%' THEN 'England'\n",
    "WHEN a.LAD{prev_endyear}CD LIKE 'W%' THEN 'Wales'\n",
    "END AS country\n",
    "FROM __temp__.la_districts a\n",
    "LEFT JOIN __temp__.la_districts_counties b\n",
    "ON a.LAD22CD = b.LAD22CD \n",
    "WHERE a.LAD22CD LIKE 'E%' OR a.LAD22CD LIKE 'W%';\n",
    "\"\"\"\n",
    "pydb.create_temp_table(create_lookup_working,'lookup_working')"
   ]
  },
  {
   "cell_type": "code",
   "execution_count": null,
   "id": "e887dc54-f0d8-4ef2-b501-757592e605fd",
   "metadata": {},
   "outputs": [],
   "source": [
    "lookup_working = pydb.read_sql_query(\"SELECT * from __temp__.lookup_working \")\n",
    "lookup_working"
   ]
  },
  {
   "cell_type": "markdown",
   "id": "adb3a249-30f9-45ea-adb5-25569f611de0",
   "metadata": {},
   "source": [
    "### Create the divorce_county_ua_lookup table"
   ]
  },
  {
   "cell_type": "code",
   "execution_count": null,
   "id": "461e8670-cf11-4d62-926d-5b54f8364e99",
   "metadata": {},
   "outputs": [],
   "source": [
    "create_divorce_county_ua_lookup =f\"\"\"\n",
    "SELECT\n",
    "code,\n",
    "CASE WHEN county IN ('Greater Manchester', 'Merseyside', 'South Yorkshire', 'Tyne and Wear', 'West Midlands', 'West Yorkshire')\n",
    "THEN CONCAT(' ',county,'(Met County)')\n",
    "WHEN code LIKE 'W%'\n",
    "THEN la\n",
    "WHEN county IS NULL\n",
    "THEN CONCAT(' ',la,'UA')\n",
    "ELSE county\n",
    "END AS county_ua,\n",
    "country\n",
    "FROM __temp__.lookup_working;\n",
    "\"\"\"\n",
    "pydb.create_temp_table(create_divorce_county_ua_lookup,'divorce_county_ua_lookup')"
   ]
  },
  {
   "cell_type": "code",
   "execution_count": null,
   "id": "c479798a-891d-4b18-a2bf-251bf995ed9f",
   "metadata": {},
   "outputs": [],
   "source": [
    "divorce_county_ua_lookup = pydb.read_sql_query(\"SELECT * from __temp__.divorce_county_ua_lookup\")\n",
    "divorce_county_ua_lookup"
   ]
  },
  {
   "cell_type": "markdown",
   "id": "1e0ea5e4-4e2c-4655-8716-23e0df413c31",
   "metadata": {},
   "source": [
    "# Stage 2 - Petitioner Postcode"
   ]
  },
  {
   "cell_type": "markdown",
   "id": "957e4363-f2a2-4816-b0ee-2fd31504a259",
   "metadata": {},
   "source": [
    "## Import Petitioner Address Details "
   ]
  },
  {
   "cell_type": "markdown",
   "id": "3f7f727e-c6ed-4472-9078-c70639ebb828",
   "metadata": {
    "tags": []
   },
   "source": [
    "### Create the petitioner_address_details table"
   ]
  },
  {
   "cell_type": "code",
   "execution_count": null,
   "id": "f003d489-8746-40b1-be18-b5fb37722f36",
   "metadata": {},
   "outputs": [],
   "source": [
    "petitioner_address_details_table = pd.read_csv(\"s3://alpha-family-data/CSVs/Divorce/Petitioner LA/Petitioner_Address_Details.csv\", low_memory=False)"
   ]
  },
  {
   "cell_type": "code",
   "execution_count": null,
   "id": "051c78ad-8b94-4351-a448-15972cd42994",
   "metadata": {},
   "outputs": [],
   "source": [
    "pydb.dataframe_to_temp_table(petitioner_address_details_table, \"petitioner_address_details\")"
   ]
  },
  {
   "cell_type": "markdown",
   "id": "1a9dbb91-c6d7-4222-b67e-b4ae1645c1a7",
   "metadata": {
    "tags": []
   },
   "source": [
    "#### petitioner_address_details validation"
   ]
  },
  {
   "cell_type": "code",
   "execution_count": null,
   "id": "75152c23-141b-4b32-890d-a0deb2a2cc3a",
   "metadata": {},
   "outputs": [],
   "source": [
    "petitioner_address_details_count = pydb.read_sql_query(\"SELECT * from __temp__.petitioner_address_details limit 10\")\n",
    "petitioner_address_details_count"
   ]
  },
  {
   "cell_type": "markdown",
   "id": "af3fcc42-5921-4a51-9566-5d65e45f24ac",
   "metadata": {},
   "source": [
    "## Creating Final Output"
   ]
  },
  {
   "cell_type": "markdown",
   "id": "8d01897c-6ae5-4ae4-aa48-3d18da457142",
   "metadata": {},
   "source": [
    "### Create the petitioner_address table"
   ]
  },
  {
   "cell_type": "code",
   "execution_count": null,
   "id": "b7cad363-c05f-4198-bf7b-978e19822005",
   "metadata": {},
   "outputs": [],
   "source": [
    "create_petitioner_address =f\"\"\"\n",
    "SELECT t1.Year, \n",
    "          t1.Month, \n",
    "          t1.Quarter,\n",
    "          t1.PETTNR_LINE_1_ADDRESS,\n",
    "          t1.PETTNR_LINE_2_ADDRESS,\n",
    "          t1.PETTNR_LINE_3_ADDRESS,\n",
    "          t1.PETTNR_LINE_4_ADDRESS,\n",
    "          t1.PETTNR_LINE_5_ADDRESS, \n",
    "          t1.PETTNR_LINE_6_ADDRESS,\n",
    "          t1.PETTNR_POSTAL_CODE,\n",
    "          t1.PETTNR_CONTACT_DETAILS_CONFDNTL_CIND as CONFDNTL\n",
    "FROM __temp__.petitioner_address_details t1;\n",
    "\"\"\"\n",
    "pydb.create_temp_table(create_petitioner_address,'petitioner_address')"
   ]
  },
  {
   "cell_type": "code",
   "execution_count": null,
   "id": "877c25f0-f890-447b-8115-d729f2e9fff3",
   "metadata": {
    "tags": []
   },
   "outputs": [],
   "source": [
    "petitioner_address = pydb.read_sql_query(\"SELECT * from __temp__.petitioner_address\")\n",
    "petitioner_address"
   ]
  },
  {
   "cell_type": "markdown",
   "id": "f23d4fdc-233d-4444-8597-8322ec949bdb",
   "metadata": {},
   "source": [
    "### Create the new_divorce_postcode table"
   ]
  },
  {
   "cell_type": "code",
   "execution_count": null,
   "id": "38033aad-99f8-4ff4-881f-439366e7c2cc",
   "metadata": {},
   "outputs": [],
   "source": [
    "create_new_divorce_postcode =f\"\"\"\n",
    "SELECT t1.Year, \n",
    "    t1.Month, \n",
    "    t1.Quarter,\n",
    "    REPLACE(UPPER(t1.PETTNR_LINE_1_ADDRESS), ' ', '') as Line1,\n",
    "    REPLACE(UPPER(t1.PETTNR_LINE_2_ADDRESS), ' ', '') as Line2,\n",
    "    REPLACE(UPPER(t1.PETTNR_LINE_3_ADDRESS), ' ', '') as Line3,\n",
    "    REPLACE(UPPER(t1.PETTNR_LINE_4_ADDRESS), ' ', '') as Line4,\n",
    "    REPLACE(UPPER(t1.PETTNR_LINE_5_ADDRESS), ' ', '') as Line5, \n",
    "    REPLACE(UPPER(t1.PETTNR_LINE_6_ADDRESS), ' ', '') as Line6,\n",
    "    REPLACE(UPPER(t1.PETTNR_POSTAL_CODE), ' ', '') as postcode,\n",
    "    UPPER(t1.PETTNR_CONTACT_DETAILS_CONFDNTL_CIND) as CONFDNTL\n",
    "    \n",
    "      FROM __temp__.petitioner_address_details t1;\n",
    "\"\"\"\n",
    "pydb.create_temp_table(create_new_divorce_postcode,'new_divorce_postcode')"
   ]
  },
  {
   "cell_type": "code",
   "execution_count": null,
   "id": "c185d667-e9c6-482e-a2b8-2dca23f25e73",
   "metadata": {
    "tags": []
   },
   "outputs": [],
   "source": [
    "new_divorce_postcode = pydb.read_sql_query(\"SELECT * from __temp__.new_divorce_postcode\")\n",
    "new_divorce_postcode"
   ]
  },
  {
   "cell_type": "code",
   "execution_count": null,
   "id": "0ad2a055-20ce-46ea-90e8-fe4c28064353",
   "metadata": {
    "tags": []
   },
   "outputs": [],
   "source": [
    "create_new_divorce_with_postcode_temp1 =f\"\"\"\n",
    "SELECT *,\n",
    "CASE \n",
    "WHEN regexp_like(line1, '[A-Z][A-Z][0-9][0-9][A-Z][A-Z]$') THEN regexp_extract_all(line1, '[A-Z][A-Z][0-9][0-9][A-Z][A-Z]')\n",
    "WHEN regexp_like(line1, '[A-Z][A-Z][0-9][0-9][0-9][A-Z][A-Z]$') THEN regexp_extract_all(line1, '[A-Z][A-Z][0-9][0-9][0-9][A-Z][A-Z]')\n",
    "WHEN regexp_like(line1, '[A-Z][A-Z][0-9][A-Z][0-9][A-Z][A-Z]$') THEN regexp_extract_all(line1, '[A-Z][A-Z][0-9][A-Z][0-9][A-Z][A-Z]')\n",
    "\n",
    "WHEN regexp_like(line1, '[A-Z][0-9][0-9][A-Z][A-Z]$') THEN regexp_extract_all(line1, '[A-Z][0-9][0-9][A-Z][A-Z]')\n",
    "WHEN regexp_like(line1, '[A-Z][0-9][0-9][0-9][A-Z][A-Z]$') THEN regexp_extract_all(line1, '[A-Z][0-9][0-9][0-9][A-Z][A-Z]')\n",
    "WHEN regexp_like(line1, '[A-Z][0-9][A-Z][0-9][A-Z][A-Z]$') THEN regexp_extract_all(line1, '[A-Z][0-9][A-Z][0-9][A-Z][A-Z]')\n",
    "ELSE NULL\n",
    "END newpostcode1,\n",
    "\n",
    "\n",
    "CASE \n",
    "WHEN regexp_like(line2, '[A-Z][A-Z][0-9][0-9][A-Z][A-Z]$') THEN regexp_extract_all(line2, '[A-Z][A-Z][0-9][0-9][A-Z][A-Z]')\n",
    "WHEN regexp_like(line2, '[A-Z][A-Z][0-9][0-9][0-9][A-Z][A-Z]$') THEN regexp_extract_all(line2, '[A-Z][A-Z][0-9][0-9][0-9][A-Z][A-Z]')\n",
    "WHEN regexp_like(line2, '[A-Z][A-Z][0-9][A-Z][0-9][A-Z][A-Z]$') THEN regexp_extract_all(line2, '[A-Z][A-Z][0-9][A-Z][0-9][A-Z][A-Z]')\n",
    "\n",
    "WHEN regexp_like(line2, '[A-Z][0-9][0-9][A-Z][A-Z]$') THEN regexp_extract_all(line2, '[A-Z][0-9][0-9][A-Z][A-Z]')\n",
    "WHEN regexp_like(line2, '[A-Z][0-9][0-9][0-9][A-Z][A-Z]$') THEN regexp_extract_all(line2, '[A-Z][0-9][0-9][0-9][A-Z][A-Z]')\n",
    "WHEN regexp_like(line2, '[A-Z][0-9][A-Z][0-9][A-Z][A-Z]$') THEN regexp_extract_all(line2, '[A-Z][0-9][A-Z][0-9][A-Z][A-Z]')\n",
    "ELSE NULL\n",
    "END newpostcode2,\n",
    "\n",
    "\n",
    "CASE \n",
    "WHEN regexp_like(line3, '[A-Z][A-Z][0-9][0-9][A-Z][A-Z]$') THEN regexp_extract_all(line3, '[A-Z][A-Z][0-9][0-9][A-Z][A-Z]')\n",
    "WHEN regexp_like(line3, '[A-Z][A-Z][0-9][0-9][0-9][A-Z][A-Z]$') THEN regexp_extract_all(line3, '[A-Z][A-Z][0-9][0-9][0-9][A-Z][A-Z]')\n",
    "WHEN regexp_like(line3, '[A-Z][A-Z][0-9][A-Z][0-9][A-Z][A-Z]$') THEN regexp_extract_all(line3, '[A-Z][A-Z][0-9][A-Z][0-9][A-Z][A-Z]')\n",
    "\n",
    "WHEN regexp_like(line3, '[A-Z][0-9][0-9][A-Z][A-Z]$') THEN regexp_extract_all(line3, '[A-Z][0-9][0-9][A-Z][A-Z]')\n",
    "WHEN regexp_like(line3, '[A-Z][0-9][0-9][0-9][A-Z][A-Z]$') THEN regexp_extract_all(line3, '[A-Z][0-9][0-9][0-9][A-Z][A-Z]')\n",
    "WHEN regexp_like(line3, '[A-Z][0-9][A-Z][0-9][A-Z][A-Z]$') THEN regexp_extract_all(line3, '[A-Z][0-9][A-Z][0-9][A-Z][A-Z]')\n",
    "ELSE NULL\n",
    "END newpostcode3,\n",
    "\n",
    "\n",
    "CASE \n",
    "WHEN regexp_like(line4, '[A-Z][A-Z][0-9][0-9][A-Z][A-Z]$') THEN regexp_extract_all(line4, '[A-Z][A-Z][0-9][0-9][A-Z][A-Z]')\n",
    "WHEN regexp_like(line4, '[A-Z][A-Z][0-9][0-9][0-9][A-Z][A-Z]$') THEN regexp_extract_all(line4, '[A-Z][A-Z][0-9][0-9][0-9][A-Z][A-Z]')\n",
    "WHEN regexp_like(line4, '[A-Z][A-Z][0-9][A-Z][0-9][A-Z][A-Z]$') THEN regexp_extract_all(line4, '[A-Z][A-Z][0-9][A-Z][0-9][A-Z][A-Z]')\n",
    "\n",
    "WHEN regexp_like(line4, '[A-Z][0-9][0-9][A-Z][A-Z]$') THEN regexp_extract_all(line4, '[A-Z][0-9][0-9][A-Z][A-Z]')\n",
    "WHEN regexp_like(line4, '[A-Z][0-9][0-9][0-9][A-Z][A-Z]$') THEN regexp_extract_all(line4, '[A-Z][0-9][0-9][0-9][A-Z][A-Z]')\n",
    "WHEN regexp_like(line4, '[A-Z][0-9][A-Z][0-9][A-Z][A-Z]$') THEN regexp_extract_all(line4, '[A-Z][0-9][A-Z][0-9][A-Z][A-Z]')\n",
    "ELSE NULL\n",
    "END newpostcode4,\n",
    "\n",
    "\n",
    "CASE \n",
    "WHEN regexp_like(line5, '[A-Z][A-Z][0-9][0-9][A-Z][A-Z]$') THEN regexp_extract_all(line5, '[A-Z][A-Z][0-9][0-9][A-Z][A-Z]')\n",
    "WHEN regexp_like(line5, '[A-Z][A-Z][0-9][0-9][0-9][A-Z][A-Z]$') THEN regexp_extract_all(line5, '[A-Z][A-Z][0-9][0-9][0-9][A-Z][A-Z]')\n",
    "WHEN regexp_like(line5, '[A-Z][A-Z][0-9][A-Z][0-9][A-Z][A-Z]$') THEN regexp_extract_all(line5, '[A-Z][A-Z][0-9][A-Z][0-9][A-Z][A-Z]')\n",
    "\n",
    "WHEN regexp_like(line5, '[A-Z][0-9][0-9][A-Z][A-Z]$') THEN regexp_extract_all(line5, '[A-Z][0-9][0-9][A-Z][A-Z]')\n",
    "WHEN regexp_like(line5, '[A-Z][0-9][0-9][0-9][A-Z][A-Z]$') THEN regexp_extract_all(line5, '[A-Z][0-9][0-9][0-9][A-Z][A-Z]')\n",
    "WHEN regexp_like(line5, '[A-Z][0-9][A-Z][0-9][A-Z][A-Z]$') THEN regexp_extract_all(line5, '[A-Z][0-9][A-Z][0-9][A-Z][A-Z]')\n",
    "ELSE NULL\n",
    "END newpostcode5,\n",
    "\n",
    "CASE \n",
    "WHEN regexp_like(line6, '[A-Z][A-Z][0-9][0-9][A-Z][A-Z]$') THEN regexp_extract_all(line6, '[A-Z][A-Z][0-9][0-9][A-Z][A-Z]')\n",
    "WHEN regexp_like(line6, '[A-Z][A-Z][0-9][0-9][0-9][A-Z][A-Z]$') THEN regexp_extract_all(line6, '[A-Z][A-Z][0-9][0-9][0-9][A-Z][A-Z]')\n",
    "WHEN regexp_like(line6, '[A-Z][A-Z][0-9][A-Z][0-9][A-Z][A-Z]$') THEN regexp_extract_all(line6, '[A-Z][A-Z][0-9][A-Z][0-9][A-Z][A-Z]')\n",
    "\n",
    "WHEN regexp_like(line6, '[A-Z][0-9][0-9][A-Z][A-Z]$') THEN regexp_extract_all(line6, '[A-Z][0-9][0-9][A-Z][A-Z]')\n",
    "WHEN regexp_like(line6, '[A-Z][0-9][0-9][0-9][A-Z][A-Z]$') THEN regexp_extract_all(line6, '[A-Z][0-9][0-9][0-9][A-Z][A-Z]')\n",
    "WHEN regexp_like(line6, '[A-Z][0-9][A-Z][0-9][A-Z][A-Z]$') THEN regexp_extract_all(line6, '[A-Z][0-9][A-Z][0-9][A-Z][A-Z]')\n",
    "ELSE NULL\n",
    "END newpostcode6,\n",
    "\n",
    "CASE \n",
    "WHEN regexp_like(postcode, '[A-Z][A-Z][0-9][0-9][A-Z][A-Z]$') THEN regexp_extract_all(postcode, '[A-Z][A-Z][0-9][0-9][A-Z][A-Z]')\n",
    "WHEN regexp_like(postcode, '[A-Z][A-Z][0-9][0-9][0-9][A-Z][A-Z]$') THEN regexp_extract_all(postcode, '[A-Z][A-Z][0-9][0-9][0-9][A-Z][A-Z]')\n",
    "WHEN regexp_like(postcode, '[A-Z][A-Z][0-9][A-Z][0-9][A-Z][A-Z]$') THEN regexp_extract_all(postcode, '[A-Z][A-Z][0-9][A-Z][0-9][A-Z][A-Z]')\n",
    "\n",
    "WHEN regexp_like(postcode, '[A-Z][0-9][0-9][A-Z][A-Z]$') THEN regexp_extract_all(postcode, '[A-Z][0-9][0-9][A-Z][A-Z]')\n",
    "WHEN regexp_like(postcode, '[A-Z][0-9][0-9][0-9][A-Z][A-Z]$') THEN regexp_extract_all(postcode, '[A-Z][0-9][0-9][0-9][A-Z][A-Z]')\n",
    "WHEN regexp_like(postcode, '[A-Z][0-9][A-Z][0-9][A-Z][A-Z]$') THEN regexp_extract_all(postcode, '[A-Z][0-9][A-Z][0-9][A-Z][A-Z]')\n",
    "ELSE NULL\n",
    "END newpostcode7\n",
    "\n",
    "\n",
    "FROM __temp__.new_divorce_postcode;\n",
    "\"\"\"\n",
    "pydb.create_temp_table(create_new_divorce_with_postcode_temp1,'new_divorce_with_postcode_temp1')\n"
   ]
  },
  {
   "cell_type": "code",
   "execution_count": null,
   "id": "faa51253-fd43-4757-ae41-51a2bf63f0d0",
   "metadata": {
    "tags": []
   },
   "outputs": [],
   "source": [
    "code = pydb.read_sql_query(\"SELECT * from __temp__.new_divorce_with_postcode_temp1\")\n",
    "code"
   ]
  },
  {
   "cell_type": "code",
   "execution_count": null,
   "id": "c2c5340d-a2dd-411c-926d-fbe451ce15d9",
   "metadata": {},
   "outputs": [],
   "source": [
    "create_new_divorce_with_postcode_temp2 =f\"\"\"\n",
    "SELECT year, \n",
    "month, \n",
    "quarter,\n",
    "line1,\n",
    "line2,\n",
    "line3,\n",
    "line4,\n",
    "line5, \n",
    "line6,\n",
    "postcode,\n",
    "confdntl,\n",
    "\n",
    "array_join(newpostcode1,  '') as newpostcode1,\n",
    "array_join(newpostcode2,  '') as newpostcode2,\n",
    "array_join(newpostcode3,  '') as newpostcode3,\n",
    "array_join(newpostcode4,  '') as newpostcode4,\n",
    "array_join(newpostcode5,  '') as newpostcode5,\n",
    "array_join(newpostcode6,  '') as newpostcode6,\n",
    "array_join(newpostcode7,  '') as newpostcode7\n",
    "\n",
    "FROM __temp__.new_divorce_with_postcode_temp1;\n",
    "\"\"\"\n",
    "pydb.create_temp_table(create_new_divorce_with_postcode_temp2,'new_divorce_with_postcode_temp2')"
   ]
  },
  {
   "cell_type": "code",
   "execution_count": null,
   "id": "c39edf57-3247-4f80-b9ef-6bd94ffde9bc",
   "metadata": {
    "tags": []
   },
   "outputs": [],
   "source": [
    "code = pydb.read_sql_query(\"SELECT * FROM __temp__.new_divorce_with_postcode_temp2\")\n",
    "code"
   ]
  },
  {
   "cell_type": "markdown",
   "id": "d980e10d-11bc-4564-891c-bb18e450be05",
   "metadata": {},
   "source": [
    "### Create the new_divorce_with_postcode table"
   ]
  },
  {
   "cell_type": "code",
   "execution_count": null,
   "id": "af4b83cc-3cb9-4d45-befe-98425f66f0d3",
   "metadata": {},
   "outputs": [],
   "source": [
    "create_new_divorce_with_postcode =f\"\"\"\n",
    "SELECT year, \n",
    "month, \n",
    "quarter,\n",
    "line1,\n",
    "line2,\n",
    "line3,\n",
    "line4,\n",
    "line5, \n",
    "line6,\n",
    "postcode,\n",
    "confdntl,\n",
    "\n",
    "CASE WHEN newpostcode1 IS NOT NULL THEN newpostcode1\n",
    "WHEN newpostcode2 IS NOT NULL THEN newpostcode2\n",
    "WHEN newpostcode3 IS NOT NULL THEN newpostcode3\n",
    "WHEN newpostcode4 IS NOT NULL THEN newpostcode4\n",
    "WHEN newpostcode5 IS NOT NULL THEN newpostcode5\n",
    "WHEN newpostcode6 IS NOT NULL THEN newpostcode6\n",
    "WHEN newpostcode7 IS NOT NULL THEN newpostcode7\n",
    "\n",
    "ELSE NULL\n",
    "END newpostcode\n",
    "\n",
    "FROM __temp__.new_divorce_with_postcode_temp2;\n",
    "\"\"\"\n",
    "pydb.create_temp_table(create_new_divorce_with_postcode,'new_divorce_with_postcode')"
   ]
  },
  {
   "cell_type": "code",
   "execution_count": null,
   "id": "0d8c478b-06f5-4cd1-8b41-d270b631dc65",
   "metadata": {
    "tags": []
   },
   "outputs": [],
   "source": [
    "code = pydb.read_sql_query(\"SELECT * FROM __temp__.new_divorce_with_postcode\")\n",
    "code"
   ]
  },
  {
   "cell_type": "markdown",
   "id": "cd9f3a3d-bd87-4578-8c97-d200016477fa",
   "metadata": {},
   "source": [
    "### Create the divorce_postcode_1 table"
   ]
  },
  {
   "cell_type": "code",
   "execution_count": null,
   "id": "23e30747-409f-49f4-b2ed-eb74ff3a77c4",
   "metadata": {},
   "outputs": [],
   "source": [
    "create_divorce_postcode_1 =f\"\"\"\n",
    "SELECT t1.Year, \n",
    "    t1.Month, \n",
    "    t1.Quarter, \n",
    "    t1.Line1, \n",
    "    t1.Line2, \n",
    "    t1.Line3, \n",
    "    t1.Line4, \n",
    "    t1.Line5,\n",
    "    t1.Line6,\n",
    "    t1.CONFDNTL,\n",
    "    t1.postcode,\n",
    "    /* Addr Postcode */\n",
    "    REPLACE(t1.newpostcode, ' ', '') AS newpostcode\n",
    "FROM __temp__.new_divorce_with_postcode t1;\n",
    "\"\"\"\n",
    "pydb.create_temp_table(create_divorce_postcode_1,'divorce_postcode_1')"
   ]
  },
  {
   "cell_type": "code",
   "execution_count": null,
   "id": "9acc155c-95cb-40c2-b215-2eea7ee9b1ab",
   "metadata": {
    "tags": []
   },
   "outputs": [],
   "source": [
    "divorce_postcode_1 = pydb.read_sql_query(\"SELECT * from __temp__.divorce_postcode_1 LIMIT 10\")\n",
    "divorce_postcode_1"
   ]
  },
  {
   "cell_type": "markdown",
   "id": "1b2820d6-e8a3-4a51-8c7b-a7c885f948ce",
   "metadata": {},
   "source": [
    "### Create the ons_postcode_data table"
   ]
  },
  {
   "cell_type": "code",
   "execution_count": null,
   "id": "67e16324-085d-4d52-8d7e-a6e04e912e48",
   "metadata": {},
   "outputs": [],
   "source": [
    "create_ons_postcode_data =f\"\"\"\n",
    "SELECT REPLACE(t1.pcd , ' ', '') AS PCD, \n",
    "t1.oslaua,\n",
    "t1.ctry\n",
    "\n",
    "FROM __temp__.ons_postcode t1\n",
    "\n",
    "WHERE t1.ctry IN ('E92000001','W92000004');\n",
    "\"\"\"\n",
    "pydb.create_temp_table(create_ons_postcode_data,'ons_postcode_data')"
   ]
  },
  {
   "cell_type": "code",
   "execution_count": null,
   "id": "46435f8f-76e8-483f-98d5-452dfb4f410d",
   "metadata": {
    "tags": []
   },
   "outputs": [],
   "source": [
    "ons_postcode_data = pydb.read_sql_query(\"SELECT * from __temp__.ons_postcode_data LIMIT 10\")\n",
    "ons_postcode_data"
   ]
  },
  {
   "cell_type": "markdown",
   "id": "1b7fe1bd-7b68-4b09-877b-81edd521f6cb",
   "metadata": {},
   "source": [
    "### Create the divorce_postcode_ons_match table"
   ]
  },
  {
   "cell_type": "code",
   "execution_count": null,
   "id": "00e32b6c-59ea-4c0f-b78c-0068daea15ca",
   "metadata": {},
   "outputs": [],
   "source": [
    "create_divorce_postcode_ons_match =f\"\"\"\n",
    "SELECT t1.Year, \n",
    "          t1.Quarter, \n",
    "          t1.LINE1, \n",
    "          t1.LINE2, \n",
    "          t1.LINE3, \n",
    "          t1.LINE4, \n",
    "          t1.LINE5,\n",
    "          t1.LINE6,\n",
    "          t1.CONFDNTL,\n",
    "          t1.postcode,\n",
    "          t1.newpostcode, \n",
    "          t2.PCD, \n",
    "          t2.oslaua\n",
    "FROM __temp__.divorce_postcode_1 t1\n",
    "LEFT JOIN __temp__.ons_postcode_data t2 \n",
    "    ON (t1.newpostcode = t2.PCD);\n",
    "\"\"\"\n",
    "pydb.create_temp_table(create_divorce_postcode_ons_match,'divorce_postcode_ons_match')"
   ]
  },
  {
   "cell_type": "code",
   "execution_count": null,
   "id": "2f20b02c-2eb4-427b-a811-e0b9b8846f7d",
   "metadata": {
    "tags": []
   },
   "outputs": [],
   "source": [
    "divorce_postcode_ons_match = pydb.read_sql_query(\"SELECT * from __temp__.divorce_postcode_ons_match LIMIT 10\")\n",
    "divorce_postcode_ons_match"
   ]
  },
  {
   "cell_type": "markdown",
   "id": "af719c67-8365-421a-99e7-6c233457f5a8",
   "metadata": {},
   "source": [
    "### Create the divorce_postcode_la table"
   ]
  },
  {
   "cell_type": "code",
   "execution_count": null,
   "id": "b1149d5e-a88f-4495-8330-b819421d7ad2",
   "metadata": {},
   "outputs": [],
   "source": [
    "create_divorce_postcode_la =f\"\"\"\n",
    "SELECT t1.Year, \n",
    "          t1.Quarter, \n",
    "          t1.LINE1, \n",
    "          t1.LINE2, \n",
    "          t1.LINE3, \n",
    "          t1.LINE4, \n",
    "          t1.LINE5,\n",
    "          t1.LINE6,\n",
    "          t1.CONFDNTL,\n",
    "          t1.postcode, \n",
    "          t1.newpostcode, \n",
    "          t1.PCD, \n",
    "          t1.oslaua, \n",
    "          LTRIM(t2.county_ua) as county_ua,\n",
    "          t2.country\n",
    "FROM __temp__.divorce_postcode_ons_match t1\n",
    "LEFT JOIN __temp__.divorce_county_ua_lookup t2 \n",
    "ON (t1.oslaua = t2.code);\n",
    "\n",
    "\"\"\"\n",
    "pydb.create_temp_table(create_divorce_postcode_la,'divorce_postcode_la')"
   ]
  },
  {
   "cell_type": "code",
   "execution_count": null,
   "id": "a480cac0-ecee-4a76-88bb-c11bd55242bd",
   "metadata": {
    "tags": []
   },
   "outputs": [],
   "source": [
    "divorce_postcode_la = pydb.read_sql_query(\"SELECT * from __temp__.divorce_postcode_la LIMIT 10\")\n",
    "divorce_postcode_la"
   ]
  },
  {
   "cell_type": "markdown",
   "id": "001e115d-93c5-4bf8-969b-966c47f03a01",
   "metadata": {},
   "source": [
    "### Create the divorce_la_c8 table"
   ]
  },
  {
   "cell_type": "code",
   "execution_count": null,
   "id": "534b81fe-a799-434a-b007-6bfff11f406b",
   "metadata": {},
   "outputs": [],
   "source": [
    "create_divorce_la_c8 =f\"\"\"\n",
    "SELECT *,\n",
    "CASE \n",
    "WHEN CONFDNTL = 'KEEP' THEN 'Confidentiality requested' \n",
    "WHEN CONFDNTL = 'Y' THEN 'Confidentiality requested' \n",
    "WHEN Line1 IS NULL AND Line2 IS NULL AND Line3 IS NULL AND Line4 IS NULL AND Line5 IS NULL AND LINE6 IS NULL AND Postcode IS NULL THEN 'Confidentiality requested'\n",
    "WHEN Line1 = '-' AND Line2 ='-' AND Postcode IS NULL THEN 'Confidentiality requested'\n",
    "WHEN Line1 = '.' And Line2 = '.' AND Line3 IS NULL AND Postcode IS NULL THEN 'Confidentiality requested'\n",
    "WHEN Line1 = 'XX' OR Line1 = 'XXX' OR Line1 = 'XXXX' OR Line1 = 'XXXXX' or Line1 = 'XXXXXX' OR Line1 = 'XXXXXXX' or Line1 = 'XXXXXXXX' then 'Confidentiality requested'\n",
    "WHEN strpos(Line1,'PRIVATE') <> 0 then 'Confidentiality requested'\n",
    "WHEN strpos(Line1,'WITHHELD') <> 0 then 'Confidentiality requested'\n",
    "WHEN strpos(Line1,'CONFIDENT') <> 0 then 'Confidentiality requested'\n",
    "WHEN strpos(Line2,'CONFIDENT') <> 0 then 'Confidentiality requested'\n",
    "WHEN strpos(Line1,'C8') <> 0 then 'Confidentiality requested'\n",
    "WHEN strpos(Line2,'C8') <> 0 then 'Confidentiality requested'\n",
    "\n",
    "WHEN Newpostcode IS NOT NULL AND PCD IS NULL then 'Postcode invalid/not given or foreign'\n",
    "WHEN Newpostcode IS NOT NULL AND PCD IS NOT NULL AND county_ua IS NULL then 'Postcode invalid/not given or foreign'\n",
    "WHEN county_ua IS NULL THEN 'Postcode invalid/not given or foreign'\n",
    "\n",
    "ELSE county_ua \n",
    "END county_ua2\n",
    "FROM __temp__.divorce_postcode_la;\n",
    "\n",
    "\"\"\"\n",
    "pydb.create_temp_table(create_divorce_la_c8,'divorce_la_c8')"
   ]
  },
  {
   "cell_type": "code",
   "execution_count": null,
   "id": "52e79f4b-4a76-4486-8f80-b02e780fc7bd",
   "metadata": {
    "tags": []
   },
   "outputs": [],
   "source": [
    "divorce_la_c8 = pydb.read_sql_query(\"SELECT * from __temp__.divorce_la_c8\")\n",
    "divorce_la_c8"
   ]
  },
  {
   "cell_type": "markdown",
   "id": "397a8e54-cdef-4278-90bd-cf93e9dfa0d4",
   "metadata": {},
   "source": [
    "#### Check Confidentiality Filter"
   ]
  },
  {
   "cell_type": "code",
   "execution_count": null,
   "id": "960842bc-c9a0-4924-a77b-72bfe9e840ea",
   "metadata": {},
   "outputs": [],
   "source": [
    "check = pydb.read_sql_query(\"SELECT DISTINCT * FROM __temp__.DIVORCE_LA_C8 WHERE CONFDNTL = 'Y' or CONFDNTL = 'KEEP';\")\n",
    "check"
   ]
  },
  {
   "cell_type": "markdown",
   "id": "9fbfb24b-f121-437e-a0b4-fd3d93dfef30",
   "metadata": {},
   "source": [
    "### Create the divorce_county table"
   ]
  },
  {
   "cell_type": "code",
   "execution_count": null,
   "id": "3cb6bb6f-bc04-40a4-a353-a085bab259fe",
   "metadata": {},
   "outputs": [],
   "source": [
    "create_divorce_county =f\"\"\"\n",
    "SELECT year,\n",
    "quarter,\n",
    "line1,\n",
    "line2,\n",
    "line3,\n",
    "line4,\n",
    "line5,\n",
    "line6,\n",
    "confdntl,\n",
    "postcode, \n",
    "newpostcode,\n",
    "pcd,\n",
    "oslaua,\n",
    "\n",
    "CASE \n",
    "WHEN county_ua2 = 'Isles of ScillyUA' then 'Cornwall & Isles of Scilly'\n",
    "WHEN county_ua2 = 'CornwallUA' then 'Cornwall & Isles of Scilly'\n",
    "\n",
    "ELSE county_ua2 \n",
    "END county_ua,\n",
    "\n",
    "CASE \n",
    "WHEN county_ua2 = 'Confidentiality requested' then 'Confidentiality requested'\n",
    "WHEN county_ua2 = 'Postcode invalid/not given or foreign' then 'Postcode invalid/not given or foreign'\n",
    "ELSE country\n",
    "END country\n",
    "\n",
    "FROM __temp__.divorce_la_c8;\n",
    "\n",
    "\"\"\"\n",
    "pydb.create_temp_table(create_divorce_county,'divorce_county')"
   ]
  },
  {
   "cell_type": "code",
   "execution_count": null,
   "id": "fccae0c9-efa9-4365-9e2f-fe42319aee36",
   "metadata": {
    "tags": []
   },
   "outputs": [],
   "source": [
    "divorce_county = pydb.read_sql_query(\"SELECT * from __temp__.divorce_county\")\n",
    "divorce_county"
   ]
  },
  {
   "cell_type": "markdown",
   "id": "cb5c927f-6c68-4cf2-9ed7-0afdb0b00ab7",
   "metadata": {},
   "source": [
    "### Create the petitioner_summary_la table"
   ]
  },
  {
   "cell_type": "code",
   "execution_count": null,
   "id": "6b114e6f-390a-4b0a-b63a-25785f32f7c1",
   "metadata": {},
   "outputs": [],
   "source": [
    "create_petitioner_summary_la =f\"\"\"\n",
    "SELECT DISTINCT 'Petitioner' as Type,\n",
    "t1.year,\n",
    "t1.country,\n",
    "t1.county_ua,\n",
    "(COUNT(t1.county_ua)) AS COUNT_of_County\n",
    "\n",
    "FROM __temp__.divorce_county t1\n",
    "\n",
    "WHERE year > 2010\n",
    "AND year < {current_year}\n",
    "\n",
    "GROUP BY t1.year,\n",
    "t1.county_ua,\n",
    "t1.country;\n",
    "\n",
    "\"\"\"\n",
    "pydb.create_temp_table(create_petitioner_summary_la,'petitioner_summary_la')"
   ]
  },
  {
   "cell_type": "code",
   "execution_count": null,
   "id": "1d4fbd3e-2c9e-4def-956d-27793edac3d7",
   "metadata": {
    "tags": []
   },
   "outputs": [],
   "source": [
    "petitioner_summary_la = pydb.read_sql_query(\"SELECT * from __temp__.petitioner_summary_la\")\n",
    "petitioner_summary_la"
   ]
  },
  {
   "cell_type": "code",
   "execution_count": null,
   "id": "f378850b-6bc7-4180-b45b-53aa381a1c78",
   "metadata": {},
   "outputs": [],
   "source": [
    "# Check that counts of county \n",
    "petitioner_summary_la[['count_of_county']].sum()"
   ]
  },
  {
   "cell_type": "code",
   "execution_count": null,
   "id": "c03dd5b7-aadd-403e-be2e-1fda586b236d",
   "metadata": {},
   "outputs": [],
   "source": [
    "final_output = pydb.read_sql_query(\"\"\"\n",
    "SELECT *\n",
    "from __temp__.petitioner_summary_la\n",
    "ORDER BY year,\n",
    "country,\n",
    "county_ua\n",
    "\"\"\")"
   ]
  },
  {
   "cell_type": "code",
   "execution_count": null,
   "id": "c6cde5fa-98a6-4cc6-835e-ac521959dd30",
   "metadata": {},
   "outputs": [],
   "source": [
    "# Export the final csv\n",
    "final_output.to_csv(\"s3://alpha-family-data/CSVs/Divorce/CSV Matrimonial Matters County & UA Annual 2022.csv\", index = False)"
   ]
  }
 ],
 "metadata": {
  "kernelspec": {
   "display_name": "Nixon FOI (Python3)",
   "language": "python",
   "name": "venv_nixonfoi"
  },
  "language_info": {
   "codemirror_mode": {
    "name": "ipython",
    "version": 3
   },
   "file_extension": ".py",
   "mimetype": "text/x-python",
   "name": "python",
   "nbconvert_exporter": "python",
   "pygments_lexer": "ipython3",
   "version": "3.9.6"
  }
 },
 "nbformat": 4,
 "nbformat_minor": 5
}
