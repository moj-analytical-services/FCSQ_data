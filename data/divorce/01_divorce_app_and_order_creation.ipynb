{
 "cells": [
  {
   "cell_type": "code",
   "execution_count": null,
   "id": "3c0fac69-b35c-42f9-91f6-80cd22582a23",
   "metadata": {},
   "outputs": [],
   "source": [
    "#!pip install --user pydbtools==5.6.3"
   ]
  },
  {
   "cell_type": "code",
   "execution_count": null,
   "id": "7a37c3f0-37fa-4e19-b155-1f883abe0441",
   "metadata": {},
   "outputs": [],
   "source": [
    "import pandas as pd  # a module which provides the data structures and functions to store and manipulate tables in dataframes\n",
    "import pydbtools as pydb  # A module which allows SQL queries to be run on the Analytical Platform from Python, see https://github.com/moj-analytical-services/pydbtools\n",
    "import boto3  # allows you to directly create, update, and delete AWS resources from Python scripts\n",
    "\n",
    "# sets parameters to view dataframes for tables easier\n",
    "pd.set_option(\"display.max_columns\", 100)\n",
    "pd.set_option(\"display.width\", 900)\n",
    "pd.set_option(\"display.max_colwidth\", 200)"
   ]
  },
  {
   "cell_type": "code",
   "execution_count": null,
   "id": "74994433-0df8-426d-84ed-a72e84aaa239",
   "metadata": {},
   "outputs": [],
   "source": [
    "#Variables to be used in this notebook\n",
    "\n",
    "#this is the athena database we will be storing our tables in\n",
    "fcsq_database = \"fcsq\"\n",
    "\n",
    "#this is the s3 bucket we will be saving data to\n",
    "s3 = boto3.resource(\"s3\")\n",
    "bucket = s3.Bucket(\"alpha-family-data\")\n",
    "\n",
    "#Last full year to be published - including this publication\n",
    "annual_year = 2023\n",
    "\n",
    "#Current publication variables\n",
    "current_year = 2024\n",
    "current_quarter = 2\n",
    "\n",
    "#Next publication variables\n",
    "next_quarter_year = 2024 \n",
    "next_quarter = 3"
   ]
  },
  {
   "cell_type": "code",
   "execution_count": null,
   "id": "d83dd891-e777-4406-8679-04057b9af417",
   "metadata": {},
   "outputs": [],
   "source": [
    "#imports SDP extract data from S3 bucket into a temporary table\n",
    "sdp_divorce_data_table = pd.read_csv(\"s3://alpha-family-data/fcsq_processing/Divorce/sdp_process/sdp_divorce_data_raw_2024q3.csv\", low_memory=False)\n",
    "#Converting selected columns to datetime       \n",
    "sdp_divorce_data_table['case_recpt_date'] = pd.to_datetime(sdp_divorce_data_table['case_recpt_date'],  errors = 'coerce', format = '%Y-%m-%d %H:%M:%S')\n",
    "sdp_divorce_data_table['dn_proncd_date'] = pd.to_datetime(sdp_divorce_data_table['dn_proncd_date'],  errors = 'coerce', format = '%Y-%m-%d %H:%M:%S')\n",
    "sdp_divorce_data_table['da_grntd_date'] = pd.to_datetime(sdp_divorce_data_table['da_grntd_date'],  errors = 'coerce', format = '%Y-%m-%d %H:%M:%S')\n",
    "\n",
    "pydb.dataframe_to_temp_table(sdp_divorce_data_table, \"sdp_divorce_data\");\n"
   ]
  },
  {
   "cell_type": "code",
   "execution_count": null,
   "id": "d3a3df9e-6902-4ab1-bb8a-8f4167456558",
   "metadata": {},
   "outputs": [],
   "source": [
    "test = pydb.read_sql_query(\"SELECT * from __temp__.sdp_divorce_data limit 10\")\n",
    "test"
   ]
  },
  {
   "cell_type": "code",
   "execution_count": null,
   "id": "7d5a4230-b1fa-48ec-95ef-5e5fbb7e52b5",
   "metadata": {},
   "outputs": [],
   "source": [
    "#record count check in extracted data\n",
    "#sdp_divorce_data_count = pydb.read_sql_query(\"SELECT count(*) as count from __temp__.sdp_divorce_data\")\n",
    "#sdp_divorce_data_count"
   ]
  }
 ],
 "metadata": {
  "kernelspec": {
   "display_name": "My project (Python3)",
   "language": "python",
   "name": "venv_fcsqproject"
  },
  "language_info": {
   "codemirror_mode": {
    "name": "ipython",
    "version": 3
   },
   "file_extension": ".py",
   "mimetype": "text/x-python",
   "name": "python",
   "nbconvert_exporter": "python",
   "pygments_lexer": "ipython3",
   "version": "3.9.4"
  }
 },
 "nbformat": 4,
 "nbformat_minor": 5
}
