{
 "cells": [
  {
   "cell_type": "code",
   "execution_count": null,
   "id": "3c0fac69-b35c-42f9-91f6-80cd22582a23",
   "metadata": {
    "jupyter": {
     "outputs_hidden": true
    },
    "tags": []
   },
   "outputs": [],
   "source": [
    "!pip install --user pydbtools==5.6.4"
   ]
  },
  {
   "cell_type": "code",
   "execution_count": null,
   "id": "813d08fe-24ab-498b-ac65-23b47d0ed337",
   "metadata": {
    "jupyter": {
     "outputs_hidden": true
    },
    "tags": []
   },
   "outputs": [],
   "source": [
    "pip freeze"
   ]
  },
  {
   "cell_type": "code",
   "execution_count": null,
   "id": "bd6b269f-82e6-4709-aa84-467e7d464a84",
   "metadata": {
    "tags": []
   },
   "outputs": [],
   "source": [
    "#Command to check the version of pydbtools\n",
    "!pip freeze | grep pydbtools\n",
    "#5.3.0\n",
    "#5.6.3\n",
    "#5.6.4"
   ]
  },
  {
   "cell_type": "code",
   "execution_count": null,
   "id": "c8bc1d4f-19e4-4af4-8a17-19963e8e2be2",
   "metadata": {},
   "outputs": [],
   "source": [
    "#refresh the kernel"
   ]
  },
  {
   "cell_type": "code",
   "execution_count": null,
   "id": "7a37c3f0-37fa-4e19-b155-1f883abe0441",
   "metadata": {},
   "outputs": [],
   "source": [
    "import pandas as pd  # a module which provides the data structures and functions to store and manipulate tables in dataframes\n",
    "import pydbtools as pydb  # A module which allows SQL queries to be run on the Analytical Platform from Python, see https://github.com/moj-analytical-services/pydbtools\n",
    "import boto3  # allows you to directly create, update, and delete AWS resources from Python scripts\n",
    "\n",
    "# sets parameters to view dataframes for tables easier\n",
    "pd.set_option(\"display.max_columns\", 100)\n",
    "pd.set_option(\"display.width\", 900)\n",
    "pd.set_option(\"display.max_colwidth\", 200)"
   ]
  },
  {
   "cell_type": "code",
   "execution_count": null,
   "id": "74994433-0df8-426d-84ed-a72e84aaa239",
   "metadata": {},
   "outputs": [],
   "source": [
    "#Variables to be used in this notebook\n",
    "\n",
    "#this is the athena database we will be storing our tables in\n",
    "fcsq_database = \"fcsq\"\n",
    "\n",
    "#this is the s3 bucket we will be saving data to\n",
    "s3 = boto3.resource(\"s3\")\n",
    "bucket = s3.Bucket(\"alpha-family-data\")\n",
    "\n",
    "#Last full year to be published - including this publication\n",
    "annual_year = 2023\n",
    "\n",
    "#Current publication variables\n",
    "current_year = 2024\n",
    "current_quarter = 2\n",
    "\n",
    "#Next publication variables\n",
    "next_quarter_year = 2024 \n",
    "next_quarter = 3"
   ]
  },
  {
   "cell_type": "code",
   "execution_count": null,
   "id": "d83dd891-e777-4406-8679-04057b9af417",
   "metadata": {
    "jupyter": {
     "outputs_hidden": true
    },
    "tags": []
   },
   "outputs": [],
   "source": [
    "#imports SDP extract data from S3 bucket into a temporary table\n",
    "#sdp_divorce_data_table = pd.read_csv(\"s3://alpha-family-data/fcsq_processing/Divorce/sdp_process/sdp_divorce_data_raw_2024q3.csv\", low_memory=False)\n",
    "#Converting selected columns to datetime       \n",
    "#sdp_divorce_data_table['case_recpt_date'] = pd.to_datetime(sdp_divorce_data_table['case_recpt_date'],  errors = 'coerce', format = '%Y-%m-%d %H:%M:%S')\n",
    "#sdp_divorce_data_table['dn_proncd_date'] = pd.to_datetime(sdp_divorce_data_table['dn_proncd_date'],  errors = 'coerce', format = '%Y-%m-%d %H:%M:%S')\n",
    "#sdp_divorce_data_table['da_grntd_date'] = pd.to_datetime(sdp_divorce_data_table['da_grntd_date'],  errors = 'coerce', format = '%Y-%m-%d %H:%M:%S')\n",
    "\n",
    "#pydb.dataframe_to_temp_table(sdp_divorce_data_table, \"sdp_divorce_data\");\n"
   ]
  },
  {
   "cell_type": "code",
   "execution_count": null,
   "id": "d8e4d746-6d37-4d62-b7f0-7c9bd9901c1e",
   "metadata": {},
   "outputs": [],
   "source": [
    "#csv_location = \"s3://alpha-family-data/fcsq_processing/Divorce/sdp_process/sdp_divorce_data_raw_2024q3.csv\"\n",
    "\n",
    "\n",
    "\n",
    "#import awswrangler as wr\n",
    "#wr.catalog.create_csv_table(\n",
    "#    database='fscq',\n",
    "#    table='temp_divorce_extract_202422',\n",
    "#    path=csv_location,\n",
    "    #columns_types={'col0': 'bigint', 'col1': 'double'},\n",
    "    #partitions_types={'col2': 'date'},\n",
    "    #compression='gzip',\n",
    "    #description='My own table!',\n",
    "    #parameters={'source': 'postgresql'},\n",
    "    #columns_comments={'col0': 'Column 0.', 'col1': 'Column 1.', 'col2': 'Partition.'}\n",
    "#)\n",
    " "
   ]
  },
  {
   "cell_type": "code",
   "execution_count": null,
   "id": "d3a3df9e-6902-4ab1-bb8a-8f4167456558",
   "metadata": {},
   "outputs": [],
   "source": [
    "#test = pydb.read_sql_query(\"SELECT * from __temp__.sdp_divorce_data limit 10\")\n",
    "#test"
   ]
  },
  {
   "cell_type": "code",
   "execution_count": null,
   "id": "7d5a4230-b1fa-48ec-95ef-5e5fbb7e52b5",
   "metadata": {},
   "outputs": [],
   "source": [
    "#record count check in extracted data\n",
    "#sdp_divorce_data_count = pydb.read_sql_query(\"SELECT count(*) as count from __temp__.sdp_divorce_data\")\n",
    "#sdp_divorce_data_count"
   ]
  },
  {
   "cell_type": "code",
   "execution_count": null,
   "id": "c96eee81-f7bf-4cb9-b97c-de609a471cbd",
   "metadata": {},
   "outputs": [],
   "source": [
    "#pydb.delete_table_and_data(database=\"__temp__\", table=\"sdp_divorce_data\")"
   ]
  },
  {
   "cell_type": "code",
   "execution_count": null,
   "id": "7190916b-12be-4563-a34d-7a9a67f7cb99",
   "metadata": {},
   "outputs": [],
   "source": [
    "#Imports location information from S3 bucket into a temporary table\n",
    "#create_div_court_dfj_region_lookup_table = pd.read_csv(\"s3://alpha-family-data/fcsq_processing/lookups/div_court_dfj_region_lookup.csv\", low_memory=False)\n",
    "\n",
    "#pydb.dataframe_to_temp_table(create_div_court_dfj_region_lookup_table, \"div_court_dfj_region_lookup\");\n"
   ]
  },
  {
   "cell_type": "code",
   "execution_count": null,
   "id": "6710e9c1-9460-4ddc-a19d-d5fadb4cfbfa",
   "metadata": {},
   "outputs": [],
   "source": [
    "#import awswrangler as wr\n",
    "\n",
    "#create_div_court_dfj_region_lookup_table = pd.read_csv(\"s3://alpha-family-data/fcsq_processing/lookups/div_court_dfj_region_lookup.csv\", low_memory=False)\n",
    "\n",
    "#wr.s3.to_csv(\n",
    "#    df=create_div_court_dfj_region_lookup_table,\n",
    "#    path=\"s3://alpha-family-data/fcsq_processing/lookups/div_court_dfj_region_lookup.csv\",\n",
    "#    index=False,\n",
    "#    dataset=True,\n",
    "#    database=\"fcsq\",\n",
    "#    table=\"div_court_dfj_region_lookup\",\n",
    "#    mode=\"overwrite\",\n",
    "    #boto3_session=session,\n",
    "#)"
   ]
  },
  {
   "cell_type": "code",
   "execution_count": null,
   "id": "626ccb44-86fe-4033-9e28-aecb9535e49e",
   "metadata": {},
   "outputs": [],
   "source": [
    "test = pydb.read_sql_query(\"SELECT * from fcsq.div_court_dfj_region_lookup LIMIT 10\")\n",
    "test"
   ]
  },
  {
   "cell_type": "code",
   "execution_count": null,
   "id": "eb29a02f-5171-4337-87e9-9a1a3f279562",
   "metadata": {},
   "outputs": [],
   "source": [
    "#pydb.delete_table_and_data(database=\"__temp__\", table=\"#pydb.delete_table_and_data(database=\"__temp__\", table=\"sdp_divorce_data\")\")"
   ]
  },
  {
   "cell_type": "code",
   "execution_count": null,
   "id": "136de4e9-3b2b-40d2-9e29-f55894615e00",
   "metadata": {},
   "outputs": [],
   "source": [
    "#Creating a table holding petition / application information."
   ]
  },
  {
   "cell_type": "code",
   "execution_count": null,
   "id": "dd24e88d-049d-4747-952b-1998fe8e0752",
   "metadata": {},
   "outputs": [],
   "source": [
    "drop_divorce_fct_petitions = \"DROP TABLE IF EXISTS fcsq.divorce_fct_petitions\"\n",
    "pydb.start_query_execution_and_wait(drop_divorce_fct_petitions)\n",
    "bucket.objects.filter(Prefix=\"fcsq_processing/Divorce/divorce_fct_petitions\").delete();\n"
   ]
  },
  {
   "cell_type": "code",
   "execution_count": null,
   "id": "70d8cb81-1af9-4ae8-a87a-9127d041fda8",
   "metadata": {
    "tags": []
   },
   "outputs": [],
   "source": [
    "create_divorce_fct_petitions_table =f\"\"\"\n",
    "CREATE TABLE IF NOT EXISTS fcsq.divorce_fct_petitions\n",
    "WITH (format = 'PARQUET', external_location = 's3://alpha-family-data/fcsq_processing/Divorce/divorce_fct_petitions') AS\n",
    "SELECT  'Petition' As stage,\n",
    "        CAST(a.pet_year AS INT) AS year,\n",
    "        EXTRACT(QUARTER FROM date_parse(a.case_recpt_date, '%Y-%m-%d %H:%i:%s.%f')) AS quarter,\n",
    "        EXTRACT(MONTH FROM date_parse(a.case_recpt_date, '%Y-%m-%d %H:%i:%s.%f')) AS month,\n",
    "        CAST (a.fm_case_cid AS VARCHAR) AS fm_case_cid,\n",
    "        CAST(a.legal_case_id AS BIGINT) AS legal_case_id,\n",
    "        CAST(a.digital_paper AS VARCHAR) AS digital_paper,\n",
    "        CASE WHEN a.petnr_reprsntd_ind = 'NULL' THEN NULL \n",
    "             ELSE CAST(a.petnr_reprsntd_ind AS INT)\n",
    "        END AS petnr_reprsntd_ind,\n",
    "        CASE WHEN respndnt_reprsntd_ind = 'NULL' THEN NULL \n",
    "             ELSE CAST(respndnt_reprsntd_ind AS INT)\n",
    "        END AS respndnt_reprsntd_ind,\n",
    "        DATE_PARSE(a.case_recpt_date, '%Y-%m-%d %H:%i:%s.%f') AS event_date,\n",
    "        DATE_PARSE(a.case_issd_date,'%Y-%m-%d %H:%i:%s.%f') AS case_issd_date,  \n",
    "        CAST(a.case_type_descriptor AS VARCHAR) AS reason,\n",
    "        CAST(a.proceeding_type AS VARCHAR) AS proceeding_type,\n",
    "        CAST(a.proceeding_type_code AS VARCHAR) AS proceeding_type_code,\n",
    "        CASE    WHEN a.pettnr_gender_type_name = 'female' THEN 'Female'\n",
    "                WHEN a.pettnr_gender_type_name = 'male' THEN 'Male'\n",
    "                WHEN a.pettnr_gender_type_name = 'other' THEN 'Other/unknown'\n",
    "                WHEN a.pettnr_gender_type_name = 'notGiven' THEN 'Other/unknown'\n",
    "                ELSE 'check' \n",
    "        END AS Petitioners_gender,\n",
    "        CASE   WHEN a.respndnt_gender_type_name = 'female' THEN 'Female'\n",
    "               WHEN a.respndnt_gender_type_name = 'male' THEN 'Male'\n",
    "               WHEN a.respndnt_gender_type_name = 'other' THEN 'Other/unknown'\n",
    "               WHEN a.respndnt_gender_type_name = 'notGiven' THEN 'Other/unknown'\n",
    "               ELSE 'check' \n",
    "        END AS respondents_gender,   \n",
    "        CAST(a.pet_location_key AS DOUBLE) as location_key,\n",
    "        CASE WHEN a.first_fr_hrng_ind = 'NULL' THEN NULL \n",
    "             ELSE CAST(a.first_fr_hrng_ind AS INT)\n",
    "        END AS first_fr_hrng_ind,\n",
    "        CASE WHEN a.first_divorce_hrng_ind = 'NULL' THEN NULL \n",
    "             ELSE CAST(a.first_divorce_hrng_ind AS INT)\n",
    "        END AS first_divorce_hrng_ind,\n",
    "        CAST(a.law AS VARCHAR) AS law,\n",
    "        CAST(a.nfd_app_type AS VARCHAR) AS nfd_app_type,\n",
    "        CAST(a.new_case_type AS VARCHAR) AS new_case_type,\n",
    "        CAST(b.location_name AS VARCHAR) AS court,\n",
    "        CAST(b.dfj_lookup AS VARCHAR) AS dfj_area,\n",
    "        CAST(b.region_lookup AS VARCHAR) AS region\n",
    "        \n",
    "FROM data_eng_uploader_prod_family_sdp_data.divorce_test AS a\n",
    "  LEFT JOIN fcsq.div_court_dfj_region_lookup AS b\n",
    "    ON cast(a.pet_location_key as DOUBLE) = b.location_key \n",
    "\n",
    "WHERE CAST(a.pet_ind as INT)  = 1;\n",
    "\"\"\"\n",
    "pydb.start_query_execution_and_wait(create_divorce_fct_petitions_table)"
   ]
  },
  {
   "cell_type": "code",
   "execution_count": null,
   "id": "71abbd7c-c959-4948-85e0-2c0dee92be5b",
   "metadata": {},
   "outputs": [],
   "source": [
    "test = pydb.read_sql_query(\"SELECT * from fcsq.divorce_fct_petitions LIMIT 10\")\n",
    "test"
   ]
  },
  {
   "cell_type": "code",
   "execution_count": null,
   "id": "2ced734d-b638-4ddd-a143-345ef114026d",
   "metadata": {},
   "outputs": [],
   "source": [
    "#pydb.delete_table_and_data(database=\"__temp__\", table=\"divorce_fct_petitions\")"
   ]
  },
  {
   "cell_type": "code",
   "execution_count": null,
   "id": "b9efd600-e997-451a-afb3-95b80a92777c",
   "metadata": {},
   "outputs": [],
   "source": [
    "#Creating a table holding nisi / conditional order information."
   ]
  },
  {
   "cell_type": "code",
   "execution_count": null,
   "id": "5d803b46-2128-4462-83db-dbe291313273",
   "metadata": {},
   "outputs": [],
   "source": [
    "drop_divorce_fct_nisi = \"DROP TABLE IF EXISTS fcsq.divorce_fct_nisi\"\n",
    "pydb.start_query_execution_and_wait(drop_divorce_fct_nisi)\n",
    "bucket.objects.filter(Prefix=\"fcsq_processing/Divorce/divorce_fct_nisi\").delete();"
   ]
  },
  {
   "cell_type": "code",
   "execution_count": null,
   "id": "34f6cc8a-0750-4829-9c8e-c0257b61d217",
   "metadata": {
    "tags": []
   },
   "outputs": [],
   "source": [
    "create_divorce_fct_nisi_table =f\"\"\"\n",
    "CREATE TABLE IF NOT EXISTS fcsq.divorce_fct_nisi\n",
    "WITH (format = 'PARQUET', external_location = 's3://alpha-family-data/fcsq_processing/Divorce/divorce_fct_nisi') AS\n",
    "SELECT  CASE    WHEN a.proceeding_type_code IN ('D','N') THEN 'Decree Nisi'\n",
    "                WHEN a.proceeding_type_code = 'J' THEN 'Judicial Separations Granted'\n",
    "        END As stage,\n",
    "        CASE WHEN a.nisi_year = 'NULL' THEN NULL \n",
    "             ELSE CAST(a.nisi_year AS INT)\n",
    "        END AS year,\n",
    "        CASE WHEN a.dn_proncd_date = 'NULL' THEN NULL \n",
    "             ELSE EXTRACT(QUARTER FROM date_parse(a.dn_proncd_date, '%Y-%m-%d %H:%i:%s.%f'))\n",
    "        END AS quarter,\n",
    "        CASE WHEN a.dn_proncd_date = 'NULL' THEN NULL \n",
    "             ELSE EXTRACT(MONTH FROM date_parse(a.dn_proncd_date, '%Y-%m-%d %H:%i:%s.%f'))\n",
    "        END AS month,\n",
    "        CAST (a.fm_case_cid AS VARCHAR) AS fm_case_cid,\n",
    "        CAST(a.legal_case_id AS BIGINT) AS legal_case_id,\n",
    "        CAST(a.digital_paper AS VARCHAR) AS digital_paper,\n",
    "        CASE WHEN a.dn_proncd_date = 'NULL' THEN NULL\n",
    "             ELSE DATE_PARSE(a.dn_proncd_date,'%Y-%m-%d %H:%i:%s.%f')\n",
    "        END AS event_date,\n",
    "        CASE WHEN pet_to_nisi ='NULL' THEN NULL\n",
    "             ELSE CAST(a.pet_to_nisi AS DOUBLE) \n",
    "        END AS pet_to_nisi,\n",
    "        CAST(a.proceeding_type AS VARCHAR) AS proceeding_type,\n",
    "        CAST(a.proceeding_type_code AS VARCHAR) AS proceeding_type_code,\n",
    "        CAST(a.contested AS VARCHAR) AS contested,   \n",
    "        CASE WHEN a.nisi_location_key = 'NULL' THEN NULL\n",
    "             ELSE CAST(a.nisi_location_key AS DOUBLE) \n",
    "        END AS location_key,\n",
    "        CASE WHEN a.first_fr_hrng_ind = 'NULL' THEN NULL \n",
    "             ELSE CAST(a.first_fr_hrng_ind AS INT)\n",
    "        END AS first_fr_hrng_ind,\n",
    "        CASE WHEN a.first_divorce_hrng_ind = 'NULL' THEN NULL \n",
    "             ELSE CAST(a.first_divorce_hrng_ind AS INT)\n",
    "        END AS first_divorce_hrng_ind,\n",
    "        CAST(a.law AS VARCHAR) AS law,\n",
    "        CAST(a.nfd_app_type AS VARCHAR) AS nfd_app_type,\n",
    "        CAST(a.new_case_type AS VARCHAR) AS new_case_type,\n",
    "        CAST(b.location_name AS VARCHAR) AS court,\n",
    "        CAST(b.dfj_lookup AS VARCHAR) AS dfj_area,\n",
    "        CAST(b.region_lookup AS VARCHAR) AS region,\n",
    "        CASE WHEN a.petnr_reprsntd_ind = 'NULL' THEN NULL\n",
    "             ELSE CAST (a.petnr_reprsntd_ind AS INT)\n",
    "        END AS petnr_reprsntd_ind,\n",
    "        CASE WHEN a.respndnt_reprsntd_ind = 'NULL' THEN NULL\n",
    "             ELSE CAST (a.respndnt_reprsntd_ind AS INT)\n",
    "        END AS respndnt_reprsntd_ind,\n",
    "        CASE WHEN (CASE WHEN a.petnr_reprsntd_ind = 'NULL' THEN NULL ELSE CAST (a.petnr_reprsntd_ind AS INT) END) = 1 AND \n",
    "                  (CASE WHEN a.respndnt_reprsntd_ind = 'NULL' THEN NULL ELSE CAST (a.respndnt_reprsntd_ind AS INT) END) IN (0, -1) THEN 1 \n",
    "             ELSE 0 \n",
    "        END AS pet_rep,\n",
    "        CASE WHEN (CASE WHEN a.petnr_reprsntd_ind = 'NULL' THEN NULL ELSE CAST (a.petnr_reprsntd_ind AS INT) END) IN (0, -1)  AND \n",
    "                  (CASE WHEN a.respndnt_reprsntd_ind = 'NULL' THEN NULL ELSE CAST (a.respndnt_reprsntd_ind AS INT) END) = 1  THEN 1 \n",
    "             ELSE 0 \n",
    "        END AS resp_rep,\n",
    "        CASE WHEN (CASE WHEN a.petnr_reprsntd_ind = 'NULL' THEN NULL ELSE CAST (a.petnr_reprsntd_ind AS INT) END) = 1 AND \n",
    "                  (CASE WHEN a.respndnt_reprsntd_ind = 'NULL' THEN NULL ELSE CAST (a.respndnt_reprsntd_ind AS INT) END) = 1 THEN 1 \n",
    "             ELSE 0 \n",
    "        END AS both_rep,\n",
    "        CASE WHEN (CASE WHEN a.petnr_reprsntd_ind = 'NULL' THEN NULL ELSE CAST (a.petnr_reprsntd_ind AS INT) END) IN (0, -1) AND \n",
    "                  (CASE WHEN a.respndnt_reprsntd_ind = 'NULL' THEN NULL ELSE CAST (a.respndnt_reprsntd_ind AS INT) END) IN (0, -1) THEN 1 \n",
    "             ELSE 0 \n",
    "        END AS neither_rep,\n",
    "        CAST(a.PETTNR_REPRSNTD_CIND AS VARCHAR) AS pettnr_reprsntd_cind,\n",
    "        CAST(a.RESPNDNT_REPRSNTD_CIND AS VARCHAR) AS respndnt_reprsntd_cind,\n",
    "        CASE WHEN a.pet_to_nisi = 'NULL' THEN NULL\n",
    "             ELSE CAST(a.pet_to_nisi AS DOUBLE)/7.0 \n",
    "        END AS app_to_nisi_weeks\n",
    "                \n",
    "FROM data_eng_uploader_prod_family_sdp_data.divorce_test AS a\n",
    "   LEFT JOIN fcsq.div_court_dfj_region_lookup AS b\n",
    "     ON (CASE WHEN a.nisi_location_key = 'NULL' THEN NULL ELSE CAST(a.nisi_location_key AS DOUBLE) END)= b.location_key\n",
    "\n",
    "WHERE CAST(a.nisi_ind AS INT) = 1;\n",
    "\"\"\"\n",
    "pydb.start_query_execution_and_wait(create_divorce_fct_nisi_table)"
   ]
  },
  {
   "cell_type": "code",
   "execution_count": null,
   "id": "2c9acd47-a6a7-4a46-89e2-35083318cc70",
   "metadata": {
    "tags": []
   },
   "outputs": [],
   "source": [
    "test = pydb.read_sql_query(\"SELECT * from fcsq.divorce_fct_nisi LIMIT 10\")\n",
    "test"
   ]
  },
  {
   "cell_type": "code",
   "execution_count": null,
   "id": "d10bf59e-3e39-4b65-95c3-0322df1f936c",
   "metadata": {},
   "outputs": [],
   "source": [
    "#test1 = pydb.read_sql_query(\"SELECT new_case_type,stage, count(*) as count from fcsq.divorce_fct_nisi group by new_case_type,stage \")\n",
    "#test1"
   ]
  },
  {
   "cell_type": "code",
   "execution_count": null,
   "id": "28629b6c-c5fc-493e-93cd-c10ae4ec3cb7",
   "metadata": {},
   "outputs": [],
   "source": [
    "#pydb.delete_table_and_data(database=\"__temp__\", table=\"divorce_fct_nisi\")"
   ]
  },
  {
   "cell_type": "code",
   "execution_count": null,
   "id": "6cf3b538-eae7-4424-82d9-d7de2128d3a7",
   "metadata": {},
   "outputs": [],
   "source": [
    "#Creating a table holding absolute / final order information."
   ]
  },
  {
   "cell_type": "code",
   "execution_count": null,
   "id": "d555c57d-5bc3-404c-a5f8-bd29655731e0",
   "metadata": {},
   "outputs": [],
   "source": [
    "drop_divorce_fct_abs = \"DROP TABLE IF EXISTS fcsq.divorce_fct_abs\"\n",
    "pydb.start_query_execution_and_wait(drop_divorce_fct_abs)\n",
    "bucket.objects.filter(Prefix=\"fcsq_processing/Divorce/divorce_fct_abs\").delete();"
   ]
  },
  {
   "cell_type": "code",
   "execution_count": null,
   "id": "b3fecf4e-f2e4-4316-af1f-89f30a58276b",
   "metadata": {
    "tags": []
   },
   "outputs": [],
   "source": [
    "create_divorce_fct_abs_table =f\"\"\"\n",
    "CREATE TABLE IF NOT EXISTS fcsq.divorce_fct_abs\n",
    "WITH (format = 'PARQUET', external_location = 's3://alpha-family-data/fcsq_processing/Divorce/divorce_fct_abs') AS\n",
    "SELECT  'Decree Absolute' As stage,\n",
    "        CASE WHEN a.abs_year = 'NULL' THEN NULL\n",
    "             ELSE CAST(a.abs_year AS INT)\n",
    "        END AS year,\n",
    "        CASE WHEN a.da_grntd_date = 'NULL' THEN NULL \n",
    "             ELSE EXTRACT(QUARTER FROM date_parse(a.da_grntd_date, '%Y-%m-%d %H:%i:%s.%f'))\n",
    "        END AS quarter,\n",
    "        CASE WHEN a.da_grntd_date = 'NULL' THEN NULL \n",
    "             ELSE EXTRACT(MONTH FROM date_parse(a.da_grntd_date, '%Y-%m-%d %H:%i:%s.%f'))\n",
    "        END AS month,\n",
    "        CAST (a.fm_case_cid AS VARCHAR) AS fm_case_cid,\n",
    "        CAST(a.legal_case_id AS BIGINT) AS legal_case_id,\n",
    "        CAST(a.digital_paper AS VARCHAR) AS digital_paper,\n",
    "        CASE WHEN a.da_grntd_date = 'NULL' THEN NULL\n",
    "             ELSE DATE_PARSE(a.da_grntd_date, '%Y-%m-%d %H:%i:%s.%f')\n",
    "        END AS event_date,\n",
    "        CASE WHEN a.pet_to_abs ='NULL' THEN NULL\n",
    "             ELSE CAST(a.pet_to_abs AS DOUBLE) \n",
    "        END AS pet_to_abs,\n",
    "        CAST(a.proceeding_type AS VARCHAR) AS proceeding_type,\n",
    "        CAST(a.proceeding_type_code AS VARCHAR) AS proceeding_type_code,\n",
    "        CAST(a.contested AS VARCHAR) AS contested,  \n",
    "        CASE WHEN a.abs_location_key = 'NULL' THEN NULL\n",
    "             ELSE CAST(a.abs_location_key AS DOUBLE) \n",
    "        END AS location_key,\n",
    "        CASE WHEN a.first_fr_hrng_ind = 'NULL' THEN NULL \n",
    "             ELSE CAST(a.first_fr_hrng_ind AS INT)\n",
    "        END AS first_fr_hrng_ind,\n",
    "        CASE WHEN a.first_divorce_hrng_ind = 'NULL' THEN NULL \n",
    "             ELSE CAST(a.first_divorce_hrng_ind AS INT)\n",
    "        END AS first_divorce_hrng_ind,\n",
    "        CAST(a.law AS VARCHAR) AS law,\n",
    "        CAST(a.nfd_app_type AS VARCHAR) AS nfd_app_type,\n",
    "        CAST(a.new_case_type AS VARCHAR) AS new_case_type,\n",
    "        CAST(b.location_name AS VARCHAR) AS court,\n",
    "        CAST(b.dfj_lookup AS VARCHAR) AS dfj_area,\n",
    "        CAST(b.region_lookup AS VARCHAR) AS region\n",
    "        \n",
    "FROM data_eng_uploader_prod_family_sdp_data.divorce_test AS a\n",
    "  LEFT JOIN fcsq.div_court_dfj_region_lookup AS b\n",
    "    ON (CASE WHEN a.abs_location_key = 'NULL' THEN NULL ELSE CAST(a.abs_location_key AS DOUBLE) END) = b.location_key\n",
    "\n",
    "WHERE CAST (a.absolute_ind AS INT) = 1;\n",
    "\"\"\"\n",
    "pydb.start_query_execution_and_wait(create_divorce_fct_abs_table)"
   ]
  },
  {
   "cell_type": "code",
   "execution_count": null,
   "id": "754c1535-9f80-4e2f-bc5a-19ea874aa60e",
   "metadata": {},
   "outputs": [],
   "source": [
    "test = pydb.read_sql_query(\"SELECT * from fcsq.divorce_fct_abs LIMIT 10\")\n",
    "test"
   ]
  },
  {
   "cell_type": "code",
   "execution_count": null,
   "id": "ebe8a72e-5bcb-43f9-98af-75b21d936d32",
   "metadata": {},
   "outputs": [],
   "source": [
    "#pydb.delete_table_and_data(database=\"__temp__\", table=\"divorce_fct_abs\")"
   ]
  },
  {
   "cell_type": "code",
   "execution_count": null,
   "id": "74168476-d180-4e65-b259-500baa55232f",
   "metadata": {},
   "outputs": [],
   "source": [
    "#Creating a table holding stages information."
   ]
  },
  {
   "cell_type": "code",
   "execution_count": null,
   "id": "0fffa57b-b637-4352-8eb1-9ddafea90bcd",
   "metadata": {},
   "outputs": [],
   "source": [
    "create_divorce_fct_stages_table =f\"\"\"\n",
    "SELECT 'Petitions' As Type, \n",
    "       '' As Order_Type, \n",
    "        Year, \n",
    "        Quarter, \n",
    "        Proceeding_type, \n",
    "       '' As Contested,\n",
    "        Law\n",
    "        \n",
    "FROM fcsq.divorce_fct_petitions\n",
    "\n",
    "UNION ALL\n",
    "\n",
    "SELECT 'Order made' As Type, \n",
    "        Stage As Order_Type, \n",
    "        Year, \n",
    "        Quarter, \n",
    "        Proceeding_type, \n",
    "        Contested, \n",
    "        Law\n",
    "        \n",
    "FROM fcsq.divorce_fct_nisi\n",
    "\n",
    "UNION ALL\n",
    "\n",
    "SELECT 'Order made' As Type, \n",
    "        Stage As Order_Type, \n",
    "        Year, \n",
    "        Quarter, \n",
    "        Proceeding_type, \n",
    "        Contested, \n",
    "        Law\n",
    "        \n",
    "FROM fcsq.divorce_fct_abs; \n",
    "\"\"\"\n",
    "pydb.create_temp_table(create_divorce_fct_stages_table,'divorce_fct_stages')"
   ]
  },
  {
   "cell_type": "code",
   "execution_count": null,
   "id": "8fae6df7-aa40-43a3-94dc-3b0d7d0ea410",
   "metadata": {
    "tags": []
   },
   "outputs": [],
   "source": [
    "test = pydb.read_sql_query(\"SELECT * from __temp__.divorce_fct_stages LIMIT 10\")\n",
    "test"
   ]
  },
  {
   "cell_type": "code",
   "execution_count": null,
   "id": "c8dbf0be-572f-4d6e-81ed-2585fc090aa5",
   "metadata": {},
   "outputs": [],
   "source": [
    "#pydb.delete_table_and_data(database=\"__temp__\", table=\"divorce_fct_stages\")"
   ]
  },
  {
   "cell_type": "code",
   "execution_count": null,
   "id": "a4b0ca15-79c6-4763-ba7f-aec252a3b585",
   "metadata": {},
   "outputs": [],
   "source": [
    "#Creating the summary table DIVORCE_FCSQ_CSV which is used in the publication RAP process."
   ]
  },
  {
   "cell_type": "code",
   "execution_count": null,
   "id": "04d8a60d-640c-45f4-a75b-c553d1eb1922",
   "metadata": {},
   "outputs": [],
   "source": [
    "drop_divorce_fcsq_csv = \"DROP TABLE IF EXISTS fcsq.divorce_fcsq_csv\"\n",
    "pydb.start_query_execution_and_wait(drop_divorce_fcsq_csv)\n",
    "bucket.objects.filter(Prefix=\"fcsq_processing/Divorce/divorce_fcsq_csv\").delete();"
   ]
  },
  {
   "cell_type": "code",
   "execution_count": null,
   "id": "ad951718-4e61-4a24-86b1-d3c43785f5ef",
   "metadata": {
    "tags": []
   },
   "outputs": [],
   "source": [
    "create_divorce_fcsq_csv_table =f\"\"\"\n",
    "CREATE TABLE IF NOT EXISTS fcsq.divorce_fcsq_csv\n",
    "WITH (format = 'PARQUET', external_location = 's3://alpha-family-data/fcsq_processing/Divorce/divorce_fcsq_csv') AS\n",
    "SELECT  Type,\n",
    "        Order_type,\n",
    "        Year,\n",
    "        Quarter,\n",
    "        Proceeding_type,\n",
    "        Law,\n",
    "        Contested,\n",
    "        count(*) as count\n",
    "        \n",
    "FROM __temp__.divorce_fct_stages\n",
    "\n",
    "WHERE   YEAR > 2002 AND\n",
    "        NOT (Year = {next_quarter_year} AND Quarter = {next_quarter})\n",
    "    \n",
    "GROUP BY TYPE, Order_type, Year, QUARTER, Proceeding_type, Law, Contested\n",
    "\n",
    "ORDER BY YEAR, QUARTER, TYPE, ORDER_TYPE;\n",
    "\"\"\"\n",
    "pydb.start_query_execution_and_wait(create_divorce_fcsq_csv_table)"
   ]
  },
  {
   "cell_type": "code",
   "execution_count": null,
   "id": "f4b7433c-8cab-4f81-a5c7-29a9a3467e35",
   "metadata": {},
   "outputs": [],
   "source": [
    "df = pydb.read_sql_query(\"select * from fcsq.divorce_fcsq_csv;\")\n",
    "df.to_csv(path_or_buf = 's3://alpha-family-data/fcsq_processing/Divorce/sdp_process/divorce_fcsq_csv.csv',index=False)"
   ]
  },
  {
   "cell_type": "code",
   "execution_count": null,
   "id": "8629477e-8188-498f-9b0c-ef672b0567b3",
   "metadata": {},
   "outputs": [],
   "source": []
  }
 ],
 "metadata": {
  "kernelspec": {
   "display_name": "divorce_test_kernel",
   "language": "python",
   "name": "divorce_test_project"
  },
  "language_info": {
   "codemirror_mode": {
    "name": "ipython",
    "version": 3
   },
   "file_extension": ".py",
   "mimetype": "text/x-python",
   "name": "python",
   "nbconvert_exporter": "python",
   "pygments_lexer": "ipython3",
   "version": "3.9.4"
  }
 },
 "nbformat": 4,
 "nbformat_minor": 5
}
