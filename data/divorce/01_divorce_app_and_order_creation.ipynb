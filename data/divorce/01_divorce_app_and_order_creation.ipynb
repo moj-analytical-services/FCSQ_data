{
 "cells": [
  {
   "cell_type": "code",
   "execution_count": null,
   "id": "3c0fac69-b35c-42f9-91f6-80cd22582a23",
   "metadata": {},
   "outputs": [],
   "source": [
    "!pip install --user pydbtools==5.6.4"
   ]
  },
  {
   "cell_type": "code",
   "execution_count": null,
   "id": "bd6b269f-82e6-4709-aa84-467e7d464a84",
   "metadata": {},
   "outputs": [],
   "source": [
    "#Command to check the version of pydbtools\n",
    "!pip freeze | grep pydbtools"
   ]
  },
  {
   "cell_type": "code",
   "execution_count": null,
   "id": "7a37c3f0-37fa-4e19-b155-1f883abe0441",
   "metadata": {},
   "outputs": [],
   "source": [
    "import pandas as pd  # a module which provides the data structures and functions to store and manipulate tables in dataframes\n",
    "import pydbtools as pydb  # A module which allows SQL queries to be run on the Analytical Platform from Python, see https://github.com/moj-analytical-services/pydbtools\n",
    "import boto3  # allows you to directly create, update, and delete AWS resources from Python scripts\n",
    "\n",
    "# sets parameters to view dataframes for tables easier\n",
    "pd.set_option(\"display.max_columns\", 100)\n",
    "pd.set_option(\"display.width\", 900)\n",
    "pd.set_option(\"display.max_colwidth\", 200)"
   ]
  },
  {
   "cell_type": "code",
   "execution_count": null,
   "id": "74994433-0df8-426d-84ed-a72e84aaa239",
   "metadata": {},
   "outputs": [],
   "source": [
    "#Variables to be used in this notebook\n",
    "\n",
    "#this is the athena database we will be storing our tables in\n",
    "fcsq_database = \"fcsq\"\n",
    "\n",
    "#this is the s3 bucket we will be saving data to\n",
    "s3 = boto3.resource(\"s3\")\n",
    "bucket = s3.Bucket(\"alpha-family-data\")\n",
    "\n",
    "#Last full year to be published - including this publication\n",
    "annual_year = 2023\n",
    "\n",
    "#Current publication variables\n",
    "current_year = 2024\n",
    "current_quarter = 2\n",
    "\n",
    "#Next publication variables\n",
    "next_quarter_year = 2024 \n",
    "next_quarter = 3"
   ]
  },
  {
   "cell_type": "code",
   "execution_count": null,
   "id": "d83dd891-e777-4406-8679-04057b9af417",
   "metadata": {},
   "outputs": [],
   "source": [
    "#imports SDP extract data from S3 bucket into a temporary table\n",
    "sdp_divorce_data_table = pd.read_csv(\"s3://alpha-family-data/fcsq_processing/Divorce/sdp_process/sdp_divorce_data_raw_2024q3.csv\", low_memory=False)\n",
    "#Converting selected columns to datetime       \n",
    "sdp_divorce_data_table['case_recpt_date'] = pd.to_datetime(sdp_divorce_data_table['case_recpt_date'],  errors = 'coerce', format = '%Y-%m-%d %H:%M:%S')\n",
    "sdp_divorce_data_table['dn_proncd_date'] = pd.to_datetime(sdp_divorce_data_table['dn_proncd_date'],  errors = 'coerce', format = '%Y-%m-%d %H:%M:%S')\n",
    "sdp_divorce_data_table['da_grntd_date'] = pd.to_datetime(sdp_divorce_data_table['da_grntd_date'],  errors = 'coerce', format = '%Y-%m-%d %H:%M:%S')\n",
    "\n",
    "pydb.dataframe_to_temp_table(sdp_divorce_data_table, \"sdp_divorce_data\");\n"
   ]
  },
  {
   "cell_type": "code",
   "execution_count": null,
   "id": "d3a3df9e-6902-4ab1-bb8a-8f4167456558",
   "metadata": {},
   "outputs": [],
   "source": [
    "#test = pydb.read_sql_query(\"SELECT * from __temp__.sdp_divorce_data limit 10\")\n",
    "#test"
   ]
  },
  {
   "cell_type": "code",
   "execution_count": null,
   "id": "7d5a4230-b1fa-48ec-95ef-5e5fbb7e52b5",
   "metadata": {},
   "outputs": [],
   "source": [
    "#record count check in extracted data\n",
    "#sdp_divorce_data_count = pydb.read_sql_query(\"SELECT count(*) as count from __temp__.sdp_divorce_data\")\n",
    "#sdp_divorce_data_count"
   ]
  },
  {
   "cell_type": "code",
   "execution_count": null,
   "id": "c96eee81-f7bf-4cb9-b97c-de609a471cbd",
   "metadata": {},
   "outputs": [],
   "source": [
    "#pydb.delete_table_and_data(database=\"__temp__\", table=\"sdp_divorce_data\")"
   ]
  },
  {
   "cell_type": "code",
   "execution_count": null,
   "id": "7190916b-12be-4563-a34d-7a9a67f7cb99",
   "metadata": {},
   "outputs": [],
   "source": [
    "#Imports location information from S3 bucket into a temporary table\n",
    "create_div_court_dfj_region_lookup_table = pd.read_csv(\"s3://alpha-family-data/fcsq_processing/lookups/div_court_dfj_region_lookup.csv\", low_memory=False)\n",
    "\n",
    "pydb.dataframe_to_temp_table(create_div_court_dfj_region_lookup_table, \"div_court_dfj_region_lookup\");\n"
   ]
  },
  {
   "cell_type": "code",
   "execution_count": null,
   "id": "626ccb44-86fe-4033-9e28-aecb9535e49e",
   "metadata": {},
   "outputs": [],
   "source": [
    "#test = pydb.read_sql_query(\"SELECT * from __temp__.div_court_dfj_region_lookup LIMIT 10\")\n",
    "#test"
   ]
  },
  {
   "cell_type": "code",
   "execution_count": null,
   "id": "eb29a02f-5171-4337-87e9-9a1a3f279562",
   "metadata": {},
   "outputs": [],
   "source": [
    "#pydb.delete_table_and_data(database=\"__temp__\", table=\"#pydb.delete_table_and_data(database=\"__temp__\", table=\"sdp_divorce_data\")\")"
   ]
  },
  {
   "cell_type": "code",
   "execution_count": null,
   "id": "136de4e9-3b2b-40d2-9e29-f55894615e00",
   "metadata": {},
   "outputs": [],
   "source": [
    "#Creating a table holding petition / application information."
   ]
  },
  {
   "cell_type": "code",
   "execution_count": null,
   "id": "dd24e88d-049d-4747-952b-1998fe8e0752",
   "metadata": {},
   "outputs": [],
   "source": [
    "drop_divorce_fct_petitions = \"DROP TABLE IF EXISTS fcsq.divorce_fct_petitions\"\n",
    "pydb.start_query_execution_and_wait(drop_divorce_fct_petitions)\n",
    "bucket.objects.filter(Prefix=\"fcsq_processing/Divorce/divorce_fct_petitions\").delete();\n"
   ]
  },
  {
   "cell_type": "code",
   "execution_count": null,
   "id": "70d8cb81-1af9-4ae8-a87a-9127d041fda8",
   "metadata": {},
   "outputs": [],
   "source": [
    "create_divorce_fct_petitions_table =f\"\"\"\n",
    "CREATE TABLE IF NOT EXISTS fcsq.divorce_fct_petitions\n",
    "WITH (format = 'PARQUET', external_location = 's3://alpha-family-data/fcsq_processing/Divorce/divorce_fct_petitions') AS\n",
    "SELECT  'Petition' As stage,\n",
    "        CAST(a.pet_year AS INT) AS year,\n",
    "        EXTRACT(QUARTER FROM a.case_recpt_date) AS quarter,\n",
    "        EXTRACT(MONTH FROM a.case_recpt_date) AS month,\n",
    "        a.fm_case_cid,\n",
    "        a.legal_case_id,\n",
    "        a.digital_paper,\n",
    "        a.respndnt_reprsntd_ind,\n",
    "        a.petnr_reprsntd_ind,\n",
    "        a.case_recpt_date AS event_date,\n",
    "        a.case_issd_date,\n",
    "        a.case_type_descriptor AS reason,\n",
    "        a.proceeding_type,\n",
    "        a.proceeding_type_code,\n",
    "        CASE    WHEN a.pettnr_gender_type_name = 'female' THEN 'Female'\n",
    "                WHEN a.pettnr_gender_type_name = 'male' THEN 'Male'\n",
    "                WHEN a.pettnr_gender_type_name = 'other' THEN 'Other/unknown'\n",
    "                WHEN a.pettnr_gender_type_name = 'notGiven' THEN 'Other/unknown'\n",
    "                ELSE 'check' \n",
    "        END AS Petitioners_gender,\n",
    "        CASE   WHEN a.respndnt_gender_type_name = 'female' THEN 'Female'\n",
    "               WHEN a.respndnt_gender_type_name = 'male' THEN 'Male'\n",
    "               WHEN a.respndnt_gender_type_name = 'other' THEN 'Other/unknown'\n",
    "               WHEN a.respndnt_gender_type_name = 'notGiven' THEN 'Other/unknown'\n",
    "               ELSE 'check' \n",
    "        END AS respondents_gender,   \n",
    "        a.pet_location_key as location_key,\n",
    "        a.first_fr_hrng_ind,\n",
    "        a.first_divorce_hrng_ind,\n",
    "        a.law,\n",
    "        a.nfd_app_type,\n",
    "        a.new_case_type,\n",
    "        b.location_name as court,\n",
    "        b.dfj_lookup as dfj_area,\n",
    "        b.region_lookup as region\n",
    "        \n",
    "FROM __temp__.sdp_divorce_data AS a\n",
    "  LEFT JOIN __temp__.div_court_dfj_region_lookup AS b\n",
    "    ON a.pet_location_key = b.location_key \n",
    "\n",
    "WHERE a.pet_ind = 1;\n",
    "\"\"\"\n",
    "pydb.start_query_execution_and_wait(create_divorce_fct_petitions_table)"
   ]
  },
  {
   "cell_type": "code",
   "execution_count": null,
   "id": "71abbd7c-c959-4948-85e0-2c0dee92be5b",
   "metadata": {},
   "outputs": [],
   "source": [
    "#test = pydb.read_sql_query(\"SELECT * from fcsq.divorce_fct_petitions LIMIT 10\")\n",
    "#test"
   ]
  },
  {
   "cell_type": "code",
   "execution_count": null,
   "id": "2ced734d-b638-4ddd-a143-345ef114026d",
   "metadata": {},
   "outputs": [],
   "source": [
    "#pydb.delete_table_and_data(database=\"__temp__\", table=\"divorce_fct_petitions\")"
   ]
  },
  {
   "cell_type": "code",
   "execution_count": null,
   "id": "b9efd600-e997-451a-afb3-95b80a92777c",
   "metadata": {},
   "outputs": [],
   "source": [
    "#Creating a table holding nisi / conditional order information."
   ]
  },
  {
   "cell_type": "code",
   "execution_count": null,
   "id": "5d803b46-2128-4462-83db-dbe291313273",
   "metadata": {},
   "outputs": [],
   "source": [
    "drop_divorce_fct_nisi = \"DROP TABLE IF EXISTS fcsq.divorce_fct_nisi\"\n",
    "pydb.start_query_execution_and_wait(drop_divorce_fct_nisi)\n",
    "bucket.objects.filter(Prefix=\"fcsq_processing/Divorce/divorce_fct_nisi\").delete();"
   ]
  },
  {
   "cell_type": "code",
   "execution_count": null,
   "id": "34f6cc8a-0750-4829-9c8e-c0257b61d217",
   "metadata": {},
   "outputs": [],
   "source": [
    "create_divorce_fct_nisi_table =f\"\"\"\n",
    "CREATE TABLE IF NOT EXISTS fcsq.divorce_fct_nisi\n",
    "WITH (format = 'PARQUET', external_location = 's3://alpha-family-data/fcsq_processing/Divorce/divorce_fct_nisi') AS\n",
    "SELECT  CASE    WHEN a.proceeding_type_code IN ('D','N') THEN 'Decree Nisi'\n",
    "                WHEN a.proceeding_type_code = 'J' THEN 'Judicial Separations Granted'\n",
    "        END As stage,\n",
    "        CAST(a.nisi_year AS INT) AS year,\n",
    "        EXTRACT(QUARTER FROM a.dn_proncd_date) AS quarter,\n",
    "        EXTRACT(MONTH FROM a.dn_proncd_date) AS month,\n",
    "        a.fm_case_cid,\n",
    "        a.legal_case_id,\n",
    "        a.digital_paper,\n",
    "        a.dn_proncd_date AS event_date,\n",
    "        a.pet_to_nisi,\n",
    "        a.proceeding_type,\n",
    "        a.proceeding_type_code,\n",
    "        a.contested,   \n",
    "        a.nisi_location_key as location_key,\n",
    "        a.first_fr_hrng_ind,\n",
    "        a.first_divorce_hrng_ind,\n",
    "        a.law,\n",
    "        a.nfd_app_type,\n",
    "        a.new_case_type,\n",
    "        b.location_name as court,\n",
    "        b.dfj_lookup as dfj_area,\n",
    "        b.region_lookup as region,\n",
    "        CASE WHEN a.petnr_reprsntd_ind = 1 AND a.respndnt_reprsntd_ind IN (0, -1) THEN 1 \n",
    "             ELSE 0\n",
    "        END AS pet_rep,\n",
    "        CASE WHEN a.petnr_reprsntd_ind IN (0, -1) AND a.respndnt_reprsntd_ind = 1 THEN 1 \n",
    "             ELSE 0\n",
    "        END AS resp_rep,   \n",
    "        CASE WHEN a.petnr_reprsntd_ind = 1 AND a.respndnt_reprsntd_ind = 1 THEN 1 \n",
    "             ELSE 0\n",
    "        END AS both_rep,\n",
    "        CASE WHEN a.petnr_reprsntd_ind IN (0, -1) AND a.respndnt_reprsntd_ind IN (0, -1) THEN 1 \n",
    "             ELSE 0\n",
    "        END AS neither_rep,\n",
    "        a.pet_to_nisi/7.0 AS app_to_nisi_weeks\n",
    "                \n",
    "FROM __temp__.sdp_divorce_data as a\n",
    " LEFT JOIN __temp__.div_court_dfj_region_lookup AS b\n",
    "    ON a.nisi_location_key = b.location_key\n",
    "\n",
    "WHERE a.nisi_ind = 1;\n",
    "\"\"\"\n",
    "pydb.start_query_execution_and_wait(create_divorce_fct_nisi_table)"
   ]
  },
  {
   "cell_type": "code",
   "execution_count": null,
   "id": "2c9acd47-a6a7-4a46-89e2-35083318cc70",
   "metadata": {},
   "outputs": [],
   "source": [
    "#test = pydb.read_sql_query(\"SELECT * from fcsq.divorce_fct_nisi LIMIT 10\")\n",
    "#test"
   ]
  },
  {
   "cell_type": "code",
   "execution_count": null,
   "id": "d10bf59e-3e39-4b65-95c3-0322df1f936c",
   "metadata": {},
   "outputs": [],
   "source": [
    "#test1 = pydb.read_sql_query(\"SELECT new_case_type,stage, count(*) as count from fcsq.divorce_fct_nisi group by new_case_type,stage \")\n",
    "#test1"
   ]
  },
  {
   "cell_type": "code",
   "execution_count": null,
   "id": "28629b6c-c5fc-493e-93cd-c10ae4ec3cb7",
   "metadata": {},
   "outputs": [],
   "source": [
    "#pydb.delete_table_and_data(database=\"__temp__\", table=\"divorce_fct_nisi\")"
   ]
  },
  {
   "cell_type": "code",
   "execution_count": null,
   "id": "6cf3b538-eae7-4424-82d9-d7de2128d3a7",
   "metadata": {},
   "outputs": [],
   "source": [
    "#Creating a table holding absolute / final order information."
   ]
  },
  {
   "cell_type": "code",
   "execution_count": null,
   "id": "d555c57d-5bc3-404c-a5f8-bd29655731e0",
   "metadata": {},
   "outputs": [],
   "source": [
    "drop_divorce_fct_abs = \"DROP TABLE IF EXISTS fcsq.divorce_fct_abs\"\n",
    "pydb.start_query_execution_and_wait(drop_divorce_fct_abs)\n",
    "bucket.objects.filter(Prefix=\"fcsq_processing/Divorce/divorce_fct_abs\").delete();"
   ]
  },
  {
   "cell_type": "code",
   "execution_count": null,
   "id": "b3fecf4e-f2e4-4316-af1f-89f30a58276b",
   "metadata": {},
   "outputs": [],
   "source": [
    "create_divorce_fct_abs_table =f\"\"\"\n",
    "CREATE TABLE IF NOT EXISTS fcsq.divorce_fct_abs\n",
    "WITH (format = 'PARQUET', external_location = 's3://alpha-family-data/fcsq_processing/Divorce/divorce_fct_abs') AS\n",
    "SELECT  'Decree Absolute' As stage,\n",
    "        CAST(a.abs_year AS INT) AS year,\n",
    "        EXTRACT(QUARTER FROM a.da_grntd_date) AS quarter,\n",
    "        EXTRACT(MONTH FROM a.da_grntd_date) AS month,\n",
    "        a.fm_case_cid,\n",
    "        a.legal_case_id,\n",
    "        a.digital_paper,\n",
    "        a.da_grntd_date AS event_date,\n",
    "        a.pet_to_abs,\n",
    "        a.proceeding_type,\n",
    "        a.proceeding_type_code,\n",
    "        a.contested,   \n",
    "        a.abs_location_key as location_key,\n",
    "        a.first_fr_hrng_ind,\n",
    "        a.first_divorce_hrng_ind,\n",
    "        a.law,\n",
    "        a.nfd_app_type,\n",
    "        a.new_case_type,\n",
    "        b.location_name as court,\n",
    "        b.dfj_lookup as dfj_area,\n",
    "        b.region_lookup as region\n",
    "        \n",
    "FROM __temp__.sdp_divorce_data as a\n",
    "LEFT JOIN __temp__.div_court_dfj_region_lookup AS b\n",
    "    ON a.abs_location_key = b.location_key\n",
    "\n",
    "WHERE a.absolute_ind = 1;\n",
    "\"\"\"\n",
    "pydb.start_query_execution_and_wait(create_divorce_fct_abs_table)"
   ]
  },
  {
   "cell_type": "code",
   "execution_count": null,
   "id": "754c1535-9f80-4e2f-bc5a-19ea874aa60e",
   "metadata": {},
   "outputs": [],
   "source": [
    "#test = pydb.read_sql_query(\"SELECT * from fcsq.divorce_fct_abs LIMIT 10\")\n",
    "#test"
   ]
  },
  {
   "cell_type": "code",
   "execution_count": null,
   "id": "ebe8a72e-5bcb-43f9-98af-75b21d936d32",
   "metadata": {},
   "outputs": [],
   "source": [
    "#pydb.delete_table_and_data(database=\"__temp__\", table=\"divorce_fct_abs\")"
   ]
  }
 ],
 "metadata": {
  "kernelspec": {
   "display_name": "My project (Python3)",
   "language": "python",
   "name": "venv_fcsqproject"
  },
  "language_info": {
   "codemirror_mode": {
    "name": "ipython",
    "version": 3
   },
   "file_extension": ".py",
   "mimetype": "text/x-python",
   "name": "python",
   "nbconvert_exporter": "python",
   "pygments_lexer": "ipython3",
   "version": "3.9.4"
  }
 },
 "nbformat": 4,
 "nbformat_minor": 5
}
