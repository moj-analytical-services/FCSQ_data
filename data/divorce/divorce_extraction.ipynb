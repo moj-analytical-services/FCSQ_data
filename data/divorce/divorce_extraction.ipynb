{
 "cells": [
  {
   "cell_type": "code",
   "execution_count": null,
   "id": "9561dc08-42cd-425e-9149-7ec4171eb396",
   "metadata": {},
   "outputs": [],
   "source": [
    "import pandas as pd  # a module which provides the data structures and functions to store and manipulate tables in dataframes\n",
    "import pydbtools as pydb  # A module which allows SQL queries to be run on the Analytical Platform from Python, see https://github.com/moj-analytical-services/pydbtools\n",
    "import boto3  # allows you to directly create, update, and delete AWS resources from Python scripts\n",
    "\n",
    "# sets parameters to view dataframes for tables easier\n",
    "pd.set_option(\"display.max_columns\", 100)\n",
    "pd.set_option(\"display.width\", 900)\n",
    "pd.set_option(\"display.max_colwidth\", 200)"
   ]
  },
  {
   "cell_type": "code",
   "execution_count": null,
   "id": "81c05ccb-8d62-46e8-9541-d68037da0bf2",
   "metadata": {},
   "outputs": [],
   "source": [
    "#Variables to be used in this notebook\n",
    "\n",
    "#this is the athena database we will be storing our tables in\n",
    "fcsq_database = \"fcsq\"\n",
    "\n",
    "#this is the s3 bucket we will be saving data to\n",
    "s3 = boto3.resource(\"s3\")\n",
    "bucket = s3.Bucket(\"alpha-family-data\")\n",
    "\n",
    "#Last full year to be published - including this publication\n",
    "annual_year = 2023\n",
    "\n",
    "#Current publication variables\n",
    "current_year = 2024\n",
    "current_quarter = 2\n",
    "\n",
    "#Next publication variables\n",
    "next_quarter_year = 2024 \n",
    "next_quarter = 3"
   ]
  },
  {
   "cell_type": "code",
   "execution_count": null,
   "id": "85cad01f-ae70-4cc4-89b6-685dd407285a",
   "metadata": {},
   "outputs": [],
   "source": [
    "#imports SDP extract data from S3 bucket into a temporary table\n",
    "sdp_divorce_data_table = pd.read_csv(\"s3://alpha-family-data/fcsq_processing/Divorce/sdp_process/sdp_divorce_data_raw_2024q2.csv\", low_memory=False)\n",
    "\n",
    "pydb.dataframe_to_temp_table(sdp_divorce_data_table, \"sdp_divorce_data\");"
   ]
  },
  {
   "cell_type": "code",
   "execution_count": null,
   "id": "0ff780a0-c250-49f2-a9d0-b26709988590",
   "metadata": {},
   "outputs": [],
   "source": [
    "#sdp_divorce_data_count = pydb.read_sql_query(\"SELECT count(*) as count from __temp__.sdp_divorce_data\")\n",
    "#sdp_divorce_data_count"
   ]
  },
  {
   "cell_type": "code",
   "execution_count": null,
   "id": "3acb6b0c-3be0-4511-99b4-08339c3043ec",
   "metadata": {},
   "outputs": [],
   "source": [
    "#test = pydb.read_sql_query(\"SELECT abs_year, count(*) as count from __temp__.sdp_divorce_data group by abs_year order by abs_year\")\n",
    "#test"
   ]
  }
 ],
 "metadata": {
  "kernelspec": {
   "display_name": "FCSQ_kernel",
   "language": "python",
   "name": "venv_projectnamehere"
  },
  "language_info": {
   "codemirror_mode": {
    "name": "ipython",
    "version": 3
   },
   "file_extension": ".py",
   "mimetype": "text/x-python",
   "name": "python",
   "nbconvert_exporter": "python",
   "pygments_lexer": "ipython3",
   "version": "3.9.4"
  }
 },
 "nbformat": 4,
 "nbformat_minor": 5
}
