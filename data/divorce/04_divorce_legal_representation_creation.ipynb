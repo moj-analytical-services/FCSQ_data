{
 "cells": [
  {
   "cell_type": "code",
   "execution_count": null,
   "id": "0bd84af5-6fd1-45e7-b44d-1899de5d500f",
   "metadata": {},
   "outputs": [],
   "source": []
  },
  {
   "cell_type": "code",
   "execution_count": null,
   "id": "25bec7fc-7856-49cd-8de5-7ffec45d33ee",
   "metadata": {},
   "outputs": [],
   "source": [
    "import pandas as pd  # a module which provides the data structures and functions to store and manipulate tables in dataframes\n",
    "import pydbtools as pydb  # A module which allows SQL queries to be run on the Analytical Platform from Python, see https://github.com/moj-analytical-services/pydbtools\n",
    "import boto3  # allows you to directly create, update, and delete AWS resources from Python scripts\n",
    "\n",
    "# sets parameters to view dataframes for tables easier\n",
    "pd.set_option(\"display.max_columns\", 100)\n",
    "pd.set_option(\"display.width\", 900)\n",
    "pd.set_option(\"display.max_colwidth\", 200)"
   ]
  },
  {
   "cell_type": "code",
   "execution_count": null,
   "id": "37ef154f-927b-46e8-94ed-94ed5ae01a9d",
   "metadata": {},
   "outputs": [],
   "source": [
    "#Variables to be used in this notebook\n",
    "\n",
    "#this is the athena database we will be storing our tables in\n",
    "fcsq_database = \"fcsq\"\n",
    "\n",
    "#this is the s3 bucket we will be saving data to\n",
    "s3 = boto3.resource(\"s3\")\n",
    "bucket = s3.Bucket(\"alpha-family-data\")\n",
    "\n",
    "#Last full year to be published - including this publication\n",
    "annual_year = 2023\n",
    "\n",
    "#Current publication variables\n",
    "current_year = 2024\n",
    "current_quarter = 2\n",
    "\n",
    "#Next publication variables\n",
    "next_quarter_year = 2024 \n",
    "next_quarter = 3"
   ]
  },
  {
   "cell_type": "code",
   "execution_count": null,
   "id": "8b760f0c-a8b6-45e9-81a0-2d11f15bf591",
   "metadata": {},
   "outputs": [],
   "source": [
    "create_nisi_rep_timeliness_table =f\"\"\"\n",
    "SELECT\n",
    "  FM_CASE_CID,\n",
    "  legal_case_id,\n",
    "  Year,\n",
    "  Quarter,\n",
    "  region,\n",
    "  pet_rep,\n",
    "  resp_rep,   \n",
    "  both_rep,\n",
    "  neither_rep,\n",
    "  app_to_nisi_weeks\n",
    "\n",
    "FROM fcsq.divorce_fct_nisi\n",
    "\n",
    "WHERE Proceeding_type_code in ('D','N') AND Law = 'Old';\n",
    "\"\"\"\n",
    "pydb.create_temp_table(create_nisi_rep_timeliness_table,'nisi_rep_timeliness')"
   ]
  },
  {
   "cell_type": "code",
   "execution_count": null,
   "id": "005e3aa2-a6eb-4a19-bf64-6ec236eea159",
   "metadata": {},
   "outputs": [],
   "source": [
    "#test = pydb.read_sql_query(\"SELECT * from __temp__.nisi_rep_timeliness LIMIT 10\")\n",
    "#test"
   ]
  },
  {
   "cell_type": "code",
   "execution_count": null,
   "id": "49087151-7ecb-4355-85cb-2aa8780fd701",
   "metadata": {},
   "outputs": [],
   "source": [
    "#pydb.delete_table_and_data(database=\"__temp__\", table=\"nisi_rep_timeliness\")"
   ]
  },
  {
   "cell_type": "code",
   "execution_count": null,
   "id": "20f7b0a6-638f-4d6b-bddd-1f00d3068f7d",
   "metadata": {},
   "outputs": [],
   "source": [
    "create_nisi_repgrp_timeliness_table =f\"\"\"\n",
    "SELECT\n",
    "  FM_CASE_CID,\n",
    "  legal_case_id,\n",
    "  Year,\n",
    "  Quarter,\n",
    "  Region,\n",
    "  CASE WHEN both_rep = 1 THEN '1 Both'\n",
    "       WHEN pet_rep = 1 THEN '2 Petitioner Only'\n",
    "       WHEN resp_rep = 1 THEN '3 Respondent Only'\n",
    "       WHEN neither_rep = 1 THEN '4 Neither'\n",
    "   END AS Representation,\n",
    "   app_to_nisi_weeks  \n",
    "    \n",
    "FROM __temp__.nisi_rep_timeliness\n",
    "\n",
    "WHERE Year > 2010 AND \n",
    "      NOT (Year = {next_quarter_year} AND Quarter = {next_quarter});\n",
    "\"\"\"\n",
    "pydb.create_temp_table(create_nisi_repgrp_timeliness_table,'nisi_repgrp_timeliness')"
   ]
  },
  {
   "cell_type": "code",
   "execution_count": null,
   "id": "92c0f0aa-9daf-4061-8fcb-d6da33ae9e93",
   "metadata": {},
   "outputs": [],
   "source": [
    "#test = pydb.read_sql_query(\"SELECT * from __temp__.nisi_repgrp_timeliness LIMIT 10\")\n",
    "#test"
   ]
  },
  {
   "cell_type": "code",
   "execution_count": null,
   "id": "50ee9d31-0836-4030-bd90-89ed64f28482",
   "metadata": {},
   "outputs": [],
   "source": [
    "#pydb.delete_table_and_data(database=\"__temp__\", table=\"nisi_repgrp_timeliness\")"
   ]
  },
  {
   "cell_type": "code",
   "execution_count": null,
   "id": "3a9b178b-48e8-4d3a-9fb7-1c8ee7aa219b",
   "metadata": {},
   "outputs": [],
   "source": [
    "create_nisi_rep_timeliness_region_table =f\"\"\"\n",
    "SELECT\n",
    "  Case_Type,\n",
    "  Quarter,\n",
    "  region, \n",
    "  representation,\n",
    "  COUNT (*) AS number_of_disposals,    \n",
    "  ROUND(AVG(CASE WHEN app_to_nisi_weeks >= 0 THEN app_to_nisi_weeks END),1) AS mean_duration,\n",
    "  ROUND((CASE WHEN COUNT(*) % 2 = 0\n",
    "              THEN (MAX(CASE WHEN data_half = 1 THEN app_to_nisi_weeks END) + MIN(CASE WHEN data_half = 2 THEN app_to_nisi_weeks END)) /2.0 \n",
    "              ELSE MAX(CASE WHEN data_half = 1 THEN app_to_nisi_weeks END)\n",
    "         END), 1) AS median_duration    \n",
    "    \n",
    "FROM (\n",
    "\n",
    "SELECT\n",
    "  'Divorce (inc. Financial Remedy)' as Case_type,\n",
    "   CONCAT(CAST(Year AS VARCHAR), '-Q', CAST(Quarter AS VARCHAR)) AS Quarter,    \n",
    "   Region,\n",
    "   Representation,\n",
    "   app_to_nisi_weeks,\n",
    "   NTILE(2) OVER (PARTITION BY CONCAT(CAST(Year AS VARCHAR), '-Q', CAST(Quarter AS VARCHAR)), region, representation \n",
    "                   ORDER BY app_to_nisi_weeks) AS data_half\n",
    "\n",
    "FROM __temp__.nisi_repgrp_timeliness)\n",
    "    \n",
    "GROUP BY Case_Type, Quarter, Region, Representation;\n",
    "\"\"\"\n",
    "pydb.create_temp_table(create_nisi_rep_timeliness_region_table,'nisi_rep_timeliness_region')"
   ]
  },
  {
   "cell_type": "code",
   "execution_count": null,
   "id": "14d0cc1d-b3f9-445b-8199-3c19febce378",
   "metadata": {},
   "outputs": [],
   "source": [
    "#test = pydb.read_sql_query(\"SELECT * from __temp__.nisi_rep_timeliness_region LIMIT 10\")\n",
    "#test"
   ]
  },
  {
   "cell_type": "code",
   "execution_count": null,
   "id": "b55795e0-c9d9-4fa6-91a5-6f185d9cb0f6",
   "metadata": {},
   "outputs": [],
   "source": [
    "#pydb.delete_table_and_data(database=\"__temp__\", table=\"nisi_rep_timeliness_region\")"
   ]
  },
  {
   "cell_type": "code",
   "execution_count": null,
   "id": "bb66a6d1-f58b-4f84-a3a5-d8636e41de89",
   "metadata": {},
   "outputs": [],
   "source": [
    "create_nisi_rep_timeliness_region_ew_table =f\"\"\"\n",
    "SELECT\n",
    "  Case_Type,\n",
    "  Quarter,\n",
    "  region, \n",
    "  representation,\n",
    "  COUNT (*) AS number_of_disposals,    \n",
    "  ROUND(AVG(CASE WHEN app_to_nisi_weeks >= 0 THEN app_to_nisi_weeks END),1) AS mean_duration,\n",
    "  ROUND((CASE WHEN COUNT(*) % 2 = 0\n",
    "              THEN (MAX(CASE WHEN data_half = 1 THEN app_to_nisi_weeks END) + MIN(CASE WHEN data_half = 2 THEN app_to_nisi_weeks END)) /2.0 \n",
    "              ELSE MAX(CASE WHEN data_half = 1 THEN app_to_nisi_weeks END)\n",
    "         END), 1) AS median_duration    \n",
    "    \n",
    "FROM (\n",
    "\n",
    "SELECT\n",
    "  'Divorce (inc. Financial Remedy)' as Case_type,\n",
    "   CONCAT(CAST(Year AS VARCHAR), '-Q', CAST(Quarter AS VARCHAR)) AS Quarter,    \n",
    "   'England & Wales' AS Region,\n",
    "   Representation,\n",
    "   app_to_nisi_weeks,\n",
    "   NTILE(2) OVER (PARTITION BY CONCAT(CAST(Year AS VARCHAR), '-Q', CAST(Quarter AS VARCHAR)), representation \n",
    "                   ORDER BY app_to_nisi_weeks) AS data_half\n",
    "\n",
    "FROM __temp__.nisi_repgrp_timeliness)\n",
    "    \n",
    "GROUP BY Case_Type, Quarter, Region, Representation;\n",
    "\"\"\"\n",
    "pydb.create_temp_table(create_nisi_rep_timeliness_region_ew_table,'nisi_rep_timeliness_region_ew')"
   ]
  },
  {
   "cell_type": "code",
   "execution_count": null,
   "id": "6b897041-a3e2-4956-ae03-551776093542",
   "metadata": {},
   "outputs": [],
   "source": [
    "#test = pydb.read_sql_query(\"SELECT * from __temp__.nisi_rep_timeliness_region_ew LIMIT 10\")\n",
    "#test"
   ]
  },
  {
   "cell_type": "code",
   "execution_count": null,
   "id": "ad7d30cb-9a2e-4292-a0af-f4d7f99280bd",
   "metadata": {},
   "outputs": [],
   "source": [
    "#pydb.delete_table_and_data(database=\"__temp__\", table=\"nisi_rep_timeliness_region_ew\")"
   ]
  },
  {
   "cell_type": "code",
   "execution_count": null,
   "id": "cbfd6726-f8c1-4a6c-846e-b6bbd8f5d18a",
   "metadata": {},
   "outputs": [],
   "source": [
    "create_DIV_TABLE_10_LOOKUP_ANNUAL_table =f\"\"\"\n",
    "SELECT\n",
    "  CONCAT('Old Divorce (incl. annulment and FR)|', CAST(Year AS VARCHAR),'|') as lookup,\n",
    "  SUM(both_rep) AS both_n,\n",
    "  ROUND(AVG(CASE WHEN both_rep = 1 THEN app_to_nisi_weeks end),3) AS both_mean,\n",
    "  SUM(pet_rep) AS applicant_n,\n",
    "  ROUND(AVG(CASE WHEN pet_rep = 1 THEN app_to_nisi_weeks end),3) AS applicant_mean,\n",
    "  SUM(resp_rep) AS respondent_n,\n",
    "  ROUND (AVG(CASE WHEN resp_rep = 1 THEN app_to_nisi_weeks end),3) AS respondent_mean,\n",
    "  SUM (neither_rep) AS neither_n,\n",
    "  ROUND (AVG(CASE WHEN neither_rep = 1 THEN app_to_nisi_weeks end),3) AS neither_mean,\n",
    "  '.' AS unknown_n,\n",
    "  '.' AS unknown_mean,\n",
    "  COUNT(*) AS all_n,\n",
    "  ROUND(AVG(app_to_nisi_weeks),3) AS all_mean\n",
    "    \n",
    "FROM __temp__.Nisi_rep_timeliness\n",
    "\n",
    "WHERE Year BETWEEN 2011 and {annual_year}\n",
    "\n",
    "GROUP BY Year;\n",
    "\"\"\"\n",
    "pydb.create_temp_table(create_DIV_TABLE_10_LOOKUP_ANNUAL_table,'DIV_TABLE_10_LOOKUP_ANNUAL')"
   ]
  },
  {
   "cell_type": "code",
   "execution_count": null,
   "id": "5f7f4d4e-0479-4cf5-a10b-87dc9c06715c",
   "metadata": {},
   "outputs": [],
   "source": [
    "test = pydb.read_sql_query(\"SELECT * from __temp__.DIV_TABLE_10_LOOKUP_ANNUAL LIMIT 10\")\n",
    "test"
   ]
  },
  {
   "cell_type": "code",
   "execution_count": null,
   "id": "efca6a4e-aa37-4a44-bf4b-7c3daa04415a",
   "metadata": {},
   "outputs": [],
   "source": [
    "#pydb.delete_table_and_data(database=\"__temp__\", table=\"DIV_TABLE_10_LOOKUP_ANNUAL\")"
   ]
  },
  {
   "cell_type": "code",
   "execution_count": null,
   "id": "0698316a-2016-441a-9cbc-432871abebea",
   "metadata": {},
   "outputs": [],
   "source": [
    "create_DIV_TABLE_10_LOOKUP_QTR_table =f\"\"\"\n",
    "SELECT\n",
    "  CONCAT('Old Divorce (incl. annulment and FR)|',CAST(Year AS VARCHAR),'|Q', CAST(Quarter AS VARCHAR)) as lookup,\n",
    "  SUM(both_rep) AS both_n,\n",
    "  ROUND(AVG(CASE WHEN both_rep = 1 THEN app_to_nisi_weeks end),3) AS both_mean,\n",
    "  SUM(pet_rep) AS applicant_n,\n",
    "  ROUND(AVG(CASE WHEN pet_rep = 1 THEN app_to_nisi_weeks end),3) AS applicant_mean,\n",
    "  SUM(resp_rep) AS respondent_n,\n",
    "  ROUND (AVG(CASE WHEN resp_rep = 1 THEN app_to_nisi_weeks end),3) AS respondent_mean,\n",
    "  SUM (neither_rep) AS neither_n,\n",
    "  ROUND (AVG(CASE WHEN neither_rep = 1 THEN app_to_nisi_weeks end),3) AS neither_mean,\n",
    "  '.' AS unknown_n,\n",
    "  '.' AS unknown_mean,\n",
    "  COUNT(*) AS all_n,\n",
    "  ROUND(AVG(app_to_nisi_weeks),3) AS all_mean\n",
    "    \n",
    "FROM __temp__.nisi_rep_timeliness\n",
    "\n",
    "WHERE Year BETWEEN 2011 AND {current_year} AND\n",
    "      NOT(Year = {next_quarter_year} AND Quarter = {next_quarter})\n",
    "\n",
    "GROUP BY Year, Quarter;\n",
    "\"\"\"\n",
    "pydb.create_temp_table(create_DIV_TABLE_10_LOOKUP_QTR_table,'DIV_TABLE_10_LOOKUP_QTR')"
   ]
  },
  {
   "cell_type": "code",
   "execution_count": null,
   "id": "9e57cce5-c8a9-47ab-be2c-622bbbe641ea",
   "metadata": {},
   "outputs": [],
   "source": [
    "#test = pydb.read_sql_query(\"SELECT * from __temp__.DIV_TABLE_10_LOOKUP_QTR LIMIT 10\")\n",
    "#test"
   ]
  },
  {
   "cell_type": "code",
   "execution_count": null,
   "id": "5dbb8d83-a9a3-4720-b5be-ec5cd8881785",
   "metadata": {},
   "outputs": [],
   "source": [
    "#pydb.delete_table_and_data(database=\"__temp__\", table=\"DIV_TABLE_10_LOOKUP_QTR\")"
   ]
  },
  {
   "cell_type": "code",
   "execution_count": null,
   "id": "ea09fc31-51f0-4e5c-82cf-4f6922e6acac",
   "metadata": {},
   "outputs": [],
   "source": [
    "drop_div_table_10_lookup = \"DROP TABLE IF EXISTS fcsq.div_table_10_lookup\"\n",
    "pydb.start_query_execution_and_wait(drop_div_table_10_lookup)\n",
    "bucket.objects.filter(Prefix=\"fcsq_processing/Divorce/div_table_10_lookup\").delete();"
   ]
  },
  {
   "cell_type": "code",
   "execution_count": null,
   "id": "22e22b15-f37d-4ff6-a6a9-741dc48ac841",
   "metadata": {},
   "outputs": [],
   "source": [
    "create_DIV_TABLE_10_LOOKUP_table =f\"\"\"\n",
    "CREATE TABLE IF NOT EXISTS fcsq.div_table_10_lookup\n",
    "WITH (format = 'PARQUET', external_location = 's3://alpha-family-data/fcsq_processing/Divorce/div_table_10_lookup') AS\n",
    "SELECT *\n",
    "FROM\n",
    "(SELECT * FROM __temp__.DIV_TABLE_10_LOOKUP_ANNUAL\n",
    "UNION ALL\n",
    "SELECT * FROM __temp__.DIV_TABLE_10_LOOKUP_QTR)\n",
    "ORDER BY lookup;\n",
    "\"\"\"\n",
    "pydb.start_query_execution_and_wait(create_DIV_TABLE_10_LOOKUP_table)"
   ]
  },
  {
   "cell_type": "code",
   "execution_count": null,
   "id": "786c3bf3-eb63-4eba-b7ad-c1c7c0dd019e",
   "metadata": {},
   "outputs": [],
   "source": [
    "df = pydb.read_sql_query(\"select * from fcsq.div_table_10_lookup;\")\n",
    "df.to_csv(path_or_buf = 's3://alpha-family-data/fcsq_processing/Divorce/sdp_process/div_table_10_lookup.csv',index=False)\n"
   ]
  },
  {
   "cell_type": "code",
   "execution_count": null,
   "id": "b28ddbf4-4ee5-4d4d-9c91-0add1487788b",
   "metadata": {},
   "outputs": [],
   "source": [
    "#test = pydb.read_sql_query(\"SELECT * from fcsq.DIV_TABLE_10_LOOKUP LIMIT 10\")\n",
    "#test"
   ]
  },
  {
   "cell_type": "code",
   "execution_count": null,
   "id": "fdb7a8ec-6a03-4522-bacb-32ae1f83c54c",
   "metadata": {},
   "outputs": [],
   "source": [
    "test = pydb.read_sql_query(\"SELECT count(*) as row_count from fcsq.DIV_TABLE_10_LOOKUP\")\n",
    "test"
   ]
  },
  {
   "cell_type": "code",
   "execution_count": null,
   "id": "dd8a9b6f-4427-4de1-89a7-b43db14e6ac0",
   "metadata": {},
   "outputs": [],
   "source": [
    "#pydb.delete_table_and_data(database=\"__temp__\", table=\"DIV_TABLE_10_LOOKUP\")"
   ]
  },
  {
   "cell_type": "code",
   "execution_count": null,
   "id": "9757242d-efb7-4995-976e-2a8f44d3a5a5",
   "metadata": {},
   "outputs": [],
   "source": [
    "drop_nisi_rep_timeliness = \"DROP TABLE IF EXISTS fcsq.nisi_rep_timeliness\"\n",
    "pydb.start_query_execution_and_wait(drop_nisi_rep_timeliness)\n",
    "bucket.objects.filter(Prefix=\"fcsq_processing/Divorce/nisi_rep_timeliness\").delete();\n"
   ]
  },
  {
   "cell_type": "code",
   "execution_count": null,
   "id": "873f0d24-253b-4179-b87c-0b7684b8f994",
   "metadata": {},
   "outputs": [],
   "source": [
    "create_nisi_rep_timeliness_table =f\"\"\"\n",
    "CREATE TABLE IF NOT EXISTS fcsq.nisi_rep_timeliness\n",
    "WITH (format = 'PARQUET', external_location = 's3://alpha-family-data/fcsq_processing/Divorce/nisi_rep_timeliness') AS\n",
    "SELECT * FROM __temp__.nisi_rep_timeliness_region\n",
    "UNION ALL\n",
    "SELECT * FROM __temp__.nisi_rep_timeliness_region_ew;\n",
    "\"\"\"\n",
    "pydb.start_query_execution_and_wait(create_nisi_rep_timeliness_table)"
   ]
  },
  {
   "cell_type": "code",
   "execution_count": null,
   "id": "831e0f60-65f0-4670-91d7-bffedde6d78f",
   "metadata": {},
   "outputs": [],
   "source": [
    "df = pydb.read_sql_query(\"select * from fcsq.nisi_rep_timeliness;\")\n",
    "df.to_csv(path_or_buf = 's3://alpha-family-data/fcsq_processing/Divorce/sdp_process/nisi_rep_timeliness.csv',index=False)\n"
   ]
  },
  {
   "cell_type": "code",
   "execution_count": null,
   "id": "f601072c-ea43-4225-8171-e2c23fa4c9e3",
   "metadata": {},
   "outputs": [],
   "source": [
    "#test = pydb.read_sql_query(\"SELECT * from fcsq.nisi_rep_timeliness LIMIT 10\")\n",
    "#test"
   ]
  },
  {
   "cell_type": "code",
   "execution_count": null,
   "id": "9c3b661e-3cff-4bb2-95e3-bce444c3ff0b",
   "metadata": {
    "tags": []
   },
   "outputs": [],
   "source": [
    "#pydb.delete_table_and_data(database=\"__temp__\", table=\"nisi_rep_timeliness\")"
   ]
  },
  {
   "cell_type": "code",
   "execution_count": null,
   "id": "b7072f8f-9194-45dc-8e2e-a4ea9d27f8d5",
   "metadata": {},
   "outputs": [],
   "source": [
    "#pydb.delete_database_and_data(\"__temp__\")"
   ]
  }
 ],
 "metadata": {
  "kernelspec": {
   "display_name": "My project (Python3)",
   "language": "python",
   "name": "venv_fcsqproject"
  },
  "language_info": {
   "codemirror_mode": {
    "name": "ipython",
    "version": 3
   },
   "file_extension": ".py",
   "mimetype": "text/x-python",
   "name": "python",
   "nbconvert_exporter": "python",
   "pygments_lexer": "ipython3",
   "version": "3.9.4"
  }
 },
 "nbformat": 4,
 "nbformat_minor": 5
}
