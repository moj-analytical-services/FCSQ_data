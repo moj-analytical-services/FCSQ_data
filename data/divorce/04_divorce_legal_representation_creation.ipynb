{
 "cells": [
  {
   "cell_type": "code",
   "execution_count": null,
   "id": "0bd84af5-6fd1-45e7-b44d-1899de5d500f",
   "metadata": {},
   "outputs": [],
   "source": []
  },
  {
   "cell_type": "code",
   "execution_count": null,
   "id": "25bec7fc-7856-49cd-8de5-7ffec45d33ee",
   "metadata": {},
   "outputs": [],
   "source": [
    "import pandas as pd  # a module which provides the data structures and functions to store and manipulate tables in dataframes\n",
    "import pydbtools as pydb  # A module which allows SQL queries to be run on the Analytical Platform from Python, see https://github.com/moj-analytical-services/pydbtools\n",
    "import boto3  # allows you to directly create, update, and delete AWS resources from Python scripts\n",
    "\n",
    "# sets parameters to view dataframes for tables easier\n",
    "pd.set_option(\"display.max_columns\", 100)\n",
    "pd.set_option(\"display.width\", 900)\n",
    "pd.set_option(\"display.max_colwidth\", 200)"
   ]
  },
  {
   "cell_type": "code",
   "execution_count": null,
   "id": "37ef154f-927b-46e8-94ed-94ed5ae01a9d",
   "metadata": {},
   "outputs": [],
   "source": [
    "#Variables to be used in this notebook\n",
    "\n",
    "#this is the athena database we will be storing our tables in\n",
    "fcsq_database = \"fcsq\"\n",
    "\n",
    "#this is the s3 bucket we will be saving data to\n",
    "s3 = boto3.resource(\"s3\")\n",
    "bucket = s3.Bucket(\"alpha-family-data\")\n",
    "\n",
    "#Last full year to be published - including this publication\n",
    "annual_year = 2023\n",
    "\n",
    "#Current publication variables\n",
    "current_year = 2024\n",
    "current_quarter = 2\n",
    "\n",
    "#Next publication variables\n",
    "next_quarter_year = 2024 \n",
    "next_quarter = 3"
   ]
  },
  {
   "cell_type": "code",
   "execution_count": null,
   "id": "8b760f0c-a8b6-45e9-81a0-2d11f15bf591",
   "metadata": {},
   "outputs": [],
   "source": [
    "create_nisi_rep_timeliness_table =f\"\"\"\n",
    "SELECT\n",
    "  FM_CASE_CID,\n",
    "  legal_case_id,\n",
    "  Year,\n",
    "  Quarter,\n",
    "  region,\n",
    "  pet_rep,\n",
    "  resp_rep,\n",
    "  both_rep,\n",
    "  neither_rep,\n",
    "  CASE WHEN both_rep = 1 THEN '1 Both'\n",
    "       WHEN pet_rep = 1 THEN '2 Petitioner Only'\n",
    "       WHEN resp_rep = 1 THEN '3 Respondent Only'\n",
    "       WHEN neither_rep = 1 THEN '4 Neither'\n",
    "  END AS Representation,\n",
    "  app_to_nisi_weeks\n",
    "  \n",
    "FROM fcsq.divorce_fct_nisi\n",
    "\n",
    "WHERE Proceeding_type_code in ('D','N') AND \n",
    "      Law = 'Old' AND\n",
    "      Year > 2010 AND \n",
    "      NOT (Year = {next_quarter_year} AND Quarter = {next_quarter});\n",
    "\"\"\"\n",
    "pydb.create_temp_table(create_nisi_rep_timeliness_table,'nisi_rep_timeliness')"
   ]
  },
  {
   "cell_type": "code",
   "execution_count": null,
   "id": "005e3aa2-a6eb-4a19-bf64-6ec236eea159",
   "metadata": {},
   "outputs": [],
   "source": [
    "test = pydb.read_sql_query(\"SELECT * from __temp__.nisi_rep_timeliness LIMIT 10\")\n",
    "test"
   ]
  },
  {
   "cell_type": "code",
   "execution_count": null,
   "id": "49087151-7ecb-4355-85cb-2aa8780fd701",
   "metadata": {},
   "outputs": [],
   "source": [
    "#pydb.delete_table_and_data(database=\"__temp__\", table=\"nisi_rep_timeliness\")"
   ]
  },
  {
   "cell_type": "code",
   "execution_count": null,
   "id": "3a9b178b-48e8-4d3a-9fb7-1c8ee7aa219b",
   "metadata": {},
   "outputs": [],
   "source": [
    "create_nisi_rep_timeliness_region_table =f\"\"\"\n",
    "SELECT\n",
    "  Case_Type,\n",
    "  Quarter,\n",
    "  region, \n",
    "  representation,\n",
    "  COUNT (*) AS number_of_disposals,    \n",
    "  ROUND(AVG(CASE WHEN app_to_nisi_weeks >= 0 THEN app_to_nisi_weeks END),1) AS mean_duration,\n",
    "  ROUND((CASE WHEN COUNT(*) % 2 = 0\n",
    "              THEN (MAX(CASE WHEN data_half = 1 THEN app_to_nisi_weeks END) + MIN(CASE WHEN data_half = 2 THEN app_to_nisi_weeks END)) /2.0 \n",
    "              ELSE MAX(CASE WHEN data_half = 1 THEN app_to_nisi_weeks END)\n",
    "         END), 1) AS median_duration    \n",
    "    \n",
    "FROM (\n",
    "\n",
    "SELECT\n",
    "  'Divorce (inc. Financial Remedy)' as Case_type,\n",
    "   CONCAT(CAST(Year AS VARCHAR), '-Q', CAST(Quarter AS VARCHAR)) AS Quarter,    \n",
    "   Region,\n",
    "   Representation,\n",
    "   app_to_nisi_weeks,\n",
    "   NTILE(2) OVER (PARTITION BY CONCAT(CAST(Year AS VARCHAR), '-Q', CAST(Quarter AS VARCHAR)), region, representation \n",
    "                   ORDER BY app_to_nisi_weeks) AS data_half\n",
    "\n",
    "FROM __temp__.nisi_rep_timeliness)\n",
    "    \n",
    "GROUP BY Case_Type, Quarter, Region, Representation;\n",
    "\"\"\"\n",
    "pydb.create_temp_table(create_nisi_rep_timeliness_region_table,'nisi_rep_timeliness_region')"
   ]
  },
  {
   "cell_type": "code",
   "execution_count": null,
   "id": "14d0cc1d-b3f9-445b-8199-3c19febce378",
   "metadata": {},
   "outputs": [],
   "source": [
    "test = pydb.read_sql_query(\"SELECT * from __temp__.nisi_rep_timeliness_region LIMIT 10\")\n",
    "test"
   ]
  },
  {
   "cell_type": "code",
   "execution_count": null,
   "id": "b55795e0-c9d9-4fa6-91a5-6f185d9cb0f6",
   "metadata": {},
   "outputs": [],
   "source": [
    "#pydb.delete_table_and_data(database=\"__temp__\", table=\"nisi_rep_timeliness_region\")"
   ]
  },
  {
   "cell_type": "code",
   "execution_count": null,
   "id": "bb66a6d1-f58b-4f84-a3a5-d8636e41de89",
   "metadata": {},
   "outputs": [],
   "source": [
    "create_nisi_rep_timeliness_region_ew_table =f\"\"\"\n",
    "SELECT\n",
    "  Case_Type,\n",
    "  Quarter,\n",
    "  region, \n",
    "  representation,\n",
    "  COUNT (*) AS number_of_disposals,    \n",
    "  ROUND(AVG(CASE WHEN app_to_nisi_weeks >= 0 THEN app_to_nisi_weeks END),1) AS mean_duration,\n",
    "  ROUND((CASE WHEN COUNT(*) % 2 = 0\n",
    "              THEN (MAX(CASE WHEN data_half = 1 THEN app_to_nisi_weeks END) + MIN(CASE WHEN data_half = 2 THEN app_to_nisi_weeks END)) /2.0 \n",
    "              ELSE MAX(CASE WHEN data_half = 1 THEN app_to_nisi_weeks END)\n",
    "         END), 1) AS median_duration    \n",
    "    \n",
    "FROM (\n",
    "\n",
    "SELECT\n",
    "  'Divorce (inc. Financial Remedy)' as Case_type,\n",
    "   CONCAT(CAST(Year AS VARCHAR), '-Q', CAST(Quarter AS VARCHAR)) AS Quarter,    \n",
    "   'England & Wales' AS Region,\n",
    "   Representation,\n",
    "   app_to_nisi_weeks,\n",
    "   NTILE(2) OVER (PARTITION BY CONCAT(CAST(Year AS VARCHAR), '-Q', CAST(Quarter AS VARCHAR)), representation \n",
    "                   ORDER BY app_to_nisi_weeks) AS data_half\n",
    "\n",
    "FROM __temp__.nisi_rep_timeliness)\n",
    "    \n",
    "GROUP BY Case_Type, Quarter, Region, Representation;\n",
    "\"\"\"\n",
    "pydb.create_temp_table(create_nisi_rep_timeliness_region_ew_table,'nisi_rep_timeliness_region_ew')"
   ]
  },
  {
   "cell_type": "code",
   "execution_count": null,
   "id": "6b897041-a3e2-4956-ae03-551776093542",
   "metadata": {},
   "outputs": [],
   "source": [
    "test = pydb.read_sql_query(\"SELECT * from __temp__.nisi_rep_timeliness_region_ew LIMIT 10\")\n",
    "test"
   ]
  },
  {
   "cell_type": "code",
   "execution_count": null,
   "id": "ad7d30cb-9a2e-4292-a0af-f4d7f99280bd",
   "metadata": {},
   "outputs": [],
   "source": [
    "#pydb.delete_table_and_data(database=\"__temp__\", table=\"nisi_rep_timeliness_region_ew\")"
   ]
  },
  {
   "cell_type": "code",
   "execution_count": null,
   "id": "cbfd6726-f8c1-4a6c-846e-b6bbd8f5d18a",
   "metadata": {},
   "outputs": [],
   "source": [
    "create_div_table_10_lookup_annual_table =f\"\"\"\n",
    "SELECT\n",
    "  CONCAT('Old Divorce (incl. annulment and FR)|', CAST(Year AS VARCHAR),'|') as lookup,\n",
    "  SUM(both_rep) AS both_n,\n",
    "  ROUND(AVG(CASE WHEN both_rep = 1 THEN app_to_nisi_weeks END),3) AS both_mean,\n",
    "  SUM(pet_rep) AS applicant_n,\n",
    "  ROUND(AVG(CASE WHEN pet_rep = 1 THEN app_to_nisi_weeks END),3) AS applicant_mean,\n",
    "  SUM(resp_rep) AS respondent_n,\n",
    "  ROUND (AVG(CASE WHEN resp_rep = 1 THEN app_to_nisi_weeks END),3) AS respondent_mean,\n",
    "  SUM (neither_rep) AS neither_n,\n",
    "  ROUND (AVG(CASE WHEN neither_rep = 1 THEN app_to_nisi_weeks END),3) AS neither_mean,\n",
    "  '.' AS unknown_n,\n",
    "  '.' AS unknown_mean,\n",
    "  COUNT(*) AS all_n,\n",
    "  ROUND(AVG(app_to_nisi_weeks),3) AS all_mean\n",
    "    \n",
    "FROM __temp__.nisi_rep_timeliness\n",
    "\n",
    "WHERE Year BETWEEN 2011 and {annual_year}\n",
    "\n",
    "GROUP BY Year;\n",
    "\"\"\"\n",
    "pydb.create_temp_table(create_div_table_10_lookup_annual_table,'div_table_10_lookup_annual')"
   ]
  },
  {
   "cell_type": "code",
   "execution_count": null,
   "id": "5f7f4d4e-0479-4cf5-a10b-87dc9c06715c",
   "metadata": {},
   "outputs": [],
   "source": [
    "test = pydb.read_sql_query(\"SELECT * from __temp__.div_table_10_lookup_annual LIMIT 10\")\n",
    "test"
   ]
  },
  {
   "cell_type": "code",
   "execution_count": null,
   "id": "e59909db-879a-4264-b146-78697d3665ec",
   "metadata": {},
   "outputs": [],
   "source": [
    "#pydb.delete_table_and_data(database=\"__temp__\", table=\"div_table_10_lookup_annual\")"
   ]
  },
  {
   "cell_type": "code",
   "execution_count": null,
   "id": "0698316a-2016-441a-9cbc-432871abebea",
   "metadata": {},
   "outputs": [],
   "source": [
    "create_div_table_10_lookup_qtr_table =f\"\"\"\n",
    "SELECT\n",
    "  CONCAT('Old Divorce (incl. annulment and FR)|',CAST(Year AS VARCHAR),'|Q', CAST(Quarter AS VARCHAR)) as lookup,\n",
    "  SUM(both_rep) AS both_n,\n",
    "  ROUND(AVG(CASE WHEN both_rep = 1 THEN app_to_nisi_weeks END),3) AS both_mean,\n",
    "  SUM(pet_rep) AS applicant_n,\n",
    "  ROUND(AVG(CASE WHEN pet_rep = 1 THEN app_to_nisi_weeks END),3) AS applicant_mean,\n",
    "  SUM(resp_rep) AS respondent_n,\n",
    "  ROUND (AVG(CASE WHEN resp_rep = 1 THEN app_to_nisi_weeks END),3) AS respondent_mean,\n",
    "  SUM (neither_rep) AS neither_n,\n",
    "  ROUND (AVG(CASE WHEN neither_rep = 1 THEN app_to_nisi_weeks END),3) AS neither_mean,\n",
    "  '.' AS unknown_n,\n",
    "  '.' AS unknown_mean,\n",
    "  COUNT(*) AS all_n,\n",
    "  ROUND(AVG(app_to_nisi_weeks),3) AS all_mean\n",
    "    \n",
    "FROM __temp__.nisi_rep_timeliness\n",
    "\n",
    "WHERE NOT (Year = {next_quarter_year} AND Quarter = {next_quarter})\n",
    "\n",
    "GROUP BY Year, Quarter\n",
    "\n",
    "ORDER BY Year, Quarter;\n",
    "\"\"\"\n",
    "pydb.create_temp_table(create_div_table_10_lookup_qtr_table,'div_table_10_lookup_qtr')"
   ]
  },
  {
   "cell_type": "code",
   "execution_count": null,
   "id": "9e57cce5-c8a9-47ab-be2c-622bbbe641ea",
   "metadata": {},
   "outputs": [],
   "source": [
    "test = pydb.read_sql_query(\"SELECT * from __temp__.div_table_10_lookup_qtr LIMIT 10\")\n",
    "test"
   ]
  },
  {
   "cell_type": "code",
   "execution_count": null,
   "id": "5dbb8d83-a9a3-4720-b5be-ec5cd8881785",
   "metadata": {},
   "outputs": [],
   "source": [
    "#pydb.delete_table_and_data(database=\"__temp__\", table=\"div_table_10_lookup_qtr\")"
   ]
  },
  {
   "cell_type": "code",
   "execution_count": null,
   "id": "ea09fc31-51f0-4e5c-82cf-4f6922e6acac",
   "metadata": {},
   "outputs": [],
   "source": [
    "drop_div_table_10_lookup = \"DROP TABLE IF EXISTS fcsq.div_table_10_lookup\"\n",
    "pydb.start_query_execution_and_wait(drop_div_table_10_lookup)\n",
    "bucket.objects.filter(Prefix=\"fcsq_processing/Divorce/div_table_10_lookup\").delete();"
   ]
  },
  {
   "cell_type": "code",
   "execution_count": null,
   "id": "22e22b15-f37d-4ff6-a6a9-741dc48ac841",
   "metadata": {},
   "outputs": [],
   "source": [
    "create_div_table_10_lookup_table =f\"\"\"\n",
    "CREATE TABLE IF NOT EXISTS fcsq.div_table_10_lookup\n",
    "WITH (format = 'PARQUET', external_location = 's3://alpha-family-data/fcsq_processing/Divorce/div_table_10_lookup') AS\n",
    "SELECT *\n",
    "FROM\n",
    "(SELECT * FROM __temp__.div_table_10_lookup_annual\n",
    "UNION ALL\n",
    "SELECT * FROM __temp__.div_table_10_lookup_qtr)\n",
    "ORDER BY lookup;\n",
    "\"\"\"\n",
    "pydb.start_query_execution_and_wait(create_div_table_10_lookup_table)"
   ]
  },
  {
   "cell_type": "code",
   "execution_count": null,
   "id": "786c3bf3-eb63-4eba-b7ad-c1c7c0dd019e",
   "metadata": {},
   "outputs": [],
   "source": [
    "df = pydb.read_sql_query(\"select * from fcsq.div_table_10_lookup;\")\n",
    "df.to_csv(path_or_buf = 's3://alpha-family-data/fcsq_processing/Divorce/sdp_process/div_table_10_lookup.csv',index=False)\n"
   ]
  },
  {
   "cell_type": "code",
   "execution_count": null,
   "id": "b28ddbf4-4ee5-4d4d-9c91-0add1487788b",
   "metadata": {},
   "outputs": [],
   "source": [
    "test = pydb.read_sql_query(\"SELECT * from fcsq.div_table_10_lookup LIMIT 10\")\n",
    "test"
   ]
  },
  {
   "cell_type": "code",
   "execution_count": null,
   "id": "fdb7a8ec-6a03-4522-bacb-32ae1f83c54c",
   "metadata": {},
   "outputs": [],
   "source": [
    "#test = pydb.read_sql_query(\"SELECT count(*) as row_count from fcsq.div_table_10_lookup\")\n",
    "#test"
   ]
  },
  {
   "cell_type": "code",
   "execution_count": null,
   "id": "dd8a9b6f-4427-4de1-89a7-b43db14e6ac0",
   "metadata": {},
   "outputs": [],
   "source": [
    "#pydb.delete_table_and_data(database=\"__temp__\", table=\"div_table_10_lookup\")"
   ]
  },
  {
   "cell_type": "code",
   "execution_count": null,
   "id": "9757242d-efb7-4995-976e-2a8f44d3a5a5",
   "metadata": {},
   "outputs": [],
   "source": [
    "drop_nisi_rep_timeliness = \"DROP TABLE IF EXISTS fcsq.nisi_rep_timeliness\"\n",
    "pydb.start_query_execution_and_wait(drop_nisi_rep_timeliness)\n",
    "bucket.objects.filter(Prefix=\"fcsq_processing/Divorce/nisi_rep_timeliness\").delete();\n"
   ]
  },
  {
   "cell_type": "code",
   "execution_count": null,
   "id": "873f0d24-253b-4179-b87c-0b7684b8f994",
   "metadata": {},
   "outputs": [],
   "source": [
    "create_nisi_rep_timeliness_table =f\"\"\"\n",
    "CREATE TABLE IF NOT EXISTS fcsq.nisi_rep_timeliness\n",
    "WITH (format = 'PARQUET', external_location = 's3://alpha-family-data/fcsq_processing/Divorce/nisi_rep_timeliness') AS\n",
    "SELECT * FROM __temp__.nisi_rep_timeliness_region\n",
    "UNION ALL\n",
    "SELECT * FROM __temp__.nisi_rep_timeliness_region_ew;\n",
    "\"\"\"\n",
    "pydb.start_query_execution_and_wait(create_nisi_rep_timeliness_table)"
   ]
  },
  {
   "cell_type": "code",
   "execution_count": null,
   "id": "831e0f60-65f0-4670-91d7-bffedde6d78f",
   "metadata": {},
   "outputs": [],
   "source": [
    "df = pydb.read_sql_query(\"select * from fcsq.nisi_rep_timeliness;\")\n",
    "df.to_csv(path_or_buf = 's3://alpha-family-data/fcsq_processing/Divorce/sdp_process/nisi_rep_timeliness.csv',index=False)\n"
   ]
  },
  {
   "cell_type": "code",
   "execution_count": null,
   "id": "f601072c-ea43-4225-8171-e2c23fa4c9e3",
   "metadata": {},
   "outputs": [],
   "source": [
    "#test = pydb.read_sql_query(\"SELECT * from fcsq.nisi_rep_timeliness LIMIT 10\")\n",
    "#test"
   ]
  },
  {
   "cell_type": "code",
   "execution_count": null,
   "id": "9c3b661e-3cff-4bb2-95e3-bce444c3ff0b",
   "metadata": {
    "tags": []
   },
   "outputs": [],
   "source": [
    "#pydb.delete_table_and_data(database=\"__temp__\", table=\"nisi_rep_timeliness\")"
   ]
  },
  {
   "cell_type": "code",
   "execution_count": null,
   "id": "b7072f8f-9194-45dc-8e2e-a4ea9d27f8d5",
   "metadata": {},
   "outputs": [],
   "source": [
    "#pydb.delete_database_and_data(\"__temp__\")"
   ]
  },
  {
   "cell_type": "code",
   "execution_count": null,
   "id": "b09c8b23-74d4-4134-a83d-78b289b18099",
   "metadata": {},
   "outputs": [],
   "source": [
    "create_represent_divorce_fct_table =f\"\"\"\n",
    "SELECT fm_case_cid,\n",
    "       legal_case_id,\n",
    "       year,\n",
    "       quarter,\n",
    "       region,\n",
    "       nfd_app_type,\n",
    "       pet_rep,\n",
    "       resp_rep,   \n",
    "       both_rep,\n",
    "       neither_rep,\n",
    "       CASE WHEN pet_rep = 1 THEN 'First/Sole Applicant represented - Second Applicant/Respondent not represented'\n",
    "            WHEN resp_rep = 1 THEN 'First/Sole Applicant not represented - Second Applicant/Respondent represented'\n",
    "            WHEN both_rep = 1 THEN 'First/Sole Applicant represented - Second Applicant/Respondent represented'\n",
    "            WHEN neither_rep = 1 THEN 'First/Sole Applicant not represented - Second Applicant/Respondent not represented'\n",
    "      END AS representation,\n",
    "      app_to_nisi_weeks\n",
    "      \n",
    "FROM fcsq.divorce_fct_nisi\n",
    "\n",
    "WHERE Proceeding_type_code in ('D','N') AND\n",
    "      law = 'New';\n",
    "\"\"\"\n",
    "pydb.create_temp_table(create_represent_divorce_fct_table,'represent_divorce_fct')"
   ]
  },
  {
   "cell_type": "code",
   "execution_count": null,
   "id": "1789c485-c194-4d96-9974-1c45df01684a",
   "metadata": {},
   "outputs": [],
   "source": [
    "create_represent_divorce_fct_table =f\"\"\"\n",
    "SELECT fm_case_cid,\n",
    "       legal_case_id,\n",
    "       year,\n",
    "       quarter,\n",
    "       region,\n",
    "       nfd_app_type,\n",
    "       pettnr_reprsntd_cind,\n",
    "       respndnt_reprsntd_cind,\n",
    "       CASE WHEN pettnr_reprsntd_cind = 'Yes' AND respndnt_reprsntd_cind = 'No' THEN 1 \n",
    "            ELSE 0\n",
    "       END AS pet_rep,\n",
    "       CASE WHEN pettnr_reprsntd_cind = 'No' AND respndnt_reprsntd_cind = 'Yes' THEN 1 \n",
    "           ELSE 0\n",
    "       END AS resp_rep,   \n",
    "       CASE WHEN pettnr_reprsntd_cind = 'Yes' AND respndnt_reprsntd_cind = 'Yes' THEN 1 \n",
    "            ELSE 0\n",
    "       END AS both_rep,\n",
    "       CASE WHEN pettnr_reprsntd_cind = 'No' AND respndnt_reprsntd_cind = 'No' THEN 1 \n",
    "            ELSE 0\n",
    "       END AS neither_rep,\n",
    "       CASE WHEN pettnr_reprsntd_cind = 'Yes' AND respndnt_reprsntd_cind = 'No' THEN 'First/Sole Applicant represented - Second Applicant/Respondent not represented'\n",
    "            WHEN pettnr_reprsntd_cind = 'No' AND respndnt_reprsntd_cind = 'Yes' THEN 'First/Sole Applicant not represented - Second Applicant/Respondent represented'\n",
    "            WHEN pettnr_reprsntd_cind = 'Yes' AND respndnt_reprsntd_cind = 'Yes' THEN 'First/Sole Applicant represented - Second Applicant/Respondent represented'\n",
    "            WHEN pettnr_reprsntd_cind = 'No' AND respndnt_reprsntd_cind = 'No' THEN 'First/Sole Applicant not represented - Second Applicant/Respondent not represented'\n",
    "       END AS Representation,\n",
    "       app_to_nisi_weeks    \n",
    "FROM fcsq.divorce_fct_nisi\n",
    "\n",
    "WHERE Proceeding_type_code in ('D','N') AND\n",
    "      law = 'New';\n",
    "\"\"\"\n",
    "pydb.create_temp_table(create_represent_divorce_fct_table,'represent_divorce_fct')\n"
   ]
  },
  {
   "cell_type": "code",
   "execution_count": null,
   "id": "e105a16d-52a5-40d5-bafc-a36ca69085e0",
   "metadata": {},
   "outputs": [],
   "source": [
    "test = pydb.read_sql_query(\"SELECT * from __temp__.represent_divorce_fct LIMIT 10\")\n",
    "test"
   ]
  },
  {
   "cell_type": "code",
   "execution_count": null,
   "id": "866a4863-d51e-4093-a835-1fa16dba5906",
   "metadata": {},
   "outputs": [],
   "source": [
    "#pydb.delete_table_and_data(database=\"__temp__\", table=\"represent_divorce_fct\")"
   ]
  },
  {
   "cell_type": "code",
   "execution_count": null,
   "id": "c95d6f0e-9da1-4bf9-8665-1acf25f422f3",
   "metadata": {},
   "outputs": [],
   "source": [
    "create_div_table_10b_lookup_annual_table =f\"\"\"\n",
    "\n",
    "SELECT CONCAT(NFD_APP_TYPE,'|',CAST(\"Year\" AS VARCHAR),'|') as lookup,\n",
    "       SUM (both_rep) AS Both_n,\n",
    "       ROUND (AVG(CASE WHEN both_rep = 1 THEN app_to_nisi_weeks END),3) AS Both_mean,\n",
    "       SUM (pet_rep) AS Applicant_n,\n",
    "       ROUND (AVG(CASE WHEN pet_rep = 1 THEN app_to_nisi_weeks END),3) AS Applicant_mean,\n",
    "       SUM (resp_rep) AS Respondent_n,\n",
    "       ROUND (AVG(CASE WHEN resp_rep = 1 THEN app_to_nisi_weeks END),3) AS Respondent_mean,\n",
    "       SUM (neither_rep) AS Neither_n,\n",
    "       ROUND (AVG(CASE WHEN neither_rep = 1 THEN app_to_nisi_weeks END),3) AS Neither_mean,\n",
    "       '.' AS Unknown_N,\n",
    "       '.' AS Unknown_mean,\n",
    "      COUNT(*) AS All_n,\n",
    "      ROUND(AVG(app_to_nisi_weeks),3) AS All_mean\n",
    "\n",
    "FROM __temp__.represent_divorce_fct\n",
    "\n",
    "WHERE Year BETWEEN 2011 and {annual_year}\n",
    "\n",
    "GROUP BY Year, NFD_APP_TYPE\n",
    "  \n",
    "UNION ALL\n",
    "\n",
    "SELECT CONCAT('All|',CAST(\"Year\" AS VARCHAR),'|') as lookup,\n",
    "       SUM (both_rep) AS Both_n,\n",
    "       ROUND (AVG(CASE WHEN both_rep = 1 THEN app_to_nisi_weeks END),3) AS Both_mean,\n",
    "       SUM (pet_rep) AS Applicant_n,\n",
    "       ROUND (AVG(CASE WHEN pet_rep = 1 THEN app_to_nisi_weeks END),3) AS Applicant_mean,\n",
    "       SUM (resp_rep) AS Respondent_n,\n",
    "       ROUND (AVG(CASE WHEN resp_rep = 1 THEN app_to_nisi_weeks END),3) AS Respondent_mean,\n",
    "       SUM (neither_rep) AS Neither_n,\n",
    "       ROUND (AVG(CASE WHEN neither_rep = 1 THEN app_to_nisi_weeks END),3) AS Neither_mean,\n",
    "       '.' AS Unknown_N,\n",
    "       '.' AS Unknown_mean,\n",
    "       COUNT(*) AS All_n,\n",
    "       ROUND(AVG(app_to_nisi_weeks),3) AS All_mean\n",
    "\n",
    "FROM __temp__.represent_divorce_fct\n",
    "\n",
    "WHERE  Year BETWEEN 2011 and {annual_year}\n",
    "\n",
    "GROUP BY Year;\n",
    "\"\"\"\n",
    "pydb.create_temp_table(create_div_table_10b_lookup_annual_table,'div_table_10b_lookup_annual')"
   ]
  },
  {
   "cell_type": "code",
   "execution_count": null,
   "id": "f66cbbae-3b04-4100-880c-a7796dff5260",
   "metadata": {},
   "outputs": [],
   "source": [
    "test = pydb.read_sql_query(\"SELECT * from __temp__.div_table_10b_lookup_annual LIMIT 10\")\n",
    "test"
   ]
  },
  {
   "cell_type": "code",
   "execution_count": null,
   "id": "49cd5a98-99e5-4bb7-b1a2-096cf4c3072f",
   "metadata": {},
   "outputs": [],
   "source": [
    "#pydb.delete_table_and_data(database=\"__temp__\", table=\"div_table_10b_lookup_annual\")"
   ]
  },
  {
   "cell_type": "code",
   "execution_count": null,
   "id": "088e4ed8-0f06-4e72-9fa5-ae51995a42e2",
   "metadata": {},
   "outputs": [],
   "source": [
    "create_div_table_10b_lookup_qtr_table =f\"\"\"\n",
    "\n",
    "SELECT\n",
    "    CONCAT(NFD_APP_TYPE,'|', CAST(\"Year\" AS VARCHAR),'|Q', CAST(\"Quarter\" AS VARCHAR)) as lookup,\n",
    "    SUM (both_rep) AS Both_n,\n",
    "    ROUND (AVG(CASE WHEN both_rep = 1 THEN app_to_nisi_weeks END),3) AS Both_mean,\n",
    "    SUM (pet_rep) AS Applicant_n,\n",
    "    ROUND (AVG(CASE WHEN pet_rep = 1 THEN app_to_nisi_weeks END),3) AS Applicant_mean,\n",
    "    SUM (resp_rep) AS Respondent_n,\n",
    "    ROUND (AVG(CASE WHEN resp_rep = 1 THEN app_to_nisi_weeks END),3) AS Respondent_mean,\n",
    "    SUM (neither_rep) AS Neither_n,\n",
    "    ROUND (AVG(CASE WHEN neither_rep = 1 THEN app_to_nisi_weeks END),3) AS Neither_mean,\n",
    "    '.' AS Unknown_N,\n",
    "    '.' AS Unknown_mean,\n",
    "    COUNT(*) AS All_n,\n",
    "   ROUND(AVG(app_to_nisi_weeks),3) AS All_mean\n",
    "\n",
    "FROM __temp__.represent_divorce_fct\n",
    "\n",
    "WHERE  \"Year\" > 2010 AND \n",
    "        NOT (\"Year\" = {next_quarter_year} AND Quarter = {next_quarter})\n",
    "\n",
    "GROUP BY \"Year\", \"Quarter\", NFD_APP_TYPE\n",
    "  \n",
    "UNION ALL\n",
    "\n",
    "SELECT CONCAT('All|', CAST(\"Year\" AS VARCHAR),'|Q', CAST(\"Quarter\" AS VARCHAR)) as lookup,\n",
    "       SUM (both_rep) AS Both_n,\n",
    "       ROUND (AVG(CASE WHEN both_rep = 1 THEN app_to_nisi_weeks END),3) AS Both_mean,\n",
    "       SUM (pet_rep) AS Applicant_n,\n",
    "       ROUND (AVG(CASE WHEN pet_rep = 1 THEN app_to_nisi_weeks END),3) AS Applicant_mean,\n",
    "       SUM (resp_rep) AS Respondent_n,\n",
    "       ROUND (AVG(CASE WHEN resp_rep = 1 THEN app_to_nisi_weeks END),3) AS Respondent_mean,\n",
    "       SUM (neither_rep) AS Neither_n,\n",
    "       ROUND (AVG(CASE WHEN neither_rep = 1 THEN app_to_nisi_weeks END),3) AS Neither_mean,\n",
    "       '.' AS Unknown_N,\n",
    "       '.' AS Unknown_mean,\n",
    "       COUNT(*) AS All_n,\n",
    "      ROUND(AVG(app_to_nisi_weeks),3) AS All_mean\n",
    "\n",
    "FROM __temp__.represent_divorce_fct\n",
    "\n",
    "WHERE \"Year\"  > 2010 AND\n",
    "       NOT (\"Year\" = {next_quarter_year} AND Quarter = {next_quarter})\n",
    "\n",
    "GROUP BY \"Year\", \"Quarter\"; \n",
    "  \"\"\"\n",
    "pydb.create_temp_table(create_div_table_10b_lookup_qtr_table,'div_table_10b_lookup_qtr')"
   ]
  },
  {
   "cell_type": "code",
   "execution_count": null,
   "id": "ae2ff05e-0dd5-4121-8d35-1464bbce94de",
   "metadata": {},
   "outputs": [],
   "source": [
    "test = pydb.read_sql_query(\"SELECT * from __temp__.div_table_10b_lookup_qtr LIMIT 10\")\n",
    "test"
   ]
  },
  {
   "cell_type": "code",
   "execution_count": null,
   "id": "acb22f25-6dec-45ab-813f-a58f4e64399d",
   "metadata": {},
   "outputs": [],
   "source": [
    "#pydb.delete_table_and_data(database=\"__temp__\", table=\"div_table_10b_lookup_qtr\")"
   ]
  },
  {
   "cell_type": "code",
   "execution_count": null,
   "id": "721e5b70-d913-4480-a50d-4d26f87087c4",
   "metadata": {},
   "outputs": [],
   "source": [
    "drop_div_table_10b_lookup = \"DROP TABLE IF EXISTS fcsq.div_table_10b_lookup\"\n",
    "pydb.start_query_execution_and_wait(drop_div_table_10b_lookup)\n",
    "bucket.objects.filter(Prefix=\"fcsq_processing/Divorce/div_table_10b_lookup\").delete();"
   ]
  },
  {
   "cell_type": "code",
   "execution_count": null,
   "id": "4b48322a-d3d7-43dd-8eeb-901e82a05b62",
   "metadata": {},
   "outputs": [],
   "source": [
    "create_DIV_TABLE_10b_LOOKUP_table =f\"\"\"\n",
    "CREATE TABLE IF NOT EXISTS fcsq.div_table_10b_lookup\n",
    "WITH (format = 'PARQUET', external_location = 's3://alpha-family-data/fcsq_processing/Divorce/div_table_10b_lookup') AS\n",
    "SELECT *\n",
    "FROM\n",
    "(SELECT * FROM __temp__.div_table_10b_lookup_annual\n",
    "UNION ALL\n",
    "SELECT * FROM __temp__.div_table_10b_lookup_qtr)\n",
    "ORDER BY lookup;\n",
    "\"\"\"\n",
    "pydb.start_query_execution_and_wait(create_DIV_TABLE_10b_LOOKUP_table)"
   ]
  },
  {
   "cell_type": "code",
   "execution_count": null,
   "id": "fec83847-0858-46ae-8f31-1550ca7fd69f",
   "metadata": {},
   "outputs": [],
   "source": [
    "df = pydb.read_sql_query(\"select * from fcsq.div_table_10b_lookup;\")\n",
    "df.to_csv(path_or_buf = 's3://alpha-family-data/fcsq_processing/Divorce/sdp_process/div_table_10b_lookup.csv',index=False)"
   ]
  },
  {
   "cell_type": "code",
   "execution_count": null,
   "id": "87147ae7-7ddc-4cc3-b167-3a86b2e86815",
   "metadata": {},
   "outputs": [],
   "source": [
    "test = pydb.read_sql_query(\"SELECT * from fcsq.DIV_TABLE_10b_LOOKUP LIMIT 10\")\n",
    "test"
   ]
  },
  {
   "cell_type": "code",
   "execution_count": null,
   "id": "958e1f7b-af30-4917-8dcb-9cc0c795bcc6",
   "metadata": {},
   "outputs": [],
   "source": [
    "create_div_leg_rep_table =f\"\"\"\n",
    "\n",
    "SELECT 'Divorce' AS Case_type,\n",
    "        Year,\n",
    "        Quarter,\n",
    "        'Cases' AS Category,\n",
    "         null AS Party,\n",
    "         null AS Gender,\n",
    "         null as Representation\n",
    "         \n",
    "FROM fcsq.divorce_fct_petitions \n",
    "\n",
    "WHERE Proceeding_type_code = 'D' AND \n",
    "      Law = 'Old'\n",
    "      \n",
    "UNION ALL\n",
    "\n",
    "SELECT 'Divorce' AS Case_type,\n",
    "        Year,\n",
    "        Quarter,\n",
    "        'Cases with a hearing' AS Category,\n",
    "        null AS Party,\n",
    "        null AS Gender,\n",
    "        null as Representation\n",
    "        \n",
    "FROM fcsq.divorce_fct_petitions \n",
    "\n",
    "WHERE (First_divorce_hrng_ind = 1 OR First_fr_hrng_ind = 1) AND\n",
    "      Law = 'Old'\n",
    "      \n",
    "UNION ALL\n",
    "\n",
    "SELECT 'Divorce' AS Case_type,\n",
    "        Year,\n",
    "        Quarter,\n",
    "        'Party' AS Category,\n",
    "        'Applicant' AS Party,\n",
    "         Petitioners_gender AS Gender,\n",
    "         CASE WHEN petnr_reprsntd_ind = 1 THEN 'Y'\n",
    "             ELSE 'N' \n",
    "         END AS Representation\n",
    "\n",
    "FROM fcsq.divorce_fct_petitions \n",
    "\n",
    "WHERE (First_divorce_hrng_ind = 1 OR First_fr_hrng_ind = 1) AND\n",
    "      Law = 'Old'\n",
    "      \n",
    "UNION ALL\n",
    "\n",
    "SELECT 'Divorce' AS Case_type,\n",
    "       Year,\n",
    "       Quarter,\n",
    "       'Party' AS Category,\n",
    "       'Respondent' AS Party,\n",
    "       Respondents_gender AS Gender,\n",
    "       CASE WHEN respndnt_reprsntd_ind = 1 \n",
    "            THEN 'Y'\n",
    "       ELSE 'N' END as Representation\n",
    "\n",
    "FROM fcsq.divorce_fct_petitions \n",
    "\n",
    "WHERE (First_divorce_hrng_ind = 1 OR First_fr_hrng_ind = 1) AND\n",
    "      Law = 'Old';\n",
    "\"\"\"\n",
    "pydb.create_temp_table(create_div_leg_rep_table,'div_leg_rep')"
   ]
  },
  {
   "cell_type": "code",
   "execution_count": null,
   "id": "dea7908c-d4c5-40cc-bc7e-5e8c1a0179bc",
   "metadata": {},
   "outputs": [],
   "source": [
    "test = pydb.read_sql_query(\"SELECT * from __temp__.div_leg_rep LIMIT 10\")\n",
    "test"
   ]
  },
  {
   "cell_type": "code",
   "execution_count": null,
   "id": "5cc0e061-4b6f-4118-8ca9-cab887e3d4cb",
   "metadata": {},
   "outputs": [],
   "source": [
    "#pydb.delete_table_and_data(database=\"__temp__\", table=\"div_leg_rep\")"
   ]
  },
  {
   "cell_type": "code",
   "execution_count": null,
   "id": "3e46a270-e4f4-4fc0-9883-30b759ffa36d",
   "metadata": {},
   "outputs": [],
   "source": [
    "create_div_leg_rep_csv_table =f\"\"\"\n",
    "SELECT Case_type,\n",
    "       Year,\n",
    "       Quarter,\n",
    "       Category,\n",
    "       Party,\n",
    "       Gender,\n",
    "       Representation,\n",
    "       Count(*) AS Count\n",
    "       \n",
    "FROM __temp__.div_leg_rep\n",
    "\n",
    "WHERE \"Year\" > 2010\n",
    "      \n",
    "GROUP BY Case_type, Year, Quarter, Category, Party, Gender, Representation\n",
    "\n",
    "ORDER BY Category, Year, Quarter;    \n",
    "\"\"\"\n",
    "pydb.create_temp_table(create_div_leg_rep_csv_table,'div_leg_rep_csv')"
   ]
  },
  {
   "cell_type": "code",
   "execution_count": null,
   "id": "b92cd410-2710-45b2-a469-2fa8101471d2",
   "metadata": {},
   "outputs": [],
   "source": [
    "test = pydb.read_sql_query(\"SELECT * from __temp__.div_leg_rep_csv LIMIT 10\")\n",
    "test"
   ]
  },
  {
   "cell_type": "code",
   "execution_count": null,
   "id": "97103fa3-62b5-4a41-975c-dd4c10264d9e",
   "metadata": {},
   "outputs": [],
   "source": [
    "create_div_table_11_lookup_annual_table =f\"\"\"\n",
    "SELECT CONCAT('Divorce (incl. FR)|',CAST (\"Year\" AS VARCHAR),'|') as lookup,\n",
    "        SUM (CASE WHEN Category = 'Cases' THEN count END) AS Cases,\n",
    "        SUM (CASE WHEN Category = 'Cases with a hearing' THEN count END) AS Cases_hearing,\n",
    "        SUM (CASE WHEN Party = 'Applicant' AND Representation = 'Y' THEN count END) AS app_rep,\n",
    "        SUM (CASE WHEN Party = 'Applicant' AND Representation = 'N' THEN count END) AS app_unrep,\n",
    "        SUM (CASE WHEN Party = 'Respondent' AND Representation = 'Y' THEN count END) AS res_rep,\n",
    "        SUM (CASE WHEN Party = 'Respondent' AND Representation = 'N' THEN count END) AS res_unrep,\n",
    "        SUM (CASE WHEN Party is not null THEN count END) AS total_parties  \n",
    "\n",
    "FROM __temp__.div_leg_rep_csv\n",
    "\n",
    "WHERE Year <= {annual_year}\n",
    "\n",
    "GROUP BY \"Year\"\n",
    "\n",
    "ORDER BY \"Year\"\n",
    ";\n",
    "\"\"\"\n",
    "pydb.create_temp_table(create_div_table_11_lookup_annual_table,'div_table_11_lookup_annual')"
   ]
  },
  {
   "cell_type": "code",
   "execution_count": null,
   "id": "4d13d1cd-85d2-49c4-b985-7960176cf1bc",
   "metadata": {},
   "outputs": [],
   "source": [
    "test = pydb.read_sql_query(\"SELECT * from __temp__.div_table_11_lookup_annual LIMIT 10 \")\n",
    "test"
   ]
  },
  {
   "cell_type": "code",
   "execution_count": null,
   "id": "1fa3760f-745e-46ba-a6e4-bb9a1c38f445",
   "metadata": {},
   "outputs": [],
   "source": [
    "create_div_table_11_lookup_qtr_table =f\"\"\"\n",
    "SELECT CONCAT('Divorce (incl. FR)|', CAST(\"Year\" AS VARCHAR),'|Q', CAST(\"Quarter\" AS VARCHAR)) AS lookup,\n",
    "       SUM (CASE WHEN Category = 'Cases' THEN count END) AS Cases,\n",
    "       SUM (CASE WHEN Category = 'Cases with a hearing' THEN count END) AS Cases_hearing,\n",
    "       SUM (CASE WHEN Party = 'Applicant' AND Representation = 'Y' THEN count END) AS app_rep,\n",
    "       SUM (CASE WHEN Party = 'Applicant' AND Representation = 'N' THEN count END) AS app_unrep,\n",
    "       SUM (CASE WHEN Party = 'Respondent' AND Representation = 'Y' THEN count END) AS res_rep,\n",
    "       SUM (CASE WHEN Party = 'Respondent' AND Representation = 'N' THEN count END) AS res_unrep,\n",
    "       SUM (CASE WHEN Party is not null THEN count END) AS total_parties  \n",
    "\n",
    "FROM __temp__. div_leg_rep_csv\n",
    "\n",
    "WHERE  NOT (Year = {next_quarter_year} AND Quarter = {next_quarter})\n",
    "\n",
    "GROUP BY \"Year\", \"Quarter\"\n",
    "\n",
    "ORDER BY \"Year\", \"Quarter\";\n",
    "\"\"\"\n",
    "pydb.create_temp_table(create_div_table_11_lookup_qtr_table,'div_table_11_lookup_qtr')\n"
   ]
  },
  {
   "cell_type": "code",
   "execution_count": null,
   "id": "d3ccc2a8-8a56-4c71-b43c-851118879097",
   "metadata": {},
   "outputs": [],
   "source": [
    "test = pydb.read_sql_query(\"SELECT * from __temp__.div_table_11_lookup_qtr LIMIT 10\")\n",
    "test"
   ]
  },
  {
   "cell_type": "code",
   "execution_count": null,
   "id": "3f52d73c-8467-4052-af24-327e7158a8e8",
   "metadata": {},
   "outputs": [],
   "source": [
    "#pydb.delete_table_and_data(database=\"__temp__\", table=\"div_table_11_lookup_qtr\")"
   ]
  },
  {
   "cell_type": "code",
   "execution_count": null,
   "id": "49777ff2-b463-4e0f-b201-23957090a34c",
   "metadata": {},
   "outputs": [],
   "source": [
    "drop_div_leg_rep_csv = \"DROP TABLE IF EXISTS fcsq.div_leg_rep_csv\"\n",
    "pydb.start_query_execution_and_wait(drop_div_leg_rep_csv)\n",
    "bucket.objects.filter(Prefix=\"fcsq_processing/Divorce/div_leg_rep_csv\").delete();"
   ]
  },
  {
   "cell_type": "code",
   "execution_count": null,
   "id": "db4a55a7-57f7-4d24-b4b3-031fbea607e4",
   "metadata": {},
   "outputs": [],
   "source": [
    "create_div_leg_rep_csv_table =f\"\"\"\n",
    "CREATE TABLE IF NOT EXISTS fcsq.div_leg_rep_csv\n",
    "WITH (format = 'PARQUET', external_location = 's3://alpha-family-data/fcsq_processing/Divorce/div_leg_rep_csv') AS\n",
    "SELECT *\n",
    "FROM __temp__.div_leg_rep_csv;\n",
    "\"\"\"\n",
    "pydb.start_query_execution_and_wait(create_div_leg_rep_csv_table)"
   ]
  },
  {
   "cell_type": "code",
   "execution_count": null,
   "id": "3cd1b20e-0833-430d-8ef2-7464fb2dcad9",
   "metadata": {},
   "outputs": [],
   "source": [
    "df = pydb.read_sql_query(\"select * from fcsq.div_leg_rep_csv;\")\n",
    "df.to_csv(path_or_buf = 's3://alpha-family-data/fcsq_processing/Divorce/sdp_process/div_leg_rep_csv.csv',index=False)"
   ]
  },
  {
   "cell_type": "code",
   "execution_count": null,
   "id": "28cf8642-9065-491d-9b53-e9227594ec35",
   "metadata": {},
   "outputs": [],
   "source": [
    "test = pydb.read_sql_query(\"SELECT * from fcsq.div_leg_rep_csv LIMIT 10\")\n",
    "test"
   ]
  },
  {
   "cell_type": "code",
   "execution_count": null,
   "id": "4071a337-5d52-4f10-bca0-288a4ec91f82",
   "metadata": {},
   "outputs": [],
   "source": [
    "drop_div_table_11_lookup = \"DROP TABLE IF EXISTS fcsq.div_table_11_lookup\"\n",
    "pydb.start_query_execution_and_wait(drop_div_table_11_lookup)\n",
    "bucket.objects.filter(Prefix=\"fcsq_processing/Divorce/div_table_11_lookup\").delete();"
   ]
  },
  {
   "cell_type": "code",
   "execution_count": null,
   "id": "a789db2f-213e-4754-bac8-659eb9cfbf0d",
   "metadata": {},
   "outputs": [],
   "source": [
    "create_div_table_11_lookup_table =f\"\"\"\n",
    "CREATE TABLE IF NOT EXISTS fcsq.div_table_11_lookup\n",
    "WITH (format = 'PARQUET', external_location = 's3://alpha-family-data/fcsq_processing/Divorce/div_table_11_lookup') AS\n",
    "SELECT * \n",
    "\n",
    "FROM (SELECT *\n",
    "      FROM __temp__.div_table_11_lookup_annual\n",
    "      UNION ALL\n",
    "      SELECT *\n",
    "      FROM __temp__.div_table_11_lookup_qtr)\n",
    "\n",
    "ORDER BY Lookup;\n",
    "\"\"\"\n",
    "pydb.start_query_execution_and_wait(create_div_table_11_lookup_table)"
   ]
  },
  {
   "cell_type": "code",
   "execution_count": null,
   "id": "e25bdb4d-19fc-4590-897a-97f54ca7e648",
   "metadata": {},
   "outputs": [],
   "source": [
    "df = pydb.read_sql_query(\"select * from fcsq.div_table_11_lookup;\")\n",
    "df.to_csv(path_or_buf = 's3://alpha-family-data/fcsq_processing/Divorce/sdp_process/div_table_11_lookup.csv',index=False)"
   ]
  },
  {
   "cell_type": "code",
   "execution_count": null,
   "id": "462d5912-5c31-4974-8eae-6ce7f170fd00",
   "metadata": {},
   "outputs": [],
   "source": [
    "test = pydb.read_sql_query(\"SELECT * from fcsq.div_table_11_lookup LIMIT 10\")\n",
    "test"
   ]
  },
  {
   "cell_type": "code",
   "execution_count": null,
   "id": "1dddf922-13d8-41e1-888d-cab14875fc3d",
   "metadata": {},
   "outputs": [],
   "source": []
  }
 ],
 "metadata": {
  "kernelspec": {
   "display_name": "divorce_test_kernel",
   "language": "python",
   "name": "divorce_test_project"
  },
  "language_info": {
   "codemirror_mode": {
    "name": "ipython",
    "version": 3
   },
   "file_extension": ".py",
   "mimetype": "text/x-python",
   "name": "python",
   "nbconvert_exporter": "python",
   "pygments_lexer": "ipython3",
   "version": "3.9.4"
  }
 },
 "nbformat": 4,
 "nbformat_minor": 5
}
