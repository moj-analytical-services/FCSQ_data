{
 "cells": [
  {
   "cell_type": "markdown",
   "id": "1068eaa6-e4c1-45c0-9a60-78388df51cc3",
   "metadata": {},
   "source": [
    "# Matrimonial Matters County & UA Level Annual"
   ]
  },
  {
   "cell_type": "markdown",
   "id": "3cf430da-0a8e-40ec-94c7-2ccbd231a9b2",
   "metadata": {
    "jp-MarkdownHeadingCollapsed": true,
    "tags": []
   },
   "source": [
    "## Contents\n",
    "#### Setup\n",
    "1. [import_packages](#import_packages) \n",
    "2. [define_key_variables](#define_key_variables) \n",
    "\n",
    "#### Stage 1 - [Divorce County and UA Lookup](#Divorce_County_and_UA_lookup)\n",
    "3. [ons_postcode_table](#ons_postcode_table) - imports the ons postcode directory file saved in the S3 bucket\n",
    "4. [la_districts_table](#la_districts_table) - imports the local authority districts file saved in the S3 bucket\n",
    "5. [la_districts_counties_table](#la_districts_counties_table) - imports the local authority districts to counties file saved in the S3 bucket\n",
    "6. [lookup_working](#lookup_working) - creates a code, la, county, and country lookup by joining both the la_districts_table to la_districts_counties_table\n",
    "7. [divorce_county_ua_lookup](#divorce_county_ua_lookup) - creates an additional column called 'county_ua' and adds additional information to the county or la strings\n",
    "\n",
    "\n",
    "#### Stage 2 - [Petitioner Postcode](#Petitioner_Postcode)\n",
    "8. [petitioner_address_details_table](#petitioner_address_details_table) - imports the petitioner address details saved in the S3 bucket\n",
    "\n",
    "#### Stage 3 - [Creating Final Output](#Creating_Final_Output)\n",
    "9. [petitioner_address](#petitioner_address) - selects the columns required and renames the column 'pettnr_contact_details_confdntl_cind' to 'confdntl'\n",
    "10. [new_divorce_postcode](#new_divorce_postcode) - capitalise the values stored in all the columns, renaming the columns (except from the year, quarter, and month column), and removing any spaces that appear in the 'pettnr_postal_code' column \n",
    "11. [new_divorce_with_postcode_temp1](#new_divorce_with_postcode_temp1) - searches for postcode patterns from column 'line1' to 'postcode' (if conditions are not satified the code will return null in the respective column)\n",
    "12. [new_divorce_with_postcode_temp2](#new_divorce_with_postcode_temp2) - reformates the columns 'newpostcode1' to 'newpostcode7' from an array to a dataframe (removing any spaces)\n",
    "13. [new_divorce_with_postcode](#new_divorce_with_postcode) - creates a column called 'newpostcode' by printing the first postcode that appears in columns 'newpostcode1' to 'newpostcode7' (if there is no postcode available the code returns null)\n",
    "14. [ons_postcode_data](#ons_postcode_data) - removes spaces from postcode data column and filters by country code in ('E92000001','W92000004') to extract England and Wales postcodes\n",
    "15. [divorce_postcode_ons_match](#divorce_postcode_ons_match) - adds the columns 'PCD' and 'oslaua' from the ons postcode data to the new_divorce_with_postcode table\n",
    "16. [divorce_postcode_la](#divorce_postcode_la) - adds the columns 'county_ua' and 'country' from the divorce_county_ua_lookup table to the divorce_postcode_ons_match table\n",
    "17. [divorce_la_c8](#divorce_la_c8) - creates a new column called 'county_ua2' to mark the applicant's postcode if they request their postcode to be confidential, postcodes can also be marked as invalid/foreign/not given, or unknown\n",
    "\n",
    "    **Confidentiality requested** - has been marked with C8 or Confidential in the address lines and/or KEEP or Y in the confidential column. Note: These addresses must have valid postcodes to be marked as confidential.\n",
    "    \n",
    "    **Postcode invalid/not given or foreign** - has a wide range of postcodes with incorrect formatting that can't be picked up by the postcode search and/or cannot be recognised by ONS postcode directory. Note: This can contain addresses marked as confidential, but the postcodes are invalid. This can also contain instances where there are addresses but a postcode was not provided.\n",
    "    \n",
    "    **Unknown** - has little to no address information (e.g first line of the address) with no available postcodes. Note: This group may contain a few invalid postcodes as we don't have a piece of code looking for postcodes in different formats (e.g punctuation or spaces in different positions of the string) \n",
    "\n",
    "18. [divorce_county](#divorce_county) - rename the 'county_ua2' column to 'county_ua', concatinating both Cornwall UA to Isles of Scilly UA, and copying over any confidential, invalid, not given, or foreign postcodes to country column\n",
    "19. [petitioner_summary_la](#petitioner_summary_la) - calculate the number of county_ua grouping by year, county_ua and country, and filters by 2010 < year < current year\n"
   ]
  },
  {
   "cell_type": "markdown",
   "id": "eafbdc4f-8548-4641-8e84-d25665d01e09",
   "metadata": {
    "tags": []
   },
   "source": [
    "## 1. Import packages and set options \n",
    "<a name=\"import_packages\"></a>"
   ]
  },
  {
   "cell_type": "code",
   "execution_count": null,
   "id": "4ad1d43f-d851-4588-bf05-5a7a972f238d",
   "metadata": {
    "tags": []
   },
   "outputs": [],
   "source": [
    "import pandas as pd  # a module which provides the data structures and functions to store and manipulate tables in dataframes\n",
    "import pydbtools as pydb  # A module which allows SQL queries to be run on the Analytical Platform from Python, see https://github.com/moj-analytical-services/pydbtools\n",
    "import boto3  # allows you to directly create, update, and delete AWS resources from Python scripts\n",
    "import numpy as np\n",
    "import re\n",
    "\n",
    "# sets parameters to view dataframes for tables easier\n",
    "pd.set_option(\"display.max_columns\", 100)\n",
    "pd.set_option(\"display.width\", 900)\n",
    "pd.set_option(\"display.max_colwidth\", 200)"
   ]
  },
  {
   "cell_type": "markdown",
   "id": "010943ed-945c-4146-a9bb-c982ebb370f2",
   "metadata": {
    "tags": []
   },
   "source": [
    "## 2. Define key variables to be used throughout the notebook \n",
    "<a name=\"define_key_variables\"></a>"
   ]
  },
  {
   "cell_type": "code",
   "execution_count": null,
   "id": "2b1dc3ac-8572-43e9-a0ba-f715323f66bf",
   "metadata": {
    "tags": []
   },
   "outputs": [],
   "source": [
    "#this is the database we will be extracting from\n",
    "database = \"familyman_dev_v3\" \n",
    "\n",
    "#this is the athena database we will be storing our tables in\n",
    "fcsq_database = \"fcsq\"\n",
    "\n",
    "#this is the s3 bucket we will be saving data to\n",
    "s3 = boto3.resource(\"s3\")\n",
    "bucket = s3.Bucket(\"alpha-family-data\")\n",
    "\n",
    "#setting current year\n",
    "current_year = 2023"
   ]
  },
  {
   "cell_type": "markdown",
   "id": "7eb8457a-aa46-4e67-80af-ca986f5d71dd",
   "metadata": {},
   "source": [
    "# Stage 1 - Divorce County and UA lookup\n",
    "<a name=\"Divorce_County_and_UA_lookup\"></a>"
   ]
  },
  {
   "cell_type": "markdown",
   "id": "848160c2-69a3-4b82-84dd-b7c6cf44ad26",
   "metadata": {},
   "source": [
    "## Import ONS Postcode Directory \n",
    "<a name=\"ons_postcode_table\"></a>"
   ]
  },
  {
   "cell_type": "markdown",
   "id": "7823958c-5dc7-4c37-aa61-076cb0d0771e",
   "metadata": {
    "tags": []
   },
   "source": [
    "### Create the ons_postcode table"
   ]
  },
  {
   "cell_type": "code",
   "execution_count": null,
   "id": "09cdd829-cdf5-4459-87bc-213bda27d44e",
   "metadata": {},
   "outputs": [],
   "source": [
    "#imports ONS Postcode Directory data from S3 bucket into a temporary table\n",
    "ons_postcode_table = pd.read_csv(\"s3://alpha-family-data/CSVs/Divorce/Petitioner LA/Lookup/ONSPD_NOV_2022_UK.csv\", low_memory=False)"
   ]
  },
  {
   "cell_type": "code",
   "execution_count": null,
   "id": "ec315eab-0cca-4ede-b42c-294957bc6f30",
   "metadata": {},
   "outputs": [],
   "source": [
    "pydb.dataframe_to_temp_table(ons_postcode_table, \"ons_postcode\")"
   ]
  },
  {
   "cell_type": "markdown",
   "id": "d48b2509-e45b-405a-8f6c-6306ed158bbe",
   "metadata": {
    "tags": []
   },
   "source": [
    "#### ons_postcode validation"
   ]
  },
  {
   "cell_type": "code",
   "execution_count": null,
   "id": "d99999f7-07ab-464c-808a-ea2cc6a140b1",
   "metadata": {},
   "outputs": [],
   "source": [
    "#ons_postcode_count = pydb.read_sql_query(\"SELECT * from __temp__.ons_postcode limit 10\")\n",
    "#ons_postcode_count"
   ]
  },
  {
   "cell_type": "markdown",
   "id": "dcc95f8f-b964-45c3-8fc2-4126d3ec5051",
   "metadata": {},
   "source": [
    "## Import Local Authority Districts\n",
    "<a name=\"la_districts_table\"></a>"
   ]
  },
  {
   "cell_type": "markdown",
   "id": "c58f1ebe-7a23-4521-988c-e036d55f0618",
   "metadata": {
    "tags": []
   },
   "source": [
    "### Create the la_districts table"
   ]
  },
  {
   "cell_type": "code",
   "execution_count": null,
   "id": "cf376541-8cbd-4296-8306-f636e5ec3e98",
   "metadata": {},
   "outputs": [],
   "source": [
    "#imports Local Authority Districts data from S3 bucket into a temporary table\n",
    "la_districts_table = pd.read_csv(\"s3://alpha-family-data/CSVs/Divorce/Petitioner LA/Lookup/Local_Authority_Districts_(December_2022)_Names_and_Codes_in_the_United_Kingdom.csv\")"
   ]
  },
  {
   "cell_type": "code",
   "execution_count": null,
   "id": "e6262343-462f-419c-80d3-72b126d08d67",
   "metadata": {},
   "outputs": [],
   "source": [
    "pydb.dataframe_to_temp_table(la_districts_table, \"la_districts\")"
   ]
  },
  {
   "cell_type": "markdown",
   "id": "b6cf9923-3522-42f4-a70e-432e12db1d7e",
   "metadata": {
    "tags": []
   },
   "source": [
    "#### la_districts validation"
   ]
  },
  {
   "cell_type": "code",
   "execution_count": null,
   "id": "e92be816-8d21-4448-bd71-b361bf1350f6",
   "metadata": {},
   "outputs": [],
   "source": [
    "#la_districts_count = pydb.read_sql_query(\"SELECT * from __temp__.la_districts LIMIT 10\")\n",
    "#la_districts_count"
   ]
  },
  {
   "cell_type": "markdown",
   "id": "90fa71a8-5429-493e-9ea9-8f0e563df693",
   "metadata": {},
   "source": [
    "## Import Local Authority Districts to Counties\n",
    "<a name=\"la_districts_counties_table\"></a>"
   ]
  },
  {
   "cell_type": "markdown",
   "id": "b252d12e-76f8-46ce-92a3-7f7d01a28e04",
   "metadata": {
    "tags": []
   },
   "source": [
    "### Create the la_districts_counties table"
   ]
  },
  {
   "cell_type": "code",
   "execution_count": null,
   "id": "6197c682-0f00-4b77-b33f-72e85df061dd",
   "metadata": {},
   "outputs": [],
   "source": [
    "#imports Local Authority Districts to Counties data from S3 bucket into a temporary table\n",
    "la_districts_counties_table = pd.read_csv(\"s3://alpha-family-data/CSVs/Divorce/Petitioner LA/Lookup/Local_Authority_District_to_County_(December_2022)_Lookup_in_England.csv\")"
   ]
  },
  {
   "cell_type": "code",
   "execution_count": null,
   "id": "87de7393-6c86-4e41-a4fa-10436e1bea40",
   "metadata": {},
   "outputs": [],
   "source": [
    "pydb.dataframe_to_temp_table(la_districts_counties_table, \"la_districts_counties\")"
   ]
  },
  {
   "cell_type": "markdown",
   "id": "aeef3e94-ed4f-4a1b-8ee9-622d6fc54eef",
   "metadata": {
    "tags": []
   },
   "source": [
    "#### la_districts_counties validation"
   ]
  },
  {
   "cell_type": "code",
   "execution_count": null,
   "id": "61e8f3de-e8df-48a2-bb56-b6343087f474",
   "metadata": {},
   "outputs": [],
   "source": [
    "#la_districts_counties_count = pydb.read_sql_query(\"SELECT * from __temp__.la_districts_counties LIMIT 10\")\n",
    "#la_districts_counties_count"
   ]
  },
  {
   "cell_type": "markdown",
   "id": "c8079346-f962-4c26-be95-4202c07c0a26",
   "metadata": {},
   "source": [
    "## Creating Lookup - *Manual change required*"
   ]
  },
  {
   "cell_type": "markdown",
   "id": "f9237fe4-675c-42b5-a848-8baef1dbab6b",
   "metadata": {},
   "source": [
    "### Create the lookup_working table - This is where we have to manually change the column names as both la_districts and la_districts_counties, each year change the names of their columns\n",
    "<a name=\"lookup_working\"></a>"
   ]
  },
  {
   "cell_type": "code",
   "execution_count": null,
   "id": "ed9ef147-f6d0-4399-98a3-f8a9e6469d49",
   "metadata": {},
   "outputs": [],
   "source": [
    "#Creates a code, la, county, and country lookup\n",
    "#The key variable '{prev_endyear}' has been set to automate this process because the column names in both la_districts and la_districts_counties change\n",
    "\n",
    "#Remeber to check that the column names match both la_districts and la_districts_counties tables\n",
    "\n",
    "create_lookup_working =f\"\"\"\n",
    "SELECT \n",
    "a.LAD22CD AS code,\n",
    "a.LAD22NM AS la,\n",
    "b.CTY22NM AS county,\n",
    "CASE WHEN a.LAD22CD LIKE 'E%' THEN 'England'\n",
    "WHEN a.LAD22CD LIKE 'W%' THEN 'Wales'\n",
    "END AS country\n",
    "FROM __temp__.la_districts a\n",
    "LEFT JOIN __temp__.la_districts_counties b\n",
    "ON a.LAD22CD = b.LAD22CD \n",
    "WHERE a.LAD22CD LIKE 'E%' OR a.LAD22CD LIKE 'W%';\n",
    "\"\"\"\n",
    "pydb.create_temp_table(create_lookup_working,'lookup_working')"
   ]
  },
  {
   "cell_type": "code",
   "execution_count": null,
   "id": "e887dc54-f0d8-4ef2-b501-757592e605fd",
   "metadata": {},
   "outputs": [],
   "source": [
    "#lookup_working = pydb.read_sql_query(\"SELECT * from __temp__.lookup_working LIMIT 10\")\n",
    "#lookup_working"
   ]
  },
  {
   "cell_type": "markdown",
   "id": "adb3a249-30f9-45ea-adb5-25569f611de0",
   "metadata": {},
   "source": [
    "### Create the divorce_county_ua_lookup table\n",
    "<a name=\"divorce_county_ua_lookup\"></a>"
   ]
  },
  {
   "cell_type": "code",
   "execution_count": null,
   "id": "461e8670-cf11-4d62-926d-5b54f8364e99",
   "metadata": {},
   "outputs": [],
   "source": [
    "#creates an additional column called 'county_ua', by adding additional information to the county or la.\n",
    "create_divorce_county_ua_lookup =f\"\"\"\n",
    "SELECT\n",
    "code,\n",
    "CASE WHEN county IN ('Greater Manchester', 'Merseyside', 'South Yorkshire', 'Tyne and Wear', 'West Midlands', 'West Yorkshire')\n",
    "THEN CONCAT(county,' ','(Met County)')\n",
    "WHEN code LIKE 'W%'\n",
    "THEN la\n",
    "WHEN county IS NULL\n",
    "THEN CONCAT(la,' ','UA')\n",
    "ELSE county\n",
    "END AS county_ua,\n",
    "country\n",
    "FROM __temp__.lookup_working;\n",
    "\"\"\"\n",
    "pydb.create_temp_table(create_divorce_county_ua_lookup,'divorce_county_ua_lookup')"
   ]
  },
  {
   "cell_type": "code",
   "execution_count": null,
   "id": "c479798a-891d-4b18-a2bf-251bf995ed9f",
   "metadata": {},
   "outputs": [],
   "source": [
    "#divorce_county_ua_lookup = pydb.read_sql_query(\"SELECT * from __temp__.divorce_county_ua_lookup Limit 10\")\n",
    "#divorce_county_ua_lookup"
   ]
  },
  {
   "cell_type": "markdown",
   "id": "1e0ea5e4-4e2c-4655-8716-23e0df413c31",
   "metadata": {},
   "source": [
    "# Stage 2 - Petitioner Postcode\n",
    "<a name=\"Petitioner_Postcode\"></a>"
   ]
  },
  {
   "cell_type": "markdown",
   "id": "957e4363-f2a2-4816-b0ee-2fd31504a259",
   "metadata": {},
   "source": [
    "## Import Petitioner Address Details \n",
    "<a name=\"petitioner_address_details_table\"></a>"
   ]
  },
  {
   "cell_type": "markdown",
   "id": "3f7f727e-c6ed-4472-9078-c70639ebb828",
   "metadata": {
    "tags": []
   },
   "source": [
    "### Create the petitioner_address_details table"
   ]
  },
  {
   "cell_type": "code",
   "execution_count": null,
   "id": "f003d489-8746-40b1-be18-b5fb37722f36",
   "metadata": {},
   "outputs": [],
   "source": [
    "#imports Petitioner Address Details data from S3 bucket into a temporary table\n",
    "petitioner_address_details_table = pd.read_csv(\"s3://alpha-family-data/CSVs/Divorce/Petitioner LA/Petitioner_Address_Details.csv\", low_memory=False)"
   ]
  },
  {
   "cell_type": "code",
   "execution_count": null,
   "id": "051c78ad-8b94-4351-a448-15972cd42994",
   "metadata": {},
   "outputs": [],
   "source": [
    "pydb.dataframe_to_temp_table(petitioner_address_details_table, \"petitioner_address_details\")"
   ]
  },
  {
   "cell_type": "markdown",
   "id": "1a9dbb91-c6d7-4222-b67e-b4ae1645c1a7",
   "metadata": {
    "tags": []
   },
   "source": [
    "#### petitioner_address_details validation"
   ]
  },
  {
   "cell_type": "code",
   "execution_count": null,
   "id": "75152c23-141b-4b32-890d-a0deb2a2cc3a",
   "metadata": {},
   "outputs": [],
   "source": [
    "#petitioner_address_details_count = pydb.read_sql_query(\"SELECT * from __temp__.petitioner_address_details limit 10\")\n",
    "#petitioner_address_details_count"
   ]
  },
  {
   "cell_type": "markdown",
   "id": "cd4f26b2-4805-46a4-96d4-9c3150205bb5",
   "metadata": {},
   "source": [
    "# Stage 3 - Creating Final Output\n",
    "<a name=\"Creating_Final_Output\"></a>"
   ]
  },
  {
   "cell_type": "markdown",
   "id": "8d01897c-6ae5-4ae4-aa48-3d18da457142",
   "metadata": {},
   "source": [
    "### Create the petitioner_address table\n",
    "<a name=\"petitioner_address\"></a>"
   ]
  },
  {
   "cell_type": "code",
   "execution_count": null,
   "id": "b7cad363-c05f-4198-bf7b-978e19822005",
   "metadata": {},
   "outputs": [],
   "source": [
    "#Selects the columns required and renaming the column 'pettnr_contact_details_confdntl_cind' to confdntl\n",
    "create_petitioner_address =f\"\"\"\n",
    "SELECT t1.Year, \n",
    "          t1.Month, \n",
    "          t1.Quarter,\n",
    "          t1.PETTNR_LINE_1_ADDRESS,\n",
    "          t1.PETTNR_LINE_2_ADDRESS,\n",
    "          t1.PETTNR_LINE_3_ADDRESS,\n",
    "          t1.PETTNR_LINE_4_ADDRESS,\n",
    "          t1.PETTNR_LINE_5_ADDRESS, \n",
    "          t1.PETTNR_LINE_6_ADDRESS,\n",
    "          t1.PETTNR_POSTAL_CODE,\n",
    "          t1.PETTNR_CONTACT_DETAILS_CONFDNTL_CIND as CONFDNTL\n",
    "FROM __temp__.petitioner_address_details t1;\n",
    "\"\"\"\n",
    "pydb.create_temp_table(create_petitioner_address,'petitioner_address')"
   ]
  },
  {
   "cell_type": "code",
   "execution_count": null,
   "id": "877c25f0-f890-447b-8115-d729f2e9fff3",
   "metadata": {
    "tags": []
   },
   "outputs": [],
   "source": [
    "#petitioner_address = pydb.read_sql_query(\"SELECT * from __temp__.petitioner_address LIMIT 10\")\n",
    "#petitioner_address"
   ]
  },
  {
   "cell_type": "markdown",
   "id": "f23d4fdc-233d-4444-8597-8322ec949bdb",
   "metadata": {},
   "source": [
    "### Create the new_divorce_postcode table\n",
    "<a name=\"new_divorce_postcode\"></a>"
   ]
  },
  {
   "cell_type": "code",
   "execution_count": null,
   "id": "38033aad-99f8-4ff4-881f-439366e7c2cc",
   "metadata": {},
   "outputs": [],
   "source": [
    "#Capitalising the values stored in all the columns and renaming the columns except from the year, quarter, and month column\n",
    "#Also, removing any spaces appearing from the column 'pettnr_postal_code')\n",
    "create_new_divorce_postcode =f\"\"\"\n",
    "SELECT t1.Year, \n",
    "    t1.Month, \n",
    "    t1.Quarter,\n",
    "    UPPER(t1.PETTNR_LINE_1_ADDRESS) as Line1,\n",
    "    UPPER(t1.PETTNR_LINE_2_ADDRESS) as Line2,\n",
    "    UPPER(t1.PETTNR_LINE_3_ADDRESS) as Line3,\n",
    "    UPPER(t1.PETTNR_LINE_4_ADDRESS) as Line4,\n",
    "    UPPER(t1.PETTNR_LINE_5_ADDRESS) as Line5, \n",
    "    UPPER(t1.PETTNR_LINE_6_ADDRESS) as Line6,\n",
    "    REPLACE(UPPER(t1.PETTNR_POSTAL_CODE), ' ', '') as postcode,\n",
    "    UPPER(t1.PETTNR_CONTACT_DETAILS_CONFDNTL_CIND) as CONFDNTL\n",
    "    \n",
    "      FROM __temp__.petitioner_address_details t1;\n",
    "\"\"\"\n",
    "pydb.create_temp_table(create_new_divorce_postcode,'new_divorce_postcode')"
   ]
  },
  {
   "cell_type": "code",
   "execution_count": null,
   "id": "c185d667-e9c6-482e-a2b8-2dca23f25e73",
   "metadata": {
    "tags": []
   },
   "outputs": [],
   "source": [
    "#new_divorce_postcode = pydb.read_sql_query(\"SELECT * from __temp__.new_divorce_postcode LIMIT 10\")\n",
    "#new_divorce_postcode"
   ]
  },
  {
   "cell_type": "markdown",
   "id": "3b89d0c2-95a8-4942-8862-ac3029de19a3",
   "metadata": {},
   "source": [
    "### Create the new_divorce_with_postcode_temp1 table\n",
    "<a name=\"new_divorce_with_postcode_temp1\"></a>"
   ]
  },
  {
   "cell_type": "code",
   "execution_count": null,
   "id": "0ad2a055-20ce-46ea-90e8-fe4c28064353",
   "metadata": {
    "tags": []
   },
   "outputs": [],
   "source": [
    "#Searches for postcode patterns from column 'line1' to 'postcode'\n",
    "#If these conditions are not satified the code will return null in the respective column\n",
    "#The functions:\n",
    "    #regexp_like() - looks for the pattern and produces a true or false.\n",
    "    #regexp_extract_all() - extracts the string that satifies the pattern.\n",
    "#The postcode case when statement looks for postcode patterns with no spaces\n",
    "create_new_divorce_with_postcode_temp1 =f\"\"\"\n",
    "SELECT *,\n",
    "\n",
    "CASE WHEN regexp_like(line1, '[A-Z][A-Z][0-9][ \\t][0-9][A-Z][A-Z]$') THEN regexp_extract_all(line1, '[A-Z][A-Z][0-9][ \\t][0-9][A-Z][A-Z]')\n",
    "WHEN regexp_like(line1, '[A-Z][A-Z][0-9][0-9][ \\t][0-9][A-Z][A-Z]$') THEN regexp_extract_all(line1, '[A-Z][A-Z][0-9][0-9][ \\t][0-9][A-Z][A-Z]')\n",
    "WHEN regexp_like(line1, '[A-Z][A-Z][0-9][A-Z][ \\t][0-9][A-Z][A-Z]$') THEN regexp_extract_all(line1, '[A-Z][A-Z][0-9][A-Z][ \\t][0-9][A-Z][A-Z]')\n",
    "\n",
    "WHEN regexp_like(line1, '[A-Z][0-9][ \\t][0-9][A-Z][A-Z]$') THEN regexp_extract_all(line1, '[A-Z][0-9][ \\t][0-9][A-Z][A-Z]')\n",
    "WHEN regexp_like(line1, '[A-Z][0-9][0-9][ \\t][0-9][A-Z][A-Z]$') THEN regexp_extract_all(line1, '[A-Z][0-9][0-9][ \\t][0-9][A-Z][A-Z]')\n",
    "WHEN regexp_like(line1, '[A-Z][0-9][A-Z][ \\t][0-9][A-Z][A-Z]$') THEN regexp_extract_all(line1, '[A-Z][0-9][A-Z][ \\t][0-9][A-Z][A-Z]')\n",
    "ELSE NULL\n",
    "END newpostcode1,\n",
    "\n",
    "\n",
    "CASE WHEN regexp_like(line2, '[A-Z][A-Z][0-9][ \\t][0-9][A-Z][A-Z]$') THEN regexp_extract_all(line2, '[A-Z][A-Z][0-9][ \\t][0-9][A-Z][A-Z]')\n",
    "WHEN regexp_like(line2, '[A-Z][A-Z][0-9][0-9][ \\t][0-9][A-Z][A-Z]$') THEN regexp_extract_all(line2, '[A-Z][A-Z][0-9][0-9][ \\t][0-9][A-Z][A-Z]')\n",
    "WHEN regexp_like(line2, '[A-Z][A-Z][0-9][A-Z][ \\t][0-9][A-Z][A-Z]$') THEN regexp_extract_all(line2, '[A-Z][A-Z][0-9][A-Z][ \\t][0-9][A-Z][A-Z]')\n",
    "\n",
    "WHEN regexp_like(line2, '[A-Z][0-9][ \\t][0-9][A-Z][A-Z]$') THEN regexp_extract_all(line2, '[A-Z][0-9][ \\t][0-9][A-Z][A-Z]')\n",
    "WHEN regexp_like(line2, '[A-Z][0-9][0-9][ \\t][0-9][A-Z][A-Z]$') THEN regexp_extract_all(line2, '[A-Z][0-9][0-9][ \\t][0-9][A-Z][A-Z]')\n",
    "WHEN regexp_like(line2, '[A-Z][0-9][A-Z][ \\t][0-9][A-Z][A-Z]$') THEN regexp_extract_all(line2, '[A-Z][0-9][A-Z][ \\t][0-9][A-Z][A-Z]')\n",
    "ELSE NULL\n",
    "END newpostcode2,\n",
    "\n",
    "\n",
    "CASE WHEN regexp_like(line3, '[A-Z][A-Z][0-9][ \\t][0-9][A-Z][A-Z]$') THEN regexp_extract_all(line3, '[A-Z][A-Z][0-9][ \\t][0-9][A-Z][A-Z]')\n",
    "WHEN regexp_like(line3, '[A-Z][A-Z][0-9][0-9][ \\t][0-9][A-Z][A-Z]$') THEN regexp_extract_all(line3, '[A-Z][A-Z][0-9][0-9][ \\t][0-9][A-Z][A-Z]')\n",
    "WHEN regexp_like(line3, '[A-Z][A-Z][0-9][A-Z][ \\t][0-9][A-Z][A-Z]$') THEN regexp_extract_all(line3, '[A-Z][A-Z][0-9][A-Z][ \\t][0-9][A-Z][A-Z]')\n",
    "\n",
    "WHEN regexp_like(line3, '[A-Z][0-9][ \\t][0-9][A-Z][A-Z]$') THEN regexp_extract_all(line3, '[A-Z][0-9][ \\t][0-9][A-Z][A-Z]')\n",
    "WHEN regexp_like(line3, '[A-Z][0-9][0-9][ \\t][0-9][A-Z][A-Z]$') THEN regexp_extract_all(line3, '[A-Z][0-9][0-9][ \\t][0-9][A-Z][A-Z]')\n",
    "WHEN regexp_like(line3, '[A-Z][0-9][A-Z][ \\t][0-9][A-Z][A-Z]$') THEN regexp_extract_all(line3, '[A-Z][0-9][A-Z][ \\t][0-9][A-Z][A-Z]')\n",
    "ELSE NULL\n",
    "END newpostcode3,\n",
    "\n",
    "\n",
    "CASE WHEN regexp_like(line4, '[A-Z][A-Z][0-9][ \\t][0-9][A-Z][A-Z]$') THEN regexp_extract_all(line4, '[A-Z][A-Z][0-9][ \\t][0-9][A-Z][A-Z]')\n",
    "WHEN regexp_like(line4, '[A-Z][A-Z][0-9][0-9][ \\t][0-9][A-Z][A-Z]$') THEN regexp_extract_all(line4, '[A-Z][A-Z][0-9][0-9][ \\t][0-9][A-Z][A-Z]')\n",
    "WHEN regexp_like(line4, '[A-Z][A-Z][0-9][A-Z][ \\t][0-9][A-Z][A-Z]$') THEN regexp_extract_all(line4, '[A-Z][A-Z][0-9][A-Z][ \\t][0-9][A-Z][A-Z]')\n",
    "\n",
    "WHEN regexp_like(line4, '[A-Z][0-9][ \\t][0-9][A-Z][A-Z]$') THEN regexp_extract_all(line4, '[A-Z][0-9][ \\t][0-9][A-Z][A-Z]')\n",
    "WHEN regexp_like(line4, '[A-Z][0-9][0-9][ \\t][0-9][A-Z][A-Z]$') THEN regexp_extract_all(line4, '[A-Z][0-9][0-9][ \\t][0-9][A-Z][A-Z]')\n",
    "WHEN regexp_like(line4, '[A-Z][0-9][A-Z][ \\t][0-9][A-Z][A-Z]$') THEN regexp_extract_all(line4, '[A-Z][0-9][A-Z][ \\t][0-9][A-Z][A-Z]')\n",
    "ELSE NULL\n",
    "END newpostcode4,\n",
    "\n",
    "\n",
    "CASE WHEN regexp_like(line5, '[A-Z][A-Z][0-9][ \\t][0-9][A-Z][A-Z]$') THEN regexp_extract_all(line5, '[A-Z][A-Z][0-9][ \\t][0-9][A-Z][A-Z]')\n",
    "WHEN regexp_like(line5, '[A-Z][A-Z][0-9][0-9][ \\t][0-9][A-Z][A-Z]$') THEN regexp_extract_all(line5, '[A-Z][A-Z][0-9][0-9][ \\t][0-9][A-Z][A-Z]')\n",
    "WHEN regexp_like(line5, '[A-Z][A-Z][0-9][A-Z][ \\t][0-9][A-Z][A-Z]$') THEN regexp_extract_all(line5, '[A-Z][A-Z][0-9][A-Z][ \\t][0-9][A-Z][A-Z]')\n",
    "\n",
    "WHEN regexp_like(line5, '[A-Z][0-9][ \\t][0-9][A-Z][A-Z]$') THEN regexp_extract_all(line5, '[A-Z][0-9][ \\t][0-9][A-Z][A-Z]')\n",
    "WHEN regexp_like(line5, '[A-Z][0-9][0-9][ \\t][0-9][A-Z][A-Z]$') THEN regexp_extract_all(line5, '[A-Z][0-9][0-9][ \\t][0-9][A-Z][A-Z]')\n",
    "WHEN regexp_like(line5, '[A-Z][0-9][A-Z][ \\t][0-9][A-Z][A-Z]$') THEN regexp_extract_all(line5, '[A-Z][0-9][A-Z][ \\t][0-9][A-Z][A-Z]')\n",
    "ELSE NULL\n",
    "END newpostcode5,\n",
    "\n",
    "CASE WHEN regexp_like(line6, '[A-Z][A-Z][0-9][ \\t][0-9][A-Z][A-Z]$') THEN regexp_extract_all(line6, '[A-Z][A-Z][0-9][ \\t][0-9][A-Z][A-Z]')\n",
    "WHEN regexp_like(line6, '[A-Z][A-Z][0-9][0-9][ \\t][0-9][A-Z][A-Z]$') THEN regexp_extract_all(line6, '[A-Z][A-Z][0-9][0-9][ \\t][0-9][A-Z][A-Z]')\n",
    "WHEN regexp_like(line6, '[A-Z][A-Z][0-9][A-Z][ \\t][0-9][A-Z][A-Z]$') THEN regexp_extract_all(line6, '[A-Z][A-Z][0-9][A-Z][ \\t][0-9][A-Z][A-Z]')\n",
    "\n",
    "WHEN regexp_like(line6, '[A-Z][0-9][ \\t][0-9][A-Z][A-Z]$') THEN regexp_extract_all(line6, '[A-Z][0-9][ \\t][0-9][A-Z][A-Z]')\n",
    "WHEN regexp_like(line6, '[A-Z][0-9][0-9][ \\t][0-9][A-Z][A-Z]$') THEN regexp_extract_all(line6, '[A-Z][0-9][0-9][ \\t][0-9][A-Z][A-Z]')\n",
    "WHEN regexp_like(line6, '[A-Z][0-9][A-Z][ \\t][0-9][A-Z][A-Z]$') THEN regexp_extract_all(line6, '[A-Z][0-9][A-Z][ \\t][0-9][A-Z][A-Z]')\n",
    "ELSE NULL\n",
    "END newpostcode6,\n",
    "\n",
    "CASE WHEN regexp_like(postcode, '[A-Z][A-Z][0-9][0-9][A-Z][A-Z]$') THEN regexp_extract_all(postcode, '[A-Z][A-Z][0-9][0-9][A-Z][A-Z]')\n",
    "WHEN regexp_like(postcode, '[A-Z][A-Z][0-9][0-9][0-9][A-Z][A-Z]$') THEN regexp_extract_all(postcode, '[A-Z][A-Z][0-9][0-9][0-9][A-Z][A-Z]')\n",
    "WHEN regexp_like(postcode, '[A-Z][A-Z][0-9][A-Z][0-9][A-Z][A-Z]$') THEN regexp_extract_all(postcode, '[A-Z][A-Z][0-9][A-Z][0-9][A-Z][A-Z]')\n",
    "\n",
    "WHEN regexp_like(postcode, '[A-Z][0-9][0-9][A-Z][A-Z]$') THEN regexp_extract_all(postcode, '[A-Z][0-9][0-9][A-Z][A-Z]')\n",
    "WHEN regexp_like(postcode, '[A-Z][0-9][0-9][0-9][A-Z][A-Z]$') THEN regexp_extract_all(postcode, '[A-Z][0-9][0-9][0-9][A-Z][A-Z]')\n",
    "WHEN regexp_like(postcode, '[A-Z][0-9][A-Z][0-9][A-Z][A-Z]$') THEN regexp_extract_all(postcode, '[A-Z][0-9][A-Z][0-9][A-Z][A-Z]')\n",
    "ELSE NULL\n",
    "END newpostcode7\n",
    "\n",
    "FROM __temp__.new_divorce_postcode;\n",
    "\"\"\"\n",
    "pydb.create_temp_table(create_new_divorce_with_postcode_temp1,'new_divorce_with_postcode_temp1')\n"
   ]
  },
  {
   "cell_type": "code",
   "execution_count": null,
   "id": "62f2dd92-943a-4a29-a4f5-3d213bd7b918",
   "metadata": {
    "tags": []
   },
   "outputs": [],
   "source": [
    "#code = pydb.read_sql_query(\"SELECT * from __temp__.new_divorce_with_postcode_temp1 LIMIT 10\")\n",
    "#code"
   ]
  },
  {
   "cell_type": "markdown",
   "id": "2724cdbd-81cd-4476-89f1-9e716e168b4f",
   "metadata": {},
   "source": [
    "### Create the new_divorce_with_postcode_temp2 table\n",
    "<a name=\"new_divorce_with_postcode_temp2\"></a>"
   ]
  },
  {
   "cell_type": "code",
   "execution_count": null,
   "id": "c2c5340d-a2dd-411c-926d-fbe451ce15d9",
   "metadata": {},
   "outputs": [],
   "source": [
    "#The temporary table 'new_divorce_with_postcode_temp1' is reformated turning the columns 'newpostcode1' to 'newpostcode7' from an array to a dataframe (removing any spaces)\n",
    "create_new_divorce_with_postcode_temp2 =f\"\"\"\n",
    "SELECT year, \n",
    "month, \n",
    "quarter,\n",
    "line1,\n",
    "line2,\n",
    "line3,\n",
    "line4,\n",
    "line5, \n",
    "line6,\n",
    "postcode,\n",
    "confdntl,\n",
    "\n",
    "array_join(newpostcode1,  '') as newpostcode1,\n",
    "array_join(newpostcode2,  '') as newpostcode2,\n",
    "array_join(newpostcode3,  '') as newpostcode3,\n",
    "array_join(newpostcode4,  '') as newpostcode4,\n",
    "array_join(newpostcode5,  '') as newpostcode5,\n",
    "array_join(newpostcode6,  '') as newpostcode6,\n",
    "array_join(newpostcode7,  '') as newpostcode7\n",
    "\n",
    "FROM __temp__.new_divorce_with_postcode_temp1;\n",
    "\"\"\"\n",
    "pydb.create_temp_table(create_new_divorce_with_postcode_temp2,'new_divorce_with_postcode_temp2')"
   ]
  },
  {
   "cell_type": "code",
   "execution_count": null,
   "id": "c39edf57-3247-4f80-b9ef-6bd94ffde9bc",
   "metadata": {},
   "outputs": [],
   "source": [
    "#code = pydb.read_sql_query(\"SELECT * FROM __temp__.new_divorce_with_postcode_temp2\")\n",
    "#code"
   ]
  },
  {
   "cell_type": "markdown",
   "id": "d980e10d-11bc-4564-891c-bb18e450be05",
   "metadata": {},
   "source": [
    "### Create the new_divorce_with_postcode table\n",
    "<a name=\"new_divorce_with_postcode\"></a>"
   ]
  },
  {
   "cell_type": "code",
   "execution_count": null,
   "id": "af4b83cc-3cb9-4d45-befe-98425f66f0d3",
   "metadata": {},
   "outputs": [],
   "source": [
    "#Creates a column called 'newpostcode' exporting the first postcode that appears in columns 'newpostcode1' to 'newpostcode7'\n",
    "#If there is no postcode available the code returns null\n",
    "create_new_divorce_with_postcode =f\"\"\"\n",
    "SELECT year, \n",
    "month, \n",
    "quarter,\n",
    "line1,\n",
    "line2,\n",
    "line3,\n",
    "line4,\n",
    "line5, \n",
    "line6,\n",
    "postcode,\n",
    "confdntl,\n",
    "\n",
    "CASE WHEN newpostcode1 IS NOT NULL THEN newpostcode1\n",
    "WHEN newpostcode2 IS NOT NULL THEN newpostcode2\n",
    "WHEN newpostcode3 IS NOT NULL THEN newpostcode3\n",
    "WHEN newpostcode4 IS NOT NULL THEN newpostcode4\n",
    "WHEN newpostcode5 IS NOT NULL THEN newpostcode5\n",
    "WHEN newpostcode6 IS NOT NULL THEN newpostcode6\n",
    "WHEN newpostcode7 IS NOT NULL THEN newpostcode7\n",
    "\n",
    "ELSE NULL\n",
    "END newpostcode\n",
    "\n",
    "FROM __temp__.new_divorce_with_postcode_temp2;\n",
    "\"\"\"\n",
    "pydb.create_temp_table(create_new_divorce_with_postcode,'new_divorce_with_postcode')"
   ]
  },
  {
   "cell_type": "code",
   "execution_count": null,
   "id": "0d8c478b-06f5-4cd1-8b41-d270b631dc65",
   "metadata": {
    "tags": []
   },
   "outputs": [],
   "source": [
    "#code = pydb.read_sql_query(\"SELECT * FROM __temp__.new_divorce_with_postcode LIMIT 10\")\n",
    "#code"
   ]
  },
  {
   "cell_type": "markdown",
   "id": "1b2820d6-e8a3-4a51-8c7b-a7c885f948ce",
   "metadata": {},
   "source": [
    "### Create the ons_postcode_data table\n",
    "<a name=\"ons_postcode_data\"></a>"
   ]
  },
  {
   "cell_type": "code",
   "execution_count": null,
   "id": "67e16324-085d-4d52-8d7e-a6e04e912e48",
   "metadata": {},
   "outputs": [],
   "source": [
    "#Removes spaces from postcode data column and filters by country code IN ('E92000001','W92000004')\n",
    "create_ons_postcode_data =f\"\"\"\n",
    "SELECT REPLACE(t1.pcd , ' ', '') AS PCD, \n",
    "t1.oslaua,\n",
    "t1.ctry\n",
    "\n",
    "FROM __temp__.ons_postcode t1\n",
    "\n",
    "WHERE t1.ctry IN ('E92000001','W92000004');\n",
    "\"\"\"\n",
    "pydb.create_temp_table(create_ons_postcode_data,'ons_postcode_data')"
   ]
  },
  {
   "cell_type": "code",
   "execution_count": null,
   "id": "46435f8f-76e8-483f-98d5-452dfb4f410d",
   "metadata": {
    "tags": []
   },
   "outputs": [],
   "source": [
    "#ons_postcode_data = pydb.read_sql_query(\"SELECT * from __temp__.ons_postcode_data LIMIT 10\")\n",
    "#ons_postcode_data"
   ]
  },
  {
   "cell_type": "markdown",
   "id": "1b7fe1bd-7b68-4b09-877b-81edd521f6cb",
   "metadata": {},
   "source": [
    "### Create the divorce_postcode_ons_match table\n",
    "<a name=\"divorce_postcode_ons_match\"></a>"
   ]
  },
  {
   "cell_type": "code",
   "execution_count": null,
   "id": "00e32b6c-59ea-4c0f-b78c-0068daea15ca",
   "metadata": {},
   "outputs": [],
   "source": [
    "#Adds the columns 'PCD' and 'oslaua' from the ons postcode data to the new_divorce_with_postcode table\n",
    "create_divorce_postcode_ons_match =f\"\"\"\n",
    "SELECT  t1.Year, \n",
    "    t1.Quarter, \n",
    "    t1.LINE1, \n",
    "    t1.LINE2, \n",
    "    t1.LINE3, \n",
    "    t1.LINE4, \n",
    "    t1.LINE5,\n",
    "    t1.LINE6,\n",
    "    t1.CONFDNTL,\n",
    "    t1.postcode,\n",
    "    t1.newpostcode, \n",
    "    t2.PCD, \n",
    "    t2.oslaua \n",
    "FROM ( SELECT Year, \n",
    "          Quarter, \n",
    "          LINE1, \n",
    "          LINE2, \n",
    "          LINE3, \n",
    "          LINE4, \n",
    "          LINE5,\n",
    "          LINE6,\n",
    "          CONFDNTL,\n",
    "          postcode,\n",
    "          REPLACE(newpostcode, ' ', '') AS newpostcode\n",
    "FROM __temp__.new_divorce_with_postcode) t1\n",
    "\n",
    "LEFT JOIN __temp__.ons_postcode_data t2 \n",
    "    ON (t1.newpostcode = t2.PCD);\n",
    "\"\"\"\n",
    "pydb.create_temp_table(create_divorce_postcode_ons_match,'divorce_postcode_ons_match')"
   ]
  },
  {
   "cell_type": "code",
   "execution_count": null,
   "id": "2f20b02c-2eb4-427b-a811-e0b9b8846f7d",
   "metadata": {
    "tags": []
   },
   "outputs": [],
   "source": [
    "#divorce_postcode_ons_match = pydb.read_sql_query(\"SELECT * from __temp__.divorce_postcode_ons_match LIMIT 10\")\n",
    "#divorce_postcode_ons_match"
   ]
  },
  {
   "cell_type": "markdown",
   "id": "af719c67-8365-421a-99e7-6c233457f5a8",
   "metadata": {},
   "source": [
    "### Create the divorce_postcode_la table\n",
    "<a name=\"divorce_postcode_la\"></a>"
   ]
  },
  {
   "cell_type": "code",
   "execution_count": null,
   "id": "b1149d5e-a88f-4495-8330-b819421d7ad2",
   "metadata": {},
   "outputs": [],
   "source": [
    "#Adds the columns 'county_ua' and 'country' from the divorce_county_ua_lookup table to the divorce_postcode_ons_match table\n",
    "create_divorce_postcode_la =f\"\"\"\n",
    "SELECT t1.Year, \n",
    "          t1.Quarter, \n",
    "          t1.LINE1, \n",
    "          t1.LINE2, \n",
    "          t1.LINE3, \n",
    "          t1.LINE4, \n",
    "          t1.LINE5,\n",
    "          t1.LINE6,\n",
    "          t1.CONFDNTL,\n",
    "          t1.postcode, \n",
    "          t1.newpostcode, \n",
    "          t1.PCD, \n",
    "          t1.oslaua, \n",
    "          t2.county_ua,\n",
    "          t2.country\n",
    "FROM __temp__.divorce_postcode_ons_match t1\n",
    "LEFT JOIN __temp__.divorce_county_ua_lookup t2 \n",
    "ON (t1.oslaua = t2.code);\n",
    "\n",
    "\"\"\"\n",
    "pydb.create_temp_table(create_divorce_postcode_la,'divorce_postcode_la')"
   ]
  },
  {
   "cell_type": "code",
   "execution_count": null,
   "id": "a480cac0-ecee-4a76-88bb-c11bd55242bd",
   "metadata": {
    "tags": []
   },
   "outputs": [],
   "source": [
    "#divorce_postcode_la = pydb.read_sql_query(\"SELECT * from __temp__.divorce_postcode_la LIMIT 10\")\n",
    "#divorce_postcode_la"
   ]
  },
  {
   "cell_type": "markdown",
   "id": "001e115d-93c5-4bf8-969b-966c47f03a01",
   "metadata": {},
   "source": [
    "### Create the divorce_la_c8 table\n",
    "<a name=\"divorce_la_c8\"></a>"
   ]
  },
  {
   "cell_type": "code",
   "execution_count": null,
   "id": "534b81fe-a799-434a-b007-6bfff11f406b",
   "metadata": {},
   "outputs": [],
   "source": [
    "#Creates a new column called 'county_ua2' to suppress the applicant's postcode if they request their postcode to be confidential\n",
    "#Uses a range of different conditions that need to be met in order to suppress the applicants postcode\n",
    "#Postcodes can also be marked as invalid/foreign/not given e.g if the newpostcode column is not empty and the PCD column is empty\n",
    "create_divorce_la_c8 =f\"\"\"\n",
    "SELECT *,\n",
    "CASE \n",
    "WHEN line1 is null AND line2 is null AND line3 is null AND line4 is null AND line5 is null AND line6 is null AND postcode is null and oslaua is null THEN 'Unknown'\n",
    "WHEN Line1 = '-' AND Line2 = '-' AND Postcode IS NULL and oslaua is null THEN 'Unknown'\n",
    "WHEN Line1 = '.' AND Line2 = '.' AND Line3 IS NULL AND Postcode IS NULL and oslaua is null THEN 'Unknown'\n",
    "WHEN (Line1 = 'X' OR Line1 = 'XX' OR Line1 = 'XXX' OR Line1 = 'XXXX' OR Line1 = 'XXXXX' or Line1 = 'XXXXXX' OR Line1 = 'XXXXXXX' or Line1 = 'XXXXXXXX') and Postcode is null and oslaua is null then 'Unknown'\n",
    "WHEN (Line1 = 'UNDISCLOSED' or Line1 = 'NA' OR Line1 = 'UNKNOWN' OR Line1 = 'UNKNOWN TO THE COURT' OR Line1 = 'UNKNONW' OR Line1 = 'DECEASED' OR Line1 = 'EMAIL' OR Line1 = 'N/A' OR Line1 = 'N/K' OR Line1 = 'NFA' OR Line1 = 'Y' OR Line1 = 'WITHELD' OR Line1 = 'NO' OR Line1 = 'NOT' OR Line1 = 'NOT GIVEN' OR Line1 = 'NOT AT THIS' OR Line1 = 'NOT DISCLOSED' OR Line1 = 'NOT KNOWN' OR Line1 = 'NOT PROVIDED' OR Line1 = 'NOT SUPPLIED' OR Line1 = 'NOT TO BE DISCLOSED' OR Line1 = 'NOT TO BE' OR Line1 = 'A' OR Line1 = 'ADDRES NOT TO BE DISCLOSED' OR Line1 = 'ADDRESS' OR Line1 = 'ADDRESS CONFIENTIAL' OR Line1 = 'ADDRESS DISCLOSED BY DWP' OR Line1 = 'ADDRESS DISLOSED' OR Line1 = 'ADDRESS HAS BEEN' OR Line1 = 'ADDRESS KNOWN' OR Line1 = 'ADDRESS KNOWN TO' OR Line1 = 'ADDRESS KNOWN TO COURT' OR Line1 = 'ADDRESS NEEDED (RETURN TO SENDER)' OR Line1 = 'ADDRESS NO TO BE DISCLOSED' OR Line1 = 'ADDRESS UNKNOWN' OR Line1 = 'B' OR Line1 = 'C' OR Line1 = 'CC' OR Line1 = 'C 8' OR Line1 = 'DISCLOSED' OR Line1 = 'DISCLOSED TO THE COURT' OR Line1 = 'XXXXXXXXXX' OR Line1 = 'WITHELD ADDRESS' OR Line1 = 'WITHHEALD' OR Line1 = 'TBC' OR Line1 = 'TEST' OR Line1 = 'SD' OR Line1 = 'RETURN BY THE GPO' OR Line1 = 'RETURNED' OR Line1 = 'NO FIXED' OR Line1 = 'NO ADDRESS' OR Line1 = 'NO ADDRESS.' OR Line1 = 'NO FIXED ABODE' OR Line1 = 'NO LONG AT ADDRESS' OR Line1 = '________________________' OR Line1 = 'DE' OR Line1 = 'DIED ON' OR Line1 = 'G' OR Line1 = 'USE' OR Line1 = '..ERROR' OR Line1 = 'DO NOT SEND' OR Line1 = 'DO NOT SEND OUT' OR Line1 = 'SEND' OR Line1 = 'SEND ALL PROCESS' OR Line1 = 'SEE' OR Line1 = 'SEE D80B' OR Line1 = 'EMAIL TO' OR Line1 = 'CONFIDENITAL' OR Line1 = 'A HOUSE' OR Line1 = 'A TREEHOUSE' OR Line1 = 'ADDRESS NOT' OR Line1 = 'ADDRESS NOT TO BE' OR Line1 = 'ADDRESS TO' OR Line1 = 'ADDRESS TO BE' OR Line1 = 'ADDRESS TO BE DISCLOSED' OR Line1 = 'ADDRESS TO REMAIN' OR Line1 = 'ADDRESSEE GONE AWAY' OR Line1 = '(UNKNOWN)' OR Line1 = '** LET FROM BARWELLS DATED 3.6.20**' OR Line1 = '***********NOT TO BE*****' OR Line1 = '****ADDRESS NOT DISCLOSED***') and Postcode is null and oslaua is null then 'Unknown'\n",
    "WHEN ((Line1 = '0' OR Line1 = '1' OR Line1 = '3' OR Line1 = '\"' OR Line1 = '''' OR Line1 = '''''' OR Line1 = '=' OR Line1 = '.' OR Line1 = '..' OR Line1 = '...' OR Line1 = '. . .' OR Line1 = '....' OR Line1 = '.,..' OR Line1 = '.....' OR Line1 = '..,..' OR Line1 = '......' OR Line1 = '........' OR Line1 = '.........' OR Line1 = '..........' OR Line1 = '...........' OR Line1 = '............' OR Line1 = '.............' OR Line1 = '..............' OR Line1 = '...............' OR Line1 = '................' OR Line1 = '.................' OR Line1 = '...................' OR Line1 = '....................' OR Line1 = '......................' OR Line1 = '-' OR Line1 = '--' OR Line1 = '---' OR Line1 = '----' OR Line1 = '------' OR Line1 = '--------' OR Line1 = '----------' OR Line1 = '--------------' OR Line1 = '-----------------------------' OR Line1 = '*' OR Line1 = '**' OR Line1 = '***' OR Line1 = '****' OR Line1 = '*****' OR Line1 = '*******' OR Line1 = '**********' OR Line1 = '******************' OR Line1 = '*********************' OR Line1 = '******************************' OR Line1 = '/' OR Line1 = ',' OR Line1 = ',,' OR Line1 = ':' OR Line1 = '::' OR Line1 = ';' OR Line1 = '_' OR Line1 = '>') AND \n",
    "(Line2 = '0' OR Line2 = '1' OR Line2 = '3' OR Line2 = '\"' OR Line2 = '''' OR Line2 = '''''' OR Line2 = '=' OR Line2 = '.' OR Line2 = '..' OR Line2 = '...' OR Line2 = '. . .' OR Line2 = '....' OR Line2 = '.,..' OR Line2 = '.....' OR Line2 = '..,..' OR Line2 = '......' OR Line2 = '........' OR Line2 = '.........' OR Line2 = '..........' OR Line2 = '...........' OR Line2 = '............' OR Line2 = '.............' OR Line2 = '..............' OR Line2 = '...............' OR Line2 = '................' OR Line2 = '.................' OR Line2 = '...................' OR Line2 = '....................' OR Line2 = '......................' OR Line2 = '-' OR Line2 = '--' OR Line2 = '---' OR Line2 = '----' OR Line2 = '------' OR Line2 = '--------' OR Line2 = '----------' OR Line2 = '--------------' OR Line2 = '-----------------------------' OR Line2 = '*' OR Line2 = '**' OR Line2 = '***' OR Line2 = '****' OR Line2 = '*****' OR Line2 = '*******' OR Line2 = '**********' OR Line2 = '******************' OR Line2 = '*********************' OR Line2 = '******************************' OR Line2 = '/' OR Line2 = ',' OR Line2 = ',,' OR Line2 = ':' OR Line2 = '::' OR Line2 = ';' OR Line2 = '_' OR Line2 = '>')) AND Postcode is null and oslaua is null then 'Unknown'\n",
    "WHEN ((Line1 = '\"' OR Line1 = '''' OR Line1 = '''''' OR Line1 = '=' OR Line1 = '.' OR Line1 = '..' OR Line1 = '...' OR Line1 = '. . .' OR Line1 = '....' OR Line1 = '.,..' OR Line1 = '.....' OR Line1 = '..,..' OR Line1 = '......' OR Line1 = '........' OR Line1 = '.........' OR Line1 = '..........' OR Line1 = '...........' OR Line1 = '............' OR Line1 = '.............' OR Line1 = '..............' OR Line1 = '...............' OR Line1 = '................' OR Line1 = '.................' OR Line1 = '...................' OR Line1 = '....................' OR Line1 = '......................' OR Line1 = '-' OR Line1 = '--' OR Line1 = '---' OR Line1 = '----' OR Line1 = '------' OR Line1 = '--------' OR Line1 = '----------' OR Line1 = '--------------' OR Line1 = '-----------------------------' OR Line1 = '*' OR Line1 = '**' OR Line1 = '***' OR Line1 = '****' OR Line1 = '*****' OR Line1 = '*******' OR Line1 = '**********' OR Line1 = '******************' OR Line1 = '*********************' OR Line1 = '******************************' OR Line1 = '/' OR Line1 = ',' OR Line1 = ',,' OR Line1 = ':' OR Line1 = '::' OR Line1 = ';' OR Line1 = '_' OR Line1 = '>') OR \n",
    "(Line2 = '\"' OR Line2 = '''' OR Line2 = '''''' OR Line2 = '=' OR Line2 = '.' OR Line2 = '..' OR Line2 = '...' OR Line2 = '. . .' OR Line2 = '....' OR Line2 = '.,..' OR Line2 = '.....' OR Line2 = '..,..' OR Line2 = '......' OR Line2 = '........' OR Line2 = '.........' OR Line2 = '..........' OR Line2 = '...........' OR Line2 = '............' OR Line2 = '.............' OR Line2 = '..............' OR Line2 = '...............' OR Line2 = '................' OR Line2 = '.................' OR Line2 = '...................' OR Line2 = '....................' OR Line2 = '......................' OR Line2 = '-' OR Line2 = '--' OR Line2 = '---' OR Line2 = '----' OR Line2 = '------' OR Line2 = '--------' OR Line2 = '----------' OR Line2 = '--------------' OR Line2 = '-----------------------------' OR Line2 = '*' OR Line2 = '**' OR Line2 = '***' OR Line2 = '****' OR Line2 = '*****' OR Line2 = '*******' OR Line2 = '**********' OR Line2 = '******************' OR Line2 = '*********************' OR Line2 = '******************************' OR Line2 = '/' OR Line2 = ',' OR Line2 = ',,' OR Line2 = ':' OR Line2 = '::' OR Line2 = ';' OR Line2 = '_' OR Line2 = '>')) AND Postcode is null and oslaua is null then 'Unknown'\n",
    "\n",
    "\n",
    "WHEN CONFDNTL = 'KEEP' AND (newpostcode is not null AND PCD is not null) THEN 'Confidentiality requested' \n",
    "WHEN CONFDNTL = 'Y' AND (newpostcode is not null AND PCD is not null) THEN 'Confidentiality requested'\n",
    "WHEN (Line1 = 'X' OR Line1 = 'XX' OR Line1 = 'XXX' OR Line1 = 'XXXX' OR Line1 = 'XXXXX' or Line1 = 'XXXXXX' OR Line1 = 'XXXXXXX' or Line1 = 'XXXXXXXX') AND (newpostcode is not null AND PCD is not null) then 'Confidentiality requested'\n",
    "WHEN strpos(Line1,'WITHHELD') <> 0 AND (newpostcode is not null AND PCD is not null) then 'Confidentiality requested'\n",
    "WHEN strpos(Line1,'CONFIDENT') <> 0 AND (newpostcode is not null AND PCD is not null) then 'Confidentiality requested'\n",
    "WHEN strpos(Line2,'CONFIDENT') <> 0 AND (newpostcode is not null AND PCD is not null) then 'Confidentiality requested'\n",
    "WHEN strpos(Line1,'C8') <> 0 AND (newpostcode is not null AND PCD is not null) then 'Confidentiality requested'\n",
    "WHEN strpos(Line2,'C8') <> 0 AND (newpostcode is not null AND PCD is not null) then 'Confidentiality requested'\n",
    "\n",
    "WHEN Newpostcode IS NOT NULL AND PCD IS NULL then 'Postcode invalid/not given or foreign'\n",
    "WHEN Newpostcode IS NOT NULL AND PCD IS NOT NULL AND county_ua IS NULL then 'Postcode invalid/not given or foreign'\n",
    "WHEN county_ua IS NULL THEN 'Postcode invalid/not given or foreign'\n",
    "\n",
    "ELSE county_ua \n",
    "END county_ua2\n",
    "FROM __temp__.divorce_postcode_la;\n",
    "\n",
    "\"\"\"\n",
    "pydb.create_temp_table(create_divorce_la_c8,'divorce_la_c8')"
   ]
  },
  {
   "cell_type": "code",
   "execution_count": null,
   "id": "52e79f4b-4a76-4486-8f80-b02e780fc7bd",
   "metadata": {
    "tags": []
   },
   "outputs": [],
   "source": [
    "#divorce_la_c8 = pydb.read_sql_query(\"SELECT * from __temp__.divorce_la_c8 LIMIT 10\")\n",
    "#divorce_la_c8"
   ]
  },
  {
   "cell_type": "markdown",
   "id": "397a8e54-cdef-4278-90bd-cf93e9dfa0d4",
   "metadata": {},
   "source": [
    "#### Check Confidentiality Filter"
   ]
  },
  {
   "cell_type": "code",
   "execution_count": null,
   "id": "960842bc-c9a0-4924-a77b-72bfe9e840ea",
   "metadata": {},
   "outputs": [],
   "source": [
    "#Check that makes sure the confidentiality filters are working properly\n",
    "check = pydb.read_sql_query(\"SELECT DISTINCT * FROM __temp__.DIVORCE_LA_C8 WHERE CONFDNTL = 'Y' or CONFDNTL = 'KEEP';\")\n",
    "check"
   ]
  },
  {
   "cell_type": "markdown",
   "id": "9fbfb24b-f121-437e-a0b4-fd3d93dfef30",
   "metadata": {},
   "source": [
    "### Create the divorce_county table\n",
    "<a name=\"divorce_county\"></a>"
   ]
  },
  {
   "cell_type": "code",
   "execution_count": null,
   "id": "3cb6bb6f-bc04-40a4-a353-a085bab259fe",
   "metadata": {},
   "outputs": [],
   "source": [
    "#Renaming the 'county_ua2' column to 'county_ua', and concatinating both Cornwall UA to Isles of Scilly UA\n",
    "#Copying over any confidential, invalid, not given, or foreign postcodes to country column.\n",
    "create_divorce_county =f\"\"\"\n",
    "SELECT year,\n",
    "quarter,\n",
    "line1,\n",
    "line2,\n",
    "line3,\n",
    "line4,\n",
    "line5,\n",
    "line6,\n",
    "confdntl,\n",
    "postcode, \n",
    "newpostcode,\n",
    "pcd,\n",
    "oslaua,\n",
    "\n",
    "CASE \n",
    "WHEN county_ua2 = 'Isles of Scilly UA' then 'Cornwall & Isles of Scilly'\n",
    "WHEN county_ua2 = 'Cornwall UA' then 'Cornwall & Isles of Scilly'\n",
    "\n",
    "ELSE county_ua2 \n",
    "END county_ua,\n",
    "\n",
    "CASE \n",
    "WHEN county_ua2 = 'Confidentiality requested' then 'Confidentiality requested'\n",
    "WHEN county_ua2 = 'Postcode invalid/not given or foreign' then 'Postcode invalid/not given or foreign'\n",
    "WHEN county_ua2 = 'Unknown' then 'Unknown'\n",
    "ELSE country\n",
    "END country\n",
    "\n",
    "FROM __temp__.divorce_la_c8;\n",
    "\n",
    "\"\"\"\n",
    "pydb.create_temp_table(create_divorce_county,'divorce_county')"
   ]
  },
  {
   "cell_type": "code",
   "execution_count": null,
   "id": "fccae0c9-efa9-4365-9e2f-fe42319aee36",
   "metadata": {
    "tags": []
   },
   "outputs": [],
   "source": [
    "#divorce_county = pydb.read_sql_query(\"SELECT * from __temp__.divorce_county LIMIT 10\")\n",
    "#divorce_county"
   ]
  },
  {
   "cell_type": "markdown",
   "id": "cb5c927f-6c68-4cf2-9ed7-0afdb0b00ab7",
   "metadata": {},
   "source": [
    "### Create the petitioner_summary_la table\n",
    "<a name=\"petitioner_summary_la\"></a>"
   ]
  },
  {
   "cell_type": "code",
   "execution_count": null,
   "id": "6b114e6f-390a-4b0a-b63a-25785f32f7c1",
   "metadata": {},
   "outputs": [],
   "source": [
    "#Calculates the number of county_ua grouping by year, county_ua and country\n",
    "#Filters by 2010 < year < current year\n",
    "create_petitioner_summary_la =f\"\"\"\n",
    "SELECT DISTINCT 'Petitioner' as Type,\n",
    "t1.year,\n",
    "t1.country,\n",
    "t1.county_ua,\n",
    "(COUNT(t1.county_ua)) AS COUNT_of_County\n",
    "\n",
    "FROM __temp__.divorce_county t1\n",
    "\n",
    "WHERE year > 2010\n",
    "AND year < {current_year}\n",
    "\n",
    "GROUP BY t1.year,\n",
    "t1.county_ua,\n",
    "t1.country;\n",
    "\n",
    "\"\"\"\n",
    "pydb.create_temp_table(create_petitioner_summary_la,'petitioner_summary_la')"
   ]
  },
  {
   "cell_type": "code",
   "execution_count": null,
   "id": "1d4fbd3e-2c9e-4def-956d-27793edac3d7",
   "metadata": {
    "tags": []
   },
   "outputs": [],
   "source": [
    "petitioner_summary_la = pydb.read_sql_query(\"SELECT * from __temp__.petitioner_summary_la\")\n",
    "petitioner_summary_la"
   ]
  },
  {
   "cell_type": "code",
   "execution_count": null,
   "id": "f378850b-6bc7-4180-b45b-53aa381a1c78",
   "metadata": {},
   "outputs": [],
   "source": [
    "#Check that counts of county \n",
    "petitioner_summary_la[['count_of_county']].sum()"
   ]
  },
  {
   "cell_type": "code",
   "execution_count": null,
   "id": "c03dd5b7-aadd-403e-be2e-1fda586b236d",
   "metadata": {},
   "outputs": [],
   "source": [
    "#Orders the data by year, country, and county_ua\n",
    "final_output = pydb.read_sql_query(\"\"\"\n",
    "SELECT *\n",
    "from __temp__.petitioner_summary_la\n",
    "ORDER BY year,\n",
    "country,\n",
    "county_ua\n",
    "\"\"\")"
   ]
  },
  {
   "cell_type": "code",
   "execution_count": null,
   "id": "c6cde5fa-98a6-4cc6-835e-ac521959dd30",
   "metadata": {},
   "outputs": [],
   "source": [
    "#Export the final csv\n",
    "final_output.to_csv(\"s3://alpha-family-data/CSVs/Divorce/CSV Matrimonial Matters County & UA Annual.csv\", index = False)"
   ]
  }
 ],
 "metadata": {
  "kernelspec": {
   "display_name": "Nixon FOI (Python3)",
   "language": "python",
   "name": "venv_nixonfoi"
  },
  "language_info": {
   "codemirror_mode": {
    "name": "ipython",
    "version": 3
   },
   "file_extension": ".py",
   "mimetype": "text/x-python",
   "name": "python",
   "nbconvert_exporter": "python",
   "pygments_lexer": "ipython3",
   "version": "3.9.6"
  }
 },
 "nbformat": 4,
 "nbformat_minor": 5
}
