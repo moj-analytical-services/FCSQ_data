{
 "cells": [
  {
   "cell_type": "code",
   "execution_count": 2,
   "id": "694d5f4b-4709-426a-ba4f-af5f8e472b02",
   "metadata": {},
   "outputs": [],
   "source": [
    "import numpy as np\n",
    "import pandas as pd\n",
    "import pydbtools as pydb"
   ]
  },
  {
   "cell_type": "code",
   "execution_count": 8,
   "id": "56b78e05-4794-4f54-9cc4-d0c1ec2a739c",
   "metadata": {},
   "outputs": [],
   "source": [
    "def add_count(Name,Count,validation_checks):\n",
    "    if validation_checks.size!=0:\n",
    "        validation_checks = np.vstack([validation_checks,[Name,Count]])\n",
    "    else:\n",
    "        validation_checks=np.array([Name,Count])\n",
    "        validation_checks = validation_checks.reshape(1,2)\n",
    "\n",
    "\n",
    "    return validation_checks"
   ]
  },
  {
   "cell_type": "code",
   "execution_count": 9,
   "id": "428c524b-444b-4f5e-a6f4-a95d221e8ec2",
   "metadata": {},
   "outputs": [],
   "source": [
    "def get_count(Name,temp_flag, validation_checks):\n",
    "    if temp_flag:\n",
    "        database = '__temp__'\n",
    "    else:\n",
    "        database = 'fcsq'\n",
    "    count = pydb.read_sql_query(f\"select count(*) as count from {database}.{Name}\")['count'][0]\n",
    "    validation_checks = add_count(Name,count,validation_checks)\n",
    "    return validation_checks"
   ]
  },
  {
   "cell_type": "code",
   "execution_count": 14,
   "id": "68ef7db4-2116-4e37-8f6f-427e496945ba",
   "metadata": {},
   "outputs": [],
   "source": [
    "def get_count_2(Name,validation_checks):\n",
    "    try:\n",
    "        count = pydb.read_sql_query(f\"select count(*) as count from fcsq.{Name}\")['count'][0]\n",
    "    except:\n",
    "        count = pydb.read_sql_query(f\"select count(*) as count from __temp__.{Name}\")['count'][0]\n",
    "    validation_checks = add_count(Name,count,validation_checks)\n",
    "    return validation_checks"
   ]
  },
  {
   "cell_type": "code",
   "execution_count": 17,
   "id": "e2e39620-c28b-4ff4-8a2f-872a8e8a602d",
   "metadata": {},
   "outputs": [
    {
     "data": {
      "text/html": [
       "<div>\n",
       "<style scoped>\n",
       "    .dataframe tbody tr th:only-of-type {\n",
       "        vertical-align: middle;\n",
       "    }\n",
       "\n",
       "    .dataframe tbody tr th {\n",
       "        vertical-align: top;\n",
       "    }\n",
       "\n",
       "    .dataframe thead th {\n",
       "        text-align: right;\n",
       "    }\n",
       "</style>\n",
       "<table border=\"1\" class=\"dataframe\">\n",
       "  <thead>\n",
       "    <tr style=\"text-align: right;\">\n",
       "      <th></th>\n",
       "      <th>Name</th>\n",
       "      <th>Count</th>\n",
       "    </tr>\n",
       "  </thead>\n",
       "  <tbody>\n",
       "    <tr>\n",
       "      <th>0</th>\n",
       "      <td>Adopt_applications_data_sorted</td>\n",
       "      <td>175169</td>\n",
       "    </tr>\n",
       "    <tr>\n",
       "      <th>1</th>\n",
       "      <td>adopt_orders_data_sorted</td>\n",
       "      <td>150507</td>\n",
       "    </tr>\n",
       "    <tr>\n",
       "      <th>2</th>\n",
       "      <td>ADOPT_APPS_AND_ORDERS_MATCH</td>\n",
       "      <td>147875</td>\n",
       "    </tr>\n",
       "    <tr>\n",
       "      <th>3</th>\n",
       "      <td>Adopt_Applicant_Info</td>\n",
       "      <td>253131</td>\n",
       "    </tr>\n",
       "    <tr>\n",
       "      <th>4</th>\n",
       "      <td>adopt_respondent_info</td>\n",
       "      <td>286085</td>\n",
       "    </tr>\n",
       "    <tr>\n",
       "      <th>5</th>\n",
       "      <td>adopt_applicants_3</td>\n",
       "      <td>250761</td>\n",
       "    </tr>\n",
       "  </tbody>\n",
       "</table>\n",
       "</div>"
      ],
      "text/plain": [
       "                             Name   Count\n",
       "0  Adopt_applications_data_sorted  175169\n",
       "1        adopt_orders_data_sorted  150507\n",
       "2     ADOPT_APPS_AND_ORDERS_MATCH  147875\n",
       "3            Adopt_Applicant_Info  253131\n",
       "4           adopt_respondent_info  286085\n",
       "5              adopt_applicants_3  250761"
      ]
     },
     "execution_count": 17,
     "metadata": {},
     "output_type": "execute_result"
    }
   ],
   "source": [
    "list_of_tables = [\n",
    "    ['Adopt_applications_data_sorted',False],\n",
    "    ['adopt_orders_data_sorted',False],\n",
    "    ['ADOPT_APPS_AND_ORDERS_MATCH',False],\n",
    "    ['Adopt_Applicant_Info',False],\n",
    "    ['adopt_respondent_info',False],\n",
    "    ['adopt_applicants_3',True]\n",
    "]\n",
    "validation_checks = np.array([])\n",
    "\n",
    "for table in list_of_tables:\n",
    "    validation_checks = get_count(table[0],table[1],validation_checks)\n",
    "    \n",
    "    \n",
    "\n",
    "checks_df = pd.DataFrame(validation_checks,columns=['Name','Count'])\n",
    "checks_df"
   ]
  },
  {
   "cell_type": "code",
   "execution_count": 20,
   "id": "f88ea004-f638-4daa-a0e3-8afd4e6be7b5",
   "metadata": {},
   "outputs": [
    {
     "data": {
      "text/html": [
       "<div>\n",
       "<style scoped>\n",
       "    .dataframe tbody tr th:only-of-type {\n",
       "        vertical-align: middle;\n",
       "    }\n",
       "\n",
       "    .dataframe tbody tr th {\n",
       "        vertical-align: top;\n",
       "    }\n",
       "\n",
       "    .dataframe thead th {\n",
       "        text-align: right;\n",
       "    }\n",
       "</style>\n",
       "<table border=\"1\" class=\"dataframe\">\n",
       "  <thead>\n",
       "    <tr style=\"text-align: right;\">\n",
       "      <th></th>\n",
       "      <th>Name</th>\n",
       "      <th>Count</th>\n",
       "    </tr>\n",
       "  </thead>\n",
       "  <tbody>\n",
       "    <tr>\n",
       "      <th>0</th>\n",
       "      <td>Adopt_applications_data_sorted</td>\n",
       "      <td>175169</td>\n",
       "    </tr>\n",
       "    <tr>\n",
       "      <th>1</th>\n",
       "      <td>adopt_orders_data_sorted</td>\n",
       "      <td>150507</td>\n",
       "    </tr>\n",
       "    <tr>\n",
       "      <th>2</th>\n",
       "      <td>ADOPT_APPS_AND_ORDERS_MATCH</td>\n",
       "      <td>147875</td>\n",
       "    </tr>\n",
       "    <tr>\n",
       "      <th>3</th>\n",
       "      <td>Adopt_Applicant_Info</td>\n",
       "      <td>253131</td>\n",
       "    </tr>\n",
       "    <tr>\n",
       "      <th>4</th>\n",
       "      <td>adopt_respondent_info</td>\n",
       "      <td>286085</td>\n",
       "    </tr>\n",
       "    <tr>\n",
       "      <th>5</th>\n",
       "      <td>adopt_applicants_3</td>\n",
       "      <td>0</td>\n",
       "    </tr>\n",
       "  </tbody>\n",
       "</table>\n",
       "</div>"
      ],
      "text/plain": [
       "                             Name   Count\n",
       "0  Adopt_applications_data_sorted  175169\n",
       "1        adopt_orders_data_sorted  150507\n",
       "2     ADOPT_APPS_AND_ORDERS_MATCH  147875\n",
       "3            Adopt_Applicant_Info  253131\n",
       "4           adopt_respondent_info  286085\n",
       "5              adopt_applicants_3       0"
      ]
     },
     "execution_count": 20,
     "metadata": {},
     "output_type": "execute_result"
    }
   ],
   "source": [
    "list_of_tables = ['Adopt_applications_data_sorted',\n",
    "                  'adopt_orders_data_sorted',\n",
    "                  'ADOPT_APPS_AND_ORDERS_MATCH',\n",
    "                  'Adopt_Applicant_Info',\n",
    "                  'adopt_respondent_info',\n",
    "                  'adopt_applicants_3']\n",
    "\n",
    "validation_checks = np.array([])\n",
    "\n",
    "for table in list_of_tables:\n",
    "    validation_checks = get_count_2(table,validation_checks)\n",
    "\n",
    "checks_df = pd.DataFrame(validation_checks,columns=['Name','Count'])\n",
    "checks_df"
   ]
  },
  {
   "cell_type": "code",
   "execution_count": null,
   "id": "879b3e58-a77c-4c65-8ef3-3582726551fb",
   "metadata": {},
   "outputs": [],
   "source": []
  }
 ],
 "metadata": {
  "kernelspec": {
   "display_name": "venvname",
   "language": "python",
   "name": "venvname"
  },
  "language_info": {
   "codemirror_mode": {
    "name": "ipython",
    "version": 3
   },
   "file_extension": ".py",
   "mimetype": "text/x-python",
   "name": "python",
   "nbconvert_exporter": "python",
   "pygments_lexer": "ipython3",
   "version": "3.9.6"
  }
 },
 "nbformat": 4,
 "nbformat_minor": 5
}
