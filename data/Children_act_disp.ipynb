{
 "cells": [
  {
   "cell_type": "markdown",
   "metadata": {},
   "source": [
    "# Sql codes to Python\n",
    "# Childrens Act Disposals"
   ]
  },
  {
   "cell_type": "code",
   "execution_count": null,
   "metadata": {},
   "outputs": [],
   "source": [
    "# libraries\n",
    "#import pandas as pd\n",
    "import pydbtools as pydb\n",
    "import boto3\n",
    "from datetime import datetime\n",
    "#import re"
   ]
  },
  {
   "cell_type": "code",
   "execution_count": null,
   "metadata": {},
   "outputs": [],
   "source": [
    "# Structured  dataframes\n",
    "pd.set_option(\"display.max_columns\", 100)\n",
    "pd.set_option(\"display.width\", 900)\n",
    "pd.set_option(\"display.max_colwidth\", 200)"
   ]
  },
  {
   "cell_type": "code",
   "execution_count": null,
   "metadata": {},
   "outputs": [],
   "source": [
    "# Assigning databases and S3 bucket\n",
    "db1 = \"familyman_dev_v2\"\n",
    "fcsq_db = \"fcsq\"\n",
    "s3 = boto3.resource(\"s3\")\n",
    "bucket = s3.Bucket(\"alpha-family-data\")\n",
    "snapshot_date = \"2021-08-19\""
   ]
  },
  {
   "cell_type": "markdown",
   "metadata": {},
   "source": [
    "# Events Part1"
   ]
  },
  {
   "cell_type": "code",
   "execution_count": null,
   "metadata": {},
   "outputs": [],
   "source": [
    "#checking if table exist then drops for another table to be created thereafter.\n",
    "drop_CH_ACT_ORDS_EVENTS_1 = f\"\"\"\n",
    "DROP TABLE IF EXISTS fcsq.CH_ACT_ORDS_EVENTS_1;\n",
    "\"\"\"\n",
    "# confirming the table existence\n",
    "pydb.read_sql_query(drop_CH_ACT_ORDS_EVENTS_1)\n",
    "\n",
    "# clean up previous children_act_disposals files\n",
    "bucket.objects.filter(Prefix=\"fcsq_processing/childrens_act/CH_ACT_ORDS_EVENTS_1/\").delete()"
   ]
  },
  {
   "cell_type": "code",
   "execution_count": null,
   "metadata": {},
   "outputs": [],
   "source": [
    "# creating table childrens_act_disposals afresh.\n",
    "create_CH_ACT_ORDS_EVENTS_1 = f\"\"\" CREATE TABLE IF NOT EXISTS fcsq.CH_ACT_ORDS_EVENTS_1\n",
    "WITH (format = 'PARQUET', external_location =\n",
    "'s3://alpha-family-data/fcsq_processing/childrens_act/CH_ACT_ORDS_EVENTS_1') AS\n",
    "SELECT a.event,\n",
    "    a.case_number,\n",
    "    a.event_model,\n",
    "    a.receipt_date,\n",
    "    a.entry_date,\n",
    "    a.error as Event_error,\n",
    "    a.creating_court,\n",
    "    b.code as Court_code\n",
    "   \n",
    "\n",
    "FROM {db1}.events a\n",
    "INNER JOIN {db1}.courts_mv b ON a.creating_court = b.court\n",
    "\n",
    "WHERE ((a.event_model IN ('C23','C25','C26','C27','C28','C29',\n",
    "'C30','C31','C32A','C32B','C33','C34A','C34B','C35A','C35B','C37',\n",
    "'C38A','C38B','C39','C40','C42','C43A','C44A','C44B','C45A','C45B',\n",
    "'C53','C80','C81','C82') AND a.error = 'N')\n",
    "OR (a.event_model = 'CPA' AND a.error = 'N'))\n",
    "AND a.mojap_snapshot_date = date '{snapshot_date}'\n",
    "AND b.mojap_snapshot_date = date '{snapshot_date}'\n",
    "\"\"\"\n"
   ]
  },
  {
   "cell_type": "code",
   "execution_count": null,
   "metadata": {},
   "outputs": [],
   "source": [
    "# reading the table created\n",
    "AA=pydb.read_sql_query(create_CH_ACT_ORDS_EVENTS_1)\n"
   ]
  },
  {
   "cell_type": "code",
   "execution_count": null,
   "metadata": {},
   "outputs": [],
   "source": [
    "# Reading the number of counts\n",
    "counter = pydb.read_sql_query(\"select count(*) as count from fcsq.CH_ACT_ORDS_EVENTS_1\")\n",
    "counter"
   ]
  },
  {
   "cell_type": "markdown",
   "metadata": {},
   "source": [
    "# Events Part2"
   ]
  },
  {
   "cell_type": "code",
   "execution_count": null,
   "metadata": {},
   "outputs": [],
   "source": [
    "#checking if table exist then drops for another table to be created thereafter.\n",
    "drop_CH_ACT_ORDS_EVENTS_2 = f\"\"\"\n",
    "DROP TABLE IF EXISTS fcsq.CH_ACT_ORDS_EVENTS_2;\n",
    "\"\"\"\n",
    "# confirming the table existence\n",
    "pydb.read_sql_query(drop_CH_ACT_ORDS_EVENTS_2)\n",
    "\n",
    "# clean up previous children_act_disposals files\n",
    "bucket.objects.filter(Prefix=\"fcsq_processing/childrens_act/CH_ACT_ORDS_EVENTS_2/\").delete()"
   ]
  },
  {
   "cell_type": "code",
   "execution_count": null,
   "metadata": {},
   "outputs": [],
   "source": [
    "# creating table childrens_act_disposals2 afresh.\n",
    "creating_CH_ACT_ORDS_EVENTS_2 = f\"\"\" CREATE TABLE IF NOT EXISTS fcsq.CH_ACT_ORDS_EVENTS_2\n",
    "WITH (format = 'PARQUET', external_location =\n",
    "'s3://alpha-family-data/fcsq_processing/childrens_act/CH_ACT_ORDS_EVENTS_2') AS\n",
    "SELECT a.event,\n",
    "    a.case_number,\n",
    "    a.event_model,\n",
    "    a.receipt_date,\n",
    "    a.entry_date,\n",
    "    a.error as Event_error,\n",
    "    a.creating_court,\n",
    "    b.code as Court_code,\n",
    "    c.field_model,\n",
    "    c.value\n",
    "\n",
    "FROM ({db1}.events a\n",
    "INNER JOIN {db1}.event_fields c\n",
    "ON a.event = c.event)\n",
    "INNER JOIN {db1}.courts_mv b ON a.creating_court = b.court\n",
    "\n",
    "WHERE ((((a.error) = 'N')\n",
    "AND ((c.field_model) IN ('C21_3', 'C24_6', 'C36_5', 'C43_5', 'ORDNOM_5', 'ORDREF_5')))\n",
    "OR (((a.error) = 'N')\n",
    "AND ((c.field_model) IN ('C21_3', 'C24_6', 'C36_5', 'C43_5', 'ORDNOM_5', 'ORDREF_5'))))\n",
    "AND a.mojap_snapshot_date = date '{snapshot_date}'\n",
    "AND b.mojap_snapshot_date = date '{snapshot_date}'\n",
    "AND c.mojap_snapshot_date = date '{snapshot_date}'\n",
    "\"\"\""
   ]
  },
  {
   "cell_type": "code",
   "execution_count": null,
   "metadata": {},
   "outputs": [],
   "source": [
    "# reading the table created\n",
    "pydb.read_sql_query(creating_CH_ACT_ORDS_EVENTS_2)"
   ]
  },
  {
   "cell_type": "code",
   "execution_count": null,
   "metadata": {},
   "outputs": [],
   "source": [
    "# Reading the number of counts\n",
    "counter = pydb.read_sql_query(\"select count(*) as count from fcsq.CH_ACT_ORDS_EVENTS_2\")\n",
    "counter"
   ]
  },
  {
   "cell_type": "markdown",
   "metadata": {},
   "source": [
    "# IN respect of which children"
   ]
  },
  {
   "cell_type": "code",
   "execution_count": null,
   "metadata": {},
   "outputs": [],
   "source": [
    "#checking if table exist then drops for another table to be created thereafter.\n",
    "drop_In_respect_of_which_children = f\"\"\"\n",
    "DROP TABLE IF EXISTS fcsq.In_respect_of_which_children;\n",
    "\"\"\"\n",
    "# confirming the table existence\n",
    "pydb.read_sql_query(drop_In_respect_of_which_children)\n",
    "\n",
    "# clean up previous children_act_disposals files\n",
    "bucket.objects.filter(Prefix=\"fcsq_processing/childrens_act/In_respect_of_which_children/\").delete()"
   ]
  },
  {
   "cell_type": "code",
   "execution_count": null,
   "metadata": {},
   "outputs": [],
   "source": [
    "# creating table the In_respect_of_which_children afresh.\n",
    "Creating_In_respect_of_which_children = f\"\"\" CREATE TABLE IF NOT EXISTS fcsq.In_respect_of_which_children\n",
    "WITH (format = 'PARQUET', external_location =\n",
    "'s3://alpha-family-data/fcsq_processing/childrens_act/In_respect_of_which_children') AS\n",
    "SELECT a.event,\n",
    "    a.case_number,\n",
    "    a.event_model,\n",
    "    a.receipt_date,\n",
    "    a.error as Event_error,\n",
    "    a.creating_court,\n",
    "    b.code as Court_code,\n",
    "    c.field_model,\n",
    "    c.value\n",
    "\n",
    "FROM ({db1}.events a\n",
    "INNER JOIN {db1}.event_fields c\n",
    "ON a.event = c.event)\n",
    "INNER JOIN {db1}.courts_mv b ON a.creating_court = b.court\n",
    "\n",
    "WHERE ((((a.error) = 'N') AND  ((c.field_model))\n",
    "IN\n",
    "('C21_CH','C23_CH','C24_CH','C25_CH','C26_CH','C27_CH','C28_CH','C29_CH',\n",
    "'C30_CH','C31_CH','C32A_CH','C32B_CH','C33_CH','C34A_CH',\n",
    "'C34B_CH','C35A_CH','C35B_CH','C36_CH','C37_CH','C38A_CH',\n",
    "'C38B_CH','C39_CH','C40_CH','C42_CH','C43_CH',\n",
    "'C43A_CH','C44A_CH','C44B_CH','C45A_CH','C45B_CH','C53_CH',\n",
    "'C80_CH','C81_CH','C82_CH','CPA_CH','ORDNOM_CH','ORDREF_CH')))\n",
    "AND a.mojap_snapshot_date = date '{snapshot_date}'\n",
    "AND b.mojap_snapshot_date = date '{snapshot_date}'\n",
    "AND c.mojap_snapshot_date = date '{snapshot_date}'\n",
    "\"\"\""
   ]
  },
  {
   "cell_type": "code",
   "execution_count": null,
   "metadata": {},
   "outputs": [],
   "source": [
    "# reading the table created\n",
    "pydb.read_sql_query(Creating_In_respect_of_which_children)"
   ]
  },
  {
   "cell_type": "code",
   "execution_count": null,
   "metadata": {},
   "outputs": [],
   "source": [
    "# Reading the number of counts\n",
    "counter = pydb.read_sql_query(\"select count(*) as count from fcsq.In_respect_of_which_children\")\n",
    "counter"
   ]
  },
  {
   "cell_type": "markdown",
   "metadata": {},
   "source": [
    "# Consent_data"
   ]
  },
  {
   "cell_type": "code",
   "execution_count": null,
   "metadata": {},
   "outputs": [],
   "source": [
    "#checking if table exist then drops for another table to be created thereafter.\n",
    "drop_Consent_data = f\"\"\"\n",
    "DROP TABLE IF EXISTS fcsq.Consent_data;\n",
    "\"\"\"\n",
    "# confirming the table existence\n",
    "pydb.read_sql_query(drop_Consent_data)\n",
    "\n",
    "# clean up previous children_act_disposals files\n",
    "bucket.objects.filter(Prefix=\"fcsq_processing/childrens_act/Consent_data/\").delete()"
   ]
  },
  {
   "cell_type": "code",
   "execution_count": null,
   "metadata": {},
   "outputs": [],
   "source": [
    "# creating table for consent data afresh.\n",
    "Creating_Consent_Data = f\"\"\" CREATE TABLE IF NOT EXISTS fcsq.Consent_data\n",
    "WITH (format = 'PARQUET', external_location =\n",
    "'s3://alpha-family-data/fcsq_processing/childrens_act/Consent_data') AS\n",
    "SELECT a.event,\n",
    "    a.case_number,\n",
    "    a.event_model,\n",
    "    a.receipt_date,\n",
    "    a.error as Event_error,\n",
    "    a.creating_court,\n",
    "    b.code as Court_code,\n",
    "    c.field_model,\n",
    "    c.value\n",
    "\n",
    "FROM ({db1}.events a\n",
    "INNER JOIN {db1}.event_fields c\n",
    "ON a.event = c.event)\n",
    "INNER JOIN {db1}.courts_mv b ON a.creating_court = b.court\n",
    "\n",
    "WHERE (((a.error) = 'N') AND  ((c.field_model) \n",
    "IN ('C21_CO','C23_CO','C24_CO','C25_CO','C26_CO','C27_CO',\n",
    "'C28_CO','C29_CO','C30_CO','C31_CO','C32A_CO','C32B_CO',\n",
    "'C33_CO','C34A_CO','C34B_CO','C35A_CO','C35B_CO','C36_CO',\n",
    "'C37_CO','C38A_CO','C38B_CO','C39_CO','C40_CO','C42_CO','C43_CO',\n",
    "'C43A_CO','C44A_CO','C44B_CO','C45A_CO','C45B_CO',\n",
    "'C53_CO','C80_CO','C81_CO','C82_CO','CPA_CO','ORDNOM_CO','ORDREF_CO')))\n",
    "AND a.mojap_snapshot_date = date '{snapshot_date}'\n",
    "AND b.mojap_snapshot_date = date '{snapshot_date}'\n",
    "AND c.mojap_snapshot_date = date '{snapshot_date}'\n",
    "\"\"\""
   ]
  },
  {
   "cell_type": "code",
   "execution_count": null,
   "metadata": {},
   "outputs": [],
   "source": [
    "# reading the table created\n",
    "pydb.read_sql_query(Creating_Consent_Data)"
   ]
  },
  {
   "cell_type": "code",
   "execution_count": null,
   "metadata": {},
   "outputs": [],
   "source": [
    "# Reading the number of counts\n",
    "counter = pydb.read_sql_query(\"select count(*) as count from fcsq.Consent_data\")\n",
    "counter"
   ]
  },
  {
   "cell_type": "markdown",
   "metadata": {},
   "source": [
    "# Final_order_data"
   ]
  },
  {
   "cell_type": "code",
   "execution_count": null,
   "metadata": {},
   "outputs": [],
   "source": [
    "#checking if table exist then drops for another table to be created thereafter.\n",
    "drop_final_order_data = f\"\"\"\n",
    "DROP TABLE IF EXISTS fcsq.final_order_data;\n",
    "\"\"\"\n",
    "# confirming the table existence\n",
    "pydb.read_sql_query(drop_final_order_data)\n",
    "\n",
    "# clean up previous children_act_disposals files\n",
    "bucket.objects.filter(Prefix=\"fcsq_processing/childrens_act/final_order_data/\").delete()"
   ]
  },
  {
   "cell_type": "code",
   "execution_count": null,
   "metadata": {},
   "outputs": [],
   "source": [
    "# creating table for final order data afresh.\n",
    "Creating_final_order_data = f\"\"\" CREATE TABLE IF NOT EXISTS fcsq.final_order_data\n",
    "WITH (format = 'PARQUET', external_location =\n",
    "'s3://alpha-family-data/fcsq_processing/childrens_act/final_order_data') AS\n",
    "SELECT a.event,\n",
    "    a.event_model,\n",
    "    a.receipt_date,\n",
    "    a.error as Event_error,\n",
    "    a.creating_court,\n",
    "    b.code as Court_code,\n",
    "    c.field_model,\n",
    "    c.value\n",
    "\n",
    "FROM ({db1}.events a\n",
    "INNER JOIN {db1}.event_fields c\n",
    "ON a.event = c.event)\n",
    "INNER JOIN {db1}.courts_mv b ON a.creating_court = b.court\n",
    "\n",
    "WHERE (((a.error) = 'N') AND  ((c.field_model) \n",
    "IN ('C21_FO','C23_FO','C24_FO','C25_FO',\n",
    "'C26_FO','C27_FO','C28_FO','C29_FO','C30_FO','C31_FO',\n",
    "'C32A_FO','C32B_FO','C33_FO','C34A_FO','C34B_FO','C35A_FO','C35B_FO',\n",
    "'C36_FO','C37_FO','C38A_FO','C38B_FO','C39_FO','C40_FO','C42_FO','C43_FO',\n",
    "'C43A_FO','C44A_FO','C44B_FO','C45A_FO','C45B_FO','C53_FO','C80_FO','C81_FO',\n",
    "'C82_FO','CPA_FO','ORDNOM_FO','ORDREF_FO')))\n",
    "AND a.mojap_snapshot_date = date '{snapshot_date}'\n",
    "AND b.mojap_snapshot_date = date '{snapshot_date}'\n",
    "AND c.mojap_snapshot_date = date '{snapshot_date}'\n",
    "\"\"\""
   ]
  },
  {
   "cell_type": "code",
   "execution_count": null,
   "metadata": {},
   "outputs": [],
   "source": [
    "# reading the table created\n",
    "pydb.read_sql_query(Creating_final_order_data)"
   ]
  },
  {
   "cell_type": "code",
   "execution_count": null,
   "metadata": {},
   "outputs": [],
   "source": [
    "# Reading the number of counts\n",
    "counter = pydb.read_sql_query(\"select count(*) as count from fcsq.final_order_data\")\n",
    "counter"
   ]
  },
  {
   "cell_type": "markdown",
   "metadata": {},
   "source": [
    "# Application Withdrawal Events"
   ]
  },
  {
   "cell_type": "code",
   "execution_count": null,
   "metadata": {},
   "outputs": [],
   "source": [
    "#checking if table exist then drops for another table to be created thereafter.\n",
    "drop_Appilication_withdrawal_events = f\"\"\"\n",
    "DROP TABLE IF EXISTS fcsq.Appilication_withdrawal_events;\n",
    "\"\"\"\n",
    "# confirming the table existence\n",
    "pydb.read_sql_query(drop_Appilication_withdrawal_events)\n",
    "\n",
    "# clean up previous children_act_disposals files\n",
    "bucket.objects.filter(Prefix=\"fcsq_processing/childrens_act/Appilication_withdrawal_events/\").delete()"
   ]
  },
  {
   "cell_type": "code",
   "execution_count": null,
   "metadata": {},
   "outputs": [],
   "source": [
    "# creating table for application withdrawal afresh.\n",
    "Creating_Appilication_withdrawal_events = f\"\"\" CREATE TABLE IF NOT EXISTS fcsq.Appilication_withdrawal_events\n",
    "WITH (format = 'PARQUET', external_location =\n",
    "'s3://alpha-family-data/fcsq_processing/childrens_act/Appilication_withdrawal_events') AS\n",
    "SELECT a.event,\n",
    "    a.case_number,\n",
    "    a.event_model,\n",
    "    a.receipt_date,\n",
    "    a.error as Event_error,\n",
    "    a.creating_court,\n",
    "    b.code as Court_code,\n",
    "    c.field_model,\n",
    "    c.value AS value2\n",
    "\n",
    "FROM ({db1}.events a\n",
    "INNER JOIN {db1}.courts_mv b\n",
    "ON a.creating_court = b.court)\n",
    "INNER JOIN {db1}.event_fields c ON a.event = c.event\n",
    "WHERE  ((c.field_model) = 'G63_1' AND a.error = 'N')\n",
    "AND a.mojap_snapshot_date = date '{snapshot_date}'\n",
    "AND b.mojap_snapshot_date = date '{snapshot_date}'\n",
    "AND c.mojap_snapshot_date = date '{snapshot_date}'\n",
    "\"\"\""
   ]
  },
  {
   "cell_type": "code",
   "execution_count": null,
   "metadata": {},
   "outputs": [],
   "source": [
    "# reading the table created\n",
    "pydb.read_sql_query(Creating_Appilication_withdrawal_events)"
   ]
  },
  {
   "cell_type": "code",
   "execution_count": null,
   "metadata": {},
   "outputs": [],
   "source": [
    "# Reading the number of counts\n",
    "counter = pydb.read_sql_query(\"select count(*) as count from fcsq.Appilication_withdrawal_events\")\n",
    "counter"
   ]
  },
  {
   "cell_type": "markdown",
   "metadata": {},
   "source": [
    "# Application Withdrawal Events - In respect of which children "
   ]
  },
  {
   "cell_type": "code",
   "execution_count": null,
   "metadata": {},
   "outputs": [],
   "source": [
    "#checking if table exist then drops for another table to be created thereafter.\n",
    "drop_Appilication_withdrawal_WRT_children = f\"\"\"\n",
    "DROP TABLE IF EXISTS fcsq.Appilication_withdrawal_WRT_children;\n",
    "\"\"\"\n",
    "# confirming the table existence\n",
    "pydb.read_sql_query(drop_Appilication_withdrawal_WRT_children)\n",
    "\n",
    "# clean up previous children_act_disposals files\n",
    "bucket.objects.filter(Prefix=\"fcsq_processing/childrens_act/Appilication_withdrawal_WRT_children/\").delete()"
   ]
  },
  {
   "cell_type": "code",
   "execution_count": null,
   "metadata": {},
   "outputs": [],
   "source": [
    "# creating table for application withdrawal_WRT_children afresh.\n",
    "Creating_Application_withdrawal_WRT_children = f\"\"\" CREATE TABLE IF NOT EXISTS fcsq.Application_withdrawal_WRT_children\n",
    "WITH (format = 'PARQUET', external_location =\n",
    "'s3://alpha-family-data/fcsq_processing/childrens_act/Application_withdrawal_WRT_childrens') AS\n",
    "SELECT a.event,\n",
    "    a.case_number,\n",
    "    a.event_model,\n",
    "    a.receipt_date,\n",
    "    a.error as Event_error,\n",
    "    a.creating_court,\n",
    "    b.code as Court_code,\n",
    "    c.field_model,\n",
    "    c.value \n",
    "\n",
    "FROM ({db1}.events a\n",
    "INNER JOIN {db1}.courts_mv b\n",
    "ON a.creating_court = b.court)\n",
    "INNER JOIN {db1}.event_fields c ON a.event = c.event\n",
    "WHERE  ((c.field_model) = 'G63_CH' AND a.error = 'N')\n",
    "AND a.mojap_snapshot_date = date '{snapshot_date}'\n",
    "AND b.mojap_snapshot_date = date '{snapshot_date}'\n",
    "AND c.mojap_snapshot_date = date '{snapshot_date}'\n",
    "\"\"\""
   ]
  },
  {
   "cell_type": "code",
   "execution_count": null,
   "metadata": {},
   "outputs": [],
   "source": [
    "# reading the table created\n",
    "pydb.read_sql_query(Creating_Application_withdrawal_WRT_children)"
   ]
  },
  {
   "cell_type": "code",
   "execution_count": null,
   "metadata": {},
   "outputs": [],
   "source": [
    "# Reading the number of counts\n",
    "counter = pydb.read_sql_query(\"select count(*) as count from fcsq.Application_withdrawal_WRT_children\")\n",
    "counter"
   ]
  },
  {
   "cell_type": "markdown",
   "metadata": {},
   "source": [
    "# Application Withdrawal Final Orders"
   ]
  },
  {
   "cell_type": "code",
   "execution_count": null,
   "metadata": {},
   "outputs": [],
   "source": [
    "#checking if table exist then drops for another table to be created thereafter.\n",
    "drop_Application_wrt_final_order = f\"\"\"\n",
    "DROP TABLE IF EXISTS fcsq.Application_wrt_final_order;\n",
    "\"\"\"\n",
    "# confirming the table existence\n",
    "pydb.read_sql_query(drop_Application_wrt_final_order)\n",
    "\n",
    "# clean up previous children_act_disposals files\n",
    "bucket.objects.filter(Prefix=\"fcsq_processing/childrens_act/Application_wrt_final_order/\").delete()"
   ]
  },
  {
   "cell_type": "code",
   "execution_count": null,
   "metadata": {},
   "outputs": [],
   "source": [
    "# creating table for application withdrawal_final_order afresh.\n",
    "Creating_Application_wrt_final_order = f\"\"\" CREATE TABLE IF NOT EXISTS fcsq.Application_wrt_final_order\n",
    "WITH (format = 'PARQUET', external_location =\n",
    "'s3://alpha-family-data/fcsq_processing/childrens_act/Application_wrt_final_order') AS\n",
    "SELECT a.event,\n",
    "    a.case_number,\n",
    "    a.event_model,\n",
    "    a.receipt_date,\n",
    "    a.error as Event_error,\n",
    "    a.creating_court,\n",
    "    b.code as Court_code,\n",
    "    c.field_model,\n",
    "    c.value \n",
    "\n",
    "FROM ({db1}.events a\n",
    "INNER JOIN {db1}.courts_mv b\n",
    "ON a.creating_court = b.court)\n",
    "INNER JOIN {db1}.event_fields c ON a.event = c.event\n",
    "WHERE  ((c.field_model) = 'G63_FO' AND a.error = 'N')\n",
    "AND a.mojap_snapshot_date = date '{snapshot_date}'\n",
    "AND b.mojap_snapshot_date = date '{snapshot_date}'\n",
    "AND c.mojap_snapshot_date = date '{snapshot_date}'\n",
    "\"\"\""
   ]
  },
  {
   "cell_type": "code",
   "execution_count": null,
   "metadata": {},
   "outputs": [],
   "source": [
    "# reading the table created\n",
    "pydb.read_sql_query(Creating_Application_wrt_final_order)"
   ]
  },
  {
   "cell_type": "code",
   "execution_count": null,
   "metadata": {},
   "outputs": [],
   "source": [
    "# Reading the number of counts\n",
    "counter = pydb.read_sql_query(\"select count(*) as count from fcsq.Application_wrt_final_order\")\n",
    "counter"
   ]
  },
  {
   "cell_type": "markdown",
   "metadata": {},
   "source": [
    "# Application Withdrawal Order Type"
   ]
  },
  {
   "cell_type": "code",
   "execution_count": null,
   "metadata": {},
   "outputs": [],
   "source": [
    "#checking if table exist then drops for another table to be created thereafter.\n",
    "drop_Application_wrt_order_type = f\"\"\"\n",
    "DROP TABLE IF EXISTS fcsq.Application_wrt_order_type;\n",
    "\"\"\"\n",
    "# confirming the table existence\n",
    "pydb.read_sql_query(drop_Application_wrt_order_type)\n",
    "\n",
    "# clean up previous children_act_disposals files\n",
    "bucket.objects.filter(Prefix=\"fcsq_processing/childrens_act/Application_wrt_order_type\").delete()"
   ]
  },
  {
   "cell_type": "code",
   "execution_count": null,
   "metadata": {},
   "outputs": [],
   "source": [
    "# creating table for application withdrawal_order_type afresh.\n",
    "Creating_Application_wrt_order_type= f\"\"\" CREATE TABLE IF NOT EXISTS fcsq.Application_wrt_order_type\n",
    "WITH (format = 'PARQUET', external_location =\n",
    "'s3://alpha-family-data/fcsq_processing/childrens_act/Application_wrt_order_type') AS\n",
    "SELECT a.event,\n",
    "    a.case_number,\n",
    "    a.event_model,\n",
    "    a.receipt_date,\n",
    "    a.error as Event_error,\n",
    "    c.field_model,\n",
    "    c.value \n",
    "FROM {db1}.events a\n",
    "INNER JOIN {db1}.event_fields c ON a.event = c.event \n",
    "WHERE  c.field_model IN ('G50_AT','U22_AT') AND (a.error = 'N')\n",
    "AND a.mojap_snapshot_date = date '{snapshot_date}'\n",
    "AND c.mojap_snapshot_date = date '{snapshot_date}'\n",
    "\"\"\""
   ]
  },
  {
   "cell_type": "code",
   "execution_count": null,
   "metadata": {},
   "outputs": [],
   "source": [
    "# reading the table created\n",
    "pydb.read_sql_query(Creating_Application_wrt_order_type)"
   ]
  },
  {
   "cell_type": "code",
   "execution_count": null,
   "metadata": {},
   "outputs": [],
   "source": [
    "# Reading the number of counts\n",
    "counter = pydb.read_sql_query(\"select count(*) as count from fcsq.Application_wrt_order_type\")\n",
    "counter"
   ]
  },
  {
   "cell_type": "markdown",
   "metadata": {},
   "source": [
    "# Case closed Events"
   ]
  },
  {
   "cell_type": "code",
   "execution_count": null,
   "metadata": {},
   "outputs": [],
   "source": [
    "#checking if table exist then drops for another table to be created thereafter.\n",
    "drop_case_closed_event = f\"\"\"\n",
    "DROP TABLE IF EXISTS fcsq.case_closed_event;\n",
    "\"\"\"\n",
    "# confirming the table existence\n",
    "pydb.read_sql_query(drop_case_closed_event)\n",
    "\n",
    "# clean up previous children_act_disposals files\n",
    "bucket.objects.filter(Prefix=\"fcsq_processing/childrens_act/case_closed_event\").delete()"
   ]
  },
  {
   "cell_type": "code",
   "execution_count": null,
   "metadata": {},
   "outputs": [],
   "source": [
    "# creating table for Creating_case_closed_event afresh.\n",
    "Creating_case_closed_event = f\"\"\" CREATE TABLE IF NOT EXISTS fcsq.case_closed_event\n",
    "WITH (format = 'PARQUET', external_location =\n",
    "'s3://alpha-family-data/fcsq_processing/childrens_act/case_closed_event') AS\n",
    "SELECT event,\n",
    "    case_number,\n",
    "    event_model,\n",
    "    receipt_date,\n",
    "    entry_date,\n",
    "    error as Event_error\n",
    "      \n",
    "FROM {db1}.events  WHERE  event_model = 'U24' AND error = 'N'\n",
    "AND mojap_snapshot_date = date '{snapshot_date}'\n",
    "\"\"\""
   ]
  },
  {
   "cell_type": "code",
   "execution_count": null,
   "metadata": {},
   "outputs": [],
   "source": [
    "# reading the table created\n",
    "pydb.read_sql_query(Creating_case_closed_event)"
   ]
  },
  {
   "cell_type": "code",
   "execution_count": null,
   "metadata": {},
   "outputs": [],
   "source": [
    "# Reading the number of counts\n",
    "counter = pydb.read_sql_query(\"select count(*) as count from fcsq.case_closed_event\")\n",
    "counter"
   ]
  },
  {
   "cell_type": "markdown",
   "metadata": {},
   "source": [
    "# Case Reopened Events"
   ]
  },
  {
   "cell_type": "code",
   "execution_count": null,
   "metadata": {},
   "outputs": [],
   "source": [
    "#checking if table exist then drops for another table to be created thereafter.\n",
    "drop_case_reopened_events = f\"\"\"\n",
    "DROP TABLE IF EXISTS fcsq.case_reopened_events;\n",
    "\"\"\"\n",
    "# confirming the table existence\n",
    "pydb.read_sql_query(drop_case_reopened_events)\n",
    "\n",
    "# clean up previous children_act_disposals files\n",
    "bucket.objects.filter(Prefix=\"fcsq_processing/childrens_act/case_reopened_events\").delete()"
   ]
  },
  {
   "cell_type": "code",
   "execution_count": null,
   "metadata": {},
   "outputs": [],
   "source": [
    "# creating table for Creating_case_reopened _event afresh.\n",
    "Creating_case_reopened_events = f\"\"\" CREATE TABLE IF NOT EXISTS fcsq.case_reopened_events\n",
    "WITH (format = 'PARQUET', external_location =\n",
    "'s3://alpha-family-data/fcsq_processing/childrens_act/case_reopened_events') AS\n",
    "SELECT event,\n",
    "    case_number,\n",
    "    event_model,\n",
    "    receipt_date,\n",
    "    entry_date,\n",
    "    error as Event_error\n",
    "      \n",
    "FROM {db1}.events  WHERE  event_model = 'G62' AND error = 'N'\n",
    "AND mojap_snapshot_date = date '{snapshot_date}'\n",
    "\"\"\""
   ]
  },
  {
   "cell_type": "code",
   "execution_count": null,
   "metadata": {},
   "outputs": [],
   "source": [
    "# reading the table created\n",
    "pydb.read_sql_query(Creating_case_reopened_events)"
   ]
  },
  {
   "cell_type": "code",
   "execution_count": null,
   "metadata": {},
   "outputs": [],
   "source": [
    "# Reading the number of counts\n",
    "counter = pydb.read_sql_query(\"select count(*) as count from fcsq.case_reopened_events\")\n",
    "counter"
   ]
  },
  {
   "cell_type": "markdown",
   "metadata": {},
   "source": [
    "# Child Party details"
   ]
  },
  {
   "cell_type": "code",
   "execution_count": null,
   "metadata": {},
   "outputs": [],
   "source": [
    "#checking if table exist then drops for another table to be created thereafter.\n",
    "drop_child_party_details = f\"\"\"\n",
    "DROP TABLE IF EXISTS fcsq.child_party_details;\n",
    "\"\"\"\n",
    "# confirming the table existence\n",
    "pydb.read_sql_query(drop_child_party_details)\n",
    "\n",
    "# clean up previous children_act_disposals files\n",
    "bucket.objects.filter(Prefix=\"fcsq_processing/childrens_act/child_party_details\").delete()"
   ]
  },
  {
   "cell_type": "code",
   "execution_count": null,
   "metadata": {},
   "outputs": [],
   "source": [
    "# creating table for Creating_child part detail afresh.\n",
    "Creating_child_party_details = f\"\"\" CREATE TABLE IF NOT EXISTS fcsq.child_party_details\n",
    "WITH (format = 'PARQUET', external_location =\n",
    "'s3://alpha-family-data/fcsq_processing/childrens_act/child_party_details') AS\n",
    "SELECT a.role,\n",
    "    a.case_number,\n",
    "    a.party,\n",
    "    a.role_model,\n",
    "    b.gender,\n",
    "    b.dob,\n",
    "    a.delete_flag\n",
    "      \n",
    "FROM {db1}.parties b\n",
    "INNER JOIN {db1}.roles a ON a.party =  b.party\n",
    "WHERE (((a.role_model) In ('CHLDC','CHLDZ')) \n",
    "    AND ((a.delete_flag)='N'))\n",
    "AND a.mojap_snapshot_date = date '{snapshot_date}'\n",
    "AND b.mojap_snapshot_date = date '{snapshot_date}'\n",
    "\"\"\""
   ]
  },
  {
   "cell_type": "code",
   "execution_count": null,
   "metadata": {},
   "outputs": [],
   "source": [
    "# reading the table created\n",
    "pydb.read_sql_query(Creating_child_party_details)"
   ]
  },
  {
   "cell_type": "code",
   "execution_count": null,
   "metadata": {},
   "outputs": [],
   "source": [
    "# Reading the number of counts\n",
    "counter = pydb.read_sql_query(\"select count(*) as count from fcsq.child_party_details\")\n",
    "counter"
   ]
  },
  {
   "cell_type": "markdown",
   "metadata": {},
   "source": [
    "# High Court"
   ]
  },
  {
   "cell_type": "code",
   "execution_count": null,
   "metadata": {},
   "outputs": [],
   "source": [
    "#checking if table exist then drops for another table to be created thereafter.\n",
    "drop_high_court = f\"\"\"\n",
    "DROP TABLE IF EXISTS fcsq.high_court;\n",
    "\"\"\"\n",
    "# confirming the table existence\n",
    "pydb.read_sql_query(drop_high_court)\n",
    "\n",
    "# clean up previous children_act_disposals files\n",
    "bucket.objects.filter(Prefix=\"fcsq_processing/childrens_act/high_court\").delete()"
   ]
  },
  {
   "cell_type": "code",
   "execution_count": null,
   "metadata": {},
   "outputs": [],
   "source": [
    "# creating table for Creating_hidh court afresh.\n",
    "\n",
    "Creating_high_court = f\"\"\" CREATE TABLE IF NOT EXISTS fcsq.high_court\n",
    "WITH (format = 'PARQUET', external_location =\n",
    "'s3://alpha-family-data/fcsq_processing/childrens_act/high_court') AS\n",
    "SELECT \n",
    "    a.receipt_date,\n",
    "    a.case_number,\n",
    "    a.event,\n",
    "    b.field_model,\n",
    "    b.value,\n",
    "    a.error\n",
    "      \n",
    "FROM {db1}.events a\n",
    "INNER JOIN {db1}.event_fields b ON a.event =  b.event\n",
    "WHERE a.receipt_date >= CAST('2011-01-01' AS DATE)\n",
    "    AND b.field_model\n",
    "       IN ('FAMLAW1_HC','FM1_HC','FM2A_HC','FM2C_HC','FM3A_HC','PRIVLAW_1',\n",
    "           'PUBLAW_1','U21_HC','U22_HC','A71_13','A72_12') \n",
    "    AND a.error='N'\n",
    "AND a.mojap_snapshot_date = date '{snapshot_date}'\n",
    "AND b.mojap_snapshot_date = date '{snapshot_date}'\n",
    "\"\"\""
   ]
  },
  {
   "cell_type": "code",
   "execution_count": null,
   "metadata": {},
   "outputs": [],
   "source": [
    "# reading the table created\n",
    "pydb.read_sql_query(Creating_high_court)"
   ]
  },
  {
   "cell_type": "code",
   "execution_count": null,
   "metadata": {},
   "outputs": [],
   "source": [
    "# Reading the number of counts\n",
    "counter = pydb.read_sql_query(\"select count(*) as count from fcsq.high_court\")\n",
    "counter"
   ]
  },
  {
   "cell_type": "markdown",
   "metadata": {},
   "source": [
    "# Tier of Judiciary"
   ]
  },
  {
   "cell_type": "code",
   "execution_count": null,
   "metadata": {},
   "outputs": [],
   "source": [
    "#checking if table exist then drops for another table to be created thereafter.\n",
    "drop_tier_of_judiciary = f\"\"\"\n",
    "DROP TABLE IF EXISTS fcsq.tier_of_judiciary;\n",
    "\"\"\"\n",
    "# confirming the table existence\n",
    "pydb.read_sql_query(drop_tier_of_judiciary)\n",
    "\n",
    "# clean up previous children_act_disposals files\n",
    "bucket.objects.filter(Prefix=\"fcsq_processing/childrens_act/tier_of_judiciary\").delete()"
   ]
  },
  {
   "cell_type": "code",
   "execution_count": null,
   "metadata": {},
   "outputs": [],
   "source": [
    "# creating table for Creating_tier of judiciary afresh.\n",
    "Creating_tier_of_judiciary = f\"\"\" CREATE TABLE IF NOT EXISTS fcsq.tier_of_judiciary\n",
    "WITH (format = 'PARQUET', external_location =\n",
    "'s3://alpha-family-data/fcsq_processing/childrens_act/tier_of_judiciary') AS\n",
    "SELECT \n",
    "    a.receipt_date,\n",
    "    a.case_number,\n",
    "    a.event,\n",
    "    b.field_model,\n",
    "    b.value,\n",
    "    a.error\n",
    "      \n",
    "FROM {db1}.events a\n",
    "INNER JOIN {db1}.event_fields b ON a.event =  b.event\n",
    "WHERE a.receipt_date >= CAST('2011-01-01' AS DATE) \n",
    "    AND b.field_model \n",
    "       IN ('C21_TOJ','C23_TOJ','C24_TOJ','C25_TOJ','C26_TOJ','C27_TOJ','C28_TOJ','C29_TOJ','C30_TOJ','C31_TOJ','C32a_TOJ',\n",
    "       'C32B_TOJ','C33_TOJ','C32A_TOJ','C34B_TOJ','C35A_TOJ','C35B_TOJ','C36_TOJ','C37_TOJ','C38A_TOJ','C38B_TOJ',\n",
    "       'C39_TOJ','C40_TOJ','C43_TOJ','C43A_TOJ','C44A_TOJ','C44B_TOJ','C45A_TOJ','C45B_TOJ','C46A_TOJ','C46B_TOJ','C47A_TOJ',\n",
    "       'C47B_TOJ','C47C_TOJ','C48A_TOJ','C48B_TOJ','C48C_TOJ','C49_TOJ','C50_TOJ','C53_TOJ','C54_TOJ','C63A_TOJ','C80_TOJ',\n",
    "       'C81_TOJ','C82_TOJ')\n",
    "    AND a.error='N'\n",
    "AND a.mojap_snapshot_date = date '{snapshot_date}'\n",
    "AND b.mojap_snapshot_date = date '{snapshot_date}'\n",
    "\"\"\""
   ]
  },
  {
   "cell_type": "code",
   "execution_count": null,
   "metadata": {},
   "outputs": [],
   "source": [
    "# reading the table created\n",
    "pydb.read_sql_query(Creating_tier_of_judiciary)"
   ]
  },
  {
   "cell_type": "code",
   "execution_count": null,
   "metadata": {},
   "outputs": [],
   "source": [
    "# Reading the number of counts\n",
    "counter = pydb.read_sql_query(\"select count(*) as count from fcsq.tier_of_judiciary\")\n",
    "counter"
   ]
  },
  {
   "cell_type": "code",
   "execution_count": null,
   "metadata": {},
   "outputs": [],
   "source": [
    "# Counting\n",
    "counting_process = pydb.read_sql_query (\"select field_model, count(*) as count from fcsq.tier_of_judiciary group by field_model order by field_model\")\n",
    "counting_process"
   ]
  },
  {
   "cell_type": "code",
   "execution_count": null,
   "metadata": {},
   "outputs": [],
   "source": [
    "#checking if table exist then drops for another table to be created thereafter.\n",
    "drop_creat_counts = f\"\"\"\n",
    "DROP TABLE IF EXISTS fcsq.count_counts;\n",
    "\"\"\"\n",
    "# confirming the table existence\n",
    "pydb.read_sql_query(drop_creat_counts)\n",
    "\n",
    "# clean up previous children_act_disposals files\n",
    "bucket.objects.filter(Prefix=\"fcsq_processing/childrens_act/creat_counts\").delete()"
   ]
  },
  {
   "cell_type": "code",
   "execution_count": null,
   "metadata": {},
   "outputs": [],
   "source": [
    "\n",
    "creating_counts  = f\"\"\" CREATE TABLE IF NOT EXISTS fcsq.creat_counts\n",
    "WITH (format = 'PARQUET', external_location =\n",
    "'s3://alpha-family-data/fcsq_processing/childrens_act/creat_counts') AS\n",
    " \n",
    "SELECT A.*, \n",
    "EXTRACT (YEAR FROM receipt_date) AS YEAR,\n",
    "CASE WHEN (EXTRACT (MONTH FROM receipt_date)) IN (1,2,3) THEN 1\n",
    "WHEN (EXTRACT (MONTH FROM receipt_date)) IN (4,5,6) THEN 2   \n",
    "WHEN (EXTRACT (MONTH FROM receipt_date)) IN (7,8,9) THEN 3\n",
    "WHEN (EXTRACT (MONTH FROM receipt_date)) IN (10,11,12) THEN 4        \n",
    "End AS Quarter\n",
    "FROM fcsq.tier_of_judiciary A\n",
    "\"\"\""
   ]
  },
  {
   "cell_type": "code",
   "execution_count": null,
   "metadata": {},
   "outputs": [],
   "source": [
    "# reading the table created\n",
    "pydb.read_sql_query(creating_counts)"
   ]
  },
  {
   "cell_type": "code",
   "execution_count": null,
   "metadata": {},
   "outputs": [],
   "source": [
    "# Counting\n",
    "final_counts_table = pydb.read_sql_query(\"select year, count(*) as count from fcsq.creat_counts group by year\")\n",
    "\n",
    "final_counts_table"
   ]
  },
  {
   "cell_type": "code",
   "execution_count": null,
   "metadata": {},
   "outputs": [],
   "source": []
  }
 ],
 "metadata": {
  "kernelspec": {
   "display_name": "SqlPython",
   "language": "python",
   "name": "testing123"
  },
  "language_info": {
   "codemirror_mode": {
    "name": "ipython",
    "version": 3
   },
   "file_extension": ".py",
   "mimetype": "text/x-python",
   "name": "python",
   "nbconvert_exporter": "python",
   "pygments_lexer": "ipython3",
   "version": "3.7.1"
  }
 },
 "nbformat": 4,
 "nbformat_minor": 4
}
