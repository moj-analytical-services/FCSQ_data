{
 "cells": [
  {
   "cell_type": "code",
   "execution_count": 1,
   "id": "694d5f4b-4709-426a-ba4f-af5f8e472b02",
   "metadata": {},
   "outputs": [],
   "source": [
    "import numpy as np\n",
    "import pandas as pd\n",
    "import pydbtools as pydb"
   ]
  },
  {
   "cell_type": "code",
   "execution_count": 2,
   "id": "56b78e05-4794-4f54-9cc4-d0c1ec2a739c",
   "metadata": {},
   "outputs": [],
   "source": [
    "def add_count(Name,Count,validation_checks):\n",
    "    if validation_checks.size!=0:\n",
    "        validation_checks = np.vstack([validation_checks,[Name,Count]])\n",
    "    else:\n",
    "        validation_checks=np.array([Name,Count])\n",
    "        validation_checks = validation_checks.reshape(1,2)\n",
    "\n",
    "\n",
    "    return validation_checks"
   ]
  },
  {
   "cell_type": "code",
   "execution_count": 3,
   "id": "428c524b-444b-4f5e-a6f4-a95d221e8ec2",
   "metadata": {},
   "outputs": [],
   "source": [
    "def get_count(Name,temp_flag, validation_checks):\n",
    "    if temp_flag:\n",
    "        database = '__temp__'\n",
    "    else:\n",
    "        database = 'fcsq'\n",
    "    count = pydb.read_sql_query(f\"select count(*) as count from {database}.{Name}\")['count'][0]\n",
    "    validation_checks = add_count(Name,count,validation_checks)\n",
    "    return validation_checks"
   ]
  },
  {
   "cell_type": "code",
   "execution_count": 4,
   "id": "68ef7db4-2116-4e37-8f6f-427e496945ba",
   "metadata": {},
   "outputs": [],
   "source": [
    "def get_count_2(Name,validation_checks):\n",
    "    try:\n",
    "        count = pydb.read_sql_query(f\"select count(*) as count from fcsq.{Name}\")['count'][0]\n",
    "    except:\n",
    "        count = pydb.read_sql_query(f\"select count(*) as count from __temp__.{Name}\")['count'][0]\n",
    "    validation_checks = add_count(Name,count,validation_checks)\n",
    "    return validation_checks"
   ]
  },
  {
   "cell_type": "code",
   "execution_count": 5,
   "id": "e2e39620-c28b-4ff4-8a2f-872a8e8a602d",
   "metadata": {},
   "outputs": [],
   "source": [
    "list_of_tables = [\n",
    "    ['Adopt_applications_data_sorted',False],\n",
    "    ['adopt_orders_data_sorted',False],\n",
    "    ['ADOPT_APPS_AND_ORDERS_MATCH',False],\n",
    "    ['Adopt_Applicant_Info',False],\n",
    "    ['adopt_respondent_info',False],\n",
    "    ['adopt_applicants_3',True]\n",
    "]\n",
    "validation_checks = np.array([])\n",
    "\n",
    "for table in list_of_tables:\n",
<<<<<<< HEAD
    "    validation_checks = get_count(table[0],table[1],validation_checks)\n",
    "    \n",
    "    \n",
    "\n",
    "#checks_df = pd.DataFrame(validation_checks,columns=['Name','Count'])\n",
    "#checks_df"
=======
    "    validation_checks = get_count(table[0],table[1],validation_checks)"
>>>>>>> cad9944d87a9ad031c80ccd2e591a2f5f08aad86
   ]
  },
  {
   "cell_type": "code",
   "execution_count": 6,
<<<<<<< HEAD
=======
   "id": "efffea6f-0600-454e-9267-d87fc42ffd31",
   "metadata": {},
   "outputs": [],
   "source": [
    "#checks_df = pd.DataFrame(validation_checks,columns=['Name','Count'])\n",
    "#checks_df"
   ]
  },
  {
   "cell_type": "code",
   "execution_count": 7,
>>>>>>> cad9944d87a9ad031c80ccd2e591a2f5f08aad86
   "id": "f88ea004-f638-4daa-a0e3-8afd4e6be7b5",
   "metadata": {},
   "outputs": [],
   "source": [
    "list_of_tables = ['Adopt_applications_data_sorted',\n",
    "                  'adopt_orders_data_sorted',\n",
    "                  'ADOPT_APPS_AND_ORDERS_MATCH',\n",
    "                  'Adopt_Applicant_Info',\n",
    "                  'adopt_respondent_info',\n",
    "                  'adopt_applicants_3']\n",
    "\n",
    "validation_checks = np.array([])\n",
    "\n",
    "for table in list_of_tables:\n",
<<<<<<< HEAD
    "    validation_checks = get_count_2(table,validation_checks)\n",
    "\n",
    "#checks_df = pd.DataFrame(validation_checks,columns=['Name','Count'])\n",
    "#checks_df"
   ]
=======
    "    validation_checks = get_count_2(table,validation_checks)"
   ]
  },
  {
   "cell_type": "code",
   "execution_count": 8,
   "id": "879b3e58-a77c-4c65-8ef3-3582726551fb",
   "metadata": {},
   "outputs": [],
   "source": [
    "#checks_df = pd.DataFrame(validation_checks,columns=['Name','Count'])\n",
    "#checks_df"
   ]
>>>>>>> cad9944d87a9ad031c80ccd2e591a2f5f08aad86
  }
 ],
 "metadata": {
  "kernelspec": {
   "display_name": "venv",
   "language": "python",
   "name": "venv"
  },
  "language_info": {
   "codemirror_mode": {
    "name": "ipython",
    "version": 3
   },
   "file_extension": ".py",
   "mimetype": "text/x-python",
   "name": "python",
   "nbconvert_exporter": "python",
   "pygments_lexer": "ipython3",
   "version": "3.9.6"
  }
 },
 "nbformat": 4,
 "nbformat_minor": 5
}
