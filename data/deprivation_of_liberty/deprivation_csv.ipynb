{
 "cells": [
  {
   "cell_type": "markdown",
   "id": "393de839-52ce-437d-8574-a852509b9f39",
   "metadata": {},
   "source": [
    "## 1. Import packages and set options"
   ]
  },
  {
   "cell_type": "code",
   "execution_count": null,
   "id": "950a6017-0770-47a6-9d31-3cba3f6db693",
   "metadata": {},
   "outputs": [],
   "source": [
    "import pandas as pd  # a module which provides the data structures and functions to store and manipulate tables in dataframes\n",
    "import pydbtools as pydb  # A module which allows SQL queries to be run on the Analytical Platform from Python, see https://github.com/moj-analytical-services/pydbtools\n",
    "import boto3  # allows you to directly create, update, and delete AWS resources from Python scripts\n",
    "import numpy as np\n",
    "import re\n",
    "import math\n",
    "#import pandasql\n",
    "\n",
    "# sets parameters to view dataframes for tables easier\n",
    "pd.set_option(\"display.max_columns\", 100)\n",
    "pd.set_option(\"display.width\", 900)\n",
    "pd.set_option(\"display.max_colwidth\", 200)"
   ]
  },
  {
   "cell_type": "code",
   "execution_count": null,
   "id": "650f0c53-99f0-4c9d-91a9-8d80ce051bfe",
   "metadata": {},
   "outputs": [],
   "source": [
    "#imports DOL extract data from S3 bucket into a temporary table\n",
    "dol_table = pd.read_csv(\"s3://alpha-family-data/CSVs/Deprivation_of_Liberty/DoL_extract.csv\", low_memory = False)\n",
    "dol_table.columns = dol_table.columns.str.lower()\n",
    "#Converting some columns to datetime\n",
    "dol_table['appndate'] = pd.to_datetime(dol_table['appndate'], format = '%d/%m/%Y')\n",
    "dol_table['dateofbirth'] = pd.to_datetime(dol_table['dateofbirth'], format = '%d/%m/%Y')\n",
    "\n",
    "#Adding some extra columns\n",
    "dol_table['year'] = dol_table['appndate'].dt.year\n",
    "dol_table['quarter'] = dol_table['appndate'].dt.quarter\n",
    "dol_table['childage'] = np.floor((dol_table.appndate - dol_table.dateofbirth).dt.days / 365.25)\n",
    "\n",
    "#Adding age band\n",
    "dol_table['ageband'] = np.where(pd.isnull(dol_table['childage']), 'Unknown',\n",
    "                       np.where(dol_table['childage'] < 10, 'Under 10',\n",
    "                       np.where(dol_table['childage'] < 13, '10-12 years',\n",
    "                       np.where(dol_table['childage'] < 16, '13-15 years',\n",
    "                       np.where(dol_table['childage'] < 19, '16-18 years', 'Other')))))\n",
    "\n",
    "#Distinct applications\n",
    "#dol_apps_distinct = dol_table.drop_duplicates(subset = ['casenumber', 'appndate', 'appninfo'])\n",
    "#Putting case in order and ranking equivalent to a row over() statement in sql\n",
    "#dol_apps_distinct[\"rank\"] = dol_apps_distinct.groupby(\"casenumber\")[\"appndate\"].rank(method=\"first\", ascending=True)\n",
    "\n"
   ]
  },
  {
   "cell_type": "code",
   "execution_count": null,
   "id": "29e18cd6-9ee0-46ca-b0b2-0f181eccfb14",
   "metadata": {},
   "outputs": [],
   "source": [
    "dol_table[dol_table[\"childage\"] == 17]"
   ]
  },
  {
   "cell_type": "code",
   "execution_count": null,
   "id": "a9aa00ec-b205-4078-8e05-968e623047f5",
   "metadata": {},
   "outputs": [],
   "source": [
    "#dol_table\n",
    "#dol_grouped\n",
    "#dol_grouped_total\n",
    "#dol_apps_distinct"
   ]
  },
  {
   "cell_type": "code",
   "execution_count": null,
   "id": "34a0416b-0756-47e4-bf12-3c2942c51843",
   "metadata": {},
   "outputs": [],
   "source": [
    "pydb.dataframe_to_temp_table(dol_table, \"dol_new\")"
   ]
  },
  {
   "cell_type": "code",
   "execution_count": null,
   "id": "ec47b383-3ee9-436b-be31-666f3b3c188f",
   "metadata": {},
   "outputs": [],
   "source": [
    "dol_table.groupby(by = 'partyname', as_index = False)['casenumber'].count().sort_values(by = 'casenumber', ascending = False)"
   ]
  },
  {
   "cell_type": "code",
   "execution_count": null,
   "id": "a8929af9-95c9-4e84-90fd-31b43cca9e32",
   "metadata": {},
   "outputs": [],
   "source": [
    "test = pydb.read_sql_query(\"SELECT * from __temp__.dol_new\")\n",
    "test"
   ]
  },
  {
   "cell_type": "code",
   "execution_count": null,
   "id": "1b756658-7ea2-4983-b6bc-0ed662d5e21e",
   "metadata": {},
   "outputs": [],
   "source": [
    "#imports Date Dimension Table extract data from S3 bucket into a temporary table\n",
    "dim_date = pd.read_csv(\"s3://alpha-family-data/CSVs/Deprivation_of_Liberty/DIM_DATE.csv\", low_memory = False)\n",
    "dim_date['DATE_KEY'] = pd.to_datetime(dim_date['DATE_KEY'], format = '%d-%b-%y')\n",
    "dim_date['WEEK_BEGIN_DATE'] = pd.to_datetime(dim_date['WEEK_BEGIN_DATE'], format = '%d-%b-%y')\n",
    "dim_date['SAME_DAY_YEAR_AGO'] = pd.to_datetime(dim_date['SAME_DAY_YEAR_AGO'], format = '%d-%b-%y')"
   ]
  },
  {
   "cell_type": "code",
   "execution_count": null,
   "id": "80be3048-e2e7-46ed-bcaa-bc6ab7f857de",
   "metadata": {},
   "outputs": [],
   "source": [
    "dim_date"
   ]
  },
  {
   "cell_type": "code",
   "execution_count": null,
   "id": "b33fb4db-9fb8-4add-aac8-a46da9f9b511",
   "metadata": {},
   "outputs": [],
   "source": [
    "dol_region_lookup = pd.read_csv(\"s3://alpha-family-data/CSVs/Deprivation_of_Liberty/Council_Lookup.csv\", low_memory = False)\n",
    "pydb.dataframe_to_temp_table(dol_region_lookup, \"dol_region_lookup\")"
   ]
  },
  {
   "cell_type": "code",
   "execution_count": null,
   "id": "4ee7619d-e196-4d8a-944e-ef5a462221b3",
   "metadata": {},
   "outputs": [],
   "source": [
    "# Selecting distinct applications and adding a count for rows\n",
    "pydb.create_temp_table(\n",
    "f\"\"\"\n",
    "SELECT\n",
    "*,\n",
    "ROW_NUMBER() OVER(PARTITION BY casenumber\n",
    "                       ORDER BY appndate) AS app_count,\n",
    "\n",
    "CASE WHEN Closed is NULL THEN 'Open'\n",
    "ELSE 'Closed'\n",
    "END AS Closed_or_Open,\n",
    "\n",
    "CASE WHEN ROW_NUMBER() OVER(PARTITION BY casenumber\n",
    "                       ORDER BY appndate) = 1\n",
    "THEN 'Initial'\n",
    "WHEN ROW_NUMBER() OVER(PARTITION BY casenumber\n",
    "                       ORDER BY appndate) > 1\n",
    "THEN 'Extended'\n",
    "ELSE 'Unknown'\n",
    "END AS App_type\n",
    "\n",
    "FROM(\n",
    "SELECT\n",
    "DISTINCT\n",
    "t1.Year, \n",
    "t1.Quarter, \n",
    "t1.ageband,\n",
    "t1.casenumber,\n",
    "t1.appndate,\n",
    "t1.appninfo,\n",
    "t1.closureinfo,\n",
    "t1.c21events,\n",
    "t1.latestc21,\n",
    "t1.opened,\n",
    "t1.closed,\n",
    "t2.party,\n",
    "t2.region,\n",
    "t2.party_type\n",
    "FROM \n",
    "__temp__.dol_new t1\n",
    "LEFT JOIN \n",
    "__temp__.dol_region_lookup t2\n",
    "ON t1.partyname = t2.Party)\n",
    "\"\"\",\n",
    "\"dol_apps_all\")"
   ]
  },
  {
   "cell_type": "code",
   "execution_count": null,
   "id": "e2098a8a-44f4-4b2b-b238-cc2bc8e79470",
   "metadata": {},
   "outputs": [],
   "source": [
    "# Application Count\n",
    "pydb.create_temp_table(\n",
    "f\"\"\"\n",
    "SELECT \n",
    "t1.Year, \n",
    "t1.Quarter, \n",
    "'N/A' as ageband,\n",
    "'Applications' as Count_type,\n",
    "t1.App_type,\n",
    "t1.Region,\n",
    "t1.Party_type,\n",
    "'N/A' as gender,\n",
    "Count(*) as Count\n",
    "FROM \n",
    "__temp__.dol_apps_all t1\n",
    "GROUP BY\n",
    "t1.Year, \n",
    "t1.Quarter, \n",
    "t1.App_type,\n",
    "t1.Region,\n",
    "t1.Party_type\n",
    "\"\"\",\n",
    "\"dol_apps_agg\")"
   ]
  },
  {
   "cell_type": "code",
   "execution_count": null,
   "id": "1f3bd5c9-fc81-4bfa-b2e4-35a880169b30",
   "metadata": {},
   "outputs": [],
   "source": [
    "# Child Count of DOL\n",
    "pydb.create_temp_table(\n",
    "f\"\"\"\n",
    "SELECT \n",
    "t1.Year, \n",
    "t1.Quarter, \n",
    "t1.ageband,\n",
    "'Child' as Count_type,\n",
    "'All' as App_type,\n",
    "t2.Region,\n",
    "t2.Party_type,\n",
    "t1.gender,\n",
    "Count(*) as Count\n",
    "FROM \n",
    "__temp__.dol_new t1\n",
    "LEFT JOIN \n",
    "__temp__.dol_region_lookup t2\n",
    "ON t1.partyname = t2.Party\n",
    "GROUP BY\n",
    "t1.Year, \n",
    "t1.Quarter, \n",
    "t1.ageband,\n",
    "t2.Region,\n",
    "t2.Party_type,\n",
    "t1.gender\n",
    "\"\"\",\n",
    "\"dol_child\")\n",
    "\n",
    "\n",
    "# Case Count\n",
    "pydb.create_temp_table(\n",
    "f\"\"\"\n",
    "SELECT \n",
    "t1.Year, \n",
    "t1.Quarter, \n",
    "'N/A' as ageband,\n",
    "'Case' as Count_type,\n",
    "'N/A' as App_type,\n",
    "t1.Region,\n",
    "t1.Party_type,\n",
    "'N/A' as gender,\n",
    "Count(*) as Count\n",
    "FROM \n",
    "__temp__.dol_apps_all t1\n",
    "WHERE app_count = 1\n",
    "GROUP BY\n",
    "t1.Year, \n",
    "t1.Quarter, \n",
    "t1.Region,\n",
    "t1.Party_type\n",
    "\n",
    "\n",
    "\"\"\",\n",
    "\"dol_cases\")\n",
    "\n",
    "\n"
   ]
  },
  {
   "cell_type": "code",
   "execution_count": null,
   "id": "e87f5b25-aa0d-4e64-9700-6df7acf48dd2",
   "metadata": {},
   "outputs": [],
   "source": [
    "pydb.create_temp_table(\n",
    "f\"\"\"\n",
    "SELECT\n",
    "*\n",
    "FROM __temp__.dol_cases\n",
    "\n",
    "UNION ALL\n",
    "\n",
    "SELECT\n",
    "*\n",
    "FROM __temp__.dol_apps_agg\n",
    "\n",
    "UNION ALL\n",
    "\n",
    "SELECT\n",
    "*\n",
    "FROM __temp__.dol_child\n",
    "\n",
    "\"\"\",\n",
    "\"dol_csv\")\n"
   ]
  },
  {
   "cell_type": "code",
   "execution_count": null,
   "id": "6c7835ae-eef3-477b-aec7-6dee6e524de5",
   "metadata": {},
   "outputs": [],
   "source": [
    "ORDER BY\n",
    "year, quarter, count_type, region, party_type, app_type, ageband, closed_or_open"
   ]
  },
  {
   "cell_type": "code",
   "execution_count": null,
   "id": "e64c6b89-acc4-4575-983f-c714db14dc6e",
   "metadata": {},
   "outputs": [],
   "source": [
    "test = pydb.read_sql_query(\"SELECT * FROM __temp__.dol_csv\").sort_values(by = [\"year\", \"quarter\", \"count_type\", \"region\", \"party_type\", \"ageband\", \"gender\"])\n",
    "test[test[\"count_type\"] == \"Child\"]"
   ]
  },
  {
   "cell_type": "code",
   "execution_count": null,
   "id": "41607a03-73e4-4249-9f8a-82be425ec570",
   "metadata": {},
   "outputs": [],
   "source": [
    "test.to_csv(path_or_buf = 's3://alpha-family-data/CSVs/Deprivation_of_Liberty/dol_csv.csv', index = False)"
   ]
  },
  {
   "cell_type": "code",
   "execution_count": null,
   "id": "1d960361-b5a4-4722-9b54-9c569e18223c",
   "metadata": {},
   "outputs": [],
   "source": []
  }
 ],
 "metadata": {
  "kernelspec": {
   "display_name": "FCSQ_run",
   "language": "python",
   "name": "venv_fcsq"
  },
  "language_info": {
   "codemirror_mode": {
    "name": "ipython",
    "version": 3
   },
   "file_extension": ".py",
   "mimetype": "text/x-python",
   "name": "python",
   "nbconvert_exporter": "python",
   "pygments_lexer": "ipython3",
   "version": "3.9.6"
  }
 },
 "nbformat": 4,
 "nbformat_minor": 5
}
