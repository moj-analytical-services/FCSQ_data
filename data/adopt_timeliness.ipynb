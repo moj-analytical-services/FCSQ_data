{
 "cells": [
  {
   "cell_type": "markdown",
   "metadata": {},
   "source": [
    "# Adopt Timeliness"
   ]
  },
  {
   "cell_type": "code",
   "execution_count": null,
   "metadata": {},
   "outputs": [],
   "source": [
    "import pandas as pd  # for the data structures to store and manipulate tables\n",
    "import pydbtools as pydb  # see https://github.com/moj-analytical-services/pydbtools\n",
    "import boto3  # for working with AWS\n",
    "\n",
    "# few things for viewing dataframes better\n",
    "pd.set_option(\"display.max_columns\", 100)\n",
    "pd.set_option(\"display.width\", 900)\n",
    "pd.set_option(\"display.max_colwidth\", 200)\n",
    "\n",
    "database = \"familyman_dev_v2\"\n",
    "snapshot_date = \"2021-08-19\"\n",
    "database_derived = \"familyman_derived_dev_v1\"\n",
    "\n",
    "fcsq_database = \"fcsq\"\n",
    "\n",
    "s3 = boto3.resource(\"s3\")\n",
    "bucket = s3.Bucket(\"alpha-family-data\")"
   ]
  },
  {
   "cell_type": "markdown",
   "metadata": {},
   "source": [
    "## Adopt_applications_data_sorted table"
   ]
  },
  {
   "cell_type": "markdown",
   "metadata": {},
   "source": [
    "### Drop the adopt_applications_data_sorted table if it already exists and remove its data from the S3 bucket"
   ]
  },
  {
   "cell_type": "code",
   "execution_count": null,
   "metadata": {},
   "outputs": [],
   "source": [
    "drop_adopt_applications_data_sorted = f\"\"\"\n",
    "DROP TABLE IF EXISTS fcsq.adopt_applications_data_sorted;\n",
    "\"\"\"\n",
    "pydb.read_sql_query(drop_adopt_applications_data_sorted)\n",
    "\n",
    "# clean up previous adopt_applications_data_sorted files\n",
    "bucket.objects.filter(Prefix=\"fcsq_processing/Adoption/adopt_applications_data_sorted/\").delete()"
   ]
  },
  {
   "cell_type": "markdown",
   "metadata": {},
   "source": [
    "### Create the adopt_applications_data_sorted table in Athena"
   ]
  },
  {
   "cell_type": "code",
   "execution_count": null,
   "metadata": {},
   "outputs": [],
   "source": [
    "create_adopt_applications_data_sorted = f\"\"\"\n",
    "CREATE TABLE IF NOT EXISTS fcsq.adopt_applications_data_sorted\n",
    "WITH (format = 'PARQUET', external_location = 's3://alpha-family-data/fcsq_processing/Adoption/adopt_applications_data_sorted') AS\n",
    "SELECT * FROM\n",
    "fcsq.adopt_application_5\n",
    "ORDER BY \n",
    "CASE_NUMBER, APP_DATE\n",
    "\"\"\"\n",
    "\n",
    "pydb.read_sql_query(create_adopt_applications_data_sorted)\n",
    "\n"
   ]
  },
  {
   "cell_type": "markdown",
   "metadata": {},
   "source": [
    "#### adopt_applications_data_sorted validation"
   ]
  },
  {
   "cell_type": "code",
   "execution_count": null,
   "metadata": {},
   "outputs": [],
   "source": [
    "adopt_applications_data_sorted_count = pydb.read_sql_query(\"select count(*) as count from fcsq.adopt_applications_data_sorted\")\n",
    "adopt_applications_data_sorted_count"
   ]
  },
  {
   "cell_type": "markdown",
   "metadata": {},
   "source": [
    "## Create temporary tables"
   ]
  },
  {
   "cell_type": "code",
   "execution_count": null,
   "metadata": {},
   "outputs": [],
   "source": [
    "create_adopt_applications_1 = f\"\"\"\n",
    "SELECT *, row_number() over (order by CASE_NUMBER, APP_DATE) as SEQ_NUM\n",
    "FROM fcsq.adopt_applications_data_sorted\n",
    "\"\"\"\n",
    "pydb.create_temp_table(create_adopt_applications_1,'adopt_applications_1')\n",
    "\n",
    "create_adopt_applications_2 = f\"\"\"\n",
    "SELECT DISTINCT case_number, app_type, min(seq_num) as min_of_seq_num\n",
    "FROM __temp__.adopt_applications_1 GROUP BY case_number, app_type\n",
    "\"\"\"\n",
    "pydb.create_temp_table(create_adopt_applications_2,'adopt_applications_2')\n",
    "\n",
    "create_adopt_applications_3 = f\"\"\"\n",
    "SELECT\n",
    "    t1.case_number,\n",
    "    t2.App_date,\n",
    "    t2.year,\n",
    "    t2.quarter,\n",
    "    t2.court,\n",
    "    t2.app_type,\n",
    "    t2.Case_app_type, \n",
    "    t2.Adoption, \n",
    "    t2.Contested, \n",
    "    t2.Standard, \n",
    "    t2.Convention, \n",
    "    t2.Foreign, \n",
    "    t2.Placement, \n",
    "    t2.Placement_revoke_or_vary, \n",
    "    t2.Contact_s26, \n",
    "    t2.Contact_s26_revoke_or_vary, \n",
    "    t2.Change_surname, \n",
    "    t2.Remove_child_from_UK, \n",
    "    t2.Other_order_type, \n",
    "    t2.Adoption_Cases, \n",
    "    t2.Non_Adoption_Cases\n",
    "FROM __temp__.ADOPT_APPLICATIONS_2 t1 LEFT JOIN\n",
    "__temp__.ADOPT_APPLICATIONS_1 t2 ON (t1.MIN_of_seq_num = t2.Seq_Num)\n",
    "\"\"\"\n",
    "pydb.create_temp_table(create_adopt_applications_3,'adopt_applications_3')"
   ]
  },
  {
   "cell_type": "markdown",
   "metadata": {},
   "source": [
    "## adopt_orders_data_sorted table"
   ]
  },
  {
   "cell_type": "markdown",
   "metadata": {},
   "source": [
    "### Drop the adopt_orders_data_sorted table if it already exists and remove its data from the S3 bucket"
   ]
  },
  {
   "cell_type": "code",
   "execution_count": null,
   "metadata": {},
   "outputs": [],
   "source": [
    "drop_adopt_orders_data_sorted = f\"\"\"\n",
    "DROP TABLE IF EXISTS fcsq.adopt_orders_data_sorted;\n",
    "\"\"\"\n",
    "pydb.read_sql_query(drop_adopt_orders_data_sorted)\n",
    "\n",
    "# clean up previous adopt_orders_data_sorted files\n",
    "bucket.objects.filter(Prefix=\"fcsq_processing/Adoption/adopt_orders_data_sorted/\").delete()"
   ]
  },
  {
   "cell_type": "markdown",
   "metadata": {},
   "source": [
    "### Create the adopt_orders_data_sorted table in Athena"
   ]
  },
  {
   "cell_type": "code",
   "execution_count": null,
   "metadata": {},
   "outputs": [],
   "source": [
    "create_adopt_orders_data_sorted = f\"\"\"\n",
    "CREATE TABLE IF NOT EXISTS fcsq.adopt_orders_data_sorted\n",
    "WITH (format = 'PARQUET', external_location = 's3://alpha-family-data/fcsq_processing/Adoption/adopt_orders_data_sorted') AS\n",
    "SELECT * \n",
    "FROM fcsq.adopt_disposals5 t1\n",
    "    WHERE t1.Type != 'Contact_s26' AND t1.Type != 'Contact_s26_revoke_or_vary' AND t1.Type != \n",
    "        'Placement_revoke_or_vary' AND t1.Type != 'Other_order_type'\n",
    "    ORDER BY t1.CASE_NUMBER, t1.Receipt_date;\n",
    "\"\"\"\n",
    "pydb.read_sql_query(create_adopt_orders_data_sorted)"
   ]
  },
  {
   "cell_type": "markdown",
   "metadata": {},
   "source": [
    "#### adopt_orders_data_sorted validation"
   ]
  },
  {
   "cell_type": "code",
   "execution_count": null,
   "metadata": {},
   "outputs": [],
   "source": [
    "adopt_orders_data_sorted_count = pydb.read_sql_query(\"select count(*) as count from fcsq.adopt_orders_data_sorted\")\n",
    "adopt_orders_data_sorted_count"
   ]
  },
  {
   "cell_type": "markdown",
   "metadata": {},
   "source": [
    "## Create temporary tables"
   ]
  },
  {
   "cell_type": "code",
   "execution_count": null,
   "metadata": {},
   "outputs": [],
   "source": [
    "\"\"\"\n",
    "NOTE, WHERE clause usually references DATE_DIFF variable, this isn't working so far so just \n",
    "copied the creation of date_diff into the where clause\n",
    "\"\"\"\n",
    "\n",
    "create_adopt_orders_0 = f\"\"\"\n",
    "SELECT t1.CASE_NUMBER, \n",
    "          t1.Court, \n",
    "          t1.Year, \n",
    "          t1.Quarter, \n",
    "          t2.App_type, \n",
    "          t2.App_date, \n",
    "          t1.Receipt_date AS Disp_Date, \n",
    "          t1.EVENT_MODEL, \n",
    "          t1.FIELD_MODEL, \n",
    "          t1.Order_type, \n",
    "          t1.Country_of_birth, \n",
    "          t1.Number_applicants, \n",
    "          t1.Adopter_type, \n",
    "          t1.Adopter, \n",
    "          t1.Child_sex, /*Changed this from child_sex2 as the process has changed, check to see if an error comes up*/ \n",
    "          t1.Age_band, \n",
    "          t1.Child_age, \n",
    "          t1.Adoption, \n",
    "          t1.Type, \n",
    "          t1.Adopter_2, \n",
    "          DAY(t1.Receipt_date -t2.App_date) as DATE_DIFF\n",
    "      FROM fcsq.ADOPT_ORDERS_DATA_SORTED t1\n",
    "           INNER JOIN __temp__.ADOPT_APPLICATIONS_3 t2 ON (t1.CASE_NUMBER = t2.CASE_NUMBER)\n",
    "                 WHERE (DAY(t1.Receipt_date -t2.App_date)) >= 0;\n",
    "\"\"\"\n",
    "pydb.create_temp_table(create_adopt_orders_0,'adopt_orders_0')\n",
    "\n",
    "create_adopt_orders_1 = f\"\"\"\n",
    "   SELECT t1.CASE_NUMBER, \n",
    "          t1.Court, \n",
    "          t1.Year, \n",
    "          t1.Quarter, \n",
    "          t1.App_type, \n",
    "          t1.EVENT_MODEL AS Disp_Type, \n",
    "          t1.App_date, \n",
    "          t1.Disp_Date, \n",
    "          t1.FIELD_MODEL, \n",
    "          t1.Order_type, \n",
    "          t1.Number_applicants, \n",
    "          t1.Child_sex, /*Changed this from child_sex2 as the process has changed, check to see if an error comes up*/ \n",
    "          t1.Adoption, \n",
    "          t1.Type, \n",
    "          row_number() over (order by CASE_NUMBER,App_type,App_date) as Seq_no\n",
    "      FROM __temp__.ADOPT_ORDERS_0 t1\n",
    "      ORDER BY t1.CASE_NUMBER,\n",
    "               t1.App_type,\n",
    "               t1.App_date;\n",
    "\"\"\"\n",
    "\n",
    "pydb.create_temp_table(create_adopt_orders_1,'adopt_orders_1')\n",
    "\n",
    "create_adopt_orders_2 = f\"\"\"\n",
    "SELECT DISTINCT CASE_NUMBER, \n",
    "          App_type, \n",
    "          App_date, \n",
    "        (MIN(Seq_No)) AS MIN_of_Seq_No\n",
    "      FROM __temp__.ADOPT_ORDERS_1 t1\n",
    "      GROUP BY CASE_NUMBER,\n",
    "               App_type,\n",
    "               App_date;\n",
    "\"\"\"\n",
    "\n",
    "pydb.create_temp_table(create_adopt_orders_2,'adopt_orders_2')\n",
    "\n",
    "create_adopt_orders_3 = f\"\"\"\n",
    "   SELECT DISTINCT t1.CASE_NUMBER, \n",
    "          t1.App_type, \n",
    "          t2.Court, \n",
    "          t1.App_date, \n",
    "          t2.Disp_Date, \n",
    "          t2.Disp_Type, \n",
    "          t2.Year, \n",
    "          t2.Quarter, \n",
    "          t2.Order_type, \n",
    "          t2.Adoption, \n",
    "          t2.Type\n",
    "      FROM __temp__.ADOPT_ORDERS_2 t1\n",
    "           LEFT JOIN __temp__.ADOPT_ORDERS_1 t2 ON (t1.MIN_of_Seq_No = t2.Seq_No);\n",
    "\"\"\"\n",
    "pydb.create_temp_table(create_adopt_orders_3,'adopt_orders_3')\n"
   ]
  },
  {
   "cell_type": "markdown",
   "metadata": {},
   "source": [
    "## adopt_apps_and_orders_match table"
   ]
  },
  {
   "cell_type": "markdown",
   "metadata": {},
   "source": [
    "### Drop the adopt_apps_and_orders_match table if it already exists and remove its data from the S3 bucket"
   ]
  },
  {
   "cell_type": "code",
   "execution_count": null,
   "metadata": {},
   "outputs": [],
   "source": [
    "drop_adopt_apps_and_orders_match = f\"\"\"\n",
    "DROP TABLE IF EXISTS fcsq.adopt_apps_and_orders_match;\n",
    "\"\"\"\n",
    "pydb.read_sql_query(drop_adopt_apps_and_orders_match)\n",
    "\n",
    "# clean up previous adopt_apps_and_orders_match files\n",
    "bucket.objects.filter(Prefix=\"fcsq_processing/Adoption/adopt_apps_and_orders_match/\").delete()"
   ]
  },
  {
   "cell_type": "markdown",
   "metadata": {},
   "source": [
    "### Create the adopt_apps_and_orders_match table in Athena"
   ]
  },
  {
   "cell_type": "code",
   "execution_count": null,
   "metadata": {},
   "outputs": [],
   "source": [
    "create_adopt_apps_and_orders_match =f\"\"\"\n",
    "CREATE TABLE IF NOT EXISTS fcsq.ADOPT_APPS_AND_ORDERS_MATCH\n",
    "WITH (format = 'PARQUET', external_location = 's3://alpha-family-data/fcsq_processing/Adoption/ADOPT_APPS_AND_ORDERS_MATCH') AS\n",
    "   SELECT t2.CASE_NUMBER, \n",
    "          t2.App_type, \n",
    "          t2.Court, \n",
    "          t2.App_date, \n",
    "          t2.Disp_Date, \n",
    "          /* Wait_weeks */\n",
    "            (DAY(t2.Disp_Date-t2.App_date)/7) AS Wait_weeks, \n",
    "          t2.Disp_Type, \n",
    "          t2.Year, \n",
    "          t2.Quarter, \n",
    "          t2.Order_type, \n",
    "          t2.Adoption, \n",
    "          t2.Type, \n",
    "          /* DSP_COURT */\n",
    "         /*(INPUT(t2.Court, 3.0)) AS DSP_COURT*/ /*This line used to reformat to number but new SQL input is already number so can delete if \n",
    "\t\t  \t\t\t\t\t\t\t\t\t\t\t\t\t\t\t everything works with the new line below*/\n",
    "\t\t  t2.Court AS DSP_COURT\n",
    "      FROM __temp__.ADOPT_ORDERS_3 t2;\n",
    "\n",
    "\n",
    "\"\"\"\n",
    "pydb.read_sql_query(create_adopt_apps_and_orders_match)"
   ]
  },
  {
   "cell_type": "markdown",
   "metadata": {},
   "source": [
    "#### ADOPT_APPS_AND_ORDERS_MATCH validation"
   ]
  },
  {
   "cell_type": "code",
   "execution_count": null,
   "metadata": {},
   "outputs": [],
   "source": [
    "adopt_orders_data_sorted_count = pydb.read_sql_query(\"select count(*) as count from fcsq.ADOPT_APPS_AND_ORDERS_MATCH\")\n",
    "adopt_orders_data_sorted_count"
   ]
  },
  {
   "cell_type": "code",
   "execution_count": null,
   "metadata": {},
   "outputs": [],
   "source": [
    "create_adopt_case_data_v1 = f\"\"\"\n",
    "SELECT T1.YEAR,\n",
    "            T1.QUARTER,\n",
    "            T1.COURT,\n",
    "            T1.CASE_NUMBER,\n",
    "            T1.APP_TYPE,\n",
    "            T1.CASE_APP_TYPE,\n",
    "            T1.ADOPTION,\n",
    "            T1.HIGH_COURT,\n",
    "            T1.CONTESTED,\n",
    "            T1.NUMBER_APPLICANTS,\n",
    "            T1.ADOPTER_TYPE,\n",
    "            date_format(T1.APP_DATE,'%d-%m-%Y') AS APP_DATE2\n",
    "    FROM fcsq.adopt_apps_6_adoptions_only AS t1;\n",
    "\"\"\"\n",
    "pydb.read_sql_query(create_adopt_case_data_v1)\n",
    "#pydb.create_temp_table(create_adopt_case_data_v1,'adopt_case_data_v1')"
   ]
  },
  {
   "cell_type": "markdown",
   "metadata": {},
   "source": [
    "## Applicant_Info table"
   ]
  },
  {
   "cell_type": "markdown",
   "metadata": {},
   "source": [
    "### Drop the Applicant_Info table if it already exists and remove its data from the S3 bucket"
   ]
  },
  {
   "cell_type": "code",
   "execution_count": null,
   "metadata": {},
   "outputs": [],
   "source": [
    "drop_Adopt_Applicant_Info = f\"\"\"\n",
    "DROP TABLE IF EXISTS fcsq.Adopt_Applicant_Info;\n",
    "\"\"\"\n",
    "pydb.read_sql_query(drop_Adopt_Applicant_Info)\n",
    "\n",
    "# clean up previous Adopt_Applicant_Info files\n",
    "bucket.objects.filter(Prefix=\"fcsq_processing/Adoption/Adopt_Applicant_Info/\").delete()"
   ]
  },
  {
   "cell_type": "markdown",
   "metadata": {},
   "source": [
    "### Create the Applicant_Info table in Athena"
   ]
  },
  {
   "cell_type": "code",
   "execution_count": null,
   "metadata": {},
   "outputs": [],
   "source": [
    "create_Adopt_Applicant_Info = f\"\"\"\n",
    "CREATE TABLE IF NOT EXISTS fcsq.Adopt_Applicant_Info\n",
    "WITH (format = 'PARQUET', external_location = 's3://alpha-family-data/fcsq_processing/Adoption/Adopt_Applicant_Info') AS\n",
    " SELECT DISTINCT\n",
    "   familyman_dev_v2.roles.ROLE, \n",
    "   familyman_dev_v2.roles.REPRESENTATIVE_ROLE, \n",
    "   familyman_dev_v2.roles.ROLE_MODEL, \n",
    "   familyman_dev_v2.roles.PARTY, \n",
    "   familyman_dev_v2.roles.CASE_NUMBER, \n",
    "   familyman_dev_v2.parties.PERSON_GIVEN_FIRST_NAME, \n",
    "   familyman_dev_v2.parties.PERSON_FAMILY_NAME, \n",
    "   familyman_dev_v2.parties.COMPANY, \n",
    "   familyman_dev_v2.addresses.POSTCODE, \n",
    "   familyman_dev_v2.parties.GENDER, \n",
    "   familyman_dev_v2.roles.DELETE_FLAG\n",
    "FROM \n",
    "  (familyman_dev_v2.roles INNER JOIN familyman_dev_v2.parties ON familyman_dev_v2.roles.PARTY = familyman_dev_v2.parties.PARTY) \n",
    "  LEFT JOIN familyman_dev_v2.addresses ON familyman_dev_v2.roles.ADDRESS = familyman_dev_v2.addresses.ADDRESS\n",
    "WHERE \n",
    "    (((familyman_dev_v2.roles.ROLE_MODEL)= 'APLZ') AND ((familyman_dev_v2.roles.DELETE_FLAG)= 'N')) \n",
    "    OR (((familyman_dev_v2.roles.ROLE_MODEL)= 'APLA') AND ((familyman_dev_v2.roles.DELETE_FLAG)= 'N'));\n",
    "\"\"\"\n",
    "\n",
    "pydb.read_sql_query(create_Adopt_Applicant_Info)\n",
    "\n"
   ]
  },
  {
   "cell_type": "markdown",
   "metadata": {},
   "source": [
    "#### Applicant_Info validation"
   ]
  },
  {
   "cell_type": "code",
   "execution_count": null,
   "metadata": {},
   "outputs": [],
   "source": [
    "Adopt_Applicant_Info_count = pydb.read_sql_query(\"select count(*) as count from fcsq.Adopt_Applicant_Info\")\n",
    "Adopt_Applicant_Info_count"
   ]
  },
  {
   "cell_type": "markdown",
   "metadata": {},
   "source": [
    "## adopt_respondent_info table"
   ]
  },
  {
   "cell_type": "markdown",
   "metadata": {},
   "source": [
    "### Drop the adopt_respondent_info table if it already exists and remove its data from the S3 bucket"
   ]
  },
  {
   "cell_type": "code",
   "execution_count": null,
   "metadata": {},
   "outputs": [],
   "source": [
    "drop_adopt_respondent_info = f\"\"\"\n",
    "DROP TABLE IF EXISTS fcsq.adopt_respondent_info;\n",
    "\"\"\"\n",
    "pydb.read_sql_query(drop_adopt_respondent_info)\n",
    "\n",
    "# clean up previous adopt_respondent_info files\n",
    "bucket.objects.filter(Prefix=\"fcsq_processing/Adoption/adopt_respondent_info/\").delete()"
   ]
  },
  {
   "cell_type": "markdown",
   "metadata": {},
   "source": [
    "### Create the adopt_respondent_info table in Athena"
   ]
  },
  {
   "cell_type": "code",
   "execution_count": null,
   "metadata": {},
   "outputs": [],
   "source": [
    "create_adopt_respondent_info = f\"\"\"\n",
    "CREATE TABLE IF NOT EXISTS fcsq.adopt_respondent_info\n",
    "WITH (format = 'PARQUET', external_location = 's3://alpha-family-data/fcsq_processing/Adoption/adopt_respondent_info') AS\n",
    "SELECT DISTINCT\n",
    "  familyman_dev_v2.roles.ROLE, \n",
    "  familyman_dev_v2.roles.REPRESENTATIVE_ROLE, \n",
    "  familyman_dev_v2.roles.ROLE_MODEL, \n",
    "  familyman_dev_v2.roles.PARTY, \n",
    "  familyman_dev_v2.roles.CASE_NUMBER, \n",
    "  familyman_dev_v2.parties.GENDER, \n",
    "  familyman_dev_v2.addresses.POSTCODE, \n",
    "  familyman_dev_v2.roles.DELETE_FLAG\n",
    "FROM \n",
    "  (familyman_dev_v2.roles INNER JOIN familyman_dev_v2.parties ON familyman_dev_v2.roles.PARTY = familyman_dev_v2.parties.PARTY) \n",
    "    LEFT JOIN familyman_dev_v2.addresses ON familyman_dev_v2.roles.ADDRESS = familyman_dev_v2.addresses.ADDRESS\n",
    "WHERE \n",
    "    (((familyman_dev_v2.roles.ROLE_MODEL)='RSPA') AND ((familyman_dev_v2.roles.DELETE_FLAG)='N')) \n",
    "    OR (((familyman_dev_v2.roles.ROLE_MODEL)='RSPZ') AND ((familyman_dev_v2.roles.DELETE_FLAG)='N')); \n",
    "\"\"\"\n",
    "\n",
    "pydb.read_sql_query(create_adopt_respondent_info)\n",
    "\n"
   ]
  },
  {
   "cell_type": "markdown",
   "metadata": {},
   "source": [
    "#### adopt_respondent_info validation"
   ]
  },
  {
   "cell_type": "code",
   "execution_count": null,
   "metadata": {},
   "outputs": [],
   "source": [
    "adopt_respondent_info_count = pydb.read_sql_query(\"select count(*) as count from fcsq.adopt_respondent_info\")\n",
    "adopt_respondent_info_count"
   ]
  },
  {
   "cell_type": "markdown",
   "metadata": {},
   "source": [
    "## applicants 3 table"
   ]
  },
  {
   "cell_type": "code",
   "execution_count": null,
   "metadata": {},
   "outputs": [],
   "source": [
    "create_adopt_applicants_1 = f\"\"\"\n",
    "SELECT \tT1.role,\n",
    "    T1.representative_role,\n",
    "    T1.role_model,\n",
    "    T1.party,\n",
    "    T1.case_number,\n",
    "    T1.gender,\n",
    "    case when cast(gender as varchar(1)) = '1' then 'Male'\n",
    "    when cast(gender as varchar(1)) = '2' then 'Female'\n",
    "    else 'Unknown' end as Gender_Decode\n",
    "\n",
    "    FROM fcsq.adopt_applicant_info AS t1\n",
    "    ORDER BY t1.Case_Number;\n",
    "\"\"\"\n",
    "#pydb.read_sql_query(create_adopt_applicants_1)\n",
    "pydb.create_temp_table(create_adopt_applicants_1,'adopt_applicants_1')\n",
    "\n",
    "\n",
    "\n",
    "create_adopt_applicants_2 = f\"\"\"\n",
    "SELECT DISTINCT \n",
    "    T1.case_number,\n",
    "    T1.party,\n",
    "    max(T1.representative_role) as Rep_Role,\n",
    "    max(T1.gender_decode) as Gender_Max\n",
    "    from __temp__.adopt_applicants_1 AS t1\n",
    "    group by Case_number, party;\n",
    "\"\"\"\n",
    "\n",
    "pydb.create_temp_table(create_adopt_applicants_2,'adopt_applicants_2')\n",
    "#pydb.read_sql_query(create_adopt_applicants_2)\n",
    "\n",
    "\n",
    "create_adopt_applicants_3= f\"\"\"\n",
    "SELECT t1.case_number,\n",
    "    t1.party as App_Party_ID,\n",
    "    t1.Rep_Role,\n",
    "    t1.Gender_Max,\n",
    "    case when t1.Rep_Role IS NULL then 'N'\n",
    "    when t1.Rep_Role IS NOT NULL then 'Y'\n",
    "    End as REPRESENTATION,\n",
    "    case when Rep_Role IS NULL AND Gender_Max = 'Female' then 'Unrep_Female'\n",
    "    when Rep_Role IS NULL AND Gender_Max = 'Male' then 'Unrep_Male'\n",
    "    when Rep_Role IS NULL AND Gender_Max = 'Unknown' then 'Unrep_Unknown'\n",
    "    when Rep_Role IS NOT NULL AND Gender_Max = 'Female' then 'Rep_Female'\n",
    "    when Rep_Role IS NOT NULL AND Gender_Max = 'Male' then 'Rep_Male'\n",
    "    when Rep_Role IS NOT NULL AND Gender_Max = 'Unknown' then 'Rep_Unknown'\n",
    "    else '' end as App_Rep_Cat\n",
    "    \n",
    "    from __temp__.adopt_applicants_2 AS t1;\n",
    "\n",
    "\n",
    "\"\"\"\n",
    "#pydb.read_sql_query(create_adopt_applicants_3)\n",
    "pydb.create_temp_table(create_adopt_applicants_3,'adopt_applicants_3')\n"
   ]
  },
  {
   "cell_type": "code",
   "execution_count": null,
   "metadata": {},
   "outputs": [],
   "source": [
    "create_adopt_applicants_1 = f\"\"\"\n",
    "SELECT \tT1.role,\n",
    "    T1.representative_role,\n",
    "    T1.role_model,\n",
    "    T1.party,\n",
    "    T1.case_number,\n",
    "    T1.gender,\n",
    "    case when cast(gender as varchar(1)) = '1' then 'Male'\n",
    "    when cast(gender as varchar(1)) = '2' then 'Female'\n",
    "    else 'Unknown' end as Gender_Decode\n",
    "\n",
    "    FROM fcsq.adopt_applicant_info AS t1\n",
    "    ORDER BY t1.Case_Number;\n",
    "\"\"\"\n",
    "#pydb.read_sql_query(create_adopt_applicants_1)\n",
    "pydb.create_temp_table(create_adopt_applicants_1,'adopt_applicants_1')\n",
    "\n",
    "\n",
    "\n",
    "create_adopt_applicants_2 = f\"\"\"\n",
    "SELECT DISTINCT \n",
    "    T1.case_number,\n",
    "    T1.party,\n",
    "    max(T1.representative_role) as Rep_Role,\n",
    "    max(T1.gender_decode) as Gender_Max\n",
    "    from __temp__.adopt_applicants_1 AS t1\n",
    "    group by Case_number, party;\n",
    "\"\"\"\n",
    "\n",
    "pydb.create_temp_table(create_adopt_applicants_2,'adopt_applicants_2')\n",
    "#pydb.read_sql_query(create_adopt_applicants_2)\n",
    "\n",
    "\n",
    "create_adopt_applicants_3= f\"\"\"\n",
    "SELECT t1.case_number,\n",
    "    t1.party as App_Party_ID,\n",
    "    t1.Rep_Role,\n",
    "    t1.Gender_Max,\n",
    "    case when t1.Rep_Role IS NULL then 'N'\n",
    "    when t1.Rep_Role IS NOT NULL then 'Y'\n",
    "    End as REPRESENTATION,\n",
    "    case when Rep_Role IS NULL AND Gender_Max = 'Female' then 'Unrep_Female'\n",
    "    when Rep_Role IS NULL AND Gender_Max = 'Male' then 'Unrep_Male'\n",
    "    when Rep_Role IS NULL AND Gender_Max = 'Unknown' then 'Unrep_Unknown'\n",
    "    when Rep_Role IS NOT NULL AND Gender_Max = 'Female' then 'Rep_Female'\n",
    "    when Rep_Role IS NOT NULL AND Gender_Max = 'Male' then 'Rep_Male'\n",
    "    when Rep_Role IS NOT NULL AND Gender_Max = 'Unknown' then 'Rep_Unknown'\n",
    "    else '' end as App_Rep_Cat\n",
    "    \n",
    "    from __temp__.adopt_applicants_2 AS t1;\n",
    "\n",
    "\n",
    "\"\"\"\n",
    "#pydb.read_sql_query(create_adopt_applicants_3)\n",
    "pydb.create_temp_table(create_adopt_applicants_3,'adopt_applicants_3')"
   ]
  },
  {
   "cell_type": "code",
   "execution_count": null,
   "metadata": {},
   "outputs": [],
   "source": []
  }
 ],
 "metadata": {
  "kernelspec": {
   "display_name": "venvname",
   "language": "python",
   "name": "venvname"
  },
  "language_info": {
   "codemirror_mode": {
    "name": "ipython",
    "version": 3
   },
   "file_extension": ".py",
   "mimetype": "text/x-python",
   "name": "python",
   "nbconvert_exporter": "python",
   "pygments_lexer": "ipython3",
   "version": "3.7.1"
  },
  "varInspector": {
   "cols": {
    "lenName": 16,
    "lenType": 16,
    "lenVar": 40
   },
   "kernels_config": {
    "python": {
     "delete_cmd_postfix": "",
     "delete_cmd_prefix": "del ",
     "library": "var_list.py",
     "varRefreshCmd": "print(var_dic_list())"
    },
    "r": {
     "delete_cmd_postfix": ") ",
     "delete_cmd_prefix": "rm(",
     "library": "var_list.r",
     "varRefreshCmd": "cat(var_dic_list()) "
    }
   },
   "types_to_exclude": [
    "module",
    "function",
    "builtin_function_or_method",
    "instance",
    "_Feature"
   ],
   "window_display": false
  }
 },
 "nbformat": 4,
 "nbformat_minor": 4
}
