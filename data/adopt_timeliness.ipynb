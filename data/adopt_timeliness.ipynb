{
 "cells": [
  {
   "cell_type": "markdown",
   "metadata": {},
   "source": [
    "# Adopt Timeliness"
   ]
  },
  {
   "cell_type": "code",
   "execution_count": null,
   "metadata": {},
   "outputs": [],
   "source": [
    "import pandas as pd  # for the data structures to store and manipulate tables\n",
    "import pydbtools as pydb  # see https://github.com/moj-analytical-services/pydbtools\n",
    "import boto3  # for working with AWS\n",
    "\n",
    "# few things for viewing dataframes better\n",
    "pd.set_option(\"display.max_columns\", 100)\n",
    "pd.set_option(\"display.width\", 900)\n",
    "pd.set_option(\"display.max_colwidth\", 200)\n",
    "\n",
    "database = \"familyman_dev_v2\"\n",
    "snapshot_date = \"2021-08-19\"\n",
    "database_derived = \"familyman_derived_dev_v1\"\n",
    "\n",
    "fcsq_database = \"fcsq\"\n",
    "\n",
    "s3 = boto3.resource(\"s3\")\n",
    "bucket = s3.Bucket(\"alpha-family-data\")"
   ]
  },
  {
   "cell_type": "markdown",
   "metadata": {},
   "source": [
    "## Adopt_applications_data_sorted table"
   ]
  },
  {
   "cell_type": "markdown",
   "metadata": {},
   "source": [
    "### Drop the adopt_applications_data_sorted table if it already exists and remove its data from the S3 bucket"
   ]
  },
  {
   "cell_type": "code",
   "execution_count": null,
   "metadata": {},
   "outputs": [],
   "source": [
    "drop_adopt_applications_data_sorted = f\"\"\"\n",
    "DROP TABLE IF EXISTS fcsq.adopt_applications_data_sorted;\n",
    "\"\"\"\n",
    "pydb.read_sql_query(drop_adopt_applications_data_sorted)\n",
    "\n",
    "# clean up previous adopt_applications_data_sorted files\n",
    "bucket.objects.filter(Prefix=\"fcsq_processing/Adoption/adopt_applications_data_sorted/\").delete()"
   ]
  },
  {
   "cell_type": "markdown",
   "metadata": {},
   "source": [
    "### Create the adopt_applications_data_sorted table in Athena"
   ]
  },
  {
   "cell_type": "code",
   "execution_count": null,
   "metadata": {},
   "outputs": [],
   "source": [
    "create_adopt_applications_data_sorted = f\"\"\"\n",
    "CREATE TABLE IF NOT EXISTS fcsq.adopt_applications_data_sorted\n",
    "WITH (format = 'PARQUET', external_location = 's3://alpha-family-data/fcsq_processing/Adoption/adopt_applications_data_sorted') AS\n",
    "SELECT * FROM\n",
    "fcsq.adopt_application_5\n",
    "ORDER BY \n",
    "CASE_NUMBER, APP_DATE\n",
    "\"\"\"\n",
    "\n",
    "pydb.read_sql_query(create_adopt_applications_data_sorted)\n",
    "\n"
   ]
  },
  {
   "cell_type": "markdown",
   "metadata": {},
   "source": [
    "#### adopt_applications_data_sorted validation"
   ]
  },
  {
   "cell_type": "code",
   "execution_count": null,
   "metadata": {},
   "outputs": [],
   "source": [
    "adopt_applications_data_sorted_count = pydb.read_sql_query(\"select count(*) as count from fcsq.adopt_applications_data_sorted\")\n",
    "adopt_applications_data_sorted_count"
   ]
  },
  {
   "cell_type": "markdown",
   "metadata": {},
   "source": [
    "## Create temporary tables"
   ]
  },
  {
   "cell_type": "code",
   "execution_count": null,
   "metadata": {},
   "outputs": [],
   "source": [
    "create_adopt_applications_1 = f\"\"\"\n",
    "SELECT *, row_number() over (order by CASE_NUMBER, APP_DATE) as SEQ_NUM\n",
    "FROM fcsq.adopt_applications_data_sorted\n",
    "\"\"\"\n",
    "pydb.create_temp_table(create_adopt_applications_1,'adopt_applications_1')\n",
    "\n",
    "create_adopt_applications_2 = f\"\"\"\n",
    "SELECT DISTINCT case_number, app_type, min(seq_num) as min_of_seq_num\n",
    "FROM __temp__.adopt_applications_1 GROUP BY case_number, app_type\n",
    "\"\"\"\n",
    "pydb.create_temp_table(create_adopt_applications_2,'adopt_applications_2')\n",
    "\n",
    "create_adopt_applications_3 = f\"\"\"\n",
    "SELECT\n",
    "    t1.case_number,\n",
    "    t2.App_date,\n",
    "    t2.year,\n",
    "    t2.quarter,\n",
    "    t2.court,\n",
    "    t2.app_type,\n",
    "    t2.Case_app_type, \n",
    "    t2.Adoption, \n",
    "    t2.Contested, \n",
    "    t2.Standard, \n",
    "    t2.Convention, \n",
    "    t2.Foreign, \n",
    "    t2.Placement, \n",
    "    t2.Placement_revoke_or_vary, \n",
    "    t2.Contact_s26, \n",
    "    t2.Contact_s26_revoke_or_vary, \n",
    "    t2.Change_surname, \n",
    "    t2.Remove_child_from_UK, \n",
    "    t2.Other_order_type, \n",
    "    t2.Adoption_Cases, \n",
    "    t2.Non_Adoption_Cases\n",
    "FROM __temp__.ADOPT_APPLICATIONS_2 t1 LEFT JOIN\n",
    "__temp__.ADOPT_APPLICATIONS_1 t2 ON (t1.MIN_of_seq_num = t2.Seq_Num)\n",
    "\"\"\"\n",
    "pydb.create_temp_table(create_adopt_applications_3,'adopt_applications_3')"
   ]
  },
  {
   "cell_type": "markdown",
   "metadata": {},
   "source": [
    "## adopt_orders_data_sorted table"
   ]
  },
  {
   "cell_type": "markdown",
   "metadata": {},
   "source": [
    "### Drop the adopt_orders_data_sorted table if it already exists and remove its data from the S3 bucket"
   ]
  },
  {
   "cell_type": "code",
   "execution_count": null,
   "metadata": {},
   "outputs": [],
   "source": [
    "drop_adopt_orders_data_sorted = f\"\"\"\n",
    "DROP TABLE IF EXISTS fcsq.adopt_orders_data_sorted;\n",
    "\"\"\"\n",
    "pydb.read_sql_query(drop_adopt_orders_data_sorted)\n",
    "\n",
    "# clean up previous adopt_orders_data_sorted files\n",
    "bucket.objects.filter(Prefix=\"fcsq_processing/Adoption/adopt_orders_data_sorted/\").delete()"
   ]
  },
  {
   "cell_type": "markdown",
   "metadata": {},
   "source": [
    "### Create the adopt_orders_data_sorted table in Athena"
   ]
  },
  {
   "cell_type": "code",
   "execution_count": null,
   "metadata": {},
   "outputs": [],
   "source": [
    "create_adopt_orders_data_sorted = f\"\"\"\n",
    "CREATE TABLE IF NOT EXISTS fcsq.adopt_orders_data_sorted\n",
    "WITH (format = 'PARQUET', external_location = 's3://alpha-family-data/fcsq_processing/Adoption/adopt_orders_data_sorted') AS\n",
    "SELECT * \n",
    "FROM fcsq.adopt_disposals5 t1\n",
    "    WHERE t1.Type != 'Contact_s26' AND t1.Type != 'Contact_s26_revoke_or_vary' AND t1.Type != \n",
    "        'Placement_revoke_or_vary' AND t1.Type != 'Other_order_type'\n",
    "    ORDER BY t1.CASE_NUMBER, t1.Receipt_date;\n",
    "\"\"\"\n",
    "pydb.read_sql_query(create_adopt_orders_data_sorted)"
   ]
  },
  {
   "cell_type": "markdown",
   "metadata": {},
   "source": [
    "#### adopt_orders_data_sorted validation"
   ]
  },
  {
   "cell_type": "code",
   "execution_count": null,
   "metadata": {},
   "outputs": [],
   "source": [
    "adopt_orders_data_sorted_count = pydb.read_sql_query(\"select count(*) as count from fcsq.adopt_orders_data_sorted\")\n",
    "adopt_orders_data_sorted_count"
   ]
  },
  {
   "cell_type": "markdown",
   "metadata": {},
   "source": [
    "## Create temporary tables"
   ]
  },
  {
   "cell_type": "code",
   "execution_count": null,
   "metadata": {},
   "outputs": [],
   "source": [
    "\"\"\"\n",
    "NOTE, WHERE clause usually references DATE_DIFF variable, this isn't working so far so just \n",
    "copied the creation of date_diff into the where clause\n",
    "\"\"\"\n",
    "\n",
    "create_adopt_orders_0 = f\"\"\"\n",
    "SELECT t1.CASE_NUMBER, \n",
    "          t1.Court, \n",
    "          t1.Year, \n",
    "          t1.Quarter, \n",
    "          t2.App_type, \n",
    "          t2.App_date, \n",
    "          t1.Receipt_date AS Disp_Date, \n",
    "          t1.EVENT_MODEL, \n",
    "          t1.FIELD_MODEL, \n",
    "          t1.Order_type, \n",
    "          t1.Country_of_birth, \n",
    "          t1.Number_applicants, \n",
    "          t1.Adopter_type, \n",
    "          t1.Adopter, \n",
    "          t1.Child_sex, /*Changed this from child_sex2 as the process has changed, check to see if an error comes up*/ \n",
    "          t1.Age_band, \n",
    "          t1.Child_age, \n",
    "          t1.Adoption, \n",
    "          t1.Type, \n",
    "          t1.Adopter_2, \n",
    "          DAY(t1.Receipt_date -t2.App_date) as DATE_DIFF\n",
    "      FROM fcsq.ADOPT_ORDERS_DATA_SORTED t1\n",
    "           INNER JOIN __temp__.ADOPT_APPLICATIONS_3 t2 ON (t1.CASE_NUMBER = t2.CASE_NUMBER)\n",
    "                 WHERE (DAY(t1.Receipt_date -t2.App_date)) >= 0;\n",
    "\"\"\"\n",
    "pydb.create_temp_table(create_adopt_orders_0,'adopt_orders_0')\n",
    "\n",
    "create_adopt_orders_1 = f\"\"\"\n",
    "   SELECT t1.CASE_NUMBER, \n",
    "          t1.Court, \n",
    "          t1.Year, \n",
    "          t1.Quarter, \n",
    "          t1.App_type, \n",
    "          t1.EVENT_MODEL AS Disp_Type, \n",
    "          t1.App_date, \n",
    "          t1.Disp_Date, \n",
    "          t1.FIELD_MODEL, \n",
    "          t1.Order_type, \n",
    "          t1.Number_applicants, \n",
    "          t1.Child_sex, /*Changed this from child_sex2 as the process has changed, check to see if an error comes up*/ \n",
    "          t1.Adoption, \n",
    "          t1.Type, \n",
    "          row_number() over (order by CASE_NUMBER,App_type,App_date) as Seq_no\n",
    "      FROM __temp__.ADOPT_ORDERS_0 t1\n",
    "      ORDER BY t1.CASE_NUMBER,\n",
    "               t1.App_type,\n",
    "               t1.App_date;\n",
    "\"\"\"\n",
    "\n",
    "pydb.create_temp_table(create_adopt_orders_1,'adopt_orders_1')\n",
    "\n",
    "create_adopt_orders_2 = f\"\"\"\n",
    "SELECT DISTINCT CASE_NUMBER, \n",
    "          App_type, \n",
    "          App_date, \n",
    "        (MIN(Seq_No)) AS MIN_of_Seq_No\n",
    "      FROM __temp__.ADOPT_ORDERS_1 t1\n",
    "      GROUP BY CASE_NUMBER,\n",
    "               App_type,\n",
    "               App_date;\n",
    "\"\"\"\n",
    "\n",
    "pydb.create_temp_table(create_adopt_orders_2,'adopt_orders_2')\n",
    "\n",
    "create_adopt_orders_3 = f\"\"\"\n",
    "   SELECT DISTINCT t1.CASE_NUMBER, \n",
    "          t1.App_type, \n",
    "          t2.Court, \n",
    "          t1.App_date, \n",
    "          t2.Disp_Date, \n",
    "          t2.Disp_Type, \n",
    "          t2.Year, \n",
    "          t2.Quarter, \n",
    "          t2.Order_type, \n",
    "          t2.Adoption, \n",
    "          t2.Type\n",
    "      FROM __temp__.ADOPT_ORDERS_2 t1\n",
    "           LEFT JOIN __temp__.ADOPT_ORDERS_1 t2 ON (t1.MIN_of_Seq_No = t2.Seq_No);\n",
    "\"\"\"\n",
    "pydb.create_temp_table(create_adopt_orders_3,'adopt_orders_3')\n"
   ]
  },
  {
   "cell_type": "markdown",
   "metadata": {},
   "source": [
    "## adopt_apps_and_orders_match table"
   ]
  },
  {
   "cell_type": "markdown",
   "metadata": {},
   "source": [
    "### Drop the adopt_apps_and_orders_match table if it already exists and remove its data from the S3 bucket"
   ]
  },
  {
   "cell_type": "code",
   "execution_count": null,
   "metadata": {},
   "outputs": [],
   "source": [
    "drop_adopt_apps_and_orders_match = f\"\"\"\n",
    "DROP TABLE IF EXISTS fcsq.adopt_apps_and_orders_match;\n",
    "\"\"\"\n",
    "pydb.read_sql_query(drop_adopt_apps_and_orders_match)\n",
    "\n",
    "# clean up previous adopt_apps_and_orders_match files\n",
    "bucket.objects.filter(Prefix=\"fcsq_processing/Adoption/adopt_apps_and_orders_match/\").delete()"
   ]
  },
  {
   "cell_type": "markdown",
   "metadata": {},
   "source": [
    "### Create the adopt_apps_and_orders_match table in Athena"
   ]
  },
  {
   "cell_type": "code",
   "execution_count": null,
   "metadata": {},
   "outputs": [],
   "source": [
    "create_adopt_apps_and_orders_match =f\"\"\"\n",
    "CREATE TABLE IF NOT EXISTS fcsq.ADOPT_APPS_AND_ORDERS_MATCH\n",
    "WITH (format = 'PARQUET', external_location = 's3://alpha-family-data/fcsq_processing/Adoption/ADOPT_APPS_AND_ORDERS_MATCH') AS\n",
    "   SELECT t2.CASE_NUMBER, \n",
    "          t2.App_type, \n",
    "          t2.Court, \n",
    "          t2.App_date, \n",
    "          t2.Disp_Date, \n",
    "          /* Wait_weeks */\n",
    "            (DAY(t2.Disp_Date-t2.App_date)/7) AS Wait_weeks, \n",
    "          t2.Disp_Type, \n",
    "          t2.Year, \n",
    "          t2.Quarter, \n",
    "          t2.Order_type, \n",
    "          t2.Adoption, \n",
    "          t2.Type, \n",
    "          /* DSP_COURT */\n",
    "         /*(INPUT(t2.Court, 3.0)) AS DSP_COURT*/ /*This line used to reformat to number but new SQL input is already number so can delete if \n",
    "\t\t  \t\t\t\t\t\t\t\t\t\t\t\t\t\t\t everything works with the new line below*/\n",
    "\t\t  t2.Court AS DSP_COURT\n",
    "      FROM __temp__.ADOPT_ORDERS_3 t2;\n",
    "\n",
    "\n",
    "\"\"\"\n",
    "pydb.read_sql_query(create_adopt_apps_and_orders_match)"
   ]
  },
  {
   "cell_type": "markdown",
   "metadata": {},
   "source": [
    "#### ADOPT_APPS_AND_ORDERS_MATCH validation"
   ]
  },
  {
   "cell_type": "code",
   "execution_count": null,
   "metadata": {},
   "outputs": [],
   "source": [
    "adopt_orders_data_sorted_count = pydb.read_sql_query(\"select count(*) as count from fcsq.ADOPT_APPS_AND_ORDERS_MATCH\")\n",
    "adopt_orders_data_sorted_count"
   ]
  },
  {
   "cell_type": "code",
   "execution_count": null,
   "metadata": {},
   "outputs": [],
   "source": [
    "create_adopt_case_data_v1 = f\"\"\"\n",
    "SELECT T1.YEAR,\n",
    "            T1.QUARTER,\n",
    "            T1.COURT,\n",
    "            T1.CASE_NUMBER,\n",
    "            T1.APP_TYPE,\n",
    "            T1.CASE_APP_TYPE,\n",
    "            T1.ADOPTION,\n",
    "            T1.HIGH_COURT,\n",
    "            T1.CONTESTED,\n",
    "            T1.NUMBER_APPLICANTS,\n",
    "            T1.ADOPTER_TYPE,\n",
    "            date_format(T1.APP_DATE,'%d-%m-%Y') AS APP_DATE2\n",
    "    FROM fcsq.adopt_apps_6_adoptions_only AS t1\n",
    "    ORDER BY case_number, app_date2, court;\n",
    "    \n",
    "\"\"\"\n",
    "\n",
    "create_adopt_case_data_v2 = f\"\"\"\n",
    "SELECT *,(case when row_number() over (partition by case_number order by \n",
    "        APP_DATE2) = 1 then 1 else 0 end) as case_number_id\n",
    "FROM __temp__.adopt_case_data_v1\n",
    "\"\"\"\n",
    "\n",
    "create_adopt_case_data_v3 = f\"\"\"\n",
    "SELECT *\n",
    "FROM __temp__.adopt_case_data_v2\n",
    "where case_number_id = 1 and year > 2010;\n",
    "\"\"\"\n",
    "pydb.create_temp_table(create_adopt_case_data_v1,'adopt_case_data_v1')\n",
    "\n",
    "pydb.create_temp_table(create_adopt_case_data_v2,'adopt_case_data_v2')\n",
    "pydb.create_temp_table(create_adopt_case_data_v3,'adopt_case_data_v3')\n",
    "\n",
    "\n",
    "\n"
   ]
  },
  {
   "cell_type": "code",
   "execution_count": null,
   "metadata": {},
   "outputs": [],
   "source": [
    "adopt_case_data_v3_check = \"SELECT COUNT(*) as Count from __temp__.adopt_case_data_v3\"\n",
    "pydb.read_sql_query(adopt_case_data_v3_check)"
   ]
  },
  {
   "cell_type": "markdown",
   "metadata": {},
   "source": [
    "## Applicant_Info table"
   ]
  },
  {
   "cell_type": "markdown",
   "metadata": {},
   "source": [
    "### Drop the Applicant_Info table if it already exists and remove its data from the S3 bucket"
   ]
  },
  {
   "cell_type": "code",
   "execution_count": null,
   "metadata": {},
   "outputs": [],
   "source": [
    "drop_Adopt_Applicant_Info = f\"\"\"\n",
    "DROP TABLE IF EXISTS fcsq.Adopt_Applicant_Info;\n",
    "\"\"\"\n",
    "pydb.read_sql_query(drop_Adopt_Applicant_Info)\n",
    "\n",
    "# clean up previous Adopt_Applicant_Info files\n",
    "bucket.objects.filter(Prefix=\"fcsq_processing/Adoption/Adopt_Applicant_Info/\").delete()"
   ]
  },
  {
   "cell_type": "markdown",
   "metadata": {},
   "source": [
    "### Create the Applicant_Info table in Athena"
   ]
  },
  {
   "cell_type": "code",
   "execution_count": null,
   "metadata": {},
   "outputs": [],
   "source": [
    "create_Adopt_Applicant_Info = f\"\"\"\n",
    "CREATE TABLE IF NOT EXISTS fcsq.Adopt_Applicant_Info\n",
    "WITH (format = 'PARQUET', external_location = 's3://alpha-family-data/fcsq_processing/Adoption/Adopt_Applicant_Info') AS\n",
    " SELECT DISTINCT\n",
    "   {database}.roles.ROLE, \n",
    "   {database}.roles.REPRESENTATIVE_ROLE, \n",
    "   {database}.roles.ROLE_MODEL, \n",
    "   {database}.roles.PARTY, \n",
    "   {database}.roles.CASE_NUMBER, \n",
    "   {database}.parties.PERSON_GIVEN_FIRST_NAME, \n",
    "   {database}.parties.PERSON_FAMILY_NAME, \n",
    "   {database}.parties.COMPANY, \n",
    "   {database}.addresses.POSTCODE, \n",
    "   {database}.parties.GENDER, \n",
    "   {database}.roles.DELETE_FLAG\n",
    "FROM \n",
    "  ({database}.roles INNER JOIN {database}.parties ON {database}.roles.PARTY = {database}.parties.PARTY) \n",
    "  LEFT JOIN {database}.addresses ON {database}.roles.ADDRESS = {database}.addresses.ADDRESS\n",
    "WHERE \n",
    "    ((({database}.roles.ROLE_MODEL)= 'APLZ') AND (({database}.roles.DELETE_FLAG)= 'N')) \n",
    "    OR ((({database}.roles.ROLE_MODEL)= 'APLA') AND (({database}.roles.DELETE_FLAG)= 'N'))\n",
    "    AND {database}.roles.mojap_snapshot_date = date '{snapshot_date}'\n",
    "    AND {database}.parties.mojap_snapshot_date = date '{snapshot_date}'\n",
    "    AND {database}.addresses.mojap_snapshot_date = date '{snapshot_date}';\n",
    "\"\"\"\n",
    "\n",
    "pydb.read_sql_query(create_Adopt_Applicant_Info)\n",
    "\n"
   ]
  },
  {
   "cell_type": "markdown",
   "metadata": {},
   "source": [
    "#### Applicant_Info validation"
   ]
  },
  {
   "cell_type": "code",
   "execution_count": null,
   "metadata": {},
   "outputs": [],
   "source": [
    "Adopt_Applicant_Info_count = pydb.read_sql_query(\"select count(*) as count from fcsq.Adopt_Applicant_Info\")\n",
    "Adopt_Applicant_Info_count"
   ]
  },
  {
   "cell_type": "markdown",
   "metadata": {},
   "source": [
    "## adopt_respondent_info table"
   ]
  },
  {
   "cell_type": "markdown",
   "metadata": {},
   "source": [
    "### Drop the adopt_respondent_info table if it already exists and remove its data from the S3 bucket"
   ]
  },
  {
   "cell_type": "code",
   "execution_count": null,
   "metadata": {},
   "outputs": [],
   "source": [
    "drop_adopt_respondent_info = f\"\"\"\n",
    "DROP TABLE IF EXISTS fcsq.adopt_respondent_info;\n",
    "\"\"\"\n",
    "pydb.read_sql_query(drop_adopt_respondent_info)\n",
    "\n",
    "# clean up previous adopt_respondent_info files\n",
    "bucket.objects.filter(Prefix=\"fcsq_processing/Adoption/adopt_respondent_info/\").delete()"
   ]
  },
  {
   "cell_type": "markdown",
   "metadata": {},
   "source": [
    "### Create the adopt_respondent_info table in Athena"
   ]
  },
  {
   "cell_type": "code",
   "execution_count": null,
   "metadata": {},
   "outputs": [],
   "source": [
    "create_adopt_respondent_info = f\"\"\"\n",
    "CREATE TABLE IF NOT EXISTS fcsq.adopt_respondent_info\n",
    "WITH (format = 'PARQUET', external_location = 's3://alpha-family-data/fcsq_processing/Adoption/adopt_respondent_info') AS\n",
    "SELECT DISTINCT\n",
    "  {database}.roles.ROLE, \n",
    "  {database}.roles.REPRESENTATIVE_ROLE, \n",
    "  {database}.roles.ROLE_MODEL, \n",
    "  {database}.roles.PARTY, \n",
    "  {database}.roles.CASE_NUMBER, \n",
    "  {database}.parties.GENDER, \n",
    "  {database}.addresses.POSTCODE, \n",
    "  {database}.roles.DELETE_FLAG\n",
    "FROM \n",
    "  ({database}.roles INNER JOIN {database}.parties ON {database}.roles.PARTY = {database}.parties.PARTY) \n",
    "    LEFT JOIN {database}.addresses ON {database}.roles.ADDRESS = {database}.addresses.ADDRESS\n",
    "WHERE \n",
    "    ((({database}.roles.ROLE_MODEL)='RSPA') AND (({database}.roles.DELETE_FLAG)='N')) \n",
    "    OR ((({database}.roles.ROLE_MODEL)='RSPZ') AND (({database}.roles.DELETE_FLAG)='N'))\n",
    "    AND {database}.roles.mojap_snapshot_date = date '{snapshot_date}'\n",
    "    AND {database}.parties.mojap_snapshot_date = date '{snapshot_date}'\n",
    "    AND {database}.addresses.mojap_snapshot_date = date '{snapshot_date}';\n",
    "\"\"\"\n",
    "\n",
    "pydb.read_sql_query(create_adopt_respondent_info)\n",
    "\n"
   ]
  },
  {
   "cell_type": "markdown",
   "metadata": {},
   "source": [
    "#### adopt_respondent_info validation"
   ]
  },
  {
   "cell_type": "code",
   "execution_count": null,
   "metadata": {},
   "outputs": [],
   "source": [
    "adopt_respondent_info_count = pydb.read_sql_query(\"select count(*) as count from fcsq.adopt_respondent_info\")\n",
    "adopt_respondent_info_count"
   ]
  },
  {
   "cell_type": "markdown",
   "metadata": {},
   "source": [
    "## applicants 3 table"
   ]
  },
  {
   "cell_type": "code",
   "execution_count": null,
   "metadata": {},
   "outputs": [],
   "source": [
    "create_adopt_applicants_1 = f\"\"\"\n",
    "SELECT \tT1.role,\n",
    "    T1.representative_role,\n",
    "    T1.role_model,\n",
    "    T1.party,\n",
    "    T1.case_number,\n",
    "    T1.gender,\n",
    "    case when cast(gender as varchar(1)) = '1' then 'Male'\n",
    "    when cast(gender as varchar(1)) = '2' then 'Female'\n",
    "    else 'Unknown' end as Gender_Decode\n",
    "\n",
    "    FROM fcsq.adopt_applicant_info AS t1\n",
    "    ORDER BY t1.Case_Number;\n",
    "\"\"\"\n",
    "#pydb.read_sql_query(create_adopt_applicants_1)\n",
    "pydb.create_temp_table(create_adopt_applicants_1,'adopt_applicants_1')\n",
    "\n",
    "\n",
    "\n",
    "create_adopt_applicants_2 = f\"\"\"\n",
    "SELECT DISTINCT \n",
    "    T1.case_number,\n",
    "    T1.party,\n",
    "    max(T1.representative_role) as Rep_Role,\n",
    "    max(T1.gender_decode) as Gender_Max\n",
    "    from __temp__.adopt_applicants_1 AS t1\n",
    "    group by Case_number, party;\n",
    "\"\"\"\n",
    "\n",
    "pydb.create_temp_table(create_adopt_applicants_2,'adopt_applicants_2')\n",
    "#pydb.read_sql_query(create_adopt_applicants_2)\n",
    "\n",
    "\n",
    "create_adopt_applicants_3= f\"\"\"\n",
    "SELECT t1.case_number,\n",
    "    t1.party as App_Party_ID,\n",
    "    t1.Rep_Role,\n",
    "    t1.Gender_Max,\n",
    "    case when t1.Rep_Role IS NULL then 'N'\n",
    "    when t1.Rep_Role IS NOT NULL then 'Y'\n",
    "    End as REPRESENTATION,\n",
    "    case when Rep_Role IS NULL AND Gender_Max = 'Female' then 'Unrep_Female'\n",
    "    when Rep_Role IS NULL AND Gender_Max = 'Male' then 'Unrep_Male'\n",
    "    when Rep_Role IS NULL AND Gender_Max = 'Unknown' then 'Unrep_Unknown'\n",
    "    when Rep_Role IS NOT NULL AND Gender_Max = 'Female' then 'Rep_Female'\n",
    "    when Rep_Role IS NOT NULL AND Gender_Max = 'Male' then 'Rep_Male'\n",
    "    when Rep_Role IS NOT NULL AND Gender_Max = 'Unknown' then 'Rep_Unknown'\n",
    "    else '' end as App_Rep_Cat\n",
    "    \n",
    "    from __temp__.adopt_applicants_2 AS t1;\n",
    "\n",
    "\n",
    "\"\"\"\n",
    "#pydb.read_sql_query(create_adopt_applicants_3)\n",
    "pydb.create_temp_table(create_adopt_applicants_3,'adopt_applicants_3')\n"
   ]
  },
  {
   "cell_type": "code",
   "execution_count": null,
   "metadata": {},
   "outputs": [],
   "source": [
    "pydb.read_sql_query(\"SELECT count(*) as count from __temp__.adopt_applicants_3\")"
   ]
  },
  {
   "cell_type": "code",
   "execution_count": null,
   "metadata": {},
   "outputs": [],
   "source": [
    "create_adopt_respondents_1 = f\"\"\"\n",
    "SELECT T1.role,\n",
    "    T1.representative_role,\n",
    "    T1.role_model,\n",
    "    T1.party,\n",
    "    T1.case_number,\n",
    "    T1.gender,\n",
    "    case when cast(gender as varchar(1)) = '1' then 'Male'\n",
    "    when cast(gender as varchar(1)) = '2' then 'Female'\n",
    "    else 'Unknown' end as Gender_Decode\n",
    "\n",
    "    FROM fcsq.adopt_respondent_info AS t1\n",
    "    ORDER BY t1.Case_Number;\n",
    "\"\"\"\n",
    "#pydb.read_sql_query(create_adopt_respondents_1)\n",
    "pydb.create_temp_table(create_adopt_respondents_1,'adopt_respondents_1')\n",
    "\n",
    "\n",
    "\n",
    "create_adopt_respondents_2 = f\"\"\"\n",
    "    SELECT DISTINCT T1.case_number,\n",
    "        T1.party,\n",
    "        max(T1.representative_role) as Rep_Role,\n",
    "        max(T1.gender_decode) as Gender_Max\n",
    "    from __temp__.adopt_respondents_1 AS t1\n",
    "    group by Case_number, party;\n",
    "\"\"\"\n",
    "\n",
    "pydb.create_temp_table(create_adopt_respondents_2,'adopt_respondents_2')\n",
    "#pydb.read_sql_query(create_adopt_respondents_2)\n",
    "\n",
    "\n",
    "create_adopt_respondents_3= f\"\"\"\n",
    "SELECT t1.case_number,\n",
    "    t1.party as Resp_Party_ID,\n",
    "    t1.Rep_Role,\n",
    "    t1.Gender_Max,\n",
    "    case when t1.Rep_Role IS NULL then 'N'\n",
    "    when t1.Rep_Role IS NOT NULL then 'Y'\n",
    "    End as REPRESENTATION,\n",
    "    case when Rep_Role IS NULL AND Gender_Max = 'Female' then 'Unrep_Female'\n",
    "    when Rep_Role IS NULL AND Gender_Max = 'Male' then 'Unrep_Male'\n",
    "    when Rep_Role IS NULL AND Gender_Max = 'Unknown' then 'Unrep_Unknown'\n",
    "    when Rep_Role IS NOT NULL AND Gender_Max = 'Female' then 'Rep_Female'\n",
    "    when Rep_Role IS NOT NULL AND Gender_Max = 'Male' then 'Rep_Male'\n",
    "    when Rep_Role IS NOT NULL AND Gender_Max = 'Unknown' then 'Rep_Unknown'\n",
    "    else '' end as Resp_Rep_Cat\n",
    "    \n",
    "    from __temp__.adopt_respondents_2 AS t1;\n",
    "\n",
    "\n",
    "\"\"\"\n",
    "#pydb.read_sql_query(create_adopt_respondents_3)\n",
    "pydb.create_temp_table(create_adopt_respondents_3,'adopt_respondents_3')"
   ]
  },
  {
   "cell_type": "code",
   "execution_count": null,
   "metadata": {},
   "outputs": [],
   "source": [
    "adopt_app_rep_final = f\"\"\"\n",
    "SELECT t1.YEAR, \n",
    "    t1.QUARTER,\n",
    "    t1.CASE_NUMBER, \n",
    "    t1.Court,\n",
    "    t2.App_Party_ID,\n",
    "    t2.Representation,\n",
    "    t2.Gender_Max as App_Gender,\n",
    "    t2.App_Rep_Cat          \n",
    "FROM __temp__.ADOPT_CASE_DATA_v3 t1\n",
    "    LEFT JOIN __temp__.ADOPT_APPLICANTS_3 t2 ON (t1.CASE_NUMBER = t2.CASE_NUMBER);\n",
    "\n",
    "\"\"\"\n",
    "\n",
    "pydb.create_temp_table(adopt_app_rep_final,'adopt_app_rep_final')\n"
   ]
  },
  {
   "cell_type": "code",
   "execution_count": null,
   "metadata": {},
   "outputs": [],
   "source": [
    "adopt_app_rep_final_check = \"SELECT COUNT(*) as Count from __temp__.adopt_app_rep_final\"\n",
    "pydb.read_sql_query(adopt_app_rep_final_check)"
   ]
  },
  {
   "cell_type": "code",
   "execution_count": null,
   "metadata": {},
   "outputs": [],
   "source": [
    "adopt_resp_rep_final = f\"\"\"\n",
    "   SELECT t1.YEAR, \n",
    "        t1.QUARTER,\n",
    "        t1.CASE_NUMBER, \n",
    "        t1.Court,\n",
    "          t2.Resp_Party_ID,\n",
    "          t2.Representation,\n",
    "          t2.Gender_Max as Resp_Gender,\n",
    "          t2.Resp_Rep_Cat\n",
    "          \n",
    "      FROM __temp__.ADOPT_CASE_DATA_v3 t1\n",
    "           LEFT JOIN __temp__.ADOPT_RESPONDENTS_3 t2 ON (t1.CASE_NUMBER = t2.CASE_NUMBER);\n",
    "\"\"\"\n",
    "\n",
    "pydb.create_temp_table(adopt_resp_rep_final,'adopt_resp_rep_final')"
   ]
  },
  {
   "cell_type": "code",
   "execution_count": null,
   "metadata": {},
   "outputs": [],
   "source": [
    "adopt_resp_rep_final_check = \"SELECT COUNT(*) as Count from __temp__.adopt_resp_rep_final\"\n",
    "pydb.read_sql_query(adopt_resp_rep_final_check)"
   ]
  },
  {
   "cell_type": "markdown",
   "metadata": {},
   "source": [
    "## Adopt_Hearing_Events table"
   ]
  },
  {
   "cell_type": "markdown",
   "metadata": {},
   "source": [
    "### Drop the Adopt_Hearing_Events table if it already exists and remove its data from the S3 bucket"
   ]
  },
  {
   "cell_type": "code",
   "execution_count": null,
   "metadata": {},
   "outputs": [],
   "source": [
    "drop_Adopt_Hearing_Events = f\"\"\"\n",
    "DROP TABLE IF EXISTS fcsq.Adopt_Hearing_Events;\n",
    "\"\"\"\n",
    "pydb.read_sql_query(drop_Adopt_Hearing_Events)\n",
    "\n",
    "# clean up previous Adopt_Hearing_Events files\n",
    "bucket.objects.filter(Prefix=\"fcsq_processing/Adoption/Adopt_Hearing_Events/\").delete()"
   ]
  },
  {
   "cell_type": "markdown",
   "metadata": {},
   "source": [
    "### Create the Adopt_Hearing_Events table in Athena"
   ]
  },
  {
   "cell_type": "code",
   "execution_count": null,
   "metadata": {},
   "outputs": [],
   "source": [
    "create_Adopt_Hearing_Events = f\"\"\"\n",
    "CREATE TABLE IF NOT EXISTS fcsq.Adopt_Hearing_Events\n",
    "WITH (format = 'PARQUET', external_location = 's3://alpha-family-data/fcsq_processing/Adoption/Adopt_Hearing_Events') AS\n",
    "SELECT {database}.hearings.EVENT,\n",
    "  {database}.hearings.VACATED_FLAG,\n",
    "  {database}.hearings.HEARING_TYPE,\n",
    "  {database}.hearings.HEARING_DATE,\n",
    "  {database}.events.RECEIPT_DATE,\n",
    "  {database}.events.ERROR,\n",
    "  {database}.events.CASE_NUMBER,\n",
    "  {database}.events.EVENT_MODEL\n",
    "FROM {database}.hearings\n",
    "INNER JOIN {database}.events\n",
    "ON {database}.hearings.EVENT            = {database}.events.EVENT\n",
    "WHERE {database}.hearings.VACATED_FLAG IS NULL\n",
    "AND {database}.events.ERROR             = 'N'\n",
    "AND HEARING_DATE > date_parse('31-12-2009 00:00:00', '%d-%m-%Y %H:%i:%s')\n",
    "AND (substring(case_number,5,1)='A' OR substring(case_number,5,1)='Z')\n",
    "AND {database}.hearings.mojap_snapshot_date = date '{snapshot_date}' and {database}.events.mojap_snapshot_date = date '{snapshot_date}';\n",
    "\"\"\"\n",
    "\n",
    "pydb.read_sql_query(create_Adopt_Hearing_Events)\n",
    "\n"
   ]
  },
  {
   "cell_type": "markdown",
   "metadata": {},
   "source": [
    "#### Adopt_Hearing_Events validation"
   ]
  },
  {
   "cell_type": "code",
   "execution_count": null,
   "metadata": {},
   "outputs": [],
   "source": [
    "Adopt_Hearing_Events_count = pydb.read_sql_query(\"select count(*) as count from fcsq.Adopt_Hearing_Events\")\n",
    "Adopt_Hearing_Events_count"
   ]
  },
  {
   "cell_type": "markdown",
   "metadata": {},
   "source": [
    "## Adopt_Hearings_Cases table"
   ]
  },
  {
   "cell_type": "markdown",
   "metadata": {},
   "source": [
    "### Drop the Adopt_Hearings_Cases table if it already exists and remove its data from the S3 bucket"
   ]
  },
  {
   "cell_type": "code",
   "execution_count": null,
   "metadata": {},
   "outputs": [],
   "source": [
    "drop_Adopt_Hearings_Cases = f\"\"\"\n",
    "DROP TABLE IF EXISTS fcsq.Adopt_Hearings_Cases;\n",
    "\"\"\"\n",
    "pydb.read_sql_query(drop_Adopt_Hearings_Cases)\n",
    "\n",
    "# clean up previous Adopt_Hearings_Cases files\n",
    "bucket.objects.filter(Prefix=\"fcsq_processing/Adoption/Adopt_Hearings_Cases/\").delete()"
   ]
  },
  {
   "cell_type": "markdown",
   "metadata": {},
   "source": [
    "### Create the Adopt_Hearings_Cases table in Athena"
   ]
  },
  {
   "cell_type": "code",
   "execution_count": null,
   "metadata": {},
   "outputs": [],
   "source": [
    "\"\"\"\n",
    "Equivalent to Hearings_Adopt_V3\n",
    "\"\"\"\n",
    "\n",
    "create_Adopt_Hearings_Cases = f\"\"\"\n",
    "CREATE TABLE IF NOT EXISTS fcsq.Adopt_Hearings_Cases\n",
    "WITH (format = 'PARQUET', external_location = 's3://alpha-family-data/fcsq_processing/Adoption/Adopt_Hearings_Cases') AS\n",
    "select t1.case_number,\n",
    "    t1.error,\n",
    "    t1.event,\n",
    "    t1.event_model,\n",
    "    t1.hearing_date,\n",
    "    t1.hearing_type,\n",
    "    t1.receipt_date,\n",
    "    t1.vacated_flag,\n",
    "    substring(Case_Number,5,1) AS Case_Type\n",
    "    from fcsq.Adopt_Hearing_Events AS t1\n",
    "    where t1.event_model in ('A8', 'A90', 'A91', 'G60')\n",
    "    order by t1.case_number, t1.receipt_date;\n",
    "\"\"\"\n",
    "\n",
    "pydb.read_sql_query(create_Adopt_Hearings_Cases)\n",
    "\n",
    "create_Adopt_Hearings_Cases_v2 = f\"\"\"\n",
    "SELECT *,\n",
    "(case when row_number() over (partition by Case_Number order by receipt_date) = 1 then 1 else 0 end) as Case_Number_ID\n",
    "FROM fcsq.Adopt_Hearings_Cases\n",
    "\"\"\"\n",
    "\n",
    "pydb.create_temp_table(create_Adopt_Hearings_Cases_v2,'adopt_hearings_cases_v2')\n",
    "pydb.read_sql_query(create_Adopt_Hearings_Cases_v2)\n"
   ]
  },
  {
   "cell_type": "markdown",
   "metadata": {},
   "source": [
    "#### Adopt_Hearings_Cases validation"
   ]
  },
  {
   "cell_type": "code",
   "execution_count": null,
   "metadata": {},
   "outputs": [],
   "source": [
    "Adopt_Hearings_Cases_count = pydb.read_sql_query(\"select count(*) as count from fcsq.Adopt_Hearings_Cases\")\n",
    "Adopt_Hearings_Cases_count"
   ]
  },
  {
   "cell_type": "markdown",
   "metadata": {},
   "source": [
    "## Hearing_Adopt_Applicants table"
   ]
  },
  {
   "cell_type": "markdown",
   "metadata": {},
   "source": [
    "### Drop the Hearing_Adopt_Applicants table if it already exists and remove its data from the S3 bucket"
   ]
  },
  {
   "cell_type": "code",
   "execution_count": null,
   "metadata": {},
   "outputs": [],
   "source": [
    "drop_Hearing_Adopt_Applicants = f\"\"\"\n",
    "DROP TABLE IF EXISTS fcsq.Hearing_Adopt_Applicants;\n",
    "\"\"\"\n",
    "pydb.read_sql_query(drop_Hearing_Adopt_Applicants)\n",
    "\n",
    "# clean up previous Hearing_Adopt_Applicants files\n",
    "bucket.objects.filter(Prefix=\"fcsq_processing/Adoption/Hearing_Adopt_Applicants/\").delete()"
   ]
  },
  {
   "cell_type": "markdown",
   "metadata": {},
   "source": [
    "### Create the Hearing_Adopt_Applicants table in Athena"
   ]
  },
  {
   "cell_type": "code",
   "execution_count": null,
   "metadata": {},
   "outputs": [],
   "source": [
    "create_Hearing_Adopt_Applicants = f\"\"\"\n",
    "CREATE TABLE IF NOT EXISTS fcsq.Hearing_Adopt_Applicants\n",
    "WITH (format = 'PARQUET', external_location = 's3://alpha-family-data/fcsq_processing/Adoption/Hearing_Adopt_Applicants') AS\n",
    "SELECT t1.*,\n",
    "t2.Case_Number_ID AS Hearing_Count\n",
    "FROM __temp__.ADOPT_APP_REP_FINAL t1\n",
    "LEFT JOIN __temp__.Adopt_Hearings_Cases_v2 t2 ON (t1.CASE_NUMBER = t2.CASE_NUMBER)\n",
    "where t2.Case_Number_ID > 0;\n",
    "\"\"\"\n",
    "\n",
    "pydb.read_sql_query(create_Hearing_Adopt_Applicants)\n",
    "\n"
   ]
  },
  {
   "cell_type": "markdown",
   "metadata": {},
   "source": [
    "#### Hearing_Adopt_Applicants validation"
   ]
  },
  {
   "cell_type": "code",
   "execution_count": null,
   "metadata": {},
   "outputs": [],
   "source": [
    "Hearing_Adopt_Applicants_count = pydb.read_sql_query(\"select count(*) as count from fcsq.Hearing_Adopt_Applicants\")\n",
    "Hearing_Adopt_Applicants_count"
   ]
  },
  {
   "cell_type": "markdown",
   "metadata": {},
   "source": [
    "## Hearing_Adopt_Respondents table"
   ]
  },
  {
   "cell_type": "markdown",
   "metadata": {},
   "source": [
    "### Drop the Hearing_Adopt_Respondents table if it already exists and remove its data from the S3 bucket"
   ]
  },
  {
   "cell_type": "code",
   "execution_count": null,
   "metadata": {},
   "outputs": [],
   "source": [
    "drop_Hearing_Adopt_Respondents = f\"\"\"\n",
    "DROP TABLE IF EXISTS fcsq.Hearing_Adopt_Respondents;\n",
    "\"\"\"\n",
    "pydb.read_sql_query(drop_Hearing_Adopt_Respondents)\n",
    "\n",
    "# clean up previous Hearing_Adopt_Respondents files\n",
    "bucket.objects.filter(Prefix=\"fcsq_processing/Adoption/Hearing_Adopt_Respondents/\").delete()"
   ]
  },
  {
   "cell_type": "markdown",
   "metadata": {},
   "source": [
    "### Create the Hearing_Adopt_Respondents table in Athena"
   ]
  },
  {
   "cell_type": "code",
   "execution_count": null,
   "metadata": {},
   "outputs": [],
   "source": [
    "create_Hearing_Adopt_Respondents = f\"\"\"\n",
    "CREATE TABLE IF NOT EXISTS fcsq.Hearing_Adopt_Respondents\n",
    "WITH (format = 'PARQUET', external_location = 's3://alpha-family-data/fcsq_processing/Adoption/Hearing_Adopt_Respondents') AS\n",
    "    SELECT t1.*,\n",
    "    t2.Case_Number_ID AS Hearing_Count\n",
    "    FROM __temp__.ADOPT_RESP_REP_FINAL t1\n",
    "    LEFT JOIN __temp__.Adopt_Hearings_Cases_v2 t2 ON (t1.CASE_NUMBER = t2.CASE_NUMBER)\n",
    "    where t2.Case_Number_ID > 0;\n",
    "\"\"\"\n",
    "\n",
    "pydb.read_sql_query(create_Hearing_Adopt_Respondents)\n",
    "\n"
   ]
  },
  {
   "cell_type": "markdown",
   "metadata": {},
   "source": [
    "#### Hearing_Adopt_Respondents validation"
   ]
  },
  {
   "cell_type": "code",
   "execution_count": null,
   "metadata": {},
   "outputs": [],
   "source": [
    "Hearing_Adopt_Respondents_count = pydb.read_sql_query(\"select count(*) as count from fcsq.Hearing_Adopt_Respondents\")\n",
    "Hearing_Adopt_Respondents_count"
   ]
  },
  {
   "cell_type": "markdown",
   "metadata": {},
   "source": [
    "## Adopt_App table"
   ]
  },
  {
   "cell_type": "markdown",
   "metadata": {},
   "source": [
    "### Drop the Adopt_App table if it already exists and remove its data from the S3 bucket"
   ]
  },
  {
   "cell_type": "code",
   "execution_count": null,
   "metadata": {},
   "outputs": [],
   "source": [
    "drop_Adopt_App = f\"\"\"\n",
    "DROP TABLE IF EXISTS fcsq.Adopt_App;\n",
    "\"\"\"\n",
    "pydb.read_sql_query(drop_Adopt_App)\n",
    "\n",
    "# clean up previous Adopt_App files\n",
    "bucket.objects.filter(Prefix=\"fcsq_processing/Adoption/Adopt_App/\").delete()"
   ]
  },
  {
   "cell_type": "markdown",
   "metadata": {},
   "source": [
    "### Create the Adopt_App table in Athena"
   ]
  },
  {
   "cell_type": "code",
   "execution_count": null,
   "metadata": {},
   "outputs": [],
   "source": [
    "create_Adopt_App = f\"\"\"\n",
    "CREATE TABLE IF NOT EXISTS fcsq.Adopt_App\n",
    "WITH (format = 'PARQUET', external_location = 's3://alpha-family-data/fcsq_processing/Adoption/Adopt_App') AS\n",
    "SELECT\n",
    "  'Adoption' AS CASE_TYPE,\n",
    "  Year,\n",
    "  Quarter,\n",
    "  'Party' AS Category,\n",
    "  'Applicant' AS PARTY,\n",
    "   App_Gender AS Gender,\n",
    "  Representation,\n",
    "  Count (*) AS Count\n",
    "FROM\n",
    "  fcsq.HEARING_ADOPT_APPLICANTS\n",
    "WHERE \n",
    "  Representation <> '' /*A very small number of cases from 2011/12 look into whether these should be recoded as N (gender is also blank)*/\n",
    "GROUP BY\n",
    "  'Adoption',\n",
    "  Year,\n",
    "  Quarter,\n",
    "  'Party',\n",
    "  'Applicant',\n",
    "  App_Gender,\n",
    "  Representation;\n",
    "\"\"\"\n",
    "\n",
    "pydb.read_sql_query(create_Adopt_App)\n",
    "\n"
   ]
  },
  {
   "cell_type": "markdown",
   "metadata": {},
   "source": [
    "#### Adopt_App validation"
   ]
  },
  {
   "cell_type": "code",
   "execution_count": null,
   "metadata": {},
   "outputs": [],
   "source": [
    "Adopt_App_count = pydb.read_sql_query(\"select count(*) as count from fcsq.Adopt_App\")\n",
    "Adopt_App_count"
   ]
  },
  {
   "cell_type": "markdown",
   "metadata": {},
   "source": [
    "## Adopt_resp table"
   ]
  },
  {
   "cell_type": "markdown",
   "metadata": {},
   "source": [
    "### Drop the Adopt_resp table if it already exists and remove its data from the S3 bucket"
   ]
  },
  {
   "cell_type": "code",
   "execution_count": null,
   "metadata": {},
   "outputs": [],
   "source": [
    "drop_Adopt_resp = f\"\"\"\n",
    "DROP TABLE IF EXISTS fcsq.Adopt_resp;\n",
    "\"\"\"\n",
    "pydb.read_sql_query(drop_Adopt_resp)\n",
    "\n",
    "# clean up previous Adopt_resp files\n",
    "bucket.objects.filter(Prefix=\"fcsq_processing/Adoption/Adopt_resp/\").delete()"
   ]
  },
  {
   "cell_type": "markdown",
   "metadata": {},
   "source": [
    "### Create the Adopt_resp table in Athena"
   ]
  },
  {
   "cell_type": "code",
   "execution_count": null,
   "metadata": {},
   "outputs": [],
   "source": [
    "create_Adopt_resp = f\"\"\"\n",
    "CREATE TABLE IF NOT EXISTS fcsq.Adopt_resp\n",
    "WITH (format = 'PARQUET', external_location = 's3://alpha-family-data/fcsq_processing/Adoption/Adopt_resp') AS\n",
    "SELECT\n",
    "  'Adoption' AS CASE_TYPE,\n",
    "  Year,\n",
    "  Quarter,\n",
    "  'Party' AS Category,\n",
    "  'Respondent' AS PARTY,\n",
    "  Resp_Gender AS Gender,\n",
    "  Representation,\n",
    "  Count (*) AS Count\n",
    "FROM\n",
    "  fcsq.HEARING_ADOPT_RESPONDENTS\n",
    "WHERE \n",
    "  Representation <> '' /*A very small number of cases from 2011/12 look into whether these should be recoded as N (gender is also blank)*/\n",
    "GROUP BY\n",
    "  'Adoption',\n",
    "  Year,\n",
    "  Quarter,\n",
    "  'Party',\n",
    "  'Applicant',\n",
    "  Resp_Gender,\n",
    "  Representation;\n",
    "\"\"\"\n",
    "\n",
    "pydb.read_sql_query(create_Adopt_resp)\n",
    "\n"
   ]
  },
  {
   "cell_type": "markdown",
   "metadata": {},
   "source": [
    "#### Adopt_resp validation"
   ]
  },
  {
   "cell_type": "code",
   "execution_count": null,
   "metadata": {},
   "outputs": [],
   "source": [
    "Adopt_resp_count = pydb.read_sql_query(\"select count(*) as count from fcsq.Adopt_resp\")\n",
    "Adopt_resp_count"
   ]
  },
  {
   "cell_type": "markdown",
   "metadata": {},
   "source": [
    "## adopt_case table"
   ]
  },
  {
   "cell_type": "markdown",
   "metadata": {},
   "source": [
    "### Drop the adopt_case table if it already exists and remove its data from the S3 bucket"
   ]
  },
  {
   "cell_type": "code",
   "execution_count": null,
   "metadata": {},
   "outputs": [],
   "source": [
    "drop_adopt_case = f\"\"\"\n",
    "DROP TABLE IF EXISTS fcsq.adopt_case;\n",
    "\"\"\"\n",
    "pydb.read_sql_query(drop_adopt_case)\n",
    "\n",
    "# clean up previous adopt_case files\n",
    "bucket.objects.filter(Prefix=\"fcsq_processing/Adoption/adopt_case/\").delete()"
   ]
  },
  {
   "cell_type": "markdown",
   "metadata": {},
   "source": [
    "### Create the adopt_case table in Athena"
   ]
  },
  {
   "cell_type": "code",
   "execution_count": null,
   "metadata": {},
   "outputs": [],
   "source": [
    "create_adopt_case = f\"\"\"\n",
    "CREATE TABLE IF NOT EXISTS fcsq.Adopt_case\n",
    "WITH (format = 'PARQUET', external_location = 's3://alpha-family-data/fcsq_processing/Adoption/Adopt_case') AS\n",
    "SELECT *,\n",
    "    Count(*) as Count FROM\n",
    "    (SELECT\n",
    "        'Adoption' AS CASE_TYPE,\n",
    "        Year,\n",
    "        Quarter,\n",
    "        'Cases' AS Category,\n",
    "        'N/A' AS PARTY,\n",
    "        'N/A' AS Gender,\n",
    "        'N/A' AS Representation\n",
    "    FROM\n",
    "      __temp__.adopt_case_data_v3)\n",
    "GROUP BY\n",
    "  CASE_TYPE,\n",
    "  Year,\n",
    "  Quarter,\n",
    "  Category,\n",
    "  PARTY,\n",
    "  Gender,\n",
    "  Representation;\n",
    "\"\"\"\n",
    "\n",
    "pydb.read_sql_query(create_adopt_case)\n",
    "\n"
   ]
  },
  {
   "cell_type": "markdown",
   "metadata": {},
   "source": [
    "#### adopt_case validation"
   ]
  },
  {
   "cell_type": "code",
   "execution_count": null,
   "metadata": {},
   "outputs": [],
   "source": [
    "adopt_case_count = pydb.read_sql_query(\"select count(*) as count from fcsq.adopt_case\")\n",
    "adopt_case_count"
   ]
  },
  {
   "cell_type": "markdown",
   "metadata": {},
   "source": [
    "## Adopt_Case_Hearings table"
   ]
  },
  {
   "cell_type": "markdown",
   "metadata": {},
   "source": [
    "### Drop the Adopt_Case_Hearings table if it already exists and remove its data from the S3 bucket"
   ]
  },
  {
   "cell_type": "code",
   "execution_count": null,
   "metadata": {},
   "outputs": [],
   "source": [
    "drop_Adopt_Case_Hearings = f\"\"\"\n",
    "DROP TABLE IF EXISTS fcsq.Adopt_Case_Hearings;\n",
    "\"\"\"\n",
    "pydb.read_sql_query(drop_Adopt_Case_Hearings)\n",
    "\n",
    "# clean up previous Adopt_Case_Hearings files\n",
    "bucket.objects.filter(Prefix=\"fcsq_processing/Adoption/Adopt_Case_Hearings/\").delete()"
   ]
  },
  {
   "cell_type": "markdown",
   "metadata": {},
   "source": [
    "### Create the Adopt_Case_Hearings table in Athena"
   ]
  },
  {
   "cell_type": "code",
   "execution_count": null,
   "metadata": {},
   "outputs": [],
   "source": [
    "create_hearing_adopt_case =f\"\"\"\n",
    "SELECT DISTINCT Year, Quarter, Case_Number\n",
    "FROM fcsq.HEARING_ADOPT_Applicants;\n",
    "\"\"\"\n",
    "\n",
    "pydb.create_temp_table(create_hearing_adopt_case,'hearing_adopt_case')\n",
    "\n",
    "\n",
    "\n",
    "create_Adopt_Case_Hearings = f\"\"\"\n",
    "CREATE TABLE IF NOT EXISTS fcsq.Adopt_Case_Hearings\n",
    "WITH (format = 'PARQUET', external_location = 's3://alpha-family-data/fcsq_processing/Adoption/Adopt_Case_Hearings') AS\n",
    "SELECT *, Count(*) as Count FROM\n",
    "    (SELECT\n",
    "      'Adoption' AS CASE_TYPE,\n",
    "      Year,\n",
    "      Quarter,\n",
    "      'Cases with a hearing' AS Category,\n",
    "      'N/A' AS PARTY,\n",
    "      'N/A' AS Gender,\n",
    "      'N/A' AS Representation\n",
    "    FROM\n",
    "      __temp__.Hearing_ADOPT_Case)\n",
    "GROUP BY\n",
    "  CASE_TYPE,\n",
    "  Year,\n",
    "  Quarter,\n",
    "  Category,\n",
    "  PARTY,\n",
    "  Gender,\n",
    "  Representation;\n",
    "\"\"\"\n",
    "\n",
    "pydb.read_sql_query(create_Adopt_Case_Hearings)\n",
    "\n"
   ]
  },
  {
   "cell_type": "markdown",
   "metadata": {},
   "source": [
    "#### Adopt_Case_Hearings validation"
   ]
  },
  {
   "cell_type": "code",
   "execution_count": null,
   "metadata": {},
   "outputs": [],
   "source": [
    "Adopt_Case_Hearings_count = pydb.read_sql_query(\"select count(*) as count from fcsq.Adopt_Case_Hearings\")\n",
    "Adopt_Case_Hearings_count"
   ]
  },
  {
   "cell_type": "markdown",
   "metadata": {},
   "source": [
    "## Adoption table"
   ]
  },
  {
   "cell_type": "markdown",
   "metadata": {},
   "source": [
    "### Drop the Adoption table if it already exists and remove its data from the S3 bucket"
   ]
  },
  {
   "cell_type": "code",
   "execution_count": null,
   "metadata": {},
   "outputs": [],
   "source": [
    "drop_Adoption = f\"\"\"\n",
    "DROP TABLE IF EXISTS fcsq.Adoption;\n",
    "\"\"\"\n",
    "pydb.read_sql_query(drop_Adoption)\n",
    "\n",
    "# clean up previous Adoption files\n",
    "bucket.objects.filter(Prefix=\"fcsq_processing/Adoption/Adoption/\").delete()"
   ]
  },
  {
   "cell_type": "markdown",
   "metadata": {},
   "source": [
    "### Create the Adoption table in Athena"
   ]
  },
  {
   "cell_type": "code",
   "execution_count": null,
   "metadata": {},
   "outputs": [],
   "source": [
    "create_Adoption = f\"\"\"\n",
    "CREATE TABLE IF NOT EXISTS fcsq.Adoption\n",
    "WITH (format = 'PARQUET', external_location = 's3://alpha-family-data/fcsq_processing/Adoption/Adoption') AS\n",
    "SELECT\n",
    "  *\n",
    "FROM\n",
    " fcsq.ADOPT_APP\n",
    "UNION ALL\n",
    "SELECT\n",
    "  *\n",
    "FROM\n",
    "  fcsq.ADOPT_RESP\n",
    "UNION ALL\n",
    "SELECT\n",
    "  *\n",
    "FROM\n",
    "  fcsq.ADOPT_CASE\n",
    "UNION ALL\n",
    "SELECT\n",
    "  *\n",
    "FROM\n",
    "  fcsq.ADOPT_CASE_HEARINGS;\n",
    "\"\"\"\n",
    "\n",
    "pydb.read_sql_query(create_Adoption)\n",
    "\n"
   ]
  },
  {
   "cell_type": "markdown",
   "metadata": {},
   "source": [
    "#### Adoption validation"
   ]
  },
  {
   "cell_type": "code",
   "execution_count": null,
   "metadata": {},
   "outputs": [],
   "source": [
    "Adoption_count = pydb.read_sql_query(\"select count(*) as count from fcsq.Adoption\")\n",
    "Adoption_count"
   ]
  },
  {
   "cell_type": "markdown",
   "metadata": {},
   "source": [
    "## Applicant_representation table"
   ]
  },
  {
   "cell_type": "markdown",
   "metadata": {},
   "source": [
    "### Drop the Applicant_representation table if it already exists and remove its data from the S3 bucket"
   ]
  },
  {
   "cell_type": "code",
   "execution_count": null,
   "metadata": {},
   "outputs": [],
   "source": [
    "drop_Applicant_representation = f\"\"\"\n",
    "DROP TABLE IF EXISTS fcsq.Applicant_representation;\n",
    "\"\"\"\n",
    "pydb.read_sql_query(drop_Applicant_representation)\n",
    "\n",
    "# clean up previous Applicant_representation files\n",
    "bucket.objects.filter(Prefix=\"fcsq_processing/Adoption/Applicant_representation/\").delete()"
   ]
  },
  {
   "cell_type": "markdown",
   "metadata": {},
   "source": [
    "### Create the Applicant_representation table in Athena"
   ]
  },
  {
   "cell_type": "code",
   "execution_count": null,
   "metadata": {},
   "outputs": [],
   "source": [
    "create_applicants_1 = f\"\"\"\n",
    "SELECT Distinct t1.Case_Number, t1.Party, MAX(t1.Representative_Role) as Max_Rep_Role\n",
    "FROM fcsq.Adopt_Applicant_Info t1\n",
    "Group by Case_Number, Party;\n",
    "\"\"\"\n",
    "\n",
    "pydb.create_temp_table(create_applicants_1,'applicants_1')\n",
    "\n",
    "create_applicants_2 = f\"\"\"\n",
    "SELECT  t1.*,\n",
    "case when Max_Rep_Role IS NULL then 0\n",
    "else 1\n",
    "end as Rep_IND\n",
    "FROM __temp__.Applicants_1 t1;\n",
    "\"\"\"\n",
    "pydb.create_temp_table(create_applicants_2,'applicants_2')\n",
    "\n",
    "create_applicants_3 = f\"\"\"\n",
    "SELECT Distinct t1.Case_Number,\n",
    "Count(t1.Party) as CountOfParty,\n",
    "SUM(t1.Rep_Ind) as SumOfRep_IND\n",
    "FROM __temp__.Applicants_2 t1\n",
    "Group by Case_Number;\n",
    "\"\"\"\n",
    "pydb.create_temp_table(create_applicants_3,'applicants_3')\n",
    "\n",
    "create_Applicant_representation = f\"\"\"\n",
    "CREATE TABLE IF NOT EXISTS fcsq.Applicant_representation\n",
    "WITH (format = 'PARQUET', external_location = 's3://alpha-family-data/fcsq_processing/Adoption/Applicant_representation') AS\n",
    "SELECT t1.Case_Number,\n",
    "t1.CountOfParty,\n",
    "t1.SumOfRep_IND,\n",
    "CASE WHEN t1.SumOfRep_Ind > t1.CountOfParty then 'Error'\n",
    "WHEN t1.SumOfRep_Ind = t1.CountOfParty then 'All'\n",
    "WHEN t1.SumOfRep_Ind =0 then 'None' else 'Some'  end as App_Rep_Cat\n",
    "FROM __temp__.Applicants_3 t1;\n",
    "\"\"\"\n",
    "\n",
    "pydb.read_sql_query(create_Applicant_representation)\n",
    "\n"
   ]
  },
  {
   "cell_type": "markdown",
   "metadata": {},
   "source": [
    "#### Applicant_representation validation"
   ]
  },
  {
   "cell_type": "code",
   "execution_count": null,
   "metadata": {},
   "outputs": [],
   "source": [
    "Applicant_representation_count = pydb.read_sql_query(\"select count(*) as count from fcsq.Applicant_representation\")\n",
    "Applicant_representation_count"
   ]
  },
  {
   "cell_type": "markdown",
   "metadata": {},
   "source": [
    "## Respondent_Representation table"
   ]
  },
  {
   "cell_type": "markdown",
   "metadata": {},
   "source": [
    "### Drop the Respondent_Representation table if it already exists and remove its data from the S3 bucket"
   ]
  },
  {
   "cell_type": "code",
   "execution_count": null,
   "metadata": {},
   "outputs": [],
   "source": [
    "drop_Respondent_Representation = f\"\"\"\n",
    "DROP TABLE IF EXISTS fcsq.Respondent_Representation;\n",
    "\"\"\"\n",
    "pydb.read_sql_query(drop_Respondent_Representation)\n",
    "\n",
    "# clean up previous Respondent_Representation files\n",
    "bucket.objects.filter(Prefix=\"fcsq_processing/Adoption/Respondent_Representation/\").delete()"
   ]
  },
  {
   "cell_type": "markdown",
   "metadata": {},
   "source": [
    "### Create the Respondent_Representation table in Athena"
   ]
  },
  {
   "cell_type": "code",
   "execution_count": null,
   "metadata": {},
   "outputs": [],
   "source": [
    "create_respondents_1 = f\"\"\"\n",
    "SELECT Distinct t1.Case_Number, t1.Party, MAX(t1.Representative_Role) as Max_Rep_Role\n",
    "FROM fcsq.Adopt_Respondent_Info t1\n",
    "Group by Case_Number, Party;\n",
    "\"\"\"\n",
    "\n",
    "pydb.create_temp_table(create_respondents_1,'respondents_1')\n",
    "\n",
    "create_respondents_2 = f\"\"\"\n",
    "SELECT  t1.*,\n",
    "case when Max_Rep_Role IS NULL then 0\n",
    "else 1\n",
    "end as Rep_IND\n",
    "FROM __temp__.respondents_1 t1;\n",
    "\"\"\"\n",
    "pydb.create_temp_table(create_respondents_2,'respondents_2')\n",
    "\n",
    "create_respondents_3 = f\"\"\"\n",
    "SELECT Distinct t1.Case_Number,\n",
    "Count(t1.Party) as CountOfParty,\n",
    "SUM(t1.Rep_Ind) as SumOfRep_IND\n",
    "FROM __temp__.respondents_2 t1\n",
    "Group by Case_Number;\n",
    "\"\"\"\n",
    "pydb.create_temp_table(create_respondents_3,'respondents_3')\n",
    "\n",
    "create_Respondent_Representation = f\"\"\"\n",
    "CREATE TABLE IF NOT EXISTS fcsq.Respondent_Representation\n",
    "WITH (format = 'PARQUET', external_location = 's3://alpha-family-data/fcsq_processing/Adoption/Respondent_Representation') AS\n",
    "SELECT t1.Case_Number,\n",
    "t1.CountOfParty,\n",
    "t1.SumOfRep_IND,\n",
    "CASE WHEN t1.SumOfRep_Ind > t1.CountOfParty then 'Error'\n",
    "WHEN t1.SumOfRep_Ind = t1.CountOfParty then 'All'\n",
    "WHEN t1.SumOfRep_Ind =0 then 'None' else 'Some'  end as Res_Rep_Cat\n",
    "FROM __temp__.Respondents_3 t1\n",
    "\"\"\"\n",
    "\n",
    "pydb.read_sql_query(create_Respondent_Representation)\n",
    "\n"
   ]
  },
  {
   "cell_type": "markdown",
   "metadata": {},
   "source": [
    "#### Respondent_Representation validation"
   ]
  },
  {
   "cell_type": "code",
   "execution_count": null,
   "metadata": {},
   "outputs": [],
   "source": [
    "Respondent_Representation_count = pydb.read_sql_query(\"select count(*) as count from fcsq.Respondent_Representation\")\n",
    "Respondent_Representation_count"
   ]
  },
  {
   "cell_type": "markdown",
   "metadata": {},
   "source": [
    "## Adopt_Disposals_Final table"
   ]
  },
  {
   "cell_type": "code",
   "execution_count": null,
   "metadata": {},
   "outputs": [],
   "source": [
    "create_ADOPT_APP_AND_ORDERS_WITH_REP = f\"\"\"\n",
    "SELECT t1.*,\n",
    "t2.APP_REP_CAT, \n",
    "t3.RES_REP_CAT\n",
    "FROM fcsq.ADOPT_APPS_AND_ORDERS_MATCH AS t1\n",
    "LEFT JOIN fcsq.Applicant_Representation AS t2 ON (t1.CASE_NUMBER = t2.CASE_NUMBER)\n",
    "LEFT JOIN fcsq.RESPONDENT_REPRESENTATION as t3 ON t1.CASE_NUMBER = t3.CASE_NUMBER;\n",
    "\"\"\"\n",
    "pydb.create_temp_table(create_ADOPT_APP_AND_ORDERS_WITH_REP,'ADOPT_APP_AND_ORDERS_WITH_REP')"
   ]
  },
  {
   "cell_type": "code",
   "execution_count": null,
   "metadata": {},
   "outputs": [],
   "source": [
    "pydb.read_sql_query(\"SELECT Count(*) as COUNT from __temp__.adopt_app_and_orders_with_rep\")"
   ]
  },
  {
   "cell_type": "code",
   "execution_count": null,
   "metadata": {},
   "outputs": [],
   "source": [
    "create_Adopt_Disposals_Final = f\"\"\"\n",
    "SELECT t1.*,\n",
    "cast(t1.Year as varchar(3)) || '-Q' || cast(t1.quarter as varchar(3)) AS Quarter2, \n",
    "case when (t1.APP_REP_CAT Is Null Or t1.RES_REP_CAT Is Null)  then '5 Unknown'\n",
    "    when t1.APP_REP_CAT='None' and t1.RES_REP_CAT ='None' then '4 Neither'\n",
    "    when t1.APP_REP_CAT='None' and t1.RES_REP_CAT != 'None' then '3 Respondent Only'\n",
    "    when t1.APP_REP_CAT != 'None' and t1.RES_REP_CAT = 'None' then '2 Applicant Only'\n",
    "Else '1 Both'\n",
    "End AS REP_CAT\n",
    "\n",
    "FROM __temp__.ADOPT_APP_AND_ORDERS_WITH_REP AS t1 LEFT JOIN (SELECT * FROM {database}.courts_mv WHERE {database}.courts_mv.mojap_snapshot_date = date '{snapshot_date}')\n",
    "AS t2 \n",
    "ON t1.DSP_COURT = cast(t2.Code as varchar(3));\n",
    "\n",
    "\"\"\"\n",
    "\n",
    "pydb.create_temp_table(create_Adopt_Disposals_Final,'Adopt_Disposals_Final')\n",
    "\n",
    "\"\"\"\n",
    "Missed out these columns for now:\n",
    "\n",
    "t2.Region_Pre2014, \n",
    "t2.Region,\n",
    "Case when t1.YEAR < 2014 then t2.Region_Pre2014\n",
    "Else t2.Region\n",
    "End As Final_Region\n",
    "\n",
    "\"\"\"\n",
    "\n",
    "create_Adopt_Disposals_Final_2 = f\"\"\"\n",
    "SELECT *\n",
    "FROM __temp__.ADOPT_DISPOSALS_FINAL\n",
    "WHERE adoption = 'Adoption';\n",
    "\"\"\"\n",
    "\n",
    "pydb.create_temp_table(create_Adopt_Disposals_Final_2,'Adopt_Disposals_Final_2')"
   ]
  },
  {
   "cell_type": "markdown",
   "metadata": {},
   "source": [
    "#### Adopt_Disposals_Final validation"
   ]
  },
  {
   "cell_type": "code",
   "execution_count": null,
   "metadata": {},
   "outputs": [],
   "source": [
    "Adopt_Disposals_Final_count = pydb.read_sql_query(\"select count(*) as count from __temp__.Adopt_Disposals_Final_2\")\n",
    "Adopt_Disposals_Final_count"
   ]
  },
  {
   "cell_type": "code",
   "execution_count": null,
   "metadata": {},
   "outputs": [],
   "source": []
  },
  {
   "cell_type": "markdown",
   "metadata": {},
   "source": [
    "## Adopt_Quarterly table"
   ]
  },
  {
   "cell_type": "markdown",
   "metadata": {},
   "source": [
    "### Drop the Adopt_Quarterly table if it already exists and remove its data from the S3 bucket"
   ]
  },
  {
   "cell_type": "code",
   "execution_count": null,
   "metadata": {},
   "outputs": [],
   "source": [
    "drop_Adopt_Quarterly = f\"\"\"\n",
    "DROP TABLE IF EXISTS fcsq.Adopt_Quarterly;\n",
    "\"\"\"\n",
    "pydb.read_sql_query(drop_Adopt_Quarterly)\n",
    "\n",
    "# clean up previous Adopt_Quarterly files\n",
    "bucket.objects.filter(Prefix=\"fcsq_processing/Adoption/Adopt_Quarterly/\").delete()"
   ]
  },
  {
   "cell_type": "markdown",
   "metadata": {},
   "source": [
    "### Create the Adopt_Quarterly table in Athena"
   ]
  },
  {
   "cell_type": "code",
   "execution_count": null,
   "metadata": {},
   "outputs": [],
   "source": [
    "create_Adopt_Quarterly = f\"\"\"\n",
    "CREATE TABLE IF NOT EXISTS fcsq.Adopt_Quarterly\n",
    "WITH (format = 'PARQUET', external_location = 's3://alpha-family-data/fcsq_processing/Adoption/Adopt_Quarterly') AS\n",
    "SELECT DISTINCT\n",
    "        'Adoption' as type,\n",
    "        year,\n",
    "        'Q' || cast(quarter as varchar(3)) AS quarter,\n",
    "        rep_cat,\n",
    "        count(*) as n,\n",
    "        avg(wait_weeks) as mean\n",
    "    FROM \n",
    "        __temp__.ADOPT_DISPOSALS_FINAL_2\n",
    "    WHERE year > 2010 \n",
    "    AND quarter2 <> '2021-Q4'\n",
    "    AND adoption='Adoption'\n",
    "GROUP BY\n",
    "    year,\n",
    "    quarter,\n",
    "    rep_cat\n",
    "    \n",
    "UNION ALL\n",
    "SELECT DISTINCT\n",
    "        'Adoption' as type,\n",
    "        year,\n",
    "        'Q' || cast(quarter as varchar(3)) AS quarter,\n",
    "        'All' as rep_cat,\n",
    "        count(*) as n,\n",
    "        avg(wait_weeks) as mean\n",
    "    FROM \n",
    "        __temp__.ADOPT_DISPOSALS_FINAL_2\n",
    "    WHERE year > 2010 \n",
    "    AND quarter2 <> '2021-Q4'\n",
    "    AND adoption='Adoption'\n",
    "GROUP BY\n",
    "    year,\n",
    "    quarter\n",
    "\"\"\"\n",
    "\n",
    "\n",
    "testA = f\"\"\"\n",
    "SELECT * FROM __temp__.ADOPT_DISPOSALS_FINAL_2 WHERE year=2015 AND quarter = 3;\n",
    "\"\"\"\n",
    "testB = f\"\"\"\n",
    "SELECT * FROM fcsq.Adopt_Quarterly WHERE year=2015 AND quarter = 'Q3' ORDER BY rep_cat\n",
    "\"\"\"\n",
    "\n",
    "pydb.read_sql_query(create_Adopt_Quarterly)\n",
    "#pydb.read_sql_query(testA)\n",
    "pydb.read_sql_query(testB)\n",
    "\n",
    "\n",
    "\n"
   ]
  },
  {
   "cell_type": "markdown",
   "metadata": {},
   "source": [
    "#### Adopt_Quarterly validation"
   ]
  },
  {
   "cell_type": "code",
   "execution_count": null,
   "metadata": {},
   "outputs": [],
   "source": [
    "Adopt_Quarterly_count = pydb.read_sql_query(\"select count(*) as count from fcsq.Adopt_Quarterly\")\n",
    "Adopt_Quarterly_count\n",
    "\n",
    "pydb.read_sql_query(\"select * from fcsq.Adopt_Quarterly WHERE year = 2014 AND quarter = \\'Q2' ORDER BY rep_cat\")"
   ]
  },
  {
   "cell_type": "markdown",
   "metadata": {},
   "source": [
    "## Adopt_Annual table"
   ]
  },
  {
   "cell_type": "markdown",
   "metadata": {},
   "source": [
    "### Drop the Adopt_Annual table if it already exists and remove its data from the S3 bucket"
   ]
  },
  {
   "cell_type": "code",
   "execution_count": null,
   "metadata": {},
   "outputs": [],
   "source": [
    "drop_Adopt_Annual = f\"\"\"\n",
    "DROP TABLE IF EXISTS fcsq.Adopt_Annual;\n",
    "\"\"\"\n",
    "pydb.read_sql_query(drop_Adopt_Annual)\n",
    "\n",
    "# clean up previous Adopt_Annual files\n",
    "bucket.objects.filter(Prefix=\"fcsq_processing/Adoption/Adopt_Annual/\").delete()"
   ]
  },
  {
   "cell_type": "markdown",
   "metadata": {},
   "source": [
    "### Create the Adopt_Annual table in Athena"
   ]
  },
  {
   "cell_type": "code",
   "execution_count": null,
   "metadata": {},
   "outputs": [],
   "source": [
    "create_Adopt_Annual = f\"\"\"\n",
    "CREATE TABLE IF NOT EXISTS fcsq.Adopt_Annual\n",
    "WITH (format = 'PARQUET', external_location = 's3://alpha-family-data/fcsq_processing/Adoption/Adopt_Annual') AS\n",
    "SELECT DISTINCT\n",
    "        'Adoption' as type,\n",
    "        year,\n",
    "        'N/A' as quarter,\n",
    "        rep_cat,\n",
    "        count(*) as n,\n",
    "        avg(wait_weeks) as mean\n",
    "    FROM \n",
    "        __temp__.ADOPT_DISPOSALS_FINAL_2\n",
    "    WHERE year > 2010 \n",
    "    AND year < 2021\n",
    "    AND adoption='Adoption'\n",
    "GROUP BY\n",
    "    year,\n",
    "    rep_cat\n",
    "    \n",
    "UNION ALL\n",
    "SELECT DISTINCT\n",
    "        'Adoption' as type,\n",
    "        year,\n",
    "        'N/A' as quarter,\n",
    "        'All' as rep_cat,\n",
    "        count(*) as n,\n",
    "        avg(wait_weeks) as mean\n",
    "    FROM \n",
    "        __temp__.ADOPT_DISPOSALS_FINAL_2\n",
    "    WHERE year > 2010 \n",
    "    AND year < 2021\n",
    "    AND adoption='Adoption'\n",
    "GROUP BY\n",
    "    year\n",
    "\"\"\"\n",
    "\n",
    "pydb.read_sql_query(create_Adopt_Annual)\n",
    "\n"
   ]
  },
  {
   "cell_type": "markdown",
   "metadata": {},
   "source": [
    "#### Adopt_Annual validation"
   ]
  },
  {
   "cell_type": "code",
   "execution_count": null,
   "metadata": {},
   "outputs": [],
   "source": [
    "Adopt_Annual_count = pydb.read_sql_query(\"select count(*) as count from fcsq.Adopt_Annual\")\n",
    "Adopt_Annual_count\n",
    "\n"
   ]
  },
  {
   "cell_type": "code",
   "execution_count": null,
   "metadata": {},
   "outputs": [],
   "source": [
    "df = pydb.read_sql_query(\"SELECT * FROM fcsq.Adoption ORDER BY year,quarter\")\n",
    "df.to_csv(path_or_buf = 's3://alpha-family-data/fcsq_processing/Adoption/Adoption/Adoption.csv',index=False)\n",
    "#df.to_excel('adoption.xlsx')\n"
   ]
  },
  {
   "cell_type": "code",
   "execution_count": null,
   "metadata": {},
   "outputs": [],
   "source": [
    "df = pydb.read_sql_query(\"SELECT * FROM fcsq.Adopt_Annual UNION ALL SELECT * FROM fcsq.Adopt_Quarterly ORDER BY type,year,quarter,rep_cat\")\n",
    "df.to_csv(path_or_buf = '~/FCSQ_data/timeliness.csv',index=False)"
   ]
  },
  {
   "cell_type": "markdown",
   "metadata": {},
   "source": [
    "## adopt_timeliness_combined table"
   ]
  },
  {
   "cell_type": "markdown",
   "metadata": {},
   "source": [
    "### Drop the adopt_timeliness_combined table if it already exists and remove its data from the S3 bucket"
   ]
  },
  {
   "cell_type": "code",
   "execution_count": null,
   "metadata": {},
   "outputs": [],
   "source": [
    "drop_adopt_timeliness_combined = f\"\"\"\n",
    "DROP TABLE IF EXISTS fcsq.adopt_timeliness_combined;\n",
    "\"\"\"\n",
    "pydb.read_sql_query(drop_adopt_timeliness_combined)\n",
    "\n",
    "# clean up previous adopt_timeliness_combined files\n",
    "bucket.objects.filter(Prefix=\"fcsq_processing/Adoption/adopt_timeliness_combined/\").delete()"
   ]
  },
  {
   "cell_type": "markdown",
   "metadata": {},
   "source": [
    "### Create the adopt_timeliness_combined table in Athena"
   ]
  },
  {
   "cell_type": "code",
   "execution_count": null,
   "metadata": {},
   "outputs": [],
   "source": [
    "create_adopt_timeliness_combined = f\"\"\"\n",
    "CREATE TABLE IF NOT EXISTS fcsq.adopt_timeliness_combined\n",
    "WITH (format = 'PARQUET', external_location = 's3://alpha-family-data/fcsq_processing/Adoption/adopt_timeliness_combined') AS\n",
    "SELECT * FROM fcsq.Adopt_Annual \n",
    "UNION ALL \n",
    "SELECT * FROM fcsq.Adopt_Quarterly ORDER BY type,year,quarter,rep_cat\n",
    "\"\"\"\n",
    "\n",
    "pydb.read_sql_query(create_adopt_timeliness_combined)\n",
    "\n"
   ]
  },
  {
   "cell_type": "markdown",
   "metadata": {},
   "source": [
    "#### adopt_timeliness_combined validation"
   ]
  },
  {
   "cell_type": "code",
   "execution_count": null,
   "metadata": {},
   "outputs": [],
   "source": [
    "adopt_timeliness_combined_count = pydb.read_sql_query(\"select count(*) as count from fcsq.adopt_timeliness_combined\")\n",
    "adopt_timeliness_combined_count"
   ]
  },
  {
   "cell_type": "code",
   "execution_count": null,
   "metadata": {},
   "outputs": [],
   "source": [
    "df = pydb.read_sql_query(\"SELECT * FROM fcsq.adopt_timeliness_combined\")\n",
    "df = df.pivot_table(index=['type','year','quarter'],columns=['rep_cat'],values = ['n','mean'],aggfunc=sum, fill_value=0).swaplevel(axis=1).sort_index(axis=1)\n",
    "df.to_csv(path_or_buf = '~/FCSQ_data/timeliness.csv',index=False)"
   ]
  },
  {
   "cell_type": "code",
   "execution_count": null,
   "metadata": {},
   "outputs": [],
   "source": []
  }
 ],
 "metadata": {
  "kernelspec": {
   "display_name": "venvname",
   "language": "python",
   "name": "venvname"
  },
  "language_info": {
   "codemirror_mode": {
    "name": "ipython",
    "version": 3
   },
   "file_extension": ".py",
   "mimetype": "text/x-python",
   "name": "python",
   "nbconvert_exporter": "python",
   "pygments_lexer": "ipython3",
   "version": "3.7.1"
  },
  "varInspector": {
   "cols": {
    "lenName": 16,
    "lenType": 16,
    "lenVar": 40
   },
   "kernels_config": {
    "python": {
     "delete_cmd_postfix": "",
     "delete_cmd_prefix": "del ",
     "library": "var_list.py",
     "varRefreshCmd": "print(var_dic_list())"
    },
    "r": {
     "delete_cmd_postfix": ") ",
     "delete_cmd_prefix": "rm(",
     "library": "var_list.r",
     "varRefreshCmd": "cat(var_dic_list()) "
    }
   },
   "types_to_exclude": [
    "module",
    "function",
    "builtin_function_or_method",
    "instance",
    "_Feature"
   ],
   "window_display": false
  }
 },
 "nbformat": 4,
 "nbformat_minor": 4
}
