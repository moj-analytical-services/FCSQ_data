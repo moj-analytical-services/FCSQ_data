{
 "cells": [
  {
   "cell_type": "markdown",
   "id": "f7d16a94-0449-43cd-9bb2-6ea0d2b31eb7",
   "metadata": {},
   "source": [
    "# Domestic Violence Extractions"
   ]
  },
  {
   "cell_type": "markdown",
   "id": "9e98b78b-def6-4245-a6fe-0eeb8f7cb833",
   "metadata": {
    "tags": []
   },
   "source": [
    "## 1. Import packages and set options \n",
    "<a name=\"import_packages\"></a>"
   ]
  },
  {
   "cell_type": "code",
   "execution_count": 2,
   "id": "80cca3b1-95ad-413d-826b-aca6f5dc049e",
   "metadata": {},
   "outputs": [],
   "source": [
    "import pandas as pd  # a module which provides the data structures and functions to store and manipulate tables in dataframes\n",
    "import pydbtools as pydb  # A module which allows SQL queries to be run on the Analytical Platform from Python, see https://github.com/moj-analytical-services/pydbtools\n",
    "import boto3  # allows you to directly create, update, and delete AWS resources from Python scripts\n",
    "\n",
    "# sets parameters to view dataframes for tables easier\n",
    "pd.set_option(\"display.max_columns\", 100)\n",
    "pd.set_option(\"display.width\", 900)\n",
    "pd.set_option(\"display.max_colwidth\", 200)\n"
   ]
  },
  {
   "cell_type": "markdown",
   "id": "bd8c37bc-21dc-4a5a-8aeb-cdf41bac320c",
   "metadata": {},
   "source": [
    "## 2. Define key variables to be used throughout the notebook \n",
    "<a name=\"define_key_variables\"></a>"
   ]
  },
  {
   "cell_type": "code",
   "execution_count": 3,
   "id": "8b522778-5805-474b-9769-cedfa9ba921a",
   "metadata": {},
   "outputs": [],
   "source": [
    "#this is the database we will be extracting from\n",
    "database = \"familyman_dev_v2\"\n",
    "\n",
    "#this is the snapshot date of familyman we will be extracting from\n",
    "snapshot_date = \"2022-05-23\"\n",
    "#snapshot_date = \"2021-08-19\"\n",
    "#this is the athena database we will be storing our tables in\n",
    "fcsq_database = \"fcsq\"\n",
    "\n",
    "#this is the s3 bucket we will be saving data to\n",
    "s3 = boto3.resource(\"s3\")\n",
    "bucket = s3.Bucket(\"alpha-family-data\")"
   ]
  },
  {
   "cell_type": "markdown",
   "id": "4e3668c5",
   "metadata": {},
   "source": [
    "## 3. DV_APPS1 table - extracts the domestic violence application details from the event and events_fields table <a name=DV_APPS1></a>"
   ]
  },
  {
   "cell_type": "markdown",
   "id": "59c89ca9",
   "metadata": {},
   "source": [
    "### Drop the DV_APPS1 table if it already exists and remove its data from the S3 bucket"
   ]
  },
  {
   "cell_type": "code",
   "execution_count": 5,
   "id": "d964be3e",
   "metadata": {},
   "outputs": [],
   "source": [
    "drop_DV_APPS1 = \"DROP TABLE IF EXISTS fcsq.DV_APPS1\"\n",
    "pydb.start_query_execution_and_wait(drop_DV_APPS1)\n",
    "bucket.objects.filter(Prefix=\"fcsq_processing/Domestic_Violence/DV_APPS1\").delete();"
   ]
  },
  {
   "cell_type": "markdown",
   "id": "9ed3c03a",
   "metadata": {},
   "source": [
    "### Create the DV_APPS1 table"
   ]
  },
  {
   "cell_type": "code",
   "execution_count": 11,
   "id": "d9c4045f",
   "metadata": {},
   "outputs": [],
   "source": [
    "create_DV_APPS1_table =f\"\"\"\n",
    "CREATE TABLE IF NOT EXISTS fcsq.DV_APPS1\n",
    "WITH (format = 'PARQUET', external_location = 's3://alpha-family-data/fcsq_processing/Domestic_Violence/DV_APPS1') AS\n",
    "SELECT /*csv*/ \n",
    "  TTE.RECEIPT_DATE, \n",
    "  TTE.CASE_NUMBER, \n",
    "  TTE.EVENT, \n",
    "  TTE.CREATING_COURT, \n",
    "  TTF.FIELD_MODEL, \n",
    "  TTF.VALUE, \n",
    "  TTE.Error\n",
    "FROM \n",
    "  {database}.events TTE\n",
    "  INNER JOIN {database}.event_fields TTF\n",
    "     ON TTE.EVENT = TTF.EVENT\n",
    "WHERE \n",
    "   TTE.Error= 'N' \n",
    "     AND TTF.FIELD_MODEL In ('U22_AT','G50_AT')\n",
    "     AND (TTE.mojap_snapshot_date = date'{snapshot_date}' AND TTF.mojap_snapshot_date= date'{snapshot_date}');\n",
    "\"\"\"\n",
    "pydb.start_query_execution_and_wait(create_DV_APPS1_table);"
   ]
  },
  {
   "cell_type": "markdown",
   "id": "fc65b0f7",
   "metadata": {},
   "source": [
    "#### DV_APPS1 validation"
   ]
  },
  {
   "cell_type": "code",
   "execution_count": 12,
   "id": "477c4bfa",
   "metadata": {},
   "outputs": [
    {
     "data": {
      "text/html": [
       "<div>\n",
       "<style scoped>\n",
       "    .dataframe tbody tr th:only-of-type {\n",
       "        vertical-align: middle;\n",
       "    }\n",
       "\n",
       "    .dataframe tbody tr th {\n",
       "        vertical-align: top;\n",
       "    }\n",
       "\n",
       "    .dataframe thead th {\n",
       "        text-align: right;\n",
       "    }\n",
       "</style>\n",
       "<table border=\"1\" class=\"dataframe\">\n",
       "  <thead>\n",
       "    <tr style=\"text-align: right;\">\n",
       "      <th></th>\n",
       "      <th>count</th>\n",
       "    </tr>\n",
       "  </thead>\n",
       "  <tbody>\n",
       "    <tr>\n",
       "      <th>0</th>\n",
       "      <td>2730396</td>\n",
       "    </tr>\n",
       "  </tbody>\n",
       "</table>\n",
       "</div>"
      ],
      "text/plain": [
       "     count\n",
       "0  2730396"
      ]
     },
     "execution_count": 12,
     "metadata": {},
     "output_type": "execute_result"
    }
   ],
   "source": [
    "DV_APPS1_count = pydb.read_sql_query(\"SELECT count(*) as count from fcsq.DV_APPS1\")\n",
    "DV_APPS1_count"
   ]
  },
  {
   "cell_type": "markdown",
   "id": "84a06e5d",
   "metadata": {},
   "source": [
    "## 4. DV_Ords1 table -  extracts the domestic violence order details from the event and events_fields table ¶ <a name=DV_Ords1></a>"
   ]
  },
  {
   "cell_type": "markdown",
   "id": "17f99af9",
   "metadata": {},
   "source": [
    "### Drop the DV_Ords1 table if it already exists and remove its data from the S3 bucket"
   ]
  },
  {
   "cell_type": "code",
   "execution_count": null,
   "id": "8d0f1128",
   "metadata": {},
   "outputs": [],
   "source": [
    "drop_DV_Ords1 = \"DROP TABLE IF EXISTS fcsq.DV_Ords1\"\n",
    "pydb.start_query_execution_and_wait(drop_DV_Ords1)\n",
    "bucket.objects.filter(Prefix=\"fcsq_processing/Domestic_Violence/DV_Ords1\").delete();"
   ]
  },
  {
   "cell_type": "markdown",
   "id": "bb38133c",
   "metadata": {},
   "source": [
    "### Create the DV_Ords1 table"
   ]
  },
  {
   "cell_type": "code",
   "execution_count": 13,
   "id": "1b9b2728",
   "metadata": {},
   "outputs": [],
   "source": [
    "create_DV_Ords1_table =f\"\"\"\n",
    "CREATE TABLE IF NOT EXISTS fcsq.DV_Ords1\n",
    "WITH (format = 'PARQUET', external_location = 's3://alpha-family-data/fcsq_processing/Domestic_Violence/DV_Ords1') AS\n",
    "SELECT /*csv*/\n",
    "  TTE.RECEIPT_DATE, \n",
    "  TTE.CASE_NUMBER, \n",
    "  TTE.EVENT, \n",
    "  TTE.CREATING_COURT, \n",
    "  TTF.FIELD_MODEL, \n",
    "  TTF.VALUE, \n",
    "  TTE.Error\n",
    "FROM \n",
    "  {database}.events TTE\n",
    "  INNER JOIN {database}.event_fields  TTF\n",
    "    ON TTE.EVENT = TTF.EVENT\n",
    "WHERE \n",
    "  TTE.Error= 'N' \n",
    "   AND TTF.FIELD_MODEL In ('FL404B_7','FL404_79')\n",
    "    AND (TTE.mojap_snapshot_date = date'{snapshot_date}' AND TTF.mojap_snapshot_date= date'{snapshot_date}');\n",
    "\"\"\"\n",
    "pydb.start_query_execution_and_wait(create_DV_Ords1_table);"
   ]
  },
  {
   "cell_type": "markdown",
   "id": "142587a2",
   "metadata": {},
   "source": [
    "#### DV_Ords1 validation"
   ]
  },
  {
   "cell_type": "code",
   "execution_count": null,
   "id": "0f1c6b6a",
   "metadata": {},
   "outputs": [],
   "source": [
    "DV_Ords1_count = pydb.read_sql_query(\"SELECT count(*) as count from fcsq.DV_Ords1\")\n",
    "DV_Ords1_count"
   ]
  },
  {
   "cell_type": "markdown",
   "id": "f0070e44",
   "metadata": {},
   "source": [
    "## 5. RES_ATTENDANCE_INFO table - Extra orders info on Respondent attendance <a name=RES_ATTENDANCE_INFO></a>"
   ]
  },
  {
   "cell_type": "markdown",
   "id": "ef3b64b5",
   "metadata": {},
   "source": [
    "### Drop the RES_ATTENDANCE_INFO table if it already exists and remove its data from the S3 bucket"
   ]
  },
  {
   "cell_type": "code",
   "execution_count": null,
   "id": "cf68ce64",
   "metadata": {},
   "outputs": [],
   "source": [
    "drop_RES_ATTENDANCE_INFO = \"DROP TABLE IF EXISTS fcsq.RES_ATTENDANCE_INFO\"\n",
    "pydb.start_query_execution_and_wait(drop_RES_ATTENDANCE_INFO)\n",
    "bucket.objects.filter(Prefix=\"fcsq_processing/Domestic_Violence/RES_ATTENDANCE_INFO\").delete();"
   ]
  },
  {
   "cell_type": "markdown",
   "id": "57662e9f",
   "metadata": {},
   "source": [
    "### Create the RES_ATTENDANCE_INFO table"
   ]
  },
  {
   "cell_type": "code",
   "execution_count": 15,
   "id": "0f1afa31",
   "metadata": {},
   "outputs": [],
   "source": [
    "create_RES_ATTENDANCE_INFO_table =f\"\"\"\n",
    "CREATE TABLE IF NOT EXISTS fcsq.RES_ATTENDANCE_INFO\n",
    "WITH (format = 'PARQUET', external_location = 's3://alpha-family-data/fcsq_processing/Domestic_Violence/RES_ATTENDANCE_INFO') AS\n",
    "SELECT /*csv*/\n",
    "  TTE.EVENT, \n",
    "  TTE.RECEIPT_DATE, \n",
    "  TTE.ENTRY_DATE, \n",
    "  TTE.Error, \n",
    "  TTE.CASE_NUMBER, \n",
    "  TTE.EVENT_MODEL, \n",
    "  TTF.FIELD_MODEL, \n",
    "  TTF.VALUE        \n",
    "FROM \n",
    "  {database}.events TTE\n",
    "  INNER JOIN {database}.event_fields TTF\n",
    "    ON TTE.EVENT = TTF.EVENT\n",
    "WHERE \n",
    "   TTE.Error='N' \n",
    "   AND TTF.FIELD_MODEL In ('FL404_5','FL404B_5')\n",
    "   AND (TTE.mojap_snapshot_date = date'{snapshot_date}' AND TTF.mojap_snapshot_date= date'{snapshot_date}'); \n",
    "\"\"\"\n",
    "pydb.start_query_execution_and_wait(create_RES_ATTENDANCE_INFO_table);"
   ]
  },
  {
   "cell_type": "markdown",
   "id": "6dae0f96",
   "metadata": {},
   "source": [
    "#### RES_ATTENDANCE_INFO validation"
   ]
  },
  {
   "cell_type": "code",
   "execution_count": 16,
   "id": "c14fd7db",
   "metadata": {},
   "outputs": [
    {
     "data": {
      "text/html": [
       "<div>\n",
       "<style scoped>\n",
       "    .dataframe tbody tr th:only-of-type {\n",
       "        vertical-align: middle;\n",
       "    }\n",
       "\n",
       "    .dataframe tbody tr th {\n",
       "        vertical-align: top;\n",
       "    }\n",
       "\n",
       "    .dataframe thead th {\n",
       "        text-align: right;\n",
       "    }\n",
       "</style>\n",
       "<table border=\"1\" class=\"dataframe\">\n",
       "  <thead>\n",
       "    <tr style=\"text-align: right;\">\n",
       "      <th></th>\n",
       "      <th>count</th>\n",
       "    </tr>\n",
       "  </thead>\n",
       "  <tbody>\n",
       "    <tr>\n",
       "      <th>0</th>\n",
       "      <td>889929</td>\n",
       "    </tr>\n",
       "  </tbody>\n",
       "</table>\n",
       "</div>"
      ],
      "text/plain": [
       "    count\n",
       "0  889929"
      ]
     },
     "execution_count": 16,
     "metadata": {},
     "output_type": "execute_result"
    }
   ],
   "source": [
    "RES_ATTENDANCE_INFO_count = pydb.read_sql_query(\"SELECT count(*) as count from fcsq.RES_ATTENDANCE_INFO\")\n",
    "RES_ATTENDANCE_INFO_count"
   ]
  },
  {
   "cell_type": "markdown",
   "id": "75e8e02c",
   "metadata": {},
   "source": [
    "## 6. DV_Applications_1 table - adds a comma to the start and the end of the value variable for later queries <a name=DV_Applications_1></a>"
   ]
  },
  {
   "cell_type": "markdown",
   "id": "7fb4058b",
   "metadata": {},
   "source": [
    "### Create the DV_Applications_1 table"
   ]
  },
  {
   "cell_type": "code",
   "execution_count": 4,
   "id": "d073e7f2",
   "metadata": {},
   "outputs": [],
   "source": [
    "create_DV_Applications_1_table =f\"\"\"\n",
    "SELECT\n",
    "receipt_date,\n",
    "case_number,\n",
    "event,\n",
    "creating_court,\n",
    "field_model,\n",
    "','|| value || ',' as Adjusted_Value,\n",
    "error\n",
    "from FCSQ.DV_Apps1\n",
    "\"\"\"\n",
    "pydb.create_temp_table(create_DV_Applications_1_table,'DV_Applications_1')"
   ]
  },
  {
   "cell_type": "markdown",
   "id": "a6ea3978",
   "metadata": {},
   "source": [
    "#### DV_Applications_1 validation"
   ]
  },
  {
   "cell_type": "code",
   "execution_count": 25,
   "id": "ce68ecf6",
   "metadata": {},
   "outputs": [
    {
     "data": {
      "text/html": [
       "<div>\n",
       "<style scoped>\n",
       "    .dataframe tbody tr th:only-of-type {\n",
       "        vertical-align: middle;\n",
       "    }\n",
       "\n",
       "    .dataframe tbody tr th {\n",
       "        vertical-align: top;\n",
       "    }\n",
       "\n",
       "    .dataframe thead th {\n",
       "        text-align: right;\n",
       "    }\n",
       "</style>\n",
       "<table border=\"1\" class=\"dataframe\">\n",
       "  <thead>\n",
       "    <tr style=\"text-align: right;\">\n",
       "      <th></th>\n",
       "      <th>count</th>\n",
       "    </tr>\n",
       "  </thead>\n",
       "  <tbody>\n",
       "    <tr>\n",
       "      <th>0</th>\n",
       "      <td>2730396</td>\n",
       "    </tr>\n",
       "  </tbody>\n",
       "</table>\n",
       "</div>"
      ],
      "text/plain": [
       "     count\n",
       "0  2730396"
      ]
     },
     "execution_count": 25,
     "metadata": {},
     "output_type": "execute_result"
    }
   ],
   "source": [
    "DV_Applications_1_count = pydb.read_sql_query(\"SELECT count(*) as count from __temp__.DV_Applications_1\")\n",
    "DV_Applications_1_count"
   ]
  },
  {
   "cell_type": "markdown",
   "id": "3d69e082",
   "metadata": {},
   "source": [
    "## 7. DV_Applications_2 table - Limits the data to only Domestic Violence applications <a name=DV_Applications_2></a>"
   ]
  },
  {
   "cell_type": "markdown",
   "id": "8636ce33",
   "metadata": {},
   "source": [
    "### Create the DV_Applications_2 table"
   ]
  },
  {
   "cell_type": "code",
   "execution_count": 22,
   "id": "43e67293",
   "metadata": {},
   "outputs": [],
   "source": [
    "create_DV_Applications_2_table =f\"\"\"\n",
    "SELECT \n",
    "receipt_date,\n",
    "case_number,\n",
    "event,\n",
    "creating_court,\n",
    "field_model,\n",
    "Adjusted_Value,\n",
    "error\n",
    "FROM __temp__.DV_Applications_1\n",
    "Where strpos(Adjusted_Value, ', ENM') <> 0\n",
    "Or strpos(Adjusted_Value,', ONM') <> 0\n",
    "Or strpos(Adjusted_Value,', EO,') <> 0\n",
    "Or strpos(Adjusted_Value,', EO ,') <> 0\n",
    "Or strpos(Adjusted_Value,', ONO')<> 0;\n",
    "\"\"\"\n",
    "\n",
    "pydb.create_temp_table(create_DV_Applications_2_table,'DV_Applications_2')"
   ]
  },
  {
   "cell_type": "markdown",
   "id": "b15698d0",
   "metadata": {},
   "source": [
    "#### DV_Applications_2 validation"
   ]
  },
  {
   "cell_type": "code",
   "execution_count": 23,
   "id": "728aa584",
   "metadata": {},
   "outputs": [
    {
     "data": {
      "text/html": [
       "<div>\n",
       "<style scoped>\n",
       "    .dataframe tbody tr th:only-of-type {\n",
       "        vertical-align: middle;\n",
       "    }\n",
       "\n",
       "    .dataframe tbody tr th {\n",
       "        vertical-align: top;\n",
       "    }\n",
       "\n",
       "    .dataframe thead th {\n",
       "        text-align: right;\n",
       "    }\n",
       "</style>\n",
       "<table border=\"1\" class=\"dataframe\">\n",
       "  <thead>\n",
       "    <tr style=\"text-align: right;\">\n",
       "      <th></th>\n",
       "      <th>receipt_date</th>\n",
       "      <th>case_number</th>\n",
       "      <th>event</th>\n",
       "      <th>creating_court</th>\n",
       "      <th>field_model</th>\n",
       "      <th>adjusted_value</th>\n",
       "      <th>error</th>\n",
       "    </tr>\n",
       "  </thead>\n",
       "  <tbody>\n",
       "    <tr>\n",
       "      <th>0</th>\n",
       "      <td>2009-07-14</td>\n",
       "      <td>WD09F01356</td>\n",
       "      <td>36200763008</td>\n",
       "      <td>WD</td>\n",
       "      <td>U22_AT</td>\n",
       "      <td>,ENM, EO,</td>\n",
       "      <td>N</td>\n",
       "    </tr>\n",
       "    <tr>\n",
       "      <th>1</th>\n",
       "      <td>2013-04-30</td>\n",
       "      <td>TF13F03166</td>\n",
       "      <td>36400598129</td>\n",
       "      <td>TF</td>\n",
       "      <td>U22_AT</td>\n",
       "      <td>,ENM, EO,</td>\n",
       "      <td>N</td>\n",
       "    </tr>\n",
       "    <tr>\n",
       "      <th>2</th>\n",
       "      <td>2016-11-22</td>\n",
       "      <td>SO16F00756</td>\n",
       "      <td>32801890602</td>\n",
       "      <td>SO</td>\n",
       "      <td>U22_AT</td>\n",
       "      <td>,ONM, ONO,</td>\n",
       "      <td>N</td>\n",
       "    </tr>\n",
       "    <tr>\n",
       "      <th>3</th>\n",
       "      <td>2010-03-17</td>\n",
       "      <td>SK10F00198</td>\n",
       "      <td>33600379961</td>\n",
       "      <td>SK</td>\n",
       "      <td>U22_AT</td>\n",
       "      <td>,ENM, EO,</td>\n",
       "      <td>N</td>\n",
       "    </tr>\n",
       "    <tr>\n",
       "      <th>4</th>\n",
       "      <td>2008-07-31</td>\n",
       "      <td>WF08F00413</td>\n",
       "      <td>35700226385</td>\n",
       "      <td>WF</td>\n",
       "      <td>U22_AT</td>\n",
       "      <td>,ENM, EO,</td>\n",
       "      <td>N</td>\n",
       "    </tr>\n",
       "    <tr>\n",
       "      <th>...</th>\n",
       "      <td>...</td>\n",
       "      <td>...</td>\n",
       "      <td>...</td>\n",
       "      <td>...</td>\n",
       "      <td>...</td>\n",
       "      <td>...</td>\n",
       "      <td>...</td>\n",
       "    </tr>\n",
       "    <tr>\n",
       "      <th>71666</th>\n",
       "      <td>2007-09-13</td>\n",
       "      <td>WA07F00751</td>\n",
       "      <td>36000224814</td>\n",
       "      <td>WA</td>\n",
       "      <td>U22_AT</td>\n",
       "      <td>,ONM, ONO,</td>\n",
       "      <td>N</td>\n",
       "    </tr>\n",
       "    <tr>\n",
       "      <th>71667</th>\n",
       "      <td>2012-05-29</td>\n",
       "      <td>WD12F00998</td>\n",
       "      <td>36201099835</td>\n",
       "      <td>WD</td>\n",
       "      <td>U22_AT</td>\n",
       "      <td>,EO, ENM,</td>\n",
       "      <td>N</td>\n",
       "    </tr>\n",
       "    <tr>\n",
       "      <th>71668</th>\n",
       "      <td>2010-09-03</td>\n",
       "      <td>WI10F00923</td>\n",
       "      <td>37500411052</td>\n",
       "      <td>WI</td>\n",
       "      <td>U22_AT</td>\n",
       "      <td>,ENM, EO,</td>\n",
       "      <td>N</td>\n",
       "    </tr>\n",
       "    <tr>\n",
       "      <th>71669</th>\n",
       "      <td>2007-04-03</td>\n",
       "      <td>WV07F00146</td>\n",
       "      <td>37800428566</td>\n",
       "      <td>WV</td>\n",
       "      <td>U22_AT</td>\n",
       "      <td>,ONM, ONO,</td>\n",
       "      <td>N</td>\n",
       "    </tr>\n",
       "    <tr>\n",
       "      <th>71670</th>\n",
       "      <td>2021-02-11</td>\n",
       "      <td>NE21F00275</td>\n",
       "      <td>27804088759</td>\n",
       "      <td>NE</td>\n",
       "      <td>U22_AT</td>\n",
       "      <td>,ENM, EO,</td>\n",
       "      <td>N</td>\n",
       "    </tr>\n",
       "  </tbody>\n",
       "</table>\n",
       "<p>71671 rows × 7 columns</p>\n",
       "</div>"
      ],
      "text/plain": [
       "      receipt_date case_number        event creating_court field_model adjusted_value error\n",
       "0       2009-07-14  WD09F01356  36200763008             WD      U22_AT      ,ENM, EO,     N\n",
       "1       2013-04-30  TF13F03166  36400598129             TF      U22_AT      ,ENM, EO,     N\n",
       "2       2016-11-22  SO16F00756  32801890602             SO      U22_AT     ,ONM, ONO,     N\n",
       "3       2010-03-17  SK10F00198  33600379961             SK      U22_AT      ,ENM, EO,     N\n",
       "4       2008-07-31  WF08F00413  35700226385             WF      U22_AT      ,ENM, EO,     N\n",
       "...            ...         ...          ...            ...         ...            ...   ...\n",
       "71666   2007-09-13  WA07F00751  36000224814             WA      U22_AT     ,ONM, ONO,     N\n",
       "71667   2012-05-29  WD12F00998  36201099835             WD      U22_AT      ,EO, ENM,     N\n",
       "71668   2010-09-03  WI10F00923  37500411052             WI      U22_AT      ,ENM, EO,     N\n",
       "71669   2007-04-03  WV07F00146  37800428566             WV      U22_AT     ,ONM, ONO,     N\n",
       "71670   2021-02-11  NE21F00275  27804088759             NE      U22_AT      ,ENM, EO,     N\n",
       "\n",
       "[71671 rows x 7 columns]"
      ]
     },
     "execution_count": 23,
     "metadata": {},
     "output_type": "execute_result"
    }
   ],
   "source": [
    "DV_Applications_2_count = pydb.read_sql_query(\"SELECT * from __temp__.DV_Applications_2\")\n",
    "DV_Applications_2_count"
   ]
  },
  {
   "cell_type": "code",
   "execution_count": null,
   "id": "4a0d619e",
   "metadata": {},
   "outputs": [],
   "source": []
  },
  {
   "cell_type": "markdown",
   "id": "ca6ca896",
   "metadata": {},
   "source": [
    "## 8. DV_APPLICATION_EVENTS table - Calculates year and quarter of receipt date, deletes duplicates and calculates whether each case is a domestic violence or a childrens act case <a name=DV_APPLICATION_EVENTS></a>"
   ]
  },
  {
   "cell_type": "markdown",
   "id": "64996705",
   "metadata": {},
   "source": [
    "### Drop the DV_APPLICATION_EVENTS table if it already exists and remove its data from the S3 bucket"
   ]
  },
  {
   "cell_type": "code",
   "execution_count": null,
   "id": "0f09c515",
   "metadata": {},
   "outputs": [],
   "source": [
    "drop_DV_APPLICATION_EVENTS = \"DROP TABLE IF EXISTS fcsq.DV_APPLICATION_EVENTS\"\n",
    "pydb.start_query_execution_and_wait(drop_DV_APPLICATION_EVENTS)\n",
    "bucket.objects.filter(Prefix=\"fcsq_processing/Domestic_Violence/DV_APPLICATION_EVENTS\").delete();"
   ]
  },
  {
   "cell_type": "markdown",
   "id": "bfa7e050",
   "metadata": {},
   "source": [
    "### Create the DV_APPLICATION_EVENTS table"
   ]
  },
  {
   "cell_type": "code",
   "execution_count": 32,
   "id": "62a4f42f",
   "metadata": {},
   "outputs": [],
   "source": [
    "create_DV_APPLICATION_EVENTS_table =f\"\"\"\n",
    "CREATE TABLE IF NOT EXISTS fcsq.DV_APPLICATION_EVENTS\n",
    "WITH (format = 'PARQUET', external_location = 's3://alpha-family-data/fcsq_processing/Domestic_Violence/DV_APPLICATION_EVENTS') AS\n",
    "SELECT DISTINCT /*YEAR*/\n",
    "                EXTRACT(YEAR FROM (t1.receipt_date)) AS year,\n",
    "\t\t\t\t/*QUARTER*/\n",
    "        CASE WHEN EXTRACT(Month FROM (t1.receipt_date)) <4 THEN 1\n",
    "              WHEN EXTRACT(Month FROM (t1.receipt_date)) <7 THEN 2\n",
    "              WHEN EXTRACT(Month FROM (t1.receipt_date))<10 THEN 3\n",
    "              ELSE 4\n",
    "              END AS quarter,\n",
    "                t1.RECEIPT_DATE,\n",
    "                t1.CASE_NUMBER,\n",
    "\t            t1.EVENT,\n",
    "\t\t\t\t/*EVENT_COURT*/\n",
    "                cast((t1.EVENT / 100000000) as int)  AS EVENT_COURT,\n",
    "\t            t1.FIELD_model,\n",
    "\t            t1.ADJUSTED_VALUE,\n",
    "\t\t\t    CASE WHEN (substr(t1.CASE_NUMBER,5,1)) = 'F'\n",
    "                THEN 'Domestic Violence'\n",
    "                WHEN (Substr(t1.CASE_NUMBER,5,1)) IN ('C', 'P')\n",
    "\t\t\t\tTHEN 'Childrens Act'\n",
    "\t\t\t\tWHEN (Substr(t1.CASE_NUMBER,5,1)) IN ('A', 'Z')\n",
    "\t\t\t\tTHEN 'Adoption'\n",
    "                ELSE 'Other' END AS CASE_TYPE\n",
    "FROM __temp__.DV_APPLICATIONS_2 AS t1;\n",
    "\"\"\"\n",
    "pydb.start_query_execution_and_wait(create_DV_APPLICATION_EVENTS_table);"
   ]
  },
  {
   "cell_type": "markdown",
   "id": "fa21e405",
   "metadata": {},
   "source": [
    "#### DV_APPLICATION_EVENTS validation"
   ]
  },
  {
   "cell_type": "code",
   "execution_count": 33,
   "id": "fccfbd56",
   "metadata": {},
   "outputs": [
    {
     "data": {
      "text/html": [
       "<div>\n",
       "<style scoped>\n",
       "    .dataframe tbody tr th:only-of-type {\n",
       "        vertical-align: middle;\n",
       "    }\n",
       "\n",
       "    .dataframe tbody tr th {\n",
       "        vertical-align: top;\n",
       "    }\n",
       "\n",
       "    .dataframe thead th {\n",
       "        text-align: right;\n",
       "    }\n",
       "</style>\n",
       "<table border=\"1\" class=\"dataframe\">\n",
       "  <thead>\n",
       "    <tr style=\"text-align: right;\">\n",
       "      <th></th>\n",
       "      <th>count</th>\n",
       "    </tr>\n",
       "  </thead>\n",
       "  <tbody>\n",
       "    <tr>\n",
       "      <th>0</th>\n",
       "      <td>71671</td>\n",
       "    </tr>\n",
       "  </tbody>\n",
       "</table>\n",
       "</div>"
      ],
      "text/plain": [
       "   count\n",
       "0  71671"
      ]
     },
     "execution_count": 33,
     "metadata": {},
     "output_type": "execute_result"
    }
   ],
   "source": [
    "DV_APPLICATION_EVENTS_count = pydb.read_sql_query(\"SELECT count(*) as count from fcsq.DV_APPLICATION_EVENTS\")\n",
    "DV_APPLICATION_EVENTS_count"
   ]
  },
  {
   "cell_type": "code",
   "execution_count": null,
   "id": "4a9c2289-6f46-4b04-9b83-88e49c860ff4",
   "metadata": {},
   "outputs": [],
   "source": []
  },
  {
   "cell_type": "markdown",
   "id": "238ee1dc",
   "metadata": {},
   "source": [
    "## 8. APP_LOOKUP1 table - groups the adjusted values so that there's one record per value <a name=APP_LOOKUP1></a>"
   ]
  },
  {
   "cell_type": "markdown",
   "id": "8ebc4e79",
   "metadata": {},
   "source": [
    "### Create the APP_LOOKUP1 table"
   ]
  },
  {
   "cell_type": "code",
   "execution_count": 38,
   "id": "8dc08917",
   "metadata": {},
   "outputs": [],
   "source": [
    "create_APP_LOOKUP1_table =f\"\"\"\n",
    "SELECT DISTINCT t1.ADJUSTED_VALUE\n",
    "FROM fcsq.DV_APPLICATION_EVENTS AS t1;\n",
    "\"\"\"\n",
    "pydb.create_temp_table(create_APP_LOOKUP1_table,'App_lookup1')"
   ]
  },
  {
   "cell_type": "markdown",
   "id": "facac6d8",
   "metadata": {},
   "source": [
    "#### APP_LOOKUP1 validation"
   ]
  },
  {
   "cell_type": "code",
   "execution_count": 39,
   "id": "035cc6f1",
   "metadata": {},
   "outputs": [
    {
     "data": {
      "text/html": [
       "<div>\n",
       "<style scoped>\n",
       "    .dataframe tbody tr th:only-of-type {\n",
       "        vertical-align: middle;\n",
       "    }\n",
       "\n",
       "    .dataframe tbody tr th {\n",
       "        vertical-align: top;\n",
       "    }\n",
       "\n",
       "    .dataframe thead th {\n",
       "        text-align: right;\n",
       "    }\n",
       "</style>\n",
       "<table border=\"1\" class=\"dataframe\">\n",
       "  <thead>\n",
       "    <tr style=\"text-align: right;\">\n",
       "      <th></th>\n",
       "      <th>count</th>\n",
       "    </tr>\n",
       "  </thead>\n",
       "  <tbody>\n",
       "    <tr>\n",
       "      <th>0</th>\n",
       "      <td>140</td>\n",
       "    </tr>\n",
       "  </tbody>\n",
       "</table>\n",
       "</div>"
      ],
      "text/plain": [
       "   count\n",
       "0    140"
      ]
     },
     "execution_count": 39,
     "metadata": {},
     "output_type": "execute_result"
    }
   ],
   "source": [
    "APP_LOOKUP1_count = pydb.read_sql_query(\"SELECT count(*) as count from __temp__.APP_LOOKUP1\")\n",
    "APP_LOOKUP1_count"
   ]
  },
  {
   "cell_type": "code",
   "execution_count": null,
   "id": "ece256c8-a34b-4f05-8e0b-2b8d4fc00043",
   "metadata": {},
   "outputs": [],
   "source": []
  },
  {
   "cell_type": "code",
   "execution_count": null,
   "id": "af0e1ab7-778f-4a94-86aa-c8bfb87628f0",
   "metadata": {},
   "outputs": [],
   "source": []
  },
  {
   "cell_type": "markdown",
   "id": "d613a764",
   "metadata": {},
   "source": [
    "## 9. APP_LOOKUP2 table - This query looks at the adjusted value to see whether it can find any of the four order types in the value string. If so, it puts the order type description. <a name=APP_LOOKUP2></a>"
   ]
  },
  {
   "cell_type": "markdown",
   "id": "89f9a07f",
   "metadata": {},
   "source": [
    "### Create the APP_LOOKUP2 table"
   ]
  },
  {
   "cell_type": "code",
   "execution_count": 41,
   "id": "e137efd7",
   "metadata": {},
   "outputs": [
    {
     "ename": "InvalidRequestException",
     "evalue": "An error occurred (InvalidRequestException) when calling the StartQueryExecution operation: line 9:42: mismatched input '<>'. Expecting: 'WHEN'",
     "output_type": "error",
     "traceback": [
      "\u001b[0;31m---------------------------------------------------------------------------\u001b[0m",
      "\u001b[0;31mInvalidRequestException\u001b[0m                   Traceback (most recent call last)",
      "Input \u001b[0;32mIn [41]\u001b[0m, in \u001b[0;36m<cell line: 14>\u001b[0;34m()\u001b[0m\n\u001b[1;32m      1\u001b[0m create_APP_LOOKUP2_table \u001b[38;5;241m=\u001b[39m\u001b[38;5;124mf\u001b[39m\u001b[38;5;124m\"\"\"\u001b[39m\n\u001b[1;32m      2\u001b[0m \u001b[38;5;124mSELECT t1.ADJUSTED_VALUE,\u001b[39m\n\u001b[1;32m      3\u001b[0m \u001b[38;5;124m       /*ENM*/\u001b[39m\n\u001b[0;32m   (...)\u001b[0m\n\u001b[1;32m     12\u001b[0m \u001b[38;5;124mFROM __temp__.APP_LOOKUP1 AS t1;\u001b[39m\n\u001b[1;32m     13\u001b[0m \u001b[38;5;124m\"\"\"\u001b[39m\n\u001b[0;32m---> 14\u001b[0m \u001b[43mpydb\u001b[49m\u001b[38;5;241;43m.\u001b[39;49m\u001b[43mcreate_temp_table\u001b[49m\u001b[43m(\u001b[49m\u001b[43mcreate_APP_LOOKUP2_table\u001b[49m\u001b[43m,\u001b[49m\u001b[38;5;124;43m'\u001b[39;49m\u001b[38;5;124;43mAPP_LOOKUP2\u001b[39;49m\u001b[38;5;124;43m'\u001b[39;49m\u001b[43m)\u001b[49m\n",
      "File \u001b[0;32m~/venv/lib/python3.9/site-packages/pydbtools/_wrangler.py:149\u001b[0m, in \u001b[0;36minit_athena_params.<locals>.wrapper\u001b[0;34m(*args, **kwargs)\u001b[0m\n\u001b[1;32m    147\u001b[0m logger\u001b[38;5;241m.\u001b[39mdebug(\u001b[38;5;124mf\u001b[39m\u001b[38;5;124m\"\u001b[39m\u001b[38;5;124mModifying function \u001b[39m\u001b[38;5;132;01m{\u001b[39;00mfunc\u001b[38;5;241m.\u001b[39m\u001b[38;5;18m__name__\u001b[39m\u001b[38;5;132;01m}\u001b[39;00m\u001b[38;5;124m\"\u001b[39m)\n\u001b[1;32m    148\u001b[0m logger\u001b[38;5;241m.\u001b[39mdebug(pprint\u001b[38;5;241m.\u001b[39mpformat(\u001b[38;5;28mdict\u001b[39m(argmap)))\n\u001b[0;32m--> 149\u001b[0m \u001b[38;5;28;01mreturn\u001b[39;00m \u001b[43mfunc\u001b[49m\u001b[43m(\u001b[49m\u001b[38;5;241;43m*\u001b[39;49m\u001b[38;5;241;43m*\u001b[39;49m\u001b[43margmap\u001b[49m\u001b[43m)\u001b[49m\n",
      "File \u001b[0;32m~/venv/lib/python3.9/site-packages/pydbtools/_wrangler.py:299\u001b[0m, in \u001b[0;36mcreate_temp_table\u001b[0;34m(sql, table_name, boto3_session, force_ec2, region_name)\u001b[0m\n\u001b[1;32m    287\u001b[0m _ \u001b[38;5;241m=\u001b[39m ath\u001b[38;5;241m.\u001b[39mwait_query(q_e_id, boto3_session\u001b[38;5;241m=\u001b[39mboto3_session)\n\u001b[1;32m    289\u001b[0m ctas_query \u001b[38;5;241m=\u001b[39m \u001b[38;5;124mf\u001b[39m\u001b[38;5;124m\"\"\"\u001b[39m\n\u001b[1;32m    290\u001b[0m \u001b[38;5;124mCREATE TABLE \u001b[39m\u001b[38;5;132;01m{\u001b[39;00mtemp_db_name\u001b[38;5;132;01m}\u001b[39;00m\u001b[38;5;124m.\u001b[39m\u001b[38;5;132;01m{\u001b[39;00mtable_name\u001b[38;5;132;01m}\u001b[39;00m\n\u001b[1;32m    291\u001b[0m \u001b[38;5;124m    WITH (\u001b[39m\n\u001b[0;32m   (...)\u001b[0m\n\u001b[1;32m    296\u001b[0m \u001b[38;5;124mas \u001b[39m\u001b[38;5;132;01m{\u001b[39;00msql\u001b[38;5;132;01m}\u001b[39;00m\n\u001b[1;32m    297\u001b[0m \u001b[38;5;124m\u001b[39m\u001b[38;5;124m\"\"\"\u001b[39m\n\u001b[0;32m--> 299\u001b[0m q_e_id \u001b[38;5;241m=\u001b[39m \u001b[43math\u001b[49m\u001b[38;5;241;43m.\u001b[39;49m\u001b[43mstart_query_execution\u001b[49m\u001b[43m(\u001b[49m\u001b[43mctas_query\u001b[49m\u001b[43m,\u001b[49m\u001b[43m \u001b[49m\u001b[43mboto3_session\u001b[49m\u001b[38;5;241;43m=\u001b[39;49m\u001b[43mboto3_session\u001b[49m\u001b[43m)\u001b[49m\n\u001b[1;32m    301\u001b[0m ath\u001b[38;5;241m.\u001b[39mwait_query(q_e_id, boto3_session\u001b[38;5;241m=\u001b[39mboto3_session)\n",
      "File \u001b[0;32m~/venv/lib/python3.9/site-packages/awswrangler/_config.py:450\u001b[0m, in \u001b[0;36mapply_configs.<locals>.wrapper\u001b[0;34m(*args_raw, **kwargs)\u001b[0m\n\u001b[1;32m    448\u001b[0m         \u001b[38;5;28;01mdel\u001b[39;00m args[name]\n\u001b[1;32m    449\u001b[0m         args \u001b[38;5;241m=\u001b[39m {\u001b[38;5;241m*\u001b[39m\u001b[38;5;241m*\u001b[39margs, \u001b[38;5;241m*\u001b[39m\u001b[38;5;241m*\u001b[39mkeywords}\n\u001b[0;32m--> 450\u001b[0m \u001b[38;5;28;01mreturn\u001b[39;00m \u001b[43mfunction\u001b[49m\u001b[43m(\u001b[49m\u001b[38;5;241;43m*\u001b[39;49m\u001b[38;5;241;43m*\u001b[39;49m\u001b[43margs\u001b[49m\u001b[43m)\u001b[49m\n",
      "File \u001b[0;32m~/venv/lib/python3.9/site-packages/awswrangler/athena/_utils.py:487\u001b[0m, in \u001b[0;36mstart_query_execution\u001b[0;34m(sql, database, s3_output, workgroup, encryption, kms_key, params, boto3_session, max_cache_seconds, max_cache_query_inspections, max_remote_cache_entries, max_local_cache_entries, data_source, wait)\u001b[0m\n\u001b[1;32m    485\u001b[0m \u001b[38;5;28;01melse\u001b[39;00m:\n\u001b[1;32m    486\u001b[0m     wg_config: _WorkGroupConfig \u001b[38;5;241m=\u001b[39m _get_workgroup_config(session\u001b[38;5;241m=\u001b[39msession, workgroup\u001b[38;5;241m=\u001b[39mworkgroup)\n\u001b[0;32m--> 487\u001b[0m     query_execution_id \u001b[38;5;241m=\u001b[39m \u001b[43m_start_query_execution\u001b[49m\u001b[43m(\u001b[49m\n\u001b[1;32m    488\u001b[0m \u001b[43m        \u001b[49m\u001b[43msql\u001b[49m\u001b[38;5;241;43m=\u001b[39;49m\u001b[43msql\u001b[49m\u001b[43m,\u001b[49m\n\u001b[1;32m    489\u001b[0m \u001b[43m        \u001b[49m\u001b[43mwg_config\u001b[49m\u001b[38;5;241;43m=\u001b[39;49m\u001b[43mwg_config\u001b[49m\u001b[43m,\u001b[49m\n\u001b[1;32m    490\u001b[0m \u001b[43m        \u001b[49m\u001b[43mdatabase\u001b[49m\u001b[38;5;241;43m=\u001b[39;49m\u001b[43mdatabase\u001b[49m\u001b[43m,\u001b[49m\n\u001b[1;32m    491\u001b[0m \u001b[43m        \u001b[49m\u001b[43mdata_source\u001b[49m\u001b[38;5;241;43m=\u001b[39;49m\u001b[43mdata_source\u001b[49m\u001b[43m,\u001b[49m\n\u001b[1;32m    492\u001b[0m \u001b[43m        \u001b[49m\u001b[43ms3_output\u001b[49m\u001b[38;5;241;43m=\u001b[39;49m\u001b[43ms3_output\u001b[49m\u001b[43m,\u001b[49m\n\u001b[1;32m    493\u001b[0m \u001b[43m        \u001b[49m\u001b[43mworkgroup\u001b[49m\u001b[38;5;241;43m=\u001b[39;49m\u001b[43mworkgroup\u001b[49m\u001b[43m,\u001b[49m\n\u001b[1;32m    494\u001b[0m \u001b[43m        \u001b[49m\u001b[43mencryption\u001b[49m\u001b[38;5;241;43m=\u001b[39;49m\u001b[43mencryption\u001b[49m\u001b[43m,\u001b[49m\n\u001b[1;32m    495\u001b[0m \u001b[43m        \u001b[49m\u001b[43mkms_key\u001b[49m\u001b[38;5;241;43m=\u001b[39;49m\u001b[43mkms_key\u001b[49m\u001b[43m,\u001b[49m\n\u001b[1;32m    496\u001b[0m \u001b[43m        \u001b[49m\u001b[43mboto3_session\u001b[49m\u001b[38;5;241;43m=\u001b[39;49m\u001b[43msession\u001b[49m\u001b[43m,\u001b[49m\n\u001b[1;32m    497\u001b[0m \u001b[43m    \u001b[49m\u001b[43m)\u001b[49m\n\u001b[1;32m    498\u001b[0m \u001b[38;5;28;01mif\u001b[39;00m wait:\n\u001b[1;32m    499\u001b[0m     \u001b[38;5;28;01mreturn\u001b[39;00m wait_query(query_execution_id\u001b[38;5;241m=\u001b[39mquery_execution_id, boto3_session\u001b[38;5;241m=\u001b[39msession)\n",
      "File \u001b[0;32m~/venv/lib/python3.9/site-packages/awswrangler/athena/_utils.py:98\u001b[0m, in \u001b[0;36m_start_query_execution\u001b[0;34m(sql, wg_config, database, data_source, s3_output, workgroup, encryption, kms_key, boto3_session)\u001b[0m\n\u001b[1;32m     96\u001b[0m client_athena: boto3\u001b[38;5;241m.\u001b[39mclient \u001b[38;5;241m=\u001b[39m _utils\u001b[38;5;241m.\u001b[39mclient(service_name\u001b[38;5;241m=\u001b[39m\u001b[38;5;124m\"\u001b[39m\u001b[38;5;124mathena\u001b[39m\u001b[38;5;124m\"\u001b[39m, session\u001b[38;5;241m=\u001b[39msession)\n\u001b[1;32m     97\u001b[0m _logger\u001b[38;5;241m.\u001b[39mdebug(\u001b[38;5;124m\"\u001b[39m\u001b[38;5;124margs: \u001b[39m\u001b[38;5;130;01m\\n\u001b[39;00m\u001b[38;5;132;01m%s\u001b[39;00m\u001b[38;5;124m\"\u001b[39m, pprint\u001b[38;5;241m.\u001b[39mpformat(args))\n\u001b[0;32m---> 98\u001b[0m response: Dict[\u001b[38;5;28mstr\u001b[39m, Any] \u001b[38;5;241m=\u001b[39m \u001b[43m_utils\u001b[49m\u001b[38;5;241;43m.\u001b[39;49m\u001b[43mtry_it\u001b[49m\u001b[43m(\u001b[49m\n\u001b[1;32m     99\u001b[0m \u001b[43m    \u001b[49m\u001b[43mf\u001b[49m\u001b[38;5;241;43m=\u001b[39;49m\u001b[43mclient_athena\u001b[49m\u001b[38;5;241;43m.\u001b[39;49m\u001b[43mstart_query_execution\u001b[49m\u001b[43m,\u001b[49m\n\u001b[1;32m    100\u001b[0m \u001b[43m    \u001b[49m\u001b[43mex\u001b[49m\u001b[38;5;241;43m=\u001b[39;49m\u001b[43mbotocore\u001b[49m\u001b[38;5;241;43m.\u001b[39;49m\u001b[43mexceptions\u001b[49m\u001b[38;5;241;43m.\u001b[39;49m\u001b[43mClientError\u001b[49m\u001b[43m,\u001b[49m\n\u001b[1;32m    101\u001b[0m \u001b[43m    \u001b[49m\u001b[43mex_code\u001b[49m\u001b[38;5;241;43m=\u001b[39;49m\u001b[38;5;124;43m\"\u001b[39;49m\u001b[38;5;124;43mThrottlingException\u001b[39;49m\u001b[38;5;124;43m\"\u001b[39;49m\u001b[43m,\u001b[49m\n\u001b[1;32m    102\u001b[0m \u001b[43m    \u001b[49m\u001b[43mmax_num_tries\u001b[49m\u001b[38;5;241;43m=\u001b[39;49m\u001b[38;5;241;43m5\u001b[39;49m\u001b[43m,\u001b[49m\n\u001b[1;32m    103\u001b[0m \u001b[43m    \u001b[49m\u001b[38;5;241;43m*\u001b[39;49m\u001b[38;5;241;43m*\u001b[39;49m\u001b[43margs\u001b[49m\u001b[43m,\u001b[49m\n\u001b[1;32m    104\u001b[0m \u001b[43m\u001b[49m\u001b[43m)\u001b[49m\n\u001b[1;32m    105\u001b[0m \u001b[38;5;28;01mreturn\u001b[39;00m cast(\u001b[38;5;28mstr\u001b[39m, response[\u001b[38;5;124m\"\u001b[39m\u001b[38;5;124mQueryExecutionId\u001b[39m\u001b[38;5;124m\"\u001b[39m])\n",
      "File \u001b[0;32m~/venv/lib/python3.9/site-packages/awswrangler/_utils.py:343\u001b[0m, in \u001b[0;36mtry_it\u001b[0;34m(f, ex, ex_code, base, max_num_tries, **kwargs)\u001b[0m\n\u001b[1;32m    341\u001b[0m \u001b[38;5;28;01mfor\u001b[39;00m i \u001b[38;5;129;01min\u001b[39;00m \u001b[38;5;28mrange\u001b[39m(max_num_tries):\n\u001b[1;32m    342\u001b[0m     \u001b[38;5;28;01mtry\u001b[39;00m:\n\u001b[0;32m--> 343\u001b[0m         \u001b[38;5;28;01mreturn\u001b[39;00m \u001b[43mf\u001b[49m\u001b[43m(\u001b[49m\u001b[38;5;241;43m*\u001b[39;49m\u001b[38;5;241;43m*\u001b[39;49m\u001b[43mkwargs\u001b[49m\u001b[43m)\u001b[49m\n\u001b[1;32m    344\u001b[0m     \u001b[38;5;28;01mexcept\u001b[39;00m ex \u001b[38;5;28;01mas\u001b[39;00m exception:\n\u001b[1;32m    345\u001b[0m         \u001b[38;5;28;01mif\u001b[39;00m ex_code \u001b[38;5;129;01mis\u001b[39;00m \u001b[38;5;129;01mnot\u001b[39;00m \u001b[38;5;28;01mNone\u001b[39;00m \u001b[38;5;129;01mand\u001b[39;00m \u001b[38;5;28mhasattr\u001b[39m(exception, \u001b[38;5;124m\"\u001b[39m\u001b[38;5;124mresponse\u001b[39m\u001b[38;5;124m\"\u001b[39m):\n",
      "File \u001b[0;32m~/venv/lib/python3.9/site-packages/botocore/client.py:395\u001b[0m, in \u001b[0;36mClientCreator._create_api_method.<locals>._api_call\u001b[0;34m(self, *args, **kwargs)\u001b[0m\n\u001b[1;32m    392\u001b[0m     \u001b[38;5;28;01mraise\u001b[39;00m \u001b[38;5;167;01mTypeError\u001b[39;00m(\n\u001b[1;32m    393\u001b[0m         \u001b[38;5;124m\"\u001b[39m\u001b[38;5;132;01m%s\u001b[39;00m\u001b[38;5;124m() only accepts keyword arguments.\u001b[39m\u001b[38;5;124m\"\u001b[39m \u001b[38;5;241m%\u001b[39m py_operation_name)\n\u001b[1;32m    394\u001b[0m \u001b[38;5;66;03m# The \"self\" in this scope is referring to the BaseClient.\u001b[39;00m\n\u001b[0;32m--> 395\u001b[0m \u001b[38;5;28;01mreturn\u001b[39;00m \u001b[38;5;28;43mself\u001b[39;49m\u001b[38;5;241;43m.\u001b[39;49m\u001b[43m_make_api_call\u001b[49m\u001b[43m(\u001b[49m\u001b[43moperation_name\u001b[49m\u001b[43m,\u001b[49m\u001b[43m \u001b[49m\u001b[43mkwargs\u001b[49m\u001b[43m)\u001b[49m\n",
      "File \u001b[0;32m~/venv/lib/python3.9/site-packages/botocore/client.py:725\u001b[0m, in \u001b[0;36mBaseClient._make_api_call\u001b[0;34m(self, operation_name, api_params)\u001b[0m\n\u001b[1;32m    723\u001b[0m     error_code \u001b[38;5;241m=\u001b[39m parsed_response\u001b[38;5;241m.\u001b[39mget(\u001b[38;5;124m\"\u001b[39m\u001b[38;5;124mError\u001b[39m\u001b[38;5;124m\"\u001b[39m, {})\u001b[38;5;241m.\u001b[39mget(\u001b[38;5;124m\"\u001b[39m\u001b[38;5;124mCode\u001b[39m\u001b[38;5;124m\"\u001b[39m)\n\u001b[1;32m    724\u001b[0m     error_class \u001b[38;5;241m=\u001b[39m \u001b[38;5;28mself\u001b[39m\u001b[38;5;241m.\u001b[39mexceptions\u001b[38;5;241m.\u001b[39mfrom_code(error_code)\n\u001b[0;32m--> 725\u001b[0m     \u001b[38;5;28;01mraise\u001b[39;00m error_class(parsed_response, operation_name)\n\u001b[1;32m    726\u001b[0m \u001b[38;5;28;01melse\u001b[39;00m:\n\u001b[1;32m    727\u001b[0m     \u001b[38;5;28;01mreturn\u001b[39;00m parsed_response\n",
      "\u001b[0;31mInvalidRequestException\u001b[0m: An error occurred (InvalidRequestException) when calling the StartQueryExecution operation: line 9:42: mismatched input '<>'. Expecting: 'WHEN'"
     ]
    }
   ],
   "source": [
    "create_APP_LOOKUP2_table =f\"\"\"\n",
    "SELECT t1.ADJUSTED_VALUE,\n",
    "       /*ENM*/\n",
    "       CASE strpos(Adjusted_Value,'ENM') <> 0 then 'Exparte Non-Molestation' else '' as ENM,\n",
    "       /*ONM*/\n",
    "       CASE strpos(Adjusted_Value,'ONM') <> 0 then 'On Notice Non-Molestation' else '' as ONM,\n",
    "       /*EO*/\n",
    "       CASE (strpos(Adjusted_Value,', EO') <> 0 OR strpos(Adjusted_Value,', EO ,') <> 0)\n",
    "       then 'Exparte Occupation' else '' as EO,\n",
    "       /*ONO*/\n",
    "       CASE strpos(Adjusted_Value,'ONO') <> 0 then 'On Notice Occupation' else '' as ONO\n",
    "FROM __temp__.APP_LOOKUP1 AS t1;\n",
    "\"\"\"\n",
    "pydb.create_temp_table(create_APP_LOOKUP2_table,'APP_LOOKUP2')"
   ]
  },
  {
   "cell_type": "markdown",
   "id": "d4e32fbb",
   "metadata": {},
   "source": [
    "#### APP_LOOKUP2 validation"
   ]
  },
  {
   "cell_type": "code",
   "execution_count": null,
   "id": "ada0062d",
   "metadata": {},
   "outputs": [],
   "source": [
    "APP_LOOKUP2_count = pydb.read_sql_query(\"SELECT count(*) as count from __temp__.APP_LOOKUP2\")\n",
    "APP_LOOKUP2_count"
   ]
  }
 ],
 "metadata": {
  "kernelspec": {
   "display_name": "venvname",
   "language": "python",
   "name": "venvname"
  },
  "language_info": {
   "codemirror_mode": {
    "name": "ipython",
    "version": 3
   },
   "file_extension": ".py",
   "mimetype": "text/x-python",
   "name": "python",
   "nbconvert_exporter": "python",
   "pygments_lexer": "ipython3",
   "version": "3.9.6"
  }
 },
 "nbformat": 4,
 "nbformat_minor": 5
}
