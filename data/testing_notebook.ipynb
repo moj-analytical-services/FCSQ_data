{
 "cells": [
  {
   "cell_type": "markdown",
   "id": "e47776ef",
   "metadata": {},
   "source": [
    "## 1. new_table table - a new table <a name=new_table></a>"
   ]
  },
  {
   "cell_type": "markdown",
   "id": "52a298f9",
   "metadata": {},
   "source": [
    "### Drop the new_table table if it already exists and remove its data from the S3 bucket"
   ]
  },
  {
   "cell_type": "code",
   "execution_count": 1,
   "id": "8e2f9f94",
   "metadata": {},
   "outputs": [
    {
     "ename": "NameError",
     "evalue": "name 'pydb' is not defined",
     "output_type": "error",
     "traceback": [
      "\u001b[0;31m---------------------------------------------------------------------------\u001b[0m",
      "\u001b[0;31mNameError\u001b[0m                                 Traceback (most recent call last)",
      "Input \u001b[0;32mIn [1]\u001b[0m, in \u001b[0;36m<cell line: 2>\u001b[0;34m()\u001b[0m\n\u001b[1;32m      1\u001b[0m drop_new_table \u001b[38;5;241m=\u001b[39m \u001b[38;5;124m\"\u001b[39m\u001b[38;5;124mDROP TABLE IF EXISTS fcsq.new_table\u001b[39m\u001b[38;5;124m\"\u001b[39m\n\u001b[0;32m----> 2\u001b[0m \u001b[43mpydb\u001b[49m\u001b[38;5;241m.\u001b[39mstart_query_execution_and_wait(drop_new_table)\n\u001b[1;32m      3\u001b[0m bucket\u001b[38;5;241m.\u001b[39mobjects\u001b[38;5;241m.\u001b[39mfilter(Prefix\u001b[38;5;241m=\u001b[39m\u001b[38;5;124m\"\u001b[39m\u001b[38;5;124mfcsq_processing/Adoption/new_table\u001b[39m\u001b[38;5;124m\"\u001b[39m)\u001b[38;5;241m.\u001b[39mdelete()\n",
      "\u001b[0;31mNameError\u001b[0m: name 'pydb' is not defined"
     ]
    }
   ],
   "source": [
    "drop_new_table = \"DROP TABLE IF EXISTS fcsq.new_table\"\n",
    "pydb.start_query_execution_and_wait(drop_new_table)\n",
    "bucket.objects.filter(Prefix=\"fcsq_processing/Adoption/new_table\").delete();"
   ]
  },
  {
   "cell_type": "markdown",
   "id": "b6eb5e33",
   "metadata": {},
   "source": [
    "### Create the new_table table"
   ]
  },
  {
   "cell_type": "code",
   "execution_count": null,
   "id": "13a2e5eb",
   "metadata": {},
   "outputs": [],
   "source": [
    "create_new_table_table =f\"\"\"\n",
    "CREATE TABLE IF NOT EXISTS fcsq.new_table\n",
    "WITH (format = 'PARQUET', external_location = 's3://alpha-family-data/fcsq_processing/Adoption/new_table') AS\n",
    "   SELECT t1.*\n",
    "\n",
    "      FROM fcsq.table1 t1\n",
    "      WHERE t1.Type NOT = 'Contact_s26' AND t1.Type NOT = 'Contact_s26_revoke_or_vary' AND t1.Type NOT = \n",
    "           'Placement_revoke_or_vary' AND t1.Type NOT = 'Other_order_type'\n",
    "      ORDER BY t1.CASE_NUMBER,\n",
    "               t1.Receipt_date;\n",
    "\"\"\"\n",
    "pydb.start_query_execution_and_wait(create_new_table_table);"
   ]
  },
  {
   "cell_type": "markdown",
   "id": "62294b20",
   "metadata": {},
   "source": [
    "#### new_table validation"
   ]
  },
  {
   "cell_type": "code",
   "execution_count": null,
   "id": "82b8d491",
   "metadata": {},
   "outputs": [],
   "source": [
    "#new_table_count = pydb.read_sql_query(\"SELECT count(*) as count from fcsq.new_table\")\n",
    "#new_table_count"
   ]
  }
 ],
 "metadata": {
  "kernelspec": {
   "display_name": "venv",
   "language": "python",
   "name": "venv"
  },
  "language_info": {
   "codemirror_mode": {
    "name": "ipython",
    "version": 3
   },
   "file_extension": ".py",
   "mimetype": "text/x-python",
   "name": "python",
   "nbconvert_exporter": "python",
   "pygments_lexer": "ipython3",
   "version": "3.9.6"
  }
 },
 "nbformat": 4,
 "nbformat_minor": 5
}
