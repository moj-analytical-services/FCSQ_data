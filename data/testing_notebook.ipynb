{
 "cells": [
  {
   "cell_type": "markdown",
   "id": "4ebfb93f",
   "metadata": {},
   "source": [
    "## 4. new table - vivrhe <a name=new></a>"
   ]
  },
  {
   "cell_type": "markdown",
   "id": "6926f45c",
   "metadata": {},
   "source": [
    "### Drop the new table if it already exists and remove its data from the S3 bucket"
   ]
  },
  {
   "cell_type": "code",
   "execution_count": null,
   "id": "65846ee0",
   "metadata": {},
   "outputs": [],
   "source": [
    "drop_new = \"DROP TABLE IF EXISTS fcsq.new\"\n",
    "pydb.start_query_execution_and_wait(drop_new)\n",
    "bucket.objects.filter(Prefix=\"fcsq_processing/Adoption/new\").delete();"
   ]
  },
  {
   "cell_type": "markdown",
   "id": "381dd408",
   "metadata": {},
   "source": [
    "### Create the new table"
   ]
  },
  {
   "cell_type": "code",
   "execution_count": null,
   "id": "c5820a46",
   "metadata": {},
   "outputs": [],
   "source": [
    "create_new_table =f\"\"\"\n",
    "CREATE TABLE IF NOT EXISTS fcsq.new\n",
    "WITH (format = 'PARQUET', external_location = 's3://alpha-family-data/fcsq_processing/Adoption/new') AS\n",
    "SELECT * FROM\n",
    "fcsq.adopt_application_5\n",
    "ORDER BY \n",
    "CASE_NUMBER, APP_DATE\n",
    "\"\"\"\n",
    "pydb.start_query_execution_and_wait(create_new_table);"
   ]
  },
  {
   "cell_type": "markdown",
   "id": "d90adab2",
   "metadata": {},
   "source": [
    "#### new validation"
   ]
  },
  {
   "cell_type": "code",
   "execution_count": null,
   "id": "b74106ad",
   "metadata": {},
   "outputs": [],
   "source": [
    "new_count = pydb.read_sql_query(\"SELECT count(*) as count from fcsq.new\")\n",
    "new_count"
   ]
  }
 ],
 "metadata": {
  "kernelspec": {
   "display_name": "venvname",
   "language": "python",
   "name": "venvname"
  },
  "language_info": {
   "codemirror_mode": {
    "name": "ipython",
    "version": 3
   },
   "file_extension": ".py",
   "mimetype": "text/x-python",
   "name": "python",
   "nbconvert_exporter": "python",
   "pygments_lexer": "ipython3",
   "version": "3.9.6"
  }
 },
 "nbformat": 4,
 "nbformat_minor": 5
}
