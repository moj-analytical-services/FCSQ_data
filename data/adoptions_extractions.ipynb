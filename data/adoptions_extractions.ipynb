{
 "cells": [
  {
   "cell_type": "code",
   "execution_count": null,
   "metadata": {},
   "outputs": [],
   "source": [
    "import pandas as pd #for the data structures to store and manipulate tables\n",
    "import pydbtools as pydb # see https://github.com/moj-analytical-services/pydbtools\n",
    "import boto3 #for working with AWS\n",
    "\n",
    "# few things for viewing dataframes better\n",
    "pd.set_option('display.max_columns', 100)\n",
    "pd.set_option('display.width', 900)\n",
    "pd.set_option('display.max_colwidth', 200)"
   ]
  },
  {
   "cell_type": "code",
   "execution_count": null,
   "metadata": {},
   "outputs": [],
   "source": [
    "\n",
    "# define some variables to be used throughout the notebook\n",
    "database = \"familyman_dev_v2\"\n",
    "snapshot_date = \"2021-08-19\"\n",
    "database_derived = \"familyman_derived_dev_v1\"\n",
    "\n",
    "fcsq_database = \"fcsq\""
   ]
  },
  {
   "cell_type": "code",
   "execution_count": null,
   "metadata": {},
   "outputs": [],
   "source": [
    "# This is adapted from one of the queries sent through\n",
    "s1 = f\"\"\"\n",
    "DROP TABLE ADOPTIONS_PARTIES;\n",
    "\"\"\"\n",
    "\n",
    "s2 = f\"\"\"\n",
    "CREATE TABLE IF NOT EXISTS fcsq.ADOPTIONS_PARTIES\n",
    "WITH (format = 'PARQUET', external_location = 's3://alpha-family-data/fcsq_processing/CA_apps/ADOPTIONS_PARTIES') AS\n",
    "SELECT R.CASE_NUMBER,\n",
    "  R.ROLE,\n",
    "  R.ROLE_MODEL,\n",
    "  R.REPRESENTATIVE_ROLE AS Representative,\n",
    "  F.FIELD_MODEL,\n",
    "  F.VALUE AS Rel_to_child,\n",
    "  R.PARTY,\n",
    "  P.DOB,\n",
    "  P.GENDER,\n",
    "  P.MOJAP_SNAPSHOT_DATE\n",
    "FROM {database}.parties P\n",
    "INNER JOIN {database}.roles R\n",
    "ON P.PARTY = R.PARTY\n",
    "INNER JOIN {database}.role_fields F\n",
    "ON R.ROLE               = F.ROLE\n",
    "WHERE ((R.ROLE_MODEL     = 'APLZ'\n",
    "AND F.FIELD_MODEL = 'APLZ_RTC')\n",
    "OR (R.ROLE_MODEL        = 'CHLDZ'\n",
    "AND F.FIELD_MODEL = 'CHLDZ_CP'))\n",
    "AND R.mojap_snapshot_date = date '{snapshot_date}'\n",
    "AND F.mojap_snapshot_date = date '{snapshot_date}'\n",
    "AND P.mojap_snapshot_date = date '{snapshot_date}'\n",
    "\"\"\"\n",
    "\n",
    "# Here we are creating a temporary table that can be queried later\n",
    "# from the __temp__ database\n",
    "\n",
    "table = pydb.read_sql_query(s2)\n",
    "\n",
    "# Query the temporary table just created. The database to query is called __temp__, this is\n",
    "# an alias for a sandbox database that is created for each user. For more details, see\n",
    "# the pydbtools docs\n",
    "\n",
    "\n",
    "#table = pydb.read_sql_query(\"select * from __temp__.adoptions_parties\")\n",
    "temp_table = pydb.read_sql_query(\"select count(*) as count from fcsq.adoptions_parties\")\n",
    "temp_table\n"
   ]
  },
  {
   "cell_type": "code",
   "execution_count": null,
   "metadata": {},
   "outputs": [],
   "source": [
    "adoptions_parties_csv_file = table.to_csv(\"s3://alpha-family-data/fcsq_processing/Adoption/adoptions_parties.csv\")"
   ]
  },
  {
   "cell_type": "code",
   "execution_count": null,
   "metadata": {},
   "outputs": [],
   "source": []
  },
  {
   "cell_type": "code",
   "execution_count": null,
   "metadata": {},
   "outputs": [],
   "source": [
    "pd.read_csv('s3://alpha-family-data/fcsq_processing/Adoption/adoption_count.csv')"
   ]
  },
  {
   "cell_type": "code",
   "execution_count": null,
   "metadata": {},
   "outputs": [],
   "source": []
  },
  {
   "cell_type": "code",
   "execution_count": null,
   "metadata": {},
   "outputs": [],
   "source": []
  }
 ],
 "metadata": {
  "kernelspec": {
   "display_name": "venvname",
   "language": "python",
   "name": "venvname"
  },
  "language_info": {
   "codemirror_mode": {
    "name": "ipython",
    "version": 3
   },
   "file_extension": ".py",
   "mimetype": "text/x-python",
   "name": "python",
   "nbconvert_exporter": "python",
   "pygments_lexer": "ipython3",
   "version": "3.7.1"
  }
 },
 "nbformat": 4,
 "nbformat_minor": 4
}
