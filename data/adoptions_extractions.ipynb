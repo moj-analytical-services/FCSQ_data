{
 "cells": [
  {
   "cell_type": "code",
   "execution_count": null,
   "metadata": {},
   "outputs": [],
   "source": [
    "# Adoption extraction tables"
   ]
  },
  {
   "cell_type": "code",
   "execution_count": null,
   "metadata": {},
   "outputs": [],
   "source": [
    "## Import packages and set options"
   ]
  },
  {
   "cell_type": "code",
   "execution_count": null,
   "metadata": {},
   "outputs": [],
   "source": [
    "import pandas as pd #for the data structures to store and manipulate tables\n",
    "import pydbtools as pydb # see https://github.com/moj-analytical-services/pydbtools\n",
    "import boto3 #for working with AWS\n",
    "\n",
    "# few things for viewing dataframes better\n",
    "pd.set_option('display.max_columns', 100)\n",
    "pd.set_option('display.width', 900)\n",
    "pd.set_option('display.max_colwidth', 200)"
   ]
  },
  {
   "cell_type": "code",
   "execution_count": null,
   "metadata": {},
   "outputs": [],
   "source": [
    "## Define some variables to be used throughout the notebook"
   ]
  },
  {
   "cell_type": "code",
   "execution_count": null,
   "metadata": {},
   "outputs": [],
   "source": [
    "database = \"familyman_dev_v2\"\n",
    "snapshot_date = \"2021-08-19\"\n",
    "database_derived = \"familyman_derived_dev_v1\"\n",
    "\n",
    "fcsq_database = \"fcsq\"\n",
    "\n",
    "s3 = boto3.resource('s3')\n",
    "bucket = s3.Bucket('alpha-family-data')"
   ]
  },
  {
   "cell_type": "code",
   "execution_count": null,
   "metadata": {},
   "outputs": [],
   "source": [
    "## Drop the adoptions_parties table if it already exists and remove its data from the S3 bucket"
   ]
  },
  {
   "cell_type": "code",
   "execution_count": null,
   "metadata": {},
   "outputs": [],
   "source": [
    "drop_adoptions_parties = f\"\"\"\n",
    "DROP TABLE IF EXISTS fcsq.ADOPTIONS_PARTIES;\n",
    "\"\"\"\n",
    "pydb.read_sql_query(drop_adoptions_parties)\n",
    "\n",
    "#clean up previous adoptions_parties files\n",
    "bucket.objects.filter(Prefix=\"fcsq_processing/Adoption/Adoptions_Parties/\").delete()"
   ]
  },
  {
   "cell_type": "code",
   "execution_count": null,
   "metadata": {},
   "outputs": [],
   "source": [
    "## Create the adoptions_parties table in Athena"
   ]
  },
  {
   "cell_type": "code",
   "execution_count": null,
   "metadata": {},
   "outputs": [],
   "source": [
    "create_adoptions_parties = f\"\"\"\n",
    "CREATE TABLE IF NOT EXISTS fcsq.ADOPTIONS_PARTIES\n",
    "WITH (format = 'PARQUET', external_location = 's3://alpha-family-data/fcsq_processing/Adoption/Adoptions_Parties') AS\n",
    "SELECT R.CASE_NUMBER,\n",
    "  R.ROLE,\n",
    "  R.ROLE_MODEL,\n",
    "  R.REPRESENTATIVE_ROLE AS Representative,\n",
    "  F.FIELD_MODEL,\n",
    "  F.VALUE AS Rel_to_child,\n",
    "  R.PARTY,\n",
    "  P.DOB,\n",
    "  P.GENDER,\n",
    "  P.MOJAP_SNAPSHOT_DATE\n",
    "FROM {database}.parties P\n",
    "INNER JOIN {database}.roles R\n",
    "ON P.PARTY = R.PARTY\n",
    "INNER JOIN {database}.role_fields F\n",
    "ON R.ROLE               = F.ROLE\n",
    "WHERE ((R.ROLE_MODEL     = 'APLZ'\n",
    "AND F.FIELD_MODEL = 'APLZ_RTC')\n",
    "OR (R.ROLE_MODEL        = 'CHLDZ'\n",
    "AND F.FIELD_MODEL = 'CHLDZ_CP'))\n",
    "AND R.mojap_snapshot_date = date '{snapshot_date}'\n",
    "AND F.mojap_snapshot_date = date '{snapshot_date}'\n",
    "AND P.mojap_snapshot_date = date '{snapshot_date}'\n",
    "\"\"\"\n",
    "\n",
    "pydb.read_sql_query(create_adoptions_parties)\n",
    "\n",
    "# Query the temporary table just created. The database to query is called __temp__, this is\n",
    "# an alias for a sandbox database that is created for each user. For more details, see\n",
    "# the pydbtools docs\n",
    "\n",
    "temp_table = pydb.read_sql_query(\"select count(*) as count from fcsq.adoptions_parties\")\n",
    "temp_table"
   ]
  },
  {
   "cell_type": "code",
   "execution_count": null,
   "metadata": {},
   "outputs": [],
   "source": [
    "## Drop the adoptions_applications_u21 table if it already exists and remove its data from the S3 bucket"
   ]
  },
  {
   "cell_type": "code",
   "execution_count": null,
   "metadata": {},
   "outputs": [],
   "source": [
    "drop_adoptions_applications_u21 = \"DROP TABLE IF EXISTS fcsq.ADOPTIONS_APPLICATIONS_U21;\"\n",
    "pydb.read_sql_query(drop_adoptions_applications_u21)\n",
    "\n",
    "bucket.objects.filter(Prefix=\"fcsq_processing/Adoption/Adoptions_applications_u21/\").delete()"
   ]
  },
  {
   "cell_type": "code",
   "execution_count": null,
   "metadata": {},
   "outputs": [],
   "source": [
    "## Create the adoptions_applications_u21 table in Athena"
   ]
  },
  {
   "cell_type": "code",
   "execution_count": null,
   "metadata": {},
   "outputs": [],
   "source": [
    "create_adoptions_applications_u21 = f\"\"\"\n",
    "CREATE TABLE IF NOT EXISTS fcsq.ADOPTIONS_APPLICATIONS_U21\n",
    "WITH (format = 'PARQUET', external_location = 's3://alpha-family-data/fcsq_processing/Adoption/Adoptions_applications_u21') AS\n",
    "SELECT E.CASE_NUMBER,\n",
    "  E.EVENT,\n",
    "  E.RECEIPT_DATE,\n",
    "  E.ENTRY_DATE,\n",
    "  CASE E.RECEIPT_DATE\n",
    "      WHEN NULL THEN E.ENTRY_DATE\n",
    "      ELSE E.RECEIPT_DATE\n",
    "  END AS Receipt_date2,\n",
    "  E.EVENT_MODEL,\n",
    "  F.VALUE  AS App_Type,\n",
    "  date_parse(F1.VALUE, '%Y-%m-%d') AS Date_of_issue,\n",
    "  F2.VALUE AS High_court\n",
    "FROM {database}.events E\n",
    "INNER JOIN {database}.event_fields F2\n",
    "ON E.EVENT = F2.EVENT\n",
    "INNER JOIN {database}.event_fields F1\n",
    "ON E.EVENT = F1.EVENT\n",
    "INNER JOIN {database}.event_fields F\n",
    "ON E.EVENT               = F.EVENT\n",
    "WHERE (E.EVENT_MODEL      = 'U21'\n",
    "AND F.FIELD_MODEL  = 'U21_1'\n",
    "AND F1.FIELD_MODEL = 'U21_2'\n",
    "AND F2.FIELD_MODEL = 'U21_HC');\n",
    "\"\"\"\n",
    "\n",
    "\"\"\"\n",
    "Changes made to original code (not including variable name changes):\n",
    "\n",
    "Changed decode statement to case statement as decode is not supported\n",
    "Changed TO_DATE to date_parse as TO_DATE not supported\n",
    "(date_parse currently gives time as well, I will look to change this)\n",
    "\n",
    "\n",
    "\"\"\"\n",
    "\n",
    "\n",
    "pydb.read_sql_query(create_adoptions_applications_u21)\n"
   ]
  },
  {
   "cell_type": "code",
   "execution_count": null,
   "metadata": {},
   "outputs": [],
   "source": [
    "## Drop the adoptions_applications_G50 table if it already exists and remove its data from the S3 bucket"
   ]
  },
  {
   "cell_type": "code",
   "execution_count": null,
   "metadata": {},
   "outputs": [],
   "source": [
    "drop_adoptions_applications_G50 = \"DROP TABLE IF EXISTS fcsq.ADOPTIONS_APPLICATIONS_G50;\"\n",
    "pydb.read_sql_query(drop_adoptions_applications_G50)\n",
    "\n",
    "bucket.objects.filter(Prefix=\"fcsq_processing/Adoption/Adoptions_applications_G50/\").delete()"
   ]
  },
  {
   "cell_type": "code",
   "execution_count": null,
   "metadata": {},
   "outputs": [],
   "source": [
    "## Create the adoptions_applications_G50 table in Athena"
   ]
  },
  {
   "cell_type": "code",
   "execution_count": null,
   "metadata": {},
   "outputs": [],
   "source": [
    "create_adoptions_applications_G50 = f\"\"\"\n",
    "CREATE TABLE IF NOT EXISTS fcsq.ADOPTIONS_APPLICATIONS_G50\n",
    "WITH (format = 'PARQUET', external_location = 's3://alpha-family-data/fcsq_processing/Adoption/Adoptions_applications_G50') AS\n",
    "SELECT\n",
    "  E.CASE_NUMBER,\n",
    "  E.EVENT,\n",
    "  E.RECEIPT_DATE,\n",
    "  E.ENTRY_DATE,\n",
    "  CASE E.RECEIPT_DATE\n",
    "      WHEN NULL THEN E.ENTRY_DATE\n",
    "      ELSE E.RECEIPT_DATE\n",
    "  END AS Receipt_date2,\n",
    "  E.EVENT_MODEL,\n",
    "  CASE WHEN F.VALUE like '%RUK%' and F.VALUE like '%CCS%' THEN 'RUK,CCS'\n",
    "       WHEN F.VALUE like '%RUK%' THEN 'RUK'\n",
    "       WHEN F.VALUE like '%CCS%' THEN 'CCS'\n",
    "        END AS App_Type, /*Have done it like this so that we do not include non adoption app types*/\n",
    "  CASE E.RECEIPT_DATE\n",
    "      WHEN NULL THEN E.ENTRY_DATE\n",
    "      ELSE E.RECEIPT_DATE\n",
    "  END AS Date_of_issue,\n",
    "  'N' AS High_court\n",
    "FROM\n",
    "  {database}.events E\n",
    "  INNER JOIN {database}.event_fields F\n",
    "    ON E.EVENT = F.EVENT\n",
    "WHERE\n",
    "  F.FIELD_MODEL = 'G50_AT'\n",
    "  AND (F.VALUE like '%RUK%'\n",
    "   OR F.VALUE like '%CCS%');\n",
    "\"\"\"\n",
    "\n",
    "pydb.read_sql_query(create_adoptions_applications_G50)"
   ]
  },
  {
   "cell_type": "code",
   "execution_count": null,
   "metadata": {},
   "outputs": [],
   "source": [
    "## Drop the adoptions_applications table if it already exists and remove its data from the S3 bucket"
   ]
  },
  {
   "cell_type": "code",
   "execution_count": null,
   "metadata": {},
   "outputs": [],
   "source": [
    "drop_adoptions_applications = \"DROP TABLE IF EXISTS fcsq.ADOPTIONS_APPLICATIONS;\"\n",
    "pydb.read_sql_query(drop_adoptions_applications)\n",
    "\n",
    "bucket.objects.filter(Prefix=\"fcsq_processing/Adoption/Adoptions_applications/\").delete()"
   ]
  },
  {
   "cell_type": "code",
   "execution_count": null,
   "metadata": {},
   "outputs": [],
   "source": [
    "## Create the adoptions_applications table in Athena"
   ]
  },
  {
   "cell_type": "code",
   "execution_count": null,
   "metadata": {},
   "outputs": [],
   "source": [
    "create_adoptions_applications = f\"\"\"\n",
    "CREATE TABLE IF NOT EXISTS fcsq.ADOPTIONS_APPLICATIONS\n",
    "WITH (format = 'PARQUET', external_location = 's3://alpha-family-data/fcsq_processing/Adoption/Adoptions_applications') AS\n",
    "SELECT\n",
    "  *\n",
    "FROM\n",
    "  fcsq.ADOPTIONS_APPLICATIONS_U21\n",
    "WHERE case_number <> 'CV11Z00105'\n",
    "UNION ALL\n",
    "SELECT\n",
    "  *\n",
    "FROM\n",
    "  fcsq.ADOPTIONS_APPLICATIONS_G50\n",
    "WHERE case_number <> 'CV11Z00105';\n",
    "\"\"\"\n",
    "\n",
    "pydb.read_sql_query(create_adoptions_applications)"
   ]
  },
  {
   "cell_type": "code",
   "execution_count": null,
   "metadata": {},
   "outputs": [],
   "source": [
    "## Drop the adoptions_cases table if it already exists and remove its data from the S3 bucket"
   ]
  },
  {
   "cell_type": "code",
   "execution_count": null,
   "metadata": {},
   "outputs": [],
   "source": [
    "drop_adoptions_cases = \"DROP TABLE IF EXISTS fcsq.ADOPTIONS_CASES;\"\n",
    "pydb.read_sql_query(drop_adoptions_cases)\n",
    "\n",
    "bucket.objects.filter(Prefix=\"fcsq_processing/Adoption/Adoptions_cases/\").delete()"
   ]
  },
  {
   "cell_type": "code",
   "execution_count": null,
   "metadata": {},
   "outputs": [],
   "source": [
    "## Create the adoptions_cases table in Athena"
   ]
  },
  {
   "cell_type": "code",
   "execution_count": null,
   "metadata": {},
   "outputs": [],
   "source": [
    "create_adoptions_cases = f\"\"\"\n",
    "CREATE TABLE IF NOT EXISTS fcsq.ADOPTIONS_CASES\n",
    "WITH (format = 'PARQUET', external_location = 's3://alpha-family-data/fcsq_processing/Adoption/Adoptions_cases') AS\n",
    "SELECT F.CASE_NUMBER,\n",
    "  F.VALUE AS Contested,\n",
    "  F1.VALUE AS Case_issue_date,\n",
    "  F2.VALUE AS Case_app_type,\n",
    "  CASE F.CASE_NUMBER\n",
    "      WHEN 'BM08Z09028' THEN '2008-09-19'\n",
    "      ELSE F1.VALUE\n",
    "  END AS Case_issue_date2\n",
    "FROM {database}.case_fields F\n",
    "INNER JOIN {database}.case_fields F2\n",
    "ON F.CASE_NUMBER = F2.CASE_NUMBER\n",
    "INNER JOIN {database}.case_fields F1\n",
    "ON F.CASE_NUMBER    = F1.CASE_NUMBER\n",
    "WHERE F.FIELD_MODEL = 'FM3A_AC'\n",
    "AND F1.FIELD_MODEL  = 'FM3A_DOI'\n",
    "AND F2.FIELD_MODEL  = 'FM3A_AT'\n",
    "AND F.case_number <> 'CV11Z00105';\n",
    "\"\"\"\n",
    "pydb.read_sql_query(create_adoptions_cases)"
   ]
  },
  {
   "cell_type": "code",
   "execution_count": null,
   "metadata": {},
   "outputs": [],
   "source": [
    "## Drop the adoptions_disposals table if it already exists and remove its data from the S3 bucket"
   ]
  },
  {
   "cell_type": "code",
   "execution_count": null,
   "metadata": {},
   "outputs": [],
   "source": [
    "drop_adoptions_disposals = \"DROP TABLE IF EXISTS fcsq.ADOPTIONS_DISPOSALS;\"\n",
    "pydb.read_sql_query(drop_adoptions_disposals)\n",
    "\n",
    "bucket.objects.filter(Prefix=\"fcsq_processing/Adoption/Adoptions_disposals/\").delete()"
   ]
  },
  {
   "cell_type": "code",
   "execution_count": null,
   "metadata": {},
   "outputs": [],
   "source": [
    "## Create the adoptions_disposals table in Athena"
   ]
  },
  {
   "cell_type": "code",
   "execution_count": null,
   "metadata": {},
   "outputs": [],
   "source": [
    "create_adoptions_disposals = f\"\"\"\n",
    "CREATE TABLE IF NOT EXISTS fcsq.ADOPTIONS_DISPOSALS\n",
    "WITH (format = 'PARQUET', external_location = 's3://alpha-family-data/fcsq_processing/Adoption/Adoptions_disposals') AS\n",
    "SELECT E.CASE_NUMBER,\n",
    "  E.EVENT,\n",
    "  E.RECEIPT_DATE,\n",
    "  E.ENTRY_DATE,\n",
    "  CASE E.RECEIPT_DATE\n",
    "      WHEN NULL THEN E.ENTRY_DATE\n",
    "      ELSE E.RECEIPT_DATE  \n",
    "  END AS Receipt_date2,\n",
    "  E.EVENT_MODEL\n",
    "FROM {database}.events E\n",
    "WHERE ((E.EVENT_MODEL IN ('A70', 'A71', 'A72', 'A73', 'A74', 'A75', 'A76', 'A77', 'A78', 'A79', 'A80', 'A81', 'A12', 'A13', 'A15')\n",
    "AND E.ERROR          = 'N')\n",
    "OR (E.EVENT_MODEL    IN ('G63', 'ORDREF', 'ORDNOM')\n",
    "AND E.ERROR          = 'N')\n",
    "OR (E.EVENT_MODEL    IN ('A12', 'A13', 'A15')\n",
    "AND E.ERROR          = 'N'))\n",
    "AND E.case_number <> 'CV11Z00105';\n",
    "\"\"\"\n",
    "pydb.read_sql_query(create_adoptions_disposals)"
   ]
  },
  {
   "cell_type": "code",
   "execution_count": null,
   "metadata": {},
   "outputs": [],
   "source": [
    "## Drop the adoptions_disposal_fields table if it already exists and remove its data from the S3 bucket"
   ]
  },
  {
   "cell_type": "code",
   "execution_count": null,
   "metadata": {},
   "outputs": [],
   "source": [
    "drop_adoptions_disposal_fields = \"DROP TABLE IF EXISTS fcsq.ADOPTIONS_DISPOSALS_FIELDS;\"\n",
    "pydb.read_sql_query(drop_adoptions_disposal_fields)\n",
    "\n",
    "#bucket.objects.filter(Prefix=\"fcsq_processing/Adoption/Adoptions_disposal_fields/\").delete()"
   ]
  },
  {
   "cell_type": "code",
   "execution_count": null,
   "metadata": {},
   "outputs": [],
   "source": [
    "## Create the adoptions_disposal_fields table in Athena"
   ]
  },
  {
   "cell_type": "code",
   "execution_count": null,
   "metadata": {},
   "outputs": [],
   "source": [
    "create_adoptions_disposal_fields = f\"\"\"\n",
    "CREATE TABLE IF NOT EXISTS fcsq.ADOPTIONS_DISPOSAL_FIELDS\n",
    "WITH (format = 'PARQUET', external_location = 's3://alpha-family-data/fcsq_processing/Adoption/Adoptions_disposal_fields') AS\n",
    "SELECT EVENT,\n",
    "FIELD_MODEL,\n",
    "VALUE\n",
    "FROM {database}.event_fields\n",
    "WHERE (FIELD_MODEL LIKE 'A1%'\n",
    "  OR FIELD_MODEL LIKE 'A7%'\n",
    "  OR FIELD_MODEL IN ('G63_1', 'ORDNOM_5', 'ORDREF_5', 'A80_4', 'A81_5'));\n",
    "\"\"\"\n",
    "pydb.read_sql_query(create_adoptions_disposal_fields)"
   ]
  },
  {
   "cell_type": "code",
   "execution_count": null,
   "metadata": {},
   "outputs": [],
   "source": []
  }
 ],
 "metadata": {
  "kernelspec": {
   "display_name": "venvname",
   "language": "python",
   "name": "venvname"
  },
  "language_info": {
   "codemirror_mode": {
    "name": "ipython",
    "version": 3
   },
   "file_extension": ".py",
   "mimetype": "text/x-python",
   "name": "python",
   "nbconvert_exporter": "python",
   "pygments_lexer": "ipython3",
   "version": "3.7.1"
  }
 },
 "nbformat": 4,
 "nbformat_minor": 4
}
