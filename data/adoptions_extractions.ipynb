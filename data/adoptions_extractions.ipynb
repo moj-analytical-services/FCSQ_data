{
 "cells": [
  {
   "cell_type": "markdown",
   "metadata": {},
   "source": [
    "# Adoption extraction tables"
   ]
  },
  {
   "cell_type": "markdown",
   "metadata": {},
   "source": [
    "# Contents\n",
    "1. [Import packages and options](#import_packages)\n",
    "2. [Define key variables](#define_key_variables)\n",
    "3. [Adoption_parties](#adoption_parties)\n",
    "4. [Adoptions_applications](#adoptions_applications)\n",
    "5. [Adoptions_cases](#adoptions_cases)\n",
    "6. [Adoptions_disposals](#adoptions_disposals)\n",
    "7. [Adoptions_disposal_fields](#adoptions_disposal_fields)"
   ]
  },
  {
   "cell_type": "markdown",
   "metadata": {},
   "source": [
    "## Import packages and set options \n",
    "<a name=\"import_packages\"></a>"
   ]
  },
  {
   "cell_type": "code",
   "execution_count": null,
   "metadata": {},
   "outputs": [],
   "source": [
    "import pandas as pd  # for the data structures to store and manipulate tables\n",
    "import pydbtools as pydb  # see https://github.com/moj-analytical-services/pydbtools\n",
    "import boto3  # for working with AWS\n",
    "\n",
    "# few things for viewing dataframes better\n",
    "pd.set_option(\"display.max_columns\", 100)\n",
    "pd.set_option(\"display.width\", 900)\n",
    "pd.set_option(\"display.max_colwidth\", 200)"
   ]
  },
  {
   "cell_type": "markdown",
   "metadata": {},
   "source": [
    "## Define some variables to be used throughout the notebook \n",
    "<a name=\"define_key_variables\"></a>"
   ]
  },
  {
   "cell_type": "code",
   "execution_count": null,
   "metadata": {},
   "outputs": [],
   "source": [
    "database = \"familyman_dev_v2\"\n",
    "snapshot_date = \"2021-08-19\"\n",
    "database_derived = \"familyman_derived_dev_v1\"\n",
    "\n",
    "fcsq_database = \"fcsq\"\n",
    "\n",
    "s3 = boto3.resource(\"s3\")\n",
    "bucket = s3.Bucket(\"alpha-family-data\")"
   ]
  },
  {
   "cell_type": "markdown",
   "metadata": {},
   "source": [
    "## Adoption_parties table\n",
    "<a name=\"adoption_parties\"></a>"
   ]
  },
  {
   "cell_type": "markdown",
   "metadata": {},
   "source": [
    "### Drop the adoptions_parties table if it already exists and remove its data from the S3 bucket"
   ]
  },
  {
   "cell_type": "code",
   "execution_count": null,
   "metadata": {},
   "outputs": [],
   "source": [
    "drop_adoptions_parties = f\"\"\"\n",
    "DROP TABLE IF EXISTS fcsq.ADOPTIONS_PARTIES;\n",
    "\"\"\"\n",
    "pydb.read_sql_query(drop_adoptions_parties)\n",
    "\n",
    "# clean up previous adoptions_parties files\n",
    "bucket.objects.filter(Prefix=\"fcsq_processing/Adoption/Adoptions_Parties/\").delete()"
   ]
  },
  {
   "cell_type": "markdown",
   "metadata": {},
   "source": [
    "### Create the adoptions_parties table in Athena"
   ]
  },
  {
   "cell_type": "code",
   "execution_count": null,
   "metadata": {},
   "outputs": [],
   "source": [
    "create_adoptions_parties = f\"\"\"\n",
    "CREATE TABLE IF NOT EXISTS fcsq.ADOPTIONS_PARTIES\n",
    "WITH (format = 'PARQUET', external_location = 's3://alpha-family-data/fcsq_processing/Adoption/Adoptions_Parties') AS\n",
    "SELECT R.CASE_NUMBER,\n",
    "  R.ROLE,\n",
    "  R.ROLE_MODEL,\n",
    "  R.REPRESENTATIVE_ROLE AS Representative,\n",
    "  F.FIELD_MODEL,\n",
    "  F.VALUE AS Rel_to_child,\n",
    "  R.PARTY,\n",
    "  P.DOB,\n",
    "  P.GENDER,\n",
    "  P.MOJAP_SNAPSHOT_DATE\n",
    "FROM {database}.parties P\n",
    "INNER JOIN {database}.roles R\n",
    "ON P.PARTY = R.PARTY\n",
    "INNER JOIN {database}.role_fields F\n",
    "ON R.ROLE               = F.ROLE\n",
    "WHERE ((R.ROLE_MODEL     = 'APLZ'\n",
    "AND F.FIELD_MODEL = 'APLZ_RTC')\n",
    "OR (R.ROLE_MODEL        = 'CHLDZ'\n",
    "AND F.FIELD_MODEL = 'CHLDZ_CP'))\n",
    "AND R.mojap_snapshot_date = date '{snapshot_date}'\n",
    "AND F.mojap_snapshot_date = date '{snapshot_date}'\n",
    "AND P.mojap_snapshot_date = date '{snapshot_date}'\n",
    "\"\"\"\n",
    "\n",
    "pydb.read_sql_query(create_adoptions_parties)\n",
    "\n"
   ]
  },
  {
   "cell_type": "markdown",
   "metadata": {},
   "source": [
    "#### Adoption_parties validation"
   ]
  },
  {
   "cell_type": "code",
   "execution_count": null,
   "metadata": {},
   "outputs": [],
   "source": [
    "# Query the table just created. The database to query is called __temp__, this is\n",
    "# an alias for a sandbox database that is created for each user. For more details, see\n",
    "# the pydbtools docs\n",
    "\n",
    "parties_count = pydb.read_sql_query(\"select count(*) as count from fcsq.adoptions_parties\")\n",
    "\n",
    "parties_count"
   ]
  },
  {
   "cell_type": "markdown",
   "metadata": {},
   "source": [
    "## Adoptions_applications table\n",
    "<a name=\"adoptions_applications\"></a>"
   ]
  },
  {
   "cell_type": "markdown",
   "metadata": {},
   "source": [
    "### Drop the adoptions_applications table if it already exists and remove its data from the S3 bucket"
   ]
  },
  {
   "cell_type": "code",
   "execution_count": null,
   "metadata": {
    "jupyter": {
     "outputs_hidden": true
    }
   },
   "outputs": [],
   "source": [
    "drop_adoptions_applications = \"DROP TABLE IF EXISTS fcsq.ADOPTIONS_APPLICATIONS;\"\n",
    "pydb.read_sql_query(drop_adoptions_applications)\n",
    "\n",
    "bucket.objects.filter(\n",
    "    Prefix=\"fcsq_processing/Adoption/Adoptions_applications/\"\n",
    ").delete()"
   ]
  },
  {
   "cell_type": "markdown",
   "metadata": {},
   "source": [
    "### Create the adoptions_applications table in Athena"
   ]
  },
  {
   "cell_type": "code",
   "execution_count": null,
   "metadata": {},
   "outputs": [],
   "source": [
    "create_adoptions_applications_u21 = f\"\"\"\n",
    "SELECT E.CASE_NUMBER,\n",
    "  E.EVENT,\n",
    "  E.RECEIPT_DATE,\n",
    "  E.ENTRY_DATE,\n",
    "  CASE E.RECEIPT_DATE\n",
    "      WHEN NULL THEN E.ENTRY_DATE\n",
    "      ELSE E.RECEIPT_DATE\n",
    "  END AS Receipt_date2,\n",
    "  E.EVENT_MODEL,\n",
    "  F.VALUE  AS App_Type,\n",
    "  date_parse(F1.VALUE, '%Y-%m-%d') AS Date_of_issue,\n",
    "  F2.VALUE AS High_court\n",
    "FROM {database}.events E\n",
    "INNER JOIN {database}.event_fields F2\n",
    "ON E.EVENT = F2.EVENT\n",
    "INNER JOIN {database}.event_fields F1\n",
    "ON E.EVENT = F1.EVENT\n",
    "INNER JOIN {database}.event_fields F\n",
    "ON E.EVENT               = F.EVENT\n",
    "WHERE (E.EVENT_MODEL      = 'U21'\n",
    "AND F.FIELD_MODEL  = 'U21_1'\n",
    "AND F1.FIELD_MODEL = 'U21_2'\n",
    "AND F2.FIELD_MODEL = 'U21_HC')\n",
    "AND E.mojap_snapshot_date = date '{snapshot_date}'\n",
    "AND F.mojap_snapshot_date = date '{snapshot_date}'\n",
    "AND F1.mojap_snapshot_date = date '{snapshot_date}'\n",
    "AND F2.mojap_snapshot_date = date '{snapshot_date}';\n",
    "\"\"\"\n",
    "\n",
    "\n",
    "pydb.create_temp_table(create_adoptions_applications_u21, \"adoptions_applications_u21\")\n",
    "print(\"u21 applications done\")\n",
    "\n",
    "create_adoptions_applications_G50 = f\"\"\"\n",
    "SELECT\n",
    "  E.CASE_NUMBER,\n",
    "  E.EVENT,\n",
    "  E.RECEIPT_DATE,\n",
    "  E.ENTRY_DATE,\n",
    "  CASE E.RECEIPT_DATE\n",
    "      WHEN NULL THEN E.ENTRY_DATE\n",
    "      ELSE E.RECEIPT_DATE\n",
    "  END AS Receipt_date2,\n",
    "  E.EVENT_MODEL,\n",
    "  CASE WHEN F.VALUE like '%RUK%' and F.VALUE like '%CCS%' THEN 'RUK,CCS'\n",
    "       WHEN F.VALUE like '%RUK%' THEN 'RUK'\n",
    "       WHEN F.VALUE like '%CCS%' THEN 'CCS'\n",
    "        END AS App_Type, /*Have done it like this so that we do not include non adoption app types*/\n",
    "  CASE E.RECEIPT_DATE\n",
    "      WHEN NULL THEN E.ENTRY_DATE\n",
    "      ELSE E.RECEIPT_DATE\n",
    "  END AS Date_of_issue,\n",
    "  'N' AS High_court\n",
    "FROM\n",
    "  {database}.events E\n",
    "  INNER JOIN {database}.event_fields F\n",
    "    ON E.EVENT = F.EVENT\n",
    "WHERE\n",
    "  F.FIELD_MODEL = 'G50_AT'\n",
    "  AND (F.VALUE like '%RUK%'\n",
    "   OR F.VALUE like '%CCS%')\n",
    "   AND E.mojap_snapshot_date = date '{snapshot_date}'\n",
    "   AND F.mojap_snapshot_date = date '{snapshot_date}';\n",
    "\"\"\"\n",
    "\n",
    "pydb.create_temp_table(create_adoptions_applications_G50, \"adoptions_applications_G50\")\n",
    "\n",
    "\n",
    "print(\"G50 cases done\")\n",
    "\n",
    "create_adoptions_applications = f\"\"\"\n",
    "CREATE TABLE IF NOT EXISTS fcsq.ADOPTIONS_APPLICATIONS\n",
    "WITH (format = 'PARQUET', external_location = 's3://alpha-family-data/fcsq_processing/Adoption/Adoptions_applications') AS\n",
    "SELECT\n",
    "  *\n",
    "FROM\n",
    "  __temp__.ADOPTIONS_APPLICATIONS_U21\n",
    "WHERE case_number <> 'CV11Z00105'\n",
    "UNION ALL\n",
    "SELECT\n",
    "  *\n",
    "FROM\n",
    "  __temp__.ADOPTIONS_APPLICATIONS_G50\n",
    "WHERE case_number <> 'CV11Z00105';\n",
    "\"\"\"\n",
    "\n",
    "pydb.read_sql_query(create_adoptions_applications)\n",
    "\n",
    "print(\"adoptions_applications table created\")\n"
   ]
  },
  {
   "cell_type": "markdown",
   "metadata": {},
   "source": [
    "#### Adoptions_applications validation"
   ]
  },
  {
   "cell_type": "code",
   "execution_count": null,
   "metadata": {},
   "outputs": [],
   "source": [
    "applications_count = pydb.read_sql_query(\"select count(*) as count from fcsq.adoptions_applications\")\n",
    "applications_count"
   ]
  },
  {
   "cell_type": "markdown",
   "metadata": {},
   "source": [
    "## Adoptions_cases table\n",
    "<a name=\"adoptions_cases\"></a>"
   ]
  },
  {
   "cell_type": "markdown",
   "metadata": {},
   "source": [
    "### Drop the adoptions_cases table if it already exists and remove its data from the S3 bucket"
   ]
  },
  {
   "cell_type": "code",
   "execution_count": null,
   "metadata": {},
   "outputs": [],
   "source": [
    "drop_adoptions_cases = \"DROP TABLE IF EXISTS fcsq.ADOPTIONS_CASES;\"\n",
    "pydb.read_sql_query(drop_adoptions_cases)\n",
    "\n",
    "bucket.objects.filter(Prefix=\"fcsq_processing/Adoption/Adoptions_cases/\").delete()"
   ]
  },
  {
   "cell_type": "markdown",
   "metadata": {},
   "source": [
    "### Create the adoptions_cases table in Athena"
   ]
  },
  {
   "cell_type": "code",
   "execution_count": null,
   "metadata": {},
   "outputs": [],
   "source": [
    "create_adoptions_cases = f\"\"\"\n",
    "CREATE TABLE IF NOT EXISTS fcsq.ADOPTIONS_CASES\n",
    "WITH (format = 'PARQUET', external_location = 's3://alpha-family-data/fcsq_processing/Adoption/Adoptions_cases') AS\n",
    "SELECT F.CASE_NUMBER,\n",
    "  F.VALUE AS Contested,\n",
    "  F1.VALUE AS Case_issue_date,\n",
    "  F2.VALUE AS Case_app_type,\n",
    "  CASE F.CASE_NUMBER\n",
    "      WHEN 'BM08Z09028' THEN '2008-09-19'\n",
    "      ELSE F1.VALUE\n",
    "  END AS Case_issue_date2\n",
    "FROM {database}.case_fields F\n",
    "INNER JOIN {database}.case_fields F2\n",
    "ON F.CASE_NUMBER = F2.CASE_NUMBER\n",
    "INNER JOIN {database}.case_fields F1\n",
    "ON F.CASE_NUMBER    = F1.CASE_NUMBER\n",
    "WHERE F.FIELD_MODEL = 'FM3A_AC'\n",
    "AND F1.FIELD_MODEL  = 'FM3A_DOI'\n",
    "AND F2.FIELD_MODEL  = 'FM3A_AT'\n",
    "AND F.case_number <> 'CV11Z00105'\n",
    "AND F.mojap_snapshot_date = date '{snapshot_date}'\n",
    "AND F1.mojap_snapshot_date = date '{snapshot_date}'\n",
    "AND F2.mojap_snapshot_date = date '{snapshot_date}';\n",
    "\n",
    "\"\"\"\n",
    "pydb.read_sql_query(create_adoptions_cases)"
   ]
  },
  {
   "cell_type": "markdown",
   "metadata": {},
   "source": [
    "#### Adoptions_cases validation"
   ]
  },
  {
   "cell_type": "code",
   "execution_count": null,
   "metadata": {},
   "outputs": [],
   "source": [
    "cases_count = pydb.read_sql_query(\"select count(*) as count from fcsq.adoptions_cases\")\n",
    "cases_count"
   ]
  },
  {
   "cell_type": "markdown",
   "metadata": {},
   "source": [
    "## Adoptions_disposals table\n",
    "<a name=\"adoptions_disposals\"></a>"
   ]
  },
  {
   "cell_type": "markdown",
   "metadata": {},
   "source": [
    "### Drop the adoptions_disposals table if it already exists and remove its data from the S3 bucket"
   ]
  },
  {
   "cell_type": "code",
   "execution_count": null,
   "metadata": {},
   "outputs": [],
   "source": [
    "drop_adoptions_disposals = \"DROP TABLE IF EXISTS fcsq.ADOPTIONS_DISPOSALS;\"\n",
    "pydb.read_sql_query(drop_adoptions_disposals)\n",
    "\n",
    "bucket.objects.filter(Prefix=\"fcsq_processing/Adoption/Adoptions_disposals/\").delete()"
   ]
  },
  {
   "cell_type": "markdown",
   "metadata": {},
   "source": [
    "### Create the adoptions_disposals table in Athena"
   ]
  },
  {
   "cell_type": "code",
   "execution_count": null,
   "metadata": {},
   "outputs": [],
   "source": [
    "create_adoptions_disposals = f\"\"\"\n",
    "CREATE TABLE IF NOT EXISTS fcsq.ADOPTIONS_DISPOSALS\n",
    "WITH (format = 'PARQUET', external_location = 's3://alpha-family-data/fcsq_processing/Adoption/Adoptions_disposals') AS\n",
    "SELECT E.CASE_NUMBER,\n",
    "  E.EVENT,\n",
    "  E.RECEIPT_DATE,\n",
    "  E.ENTRY_DATE,\n",
    "  CASE E.RECEIPT_DATE\n",
    "      WHEN NULL THEN E.ENTRY_DATE\n",
    "      ELSE E.RECEIPT_DATE  \n",
    "  END AS Receipt_date2,\n",
    "  E.EVENT_MODEL\n",
    "FROM {database}.events E\n",
    "WHERE ((E.EVENT_MODEL IN ('A70', 'A71', 'A72', 'A73', 'A74', 'A75', 'A76', 'A77', 'A78', 'A79', 'A80', 'A81', 'A12', 'A13', 'A15')\n",
    "AND E.ERROR          = 'N')\n",
    "OR (E.EVENT_MODEL    IN ('G63', 'ORDREF', 'ORDNOM')\n",
    "AND E.ERROR          = 'N')\n",
    "OR (E.EVENT_MODEL    IN ('A12', 'A13', 'A15')\n",
    "AND E.ERROR          = 'N'))\n",
    "AND E.case_number <> 'CV11Z00105'\n",
    "AND E.mojap_snapshot_date = date '{snapshot_date}'; \n",
    "\"\"\"\n",
    "pydb.read_sql_query(create_adoptions_disposals)"
   ]
  },
  {
   "cell_type": "markdown",
   "metadata": {},
   "source": [
    "#### Adoptions_disposals validation"
   ]
  },
  {
   "cell_type": "code",
   "execution_count": null,
   "metadata": {},
   "outputs": [],
   "source": [
    "disposals_count = pydb.read_sql_query(\"select count(*) as count from fcsq.adoptions_disposals\")\n",
    "disposals_count"
   ]
  },
  {
   "cell_type": "markdown",
   "metadata": {},
   "source": [
    "## Adoptions_disposal_fields table\n",
    "<a name=\"adoptions_disposal_fields\"></a>"
   ]
  },
  {
   "cell_type": "markdown",
   "metadata": {},
   "source": [
    "### Drop the adoptions_disposal_fields table if it already exists and remove its data from the S3 bucket"
   ]
  },
  {
   "cell_type": "code",
   "execution_count": null,
   "metadata": {},
   "outputs": [],
   "source": [
    "drop_adoptions_disposal_fields = \"DROP TABLE IF EXISTS fcsq.ADOPTIONS_DISPOSAL_FIELDS;\"\n",
    "pydb.read_sql_query(drop_adoptions_disposal_fields)\n",
    "\n",
    "bucket.objects.filter(\n",
    "    Prefix=\"fcsq_processing/Adoption/Adoptions_disposal_fields/\"\n",
    ").delete()"
   ]
  },
  {
   "cell_type": "markdown",
   "metadata": {},
   "source": [
    "### Create the adoptions_disposal_fields table in Athena"
   ]
  },
  {
   "cell_type": "code",
   "execution_count": null,
   "metadata": {},
   "outputs": [],
   "source": [
    "create_adoptions_disposal_fields = f\"\"\"\n",
    "CREATE TABLE IF NOT EXISTS fcsq.ADOPTIONS_DISPOSAL_FIELDS\n",
    "WITH (format = 'PARQUET', external_location = 's3://alpha-family-data/fcsq_processing/Adoption/Adoptions_disposal_fields') AS\n",
    "SELECT EVENT,\n",
    "FIELD_MODEL,\n",
    "VALUE\n",
    "FROM {database}.event_fields E\n",
    "WHERE (FIELD_MODEL LIKE 'A1%'\n",
    "  OR FIELD_MODEL LIKE 'A7%'\n",
    "  OR FIELD_MODEL IN ('G63_1', 'ORDNOM_5', 'ORDREF_5', 'A80_4', 'A81_5'))\n",
    "  AND E.mojap_snapshot_date = date '{snapshot_date}';\n",
    "\"\"\"\n",
    "pydb.read_sql_query(create_adoptions_disposal_fields)"
   ]
  },
  {
   "cell_type": "markdown",
   "metadata": {},
   "source": [
    "#### Adoptions_disposal_fields validation"
   ]
  },
  {
   "cell_type": "code",
   "execution_count": null,
   "metadata": {},
   "outputs": [],
   "source": [
    "disposal_fields_count = pydb.read_sql_query(\"select count(*) as count from fcsq.adoptions_disposal_fields\")\n",
    "disposal_fields_count"
   ]
  },
  {
   "cell_type": "markdown",
   "metadata": {},
   "source": [
    "# Stage 1 - Create The Main Parties Data"
   ]
  },
  {
   "cell_type": "markdown",
   "metadata": {},
   "source": [
    "## Adopt_app_count table"
   ]
  },
  {
   "cell_type": "markdown",
   "metadata": {},
   "source": [
    "### Drop the adopt_app_count table if it already exists and remove its data from the S3 bucket"
   ]
  },
  {
   "cell_type": "code",
   "execution_count": null,
   "metadata": {
    "jupyter": {
     "outputs_hidden": true
    }
   },
   "outputs": [],
   "source": [
    "drop_adopt_app_count = f\"\"\"\n",
    "DROP TABLE IF EXISTS fcsq.ADOPT_APP_COUNT;\n",
    "\"\"\"\n",
    "pydb.read_sql_query(drop_adopt_app_count)\n",
    "\n",
    "# clean up previous adopt_app_count files\n",
    "bucket.objects.filter(Prefix=\"fcsq_processing/Adoption/adopt_app_count/\").delete()"
   ]
  },
  {
   "cell_type": "markdown",
   "metadata": {},
   "source": [
    "### Create the adopt_app_count table in Athena"
   ]
  },
  {
   "cell_type": "code",
   "execution_count": null,
   "metadata": {},
   "outputs": [],
   "source": [
    "create_adopt_app_count = f\"\"\"\n",
    "CREATE TABLE IF NOT EXISTS fcsq.ADOPT_APP_COUNT\n",
    "WITH (format = 'PARQUET', external_location = 's3://alpha-family-data/fcsq_processing/Adoption/adopt_app_count') AS\n",
    "SELECT case_number, role_model, COUNT(role) AS countofrole\n",
    "FROM fcsq.adoptions_parties\n",
    "GROUP BY case_number, role_model\n",
    "HAVING role_model = 'APLZ';\n",
    "\"\"\"\n",
    "\n",
    "pydb.read_sql_query(create_adopt_app_count)\n",
    "\n"
   ]
  },
  {
   "cell_type": "markdown",
   "metadata": {},
   "source": [
    "#### adopt_app_count validation"
   ]
  },
  {
   "cell_type": "code",
   "execution_count": null,
   "metadata": {},
   "outputs": [],
   "source": [
    "create_adopt_app_count_count = pydb.read_sql_query(\"select count(*) as count from fcsq.adopt_app_count\")\n",
    "create_adopt_app_count_count"
   ]
  },
  {
   "cell_type": "markdown",
   "metadata": {},
   "source": [
    "## Adopt_appl_sex table"
   ]
  },
  {
   "cell_type": "markdown",
   "metadata": {},
   "source": [
    "### Drop the adopt_appl_sex table if it already exists and remove its data from the S3 bucket"
   ]
  },
  {
   "cell_type": "code",
   "execution_count": null,
   "metadata": {},
   "outputs": [],
   "source": [
    "drop_adopt_appl_sex = f\"\"\"\n",
    "DROP TABLE IF EXISTS fcsq.ADOPT_APPL_SEX;\n",
    "\"\"\"\n",
    "pydb.read_sql_query(drop_adopt_appl_sex)\n",
    "\n",
    "# clean up previous adopt_appl_sex files\n",
    "bucket.objects.filter(Prefix=\"fcsq_processing/Adoption/adopt_appl_sex/\").delete()"
   ]
  },
  {
   "cell_type": "markdown",
   "metadata": {},
   "source": [
    "### Create the adopt_appl_sex table in Athena"
   ]
  },
  {
   "cell_type": "code",
   "execution_count": null,
   "metadata": {},
   "outputs": [],
   "source": [
    "create_adopt_appl_sex = f\"\"\"\n",
    "CREATE TABLE IF NOT EXISTS fcsq.ADOPT_APPL_SEX\n",
    "WITH (format = 'PARQUET', external_location = 's3://alpha-family-data/fcsq_processing/Adoption/adopt_appl_sex') AS\n",
    "SELECT app_count.case_number, app_count.role_model, \n",
    "app_count.countofrole, \n",
    "MIN(parties.gender) min_sex,\n",
    "MAX(parties_1.gender) max_sex\n",
    "FROM fcsq.adopt_app_count app_count INNER JOIN fcsq.adoptions_parties parties ON app_count.case_number = parties.case_number\n",
    "INNER JOIN fcsq.adoptions_parties parties_1 ON app_count.case_number = parties_1.case_number\n",
    "GROUP BY app_count.case_number, app_count.role_model, app_count.countofrole, parties.role_model, parties_1.role_model\n",
    "HAVING parties.role_model='APLZ' AND parties_1.role_model='APLZ';\n",
    "\"\"\"\n",
    "\n",
    "pydb.read_sql_query(create_adopt_appl_sex)\n",
    "\n"
   ]
  },
  {
   "cell_type": "markdown",
   "metadata": {},
   "source": [
    "#### adopt_appl_sex validation"
   ]
  },
  {
   "cell_type": "code",
   "execution_count": null,
   "metadata": {},
   "outputs": [],
   "source": [
    "adopt_appl_sex_count = pydb.read_sql_query(\"select count(*) as count from fcsq.adopt_appl_sex\")\n",
    "adopt_appl_sex_count"
   ]
  },
  {
   "cell_type": "markdown",
   "metadata": {},
   "source": [
    "## adopt_appl_rtc table"
   ]
  },
  {
   "cell_type": "markdown",
   "metadata": {},
   "source": [
    "### Drop the adopt_appl_rtc table if it already exists and remove its data from the S3 bucket"
   ]
  },
  {
   "cell_type": "code",
   "execution_count": null,
   "metadata": {},
   "outputs": [],
   "source": [
    "drop_adopt_appl_rtc = f\"\"\"\n",
    "DROP TABLE IF EXISTS fcsq.adopt_appl_rtc;\n",
    "\"\"\"\n",
    "pydb.read_sql_query(drop_adopt_appl_rtc)\n",
    "\n",
    "# clean up previous adopt_appl_rtc files\n",
    "bucket.objects.filter(Prefix=\"fcsq_processing/Adoption/adopt_appl_rtc/\").delete()"
   ]
  },
  {
   "cell_type": "markdown",
   "metadata": {},
   "source": [
    "### Create the adopt_appl_rtc table in Athena"
   ]
  },
  {
   "cell_type": "code",
   "execution_count": null,
   "metadata": {},
   "outputs": [],
   "source": [
    "create_adopt_appl_rtc = f\"\"\"\n",
    "CREATE TABLE IF NOT EXISTS fcsq.ADOPT_APPL_RTC\n",
    "WITH (format = 'PARQUET', external_location = 's3://alpha-family-data/fcsq_processing/Adoption/adopt_appl_rtc') AS\n",
    "SELECT appl_sex.case_number, \n",
    "        appl_sex.role_model, \n",
    "        appl_sex.countofrole, \n",
    "        appl_sex.min_sex, \n",
    "        appl_sex.max_sex, \n",
    "        MIN(parties.rel_to_child) min_rtc, \n",
    "        MAX(parties_1.rel_to_child) max_rtc\n",
    "FROM fcsq.adopt_appl_sex appl_sex\n",
    "INNER JOIN fcsq.adoptions_parties parties \n",
    "        ON appl_sex.case_number = parties.case_number \n",
    "INNER JOIN fcsq.adoptions_parties parties_1 \n",
    "        ON appl_sex.case_number = parties_1.case_number\n",
    "GROUP BY appl_sex.case_number, \n",
    "          appl_sex.role_model, \n",
    "          appl_sex.countofrole, \n",
    "          appl_sex.min_sex, \n",
    "          appl_sex.max_sex, \n",
    "          parties.role_model, \n",
    "          parties_1.role_model\n",
    "HAVING parties.role_model='APLZ' AND parties_1.role_model='APLZ';\n",
    "\"\"\"\n",
    "\n",
    "pydb.read_sql_query(create_adopt_appl_rtc)\n",
    "\n"
   ]
  },
  {
   "cell_type": "markdown",
   "metadata": {},
   "source": [
    "#### adopt_appl_rtc validation"
   ]
  },
  {
   "cell_type": "code",
   "execution_count": null,
   "metadata": {},
   "outputs": [],
   "source": [
    "adopt_appl_rtc_count = pydb.read_sql_query(\"select count(*) as count from fcsq.adopt_appl_rtc\")\n",
    "adopt_appl_rtc_count"
   ]
  },
  {
   "cell_type": "markdown",
   "metadata": {},
   "source": [
    "## adopt_applicant_type table"
   ]
  },
  {
   "cell_type": "markdown",
   "metadata": {},
   "source": [
    "### Drop the adopt_applicant_type table if it already exists and remove its data from the S3 bucket"
   ]
  },
  {
   "cell_type": "code",
   "execution_count": null,
   "metadata": {},
   "outputs": [],
   "source": [
    "drop_adopt_applicant_type = f\"\"\"\n",
    "DROP TABLE IF EXISTS fcsq.adopt_applicant_type;\n",
    "\"\"\"\n",
    "pydb.read_sql_query(drop_adopt_applicant_type)\n",
    "\n",
    "# clean up previous adopt_applicant_type files\n",
    "bucket.objects.filter(Prefix=\"fcsq_processing/Adoption/adopt_applicant_type/\").delete()"
   ]
  },
  {
   "cell_type": "markdown",
   "metadata": {},
   "source": [
    "### Create the adopt_applicant_type table in Athena"
   ]
  },
  {
   "cell_type": "code",
   "execution_count": null,
   "metadata": {},
   "outputs": [],
   "source": [
    "create_adopt_applicant_type_a = f\"\"\"\n",
    "SELECT case_number, \n",
    "        role_model, \n",
    "        countofrole number_applicants, \n",
    "        min_sex, \n",
    "        max_sex, \n",
    "        min_rtc, \n",
    "        max_rtc,\n",
    "CASE  WHEN countofrole=1 THEN 'single' \n",
    "      WHEN min_sex=1 AND max_sex =1 THEN 'same-sex couple' \n",
    "      WHEN min_sex=2 AND max_sex=2  THEN 'same-sex couple' \n",
    "      WHEN min_sex=1 AND max_sex =2 THEN 'mixed-sex couple'\n",
    "                ELSE 'Other or not stated'       \n",
    "END adopter_type\n",
    "FROM fcsq.adopt_appl_rtc;\n",
    "\"\"\"\n",
    "pydb.create_temp_table(create_adopt_applicant_type_a, \"adopt_applicant_type_a\")\n",
    "\n",
    "create_adopt_applicant_type_b = f\"\"\"\n",
    "SELECT case_number, \n",
    "        role_model, \n",
    "        number_applicants, \n",
    "        min_sex, \n",
    "        max_sex, \n",
    "        min_rtc,\n",
    "        max_rtc,\n",
    "        adopter_type,\n",
    "CASE WHEN (min_rtc Like 'Step%' OR max_rtc Like 'Step%') THEN 'Step parent'\n",
    "      WHEN (min_rtc Like 'Natural%' OR max_rtc like 'Natural%') THEN 'Other or not stated'  \n",
    "      WHEN number_applicants > 2 THEN 'Other or not stated'\n",
    "      WHEN (min_rtc = 'Other' OR max_rtc = 'Other') THEN 'Other or not stated'\n",
    "      WHEN (min_rtc IN ('Child','Adoption Agency','Central Authority','Home Office','Local Authority','Voluntary Organisation') AND max_rtc IN ('Child','Adoption Agency','Central Authority','Home Office','Local Authority','Voluntary Organisation')) THEN 'Other or not stated'\n",
    "      WHEN (min_rtc IN ('Child','Adoption Agency','Central Authority','Home Office','Local Authority','Voluntary Organisation') OR max_rtc IN ('Child','Adoption Agency','Central Authority','Home Office','Local Authority','Voluntary Organisation')) THEN 'Sole applicant'\n",
    "      WHEN number_applicants >1 THEN adopter_type \n",
    "      ELSE 'Sole applicant' \n",
    "      END adopter \n",
    "FROM __temp__.adopt_applicant_type_a;\n",
    "\"\"\"\n",
    "\n",
    "pydb.create_temp_table(create_adopt_applicant_type_b, \"adopt_applicant_type_b\")\n",
    "\n",
    "create_adopt_applicant_type = f\"\"\"\n",
    "CREATE TABLE IF NOT EXISTS fcsq.adopt_applicant_type\n",
    "WITH (format = 'PARQUET', external_location = 's3://alpha-family-data/fcsq_processing/Adoption/adopt_applicant_type') AS\n",
    "SELECT\n",
    "case_number, \n",
    "  role_model, \n",
    "  number_applicants, \n",
    "  min_sex, \n",
    "  max_sex, \n",
    "  min_rtc, \n",
    "  max_rtc, \n",
    "  adopter_type,\n",
    "CASE WHEN (min_rtc = 'Foster Carer' AND max_rtc = 'Sibling') THEN 'Other or not stated'\n",
    "        WHEN (adopter_type = 'mixed-sex couple' AND min_rtc = 'Uncle' AND max_rtc = 'Uncle') THEN 'Other or not stated'\n",
    "        ELSE adopter\n",
    "        END adopter\n",
    "FROM __temp__.adopt_applicant_type_b;\n",
    "\"\"\"\n",
    "\n",
    "pydb.read_sql_query(create_adopt_applicant_type)\n",
    "\n"
   ]
  },
  {
   "cell_type": "markdown",
   "metadata": {},
   "source": [
    "#### adopt_applicant_type validation"
   ]
  },
  {
   "cell_type": "code",
   "execution_count": null,
   "metadata": {},
   "outputs": [],
   "source": [
    "adopt_applicant_type_count = pydb.read_sql_query(\"select count(*) as count from fcsq.adopt_applicant_type\")\n",
    "adopt_applicant_type_count"
   ]
  },
  {
   "cell_type": "markdown",
   "metadata": {},
   "source": [
    "## adopt_child_parties table"
   ]
  },
  {
   "cell_type": "markdown",
   "metadata": {},
   "source": [
    "### Drop the adopt_child_parties table if it already exists and remove its data from the S3 bucket"
   ]
  },
  {
   "cell_type": "code",
   "execution_count": null,
   "metadata": {},
   "outputs": [],
   "source": [
    "drop_adopt_child_parties = f\"\"\"\n",
    "DROP TABLE IF EXISTS fcsq.adopt_child_parties;\n",
    "\"\"\"\n",
    "pydb.read_sql_query(drop_adopt_child_parties)\n",
    "\n",
    "# clean up previous adopt_child_parties files\n",
    "bucket.objects.filter(Prefix=\"fcsq_processing/Adoption/adopt_child_parties/\").delete()"
   ]
  },
  {
   "cell_type": "markdown",
   "metadata": {},
   "source": [
    "### Create the adopt_child_parties table in Athena"
   ]
  },
  {
   "cell_type": "code",
   "execution_count": null,
   "metadata": {},
   "outputs": [],
   "source": [
    "create_adopt_child_parties = f\"\"\"\n",
    "CREATE TABLE IF NOT EXISTS fcsq.adopt_child_parties\n",
    "WITH (format = 'PARQUET', external_location = 's3://alpha-family-data/fcsq_processing/Adoption/adopt_child_parties') AS\n",
    "SELECT case_number, \n",
    "        role child_role, \n",
    "        party child_party, \n",
    "        dob, \n",
    "        gender child_sex\n",
    "FROM fcsq.adoptions_parties\n",
    "WHERE role_model='CHLDZ';\n",
    "\"\"\"\n",
    "\n",
    "\n",
    "\"\"\"\n",
    "Note:\n",
    "Removed dob TO_DATE as not supported and left dob as original timestamp\n",
    "\n",
    "\"\"\"\n",
    "pydb.read_sql_query(create_adopt_child_parties)\n",
    "\n"
   ]
  },
  {
   "cell_type": "markdown",
   "metadata": {},
   "source": [
    "#### adopt_child_parties validation"
   ]
  },
  {
   "cell_type": "code",
   "execution_count": null,
   "metadata": {},
   "outputs": [],
   "source": [
    "adopt_child_parties_count = pydb.read_sql_query(\"select count(*) as count from fcsq.adopt_child_parties\")\n",
    "adopt_child_parties_count"
   ]
  },
  {
   "cell_type": "markdown",
   "metadata": {},
   "source": [
    "# Stage 2 - Applications"
   ]
  },
  {
   "cell_type": "markdown",
   "metadata": {},
   "source": [
    "## adopt_application_4 table"
   ]
  },
  {
   "cell_type": "markdown",
   "metadata": {},
   "source": [
    "### Drop the adopt_application_4 table if it already exists and remove its data from the S3 bucket"
   ]
  },
  {
   "cell_type": "code",
   "execution_count": null,
   "metadata": {},
   "outputs": [],
   "source": [
    "drop_adopt_application_4 = f\"\"\"\n",
    "DROP TABLE IF EXISTS fcsq.adopt_application_4;\n",
    "\"\"\"\n",
    "pydb.read_sql_query(drop_adopt_application_4)\n",
    "\n",
    "# clean up previous adopt_application_4 files\n",
    "bucket.objects.filter(Prefix=\"fcsq_processing/Adoption/adopt_application_4/\").delete()"
   ]
  },
  {
   "cell_type": "markdown",
   "metadata": {},
   "source": [
    "### Create the adopt_application_4 table in Athena"
   ]
  },
  {
   "cell_type": "markdown",
   "metadata": {},
   "source": [
    "#### adopt_application_4 validation"
   ]
  },
  {
   "cell_type": "code",
   "execution_count": null,
   "metadata": {},
   "outputs": [],
   "source": [
    "adopt_application_4_count = pydb.read_sql_query(\"select count(*) as count from fcsq.adopt_application_4\")\n",
    "adopt_application_4_count"
   ]
  },
  {
   "cell_type": "code",
   "execution_count": null,
   "metadata": {},
   "outputs": [],
   "source": [
    "create_adopt_application1 = f\"\"\"\n",
    "SELECT \ta1.case_number, \n",
    "        a1.event, \n",
    "        a1.receipt_date2, \n",
    "        a1.app_type, \n",
    "        c1.case_app_type, \n",
    "        a1.date_of_issue, \n",
    "        date_parse(c1.case_issue_date2, '%Y-%m-%d') AS case_issue_date2,\n",
    "        a1.high_court, \n",
    "        c1.contested, \n",
    "        b1.number_applicants, \n",
    "        b1.min_sex, \n",
    "        b1.max_sex, \n",
    "        b1.adopter_type, \n",
    "        b1.min_rtc,\n",
    "        b1.max_rtc, \n",
    "        b1.adopter, \n",
    "        SUBSTR(cast(event as varchar(50)), 1,3) court, \n",
    "        ', '||  app_type ||  ',' app_type2,\n",
    "\t\n",
    "        CASE WHEN a1.date_of_issue <= a1.receipt_date2 \n",
    "                THEN a1.date_of_issue\n",
    "              ELSE a1.receipt_date2\n",
    "              END min_date,\n",
    "\n",
    "        CASE WHEN a1.app_type='AO' OR a1.app_type='CA' OR a1.app_type='PFO' OR a1.app_type='AD' OR a1.app_type='PF' OR a1.app_type='SP' THEN 'Adoption'\n",
    "              WHEN a1.app_type LIKE '%AO%' OR a1.app_type LIKE  '%CA%' OR a1.app_type LIKE '%PF%' OR a1.app_type LIKE '%AD%' OR a1.app_type LIKE '%SP%' THEN 'Adoption+other'\n",
    "              ELSE 'Non-adoption'\n",
    "              END adoption\n",
    "\n",
    "FROM (fcsq.adoptions_applications a1 \n",
    "LEFT JOIN fcsq.adopt_applicant_type b1 ON a1.case_number = b1.case_number) \n",
    "LEFT JOIN fcsq.adoptions_cases c1 ON a1.case_number = c1.case_number;\n",
    "\"\"\"\n",
    "\n",
    "pydb.create_temp_table(create_adopt_application1,\"adopt_application1\")\n",
    "\n",
    "create_adopt_application2 = f\"\"\"\n",
    "SELECT case_number, \n",
    "        event, \n",
    "        min_date, \n",
    "        EXTRACT(YEAR FROM min_date) year,\n",
    "\n",
    "        CASE WHEN  min_date IS NULL THEN NULL\n",
    "              WHEN EXTRACT(MONTH FROM min_date) between 1 and 3 THEN 1\n",
    "              WHEN EXTRACT(MONTH from min_date) between 4 and 6 THEN 2\n",
    "              WHEN EXTRACT(month from min_date) between 7 and 9 THEN 3\n",
    "              WHEN EXTRACT(month from min_date) between 10 and 12 THEN 4\n",
    "              END quarter,\n",
    "\n",
    "        court, \n",
    "        app_type, \n",
    "        app_type2, \n",
    "        adoption, \n",
    "        case_app_type, \n",
    "        high_court, \n",
    "        contested, \n",
    "        number_applicants, \n",
    "        min_sex, \n",
    "        max_sex, \n",
    "        adopter_type, \n",
    "        min_rtc, \n",
    "        max_rtc, \n",
    "        adopter, \n",
    "        receipt_date2, \n",
    "        date_of_issue, \n",
    "        case_issue_date2,\n",
    "\n",
    "        CASE WHEN app_type2 LIKE ', AO%' OR app_type2 LIKE ', AD%' OR app_type2 LIKE ', CA%' OR app_type2 LIKE ', PFO%' OR app_type2 LIKE ', PF%' THEN 'Adoption' \n",
    "              ELSE 'N'\n",
    "              END adoption1 ,\n",
    "\n",
    "        CASE WHEN app_type2 LIKE ', AO%' OR app_type2 LIKE ', AD%' OR app_type2 LIKE ', SP%' THEN 1\n",
    "              ELSE 0\n",
    "              END standard ,\n",
    "\n",
    "        CASE WHEN app_type2 LIKE '%, CA%' OR app_type2 LIKE '%, CA%'\n",
    "              THEN 1 \n",
    "              ELSE 0\n",
    "              END convention , \n",
    "\n",
    "        CASE WHEN app_type2 LIKE '%, PF%'\n",
    "              THEN 1\n",
    "                ELSE 0\n",
    "                END foreign , \n",
    "\n",
    "        CASE WHEN app_type2 LIKE '%, PLA%' OR app_type2 LIKE ', FO%'\n",
    "              THEN 1\n",
    "              ELSE 0\n",
    "              END placement , \n",
    "\n",
    "        CASE WHEN app_type2 LIKE '%, RPLA%'\n",
    "              THEN 1\n",
    "              ELSE 0\n",
    "              END placement_revoke  , \n",
    "\n",
    "\n",
    "        CASE WHEN app_type2 LIKE '%, VPLA%'\n",
    "              THEN 1\n",
    "              ELSE 0\n",
    "              END  placement_vary , \n",
    "\n",
    "        CASE WHEN app_type2 LIKE '%, CNO%'\n",
    "              THEN 1\n",
    "              ELSE 0\n",
    "              END contact_s26 , \n",
    "\n",
    "        CASE WHEN app_type2 LIKE '%, RCNO%'\n",
    "              THEN 1\n",
    "              ELSE 0\n",
    "              END contact_s26_revoke, \n",
    "\n",
    "        CASE WHEN app_type2 LIKE '%, VCNO%'\n",
    "              THEN 1\n",
    "              ELSE 0\n",
    "              END contact_s26_vary , \n",
    "\n",
    "        CASE WHEN app_type2 LIKE '%, CCS%' \n",
    "              THEN 1\n",
    "              ELSE 0\n",
    "              END change_surname , \n",
    "\n",
    "        CASE WHEN app_type2 LIKE '%, RUK%'\n",
    "              THEN 1\n",
    "              ELSE 0\n",
    "              END  remove_child_from_uk, \n",
    "\n",
    "        CASE WHEN app_type2 LIKE '%, OR%'\n",
    "              THEN 1\n",
    "              ELSE 0\n",
    "              END other_recovery,\n",
    "\n",
    "        CASE WHEN app_type2 LIKE '%, PT10%'\n",
    "              THEN 1\n",
    "              ELSE 0\n",
    "              END other_part_10, \n",
    "\n",
    "        CASE WHEN app_type2 LIKE '%, PT9%'\n",
    "              THEN 1\n",
    "              ELSE 0\n",
    "              END other_part_9, \n",
    "\n",
    "        CASE WHEN app_type2 LIKE '%, S84%'\n",
    "              THEN 1\n",
    "              ELSE 0\n",
    "              END other_s84_order, \n",
    "\n",
    "        CASE WHEN app_type2 LIKE '%, S88%'\n",
    "              THEN 1\n",
    "              ELSE 0\n",
    "              END other_s88_direction , \n",
    "\n",
    "        CASE WHEN app_type2 LIKE '%, S89%'\n",
    "              THEN 1\n",
    "              ELSE 0\n",
    "              END other_s89_order \n",
    "\n",
    "FROM __temp__.adopt_application1;\n",
    "\"\"\"\n",
    "\n",
    "pydb.create_temp_table(create_adopt_application2,\"adopt_application2\")\n",
    "\n",
    "create_adopt_application3 = f\"\"\"\n",
    "SELECT application2.case_number, \n",
    "        MIN(application2.min_date) app_date, \n",
    "        application2.year, \n",
    "        application2.quarter, \n",
    "        application2.court, \n",
    "        application2.app_type, \n",
    "        application2.app_type2, \n",
    "        application2.case_app_type, \n",
    "        application2.adoption, \n",
    "        application2.high_court, \n",
    "        application2.contested, \n",
    "        application2.number_applicants, \n",
    "        application2.min_sex, \n",
    "        application2.max_sex, \n",
    "        application2.adopter_type, \n",
    "        application2.min_rtc, \n",
    "        application2.max_rtc, \n",
    "        application2.adopter\n",
    "FROM __temp__.adopt_application2 application2\n",
    "GROUP BY application2.case_number, \n",
    "          application2.year, \n",
    "          application2.quarter, \n",
    "          application2.court, \n",
    "          application2.app_type, \n",
    "          application2.app_type2, \n",
    "          application2.case_app_type, \n",
    "          application2.adoption, \n",
    "          application2.high_court, \n",
    "          application2.contested, \n",
    "          application2.number_applicants, \n",
    "          application2.min_sex, \n",
    "          application2.max_sex, \n",
    "          application2.adopter_type, \n",
    "          application2.min_rtc, \n",
    "          application2.max_rtc, \n",
    "          application2.adopter\n",
    "HAVING (application2.case_number)<>'CV11Z00105';\n",
    "\"\"\"\n",
    "\n",
    "pydb.create_temp_table(create_adopt_application3,\"adopt_application3\")\n",
    "\n",
    "create_adopt_application4 = f\"\"\"\n",
    "CREATE TABLE IF NOT EXISTS fcsq.adopt_application_4\n",
    "WITH (format = 'PARQUET', external_location = 's3://alpha-family-data/fcsq_processing/Adoption/adopt_application_4') AS\n",
    "SELECT application2.case_number, \n",
    "        application2.min_date app_date, \n",
    "        application2.year, \n",
    "        application2.quarter, \n",
    "        application2.court, \n",
    "        application2.app_type, \n",
    "        application2.case_app_type, \n",
    "        application2.adoption, \n",
    "        application2.high_court, \n",
    "        application2.contested, \n",
    "        application2.number_applicants, \n",
    "        application2.min_sex, \n",
    "        application2.max_sex, \n",
    "        application2.adopter_type, \n",
    "        application2.min_rtc, \n",
    "        application2.max_rtc, \n",
    "        application2.adopter, \n",
    "        application2.standard, \n",
    "        application2.convention, \n",
    "        application2.foreign, \n",
    "        application2.placement, \n",
    "\n",
    "        application2.placement_revoke + application2.placement_vary  placement_revoke_or_vary, \n",
    "\n",
    "        application2.contact_s26, \n",
    "\n",
    "        application2.contact_s26_revoke + application2.contact_s26_vary contact_s26_revoke_or_vary, \n",
    "        \n",
    "        application2.change_surname, \n",
    "        application2.remove_child_from_uk, \n",
    "\n",
    "        application2.other_recovery+application2.other_part_10+application2.other_part_9+application2.other_s84_order+application2.other_s88_direction+application2.other_s89_order other_order_type\n",
    "\n",
    "\n",
    "FROM __temp__.adopt_application2 application2;\n",
    "\"\"\"\n",
    "pydb.read_sql_query(create_adopt_application4)"
   ]
  },
  {
   "cell_type": "markdown",
   "metadata": {},
   "source": [
    "## adopt_application_5 table"
   ]
  },
  {
   "cell_type": "markdown",
   "metadata": {},
   "source": [
    "### Drop the adopt_application_5 table if it already exists and remove its data from the S3 bucket"
   ]
  },
  {
   "cell_type": "code",
   "execution_count": null,
   "metadata": {},
   "outputs": [],
   "source": [
    "drop_adopt_application_5 = f\"\"\"\n",
    "DROP TABLE IF EXISTS fcsq.adopt_application_5;\n",
    "\"\"\"\n",
    "pydb.read_sql_query(drop_adopt_application_5)\n",
    "\n",
    "# clean up previous adopt_application_5 files\n",
    "bucket.objects.filter(Prefix=\"fcsq_processing/Adoption/adopt_application_5/\").delete()"
   ]
  },
  {
   "cell_type": "markdown",
   "metadata": {},
   "source": [
    "### Create the adopt_application_5 table in Athena"
   ]
  },
  {
   "cell_type": "code",
   "execution_count": null,
   "metadata": {},
   "outputs": [],
   "source": [
    "create_adopt_application_5 = f\"\"\"\n",
    "CREATE TABLE IF NOT EXISTS fcsq.adopt_application_5\n",
    "WITH (format = 'PARQUET', external_location = 's3://alpha-family-data/fcsq_processing/Adoption/adopt_application_5') AS\n",
    "SELECT application4.*, \n",
    "\n",
    "        CASE WHEN adoption='Adoption' OR adoption='Adoption+other' \n",
    "              THEN 'Adoption'\n",
    "              ELSE ' '\n",
    "              END AS adoption_cases, \n",
    "\n",
    "        CASE WHEN adoption='Non-adoption' OR adoption='Adoption+other'\n",
    "              THEN 'Non-adoption'\n",
    "              ELSE '' \n",
    "              END AS non_adoption_cases, \n",
    "\n",
    "        CASE WHEN adopter IS NULL\n",
    "              THEN 'Other or not stated'\n",
    "              ELSE adopter\n",
    "              END AS adopter_2\n",
    "\n",
    "FROM fcsq.adopt_application4 application4;\n",
    "\"\"\"\n",
    "\n",
    "pydb.read_sql_query(create_adopt_application_5)\n",
    "\n"
   ]
  },
  {
   "cell_type": "markdown",
   "metadata": {},
   "source": [
    "#### adopt_application_5 validation"
   ]
  },
  {
   "cell_type": "code",
   "execution_count": null,
   "metadata": {},
   "outputs": [],
   "source": [
    "adopt_application_5_count = pydb.read_sql_query(\"select count(*) as count from fcsq.adopt_application_5\")\n",
    "adopt_application_5_count"
   ]
  },
  {
   "cell_type": "markdown",
   "metadata": {},
   "source": [
    "## adopt_apps_6_adoptions_only table"
   ]
  },
  {
   "cell_type": "markdown",
   "metadata": {},
   "source": [
    "### Drop the adopt_apps_6_adoptions_only table if it already exists and remove its data from the S3 bucket"
   ]
  },
  {
   "cell_type": "code",
   "execution_count": null,
   "metadata": {},
   "outputs": [],
   "source": [
    "drop_adopt_apps_6_adoptions_only = f\"\"\"\n",
    "DROP TABLE IF EXISTS fcsq.adopt_apps_6_adoptions_only;\n",
    "\"\"\"\n",
    "pydb.read_sql_query(drop_adopt_apps_6_adoptions_only)\n",
    "\n",
    "# clean up previous adopt_apps_6_adoptions_only files\n",
    "bucket.objects.filter(Prefix=\"fcsq_processing/Adoption/adopt_apps_6_adoptions_only/\").delete()"
   ]
  },
  {
   "cell_type": "markdown",
   "metadata": {},
   "source": [
    "### Create the adopt_apps_6_adoptions_only table in Athena"
   ]
  },
  {
   "cell_type": "code",
   "execution_count": null,
   "metadata": {},
   "outputs": [],
   "source": [
    "create_adopt_apps_6_adoptions_only = f\"\"\"\n",
    "CREATE TABLE IF NOT EXISTS fcsq.adopt_apps_6_adoptions_only\n",
    "WITH (format = 'PARQUET', external_location = 's3://alpha-family-data/fcsq_processing/Adoption/adopt_apps_6_adoptions_only')\n",
    "AS\n",
    "SELECT application_5.case_number, \n",
    "        application_5.app_date, \n",
    "        application_5.year, \n",
    "        application_5.quarter,\n",
    "        application_5.court, \n",
    "        application_5.app_type, \n",
    "        application_5.case_app_type, \n",
    "        application_5.adoption, \n",
    "        application_5.high_court, \n",
    "        application_5.contested, \n",
    "        application_5.number_applicants, \n",
    "        application_5.min_sex, \n",
    "        application_5.max_sex, \n",
    "        application_5.adopter_type,\n",
    "        application_5.min_rtc, \n",
    "        application_5.max_rtc, \n",
    "        application_5.adopter, \n",
    "        application_5.standard, \n",
    "        application_5.convention, \n",
    "        application_5.foreign,\n",
    "        application_5.adoption_cases, \n",
    "        application_5.adopter_2,\n",
    "        \n",
    "        (application_5.standard + application_5.convention + application_5.foreign) AS adoptions_total \n",
    "        \n",
    "FROM fcsq.adopt_application_5 application_5\n",
    "WHERE application_5.adoption_cases='Adoption';\n",
    "\"\"\"\n",
    "\n",
    "pydb.read_sql_query(create_adopt_apps_6_adoptions_only)\n",
    "\n"
   ]
  },
  {
   "cell_type": "markdown",
   "metadata": {},
   "source": [
    "#### adopt_apps_6_adoptions_only validation"
   ]
  },
  {
   "cell_type": "code",
   "execution_count": null,
   "metadata": {},
   "outputs": [],
   "source": [
    "adopt_apps_6_adoptions_only_count = pydb.read_sql_query(\"select count(*) as count from fcsq.adopt_apps_6_adoptions_only\")\n",
    "adopt_apps_6_adoptions_only_count"
   ]
  },
  {
   "cell_type": "markdown",
   "metadata": {},
   "source": [
    "## adopt_apps_6_non_adoptions table"
   ]
  },
  {
   "cell_type": "markdown",
   "metadata": {},
   "source": [
    "### Drop the adopt_apps_6_non_adoptions table if it already exists and remove its data from the S3 bucket"
   ]
  },
  {
   "cell_type": "code",
   "execution_count": null,
   "metadata": {},
   "outputs": [],
   "source": [
    "drop_adopt_apps_6_non_adoptions = f\"\"\"\n",
    "DROP TABLE IF EXISTS fcsq.adopt_apps_6_non_adoptions;\n",
    "\"\"\"\n",
    "pydb.read_sql_query(drop_adopt_apps_6_non_adoptions)\n",
    "\n",
    "# clean up previous adopt_apps_6_non_adoptions files\n",
    "bucket.objects.filter(Prefix=\"fcsq_processing/Adoption/adopt_apps_6_non_adoptions/\").delete()"
   ]
  },
  {
   "cell_type": "markdown",
   "metadata": {},
   "source": [
    "### Create the adopt_apps_6_non_adoptions table in Athena"
   ]
  },
  {
   "cell_type": "code",
   "execution_count": null,
   "metadata": {},
   "outputs": [],
   "source": [
    "create_adopt_apps_6_non_adoptions = f\"\"\"\n",
    "CREATE TABLE IF NOT EXISTS fcsq.adopt_apps_6_non_adoptions\n",
    "WITH (format = 'PARQUET', external_location = 's3://alpha-family-data/fcsq_processing/Adoption/adopt_apps_6_non_adoptions') AS\n",
    "SELECT application_5.case_number, \n",
    "        application_5.app_date, \n",
    "        application_5.year, \n",
    "        application_5.quarter, \n",
    "        application_5.court, \n",
    "        application_5.app_type, \n",
    "        application_5.case_app_type, \n",
    "        application_5.adoption, \n",
    "        application_5.high_court, \n",
    "        application_5.contested, \n",
    "        application_5.number_applicants, \n",
    "        application_5.min_sex, \n",
    "        application_5.max_sex, \n",
    "        application_5.adopter_type, \n",
    "        application_5.min_rtc, \n",
    "        application_5.max_rtc, \n",
    "        application_5.adopter, \n",
    "        application_5.placement, \n",
    "        application_5.placement_revoke_or_vary, \n",
    "        application_5.contact_s26, \n",
    "        application_5.contact_s26_revoke_or_vary, \n",
    "        application_5.change_surname, \n",
    "        application_5.remove_child_from_uk, \n",
    "        application_5.other_order_type, \n",
    "        application_5.non_adoption_cases, \n",
    "        application_5.adopter_2, \n",
    "        \n",
    "        placement+placement_revoke_or_vary+contact_s26+contact_s26_revoke_or_vary+change_surname+remove_child_from_uk+other_order_type AS non_adoptions_total,\n",
    "        \n",
    "        REPLACE(app_type,'AO, ','') AS remove_ao\n",
    "        \n",
    "FROM fcsq.adopt_application_5 application_5\n",
    "WHERE application_5.non_adoption_cases='Non-adoption' AND \n",
    "(placement+placement_revoke_or_vary+contact_s26+contact_s26_revoke_or_vary+change_surname+remove_child_from_uk+other_order_type)>0;\n",
    "\"\"\"\n",
    "\n",
    "pydb.read_sql_query(create_adopt_apps_6_non_adoptions)\n",
    "\n"
   ]
  },
  {
   "cell_type": "markdown",
   "metadata": {},
   "source": [
    "#### adopt_apps_6_non_adoptions validation"
   ]
  },
  {
   "cell_type": "code",
   "execution_count": null,
   "metadata": {},
   "outputs": [],
   "source": [
    "adopt_apps_6_non_adoptions_count = pydb.read_sql_query(\"select count(*) as count from fcsq.adopt_apps_6_non_adoptions\")\n",
    "adopt_apps_6_non_adoptions_count"
   ]
  },
  {
   "cell_type": "markdown",
   "metadata": {},
   "source": [
    "## Summary 1: Adoption applications by adopter"
   ]
  },
  {
   "cell_type": "code",
   "execution_count": null,
   "metadata": {},
   "outputs": [],
   "source": [
    "distinct_adopter_2 = f\"\"\"\n",
    "SELECT DISTINCT adopter_2  FROM fcsq.adopt_apps_6_adoptions_only;\n",
    "\"\"\"\n",
    "table1 = pydb.read_sql_query(distinct_adopter_2)\n",
    "table1"
   ]
  },
  {
   "cell_type": "code",
   "execution_count": null,
   "metadata": {},
   "outputs": [],
   "source": [
    "sum_adopter_types = f\"\"\"\n",
    "SELECT year, \n",
    "        quarter,\n",
    "        SUM(CASE WHEN adopter_2='Other or not stated' THEN adoptions_total ELSE 0 END) other_or_not_stated,\n",
    "        SUM(CASE WHEN adopter_2='Sole applicant' THEN adoptions_total ELSE 0 END) Sole_applicant,\n",
    "        SUM(CASE WHEN adopter_2='Step parent' THEN adoptions_total ELSE 0  END) Step_Parent,\n",
    "        SUM(CASE WHEN adopter_2='mixed-sex couple' THEN adoptions_total ELSE 0 END) mix_sex_couple,\n",
    "        SUM(CASE WHEN adopter_2='same-sex couple' THEN adoptions_total ELSE 0 END) same_sex_couple,\n",
    "        SUM(adoptions_total)\n",
    "FROM fcsq.adopt_apps_6_adoptions_only WHERE year > 2010 \n",
    "GROUP BY year, \n",
    "          quarter\n",
    "ORDER BY 1,2;\n",
    "\"\"\"\n",
    "table1 = pydb.read_sql_query(sum_adopter_types)\n",
    "table1"
   ]
  },
  {
   "cell_type": "markdown",
   "metadata": {},
   "source": [
    "## Summary 2: non-adoption applications by adopter"
   ]
  },
  {
   "cell_type": "code",
   "execution_count": null,
   "metadata": {
    "jupyter": {
     "outputs_hidden": true
    }
   },
   "outputs": [],
   "source": [
    "adopt_non_adopt_summary = f\"\"\"\n",
    "SELECT year, \n",
    "        quarter,\n",
    "        SUM (placement) AS placement_total,\n",
    "        SUM (placement_revoke_or_vary) AS placement_revoke_or_vary,\n",
    "        SUM (contact_s26 ) AS contact_s26,\n",
    "        SUM (contact_s26_revoke_or_vary) AS contact_s26_revoke_or_vary,\n",
    "        SUM (change_surname)AS change_surname,\n",
    "        SUM (remove_child_from_uk) AS remove_child_from_uk,\n",
    "        SUM (other_order_type)AS other_order_type,\n",
    "        SUM (non_adoptions_total) AS non_adoptions_total_sum\n",
    "\n",
    "FROM fcsq.adopt_apps_6_non_adoptions \n",
    "WHERE year > 2010 /*RB Note (18/11/15): Added this qualifier in as presently results before 2010 not used.*/\n",
    "GROUP BY year, \n",
    "          quarter\n",
    "ORDER BY year,\n",
    "          quarter;\n",
    "\"\"\"\n",
    "\n",
    "table1 = pydb.read_sql_query(adopt_non_adopt_summary)\n",
    "table1"
   ]
  },
  {
   "cell_type": "markdown",
   "metadata": {},
   "source": [
    "## Summary 3 - produces a case level table for purposes of case level counts"
   ]
  },
  {
   "cell_type": "code",
   "execution_count": null,
   "metadata": {},
   "outputs": [],
   "source": [
    "adopt_application_case_count_a = f\"\"\"\n",
    "SELECT case_number,\n",
    "        court, \n",
    "        MIN(app_date) AS minofapp_date\n",
    "FROM fcsq.adopt_application4 \n",
    "WHERE year > 2010\n",
    "GROUP BY case_number,court\n",
    "ORDER BY 1,2;\n",
    "\"\"\"\n",
    "pydb.create_temp_table(adopt_application_case_count_a,\"adopt_application_case_count_a\")"
   ]
  },
  {
   "cell_type": "code",
   "execution_count": null,
   "metadata": {},
   "outputs": [],
   "source": [
    "adopt_application_case_count_b = f\"\"\"\n",
    "SELECT case_number, \n",
    "        minofapp_date, \n",
    "        CAST(EXTRACT(YEAR FROM minofapp_date) as varchar(3)) || ' - ' ||\n",
    "        \n",
    "        (CASE WHEN (EXTRACT (MONTH FROM minofapp_date)) BETWEEN 1 AND 3  THEN CAST(1 as varchar(3))\n",
    "              WHEN (EXTRACT (MONTH FROM minofapp_date)) BETWEEN 4 AND 6 THEN CAST(2 as varchar(3))\n",
    "              WHEN (EXTRACT (MONTH FROM minofapp_date)) BETWEEN 7 AND 9 THEN CAST(3 as varchar(3))\n",
    "              WHEN (EXTRACT (MONTH FROM minofapp_date)) BETWEEN 10 AND 12 THEN CAST(4 as varchar(3))\n",
    "              END) quarter\n",
    "\n",
    "FROM __temp__.adopt_application_case_count_a;\n",
    "\"\"\"\n",
    "pydb.create_temp_table(adopt_application_case_count_b,\"adopt_application_case_count_b\")\n"
   ]
  },
  {
   "cell_type": "code",
   "execution_count": null,
   "metadata": {},
   "outputs": [],
   "source": [
    "adopt_apps_case_count_total = f\"\"\"\n",
    "SELECT quarter, \n",
    "        COUNT(case_number) count_of_case\n",
    "FROM __temp__.adopt_application_case_count_b\n",
    "GROUP BY quarter\n",
    "ORDER BY quarter; \n",
    "\"\"\"\n",
    "\n",
    "\n",
    "pydb.create_temp_table(adopt_apps_case_count_total,\"adopt_apps_case_count_total\")"
   ]
  },
  {
   "cell_type": "code",
   "execution_count": null,
   "metadata": {},
   "outputs": [],
   "source": [
    "table1 = pydb.read_sql_query(\"select * from __temp__.adopt_application_case_count_a\")\n",
    "table1"
   ]
  },
  {
   "cell_type": "code",
   "execution_count": null,
   "metadata": {},
   "outputs": [],
   "source": [
    "table2 = pydb.read_sql_query(\"select * from __temp__.adopt_application_case_count_b\")\n",
    "table2"
   ]
  },
  {
   "cell_type": "code",
   "execution_count": null,
   "metadata": {},
   "outputs": [],
   "source": [
    "table3 = pydb.read_sql_query(\"select * from __temp__.adopt_apps_case_count_total\")\n",
    "table3"
   ]
  },
  {
   "cell_type": "markdown",
   "metadata": {},
   "source": [
    "## adopt_adopt_only_case_count summary"
   ]
  },
  {
   "cell_type": "code",
   "execution_count": null,
   "metadata": {},
   "outputs": [],
   "source": [
    "adopt_adopt_only_case_count_a = f\"\"\"\n",
    "SELECT case_number, \n",
    "        MIN(app_date) AS minofapp_date \n",
    "FROM fcsq.adopt_apps_6_adoptions_only\n",
    "WHERE year > 2010\n",
    "GROUP BY case_number, court;\n",
    "\"\"\"\n",
    "pydb.create_temp_table(adopt_adopt_only_case_count_a,\"adopt_adopt_only_case_count_a\")\n",
    "\n",
    "adopt_adopt_only_case_count_b = f\"\"\"\n",
    "SELECT case_number, \n",
    "        minofapp_date, \n",
    "        CAST(EXTRACT(YEAR FROM (minofapp_date)) as varchar(3)) || ' - ' ||\n",
    "\n",
    "        (CASE WHEN (EXTRACT (MONTH FROM minofapp_date)) BETWEEN 1 AND 3  THEN CAST(1 as varchar(3))\n",
    "              WHEN (EXTRACT (MONTH FROM minofapp_date)) BETWEEN 4 AND 6 THEN CAST(2 as varchar(3))\n",
    "              WHEN (EXTRACT (MONTH FROM minofapp_date)) BETWEEN 7 AND 9 THEN CAST(3 as varchar(3))\n",
    "              WHEN (EXTRACT (MONTH FROM minofapp_date)) BETWEEN 10 AND 12 THEN CAST(4 as varchar(3))\n",
    "              END) quarter\n",
    "\n",
    "FROM __temp__.adopt_adopt_only_case_count_a;\n",
    "\"\"\"\n",
    "pydb.create_temp_table(adopt_adopt_only_case_count_b,\"adopt_adopt_only_case_count_b\")\n",
    "\n",
    "adopt_only_case_count_total = f\"\"\"\n",
    "SELECT quarter, \n",
    "        COUNT (case_number) AS count_of_case\n",
    "FROM __temp__.adopt_adopt_only_case_count_b\n",
    "GROUP BY quarter\n",
    "ORDER BY quarter;\n",
    "\"\"\"\n",
    "pydb.create_temp_table(adopt_only_case_count_total,\"adopt_adopt_only_case_count_total\")"
   ]
  },
  {
   "cell_type": "markdown",
   "metadata": {},
   "source": [
    "## The next couple of queries are here to find the court level data for the court level/DFJ CSV file. Currently these are not used for FCSQ"
   ]
  },
  {
   "cell_type": "code",
   "execution_count": null,
   "metadata": {},
   "outputs": [],
   "source": [
    "applications_court_level = f\"\"\"\n",
    "SELECT year, \n",
    "        quarter, \n",
    "        court, \n",
    "        COUNT(*) n \n",
    "FROM fcsq.adopt_apps_6_adoptions_only\n",
    "WHERE year>2010\n",
    "GROUP BY year, \n",
    "          quarter, \n",
    "          court\n",
    "ORDER BY 1,2,3;\n",
    "\"\"\"\n",
    "\n",
    "pydb.read_sql_query(applications_court_level)"
   ]
  },
  {
   "cell_type": "code",
   "execution_count": null,
   "metadata": {},
   "outputs": [],
   "source": [
    "#Secondly the applications case level court level file\n",
    "adopt_application_case_count_c = f\"\"\"\n",
    "SELECT \n",
    "  case_number, \n",
    "  MIN(app_date) AS minofapp_date,\n",
    "  court \n",
    "FROM fcsq.adopt_apps_6_adoptions_only \n",
    "GROUP BY case_number,\n",
    "          court;\n",
    "\"\"\"\n",
    "\n",
    "pydb.create_temp_table(adopt_application_case_count_c,\"adopt_application_case_count_c\")\n",
    "\n",
    "adopt_application_case_count_d = f\"\"\"\n",
    "SELECT case_number, \n",
    "        EXTRACT(YEAR FROM (minofapp_date)) year,\n",
    "        CAST(EXTRACT(YEAR FROM (minofapp_date)) as varchar(3)) || ' - ' ||\n",
    "\n",
    "        (CASE WHEN (EXTRACT (MONTH FROM minofapp_date)) BETWEEN 1 AND 3  THEN CAST(1 as varchar(3))\n",
    "              WHEN (EXTRACT (MONTH FROM minofapp_date)) BETWEEN 4 AND 6 THEN CAST(2 as varchar(3))\n",
    "              WHEN (EXTRACT (MONTH FROM minofapp_date)) BETWEEN 7 AND 9 THEN CAST(3 as varchar(3))\n",
    "              WHEN (EXTRACT (MONTH FROM minofapp_date)) BETWEEN 10 AND 12 THEN CAST(4 as varchar(3))\n",
    "              END) quarter,\n",
    "        minofapp_date,\n",
    "        court \n",
    "FROM __temp__.adopt_application_case_count_c;\n",
    "\"\"\"\n",
    "\n",
    "pydb.create_temp_table(adopt_application_case_count_c,\"adopt_application_case_count_c\")\n",
    "pydb.create_temp_table(adopt_application_case_count_d,\"adopt_application_case_count_d\")\n",
    "\n",
    "\n",
    "final_query = f\"\"\"\n",
    "SELECT year, \n",
    "        quarter, \n",
    "        court, \n",
    "        COUNT(*) n \n",
    "FROM __temp__.adopt_application_case_count_d\n",
    "WHERE year > 2010\n",
    "GROUP BY year, \n",
    "          quarter, \n",
    "          court\n",
    "ORDER BY year, \n",
    "          quarter, \n",
    "          court;\n",
    "\"\"\"\n",
    "\n",
    "pydb.read_sql_query(final_query)"
   ]
  },
  {
   "cell_type": "markdown",
   "metadata": {},
   "source": [
    "# Stage 3 - Disposals"
   ]
  },
  {
   "cell_type": "markdown",
   "metadata": {},
   "source": [
    "## adopt_order_type table"
   ]
  },
  {
   "cell_type": "code",
   "execution_count": null,
   "metadata": {},
   "outputs": [],
   "source": [
    "#Create new disposal_fields table while old one not working\n",
    "data = pd.read_csv('s3://alpha-family-data/fcsq_processing/Adoption/disposal_fields_csv/ADOPTIONS_DISPOSAL_FIELDS.csv')\n",
    "\n",
    "import awswrangler as wr\n",
    "wr.s3.to_parquet(  # Storing the data and metadata to Data Lake\n",
    "    df=data,\n",
    "    path=\"s3://alpha-family-data/fcsq_processing/Adoption/disposal_fields_csv/fields_parquet/\",\n",
    "    dataset=True, database = \"default\", table = \"temporary_df\"\n",
    ")\n",
    "\n"
   ]
  },
  {
   "cell_type": "markdown",
   "metadata": {},
   "source": [
    "### Drop the adopt_order_type table if it already exists and remove its data from the S3 bucket"
   ]
  },
  {
   "cell_type": "code",
   "execution_count": null,
   "metadata": {},
   "outputs": [],
   "source": [
    "\n",
    "drop_adopt_order_type = f\"\"\"\n",
    "DROP TABLE IF EXISTS fcsq.adopt_order_type;\n",
    "\"\"\"\n",
    "pydb.read_sql_query(drop_adopt_order_type)\n",
    "\n",
    "# clean up previous adopt_order_type files\n",
    "bucket.objects.filter(Prefix=\"fcsq_processing/Adoption/adopt_order_type/\").delete()"
   ]
  },
  {
   "cell_type": "markdown",
   "metadata": {},
   "source": [
    "### Create the adopt_order_type table in Athena"
   ]
  },
  {
   "cell_type": "code",
   "execution_count": null,
   "metadata": {},
   "outputs": [],
   "source": [
    "create_adopt_order_type = f\"\"\"\n",
    "CREATE TABLE IF NOT EXISTS fcsq.adopt_order_type\n",
    "WITH (format = 'PARQUET', external_location = 's3://alpha-family-data/fcsq_processing/Adoption/adopt_order_type') AS\n",
    "SELECT event, \n",
    "        field_model, \n",
    "        value \n",
    "FROM fcsq.adoptions_disposal_fields_temporary\n",
    "WHERE field_model='A73_1'\n",
    "  OR field_model='A74_2' \n",
    "  OR field_model='A80_4' \n",
    "  OR field_model='G63_1' \n",
    "  OR field_model='ORDNOM_5' \n",
    "  OR field_model='ORDREF_5' \n",
    "  OR field_model='A81_5';\n",
    "\"\"\"\n",
    "\n",
    "pydb.read_sql_query(create_adopt_order_type)\n",
    "\n"
   ]
  },
  {
   "cell_type": "markdown",
   "metadata": {},
   "source": [
    "#### adopt_order_type validation"
   ]
  },
  {
   "cell_type": "code",
   "execution_count": null,
   "metadata": {},
   "outputs": [],
   "source": [
    "adopt_order_type_count = pydb.read_sql_query(\"select count(*) as count from fcsq.adopt_order_type\")\n",
    "adopt_order_type_count"
   ]
  },
  {
   "cell_type": "markdown",
   "metadata": {},
   "source": [
    "## adopt_disposals_type table"
   ]
  },
  {
   "cell_type": "markdown",
   "metadata": {},
   "source": [
    "### Drop the adopt_disposals_type table if it already exists and remove its data from the S3 bucket"
   ]
  },
  {
   "cell_type": "code",
   "execution_count": null,
   "metadata": {},
   "outputs": [],
   "source": [
    "drop_adopt_disposals_type = f\"\"\"\n",
    "DROP TABLE IF EXISTS fcsq.adopt_disposals_type;\n",
    "\"\"\"\n",
    "pydb.read_sql_query(drop_adopt_disposals_type)\n",
    "\n",
    "# clean up previous adopt_disposals_type files\n",
    "bucket.objects.filter(Prefix=\"fcsq_processing/Adoption/adopt_disposals_type/\").delete()"
   ]
  },
  {
   "cell_type": "markdown",
   "metadata": {},
   "source": [
    "### Create the adopt_disposals_type table in Athena"
   ]
  },
  {
   "cell_type": "code",
   "execution_count": null,
   "metadata": {},
   "outputs": [],
   "source": [
    "create_adopt_disposals_type = f\"\"\"\n",
    "CREATE TABLE IF NOT EXISTS fcsq.adopt_disposals_type\n",
    "WITH (format = 'PARQUET', external_location = 's3://alpha-family-data/fcsq_processing/Adoption/adopt_disposals_type') AS\n",
    "\n",
    "SELECT disposals.case_number, \n",
    "        disposals.event, \n",
    "        disposals.receipt_date2, \n",
    "        disposals.event_model, \n",
    "        disposal_fields.field_model, \n",
    "        disposal_fields.value AS order_type, \n",
    "        EXTRACT(YEAR FROM (disposals.receipt_date2)) AS year, \n",
    "\n",
    "        CASE WHEN EXTRACT(MONTH FROM (disposals.receipt_date2))<4 THEN 1\n",
    "              WHEN EXTRACT(MONTH FROM(disposals.receipt_date2)) <7 THEN 2\n",
    "              WHEN EXTRACT( MONTH FROM (disposals.receipt_date2))<10 THEN 3\n",
    "              ELSE 4\n",
    "              END AS quarter\n",
    "\n",
    "FROM fcsq.adoptions_disposals disposals \n",
    "  LEFT JOIN fcsq.ADOPTIONS_DISPOSAL_FIELDS_TEMPORARY disposal_fields \n",
    "  ON disposals.event = disposal_fields.event\n",
    "\n",
    "WHERE (((disposals.event_model)='A70' \n",
    "    OR (disposals.event_model)='A71' \n",
    "    OR (disposals.event_model)='A72' \n",
    "    OR (disposals.event_model)='A75' \n",
    "    OR (disposals.event_model)='A79') \n",
    "    AND ((disposal_fields.field_model) LIKE '%_JG')) \n",
    "  OR (((disposals.event_model)='A76') \n",
    "    AND ((disposal_fields.field_model)='A76_12')) \n",
    "  OR (((disposals.event_model)='A77') \n",
    "    AND ((disposal_fields.field_model)='A77_12')) \n",
    "  OR (((disposals.event_model)='A78') \n",
    "    AND ((disposal_fields.field_model)='A78_15')) \n",
    "  OR (((disposals.event_model)='A12' \n",
    "    OR (disposals.event_model)='A13' \n",
    "    OR (disposals.event_model)='A15') \n",
    "    AND ((disposal_fields.field_model) LIKE '%_FO')) \n",
    "  OR (((disposals.event_model)='A73' \n",
    "    OR (disposals.event_model)='G63') \n",
    "    AND ((disposal_fields.field_model) LIKE '%_1')) \n",
    "  OR (((disposals.event_model)='A74') \n",
    "    AND ((disposal_fields.field_model)='A74_2')) \n",
    "  OR (((disposals.event_model)='A80') \n",
    "    AND ((disposal_fields.field_model)='A80_4')) \n",
    "  OR (((disposals.event_model)='ORDNOM' \n",
    "    OR (disposals.event_model)='ORDREF') \n",
    "    AND ((disposal_fields.field_model) LIKE '%_5'));\n",
    "\"\"\"\n",
    "\n",
    "pydb.read_sql_query(create_adopt_disposals_type)\n",
    "\n"
   ]
  },
  {
   "cell_type": "markdown",
   "metadata": {},
   "source": [
    "#### adopt_disposals_type validation"
   ]
  },
  {
   "cell_type": "code",
   "execution_count": null,
   "metadata": {},
   "outputs": [],
   "source": [
    "adopt_disposals_type_count = pydb.read_sql_query(\"select count(*) as count from fcsq.adopt_disposals_type\")\n",
    "adopt_disposals_type_count"
   ]
  },
  {
   "cell_type": "markdown",
   "metadata": {},
   "source": [
    "## adopt_country_of_birth table"
   ]
  },
  {
   "cell_type": "markdown",
   "metadata": {},
   "source": [
    "### Drop the adopt_country_of_birth table if it already exists and remove its data from the S3 bucket"
   ]
  },
  {
   "cell_type": "code",
   "execution_count": null,
   "metadata": {},
   "outputs": [],
   "source": [
    "drop_adopt_country_of_birth = f\"\"\"\n",
    "DROP TABLE IF EXISTS fcsq.adopt_country_of_birth;\n",
    "\"\"\"\n",
    "pydb.read_sql_query(drop_adopt_country_of_birth)\n",
    "\n",
    "# clean up previous adopt_country_of_birth files\n",
    "bucket.objects.filter(Prefix=\"fcsq_processing/Adoption/adopt_country_of_birth/\").delete()"
   ]
  },
  {
   "cell_type": "markdown",
   "metadata": {},
   "source": [
    "### Create the adopt_country_of_birth table in Athena"
   ]
  },
  {
   "cell_type": "code",
   "execution_count": null,
   "metadata": {},
   "outputs": [],
   "source": [
    "create_adopt_country_of_birth = f\"\"\"\n",
    "CREATE TABLE IF NOT EXISTS fcsq.adopt_country_of_birth\n",
    "WITH (format = 'PARQUET', external_location = 's3://alpha-family-data/fcsq_processing/Adoption/adopt_country_of_birth') AS\n",
    "SELECT disposal_fields.event, \n",
    "        disposal_fields.field_model, \n",
    "        disposal_fields.value\n",
    "FROM fcsq.ADOPTIONS_DISPOSAL_FIELDS_TEMPORARY disposal_fields\n",
    "WHERE (((disposal_fields.field_model)='A70_5' \n",
    "    OR (disposal_fields.field_model)='A76_2' \n",
    "    OR (disposal_fields.field_model)='A77_10' \n",
    "    OR (disposal_fields.field_model)='A78_13' \n",
    "    OR ((disposal_fields.field_model)='A12_1' \n",
    "    OR (disposal_fields.field_model)='A15_1')));\n",
    "\"\"\"\n",
    "\n",
    "pydb.read_sql_query(create_adopt_country_of_birth)\n",
    "\n"
   ]
  },
  {
   "cell_type": "markdown",
   "metadata": {},
   "source": [
    "#### adopt_country_of_birth validation"
   ]
  },
  {
   "cell_type": "code",
   "execution_count": null,
   "metadata": {},
   "outputs": [],
   "source": [
    "adopt_country_of_birth_count = pydb.read_sql_query(\"select count(*) as count from fcsq.adopt_country_of_birth\")\n",
    "adopt_country_of_birth_count"
   ]
  },
  {
   "cell_type": "markdown",
   "metadata": {},
   "source": [
    "# NOTE: LEFT OUT AGE FIX"
   ]
  },
  {
   "cell_type": "markdown",
   "metadata": {},
   "source": [
    "## adopt_disposals_with_child table"
   ]
  },
  {
   "cell_type": "markdown",
   "metadata": {},
   "source": [
    "### Drop the adopt_disposals_with_child table if it already exists and remove its data from the S3 bucket"
   ]
  },
  {
   "cell_type": "code",
   "execution_count": null,
   "metadata": {},
   "outputs": [],
   "source": [
    "drop_adopt_disposals_with_child = f\"\"\"\n",
    "DROP TABLE IF EXISTS fcsq.adopt_disposals_with_child;\n",
    "\"\"\"\n",
    "pydb.read_sql_query(drop_adopt_disposals_with_child)\n",
    "\n",
    "# clean up previous adopt_disposals_with_child files\n",
    "bucket.objects.filter(Prefix=\"fcsq_processing/Adoption/adopt_disposals_with_child/\").delete()"
   ]
  },
  {
   "cell_type": "markdown",
   "metadata": {},
   "source": [
    "### Create the adopt_disposals_with_child table in Athena"
   ]
  },
  {
   "cell_type": "code",
   "execution_count": null,
   "metadata": {},
   "outputs": [],
   "source": [
    "create_adopt_disposals2 =f\"\"\"\n",
    "SELECT disposals1.case_number, \n",
    "        disposals1.event, \n",
    "        disposals1.receipt_date2, \n",
    "        disposals1.event_model, \n",
    "        order_type.field_model, \n",
    "        order_type.value AS order_type, \n",
    "        country_of_birth.value AS country_of_birth, \n",
    "        EXTRACT(YEAR FROM (disposals1.receipt_date2)) AS year, \n",
    "\n",
    "        CASE WHEN EXTRACT(Month FROM (disposals1.receipt_date2)) <4 THEN 1\n",
    "              WHEN EXTRACT(Month FROM (disposals1.receipt_date2)) <7 THEN 2\n",
    "              WHEN EXTRACT(Month FROM (disposals1.receipt_date2))<10 THEN 3\n",
    "              ELSE 4\n",
    "              END AS quarter\n",
    "              \n",
    "FROM fcsq.adoptions_disposals disposals1 \n",
    "  LEFT JOIN fcsq.adopt_order_type order_type \n",
    "    ON disposals1.event = Order_type.event \n",
    "  LEFT JOIN fcsq.adopt_country_of_birth country_of_birth \n",
    "    ON disposals1.event = country_of_birth.event\n",
    "WHERE (((disposals1.event_model)<>'G63' \n",
    "    AND (disposals1.event_model)<>'ORDNOM' \n",
    "    AND (disposals1.event_model)<>'ORDREF')) \n",
    "  OR (((disposals1.case_number) LIKE '____A%' \n",
    "      OR (disposals1.case_number) LIKE '____Z%') \n",
    "    AND ((disposals1.event_model)='G63' \n",
    "      OR (disposals1.event_model)='ORDNOM' \n",
    "      OR (disposals1.event_model)='ORDREF'));\n",
    "\"\"\"\n",
    "\n",
    "pydb.create_temp_table(adopt_disposals2,\"adopt_disposals2\")\n",
    "\n",
    "\n",
    "create_adopt_disposals3 = f\"\"\"\n",
    "SELECT disposals2.case_number, \n",
    "        disposals2.year, \n",
    "        disposals2.quarter, \n",
    "        disposals2.event, \n",
    "        disposals2.receipt_date2, \n",
    "        disposals2.event_model, \n",
    "        disposals2.field_model, \n",
    "        disposals2.order_type, \n",
    "        lower(disposals2.country_of_birth) as country_of_birth, \n",
    "        applicant_type.number_applicants,\n",
    "        applicant_type.min_sex, \n",
    "        applicant_type.max_sex, \n",
    "        applicant_type.adopter_type, \n",
    "        applicant_type.min_rtc, \n",
    "        applicant_type.max_rtc, \n",
    "        applicant_type.adopter \n",
    "        \n",
    "FROM __temp__.adopt_disposals2 disposals2 \n",
    "  LEFT JOIN fcsq.adopt_applicant_type applicant_type\n",
    "    ON disposals2.case_number = applicant_type.case_number;\n",
    "\"\"\"\n",
    "pydb.create_temp_table(create_adopt_disposals3,\"adopt_disposals3\")\n",
    "\n",
    "create_adopt_disposals4 = f\"\"\"\n",
    "SELECT disposals3.case_number, \n",
    "        substr(CAST(disposals3.event as varchar(3)),1,3) AS court, \n",
    "        disposals3.year, \n",
    "        disposals3.quarter,\n",
    "        MIN(disposals3.receipt_date2) AS receipt_date, \n",
    "        disposals3.event_model, \n",
    "        disposals3.field_model, \n",
    "        disposals3.order_type, \n",
    "        MAX(disposals3.country_of_birth) AS country_of_birth_new,\n",
    "        disposals3.number_applicants,\n",
    "        disposals3.min_sex, \n",
    "        disposals3.max_sex, \n",
    "        disposals3.adopter_type, \n",
    "        disposals3.min_rtc, \n",
    "        disposals3.max_rtc, \n",
    "        disposals3.adopter\n",
    "        \n",
    "FROM __temp__.adopt_disposals3 disposals3\n",
    "GROUP BY disposals3.case_number, \n",
    "          substr(CAST(disposals3.event as varchar(3)),1,3), \n",
    "          disposals3.year, \n",
    "          disposals3.quarter, \n",
    "          disposals3.event_model, \n",
    "          disposals3.field_model,\n",
    "          disposals3.order_type, \n",
    "          disposals3.number_applicants, \n",
    "          disposals3.min_sex, \n",
    "          disposals3.max_sex, \n",
    "          disposals3.adopter_type, \n",
    "          disposals3.min_rtc, \n",
    "          disposals3.max_rtc, \n",
    "          disposals3.adopter\n",
    "HAVING (((disposals3.case_number)<>'CV11Z00105'))\n",
    "ORDER BY disposals3.case_number;\n",
    "\"\"\"\n",
    "\n",
    "pydb.create_temp_table(create_adopt_disposals4,\"adopt_disposals4\")\n",
    "\n",
    "create_adopt_disposals4a = f\"\"\"\n",
    "SELECT disposals4.case_number, \n",
    "        MIN(disposals4.court)AS court_new, \n",
    "        disposals4.year, \n",
    "        disposals4.quarter,\n",
    "        disposals4.receipt_date, \n",
    "        disposals4.event_model, \n",
    "        disposals4.field_model, \n",
    "        disposals4.order_type, \n",
    "        disposals4.country_of_birth_new,\n",
    "        disposals4.number_applicants,\n",
    "        disposals4.min_sex, \n",
    "        disposals4.max_sex, \n",
    "        disposals4.adopter_type, \n",
    "        disposals4.min_rtc, \n",
    "        disposals4.max_rtc, \n",
    "        disposals4.adopter\n",
    "        \n",
    "FROM __temp__.adopt_disposals4 disposals4\n",
    "GROUP BY disposals4.case_number,  \n",
    "        disposals4.year, \n",
    "        disposals4.quarter,\n",
    "        disposals4.receipt_date, \n",
    "        disposals4.event_model, \n",
    "        disposals4.field_model, \n",
    "        disposals4.order_type, \n",
    "        disposals4.country_of_birth_new,\n",
    "        disposals4.number_applicants,\n",
    "        disposals4.min_sex, \n",
    "        disposals4.max_sex, \n",
    "        disposals4.adopter_type, \n",
    "        disposals4.min_rtc, \n",
    "        disposals4.max_rtc, \n",
    "        disposals4.adopter\n",
    "ORDER BY disposals4.case_number;\n",
    "\"\"\"\n",
    "\n",
    "pydb.create_temp_table(create_adopt_disposals4a,\"adopt_disposals4a\")\n",
    "\n",
    "create_adopt_disposals_with_child = f\"\"\"\n",
    "CREATE TABLE IF NOT EXISTS fcsq.adopt_disposals_with_child\n",
    "WITH (format = 'PARQUET', external_location = 's3://alpha-family-data/fcsq_processing/Adoption/adopt_disposals_with_child') AS\n",
    "SELECT disposals4a.*, \n",
    "        child_parties.dob, \n",
    "        child_parties.child_sex, \n",
    "        date_diff('day',dob,receipt_date)/365.25 AS child_age \n",
    "FROM __temp__.adopt_disposals4a Disposals4a\n",
    "  LEFT JOIN fcsq.adopt_child_parties child_parties\n",
    "    ON disposals4a.case_number = child_parties.case_number;\n",
    "\"\"\"\n",
    "\n",
    "pydb.read_sql_query(create_adopt_disposals_with_child)\n",
    "\n",
    "\n"
   ]
  },
  {
   "cell_type": "markdown",
   "metadata": {},
   "source": [
    "#### adopt_disposals_with_child validation"
   ]
  },
  {
   "cell_type": "code",
   "execution_count": null,
   "metadata": {},
   "outputs": [],
   "source": [
    "adopt_disposals_with_child_count = pydb.read_sql_query(\"select count(*) as count from fcsq.adopt_disposals_with_child\")\n",
    "adopt_disposals_with_child_count"
   ]
  },
  {
   "cell_type": "markdown",
   "metadata": {},
   "source": [
    "## adopt_disposals5 table"
   ]
  },
  {
   "cell_type": "markdown",
   "metadata": {},
   "source": [
    "### Drop the adopt_disposals5 table if it already exists and remove its data from the S3 bucket"
   ]
  },
  {
   "cell_type": "code",
   "execution_count": null,
   "metadata": {},
   "outputs": [],
   "source": [
    "drop_adopt_disposals5 = f\"\"\"\n",
    "DROP TABLE IF EXISTS fcsq.adopt_disposals5;\n",
    "\"\"\"\n",
    "pydb.read_sql_query(drop_adopt_disposals5)\n",
    "\n",
    "# clean up previous adopt_disposals5 files\n",
    "bucket.objects.filter(Prefix=\"fcsq_processing/Adoption/adopt_disposals5/\").delete()"
   ]
  },
  {
   "cell_type": "markdown",
   "metadata": {},
   "source": [
    "### Create the adopt_disposals5 table in Athena"
   ]
  },
  {
   "cell_type": "code",
   "execution_count": null,
   "metadata": {},
   "outputs": [],
   "source": [
    "create_adopt_disposals5 = f\"\"\"\n",
    "CREATE TABLE IF NOT EXISTS fcsq.adopt_disposals5\n",
    "WITH (format = 'PARQUET', external_location = 's3://alpha-family-data/fcsq_processing/Adoption/adopt_disposals5') AS\n",
    "SELECT disposals_with_child.case_number, \n",
    "        disposals_with_child.court_new AS court, \n",
    "        disposals_with_child.year, \n",
    "        disposals_with_child.quarter, \n",
    "        disposals_with_child.receipt_date, \n",
    "        disposals_with_child.event_model, \n",
    "        disposals_with_child.field_model, \n",
    "        disposals_with_child.order_type, \n",
    "        disposals_with_child.country_of_birth_new AS country_of_birth, \n",
    "        disposals_with_child.number_applicants, \n",
    "        disposals_with_child.adopter_type, \n",
    "        disposals_with_child.adopter,\n",
    "        max_rtc, \n",
    "        max_sex, \n",
    "        min_rtc, \n",
    "        min_sex, \n",
    "        child_sex,\n",
    "\n",
    "        CASE WHEN disposals_with_child.child_age IS NULL THEN 'Unknown'\n",
    "              WHEN disposals_with_child.child_age<0 THEN 'Other'\n",
    "              WHEN disposals_with_child.child_age<1 THEN '<1 year'\n",
    "              WHEN disposals_with_child.child_age<5 THEN '1-4 years'\n",
    "              WHEN disposals_with_child.child_age<10 THEN'5-9 years'\n",
    "              WHEN disposals_with_child.child_age<15 THEN '10-14 years'\n",
    "              WHEN disposals_with_child.child_age<18 THEN '15-17 years'\n",
    "              ELSE 'Other'\n",
    "              END AS age_band, \n",
    "\n",
    "        disposals_with_child.child_age, \n",
    "\n",
    "        CASE WHEN event_model='A15' \n",
    "                OR event_model='A76' \n",
    "                OR event_model='A77' \n",
    "                THEN 'Adoption'\n",
    "              WHEN event_model='G63' \n",
    "                OR event_model='ORDREF' \n",
    "                OR event_model='ORDNOM' \n",
    "                THEN 'No order made'\n",
    "              ELSE 'Non-adoption'\n",
    "              END  AS adoption, \n",
    "\n",
    "        CASE WHEN event_model='A77' \t\n",
    "                THEN 'Convention'\n",
    "              WHEN country_of_birth_new <>'' \n",
    "                And event_model='A76' \n",
    "                THEN '?Foreign?'\n",
    "              WHEN event_model='A76' \n",
    "                OR event_model='A15' \n",
    "                THEN 'Standard'\n",
    "              WHEN event_model='A12' \n",
    "                OR event_model='A70' \n",
    "                THEN 'Placement'\n",
    "              WHEN event_model='A13' \n",
    "                OR event_model='A71' \n",
    "                OR event_model='A72' \n",
    "                THEN 'Placement_revoke_or_vary'\n",
    "              WHEN order_type='CNO' \n",
    "                THEN 'Contact_s26'\n",
    "              WHEN order_type='RCNO' \n",
    "                OR order_type='VCNO' \n",
    "                OR order_type='OFNC' \n",
    "                THEN 'Contact_s26_revoke_or_vary'\n",
    "              WHEN order_type='CCS' \n",
    "                THEN 'Change_surname'\n",
    "              WHEN order_type='RUK' \n",
    "                THEN 'Remove_child_from_UK'\n",
    "              WHEN event_model='A75' \n",
    "                OR event_model='A78' \n",
    "                OR event_model='A79' \n",
    "                OR event_model='A80' \n",
    "                THEN 'Other_order_type'\n",
    "              ELSE ''\n",
    "              END AS Type,\n",
    "\n",
    "        CASE WHEN adopter IS NULL \n",
    "              THEN 'Other or not stated'\n",
    "              ELSE adopter\n",
    "              END AS adopter_2\n",
    "\n",
    "FROM fcsq.adopt_disposals_with_child disposals_with_child\n",
    "WHERE (disposals_with_child.event_model<>'A81') \n",
    "ORDER BY disposals_with_child.receipt_date;\n",
    "\"\"\"\n",
    "\n",
    "pydb.read_sql_query(create_adopt_disposals5)\n",
    "\n"
   ]
  },
  {
   "cell_type": "markdown",
   "metadata": {},
   "source": [
    "#### adopt_disposals5 validation"
   ]
  },
  {
   "cell_type": "code",
   "execution_count": null,
   "metadata": {},
   "outputs": [],
   "source": [
    "adopt_disposals5_count = pydb.read_sql_query(\"select count(*) as count from fcsq.adopt_disposals5\")\n",
    "adopt_disposals5_count"
   ]
  },
  {
   "cell_type": "markdown",
   "metadata": {},
   "source": [
    "## adopt_disposals5_adoption table"
   ]
  },
  {
   "cell_type": "markdown",
   "metadata": {},
   "source": [
    "### Drop the adopt_disposals5_adoption table if it already exists and remove its data from the S3 bucket"
   ]
  },
  {
   "cell_type": "code",
   "execution_count": null,
   "metadata": {},
   "outputs": [],
   "source": [
    "drop_adopt_disposals5_adoption = f\"\"\"\n",
    "DROP TABLE IF EXISTS fcsq.adopt_disposals5_adoption;\n",
    "\"\"\"\n",
    "pydb.read_sql_query(drop_adopt_disposals5_adoption)\n",
    "\n",
    "# clean up previous adopt_disposals5_adoption files\n",
    "bucket.objects.filter(Prefix=\"fcsq_processing/Adoption/adopt_disposals5_adoption/\").delete()"
   ]
  },
  {
   "cell_type": "markdown",
   "metadata": {},
   "source": [
    "### Create the adopt_disposals5_adoption table in Athena"
   ]
  },
  {
   "cell_type": "code",
   "execution_count": null,
   "metadata": {},
   "outputs": [],
   "source": [
    "create_adopt_disposals5_adoption = f\"\"\"\n",
    "CREATE TABLE IF NOT EXISTS fcsq.adopt_disposals5_adoption\n",
    "WITH (format = 'PARQUET', external_location = 's3://alpha-family-data/fcsq_processing/Adoption/adopt_disposals5_adoption') AS\n",
    "SELECT disposals5.case_number, \n",
    "        disposals5.court, \n",
    "        disposals5.year, \n",
    "        disposals5.quarter, \n",
    "        disposals5.receipt_date, \n",
    "        disposals5.event_model, \n",
    "        disposals5.country_of_birth, \n",
    "        disposals5.number_applicants, \n",
    "        disposals5.adopter_type, \n",
    "        disposals5.adopter, \n",
    "\n",
    "        CASE WHEN child_sex=1 THEN'M'\n",
    "              WHEN child_sex=2 THEN'F'\n",
    "              ELSE 'U'\n",
    "              END AS ch_sex, \n",
    "\n",
    "        disposals5.age_band, \n",
    "        disposals5.adoption, \n",
    "        disposals5.child_sex, \n",
    "        disposals5.type, \n",
    "        disposals5.adopter_2 \n",
    "\n",
    "FROM fcsq.adopt_disposals5 disposals5\n",
    "WHERE disposals5.adoption='Adoption';\n",
    "\"\"\"\n",
    "\n",
    "pydb.read_sql_query(create_adopt_disposals5_adoption)\n",
    "\n"
   ]
  },
  {
   "cell_type": "markdown",
   "metadata": {},
   "source": [
    "#### adopt_disposals5_adoption validation"
   ]
  },
  {
   "cell_type": "code",
   "execution_count": null,
   "metadata": {},
   "outputs": [],
   "source": [
    "adopt_disposals5_adoption_count = pydb.read_sql_query(\"select count(*) as count from fcsq.adopt_disposals5_adoption\")\n",
    "adopt_disposals5_adoption_count"
   ]
  },
  {
   "cell_type": "markdown",
   "metadata": {},
   "source": [
    "## adopt_disposals5_non_adoption table"
   ]
  },
  {
   "cell_type": "markdown",
   "metadata": {},
   "source": [
    "### Drop the adopt_disposals5_non_adoption table if it already exists and remove its data from the S3 bucket"
   ]
  },
  {
   "cell_type": "code",
   "execution_count": null,
   "metadata": {},
   "outputs": [],
   "source": [
    "drop_adopt_disposals5_non_adoption = f\"\"\"\n",
    "DROP TABLE IF EXISTS fcsq.adopt_disposals5_non_adoption;\n",
    "\"\"\"\n",
    "pydb.read_sql_query(drop_adopt_disposals5_non_adoption)\n",
    "\n",
    "# clean up previous adopt_disposals5_non_adoption files\n",
    "bucket.objects.filter(Prefix=\"fcsq_processing/Adoption/adopt_disposals5_non_adoption/\").delete()"
   ]
  },
  {
   "cell_type": "markdown",
   "metadata": {},
   "source": [
    "### Create the adopt_disposals5_non_adoption table in Athena"
   ]
  },
  {
   "cell_type": "code",
   "execution_count": null,
   "metadata": {},
   "outputs": [],
   "source": [
    "create_adopt_disposals5_non_adoption = f\"\"\"\n",
    "CREATE TABLE IF NOT EXISTS fcsq.adopt_disposals5_non_adoption\n",
    "WITH (format = 'PARQUET', external_location = 's3://alpha-family-data/fcsq_processing/Adoption/adopt_disposals5_non_adoption') AS\n",
    "SELECT disposals5.case_number, \n",
    "        disposals5.court, \n",
    "        disposals5.year, \n",
    "        disposals5.quarter, \n",
    "        disposals5.receipt_date,\n",
    "        disposals5.event_model, \n",
    "        disposals5.order_type, \n",
    "        disposals5.adoption, \n",
    "        disposals5.type, \n",
    "        disposals5.adopter_2,\n",
    "\n",
    "        CASE WHEN type='Placement' THEN type\n",
    "              ELSE 'Other Order'\n",
    "              END  placement\n",
    "\n",
    "FROM fcsq.adopt_disposals5 disposals5\n",
    "WHERE (disposals5.event_model<>'A81') \n",
    "  AND (disposals5.adoption='Non-adoption');\n",
    "\"\"\"\n",
    "\n",
    "pydb.read_sql_query(create_adopt_disposals5_non_adoption)\n",
    "\n"
   ]
  },
  {
   "cell_type": "markdown",
   "metadata": {},
   "source": [
    "#### adopt_disposals5_non_adoption validation"
   ]
  },
  {
   "cell_type": "code",
   "execution_count": null,
   "metadata": {},
   "outputs": [],
   "source": [
    "adopt_disposals5_non_adoption_count = pydb.read_sql_query(\"select count(*) as count from fcsq.adopt_disposals5_non_adoption\")\n",
    "adopt_disposals5_non_adoption_count"
   ]
  },
  {
   "cell_type": "markdown",
   "metadata": {},
   "source": [
    "## adopt_disposals5_non_orders table"
   ]
  },
  {
   "cell_type": "markdown",
   "metadata": {},
   "source": [
    "### Drop the adopt_disposals5_non_orders table if it already exists and remove its data from the S3 bucket"
   ]
  },
  {
   "cell_type": "code",
   "execution_count": null,
   "metadata": {},
   "outputs": [],
   "source": [
    "drop_adopt_disposals5_non_orders = f\"\"\"\n",
    "DROP TABLE IF EXISTS fcsq.adopt_disposals5_non_orders;\n",
    "\"\"\"\n",
    "pydb.read_sql_query(drop_adopt_disposals5_non_orders)\n",
    "\n",
    "# clean up previous adopt_disposals5_non_orders files\n",
    "bucket.objects.filter(Prefix=\"fcsq_processing/Adoption/adopt_disposals5_non_orders/\").delete()"
   ]
  },
  {
   "cell_type": "markdown",
   "metadata": {},
   "source": [
    "### Create the adopt_disposals5_non_orders table in Athena"
   ]
  },
  {
   "cell_type": "code",
   "execution_count": null,
   "metadata": {},
   "outputs": [],
   "source": [
    "create_adopt_disposals5_non_orders = f\"\"\"\n",
    "CREATE TABLE IF NOT EXISTS fcsq.adopt_disposals5_non_orders\n",
    "WITH (format = 'PARQUET', external_location = 's3://alpha-family-data/fcsq_processing/Adoption/adopt_disposals5_non_orders') AS\n",
    "SELECT disposals5.case_number, \n",
    "        disposals5.court, \n",
    "        disposals5.year, \n",
    "        disposals5.quarter, \n",
    "        disposals5.receipt_date, \n",
    "        disposals5.event_model,\n",
    "        disposals5.adoption, \n",
    "        disposals5.adopter_2 \n",
    "FROM fcsq.adopt_disposals5 disposals5\n",
    "WHERE disposals5.adoption='No order made';\n",
    "\"\"\"\n",
    "\n",
    "pydb.read_sql_query(create_adopt_disposals5_non_orders)\n",
    "\n"
   ]
  },
  {
   "cell_type": "markdown",
   "metadata": {},
   "source": [
    "#### adopt_disposals5_non_orders validation"
   ]
  },
  {
   "cell_type": "code",
   "execution_count": null,
   "metadata": {},
   "outputs": [],
   "source": [
    "adopt_disposals5_non_orders_count = pydb.read_sql_query(\"select count(*) as count from fcsq.adopt_disposals5_non_orders\")\n",
    "adopt_disposals5_non_orders_count"
   ]
  },
  {
   "cell_type": "code",
   "execution_count": null,
   "metadata": {},
   "outputs": [],
   "source": [
    "#Summary 4\n",
    "summary4 = f\"\"\"\n",
    "SELECT year, \n",
    "        quarter, \n",
    "        SUM(CASE WHEN adopter_2 ='Other or not stated' THEN 1 ELSE 0 END) other_or_not_stated,\n",
    "        SUM(CASE WHEN adopter_2 ='Sole applicant' THEN 1 ELSE 0 END) sole_applicant,\n",
    "        SUM(CASE WHEN adopter_2 ='Step parent' THEN 1 ELSE 0 END) step_parent,\n",
    "        SUM(CASE WHEN adopter_2 ='mixed-sex couple' THEN 1 ELSE 0 END) mixed_sex_couple,\n",
    "        SUM(CASE WHEN adopter_2 ='same-sex couple' THEN 1 ELSE 0 END) same_sex_couple,\n",
    "        COUNT(*) adopter_2_total\n",
    "from fcsq.adopt_disposals5_adoption\n",
    "where year > 2010\n",
    "GROUP BY year, \n",
    "          quarter\n",
    "ORDER BY year,\n",
    "          quarter;\n",
    "\"\"\"\n",
    "\n",
    "pydb.read_sql_query(summary4)\n"
   ]
  },
  {
   "cell_type": "code",
   "execution_count": null,
   "metadata": {},
   "outputs": [],
   "source": [
    "summary5 = f\"\"\"\n",
    "SELECT year, \n",
    "        quarter, \n",
    "        COUNT (case_number) AS count_of_case\n",
    "\n",
    "FROM fcsq.adopt_disposals5_adoption\n",
    "GROUP BY year, quarter\n",
    "ORDER BY year, quarter;\n",
    "\"\"\"\n",
    "pydb.read_sql_query(summary5)"
   ]
  },
  {
   "cell_type": "code",
   "execution_count": null,
   "metadata": {},
   "outputs": [],
   "source": [
    "summary6 = f\"\"\"\n",
    "SELECT year, \n",
    "        quarter,\n",
    "        SUM(CASE WHEN ch_sex='F' THEN 1 ELSE 0 END) f,\n",
    "        SUM(CASE WHEN ch_sex='M' THEN 1 ELSE 0 END) m,\n",
    "        SUM(CASE WHEN ch_sex='U' THEN 1 ELSE 0 END) u,\n",
    "        COUNT(*) total\n",
    "from adopt_disposals5_adoption\n",
    "WHERE year > 2010\n",
    "GROUP BY year, quarter\n",
    "ORDER BY year,quarter;\n",
    "\"\"\"\n",
    "pydb.read_sql_query(summary6)"
   ]
  },
  {
   "cell_type": "code",
   "execution_count": null,
   "metadata": {},
   "outputs": [],
   "source": [
    "summary7 = f\"\"\"\n",
    "SELECT year, \n",
    "        quarter,\n",
    "        SUM(CASE WHEN age_band ='<1 year' THEN 1 ELSE 0 END) less_1_year,\n",
    "        SUM(CASE WHEN age_band='1-4 years' THEN 1 ELSE 0 END) years_1_4,\n",
    "        SUM(CASE WHEN age_band ='5-9 years' THEN 1 ELSE 0 END) years_5_9,\n",
    "        SUM(CASE WHEN age_band ='10-14 years' THEN 1 ELSE 0 END) years_10_14,\n",
    "        SUM(CASE WHEN age_band ='15-17 years' THEN 1 ELSE 0 END) year_15_17,\n",
    "        SUM(CASE WHEN age_band = 'Other' THEN 1 ELSE 0 END) other,\n",
    "        SUM(CASE WHEN age_band = 'Unknown' THEN 1 ELSE 0 END) unknown,\n",
    "        COUNT(*) total\n",
    "FROM adopt_disposals5_adoption\n",
    "WHERE year > 2010\n",
    "GROUP BY year, quarter\n",
    "ORDER BY year,quarter;\n",
    "\n",
    "\"\"\"\n",
    "pydb.read_sql_query(summary7)"
   ]
  },
  {
   "cell_type": "code",
   "execution_count": null,
   "metadata": {},
   "outputs": [],
   "source": [
    "summary8 = f\"\"\"\n",
    "SELECT year, \n",
    "        quarter,\n",
    "        SUM(CASE WHEN placement ='Other Order' THEN 1 ELSE 0 END) other_order,\n",
    "        SUM(CASE WHEN placement ='Placement' THEN 1 ELSE 0 END) placement,\n",
    "        COUNT(*) total\n",
    "FROM  adopt_disposals5_non_adoption\n",
    "WHERE year>2010\n",
    "GROUP BY year, quarter\n",
    "ORDER BY year, quarter;\n",
    "\"\"\"\n",
    "pydb.read_sql_query(summary8)"
   ]
  },
  {
   "cell_type": "code",
   "execution_count": null,
   "metadata": {},
   "outputs": [],
   "source": [
    "summary9 = f\"\"\"\n",
    "SELECT year,\n",
    "        quarter, \n",
    "        COUNT(*) total_non_orders\n",
    "FROM adopt_disposals5_non_orders\n",
    "WHERE year>2010\n",
    "GROUP BY year, quarter\n",
    "ORDER BY year, quarter;\n",
    "\n",
    "\"\"\"\n",
    "pydb.read_sql_query(summary9)"
   ]
  },
  {
   "cell_type": "code",
   "execution_count": null,
   "metadata": {},
   "outputs": [],
   "source": [
    "#Summary 10: of disposal case counts\n",
    "\n",
    "\n",
    "create_adopt_disposal_cases = f\"\"\"\n",
    "SELECT disposals5.case_number, \n",
    "        MIN(disposals5.receipt_date) AS minofreceipt_date \n",
    "FROM fcsq.adopt_disposals5 disposals5\n",
    "GROUP BY disposals5.case_number;\n",
    "\"\"\"\n",
    "\n",
    "pydb.create_temp_table(create_adopt_disposal_cases, \"adopt_disposal_cases\")\n",
    "\n",
    "create_adopt_disposal_cases_b = f\"\"\"\n",
    "SELECT disposal_cases.minofreceipt_date,\n",
    "        disposal_cases.case_number,\n",
    "        cast(EXTRACT(YEAR FROM (disposal_cases.minofreceipt_date)) as varchar(3)) ||' - '||\n",
    "\n",
    "        CASE WHEN EXTRACT(MONTH FROM (disposal_cases.minofreceipt_date))<4 THEN '1'\n",
    "              WHEN EXTRACT(MONTH FROM (disposal_cases.minofreceipt_date))<7 THEN '2'\n",
    "              WHEN EXTRACT(MONTH FROM (disposal_cases.minofreceipt_date))<10 THEN '3'\n",
    "              ELSE '4'\n",
    "              END AS quarter\n",
    "\n",
    "FROM __temp__.adopt_disposal_cases disposal_cases;\n",
    "\"\"\"\n",
    "pydb.create_temp_table(create_adopt_disposal_cases_b, \"adopt_disposal_cases_b\")\n",
    "\n",
    "create_adopt_disp_case_count_total =\"\"\"\n",
    "SELECT quarter, \n",
    "        COUNT(case_number) as count_of_case\n",
    "FROM __temp__.adopt_disposal_cases_b\n",
    "GROUP BY  quarter;\n",
    "\n",
    "\"\"\"\n",
    "pydb.read_sql_query(create_adopt_disp_case_count_total)\n"
   ]
  },
  {
   "cell_type": "markdown",
   "metadata": {},
   "source": [
    "## adopt_disposals5_2011 table"
   ]
  },
  {
   "cell_type": "markdown",
   "metadata": {},
   "source": [
    "### Drop the adopt_disposals5_2011 table if it already exists and remove its data from the S3 bucket"
   ]
  },
  {
   "cell_type": "code",
   "execution_count": null,
   "metadata": {},
   "outputs": [],
   "source": [
    "drop_adopt_disposals5_2011 = f\"\"\"\n",
    "DROP TABLE IF EXISTS fcsq.adopt_disposals5_2011;\n",
    "\"\"\"\n",
    "pydb.read_sql_query(drop_adopt_disposals5_2011)\n",
    "\n",
    "# clean up previous adopt_disposals5_2011 files\n",
    "bucket.objects.filter(Prefix=\"fcsq_processing/Adoption/adopt_disposals5_2011/\").delete()"
   ]
  },
  {
   "cell_type": "markdown",
   "metadata": {},
   "source": [
    "### Create the adopt_disposals5_2011 table in Athena"
   ]
  },
  {
   "cell_type": "code",
   "execution_count": null,
   "metadata": {},
   "outputs": [],
   "source": [
    "create_adopt_disposals5_2011 = f\"\"\"\n",
    "CREATE TABLE IF NOT EXISTS fcsq.adopt_disposals5_2011\n",
    "WITH (format = 'PARQUET', external_location = 's3://alpha-family-data/fcsq_processing/Adoption/adopt_disposals5_2011') AS\n",
    "SELECT t1.*\n",
    "FROM fcsq.adopt_Disposals5 t1\n",
    "WHERE year >2010;\n",
    "\"\"\"\n",
    "\n",
    "pydb.read_sql_query(create_adopt_disposals5_2011)\n",
    "\n"
   ]
  },
  {
   "cell_type": "markdown",
   "metadata": {},
   "source": [
    "#### adopt_disposals5_2011 validation"
   ]
  },
  {
   "cell_type": "code",
   "execution_count": null,
   "metadata": {},
   "outputs": [],
   "source": [
    "adopt_disposals5_2011_count = pydb.read_sql_query(\"select count(*) as count from fcsq.adopt_disposals5_2011\")\n",
    "adopt_disposals5_2011_count"
   ]
  },
  {
   "cell_type": "code",
   "execution_count": null,
   "metadata": {},
   "outputs": [],
   "source": [
    "\"\"\"\n",
    "/* The next couple of queries are here to find the court level data for the \n",
    "court level/DFJ file. We do not use the below for FCSQ anymore - table names will be wrong*/\n",
    "\n",
    "/*Query 18\n",
    "Firstly the disposals court level file*/\n",
    "\n",
    "/*\n",
    "\n",
    "select year, \n",
    "        quarter, \n",
    "        court, \n",
    "        count(*) court_Total\n",
    "from Adoptions_Disposals5_adoption\n",
    "where year>2010\n",
    "group by year, quarter, court\n",
    "order by year, quarter, court;\n",
    " \t\n",
    "/*Secondly the applications case level court level file*/\n",
    "\n",
    "/*\n",
    "drop table adopt_Disposal_case_count_A; \n",
    "Create table adopt_Disposal_case_count_A AS\n",
    "\n",
    "SELECT t1.CASE_NUMBER, \n",
    "        Min(t1.Receipt_date) AS MinOfReceipt_date,\n",
    "        t1.Court \n",
    "FROM adopt_Disposals5 t1 \n",
    "GROUP BY t1.CASE_NUMBER, t1.Court;\n",
    "\n",
    "drop table adopt_Disposal_case_count_B;\n",
    "Create table adopt_Disposal_case_count_B AS\n",
    "\n",
    "SELECT CASE_NUMBER, \n",
    "        extract (Year from (MinOfReceipt_date)) AS YEAR,\n",
    "\n",
    "        CASE WHEN extract(Month from(MinOfReceipt_date))<4 THEN 1\n",
    "              WHEN extract(Month from(MinOfReceipt_date))<7 THEN 2\n",
    "              WHEN extract(Month from(MinOfReceipt_date))<10 THEN 3\n",
    "              ELSE 4\n",
    "              END AS Quarter,\n",
    "        \n",
    "        MinOfReceipt_date,\n",
    "        Court \n",
    "        \n",
    "FROM adopt_Disposal_case_count_A;\n",
    "\"\"\""
   ]
  },
  {
   "cell_type": "markdown",
   "metadata": {},
   "source": [
    "# Stage 4 - Now to update the country of birth lookup"
   ]
  },
  {
   "cell_type": "code",
   "execution_count": null,
   "metadata": {},
   "outputs": [],
   "source": [
    "#Create parquet file to add into athena for birth_country_lookup table\n",
    "data = pd.read_csv('s3://alpha-family-data/fcsq_processing/Adoption/birth_country_lookup_csv/Adopt_birth_country_lookup.csv')\n",
    "import os\n",
    "os.environ['AWS_DEFAULT_REGION'] = 'eu-west-2'\n",
    "import awswrangler as wr\n",
    "wr.s3.to_parquet(  # Storing the data and metadata to Data Lake\n",
    "    df=data,\n",
    "    path=\"s3://alpha-family-data/fcsq_processing/Adoption/birth_country_lookup_csv/birth_country_lookup_parquet/\",\n",
    "    dataset=True, database = \"default\", table = \"birth_country_lookup\"\n",
    ")\n",
    "\n"
   ]
  },
  {
   "cell_type": "code",
   "execution_count": null,
   "metadata": {},
   "outputs": [],
   "source": [
    "#Create parquet file to add into athena for event_model_desc table\n",
    "data = pd.read_csv('s3://alpha-family-data/fcsq_processing/Adoption/event_model_desc_csv/Event_model_desc.csv')\n",
    "import os\n",
    "os.environ['AWS_DEFAULT_REGION'] = 'eu-west-2'\n",
    "import awswrangler as wr\n",
    "wr.s3.to_parquet(  # Storing the data and metadata to Data Lake\n",
    "    df=data,\n",
    "    path=\"s3://alpha-family-data/fcsq_processing/Adoption/event_model_desc_csv/Event_model_desc_parquet/\",\n",
    "    dataset=True, database = \"default\", table = \"adoption_event_model_desc\"\n",
    ")\n"
   ]
  },
  {
   "cell_type": "markdown",
   "metadata": {},
   "source": [
    "## adopt_birth_country_unknown table"
   ]
  },
  {
   "cell_type": "markdown",
   "metadata": {},
   "source": [
    "### Create the adopt_birth_country_unknown temp table"
   ]
  },
  {
   "cell_type": "code",
   "execution_count": null,
   "metadata": {},
   "outputs": [],
   "source": [
    "create_adopt_birth_country_unknown = f\"\"\"\n",
    "SELECT DISTINCT\n",
    "        a.country_of_birth,\n",
    "        b.nationality\n",
    "FROM fcsq.adopt_disposals5_2011 a\n",
    "\n",
    "LEFT JOIN fcsq.adopt_birth_country_lookup b\n",
    "  ON a.country_of_birth = b.country_of_birth\n",
    "  \n",
    "WHERE a.country_of_birth IS NOT NULL\n",
    "  AND b.nationality IS NULL;\n",
    "\"\"\"\n",
    "\n",
    "pydb.create_temp_table(create_adopt_birth_country_unknown,\"adopt_birth_country_unknown\")\n",
    "\n"
   ]
  },
  {
   "cell_type": "markdown",
   "metadata": {},
   "source": [
    "#### adopt_birth_country_unknown validation"
   ]
  },
  {
   "cell_type": "code",
   "execution_count": null,
   "metadata": {},
   "outputs": [],
   "source": [
    "adopt_birth_country_unknown_count = pydb.read_sql_query(\"select count(*) as count from __temp__.adopt_birth_country_unknown\")\n",
    "adopt_birth_country_unknown_count"
   ]
  },
  {
   "cell_type": "markdown",
   "metadata": {},
   "source": [
    "## adopt_birth_country_added table"
   ]
  },
  {
   "cell_type": "markdown",
   "metadata": {},
   "source": [
    "### Create the adopt_birth_country_added temp table"
   ]
  },
  {
   "cell_type": "code",
   "execution_count": null,
   "metadata": {},
   "outputs": [],
   "source": [
    "create_adopt_birth_country_added = f\"\"\"\n",
    "SELECT country_of_birth,\n",
    "        CASE WHEN country_of_birth IN ('lithunia', 'republic of the philipines', 'united states of america (the city of new york)', 'morroco', 'saint lucia') /*update countries listed according to list in 'adopt_birth_country_unknown'*/\n",
    "                THEN 2 /* For foreign countries only */\n",
    "              /*WHEN country_of_birth in ('...')\n",
    "                THEN 1*/ /*UK countries only - add to when necessary*/\n",
    "              END AS nationality\n",
    "\n",
    "FROM __temp__.adopt_birth_country_unknown;\n",
    "\"\"\"\n",
    "\n",
    "pydb.create_temp_table(create_adopt_birth_country_added,'adopt_birth_country_added')\n",
    "\n"
   ]
  },
  {
   "cell_type": "markdown",
   "metadata": {},
   "source": [
    "#### adopt_birth_country_added validation"
   ]
  },
  {
   "cell_type": "code",
   "execution_count": null,
   "metadata": {},
   "outputs": [],
   "source": [
    "adopt_birth_country_added_count = pydb.read_sql_query(\"select count(*) as count from __temp__.adopt_birth_country_added\")\n",
    "adopt_birth_country_added_count"
   ]
  },
  {
   "cell_type": "markdown",
   "metadata": {},
   "source": [
    "## adopt_country_lookup_update table"
   ]
  },
  {
   "cell_type": "markdown",
   "metadata": {},
   "source": [
    "### Create the adopt_country_lookup_update temp table"
   ]
  },
  {
   "cell_type": "code",
   "execution_count": null,
   "metadata": {},
   "outputs": [],
   "source": [
    "create_adopt_country_lookup_update = f\"\"\"\n",
    "SELECT country_of_birth, nationality      /* To account for the columns being in a different order from the '_added' table */\n",
    "FROM fcsq.adopt_birth_country_lookup\n",
    "\n",
    "UNION\n",
    "SELECT *\n",
    "FROM __temp__.adopt_birth_country_added\n",
    "\n",
    "ORDER BY country_of_birth;\n",
    "\n",
    "\"\"\"\n",
    "\n",
    "pydb.create_temp_table(create_adopt_country_lookup_update,'adopt_country_lookup_update')\n",
    "\n"
   ]
  },
  {
   "cell_type": "markdown",
   "metadata": {},
   "source": [
    "#### adopt_country_lookup_update validation"
   ]
  },
  {
   "cell_type": "code",
   "execution_count": null,
   "metadata": {},
   "outputs": [],
   "source": [
    "adopt_country_lookup_update_count = pydb.read_sql_query(\"select count(*) as count from __temp__.adopt_country_lookup_update\")\n",
    "adopt_country_lookup_update_count"
   ]
  },
  {
   "cell_type": "markdown",
   "metadata": {},
   "source": [
    "## adopt_birth_country_lookup table"
   ]
  },
  {
   "cell_type": "markdown",
   "metadata": {},
   "source": [
    "### Drop the adopt_birth_country_lookup table if it already exists and remove its data from the S3 bucket"
   ]
  },
  {
   "cell_type": "code",
   "execution_count": null,
   "metadata": {},
   "outputs": [],
   "source": [
    "drop_adopt_birth_country_lookup = f\"\"\"\n",
    "DROP TABLE IF EXISTS fcsq.adopt_birth_country_lookup;\n",
    "\"\"\"\n",
    "pydb.read_sql_query(drop_adopt_birth_country_lookup)\n",
    "\n",
    "# clean up previous adopt_birth_country_lookup files\n",
    "bucket.objects.filter(Prefix=\"fcsq_processing/Adoption/adopt_birth_country_lookup/\").delete()"
   ]
  },
  {
   "cell_type": "markdown",
   "metadata": {},
   "source": [
    "### Update the adopt_birth_country_lookup table in Athena"
   ]
  },
  {
   "cell_type": "code",
   "execution_count": null,
   "metadata": {},
   "outputs": [],
   "source": [
    "create_adopt_birth_country_lookup = f\"\"\"\n",
    "CREATE TABLE IF NOT EXISTS fcsq.adopt_birth_country_lookup\n",
    "WITH (format = 'PARQUET', external_location = 's3://alpha-family-data/fcsq_processing/Adoption/adopt_birth_country_lookup') AS\n",
    "SELECT *\n",
    "FROM __temp__.adopt_country_lookup_update;\n",
    "\"\"\"\n",
    "\n",
    "pydb.read_sql_query(create_adopt_birth_country_lookup)\n",
    "\n"
   ]
  },
  {
   "cell_type": "markdown",
   "metadata": {},
   "source": [
    "#### adopt_birth_country_lookup validation"
   ]
  },
  {
   "cell_type": "code",
   "execution_count": null,
   "metadata": {},
   "outputs": [],
   "source": [
    "adopt_birth_country_lookup_count = pydb.read_sql_query(\"select count(*) as count from fcsq.adopt_birth_country_lookup\")\n",
    "adopt_birth_country_lookup_count"
   ]
  },
  {
   "cell_type": "markdown",
   "metadata": {},
   "source": [
    "# Stage 5 - Now to prepare the final output"
   ]
  },
  {
   "cell_type": "markdown",
   "metadata": {},
   "source": [
    "## adopt_adoptions_only_standard table"
   ]
  },
  {
   "cell_type": "markdown",
   "metadata": {},
   "source": [
    "### Create the adopt_adoptions_only_standard temp table"
   ]
  },
  {
   "cell_type": "code",
   "execution_count": null,
   "metadata": {},
   "outputs": [],
   "source": [
    "create_adopt_adoptions_only_standard = f\"\"\"\n",
    "SELECT type,\n",
    "        year,\n",
    "        quarter,\n",
    "        application,\n",
    "        order_type,\n",
    "        adopter_3,\n",
    "        COUNT(*) AS count\n",
    "FROM(\n",
    "\n",
    "SELECT\n",
    "  'Application' as type,\n",
    "  year,\n",
    "  quarter,\n",
    "  adoption_cases AS application, /*see where clause below*/\n",
    "  'Standard' AS order_type,\n",
    "  CASE WHEN adopter_2 IN ('','Other')\n",
    "         THEN 'Other or not stated'\n",
    "\t   WHEN adopter_2 = 'mixed-sex couple'\t\n",
    "         THEN 'M/F couple'\n",
    "       WHEN adopter_2 = 'same-sex couple'\n",
    "         THEN 'Same sex couple'\n",
    "\t ELSE adopter_2\n",
    "    END AS adopter_3\n",
    "FROM\n",
    "  fcsq.adopt_apps_6_adoptions_only\n",
    "WHERE\n",
    "  standard = 1 /*and adoption_cases = 'Adoption'*//*Adopt+other and foreign use adoption, standard and convention use adoption cases (copied from excel process*/\n",
    ")\n",
    "\n",
    "GROUP BY\n",
    "  type,\n",
    "  year,\n",
    "  quarter,\n",
    "  application,\n",
    "  order_type,\n",
    "  adopter_3;\n",
    "\"\"\"\n",
    "\n",
    "pydb.create_temp_table(create_adopt_adoptions_only_standard,\"adopt_adoptions_only_standard\")\n",
    "\n"
   ]
  },
  {
   "cell_type": "markdown",
   "metadata": {},
   "source": [
    "#### adopt_adoptions_only_standard validation"
   ]
  },
  {
   "cell_type": "code",
   "execution_count": null,
   "metadata": {},
   "outputs": [],
   "source": [
    "adopt_adoptions_only_standard_count = pydb.read_sql_query(\"select count(*) as count from __temp__.adopt_adoptions_only_standard\")\n",
    "adopt_adoptions_only_standard_count"
   ]
  },
  {
   "cell_type": "markdown",
   "metadata": {},
   "source": [
    "## adopt_adoption_only_convention table"
   ]
  },
  {
   "cell_type": "markdown",
   "metadata": {},
   "source": [
    "### Create the adopt_adoption_only_convention temp table"
   ]
  },
  {
   "cell_type": "code",
   "execution_count": null,
   "metadata": {},
   "outputs": [],
   "source": [
    "create_adopt_adoption_only_convention = f\"\"\"\n",
    "SELECT type,\n",
    "        year,\n",
    "        quarter,\n",
    "        application,\n",
    "        order_type,\n",
    "        adopter_3,\n",
    "        COUNT(*) AS count\n",
    "FROM(\n",
    "  \n",
    "SELECT\n",
    "  'Application' as type,\n",
    "  year,\n",
    "  quarter,\n",
    "  adoption_cases AS application, /*see where clause below*/\n",
    "  'Convention' AS order_type,\n",
    "  CASE WHEN adopter_2 IN ('','Other')\n",
    "         THEN 'Other or not stated'\n",
    "\t   WHEN adopter_2 = 'mixed-sex couple'\t\n",
    "         THEN 'M/F couple'\n",
    "       WHEN adopter_2 = 'same-sex couple'\n",
    "         THEN 'Same sex couple'\n",
    "\t ELSE adopter_2\n",
    "    END AS adopter_3\n",
    "FROM\n",
    "  fcsq.adopt_apps_6_adoptions_only\n",
    "WHERE\n",
    "  convention = 1 /*and adoption_cases = 'Adoption'*//*Adopt+other and foreign use adoption, standard and convention use adoption cases (copied from excel process*/\n",
    ")\n",
    "\n",
    "GROUP BY\n",
    "  type,\n",
    "  year,\n",
    "  quarter,\n",
    "  application,\n",
    "  order_type,\n",
    "  adopter_3;\n",
    "\"\"\"\n",
    "\n",
    "pydb.create_temp_table(create_adopt_adoption_only_convention,'adopt_adoption_only_convention')\n",
    "\n"
   ]
  },
  {
   "cell_type": "markdown",
   "metadata": {},
   "source": [
    "#### adopt_adoption_only_convention validation"
   ]
  },
  {
   "cell_type": "code",
   "execution_count": null,
   "metadata": {},
   "outputs": [],
   "source": [
    "adopt_adoption_only_convention_count = pydb.read_sql_query(\"select count(*) as count from __temp__.adopt_adoption_only_convention\")\n",
    "adopt_adoption_only_convention_count"
   ]
  },
  {
   "cell_type": "markdown",
   "metadata": {},
   "source": [
    "## adopt_adoptions_only_foreign table"
   ]
  },
  {
   "cell_type": "markdown",
   "metadata": {},
   "source": [
    "### Create the adopt_adoptions_only_foreign temp table"
   ]
  },
  {
   "cell_type": "code",
   "execution_count": null,
   "metadata": {},
   "outputs": [],
   "source": [
    "create_adopt_adoptions_only_foreign = f\"\"\"\n",
    "SELECT type,\n",
    "        year,\n",
    "        quarter,\n",
    "        application,\n",
    "        order_type,\n",
    "        adopter_3,\n",
    "        COUNT(*) AS count\n",
    "FROM(  \n",
    "  \n",
    "SELECT\n",
    "  'Application' as type,\n",
    "  year,\n",
    "  quarter,\n",
    "  adoption AS application, /*see where clause below*/\n",
    "  'Foreign' AS order_type,\n",
    "  CASE WHEN adopter_2 IN ('','Other')\n",
    "         THEN 'Other or not stated'\n",
    "\t   WHEN adopter_2 = 'mixed-sex couple'\t\n",
    "         THEN 'M/F couple'\n",
    "       WHEN adopter_2 = 'same-sex couple'\n",
    "         THEN 'Same sex couple'\n",
    "\t ELSE adopter_2\n",
    "    END AS adopter_3\n",
    "FROM\n",
    "  fcsq.adopt_apps_6_adoptions_only\n",
    "WHERE\n",
    "  foreign = 1 and adoption = 'Adoption'/*Adopt+other and foreign use adoption, standard and convention use adoption cases (copied from excel process*/\n",
    ")  \n",
    "  \n",
    "GROUP BY\n",
    "  type,\n",
    "  year,\n",
    "  quarter,\n",
    "  application,\n",
    "  order_type,\n",
    "  adopter_3;\n",
    "\"\"\"\n",
    "\n",
    "pydb.create_temp_table(create_adopt_adoptions_only_foreign,'adopt_adoptions_only_foreign')\n",
    "\n"
   ]
  },
  {
   "cell_type": "markdown",
   "metadata": {},
   "source": [
    "#### adopt_adoptions_only_foreign validation"
   ]
  },
  {
   "cell_type": "code",
   "execution_count": null,
   "metadata": {},
   "outputs": [],
   "source": [
    "adopt_adoptions_only_foreign_count = pydb.read_sql_query(\"select count(*) as count from __temp__.adopt_adoptions_only_foreign\")\n",
    "adopt_adoptions_only_foreign_count"
   ]
  },
  {
   "cell_type": "markdown",
   "metadata": {},
   "source": [
    "## adopt_adoptions_other_only table"
   ]
  },
  {
   "cell_type": "markdown",
   "metadata": {},
   "source": [
    "### Create the adopt_adoptions_other_only temp table"
   ]
  },
  {
   "cell_type": "code",
   "execution_count": null,
   "metadata": {},
   "outputs": [],
   "source": [
    "create_adopt_adoptions_other_only = f\"\"\"\n",
    "SELECT type,\n",
    "        year,\n",
    "        quarter,\n",
    "        application,\n",
    "        order_type,\n",
    "        adopter_3,\n",
    "        COUNT(*) AS COUNT\n",
    "FROM(  \n",
    "  \n",
    "SELECT\n",
    "  'Application' as type,\n",
    "  year,\n",
    "  quarter,\n",
    "  adoption AS application, /*see where clause below*/\n",
    "  'Foreign' AS order_type,\n",
    "  CASE WHEN adopter_2 IN ('','Other')\n",
    "         THEN 'Other or not stated'\n",
    "\t   WHEN adopter_2 = 'mixed-sex couple'\t\n",
    "         THEN 'M/F couple'\n",
    "       WHEN adopter_2 = 'same-sex couple'\n",
    "         THEN 'Same sex couple'\n",
    "\t ELSE adopter_2\n",
    "    END AS adopter_3\n",
    "FROM\n",
    "  fcsq.adopt_apps_6_adoptions_only\n",
    "WHERE\n",
    "  foreign = 1 AND adoption = 'Adoption+other'/*Adopt+other and foreign use adoption, standard and convention use adoption cases (copied from excel process*/\n",
    ")\n",
    "\n",
    "GROUP BY\n",
    "        type,\n",
    "        year,\n",
    "        quarter,\n",
    "        application,\n",
    "        order_type,\n",
    "        adopter_3;\n",
    "\"\"\"\n",
    "\n",
    "pydb.create_temp_table(create_adopt_adoptions_other_only,'adopt_adoptions_other_only')\n",
    "\n"
   ]
  },
  {
   "cell_type": "markdown",
   "metadata": {},
   "source": [
    "#### adopt_adoptions_other_only validation"
   ]
  },
  {
   "cell_type": "code",
   "execution_count": null,
   "metadata": {},
   "outputs": [],
   "source": [
    "adopt_adoptions_other_only_count = pydb.read_sql_query(\"select count(*) as count from __temp__.adopt_adoptions_other_only\")\n",
    "adopt_adoptions_other_only_count"
   ]
  },
  {
   "cell_type": "markdown",
   "metadata": {},
   "source": [
    "## adopt_adoption_only table"
   ]
  },
  {
   "cell_type": "markdown",
   "metadata": {},
   "source": [
    "### Create the adopt_adoption_only temp table"
   ]
  },
  {
   "cell_type": "code",
   "execution_count": null,
   "metadata": {},
   "outputs": [],
   "source": [
    "create_adopt_adoption_only = f\"\"\"\n",
    "SELECT\n",
    "  *\n",
    "FROM\n",
    "  __temp__.adopt_adoptions_only_standard\n",
    "UNION ALL \n",
    "SELECT\n",
    "  *\n",
    "FROM\n",
    "  __temp__.adopt_adoption_only_convention\n",
    "UNION ALL \n",
    "SELECT\n",
    "  *\n",
    "FROM\n",
    "  __temp__.adopt_adoptions_only_foreign\n",
    "UNION ALL \n",
    "SELECT\n",
    "  *\n",
    "FROM\n",
    "  __temp__.adopt_adoptions_other_only;\n",
    "\"\"\"\n",
    "\n",
    "pydb.create_temp_table(create_adopt_adoption_only,'adopt_adoption_only')\n",
    "\n"
   ]
  },
  {
   "cell_type": "markdown",
   "metadata": {},
   "source": [
    "#### adopt_adoption_only validation"
   ]
  },
  {
   "cell_type": "code",
   "execution_count": null,
   "metadata": {},
   "outputs": [],
   "source": [
    "adopt_adoption_only_count = pydb.read_sql_query(\"select count(*) as count from __temp__.adopt_adoption_only\")\n",
    "adopt_adoption_only_count"
   ]
  },
  {
   "cell_type": "markdown",
   "metadata": {},
   "source": [
    "## adopt_adoption_placement table"
   ]
  },
  {
   "cell_type": "markdown",
   "metadata": {},
   "source": [
    "### Create the adopt_adoption_placement temp table"
   ]
  },
  {
   "cell_type": "code",
   "execution_count": null,
   "metadata": {},
   "outputs": [],
   "source": [
    "create_adopt_adoption_placement = f\"\"\"\n",
    "SELECT\n",
    "  'Application' AS type,\n",
    "  year,\n",
    "  quarter,\n",
    "  'Non-adoption' as application,\n",
    "  'Placement' AS order_type,\n",
    "  'n/a' AS adopter,\n",
    "   placement AS count\n",
    "FROM\n",
    " fcsq.adopt_apps_6_non_adoptions\n",
    "WHERE\n",
    "  placement > 0;\n",
    "\n",
    "\"\"\"\n",
    "\n",
    "pydb.create_temp_table(create_adopt_adoption_placement,'adopt_adoption_placement')\n",
    "\n"
   ]
  },
  {
   "cell_type": "markdown",
   "metadata": {},
   "source": [
    "#### adopt_adoption_placement validation"
   ]
  },
  {
   "cell_type": "code",
   "execution_count": null,
   "metadata": {},
   "outputs": [],
   "source": [
    "adopt_adoption_placement_count = pydb.read_sql_query(\"select count(*) as count from __temp__.adopt_adoption_placement\")\n",
    "adopt_adoption_placement_count"
   ]
  },
  {
   "cell_type": "markdown",
   "metadata": {},
   "source": [
    "## adopt_placement_revoke_or_vary table"
   ]
  },
  {
   "cell_type": "markdown",
   "metadata": {},
   "source": [
    "### Create the adopt_placement_revoke_or_vary temp table"
   ]
  },
  {
   "cell_type": "code",
   "execution_count": null,
   "metadata": {},
   "outputs": [],
   "source": [
    "create_adopt_placement_revoke_or_vary = f\"\"\"\n",
    "SELECT\n",
    "  'Application' AS type,\n",
    "  year,\n",
    "  quarter,\n",
    "  'Non-adoption' as application,\n",
    "  'Placement_revoke_or_vary' AS order_type,\n",
    "  'n/a' AS adopter,\n",
    "  placement_revoke_or_vary AS count\n",
    "FROM\n",
    "  fcsq.adopt_apps_6_non_adoptions\n",
    "WHERE\n",
    "  placement_revoke_or_vary > 0;\n",
    "\"\"\"\n",
    "\n",
    "pydb.create_temp_table(create_adopt_placement_revoke_or_vary,'adopt_placement_revoke_or_vary')\n",
    "\n"
   ]
  },
  {
   "cell_type": "markdown",
   "metadata": {},
   "source": [
    "#### adopt_placement_revoke_or_vary validation"
   ]
  },
  {
   "cell_type": "code",
   "execution_count": null,
   "metadata": {},
   "outputs": [],
   "source": [
    "adopt_placement_revoke_or_vary_count = pydb.read_sql_query(\"select count(*) as count from __temp__.adopt_placement_revoke_or_vary\")\n",
    "adopt_placement_revoke_or_vary_count"
   ]
  },
  {
   "cell_type": "markdown",
   "metadata": {},
   "source": [
    "## adopt_adoption_contact_s26 table"
   ]
  },
  {
   "cell_type": "markdown",
   "metadata": {},
   "source": [
    "### Create the adopt_adoption_contact_s26 temp table"
   ]
  },
  {
   "cell_type": "code",
   "execution_count": null,
   "metadata": {},
   "outputs": [],
   "source": [
    "create_adopt_adoption_contact_s26 = f\"\"\"\n",
    "SELECT\n",
    "  'Application' AS type,\n",
    "  year,\n",
    "  quarter,\n",
    "  'Non-adoption' as application,\n",
    "  'Contact_s26' AS order_type,\n",
    "  'n/a' AS adopter,\n",
    "  contact_s26 AS count\n",
    "FROM\n",
    "  fcsq.adopt_apps_6_non_adoptions\n",
    "WHERE\n",
    "  contact_s26 > 0;\n",
    "\"\"\"\n",
    "\n",
    "pydb.create_temp_table(create_adopt_adoption_contact_s26,'adopt_adoption_contact_s26')\n",
    "\n"
   ]
  },
  {
   "cell_type": "markdown",
   "metadata": {},
   "source": [
    "#### adopt_adoption_contact_s26 validation"
   ]
  },
  {
   "cell_type": "code",
   "execution_count": null,
   "metadata": {},
   "outputs": [],
   "source": [
    "adopt_adoption_contact_s26_count = pydb.read_sql_query(\"select count(*) as count from __temp__.adopt_adoption_contact_s26\")\n",
    "adopt_adoption_contact_s26_count"
   ]
  },
  {
   "cell_type": "markdown",
   "metadata": {},
   "source": [
    "## adopt_contact_s26_revoke_vary table"
   ]
  },
  {
   "cell_type": "markdown",
   "metadata": {},
   "source": [
    "### Create the adopt_contact_s26_revoke_vary temp table"
   ]
  },
  {
   "cell_type": "code",
   "execution_count": null,
   "metadata": {},
   "outputs": [],
   "source": [
    "create_adopt_contact_s26_revoke_vary = f\"\"\"\n",
    "SELECT\n",
    "  'Application' AS type,\n",
    "  year,\n",
    "  quarter,\n",
    "  'Non-adoption' as application,\n",
    "  'Contact_s26_revoke_or_vary' AS order_type,\n",
    "  'n/a' AS adopter,\n",
    "  contact_s26_revoke_or_vary AS count\n",
    "FROM\n",
    "  fcsq.adopt_apps_6_non_adoptions\n",
    "WHERE\n",
    "  contact_s26_revoke_or_vary > 0;\n",
    "\"\"\"\n",
    "\n",
    "pydb.create_temp_table(create_adopt_contact_s26_revoke_vary,'adopt_contact_s26_revoke_vary')\n",
    "\n"
   ]
  },
  {
   "cell_type": "markdown",
   "metadata": {},
   "source": [
    "#### adopt_contact_s26_revoke_vary validation"
   ]
  },
  {
   "cell_type": "code",
   "execution_count": null,
   "metadata": {},
   "outputs": [],
   "source": [
    "adopt_contact_s26_revoke_vary_count = pydb.read_sql_query(\"select count(*) as count from __temp__.adopt_contact_s26_revoke_vary\")\n",
    "adopt_contact_s26_revoke_vary_count"
   ]
  },
  {
   "cell_type": "markdown",
   "metadata": {},
   "source": [
    "## adopt_change_surname table"
   ]
  },
  {
   "cell_type": "markdown",
   "metadata": {},
   "source": [
    "### Create the adopt_change_surname temp table"
   ]
  },
  {
   "cell_type": "code",
   "execution_count": null,
   "metadata": {},
   "outputs": [],
   "source": [
    "create_adopt_change_surname = f\"\"\"\n",
    "SELECT\n",
    "  'Application' AS type,\n",
    "  year,\n",
    "  quarter,\n",
    "  'Non-adoption' as application,\n",
    "  'Change_surname' AS order_type,\n",
    "  'n/a' AS adopter,\n",
    "  change_surname AS count\n",
    "FROM\n",
    "  fcsq.adopt_apps_6_non_adoptions\n",
    "WHERE\n",
    "  change_surname > 0;\n",
    "\"\"\"\n",
    "\n",
    "pydb.create_temp_table(create_adopt_change_surname,'adopt_change_surname')\n",
    "\n"
   ]
  },
  {
   "cell_type": "markdown",
   "metadata": {},
   "source": [
    "#### adopt_change_surname validation"
   ]
  },
  {
   "cell_type": "code",
   "execution_count": null,
   "metadata": {},
   "outputs": [],
   "source": [
    "adopt_change_surname_count = pydb.read_sql_query(\"select count(*) as count from __temp__.adopt_change_surname\")\n",
    "adopt_change_surname_count"
   ]
  },
  {
   "cell_type": "markdown",
   "metadata": {},
   "source": [
    "## adopt_remove_child_from_uk table"
   ]
  },
  {
   "cell_type": "markdown",
   "metadata": {},
   "source": [
    "### Create the adopt_remove_child_from_uk temp table"
   ]
  },
  {
   "cell_type": "code",
   "execution_count": null,
   "metadata": {},
   "outputs": [],
   "source": [
    "create_adopt_remove_child_from_uk = f\"\"\"\n",
    "SELECT\n",
    "  'Application' AS type,\n",
    "  year,\n",
    "  quarter,\n",
    "  'Non-adoption' as application,\n",
    "  'Remove_child_from_UK' AS order_type,\n",
    "  'n/a' AS adopter,\n",
    "  remove_child_from_uk AS count\n",
    "FROM\n",
    "  fcsq.adopt_apps_6_non_adoptions\n",
    "WHERE\n",
    "  remove_child_from_uk > 0;\n",
    "\"\"\"\n",
    "\n",
    "pydb.create_temp_table(create_adopt_remove_child_from_uk,'adopt_remove_child_from_uk')\n",
    "\n"
   ]
  },
  {
   "cell_type": "markdown",
   "metadata": {},
   "source": [
    "#### adopt_remove_child_from_uk validation"
   ]
  },
  {
   "cell_type": "code",
   "execution_count": null,
   "metadata": {},
   "outputs": [],
   "source": [
    "adopt_remove_child_from_uk_count = pydb.read_sql_query(\"select count(*) as count from __temp__.adopt_remove_child_from_uk\")\n",
    "adopt_remove_child_from_uk_count"
   ]
  },
  {
   "cell_type": "markdown",
   "metadata": {},
   "source": [
    "## adopt_other_order_type table"
   ]
  },
  {
   "cell_type": "markdown",
   "metadata": {},
   "source": [
    "### Create the adopt_other_order_type temp table"
   ]
  },
  {
   "cell_type": "code",
   "execution_count": null,
   "metadata": {},
   "outputs": [],
   "source": [
    "create_adopt_other_order_type = f\"\"\"\n",
    "SELECT\n",
    "  'Application' AS type,\n",
    "  year,\n",
    "  quarter,\n",
    "  'Non-adoption' as application,\n",
    "  'Other_order_type' AS order_type,\n",
    "  'n/a' AS adopter,\n",
    "  other_order_type AS count\n",
    "FROM\n",
    "  fcsq.adopt_apps_6_non_adoptions\n",
    "WHERE\n",
    "  other_order_type > 0;\n",
    "\"\"\"\n",
    "\n",
    "pydb.create_temp_table(create_adopt_other_order_type,'adopt_other_order_type')\n",
    "\n"
   ]
  },
  {
   "cell_type": "markdown",
   "metadata": {},
   "source": [
    "#### adopt_other_order_type validation"
   ]
  },
  {
   "cell_type": "code",
   "execution_count": null,
   "metadata": {},
   "outputs": [],
   "source": [
    "adopt_other_order_type_count = pydb.read_sql_query(\"select count(*) as count from __temp__.adopt_other_order_type\")\n",
    "adopt_other_order_type_count"
   ]
  },
  {
   "cell_type": "markdown",
   "metadata": {},
   "source": [
    "## adopt_non_adopt_types table"
   ]
  },
  {
   "cell_type": "markdown",
   "metadata": {},
   "source": [
    "### Create the adopt_non_adopt_types temp table"
   ]
  },
  {
   "cell_type": "code",
   "execution_count": null,
   "metadata": {},
   "outputs": [],
   "source": [
    "create_adopt_non_adopt_types = f\"\"\"\n",
    "SELECT\n",
    "  *\n",
    "FROM\n",
    "  __temp__.adopt_adoption_placement\n",
    "UNION ALL\n",
    "SELECT\n",
    "  *\n",
    "FROM\n",
    "  __temp__.adopt_placement_revoke_or_vary\n",
    "UNION ALL\n",
    "SELECT\n",
    "  *\n",
    "FROM\n",
    "  __temp__.adopt_adoption_contact_s26\n",
    "UNION ALL\n",
    "SELECT\n",
    "  *\n",
    "FROM\n",
    "  __temp__.adopt_contact_s26_revoke_vary\n",
    "UNION ALL\n",
    "SELECT\n",
    "  *\n",
    "FROM\n",
    "  __temp__.adopt_change_surname\n",
    "UNION ALL\n",
    "SELECT\n",
    "  *\n",
    "FROM\n",
    "  __temp__.adopt_remove_child_from_uk\n",
    "UNION ALL\n",
    "SELECT\n",
    "  *\n",
    "FROM\n",
    "  __temp__.adopt_other_order_type;\n",
    "\"\"\"\n",
    "\n",
    "pydb.create_temp_table(create_adopt_non_adopt_types,'adopt_non_adopt_types')\n",
    "\n"
   ]
  },
  {
   "cell_type": "markdown",
   "metadata": {},
   "source": [
    "#### adopt_non_adopt_types validation"
   ]
  },
  {
   "cell_type": "code",
   "execution_count": null,
   "metadata": {},
   "outputs": [],
   "source": [
    "adopt_non_adopt_types_count = pydb.read_sql_query(\"select count(*) as count from __temp__.adopt_non_adopt_types\")\n",
    "adopt_non_adopt_types_count"
   ]
  },
  {
   "cell_type": "markdown",
   "metadata": {},
   "source": [
    "## adopt_non_adoptions table"
   ]
  },
  {
   "cell_type": "markdown",
   "metadata": {},
   "source": [
    "### Create the adopt_non_adoptions temp table"
   ]
  },
  {
   "cell_type": "code",
   "execution_count": null,
   "metadata": {},
   "outputs": [],
   "source": [
    "create_adopt_non_adoptions = f\"\"\"\n",
    "SELECT\n",
    "  type,\n",
    "  year,\n",
    "  quarter,\n",
    "  application,\n",
    "  order_type,\n",
    "  adopter,\n",
    "  SUM (count) AS count\n",
    "FROM\n",
    "  __temp__.adopt_non_adopt_types\n",
    "GROUP BY\n",
    "  type,\n",
    "  year,\n",
    "  quarter,\n",
    "  application,\n",
    "  order_type,\n",
    "  adopter;\n",
    "\"\"\"\n",
    "\n",
    "pydb.create_temp_table(create_adopt_non_adoptions,'adopt_non_adoptions')\n",
    "\n"
   ]
  },
  {
   "cell_type": "markdown",
   "metadata": {},
   "source": [
    "#### adopt_non_adoptions validation"
   ]
  },
  {
   "cell_type": "code",
   "execution_count": null,
   "metadata": {},
   "outputs": [],
   "source": [
    "adopt_non_adoptions_count = pydb.read_sql_query(\"select count(*) as count from __temp__.adopt_non_adoptions\")\n",
    "adopt_non_adoptions_count"
   ]
  },
  {
   "cell_type": "markdown",
   "metadata": {},
   "source": [
    "## adopt_applications table"
   ]
  },
  {
   "cell_type": "markdown",
   "metadata": {},
   "source": [
    "### Create the adopt_applications temp table"
   ]
  },
  {
   "cell_type": "code",
   "execution_count": null,
   "metadata": {},
   "outputs": [],
   "source": [
    "create_adopt_applications = f\"\"\"\n",
    "\n",
    "SELECT\n",
    "  type,\n",
    "  year,\n",
    "  quarter,\n",
    "  application,\n",
    "  order_type,\n",
    "  adopter_3 AS adopter,\n",
    "  'n/a' as adopted_child_sex,\t\n",
    "  'n/a' as adopted_child_age,\n",
    "  count\n",
    "FROM\n",
    "  __temp__.adopt_adoption_only\n",
    "UNION ALL\n",
    "SELECT\n",
    "  type,\n",
    "  year,\n",
    "  quarter,\n",
    "  application,\n",
    "  order_type,\n",
    "  adopter,\n",
    "  'n/a' as adopted_child_sex,\t\n",
    "  'n/a' as adopted_child_age,\n",
    "  count\n",
    "FROM\n",
    "  __temp__.adopt_non_adoptions;\n",
    "\n",
    "\"\"\"\n",
    "\n",
    "pydb.create_temp_table(create_adopt_applications,'adopt_applications')\n",
    "\n"
   ]
  },
  {
   "cell_type": "markdown",
   "metadata": {},
   "source": [
    "#### adopt_applications validation"
   ]
  },
  {
   "cell_type": "code",
   "execution_count": null,
   "metadata": {},
   "outputs": [],
   "source": [
    "adopt_applications_count = pydb.read_sql_query(\"select count(*) as count from __temp__.adopt_applications\")\n",
    "adopt_applications_count"
   ]
  },
  {
   "cell_type": "markdown",
   "metadata": {},
   "source": [
    "# Disposals"
   ]
  },
  {
   "cell_type": "markdown",
   "metadata": {},
   "source": [
    "## adopt_disp_details table"
   ]
  },
  {
   "cell_type": "markdown",
   "metadata": {},
   "source": [
    "### Create the adopt_disp_details temp table"
   ]
  },
  {
   "cell_type": "code",
   "execution_count": null,
   "metadata": {},
   "outputs": [],
   "source": [
    "create_adopt_disp_details = f\"\"\"\n",
    "SELECT\n",
    "  a.*,\n",
    "  CASE WHEN b.nationality = 2\n",
    "    THEN 'Foreign'\n",
    "\tELSE 'N'\n",
    "  END AS foreign,\n",
    "  c.event_model_desc\n",
    "FROM\n",
    "  fcsq.adopt_disposals5_2011 a\n",
    "   LEFT JOIN fcsq.adopt_birth_country_lookup b\n",
    "   ON a.country_of_birth = b.country_of_birth\n",
    "   LEFT JOIN fcsq.adoption_event_model_desc c\n",
    "    ON a.event_model = c.event_model;\n",
    "\"\"\"\n",
    "\n",
    "pydb.create_temp_table(create_adopt_disp_details,'adopt_disp_details')\n",
    "\n"
   ]
  },
  {
   "cell_type": "markdown",
   "metadata": {},
   "source": [
    "#### adopt_disp_details validation"
   ]
  },
  {
   "cell_type": "code",
   "execution_count": null,
   "metadata": {},
   "outputs": [],
   "source": [
    "adopt_disp_details_count = pydb.read_sql_query(\"select count(*) as count from __temp__.adopt_disp_details\")\n",
    "adopt_disp_details_count"
   ]
  },
  {
   "cell_type": "markdown",
   "metadata": {},
   "source": [
    "## adopt_disp_csv_data table"
   ]
  },
  {
   "cell_type": "markdown",
   "metadata": {},
   "source": [
    "### Create the adopt_disp_csv_data temp table"
   ]
  },
  {
   "cell_type": "code",
   "execution_count": null,
   "metadata": {},
   "outputs": [],
   "source": [
    "create_adopt_disp_csv_data = f\"\"\"\n",
    "SELECT\n",
    "  CASE WHEN adoption IN ('Adoption', 'Non-adoption') THEN 'Order granted'\n",
    "       WHEN adoption = 'No order made' THEN 'No order granted'\n",
    "     ELSE 'Check'\n",
    "    END AS type,\n",
    "  year,\n",
    "  quarter,\n",
    "  adoption,\n",
    "  CASE WHEN adoption = 'Adoption'\n",
    "         AND event_model = 'A77'\n",
    "\t  THEN 'Convention'\n",
    "       WHEN adoption = 'Adoption'\n",
    "         AND foreign = 'Foreign'\n",
    "\t  THEN 'Foreign'\n",
    "       WHEN adoption = 'Adoption'\n",
    "      THEN 'Standard'\n",
    "\t ELSE type\n",
    "    END AS type_of_adoption,\n",
    "  event_model_desc,\n",
    "  CASE WHEN adoption IN ('No order made','Non-adoption')\n",
    "         THEN 'n/a'\n",
    "       WHEN adopter_2 IN ('','Other')\n",
    "         THEN 'Other or not stated'\n",
    "\t   WHEN adopter_2 = 'mixed-sex couple'\t\n",
    "         THEN 'M/F couple'\n",
    "       WHEN adopter_2 = 'same-sex couple'\n",
    "         THEN 'Same sex couple'\n",
    "\t ELSE adopter_2\n",
    "\tEND AS adopter,\n",
    "  CASE WHEN adoption IN ('No order made','Non-adoption')\n",
    "         THEN 'n/a'\n",
    "       WHEN child_sex = 1 THEN 'Male'\n",
    "       WHEN child_sex = 2 THEN 'Female'\n",
    "\t   ELSE 'Unknown'\n",
    "\t END AS adopted_child_sex,\n",
    "  CASE WHEN adoption IN ('No order made','Non-adoption')\n",
    "         THEN 'n/a'\n",
    "       WHEN age_band IN ('<1 year', '10-14 years', '1-4 years', '15-17 years', '5-9 years', 'Unknown')\n",
    "        THEN age_band\n",
    "\t  ELSE 'Other'\n",
    "   END AS adopted_child_age\n",
    " FROM\n",
    "   __temp__.adopt_disp_details;\n",
    "\"\"\"\n",
    "\n",
    "pydb.create_temp_table(create_adopt_disp_csv_data,'adopt_disp_csv_data')\n",
    "\n"
   ]
  },
  {
   "cell_type": "markdown",
   "metadata": {},
   "source": [
    "#### adopt_disp_csv_data validation"
   ]
  },
  {
   "cell_type": "code",
   "execution_count": null,
   "metadata": {},
   "outputs": [],
   "source": [
    "adopt_disp_csv_data_count = pydb.read_sql_query(\"select count(*) as count from __temp__.adopt_disp_csv_data\")\n",
    "adopt_disp_csv_data_count"
   ]
  },
  {
   "cell_type": "markdown",
   "metadata": {},
   "source": [
    "## adopt_disp_order_type table"
   ]
  },
  {
   "cell_type": "markdown",
   "metadata": {},
   "source": [
    "### Create the adopt_disp_order_type temp table"
   ]
  },
  {
   "cell_type": "code",
   "execution_count": null,
   "metadata": {},
   "outputs": [],
   "source": [
    "create_adopt_disp_order_type = f\"\"\"\n",
    "SELECT\n",
    "  a.*,\n",
    "  CASE WHEN a.adoption IN ('Adoption', 'Non-adoption')\n",
    "      THEN type_of_adoption\n",
    "\t   WHEN a.adoption = 'No order made'\n",
    "      THEN event_model_desc\n",
    "\t END AS order_type\n",
    "FROM\n",
    "  __temp__.adopt_disp_csv_data a;\n",
    "\"\"\"\n",
    "\n",
    "pydb.create_temp_table(create_adopt_disp_order_type,'adopt_disp_order_type')\n",
    "\n"
   ]
  },
  {
   "cell_type": "markdown",
   "metadata": {},
   "source": [
    "#### adopt_disp_order_type validation"
   ]
  },
  {
   "cell_type": "code",
   "execution_count": null,
   "metadata": {},
   "outputs": [],
   "source": [
    "adopt_disp_order_type_count = pydb.read_sql_query(\"select count(*) as count from __temp__.adopt_disp_order_type\")\n",
    "adopt_disp_order_type_count"
   ]
  },
  {
   "cell_type": "markdown",
   "metadata": {},
   "source": [
    "## adopt_disposals table"
   ]
  },
  {
   "cell_type": "markdown",
   "metadata": {},
   "source": [
    "### Create the adopt_disposals temp table"
   ]
  },
  {
   "cell_type": "code",
   "execution_count": null,
   "metadata": {},
   "outputs": [],
   "source": [
    "create_adopt_disposals = f\"\"\"\n",
    "SELECT\n",
    "  type,\n",
    "  year,\n",
    "  quarter,\n",
    "  adoption,\n",
    "  order_type,\n",
    "  adopter,\n",
    "  adopted_child_sex,\n",
    "  adopted_child_age,\n",
    "  COUNT (*) AS count\n",
    "FROM\n",
    "  __temp__.adopt_disp_order_type\n",
    "GROUP BY\n",
    "  type,\n",
    "  year,\n",
    "  quarter,\n",
    "  adoption,\n",
    "  order_type,\n",
    "  adopter,\n",
    "  adopted_child_sex,\n",
    "  adopted_child_age;\n",
    "\"\"\"\n",
    "\n",
    "pydb.create_temp_table(create_adopt_disposals,'adopt_disposals')\n",
    "\n"
   ]
  },
  {
   "cell_type": "markdown",
   "metadata": {},
   "source": [
    "#### adopt_disposals validation"
   ]
  },
  {
   "cell_type": "code",
   "execution_count": null,
   "metadata": {},
   "outputs": [],
   "source": [
    "adopt_disposals_count = pydb.read_sql_query(\"select count(*) as count from __temp__.adopt_disposals\")\n",
    "adopt_disposals_count"
   ]
  },
  {
   "cell_type": "markdown",
   "metadata": {},
   "source": [
    "# Cases"
   ]
  },
  {
   "cell_type": "markdown",
   "metadata": {},
   "source": [
    "## adopt_application_case_count table"
   ]
  },
  {
   "cell_type": "markdown",
   "metadata": {},
   "source": [
    "### Create the adopt_application_case_count temp table"
   ]
  },
  {
   "cell_type": "code",
   "execution_count": null,
   "metadata": {},
   "outputs": [],
   "source": [
    "adopt_application_case_count_a = f\"\"\"\n",
    "SELECT case_number,\n",
    "        court, \n",
    "        MIN(app_date) AS minofapp_date\n",
    "FROM fcsq.adopt_application_4 \n",
    "WHERE year > 2010\n",
    "GROUP BY case_number,court\n",
    "ORDER BY 1,2;\n",
    "\"\"\"\n",
    "pydb.create_temp_table(adopt_application_case_count_a,\"adopt_application_case_count_a\")"
   ]
  },
  {
   "cell_type": "code",
   "execution_count": null,
   "metadata": {},
   "outputs": [],
   "source": [
    "create_adopt_application_case_count_table= f\"\"\"\n",
    "SELECT type,\n",
    "        year,\n",
    "        quarter,\n",
    "        adoption,\n",
    "        order_type,\n",
    "        adopter,\n",
    "        adopted_child_sex,\n",
    "        adopted_child_age,\n",
    "        COUNT(*) AS count\n",
    "FROM(        \n",
    "\n",
    "SELECT \n",
    "  'Cases started' AS type,\n",
    "  EXTRACT(YEAR FROM minofapp_date) year,\n",
    "\n",
    "  CASE WHEN  Minofapp_date is null THEN null\n",
    "        WHEN EXTRACT(MONTH FROM minofapp_date) BETWEEN 1 AND 3 THEN 1\n",
    "        WHEN EXTRACT(MONTH FROM minofapp_date) BETWEEN 4 AND 6 THEN 2\n",
    "        WHEN EXTRACT(MONTH FROM minofapp_date) BETWEEN 7 AND 9 THEN 3\n",
    "        WHEN EXTRACT(MONTH FROM minofapp_date) BETWEEN 10 AND 12 THEN 4\n",
    "        END quarter,\n",
    "  \n",
    "  'n/a' AS adoption,\n",
    "  'n/a' AS order_type,\n",
    "  'n/a' AS adopter,\n",
    "  'n/a' AS adopted_child_sex,\n",
    "  'n/a' AS adopted_child_age\n",
    "FROM \n",
    "  __temp__.adopt_application_case_count_a\n",
    ")  \n",
    "  \n",
    "GROUP BY\n",
    "  type,\n",
    "  year,\n",
    "  quarter,\n",
    "  adoption,\n",
    "  order_type,\n",
    "  adopter,\n",
    "  adopted_child_sex,\n",
    "  adopted_child_age;\n",
    "\"\"\"\n",
    "#table1 = pydb.read_sql_query(create_adopt_application_case_count)\n",
    "pydb.create_temp_table(create_adopt_application_case_count_table,\"adopt_application_case_count_table\")\n"
   ]
  },
  {
   "cell_type": "markdown",
   "metadata": {},
   "source": [
    "#### adopt_application_case_count validation"
   ]
  },
  {
   "cell_type": "code",
   "execution_count": null,
   "metadata": {},
   "outputs": [],
   "source": [
    "adopt_application_case_count_count = pydb.read_sql_query(\"select count(*) as count from __temp__.adopt_application_case_count_table\")\n",
    "adopt_application_case_count_count"
   ]
  },
  {
   "cell_type": "markdown",
   "metadata": {},
   "source": [
    "## adopt_disposal_case_count table"
   ]
  },
  {
   "cell_type": "markdown",
   "metadata": {},
   "source": [
    "### Create the adopt_disposal_case_count temp table"
   ]
  },
  {
   "cell_type": "code",
   "execution_count": null,
   "metadata": {},
   "outputs": [],
   "source": [
    "create_adopt_disposal_case_count = f\"\"\"\n",
    "SELECT type,\n",
    "        year,\n",
    "        quarter,\n",
    "        adoption,\n",
    "        order_type,\n",
    "        adopter,\n",
    "        adopted_child_sex,\n",
    "        adopted_child_age,\n",
    "        COUNT(*) AS count\n",
    "FROM( \n",
    "\n",
    "SELECT \n",
    "  'Cases closed' as type,\n",
    "  EXTRACT(YEAR FROM minofreceipt_date) year,\n",
    "\n",
    "  CASE WHEN  minofreceipt_date IS NULL THEN NULL\n",
    "        WHEN EXTRACT(Month FROM minofreceipt_date) BETWEEN 1 AND 3 THEN 1\n",
    "        WHEN EXTRACT(Month FROM minofreceipt_date) BETWEEN 4 AND 6 THEN 2\n",
    "        WHEN EXTRACT(Month FROM minofreceipt_date) BETWEEN 7 AND 9 THEN 3\n",
    "        WHEN EXTRACT(Month FROM minofreceipt_date) BETWEEN 10 AND 12 THEN 4\n",
    "        END quarter,\n",
    "  'n/a' AS adoption,\n",
    "  'n/a' AS order_type,\n",
    "  'n/a' AS adopter,\n",
    "  'n/a' AS adopted_child_sex,\n",
    "  'n/a' AS adopted_child_age\n",
    "FROM \n",
    "  __temp__.adopt_disposal_cases\n",
    "WHERE\n",
    "  (EXTRACT(YEAR FROM minofreceipt_date)) > 2010\n",
    ")  \n",
    "  \n",
    "GROUP BY\n",
    "  type,\n",
    "  year,\n",
    "  quarter,\n",
    "  adoption,\n",
    "  order_type,\n",
    "  adopter,\n",
    "  adopted_child_sex,\n",
    "  adopted_child_age;\n",
    "\"\"\"\n",
    "\n",
    "pydb.create_temp_table(create_adopt_disposal_case_count,'adopt_disposal_case_count')\n",
    "\n"
   ]
  },
  {
   "cell_type": "markdown",
   "metadata": {},
   "source": [
    "#### adopt_disposal_case_count validation"
   ]
  },
  {
   "cell_type": "code",
   "execution_count": null,
   "metadata": {},
   "outputs": [],
   "source": [
    "adopt_disposal_case_count_count = pydb.read_sql_query(\"select count(*) as count from __temp__.adopt_disposal_case_count\")\n",
    "adopt_disposal_case_count_count"
   ]
  },
  {
   "cell_type": "markdown",
   "metadata": {},
   "source": [
    "## adopt_csv table"
   ]
  },
  {
   "cell_type": "markdown",
   "metadata": {},
   "source": [
    "### Create the adopt_csv temp table"
   ]
  },
  {
   "cell_type": "code",
   "execution_count": null,
   "metadata": {},
   "outputs": [],
   "source": [
    "create_adopt_csv = f\"\"\"\n",
    "SELECT\n",
    "  *\n",
    "FROM\n",
    "  __temp__.adopt_applications\n",
    "UNION ALL\n",
    "SELECT\n",
    "  *\n",
    "FROM\n",
    "  __temp__.adopt_disposals\n",
    "UNION ALL\n",
    "SELECT\n",
    "  *\n",
    "FROM\n",
    "  __temp__.adopt_application_case_count\n",
    "UNION ALL\n",
    "SELECT\n",
    "  *\n",
    "FROM\n",
    "  __temp__.adopt_disposal_case_count;\n",
    "\"\"\"\n",
    "\n",
    "pydb.create_temp_table(create_adopt_csv,'adopt_csv')\n",
    "\n"
   ]
  },
  {
   "cell_type": "markdown",
   "metadata": {},
   "source": [
    "#### adopt_csv validation"
   ]
  },
  {
   "cell_type": "code",
   "execution_count": null,
   "metadata": {},
   "outputs": [],
   "source": [
    "adopt_csv_count = pydb.read_sql_query(\"select count(*) as count from __temp__.adopt_csv\")\n",
    "adopt_csv_count"
   ]
  },
  {
   "cell_type": "markdown",
   "metadata": {},
   "source": [
    "## adopt_csv2 table"
   ]
  },
  {
   "cell_type": "markdown",
   "metadata": {},
   "source": [
    "### Drop the adopt_csv2 table if it already exists and remove its data from the S3 bucket"
   ]
  },
  {
   "cell_type": "code",
   "execution_count": null,
   "metadata": {},
   "outputs": [],
   "source": [
    "drop_adopt_csv2 = f\"\"\"\n",
    "DROP TABLE IF EXISTS fcsq.adopt_csv2;\n",
    "\"\"\"\n",
    "pydb.read_sql_query(drop_adopt_csv2)\n",
    "\n",
    "# clean up previous adopt_csv2 files\n",
    "bucket.objects.filter(Prefix=\"fcsq_processing/Adoption/adopt_csv2/\").delete()"
   ]
  },
  {
   "cell_type": "markdown",
   "metadata": {},
   "source": [
    "### Create the adopt_csv2 table in Athena"
   ]
  },
  {
   "cell_type": "code",
   "execution_count": null,
   "metadata": {},
   "outputs": [],
   "source": [
    "create_adopt_csv2 = f\"\"\"\n",
    "SELECT\n",
    "  *\n",
    "FROM\n",
    "  __temp__.adopt_csv\n",
    "WHERE\n",
    "  year > 2010\n",
    "  AND NOT (year = 2021 AND quarter = 3)\n",
    "ORDER BY\n",
    "  type,\n",
    "  application,\n",
    "  order_type,\n",
    "  year,\n",
    "  quarter,\n",
    "  adopter,\n",
    "  adopted_child_sex,\n",
    "  adopted_child_age;\n",
    "\"\"\"\n",
    "\n",
    "table = pydb.read_sql_query(create_adopt_csv2)\n",
    "#table.to_csv(path_or_buf = '~/FCSQ_data/adopt_csv2.csv')\n",
    "table"
   ]
  },
  {
   "cell_type": "code",
   "execution_count": null,
   "metadata": {},
   "outputs": [],
   "source": [
    "adopt_csv2_count = pydb.read_sql_query(\"select count(*) as count from fcsq.adopt_csv2\")\n",
    "adopt_csv2_count"
   ]
  },
  {
   "cell_type": "code",
   "execution_count": null,
   "metadata": {},
   "outputs": [],
   "source": [
    "df = pandas.read_csv(\"~/FCSQ_data/adopt_csv_copy.csv\")"
   ]
  }
 ],
 "metadata": {
  "kernelspec": {
   "display_name": "venvname",
   "language": "python",
   "name": "venvname"
  },
  "language_info": {
   "codemirror_mode": {
    "name": "ipython",
    "version": 3
   },
   "file_extension": ".py",
   "mimetype": "text/x-python",
   "name": "python",
   "nbconvert_exporter": "python",
   "pygments_lexer": "ipython3",
   "version": "3.7.1"
  },
  "varInspector": {
   "cols": {
    "lenName": 16,
    "lenType": 16,
    "lenVar": 40
   },
   "kernels_config": {
    "python": {
     "delete_cmd_postfix": "",
     "delete_cmd_prefix": "del ",
     "library": "var_list.py",
     "varRefreshCmd": "print(var_dic_list())"
    },
    "r": {
     "delete_cmd_postfix": ") ",
     "delete_cmd_prefix": "rm(",
     "library": "var_list.r",
     "varRefreshCmd": "cat(var_dic_list()) "
    }
   },
   "types_to_exclude": [
    "module",
    "function",
    "builtin_function_or_method",
    "instance",
    "_Feature"
   ],
   "window_display": false
  }
 },
 "nbformat": 4,
 "nbformat_minor": 4
}
