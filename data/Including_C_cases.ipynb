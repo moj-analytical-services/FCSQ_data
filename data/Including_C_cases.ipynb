{
 "cells": [
  {
   "cell_type": "code",
   "execution_count": null,
   "metadata": {},
   "outputs": [],
   "source": [
    "import pandas as pd  # for the data structures to store and manipulate tables\n",
    "import pydbtools as pydb  # see https://github.com/moj-analytical-services/pydbtools\n",
    "import boto3  # for working with AWS\n",
    "\n",
    "# few things for viewing dataframes better\n",
    "pd.set_option(\"display.max_columns\", 100)\n",
    "pd.set_option(\"display.width\", 900)\n",
    "pd.set_option(\"display.max_colwidth\", 200)\n",
    "\n",
    "database = \"familyman_dev_v2\"\n",
    "snapshot_date = \"2021-08-19\"\n",
    "database_derived = \"familyman_derived_dev_v1\"\n",
    "\n",
    "fcsq_database = \"fcsq\"\n",
    "\n",
    "s3 = boto3.resource(\"s3\")\n",
    "bucket = s3.Bucket(\"alpha-family-data\")"
   ]
  },
  {
   "cell_type": "code",
   "execution_count": null,
   "metadata": {},
   "outputs": [],
   "source": [
    "create_adopt_case_data_v1 = f\"\"\"\n",
    "SELECT T1.YEAR,\n",
    "            T1.QUARTER,\n",
    "            T1.COURT,\n",
    "            T1.CASE_NUMBER,\n",
    "            T1.APP_TYPE,\n",
    "            T1.CASE_APP_TYPE,\n",
    "            T1.ADOPTION,\n",
    "            T1.HIGH_COURT,\n",
    "            T1.CONTESTED,\n",
    "            T1.NUMBER_APPLICANTS,\n",
    "            T1.ADOPTER_TYPE,\n",
    "            date_format(T1.APP_DATE,'%d-%m-%Y') AS APP_DATE2\n",
    "    FROM fcsq.adopt_apps_6_adoptions_only AS t1\n",
    "    ORDER BY case_number, app_date2, court;\n",
    "    \n",
    "\"\"\"\n",
    "\n",
    "create_adopt_case_data_v2 = f\"\"\"\n",
    "SELECT *,(case when row_number() over (partition by case_number order by \n",
    "        APP_DATE2) = 1 then 1 else 0 end) as case_number_id\n",
    "FROM __temp__.adopt_case_data_v1\n",
    "\"\"\"\n",
    "\n",
    "create_adopt_case_data_v3 = f\"\"\"\n",
    "SELECT *\n",
    "FROM __temp__.adopt_case_data_v2\n",
    "where case_number_id = 1 and year > 2010;\n",
    "\"\"\"\n",
    "pydb.create_temp_table(create_adopt_case_data_v1,'adopt_case_data_v1')\n",
    "\n",
    "pydb.create_temp_table(create_adopt_case_data_v2,'adopt_case_data_v2')\n",
    "pydb.create_temp_table(create_adopt_case_data_v3,'adopt_case_data_v3')\n"
   ]
  },
  {
   "cell_type": "markdown",
   "metadata": {},
   "source": [
    "## Applicant_Info table"
   ]
  },
  {
   "cell_type": "markdown",
   "metadata": {},
   "source": [
    "### Create the Applicant_Info table in Athena"
   ]
  },
  {
   "cell_type": "code",
   "execution_count": null,
   "metadata": {},
   "outputs": [],
   "source": [
    "create_Adopt_Applicant_Info = f\"\"\"\n",
    "SELECT DISTINCT\n",
    "   {database}.roles.ROLE, \n",
    "   {database}.roles.REPRESENTATIVE_ROLE, \n",
    "   {database}.roles.ROLE_MODEL, \n",
    "   {database}.roles.PARTY, \n",
    "   {database}.roles.CASE_NUMBER, \n",
    "   {database}.parties.PERSON_GIVEN_FIRST_NAME, \n",
    "   {database}.parties.PERSON_FAMILY_NAME, \n",
    "   {database}.parties.COMPANY, \n",
    "   {database}.addresses.POSTCODE, \n",
    "   {database}.parties.GENDER, \n",
    "   {database}.roles.DELETE_FLAG\n",
    "FROM \n",
    "  ({database}.roles INNER JOIN {database}.parties ON {database}.roles.PARTY = {database}.parties.PARTY) \n",
    "  LEFT JOIN {database}.addresses ON {database}.roles.ADDRESS = {database}.addresses.ADDRESS\n",
    "WHERE \n",
    "    (((({database}.roles.ROLE_MODEL)= 'APLZ') AND (({database}.roles.DELETE_FLAG)= 'N')) \n",
    "    OR ((({database}.roles.ROLE_MODEL)= 'APLA') AND (({database}.roles.DELETE_FLAG)= 'N'))\n",
    "    OR ((({database}.roles.ROLE_MODEL)= 'APLC') AND (({database}.roles.DELETE_FLAG)= 'N')))\n",
    "    AND {database}.roles.mojap_snapshot_date = date '{snapshot_date}'\n",
    "    AND {database}.parties.mojap_snapshot_date = date '{snapshot_date}'\n",
    "    AND {database}.addresses.mojap_snapshot_date = date '{snapshot_date}';\n",
    "\"\"\"\n",
    "\n",
    "pydb.create_temp_table(create_Adopt_Applicant_Info,'Adopt_Applicant_Info')\n",
    "\n"
   ]
  },
  {
   "cell_type": "markdown",
   "metadata": {},
   "source": [
    "#### Applicant_Info validation"
   ]
  },
  {
   "cell_type": "code",
   "execution_count": null,
   "metadata": {},
   "outputs": [],
   "source": [
    "Adopt_Applicant_Info_count = pydb.read_sql_query(\"select count(*) from __temp__.Adopt_Applicant_Info\")\n",
    "Adopt_Applicant_Info_count"
   ]
  },
  {
   "cell_type": "markdown",
   "metadata": {},
   "source": [
    "## adopt_respondent_info table"
   ]
  },
  {
   "cell_type": "markdown",
   "metadata": {},
   "source": [
    "### Create the adopt_respondent_info table in Athena"
   ]
  },
  {
   "cell_type": "code",
   "execution_count": null,
   "metadata": {},
   "outputs": [],
   "source": [
    "create_adopt_respondent_info = f\"\"\"\n",
    "CREATE TABLE IF NOT EXISTS __temp__.adopt_respondent_info\n",
    "WITH (format = 'PARQUET', external_location = 's3://alpha-family-data/__temp___processing/Adoption/adopt_respondent_info') AS\n",
    "SELECT DISTINCT\n",
    "  {database}.roles.ROLE, \n",
    "  {database}.roles.REPRESENTATIVE_ROLE, \n",
    "  {database}.roles.ROLE_MODEL, \n",
    "  {database}.roles.PARTY, \n",
    "  {database}.roles.CASE_NUMBER, \n",
    "  {database}.parties.GENDER, \n",
    "  {database}.addresses.POSTCODE, \n",
    "  {database}.roles.DELETE_FLAG\n",
    "FROM \n",
    "  ({database}.roles INNER JOIN {database}.parties ON {database}.roles.PARTY = {database}.parties.PARTY) \n",
    "    LEFT JOIN {database}.addresses ON {database}.roles.ADDRESS = {database}.addresses.ADDRESS\n",
    "WHERE \n",
    "    ((({database}.roles.ROLE_MODEL)='RSPA') AND (({database}.roles.DELETE_FLAG)='N')) \n",
    "    OR ((({database}.roles.ROLE_MODEL)='RSPZ') AND (({database}.roles.DELETE_FLAG)='N'))\n",
    "    OR ((({database}.roles.ROLE_MODEL)='RSPC') AND (({database}.roles.DELETE_FLAG)='N'))\n",
    "    AND {database}.roles.mojap_snapshot_date = date '{snapshot_date}'\n",
    "    AND {database}.parties.mojap_snapshot_date = date '{snapshot_date}'\n",
    "    AND {database}.addresses.mojap_snapshot_date = date '{snapshot_date}';\n",
    "\"\"\"\n",
    "\n",
    "pydb.read_sql_query(create_adopt_respondent_info)\n",
    "\n"
   ]
  },
  {
   "cell_type": "markdown",
   "metadata": {},
   "source": [
    "#### adopt_respondent_info validation"
   ]
  },
  {
   "cell_type": "code",
   "execution_count": null,
   "metadata": {},
   "outputs": [],
   "source": [
    "adopt_respondent_info_count = pydb.read_sql_query(\"select count(*) as count from __temp__.adopt_respondent_info\")\n",
    "adopt_respondent_info_count"
   ]
  },
  {
   "cell_type": "markdown",
   "metadata": {},
   "source": [
    "## applicants 3 table"
   ]
  },
  {
   "cell_type": "code",
   "execution_count": null,
   "metadata": {},
   "outputs": [],
   "source": [
    "create_adopt_applicants_1 = f\"\"\"\n",
    "SELECT \tT1.role,\n",
    "    T1.representative_role,\n",
    "    T1.role_model,\n",
    "    T1.party,\n",
    "    T1.case_number,\n",
    "    T1.gender,\n",
    "    case when cast(gender as varchar(1)) = '1' then 'Male'\n",
    "    when cast(gender as varchar(1)) = '2' then 'Female'\n",
    "    else 'Unknown' end as Gender_Decode\n",
    "\n",
    "    FROM __temp__.adopt_applicant_info AS t1\n",
    "    ORDER BY t1.Case_Number;\n",
    "\"\"\"\n",
    "#pydb.read_sql_query(create_adopt_applicants_1)\n",
    "pydb.create_temp_table(create_adopt_applicants_1,'adopt_applicants_1')\n",
    "\n",
    "\n",
    "\n",
    "create_adopt_applicants_2 = f\"\"\"\n",
    "SELECT DISTINCT \n",
    "    T1.case_number,\n",
    "    T1.party,\n",
    "    max(T1.representative_role) as Rep_Role,\n",
    "    max(T1.gender_decode) as Gender_Max\n",
    "    from __temp__.adopt_applicants_1 AS t1\n",
    "    group by Case_number, party;\n",
    "\"\"\"\n",
    "\n",
    "pydb.create_temp_table(create_adopt_applicants_2,'adopt_applicants_2')\n",
    "#pydb.read_sql_query(create_adopt_applicants_2)\n",
    "\n",
    "\n",
    "create_adopt_applicants_3= f\"\"\"\n",
    "SELECT t1.case_number,\n",
    "    t1.party as App_Party_ID,\n",
    "    t1.Rep_Role,\n",
    "    t1.Gender_Max,\n",
    "    case when t1.Rep_Role IS NULL then 'N'\n",
    "    when t1.Rep_Role IS NOT NULL then 'Y'\n",
    "    End as REPRESENTATION,\n",
    "    case when Rep_Role IS NULL AND Gender_Max = 'Female' then 'Unrep_Female'\n",
    "    when Rep_Role IS NULL AND Gender_Max = 'Male' then 'Unrep_Male'\n",
    "    when Rep_Role IS NULL AND Gender_Max = 'Unknown' then 'Unrep_Unknown'\n",
    "    when Rep_Role IS NOT NULL AND Gender_Max = 'Female' then 'Rep_Female'\n",
    "    when Rep_Role IS NOT NULL AND Gender_Max = 'Male' then 'Rep_Male'\n",
    "    when Rep_Role IS NOT NULL AND Gender_Max = 'Unknown' then 'Rep_Unknown'\n",
    "    else '' end as App_Rep_Cat\n",
    "    \n",
    "    from __temp__.adopt_applicants_2 AS t1;\n",
    "\n",
    "\n",
    "\"\"\"\n",
    "#pydb.read_sql_query(create_adopt_applicants_3)\n",
    "pydb.create_temp_table(create_adopt_applicants_3,'adopt_applicants_3')\n"
   ]
  },
  {
   "cell_type": "code",
   "execution_count": null,
   "metadata": {},
   "outputs": [],
   "source": [
    "pydb.read_sql_query(\"SELECT count(*) as count from __temp__.adopt_applicants_3\")"
   ]
  },
  {
   "cell_type": "code",
   "execution_count": null,
   "metadata": {},
   "outputs": [],
   "source": [
    "create_adopt_respondents_1 = f\"\"\"\n",
    "SELECT T1.role,\n",
    "    T1.representative_role,\n",
    "    T1.role_model,\n",
    "    T1.party,\n",
    "    T1.case_number,\n",
    "    T1.gender,\n",
    "    case when cast(gender as varchar(1)) = '1' then 'Male'\n",
    "    when cast(gender as varchar(1)) = '2' then 'Female'\n",
    "    else 'Unknown' end as Gender_Decode\n",
    "\n",
    "    FROM __temp__.adopt_respondent_info AS t1\n",
    "    ORDER BY t1.Case_Number;\n",
    "\"\"\"\n",
    "#pydb.read_sql_query(create_adopt_respondents_1)\n",
    "pydb.create_temp_table(create_adopt_respondents_1,'adopt_respondents_1')\n",
    "\n",
    "\n",
    "\n",
    "create_adopt_respondents_2 = f\"\"\"\n",
    "    SELECT DISTINCT T1.case_number,\n",
    "        T1.party,\n",
    "        max(T1.representative_role) as Rep_Role,\n",
    "        max(T1.gender_decode) as Gender_Max\n",
    "    from __temp__.adopt_respondents_1 AS t1\n",
    "    group by Case_number, party;\n",
    "\"\"\"\n",
    "\n",
    "pydb.create_temp_table(create_adopt_respondents_2,'adopt_respondents_2')\n",
    "#pydb.read_sql_query(create_adopt_respondents_2)\n",
    "\n",
    "\n",
    "create_adopt_respondents_3= f\"\"\"\n",
    "SELECT t1.case_number,\n",
    "    t1.party as Resp_Party_ID,\n",
    "    t1.Rep_Role,\n",
    "    t1.Gender_Max,\n",
    "    case when t1.Rep_Role IS NULL then 'N'\n",
    "    when t1.Rep_Role IS NOT NULL then 'Y'\n",
    "    End as REPRESENTATION,\n",
    "    case when Rep_Role IS NULL AND Gender_Max = 'Female' then 'Unrep_Female'\n",
    "    when Rep_Role IS NULL AND Gender_Max = 'Male' then 'Unrep_Male'\n",
    "    when Rep_Role IS NULL AND Gender_Max = 'Unknown' then 'Unrep_Unknown'\n",
    "    when Rep_Role IS NOT NULL AND Gender_Max = 'Female' then 'Rep_Female'\n",
    "    when Rep_Role IS NOT NULL AND Gender_Max = 'Male' then 'Rep_Male'\n",
    "    when Rep_Role IS NOT NULL AND Gender_Max = 'Unknown' then 'Rep_Unknown'\n",
    "    else '' end as Resp_Rep_Cat\n",
    "    \n",
    "    from __temp__.adopt_respondents_2 AS t1;\n",
    "\n",
    "\n",
    "\"\"\"\n",
    "#pydb.read_sql_query(create_adopt_respondents_3)\n",
    "pydb.create_temp_table(create_adopt_respondents_3,'adopt_respondents_3')"
   ]
  },
  {
   "cell_type": "code",
   "execution_count": null,
   "metadata": {},
   "outputs": [],
   "source": [
    "adopt_app_rep_final = f\"\"\"\n",
    "SELECT t1.YEAR, \n",
    "    t1.QUARTER,\n",
    "    t1.CASE_NUMBER, \n",
    "    t1.Court,\n",
    "    t2.App_Party_ID,\n",
    "    t2.Representation,\n",
    "    t2.Gender_Max as App_Gender,\n",
    "    t2.App_Rep_Cat          \n",
    "FROM __temp__.ADOPT_CASE_DATA_v3 t1\n",
    "    LEFT JOIN __temp__.ADOPT_APPLICANTS_3 t2 ON (t1.CASE_NUMBER = t2.CASE_NUMBER);\n",
    "\n",
    "\"\"\"\n",
    "\n",
    "pydb.create_temp_table(adopt_app_rep_final,'adopt_app_rep_final')\n"
   ]
  },
  {
   "cell_type": "code",
   "execution_count": null,
   "metadata": {},
   "outputs": [],
   "source": [
    "adopt_app_rep_final_check = \"SELECT COUNT(*) as Count from __temp__.adopt_app_rep_final\"\n",
    "pydb.read_sql_query(adopt_app_rep_final_check)"
   ]
  },
  {
   "cell_type": "code",
   "execution_count": null,
   "metadata": {},
   "outputs": [],
   "source": [
    "adopt_resp_rep_final = f\"\"\"\n",
    "   SELECT t1.YEAR, \n",
    "        t1.QUARTER,\n",
    "        t1.CASE_NUMBER, \n",
    "        t1.Court,\n",
    "          t2.Resp_Party_ID,\n",
    "          t2.Representation,\n",
    "          t2.Gender_Max as Resp_Gender,\n",
    "          t2.Resp_Rep_Cat\n",
    "          \n",
    "      FROM __temp__.ADOPT_CASE_DATA_v3 t1\n",
    "           LEFT JOIN __temp__.ADOPT_RESPONDENTS_3 t2 ON (t1.CASE_NUMBER = t2.CASE_NUMBER);\n",
    "\"\"\"\n",
    "\n",
    "pydb.create_temp_table(adopt_resp_rep_final,'adopt_resp_rep_final')"
   ]
  },
  {
   "cell_type": "code",
   "execution_count": null,
   "metadata": {},
   "outputs": [],
   "source": [
    "adopt_resp_rep_final_check = \"SELECT COUNT(*) as Count from __temp__.adopt_resp_rep_final\"\n",
    "pydb.read_sql_query(adopt_resp_rep_final_check)"
   ]
  },
  {
   "cell_type": "markdown",
   "metadata": {},
   "source": [
    "## Adopt_Hearing_Events table"
   ]
  },
  {
   "cell_type": "markdown",
   "metadata": {},
   "source": [
    "### Create the Adopt_Hearing_Events table in Athena"
   ]
  },
  {
   "cell_type": "code",
   "execution_count": null,
   "metadata": {},
   "outputs": [],
   "source": [
    "create_Adopt_Hearing_Events = f\"\"\"\n",
    "SELECT {database}.hearings.EVENT,\n",
    "  {database}.hearings.VACATED_FLAG,\n",
    "  {database}.hearings.HEARING_TYPE,\n",
    "  {database}.hearings.HEARING_DATE,\n",
    "  {database}.events.RECEIPT_DATE,\n",
    "  {database}.events.ERROR,\n",
    "  {database}.events.CASE_NUMBER,\n",
    "  {database}.events.EVENT_MODEL\n",
    "FROM {database}.hearings\n",
    "INNER JOIN {database}.events\n",
    "ON {database}.hearings.EVENT            = {database}.events.EVENT\n",
    "WHERE {database}.hearings.VACATED_FLAG IS NULL\n",
    "AND {database}.events.ERROR             = 'N'\n",
    "AND HEARING_DATE > date_parse('31-12-2009 00:00:00', '%d-%m-%Y %H:%i:%s')\n",
    "AND (substring(case_number,5,1)='A' OR substring(case_number,5,1)='Z' OR substring(case_number,5,1)='C')\n",
    "AND {database}.hearings.mojap_snapshot_date = date '{snapshot_date}' and {database}.events.mojap_snapshot_date = date '{snapshot_date}';\n",
    "\"\"\"\n",
    "\n",
    "pydb.create_temp_table(create_Adopt_Hearing_Events,'Adopt_Hearing_Events')\n",
    "\n"
   ]
  },
  {
   "cell_type": "markdown",
   "metadata": {},
   "source": [
    "#### Adopt_Hearing_Events validation"
   ]
  },
  {
   "cell_type": "code",
   "execution_count": null,
   "metadata": {},
   "outputs": [],
   "source": [
    "Adopt_Hearing_Events_count = pydb.read_sql_query(\"select count(*) as count from __temp__.Adopt_Hearing_Events\")\n",
    "Adopt_Hearing_Events_count"
   ]
  },
  {
   "cell_type": "markdown",
   "metadata": {},
   "source": [
    "## Adopt_Hearings_Cases table"
   ]
  },
  {
   "cell_type": "markdown",
   "metadata": {},
   "source": [
    "### Create the Adopt_Hearings_Cases table in Athena"
   ]
  },
  {
   "cell_type": "code",
   "execution_count": null,
   "metadata": {},
   "outputs": [],
   "source": [
    "\"\"\"\n",
    "Equivalent to Hearings_Adopt_V3\n",
    "\"\"\"\n",
    "\n",
    "create_Adopt_Hearings_Cases = f\"\"\"\n",
    "CREATE TABLE IF NOT EXISTS __temp__.Adopt_Hearings_Cases\n",
    "WITH (format = 'PARQUET', external_location = 's3://alpha-family-data/__temp___processing/Adoption/Adopt_Hearings_Cases') AS\n",
    "select t1.case_number,\n",
    "    t1.error,\n",
    "    t1.event,\n",
    "    t1.event_model,\n",
    "    t1.hearing_date,\n",
    "    t1.hearing_type,\n",
    "    t1.receipt_date,\n",
    "    t1.vacated_flag,\n",
    "    substring(Case_Number,5,1) AS Case_Type\n",
    "    from __temp__.Adopt_Hearing_Events AS t1\n",
    "    where t1.event_model in ('A8', 'A90', 'A91', 'G60')\n",
    "    order by t1.case_number, t1.receipt_date;\n",
    "\"\"\"\n",
    "\n",
    "pydb.read_sql_query(create_Adopt_Hearings_Cases)\n",
    "\n",
    "create_Adopt_Hearings_Cases_v2 = f\"\"\"\n",
    "SELECT *,\n",
    "(case when row_number() over (partition by Case_Number order by receipt_date) = 1 then 1 else 0 end) as Case_Number_ID\n",
    "FROM __temp__.Adopt_Hearings_Cases\n",
    "\"\"\"\n",
    "\n",
    "pydb.create_temp_table(create_Adopt_Hearings_Cases_v2,'adopt_hearings_cases_v2')\n",
    "pydb.read_sql_query(create_Adopt_Hearings_Cases_v2)\n"
   ]
  },
  {
   "cell_type": "markdown",
   "metadata": {},
   "source": [
    "#### Adopt_Hearings_Cases validation"
   ]
  },
  {
   "cell_type": "code",
   "execution_count": null,
   "metadata": {},
   "outputs": [],
   "source": [
    "Adopt_Hearings_Cases_count = pydb.read_sql_query(\"select count(*) as count from __temp__.Adopt_Hearings_Cases\")\n",
    "Adopt_Hearings_Cases_count"
   ]
  },
  {
   "cell_type": "markdown",
   "metadata": {},
   "source": [
    "## Hearing_Adopt_Applicants table"
   ]
  },
  {
   "cell_type": "markdown",
   "metadata": {},
   "source": [
    "### Create the Hearing_Adopt_Applicants table in Athena"
   ]
  },
  {
   "cell_type": "code",
   "execution_count": null,
   "metadata": {},
   "outputs": [],
   "source": [
    "create_Hearing_Adopt_Applicants = f\"\"\"\n",
    "SELECT t1.*,\n",
    "t2.Case_Number_ID AS Hearing_Count\n",
    "FROM __temp__.ADOPT_APP_REP_FINAL t1\n",
    "LEFT JOIN __temp__.Adopt_Hearings_Cases_v2 t2 ON (t1.CASE_NUMBER = t2.CASE_NUMBER)\n",
    "where t2.Case_Number_ID > 0;\n",
    "\"\"\"\n",
    "\n",
    "pydb.create_temp_table(create_Hearing_Adopt_Applicants,'Hearing_Adopt_Applicants')\n",
    "\n"
   ]
  },
  {
   "cell_type": "markdown",
   "metadata": {},
   "source": [
    "#### Hearing_Adopt_Applicants validation"
   ]
  },
  {
   "cell_type": "code",
   "execution_count": null,
   "metadata": {},
   "outputs": [],
   "source": [
    "Hearing_Adopt_Applicants_count = pydb.read_sql_query(\"select count(*) as count from __temp__.Hearing_Adopt_Applicants\")\n",
    "Hearing_Adopt_Applicants_count"
   ]
  },
  {
   "cell_type": "markdown",
   "metadata": {},
   "source": [
    "## Hearing_Adopt_Respondents table"
   ]
  },
  {
   "cell_type": "markdown",
   "metadata": {},
   "source": [
    "### Create the Hearing_Adopt_Respondents table in Athena"
   ]
  },
  {
   "cell_type": "code",
   "execution_count": null,
   "metadata": {},
   "outputs": [],
   "source": [
    "create_Hearing_Adopt_Respondents = f\"\"\"\n",
    "SELECT t1.*,\n",
    "    t2.Case_Number_ID AS Hearing_Count\n",
    "    FROM __temp__.ADOPT_RESP_REP_FINAL t1\n",
    "    LEFT JOIN __temp__.Adopt_Hearings_Cases_v2 t2 ON (t1.CASE_NUMBER = t2.CASE_NUMBER)\n",
    "    where t2.Case_Number_ID > 0;\n",
    "\"\"\"\n",
    "\n",
    "pydb.create_temp_table(create_Hearing_Adopt_Respondents,'Hearing_Adopt_Respondents')\n",
    "\n"
   ]
  },
  {
   "cell_type": "markdown",
   "metadata": {},
   "source": [
    "#### Hearing_Adopt_Respondents validation"
   ]
  },
  {
   "cell_type": "code",
   "execution_count": null,
   "metadata": {},
   "outputs": [],
   "source": [
    "Hearing_Adopt_Respondents_count = pydb.read_sql_query(\"select count(*) as count from __temp__.Hearing_Adopt_Respondents\")\n",
    "Hearing_Adopt_Respondents_count"
   ]
  },
  {
   "cell_type": "markdown",
   "metadata": {},
   "source": [
    "## Adopt_App table"
   ]
  },
  {
   "cell_type": "markdown",
   "metadata": {},
   "source": [
    "### Create the Adopt_App table in Athena"
   ]
  },
  {
   "cell_type": "code",
   "execution_count": null,
   "metadata": {},
   "outputs": [],
   "source": [
    "create_Adopt_App = f\"\"\"\n",
    "CREATE TABLE IF NOT EXISTS __temp__.Adopt_App\n",
    "WITH (format = 'PARQUET', external_location = 's3://alpha-family-data/__temp___processing/Adoption/Adopt_App') AS\n",
    "SELECT\n",
    "  'Adoption' AS CASE_TYPE,\n",
    "  Year,\n",
    "  Quarter,\n",
    "  'Party' AS Category,\n",
    "  'Applicant' AS PARTY,\n",
    "   App_Gender AS Gender,\n",
    "  Representation,\n",
    "  Count (*) AS Count\n",
    "FROM\n",
    "  __temp__.HEARING_ADOPT_APPLICANTS\n",
    "WHERE \n",
    "  Representation <> '' /*A very small number of cases from 2011/12 look into whether these should be recoded as N (gender is also blank)*/\n",
    "GROUP BY\n",
    "  'Adoption',\n",
    "  Year,\n",
    "  Quarter,\n",
    "  'Party',\n",
    "  'Applicant',\n",
    "  App_Gender,\n",
    "  Representation;\n",
    "\"\"\"\n",
    "\n",
    "pydb.read_sql_query(create_Adopt_App)\n",
    "\n"
   ]
  },
  {
   "cell_type": "markdown",
   "metadata": {},
   "source": [
    "#### Adopt_App validation"
   ]
  },
  {
   "cell_type": "code",
   "execution_count": null,
   "metadata": {},
   "outputs": [],
   "source": [
    "Adopt_App_count = pydb.read_sql_query(\"select count(*) as count from __temp__.Adopt_App\")\n",
    "Adopt_App_count"
   ]
  },
  {
   "cell_type": "markdown",
   "metadata": {},
   "source": [
    "## Adopt_resp table"
   ]
  },
  {
   "cell_type": "markdown",
   "metadata": {},
   "source": [
    "### Create the Adopt_resp table in Athena"
   ]
  },
  {
   "cell_type": "code",
   "execution_count": null,
   "metadata": {},
   "outputs": [],
   "source": [
    "create_Adopt_resp = f\"\"\"\n",
    "CREATE TABLE IF NOT EXISTS __temp__.Adopt_resp\n",
    "WITH (format = 'PARQUET', external_location = 's3://alpha-family-data/__temp___processing/Adoption/Adopt_resp') AS\n",
    "SELECT\n",
    "  'Adoption' AS CASE_TYPE,\n",
    "  Year,\n",
    "  Quarter,\n",
    "  'Party' AS Category,\n",
    "  'Respondent' AS PARTY,\n",
    "  Resp_Gender AS Gender,\n",
    "  Representation,\n",
    "  Count (*) AS Count\n",
    "FROM\n",
    "  __temp__.HEARING_ADOPT_RESPONDENTS\n",
    "WHERE \n",
    "  Representation <> '' /*A very small number of cases from 2011/12 look into whether these should be recoded as N (gender is also blank)*/\n",
    "GROUP BY\n",
    "  'Adoption',\n",
    "  Year,\n",
    "  Quarter,\n",
    "  'Party',\n",
    "  'Applicant',\n",
    "  Resp_Gender,\n",
    "  Representation;\n",
    "\"\"\"\n",
    "\n",
    "pydb.read_sql_query(create_Adopt_resp)\n",
    "\n"
   ]
  },
  {
   "cell_type": "markdown",
   "metadata": {},
   "source": [
    "#### Adopt_resp validation"
   ]
  },
  {
   "cell_type": "code",
   "execution_count": null,
   "metadata": {},
   "outputs": [],
   "source": [
    "Adopt_resp_count = pydb.read_sql_query(\"select count(*) as count from __temp__.Adopt_resp\")\n",
    "Adopt_resp_count"
   ]
  },
  {
   "cell_type": "markdown",
   "metadata": {},
   "source": [
    "## adopt_case table"
   ]
  },
  {
   "cell_type": "markdown",
   "metadata": {},
   "source": [
    "### Create the adopt_case table in Athena"
   ]
  },
  {
   "cell_type": "code",
   "execution_count": null,
   "metadata": {},
   "outputs": [],
   "source": [
    "create_adopt_case = f\"\"\"\n",
    "CREATE TABLE IF NOT EXISTS __temp__.Adopt_case\n",
    "WITH (format = 'PARQUET', external_location = 's3://alpha-family-data/__temp___processing/Adoption/Adopt_case') AS\n",
    "SELECT *,\n",
    "    Count(*) as Count FROM\n",
    "    (SELECT\n",
    "        'Adoption' AS CASE_TYPE,\n",
    "        Year,\n",
    "        Quarter,\n",
    "        'Cases' AS Category,\n",
    "        'N/A' AS PARTY,\n",
    "        'N/A' AS Gender,\n",
    "        'N/A' AS Representation\n",
    "    FROM\n",
    "      __temp__.adopt_case_data_v3)\n",
    "GROUP BY\n",
    "  CASE_TYPE,\n",
    "  Year,\n",
    "  Quarter,\n",
    "  Category,\n",
    "  PARTY,\n",
    "  Gender,\n",
    "  Representation;\n",
    "\"\"\"\n",
    "\n",
    "pydb.read_sql_query(create_adopt_case)\n",
    "\n"
   ]
  },
  {
   "cell_type": "markdown",
   "metadata": {},
   "source": [
    "#### adopt_case validation"
   ]
  },
  {
   "cell_type": "code",
   "execution_count": null,
   "metadata": {},
   "outputs": [],
   "source": [
    "adopt_case_count = pydb.read_sql_query(\"select count(*) as count from __temp__.adopt_case\")\n",
    "adopt_case_count"
   ]
  },
  {
   "cell_type": "markdown",
   "metadata": {},
   "source": [
    "## Adopt_Case_Hearings table"
   ]
  },
  {
   "cell_type": "markdown",
   "metadata": {},
   "source": [
    "### Create the Adopt_Case_Hearings table in Athena"
   ]
  },
  {
   "cell_type": "code",
   "execution_count": null,
   "metadata": {},
   "outputs": [],
   "source": [
    "create_hearing_adopt_case =f\"\"\"\n",
    "SELECT DISTINCT Year, Quarter, Case_Number\n",
    "FROM __temp__.HEARING_ADOPT_Applicants;\n",
    "\"\"\"\n",
    "\n",
    "pydb.create_temp_table(create_hearing_adopt_case,'hearing_adopt_case')\n",
    "\n",
    "\n",
    "\n",
    "create_Adopt_Case_Hearings = f\"\"\"\n",
    "CREATE TABLE IF NOT EXISTS __temp__.Adopt_Case_Hearings\n",
    "WITH (format = 'PARQUET', external_location = 's3://alpha-family-data/__temp___processing/Adoption/Adopt_Case_Hearings') AS\n",
    "SELECT *, Count(*) as Count FROM\n",
    "    (SELECT\n",
    "      'Adoption' AS CASE_TYPE,\n",
    "      Year,\n",
    "      Quarter,\n",
    "      'Cases with a hearing' AS Category,\n",
    "      'N/A' AS PARTY,\n",
    "      'N/A' AS Gender,\n",
    "      'N/A' AS Representation\n",
    "    FROM\n",
    "      __temp__.Hearing_ADOPT_Case)\n",
    "GROUP BY\n",
    "  CASE_TYPE,\n",
    "  Year,\n",
    "  Quarter,\n",
    "  Category,\n",
    "  PARTY,\n",
    "  Gender,\n",
    "  Representation;\n",
    "\"\"\"\n",
    "\n",
    "pydb.read_sql_query(create_Adopt_Case_Hearings)\n",
    "\n"
   ]
  },
  {
   "cell_type": "markdown",
   "metadata": {},
   "source": [
    "#### Adopt_Case_Hearings validation"
   ]
  },
  {
   "cell_type": "code",
   "execution_count": null,
   "metadata": {},
   "outputs": [],
   "source": [
    "Adopt_Case_Hearings_count = pydb.read_sql_query(\"select count(*) as count from __temp__.Adopt_Case_Hearings\")\n",
    "Adopt_Case_Hearings_count"
   ]
  },
  {
   "cell_type": "markdown",
   "metadata": {},
   "source": [
    "## Adoption table"
   ]
  },
  {
   "cell_type": "markdown",
   "metadata": {},
   "source": [
    "### Create the Adoption table in Athena"
   ]
  },
  {
   "cell_type": "code",
   "execution_count": null,
   "metadata": {},
   "outputs": [],
   "source": [
    "create_Adoption = f\"\"\"\n",
    "SELECT\n",
    "  *\n",
    "FROM\n",
    " __temp__.ADOPT_APP\n",
    "UNION ALL\n",
    "SELECT\n",
    "  *\n",
    "FROM\n",
    "  __temp__.ADOPT_RESP\n",
    "UNION ALL\n",
    "SELECT\n",
    "  *\n",
    "FROM\n",
    "  __temp__.ADOPT_CASE\n",
    "UNION ALL\n",
    "SELECT\n",
    "  *\n",
    "FROM\n",
    "  __temp__.ADOPT_CASE_HEARINGS;\n",
    "\"\"\"\n",
    "\n",
    "pydb.create_temp_table(create_Adoption,'Adoption')\n",
    "\n"
   ]
  },
  {
   "cell_type": "markdown",
   "metadata": {},
   "source": [
    "#### Adoption validation"
   ]
  },
  {
   "cell_type": "code",
   "execution_count": null,
   "metadata": {},
   "outputs": [],
   "source": [
    "Adoption_count = pydb.read_sql_query(\"select count(*) from __temp__.Adoption\")\n",
    "Adoption_count"
   ]
  },
  {
   "cell_type": "code",
   "execution_count": null,
   "metadata": {},
   "outputs": [],
   "source": []
  },
  {
   "cell_type": "markdown",
   "metadata": {},
   "source": [
    "## Applicant_representation table"
   ]
  },
  {
   "cell_type": "markdown",
   "metadata": {},
   "source": [
    "### Create the Applicant_representation table in Athena"
   ]
  },
  {
   "cell_type": "code",
   "execution_count": null,
   "metadata": {},
   "outputs": [],
   "source": [
    "create_applicants_1 = f\"\"\"\n",
    "SELECT Distinct t1.Case_Number, t1.Party, MAX(t1.Representative_Role) as Max_Rep_Role\n",
    "FROM __temp__.Adopt_Applicant_Info t1\n",
    "Group by Case_Number, Party;\n",
    "\"\"\"\n",
    "\n",
    "pydb.create_temp_table(create_applicants_1,'applicants_1')\n",
    "\n",
    "create_applicants_2 = f\"\"\"\n",
    "SELECT  t1.*,\n",
    "case when Max_Rep_Role IS NULL then 0\n",
    "else 1\n",
    "end as Rep_IND\n",
    "FROM __temp__.Applicants_1 t1;\n",
    "\"\"\"\n",
    "pydb.create_temp_table(create_applicants_2,'applicants_2')\n",
    "\n",
    "create_applicants_3 = f\"\"\"\n",
    "SELECT Distinct t1.Case_Number,\n",
    "Count(t1.Party) as CountOfParty,\n",
    "SUM(t1.Rep_Ind) as SumOfRep_IND\n",
    "FROM __temp__.Applicants_2 t1\n",
    "Group by Case_Number;\n",
    "\"\"\"\n",
    "pydb.create_temp_table(create_applicants_3,'applicants_3')\n",
    "\n",
    "create_Applicant_representation = f\"\"\"\n",
    "CREATE TABLE IF NOT EXISTS __temp__.Applicant_representation\n",
    "WITH (format = 'PARQUET', external_location = 's3://alpha-family-data/__temp___processing/Adoption/Applicant_representation') AS\n",
    "SELECT t1.Case_Number,\n",
    "t1.CountOfParty,\n",
    "t1.SumOfRep_IND,\n",
    "CASE WHEN t1.SumOfRep_Ind > t1.CountOfParty then 'Error'\n",
    "WHEN t1.SumOfRep_Ind = t1.CountOfParty then 'All'\n",
    "WHEN t1.SumOfRep_Ind =0 then 'None' else 'Some'  end as App_Rep_Cat\n",
    "FROM __temp__.Applicants_3 t1;\n",
    "\"\"\"\n",
    "\n",
    "pydb.read_sql_query(create_Applicant_representation)\n",
    "\n"
   ]
  },
  {
   "cell_type": "markdown",
   "metadata": {},
   "source": [
    "#### Applicant_representation validation"
   ]
  },
  {
   "cell_type": "code",
   "execution_count": null,
   "metadata": {},
   "outputs": [],
   "source": [
    "Applicant_representation_count = pydb.read_sql_query(\"select count(*) as count from __temp__.Applicant_representation\")\n",
    "Applicant_representation_count"
   ]
  },
  {
   "cell_type": "markdown",
   "metadata": {},
   "source": [
    "## Respondent_Representation table"
   ]
  },
  {
   "cell_type": "markdown",
   "metadata": {},
   "source": [
    "### Create the Respondent_Representation table in Athena"
   ]
  },
  {
   "cell_type": "code",
   "execution_count": null,
   "metadata": {},
   "outputs": [],
   "source": [
    "create_respondents_1 = f\"\"\"\n",
    "SELECT Distinct t1.Case_Number, t1.Party, MAX(t1.Representative_Role) as Max_Rep_Role\n",
    "FROM __temp__.Adopt_Respondent_Info t1\n",
    "Group by Case_Number, Party;\n",
    "\"\"\"\n",
    "\n",
    "pydb.create_temp_table(create_respondents_1,'respondents_1')\n",
    "\n",
    "create_respondents_2 = f\"\"\"\n",
    "SELECT  t1.*,\n",
    "case when Max_Rep_Role IS NULL then 0\n",
    "else 1\n",
    "end as Rep_IND\n",
    "FROM __temp__.respondents_1 t1;\n",
    "\"\"\"\n",
    "pydb.create_temp_table(create_respondents_2,'respondents_2')\n",
    "\n",
    "create_respondents_3 = f\"\"\"\n",
    "SELECT Distinct t1.Case_Number,\n",
    "Count(t1.Party) as CountOfParty,\n",
    "SUM(t1.Rep_Ind) as SumOfRep_IND\n",
    "FROM __temp__.respondents_2 t1\n",
    "Group by Case_Number;\n",
    "\"\"\"\n",
    "pydb.create_temp_table(create_respondents_3,'respondents_3')\n",
    "\n",
    "create_Respondent_Representation = f\"\"\"\n",
    "SELECT t1.Case_Number,\n",
    "t1.CountOfParty,\n",
    "t1.SumOfRep_IND,\n",
    "CASE WHEN t1.SumOfRep_Ind > t1.CountOfParty then 'Error'\n",
    "WHEN t1.SumOfRep_Ind = t1.CountOfParty then 'All'\n",
    "WHEN t1.SumOfRep_Ind =0 then 'None' else 'Some'  end as Res_Rep_Cat\n",
    "FROM __temp__.Respondents_3 t1\n",
    "\"\"\"\n",
    "\n",
    "pydb.create_temp_table(create_Respondent_Representation,'Respondent_Representation')\n",
    "\n"
   ]
  },
  {
   "cell_type": "markdown",
   "metadata": {},
   "source": [
    "#### Respondent_Representation validation"
   ]
  },
  {
   "cell_type": "code",
   "execution_count": null,
   "metadata": {},
   "outputs": [],
   "source": [
    "Respondent_Representation_count = pydb.read_sql_query(\"select count(*) as count from __temp__.Respondent_Representation\")\n",
    "Respondent_Representation_count"
   ]
  },
  {
   "cell_type": "markdown",
   "metadata": {},
   "source": [
    "## Adopt_Disposals_Final table"
   ]
  },
  {
   "cell_type": "code",
   "execution_count": null,
   "metadata": {},
   "outputs": [],
   "source": [
    "create_ADOPT_APP_AND_ORDERS_WITH_REP = f\"\"\"\n",
    "SELECT t1.*,\n",
    "t2.APP_REP_CAT, \n",
    "t3.RES_REP_CAT\n",
    "FROM fcsq.ADOPT_APPS_AND_ORDERS_MATCH AS t1\n",
    "LEFT JOIN __temp__.Applicant_Representation AS t2 ON (t1.CASE_NUMBER = t2.CASE_NUMBER)\n",
    "LEFT JOIN __temp__.RESPONDENT_REPRESENTATION as t3 ON t1.CASE_NUMBER = t3.CASE_NUMBER;\n",
    "\"\"\"\n",
    "pydb.create_temp_table(create_ADOPT_APP_AND_ORDERS_WITH_REP,'ADOPT_APP_AND_ORDERS_WITH_REP')"
   ]
  },
  {
   "cell_type": "code",
   "execution_count": null,
   "metadata": {},
   "outputs": [],
   "source": [
    "pydb.read_sql_query(\"SELECT Count(*) as COUNT from __temp__.adopt_app_and_orders_with_rep\")"
   ]
  },
  {
   "cell_type": "code",
   "execution_count": null,
   "metadata": {},
   "outputs": [],
   "source": [
    "create_Adopt_Disposals_Final = f\"\"\"\n",
    "SELECT t1.*,\n",
    "cast(t1.Year as varchar(3)) || '-Q' || cast(t1.quarter as varchar(3)) AS Quarter2, \n",
    "case when (t1.APP_REP_CAT Is Null Or t1.RES_REP_CAT Is Null)  then '5 Unknown'\n",
    "    when t1.APP_REP_CAT='None' and t1.RES_REP_CAT ='None' then '4 Neither'\n",
    "    when t1.APP_REP_CAT='None' and t1.RES_REP_CAT != 'None' then '3 Respondent Only'\n",
    "    when t1.APP_REP_CAT != 'None' and t1.RES_REP_CAT = 'None' then '2 Applicant Only'\n",
    "Else '1 Both'\n",
    "End AS REP_CAT\n",
    "\n",
    "FROM __temp__.ADOPT_APP_AND_ORDERS_WITH_REP AS t1 LEFT JOIN (SELECT * FROM {database}.courts_mv WHERE {database}.courts_mv.mojap_snapshot_date = date '{snapshot_date}')\n",
    "AS t2 \n",
    "ON t1.DSP_COURT = cast(t2.Code as varchar(3));\n",
    "\n",
    "\"\"\"\n",
    "\n",
    "pydb.create_temp_table(create_Adopt_Disposals_Final,'Adopt_Disposals_Final')\n",
    "\n",
    "\"\"\"\n",
    "Missed out these columns for now:\n",
    "\n",
    "t2.Region_Pre2014, \n",
    "t2.Region,\n",
    "Case when t1.YEAR < 2014 then t2.Region_Pre2014\n",
    "Else t2.Region\n",
    "End As Final_Region\n",
    "\n",
    "\"\"\"\n",
    "\n",
    "create_Adopt_Disposals_Final_2 = f\"\"\"\n",
    "SELECT *\n",
    "FROM __temp__.ADOPT_DISPOSALS_FINAL\n",
    "WHERE adoption = 'Adoption';\n",
    "\"\"\"\n",
    "\n",
    "pydb.create_temp_table(create_Adopt_Disposals_Final_2,'Adopt_Disposals_Final_2')"
   ]
  },
  {
   "cell_type": "markdown",
   "metadata": {},
   "source": [
    "#### Adopt_Disposals_Final validation"
   ]
  },
  {
   "cell_type": "code",
   "execution_count": null,
   "metadata": {},
   "outputs": [],
   "source": [
    "Adopt_Disposals_Final_count = pydb.read_sql_query(\"select count(*) as count from __temp__.Adopt_Disposals_Final_2\")\n",
    "Adopt_Disposals_Final_count"
   ]
  },
  {
   "cell_type": "code",
   "execution_count": null,
   "metadata": {},
   "outputs": [],
   "source": []
  },
  {
   "cell_type": "markdown",
   "metadata": {},
   "source": [
    "## Adopt_Quarterly table"
   ]
  },
  {
   "cell_type": "markdown",
   "metadata": {},
   "source": [
    "### Create the Adopt_Quarterly table in Athena"
   ]
  },
  {
   "cell_type": "code",
   "execution_count": null,
   "metadata": {},
   "outputs": [],
   "source": [
    "create_Adopt_Quarterly = f\"\"\"\n",
    "SELECT DISTINCT\n",
    "        'Adoption' as type,\n",
    "        year,\n",
    "        'Q' || cast(quarter as varchar(3)) AS quarter,\n",
    "        rep_cat,\n",
    "        count(*) as n,\n",
    "        avg(wait_weeks) as mean\n",
    "    FROM \n",
    "        __temp__.ADOPT_DISPOSALS_FINAL_2\n",
    "    WHERE year > 2010 \n",
    "    AND quarter2 <> '2021-Q4'\n",
    "    AND adoption='Adoption'\n",
    "GROUP BY\n",
    "    year,\n",
    "    quarter,\n",
    "    rep_cat\n",
    "    \n",
    "UNION ALL\n",
    "SELECT DISTINCT\n",
    "        'Adoption' as type,\n",
    "        year,\n",
    "        'Q' || cast(quarter as varchar(3)) AS quarter,\n",
    "        'All' as rep_cat,\n",
    "        count(*) as n,\n",
    "        avg(wait_weeks) as mean\n",
    "    FROM \n",
    "        __temp__.ADOPT_DISPOSALS_FINAL_2\n",
    "    WHERE year > 2010 \n",
    "    AND quarter2 <> '2021-Q4'\n",
    "    AND adoption='Adoption'\n",
    "GROUP BY\n",
    "    year,\n",
    "    quarter\n",
    "\"\"\"\n",
    "\n",
    "\n",
    "pydb.create_temp_table(create_Adopt_Quarterly,'Adopt_Quarterly')\n",
    "\n",
    "\n"
   ]
  },
  {
   "cell_type": "markdown",
   "metadata": {},
   "source": [
    "#### Adopt_Quarterly validation"
   ]
  },
  {
   "cell_type": "code",
   "execution_count": null,
   "metadata": {},
   "outputs": [],
   "source": [
    "Adopt_Quarterly_count = pydb.read_sql_query(\"select count(*) as count from __temp__.Adopt_Quarterly\")\n",
    "Adopt_Quarterly_count"
   ]
  },
  {
   "cell_type": "markdown",
   "metadata": {},
   "source": [
    "## Adopt_Annual table"
   ]
  },
  {
   "cell_type": "markdown",
   "metadata": {},
   "source": [
    "### Create the Adopt_Annual table in Athena"
   ]
  },
  {
   "cell_type": "code",
   "execution_count": null,
   "metadata": {},
   "outputs": [],
   "source": [
    "create_Adopt_Annual = f\"\"\"\n",
    "SELECT DISTINCT\n",
    "        'Adoption' as type,\n",
    "        year,\n",
    "        'N/A' as quarter,\n",
    "        rep_cat,\n",
    "        count(*) as n,\n",
    "        avg(wait_weeks) as mean\n",
    "    FROM \n",
    "        __temp__.ADOPT_DISPOSALS_FINAL_2\n",
    "    WHERE year > 2010 \n",
    "    AND year < 2021\n",
    "    AND adoption='Adoption'\n",
    "GROUP BY\n",
    "    year,\n",
    "    rep_cat\n",
    "    \n",
    "UNION ALL\n",
    "SELECT DISTINCT\n",
    "        'Adoption' as type,\n",
    "        year,\n",
    "        'N/A' as quarter,\n",
    "        'All' as rep_cat,\n",
    "        count(*) as n,\n",
    "        avg(wait_weeks) as mean\n",
    "    FROM \n",
    "        __temp__.ADOPT_DISPOSALS_FINAL_2\n",
    "    WHERE year > 2010 \n",
    "    AND year < 2021\n",
    "    AND adoption='Adoption'\n",
    "GROUP BY\n",
    "    year\n",
    "\"\"\"\n",
    "\n",
    "pydb.create_temp_table(create_Adopt_Annual,'Adopt_Annual')\n",
    "\n"
   ]
  },
  {
   "cell_type": "markdown",
   "metadata": {},
   "source": [
    "#### Adopt_Annual validation"
   ]
  },
  {
   "cell_type": "code",
   "execution_count": null,
   "metadata": {},
   "outputs": [],
   "source": [
    "Adopt_Annual_count = pydb.read_sql_query(\"select count(*) as count from __temp__.Adopt_Annual\")\n",
    "Adopt_Annual_count\n",
    "\n"
   ]
  },
  {
   "cell_type": "code",
   "execution_count": null,
   "metadata": {},
   "outputs": [],
   "source": [
    "df = pydb.read_sql_query(\"SELECT * FROM __temp__.Adoption\")\n",
    "#df.to_csv(path_or_buf = 's3://alpha-family-data/CSVs/Adoption_legrep.csv',index=False)\n",
    "df.to_csv('CAlegreptest.csv')\n"
   ]
  },
  {
   "cell_type": "markdown",
   "metadata": {},
   "source": [
    "## adopt_timeliness_combined table"
   ]
  },
  {
   "cell_type": "markdown",
   "metadata": {},
   "source": [
    "### Create the adopt_timeliness_combined table in Athena"
   ]
  },
  {
   "cell_type": "code",
   "execution_count": null,
   "metadata": {},
   "outputs": [],
   "source": [
    "create_adopt_timeliness_combined = f\"\"\"\n",
    "SELECT * FROM __temp__.Adopt_Annual \n",
    "UNION ALL \n",
    "SELECT * FROM __temp__.Adopt_Quarterly ORDER BY type,year,quarter,rep_cat\n",
    "\"\"\"\n",
    "\n",
    "pydb.create_temp_table(create_adopt_timeliness_combined,'adopt_timeliness_combined')\n",
    "\n"
   ]
  },
  {
   "cell_type": "markdown",
   "metadata": {},
   "source": [
    "#### adopt_timeliness_combined validation"
   ]
  },
  {
   "cell_type": "code",
   "execution_count": null,
   "metadata": {},
   "outputs": [],
   "source": [
    "adopt_timeliness_combined_count = pydb.read_sql_query(\"select count(*) as count from __temp__.adopt_timeliness_combined\")\n",
    "adopt_timeliness_combined_count"
   ]
  },
  {
   "cell_type": "code",
   "execution_count": null,
   "metadata": {},
   "outputs": [],
   "source": [
    "df = pydb.read_sql_query(\"SELECT * FROM __temp__.adopt_timeliness_combined\")\n",
    "column_order = ['n','mean']\n",
    "df = df.pivot_table(index=['type','year','quarter'],columns=['rep_cat'],values = ['n','mean'],aggfunc=sum, fill_value=0).swaplevel(axis=1).sort_index(axis=1)\n",
    "df"
   ]
  },
  {
   "cell_type": "code",
   "execution_count": null,
   "metadata": {},
   "outputs": [],
   "source": []
  }
 ],
 "metadata": {
  "kernelspec": {
   "display_name": "venvname",
   "language": "python",
   "name": "venvname"
  },
  "language_info": {
   "codemirror_mode": {
    "name": "ipython",
    "version": 3
   },
   "file_extension": ".py",
   "mimetype": "text/x-python",
   "name": "python",
   "nbconvert_exporter": "python",
   "pygments_lexer": "ipython3",
   "version": "3.7.1"
  },
  "varInspector": {
   "cols": {
    "lenName": 16,
    "lenType": 16,
    "lenVar": 40
   },
   "kernels_config": {
    "python": {
     "delete_cmd_postfix": "",
     "delete_cmd_prefix": "del ",
     "library": "var_list.py",
     "varRefreshCmd": "print(var_dic_list())"
    },
    "r": {
     "delete_cmd_postfix": ") ",
     "delete_cmd_prefix": "rm(",
     "library": "var_list.r",
     "varRefreshCmd": "cat(var_dic_list()) "
    }
   },
   "types_to_exclude": [
    "module",
    "function",
    "builtin_function_or_method",
    "instance",
    "_Feature"
   ],
   "window_display": false
  }
 },
 "nbformat": 4,
 "nbformat_minor": 2
}
