{
 "cells": [
  {
   "cell_type": "markdown",
   "metadata": {},
   "source": [
    "# SAS extraction & Manipulation\n"
   ]
  },
  {
   "cell_type": "code",
   "execution_count": null,
   "metadata": {},
   "outputs": [],
   "source": [
    "# libraries\n",
    "import pandas as pd\n",
    "import pydbtools as pydb\n",
    "import boto3\n",
    "from datetime import datetime\n",
    "#import re"
   ]
  },
  {
   "cell_type": "code",
   "execution_count": null,
   "metadata": {},
   "outputs": [],
   "source": [
    "# Structured  dataframes\n",
    "pd.set_option(\"display.max_columns\", 100)\n",
    "pd.set_option(\"display.width\", 900)\n",
    "pd.set_option(\"display.max_colwidth\", 200)"
   ]
  },
  {
   "cell_type": "code",
   "execution_count": null,
   "metadata": {},
   "outputs": [],
   "source": [
    "# Assigning databases and S3 bucket\n",
    "db1 = \"familyman_dev_v2\"\n",
    "fcsq_db = \"fcsq\"\n",
    "s3 = boto3.resource(\"s3\")\n",
    "bucket = s3.Bucket(\"alpha-family-data\")\n",
    "snapshot_date = \"2021-08-19\""
   ]
  },
  {
   "cell_type": "markdown",
   "metadata": {},
   "source": [
    "# Query 1.1:\n",
    "# ORD_EVENTS_ALL\n",
    "created as temp table"
   ]
  },
  {
   "cell_type": "code",
   "execution_count": null,
   "metadata": {},
   "outputs": [],
   "source": [
    "\n",
    "ss = f\"\"\"\n",
    "SELECT event,\n",
    "    case_number,\n",
    "    event_model,\n",
    "    receipt_date,\n",
    "    entry_date,\n",
    "    Event_error,\n",
    "    creating_court,\n",
    "    Court_code,\n",
    "    field_model,\n",
    "    value\n",
    "from fcsq.CH_ACT_ORDS_EVENTS_2\n",
    "UNION ALL\n",
    "SELECT event,\n",
    "    case_number,\n",
    "    event_model,\n",
    "    receipt_date,\n",
    "    entry_date,\n",
    "    Event_error,\n",
    "    creating_court,\n",
    "    Court_code,  \n",
    "    null as field_model,\n",
    "    null as value\n",
    "from fcsq.CH_ACT_ORDS_EVENTS_1\n",
    "\"\"\"\n",
    "\n",
    "pydb.create_temp_table(ss ,\"ORD_EVENTS_ALL\")"
   ]
  },
  {
   "cell_type": "code",
   "execution_count": null,
   "metadata": {},
   "outputs": [],
   "source": [
    "df = pydb.read_sql_query(\"select * from __temp__.ORD_EVENTS_ALL\")\n",
    "df.head()"
   ]
  },
  {
   "cell_type": "code",
   "execution_count": null,
   "metadata": {},
   "outputs": [],
   "source": [
    "# row counting\n",
    "counter = pydb.read_sql_query(\"select count(*) as count from __temp__.ORD_EVENTS_ALL\")\n",
    "counter"
   ]
  },
  {
   "cell_type": "markdown",
   "metadata": {},
   "source": [
    "# Query 1.2:\n",
    "# ORD_EVENTS_WITH_EXTRA_INFO"
   ]
  },
  {
   "cell_type": "code",
   "execution_count": null,
   "metadata": {},
   "outputs": [],
   "source": [
    "# In_respect_of_which_children = CH_ACT_CHILDREN_INV\n",
    "# Consent_data = CH_CONSENT_INF\n",
    "# Code= Court_code\n",
    "\n",
    "dd = f\"\"\"\n",
    "SELECT a.EVENT,                                       \n",
    "       a.CASE_NUMBER, \n",
    "       a.EVENT_MODEL, \n",
    "       a.RECEIPT_DATE, \n",
    "       a.ENTRY_DATE, \n",
    "       a.CREATING_COURT, \n",
    "       a.Court_code, \n",
    "       a.FIELD_MODEL AS EVENT_FIELD_MODEL, \n",
    "       a.VALUE  AS EVENT_VALUE, \n",
    "       b.FIELD_MODEL AS CHILD_FIELD_MODEL, \n",
    "       b.VALUE AS CHILD_VALUE, \n",
    "       c.FIELD_MODEL AS CONSENT_FIELD_MODEL, \n",
    "       c.VALUE  AS CONSENT_VALUE, \n",
    "       d.FIELD_MODEL AS FIN_ORD_FIELD_MODEL, \n",
    "       d.VALUE AS FIN_ORD_VALUE\n",
    "FROM   __temp__.ORD_EVENTS_ALL a\n",
    "LEFT JOIN fcsq.In_respect_of_which_children b ON a.EVENT = b.EVENT\n",
    "LEFT JOIN fcsq.Consent_data c ON  a.EVENT = c.EVENT\n",
    "LEFT JOIN fcsq.final_order_data d ON a.EVENT = d.EVENT\n",
    "GROUP BY a.EVENT, a.CASE_NUMBER, a.EVENT_MODEL, a.RECEIPT_DATE, \n",
    "         a.ENTRY_DATE, a.CREATING_COURT, a.Court_code, a.FIELD_MODEL, \n",
    "         a.VALUE, b.FIELD_MODEL, b.VALUE, c.FIELD_MODEL, c.VALUE,\n",
    "         d.FIELD_MODEL, d.VALUE;\n",
    "\"\"\"\n",
    "            \n",
    "pydb.create_temp_table(dd ,\"ORD_EVENTS_WITH_EXTRA_INFO\")"
   ]
  },
  {
   "cell_type": "code",
   "execution_count": null,
   "metadata": {},
   "outputs": [],
   "source": [
    "df = pydb.read_sql_query(\"select * from __temp__.ORD_EVENTS_WITH_EXTRA_INFO\")\n",
    "df.head()"
   ]
  },
  {
   "cell_type": "code",
   "execution_count": null,
   "metadata": {},
   "outputs": [],
   "source": [
    "# row counting\n",
    "counter = pydb.read_sql_query(\"select count(*) as count from __temp__.ORD_EVENTS_WITH_EXTRA_INFO\")\n",
    "counter"
   ]
  },
  {
   "cell_type": "markdown",
   "metadata": {},
   "source": [
    "# Query 1.3:\n",
    "# ORD_EVENTS_WITH_CALC_FIELDS"
   ]
  },
  {
   "cell_type": "code",
   "execution_count": null,
   "metadata": {},
   "outputs": [],
   "source": []
  },
  {
   "cell_type": "code",
   "execution_count": null,
   "metadata": {},
   "outputs": [],
   "source": [
    "aa = f\"\"\"\n",
    "SELECT DISTINCT \n",
    "          (Substr(CASE_NUMBER,5,1)) AS CASE_TYPE, \n",
    "          CASE_NUMBER, \n",
    "          CASE WHEN RECEIPT_DATE  IS NOT NULL then ENTRY_DATE \n",
    "          else RECEIPT_DATE end as DATE, \n",
    "          CAST(EVENT/100000000 AS INT) AS EVENT_CODE, \n",
    "          EVENT, \n",
    "          EVENT_MODEL, \n",
    "          EVENT_VALUE, \n",
    "          CHILD_VALUE, \n",
    "          CONSENT_VALUE, \n",
    "          FIN_ORD_VALUE\n",
    "FROM __temp__.ORD_EVENTS_WITH_EXTRA_INFO\n",
    "\"\"\"\n",
    "pydb.create_temp_table(aa,\"ORD_EVENTS_WITH_CALC_FIELDS\")"
   ]
  },
  {
   "cell_type": "code",
   "execution_count": null,
   "metadata": {},
   "outputs": [],
   "source": [
    "df = pydb.read_sql_query(\"select * from __temp__.ORD_EVENTS_WITH_CALC_FIELDS\")\n",
    "df.head()"
   ]
  },
  {
   "cell_type": "code",
   "execution_count": null,
   "metadata": {},
   "outputs": [],
   "source": [
    "# row counting\n",
    "counter = pydb.read_sql_query(\"select count(*) as count from __temp__.ORD_EVENTS_WITH_CALC_FIELDS\")\n",
    "counter\n"
   ]
  },
  {
   "cell_type": "markdown",
   "metadata": {},
   "source": [
    "# Query 1.4:"
   ]
  },
  {
   "cell_type": "markdown",
   "metadata": {},
   "source": [
    "# ORD_FINAL_SUPS_DATA"
   ]
  },
  {
   "cell_type": "code",
   "execution_count": null,
   "metadata": {},
   "outputs": [],
   "source": [
    "kk = f\"\"\"\n",
    "SELECT a.Date, \n",
    "       a.CASE_TYPE, \n",
    "       a.CASE_NUMBER, \n",
    "       a.EVENT_CODE, \n",
    "       a.EVENT, \n",
    "       a.EVENT_MODEL, \n",
    "       a.EVENT_VALUE, \n",
    "       a.CHILD_VALUE, \n",
    "       a.CONSENT_VALUE, \n",
    "       a.FIN_ORD_VALUE, \n",
    "       b.order_type\n",
    "FROM __temp__.ORD_EVENTS_WITH_CALC_FIELDS a\n",
    "LEFT JOIN fcsq.order_type_decode b ON b.event_model = a.event_model \n",
    "AND a.EVENT_VALUE = b.Value;\n",
    "\"\"\"\n",
    "pydb.create_temp_table(kk,\"ORD_FINAL_SUPS_DATA\")\n",
    "# The lookup order_type_decode was created in athena."
   ]
  },
  {
   "cell_type": "code",
   "execution_count": null,
   "metadata": {},
   "outputs": [],
   "source": [
    "df = pydb.read_sql_query(\"select * from __temp__.ORD_FINAL_SUPS_DATA\")\n",
    "df.head()"
   ]
  },
  {
   "cell_type": "code",
   "execution_count": null,
   "metadata": {},
   "outputs": [],
   "source": [
    "# row counting\n",
    "counter = pydb.read_sql_query(\"select count(*) as count from __temp__.ORD_FINAL_SUPS_DATA\")\n",
    "counter\n"
   ]
  },
  {
   "cell_type": "markdown",
   "metadata": {},
   "source": [
    "# ORD_APP_WTHD_EVENTS_EXTRA_INFO"
   ]
  },
  {
   "cell_type": "markdown",
   "metadata": {},
   "source": [
    "# Query 2.1:"
   ]
  },
  {
   "cell_type": "code",
   "execution_count": null,
   "metadata": {},
   "outputs": [],
   "source": [
    "ff = f\"\"\"\n",
    "SELECT t1.EVENT, \n",
    "       t1.CASE_NUMBER, \n",
    "       t1.EVENT_MODEL, \n",
    "       t1.RECEIPT_DATE,\n",
    "       t1.ENTRY_DATE,\n",
    "       t1.CREATING_COURT, \n",
    "       t1.Court_code, \n",
    "       t1.FIELD_MODEL AS EVENT_FIELD_MODEL,\n",
    "       t5.VALUE AS EVENT_VALUE, \n",
    "       t2.FIELD_MODEL AS CHILD_FIELD_MODEL, \n",
    "       t2.VALUE AS CHILD_VALUE, \n",
    "       t3.FIELD_MODEL AS FIN_ORD_FIELD_MODEL, \n",
    "       t3.VALUE AS FIN_ORD_VALUE  \n",
    "         \n",
    "FROM fcsq.CH_ACT_APP_WITHDRAW_EVENTS t1 \n",
    "LEFT JOIN fcsq.In_respect_of_which_children t2 ON t1.EVENT = t2.EVENT\n",
    "LEFT JOIN fcsq.Application_wrt_final_order t3 ON t1.EVENT = t3.EVENT\n",
    "LEFT JOIN fcsq.Application_wrt_order_type t5 ON t1.VALUE2 = t5.EVENT\n",
    "GROUP BY t1.EVENT,t1.CASE_NUMBER,t1.EVENT_MODEL,t1.RECEIPT_DATE,t1.ENTRY_DATE,t1.CREATING_COURT,\n",
    "t1.court_code,t1.FIELD_MODEL,t5.VALUE,t2.FIELD_MODEL,t2.VALUE,t3.FIELD_MODEL,t3.VALUE;\n",
    "\"\"\"\n",
    "pydb.create_temp_table(ff, \"ORD_APP_WTHD_EVENTS_EXTRA_INFO\")\n",
    "    "
   ]
  },
  {
   "cell_type": "code",
   "execution_count": null,
   "metadata": {},
   "outputs": [],
   "source": [
    "df = pydb.read_sql_query(\"select * from __temp__.ORD_APP_WTHD_EVENTS_EXTRA_INFO\")\n",
    "df.head()"
   ]
  },
  {
   "cell_type": "code",
   "execution_count": null,
   "metadata": {},
   "outputs": [],
   "source": [
    "counter = pydb.read_sql_query(\"select count(*) as count from __temp__.ORD_APP_WTHD_EVENTS_EXTRA_INFO\")\n",
    "counter"
   ]
  },
  {
   "cell_type": "markdown",
   "metadata": {},
   "source": [
    "# Query 2.2:\n",
    "# ORD_WTHD_EVENTS_WITH_CALC_FIELDS"
   ]
  },
  {
   "cell_type": "code",
   "execution_count": null,
   "metadata": {},
   "outputs": [],
   "source": [
    "tt = f\"\"\"\n",
    "SELECT \n",
    "     CASE when receipt_date is not null then CAST(entry_date AS DATE) else receipt_date end as Date, \n",
    "    (SUBSTR(CASE_NUMBER, 5,1)) AS CASE_TYPE, \n",
    "     CASE_NUMBER, \n",
    "     CAST(EVENT/100000000 AS INT) AS EVENT_CODE, \n",
    "     EVENT, \n",
    "     EVENT_FIELD_MODEL, \n",
    "     EVENT_VALUE, \n",
    "     CHILD_VALUE, \n",
    "     FIN_ORD_VALUE\n",
    "     FROM __temp__.ORD_APP_WTHD_EVENTS_EXTRA_INFO ;\n",
    "\"\"\"\n",
    "pydb.create_temp_table(tt,\"ORD_WTHD_EVENTS_WITH_CALC_FIELDS\")"
   ]
  },
  {
   "cell_type": "code",
   "execution_count": null,
   "metadata": {},
   "outputs": [],
   "source": [
    "df = pydb.read_sql_query(\"select * from __temp__.ORD_WTHD_EVENTS_WITH_CALC_FIELDS\")\n",
    "df"
   ]
  },
  {
   "cell_type": "code",
   "execution_count": null,
   "metadata": {},
   "outputs": [],
   "source": [
    "counter = pydb.read_sql_query(\"select count(*) as count from __temp__.ORD_WTHD_EVENTS_WITH_CALC_FIELDS\")\n",
    "counter"
   ]
  },
  {
   "cell_type": "markdown",
   "metadata": {},
   "source": [
    "# Query 2.3:\n",
    "# ORD_APP_WTHD_FINAL_SUPS_DATA"
   ]
  },
  {
   "cell_type": "code",
   "execution_count": null,
   "metadata": {},
   "outputs": [],
   "source": [
    "pp= f\"\"\"\n",
    "SELECT Date, \n",
    "       CASE_TYPE, \n",
    "       CASE_NUMBER, \n",
    "       EVENT_CODE, \n",
    "       EVENT, \n",
    "       EVENT_FIELD_MODEL AS EVENT_MODEL, \n",
    "       EVENT_VALUE, \n",
    "       CHILD_VALUE, \n",
    "       FIN_ORD_VALUE\n",
    "FROM __temp__.ORD_WTHD_EVENTS_WITH_CALC_FIELDS\n",
    "\"\"\"\n",
    "pydb.create_temp_table(pp,\"ORD_APP_WTHD_FINAL_SUPS_DATA\")"
   ]
  },
  {
   "cell_type": "code",
   "execution_count": null,
   "metadata": {},
   "outputs": [],
   "source": [
    "df = pydb.read_sql_query(\"select * from __temp__.ORD_APP_WTHD_FINAL_SUPS_DATA\")\n",
    "df.head()"
   ]
  },
  {
   "cell_type": "code",
   "execution_count": null,
   "metadata": {},
   "outputs": [],
   "source": [
    "counter = pydb.read_sql_query(\"select count(*) as count from __temp__.ORD_APP_WTHD_FINAL_SUPS_DATA\")\n",
    "counter"
   ]
  },
  {
   "cell_type": "markdown",
   "metadata": {},
   "source": [
    "# Query 3.1:\n",
    "# DISPS_ALL"
   ]
  },
  {
   "cell_type": "code",
   "execution_count": null,
   "metadata": {},
   "outputs": [],
   "source": [
    "yy = f\"\"\"\n",
    "SELECT Date, \n",
    "       CASE_TYPE, \n",
    "       CASE_NUMBER, \n",
    "       EVENT_CODE, \n",
    "       EVENT, \n",
    "       EVENT_MODEL, \n",
    "       EVENT_VALUE, \n",
    "       CHILD_VALUE, \n",
    "       CONSENT_VALUE, \n",
    "       FIN_ORD_VALUE, \n",
    "       order_type\n",
    "FROM  __temp__.ORD_FINAL_SUPS_DATA\n",
    "UNION ALL\n",
    "SELECT Date, \n",
    "       CASE_TYPE, \n",
    "       CASE_NUMBER, \n",
    "       EVENT_CODE, \n",
    "       EVENT, \n",
    "       EVENT_MODEL, \n",
    "       EVENT_VALUE, \n",
    "       CHILD_VALUE, \n",
    "       null as CONSENT_VALUE,\n",
    "       FIN_ORD_VALUE,\n",
    "       null as order_type\n",
    "FROM __temp__.ORD_APP_WTHD_FINAL_SUPS_DATA\n",
    "\"\"\"\n",
    "pydb.create_temp_table(yy,\"DISPS_ALL\")"
   ]
  },
  {
   "cell_type": "code",
   "execution_count": null,
   "metadata": {},
   "outputs": [],
   "source": [
    "df = pydb.read_sql_query(\"select * from __temp__.DISPS_ALL\")\n",
    "df.head()"
   ]
  },
  {
   "cell_type": "code",
   "execution_count": null,
   "metadata": {},
   "outputs": [],
   "source": [
    "counter = pydb.read_sql_query(\"select count(*) as count from __temp__.DISPS_ALL\")\n",
    "counter"
   ]
  },
  {
   "cell_type": "markdown",
   "metadata": {},
   "source": [
    "# Query 3.2:\n",
    "# CHILD_DETAILS_AMENDED"
   ]
  },
  {
   "cell_type": "code",
   "execution_count": null,
   "metadata": {},
   "outputs": [],
   "source": [
    "zz = f\"\"\"\n",
    "SELECT \n",
    "      ROLE AS ROLE_ID, \n",
    "      CASE_NUMBER, \n",
    "      PARTY, \n",
    "      ROLE_MODEL, \n",
    "      GENDER, \n",
    "      DOB, \n",
    "      DELETE_FLAG\n",
    "      FROM fcsq.child_party_details ;\n",
    "\"\"\"\n",
    "pydb.create_temp_table(zz,\"CHILD_DETAILS_AMENDED\")"
   ]
  },
  {
   "cell_type": "code",
   "execution_count": null,
   "metadata": {},
   "outputs": [],
   "source": [
    "df = pydb.read_sql_query(\"select * from __temp__.CHILD_DETAILS_AMENDED\")\n",
    "df.head()"
   ]
  },
  {
   "cell_type": "code",
   "execution_count": null,
   "metadata": {},
   "outputs": [],
   "source": [
    "counter = pydb.read_sql_query(\"select count(*) as count from __temp__.CHILD_DETAILS_AMENDED\")\n",
    "counter"
   ]
  },
  {
   "cell_type": "markdown",
   "metadata": {},
   "source": [
    "# Query 3.3:\n",
    "# DISPS_CHILD_SPLIT"
   ]
  },
  {
   "cell_type": "code",
   "execution_count": null,
   "metadata": {},
   "outputs": [],
   "source": [
    "qq = f\"\"\"\n",
    "SELECT t1.Date, \n",
    "       t1.CASE_TYPE, \n",
    "       t1.CASE_NUMBER, \n",
    "       t1.EVENT_CODE, \n",
    "       t1.EVENT, \n",
    "       t1.EVENT_MODEL, \n",
    "       t1.EVENT_VALUE, \n",
    "       t1.CONSENT_VALUE, \n",
    "       t1.FIN_ORD_VALUE, \n",
    "       t1.Order_Type, \n",
    "       case when cast(t1.child_value as varchar(50)) is not null then cast(t2.role_id as varchar(50)) \n",
    "       else cast(t1.child_value as varchar(50)) end as Child_id,\n",
    "       t2.GENDER, \n",
    "       t2.DOB\n",
    "FROM __temp__.DISPS_ALL t1 \n",
    "LEFT JOIN __temp__.CHILD_DETAILS_AMENDED t2 ON t1.CASE_NUMBER = t2.CASE_NUMBER\n",
    "where t2.role_id is not null;\n",
    "\"\"\"\n",
    "\n",
    "pydb.create_temp_table(qq,\"DISPS_CHILD_SPLIT\")\n"
   ]
  },
  {
   "cell_type": "code",
   "execution_count": null,
   "metadata": {},
   "outputs": [],
   "source": [
    "df = pydb.read_sql_query(\"select * from __temp__.DISPS_CHILD_SPLIT\")\n",
    "df.head()"
   ]
  },
  {
   "cell_type": "code",
   "execution_count": null,
   "metadata": {},
   "outputs": [],
   "source": [
    "counter = pydb.read_sql_query(\"select count(*) as count from __temp__.DISPS_CHILD_SPLIT\")\n",
    "counter"
   ]
  },
  {
   "cell_type": "markdown",
   "metadata": {},
   "source": [
    "# Query 3.4:\n",
    "# NONSEC8DISPS"
   ]
  },
  {
   "cell_type": "code",
   "execution_count": null,
   "metadata": {},
   "outputs": [],
   "source": [
    "uu=f\"\"\"\n",
    "SELECT t1.Date, \n",
    "       t1.CASE_TYPE, \n",
    "       t1.CASE_NUMBER, \n",
    "       t1.EVENT_CODE, \n",
    "       t1.EVENT, \n",
    "       t1.EVENT_MODEL, \n",
    "       t1.EVENT_VALUE, \n",
    "       t1.CONSENT_VALUE, \n",
    "       t1.FIN_ORD_VALUE, \n",
    "       t1.order_type, \n",
    "       t1.CHILD_ID, \n",
    "       t1.GENDER, \n",
    "       t1.DOB\n",
    "FROM __temp__.DISPS_CHILD_SPLIT t1\n",
    "WHERE t1.EVENT_MODEL NOT IN ('C43', 'G63_1', 'ORDNOM', 'ORDREF');\n",
    "\"\"\"\n",
    "pydb.create_temp_table(uu,\"NONSEC8DISPS\")"
   ]
  },
  {
   "cell_type": "code",
   "execution_count": null,
   "metadata": {},
   "outputs": [],
   "source": [
    "df = pydb.read_sql_query(\"select * from __temp__.NONSEC8DISPS\")\n",
    "df.head()"
   ]
  },
  {
   "cell_type": "code",
   "execution_count": null,
   "metadata": {},
   "outputs": [],
   "source": [
    "counter = pydb.read_sql_query(\"select count(*) as count from __temp__.NONSEC8DISPS\")\n",
    "counter"
   ]
  },
  {
   "cell_type": "markdown",
   "metadata": {},
   "source": [
    "# 3.5:\n",
    "# SEC8DISPS"
   ]
  },
  {
   "cell_type": "code",
   "execution_count": null,
   "metadata": {},
   "outputs": [],
   "source": [
    "dd = f\"\"\"\n",
    "SELECT Date,\n",
    "       CASE_TYPE, \n",
    "       CASE_NUMBER, \n",
    "       EVENT_CODE, \n",
    "       EVENT, \n",
    "       EVENT_MODEL, \n",
    "       EVENT_VALUE AS EVENT_VALUE2, \n",
    "       CONSENT_VALUE, \n",
    "       FIN_ORD_VALUE, \n",
    "       order_type, \n",
    "       CHILD_ID, \n",
    "       GENDER, \n",
    "       DOB\n",
    "FROM __temp__.DISPS_CHILD_SPLIT \n",
    "WHERE EVENT_MODEL IN ('C43', 'G63_1', 'ORDNOM', 'ORDREF');\n",
    "\"\"\"\n",
    "pydb.create_temp_table(dd,\"SEC8DISPS\")"
   ]
  },
  {
   "cell_type": "code",
   "execution_count": null,
   "metadata": {},
   "outputs": [],
   "source": [
    "df = pydb.read_sql_query(\"select * from __temp__.SEC8DISPS\")\n",
    "df.head()"
   ]
  },
  {
   "cell_type": "code",
   "execution_count": null,
   "metadata": {},
   "outputs": [],
   "source": [
    "counter = pydb.read_sql_query(\"select count(*) as count from __temp__.SEC8DISPS\")\n",
    "counter"
   ]
  },
  {
   "cell_type": "markdown",
   "metadata": {},
   "source": [
    "# Query 3.6\n",
    "# SEC8DISPS_TYPESPLIT"
   ]
  },
  {
   "cell_type": "code",
   "execution_count": null,
   "metadata": {},
   "outputs": [],
   "source": [
    " fg = f\"\"\"\n",
    "SELECT t1.Date, \n",
    "       t1.CASE_TYPE, \n",
    "       t1.CASE_NUMBER, \n",
    "       t1.EVENT_CODE, \n",
    "       t1.EVENT, \n",
    "       t1.EVENT_MODEL, \n",
    "       t1.EVENT_VALUE2, \n",
    "       t1.CONSENT_VALUE, \n",
    "       t1.FIN_ORD_VALUE, \n",
    "       t1.CHILD_ID, \n",
    "       t1.GENDER, \n",
    "       t1.DOB,\n",
    "       case when cast(t1.event_value2 as varchar(50)) is not null then cast(t2.order_code as varchar(50)) \n",
    "           else cast(t2.order_name as varchar(50)) end as order_type1\n",
    "FROM __temp__.SEC8DISPS t1\n",
    "LEFT JOIN fcsq.sec8ordtypelookup t2 ON t1.CASE_TYPE = t2.CASE_TYPE\n",
    "where \n",
    "(case when cast(t1.event_value2 as varchar(50)) is not null then cast(t2.order_code as varchar(50)) \n",
    "           else cast(t2.order_name as varchar(50)) end ) is not null\n",
    "\"\"\"\n",
    "pydb.create_temp_table(fg,\"SEC8DISPS_TYPESPLIT\")   "
   ]
  },
  {
   "cell_type": "code",
   "execution_count": null,
   "metadata": {},
   "outputs": [],
   "source": [
    "df = pydb.read_sql_query(\"select * from __temp__.SEC8DISPS_TYPESPLIT\")\n",
    "df.head()"
   ]
  },
  {
   "cell_type": "code",
   "execution_count": null,
   "metadata": {},
   "outputs": [],
   "source": [
    "counter = pydb.read_sql_query(\"select count(*) as count from __temp__.SEC8DISPS_TYPESPLIT\")\n",
    "counter"
   ]
  },
  {
   "cell_type": "markdown",
   "metadata": {},
   "source": [
    "# 3.7:\n",
    "# SEC8DISPS_TYPESPLIT_AMEND"
   ]
  },
  {
   "cell_type": "code",
   "execution_count": null,
   "metadata": {},
   "outputs": [],
   "source": [
    "gg = f\"\"\"\n",
    "SELECT t1.Date, \n",
    "    t1.CASE_TYPE, \n",
    "          t1.CASE_NUMBER, \n",
    "          t1.EVENT_CODE, \n",
    "          t1.EVENT, \n",
    "          t1.EVENT_MODEL, \n",
    "          t1.EVENT_VALUE2 AS EVENT_VALUE, \n",
    "          t1.CONSENT_VALUE, \n",
    "          t1.FIN_ORD_VALUE, \n",
    "          t1.CHILD_ID, \n",
    "          t1.GENDER, \n",
    "          t1.DOB, \n",
    "          t1.ORDER_TYPE1 AS order_type\n",
    "      FROM __temp__.SEC8DISPS_TYPESPLIT t1;\n",
    "\"\"\"\n",
    "pydb.create_temp_table(gg,\"SEC8DISPS_TYPESPLIT_AMEND\") "
   ]
  },
  {
   "cell_type": "code",
   "execution_count": null,
   "metadata": {},
   "outputs": [],
   "source": [
    "df = pydb.read_sql_query(\"select * from __temp__.SEC8DISPS_TYPESPLIT_AMEND\")\n",
    "df.head()"
   ]
  },
  {
   "cell_type": "code",
   "execution_count": null,
   "metadata": {},
   "outputs": [],
   "source": [
    "counter = pydb.read_sql_query(\"select count(*) as count from __temp__.SEC8DISPS_TYPESPLIT_AMEND\")\n",
    "counter"
   ]
  },
  {
   "cell_type": "markdown",
   "metadata": {},
   "source": [
    "# 3.8:\n",
    "# DISPS_ALL_WITH_SPLITS"
   ]
  },
  {
   "cell_type": "code",
   "execution_count": null,
   "metadata": {},
   "outputs": [],
   "source": [
    "hh = f\"\"\"\n",
    "SELECT Date, \n",
    "       CASE_TYPE, \n",
    "       CASE_NUMBER, \n",
    "       EVENT_CODE, \n",
    "       EVENT, \n",
    "       EVENT_MODEL, \n",
    "       EVENT_VALUE,\n",
    "       CONSENT_VALUE, \n",
    "       FIN_ORD_VALUE, \n",
    "       CHILD_ID, \n",
    "       GENDER, \n",
    "       DOB,\n",
    "       order_type\n",
    "FROM  __temp__.NONSEC8DISPS\n",
    "UNION ALL\n",
    "SELECT Date, \n",
    "        CASE_TYPE, \n",
    "          CASE_NUMBER, \n",
    "          EVENT_CODE, \n",
    "          EVENT, \n",
    "          EVENT_MODEL, \n",
    "          EVENT_VALUE, \n",
    "          CONSENT_VALUE, \n",
    "          FIN_ORD_VALUE, \n",
    "          CHILD_ID, \n",
    "          GENDER, \n",
    "          DOB, \n",
    "          order_type\n",
    "FROM __temp__.SEC8DISPS_TYPESPLIT_AMEND\n",
    "\"\"\"\n",
    "pydb.create_temp_table(hh,\"DISPS_ALL_WITH_SPLITS\") "
   ]
  },
  {
   "cell_type": "code",
   "execution_count": null,
   "metadata": {},
   "outputs": [],
   "source": [
    "df = pydb.read_sql_query(\"select * from __temp__.DISPS_ALL_WITH_SPLITS\")\n",
    "df.head()"
   ]
  },
  {
   "cell_type": "code",
   "execution_count": null,
   "metadata": {},
   "outputs": [],
   "source": [
    "counter = pydb.read_sql_query(\"select count(*) as count from __temp__.DISPS_ALL_WITH_SPLITS\")\n",
    "counter"
   ]
  },
  {
   "cell_type": "markdown",
   "metadata": {},
   "source": [
    "# Query 3.8:\n",
    "# DISP_CHILD_COUNT_DATA"
   ]
  },
  {
   "cell_type": "code",
   "execution_count": null,
   "metadata": {},
   "outputs": [],
   "source": [
    "#checking if table exist then drops for another table to be created thereafter.\n",
    "drop_DISP_CHILD_COUNT_DATA = f\"\"\"\n",
    "DROP TABLE IF EXISTS fcsq.DISP_CHILD_COUNT_DATA;\n",
    "\"\"\"\n",
    "# confirming the table existence\n",
    "pydb.read_sql_query(drop_DISP_CHILD_COUNT_DATA)\n",
    "\n",
    "# clean up previous children_act_disposals files\n",
    "bucket.objects.filter(Prefix=\"fcsq_processing/childrens_act/DISP_CHILD_COUNT_DATA\").delete() \n"
   ]
  },
  {
   "cell_type": "code",
   "execution_count": null,
   "metadata": {},
   "outputs": [],
   "source": [
    "Creating_DISP_CHILD_COUNT_DATA = f\"\"\" CREATE TABLE IF NOT EXISTS fcsq.DISP_CHILD_COUNT_DATA\n",
    "WITH (format = 'PARQUET', external_location =\n",
    "'s3://alpha-family-data/fcsq_processing/childrens_act/DISP_CHILD_COUNT_DATA') AS\n",
    "SELECT   \n",
    "            EXTRACT (YEAR FROM t1.Date) AS YEAR,\n",
    "            CASE WHEN (EXTRACT (MONTH FROM t1.Date)) IN (1,2,3) THEN 1\n",
    "            WHEN (EXTRACT (MONTH FROM receipt_date)) IN (4,5,6) THEN 2   \n",
    "            WHEN (EXTRACT (MONTH FROM receipt_date)) IN (7,8,9) THEN 3\n",
    "            WHEN (EXTRACT (MONTH FROM receipt_date)) IN (10,11,12) THEN 4        \n",
    "            End AS Quarter\n",
    "            \n",
    "            (IFC(INPUT(t1.'Order Type'n,2.0)<19,'C',IFC(t1.CASE_TYPE='C','C','P'))) AS CASE_TYPE2, \n",
    "          t1.CASE_NUMBER, \n",
    "          t1.EVENT_CODE, \n",
    "  t1.EVENT_MODEL,\n",
    "          t1.EVENT, \n",
    "          /* DISP_TYPE */\n",
    "            (IfC(EVENT_MODEL='G63_1','1 Withdrawn',IfC(EVENT_MODEL='ORDREF','2 Refused',IfC(EVENT_MODEL='ORDNOM',\n",
    "            '3 No Order',IFC(FIND(t1.'Order Type'n, 'Interim')>0,'5 Interim Order','4 Order'))))) AS DISP_TYPE, \n",
    "          t1.'Order Type'n, \n",
    "        (SUBSTR(t1.'Order Type'n, 1,2)) AS Order_Type2,\n",
    "          t1.CONSENT_VALUE, \n",
    "          t1.FIN_ORD_VALUE, \n",
    "          t1.CHILD_ID, \n",
    "          t1.GENDER, \n",
    "          t1.DOB\n",
    "      FROM CHILDINT.DISPS_ALL_WITH_SPLITS AS t1;\n",
    "\"\"\"\n",
    "\n",
    " # Still working on it."
   ]
  }
 ],
 "metadata": {
  "kernelspec": {
   "display_name": "SqlPython",
   "language": "python",
   "name": "testing123"
  },
  "language_info": {
   "codemirror_mode": {
    "name": "ipython",
    "version": 3
   },
   "file_extension": ".py",
   "mimetype": "text/x-python",
   "name": "python",
   "nbconvert_exporter": "python",
   "pygments_lexer": "ipython3",
   "version": "3.7.1"
  }
 },
 "nbformat": 4,
 "nbformat_minor": 4
}
