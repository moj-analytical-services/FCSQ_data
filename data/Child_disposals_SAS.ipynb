{
 "cells": [
  {
   "cell_type": "markdown",
   "metadata": {},
   "source": [
    "# SAS extraction & Manipulation\n"
   ]
  },
  {
   "cell_type": "code",
   "execution_count": null,
   "metadata": {},
   "outputs": [],
   "source": [
    "# libraries\n",
    "import pandas as pd\n",
    "import pydbtools as pydb\n",
    "import boto3\n",
    "from datetime import datetime\n",
    "#import re"
   ]
  },
  {
   "cell_type": "code",
   "execution_count": null,
   "metadata": {},
   "outputs": [],
   "source": [
    "# Structured  dataframes\n",
    "pd.set_option(\"display.max_columns\", 100)\n",
    "pd.set_option(\"display.width\", 900)\n",
    "pd.set_option(\"display.max_colwidth\", 200)"
   ]
  },
  {
   "cell_type": "code",
   "execution_count": null,
   "metadata": {},
   "outputs": [],
   "source": [
    "# Assigning databases and S3 bucket\n",
    "db1 = \"familyman_dev_v2\"\n",
    "fcsq_db = \"fcsq\"\n",
    "s3 = boto3.resource(\"s3\")\n",
    "bucket = s3.Bucket(\"alpha-family-data\")\n",
    "snapshot_date = \"2021-08-19\""
   ]
  },
  {
   "cell_type": "markdown",
   "metadata": {},
   "source": [
    "# Query 1.1:\n",
    "# ORD_EVENTS_ALL\n",
    "created as temp table"
   ]
  },
  {
   "cell_type": "code",
   "execution_count": null,
   "metadata": {},
   "outputs": [],
   "source": [
    "\n",
    "ss = f\"\"\"\n",
    "SELECT event,\n",
    "    case_number,\n",
    "    event_model,\n",
    "    receipt_date,\n",
    "    entry_date,\n",
    "    Event_error,\n",
    "    creating_court,\n",
    "    Court_code,\n",
    "    field_model,\n",
    "    value\n",
    "from fcsq.CH_ACT_ORDS_EVENTS_2\n",
    "UNION ALL\n",
    "SELECT event,\n",
    "    case_number,\n",
    "    event_model,\n",
    "    receipt_date,\n",
    "    entry_date,\n",
    "    Event_error,\n",
    "    creating_court,\n",
    "    Court_code,  \n",
    "    null as field_model,\n",
    "    null as value\n",
    "from fcsq.CH_ACT_ORDS_EVENTS_1\n",
    "\"\"\"\n",
    "\n",
    "pydb.create_temp_table(ss ,\"ORD_EVENTS_ALL\")"
   ]
  },
  {
   "cell_type": "code",
   "execution_count": null,
   "metadata": {},
   "outputs": [],
   "source": [
    "df = pydb.read_sql_query(\"select * from __temp__.ORD_EVENTS_ALL\")\n",
    "df.head()"
   ]
  },
  {
   "cell_type": "code",
   "execution_count": null,
   "metadata": {},
   "outputs": [],
   "source": [
    "# row counting\n",
    "counter = pydb.read_sql_query(\"select count(*) as count from __temp__.ORD_EVENTS_ALL\")\n",
    "counter"
   ]
  },
  {
   "cell_type": "markdown",
   "metadata": {},
   "source": [
    "# Query 1.2:"
   ]
  },
  {
   "cell_type": "code",
   "execution_count": null,
   "metadata": {},
   "outputs": [],
   "source": [
    "# In_respect_of_which_children = CH_ACT_CHILDREN_INV\n",
    "# Consent_data = CH_CONSENT_INF\n",
    "# Code= Court_code\n",
    "\n",
    "dd = f\"\"\"\n",
    "SELECT a.EVENT,                                       \n",
    "       a.CASE_NUMBER, \n",
    "       a.EVENT_MODEL, \n",
    "       a.RECEIPT_DATE, \n",
    "       a.ENTRY_DATE, \n",
    "       a.CREATING_COURT, \n",
    "       a.Court_code, \n",
    "       a.FIELD_MODEL AS EVENT_FIELD_MODEL, \n",
    "       a.VALUE  AS EVENT_VALUE, \n",
    "       b.FIELD_MODEL AS CHILD_FIELD_MODEL, \n",
    "       b.VALUE AS CHILD_VALUE, \n",
    "       c.FIELD_MODEL AS CONSENT_FIELD_MODEL, \n",
    "       c.VALUE  AS CONSENT_VALUE, \n",
    "       d.FIELD_MODEL AS FIN_ORD_FIELD_MODEL, \n",
    "       d.VALUE AS FIN_ORD_VALUE\n",
    "FROM   __temp__.ORD_EVENTS_ALL a\n",
    "LEFT JOIN fcsq.In_respect_of_which_children b ON a.EVENT = b.EVENT\n",
    "LEFT JOIN fcsq.Consent_data c ON  a.EVENT = c.EVENT\n",
    "LEFT JOIN fcsq.final_order_data d ON a.EVENT = d.EVENT\n",
    "GROUP BY a.EVENT, a.CASE_NUMBER, a.EVENT_MODEL, a.RECEIPT_DATE, \n",
    "         a.ENTRY_DATE, a.CREATING_COURT, a.Court_code, a.FIELD_MODEL, \n",
    "         a.VALUE, b.FIELD_MODEL, b.VALUE, c.FIELD_MODEL, c.VALUE,\n",
    "         d.FIELD_MODEL, d.VALUE;\n",
    "\"\"\"\n",
    "            \n",
    "pydb.create_temp_table(dd ,\"ORD_EVENTS_WITH_EXTRA_INFO\")"
   ]
  },
  {
   "cell_type": "code",
   "execution_count": null,
   "metadata": {},
   "outputs": [],
   "source": [
    "df = pydb.read_sql_query(\"select * from __temp__.ORD_EVENTS_WITH_EXTRA_INFO\")\n",
    "df.head()"
   ]
  },
  {
   "cell_type": "code",
   "execution_count": null,
   "metadata": {},
   "outputs": [],
   "source": [
    "# row counting\n",
    "counter = pydb.read_sql_query(\"select count(*) as count from __temp__.ORD_EVENTS_WITH_EXTRA_INFO\")\n",
    "counter"
   ]
  },
  {
   "cell_type": "markdown",
   "metadata": {},
   "source": [
    "# Query 1.3:\n",
    "ORD_EVENTS_WITH_CALC_FIELDS"
   ]
  },
  {
   "cell_type": "code",
   "execution_count": null,
   "metadata": {},
   "outputs": [],
   "source": [
    "#checking if table existence, dropping and cleaning up the folder. \n",
    "\n",
    "drop_ORD_EVENTS_WITH_CALC_FIELDS = f\"\"\"\n",
    "DROP TABLE IF EXISTS fcsq.ORD_EVENTS_WITH_CALC_FIELDS;\n",
    "\"\"\"\n",
    "pydb.read_sql_query(drop_ORD_EVENTS_WITH_CALC_FIELDS)\n",
    "bucket.objects.filter(Prefix=\"fcsq_processing/childrens_act/ORD_EVENTS_WITH_CALC_FIELDS/\").delete()"
   ]
  },
  {
   "cell_type": "code",
   "execution_count": null,
   "metadata": {},
   "outputs": [],
   "source": [
    "create_ORD_EVENTS_WITH_CALC_FIELDS = f\"\"\" CREATE TABLE IF NOT EXISTS fcsq.ORD_EVENTS_WITH_CALC_FIELDS\n",
    "WITH (format = 'PARQUET', external_location =\n",
    "'s3://alpha-family-data/fcsq_processing/childrens_act/ORD_EVENTS_WITH_CALC_FIELDS') AS\n",
    "SELECT DISTINCT \n",
    "          (Substr(CASE_NUMBER,5,1)) AS CASE_TYPE, \n",
    "          CASE_NUMBER, \n",
    "          CASE WHEN RECEIPT_DATE  IS NULL then ENTRY_DATE \n",
    "          else RECEIPT_DATE end as DATE, \n",
    "          CAST(EVENT/100000000 AS INT) AS EVENT_CODE, \n",
    "          EVENT, \n",
    "          EVENT_MODEL, \n",
    "          EVENT_VALUE, \n",
    "          CHILD_VALUE, \n",
    "          CONSENT_VALUE, \n",
    "          FIN_ORD_VALUE\n",
    "FROM __temp__.ORD_EVENTS_WITH_EXTRA_INFO\n",
    "\"\"\"\n",
    "pydb.read_sql_query(create_ORD_EVENTS_WITH_CALC_FIELDS)\n",
    "#pydb.create_temp_table(aa,\"ORD_EVENTS_WITH_CALC_FIELDS\")"
   ]
  },
  {
   "cell_type": "code",
   "execution_count": null,
   "metadata": {},
   "outputs": [],
   "source": [
    "# Note: reading from temp data incase we still maintain the temptable.\n",
    "\n",
    "#df = pydb.read_sql_query(\"select * from __temp__.ORD_EVENTS_WITH_CALC_FIELDS\")\n",
    "#df.head()"
   ]
  },
  {
   "cell_type": "code",
   "execution_count": null,
   "metadata": {},
   "outputs": [],
   "source": [
    "# row counting\n",
    "#counter = pydb.read_sql_query(\"select count(*) as count from __temp__.ORD_EVENTS_WITH_CALC_FIELDS\")\n",
    "#counter\n",
    "counter = pydb.read_sql_query(\"select count(*) as count from fcsq.ORD_EVENTS_WITH_CALC_FIELDS\")\n",
    "counter"
   ]
  },
  {
   "cell_type": "markdown",
   "metadata": {},
   "source": [
    "# Query 1.4:"
   ]
  },
  {
   "cell_type": "code",
   "execution_count": null,
   "metadata": {},
   "outputs": [],
   "source": [
    "#checking if table existence, dropping and cleaning up the folder. \n",
    "\n",
    "drop_ORD_FINAL_SUPS_DATA = f\"\"\"\n",
    "DROP TABLE IF EXISTS fcsq.ORD_FINAL_SUPS_DATA;\n",
    "\"\"\"\n",
    "pydb.read_sql_query(drop_ORD_FINAL_SUPS_DATA)\n",
    "bucket.objects.filter(Prefix=\"fcsq_processing/childrens_act/ORD_FINAL_SUPS_DATA/\").delete()"
   ]
  },
  {
   "cell_type": "code",
   "execution_count": null,
   "metadata": {},
   "outputs": [],
   "source": [
    "create_ORD_FINAL_SUPS_DATA = f\"\"\" CREATE TABLE IF NOT EXISTS fcsq.ORD_FINAL_SUPS_DATA\n",
    "WITH (format = 'PARQUET', external_location =\n",
    "'s3://alpha-family-data/fcsq_processing/childrens_act/ORD_FINAL_SUPS_DATA') AS\n",
    "SELECT a.Date, \n",
    "       a.CASE_TYPE, \n",
    "       a.CASE_NUMBER, \n",
    "       a.EVENT_CODE, \n",
    "       a.EVENT, \n",
    "       a.EVENT_MODEL, \n",
    "       a.EVENT_VALUE, \n",
    "       a.CHILD_VALUE, \n",
    "       a.CONSENT_VALUE, \n",
    "       a.FIN_ORD_VALUE, \n",
    "       b.order_type\n",
    "FROM fcsq.ORD_EVENTS_WITH_CALC_FIELDS a\n",
    "\n",
    "\n",
    "\n",
    "# The lookup order_type_lookup does not have event_model as a column."
   ]
  },
  {
   "cell_type": "markdown",
   "metadata": {},
   "source": [
    "# Query 1.5:"
   ]
  },
  {
   "cell_type": "code",
   "execution_count": null,
   "metadata": {},
   "outputs": [],
   "source": []
  },
  {
   "cell_type": "code",
   "execution_count": null,
   "metadata": {},
   "outputs": [],
   "source": [
    "ff = f\"\"\"\n",
    "SELECT a.EVENT, \n",
    "          a.CASE_NUMBER, \n",
    "          a.EVENT_MODEL, \n",
    "          a.RECEIPT_DATE, \n",
    "          a.ENTRY_DATE, \n",
    "          a.CREATING_COURT, \n",
    "          a.court_code, \n",
    "          a.FIELD_MODEL AS EVENT_FIELD_MODEL, \n",
    "          b.VALUE AS EVENT_VALUE, \n",
    "          c.FIELD_MODEL AS CHILD_FIELD_MODEL, \n",
    "          c.VALUE AS CHILD_VALUE, \n",
    "          d.FIELD_MODEL AS FIN_ORD_FIELD_MODEL, \n",
    "          d.VALUE AS FIN_ORD_VALUE\n",
    "          \n",
    "FROM fcsq.Appilication_withdrawal_events a\n",
    "LEFT JOIN fcsq.Appilication_withdrawal_WRT_children c ON  a.EVENT = c.EVENT\n",
    "LEFT JOIN fcsq.Application_wrt_final_order d ON a.EVENT = d.EVENT\n",
    "LEFT JOIN xxxxxxxxxxxxxx b ON a.VALUE2 = b.EVENT\n",
    "GROUP BY a.EVENT, a.CASE_NUMBER, a.EVENT_MODEL, a.RECEIPT_DATE, \n",
    "a.ENTRY_DATE, a.CREATING_COURT, a.court_code,a.FIELD_MODEL, b.VALUE, \n",
    "c.FIELD_MODEL, c.VALUE, d.FIELD_MODEL, d.VALUE;\n",
    "\"\"\"\n",
    "# CHILDIN.ORD_APP_WTHD_TYPE_APP_FOR_INFO has not been previously created"
   ]
  }
 ],
 "metadata": {
  "kernelspec": {
   "display_name": "SqlPython",
   "language": "python",
   "name": "testing123"
  },
  "language_info": {
   "codemirror_mode": {
    "name": "ipython",
    "version": 3
   },
   "file_extension": ".py",
   "mimetype": "text/x-python",
   "name": "python",
   "nbconvert_exporter": "python",
   "pygments_lexer": "ipython3",
   "version": "3.7.1"
  }
 },
 "nbformat": 4,
 "nbformat_minor": 4
}
