{
 "cells": [
  {
   "cell_type": "markdown",
   "metadata": {},
   "source": [
    "# Childrens Act Disposals"
   ]
  },
  {
   "cell_type": "code",
   "execution_count": null,
   "metadata": {},
   "outputs": [],
   "source": [
    "# libraries\n",
    "import pandas as pd\n",
    "import pydbtools as pydb\n",
    "import boto3\n",
    "from datetime import datetime\n",
    "#import re\n",
    "import os  # for file paths\n",
    "import awswrangler as wr"
   ]
  },
  {
   "cell_type": "code",
   "execution_count": null,
   "metadata": {},
   "outputs": [],
   "source": [
    "# Structured  dataframes\n",
    "pd.set_option(\"display.max_columns\", 100)\n",
    "pd.set_option(\"display.width\", 900)\n",
    "pd.set_option(\"display.max_colwidth\", 200)"
   ]
  },
  {
   "cell_type": "code",
   "execution_count": null,
   "metadata": {},
   "outputs": [],
   "source": [
    "# Assigning databases and S3 bucket\n",
    "db1 = \"familyman_dev_v2\"\n",
    "fcsq_db = \"fcsq\"\n",
    "# create path for within athena FCSQ database in the S3 folder\n",
    "fcsq_db_path = f\"s3://alpha-family-data/fcsq_processing/CA_disps/\"\n",
    "s3 = boto3.resource(\"s3\")\n",
    "bucket = s3.Bucket(\"alpha-family-data\")\n",
    "snapshot_date = \"2022-02-21\""
   ]
  },
  {
   "cell_type": "markdown",
   "metadata": {},
   "source": [
    "### Orders made"
   ]
  },
  {
   "cell_type": "code",
   "execution_count": null,
   "metadata": {},
   "outputs": [],
   "source": [
    "#Here we strip out the children from each case to just count the orders made\n",
    "pydb.create_temp_table( \n",
    "f\"\"\"\n",
    "  SELECT \n",
    "    DISTINCT\n",
    "    case_number,\n",
    "    disp_date,\n",
    "    Year,\n",
    "    Quarter,\n",
    "    case_type,\n",
    "    receipt_date,\n",
    "    entry_date,\n",
    "    event,\n",
    "    event_model,\n",
    "    field_model,\n",
    "    /*order_type, excluded as the same order can have multiple order types eg CAST & CN*/\n",
    "    disp_type_code,\n",
    "    disp_type,\n",
    "    order_code,\n",
    "    order_desc,\n",
    "    creating_court\n",
    "  FROM \n",
    "    __temp__.ca_disps_all_children\n",
    "\n",
    "\"\"\",\n",
    "\n",
    "\"ca_disp_order_type\")"
   ]
  },
  {
   "cell_type": "markdown",
   "metadata": {},
   "source": [
    "### Disposal Events (note - this replicates the current SAS code - however we may change this as it is questionable how useful FM events are)."
   ]
  },
  {
   "cell_type": "code",
   "execution_count": null,
   "metadata": {},
   "outputs": [],
   "source": [
    "#Counting just disposal events - where multiple orders within a case are made within the same event they are just counted once\n",
    "#The master_case_type ensures that in the small number of cases where there are both private and public order types within a case,  only one case type is selected and the case is only counted once in the final case count (and not in both public and private)\n",
    "#Currently cases where the case number is a 'P' type and it has both public and private law disposals it will be counted within private law cases disposed\n",
    "#Domestic violence and adoption case types are also filtered out of the master_case_type field so they can be excluded from final CA case counts\n",
    "pydb.create_temp_table( \n",
    "f\"\"\"\n",
    "  SELECT \n",
    "    DISTINCT\n",
    "    case_number,\n",
    "    CAST(disp_date AS DATE) AS disp_date,\n",
    "    Year,\n",
    "    Quarter,\n",
    "    case_type,\n",
    "    CASE WHEN SUBSTR(case_number,5,1) NOT IN ('P','C')\n",
    "           THEN 'NA'\n",
    "         WHEN case_type = 'C' \n",
    "              AND case_number in (SELECT case_number\n",
    "                                  FROM __temp__.ca_disp_order_type\n",
    "                                  WHERE case_type = 'P')\n",
    "           THEN 'P'\n",
    "        ELSE case_type END\n",
    "      AS master_case_type,\n",
    "    receipt_date,\n",
    "    entry_date,\n",
    "    event,\n",
    "    event_model,\n",
    "    disp_type_code,\n",
    "    disp_type\n",
    "  FROM \n",
    "    __temp__.ca_disp_order_type\n",
    "  WHERE \n",
    "    disp_type_code <> 2\n",
    "\"\"\",\n",
    "\n",
    "\"ca_disp_events\")"
   ]
  },
  {
   "cell_type": "markdown",
   "metadata": {},
   "source": [
    "### Create flag for earliest/latest final order, non final order date"
   ]
  },
  {
   "cell_type": "code",
   "execution_count": null,
   "metadata": {},
   "outputs": [],
   "source": [
    "#Extract final order information for disposals. The value field indicates whether the event was a final order within the case\n",
    "#Columns added to create a flag for the earliest and latest final order within each case\n",
    "pydb.create_temp_table( \n",
    "f\"\"\"\n",
    "  SELECT \n",
    "    e.event,\n",
    "    e.case_number,\n",
    "    COALESCE(e.receipt_date, e.entry_date) AS disp_date,\n",
    "    f.field_model,\n",
    "    f.value as FO_value,\n",
    "    ROW_NUMBER() OVER(PARTITION BY e.case_number, f.value\n",
    "                       ORDER BY e.case_number, COALESCE(e.receipt_date, e.entry_date) ASC) \n",
    "      AS min_date_rank,\n",
    "    ROW_NUMBER() OVER(PARTITION BY e.case_number, f.value\n",
    "                       ORDER BY e.case_number, COALESCE(e.receipt_date, e.entry_date) DESC) \n",
    "      AS max_date_rank,\n",
    "    e.creating_court\n",
    "  FROM \n",
    "    {db1}.event_fields f\n",
    "    JOIN {db1}.events e\n",
    "      ON f.event = e.event\n",
    "  WHERE \n",
    "      field_model IN ('C21_FO','C23_FO','C24_FO','C25_FO','C26_FO','C27_FO','C28_FO','C29_FO','C30_FO',\n",
    "                      'C31_FO','C32A_FO','C32B_FO','C33_FO','C34A_FO','C34B_FO','C35A_FO','C35B_FO','C36_FO',\n",
    "                      'C37_FO','C38A_FO','C38B_FO','C39_FO','C40_FO','C42_FO','C43_FO','C43A_FO','C44A_FO',\n",
    "                      'C44B_FO','C45A_FO','C45B_FO','C53_FO','C80_FO','C81_FO','C82_FO','CPA_FO',\n",
    "                      'ORDNOM_FO','ORDREF_FO','G63_FO')\n",
    "              \n",
    "    AND f.mojap_snapshot_date = DATE'{snapshot_date}'\n",
    "    AND e.mojap_snapshot_date = DATE'{snapshot_date}'\n",
    "    AND e.error = 'N'\n",
    "\"\"\",\n",
    "\n",
    "\"ca_final_orders\")"
   ]
  },
  {
   "cell_type": "markdown",
   "metadata": {},
   "source": [
    "### Extract case closed event dates and create flag for earliest/latest event"
   ]
  },
  {
   "cell_type": "code",
   "execution_count": null,
   "metadata": {},
   "outputs": [],
   "source": [
    "#Extracting the case closed event, and as with final orders create a flag for the earliest/latest date recorded for each case\n",
    "pydb.create_temp_table(\n",
    "f\"\"\"\n",
    "SELECT\n",
    "    case_number,\n",
    "    receipt_date,\n",
    "    CAST (entry_date AS DATE) AS entry_date,\n",
    "    ROW_NUMBER() OVER(PARTITION BY case_number\n",
    "                       ORDER BY case_number, entry_date ASC) \n",
    "      AS min_date_rank,\n",
    "    ROW_NUMBER() OVER(PARTITION BY case_number\n",
    "                       ORDER BY case_number, entry_date DESC) \n",
    "      AS max_date_rank,\n",
    "    creating_court\n",
    "FROM\n",
    "    {db1}.events\n",
    "WHERE\n",
    "  event_model = 'U24'\n",
    "  AND error = 'N'\n",
    "  AND mojap_snapshot_date = date '{snapshot_date}'\n",
    "\"\"\",\n",
    "\n",
    "\"ca_case_closed_events\")\n",
    " "
   ]
  },
  {
   "cell_type": "markdown",
   "metadata": {},
   "source": [
    "### Extract case reopened event dates and create flag for earliest/latest event"
   ]
  },
  {
   "cell_type": "code",
   "execution_count": null,
   "metadata": {},
   "outputs": [],
   "source": [
    "#Extract information on whether a case has been re-opened, and if so columns added so we can easily identify the earliest/latest re-open date for each case\n",
    "pydb.create_temp_table(\n",
    "f\"\"\"\n",
    "SELECT\n",
    "    case_number,\n",
    "    receipt_date,\n",
    "    CAST (entry_date AS DATE) AS entry_date,\n",
    "    ROW_NUMBER() OVER(PARTITION BY case_number\n",
    "                       ORDER BY case_number, entry_date ASC) \n",
    "      AS min_date_rank,\n",
    "    ROW_NUMBER() OVER(PARTITION BY case_number\n",
    "                       ORDER BY case_number, entry_date DESC) \n",
    "      AS max_date_rank  \n",
    "FROM\n",
    "    {db1}.events\n",
    "WHERE\n",
    "  event_model = 'G62'\n",
    "  AND error = 'N'\n",
    "  AND mojap_snapshot_date = date '{snapshot_date}'\n",
    "\"\"\",\n",
    "\n",
    "\"ca_case_reopened_events\")\n",
    " "
   ]
  },
  {
   "cell_type": "markdown",
   "metadata": {},
   "source": [
    "### Add first/last date types to for each case"
   ]
  },
  {
   "cell_type": "code",
   "execution_count": null,
   "metadata": {},
   "outputs": [],
   "source": [
    "pydb.create_temp_table(\n",
    "f\"\"\"\n",
    "SELECT\n",
    "    DISTINCT\n",
    "    t1.case_number,\n",
    "    t1.master_case_type,\n",
    "    (SELECT f.disp_date FROM __temp__.ca_final_orders f\n",
    "                         WHERE f.min_date_rank = 1\n",
    "                         AND f.fo_value = 'Y'\n",
    "                         AND t1.case_number = f.case_number)\n",
    "        AS first_final_order,\n",
    "    (SELECT f.disp_date FROM __temp__.ca_final_orders f\n",
    "                         WHERE f.max_date_rank = 1 \n",
    "                         AND f.fo_value = 'Y'\n",
    "                         AND t1.case_number = f.case_number)\n",
    "        AS last_final_order,\n",
    "    (SELECT f.creating_court FROM __temp__.ca_final_orders f\n",
    "                              WHERE f.max_date_rank = 1 \n",
    "                              AND f.fo_value = 'Y'\n",
    "                              AND t1.case_number = f.case_number)\n",
    "        AS last_final_order_court,  \n",
    "    (SELECT f.disp_date FROM __temp__.ca_final_orders f\n",
    "                         WHERE f.min_date_rank = 1\n",
    "                         AND f.fo_value = 'N'\n",
    "                         AND t1.case_number = f.case_number)\n",
    "        AS first_no_final_order,\n",
    "    (SELECT f.disp_date FROM __temp__.ca_final_orders f\n",
    "                         WHERE f.max_date_rank = 1 \n",
    "                         AND f.fo_value = 'N'\n",
    "                         AND t1.case_number = f.case_number)\n",
    "        AS last_no_final_order,    \n",
    "    (SELECT c.entry_date FROM __temp__.ca_case_closed_events c\n",
    "                         WHERE c.min_date_rank = 1 \n",
    "                         AND t1.case_number = c.case_number)\n",
    "        AS first_close_date,\n",
    "    (SELECT c.entry_date FROM __temp__.ca_case_closed_events c\n",
    "                         WHERE c.max_date_rank = 1 \n",
    "                         AND t1.case_number = c.case_number) \n",
    "        AS last_close_date,  \n",
    "    (SELECT c.creating_court FROM __temp__.ca_case_closed_events c\n",
    "                              WHERE c.max_date_rank = 1 \n",
    "                              AND t1.case_number = c.case_number) \n",
    "        AS last_close_date_court,      \n",
    "    (SELECT r.entry_date FROM __temp__.ca_case_reopened_events r\n",
    "                         WHERE r.min_date_rank = 1 \n",
    "                         AND t1.case_number = r.case_number)\n",
    "        AS first_reopen,\n",
    "    (SELECT r.entry_date FROM __temp__.ca_case_reopened_events r\n",
    "                         WHERE r.max_date_rank = 1 \n",
    "                         AND t1.case_number = r.case_number)\n",
    "        AS last_reopen\n",
    "FROM\n",
    "  __temp__.ca_disp_events t1\n",
    "  \n",
    "\"\"\",\n",
    "    \n",
    "\"ca_date_flags\")"
   ]
  },
  {
   "cell_type": "markdown",
   "metadata": {},
   "source": [
    "### add flag for which date to use dependent on the last date within the case"
   ]
  },
  {
   "cell_type": "code",
   "execution_count": null,
   "metadata": {},
   "outputs": [],
   "source": [
    "pydb.create_temp_table(\n",
    "f\"\"\"\n",
    "SELECT\n",
    "  case_number,\n",
    "  master_case_type,\n",
    "  last_final_order,\n",
    "  last_final_order_court,\n",
    "  last_no_final_order,\n",
    "  last_close_date,\n",
    "  last_close_date_court,\n",
    "  last_reopen,\n",
    "  CASE WHEN last_close_date = GREATEST ((COALESCE(last_final_order, CAST('1900-01-01' AS DATE))), (COALESCE(last_no_final_order, CAST('1900-01-01' AS DATE))), \n",
    "                                      (COALESCE(last_close_date, CAST('1900-01-01' AS DATE))), (COALESCE(last_reopen, CAST('1900-01-01' AS DATE))))\n",
    "             THEN 'case closed'\n",
    "       WHEN last_final_order = GREATEST ((COALESCE(last_final_order, CAST('1900-01-01' AS DATE))), (COALESCE(last_no_final_order, CAST('1900-01-01' AS DATE))), \n",
    "                                      (COALESCE(last_close_date, CAST('1900-01-01' AS DATE))), (COALESCE(last_reopen, CAST('1900-01-01' AS DATE))))\n",
    "             THEN 'final order'     \n",
    "       WHEN last_no_final_order = GREATEST ((COALESCE(last_final_order, CAST('1900-01-01' AS DATE))), (COALESCE(last_no_final_order, CAST('1900-01-01' AS DATE))), \n",
    "                                      (COALESCE(last_close_date, CAST('1900-01-01' AS DATE))), (COALESCE(last_reopen, CAST('1900-01-01' AS DATE))))\n",
    "             THEN 'non final order' \n",
    "       WHEN last_reopen = GREATEST ((COALESCE(last_final_order, CAST('1900-01-01' AS DATE))), (COALESCE(last_no_final_order, CAST('1900-01-01' AS DATE))), \n",
    "                                      (COALESCE(last_close_date, CAST('1900-01-01' AS DATE))), (COALESCE(last_reopen, CAST('1900-01-01' AS DATE))))\n",
    "             THEN 'case reopened'\n",
    "     END AS last_date_type\n",
    "        \n",
    "FROM\n",
    "  __temp__.ca_date_flags\n",
    "\"\"\",\n",
    "\n",
    "\"ca_last_case_date\")"
   ]
  },
  {
   "cell_type": "markdown",
   "metadata": {},
   "source": [
    "### Calculate case close date"
   ]
  },
  {
   "cell_type": "code",
   "execution_count": null,
   "metadata": {},
   "outputs": [],
   "source": [
    "#to check we are happy with how we deal with case date where case close date = case reopen date\n",
    "#for the vast majority of cases the close date will be the date of the last final order. There are some exceptions (where the case is flgged as closed and the re-open/non final orders are recorded as\n",
    "#   later than the last final order)\n",
    "pydb.create_temp_table(\n",
    "f\"\"\"\n",
    "SELECT\n",
    "  case_number,\n",
    "  master_case_type,\n",
    "  last_final_order,\n",
    "  last_no_final_order,\n",
    "  last_close_date,\n",
    "  last_reopen,\n",
    "  last_date_type,\n",
    "  CASE WHEN last_close_date = last_reopen \n",
    "        AND last_date_type = 'case closed'\n",
    "         THEN last_close_date\n",
    "       WHEN last_reopen > last_final_order\n",
    "        AND last_date_type = 'case closed'\n",
    "         THEN last_close_date  \n",
    "       WHEN last_date_type = 'case closed'\n",
    "         THEN COALESCE (last_final_order, last_close_date)\n",
    "       WHEN last_date_type = 'final order'\n",
    "         THEN last_final_order\n",
    "       WHEN last_date_type = 'non final order'\n",
    "        AND last_close_date IS NOT NULL\n",
    "        AND (last_reopen IS NULL \n",
    "                OR (last_reopen IS NOT NULL AND last_close_date > last_reopen))\n",
    "          THEN last_close_date\n",
    "       ELSE NULL   \n",
    "      END \n",
    "    AS case_closed_date,\n",
    "  CASE WHEN last_close_date = last_reopen \n",
    "        AND last_date_type = 'case closed'\n",
    "         THEN last_close_date_court\n",
    "       WHEN last_reopen > last_final_order\n",
    "        AND last_date_type = 'case closed'\n",
    "         THEN last_close_date_court  \n",
    "       WHEN last_date_type = 'case closed'\n",
    "         THEN COALESCE (last_final_order_court, last_close_date_court)\n",
    "       WHEN last_date_type = 'final order'\n",
    "         THEN last_final_order_court\n",
    "       WHEN last_date_type = 'non final order'\n",
    "        AND last_close_date IS NOT NULL\n",
    "        AND (last_reopen IS NULL \n",
    "                OR (last_reopen IS NOT NULL AND last_close_date > last_reopen))\n",
    "          THEN last_close_date_court\n",
    "       ELSE NULL   \n",
    "      END \n",
    "    AS case_closed_court\n",
    "FROM\n",
    "  __temp__.ca_last_case_date\n",
    "\n",
    "\"\"\",\n",
    "    \n",
    "\"ca_closed_date\")\n",
    "                  "
   ]
  },
  {
   "cell_type": "markdown",
   "metadata": {},
   "source": [
    "### Add year/quarter"
   ]
  },
  {
   "cell_type": "code",
   "execution_count": null,
   "metadata": {},
   "outputs": [],
   "source": [
    "pydb.create_temp_table(\n",
    "f\"\"\"\n",
    "SELECT\n",
    "  case_number,\n",
    "  EXTRACT(YEAR FROM case_closed_date) AS Year,\n",
    "  EXTRACT(QUARTER FROM case_closed_date) AS Quarter,\n",
    "  master_case_type,\n",
    "  case_closed_date,\n",
    "  case_closed_court\n",
    "FROM\n",
    "  __temp__.ca_closed_date\n",
    "WHERE\n",
    "  case_closed_date IS NOT NULL\n",
    "\n",
    "\"\"\",\n",
    "    \n",
    "\"ca_closed_cases\")\n",
    "  "
   ]
  },
  {
   "cell_type": "code",
   "execution_count": null,
   "metadata": {},
   "outputs": [],
   "source": [
    "data = pydb.read_sql_query (\"select * from __temp__.ca_closed_cases where year = 2011 and quarter = 1 and case_type = 'P' \")"
   ]
  },
  {
   "cell_type": "code",
   "execution_count": null,
   "metadata": {},
   "outputs": [],
   "source": [
    "df = pd.DataFrame(data)"
   ]
  },
  {
   "cell_type": "code",
   "execution_count": null,
   "metadata": {},
   "outputs": [],
   "source": [
    "df.to_csv (r's3://alpha-family-data/fcsq_processing/CA_disps/case_check/ca_disp_cases.csv', header = True)"
   ]
  },
  {
   "cell_type": "code",
   "execution_count": null,
   "metadata": {
    "jupyter": {
     "outputs_hidden": true
    }
   },
   "outputs": [],
   "source": [
    "#drop table in Athena (if it already exists)\n",
    "_ = pydb.start_query_execution_and_wait(f\"\"\"DROP TABLE {fcsq_db}.ca_cases\"\"\")"
   ]
  },
  {
   "cell_type": "code",
   "execution_count": null,
   "metadata": {},
   "outputs": [],
   "source": [
    "#set S3 file path\n",
    "cases_s3_path = os.path.join(fcsq_db_path, \"cases/\")\n",
    "# Delete all the underlying data stored within the S3 location\n",
    "if wr.s3.list_objects(cases_s3_path):\n",
    "    print(\"deleting objs\")\n",
    "    wr.s3.delete_objects(cases_s3_path)\n",
    "    \n",
    "t_cases = f\"\"\"\n",
    "CREATE TABLE {fcsq_db}.ca_cases WITH\n",
    "(\n",
    "    external_location='{cases_s3_path}'\n",
    ") AS   \n",
    "SELECT\n",
    "*\n",
    "FROM\n",
    "__temp__.ca_closed_cases\n",
    "\"\"\"\n",
    "    \n",
    "_ = pydb.start_query_execution_and_wait(t_cases) "
   ]
  }
 ],
 "metadata": {
  "kernelspec": {
   "display_name": "Python 3",
   "language": "python",
   "name": "python3"
  },
  "language_info": {
   "codemirror_mode": {
    "name": "ipython",
    "version": 3
   },
   "file_extension": ".py",
   "mimetype": "text/x-python",
   "name": "python",
   "nbconvert_exporter": "python",
   "pygments_lexer": "ipython3",
   "version": "3.9.4"
  }
 },
 "nbformat": 4,
 "nbformat_minor": 4
}
