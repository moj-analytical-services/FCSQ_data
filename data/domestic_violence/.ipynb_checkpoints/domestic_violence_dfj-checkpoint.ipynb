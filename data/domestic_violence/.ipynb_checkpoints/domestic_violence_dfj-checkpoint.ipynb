{
 "cells": [
  {
   "cell_type": "markdown",
   "id": "52538669-0ee0-4e07-8013-caa2fd22cfd2",
   "metadata": {},
   "source": [
    "# Domestic Violence DFJ"
   ]
  },
  {
   "cell_type": "markdown",
   "id": "1350e42a-f47e-42f3-8c57-727899be8449",
   "metadata": {},
   "source": [
    "## Contents\n",
    "#### Setup\n",
    "1. [import_packages](#import_packages) \n",
    "2. [define_key_variables](#define_key_variables) "
   ]
  },
  {
   "cell_type": "markdown",
   "id": "9948f3f1-7666-48db-8e70-43f571c3a3b2",
   "metadata": {},
   "source": [
    "## 1. Import packages and set options \n",
    "<a name=\"import_packages\"></a>"
   ]
  },
  {
   "cell_type": "code",
   "execution_count": 1,
   "id": "a6c7e642-25f2-4fd0-99f0-1a408d109de7",
   "metadata": {},
   "outputs": [],
   "source": [
    "import pandas as pd  # a module which provides the data structures and functions to store and manipulate tables in dataframes\n",
    "import pydbtools as pydb  # A module which allows SQL queries to be run on the Analytical Platform from Python, see https://github.com/moj-analytical-services/pydbtools\n",
    "import boto3  # allows you to directly create, update, and delete AWS resources from Python scripts\n",
    "\n",
    "# sets parameters to view dataframes for tables easier\n",
    "pd.set_option(\"display.max_columns\", 100)\n",
    "pd.set_option(\"display.width\", 900)\n",
    "pd.set_option(\"display.max_colwidth\", 200)"
   ]
  },
  {
   "cell_type": "markdown",
   "id": "220a78c1-553e-4c95-85ce-d667924e5fe4",
   "metadata": {},
   "source": [
    "## 2. Define key variables to be used throughout the notebook \n",
    "<a name=\"define_key_variables\"></a>"
   ]
  },
  {
   "cell_type": "code",
   "execution_count": 2,
   "id": "667c2254-ef8f-4df9-b6ed-33b2b9b0c825",
   "metadata": {},
   "outputs": [],
   "source": [
    "#this is the database we will be extracting from\n",
    "database = \"familyman_dev_v3\" \n",
    "\n",
    "#this extracts the August snapshot from athena\n",
    "snapshot_date = '2022-08-04'\n",
    "\n",
    "#this is the athena database we will be storing our tables in\n",
    "fcsq_database = \"fcsq\"\n",
    "\n",
    "#this is the s3 bucket we will be saving data to\n",
    "s3 = boto3.resource(\"s3\")\n",
    "bucket = s3.Bucket(\"alpha-family-data\")\n",
    "\n",
    "#change these to the current quarter and year not the quarter being published\n",
    "latest_quarter = 3\n",
    "latest_year = 2022"
   ]
  },
  {
   "cell_type": "markdown",
   "id": "17c33da4-684d-42d8-b8e1-b93b3bfaea1c",
   "metadata": {},
   "source": [
    "## 3.Dom_violence_Orders table "
   ]
  },
  {
   "cell_type": "code",
   "execution_count": 11,
   "id": "0339ed87-de0d-418a-88ea-7bd14e3ea03b",
   "metadata": {},
   "outputs": [],
   "source": [
    "create_Dom_Violence_Orders = f\"\"\"\n",
    "SELECT Year, Quarter, Event_court, count(*) as Disposals\n",
    "FROM fcsq.DV_ORDS_FINAL\n",
    "WHERE Year > 2010\n",
    "GROUP BY Year, Quarter, Event_court\n",
    "ORDER BY Year, Quarter, Event_court;\n",
    "\"\"\"\n",
    "\n",
    "pydb.create_temp_table(create_Dom_Violence_Orders,'Dom_Violence_Orders');"
   ]
  },
  {
   "cell_type": "code",
   "execution_count": 12,
   "id": "895a9a73-ec5b-4800-9c99-9db1199b5887",
   "metadata": {},
   "outputs": [
    {
     "data": {
      "text/html": [
       "<div>\n",
       "<style scoped>\n",
       "    .dataframe tbody tr th:only-of-type {\n",
       "        vertical-align: middle;\n",
       "    }\n",
       "\n",
       "    .dataframe tbody tr th {\n",
       "        vertical-align: top;\n",
       "    }\n",
       "\n",
       "    .dataframe thead th {\n",
       "        text-align: right;\n",
       "    }\n",
       "</style>\n",
       "<table border=\"1\" class=\"dataframe\">\n",
       "  <thead>\n",
       "    <tr style=\"text-align: right;\">\n",
       "      <th></th>\n",
       "      <th>count</th>\n",
       "    </tr>\n",
       "  </thead>\n",
       "  <tbody>\n",
       "    <tr>\n",
       "      <th>0</th>\n",
       "      <td>7027</td>\n",
       "    </tr>\n",
       "  </tbody>\n",
       "</table>\n",
       "</div>"
      ],
      "text/plain": [
       "   count\n",
       "0   7027"
      ]
     },
     "execution_count": 12,
     "metadata": {},
     "output_type": "execute_result"
    }
   ],
   "source": [
    "check = \"SELECT COUNT(*) as Count from __temp__.Dom_Violence_Orders\"\n",
    "pydb.read_sql_query(check)"
   ]
  },
  {
   "cell_type": "code",
   "execution_count": 13,
   "id": "8678b22d-17c9-403a-9270-8d21c313d051",
   "metadata": {},
   "outputs": [],
   "source": [
    "create_Dom_Violence_Cases = f\"\"\"\n",
    "SELECT Year, Quarter, Event_court, count(*) as Case_Count\n",
    "FROM fcsq.DV_ORDS_FINAL\n",
    "WHERE Year > 2010 and substring(case_number,5,1) = 'F'\n",
    "GROUP BY Year, Quarter, Event_court\n",
    "ORDER BY Year, Quarter, Event_court;\n",
    "\"\"\"\n",
    "\n",
    "pydb.create_temp_table(create_Dom_Violence_Cases,'Dom_Violence_Cases');"
   ]
  },
  {
   "cell_type": "code",
   "execution_count": 14,
   "id": "0c13bb64-faa9-4ff2-aa89-0c9e3a2d30a2",
   "metadata": {},
   "outputs": [
    {
     "data": {
      "text/html": [
       "<div>\n",
       "<style scoped>\n",
       "    .dataframe tbody tr th:only-of-type {\n",
       "        vertical-align: middle;\n",
       "    }\n",
       "\n",
       "    .dataframe tbody tr th {\n",
       "        vertical-align: top;\n",
       "    }\n",
       "\n",
       "    .dataframe thead th {\n",
       "        text-align: right;\n",
       "    }\n",
       "</style>\n",
       "<table border=\"1\" class=\"dataframe\">\n",
       "  <thead>\n",
       "    <tr style=\"text-align: right;\">\n",
       "      <th></th>\n",
       "      <th>count</th>\n",
       "    </tr>\n",
       "  </thead>\n",
       "  <tbody>\n",
       "    <tr>\n",
       "      <th>0</th>\n",
       "      <td>6881</td>\n",
       "    </tr>\n",
       "  </tbody>\n",
       "</table>\n",
       "</div>"
      ],
      "text/plain": [
       "   count\n",
       "0   6881"
      ]
     },
     "execution_count": 14,
     "metadata": {},
     "output_type": "execute_result"
    }
   ],
   "source": [
    "check = \"SELECT COUNT(*) as Count from __temp__.Dom_Violence_Cases\"\n",
    "pydb.read_sql_query(check)"
   ]
  },
  {
   "cell_type": "code",
   "execution_count": null,
   "id": "8903af67-bb91-4fa9-b30e-f1bd549ea418",
   "metadata": {},
   "outputs": [],
   "source": [
    "data Dom_Violence_Merge (drop =  _type_ _page_ _table_);\n",
    "\tmerge Dom_Violence_Orders Dom_Violence_Cases;\n",
    "\tby year quarter EventCourt;\n",
    "\tCategory = \"Domestic Violence\";\n",
    "\tStage = \"End\";\n",
    "\tif Disposals = '.' then Disposals = 0;\n",
    "\tif Case_Count = '.' then Case_Count = 0;"
   ]
  },
  {
   "cell_type": "code",
   "execution_count": 15,
   "id": "880f7ce9-d07a-430d-8902-42e840e064cf",
   "metadata": {},
   "outputs": [
    {
     "ename": "QueryFailed",
     "evalue": "SYNTAX_ERROR: line 13:7: Column 'di' cannot be resolved. You may need to manually clean the data at location 's3://aws-athena-query-results-593291632749-eu-west-1/tables/efdd4bbc-be2b-4b8c-bca7-aa8dc78ba0c6' before retrying. Athena will not delete data in your account.",
     "output_type": "error",
     "traceback": [
      "\u001b[0;31m---------------------------------------------------------------------------\u001b[0m",
      "\u001b[0;31mQueryFailed\u001b[0m                               Traceback (most recent call last)",
      "Input \u001b[0;32mIn [15]\u001b[0m, in \u001b[0;36m<cell line: 9>\u001b[0;34m()\u001b[0m\n\u001b[1;32m      1\u001b[0m create_Dom_Violence_Merge \u001b[38;5;241m=\u001b[39m \u001b[38;5;124mf\u001b[39m\u001b[38;5;124m\"\"\"\u001b[39m\n\u001b[1;32m      2\u001b[0m \u001b[38;5;124mSELECT Year, Quarter, Event_court, count(*) as Case_Count\u001b[39m\n\u001b[1;32m      3\u001b[0m \u001b[38;5;124mFROM fcsq.DV_ORDS_FINAL\u001b[39m\n\u001b[0;32m   (...)\u001b[0m\n\u001b[1;32m      6\u001b[0m \u001b[38;5;124mORDER BY Year, Quarter, Event_court;\u001b[39m\n\u001b[1;32m      7\u001b[0m \u001b[38;5;124m\"\"\"\u001b[39m\n\u001b[0;32m----> 9\u001b[0m \u001b[43mpydb\u001b[49m\u001b[38;5;241;43m.\u001b[39;49m\u001b[43mcreate_temp_table\u001b[49m\u001b[43m(\u001b[49m\u001b[43mcreate_Dom_Violence_Merge\u001b[49m\u001b[43m,\u001b[49m\u001b[38;5;124;43m'\u001b[39;49m\u001b[38;5;124;43mDom_Violence_Merge\u001b[39;49m\u001b[38;5;124;43m'\u001b[39;49m\u001b[43m)\u001b[49m\n",
      "File \u001b[0;32m~/FCSQ_data/venv/lib/python3.9/site-packages/pydbtools/_wrangler.py:149\u001b[0m, in \u001b[0;36minit_athena_params.<locals>.wrapper\u001b[0;34m(*args, **kwargs)\u001b[0m\n\u001b[1;32m    147\u001b[0m logger\u001b[38;5;241m.\u001b[39mdebug(\u001b[38;5;124mf\u001b[39m\u001b[38;5;124m\"\u001b[39m\u001b[38;5;124mModifying function \u001b[39m\u001b[38;5;132;01m{\u001b[39;00mfunc\u001b[38;5;241m.\u001b[39m\u001b[38;5;18m__name__\u001b[39m\u001b[38;5;132;01m}\u001b[39;00m\u001b[38;5;124m\"\u001b[39m)\n\u001b[1;32m    148\u001b[0m logger\u001b[38;5;241m.\u001b[39mdebug(pprint\u001b[38;5;241m.\u001b[39mpformat(\u001b[38;5;28mdict\u001b[39m(argmap)))\n\u001b[0;32m--> 149\u001b[0m \u001b[38;5;28;01mreturn\u001b[39;00m \u001b[43mfunc\u001b[49m\u001b[43m(\u001b[49m\u001b[38;5;241;43m*\u001b[39;49m\u001b[38;5;241;43m*\u001b[39;49m\u001b[43margmap\u001b[49m\u001b[43m)\u001b[49m\n",
      "File \u001b[0;32m~/FCSQ_data/venv/lib/python3.9/site-packages/pydbtools/_wrangler.py:301\u001b[0m, in \u001b[0;36mcreate_temp_table\u001b[0;34m(sql, table_name, boto3_session, force_ec2, region_name)\u001b[0m\n\u001b[1;32m    289\u001b[0m ctas_query \u001b[38;5;241m=\u001b[39m \u001b[38;5;124mf\u001b[39m\u001b[38;5;124m\"\"\"\u001b[39m\n\u001b[1;32m    290\u001b[0m \u001b[38;5;124mCREATE TABLE \u001b[39m\u001b[38;5;132;01m{\u001b[39;00mtemp_db_name\u001b[38;5;132;01m}\u001b[39;00m\u001b[38;5;124m.\u001b[39m\u001b[38;5;132;01m{\u001b[39;00mtable_name\u001b[38;5;132;01m}\u001b[39;00m\n\u001b[1;32m    291\u001b[0m \u001b[38;5;124m    WITH (\u001b[39m\n\u001b[0;32m   (...)\u001b[0m\n\u001b[1;32m    296\u001b[0m \u001b[38;5;124mas \u001b[39m\u001b[38;5;132;01m{\u001b[39;00msql\u001b[38;5;132;01m}\u001b[39;00m\n\u001b[1;32m    297\u001b[0m \u001b[38;5;124m\u001b[39m\u001b[38;5;124m\"\"\"\u001b[39m\n\u001b[1;32m    299\u001b[0m q_e_id \u001b[38;5;241m=\u001b[39m ath\u001b[38;5;241m.\u001b[39mstart_query_execution(ctas_query, boto3_session\u001b[38;5;241m=\u001b[39mboto3_session)\n\u001b[0;32m--> 301\u001b[0m \u001b[43math\u001b[49m\u001b[38;5;241;43m.\u001b[39;49m\u001b[43mwait_query\u001b[49m\u001b[43m(\u001b[49m\u001b[43mq_e_id\u001b[49m\u001b[43m,\u001b[49m\u001b[43m \u001b[49m\u001b[43mboto3_session\u001b[49m\u001b[38;5;241;43m=\u001b[39;49m\u001b[43mboto3_session\u001b[49m\u001b[43m)\u001b[49m\n",
      "File \u001b[0;32m~/FCSQ_data/venv/lib/python3.9/site-packages/awswrangler/athena/_utils.py:1016\u001b[0m, in \u001b[0;36mwait_query\u001b[0;34m(query_execution_id, boto3_session)\u001b[0m\n\u001b[1;32m   1014\u001b[0m _logger\u001b[38;5;241m.\u001b[39mdebug(\u001b[38;5;124m\"\u001b[39m\u001b[38;5;124mStateChangeReason: \u001b[39m\u001b[38;5;132;01m%s\u001b[39;00m\u001b[38;5;124m\"\u001b[39m, response[\u001b[38;5;124m\"\u001b[39m\u001b[38;5;124mStatus\u001b[39m\u001b[38;5;124m\"\u001b[39m]\u001b[38;5;241m.\u001b[39mget(\u001b[38;5;124m\"\u001b[39m\u001b[38;5;124mStateChangeReason\u001b[39m\u001b[38;5;124m\"\u001b[39m))\n\u001b[1;32m   1015\u001b[0m \u001b[38;5;28;01mif\u001b[39;00m state \u001b[38;5;241m==\u001b[39m \u001b[38;5;124m\"\u001b[39m\u001b[38;5;124mFAILED\u001b[39m\u001b[38;5;124m\"\u001b[39m:\n\u001b[0;32m-> 1016\u001b[0m     \u001b[38;5;28;01mraise\u001b[39;00m exceptions\u001b[38;5;241m.\u001b[39mQueryFailed(response[\u001b[38;5;124m\"\u001b[39m\u001b[38;5;124mStatus\u001b[39m\u001b[38;5;124m\"\u001b[39m]\u001b[38;5;241m.\u001b[39mget(\u001b[38;5;124m\"\u001b[39m\u001b[38;5;124mStateChangeReason\u001b[39m\u001b[38;5;124m\"\u001b[39m))\n\u001b[1;32m   1017\u001b[0m \u001b[38;5;28;01mif\u001b[39;00m state \u001b[38;5;241m==\u001b[39m \u001b[38;5;124m\"\u001b[39m\u001b[38;5;124mCANCELLED\u001b[39m\u001b[38;5;124m\"\u001b[39m:\n\u001b[1;32m   1018\u001b[0m     \u001b[38;5;28;01mraise\u001b[39;00m exceptions\u001b[38;5;241m.\u001b[39mQueryCancelled(response[\u001b[38;5;124m\"\u001b[39m\u001b[38;5;124mStatus\u001b[39m\u001b[38;5;124m\"\u001b[39m]\u001b[38;5;241m.\u001b[39mget(\u001b[38;5;124m\"\u001b[39m\u001b[38;5;124mStateChangeReason\u001b[39m\u001b[38;5;124m\"\u001b[39m))\n",
      "\u001b[0;31mQueryFailed\u001b[0m: SYNTAX_ERROR: line 13:7: Column 'di' cannot be resolved. You may need to manually clean the data at location 's3://aws-athena-query-results-593291632749-eu-west-1/tables/efdd4bbc-be2b-4b8c-bca7-aa8dc78ba0c6' before retrying. Athena will not delete data in your account."
     ]
    }
   ],
   "source": [
    "create_Dom_Violence_Merge = f\"\"\"\n",
    "SELECT Year, Quarter, Event_court, count(*) as Case_Count,\n",
    "CASE WHEN Disposals = '.' THEN 0\n",
    "     WHEN Case_Count = '.' THEN 0\n",
    "else '' end as Resp_Rep_Cat\n",
    "\n",
    "FROM __temp__.Dom_Violence_Orders\n",
    "\n",
    "GROUP BY Year, Quarter, Event_court\n",
    "ORDER BY Year, Quarter, Event_court;\n",
    "\"\"\"\n",
    "\n",
    "pydb.create_temp_table(create_Dom_Violence_Merge,'Dom_Violence_Merge');"
   ]
  },
  {
   "cell_type": "code",
   "execution_count": null,
   "id": "614f94c8-4472-4f32-bba0-603c977253a7",
   "metadata": {},
   "outputs": [],
   "source": [
    "data Dom_Violence_Clean;\n",
    "\tset Dom_Violence_Merge;\n",
    "\twhere year <> 2022 or quarter <> 3; /*Needs to be updated every quarter.*/\n",
    "run;"
   ]
  },
  {
   "cell_type": "code",
   "execution_count": null,
   "id": "048ff068-b500-4224-a389-fea7745f2c07",
   "metadata": {},
   "outputs": [],
   "source": [
    "create_Dom_Violence_Clean = f\"\"\"\n",
    "SELECT Year, Quarter, Event_court, count(*) as Case_Count\n",
    "FROM __temp__.Dom_Violence_Merge\n",
    "WHERE Di\n",
    "GROUP BY Year, Quarter, Event_court\n",
    "ORDER BY Year, Quarter, Event_court;\n",
    "\"\"\"\n",
    "\n",
    "pydb.create_temp_table(create_Dom_Violence_Clean,'Dom_Violence_Clean');"
   ]
  },
  {
   "cell_type": "code",
   "execution_count": null,
   "id": "a001b4af-e07a-4fb9-b756-f23ba8e20878",
   "metadata": {},
   "outputs": [],
   "source": [
    "data Dom_Violence_format \n",
    "\t\t(keep =  Category Year Quarter Court Stage Count Cases);\n",
    "\t\tlength Category $20 Stage $15;\n",
    "\tset Dom_Violence_Clean\n",
    "\t\t(rename = (\tCategory = OldCategory Year = OldYear Quarter = OldQuarter\n",
    "\t\t\t\t\tStage = OldStage));\n",
    "\t\tCategory = OldCategory;\n",
    "\t\tformat Category $20.;\n",
    "\t\tYear = OldYear;\n",
    "\t\tformat Year 8.;\n",
    "\t\tQuarter = OldQuarter;\n",
    "\t\tformat Quarter 8.;\n",
    "\t\tCourt = EventCourt;\n",
    "\t\tformat Court 8.;\n",
    "\t\tStage = OldStage;\n",
    "\t\tformat Stage $15.;\n",
    "\t\tCount = Disposals;\n",
    "\t\tformat Count 8.;\n",
    "\t\tCases = Case_Count;\n",
    "\t\tformat Cases 8.;\n",
    "run;"
   ]
  },
  {
   "cell_type": "code",
   "execution_count": null,
   "id": "39770e94-c97c-41e6-a468-e5c0973898de",
   "metadata": {},
   "outputs": [],
   "source": []
  },
  {
   "cell_type": "code",
   "execution_count": null,
   "id": "972f88f7-7997-4f5c-bc26-b79a3fe50960",
   "metadata": {},
   "outputs": [],
   "source": []
  },
  {
   "cell_type": "code",
   "execution_count": null,
   "id": "0e0abbce-5b68-405f-ad42-1d047f476f88",
   "metadata": {},
   "outputs": [],
   "source": []
  }
 ],
 "metadata": {
  "kernelspec": {
   "display_name": "venv",
   "language": "python",
   "name": "venv"
  },
  "language_info": {
   "codemirror_mode": {
    "name": "ipython",
    "version": 3
   },
   "file_extension": ".py",
   "mimetype": "text/x-python",
   "name": "python",
   "nbconvert_exporter": "python",
   "pygments_lexer": "ipython3",
   "version": "3.9.6"
  }
 },
 "nbformat": 4,
 "nbformat_minor": 5
}
