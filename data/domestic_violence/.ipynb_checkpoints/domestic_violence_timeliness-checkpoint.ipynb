{
 "cells": [
  {
   "cell_type": "markdown",
   "id": "98edb470-90b8-486e-85f1-2ca06d8eb314",
   "metadata": {},
   "source": [
    "# Domestic Violence Timeliness "
   ]
  },
  {
   "cell_type": "markdown",
   "id": "0bbbfca6-b3a2-48a2-a7f3-1b67616b827f",
   "metadata": {
    "jp-MarkdownHeadingCollapsed": true,
    "tags": []
   },
   "source": [
    "## Contents\n",
    "#### Setup\n",
    "1. [import_packages](#import_packages) \n",
    "2. [define_key_variables](#define_key_variables) \n",
    "\n",
    "#### Stage 1 - Legal representation\n",
    "3. [dv_case_data_temp](#DV_case_data_temp) - filters by year > 2010 and by first application date\n",
    "4. [dv_applicant_info](#DV_applicant_info) - joins the roles, parties and address tables for applicants to get information on the applicants\n",
    "5. [dv_respondent_info](#DV_respondent_info) - joins the roles, parties and address tables for respondents to get information on the respondents\n",
    "6. [dv_applicants_temp](#DV_applicants_temp) takes the dv_applicant_info table and reformats it, decoding gender and representative role values into strings\n",
    "7. [dv_respondents_temp](#DV_respondents_temp) - takes the dv_respondent_info table and reformats it, decoding gender and representative role values into strings\n",
    "8. [dv_app_rep](#DV_app_rep) - joins the case data with the applicant representation data\n",
    "9. [dv_resp_rep](#DV_resp_rep) - joins the case data with the respondent representation data\n",
    "10. [dv_hearing_events](#DV_Hearing_Events) - takes the domestic violence hearing events from the hearings table and joins it with the events table data \n",
    "11. [dv_hearing_cases](#DV_Hearing_Cases) - takes the hearing events, filters by domestic violence event codes and adds a flag whether the hearing is the first in the case\n",
    "12. [hearing_dv_applicants](#Hearing_DV_Applicants) - joins the cases from applicant representation table to the first hearing for the case in the DV_Hearing_Cases table\n",
    "13. [hearing_dv_respondents](#Hearing_DV_Respondents) - joins the cases from respondent representation table to the first hearing for the case in the DV_Hearing_Cases table\n",
    "14. [dv_app](#DV_App) - groups the hearing_dv_applicants table and produces a count per group\n",
    "15. [dv_resp](#DV_Resp) - groups the hearing_dv_respondents table and produces a count per group\n",
    "16. [dv_case](#DV_Case) - groups and formats dv_case_data_v3 table and gives a count for each group\n",
    "17. [dv_case_hearings](#DV_Case_Hearings) - creates a count of all the cases with a hearing per quarter\n",
    "18. [domestic violence](#Domestic_Violence) - joins the applicant/respondent representation count tables, case count table, and case hearing count tables\n",
    "\n",
    "#### Stage 2 - Timeliness\n",
    "19. [dv_applications_data_sorted](#DV_applications_data_sorted) - orders dv_application_5 by case_number and application date\n",
    "20. [dv_applications_temp](#DV_applications_temp) - takes the dv_applications_data sorted table and filters it so it only has the first application record per case number\n",
    "21. [dv_orders_data_sorted](#DV_orders_data_sorted) - sorts the disposals table by case_number and receipt date, removing contact orders, placement revoke or vary orders and other type orders\n",
    "22. [dv_orders_temp](#DV_orders_temp)- takes the dv_orders_data sorted table and filters it so it only has the first order record per case number\n",
    "23. [dv_apps_and_orders_match](#DV_apps_and_orders_match) - calculates the timeliness based on the difference between app_date and disp_date\n",
    "24. [Applicant_representation](#Applicant_representation) - creates a table showing whether all, some, or none of the applicants for a case have representation\n",
    "25. [Respondent_representation](#Respondent_representation) - creates a table showing whether all, some, or none of the respondents for a case have representation\n",
    "26. [DV_disposals_final](#DV_disposals_final) - joins the dv_apps_and_orders_match table and the representation tables, joining timeliness and legal representation data for a case together\n",
    "27. [DV_Quarterly](#DV_Quarterly) - groups the disposals_final table by quarter, providing a total and mean wait_weeks per quarter\n",
    "28. [DV_Annual](#DV_Annual) - groups the disposals_final table annually, providing a total and mean wait_weeks annually\n",
    "29. [DV_timeliness](#DV_timeliness) - groups the disposals_final table regionally and nationally, providing a total, mean, and median wait_weeks\n",
    "30. [DV_timeliness_combined](#DV_timeliness_combined) - combines and orders the annual and quarterly timeliness data "
   ]
  },
  {
   "cell_type": "markdown",
   "id": "d4a6a595-3f27-4a93-959e-82ddcb091185",
   "metadata": {
    "tags": []
   },
   "source": [
    "## 1. Import packages and set options \n",
    "<a name=\"import_packages\"></a>"
   ]
  },
  {
   "cell_type": "code",
   "execution_count": 1,
   "id": "13ac4c63-b2f7-4257-a60e-1e35492c0deb",
   "metadata": {},
   "outputs": [],
   "source": [
    "import pandas as pd  # a module which provides the data structures and functions to store and manipulate tables in dataframes\n",
    "import pydbtools as pydb  # A module which allows SQL queries to be run on the Analytical Platform from Python, see https://github.com/moj-analytical-services/pydbtools\n",
    "import boto3  # allows you to directly create, update, and delete AWS resources from Python scripts\n",
    "import numpy as np\n",
    "\n",
    "# sets parameters to view dataframes for tables easier\n",
    "pd.set_option(\"display.max_columns\", 100)\n",
    "pd.set_option(\"display.width\", 900)\n",
    "pd.set_option(\"display.max_colwidth\", 200)"
   ]
  },
  {
   "cell_type": "markdown",
   "id": "9d5a8c2a-86c5-4bac-bb83-abd9f7a1b024",
   "metadata": {
    "tags": []
   },
   "source": [
    "## 2. Define key variables to be used throughout the notebook \n",
    "<a name=\"define_key_variables\"></a>"
   ]
  },
  {
   "cell_type": "code",
   "execution_count": 2,
   "id": "7a4457a8-6b48-4031-a580-577bac53e6ca",
   "metadata": {},
   "outputs": [],
   "source": [
    "#this is the database we will be extracting from\n",
    "database = \"familyman_dev_v3\" \n",
    "\n",
    "#this extracts the latest snapshot from athena\n",
    "#get_snapshot_date = f\"SELECT mojap_snapshot_date from {database}.events order by mojap_snapshot_date desc limit 1\"\n",
    "#snapshot_date = str(pydb.read_sql_query(get_snapshot_date)['mojap_snapshot_date'].values[0])\n",
    "\n",
    "#this extracts the August snapshot from athena\n",
    "snapshot_date = '2022-08-04'\n",
    "\n",
    "#this is the athena database we will be storing our tables in\n",
    "fcsq_database = \"fcsq\"\n",
    "\n",
    "#this is the s3 bucket we will be saving data to\n",
    "s3 = boto3.resource(\"s3\")\n",
    "bucket = s3.Bucket(\"alpha-family-data\")\n",
    "\n",
    "#change these to the current quarter and year not the quarter being published\n",
    "latest_quarter = 3\n",
    "latest_year = 2022"
   ]
  },
  {
   "cell_type": "markdown",
   "id": "1ae048e9-08d1-4eb3-96de-d08770c664a5",
   "metadata": {},
   "source": [
    "## 3. DV_case_data temporary tables - filters by receipt_date > 2010 and by first application date\n",
    "<a name=\"DV_case_data_temp\"></a>"
   ]
  },
  {
   "cell_type": "code",
   "execution_count": 3,
   "id": "c2386a01-04d8-4777-ad28-faff1e7317d8",
   "metadata": {},
   "outputs": [],
   "source": [
    "create_dv_case_data_v1 = f\"\"\"\n",
    "SELECT *,\n",
    "ROW_NUMBER() OVER(\n",
    "PARTITION BY CASE_NUMBER\n",
    "ORDER BY CASE_NUMBER, RECEIPT_DATE, EVENT_COURT\n",
    ") CASE_NUMBER_ID\n",
    "FROM fcsq.DV_APPS_FINAL ;\n",
    "\"\"\"\n",
    "\n",
    "pydb.create_temp_table(create_dv_case_data_v1,'dv_case_data_v1')\n",
    "\n",
    "create_dv_case_data_v2 = f\"\"\"\n",
    "SELECT *\n",
    "FROM __temp__.dv_case_data_v1\n",
    "WHERE CASE_NUMBER_ID = 1;\n",
    "\"\"\"\n",
    "\n",
    "pydb.create_temp_table(create_dv_case_data_v2,'dv_case_data_v2')\n",
    "\n",
    "create_dv_case_data_v3 = f\"\"\"\n",
    "SELECT *\n",
    "FROM __temp__.dv_case_data_v2\n",
    "\n",
    "WHERE RECEIPT_DATE >= cast('2011-01-01'as timestamp) \n",
    "AND RECEIPT_DATE  <= cast('2022-06-30'as timestamp)\n",
    "\n",
    "ORDER BY Year,\n",
    "Quarter;\n",
    "\"\"\"\n",
    "\n",
    "pydb.create_temp_table(create_dv_case_data_v3,'dv_case_data_v3')"
   ]
  },
  {
   "cell_type": "code",
   "execution_count": 4,
   "id": "c3e7008e-9f8b-4032-9235-91f96060da0e",
   "metadata": {},
   "outputs": [],
   "source": [
    "#DV_CASE_DATA_count = pydb.read_sql_query(\"SELECT count(*) as count from fcsq.DV_APPS_FINAL;\")\n",
    "#DV_CASE_DATA_count"
   ]
  },
  {
   "cell_type": "markdown",
   "id": "bf2c3189-68da-4728-9c28-5396b0c418b8",
   "metadata": {},
   "source": [
    "## 4. Applicant_Info table - joins the roles, parties and address tables for applicants to get information on the applicants\n",
    "<a name=\"DV_applicant_info\"></a>"
   ]
  },
  {
   "cell_type": "markdown",
   "id": "4735512e-efe9-4004-87aa-cd7c6ccda3ae",
   "metadata": {},
   "source": [
    "### Drop the Applicant_Info table if it already exists and remove its data from the S3 bucket"
   ]
  },
  {
   "cell_type": "code",
   "execution_count": 5,
   "id": "3af9510e-e6ca-4c8e-bcf1-abd6cfff5bc2",
   "metadata": {},
   "outputs": [],
   "source": [
    "drop_Applicants_Table = \"DROP TABLE IF EXISTS fcsq.Applicants\"\n",
    "pydb.start_query_execution_and_wait(drop_Applicants_Table)\n",
    "bucket.objects.filter(Prefix=\"fcsq_processing/Domestic_Violence/Applicants\").delete();"
   ]
  },
  {
   "cell_type": "markdown",
   "id": "64874b5e-82e7-431a-bc8c-025a6e87181c",
   "metadata": {},
   "source": [
    "### Create the Applicant_Info table in Athena"
   ]
  },
  {
   "cell_type": "code",
   "execution_count": 6,
   "id": "872807e5-4caa-48b2-b75b-1aa8e7bf8702",
   "metadata": {},
   "outputs": [],
   "source": [
    "create_Applicants_Table = f\"\"\"\n",
    "CREATE TABLE IF NOT EXISTS fcsq.Applicants\n",
    "WITH (format = 'PARQUET', external_location = 's3://alpha-family-data/fcsq_processing/Domestic_Violence/Applicants') AS\n",
    " SELECT DISTINCT\n",
    "   {database}.roles.ROLE, \n",
    "   {database}.roles.REPRESENTATIVE_ROLE, \n",
    "   {database}.roles.ROLE_MODEL, \n",
    "   {database}.roles.PARTY, \n",
    "   {database}.roles.CASE_NUMBER, \n",
    "   {database}.parties.PERSON_GIVEN_FIRST_NAME, \n",
    "   {database}.parties.PERSON_FAMILY_NAME, \n",
    "   {database}.parties.COMPANY, \n",
    "   {database}.addresses.POSTCODE, \n",
    "   {database}.parties.GENDER, \n",
    "   {database}.roles.DELETE_FLAG\n",
    "FROM \n",
    "  ({database}.roles INNER JOIN {database}.parties ON {database}.roles.PARTY = {database}.parties.PARTY) \n",
    "  INNER JOIN {database}.addresses ON {database}.roles.ADDRESS = {database}.addresses.ADDRESS\n",
    "WHERE (((({database}.roles.ROLE_MODEL)= 'APLC') AND (({database}.roles.DELETE_FLAG)= 'N'))\n",
    "    OR ((({database}.roles.ROLE_MODEL)= 'APLZ') AND (({database}.roles.DELETE_FLAG)= 'N')) \n",
    "    OR ((({database}.roles.ROLE_MODEL)= 'APLA') AND (({database}.roles.DELETE_FLAG)= 'N')))\n",
    "    AND {database}.roles.mojap_snapshot_date = date '{snapshot_date}'\n",
    "    AND {database}.parties.mojap_snapshot_date = date '{snapshot_date}'\n",
    "    AND {database}.addresses.mojap_snapshot_date = date '{snapshot_date}';\n",
    "\"\"\"\n",
    "\n",
    "pydb.start_query_execution_and_wait(create_Applicants_Table);\n"
   ]
  },
  {
   "cell_type": "code",
   "execution_count": 7,
   "id": "7bff41a9-5ea4-4677-b049-c1e6862661c3",
   "metadata": {},
   "outputs": [],
   "source": [
    "#pydb.read_sql_query(\"SELECT * from fcsq.Applicants where case_number='NE19Z02909'\")"
   ]
  },
  {
   "cell_type": "markdown",
   "id": "5658dd5c-3941-4cd8-a50e-b6045663d99a",
   "metadata": {},
   "source": [
    "#### Applicants validation"
   ]
  },
  {
   "cell_type": "code",
   "execution_count": 8,
   "id": "8ae62211-5ac7-458a-abfd-5de922a088aa",
   "metadata": {},
   "outputs": [],
   "source": [
    "#Applicants_count = pydb.read_sql_query(\"SELECT count(*) as count from fcsq.Applicants\")\n",
    "#Applicants_count"
   ]
  },
  {
   "cell_type": "markdown",
   "id": "da1fb20a-0a96-4901-baaf-3813f30946e0",
   "metadata": {
    "tags": []
   },
   "source": [
    "## 5. Respondent_Info table - joins the roles, parties and address tables for respondents to get information on the respondents\n",
    "<a name=\"DV_respondent_info\"></a>"
   ]
  },
  {
   "cell_type": "markdown",
   "id": "8eecfde0-004a-4546-be09-476142ca6a1e",
   "metadata": {},
   "source": [
    "### Drop the Respondent_Info table if it already exists and remove its data from the S3 bucket"
   ]
  },
  {
   "cell_type": "code",
   "execution_count": 9,
   "id": "24f5934a-2103-4bbf-99f2-0dd6f5f974dd",
   "metadata": {},
   "outputs": [],
   "source": [
    "drop_Respondents_Table = \"DROP TABLE IF EXISTS fcsq.Respondents\"\n",
    "pydb.start_query_execution_and_wait(drop_Respondents_Table)\n",
    "bucket.objects.filter(Prefix=\"fcsq_processing/Domestic_Violence/Respondents\").delete();"
   ]
  },
  {
   "cell_type": "markdown",
   "id": "95e156c6-3c59-45b4-b59c-544339ae022b",
   "metadata": {},
   "source": [
    "### Create the Respondent_Info table in Athena"
   ]
  },
  {
   "cell_type": "code",
   "execution_count": 10,
   "id": "304f7211-97de-479f-8287-cedde5b1aa4f",
   "metadata": {},
   "outputs": [],
   "source": [
    "create_Respondents_Table = f\"\"\"\n",
    "CREATE TABLE IF NOT EXISTS fcsq.Respondents\n",
    "WITH (format = 'PARQUET', external_location = 's3://alpha-family-data/fcsq_processing/Domestic_Violence/Respondents') AS\n",
    "SELECT DISTINCT\n",
    "  {database}.roles.ROLE, \n",
    "  {database}.roles.REPRESENTATIVE_ROLE, \n",
    "  {database}.roles.ROLE_MODEL, \n",
    "  {database}.roles.PARTY, \n",
    "  {database}.roles.CASE_NUMBER, \n",
    "  {database}.parties.GENDER, \n",
    "  {database}.addresses.POSTCODE, \n",
    "  {database}.roles.DELETE_FLAG\n",
    "FROM \n",
    "  ({database}.roles INNER JOIN {database}.parties ON {database}.roles.PARTY = {database}.parties.PARTY) \n",
    "  INNER JOIN {database}.addresses ON {database}.roles.ADDRESS = {database}.addresses.ADDRESS\n",
    "WHERE \n",
    "    (((({database}.roles.ROLE_MODEL)='RSPA') AND (({database}.roles.DELETE_FLAG)='N')) \n",
    "    OR ((({database}.roles.ROLE_MODEL)='RSPZ') AND (({database}.roles.DELETE_FLAG)='N'))\n",
    "    OR ((({database}.roles.ROLE_MODEL)='RSPC') AND (({database}.roles.DELETE_FLAG)='N')))\n",
    "    AND {database}.roles.mojap_snapshot_date = date '{snapshot_date}'\n",
    "    AND {database}.parties.mojap_snapshot_date = date '{snapshot_date}'\n",
    "    AND {database}.addresses.mojap_snapshot_date = date '{snapshot_date}';\n",
    "\"\"\"\n",
    "\n",
    "pydb.start_query_execution_and_wait(create_Respondents_Table);"
   ]
  },
  {
   "cell_type": "markdown",
   "id": "68df663e-bb8d-44cd-919f-7e0b8ca74dd2",
   "metadata": {},
   "source": [
    "#### Respondents validation"
   ]
  },
  {
   "cell_type": "code",
   "execution_count": 11,
   "id": "a7db8db3-e9dd-4330-9ebe-3f764fbec364",
   "metadata": {},
   "outputs": [],
   "source": [
    "#Respondents_count = pydb.read_sql_query(\"SELECT count(*) as count from fcsq.Respondents\")\n",
    "#Respondents_count"
   ]
  },
  {
   "cell_type": "code",
   "execution_count": 12,
   "id": "b4c3e75f-70fc-47eb-a315-014e793c6510",
   "metadata": {},
   "outputs": [],
   "source": [
    "#pydb.read_sql_query(\"select * from fcsq.Respondents where case_number='HB12Z00228'\")"
   ]
  },
  {
   "cell_type": "markdown",
   "id": "1ccd81d3-c01f-4752-b271-084a04a2a707",
   "metadata": {},
   "source": [
    "## 6. Applicants temporary tables - takes the Applicants_Info table and reformats it, decoding gender and representative role values into strings\n",
    "<a name=\"DV_applicants_temp\"></a>"
   ]
  },
  {
   "cell_type": "code",
   "execution_count": 13,
   "id": "9e9c56f4-28d1-4b58-8a48-49315dfec8eb",
   "metadata": {},
   "outputs": [],
   "source": [
    "create_applicants_v1 = f\"\"\"\n",
    "SELECT T1.role,\n",
    "    T1.representative_role,\n",
    "    T1.role_model,\n",
    "    T1.party,\n",
    "    T1.case_number,\n",
    "    T1.gender,\n",
    "    case when gender = 1 then 'Male'\n",
    "    when gender = 2 then 'Female'\n",
    "    else 'Unknown' end as Gender_Decode\n",
    "\n",
    "FROM fcsq.Applicants AS t1\n",
    "ORDER BY t1.Case_Number;\n",
    "\"\"\"\n",
    "\n",
    "pydb.create_temp_table(create_applicants_v1,'applicants_v1')\n",
    "\n",
    "create_applicants_v2 = f\"\"\"\n",
    "SELECT DISTINCT T1.case_number,\n",
    "    T1.party,\n",
    "    max(T1.representative_role) as Rep_Role,\n",
    "    max(T1.gender_decode) as Gender_Max\n",
    "\n",
    "FROM __temp__.applicants_v1 AS t1\n",
    "GROUP BY Case_number, party;\n",
    "\"\"\"\n",
    "\n",
    "pydb.create_temp_table(create_applicants_v2,'applicants_v2')\n",
    "\n",
    "create_applicants_v3 = f\"\"\"\n",
    "SELECT t1.case_number,\n",
    "    t1.party as App_Party_ID,\n",
    "    t1.Rep_Role,\n",
    "    t1.Gender_Max,\n",
    "    case when t1.Rep_Role IS NULL then 'N'\n",
    "    when t1.Rep_Role IS NOT NULL then 'Y'\n",
    "    End as REPRESENTATION,\n",
    "    case when Rep_Role IS NULL AND Gender_Max = 'Female' then 'Unrep_Female'\n",
    "    when Rep_Role IS NULL AND Gender_Max = 'Male' then 'Unrep_Male'\n",
    "    when Rep_Role IS NULL AND Gender_Max = 'Unknown' then 'Unrep_Unknown'\n",
    "    when Rep_Role IS NOT NULL AND Gender_Max = 'Female' then 'Rep_Female'\n",
    "    when Rep_Role IS NOT NULL AND Gender_Max = 'Male' then 'Rep_Male'\n",
    "    when Rep_Role IS NOT NULL AND Gender_Max = 'Unknown' then 'Rep_Unknown'\n",
    "    else '' end as App_Rep_Cat\n",
    "    \n",
    "    from __temp__.applicants_v2 AS t1;\n",
    "\"\"\"\n",
    "\n",
    "pydb.create_temp_table(create_applicants_v3,'applicants_v3')"
   ]
  },
  {
   "cell_type": "markdown",
   "id": "edde5321-12d3-4b37-b6fb-234669dcb9cf",
   "metadata": {},
   "source": [
    "## 7. Respondents temporary tables - takes the Respondents_Info table and reformats it, decoding gender and representative role values into strings\n",
    "<a name=\"DV_respondents_temp\"></a>"
   ]
  },
  {
   "cell_type": "code",
   "execution_count": 14,
   "id": "1e9a7d91-79a5-4ca3-88b8-c7ed33fcaca7",
   "metadata": {},
   "outputs": [],
   "source": [
    "create_respondents_v1 = f\"\"\"\n",
    "SELECT T1.role,\n",
    "    T1.representative_role,\n",
    "    T1.role_model,\n",
    "    T1.party,\n",
    "    T1.case_number,\n",
    "    T1.gender,\n",
    "    case when gender = 1 then 'Male'\n",
    "    when gender = 2 then 'Female'\n",
    "    else 'Unknown' end as Gender_Decode\n",
    "\n",
    "FROM fcsq.Respondents AS t1\n",
    "ORDER BY t1.Case_Number;\n",
    "\"\"\"\n",
    "\n",
    "pydb.create_temp_table(create_respondents_v1,'respondents_v1')\n",
    "\n",
    "create_respondents_v2 = f\"\"\"\n",
    "SELECT DISTINCT T1.case_number,\n",
    "    T1.party,\n",
    "    max(T1.representative_role) as Rep_Role,\n",
    "    max(T1.gender_decode) as Gender_Max\n",
    "\n",
    "FROM __temp__.respondents_v1 AS t1\n",
    "GROUP BY Case_number, party;\n",
    "\"\"\"\n",
    "\n",
    "pydb.create_temp_table(create_respondents_v2,'respondents_v2')\n",
    "\n",
    "create_respondents_v3 = f\"\"\"\n",
    "SELECT t1.case_number,\n",
    "    t1.party as Resp_Party_ID,\n",
    "    t1.Rep_Role,\n",
    "    t1.Gender_Max,\n",
    "    case when t1.Rep_Role IS NULL then 'N'\n",
    "    when t1.Rep_Role IS NOT NULL then 'Y'\n",
    "    End as REPRESENTATION,\n",
    "    case when Rep_Role IS NULL AND Gender_Max = 'Female' then 'Unrep_Female'\n",
    "    when Rep_Role IS NULL AND Gender_Max = 'Male' then 'Unrep_Male'\n",
    "    when Rep_Role IS NULL AND Gender_Max = 'Unknown' then 'Unrep_Unknown'\n",
    "    when Rep_Role IS NOT NULL AND Gender_Max = 'Female' then 'Rep_Female'\n",
    "    when Rep_Role IS NOT NULL AND Gender_Max = 'Male' then 'Rep_Male'\n",
    "    when Rep_Role IS NOT NULL AND Gender_Max = 'Unknown' then 'Rep_Unknown'\n",
    "    else '' end as Resp_Rep_Cat\n",
    "    \n",
    "    from __temp__.respondents_v2 AS t1;\n",
    "\"\"\"\n",
    "\n",
    "pydb.create_temp_table(create_respondents_v3,'respondents_v3')"
   ]
  },
  {
   "cell_type": "markdown",
   "id": "3c2ec33b-71dc-46f0-b129-852ecbb7ce72",
   "metadata": {},
   "source": [
    "## 8. Create dv_app_rep table - joins the case data with the applicant representation data \n",
    "<a name=\"DV_app_rep\"></a>"
   ]
  },
  {
   "cell_type": "code",
   "execution_count": 15,
   "id": "99e27a4b-aa17-4485-afac-04604168c5de",
   "metadata": {},
   "outputs": [],
   "source": [
    "dv_app_rep_final = f\"\"\"\n",
    "SELECT t1.YEAR, \n",
    "    t1.QUARTER,\n",
    "    t1.CASE_NUMBER, \n",
    "    t1.EVENT_COURT AS Court,\n",
    "    t2.App_Party_ID,\n",
    "    t2.Representation,\n",
    "    t2.Gender_Max as App_Gender,\n",
    "    t2.App_Rep_Cat          \n",
    "FROM __temp__.dv_case_data_v3 t1\n",
    "    LEFT JOIN __temp__.applicants_v3 t2 ON (t1.CASE_NUMBER = t2.CASE_NUMBER);\n",
    "\n",
    "\"\"\"\n",
    "\n",
    "pydb.create_temp_table(dv_app_rep_final,'dv_app_rep_final')"
   ]
  },
  {
   "cell_type": "code",
   "execution_count": 16,
   "id": "5ddf1587-4f1b-4c08-bb6b-5e64466a954a",
   "metadata": {},
   "outputs": [],
   "source": [
    "#dv_app_rep_final_check = \"SELECT COUNT(*) as Count from __temp__.dv_app_rep_final\"\n",
    "#pydb.read_sql_query(dv_app_rep_final_check)"
   ]
  },
  {
   "cell_type": "markdown",
   "id": "ee1860c7-b062-47d5-bded-7674f7872223",
   "metadata": {},
   "source": [
    "## 9. Create dv_resp_rep table - joins the case data with the respondent representation data\n",
    "<a name=\"DV_resp_rep\"></a>"
   ]
  },
  {
   "cell_type": "code",
   "execution_count": 17,
   "id": "8239c046-b40e-408d-a6c9-8bef6639090d",
   "metadata": {},
   "outputs": [],
   "source": [
    "dv_resp_rep_final = f\"\"\"\n",
    "   SELECT t1.YEAR, \n",
    "        t1.QUARTER,\n",
    "        t1.CASE_NUMBER, \n",
    "        t1.EVENT_COURT AS Court,\n",
    "          t2.Resp_Party_ID,\n",
    "          t2.Representation,\n",
    "          t2.Gender_Max as Resp_Gender,\n",
    "          t2.Resp_Rep_Cat\n",
    "          \n",
    "      FROM __temp__.dv_case_data_v3 t1\n",
    "           LEFT JOIN __temp__.respondents_v3 t2 ON (t1.CASE_NUMBER = t2.CASE_NUMBER);\n",
    "\"\"\"\n",
    "\n",
    "pydb.create_temp_table(dv_resp_rep_final,'dv_resp_rep_final')\n"
   ]
  },
  {
   "cell_type": "code",
   "execution_count": 18,
   "id": "eef94200-ab4e-49f9-883e-da0fc71080bf",
   "metadata": {},
   "outputs": [],
   "source": [
    "#dv_resp_rep_final_check = \"SELECT COUNT(*) as Count from __temp__.dv_resp_rep_final\"\n",
    "#pydb.read_sql_query(dv_resp_rep_final_check)"
   ]
  },
  {
   "cell_type": "code",
   "execution_count": 19,
   "id": "f1ab7054-74e0-4002-8c19-229c5891d3b2",
   "metadata": {},
   "outputs": [],
   "source": [
    "#pydb.read_sql_query(\"select * from __temp__.dv_resp_rep_final\")"
   ]
  },
  {
   "cell_type": "markdown",
   "id": "e2fba1c0-3693-4f58-ac28-5297ed693221",
   "metadata": {},
   "source": [
    "## 10. Create DV_Hearing_Events table - takes the domestic violence hearing events from the hearings table and joins it with the events table data \n",
    "<a name=\"DV_Hearing_Events\"></a>"
   ]
  },
  {
   "cell_type": "markdown",
   "id": "70208b1a-74f1-4a71-8439-083a10251cf0",
   "metadata": {},
   "source": [
    "### Drop the DV_Hearing_Events table if it already exists and remove its data from the S3 bucket"
   ]
  },
  {
   "cell_type": "code",
   "execution_count": 20,
   "id": "815ed0b6-e103-4363-ae4c-0aed76fb6bf6",
   "metadata": {},
   "outputs": [],
   "source": [
    "drop_DV_Hearing_Events = \"DROP TABLE IF EXISTS fcsq.DV_Hearing_Events\"\n",
    "pydb.start_query_execution_and_wait(drop_DV_Hearing_Events)\n",
    "bucket.objects.filter(Prefix=\"fcsq_processing/Domestic_Violence/DV_Hearing_Events\").delete();"
   ]
  },
  {
   "cell_type": "markdown",
   "id": "501ac242-1b57-466c-8343-ea0d21d71c13",
   "metadata": {},
   "source": [
    "### Create the DV_Hearing_Events table in Athena"
   ]
  },
  {
   "cell_type": "code",
   "execution_count": 21,
   "id": "696163df-74d3-4013-89eb-e8933e8825d8",
   "metadata": {},
   "outputs": [],
   "source": [
    "create_DV_Hearing_Events = f\"\"\"\n",
    "CREATE TABLE IF NOT EXISTS fcsq.DV_Hearing_Events\n",
    "WITH (format = 'PARQUET', external_location = 's3://alpha-family-data/fcsq_processing/Domestic_Violence/DV_Hearing_Events') AS\n",
    "SELECT {database}.hearings.EVENT,\n",
    "  {database}.hearings.VACATED_FLAG,\n",
    "  {database}.hearings.HEARING_TYPE,\n",
    "  {database}.hearings.HEARING_DATE,\n",
    "  {database}.events.RECEIPT_DATE,\n",
    "  {database}.events.ERROR,\n",
    "  {database}.events.CASE_NUMBER,\n",
    "  {database}.events.EVENT_MODEL\n",
    "FROM {database}.hearings\n",
    "INNER JOIN {database}.events\n",
    "ON {database}.hearings.EVENT            = {database}.events.EVENT\n",
    "WHERE {database}.hearings.VACATED_FLAG IS NULL\n",
    "AND {database}.events.ERROR             = 'N'\n",
    "AND HEARING_DATE > date_parse('31-12-2009 00:00:00', '%d-%m-%Y %H:%i:%s')\n",
    "AND substring(case_number,5,1) = 'F'\n",
    "AND {database}.hearings.mojap_snapshot_date = date '{snapshot_date}' and {database}.events.mojap_snapshot_date = date '{snapshot_date}';\n",
    "\"\"\"\n",
    "\n",
    "pydb.start_query_execution_and_wait(create_DV_Hearing_Events);"
   ]
  },
  {
   "cell_type": "markdown",
   "id": "b5ea0e12-fb5d-4751-b252-83bad9372d30",
   "metadata": {},
   "source": [
    "#### DV_Hearing_Events validation"
   ]
  },
  {
   "cell_type": "code",
   "execution_count": 22,
   "id": "4eebdb84-e0be-427b-b8d3-92bd061b94ad",
   "metadata": {},
   "outputs": [],
   "source": [
    "#DV_Hearing_Events_count = pydb.read_sql_query(\"select count(*) as count from fcsq.DV_Hearing_Events\")\n",
    "#DV_Hearing_Events_count"
   ]
  },
  {
   "cell_type": "code",
   "execution_count": 23,
   "id": "12c8e1a9-b644-4302-a035-467ca492e460",
   "metadata": {},
   "outputs": [],
   "source": [
    "#pydb.read_sql_query(\"select * from fcsq.DV_Hearing_Events\")"
   ]
  },
  {
   "cell_type": "markdown",
   "id": "574d8a10-b589-40ef-8f55-874243355dcc",
   "metadata": {},
   "source": [
    "## 11. DV_Hearing_Cases table - takes the hearing events, filters by domestic violence event codes and adds a flag whether the hearing is the first in the case\n",
    "<a name=\"DV_Hearing_Cases\"></a> "
   ]
  },
  {
   "cell_type": "markdown",
   "id": "698c24d1-3643-43f3-bf70-70f69f030545",
   "metadata": {},
   "source": [
    "### Drop the DV_Hearing_Cases table if it already exists and remove its data from the S3 bucket"
   ]
  },
  {
   "cell_type": "code",
   "execution_count": 24,
   "id": "c6f6a045-7089-4e60-9014-dfed33850906",
   "metadata": {},
   "outputs": [],
   "source": [
    "drop_DV_Hearings_Cases = \"DROP TABLE IF EXISTS fcsq.DV_Hearings_Cases\"\n",
    "pydb.start_query_execution_and_wait(drop_DV_Hearings_Cases)\n",
    "bucket.objects.filter(Prefix=\"fcsq_processing/Domestic_Violence/DV_Hearings_Cases\").delete();"
   ]
  },
  {
   "cell_type": "markdown",
   "id": "448eff09-7ac1-44e5-b1b9-6a251645c5eb",
   "metadata": {},
   "source": [
    "### Create the DV_Hearing_Cases table in Athena"
   ]
  },
  {
   "cell_type": "code",
   "execution_count": 25,
   "id": "5fa6ff38-e767-4f17-8d3a-61b0fbc50d7e",
   "metadata": {},
   "outputs": [],
   "source": [
    "create_DV_Hearings_Cases = f\"\"\"\n",
    "CREATE TABLE IF NOT EXISTS fcsq.DV_Hearings_Cases\n",
    "WITH (format = 'PARQUET', external_location = 's3://alpha-family-data/fcsq_processing/Domestic_Violence/DV_Hearings_Cases') AS\n",
    "select t1.case_number,\n",
    "    t1.error,\n",
    "    t1.event,\n",
    "    t1.event_model,\n",
    "    t1.hearing_date,\n",
    "    t1.hearing_type,\n",
    "    t1.receipt_date,\n",
    "    t1.vacated_flag,\n",
    "    substring(Case_Number,5,1) AS Case_Type\n",
    "    from fcsq.DV_Hearing_Events AS t1\n",
    "    where t1.event_model in ('C6', 'G61', 'FL402', 'FL405')\n",
    "    order by t1.case_number, t1.receipt_date;\n",
    "\"\"\"\n",
    "\n",
    "pydb.start_query_execution_and_wait(create_DV_Hearings_Cases)\n",
    "\n",
    "create_dv_hearings_cases_v2 = f\"\"\"\n",
    "SELECT *,\n",
    "(case when row_number() over (partition by Case_Number order by receipt_date) = 1 then 1 else 0 end) as Case_Number_ID\n",
    "FROM fcsq.DV_Hearings_Cases;\n",
    "\"\"\"\n",
    "\n",
    "pydb.create_temp_table(create_dv_hearings_cases_v2,'dv_hearings_cases_v2')"
   ]
  },
  {
   "cell_type": "markdown",
   "id": "deba2df6-289a-4881-919f-960e8cca911c",
   "metadata": {},
   "source": [
    "#### DV_Hearing_Cases validation"
   ]
  },
  {
   "cell_type": "code",
   "execution_count": 26,
   "id": "9145ff9f-88f0-4b4f-9f5f-e01a04c6c5d5",
   "metadata": {},
   "outputs": [],
   "source": [
    "#DV_Hearings_Cases_count = pydb.read_sql_query(\"select count(*) as count from __temp__.dv_hearings_cases_v2\")\n",
    "#DV_Hearings_Cases_count"
   ]
  },
  {
   "cell_type": "markdown",
   "id": "58ba9e5a-b4be-4321-bc33-92eb7f5b6b3d",
   "metadata": {},
   "source": [
    "## 12. Hearing_DV_Applicants table - joins the cases from applicant representation table to the first hearing for the case in the DV_Hearing_Cases table \n",
    "<a name=\"Hearing_DV_Applicants\"></a>"
   ]
  },
  {
   "cell_type": "markdown",
   "id": "bdb42dc7-351a-4320-ab6a-a310cdf1e63a",
   "metadata": {},
   "source": [
    "### Drop the Hearing_DV_Applicant table if it already exists and remove its data from the S3 bucket"
   ]
  },
  {
   "cell_type": "code",
   "execution_count": 27,
   "id": "ad0cd28f-4cde-443e-a2dc-5aae8c220f54",
   "metadata": {},
   "outputs": [],
   "source": [
    "drop_Hearing_DV_Applicant = \"DROP TABLE IF EXISTS fcsq.Hearing_DV_Applicant\"\n",
    "pydb.start_query_execution_and_wait(drop_Hearing_DV_Applicant)\n",
    "bucket.objects.filter(Prefix=\"fcsq_processing/Domestic_Violence/Hearing_DV_Applicant\").delete();"
   ]
  },
  {
   "cell_type": "markdown",
   "id": "0694dc7a-d442-4396-a13a-96aa5df02784",
   "metadata": {},
   "source": [
    "### Create the Hearing_DV_Applicant table in Athena"
   ]
  },
  {
   "cell_type": "code",
   "execution_count": 28,
   "id": "05c6f8b7-d0e1-4f99-bee9-e390d3b7c8c2",
   "metadata": {},
   "outputs": [
    {
     "data": {
      "text/plain": [
       "{'QueryExecutionId': 'f8a48a2e-dbaf-4ddb-bfc4-94363270e35d',\n",
       " 'Query': \"CREATE TABLE IF NOT EXISTS fcsq.Hearing_DV_Applicant\\nWITH (format = 'PARQUET', external_location = 's3://alpha-family-data/fcsq_processing/Domestic_Violence/Hearing_DV_Applicants') AS\\nSELECT t1.*,\\nt2.Case_Number_ID\\n\\nFROM mojap_de_temp_alpha_user_jdlv500.dv_app_rep_final t1\\nLEFT JOIN mojap_de_temp_alpha_user_jdlv500.dv_hearings_cases_v2 t2 ON (t1.CASE_NUMBER = t2.CASE_NUMBER)\\nwhere Case_Number_ID > 0\",\n",
       " 'StatementType': 'DDL',\n",
       " 'ResultConfiguration': {'OutputLocation': 's3://aws-athena-query-results-593291632749-eu-west-1/tables/f8a48a2e-dbaf-4ddb-bfc4-94363270e35d'},\n",
       " 'QueryExecutionContext': {},\n",
       " 'Status': {'State': 'SUCCEEDED',\n",
       "  'SubmissionDateTime': datetime.datetime(2022, 12, 30, 12, 59, 25, 465000, tzinfo=tzlocal()),\n",
       "  'CompletionDateTime': datetime.datetime(2022, 12, 30, 12, 59, 27, 746000, tzinfo=tzlocal())},\n",
       " 'Statistics': {'EngineExecutionTimeInMillis': 2152,\n",
       "  'DataScannedInBytes': 5269332,\n",
       "  'DataManifestLocation': 's3://aws-athena-query-results-593291632749-eu-west-1/tables/f8a48a2e-dbaf-4ddb-bfc4-94363270e35d-manifest.csv',\n",
       "  'TotalExecutionTimeInMillis': 2281,\n",
       "  'QueryQueueTimeInMillis': 111,\n",
       "  'QueryPlanningTimeInMillis': 182,\n",
       "  'ServiceProcessingTimeInMillis': 18},\n",
       " 'WorkGroup': 'primary',\n",
       " 'EngineVersion': {'SelectedEngineVersion': 'Athena engine version 2',\n",
       "  'EffectiveEngineVersion': 'Athena engine version 2'}}"
      ]
     },
     "execution_count": 28,
     "metadata": {},
     "output_type": "execute_result"
    }
   ],
   "source": [
    "create_Hearing_DV_Applicant = f\"\"\"\n",
    "CREATE TABLE IF NOT EXISTS fcsq.Hearing_DV_Applicant\n",
    "WITH (format = 'PARQUET', external_location = 's3://alpha-family-data/fcsq_processing/Domestic_Violence/Hearing_DV_Applicants') AS\n",
    "SELECT t1.*,\n",
    "t2.Case_Number_ID\n",
    "\n",
    "FROM __temp__.dv_app_rep_final t1\n",
    "LEFT JOIN __temp__.dv_hearings_cases_v2 t2 ON (t1.CASE_NUMBER = t2.CASE_NUMBER)\n",
    "where Case_Number_ID > 0;\n",
    "\"\"\"\n",
    "\n",
    "pydb.start_query_execution_and_wait(create_Hearing_DV_Applicant)"
   ]
  },
  {
   "cell_type": "markdown",
   "id": "782c570a-2e88-4bfa-a409-12f9a2bfa80b",
   "metadata": {},
   "source": [
    "#### Hearing_DV_Applicant validation"
   ]
  },
  {
   "cell_type": "code",
   "execution_count": 29,
   "id": "9749d68d-c1df-43c9-87af-69e4092d9c9b",
   "metadata": {},
   "outputs": [],
   "source": [
    "#Hearing_DV_Applicant_count = pydb.read_sql_query(\"select count(*) as count from fcsq.Hearing_DV_Applicant\")\n",
    "#Hearing_DV_Applicant_count"
   ]
  },
  {
   "cell_type": "markdown",
   "id": "518e7a8a-5533-46d3-ab90-6022e70d4d31",
   "metadata": {},
   "source": [
    "## 13. Hearing_DV_Respondent table - joins the cases from respondent representation table to the first hearing for the case in the DV_Hearing_Cases table \n",
    "<a name=\"Hearing_DV_Respondents\"></a>"
   ]
  },
  {
   "cell_type": "markdown",
   "id": "e52648a8-0fe9-4e2c-a1c8-bafea91a10a3",
   "metadata": {},
   "source": [
    "### Drop the Hearing_DV_Respondent table if it already exists and remove its data from the S3 bucket"
   ]
  },
  {
   "cell_type": "code",
   "execution_count": 30,
   "id": "91f6f6e3-12e2-4459-93ef-850c9b40ccae",
   "metadata": {},
   "outputs": [],
   "source": [
    "drop_Hearing_DV_Respondent = \"DROP TABLE IF EXISTS fcsq.Hearing_DV_Respondent\"\n",
    "pydb.start_query_execution_and_wait(drop_Hearing_DV_Respondent)\n",
    "bucket.objects.filter(Prefix=\"fcsq_processing/Domestic_Violence/Hearing_DV_Respondent\").delete();"
   ]
  },
  {
   "cell_type": "markdown",
   "id": "4ed10467-30a1-487c-89a4-05d8e0d0f474",
   "metadata": {},
   "source": [
    "### Create the Hearing_DV_Respondent table in Athena"
   ]
  },
  {
   "cell_type": "code",
   "execution_count": 31,
   "id": "34362091-c03b-409e-a344-3d5efdb55359",
   "metadata": {},
   "outputs": [
    {
     "data": {
      "text/plain": [
       "{'QueryExecutionId': 'af1545dd-6412-4a73-85c6-b556650ec338',\n",
       " 'Query': \"CREATE TABLE IF NOT EXISTS fcsq.Hearing_DV_Respondent\\nWITH (format = 'PARQUET', external_location = 's3://alpha-family-data/fcsq_processing/Domestic_Violence/Hearing_DV_Respondents') AS\\nSELECT t1.*,\\nt2.Case_Number_ID\\n\\nFROM mojap_de_temp_alpha_user_jdlv500.dv_resp_rep_final t1\\nLEFT JOIN mojap_de_temp_alpha_user_jdlv500.dv_hearings_cases_v2 t2 ON (t1.CASE_NUMBER = t2.CASE_NUMBER)\\nwhere Case_Number_ID > 0\",\n",
       " 'StatementType': 'DDL',\n",
       " 'ResultConfiguration': {'OutputLocation': 's3://aws-athena-query-results-593291632749-eu-west-1/tables/af1545dd-6412-4a73-85c6-b556650ec338'},\n",
       " 'QueryExecutionContext': {},\n",
       " 'Status': {'State': 'SUCCEEDED',\n",
       "  'SubmissionDateTime': datetime.datetime(2022, 12, 30, 12, 59, 32, 975000, tzinfo=tzlocal()),\n",
       "  'CompletionDateTime': datetime.datetime(2022, 12, 30, 12, 59, 35, 629000, tzinfo=tzlocal())},\n",
       " 'Statistics': {'EngineExecutionTimeInMillis': 2536,\n",
       "  'DataScannedInBytes': 5311305,\n",
       "  'DataManifestLocation': 's3://aws-athena-query-results-593291632749-eu-west-1/tables/af1545dd-6412-4a73-85c6-b556650ec338-manifest.csv',\n",
       "  'TotalExecutionTimeInMillis': 2654,\n",
       "  'QueryQueueTimeInMillis': 103,\n",
       "  'QueryPlanningTimeInMillis': 138,\n",
       "  'ServiceProcessingTimeInMillis': 15},\n",
       " 'WorkGroup': 'primary',\n",
       " 'EngineVersion': {'SelectedEngineVersion': 'Athena engine version 2',\n",
       "  'EffectiveEngineVersion': 'Athena engine version 2'}}"
      ]
     },
     "execution_count": 31,
     "metadata": {},
     "output_type": "execute_result"
    }
   ],
   "source": [
    "create_Hearing_DV_Respondent = f\"\"\"\n",
    "CREATE TABLE IF NOT EXISTS fcsq.Hearing_DV_Respondent\n",
    "WITH (format = 'PARQUET', external_location = 's3://alpha-family-data/fcsq_processing/Domestic_Violence/Hearing_DV_Respondents') AS\n",
    "SELECT t1.*,\n",
    "t2.Case_Number_ID\n",
    "\n",
    "FROM __temp__.dv_resp_rep_final t1\n",
    "LEFT JOIN __temp__.dv_hearings_cases_v2 t2 ON (t1.CASE_NUMBER = t2.CASE_NUMBER)\n",
    "where Case_Number_ID > 0;\n",
    "\"\"\"\n",
    "\n",
    "pydb.start_query_execution_and_wait(create_Hearing_DV_Respondent)"
   ]
  },
  {
   "cell_type": "markdown",
   "id": "a9f4d45e-f620-4cc9-b649-9985ff8a971e",
   "metadata": {},
   "source": [
    "#### Hearing_DV_Respondent validation"
   ]
  },
  {
   "cell_type": "code",
   "execution_count": 32,
   "id": "943650dc-0744-4d9f-a94c-a30cefe5c273",
   "metadata": {},
   "outputs": [],
   "source": [
    "#Hearing_DV_Respondent_count = pydb.read_sql_query(\"select count(*) as count from fcsq.Hearing_DV_Respondent\")\n",
    "#Hearing_DV_Respondent_count"
   ]
  },
  {
   "cell_type": "code",
   "execution_count": 33,
   "id": "c34502cd-c2a0-4ba2-bd98-80cdf8683fe2",
   "metadata": {},
   "outputs": [],
   "source": [
    "#pydb.read_sql_query(\"select * from fcsq.Hearing_DV_Respondent\")"
   ]
  },
  {
   "cell_type": "markdown",
   "id": "5c9e9367-64fc-4b8d-8988-690cdd988179",
   "metadata": {},
   "source": [
    "## 14. DV_App table - Groups the hearing_dv_applicants table and produces a count per group\n",
    "<a name=\"DV_App\"></a>"
   ]
  },
  {
   "cell_type": "markdown",
   "id": "fdd0ae6a-2ae2-4eb5-ad17-111e09ccc8fb",
   "metadata": {},
   "source": [
    "### Drop the DV_App table if it already exists and remove its data from the S3 bucket"
   ]
  },
  {
   "cell_type": "code",
   "execution_count": 34,
   "id": "21ee064c-69af-4bda-b3ed-cc778c8f96fe",
   "metadata": {},
   "outputs": [],
   "source": [
    "drop_DV_App = \"DROP TABLE IF EXISTS fcsq.DV_App\"\n",
    "pydb.start_query_execution_and_wait(drop_DV_App)\n",
    "bucket.objects.filter(Prefix=\"fcsq_processing/Domestic_Violence/DV_App\").delete();"
   ]
  },
  {
   "cell_type": "markdown",
   "id": "e02229c8-f28e-43f1-b667-8617d720408c",
   "metadata": {},
   "source": [
    "### Create the DV_App table in Athena"
   ]
  },
  {
   "cell_type": "code",
   "execution_count": 35,
   "id": "1275de21-4bb3-4e78-93ea-d8f2dfdb19a7",
   "metadata": {},
   "outputs": [],
   "source": [
    "create_DV_App = f\"\"\"\n",
    "CREATE TABLE IF NOT EXISTS fcsq.DV_App\n",
    "WITH (format = 'PARQUET', external_location = 's3://alpha-family-data/fcsq_processing/Domestic_Violence/DV_App') AS\n",
    "SELECT\n",
    "  'Domestic Violence' AS CASE_TYPE,\n",
    "  Year,\n",
    "  Quarter,\n",
    "  'Party' AS Category,\n",
    "  'Applicant' AS PARTY,\n",
    "   App_Gender AS Gender,\n",
    "  Representation,\n",
    "  Count (*) AS Count\n",
    "FROM\n",
    "  fcsq.Hearing_DV_Applicant\n",
    "WHERE \n",
    "  Representation <> '' /*A very small number of cases from 2011/12 look into whether these should be recoded as N (gender is also blank)*/\n",
    "GROUP BY\n",
    "  'Domestic Violence',\n",
    "  Year,\n",
    "  Quarter,\n",
    "  'Party',\n",
    "  'Applicant',\n",
    "  App_Gender,\n",
    "  Representation;\n",
    "\"\"\"\n",
    "\n",
    "pydb.start_query_execution_and_wait(create_DV_App);"
   ]
  },
  {
   "cell_type": "markdown",
   "id": "b1f14dd5-5342-44af-b0a3-d5f88b0f31df",
   "metadata": {},
   "source": [
    "#### DV_App validation"
   ]
  },
  {
   "cell_type": "code",
   "execution_count": 36,
   "id": "9da64b87-81ff-4c10-ab0e-f5c4b1a1f397",
   "metadata": {},
   "outputs": [],
   "source": [
    "#DV_App_count = pydb.read_sql_query(\"select count(*) as count from fcsq.DV_App\")\n",
    "#DV_App_count"
   ]
  },
  {
   "cell_type": "markdown",
   "id": "5fa00f97-6596-416e-98d9-e1fd28cab0ad",
   "metadata": {},
   "source": [
    "## 15. DV_Resp table - Groups the hearing_dv_respondents table and produces a count per group\n",
    "<a name=\"DV_Resp\"></a>"
   ]
  },
  {
   "cell_type": "markdown",
   "id": "3d18a693-aab7-405e-8b1b-31e3fbedb670",
   "metadata": {},
   "source": [
    "### Drop the DV_Resp table if it already exists and remove its data from the S3 bucket"
   ]
  },
  {
   "cell_type": "code",
   "execution_count": 37,
   "id": "24b014e9-b67d-4ceb-abb4-bca60aca186f",
   "metadata": {},
   "outputs": [],
   "source": [
    "drop_DV_Resp = \"DROP TABLE IF EXISTS fcsq.DV_Resp\"\n",
    "pydb.start_query_execution_and_wait(drop_DV_Resp)\n",
    "bucket.objects.filter(Prefix=\"fcsq_processing/Domestic_Violence/DV_Resp\").delete();"
   ]
  },
  {
   "cell_type": "markdown",
   "id": "8feecd5a-7785-4098-823b-1cde15fc6590",
   "metadata": {},
   "source": [
    "### Create the DV_Resp table in Athena"
   ]
  },
  {
   "cell_type": "code",
   "execution_count": 38,
   "id": "d5a146a3-6f51-4f26-9e5c-02c5003857a2",
   "metadata": {},
   "outputs": [],
   "source": [
    "create_DV_Resp = f\"\"\"\n",
    "CREATE TABLE IF NOT EXISTS fcsq.DV_resp\n",
    "WITH (format = 'PARQUET', external_location = 's3://alpha-family-data/fcsq_processing/Domestic_Violence/DV_Resp') AS\n",
    "SELECT\n",
    "  'Domestic Violence' AS CASE_TYPE,\n",
    "  Year,\n",
    "  Quarter,\n",
    "  'Party' AS Category,\n",
    "  'Respondent' AS PARTY,\n",
    "   Resp_Gender AS Gender,\n",
    "  Representation,\n",
    "  Count (*) AS Count\n",
    "FROM\n",
    "  fcsq.Hearing_DV_Respondent\n",
    "WHERE \n",
    "  Representation <> '' /*A very small number of cases from 2011/12 look into whether these should be recoded as N (gender is also blank)*/\n",
    "GROUP BY\n",
    "  'Domestic Violence',\n",
    "  Year,\n",
    "  Quarter,\n",
    "  'Party',\n",
    "  'Respondent',\n",
    "  Resp_Gender,\n",
    "  Representation;\n",
    "\"\"\"\n",
    "\n",
    "pydb.start_query_execution_and_wait(create_DV_Resp);"
   ]
  },
  {
   "cell_type": "markdown",
   "id": "b6b64b26-5d45-4d8a-b329-f1c471e1831d",
   "metadata": {},
   "source": [
    "#### DV_Resp validation"
   ]
  },
  {
   "cell_type": "code",
   "execution_count": 39,
   "id": "bbd9bd65-2149-49ab-9e8a-1e516deec7ad",
   "metadata": {},
   "outputs": [],
   "source": [
    "#DV_Resp_count = pydb.read_sql_query(\"select count(*) as count from fcsq.DV_Resp\")\n",
    "#DV_Resp_count"
   ]
  },
  {
   "cell_type": "markdown",
   "id": "84432d4b-3d4c-4412-a0c4-947e4fcd004b",
   "metadata": {},
   "source": [
    "## 16. dv_case table - groups and formats dv_case_data_v3 table and gives a count for each group\n",
    "<a name=\"DV_Case\"></a>"
   ]
  },
  {
   "cell_type": "markdown",
   "id": "811da59c-4654-4b58-a089-9cae4b364066",
   "metadata": {},
   "source": [
    "### Drop the dv_case table if it already exists and remove its data from the S3 bucket"
   ]
  },
  {
   "cell_type": "code",
   "execution_count": 40,
   "id": "3a92f7d1-a6e5-4386-8474-87136a73a5c0",
   "metadata": {},
   "outputs": [],
   "source": [
    "drop_DV_case = \"DROP TABLE IF EXISTS fcsq.DV_case\"\n",
    "pydb.start_query_execution_and_wait(drop_DV_case)\n",
    "bucket.objects.filter(Prefix=\"fcsq_processing/Domestic_Violence/DV_case\").delete();"
   ]
  },
  {
   "cell_type": "markdown",
   "id": "04868d26-5802-448d-a64d-88ea35f27f3a",
   "metadata": {},
   "source": [
    "### Create the dv_case table in Athena"
   ]
  },
  {
   "cell_type": "code",
   "execution_count": 41,
   "id": "17dc3ea2-9abb-4879-a92d-14f80d791977",
   "metadata": {},
   "outputs": [],
   "source": [
    "create_DV_case = f\"\"\"\n",
    "CREATE TABLE IF NOT EXISTS fcsq.DV_case\n",
    "WITH (format = 'PARQUET', external_location = 's3://alpha-family-data/fcsq_processing/Domestic_Violence/DV_case') AS\n",
    "SELECT *, Count(*) as Count FROM\n",
    "    (SELECT\n",
    "      'Domestic Violence' AS CASE_TYPE,\n",
    "      Year,\n",
    "      Quarter,\n",
    "      'Cases' AS Category,\n",
    "      ' ' AS PARTY,\n",
    "      ' ' AS Gender,\n",
    "      ' ' AS Representation\n",
    "    FROM\n",
    "      __temp__.dv_case_data_v3)\n",
    "\n",
    "GROUP BY\n",
    "  CASE_TYPE,\n",
    "  Year,\n",
    "  Quarter,\n",
    "  Category,\n",
    "  PARTY,\n",
    "  Gender,\n",
    "  Representation\n",
    "\n",
    "ORDER BY \n",
    "    Year,\n",
    "    Quarter;\n",
    "\"\"\"\n",
    "\n",
    "pydb.start_query_execution_and_wait(create_DV_case);"
   ]
  },
  {
   "cell_type": "markdown",
   "id": "ad78f842-18a7-44cc-852f-8c81943ecc17",
   "metadata": {},
   "source": [
    "#### DV_case validation"
   ]
  },
  {
   "cell_type": "code",
   "execution_count": 42,
   "id": "266cc428-417d-4c27-b8fc-5ffa6bbd4144",
   "metadata": {},
   "outputs": [],
   "source": [
    "#DV_case_count = pydb.read_sql_query(\"select count(*) as count from fcsq.DV_case\")\n",
    "#DV_case_count"
   ]
  },
  {
   "cell_type": "markdown",
   "id": "9bfa953e-3c7e-45ca-bda1-39bf85b786cd",
   "metadata": {},
   "source": [
    "## 17. DV_Case_Hearings table - creates a count of all the cases with a hearing per quarter\n",
    "<a name=\"DV_Case_Hearings\"></a>"
   ]
  },
  {
   "cell_type": "markdown",
   "id": "51f46237-3669-4ac4-8a13-13b94fdc383a",
   "metadata": {},
   "source": [
    "### Drop the DV_Case_Hearings table if it already exists and remove its data from the S3 bucket"
   ]
  },
  {
   "cell_type": "code",
   "execution_count": 43,
   "id": "af8aef41-8914-4184-96c4-c87d11ac2c96",
   "metadata": {},
   "outputs": [],
   "source": [
    "drop_DV_Case_Hearings = \"DROP TABLE IF EXISTS fcsq.DV_Case_Hearings\"\n",
    "pydb.start_query_execution_and_wait(drop_DV_Case_Hearings)\n",
    "bucket.objects.filter(Prefix=\"fcsq_processing/Domestic_Violence/DV_Case_Hearings\").delete();"
   ]
  },
  {
   "cell_type": "markdown",
   "id": "2f35ab1f-9ba9-4675-8f8e-26816d3a3a68",
   "metadata": {},
   "source": [
    "### Create the DV_Case_Hearings table in Athena"
   ]
  },
  {
   "cell_type": "code",
   "execution_count": 44,
   "id": "baa5efa6-ed7f-45d3-a029-85993a32192d",
   "metadata": {},
   "outputs": [],
   "source": [
    "create_hearing_dv_case =f\"\"\"\n",
    "SELECT DISTINCT Year, Quarter, Case_Number\n",
    "FROM fcsq.Hearing_DV_Applicant;\n",
    "\"\"\"\n",
    "\n",
    "pydb.create_temp_table(create_hearing_dv_case,'hearing_dv_case')\n",
    "\n",
    "\n",
    "\n",
    "create_DV_Case_Hearings = f\"\"\"\n",
    "CREATE TABLE IF NOT EXISTS fcsq.DV_Case_Hearings\n",
    "WITH (format = 'PARQUET', external_location = 's3://alpha-family-data/fcsq_processing/Domestic_Violence/DV_Case_Hearings') AS\n",
    "SELECT *, Count(*) as Count FROM\n",
    "    (SELECT\n",
    "      'Domestic Violence' AS CASE_TYPE,\n",
    "      Year,\n",
    "      Quarter,\n",
    "      'Cases with a hearing' AS Category,\n",
    "      ' ' AS PARTY,\n",
    "      ' ' AS Gender,\n",
    "      ' ' AS Representation\n",
    "    FROM\n",
    "      __temp__.hearing_dv_case)\n",
    "GROUP BY\n",
    "  CASE_TYPE,\n",
    "  Year,\n",
    "  Quarter,\n",
    "  Category,\n",
    "  PARTY,\n",
    "  Gender,\n",
    "  Representation\n",
    "ORDER BY \n",
    "  Year,\n",
    "  Quarter;\n",
    "\"\"\"\n",
    "\n",
    "pydb.start_query_execution_and_wait(create_DV_Case_Hearings);"
   ]
  },
  {
   "cell_type": "code",
   "execution_count": 45,
   "id": "19d67c5e-d52e-4bf4-9434-b08b3f5b731f",
   "metadata": {},
   "outputs": [],
   "source": [
    "#DV_Case_Hearings = pydb.read_sql_query(\"select count(*) as count from fcsq.DV_Case_Hearings\")\n",
    "#DV_Case_Hearings"
   ]
  },
  {
   "cell_type": "markdown",
   "id": "5c16f303-3d77-4b89-a9cd-590c616a1a84",
   "metadata": {},
   "source": [
    "## 18. Domestic Violence table - Joins the applicant/respondent representation count tables, case count table, and case hearing count tables \n",
    "<a name=\"Domestic_Violence\"></a>"
   ]
  },
  {
   "cell_type": "markdown",
   "id": "f97bc5f6-c76c-4211-9374-784b022b70da",
   "metadata": {},
   "source": [
    "### Drop the Domestic Violence table if it already exists and remove its data from the S3 bucket"
   ]
  },
  {
   "cell_type": "code",
   "execution_count": 46,
   "id": "8f0423aa-d455-458d-aaf3-d1f5556178cc",
   "metadata": {},
   "outputs": [],
   "source": [
    "drop_Domestic_Violence = \"DROP TABLE IF EXISTS fcsq.Domestic_Violence\"\n",
    "pydb.start_query_execution_and_wait(drop_Domestic_Violence)\n",
    "bucket.objects.filter(Prefix=\"fcsq_processing/Domestic_Violence/Domestic_Violence\").delete();"
   ]
  },
  {
   "cell_type": "markdown",
   "id": "3eae6c91-a91e-4751-9b43-9c2a9a34cb25",
   "metadata": {},
   "source": [
    "### Create the Domestic Violence table in Athena"
   ]
  },
  {
   "cell_type": "code",
   "execution_count": 47,
   "id": "85bb213f-7f99-4c9b-b87b-b678cc2e8455",
   "metadata": {},
   "outputs": [],
   "source": [
    "create_Domestic_Violence = f\"\"\"\n",
    "CREATE TABLE IF NOT EXISTS fcsq.Domestic_Violence\n",
    "WITH (format = 'PARQUET', external_location = 's3://alpha-family-data/fcsq_processing/Domestic_Violence/Domestic_Violence') AS\n",
    "SELECT\n",
    "  *\n",
    "FROM\n",
    " fcsq.DV_APP\n",
    "UNION ALL\n",
    "SELECT\n",
    "  *\n",
    "FROM\n",
    "  fcsq.DV_RESP\n",
    "UNION ALL\n",
    "SELECT\n",
    "  *\n",
    "FROM\n",
    "  fcsq.DV_CASE\n",
    "UNION ALL\n",
    "SELECT\n",
    "  *\n",
    "FROM\n",
    "  fcsq.DV_CASE_HEARINGS;\n",
    "\"\"\"\n",
    "\n",
    "pydb.start_query_execution_and_wait(create_Domestic_Violence);"
   ]
  },
  {
   "cell_type": "markdown",
   "id": "19e74fa3-3598-437f-bf80-fc94461ceef7",
   "metadata": {},
   "source": [
    "#### Domestic Violence validation"
   ]
  },
  {
   "cell_type": "code",
   "execution_count": 48,
   "id": "a8f26832-2b31-4da4-b94b-6ed003b24554",
   "metadata": {},
   "outputs": [],
   "source": [
    "#Domestic_Violence_count = pydb.read_sql_query(\"select count(*) as count from fcsq.Domestic_Violence\")\n",
    "#Domestic_Violence_count"
   ]
  },
  {
   "cell_type": "code",
   "execution_count": 49,
   "id": "aa9395a1-88ae-4650-ae59-c3477281b05f",
   "metadata": {},
   "outputs": [],
   "source": [
    "legrep_lookup = f\"\"\"\n",
    "SELECT\n",
    "case_type || '|' || cast(year as varchar(10)) || '|' || cast(quarter as varchar(1)) || '|' as lookup,\n",
    "case_type,\n",
    "year,\n",
    "cast(quarter as varchar(3)) as quarter,\n",
    "category,\n",
    "party,\n",
    "gender,\n",
    "representation,\n",
    "count\n",
    "from fcsq.Domestic_Violence\n",
    "order by lookup\n",
    "\n",
    "\"\"\"\n",
    "pydb.create_temp_table(legrep_lookup,'legrep_lookup')\n",
    "\n",
    "#pydb.read_sql_query(\"SELECT * from __temp__.legrep_lookup\")"
   ]
  },
  {
   "cell_type": "code",
   "execution_count": 50,
   "id": "b37597c1-790e-4457-baba-434aa9727299",
   "metadata": {},
   "outputs": [],
   "source": [
    "legrep_with_annual = f\"\"\"\n",
    "SELECT\n",
    "* from __temp__.legrep_lookup\n",
    "UNION ALL\n",
    "SELECT \n",
    "lookup,\n",
    "case_type,\n",
    "year,\n",
    "quarter,\n",
    "category,\n",
    "party,\n",
    "gender,\n",
    "representation,\n",
    "sum(count) from\n",
    "(\n",
    "SELECT\n",
    "case_type || '|' || cast(year as varchar(10)) || '|' as lookup,\n",
    "case_type,\n",
    "year,\n",
    "'N/A' as quarter,\n",
    "category,\n",
    "party,\n",
    "gender,\n",
    "representation,\n",
    "count\n",
    "from __temp__.legrep_lookup where year<>{latest_year}\n",
    ")\n",
    "group by \n",
    "lookup,\n",
    "case_type,\n",
    "year,\n",
    "quarter,\n",
    "category,\n",
    "party,\n",
    "gender,\n",
    "representation\n",
    "order by lookup\n",
    "\"\"\"\n",
    "\n",
    "pydb.create_temp_table(legrep_with_annual,'legrep_with_annual')"
   ]
  },
  {
   "cell_type": "code",
   "execution_count": 51,
   "id": "cca59bd6-954a-4b9c-8051-0ef2f417e974",
   "metadata": {},
   "outputs": [],
   "source": [
    "legrep_cases = f\"\"\"\n",
    "SELECT lookup,\n",
    "sum(count) as cases\n",
    "from __temp__.legrep_with_annual\n",
    "where category='Cases'\n",
    "group by lookup\n",
    "order by lookup\n",
    "\"\"\"\n",
    "\n",
    "pydb.create_temp_table(legrep_cases,'legrep_cases')"
   ]
  },
  {
   "cell_type": "code",
   "execution_count": 52,
   "id": "20af026f-e038-443f-b9c0-22173cde94b1",
   "metadata": {},
   "outputs": [],
   "source": [
    "legrep_hearing_cases = f\"\"\"\n",
    "SELECT lookup,\n",
    "sum(count) as cases_hearing\n",
    "from __temp__.legrep_with_annual\n",
    "where category='Cases with a hearing'\n",
    "group by lookup\n",
    "order by lookup\n",
    "\"\"\"\n",
    "pydb.create_temp_table(legrep_hearing_cases,'legrep_hearing_cases')"
   ]
  },
  {
   "cell_type": "code",
   "execution_count": 53,
   "id": "25aac70f-c6fa-4633-8bb0-5acc2a863b42",
   "metadata": {},
   "outputs": [],
   "source": [
    "legrep_app_rep = f\"\"\"\n",
    "SELECT lookup,\n",
    "sum(count) as app_rep\n",
    "from __temp__.legrep_with_annual\n",
    "where category='Party' and party = 'Applicant' and representation = 'Y'\n",
    "group by lookup\n",
    "order by lookup\n",
    "\"\"\"\n",
    "\n",
    "pydb.create_temp_table(legrep_app_rep,'legrep_app_rep')"
   ]
  },
  {
   "cell_type": "code",
   "execution_count": 54,
   "id": "07effcf9-d56f-45ff-99a6-ae42b68fcf6a",
   "metadata": {},
   "outputs": [],
   "source": [
    "legrep_app_unrep = f\"\"\"\n",
    "SELECT lookup,\n",
    "sum(count) as app_unrep\n",
    "from __temp__.legrep_with_annual\n",
    "where category='Party' and party = 'Applicant' and representation = 'N'\n",
    "group by lookup\n",
    "order by lookup\n",
    "\"\"\"\n",
    "\n",
    "pydb.create_temp_table(legrep_app_unrep,'legrep_app_unrep')"
   ]
  },
  {
   "cell_type": "code",
   "execution_count": 55,
   "id": "f32c44d1-8956-4624-bbad-589918bbb4d2",
   "metadata": {},
   "outputs": [],
   "source": [
    "legrep_res_rep = f\"\"\"\n",
    "SELECT lookup,\n",
    "sum(count) as res_rep\n",
    "from __temp__.legrep_with_annual\n",
    "where category='Party' and party = 'Respondent' and representation = 'Y'\n",
    "group by lookup\n",
    "order by lookup\n",
    "\"\"\"\n",
    "\n",
    "pydb.create_temp_table(legrep_res_rep,'legrep_res_rep')"
   ]
  },
  {
   "cell_type": "code",
   "execution_count": 56,
   "id": "88a5d43c-113b-437c-9d84-f77c6843559a",
   "metadata": {},
   "outputs": [],
   "source": [
    "legrep_res_unrep = f\"\"\"\n",
    "SELECT lookup,\n",
    "sum(count) as res_unrep\n",
    "from __temp__.legrep_with_annual\n",
    "where category='Party' and party = 'Respondent' and representation = 'N'\n",
    "group by lookup\n",
    "order by lookup\n",
    "\"\"\"\n",
    "\n",
    "pydb.create_temp_table(legrep_res_unrep,'legrep_res_unrep')"
   ]
  },
  {
   "cell_type": "code",
   "execution_count": 57,
   "id": "b0bd640a-1fb5-4996-9c58-3019a940a649",
   "metadata": {},
   "outputs": [],
   "source": [
    "legrep_total_parties = f\"\"\"\n",
    "SELECT lookup,\n",
    "sum(count) as total_parties\n",
    "from __temp__.legrep_with_annual\n",
    "where category='Party'\n",
    "group by lookup\n",
    "order by lookup\n",
    "\"\"\"\n",
    "\n",
    "pydb.create_temp_table(legrep_total_parties,'legrep_total_parties')"
   ]
  },
  {
   "cell_type": "code",
   "execution_count": 58,
   "id": "d8b38511-172f-46fe-9d65-b47b2ab01443",
   "metadata": {},
   "outputs": [],
   "source": [
    "legrep_final_output = f\"\"\"\n",
    "SELECT\n",
    "t1.lookup,\n",
    "t1.cases,\n",
    "t2.cases_hearing,\n",
    "t3.app_rep,\n",
    "t4.app_unrep,\n",
    "t5.res_rep,\n",
    "t6.res_unrep,\n",
    "t7.total_parties\n",
    "\n",
    "from\n",
    "((((((__temp__.legrep_cases t1 \n",
    "INNER JOIN\n",
    "__temp__.legrep_hearing_cases t2\n",
    "ON \n",
    "t1.lookup = t2.lookup)\n",
    "\n",
    "INNER JOIN \n",
    "__temp__.legrep_app_rep t3\n",
    "ON \n",
    "t1.lookup = t3.lookup)\n",
    "\n",
    "INNER JOIN \n",
    "__temp__.legrep_app_unrep t4\n",
    "ON \n",
    "t1.lookup = t4.lookup)\n",
    "\n",
    "INNER JOIN \n",
    "__temp__.legrep_res_rep t5\n",
    "ON \n",
    "t1.lookup = t5.lookup)\n",
    "\n",
    "INNER JOIN \n",
    "__temp__.legrep_res_unrep t6\n",
    "ON \n",
    "t1.lookup = t6.lookup)\n",
    "\n",
    "INNER JOIN \n",
    "__temp__.legrep_total_parties t7\n",
    "ON \n",
    "t1.lookup = t7.lookup)\n",
    "\"\"\"\n",
    "\n",
    "df = pydb.read_sql_query(legrep_final_output)\n",
    "df.to_csv(path_or_buf = 's3://alpha-family-data/CSVs/Domestic_Violence/domestic_violence_legrep.csv',index=False)"
   ]
  },
  {
   "cell_type": "markdown",
   "id": "d67a5230-d3bc-4046-96ba-ca348ca19739",
   "metadata": {
    "tags": []
   },
   "source": [
    "## 19. DV_applications_data_sorted table - Orders dv_application_5 by case_number and application date\n",
    "<a name=\"DV_applications_data_sorted\"></a>"
   ]
  },
  {
   "cell_type": "markdown",
   "id": "2ee98ee1-2be7-4954-b41e-a64d7c5c8e05",
   "metadata": {},
   "source": [
    "### Drop the dv_applications_data_sorted table if it already exists and remove its data from the S3 bucket"
   ]
  },
  {
   "cell_type": "code",
   "execution_count": 59,
   "id": "29cb151d-3136-4017-93a5-955102247417",
   "metadata": {},
   "outputs": [],
   "source": [
    "drop_dv_applications_data_sorted = \"DROP TABLE IF EXISTS fcsq.dv_applications_data_sorted\"\n",
    "pydb.start_query_execution_and_wait(drop_dv_applications_data_sorted)\n",
    "bucket.objects.filter(Prefix=\"fcsq_processing/Domestic_Violence/dv_applications_data_sorted\").delete();"
   ]
  },
  {
   "cell_type": "markdown",
   "id": "a8aee188-d28c-452e-b058-e2299e29b76e",
   "metadata": {},
   "source": [
    "### Create the dv_applications_data_sorted table in Athena"
   ]
  },
  {
   "cell_type": "code",
   "execution_count": 60,
   "id": "4ff1f817-ffcc-42fb-95ae-893861b86dca",
   "metadata": {},
   "outputs": [],
   "source": [
    "create_dv_applications_data_sorted = f\"\"\"\n",
    "CREATE TABLE IF NOT EXISTS fcsq.dv_applications_data_sorted\n",
    "WITH (format = 'PARQUET', external_location = 's3://alpha-family-data/fcsq_processing/Domestic_Violence/dv_applications_data_sorted') AS\n",
    "SELECT t1.*\n",
    "      FROM fcsq.DV_APPS_FINAL t1\n",
    "      ORDER BY t1.YEAR,\n",
    "               t1.QUARTER,\n",
    "               t1.RECEIPT_DATE,\n",
    "               t1.CASE_NUMBER,\n",
    "               t1.Description;\n",
    "\"\"\"\n",
    "\n",
    "pydb.start_query_execution_and_wait(create_dv_applications_data_sorted);"
   ]
  },
  {
   "cell_type": "markdown",
   "id": "c91ec117-d70b-4840-af35-8e0d0909269e",
   "metadata": {},
   "source": [
    "#### DV_applications_data_sorted validation"
   ]
  },
  {
   "cell_type": "code",
   "execution_count": 61,
   "id": "fac8c5a1-bbad-4861-a23c-e3057df99faf",
   "metadata": {
    "tags": []
   },
   "outputs": [],
   "source": [
    "#dv_applications_data_sorted_count = pydb.read_sql_query(\"select count(*) as count from fcsq.dv_applications_data_sorted\")\n",
    "#dv_applications_data_sorted_count"
   ]
  },
  {
   "cell_type": "markdown",
   "id": "c56aeb3e-62cd-46df-8ad4-177500e18b04",
   "metadata": {
    "tags": []
   },
   "source": [
    "## 20. Create dv_applications temporary tables - takes the dv_applications_data sorted table and filters it so it only has the first application record per case number\n",
    "<a name=\"DV_applications_temp\"></a>"
   ]
  },
  {
   "cell_type": "code",
   "execution_count": 62,
   "id": "5cae9280-f19c-4ca5-a182-df13cc7babe9",
   "metadata": {},
   "outputs": [],
   "source": [
    "create_dv_applications_1 = f\"\"\"\n",
    "SELECT *, row_number() over (order by CASE_NUMBER, RECEIPT_DATE) as SEQ_NUM\n",
    "      FROM fcsq.dv_applications_data_sorted;\n",
    "\"\"\"\n",
    "pydb.create_temp_table(create_dv_applications_1,'dv_applications_1')\n",
    "\n",
    "create_dv_applications_2 = f\"\"\"\n",
    "SELECT DISTINCT CASE_NUMBER, Description, EVENT, (MIN(Seq_Num)) AS MIN_of_Seq_Num\n",
    "FROM __temp__.dv_applications_1\n",
    "GROUP BY CASE_NUMBER, Description, EVENT;\n",
    "\"\"\"\n",
    "\n",
    "pydb.create_temp_table(create_dv_applications_2,'dv_applications_2')\n",
    "\n",
    "create_dv_applications_3 = f\"\"\"\n",
    "SELECT t1.CASE_NUMBER, \n",
    "    t2.RECEIPT_DATE, \n",
    "    t2.YEAR, \n",
    "    t2.QUARTER, \n",
    "    t2.EVENT, \n",
    "    t2.EVENT_COURT, \n",
    "    t2.Description\n",
    "FROM __temp__.dv_applications_2 t1\n",
    "LEFT JOIN __temp__.dv_applications_1 t2 ON (t1.MIN_of_Seq_NUM = t2.Seq_NUM) AND (t1.Description = \n",
    "t2.Description);\n",
    "\"\"\"\n",
    "\n",
    "pydb.create_temp_table(create_dv_applications_3,'dv_applications_3')"
   ]
  },
  {
   "cell_type": "code",
   "execution_count": 63,
   "id": "0ed6c75e-fb53-4c66-a719-1f66525ec45d",
   "metadata": {},
   "outputs": [
    {
     "data": {
      "text/html": [
       "<div>\n",
       "<style scoped>\n",
       "    .dataframe tbody tr th:only-of-type {\n",
       "        vertical-align: middle;\n",
       "    }\n",
       "\n",
       "    .dataframe tbody tr th {\n",
       "        vertical-align: top;\n",
       "    }\n",
       "\n",
       "    .dataframe thead th {\n",
       "        text-align: right;\n",
       "    }\n",
       "</style>\n",
       "<table border=\"1\" class=\"dataframe\">\n",
       "  <thead>\n",
       "    <tr style=\"text-align: right;\">\n",
       "      <th></th>\n",
       "      <th>year</th>\n",
       "      <th>quarter</th>\n",
       "      <th>receipt_date</th>\n",
       "      <th>case_number</th>\n",
       "      <th>event</th>\n",
       "      <th>event_court</th>\n",
       "      <th>field_model</th>\n",
       "      <th>adjusted_value</th>\n",
       "      <th>case_type</th>\n",
       "      <th>description</th>\n",
       "      <th>seq_num</th>\n",
       "    </tr>\n",
       "  </thead>\n",
       "  <tbody>\n",
       "    <tr>\n",
       "      <th>0</th>\n",
       "      <td>2011</td>\n",
       "      <td>4</td>\n",
       "      <td>2011-11-10</td>\n",
       "      <td>BC11F01034</td>\n",
       "      <td>13100525429</td>\n",
       "      <td>131</td>\n",
       "      <td>U22_AT</td>\n",
       "      <td>, ONM, ONO,</td>\n",
       "      <td>Domestic Violence</td>\n",
       "      <td>On Notice Occupation</td>\n",
       "      <td>6803</td>\n",
       "    </tr>\n",
       "    <tr>\n",
       "      <th>1</th>\n",
       "      <td>2011</td>\n",
       "      <td>4</td>\n",
       "      <td>2011-11-10</td>\n",
       "      <td>BC11F01034</td>\n",
       "      <td>13100525429</td>\n",
       "      <td>131</td>\n",
       "      <td>U22_AT</td>\n",
       "      <td>, ONM, ONO,</td>\n",
       "      <td>Domestic Violence</td>\n",
       "      <td>On Notice Non-Molestation</td>\n",
       "      <td>6804</td>\n",
       "    </tr>\n",
       "    <tr>\n",
       "      <th>2</th>\n",
       "      <td>2011</td>\n",
       "      <td>4</td>\n",
       "      <td>2011-11-17</td>\n",
       "      <td>BC11F01034</td>\n",
       "      <td>13100526297</td>\n",
       "      <td>131</td>\n",
       "      <td>G50_AT</td>\n",
       "      <td>, ONM, ONO,</td>\n",
       "      <td>Domestic Violence</td>\n",
       "      <td>On Notice Occupation</td>\n",
       "      <td>6805</td>\n",
       "    </tr>\n",
       "    <tr>\n",
       "      <th>3</th>\n",
       "      <td>2011</td>\n",
       "      <td>4</td>\n",
       "      <td>2011-11-17</td>\n",
       "      <td>BC11F01034</td>\n",
       "      <td>13100526297</td>\n",
       "      <td>131</td>\n",
       "      <td>G50_AT</td>\n",
       "      <td>, ONM, ONO,</td>\n",
       "      <td>Domestic Violence</td>\n",
       "      <td>On Notice Non-Molestation</td>\n",
       "      <td>6806</td>\n",
       "    </tr>\n",
       "  </tbody>\n",
       "</table>\n",
       "</div>"
      ],
      "text/plain": [
       "   year  quarter receipt_date case_number        event  event_court field_model adjusted_value          case_type                description  seq_num\n",
       "0  2011        4   2011-11-10  BC11F01034  13100525429          131      U22_AT    , ONM, ONO,  Domestic Violence       On Notice Occupation     6803\n",
       "1  2011        4   2011-11-10  BC11F01034  13100525429          131      U22_AT    , ONM, ONO,  Domestic Violence  On Notice Non-Molestation     6804\n",
       "2  2011        4   2011-11-17  BC11F01034  13100526297          131      G50_AT    , ONM, ONO,  Domestic Violence       On Notice Occupation     6805\n",
       "3  2011        4   2011-11-17  BC11F01034  13100526297          131      G50_AT    , ONM, ONO,  Domestic Violence  On Notice Non-Molestation     6806"
      ]
     },
     "execution_count": 63,
     "metadata": {},
     "output_type": "execute_result"
    }
   ],
   "source": [
    "c = pydb.read_sql_query(\"SELECT * from __temp__.dv_applications_1 where case_number = 'BC11F01034'\")\n",
    "c"
   ]
  },
  {
   "cell_type": "code",
   "execution_count": 64,
   "id": "bbf4d7a0-fcfd-42cd-9398-4014fbe0c0b5",
   "metadata": {},
   "outputs": [
    {
     "data": {
      "text/html": [
       "<div>\n",
       "<style scoped>\n",
       "    .dataframe tbody tr th:only-of-type {\n",
       "        vertical-align: middle;\n",
       "    }\n",
       "\n",
       "    .dataframe tbody tr th {\n",
       "        vertical-align: top;\n",
       "    }\n",
       "\n",
       "    .dataframe thead th {\n",
       "        text-align: right;\n",
       "    }\n",
       "</style>\n",
       "<table border=\"1\" class=\"dataframe\">\n",
       "  <thead>\n",
       "    <tr style=\"text-align: right;\">\n",
       "      <th></th>\n",
       "      <th>case_number</th>\n",
       "      <th>description</th>\n",
       "      <th>event</th>\n",
       "      <th>min_of_seq_num</th>\n",
       "    </tr>\n",
       "  </thead>\n",
       "  <tbody>\n",
       "    <tr>\n",
       "      <th>0</th>\n",
       "      <td>BC11F01034</td>\n",
       "      <td>On Notice Non-Molestation</td>\n",
       "      <td>13100526297</td>\n",
       "      <td>6806</td>\n",
       "    </tr>\n",
       "    <tr>\n",
       "      <th>1</th>\n",
       "      <td>BC11F01034</td>\n",
       "      <td>On Notice Occupation</td>\n",
       "      <td>13100526297</td>\n",
       "      <td>6805</td>\n",
       "    </tr>\n",
       "    <tr>\n",
       "      <th>2</th>\n",
       "      <td>BC11F01034</td>\n",
       "      <td>On Notice Non-Molestation</td>\n",
       "      <td>13100525429</td>\n",
       "      <td>6804</td>\n",
       "    </tr>\n",
       "    <tr>\n",
       "      <th>3</th>\n",
       "      <td>BC11F01034</td>\n",
       "      <td>On Notice Occupation</td>\n",
       "      <td>13100525429</td>\n",
       "      <td>6803</td>\n",
       "    </tr>\n",
       "  </tbody>\n",
       "</table>\n",
       "</div>"
      ],
      "text/plain": [
       "  case_number                description        event  min_of_seq_num\n",
       "0  BC11F01034  On Notice Non-Molestation  13100526297            6806\n",
       "1  BC11F01034       On Notice Occupation  13100526297            6805\n",
       "2  BC11F01034  On Notice Non-Molestation  13100525429            6804\n",
       "3  BC11F01034       On Notice Occupation  13100525429            6803"
      ]
     },
     "execution_count": 64,
     "metadata": {},
     "output_type": "execute_result"
    }
   ],
   "source": [
    "c = pydb.read_sql_query(\"SELECT * from __temp__.dv_applications_2 where case_number = 'BC11F01034'\")\n",
    "c"
   ]
  },
  {
   "cell_type": "code",
   "execution_count": 65,
   "id": "056d5283-5c16-4008-8367-1343248a6b7c",
   "metadata": {},
   "outputs": [
    {
     "data": {
      "text/html": [
       "<div>\n",
       "<style scoped>\n",
       "    .dataframe tbody tr th:only-of-type {\n",
       "        vertical-align: middle;\n",
       "    }\n",
       "\n",
       "    .dataframe tbody tr th {\n",
       "        vertical-align: top;\n",
       "    }\n",
       "\n",
       "    .dataframe thead th {\n",
       "        text-align: right;\n",
       "    }\n",
       "</style>\n",
       "<table border=\"1\" class=\"dataframe\">\n",
       "  <thead>\n",
       "    <tr style=\"text-align: right;\">\n",
       "      <th></th>\n",
       "      <th>case_number</th>\n",
       "      <th>receipt_date</th>\n",
       "      <th>year</th>\n",
       "      <th>quarter</th>\n",
       "      <th>event</th>\n",
       "      <th>event_court</th>\n",
       "      <th>description</th>\n",
       "    </tr>\n",
       "  </thead>\n",
       "  <tbody>\n",
       "    <tr>\n",
       "      <th>0</th>\n",
       "      <td>BC11F01034</td>\n",
       "      <td>2011-11-17</td>\n",
       "      <td>2011</td>\n",
       "      <td>4</td>\n",
       "      <td>13100526297</td>\n",
       "      <td>131</td>\n",
       "      <td>On Notice Non-Molestation</td>\n",
       "    </tr>\n",
       "    <tr>\n",
       "      <th>1</th>\n",
       "      <td>BC11F01034</td>\n",
       "      <td>2011-11-17</td>\n",
       "      <td>2011</td>\n",
       "      <td>4</td>\n",
       "      <td>13100526297</td>\n",
       "      <td>131</td>\n",
       "      <td>On Notice Occupation</td>\n",
       "    </tr>\n",
       "    <tr>\n",
       "      <th>2</th>\n",
       "      <td>BC11F01034</td>\n",
       "      <td>2011-11-10</td>\n",
       "      <td>2011</td>\n",
       "      <td>4</td>\n",
       "      <td>13100525429</td>\n",
       "      <td>131</td>\n",
       "      <td>On Notice Occupation</td>\n",
       "    </tr>\n",
       "    <tr>\n",
       "      <th>3</th>\n",
       "      <td>BC11F01034</td>\n",
       "      <td>2011-11-10</td>\n",
       "      <td>2011</td>\n",
       "      <td>4</td>\n",
       "      <td>13100525429</td>\n",
       "      <td>131</td>\n",
       "      <td>On Notice Non-Molestation</td>\n",
       "    </tr>\n",
       "  </tbody>\n",
       "</table>\n",
       "</div>"
      ],
      "text/plain": [
       "  case_number receipt_date  year  quarter        event  event_court                description\n",
       "0  BC11F01034   2011-11-17  2011        4  13100526297          131  On Notice Non-Molestation\n",
       "1  BC11F01034   2011-11-17  2011        4  13100526297          131       On Notice Occupation\n",
       "2  BC11F01034   2011-11-10  2011        4  13100525429          131       On Notice Occupation\n",
       "3  BC11F01034   2011-11-10  2011        4  13100525429          131  On Notice Non-Molestation"
      ]
     },
     "execution_count": 65,
     "metadata": {},
     "output_type": "execute_result"
    }
   ],
   "source": [
    "c = pydb.read_sql_query(\"SELECT * from __temp__.dv_applications_3 where case_number = 'BC11F01034'\")\n",
    "c"
   ]
  },
  {
   "cell_type": "markdown",
   "id": "12986028-b35f-4e90-b468-7203a699661e",
   "metadata": {},
   "source": [
    "## 21. DV_orders_data_sorted table - Sorts the disposals table by case_number and receipt date, removing contact orders, placement revoke or vary orders and other type orders\n",
    "<a name=\"DV_orders_data_sorted\"></a>"
   ]
  },
  {
   "cell_type": "markdown",
   "id": "d1d16055-dfa0-400c-a625-10bc84be0b79",
   "metadata": {},
   "source": [
    "### Drop the dv_orders_data_sorted table if it already exists and remove its data from the S3 bucket"
   ]
  },
  {
   "cell_type": "code",
   "execution_count": 66,
   "id": "c000198f-ed6b-4968-b7ed-22f919802e0e",
   "metadata": {},
   "outputs": [],
   "source": [
    "drop_dv_orders_data_sorted = \"DROP TABLE IF EXISTS fcsq.dv_orders_data_sorted\"\n",
    "pydb.start_query_execution_and_wait(drop_dv_orders_data_sorted)\n",
    "bucket.objects.filter(Prefix=\"fcsq_processing/Domestic_Violence/dv_orders_data_sorted\").delete();"
   ]
  },
  {
   "cell_type": "markdown",
   "id": "8c99b7e6-ad7a-4b5e-bd70-8fa88e46ca2d",
   "metadata": {},
   "source": [
    "### Create the dv_orders_data_sorted table in Athena"
   ]
  },
  {
   "cell_type": "code",
   "execution_count": 67,
   "id": "f54164a0-1ef0-4337-8580-f517496ba582",
   "metadata": {},
   "outputs": [],
   "source": [
    "create_dv_orders_data_sorted = f\"\"\"\n",
    "CREATE TABLE IF NOT EXISTS fcsq.dv_orders_data_sorted\n",
    "WITH (format = 'PARQUET', external_location = 's3://alpha-family-data/fcsq_processing/Domestic_Violence/dv_orders_data_sorted') AS\n",
    "SELECT t1.RECEIPT_DATE, \n",
    "    t1.CASE_NUMBER, \n",
    "    t1.EVENT, \n",
    "    t1.CREATING_COURT,\n",
    "    CAST(EVENT AS VARCHAR(3)) AS EVENT_CODE,\n",
    "    t1.FIELD_MODEL, \n",
    "    t1.VALUE\n",
    "FROM fcsq.DV_ORDS1 t1\n",
    "ORDER BY t1.CASE_NUMBER,\n",
    "    t1.RECEIPT_DATE;\n",
    "\"\"\"\n",
    "\n",
    "pydb.start_query_execution_and_wait(create_dv_orders_data_sorted);"
   ]
  },
  {
   "cell_type": "markdown",
   "id": "d23f1687-f0f6-4ee6-be0d-7ddd2caf38a5",
   "metadata": {},
   "source": [
    "#### DV_orders_data_sorted validation"
   ]
  },
  {
   "cell_type": "code",
   "execution_count": 68,
   "id": "30dc7f69-76df-4102-88fc-9f2796a0faad",
   "metadata": {},
   "outputs": [
    {
     "data": {
      "text/html": [
       "<div>\n",
       "<style scoped>\n",
       "    .dataframe tbody tr th:only-of-type {\n",
       "        vertical-align: middle;\n",
       "    }\n",
       "\n",
       "    .dataframe tbody tr th {\n",
       "        vertical-align: top;\n",
       "    }\n",
       "\n",
       "    .dataframe thead th {\n",
       "        text-align: right;\n",
       "    }\n",
       "</style>\n",
       "<table border=\"1\" class=\"dataframe\">\n",
       "  <thead>\n",
       "    <tr style=\"text-align: right;\">\n",
       "      <th></th>\n",
       "      <th>receipt_date</th>\n",
       "      <th>case_number</th>\n",
       "      <th>event</th>\n",
       "      <th>creating_court</th>\n",
       "      <th>field_model</th>\n",
       "      <th>value</th>\n",
       "      <th>error</th>\n",
       "    </tr>\n",
       "  </thead>\n",
       "  <tbody>\n",
       "    <tr>\n",
       "      <th>0</th>\n",
       "      <td>2011-11-16</td>\n",
       "      <td>BC11F01034</td>\n",
       "      <td>13100526140</td>\n",
       "      <td>BC</td>\n",
       "      <td>FL404B_7</td>\n",
       "      <td>GEN</td>\n",
       "      <td>N</td>\n",
       "    </tr>\n",
       "    <tr>\n",
       "      <th>1</th>\n",
       "      <td>2011-11-28</td>\n",
       "      <td>BC11F01034</td>\n",
       "      <td>13100527586</td>\n",
       "      <td>BC</td>\n",
       "      <td>FL404B_7</td>\n",
       "      <td>GEN</td>\n",
       "      <td>N</td>\n",
       "    </tr>\n",
       "    <tr>\n",
       "      <th>2</th>\n",
       "      <td>2011-11-22</td>\n",
       "      <td>BC11F01034</td>\n",
       "      <td>13100526816</td>\n",
       "      <td>BC</td>\n",
       "      <td>FL404B_7</td>\n",
       "      <td>GEN</td>\n",
       "      <td>N</td>\n",
       "    </tr>\n",
       "    <tr>\n",
       "      <th>3</th>\n",
       "      <td>2012-02-06</td>\n",
       "      <td>BC11F01034</td>\n",
       "      <td>13100534573</td>\n",
       "      <td>BC</td>\n",
       "      <td>FL404B_7</td>\n",
       "      <td>GEN</td>\n",
       "      <td>N</td>\n",
       "    </tr>\n",
       "    <tr>\n",
       "      <th>4</th>\n",
       "      <td>2011-12-23</td>\n",
       "      <td>BC11F01034</td>\n",
       "      <td>13100530580</td>\n",
       "      <td>BC</td>\n",
       "      <td>FL404B_7</td>\n",
       "      <td>OCC</td>\n",
       "      <td>N</td>\n",
       "    </tr>\n",
       "  </tbody>\n",
       "</table>\n",
       "</div>"
      ],
      "text/plain": [
       "  receipt_date case_number        event creating_court field_model value error\n",
       "0   2011-11-16  BC11F01034  13100526140             BC    FL404B_7   GEN     N\n",
       "1   2011-11-28  BC11F01034  13100527586             BC    FL404B_7   GEN     N\n",
       "2   2011-11-22  BC11F01034  13100526816             BC    FL404B_7   GEN     N\n",
       "3   2012-02-06  BC11F01034  13100534573             BC    FL404B_7   GEN     N\n",
       "4   2011-12-23  BC11F01034  13100530580             BC    FL404B_7   OCC     N"
      ]
     },
     "execution_count": 68,
     "metadata": {},
     "output_type": "execute_result"
    }
   ],
   "source": [
    "dv_orders_data_sorted_count = pydb.read_sql_query(\"select * from fcsq.dv_ords1 where case_number = 'BC11F01034'\")\n",
    "dv_orders_data_sorted_count"
   ]
  },
  {
   "cell_type": "code",
   "execution_count": 69,
   "id": "7b5103cc-dd77-4742-a4d9-361343998357",
   "metadata": {},
   "outputs": [
    {
     "data": {
      "text/html": [
       "<div>\n",
       "<style scoped>\n",
       "    .dataframe tbody tr th:only-of-type {\n",
       "        vertical-align: middle;\n",
       "    }\n",
       "\n",
       "    .dataframe tbody tr th {\n",
       "        vertical-align: top;\n",
       "    }\n",
       "\n",
       "    .dataframe thead th {\n",
       "        text-align: right;\n",
       "    }\n",
       "</style>\n",
       "<table border=\"1\" class=\"dataframe\">\n",
       "  <thead>\n",
       "    <tr style=\"text-align: right;\">\n",
       "      <th></th>\n",
       "      <th>receipt_date</th>\n",
       "      <th>case_number</th>\n",
       "      <th>event</th>\n",
       "      <th>creating_court</th>\n",
       "      <th>event_code</th>\n",
       "      <th>field_model</th>\n",
       "      <th>value</th>\n",
       "    </tr>\n",
       "  </thead>\n",
       "  <tbody>\n",
       "    <tr>\n",
       "      <th>0</th>\n",
       "      <td>2011-11-16</td>\n",
       "      <td>BC11F01034</td>\n",
       "      <td>13100526140</td>\n",
       "      <td>BC</td>\n",
       "      <td>131</td>\n",
       "      <td>FL404B_7</td>\n",
       "      <td>GEN</td>\n",
       "    </tr>\n",
       "    <tr>\n",
       "      <th>1</th>\n",
       "      <td>2011-11-22</td>\n",
       "      <td>BC11F01034</td>\n",
       "      <td>13100526816</td>\n",
       "      <td>BC</td>\n",
       "      <td>131</td>\n",
       "      <td>FL404B_7</td>\n",
       "      <td>GEN</td>\n",
       "    </tr>\n",
       "    <tr>\n",
       "      <th>2</th>\n",
       "      <td>2011-11-28</td>\n",
       "      <td>BC11F01034</td>\n",
       "      <td>13100527586</td>\n",
       "      <td>BC</td>\n",
       "      <td>131</td>\n",
       "      <td>FL404B_7</td>\n",
       "      <td>GEN</td>\n",
       "    </tr>\n",
       "    <tr>\n",
       "      <th>3</th>\n",
       "      <td>2011-12-23</td>\n",
       "      <td>BC11F01034</td>\n",
       "      <td>13100530580</td>\n",
       "      <td>BC</td>\n",
       "      <td>131</td>\n",
       "      <td>FL404B_7</td>\n",
       "      <td>OCC</td>\n",
       "    </tr>\n",
       "    <tr>\n",
       "      <th>4</th>\n",
       "      <td>2012-02-06</td>\n",
       "      <td>BC11F01034</td>\n",
       "      <td>13100534573</td>\n",
       "      <td>BC</td>\n",
       "      <td>131</td>\n",
       "      <td>FL404B_7</td>\n",
       "      <td>GEN</td>\n",
       "    </tr>\n",
       "  </tbody>\n",
       "</table>\n",
       "</div>"
      ],
      "text/plain": [
       "  receipt_date case_number        event creating_court event_code field_model value\n",
       "0   2011-11-16  BC11F01034  13100526140             BC        131    FL404B_7   GEN\n",
       "1   2011-11-22  BC11F01034  13100526816             BC        131    FL404B_7   GEN\n",
       "2   2011-11-28  BC11F01034  13100527586             BC        131    FL404B_7   GEN\n",
       "3   2011-12-23  BC11F01034  13100530580             BC        131    FL404B_7   OCC\n",
       "4   2012-02-06  BC11F01034  13100534573             BC        131    FL404B_7   GEN"
      ]
     },
     "execution_count": 69,
     "metadata": {},
     "output_type": "execute_result"
    }
   ],
   "source": [
    "dv_orders_data_sorted_count = pydb.read_sql_query(\"select * from fcsq.dv_orders_data_sorted where case_number = 'BC11F01034' order by receipt_date\")\n",
    "dv_orders_data_sorted_count"
   ]
  },
  {
   "cell_type": "code",
   "execution_count": 70,
   "id": "1a453fbe-da28-4dfe-8df7-6720a9cbf3a0",
   "metadata": {},
   "outputs": [
    {
     "data": {
      "text/html": [
       "<div>\n",
       "<style scoped>\n",
       "    .dataframe tbody tr th:only-of-type {\n",
       "        vertical-align: middle;\n",
       "    }\n",
       "\n",
       "    .dataframe tbody tr th {\n",
       "        vertical-align: top;\n",
       "    }\n",
       "\n",
       "    .dataframe thead th {\n",
       "        text-align: right;\n",
       "    }\n",
       "</style>\n",
       "<table border=\"1\" class=\"dataframe\">\n",
       "  <thead>\n",
       "    <tr style=\"text-align: right;\">\n",
       "      <th></th>\n",
       "      <th>case_number</th>\n",
       "      <th>receipt_date</th>\n",
       "      <th>year</th>\n",
       "      <th>quarter</th>\n",
       "      <th>event</th>\n",
       "      <th>event_court</th>\n",
       "      <th>description</th>\n",
       "    </tr>\n",
       "  </thead>\n",
       "  <tbody>\n",
       "    <tr>\n",
       "      <th>0</th>\n",
       "      <td>BC11F01034</td>\n",
       "      <td>2011-11-17</td>\n",
       "      <td>2011</td>\n",
       "      <td>4</td>\n",
       "      <td>13100526297</td>\n",
       "      <td>131</td>\n",
       "      <td>On Notice Non-Molestation</td>\n",
       "    </tr>\n",
       "    <tr>\n",
       "      <th>1</th>\n",
       "      <td>BC11F01034</td>\n",
       "      <td>2011-11-17</td>\n",
       "      <td>2011</td>\n",
       "      <td>4</td>\n",
       "      <td>13100526297</td>\n",
       "      <td>131</td>\n",
       "      <td>On Notice Occupation</td>\n",
       "    </tr>\n",
       "    <tr>\n",
       "      <th>2</th>\n",
       "      <td>BC11F01034</td>\n",
       "      <td>2011-11-10</td>\n",
       "      <td>2011</td>\n",
       "      <td>4</td>\n",
       "      <td>13100525429</td>\n",
       "      <td>131</td>\n",
       "      <td>On Notice Non-Molestation</td>\n",
       "    </tr>\n",
       "    <tr>\n",
       "      <th>3</th>\n",
       "      <td>BC11F01034</td>\n",
       "      <td>2011-11-10</td>\n",
       "      <td>2011</td>\n",
       "      <td>4</td>\n",
       "      <td>13100525429</td>\n",
       "      <td>131</td>\n",
       "      <td>On Notice Occupation</td>\n",
       "    </tr>\n",
       "  </tbody>\n",
       "</table>\n",
       "</div>"
      ],
      "text/plain": [
       "  case_number receipt_date  year  quarter        event  event_court                description\n",
       "0  BC11F01034   2011-11-17  2011        4  13100526297          131  On Notice Non-Molestation\n",
       "1  BC11F01034   2011-11-17  2011        4  13100526297          131       On Notice Occupation\n",
       "2  BC11F01034   2011-11-10  2011        4  13100525429          131  On Notice Non-Molestation\n",
       "3  BC11F01034   2011-11-10  2011        4  13100525429          131       On Notice Occupation"
      ]
     },
     "execution_count": 70,
     "metadata": {},
     "output_type": "execute_result"
    }
   ],
   "source": [
    "c = pydb.read_sql_query(\"SELECT * from __temp__.dv_applications_3 where case_number = 'BC11F01034'\")\n",
    "c"
   ]
  },
  {
   "cell_type": "markdown",
   "id": "a35df7d5-e2b7-4b42-9ca0-f64b38c28ea4",
   "metadata": {},
   "source": [
    "## 22. Create dv_orders temporary tables - takes the dv_orders_data sorted table and filters it so it only has the first order record per case number\n",
    "<a name=\"DV_orders_temp\"></a>"
   ]
  },
  {
   "cell_type": "code",
   "execution_count": 72,
   "id": "7762c45a-962b-4562-bee4-b47948703c4a",
   "metadata": {},
   "outputs": [],
   "source": [
    "create_dv_orders_0 = f\"\"\"\n",
    "SELECT t1.CASE_NUMBER, \n",
    "          t1.EVENT, \n",
    "          t1.CREATING_COURT, \n",
    "          t2.RECEIPT_DATE AS APP_DATE, \n",
    "          t1.RECEIPT_DATE AS DISP_DATE, \n",
    "          t2.Description AS APP_Order_Type, \n",
    "          t1.FIELD_MODEL, \n",
    "          t1.EVENT_CODE, \n",
    "          t1.VALUE, \n",
    "          DAY(t1.RECEIPT_DATE - t2.RECEIPT_DATE) AS DATE_DIFF\n",
    "      FROM fcsq.dv_orders_data_sorted t1\n",
    "           INNER JOIN __temp__.dv_applications_3 t2 ON (t1.CASE_NUMBER = t2.CASE_NUMBER)\n",
    "      WHERE DAY(t1.RECEIPT_DATE - t2.RECEIPT_DATE) >= 0;\n",
    "\"\"\"\n",
    "pydb.create_temp_table(create_dv_orders_0,'dv_orders_0')\n",
    "\n",
    "\n",
    "create_dv_orders_1 = f\"\"\"\n",
    "SELECT DISTINCT t1.CASE_NUMBER, \n",
    "          t1.EVENT, \n",
    "          t1.CREATING_COURT, \n",
    "          t1.EVENT_CODE, \n",
    "          t1.APP_Order_Type, \n",
    "          t1.APP_DATE, \n",
    "          t1.DISP_DATE, \n",
    "          t1.FIELD_MODEL, \n",
    "          t1.VALUE,\n",
    "          row_number() over (ORDER BY CASE_NUMBER, APP_Order_Type, APP_DATE, DISP_DATE) as SEQ_NUM\n",
    "      FROM __temp__.dv_orders_0 t1\n",
    "      ORDER BY t1.CASE_NUMBER,\n",
    "               t1.APP_Order_Type,\n",
    "               t1.APP_DATE,\n",
    "               t1.DISP_DATE,\n",
    "               t1.EVENT;\n",
    "\"\"\"\n",
    "pydb.create_temp_table(create_dv_orders_1,'dv_orders_1')\n",
    "\n",
    "create_dv_orders_2 = f\"\"\"\n",
    "SELECT DISTINCT t1.CASE_NUMBER, \n",
    "          t1.APP_Order_Type, \n",
    "          t1.APP_DATE, \n",
    "          (MIN(t1.SEQ_NUM)) AS MIN_SEQ_NUM\n",
    "      FROM __temp__.dv_orders_1 t1\n",
    "      GROUP BY t1.CASE_NUMBER,\n",
    "               t1.APP_Order_Type,\n",
    "               t1.APP_DATE;\n",
    "\"\"\"\n",
    "pydb.create_temp_table(create_dv_orders_2,'dv_orders_2')\n",
    "\n",
    "\n",
    "create_dv_orders_3 = f\"\"\"\n",
    "SELECT DISTINCT t1.CASE_NUMBER, \n",
    "          t1.APP_Order_Type, \n",
    "          t1.APP_DATE, \n",
    "          t2.DISP_DATE, \n",
    "          t2.EVENT, \n",
    "          t2.CREATING_COURT, \n",
    "          t2.EVENT_CODE, \n",
    "          t2.FIELD_MODEL, \n",
    "          t2.VALUE\n",
    "      FROM __temp__.dv_orders_2 t1\n",
    "           LEFT JOIN __temp__.dv_orders_1 t2 ON (t1.MIN_SEQ_NUM = t2.SEQ_NUM);\n",
    "\"\"\"\n",
    "pydb.create_temp_table(create_dv_orders_3,'dv_orders_3')"
   ]
  },
  {
   "cell_type": "code",
   "execution_count": 73,
   "id": "c0c91a3d-08d4-47ec-8d51-046b7a992ae3",
   "metadata": {},
   "outputs": [],
   "source": [
    "#dv_apps_and_orders_match_count = pydb.read_sql_query(\"select count(*) as count from __temp__.dv_orders_3\")\n",
    "#dv_apps_and_orders_match_count"
   ]
  },
  {
   "cell_type": "code",
   "execution_count": 74,
   "id": "e466d0a3-edc9-4d8a-973b-3da27d354c98",
   "metadata": {},
   "outputs": [
    {
     "data": {
      "text/html": [
       "<div>\n",
       "<style scoped>\n",
       "    .dataframe tbody tr th:only-of-type {\n",
       "        vertical-align: middle;\n",
       "    }\n",
       "\n",
       "    .dataframe tbody tr th {\n",
       "        vertical-align: top;\n",
       "    }\n",
       "\n",
       "    .dataframe thead th {\n",
       "        text-align: right;\n",
       "    }\n",
       "</style>\n",
       "<table border=\"1\" class=\"dataframe\">\n",
       "  <thead>\n",
       "    <tr style=\"text-align: right;\">\n",
       "      <th></th>\n",
       "      <th>case_number</th>\n",
       "      <th>event</th>\n",
       "      <th>creating_court</th>\n",
       "      <th>app_date</th>\n",
       "      <th>disp_date</th>\n",
       "      <th>app_order_type</th>\n",
       "      <th>field_model</th>\n",
       "      <th>event_code</th>\n",
       "      <th>value</th>\n",
       "      <th>date_diff</th>\n",
       "    </tr>\n",
       "  </thead>\n",
       "  <tbody>\n",
       "    <tr>\n",
       "      <th>0</th>\n",
       "      <td>BC11F01034</td>\n",
       "      <td>13100526140</td>\n",
       "      <td>BC</td>\n",
       "      <td>2011-11-10</td>\n",
       "      <td>2011-11-16</td>\n",
       "      <td>On Notice Non-Molestation</td>\n",
       "      <td>FL404B_7</td>\n",
       "      <td>131</td>\n",
       "      <td>GEN</td>\n",
       "      <td>6</td>\n",
       "    </tr>\n",
       "    <tr>\n",
       "      <th>1</th>\n",
       "      <td>BC11F01034</td>\n",
       "      <td>13100526140</td>\n",
       "      <td>BC</td>\n",
       "      <td>2011-11-10</td>\n",
       "      <td>2011-11-16</td>\n",
       "      <td>On Notice Occupation</td>\n",
       "      <td>FL404B_7</td>\n",
       "      <td>131</td>\n",
       "      <td>GEN</td>\n",
       "      <td>6</td>\n",
       "    </tr>\n",
       "    <tr>\n",
       "      <th>2</th>\n",
       "      <td>BC11F01034</td>\n",
       "      <td>13100526816</td>\n",
       "      <td>BC</td>\n",
       "      <td>2011-11-10</td>\n",
       "      <td>2011-11-22</td>\n",
       "      <td>On Notice Non-Molestation</td>\n",
       "      <td>FL404B_7</td>\n",
       "      <td>131</td>\n",
       "      <td>GEN</td>\n",
       "      <td>12</td>\n",
       "    </tr>\n",
       "    <tr>\n",
       "      <th>3</th>\n",
       "      <td>BC11F01034</td>\n",
       "      <td>13100526816</td>\n",
       "      <td>BC</td>\n",
       "      <td>2011-11-10</td>\n",
       "      <td>2011-11-22</td>\n",
       "      <td>On Notice Occupation</td>\n",
       "      <td>FL404B_7</td>\n",
       "      <td>131</td>\n",
       "      <td>GEN</td>\n",
       "      <td>12</td>\n",
       "    </tr>\n",
       "    <tr>\n",
       "      <th>4</th>\n",
       "      <td>BC11F01034</td>\n",
       "      <td>13100526816</td>\n",
       "      <td>BC</td>\n",
       "      <td>2011-11-17</td>\n",
       "      <td>2011-11-22</td>\n",
       "      <td>On Notice Non-Molestation</td>\n",
       "      <td>FL404B_7</td>\n",
       "      <td>131</td>\n",
       "      <td>GEN</td>\n",
       "      <td>5</td>\n",
       "    </tr>\n",
       "    <tr>\n",
       "      <th>5</th>\n",
       "      <td>BC11F01034</td>\n",
       "      <td>13100526816</td>\n",
       "      <td>BC</td>\n",
       "      <td>2011-11-17</td>\n",
       "      <td>2011-11-22</td>\n",
       "      <td>On Notice Occupation</td>\n",
       "      <td>FL404B_7</td>\n",
       "      <td>131</td>\n",
       "      <td>GEN</td>\n",
       "      <td>5</td>\n",
       "    </tr>\n",
       "    <tr>\n",
       "      <th>6</th>\n",
       "      <td>BC11F01034</td>\n",
       "      <td>13100527586</td>\n",
       "      <td>BC</td>\n",
       "      <td>2011-11-10</td>\n",
       "      <td>2011-11-28</td>\n",
       "      <td>On Notice Non-Molestation</td>\n",
       "      <td>FL404B_7</td>\n",
       "      <td>131</td>\n",
       "      <td>GEN</td>\n",
       "      <td>18</td>\n",
       "    </tr>\n",
       "    <tr>\n",
       "      <th>7</th>\n",
       "      <td>BC11F01034</td>\n",
       "      <td>13100527586</td>\n",
       "      <td>BC</td>\n",
       "      <td>2011-11-10</td>\n",
       "      <td>2011-11-28</td>\n",
       "      <td>On Notice Occupation</td>\n",
       "      <td>FL404B_7</td>\n",
       "      <td>131</td>\n",
       "      <td>GEN</td>\n",
       "      <td>18</td>\n",
       "    </tr>\n",
       "    <tr>\n",
       "      <th>8</th>\n",
       "      <td>BC11F01034</td>\n",
       "      <td>13100527586</td>\n",
       "      <td>BC</td>\n",
       "      <td>2011-11-17</td>\n",
       "      <td>2011-11-28</td>\n",
       "      <td>On Notice Non-Molestation</td>\n",
       "      <td>FL404B_7</td>\n",
       "      <td>131</td>\n",
       "      <td>GEN</td>\n",
       "      <td>11</td>\n",
       "    </tr>\n",
       "    <tr>\n",
       "      <th>9</th>\n",
       "      <td>BC11F01034</td>\n",
       "      <td>13100527586</td>\n",
       "      <td>BC</td>\n",
       "      <td>2011-11-17</td>\n",
       "      <td>2011-11-28</td>\n",
       "      <td>On Notice Occupation</td>\n",
       "      <td>FL404B_7</td>\n",
       "      <td>131</td>\n",
       "      <td>GEN</td>\n",
       "      <td>11</td>\n",
       "    </tr>\n",
       "    <tr>\n",
       "      <th>10</th>\n",
       "      <td>BC11F01034</td>\n",
       "      <td>13100530580</td>\n",
       "      <td>BC</td>\n",
       "      <td>2011-11-10</td>\n",
       "      <td>2011-12-23</td>\n",
       "      <td>On Notice Non-Molestation</td>\n",
       "      <td>FL404B_7</td>\n",
       "      <td>131</td>\n",
       "      <td>OCC</td>\n",
       "      <td>43</td>\n",
       "    </tr>\n",
       "    <tr>\n",
       "      <th>11</th>\n",
       "      <td>BC11F01034</td>\n",
       "      <td>13100530580</td>\n",
       "      <td>BC</td>\n",
       "      <td>2011-11-10</td>\n",
       "      <td>2011-12-23</td>\n",
       "      <td>On Notice Occupation</td>\n",
       "      <td>FL404B_7</td>\n",
       "      <td>131</td>\n",
       "      <td>OCC</td>\n",
       "      <td>43</td>\n",
       "    </tr>\n",
       "    <tr>\n",
       "      <th>12</th>\n",
       "      <td>BC11F01034</td>\n",
       "      <td>13100530580</td>\n",
       "      <td>BC</td>\n",
       "      <td>2011-11-17</td>\n",
       "      <td>2011-12-23</td>\n",
       "      <td>On Notice Non-Molestation</td>\n",
       "      <td>FL404B_7</td>\n",
       "      <td>131</td>\n",
       "      <td>OCC</td>\n",
       "      <td>36</td>\n",
       "    </tr>\n",
       "    <tr>\n",
       "      <th>13</th>\n",
       "      <td>BC11F01034</td>\n",
       "      <td>13100530580</td>\n",
       "      <td>BC</td>\n",
       "      <td>2011-11-17</td>\n",
       "      <td>2011-12-23</td>\n",
       "      <td>On Notice Occupation</td>\n",
       "      <td>FL404B_7</td>\n",
       "      <td>131</td>\n",
       "      <td>OCC</td>\n",
       "      <td>36</td>\n",
       "    </tr>\n",
       "    <tr>\n",
       "      <th>14</th>\n",
       "      <td>BC11F01034</td>\n",
       "      <td>13100534573</td>\n",
       "      <td>BC</td>\n",
       "      <td>2011-11-10</td>\n",
       "      <td>2012-02-06</td>\n",
       "      <td>On Notice Non-Molestation</td>\n",
       "      <td>FL404B_7</td>\n",
       "      <td>131</td>\n",
       "      <td>GEN</td>\n",
       "      <td>88</td>\n",
       "    </tr>\n",
       "    <tr>\n",
       "      <th>15</th>\n",
       "      <td>BC11F01034</td>\n",
       "      <td>13100534573</td>\n",
       "      <td>BC</td>\n",
       "      <td>2011-11-10</td>\n",
       "      <td>2012-02-06</td>\n",
       "      <td>On Notice Occupation</td>\n",
       "      <td>FL404B_7</td>\n",
       "      <td>131</td>\n",
       "      <td>GEN</td>\n",
       "      <td>88</td>\n",
       "    </tr>\n",
       "    <tr>\n",
       "      <th>16</th>\n",
       "      <td>BC11F01034</td>\n",
       "      <td>13100534573</td>\n",
       "      <td>BC</td>\n",
       "      <td>2011-11-17</td>\n",
       "      <td>2012-02-06</td>\n",
       "      <td>On Notice Non-Molestation</td>\n",
       "      <td>FL404B_7</td>\n",
       "      <td>131</td>\n",
       "      <td>GEN</td>\n",
       "      <td>81</td>\n",
       "    </tr>\n",
       "    <tr>\n",
       "      <th>17</th>\n",
       "      <td>BC11F01034</td>\n",
       "      <td>13100534573</td>\n",
       "      <td>BC</td>\n",
       "      <td>2011-11-17</td>\n",
       "      <td>2012-02-06</td>\n",
       "      <td>On Notice Occupation</td>\n",
       "      <td>FL404B_7</td>\n",
       "      <td>131</td>\n",
       "      <td>GEN</td>\n",
       "      <td>81</td>\n",
       "    </tr>\n",
       "  </tbody>\n",
       "</table>\n",
       "</div>"
      ],
      "text/plain": [
       "   case_number        event creating_court   app_date  disp_date             app_order_type field_model event_code value  date_diff\n",
       "0   BC11F01034  13100526140             BC 2011-11-10 2011-11-16  On Notice Non-Molestation    FL404B_7        131   GEN          6\n",
       "1   BC11F01034  13100526140             BC 2011-11-10 2011-11-16       On Notice Occupation    FL404B_7        131   GEN          6\n",
       "2   BC11F01034  13100526816             BC 2011-11-10 2011-11-22  On Notice Non-Molestation    FL404B_7        131   GEN         12\n",
       "3   BC11F01034  13100526816             BC 2011-11-10 2011-11-22       On Notice Occupation    FL404B_7        131   GEN         12\n",
       "4   BC11F01034  13100526816             BC 2011-11-17 2011-11-22  On Notice Non-Molestation    FL404B_7        131   GEN          5\n",
       "5   BC11F01034  13100526816             BC 2011-11-17 2011-11-22       On Notice Occupation    FL404B_7        131   GEN          5\n",
       "6   BC11F01034  13100527586             BC 2011-11-10 2011-11-28  On Notice Non-Molestation    FL404B_7        131   GEN         18\n",
       "7   BC11F01034  13100527586             BC 2011-11-10 2011-11-28       On Notice Occupation    FL404B_7        131   GEN         18\n",
       "8   BC11F01034  13100527586             BC 2011-11-17 2011-11-28  On Notice Non-Molestation    FL404B_7        131   GEN         11\n",
       "9   BC11F01034  13100527586             BC 2011-11-17 2011-11-28       On Notice Occupation    FL404B_7        131   GEN         11\n",
       "10  BC11F01034  13100530580             BC 2011-11-10 2011-12-23  On Notice Non-Molestation    FL404B_7        131   OCC         43\n",
       "11  BC11F01034  13100530580             BC 2011-11-10 2011-12-23       On Notice Occupation    FL404B_7        131   OCC         43\n",
       "12  BC11F01034  13100530580             BC 2011-11-17 2011-12-23  On Notice Non-Molestation    FL404B_7        131   OCC         36\n",
       "13  BC11F01034  13100530580             BC 2011-11-17 2011-12-23       On Notice Occupation    FL404B_7        131   OCC         36\n",
       "14  BC11F01034  13100534573             BC 2011-11-10 2012-02-06  On Notice Non-Molestation    FL404B_7        131   GEN         88\n",
       "15  BC11F01034  13100534573             BC 2011-11-10 2012-02-06       On Notice Occupation    FL404B_7        131   GEN         88\n",
       "16  BC11F01034  13100534573             BC 2011-11-17 2012-02-06  On Notice Non-Molestation    FL404B_7        131   GEN         81\n",
       "17  BC11F01034  13100534573             BC 2011-11-17 2012-02-06       On Notice Occupation    FL404B_7        131   GEN         81"
      ]
     },
     "execution_count": 74,
     "metadata": {},
     "output_type": "execute_result"
    }
   ],
   "source": [
    "dv_orders_data_sorted_count = pydb.read_sql_query(\"select * from __temp__.dv_orders_0 where case_number = 'BC11F01034'\")\n",
    "dv_orders_data_sorted_count"
   ]
  },
  {
   "cell_type": "code",
   "execution_count": 75,
   "id": "16a97ef8-9035-4643-971b-5d8f24c8162d",
   "metadata": {},
   "outputs": [
    {
     "data": {
      "text/html": [
       "<div>\n",
       "<style scoped>\n",
       "    .dataframe tbody tr th:only-of-type {\n",
       "        vertical-align: middle;\n",
       "    }\n",
       "\n",
       "    .dataframe tbody tr th {\n",
       "        vertical-align: top;\n",
       "    }\n",
       "\n",
       "    .dataframe thead th {\n",
       "        text-align: right;\n",
       "    }\n",
       "</style>\n",
       "<table border=\"1\" class=\"dataframe\">\n",
       "  <thead>\n",
       "    <tr style=\"text-align: right;\">\n",
       "      <th></th>\n",
       "      <th>case_number</th>\n",
       "      <th>event</th>\n",
       "      <th>creating_court</th>\n",
       "      <th>event_code</th>\n",
       "      <th>app_order_type</th>\n",
       "      <th>app_date</th>\n",
       "      <th>disp_date</th>\n",
       "      <th>field_model</th>\n",
       "      <th>value</th>\n",
       "      <th>seq_num</th>\n",
       "    </tr>\n",
       "  </thead>\n",
       "  <tbody>\n",
       "    <tr>\n",
       "      <th>0</th>\n",
       "      <td>BC11F01034</td>\n",
       "      <td>13100526140</td>\n",
       "      <td>BC</td>\n",
       "      <td>131</td>\n",
       "      <td>On Notice Non-Molestation</td>\n",
       "      <td>2011-11-10</td>\n",
       "      <td>2011-11-16</td>\n",
       "      <td>FL404B_7</td>\n",
       "      <td>GEN</td>\n",
       "      <td>19632</td>\n",
       "    </tr>\n",
       "    <tr>\n",
       "      <th>1</th>\n",
       "      <td>BC11F01034</td>\n",
       "      <td>13100526816</td>\n",
       "      <td>BC</td>\n",
       "      <td>131</td>\n",
       "      <td>On Notice Non-Molestation</td>\n",
       "      <td>2011-11-10</td>\n",
       "      <td>2011-11-22</td>\n",
       "      <td>FL404B_7</td>\n",
       "      <td>GEN</td>\n",
       "      <td>19633</td>\n",
       "    </tr>\n",
       "    <tr>\n",
       "      <th>2</th>\n",
       "      <td>BC11F01034</td>\n",
       "      <td>13100527586</td>\n",
       "      <td>BC</td>\n",
       "      <td>131</td>\n",
       "      <td>On Notice Non-Molestation</td>\n",
       "      <td>2011-11-10</td>\n",
       "      <td>2011-11-28</td>\n",
       "      <td>FL404B_7</td>\n",
       "      <td>GEN</td>\n",
       "      <td>19634</td>\n",
       "    </tr>\n",
       "    <tr>\n",
       "      <th>3</th>\n",
       "      <td>BC11F01034</td>\n",
       "      <td>13100530580</td>\n",
       "      <td>BC</td>\n",
       "      <td>131</td>\n",
       "      <td>On Notice Non-Molestation</td>\n",
       "      <td>2011-11-10</td>\n",
       "      <td>2011-12-23</td>\n",
       "      <td>FL404B_7</td>\n",
       "      <td>OCC</td>\n",
       "      <td>19635</td>\n",
       "    </tr>\n",
       "    <tr>\n",
       "      <th>4</th>\n",
       "      <td>BC11F01034</td>\n",
       "      <td>13100534573</td>\n",
       "      <td>BC</td>\n",
       "      <td>131</td>\n",
       "      <td>On Notice Non-Molestation</td>\n",
       "      <td>2011-11-10</td>\n",
       "      <td>2012-02-06</td>\n",
       "      <td>FL404B_7</td>\n",
       "      <td>GEN</td>\n",
       "      <td>19636</td>\n",
       "    </tr>\n",
       "    <tr>\n",
       "      <th>5</th>\n",
       "      <td>BC11F01034</td>\n",
       "      <td>13100526816</td>\n",
       "      <td>BC</td>\n",
       "      <td>131</td>\n",
       "      <td>On Notice Non-Molestation</td>\n",
       "      <td>2011-11-17</td>\n",
       "      <td>2011-11-22</td>\n",
       "      <td>FL404B_7</td>\n",
       "      <td>GEN</td>\n",
       "      <td>19637</td>\n",
       "    </tr>\n",
       "    <tr>\n",
       "      <th>6</th>\n",
       "      <td>BC11F01034</td>\n",
       "      <td>13100527586</td>\n",
       "      <td>BC</td>\n",
       "      <td>131</td>\n",
       "      <td>On Notice Non-Molestation</td>\n",
       "      <td>2011-11-17</td>\n",
       "      <td>2011-11-28</td>\n",
       "      <td>FL404B_7</td>\n",
       "      <td>GEN</td>\n",
       "      <td>19638</td>\n",
       "    </tr>\n",
       "    <tr>\n",
       "      <th>7</th>\n",
       "      <td>BC11F01034</td>\n",
       "      <td>13100530580</td>\n",
       "      <td>BC</td>\n",
       "      <td>131</td>\n",
       "      <td>On Notice Non-Molestation</td>\n",
       "      <td>2011-11-17</td>\n",
       "      <td>2011-12-23</td>\n",
       "      <td>FL404B_7</td>\n",
       "      <td>OCC</td>\n",
       "      <td>19639</td>\n",
       "    </tr>\n",
       "    <tr>\n",
       "      <th>8</th>\n",
       "      <td>BC11F01034</td>\n",
       "      <td>13100534573</td>\n",
       "      <td>BC</td>\n",
       "      <td>131</td>\n",
       "      <td>On Notice Non-Molestation</td>\n",
       "      <td>2011-11-17</td>\n",
       "      <td>2012-02-06</td>\n",
       "      <td>FL404B_7</td>\n",
       "      <td>GEN</td>\n",
       "      <td>19640</td>\n",
       "    </tr>\n",
       "    <tr>\n",
       "      <th>9</th>\n",
       "      <td>BC11F01034</td>\n",
       "      <td>13100526140</td>\n",
       "      <td>BC</td>\n",
       "      <td>131</td>\n",
       "      <td>On Notice Occupation</td>\n",
       "      <td>2011-11-10</td>\n",
       "      <td>2011-11-16</td>\n",
       "      <td>FL404B_7</td>\n",
       "      <td>GEN</td>\n",
       "      <td>19641</td>\n",
       "    </tr>\n",
       "    <tr>\n",
       "      <th>10</th>\n",
       "      <td>BC11F01034</td>\n",
       "      <td>13100526816</td>\n",
       "      <td>BC</td>\n",
       "      <td>131</td>\n",
       "      <td>On Notice Occupation</td>\n",
       "      <td>2011-11-10</td>\n",
       "      <td>2011-11-22</td>\n",
       "      <td>FL404B_7</td>\n",
       "      <td>GEN</td>\n",
       "      <td>19642</td>\n",
       "    </tr>\n",
       "    <tr>\n",
       "      <th>11</th>\n",
       "      <td>BC11F01034</td>\n",
       "      <td>13100527586</td>\n",
       "      <td>BC</td>\n",
       "      <td>131</td>\n",
       "      <td>On Notice Occupation</td>\n",
       "      <td>2011-11-10</td>\n",
       "      <td>2011-11-28</td>\n",
       "      <td>FL404B_7</td>\n",
       "      <td>GEN</td>\n",
       "      <td>19643</td>\n",
       "    </tr>\n",
       "    <tr>\n",
       "      <th>12</th>\n",
       "      <td>BC11F01034</td>\n",
       "      <td>13100530580</td>\n",
       "      <td>BC</td>\n",
       "      <td>131</td>\n",
       "      <td>On Notice Occupation</td>\n",
       "      <td>2011-11-10</td>\n",
       "      <td>2011-12-23</td>\n",
       "      <td>FL404B_7</td>\n",
       "      <td>OCC</td>\n",
       "      <td>19644</td>\n",
       "    </tr>\n",
       "    <tr>\n",
       "      <th>13</th>\n",
       "      <td>BC11F01034</td>\n",
       "      <td>13100534573</td>\n",
       "      <td>BC</td>\n",
       "      <td>131</td>\n",
       "      <td>On Notice Occupation</td>\n",
       "      <td>2011-11-10</td>\n",
       "      <td>2012-02-06</td>\n",
       "      <td>FL404B_7</td>\n",
       "      <td>GEN</td>\n",
       "      <td>19645</td>\n",
       "    </tr>\n",
       "    <tr>\n",
       "      <th>14</th>\n",
       "      <td>BC11F01034</td>\n",
       "      <td>13100526816</td>\n",
       "      <td>BC</td>\n",
       "      <td>131</td>\n",
       "      <td>On Notice Occupation</td>\n",
       "      <td>2011-11-17</td>\n",
       "      <td>2011-11-22</td>\n",
       "      <td>FL404B_7</td>\n",
       "      <td>GEN</td>\n",
       "      <td>19646</td>\n",
       "    </tr>\n",
       "    <tr>\n",
       "      <th>15</th>\n",
       "      <td>BC11F01034</td>\n",
       "      <td>13100527586</td>\n",
       "      <td>BC</td>\n",
       "      <td>131</td>\n",
       "      <td>On Notice Occupation</td>\n",
       "      <td>2011-11-17</td>\n",
       "      <td>2011-11-28</td>\n",
       "      <td>FL404B_7</td>\n",
       "      <td>GEN</td>\n",
       "      <td>19647</td>\n",
       "    </tr>\n",
       "    <tr>\n",
       "      <th>16</th>\n",
       "      <td>BC11F01034</td>\n",
       "      <td>13100530580</td>\n",
       "      <td>BC</td>\n",
       "      <td>131</td>\n",
       "      <td>On Notice Occupation</td>\n",
       "      <td>2011-11-17</td>\n",
       "      <td>2011-12-23</td>\n",
       "      <td>FL404B_7</td>\n",
       "      <td>OCC</td>\n",
       "      <td>19648</td>\n",
       "    </tr>\n",
       "    <tr>\n",
       "      <th>17</th>\n",
       "      <td>BC11F01034</td>\n",
       "      <td>13100534573</td>\n",
       "      <td>BC</td>\n",
       "      <td>131</td>\n",
       "      <td>On Notice Occupation</td>\n",
       "      <td>2011-11-17</td>\n",
       "      <td>2012-02-06</td>\n",
       "      <td>FL404B_7</td>\n",
       "      <td>GEN</td>\n",
       "      <td>19649</td>\n",
       "    </tr>\n",
       "  </tbody>\n",
       "</table>\n",
       "</div>"
      ],
      "text/plain": [
       "   case_number        event creating_court event_code             app_order_type   app_date  disp_date field_model value  seq_num\n",
       "0   BC11F01034  13100526140             BC        131  On Notice Non-Molestation 2011-11-10 2011-11-16    FL404B_7   GEN    19632\n",
       "1   BC11F01034  13100526816             BC        131  On Notice Non-Molestation 2011-11-10 2011-11-22    FL404B_7   GEN    19633\n",
       "2   BC11F01034  13100527586             BC        131  On Notice Non-Molestation 2011-11-10 2011-11-28    FL404B_7   GEN    19634\n",
       "3   BC11F01034  13100530580             BC        131  On Notice Non-Molestation 2011-11-10 2011-12-23    FL404B_7   OCC    19635\n",
       "4   BC11F01034  13100534573             BC        131  On Notice Non-Molestation 2011-11-10 2012-02-06    FL404B_7   GEN    19636\n",
       "5   BC11F01034  13100526816             BC        131  On Notice Non-Molestation 2011-11-17 2011-11-22    FL404B_7   GEN    19637\n",
       "6   BC11F01034  13100527586             BC        131  On Notice Non-Molestation 2011-11-17 2011-11-28    FL404B_7   GEN    19638\n",
       "7   BC11F01034  13100530580             BC        131  On Notice Non-Molestation 2011-11-17 2011-12-23    FL404B_7   OCC    19639\n",
       "8   BC11F01034  13100534573             BC        131  On Notice Non-Molestation 2011-11-17 2012-02-06    FL404B_7   GEN    19640\n",
       "9   BC11F01034  13100526140             BC        131       On Notice Occupation 2011-11-10 2011-11-16    FL404B_7   GEN    19641\n",
       "10  BC11F01034  13100526816             BC        131       On Notice Occupation 2011-11-10 2011-11-22    FL404B_7   GEN    19642\n",
       "11  BC11F01034  13100527586             BC        131       On Notice Occupation 2011-11-10 2011-11-28    FL404B_7   GEN    19643\n",
       "12  BC11F01034  13100530580             BC        131       On Notice Occupation 2011-11-10 2011-12-23    FL404B_7   OCC    19644\n",
       "13  BC11F01034  13100534573             BC        131       On Notice Occupation 2011-11-10 2012-02-06    FL404B_7   GEN    19645\n",
       "14  BC11F01034  13100526816             BC        131       On Notice Occupation 2011-11-17 2011-11-22    FL404B_7   GEN    19646\n",
       "15  BC11F01034  13100527586             BC        131       On Notice Occupation 2011-11-17 2011-11-28    FL404B_7   GEN    19647\n",
       "16  BC11F01034  13100530580             BC        131       On Notice Occupation 2011-11-17 2011-12-23    FL404B_7   OCC    19648\n",
       "17  BC11F01034  13100534573             BC        131       On Notice Occupation 2011-11-17 2012-02-06    FL404B_7   GEN    19649"
      ]
     },
     "execution_count": 75,
     "metadata": {},
     "output_type": "execute_result"
    }
   ],
   "source": [
    "dv_orders_data_sorted_count = pydb.read_sql_query(\"select * from __temp__.dv_orders_1 where case_number = 'BC11F01034'\")\n",
    "dv_orders_data_sorted_count"
   ]
  },
  {
   "cell_type": "code",
   "execution_count": 76,
   "id": "b6362742-55b7-47f0-9f21-0a8875ff2709",
   "metadata": {},
   "outputs": [
    {
     "data": {
      "text/html": [
       "<div>\n",
       "<style scoped>\n",
       "    .dataframe tbody tr th:only-of-type {\n",
       "        vertical-align: middle;\n",
       "    }\n",
       "\n",
       "    .dataframe tbody tr th {\n",
       "        vertical-align: top;\n",
       "    }\n",
       "\n",
       "    .dataframe thead th {\n",
       "        text-align: right;\n",
       "    }\n",
       "</style>\n",
       "<table border=\"1\" class=\"dataframe\">\n",
       "  <thead>\n",
       "    <tr style=\"text-align: right;\">\n",
       "      <th></th>\n",
       "      <th>case_number</th>\n",
       "      <th>app_order_type</th>\n",
       "      <th>app_date</th>\n",
       "      <th>max_seq_num</th>\n",
       "    </tr>\n",
       "  </thead>\n",
       "  <tbody>\n",
       "    <tr>\n",
       "      <th>0</th>\n",
       "      <td>BC11F01034</td>\n",
       "      <td>On Notice Occupation</td>\n",
       "      <td>2011-11-10</td>\n",
       "      <td>19645</td>\n",
       "    </tr>\n",
       "    <tr>\n",
       "      <th>1</th>\n",
       "      <td>BC11F01034</td>\n",
       "      <td>On Notice Occupation</td>\n",
       "      <td>2011-11-17</td>\n",
       "      <td>19649</td>\n",
       "    </tr>\n",
       "    <tr>\n",
       "      <th>2</th>\n",
       "      <td>BC11F01034</td>\n",
       "      <td>On Notice Non-Molestation</td>\n",
       "      <td>2011-11-17</td>\n",
       "      <td>19640</td>\n",
       "    </tr>\n",
       "    <tr>\n",
       "      <th>3</th>\n",
       "      <td>BC11F01034</td>\n",
       "      <td>On Notice Non-Molestation</td>\n",
       "      <td>2011-11-10</td>\n",
       "      <td>19636</td>\n",
       "    </tr>\n",
       "  </tbody>\n",
       "</table>\n",
       "</div>"
      ],
      "text/plain": [
       "  case_number             app_order_type   app_date  max_seq_num\n",
       "0  BC11F01034       On Notice Occupation 2011-11-10        19645\n",
       "1  BC11F01034       On Notice Occupation 2011-11-17        19649\n",
       "2  BC11F01034  On Notice Non-Molestation 2011-11-17        19640\n",
       "3  BC11F01034  On Notice Non-Molestation 2011-11-10        19636"
      ]
     },
     "execution_count": 76,
     "metadata": {},
     "output_type": "execute_result"
    }
   ],
   "source": [
    "dv_orders_data_sorted_count = pydb.read_sql_query(\"select * from __temp__.dv_orders_2 where case_number = 'BC11F01034'\")\n",
    "dv_orders_data_sorted_count"
   ]
  },
  {
   "cell_type": "code",
   "execution_count": 77,
   "id": "9b8ad9a1-3119-4e8d-979a-1a676de8035f",
   "metadata": {},
   "outputs": [
    {
     "data": {
      "text/html": [
       "<div>\n",
       "<style scoped>\n",
       "    .dataframe tbody tr th:only-of-type {\n",
       "        vertical-align: middle;\n",
       "    }\n",
       "\n",
       "    .dataframe tbody tr th {\n",
       "        vertical-align: top;\n",
       "    }\n",
       "\n",
       "    .dataframe thead th {\n",
       "        text-align: right;\n",
       "    }\n",
       "</style>\n",
       "<table border=\"1\" class=\"dataframe\">\n",
       "  <thead>\n",
       "    <tr style=\"text-align: right;\">\n",
       "      <th></th>\n",
       "      <th>case_number</th>\n",
       "      <th>app_order_type</th>\n",
       "      <th>app_date</th>\n",
       "      <th>disp_date</th>\n",
       "      <th>event</th>\n",
       "      <th>creating_court</th>\n",
       "      <th>event_code</th>\n",
       "      <th>field_model</th>\n",
       "      <th>value</th>\n",
       "    </tr>\n",
       "  </thead>\n",
       "  <tbody>\n",
       "    <tr>\n",
       "      <th>0</th>\n",
       "      <td>BC11F01034</td>\n",
       "      <td>On Notice Occupation</td>\n",
       "      <td>2011-11-17</td>\n",
       "      <td>2012-02-06</td>\n",
       "      <td>13100534573</td>\n",
       "      <td>BC</td>\n",
       "      <td>131</td>\n",
       "      <td>FL404B_7</td>\n",
       "      <td>GEN</td>\n",
       "    </tr>\n",
       "    <tr>\n",
       "      <th>1</th>\n",
       "      <td>BC11F01034</td>\n",
       "      <td>On Notice Occupation</td>\n",
       "      <td>2011-11-10</td>\n",
       "      <td>2012-02-06</td>\n",
       "      <td>13100534573</td>\n",
       "      <td>BC</td>\n",
       "      <td>131</td>\n",
       "      <td>FL404B_7</td>\n",
       "      <td>GEN</td>\n",
       "    </tr>\n",
       "    <tr>\n",
       "      <th>2</th>\n",
       "      <td>BC11F01034</td>\n",
       "      <td>On Notice Non-Molestation</td>\n",
       "      <td>2011-11-10</td>\n",
       "      <td>2012-02-06</td>\n",
       "      <td>13100534573</td>\n",
       "      <td>BC</td>\n",
       "      <td>131</td>\n",
       "      <td>FL404B_7</td>\n",
       "      <td>GEN</td>\n",
       "    </tr>\n",
       "    <tr>\n",
       "      <th>3</th>\n",
       "      <td>BC11F01034</td>\n",
       "      <td>On Notice Non-Molestation</td>\n",
       "      <td>2011-11-17</td>\n",
       "      <td>2012-02-06</td>\n",
       "      <td>13100534573</td>\n",
       "      <td>BC</td>\n",
       "      <td>131</td>\n",
       "      <td>FL404B_7</td>\n",
       "      <td>GEN</td>\n",
       "    </tr>\n",
       "  </tbody>\n",
       "</table>\n",
       "</div>"
      ],
      "text/plain": [
       "  case_number             app_order_type   app_date  disp_date        event creating_court event_code field_model value\n",
       "0  BC11F01034       On Notice Occupation 2011-11-17 2012-02-06  13100534573             BC        131    FL404B_7   GEN\n",
       "1  BC11F01034       On Notice Occupation 2011-11-10 2012-02-06  13100534573             BC        131    FL404B_7   GEN\n",
       "2  BC11F01034  On Notice Non-Molestation 2011-11-10 2012-02-06  13100534573             BC        131    FL404B_7   GEN\n",
       "3  BC11F01034  On Notice Non-Molestation 2011-11-17 2012-02-06  13100534573             BC        131    FL404B_7   GEN"
      ]
     },
     "execution_count": 77,
     "metadata": {},
     "output_type": "execute_result"
    }
   ],
   "source": [
    "dv_orders_data_sorted_count = pydb.read_sql_query(\"select * from __temp__.dv_orders_3 where case_number = 'BC11F01034'\")\n",
    "dv_orders_data_sorted_count"
   ]
  },
  {
   "cell_type": "markdown",
   "id": "deab598e-44e7-4002-b42d-c8e86783e64f",
   "metadata": {},
   "source": [
    "## 23. dv_apps_and_orders_match table - calculates the timeliness based on the difference between app_date and disp_date\n",
    "<a name=\"DV_apps_and_orders_match\"></a>"
   ]
  },
  {
   "cell_type": "markdown",
   "id": "b2b2225f-4719-4635-828a-86b13786e374",
   "metadata": {},
   "source": [
    "### Drop the dv_apps_and_orders_match table if it already exists and remove its data from the S3 bucket"
   ]
  },
  {
   "cell_type": "code",
   "execution_count": null,
   "id": "18c42c51-fa80-487f-ae98-959216695e39",
   "metadata": {},
   "outputs": [],
   "source": [
    "drop_dv_apps_and_orders_match = \"DROP TABLE IF EXISTS fcsq.dv_apps_and_orders_match\"\n",
    "pydb.start_query_execution_and_wait(drop_dv_apps_and_orders_match)\n",
    "bucket.objects.filter(Prefix=\"fcsq_processing/Domestic_Violence/dv_apps_and_orders_match\").delete();"
   ]
  },
  {
   "cell_type": "markdown",
   "id": "25ada03c-fcea-4516-8ff0-ff8e9ed1023a",
   "metadata": {},
   "source": [
    "### Create the dv_apps_and_orders_match table in Athena"
   ]
  },
  {
   "cell_type": "code",
   "execution_count": null,
   "id": "e6ff79da-ac19-4565-8310-e03b81a686c4",
   "metadata": {},
   "outputs": [],
   "source": [
    "create_dv_apps_and_orders_match = f\"\"\"\n",
    "CREATE TABLE IF NOT EXISTS fcsq.dv_apps_and_orders_match\n",
    "WITH (format = 'PARQUET', external_location = 's3://alpha-family-data/fcsq_processing/Domestic_Violence/dv_apps_and_orders_match') AS\n",
    "SELECT t2.CASE_NUMBER, \n",
    "    t2.APP_Order_Type, \n",
    "    t2.APP_DATE, \n",
    "    t2.DISP_DATE, \n",
    "    t2.FIELD_MODEL,\n",
    "    t2.EVENT_CODE AS DSP_COURT,\n",
    "    /* Wait_weeks */\n",
    "    (CAST (DAY(t2.Disp_Date-t2.App_date) as double)/7) AS Wait_weeks,\n",
    "    YEAR(t2.DISP_DATE) AS Year,\n",
    "    Month(t2.DISP_DATE) AS Month,\n",
    "    t2.VALUE AS Orders\n",
    "FROM __temp__.dv_orders_3 t2;\n",
    "\"\"\"\n",
    "\n",
    "pydb.start_query_execution_and_wait(create_dv_apps_and_orders_match);\n"
   ]
  },
  {
   "cell_type": "code",
   "execution_count": null,
   "id": "89fc630e-82d5-4731-b9f2-e07836caa376",
   "metadata": {},
   "outputs": [],
   "source": [
    "#df = pydb.read_sql_query(\"select * from fcsq.dv_apps_and_orders_match\")\n",
    "#df"
   ]
  },
  {
   "cell_type": "markdown",
   "id": "ecc56d49-14e5-4fb5-8040-14b71576d559",
   "metadata": {},
   "source": [
    "#### DV_apps_and_orders_match validation"
   ]
  },
  {
   "cell_type": "code",
   "execution_count": null,
   "id": "4c6e0f90-515a-4407-a5b5-c44e55b5e1ca",
   "metadata": {},
   "outputs": [],
   "source": [
    "#dv_apps_and_orders_match_count = pydb.read_sql_query(\"select count(*) as count from fcsq.dv_apps_and_orders_match\")\n",
    "#dv_apps_and_orders_match_count"
   ]
  },
  {
   "cell_type": "markdown",
   "id": "ec511803-a5d2-4c1b-b241-226880e8a868",
   "metadata": {},
   "source": [
    "## 24. Applicant_representation table - creates a table showing whether all, some, or none of the applicants for a case have representation\n",
    "<a name=\"Applicant_representation\"></a>"
   ]
  },
  {
   "cell_type": "markdown",
   "id": "bac7d0b2-4010-408b-890f-1fac3f26bf68",
   "metadata": {},
   "source": [
    "### Drop the applicant_representation table if it already exists and remove its data from the S3 bucket"
   ]
  },
  {
   "cell_type": "code",
   "execution_count": null,
   "id": "997e12b8-78e8-4cf9-85c1-658abe1a0c14",
   "metadata": {},
   "outputs": [],
   "source": [
    "drop_applicant_representation = \"DROP TABLE IF EXISTS fcsq.applicant_representation\"\n",
    "pydb.start_query_execution_and_wait(drop_applicant_representation)\n",
    "bucket.objects.filter(Prefix=\"fcsq_processing/Domestic_Violence/applicant_representation\").delete();"
   ]
  },
  {
   "cell_type": "markdown",
   "id": "905f80d3-c7a7-441c-9567-0bcc83867cc4",
   "metadata": {},
   "source": [
    "### Create the applicant_representation table in Athena"
   ]
  },
  {
   "cell_type": "code",
   "execution_count": null,
   "id": "72725c92-88a5-4849-89d4-c89fbe54b9f0",
   "metadata": {},
   "outputs": [],
   "source": [
    "create_applicant_1 = f\"\"\"\n",
    "SELECT Distinct t1.Case_Number, \n",
    "t1.Party,\n",
    "MAX(t1.Representative_Role) as Max_Rep_Role\n",
    "\n",
    "FROM fcsq.Applicants t1\n",
    "Group by Case_Number, Party;\n",
    "\"\"\"\n",
    "pydb.create_temp_table(create_applicant_1,'applicant_1')\n",
    "\n",
    "\n",
    "create_applicant_2 = f\"\"\"\n",
    "SELECT  t1.*,\n",
    "case when Max_Rep_Role IS NULL then 0\n",
    "else 1\n",
    "end as Rep_IND\n",
    "FROM __temp__.applicant_1 t1;\n",
    "\"\"\"\n",
    "pydb.create_temp_table(create_applicant_2,'applicant_2')\n",
    "\n",
    "\n",
    "create_applicant_3 = f\"\"\"\n",
    "SELECT Distinct t1.Case_Number,\n",
    "Count(t1.Party) as CountOfParty,\n",
    "SUM(t1.Rep_Ind) as SumOfRep_IND\n",
    "            \n",
    "FROM __temp__.applicant_2 t1\n",
    "Group by Case_Number;\n",
    "\"\"\"\n",
    "pydb.create_temp_table(create_applicant_3,'applicant_3')\n",
    "\n",
    "\n",
    "create_applicant_representation = f\"\"\"\n",
    "CREATE TABLE IF NOT EXISTS fcsq.applicant_representation\n",
    "WITH (format = 'PARQUET', external_location = 's3://alpha-family-data/fcsq_processing/Domestic_Violence/applicant_representation') AS\n",
    "SELECT t1.Case_Number,\n",
    "t1.CountOfParty,\n",
    "t1.SumOfRep_IND,\n",
    "case\n",
    "when t1.SumOfRep_Ind > t1.CountOfParty then 'ERROR'\n",
    "when t1.SumOfRep_Ind = t1.CountOfParty then 'ALL'\n",
    "when t1.SumOfRep_Ind = 0 then 'NONE'\n",
    "else 'SOME'\n",
    "end as App_Rep_Cat\n",
    "\n",
    "FROM __temp__.applicant_3 t1;\n",
    "\"\"\"\n",
    "\n",
    "pydb.start_query_execution_and_wait(create_applicant_representation);"
   ]
  },
  {
   "cell_type": "markdown",
   "id": "90d252ed-5106-410c-9fb8-d714b33d89c6",
   "metadata": {},
   "source": [
    "#### Applicant_representation validation"
   ]
  },
  {
   "cell_type": "code",
   "execution_count": null,
   "id": "3ea6255d-af56-4276-a19f-28ccb873c410",
   "metadata": {},
   "outputs": [],
   "source": [
    "#applicant_count = pydb.read_sql_query(\"select count(*) as count from fcsq.applicant_representation\")\n",
    "#applicant_count"
   ]
  },
  {
   "cell_type": "markdown",
   "id": "8a4ba91c-77ee-4e8e-9b70-e27968412ee5",
   "metadata": {},
   "source": [
    "## 25. Respondent_representation table - creates a table showing whether all, some, or none of the respondents for a case have representation\n",
    "<a name=\"Respondent_representation\"></a>"
   ]
  },
  {
   "cell_type": "markdown",
   "id": "02897a0c-10db-48a3-b39c-aa46ca796e7f",
   "metadata": {},
   "source": [
    "### Drop the respondent_representation table if it already exists and remove its data from the S3 bucket"
   ]
  },
  {
   "cell_type": "code",
   "execution_count": null,
   "id": "918e0a9a-686e-4351-9ee1-d1aa36469f08",
   "metadata": {},
   "outputs": [],
   "source": [
    "drop_respondent_representation = \"DROP TABLE IF EXISTS fcsq.respondent_representation\"\n",
    "pydb.start_query_execution_and_wait(drop_respondent_representation)\n",
    "bucket.objects.filter(Prefix=\"fcsq_processing/Domestic_Violence/respondent_representation\").delete();"
   ]
  },
  {
   "cell_type": "markdown",
   "id": "f8f9f15d-da52-4854-9dbf-de5d46534967",
   "metadata": {},
   "source": [
    "### Create the respondent_representation table in Athena"
   ]
  },
  {
   "cell_type": "code",
   "execution_count": null,
   "id": "2921f30d-8698-4ae3-a986-5f7e9d07fd58",
   "metadata": {},
   "outputs": [],
   "source": [
    "create_respondent_1 = f\"\"\"\n",
    "SELECT Distinct t1.Case_Number, \n",
    "t1.Party,\n",
    "MAX(t1.Representative_Role) as Max_Rep_Role\n",
    "\n",
    "FROM fcsq.Respondents t1\n",
    "Group by Case_Number, Party;\n",
    "\"\"\"\n",
    "pydb.create_temp_table(create_respondent_1,'respondent_1')\n",
    "\n",
    "\n",
    "create_respondent_2 = f\"\"\"\n",
    "SELECT  t1.*,\n",
    "case when Max_Rep_Role IS NULL then 0\n",
    "else 1\n",
    "end as Rep_IND\n",
    "\n",
    "FROM __temp__.respondent_1 t1;\n",
    "\"\"\"\n",
    "pydb.create_temp_table(create_respondent_2,'respondent_2')\n",
    "\n",
    "\n",
    "create_respondent_3 = f\"\"\"\n",
    "SELECT Distinct t1.Case_Number,\n",
    "Count(t1.Party) as CountOfParty,\n",
    "SUM(t1.Rep_Ind) as SumOfRep_IND\n",
    "\n",
    "FROM __temp__.respondent_2 t1\n",
    "Group by Case_Number;\n",
    "\"\"\"\n",
    "pydb.create_temp_table(create_respondent_3,'respondent_3')\n",
    "\n",
    "\n",
    "create_respondent_representation = f\"\"\"\n",
    "CREATE TABLE IF NOT EXISTS fcsq.respondent_representation\n",
    "WITH (format = 'PARQUET', external_location = 's3://alpha-family-data/fcsq_processing/Domestic_Violence/respondent_representation') AS\n",
    "SELECT t1.Case_Number,\n",
    "t1.CountOfParty,\n",
    "t1.SumOfRep_IND,\n",
    "case when t1.SumOfRep_Ind > t1.CountOfParty then 'ERROR'\n",
    "when t1.SumOfRep_Ind = t1.CountOfParty then 'ALL'\n",
    "when t1.SumOfRep_Ind = 0 then 'NONE'\n",
    "else 'SOME'\n",
    "end as Res_Rep_Cat\n",
    "\n",
    "FROM __temp__.respondent_3 t1;\n",
    "\"\"\"\n",
    "\n",
    "pydb.start_query_execution_and_wait(create_respondent_representation);"
   ]
  },
  {
   "cell_type": "markdown",
   "id": "e31fed26-5660-47ef-bc16-b38be65ef7bd",
   "metadata": {},
   "source": [
    "#### Respondent_representation validation"
   ]
  },
  {
   "cell_type": "code",
   "execution_count": null,
   "id": "d1425203-55a2-43c7-b93e-4ddbc90c7812",
   "metadata": {},
   "outputs": [],
   "source": [
    "#respondent_count = pydb.read_sql_query(\"select count(*) as count from fcsq.respondent_representation\")\n",
    "#respondent_count"
   ]
  },
  {
   "cell_type": "markdown",
   "id": "375bca0a-fcc2-4d62-8669-6d02bc377572",
   "metadata": {},
   "source": [
    "## 26. DV_disposals_final table - joins the dv_apps_and_orders_match table and the representation tables, joining timeliness and legal representation data for a case together\n",
    "<a name=\"DV_disposals_final\"></a>"
   ]
  },
  {
   "cell_type": "code",
   "execution_count": null,
   "id": "57d3d9c3-b62e-4b75-9dc7-424a72312e05",
   "metadata": {},
   "outputs": [],
   "source": [
    "'''\n",
    "Problem in fcsq.dv_apps_and_orders_match\n",
    "'''\n",
    "\n",
    "create_dom_viol_app_and_orders_with_rep = f\"\"\"\n",
    "SELECT t1.*, \n",
    "Case when t1.Month< 4 then 1\n",
    "When t1.Month< 7 then 2\n",
    "when t1.Month< 10 then 3\n",
    "else 4\n",
    "End AS Quarter,\n",
    "t2.APP_REP_CAT, \n",
    "t3.RES_REP_CAT\n",
    "FROM fcsq.dv_apps_and_orders_match AS t1 \n",
    "LEFT JOIN fcsq.applicant_representation AS t2 ON (t1.CASE_NUMBER = t2.CASE_NUMBER) \n",
    "LEFT JOIN fcsq.respondent_representation as t3 ON t1.CASE_NUMBER = t3.CASE_NUMBER;\n",
    "\"\"\"\n",
    "pydb.create_temp_table(create_dom_viol_app_and_orders_with_rep,'dom_viol_app_and_orders_with_rep')\n",
    "\n",
    "df = pydb.read_sql_query(create_dom_viol_app_and_orders_with_rep)\n",
    "df.to_csv(path_or_buf = 's3://alpha-family-data/CSVs/Domestic_Violence/dv_disposals_final.csv',index=False)"
   ]
  },
  {
   "cell_type": "code",
   "execution_count": null,
   "id": "13c10d7d-1938-461c-8ee8-a7f580c93897",
   "metadata": {},
   "outputs": [],
   "source": [
    "df = pydb.read_sql_query(\"select * from __temp__.dom_viol_app_and_orders_with_rep\")\n",
    "df"
   ]
  },
  {
   "cell_type": "code",
   "execution_count": null,
   "id": "5b24e0d8-0d75-49ed-bba9-ddb0129d5a5e",
   "metadata": {},
   "outputs": [],
   "source": [
    "create_dv_disposals_final = f\"\"\"\n",
    "SELECT t1.*,\n",
    "t2.Region_Pre2014, \n",
    "t2.Region,\n",
    "cast(t1.Year as varchar(3)) || '-Q' || cast(t1.quarter as varchar(3)) AS Quarter2, \n",
    "case when t1.APP_REP_CAT Is Null Or t1.RES_REP_CAT Is Null  then '5 Unknown'\n",
    "    when t1.APP_REP_CAT = 'NONE' and t1.RES_REP_CAT = 'NONE' then '4 Neither'\n",
    "    when t1.APP_REP_CAT = 'NONE' and t1.RES_REP_CAT != 'NONE' then '3 Respondent Only'\n",
    "    when t1.APP_REP_CAT != 'NONE' and t1.RES_REP_CAT = 'NONE' then '2 Applicant Only'\n",
    "Else '1 Both'\n",
    "End AS REP_CAT,\n",
    "Case when t1.YEAR < 2014 then t2.Region_Pre2014\n",
    "Else t2.Region\n",
    "End As Final_Region\n",
    "\n",
    "FROM __temp__.dom_viol_app_and_orders_with_rep AS t1 LEFT JOIN fcsq.COURT_MV_FEB21_DFJ AS t2 \n",
    "ON t1.DSP_COURT = cast(t2.Code as varchar(3));\n",
    "\"\"\"\n",
    "pydb.create_temp_table(create_dv_disposals_final,'dv_disposals_final')"
   ]
  },
  {
   "cell_type": "code",
   "execution_count": null,
   "id": "c9788ef5-71b5-42e5-bd7b-f5f2edb709a9",
   "metadata": {},
   "outputs": [],
   "source": [
    "df = pydb.read_sql_query(\"select * from __temp__.dv_disposals_final\")\n",
    "df"
   ]
  },
  {
   "cell_type": "code",
   "execution_count": null,
   "id": "6c15d3ba-0d1c-45f3-949f-18bc5a0a58d2",
   "metadata": {},
   "outputs": [],
   "source": [
    "df = pydb.read_sql_query(\"select * from __temp__.dv_disposals_final where (year = 2014 and quarter = 1)\")\n",
    "df"
   ]
  },
  {
   "cell_type": "code",
   "execution_count": null,
   "id": "bbff17bb-80e1-435f-b622-ba0284fbf37f",
   "metadata": {},
   "outputs": [],
   "source": [
    "df.to_csv(path_or_buf = 's3://alpha-family-data/CSVs/Domestic_Violence/dv timeliness check (2014 Q1).csv',index=False)"
   ]
  },
  {
   "cell_type": "markdown",
   "id": "910c886a-2c93-45f4-8309-88b57e818feb",
   "metadata": {},
   "source": [
    "## 27. DV_Quarterly table - groups the disposals_final table by quarter, providing a total and mean wait_weeks per quarter\n",
    "<a name=\"DV_Quarterly\"></a>"
   ]
  },
  {
   "cell_type": "markdown",
   "id": "ad1d5575-2e82-4dcf-aa6b-4bd8c0584dba",
   "metadata": {},
   "source": [
    "### Drop the dv_quarter table if it already exists and remove its data from the S3 bucket"
   ]
  },
  {
   "cell_type": "code",
   "execution_count": null,
   "id": "1f646364-5cf9-4284-9b84-8b5b7f27d539",
   "metadata": {},
   "outputs": [],
   "source": [
    "drop_dv_quarterly = \"DROP TABLE IF EXISTS fcsq.dv_quarterly\"\n",
    "pydb.start_query_execution_and_wait(drop_dv_quarterly)\n",
    "bucket.objects.filter(Prefix=\"fcsq_processing/Domestic_Violence/dv_quarterly\").delete();"
   ]
  },
  {
   "cell_type": "markdown",
   "id": "560acdf9-151b-4319-92b5-2406970f629b",
   "metadata": {},
   "source": [
    "### Create the dv_quarter table in Athena"
   ]
  },
  {
   "cell_type": "code",
   "execution_count": null,
   "id": "34b12bb8-2b1e-452e-afa4-a953f99275f4",
   "metadata": {},
   "outputs": [],
   "source": [
    "create_dv_quarterly = f\"\"\"\n",
    "CREATE TABLE IF NOT EXISTS fcsq.dv_quarterly\n",
    "WITH (format = 'PARQUET', external_location = 's3://alpha-family-data/fcsq_processing/Domestic_Violence/dv_quarterly') AS\n",
    "SELECT DISTINCT\n",
    "    'Domestic Violence' AS type,\n",
    "    year,\n",
    "    'Q' || cast(quarter as varchar(3)) AS quarter,\n",
    "    rep_cat,\n",
    "    COUNT(*) AS n,\n",
    "    avg(wait_weeks) AS mean\n",
    "FROM \n",
    "    __temp__.dv_disposals_final\n",
    "WHERE year > 2010 \n",
    "    AND quarter2 <> '2022-Q3'\n",
    "GROUP BY\n",
    "    year,\n",
    "    quarter,\n",
    "    rep_cat\n",
    "\n",
    "\n",
    "UNION ALL\n",
    "SELECT DISTINCT\n",
    "    'Domestic Violence' AS type,\n",
    "    year,\n",
    "    'Q' || cast(quarter as varchar(3)) AS quarter,\n",
    "    'All' AS rep_cat,\n",
    "    COUNT(*) AS n,\n",
    "    avg(wait_weeks) AS mean\n",
    "FROM \n",
    "    __temp__.dv_disposals_final\n",
    "WHERE year > 2010 \n",
    "    AND quarter2 <> '2022-Q3'\n",
    "GROUP BY\n",
    "    year,\n",
    "    quarter;\n",
    "\"\"\"\n",
    "\n",
    "pydb.start_query_execution_and_wait(create_dv_quarterly);"
   ]
  },
  {
   "cell_type": "markdown",
   "id": "76f5b12f-d91c-42e3-8dec-7329b4bc2eb8",
   "metadata": {},
   "source": [
    "#### DV_quarterly validation"
   ]
  },
  {
   "cell_type": "code",
   "execution_count": null,
   "id": "d0f0966e-ce55-45e7-a220-97110c513786",
   "metadata": {},
   "outputs": [],
   "source": [
    "#df = pydb.read_sql_query(\"select count(*) as count from fcsq.dv_quarterly\")\n",
    "#df"
   ]
  },
  {
   "cell_type": "markdown",
   "id": "b8f72919-9ff3-4303-905e-45cf9398df9f",
   "metadata": {},
   "source": [
    "## 28. DV_Annual table - groups the disposals_final table annually, providing a total and mean wait_weeks annually\n",
    "<a name=\"DV_Annual\"></a>"
   ]
  },
  {
   "cell_type": "markdown",
   "id": "06a4d097-b9fb-46a3-9b1d-92926102d794",
   "metadata": {},
   "source": [
    "### Drop the dv_annual table if it already exists and remove its data from the S3 bucket"
   ]
  },
  {
   "cell_type": "code",
   "execution_count": null,
   "id": "65e5cfc5-23ac-4a04-9ebb-97f347ab9e0e",
   "metadata": {},
   "outputs": [],
   "source": [
    "drop_dv_annually = \"DROP TABLE IF EXISTS fcsq.dv_annually\"\n",
    "pydb.start_query_execution_and_wait(drop_dv_annually)\n",
    "bucket.objects.filter(Prefix=\"fcsq_processing/Domestic_Violence/dv_annually\").delete();"
   ]
  },
  {
   "cell_type": "markdown",
   "id": "1064dfcc-3b44-4d24-8ced-1028c534aa85",
   "metadata": {},
   "source": [
    "### Create the dv_annual table in Athena"
   ]
  },
  {
   "cell_type": "code",
   "execution_count": null,
   "id": "bb05c2b6-d78c-443f-9015-7bf567374cd4",
   "metadata": {},
   "outputs": [],
   "source": [
    "create_dv_annually = f\"\"\"\n",
    "CREATE TABLE IF NOT EXISTS fcsq.dv_annually\n",
    "WITH (format = 'PARQUET', external_location = 's3://alpha-family-data/fcsq_processing/Domestic_Violence/dv_annually') AS\n",
    "SELECT DISTINCT\n",
    "    'Domestic Violence' AS type,\n",
    "    year,\n",
    "    'N/A' AS quarter,\n",
    "    rep_cat,\n",
    "    COUNT(*) AS n,\n",
    "    avg(wait_weeks) AS mean\n",
    "FROM \n",
    "    __temp__.dv_disposals_final\n",
    "WHERE year > 2010\n",
    "    AND year < {latest_year}\n",
    "GROUP BY\n",
    "    year,\n",
    "    rep_cat\n",
    "\n",
    "UNION ALL\n",
    "SELECT DISTINCT\n",
    "    'Domestic Violence' AS type,\n",
    "    year,\n",
    "    'N/A' AS quarter,\n",
    "    'All' AS rep_cat,\n",
    "    COUNT(*) AS n,\n",
    "    avg(wait_weeks) AS mean\n",
    "FROM \n",
    "    __temp__.dv_disposals_final\n",
    "WHERE year > 2010\n",
    "    AND year < {latest_year}\n",
    "GROUP BY\n",
    "    year;\n",
    "\"\"\"\n",
    "\n",
    "pydb.start_query_execution_and_wait(create_dv_annually);"
   ]
  },
  {
   "cell_type": "markdown",
   "id": "f19a9cf4-f903-4641-8c69-a09e72d9ad9f",
   "metadata": {},
   "source": [
    "#### DV_annually validation"
   ]
  },
  {
   "cell_type": "code",
   "execution_count": null,
   "id": "c88dbe61-bac3-489c-bec8-0593960fc0e5",
   "metadata": {},
   "outputs": [],
   "source": [
    "#dv_annually_count = pydb.read_sql_query(\"select * from fcsq.dv_annually\")\n",
    "#dv_annually_count"
   ]
  },
  {
   "cell_type": "markdown",
   "id": "5234f719-4698-41da-9a73-8dfd9debdb6f",
   "metadata": {},
   "source": [
    "## 29. DV_timeliness table - groups the disposals_final table regionally and nationally, providing a total, mean, and median wait_weeks\n",
    "<a name=\"DV_timeliness\"></a>"
   ]
  },
  {
   "cell_type": "markdown",
   "id": "66ebdbcd-a1cc-4ce9-af01-166e7dab41a1",
   "metadata": {},
   "source": [
    "### Drop the dv_timeliness table if it already exists and remove its data from the S3 bucket"
   ]
  },
  {
   "cell_type": "code",
   "execution_count": null,
   "id": "96b9e944-7042-4e98-8df4-182d8c2ec963",
   "metadata": {},
   "outputs": [],
   "source": [
    "drop_dv_timeliness = \"DROP TABLE IF EXISTS fcsq.dv_timeliness\"\n",
    "pydb.start_query_execution_and_wait(drop_dv_timeliness)\n",
    "bucket.objects.filter(Prefix=\"fcsq_processing/Domestic_Violence/dv_timeliness\").delete();"
   ]
  },
  {
   "cell_type": "markdown",
   "id": "d1041936-cf8e-42ae-9ff3-8a59530145b5",
   "metadata": {},
   "source": [
    "### Create the dv_timeliness table in Athena"
   ]
  },
  {
   "cell_type": "code",
   "execution_count": null,
   "id": "30ba2f9f-3c04-4fcb-90b1-f633d0e9ce3d",
   "metadata": {},
   "outputs": [],
   "source": [
    "create_regional_median1 = f\"\"\"\n",
    "SELECT *, \n",
    "    /* Finding the middle */\n",
    "    NTILE(2) OVER (PARTITION BY Final_Region, Rep_Cat, Quarter2 ORDER BY wait_weeks) as tile2            /* Distributes rows into 2 roughly equal groups, in the column called 'tile2' the first group is given the value 1 and the other is given the value 2 */\n",
    "FROM __temp__.dv_disposals_final\n",
    "WHERE year > 2010\n",
    "\"\"\"\n",
    "\n",
    "create_dv_time_regional = f\"\"\"\n",
    "SELECT  Final_Region,\n",
    "        Rep_Cat,\n",
    "        Quarter2,\n",
    "        count(*) as Number_of_Cases,\n",
    "        /* Mean */\n",
    "        ROUND(avg(wait_weeks), 1) as Mean_duration, \n",
    "        /* Median */\n",
    "        (CASE WHEN COUNT(tile2) % 2 = 0                                                                                                  \n",
    "            THEN (MAX(CASE WHEN tile2 = 1 THEN wait_weeks END) + MIN(CASE WHEN tile2 = 2 THEN wait_weeks END)) / 2.0                     /* If the count is even the maximum value from group 1 is added to the minimum value from group 2 */\n",
    "        ELSE MAX(CASE WHEN tile2 = 1 THEN wait_weeks END)                                                                            /* If the count is odd the maximum value from group 1 is used to represent the median */\n",
    "        END) as median\n",
    "FROM __temp__.regional_median1\n",
    "\n",
    "GROUP BY Final_Region,\n",
    "Quarter2, Rep_Cat\n",
    "\n",
    "ORDER BY Final_Region,\n",
    "Quarter2, Rep_Cat\n",
    "\"\"\"\n",
    "pydb.create_temp_table(create_dv_time_regional,'dv_time_regional')\n",
    "\n",
    "#dv_time_regional = pydb.read_sql_query(\"select * from __temp__.dv_time_regional\")\n",
    "#dv_time_regional"
   ]
  },
  {
   "cell_type": "code",
   "execution_count": null,
   "id": "6107bc95-89cd-488f-9e72-4440ca132fc5",
   "metadata": {},
   "outputs": [],
   "source": [
    "create_national_median1 = f\"\"\"\n",
    "SELECT *, \n",
    "    /* Finding the middle */\n",
    "    NTILE(2) OVER (PARTITION BY Rep_Cat, Quarter2 ORDER BY wait_weeks) as tile2            /* Distributes rows into 2 roughly equal groups, in the column called 'tile2' the first group is given the value 1 and the other is given the value 2 */\n",
    "FROM __temp__.dv_disposals_final\n",
    "WHERE year > 2010\n",
    "\"\"\"\n",
    "\n",
    "create_dv_time_national = f\"\"\"\n",
    "SELECT  Rep_Cat,\n",
    "        Quarter2,\n",
    "        count(*) as Number_of_Cases,\n",
    "        /* Mean */\n",
    "        ROUND(avg(wait_weeks), 1) as Mean_duration, \n",
    "        /* Median */\n",
    "        (CASE WHEN COUNT(tile2) % 2 = 0                                                                                                  \n",
    "            THEN (MAX(CASE WHEN tile2 = 1 THEN wait_weeks END) + MIN(CASE WHEN tile2 = 2 THEN wait_weeks END)) / 2.0                     /* If the count is even the maximum value from group 1 is added to the minimum value from group 2 */\n",
    "        ELSE MAX(CASE WHEN tile2 = 1 THEN wait_weeks END)                                                                            /* If the count is odd the maximum value from group 1 is used to represent the median */\n",
    "        END) as median\n",
    "FROM __temp__.national_median1\n",
    "\n",
    "GROUP BY Quarter2, Rep_Cat\n",
    "\n",
    "ORDER BY Quarter2, Rep_Cat\n",
    "\"\"\"\n",
    "pydb.create_temp_table(create_dv_time_national,'dv_time_national')\n",
    "\n",
    "#dv_time_national = pydb.read_sql_query(\"select * from __temp__.dv_time_national\")\n",
    "#dv_time_national"
   ]
  },
  {
   "cell_type": "code",
   "execution_count": null,
   "id": "ed179bb4-bcb0-4d8a-8024-f7bf0d697e05",
   "metadata": {},
   "outputs": [],
   "source": [
    "create_dv_timeliness = f\"\"\"\n",
    "CREATE TABLE IF NOT EXISTS fcsq.dv_timeliness\n",
    "WITH (format = 'PARQUET', external_location = 's3://alpha-family-data/fcsq_processing/Domestic_Violence/dv_timeliness') AS\n",
    "select 'Domestic Violence' AS Case_Type,\n",
    "Final_Region as Region, Rep_Cat as Representation, Quarter2 as Quarter,\n",
    "Number_of_Cases, \n",
    "Mean_duration,\n",
    "ROUND(Median, 1) AS Median_duration\n",
    "from __temp__.dv_time_regional\n",
    "\n",
    "UNION ALL\n",
    "select 'Domestic Violence' AS Case_Type,\n",
    "'England & Wales' as Region, Rep_Cat as Representation, Quarter2 as Quarter,\n",
    "Number_of_Cases,\n",
    "Mean_duration,\n",
    "ROUND(Median, 1) AS Median_duration\n",
    "from __temp__.dv_time_national\n",
    "\"\"\"\n",
    "\n",
    "\n",
    "pydb.start_query_execution_and_wait(create_dv_timeliness);"
   ]
  },
  {
   "cell_type": "code",
   "execution_count": null,
   "id": "d2d6c32a-7508-4e8c-bd73-b8adb7f92b45",
   "metadata": {},
   "outputs": [],
   "source": [
    "timeliness_output =f\"\"\"\n",
    "SELECT *\n",
    "FROM fcsq.dv_timeliness\n",
    "WHERE NOT (quarter = '{latest_year}-Q{latest_quarter}')\n",
    "ORDER BY region, representation, quarter;\n",
    "\"\"\"\n",
    "\n",
    "df = pydb.read_sql_query(timeliness_output)\n",
    "df.to_csv(path_or_buf = 's3://alpha-family-data/CSVs/Domestic_Violence/dv_csv_timeliness.csv',index=False)"
   ]
  },
  {
   "cell_type": "markdown",
   "id": "acf088da-8dd4-4a90-b874-bcb778bf66e7",
   "metadata": {},
   "source": [
    "## 30. DV_timeliness_combined table - combines and orders the annual and quarterly timeliness data \n",
    "<a name=\"DV_timeliness_combined\"></a>"
   ]
  },
  {
   "cell_type": "markdown",
   "id": "0e5614dc-09d2-459f-9e38-53507ad8d586",
   "metadata": {},
   "source": [
    "### Drop the dv_timeliness_combined table if it already exists and remove its data from the S3 bucket"
   ]
  },
  {
   "cell_type": "code",
   "execution_count": null,
   "id": "d8de57d1-b18e-486c-a111-a0c067a958d9",
   "metadata": {},
   "outputs": [],
   "source": [
    "drop_dv_timeliness_combined = \"DROP TABLE IF EXISTS fcsq.dv_timeliness_combined\"\n",
    "pydb.start_query_execution_and_wait(drop_dv_timeliness_combined)\n",
    "bucket.objects.filter(Prefix=\"fcsq_processing/Domestic_Violence/dv_timeliness_combined\").delete();"
   ]
  },
  {
   "cell_type": "markdown",
   "id": "7c88c71d-a4ac-4a13-b3c7-fdbd52a8d536",
   "metadata": {},
   "source": [
    "### Create the dv_timeliness_combined table in Athena"
   ]
  },
  {
   "cell_type": "code",
   "execution_count": null,
   "id": "abaef161-c1ff-4d24-b32f-b0bdd5507775",
   "metadata": {},
   "outputs": [],
   "source": [
    "create_dv_timeliness_combined = f\"\"\"\n",
    "CREATE TABLE IF NOT EXISTS fcsq.dv_timeliness_combined\n",
    "WITH (format = 'PARQUET', external_location = 's3://alpha-family-data/fcsq_processing/Domestic_Violence/dv_timeliness_combined') AS\n",
    "SELECT * FROM fcsq.dv_annually \n",
    "UNION ALL \n",
    "SELECT * FROM fcsq.dv_quarterly ORDER BY type,year,quarter,rep_cat\n",
    "\"\"\"\n",
    "\n",
    "pydb.start_query_execution_and_wait(create_dv_timeliness_combined);"
   ]
  },
  {
   "cell_type": "markdown",
   "id": "c1bf0d0e-49de-4ad3-a29b-63aa80ffec52",
   "metadata": {},
   "source": [
    "#### dv_timeliness_combined validation"
   ]
  },
  {
   "cell_type": "code",
   "execution_count": null,
   "id": "89652256-b296-445d-9432-c8cf34704221",
   "metadata": {},
   "outputs": [],
   "source": [
    "#dv_timeliness_combined_count = pydb.read_sql_query(\"select count(*) as count from fcsq.dv_timeliness_combined\")\n",
    "#dv_timeliness_combined_count"
   ]
  },
  {
   "cell_type": "code",
   "execution_count": null,
   "id": "5f419b56-8396-4a9d-9256-5029837a904a",
   "metadata": {},
   "outputs": [],
   "source": [
    "#pydb.read_sql_query(\"select * from fcsq.dv_timeliness_combined\")"
   ]
  },
  {
   "cell_type": "code",
   "execution_count": null,
   "id": "04a3010e-49ec-463c-af12-1f1a267a2cd0",
   "metadata": {},
   "outputs": [],
   "source": [
    "lookup_table = f\"\"\"\n",
    "SELECT \n",
    "CASE when quarter = 'N/A' THEN \n",
    "type || '|' ||cast(year as varchar(20))||'|'\n",
    "ELSE\n",
    "type || '|' ||cast(year as varchar(20))||'|' || quarter end as lookup,\n",
    "rep_cat,\n",
    "n,\n",
    "mean\n",
    "from fcsq.dv_timeliness_combined;\n",
    "\"\"\"\n",
    "\n",
    "pydb.create_temp_table(lookup_table, 'lookup_table')"
   ]
  },
  {
   "cell_type": "code",
   "execution_count": null,
   "id": "9925d6fe-065d-4a82-9b2a-7dac95be4f3b",
   "metadata": {},
   "outputs": [],
   "source": [
    "#df = pydb.read_sql_query(\"SELECT CASE when quarter = 'N/A' THEN type || '|' ||cast(year as varchar(20))||'|' ELSE type || '|' ||cast(year as varchar(20))||'|' || quarter || '|' end as lookup, rep_cat, n, mean from fcsq.dv_timeliness_combined\")\n",
    "#df.head()"
   ]
  },
  {
   "cell_type": "code",
   "execution_count": null,
   "id": "fa85894c-8547-49e0-8bef-f77212832caa",
   "metadata": {},
   "outputs": [],
   "source": [
    "n_count_table = f\"\"\"\n",
    "SELECT lookup, rep_cat, n\n",
    "FROM __temp__.lookup_table \n",
    "ORDER BY lookup;\n",
    "\"\"\"\n",
    "\n",
    "pydb.create_temp_table(n_count_table, 'n_count_table')"
   ]
  },
  {
   "cell_type": "code",
   "execution_count": null,
   "id": "54bcd2ab-0a66-4d13-848c-4d1a773cbd51",
   "metadata": {},
   "outputs": [],
   "source": [
    "#df = pydb.read_sql_query(\"SELECT * FROM __temp__.n_count_table order by lookup;\")\n",
    "#df.head()"
   ]
  },
  {
   "cell_type": "code",
   "execution_count": null,
   "id": "66627f2d-ba1e-4c7e-ad12-4e0fd8d9f978",
   "metadata": {},
   "outputs": [],
   "source": [
    "n_count_table_final = f\"\"\"\n",
    "SELECT\n",
    "lookup,\n",
    "map_n['1 Both'] as \"1_Bothn\",\n",
    "map_n['2 Applicant Only'] as \"2_Applicant_Onlyn\",\n",
    "map_n['3 Respondent Only'] as \"3_Respondent_Onlyn\",\n",
    "map_n['4 Neither'] as \"4_Neithern\",\n",
    "map_n['5 Unknown'] as \"5_Unknown\",\n",
    "map_n['All'] as \"Alln\"\n",
    "from (\n",
    "SELECT \n",
    "lookup,\n",
    "map_agg(\n",
    "rep_cat,\n",
    "n\n",
    ") map_n\n",
    "FROM __temp__.n_count_table\n",
    "group by lookup) \n",
    "order by lookup;\n",
    "\"\"\"\n",
    "\n",
    "pydb.create_temp_table(n_count_table_final,'n_count_table_final')"
   ]
  },
  {
   "cell_type": "code",
   "execution_count": null,
   "id": "229b1d9f-816e-4081-9abf-01eb9281a748",
   "metadata": {},
   "outputs": [],
   "source": [
    "#df = pydb.read_sql_query(\"SELECT * FROM __temp__.n_count_table_final order by lookup;\")\n",
    "#df.head()"
   ]
  },
  {
   "cell_type": "code",
   "execution_count": null,
   "id": "ac41355b-ee58-4bac-a843-6b07f2c35cec",
   "metadata": {},
   "outputs": [],
   "source": [
    "mean_table = f\"\"\"\n",
    "SELECT lookup, rep_cat, mean\n",
    "FROM __temp__.lookup_table \n",
    "ORDER BY lookup;\n",
    "\"\"\"\n",
    "\n",
    "pydb.create_temp_table(mean_table, 'mean_table')"
   ]
  },
  {
   "cell_type": "code",
   "execution_count": null,
   "id": "038aa4c5-7243-4706-9b81-8e1f602db726",
   "metadata": {},
   "outputs": [],
   "source": [
    "#df = pydb.read_sql_query(\"SELECT * FROM __temp__.mean_table order by lookup;\")\n",
    "#df.head()"
   ]
  },
  {
   "cell_type": "code",
   "execution_count": null,
   "id": "b2b50199-64c4-4f13-93fb-ae5202e3deb5",
   "metadata": {},
   "outputs": [],
   "source": [
    "mean_table_final = f\"\"\"\n",
    "SELECT\n",
    "lookup,\n",
    "map_mean['1 Both'] as \"1_Both_mean\",\n",
    "map_mean['2 Applicant Only'] as \"2_Applicant_Only_mean\",\n",
    "map_mean['3 Respondent Only'] as \"3_Respondent_Only_mean\",\n",
    "map_mean['4 Neither'] as \"4_Neither_mean\",\n",
    "map_mean['5 Unknown'] as \"5_Unknown_mean\",\n",
    "map_mean['All'] as \"All_mean\"\n",
    "from (\n",
    "SELECT \n",
    "lookup,\n",
    "map_agg(\n",
    "rep_cat,\n",
    "mean\n",
    ") map_mean\n",
    "FROM __temp__.mean_table\n",
    "group by lookup) \n",
    "order by lookup;\n",
    "\"\"\"\n",
    "\n",
    "pydb.create_temp_table(mean_table_final,'mean_table_final')"
   ]
  },
  {
   "cell_type": "code",
   "execution_count": null,
   "id": "e5ab26c1-d3ff-4ff2-871d-823d7e1c2c8d",
   "metadata": {},
   "outputs": [],
   "source": [
    "csv_output_table =\"\"\"\n",
    "SELECT \n",
    "t1.lookup,\n",
    "t1.\"1_Bothn\",\n",
    "t2.\"1_Both_mean\",\n",
    "t1.\"2_Applicant_Onlyn\",\n",
    "t2.\"2_Applicant_Only_mean\",\n",
    "t1.\"3_Respondent_Onlyn\",\n",
    "t2.\"3_Respondent_Only_mean\",\n",
    "t1.\"4_Neithern\",\n",
    "t2.\"4_Neither_mean\",\n",
    "t1.\"5_Unknown\",\n",
    "t2.\"5_Unknown_mean\",\n",
    "t1.\"Alln\",\n",
    "t2.\"All_mean\"\n",
    "from \n",
    "__temp__.n_count_table_final t1\n",
    "INNER JOIN\n",
    "__temp__.mean_table_final t2\n",
    "on (t1.lookup = t2.lookup);\n",
    "\"\"\"\n",
    "\n",
    "\n",
    "df = pydb.read_sql_query(csv_output_table)\n",
    "df.to_csv(path_or_buf = 's3://alpha-family-data/CSVs/Domestic_Violence/dv_t10_timeliness.csv',index=False)"
   ]
  },
  {
   "cell_type": "code",
   "execution_count": null,
   "id": "02323d28-cbaa-4e43-b0b9-08fb2dc744d7",
   "metadata": {},
   "outputs": [],
   "source": [
    "#view_table = pydb.read_sql_query(\"SELECT * FROM fcsq.dv_timeliness_combined\")\n",
    "#view_table.pivot_table(index=['type','year','quarter'],columns=['rep_cat'],values = ['n','mean'],aggfunc=sum, fill_value=0).swaplevel(axis=1).sort_index(axis=1)"
   ]
  }
 ],
 "metadata": {
  "kernelspec": {
   "display_name": "venv",
   "language": "python",
   "name": "venv"
  },
  "language_info": {
   "codemirror_mode": {
    "name": "ipython",
    "version": 3
   },
   "file_extension": ".py",
   "mimetype": "text/x-python",
   "name": "python",
   "nbconvert_exporter": "python",
   "pygments_lexer": "ipython3",
   "version": "3.9.6"
  }
 },
 "nbformat": 4,
 "nbformat_minor": 5
}
