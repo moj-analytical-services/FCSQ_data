{
 "cells": [
  {
   "cell_type": "markdown",
   "id": "52538669-0ee0-4e07-8013-caa2fd22cfd2",
   "metadata": {},
   "source": [
    "# Domestic Violence DFJ"
   ]
  },
  {
   "cell_type": "markdown",
   "id": "1350e42a-f47e-42f3-8c57-727899be8449",
   "metadata": {},
   "source": [
    "## Contents\n",
    "#### Setup\n",
    "1. [import_packages](#import_packages) \n",
    "2. [define_key_variables](#define_key_variables) "
   ]
  },
  {
   "cell_type": "markdown",
   "id": "9948f3f1-7666-48db-8e70-43f571c3a3b2",
   "metadata": {},
   "source": [
    "## 1. Import packages and set options \n",
    "<a name=\"import_packages\"></a>"
   ]
  },
  {
   "cell_type": "code",
   "execution_count": 1,
   "id": "a6c7e642-25f2-4fd0-99f0-1a408d109de7",
   "metadata": {},
   "outputs": [],
   "source": [
    "import pandas as pd  # a module which provides the data structures and functions to store and manipulate tables in dataframes\n",
    "import pydbtools as pydb  # A module which allows SQL queries to be run on the Analytical Platform from Python, see https://github.com/moj-analytical-services/pydbtools\n",
    "import boto3  # allows you to directly create, update, and delete AWS resources from Python scripts\n",
    "\n",
    "# sets parameters to view dataframes for tables easier\n",
    "pd.set_option(\"display.max_columns\", 100)\n",
    "pd.set_option(\"display.width\", 900)\n",
    "pd.set_option(\"display.max_colwidth\", 200)"
   ]
  },
  {
   "cell_type": "markdown",
   "id": "220a78c1-553e-4c95-85ce-d667924e5fe4",
   "metadata": {},
   "source": [
    "## 2. Define key variables to be used throughout the notebook \n",
    "<a name=\"define_key_variables\"></a>"
   ]
  },
  {
   "cell_type": "code",
   "execution_count": 2,
   "id": "667c2254-ef8f-4df9-b6ed-33b2b9b0c825",
   "metadata": {},
   "outputs": [],
   "source": [
    "#this is the database we will be extracting from\n",
    "database = \"familyman_dev_v3\" \n",
    "\n",
    "#this extracts the latest snapshot from athena\n",
    "#get_snapshot_date = f\"SELECT mojap_snapshot_date from {database}.events order by mojap_snapshot_date desc limit 1\"\n",
    "#snapshot_date = str(pydb.read_sql_query(get_snapshot_date)['mojap_snapshot_date'].values[0])\n",
    "\n",
    "#this extracts the August snapshot from athena\n",
    "snapshot_date = '2022-08-04'\n",
    "\n",
    "#this is the athena database we will be storing our tables in\n",
    "fcsq_database = \"fcsq\"\n",
    "\n",
    "#this is the s3 bucket we will be saving data to\n",
    "s3 = boto3.resource(\"s3\")\n",
    "bucket = s3.Bucket(\"alpha-family-data\")\n",
    "\n",
    "#change these to the current quarter and year not the quarter being published\n",
    "latest_quarter = 3\n",
    "latest_year = 2022"
   ]
  },
  {
   "cell_type": "markdown",
   "id": "17c33da4-684d-42d8-b8e1-b93b3bfaea1c",
   "metadata": {},
   "source": [
    "## 3. Dom_violence_Orders table "
   ]
  },
  {
   "cell_type": "code",
   "execution_count": 3,
   "id": "0339ed87-de0d-418a-88ea-7bd14e3ea03b",
   "metadata": {},
   "outputs": [],
   "source": [
    "create_Dom_Violence_Orders = f\"\"\"\n",
    "SELECT Year, Quarter, Event_court, count(*) as count\n",
    "FROM fcsq.DV_ORDS_FINAL\n",
    "WHERE Year > 2010\n",
    "GROUP BY Year, Quarter, Event_court\n",
    "ORDER BY Year, Quarter, Event_court;\n",
    "\"\"\"\n",
    "\n",
    "pydb.create_temp_table(create_Dom_Violence_Orders,'Dom_Violence_Orders');"
   ]
  },
  {
   "cell_type": "markdown",
   "id": "4faf26af-e43f-42f4-9b14-7be7ec94226c",
   "metadata": {},
   "source": [
    "### Create the orders_case_count_C temporary table"
   ]
  },
  {
   "cell_type": "code",
   "execution_count": 7,
   "id": "3ac22c24-0a3d-4832-aa83-d5c13ac3f2be",
   "metadata": {},
   "outputs": [],
   "source": [
    "create_orders_case_count_C = f\"\"\"\n",
    "SELECT *,\n",
    "ROW_NUMBER() OVER(PARTITION BY CASE_NUMBER\n",
    "ORDER BY CASE_NUMBER, RECEIPT_DATE DESC, EVENT DESC) AS SEQ_NUM\n",
    "FROM fcsq.DV_ORDS_FINAL\n",
    "\"\"\"\n",
    "pydb.create_temp_table(create_orders_case_count_C,'orders_case_count_C');"
   ]
  },
  {
   "cell_type": "markdown",
   "id": "c3bc587e-55c4-478a-bb8a-406b882aebf5",
   "metadata": {},
   "source": [
    "### Create the orders_case_count_D temporary table"
   ]
  },
  {
   "cell_type": "code",
   "execution_count": 12,
   "id": "536a2d52-eae8-471b-a9af-d57a961cab08",
   "metadata": {
    "scrolled": true
   },
   "outputs": [],
   "source": [
    "create_orders_case_count_D = f\"\"\"\n",
    "SELECT\n",
    "t1.CASE_NUMBER, \n",
    "Year (t1.Receipt_Date) AS YEAR,\n",
    "CASE WHEN Month(t1.Receipt_Date)<4\n",
    "    THEN 1\n",
    "        WHEN Month(t1.Receipt_Date)<7\n",
    "        THEN 2\n",
    "            WHEN Month(t1.Receipt_Date)<10\n",
    "            THEN 3\n",
    "ELSE 4\n",
    "END AS Quarter,\n",
    "t1.Receipt_Date,\n",
    "t1.event_court\n",
    "\n",
    "FROM __temp__.orders_case_count_C as t1\n",
    "\n",
    "WHERE SEQ_NUM = 1\n",
    "\n",
    "GROUP BY t1.CASE_NUMBER,\n",
    "t1.Receipt_Date,\n",
    "t1.event_court;\n",
    "\n",
    "\"\"\"\n",
    "\n",
    "pydb.create_temp_table(create_orders_case_count_D,'orders_case_count_D');"
   ]
  },
  {
   "cell_type": "markdown",
   "id": "04b44a92-3692-44ff-ae3d-7b4b06f8ea7b",
   "metadata": {},
   "source": [
    "## 4. Dom_violence_Cases table "
   ]
  },
  {
   "cell_type": "code",
   "execution_count": 9,
   "id": "8678b22d-17c9-403a-9270-8d21c313d051",
   "metadata": {},
   "outputs": [],
   "source": [
    "create_Dom_Violence_Cases = f\"\"\"\n",
    "SELECT Year, Quarter, Event_court, count(*) as cases\n",
    "FROM __temp__.orders_case_count_D\n",
    "WHERE Year > 2010 and substring(case_number,5,1) = 'F'\n",
    "GROUP BY Year, Event_court, Quarter\n",
    "ORDER BY Year, Event_court, Quarter;\n",
    "\"\"\"\n",
    "\n",
    "pydb.create_temp_table(create_Dom_Violence_Cases,'Dom_Violence_Cases');"
   ]
  },
  {
   "cell_type": "markdown",
   "id": "1f62240c-f429-41a3-840f-4081ea1ec03e",
   "metadata": {},
   "source": [
    "## 5. Dom_violence_Merge table "
   ]
  },
  {
   "cell_type": "code",
   "execution_count": 10,
   "id": "25444012-55fc-4c93-b5bf-b59608001b6b",
   "metadata": {},
   "outputs": [],
   "source": [
    "create_Dom_Violence_Merge = f\"\"\"\n",
    "Select t1.Year,\n",
    "t1.Quarter,\n",
    "t1.Event_court,\n",
    "COALESCE(t1.Count, 0) as Count,\n",
    "COALESCE(t2.Cases, 0) as Cases,\n",
    "'Domestic Violence' as Category,\n",
    "'End' as Stage\n",
    "from __temp__.Dom_Violence_Orders t1\n",
    "FULL OUTER JOIN\n",
    "__temp__. Dom_Violence_Cases t2 \n",
    "on t1.Year = t2.Year AND t1.Quarter = t2.Quarter AND t1.Event_court = t2.Event_court\n",
    "WHERE NOT (t1.year = {latest_year} AND t1.quarter = {latest_quarter})\n",
    "\n",
    "\"\"\"\n",
    "\n",
    "pydb.create_temp_table(create_Dom_Violence_Merge,'Dom_Violence_Merge');"
   ]
  },
  {
   "cell_type": "code",
   "execution_count": 11,
   "id": "4afc6841-9529-40a9-891b-13eb4406428d",
   "metadata": {},
   "outputs": [],
   "source": [
    "#check = \"SELECT COUNT(*) as Count from __temp__.Dom_Violence_Merge\"\n",
    "#pydb.read_sql_query(check)"
   ]
  },
  {
   "cell_type": "markdown",
   "id": "63be58ab-0d43-4887-819e-45f6c801ba56",
   "metadata": {},
   "source": [
    "## 6. Dom_violence_Format table "
   ]
  },
  {
   "cell_type": "code",
   "execution_count": 12,
   "id": "39770e94-c97c-41e6-a468-e5c0973898de",
   "metadata": {},
   "outputs": [],
   "source": [
    "create_Dom_Violence_Format = f\"\"\"\n",
    "SELECT Category, \n",
    "Year, \n",
    "Quarter, \n",
    "Event_court as Court, \n",
    "Stage, \n",
    "Count,\n",
    "Cases\n",
    "FROM __temp__.Dom_Violence_Merge;\n",
    "\"\"\"\n",
    "\n",
    "pydb.create_temp_table(create_Dom_Violence_Format,'Dom_Violence_Format');\n",
    "\n",
    "\n",
    "df = pydb.read_sql_query(create_Dom_Violence_Format)\n",
    "df.to_csv(path_or_buf = 's3://alpha-family-data/CSVs/Domestic_Violence/dom_violence_format.csv',index=False)"
   ]
  },
  {
   "cell_type": "code",
   "execution_count": 13,
   "id": "972f88f7-7997-4f5c-bc26-b79a3fe50960",
   "metadata": {},
   "outputs": [],
   "source": [
    "#check = \"SELECT COUNT(*) as Count from __temp__.Dom_Violence_Format\"\n",
    "#pydb.read_sql_query(check)"
   ]
  },
  {
   "cell_type": "markdown",
   "id": "440cb3ef-534b-4be5-ade8-722c1e1b8fc9",
   "metadata": {},
   "source": [
    "## 7. Dom_violence_Apps_Orders table "
   ]
  },
  {
   "cell_type": "code",
   "execution_count": 14,
   "id": "71485d60-e73d-4574-b0ab-5c1163061e05",
   "metadata": {},
   "outputs": [],
   "source": [
    "create_Dom_Violence_Apps_Orders = f\"\"\"\n",
    "SELECT Year, Quarter, Event_court, count(*) as count\n",
    "FROM fcsq.DV_APPS_FINAL\n",
    "WHERE Year > 2010\n",
    "GROUP BY Year, Quarter, Event_court\n",
    "ORDER BY Year, Quarter, Event_court;\n",
    "\"\"\"\n",
    "\n",
    "pydb.create_temp_table(create_Dom_Violence_Apps_Orders,'Dom_Violence_Apps_Orders');"
   ]
  },
  {
   "cell_type": "code",
   "execution_count": 15,
   "id": "7c39dde0-e829-44e8-bedf-cb6b7d680797",
   "metadata": {},
   "outputs": [],
   "source": [
    "#check = \"SELECT COUNT(*) as Count from __temp__.Dom_Violence_Orders\"\n",
    "#pydb.read_sql_query(check)"
   ]
  },
  {
   "cell_type": "markdown",
   "id": "928a4047-f215-4f12-b66d-e26614146a6c",
   "metadata": {},
   "source": [
    "### Create the apps_orders_case_count_C temporary table"
   ]
  },
  {
   "cell_type": "code",
   "execution_count": 40,
   "id": "c91dbe4d-7138-4520-8fd1-232fe6720133",
   "metadata": {
    "scrolled": true
   },
   "outputs": [],
   "source": [
    "create_apps_orders_case_count_C = f\"\"\"\n",
    "SELECT *,\n",
    "ROW_NUMBER() OVER(PARTITION BY CASE_NUMBER\n",
    "ORDER BY CASE_NUMBER, RECEIPT_DATE ASC, EVENT ASC) AS SEQ_NUM\n",
    "FROM fcsq.DV_APPS_FINAL;\n",
    "\"\"\"\n",
    "\n",
    "pydb.create_temp_table(create_apps_orders_case_count_C,'apps_orders_case_count_C');"
   ]
  },
  {
   "cell_type": "markdown",
   "id": "1f154b49-1977-4359-bebe-9dd59837180e",
   "metadata": {},
   "source": [
    "### Create the apps_orders_case_count_D temporary table"
   ]
  },
  {
   "cell_type": "code",
   "execution_count": 42,
   "id": "92bf076c-6b08-434c-b14e-7b52d5f167c5",
   "metadata": {
    "scrolled": true
   },
   "outputs": [],
   "source": [
    "create_apps_orders_case_count_D = f\"\"\"\n",
    "SELECT\n",
    "t1.CASE_NUMBER, \n",
    "Year (t1.Receipt_Date) AS YEAR,\n",
    "CASE WHEN Month(t1.Receipt_Date)<4\n",
    "    THEN 1\n",
    "        WHEN Month(t1.Receipt_Date)<7\n",
    "        THEN 2\n",
    "            WHEN Month(t1.Receipt_Date)<10\n",
    "            THEN 3\n",
    "ELSE 4\n",
    "END AS Quarter,\n",
    "t1.Receipt_Date,\n",
    "t1.event_court\n",
    "\n",
    "FROM __temp__.apps_orders_case_count_C as t1\n",
    "\n",
    "WHERE SEQ_NUM = 1\n",
    "\n",
    "GROUP BY t1.CASE_NUMBER,\n",
    "t1.Receipt_Date,\n",
    "t1.event_court;\n",
    "\n",
    "\"\"\"\n",
    "\n",
    "pydb.create_temp_table(create_apps_orders_case_count_D,'apps_orders_case_count_D');"
   ]
  },
  {
   "cell_type": "markdown",
   "id": "fcc8923a-bd58-4ba6-8e45-9caa6b2f306d",
   "metadata": {},
   "source": [
    "## 8. Dom_violence_Apps_Cases table "
   ]
  },
  {
   "cell_type": "code",
   "execution_count": 18,
   "id": "f4b46d47-5a89-4151-a0af-edf0dd546903",
   "metadata": {},
   "outputs": [],
   "source": [
    "create_Dom_Violence_Apps_Cases = f\"\"\"\n",
    "SELECT Year, Quarter, Event_court, count(*) as cases\n",
    "FROM __temp__.apps_orders_case_count_D\n",
    "WHERE Year > 2010 and substring(case_number,5,1) = 'F'\n",
    "GROUP BY Year, Event_court, Quarter\n",
    "ORDER BY Year, Event_court, Quarter;\n",
    "\"\"\"\n",
    "\n",
    "pydb.create_temp_table(create_Dom_Violence_Apps_Cases,'Dom_Violence_Apps_Cases');"
   ]
  },
  {
   "cell_type": "markdown",
   "id": "00f791c3-9dd7-4fb4-8365-7c3b7eb5edd2",
   "metadata": {},
   "source": [
    "## 9. Dom_violence_Apps_Merge table "
   ]
  },
  {
   "cell_type": "code",
   "execution_count": 19,
   "id": "097d4108-edb5-4fcd-a726-1307bfba1225",
   "metadata": {},
   "outputs": [],
   "source": [
    "create_Dom_Violence_Apps_Merge = f\"\"\"\n",
    "Select t1.Year,\n",
    "t1.Quarter,\n",
    "t1.Event_court,\n",
    "COALESCE(t1.Count, 0) as Count,\n",
    "COALESCE(t2.Cases, 0) as Cases,\n",
    "'Domestic Violence' as Category,\n",
    "'Start' as Stage\n",
    "from __temp__.Dom_Violence_Apps_Orders t1\n",
    "FULL OUTER JOIN\n",
    "__temp__. Dom_Violence_Apps_Cases t2 \n",
    "on t1.Year = t2.Year AND t1.Quarter = t2.Quarter AND t1.Event_court = t2.Event_court\n",
    "WHERE NOT (t1.year = {latest_year} AND t1.quarter = {latest_quarter})\n",
    "\n",
    "\"\"\"\n",
    "\n",
    "pydb.create_temp_table(create_Dom_Violence_Apps_Merge,'Dom_Violence_Apps_Merge');"
   ]
  },
  {
   "cell_type": "code",
   "execution_count": 20,
   "id": "2b531256-5614-4b0b-9d7a-2e5756cf1844",
   "metadata": {},
   "outputs": [],
   "source": [
    "#check = \"SELECT COUNT(*) as Count from __temp__.Dom_Violence_Apps_Merge\"\n",
    "#pydb.read_sql_query(check)"
   ]
  },
  {
   "cell_type": "markdown",
   "id": "00eae228-e5cf-4e23-9bf4-3ccf214656d1",
   "metadata": {},
   "source": [
    "## 10. Dom_violence_Apps_Format table "
   ]
  },
  {
   "cell_type": "code",
   "execution_count": 21,
   "id": "b5c4522a-52df-4f71-a816-812c3e081358",
   "metadata": {},
   "outputs": [],
   "source": [
    "create_Dom_Violence_Apps_Format = f\"\"\"\n",
    "SELECT Category, \n",
    "Year, \n",
    "Quarter, \n",
    "Event_court as Court, \n",
    "Stage, \n",
    "Count,\n",
    "Cases\n",
    "FROM __temp__.Dom_Violence_Apps_Merge;\n",
    "\"\"\"\n",
    "\n",
    "pydb.create_temp_table(create_Dom_Violence_Apps_Format,'Dom_Violence_Apps_Format');\n",
    "\n",
    "\n",
    "df = pydb.read_sql_query(create_Dom_Violence_Apps_Format)\n",
    "df.to_csv(path_or_buf = 's3://alpha-family-data/CSVs/Domestic_Violence/dom_violence_Apps_format.csv',index=False)"
   ]
  },
  {
   "cell_type": "code",
   "execution_count": 22,
   "id": "51f30e78-9f96-4649-a680-d54237ab00f8",
   "metadata": {},
   "outputs": [],
   "source": [
    "#check = \"SELECT COUNT(*) as Count from __temp__.Dom_Violence_Apps_Format\"\n",
    "#pydb.read_sql_query(check)"
   ]
  },
  {
   "cell_type": "markdown",
   "id": "f57467b0-b530-4841-885f-42a26000c49b",
   "metadata": {},
   "source": [
    "# Stage 3 - Preparing the final output\n",
    "<a name=\"prepare_final_output\"></a>"
   ]
  },
  {
   "cell_type": "markdown",
   "id": "d832156c-1578-46fd-8b4c-018df39069da",
   "metadata": {
    "tags": []
   },
   "source": [
    "## 12. dv_court_level_append table - combines both _Applications_format and _Disposals_format tables\n",
    "<a name=\"dv_court_level_append\"></a>"
   ]
  },
  {
   "cell_type": "markdown",
   "id": "fb85f485-4a56-4df6-8608-123ab7d114a5",
   "metadata": {},
   "source": [
    "### Drop the dv_court_level_append table if it already exists and remove its data from the S3 bucket"
   ]
  },
  {
   "cell_type": "code",
   "execution_count": 23,
   "id": "b7c08f21-33c7-420e-8bc9-ce2091d28fae",
   "metadata": {
    "scrolled": true,
    "tags": []
   },
   "outputs": [],
   "source": [
    "drop_dv_court_level_append = f\"\"\"\n",
    "DROP TABLE IF EXISTS fcsq.dv_court_level_append;\n",
    "\"\"\"\n",
    "pydb.start_query_execution_and_wait(drop_dv_court_level_append)\n",
    "\n",
    "# clean up previous dv_court_level_append files\n",
    "bucket.objects.filter(Prefix=\"fcsq_processing/Domestic_Violence/dv_court_level_append/\").delete();"
   ]
  },
  {
   "cell_type": "markdown",
   "id": "a14c3be7-1044-4e4f-9c72-0b0d166c95e1",
   "metadata": {},
   "source": [
    "### Create the dv_court_level_append table in Athena"
   ]
  },
  {
   "cell_type": "code",
   "execution_count": 24,
   "id": "d8fff5de-505c-42dc-87e2-2620bacfb394",
   "metadata": {
    "scrolled": true
   },
   "outputs": [],
   "source": [
    "create_dv_court_level_append = f\"\"\"\n",
    "CREATE TABLE IF NOT EXISTS fcsq.dv_court_level_append \n",
    "WITH (format = 'PARQUET', external_location = 's3://alpha-family-data/fcsq_processing/Domestic_Violence/dv_court_level_append') AS\n",
    "SELECT * FROM __temp__.Dom_Violence_Apps_Format \n",
    "UNION \n",
    "SELECT * FROM __temp__.Dom_Violence_Format \n",
    "ORDER BY Year,Quarter,Court\n",
    "\"\"\"\n",
    "\n",
    "pydb.start_query_execution_and_wait(create_dv_court_level_append);"
   ]
  },
  {
   "cell_type": "markdown",
   "id": "dadc6968-96ad-4b3f-862e-04beefc3d9e0",
   "metadata": {},
   "source": [
    "#### dv_court_level_append validation"
   ]
  },
  {
   "cell_type": "code",
   "execution_count": 25,
   "id": "77797136-01ff-4e58-9a9d-066a5b024552",
   "metadata": {},
   "outputs": [],
   "source": [
    "#dv_court_level_append_count = pydb.read_sql_query(\"select * from __temp__.dv_court_level_append\")\n",
    "#dv_court_level_append_count"
   ]
  },
  {
   "cell_type": "markdown",
   "id": "8f788839-a6df-410e-80c0-71ff8926250c",
   "metadata": {
    "tags": []
   },
   "source": [
    "## 16. court_lookup table - creates a table with court information (e.g court codes and region)\n",
    "<a name=\"court_lookup\"></a>"
   ]
  },
  {
   "cell_type": "markdown",
   "id": "d275780f-aff9-41c0-ad21-4ff70b8f89ea",
   "metadata": {},
   "source": [
    "### Create the court_lookup temporary table"
   ]
  },
  {
   "cell_type": "code",
   "execution_count": 26,
   "id": "aaf3b2a2-409f-4192-9d68-ddc9a77d216f",
   "metadata": {
    "scrolled": true
   },
   "outputs": [],
   "source": [
    "create_court_lookup = f\"\"\"\n",
    "SELECT \n",
    "code,\n",
    "Region,\n",
    "Region_Pre2014,\n",
    "DFJ_New\n",
    "FROM fcsq.court_mv_feb21_dfj;\n",
    "\"\"\"\n",
    "\n",
    "pydb.create_temp_table(create_court_lookup,'court_lookup');"
   ]
  },
  {
   "cell_type": "markdown",
   "id": "0524ad56-6e72-4693-846b-5119869076bb",
   "metadata": {},
   "source": [
    "#### court_lookup validation"
   ]
  },
  {
   "cell_type": "code",
   "execution_count": 27,
   "id": "94166b53-ac3a-4a6a-93f0-aa0b39fa3ebc",
   "metadata": {},
   "outputs": [],
   "source": [
    "#court_lookup_count = pydb.read_sql_query(\"select * from __temp__.court_lookup\")\n",
    "#court_lookup_count"
   ]
  },
  {
   "cell_type": "markdown",
   "id": "f08b7d24-1a54-467e-9610-8313bf674b55",
   "metadata": {
    "tags": []
   },
   "source": [
    "## 17. court_level_merge table - joins both the dv_court_level_append and court_lookup tables\n",
    "<a name=\"court_level_merge\"></a>"
   ]
  },
  {
   "cell_type": "markdown",
   "id": "300b994d-666f-4c6a-b7c8-0f8270b70af9",
   "metadata": {},
   "source": [
    "### Drop the court_level_merge table if it already exists and remove its data from the S3 bucket"
   ]
  },
  {
   "cell_type": "code",
   "execution_count": 28,
   "id": "c6f31276-a4c8-4292-b910-f522bc0a3ddb",
   "metadata": {
    "scrolled": true,
    "tags": []
   },
   "outputs": [],
   "source": [
    "drop_court_level_merge = f\"\"\"\n",
    "DROP TABLE IF EXISTS fcsq.court_level_merge;\n",
    "\"\"\"\n",
    "pydb.start_query_execution_and_wait(drop_court_level_merge)\n",
    "\n",
    "# clean up previous court_level_merge files\n",
    "bucket.objects.filter(Prefix=\"fcsq_processing/Domestic_Violence/court_level_merge/\").delete();"
   ]
  },
  {
   "cell_type": "markdown",
   "id": "8dee66c9-0e82-4fce-9d70-1bc03cbc7e92",
   "metadata": {},
   "source": [
    "### Create the court_level_merge table in Athena"
   ]
  },
  {
   "cell_type": "code",
   "execution_count": 29,
   "id": "60df06b7-a762-4b02-a050-6003314ce5c3",
   "metadata": {
    "scrolled": true
   },
   "outputs": [],
   "source": [
    "create_court_level_merge = f\"\"\"\n",
    "CREATE TABLE IF NOT EXISTS fcsq.court_level_merge\n",
    "WITH (format = 'PARQUET', external_location = 's3://alpha-family-data/fcsq_processing/Domestic_Violence/court_level_merge') AS\n",
    "SELECT\n",
    "t1.Category,\n",
    "t1.Stage,\n",
    "t1.Year,\n",
    "t1.Quarter,\n",
    "t1.Count,\n",
    "t1.Cases,\n",
    "t2.DFJ_New,\n",
    "Case when Year < 2014 then t2.Region_Pre2014\n",
    "Else t2.Region\n",
    "End As Final_Region\n",
    "FROM \n",
    "fcsq.dv_court_level_append t1\n",
    "INNER JOIN\n",
    "__temp__.court_lookup t2\n",
    "ON CAST(t1.court as integer) = t2.code\n",
    "where CAST(t1.court as integer) in (SELECT code from __temp__.court_lookup);\n",
    "\"\"\"\n",
    "\n",
    "pydb.start_query_execution_and_wait(create_court_level_merge);"
   ]
  },
  {
   "cell_type": "markdown",
   "id": "3342ad46-c0aa-477e-b691-830b2f2032a3",
   "metadata": {},
   "source": [
    "#### court_level_merge validation"
   ]
  },
  {
   "cell_type": "code",
   "execution_count": 30,
   "id": "4484d0c2-5813-4177-a19b-3532f8d224e0",
   "metadata": {},
   "outputs": [],
   "source": [
    "#court_level_merge_count = pydb.read_sql_query(\"select * from __temp__.court_level_merge where year=2020 and quarter=3 and dfj_new='Carlisle DFJ' order by year,quarter,dfj_new\")\n",
    "#court_level_merge_count"
   ]
  },
  {
   "cell_type": "markdown",
   "id": "cb662156-2eb6-4eb5-9c25-c27e9b68271c",
   "metadata": {
    "tags": []
   },
   "source": [
    "## 18. court_level_sum table - this query calculates the total number of counts and cases in each quarter and region to produce the final DFJ csv output\n",
    "<a name=\"court_level_sum\"></a>"
   ]
  },
  {
   "cell_type": "markdown",
   "id": "aeffc9ee-5424-49c1-970a-094a5f160b14",
   "metadata": {},
   "source": [
    "### Create the court_level_sum temporary table "
   ]
  },
  {
   "cell_type": "code",
   "execution_count": 31,
   "id": "9e143f6d-cea2-40ac-9b13-8f0c8d3af673",
   "metadata": {
    "scrolled": true
   },
   "outputs": [],
   "source": [
    "csv_output_table = f\"\"\"\n",
    "SELECT\n",
    "Category,\n",
    "Stage,\n",
    "Year,\n",
    "Quarter,\n",
    "DFJ_New,\n",
    "Final_Region as region,\n",
    "SUM(count) as count,\n",
    "SUM(cases) as cases\n",
    "FROM fcsq.court_level_merge\n",
    "group by\n",
    "Category,\n",
    "Stage,\n",
    "Year,\n",
    "Quarter,\n",
    "DFJ_New,\n",
    "Final_Region;\n",
    "\"\"\"\n",
    "\n",
    "df = pydb.read_sql_query(csv_output_table)\n",
    "df.to_csv(path_or_buf = 's3://alpha-family-data/CSVs/Domestic_Violence/domestic_violence_dfj.csv',index=False)"
   ]
  },
  {
   "cell_type": "markdown",
   "id": "2e5bf5e8-e931-4ded-a238-382f090e8441",
   "metadata": {},
   "source": [
    "#### court_level_sum validation"
   ]
  },
  {
   "cell_type": "code",
   "execution_count": null,
   "id": "d08a1edb-9c0c-4971-94da-b2ebd7cebc94",
   "metadata": {
    "scrolled": true
   },
   "outputs": [],
   "source": [
    "court_level_sum_count = pydb.read_sql_query(\"select * from __temp__.court_level_sum ORDER BY Category,Year,Quarter,region,DFJ_New,Stage\")\n",
    "#court_level_sum_count"
   ]
  }
 ],
 "metadata": {
  "kernelspec": {
   "display_name": "venv",
   "language": "python",
   "name": "venv"
  },
  "language_info": {
   "codemirror_mode": {
    "name": "ipython",
    "version": 3
   },
   "file_extension": ".py",
   "mimetype": "text/x-python",
   "name": "python",
   "nbconvert_exporter": "python",
   "pygments_lexer": "ipython3",
   "version": "3.9.6"
  }
 },
 "nbformat": 4,
 "nbformat_minor": 5
}
