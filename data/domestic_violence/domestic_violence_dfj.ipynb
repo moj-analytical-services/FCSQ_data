{
 "cells": [
  {
   "cell_type": "markdown",
   "id": "52538669-0ee0-4e07-8013-caa2fd22cfd2",
   "metadata": {},
   "source": [
    "# Domestic Violence DFJ"
   ]
  },
  {
   "cell_type": "markdown",
   "id": "fa4c42d8-8cf8-4602-8317-78a2811a8793",
   "metadata": {},
   "source": [
    "## Contents\n",
    "#### Setup\n",
    "1. [import_packages](#import_packages) \n",
    "2. [define_key_variables](#define_key_variables) \n",
    "\n",
    "#### Stage 1 - [Orders](#orders)\n",
    "3. [dom_violence_orders](#Dom_violence_Orders) - filters by year>2010 and calculates the number of orders\n",
    "4. [orders_case_count_A](#orders_case_count_A) - finds the last order from each case number and court\n",
    "5. [orders_case_count_B](#orders_case_count_B) - \n",
    "6. [dom_violence_cases](#Dom_violence_Cases) - filters by year>2010 and produces the count of the last disposal from each case number and court\n",
    "7. [dom_violence_merge ](#Dom_violence_Merge) - joins both the Dom_Violence_Orders and Dom_Violence_Cases tables\n",
    "8. [dom_violence_format](#Dom_violence_Format) - formats Dom_violence_Merge table by ordering the columns and renaming column names\n",
    "\n",
    "#### Stage 2 - [Applications](#applications)\n",
    "9. [dom_violence_apps](#Dom_violence_Apps) - filters by year>2010 and calculates the number of applications\n",
    "10. [apps_case_count_C](#apps_case_count_C) - finds the first application from each case number and court\n",
    "11. [apps_case_count_D](#apps_case_count_D) - \n",
    "12. [dom_violence_apps_case](#Dom_violence_Apps_Case) - filters by year>2010 and produces the count of the first application from each case number and court\n",
    "13. [dom_violence_apps_merge](#Dom_violence_Apps_Merge) - joins both the Dom_violence_Apps and Dom_violence_Apps_Case tables\n",
    "14. [dom_violence_apps_format](#Dom_violence_Apps_Format) - formats Dom_violence_Apps_Merge table by ordering the columns and renaming column names\n",
    "\n",
    "#### Stage 3 - [Preparing the final output](#prepare_final_output)\n",
    "15. [dv_court_level_append](#dv_court_level_append) - combines both Dom_violence_Format and Dom_violence_Apps_Format tables\n",
    "16. [court_lookup](#court_lookup) - creates a table with court information (e.g court codes and region)\n",
    "17. [court_level_merge](#court_level_merge) - joins both the dv_court_level_append and court_lookup tables\n",
    "18. [domestic_violence_dfj](#domestic_violence_dfj) - this query calculates the total number of counts and cases in each quarter and region to produce the final DFJ csv output"
   ]
  },
  {
   "cell_type": "markdown",
   "id": "9948f3f1-7666-48db-8e70-43f571c3a3b2",
   "metadata": {},
   "source": [
    "## 1. Import packages and set options \n",
    "<a name=\"import_packages\"></a>"
   ]
  },
  {
   "cell_type": "code",
   "execution_count": null,
   "id": "a6c7e642-25f2-4fd0-99f0-1a408d109de7",
   "metadata": {},
   "outputs": [],
   "source": [
    "import pandas as pd  # a module which provides the data structures and functions to store and manipulate tables in dataframes\n",
    "import pydbtools as pydb  # A module which allows SQL queries to be run on the Analytical Platform from Python, see https://github.com/moj-analytical-services/pydbtools\n",
    "import boto3  # allows you to directly create, update, and delete AWS resources from Python scripts\n",
    "\n",
    "# sets parameters to view dataframes for tables easier\n",
    "pd.set_option(\"display.max_columns\", 100)\n",
    "pd.set_option(\"display.width\", 900)\n",
    "pd.set_option(\"display.max_colwidth\", 200)"
   ]
  },
  {
   "cell_type": "markdown",
   "id": "220a78c1-553e-4c95-85ce-d667924e5fe4",
   "metadata": {},
   "source": [
    "## 2. Define key variables to be used throughout the notebook \n",
    "<a name=\"define_key_variables\"></a>"
   ]
  },
  {
   "cell_type": "code",
   "execution_count": null,
   "id": "667c2254-ef8f-4df9-b6ed-33b2b9b0c825",
   "metadata": {},
   "outputs": [],
   "source": [
    "#this is the database we will be extracting from\n",
    "database = \"familyman_live_v4\" \n",
    "\n",
    "#this extracts the latest snapshot from athena\n",
    "get_snapshot_date = f\"SELECT mojap_snapshot_date from {database}.events order by mojap_snapshot_date desc limit 1\"\n",
    "snapshot_date = str(pydb.read_sql_query(get_snapshot_date)['mojap_snapshot_date'].values[0])\n",
    "\n",
    "#this extracts the November snapshot from athena\n",
    "#snapshot_date = '2022-11-09'\n",
    "\n",
    "#this is the athena database we will be storing our tables in\n",
    "fcsq_database = \"fcsq\"\n",
    "\n",
    "#this is the s3 bucket we will be saving data to\n",
    "s3 = boto3.resource(\"s3\")\n",
    "bucket = s3.Bucket(\"alpha-family-data\")\n",
    "\n",
    "#change these to the current quarter and year not the quarter being published\n",
    "latest_quarter = 3\n",
    "latest_year = 2023"
   ]
  },
  {
   "cell_type": "markdown",
   "id": "6853f670-2eed-497d-a56d-9d0ccb8f302a",
   "metadata": {},
   "source": [
    "# Stage 1 - Orders\n",
    "<a name=\"orders\"></a>"
   ]
  },
  {
   "cell_type": "markdown",
   "id": "17c33da4-684d-42d8-b8e1-b93b3bfaea1c",
   "metadata": {},
   "source": [
    "## 3. Dom_violence_Orders table - filters by year>2010 and calculates the number of orders\n",
    "<a name=\"Dom_violence_Orders\"></a>"
   ]
  },
  {
   "cell_type": "markdown",
   "id": "4b807354-6d76-4ff7-befe-081fd6cb3fa5",
   "metadata": {},
   "source": [
    "### Drop the Dom_violence_Orders table if it already exists and remove its data from the S3 bucket"
   ]
  },
  {
   "cell_type": "code",
   "execution_count": null,
   "id": "c87454ce-6d5f-4ccb-8b46-0093b0dbc47e",
   "metadata": {
    "tags": []
   },
   "outputs": [],
   "source": [
    "drop_Dom_violence_Orders = f\"\"\"\n",
    "DROP TABLE IF EXISTS fcsq.Dom_violence_Orders;\n",
    "\"\"\"\n",
    "pydb.start_query_execution_and_wait(drop_Dom_violence_Orders)\n",
    "\n",
    "# clean up previous Dom_violence_Orders files\n",
    "bucket.objects.filter(Prefix=\"fcsq_processing/Domestic_Violence/Dom_violence_Orders/\").delete();"
   ]
  },
  {
   "cell_type": "markdown",
   "id": "0401a560-f787-48bf-aa17-4361941277ae",
   "metadata": {},
   "source": [
    "### Create the Dom_violence_Orders table in Athena"
   ]
  },
  {
   "cell_type": "code",
   "execution_count": null,
   "id": "0339ed87-de0d-418a-88ea-7bd14e3ea03b",
   "metadata": {},
   "outputs": [],
   "source": [
    "create_Dom_violence_Orders = f\"\"\"\n",
    "CREATE TABLE IF NOT EXISTS fcsq.Dom_violence_Orders\n",
    "WITH (format = 'PARQUET', external_location = 's3://alpha-family-data/fcsq_processing/Domestic_Violence/Dom_violence_Orders') AS\n",
    "SELECT Year, Quarter, Event_court, count(*) as count\n",
    "FROM fcsq.DV_ORDS_FINAL\n",
    "WHERE Year > 2010\n",
    "GROUP BY Year, Quarter, Event_court\n",
    "ORDER BY Year, Quarter, Event_court;\n",
    "\"\"\"\n",
    "\n",
    "pydb.start_query_execution_and_wait(create_Dom_violence_Orders);"
   ]
  },
  {
   "cell_type": "markdown",
   "id": "1533ddc5-f172-4747-ae45-21c7eeb5f238",
   "metadata": {},
   "source": [
    "#### Dom_violence_Orders validation"
   ]
  },
  {
   "cell_type": "code",
   "execution_count": null,
   "id": "72bb8846-4f20-42c8-8a82-48d3fe9955bb",
   "metadata": {},
   "outputs": [],
   "source": [
    "#Dom_violence_Orders_count = pydb.read_sql_query(\"select count(*) as count from fcsq.Dom_violence_Orders\")\n",
    "#Dom_violence_Orders_count"
   ]
  },
  {
   "cell_type": "markdown",
   "id": "68b76371-321f-414f-a24c-863b4ebaed2f",
   "metadata": {
    "tags": []
   },
   "source": [
    "## 4. orders_case_count_A table - finds the last order from each case number and court \n",
    "<a name=\"orders_case_count_A\"></a>"
   ]
  },
  {
   "cell_type": "markdown",
   "id": "4faf26af-e43f-42f4-9b14-7be7ec94226c",
   "metadata": {},
   "source": [
    "### Create the orders_case_count_A temporary table"
   ]
  },
  {
   "cell_type": "code",
   "execution_count": null,
   "id": "3ac22c24-0a3d-4832-aa83-d5c13ac3f2be",
   "metadata": {},
   "outputs": [],
   "source": [
    "create_orders_case_count_A = f\"\"\"\n",
    "SELECT *,\n",
    "ROW_NUMBER() OVER(PARTITION BY CASE_NUMBER\n",
    "ORDER BY CASE_NUMBER, RECEIPT_DATE DESC, EVENT DESC) AS SEQ_NUM\n",
    "FROM fcsq.DV_ORDS_FINAL\n",
    "\"\"\"\n",
    "pydb.create_temp_table(create_orders_case_count_A,'orders_case_count_A');"
   ]
  },
  {
   "cell_type": "markdown",
   "id": "2a5ce7a3-c7ad-432e-b5d0-6cf935ff4507",
   "metadata": {
    "tags": []
   },
   "source": [
    "#### orders_case_count_A validation"
   ]
  },
  {
   "cell_type": "code",
   "execution_count": null,
   "id": "82be9b74-8c64-4f58-8488-90fe795defb5",
   "metadata": {
    "tags": []
   },
   "outputs": [],
   "source": [
    "#orders_case_count_A_count = pydb.read_sql_query(\"select count(*) as count from __temp__.orders_case_count_A\")\n",
    "#orders_case_count_A_count"
   ]
  },
  {
   "cell_type": "markdown",
   "id": "bffc3cef-b9b8-4cd3-ad67-b42e1e65e804",
   "metadata": {
    "tags": []
   },
   "source": [
    "## 5. orders_case_count_B table - \n",
    "<a name=\"orders_case_count_B\"></a>"
   ]
  },
  {
   "cell_type": "markdown",
   "id": "c3bc587e-55c4-478a-bb8a-406b882aebf5",
   "metadata": {},
   "source": [
    "### Create the orders_case_count_B temporary table"
   ]
  },
  {
   "cell_type": "code",
   "execution_count": null,
   "id": "536a2d52-eae8-471b-a9af-d57a961cab08",
   "metadata": {},
   "outputs": [],
   "source": [
    "create_orders_case_count_B = f\"\"\"\n",
    "SELECT\n",
    "t1.CASE_NUMBER, \n",
    "Year (t1.Receipt_Date) AS YEAR,\n",
    "CASE WHEN Month(t1.Receipt_Date)<4\n",
    "    THEN 1\n",
    "        WHEN Month(t1.Receipt_Date)<7\n",
    "        THEN 2\n",
    "            WHEN Month(t1.Receipt_Date)<10\n",
    "            THEN 3\n",
    "ELSE 4\n",
    "END AS Quarter,\n",
    "t1.Receipt_Date,\n",
    "t1.event_court\n",
    "\n",
    "FROM __temp__.orders_case_count_A as t1\n",
    "\n",
    "WHERE SEQ_NUM = 1\n",
    "\n",
    "GROUP BY t1.CASE_NUMBER,\n",
    "t1.Receipt_Date,\n",
    "t1.event_court;\n",
    "\n",
    "\"\"\"\n",
    "\n",
    "pydb.create_temp_table(create_orders_case_count_B,'orders_case_count_B');"
   ]
  },
  {
   "cell_type": "markdown",
   "id": "4cd31299-022c-422a-bfb3-e75d00d7332b",
   "metadata": {
    "tags": []
   },
   "source": [
    "#### orders_case_count_B validation"
   ]
  },
  {
   "cell_type": "code",
   "execution_count": null,
   "id": "3cbd92e3-9e55-468d-ba58-189833e4ff74",
   "metadata": {
    "tags": []
   },
   "outputs": [],
   "source": [
    "#orders_case_count_B_count = pydb.read_sql_query(\"select count(*) as count from __temp__.orders_case_count_B\")\n",
    "#orders_case_count_B_count"
   ]
  },
  {
   "cell_type": "markdown",
   "id": "04b44a92-3692-44ff-ae3d-7b4b06f8ea7b",
   "metadata": {},
   "source": [
    "## 6. Dom_violence_Cases table - filters by year>2010 and produces the count of the last order from each case number and court\n",
    "<a name=\"Dom_violence_Cases\"></a>"
   ]
  },
  {
   "cell_type": "markdown",
   "id": "0c736348-a0ed-48ae-8c3d-5ec0eb1255ab",
   "metadata": {},
   "source": [
    "### Drop the Dom_violence_Cases table if it already exists and remove its data from the S3 bucket"
   ]
  },
  {
   "cell_type": "code",
   "execution_count": null,
   "id": "c78896a5-eaa1-49d4-b2c5-6859057227f7",
   "metadata": {
    "tags": []
   },
   "outputs": [],
   "source": [
    "drop_Dom_violence_Cases = f\"\"\"\n",
    "DROP TABLE IF EXISTS fcsq.Dom_violence_Cases;\n",
    "\"\"\"\n",
    "pydb.start_query_execution_and_wait(drop_Dom_violence_Cases)\n",
    "\n",
    "# clean up previous Dom_violence_Cases files\n",
    "bucket.objects.filter(Prefix=\"fcsq_processing/Domestic_Violence/Dom_violence_Cases/\").delete();"
   ]
  },
  {
   "cell_type": "markdown",
   "id": "f242a161-47d2-4897-8eb5-b7d22b03a41d",
   "metadata": {},
   "source": [
    "### Create the Dom_violence_Cases table in Athena"
   ]
  },
  {
   "cell_type": "code",
   "execution_count": null,
   "id": "8678b22d-17c9-403a-9270-8d21c313d051",
   "metadata": {},
   "outputs": [],
   "source": [
    "create_Dom_violence_Cases = f\"\"\"\n",
    "CREATE TABLE IF NOT EXISTS fcsq.Dom_violence_Cases\n",
    "WITH (format = 'PARQUET', external_location = 's3://alpha-family-data/fcsq_processing/Domestic_Violence/Dom_violence_Cases') AS\n",
    "SELECT Year, Quarter, Event_court, count(*) as cases\n",
    "FROM __temp__.orders_case_count_B\n",
    "WHERE Year > 2010 and substring(case_number,5,1) = 'F'\n",
    "GROUP BY Year, Event_court, Quarter\n",
    "ORDER BY Year, Event_court, Quarter;\n",
    "\"\"\"\n",
    "\n",
    "pydb.start_query_execution_and_wait(create_Dom_violence_Cases);"
   ]
  },
  {
   "cell_type": "markdown",
   "id": "1b32ebaf-c6cc-47bf-9be2-69f993e21a06",
   "metadata": {},
   "source": [
    "#### Dom_violence_Cases validation"
   ]
  },
  {
   "cell_type": "code",
   "execution_count": null,
   "id": "74813c89-6074-4c2c-87cf-25e89c4d77dd",
   "metadata": {},
   "outputs": [],
   "source": [
    "#Dom_violence_Cases_count = pydb.read_sql_query(\"select count(*) as count from fcsq.Dom_violence_Cases\")\n",
    "#Dom_violence_Cases_count"
   ]
  },
  {
   "cell_type": "markdown",
   "id": "1f62240c-f429-41a3-840f-4081ea1ec03e",
   "metadata": {},
   "source": [
    "## 7. Dom_violence_Merge table - joins both the Dom_violence_Orders and Dom_violence_Cases tables\n",
    "<a name=\"Dom_violence_Merge\"></a>"
   ]
  },
  {
   "cell_type": "markdown",
   "id": "775bec9d-d0f6-4423-9c64-4163a432b3d1",
   "metadata": {},
   "source": [
    "### Drop the Dom_violence_Merge table if it already exists and remove its data from the S3 bucket"
   ]
  },
  {
   "cell_type": "code",
   "execution_count": null,
   "id": "8ee5a2bf-3365-4c3a-984e-50831033b60e",
   "metadata": {
    "tags": []
   },
   "outputs": [],
   "source": [
    "drop_Dom_violence_Merge = f\"\"\"\n",
    "DROP TABLE IF EXISTS fcsq.Dom_violence_Merge;\n",
    "\"\"\"\n",
    "pydb.start_query_execution_and_wait(drop_Dom_violence_Merge)\n",
    "\n",
    "# clean up previous Dom_violence_Merge files\n",
    "bucket.objects.filter(Prefix=\"fcsq_processing/Domestic_Violence/Dom_violence_Merge/\").delete();"
   ]
  },
  {
   "cell_type": "markdown",
   "id": "21d7e7bc-964b-4bdb-b2a1-d964d18076ad",
   "metadata": {},
   "source": [
    "### Create the Dom_violence_Merge table in Athena"
   ]
  },
  {
   "cell_type": "code",
   "execution_count": null,
   "id": "25444012-55fc-4c93-b5bf-b59608001b6b",
   "metadata": {},
   "outputs": [],
   "source": [
    "create_Dom_violence_Merge = f\"\"\"\n",
    "CREATE TABLE IF NOT EXISTS fcsq.Dom_violence_Merge \n",
    "WITH (format = 'PARQUET', external_location = 's3://alpha-family-data/fcsq_processing/Domestic_Violence/Dom_violence_Merge') AS\n",
    "Select t1.Year,\n",
    "t1.Quarter,\n",
    "t1.Event_court,\n",
    "COALESCE(t1.Count, 0) as Count,\n",
    "COALESCE(t2.Cases, 0) as Cases,\n",
    "'Domestic Violence' as Category,\n",
    "'End' as Stage\n",
    "from fcsq.Dom_violence_Orders t1\n",
    "FULL OUTER JOIN\n",
    "fcsq.Dom_violence_Cases t2 \n",
    "on t1.Year = t2.Year AND t1.Quarter = t2.Quarter AND t1.Event_court = t2.Event_court\n",
    "WHERE NOT (t1.year = {latest_year} AND t1.quarter = {latest_quarter})\n",
    "\n",
    "\"\"\"\n",
    "\n",
    "pydb.start_query_execution_and_wait(create_Dom_violence_Merge);"
   ]
  },
  {
   "cell_type": "code",
   "execution_count": null,
   "id": "4afc6841-9529-40a9-891b-13eb4406428d",
   "metadata": {},
   "outputs": [],
   "source": [
    "#Dom_violence_Merge_count = \"SELECT COUNT(*) as Count from fcsq.Dom_violence_Merge\"\n",
    "#Dom_violence_Merge_count"
   ]
  },
  {
   "cell_type": "markdown",
   "id": "63be58ab-0d43-4887-819e-45f6c801ba56",
   "metadata": {},
   "source": [
    "## 8. Dom_violence_Format table - formats Dom_violence_Merge table by ordering the columns and renaming column names"
   ]
  },
  {
   "cell_type": "markdown",
   "id": "a0d0983c-22ec-4035-ac37-85ba83598b7f",
   "metadata": {},
   "source": [
    "### Create the Dom_violence_Format temporary table"
   ]
  },
  {
   "cell_type": "code",
   "execution_count": null,
   "id": "39770e94-c97c-41e6-a468-e5c0973898de",
   "metadata": {},
   "outputs": [],
   "source": [
    "create_Dom_violence_Format = f\"\"\"\n",
    "SELECT Category, \n",
    "Year, \n",
    "Quarter, \n",
    "Event_court as Court, \n",
    "Stage, \n",
    "Count,\n",
    "Cases\n",
    "FROM fcsq.Dom_violence_Merge;\n",
    "\"\"\"\n",
    "\n",
    "pydb.create_temp_table(create_Dom_violence_Format,'Dom_violence_Format');"
   ]
  },
  {
   "cell_type": "code",
   "execution_count": null,
   "id": "972f88f7-7997-4f5c-bc26-b79a3fe50960",
   "metadata": {},
   "outputs": [],
   "source": [
    "#Dom_violence_Format_count = \"SELECT COUNT(*) as Count from __temp__.Dom_violence_Format\"\n",
    "#Dom_violence_Format_count"
   ]
  },
  {
   "cell_type": "markdown",
   "id": "7e3adbce-c549-4c35-b5a7-02bc211e5fe5",
   "metadata": {},
   "source": [
    "# Stage 2 - Applications\n",
    "<a name=\"applications\"></a>"
   ]
  },
  {
   "cell_type": "markdown",
   "id": "440cb3ef-534b-4be5-ade8-722c1e1b8fc9",
   "metadata": {},
   "source": [
    "## 9. Dom_violence_Apps table - filters by year>2010 and calculates the number of applications\n",
    "<a name=\"Dom_violence_Apps\"></a>"
   ]
  },
  {
   "cell_type": "markdown",
   "id": "dea8304d-6bda-492e-8ab6-cd63ba5a1e79",
   "metadata": {},
   "source": [
    "### Drop the Dom_violence_Apps table if it already exists and remove its data from the S3 bucket"
   ]
  },
  {
   "cell_type": "code",
   "execution_count": null,
   "id": "6eb74f12-2b21-42f8-87d7-6197fa71a0e2",
   "metadata": {
    "tags": []
   },
   "outputs": [],
   "source": [
    "drop_Dom_violence_Apps = f\"\"\"\n",
    "DROP TABLE IF EXISTS fcsq.Dom_violence_Apps;\n",
    "\"\"\"\n",
    "pydb.start_query_execution_and_wait(drop_Dom_violence_Apps)\n",
    "\n",
    "# clean up previous Dom_violence_Apps files\n",
    "bucket.objects.filter(Prefix=\"fcsq_processing/Domestic_Violence/Dom_violence_Apps/\").delete();"
   ]
  },
  {
   "cell_type": "markdown",
   "id": "efed1278-c5f5-4f2a-8d4b-3db16306d953",
   "metadata": {},
   "source": [
    "### Create the Dom_violence_Apps table in Athena"
   ]
  },
  {
   "cell_type": "code",
   "execution_count": null,
   "id": "71485d60-e73d-4574-b0ab-5c1163061e05",
   "metadata": {},
   "outputs": [],
   "source": [
    "create_Dom_violence_Apps = f\"\"\"\n",
    "CREATE TABLE IF NOT EXISTS fcsq.Dom_violence_Apps\n",
    "WITH (format = 'PARQUET', external_location = 's3://alpha-family-data/fcsq_processing/Domestic_Violence/Dom_violence_Apps') AS\n",
    "SELECT distinct Year, Quarter, Event_court, count(*) as count\n",
    "FROM (SELECT distinct Year, Quarter, Event_court, event\n",
    "FROM fcsq.DV_APPS_FINAL\n",
    "WHERE Year > 2010)\n",
    "GROUP BY Year, Quarter, Event_court\n",
    "ORDER BY Year, Quarter, Event_court;\n",
    "\"\"\"\n",
    "\n",
    "pydb.start_query_execution_and_wait(create_Dom_violence_Apps);"
   ]
  },
  {
   "cell_type": "markdown",
   "id": "9b404379-8f3f-4fce-b236-505ca5d10aa5",
   "metadata": {},
   "source": [
    "#### Dom_violence_Apps validation"
   ]
  },
  {
   "cell_type": "code",
   "execution_count": null,
   "id": "7c39dde0-e829-44e8-bedf-cb6b7d680797",
   "metadata": {},
   "outputs": [],
   "source": [
    "#Dom_violence_Apps_count = \"SELECT COUNT(*) as Count from fcsq.Dom_Violence_Apps\"\n",
    "#Dom_violence_Apps_count"
   ]
  },
  {
   "cell_type": "markdown",
   "id": "7af5358d-9158-4157-8f42-53f68fd5c273",
   "metadata": {
    "tags": []
   },
   "source": [
    "## 10. apps_case_count_C table - finds the first application from each case number and court\n",
    "<a name=\"apps_case_count_C\"></a>"
   ]
  },
  {
   "cell_type": "markdown",
   "id": "928a4047-f215-4f12-b66d-e26614146a6c",
   "metadata": {},
   "source": [
    "### Create the apps_orders_case_count_C temporary table"
   ]
  },
  {
   "cell_type": "code",
   "execution_count": null,
   "id": "c91dbe4d-7138-4520-8fd1-232fe6720133",
   "metadata": {},
   "outputs": [],
   "source": [
    "create_apps_case_count_C = f\"\"\"\n",
    "SELECT *,\n",
    "ROW_NUMBER() OVER(PARTITION BY CASE_NUMBER\n",
    "ORDER BY CASE_NUMBER, RECEIPT_DATE ASC, EVENT ASC) AS SEQ_NUM\n",
    "FROM fcsq.DV_APPS_FINAL;\n",
    "\"\"\"\n",
    "\n",
    "pydb.create_temp_table(create_apps_case_count_C,'apps_case_count_C');"
   ]
  },
  {
   "cell_type": "markdown",
   "id": "b2647711-2ee1-4097-83a2-4100d939b1ed",
   "metadata": {},
   "source": [
    "#### apps_case_count_C validation"
   ]
  },
  {
   "cell_type": "code",
   "execution_count": null,
   "id": "bf7fcf2d-45d6-4312-bd70-2285178622b2",
   "metadata": {},
   "outputs": [],
   "source": [
    "#apps_case_count_C_count = pydb.read_sql_query(\"select count(*) as count from __temp__.apps_case_count_C\")\n",
    "#apps_case_count_C_count"
   ]
  },
  {
   "cell_type": "markdown",
   "id": "1f0ff8ed-1f43-4fa0-ab10-8d13643e3bc5",
   "metadata": {},
   "source": [
    "## 11. apps_case_count_D table - \n",
    "<a name=\"apps_case_count_D\"></a>"
   ]
  },
  {
   "cell_type": "markdown",
   "id": "1f154b49-1977-4359-bebe-9dd59837180e",
   "metadata": {},
   "source": [
    "### Create the apps_case_count_D temporary table"
   ]
  },
  {
   "cell_type": "code",
   "execution_count": null,
   "id": "92bf076c-6b08-434c-b14e-7b52d5f167c5",
   "metadata": {},
   "outputs": [],
   "source": [
    "create_apps_case_count_D = f\"\"\"\n",
    "SELECT\n",
    "t1.CASE_NUMBER, \n",
    "Year (t1.Receipt_Date) AS YEAR,\n",
    "CASE WHEN Month(t1.Receipt_Date)<4\n",
    "    THEN 1\n",
    "        WHEN Month(t1.Receipt_Date)<7\n",
    "        THEN 2\n",
    "            WHEN Month(t1.Receipt_Date)<10\n",
    "            THEN 3\n",
    "ELSE 4\n",
    "END AS Quarter,\n",
    "t1.Receipt_Date,\n",
    "t1.event_court\n",
    "\n",
    "FROM __temp__.apps_case_count_C as t1\n",
    "\n",
    "WHERE SEQ_NUM = 1\n",
    "\n",
    "GROUP BY t1.CASE_NUMBER,\n",
    "t1.Receipt_Date,\n",
    "t1.event_court;\n",
    "\n",
    "\"\"\"\n",
    "\n",
    "pydb.create_temp_table(create_apps_case_count_D,'apps_case_count_D');"
   ]
  },
  {
   "cell_type": "markdown",
   "id": "9e8e29f2-b5a0-424d-9aac-165de6b92c4e",
   "metadata": {},
   "source": [
    "#### apps_case_count_D validation"
   ]
  },
  {
   "cell_type": "code",
   "execution_count": null,
   "id": "0186c280-6527-4f04-bbef-b625d96a5f50",
   "metadata": {},
   "outputs": [],
   "source": [
    "#apps_case_count_D_count = pydb.read_sql_query(\"select count(*) as count from __temp__.apps_case_count_D\")\n",
    "#apps_case_count_D_count"
   ]
  },
  {
   "cell_type": "markdown",
   "id": "fcc8923a-bd58-4ba6-8e45-9caa6b2f306d",
   "metadata": {},
   "source": [
    "## 12. Dom_violence_Apps_Cases table - filters by year>2010 and produces the count of the first application from each case number and court\n",
    "<a name=\"Dom_violence_Apps_Cases\"></a>"
   ]
  },
  {
   "cell_type": "markdown",
   "id": "cca1eb32-461e-4e99-b4e6-9d5dd3154db5",
   "metadata": {},
   "source": [
    "### Drop the Dom_violence_Apps_Cases table if it already exists and remove its data from the S3 bucket"
   ]
  },
  {
   "cell_type": "code",
   "execution_count": null,
   "id": "49075a25-9b8a-49eb-abad-17f05ebac4b7",
   "metadata": {
    "tags": []
   },
   "outputs": [],
   "source": [
    "drop_Dom_violence_Apps_Cases = f\"\"\"\n",
    "DROP TABLE IF EXISTS fcsq.Dom_violence_Apps_Cases;\n",
    "\"\"\"\n",
    "pydb.start_query_execution_and_wait(drop_Dom_violence_Apps_Cases)\n",
    "\n",
    "# clean up previous Dom_violence_Apps_Cases files\n",
    "bucket.objects.filter(Prefix=\"fcsq_processing/Domestic_Violence/Dom_violence_Apps_Cases/\").delete();"
   ]
  },
  {
   "cell_type": "markdown",
   "id": "01b374da-ae42-4a48-86df-8b908bb39c0e",
   "metadata": {},
   "source": [
    "### Create the Dom_violence_Apps_Cases table in Athena"
   ]
  },
  {
   "cell_type": "code",
   "execution_count": null,
   "id": "f4b46d47-5a89-4151-a0af-edf0dd546903",
   "metadata": {},
   "outputs": [],
   "source": [
    "create_Dom_violence_Apps_Cases = f\"\"\"\n",
    "CREATE TABLE IF NOT EXISTS fcsq.Dom_violence_Apps_Cases\n",
    "WITH (format = 'PARQUET', external_location = 's3://alpha-family-data/fcsq_processing/Domestic_Violence/Dom_violence_Apps_Cases') AS\n",
    "SELECT Year, Quarter, Event_court, count(*) as cases\n",
    "FROM __temp__.apps_case_count_D\n",
    "WHERE Year > 2010 and substring(case_number,5,1) = 'F'\n",
    "GROUP BY Year, Event_court, Quarter\n",
    "ORDER BY Year, Event_court, Quarter;\n",
    "\"\"\"\n",
    "\n",
    "pydb.start_query_execution_and_wait(create_Dom_violence_Apps_Cases);"
   ]
  },
  {
   "cell_type": "markdown",
   "id": "8e85f942-8959-4ed4-8e34-abfde6b9e14b",
   "metadata": {},
   "source": [
    "#### Dom_violence_Apps_Cases validation"
   ]
  },
  {
   "cell_type": "code",
   "execution_count": null,
   "id": "55449a70-29d0-4d90-8f5b-2162670c9fa6",
   "metadata": {},
   "outputs": [],
   "source": [
    "#Dom_violence_Apps_Cases_count = pydb.read_sql_query(\"select count(*) as count from fcsq.Dom_violence_Apps_Cases\")\n",
    "#Dom_violence_Apps_Cases_count"
   ]
  },
  {
   "cell_type": "markdown",
   "id": "00f791c3-9dd7-4fb4-8365-7c3b7eb5edd2",
   "metadata": {},
   "source": [
    "## 13. Dom_violence_Apps_Merge table - joins both the Dom_violence_Apps and Dom_violence_Apps_Cases tables\n",
    "<a name=\"Dom_violence_Apps_Merge\"></a>"
   ]
  },
  {
   "cell_type": "markdown",
   "id": "15582403-8c2e-4336-9ae0-6675de5559a8",
   "metadata": {},
   "source": [
    "### Drop the Dom_violence_Apps_Merge table if it already exists and remove its data from the S3 bucket"
   ]
  },
  {
   "cell_type": "code",
   "execution_count": null,
   "id": "5d06aa3b-9a46-45f5-b4ea-3cad7c27df5b",
   "metadata": {
    "tags": []
   },
   "outputs": [],
   "source": [
    "drop_Dom_violence_Apps_Merge = f\"\"\"\n",
    "DROP TABLE IF EXISTS fcsq.Dom_violence_Apps_Merge;\n",
    "\"\"\"\n",
    "pydb.start_query_execution_and_wait(drop_Dom_violence_Apps_Merge)\n",
    "\n",
    "# clean up previous Dom_violence_Apps_Merge files\n",
    "bucket.objects.filter(Prefix=\"fcsq_processing/Domestic_Violence/Dom_violence_Apps_Merge/\").delete();"
   ]
  },
  {
   "cell_type": "markdown",
   "id": "5ee7e5d3-7444-4965-bb8f-b13684eb6b64",
   "metadata": {},
   "source": [
    "### Create the Dom_violence_Apps_Merge table in Athena"
   ]
  },
  {
   "cell_type": "code",
   "execution_count": null,
   "id": "097d4108-edb5-4fcd-a726-1307bfba1225",
   "metadata": {},
   "outputs": [],
   "source": [
    "create_Dom_violence_Apps_Merge = f\"\"\"\n",
    "CREATE TABLE IF NOT EXISTS fcsq.Dom_violence_Apps_Merge\n",
    "WITH (format = 'PARQUET', external_location = 's3://alpha-family-data/fcsq_processing/Domestic_Violence/Dom_violence_Apps_Merge') AS\n",
    "Select t1.Year,\n",
    "t1.Quarter,\n",
    "t1.Event_court,\n",
    "COALESCE(t1.Count, 0) as Count,\n",
    "COALESCE(t2.Cases, 0) as Cases,\n",
    "'Domestic Violence' as Category,\n",
    "'Start' as Stage\n",
    "from fcsq.Dom_violence_Apps t1\n",
    "FULL OUTER JOIN\n",
    "fcsq.Dom_violence_Apps_Cases t2 \n",
    "on t1.Year = t2.Year AND t1.Quarter = t2.Quarter AND t1.Event_court = t2.Event_court\n",
    "WHERE NOT (t1.year = {latest_year} AND t1.quarter = {latest_quarter})\n",
    "\n",
    "\"\"\"\n",
    "\n",
    "pydb.start_query_execution_and_wait(create_Dom_violence_Apps_Merge);"
   ]
  },
  {
   "cell_type": "markdown",
   "id": "aa1edf14-3b9d-4dc7-9d63-dd766e76090e",
   "metadata": {},
   "source": [
    "#### Dom_violence_Apps_Merge validation"
   ]
  },
  {
   "cell_type": "code",
   "execution_count": null,
   "id": "2b531256-5614-4b0b-9d7a-2e5756cf1844",
   "metadata": {},
   "outputs": [],
   "source": [
    "#Dom_violence_Apps_Merge_count = \"SELECT COUNT(*) as Count from fcsq.Dom_violence_Apps_Merge\"\n",
    "#Dom_violence_Apps_Merge_count"
   ]
  },
  {
   "cell_type": "markdown",
   "id": "00eae228-e5cf-4e23-9bf4-3ccf214656d1",
   "metadata": {},
   "source": [
    "## 14. Dom_violence_Apps_Format table - formats Dom_Violence_Apps_Merge table by ordering the columns and renaming column names\n",
    "<a name=\"Dom_violence_Apps_Format\"></a>"
   ]
  },
  {
   "cell_type": "markdown",
   "id": "b6bc0d0d-f9e2-4a4e-b5d8-19cbc9614ff9",
   "metadata": {},
   "source": [
    "### Create the Dom_violence_Apps_Format_count temporary table"
   ]
  },
  {
   "cell_type": "code",
   "execution_count": null,
   "id": "b5c4522a-52df-4f71-a816-812c3e081358",
   "metadata": {},
   "outputs": [],
   "source": [
    "create_Dom_violence_Apps_Format = f\"\"\"\n",
    "SELECT Category, \n",
    "Year, \n",
    "Quarter, \n",
    "Event_court as Court, \n",
    "Stage, \n",
    "Count,\n",
    "Cases\n",
    "FROM fcsq.Dom_Violence_Apps_Merge;\n",
    "\"\"\"\n",
    "\n",
    "pydb.create_temp_table(create_Dom_violence_Apps_Format,'Dom_violence_Apps_Format');"
   ]
  },
  {
   "cell_type": "markdown",
   "id": "4bd09c4b-fee8-46d4-a8b3-774e4860084c",
   "metadata": {},
   "source": [
    "#### Dom_violence_Apps_Format validation"
   ]
  },
  {
   "cell_type": "code",
   "execution_count": null,
   "id": "51f30e78-9f96-4649-a680-d54237ab00f8",
   "metadata": {},
   "outputs": [],
   "source": [
    "#Dom_violence_Apps_Format_count = \"SELECT COUNT(*) as Count from __temp__.Dom_violence_Apps_Format\"\n",
    "#Dom_violence_Apps_Format_count"
   ]
  },
  {
   "cell_type": "markdown",
   "id": "f57467b0-b530-4841-885f-42a26000c49b",
   "metadata": {},
   "source": [
    "# Stage 3 - Preparing the final output\n",
    "<a name=\"prepare_final_output\"></a>"
   ]
  },
  {
   "cell_type": "markdown",
   "id": "d832156c-1578-46fd-8b4c-018df39069da",
   "metadata": {
    "tags": []
   },
   "source": [
    "## 15. dv_court_level_append table - combines both Dom_violence_Format and Dom_violence_Apps_Format tables\n",
    "<a name=\"dv_court_level_append\"></a>"
   ]
  },
  {
   "cell_type": "markdown",
   "id": "fb85f485-4a56-4df6-8608-123ab7d114a5",
   "metadata": {},
   "source": [
    "### Drop the dv_court_level_append table if it already exists and remove its data from the S3 bucket"
   ]
  },
  {
   "cell_type": "code",
   "execution_count": null,
   "id": "b7c08f21-33c7-420e-8bc9-ce2091d28fae",
   "metadata": {
    "tags": []
   },
   "outputs": [],
   "source": [
    "drop_dv_court_level_append = f\"\"\"\n",
    "DROP TABLE IF EXISTS fcsq.dv_court_level_append;\n",
    "\"\"\"\n",
    "pydb.start_query_execution_and_wait(drop_dv_court_level_append)\n",
    "\n",
    "# clean up previous dv_court_level_append files\n",
    "bucket.objects.filter(Prefix=\"fcsq_processing/Domestic_Violence/dv_court_level_append/\").delete();"
   ]
  },
  {
   "cell_type": "markdown",
   "id": "a14c3be7-1044-4e4f-9c72-0b0d166c95e1",
   "metadata": {},
   "source": [
    "### Create the dv_court_level_append table in Athena"
   ]
  },
  {
   "cell_type": "code",
   "execution_count": null,
   "id": "d8fff5de-505c-42dc-87e2-2620bacfb394",
   "metadata": {},
   "outputs": [],
   "source": [
    "create_dv_court_level_append = f\"\"\"\n",
    "CREATE TABLE IF NOT EXISTS fcsq.dv_court_level_append \n",
    "WITH (format = 'PARQUET', external_location = 's3://alpha-family-data/fcsq_processing/Domestic_Violence/dv_court_level_append') AS\n",
    "SELECT * FROM __temp__.Dom_Violence_Apps_Format \n",
    "UNION \n",
    "SELECT * FROM __temp__.Dom_Violence_Format \n",
    "ORDER BY Year,Quarter,Court\n",
    "\"\"\"\n",
    "\n",
    "pydb.start_query_execution_and_wait(create_dv_court_level_append);"
   ]
  },
  {
   "cell_type": "markdown",
   "id": "dadc6968-96ad-4b3f-862e-04beefc3d9e0",
   "metadata": {},
   "source": [
    "#### dv_court_level_append validation"
   ]
  },
  {
   "cell_type": "code",
   "execution_count": null,
   "id": "77797136-01ff-4e58-9a9d-066a5b024552",
   "metadata": {},
   "outputs": [],
   "source": [
    "#dv_court_level_append_count = pydb.read_sql_query(\"select * from __temp__.dv_court_level_append\")\n",
    "#dv_court_level_append_count"
   ]
  },
  {
   "cell_type": "markdown",
   "id": "8f788839-a6df-410e-80c0-71ff8926250c",
   "metadata": {
    "tags": []
   },
   "source": [
    "## 16. court_lookup table - creates a table with court information (e.g court codes and region)\n",
    "<a name=\"court_lookup\"></a>"
   ]
  },
  {
   "cell_type": "markdown",
   "id": "d275780f-aff9-41c0-ad21-4ff70b8f89ea",
   "metadata": {},
   "source": [
    "### Create the court_lookup temporary table"
   ]
  },
  {
   "cell_type": "code",
   "execution_count": null,
   "id": "aaf3b2a2-409f-4192-9d68-ddc9a77d216f",
   "metadata": {},
   "outputs": [],
   "source": [
    "create_court_lookup = f\"\"\"\n",
    "SELECT \n",
    "code,\n",
    "Region,\n",
    "Region_Pre2014,\n",
    "DFJ_New\n",
    "FROM fcsq.court_mv_feb21_dfj;\n",
    "\"\"\"\n",
    "\n",
    "pydb.create_temp_table(create_court_lookup,'court_lookup');"
   ]
  },
  {
   "cell_type": "markdown",
   "id": "0524ad56-6e72-4693-846b-5119869076bb",
   "metadata": {},
   "source": [
    "#### court_lookup validation"
   ]
  },
  {
   "cell_type": "code",
   "execution_count": null,
   "id": "94166b53-ac3a-4a6a-93f0-aa0b39fa3ebc",
   "metadata": {},
   "outputs": [],
   "source": [
    "#court_lookup_count = pydb.read_sql_query(\"select * from __temp__.court_lookup\")\n",
    "#court_lookup_count"
   ]
  },
  {
   "cell_type": "markdown",
   "id": "f08b7d24-1a54-467e-9610-8313bf674b55",
   "metadata": {
    "tags": []
   },
   "source": [
    "## 17. court_level_merge table - joins both the dv_court_level_append and court_lookup tables\n",
    "<a name=\"court_level_merge\"></a>"
   ]
  },
  {
   "cell_type": "markdown",
   "id": "300b994d-666f-4c6a-b7c8-0f8270b70af9",
   "metadata": {},
   "source": [
    "### Drop the court_level_merge table if it already exists and remove its data from the S3 bucket"
   ]
  },
  {
   "cell_type": "code",
   "execution_count": null,
   "id": "c6f31276-a4c8-4292-b910-f522bc0a3ddb",
   "metadata": {
    "tags": []
   },
   "outputs": [],
   "source": [
    "drop_court_level_merge = f\"\"\"\n",
    "DROP TABLE IF EXISTS fcsq.court_level_merge;\n",
    "\"\"\"\n",
    "pydb.start_query_execution_and_wait(drop_court_level_merge)\n",
    "\n",
    "# clean up previous court_level_merge files\n",
    "bucket.objects.filter(Prefix=\"fcsq_processing/Domestic_Violence/court_level_merge/\").delete();"
   ]
  },
  {
   "cell_type": "markdown",
   "id": "8dee66c9-0e82-4fce-9d70-1bc03cbc7e92",
   "metadata": {},
   "source": [
    "### Create the court_level_merge table in Athena"
   ]
  },
  {
   "cell_type": "code",
   "execution_count": null,
   "id": "60df06b7-a762-4b02-a050-6003314ce5c3",
   "metadata": {},
   "outputs": [],
   "source": [
    "create_court_level_merge = f\"\"\"\n",
    "CREATE TABLE IF NOT EXISTS fcsq.court_level_merge\n",
    "WITH (format = 'PARQUET', external_location = 's3://alpha-family-data/fcsq_processing/Domestic_Violence/court_level_merge') AS\n",
    "SELECT\n",
    "t1.Category,\n",
    "t1.Stage,\n",
    "t1.Year,\n",
    "t1.Quarter,\n",
    "t1.Count,\n",
    "t1.Cases,\n",
    "t2.DFJ_New,\n",
    "Case when Year < 2014 then t2.Region_Pre2014\n",
    "Else t2.Region\n",
    "End As Final_Region\n",
    "FROM \n",
    "fcsq.dv_court_level_append t1\n",
    "INNER JOIN\n",
    "__temp__.court_lookup t2\n",
    "ON CAST(t1.court as integer) = t2.code\n",
    "where CAST(t1.court as integer) in (SELECT code from __temp__.court_lookup);\n",
    "\"\"\"\n",
    "\n",
    "pydb.start_query_execution_and_wait(create_court_level_merge);"
   ]
  },
  {
   "cell_type": "markdown",
   "id": "3342ad46-c0aa-477e-b691-830b2f2032a3",
   "metadata": {},
   "source": [
    "#### court_level_merge validation"
   ]
  },
  {
   "cell_type": "code",
   "execution_count": null,
   "id": "4484d0c2-5813-4177-a19b-3532f8d224e0",
   "metadata": {},
   "outputs": [],
   "source": [
    "#court_level_merge_count = pydb.read_sql_query(\"select * from __temp__.court_level_merge where year=2020 and quarter=3 and dfj_new='Carlisle DFJ' order by year,quarter,dfj_new\")\n",
    "#court_level_merge_count"
   ]
  },
  {
   "cell_type": "markdown",
   "id": "cb662156-2eb6-4eb5-9c25-c27e9b68271c",
   "metadata": {
    "tags": []
   },
   "source": [
    "## 18. domestic_violence_dfj table - this query calculates the total number of counts and cases in each quarter and region to produce the final DFJ csv output\n",
    "<a name=\"domestic_violence_dfj\"></a>"
   ]
  },
  {
   "cell_type": "markdown",
   "id": "aeffc9ee-5424-49c1-970a-094a5f160b14",
   "metadata": {},
   "source": [
    "### Create the domestic_violence_dfj athena table "
   ]
  },
  {
   "cell_type": "markdown",
   "id": "a5b1df92-53c1-463b-9df8-1a9bec80f1b0",
   "metadata": {},
   "source": [
    "### Drop the domestic_violence_dfj table if it already exists and remove its data from the S3 bucket"
   ]
  },
  {
   "cell_type": "code",
   "execution_count": null,
   "id": "2f9b9f19-2384-4622-9b32-beef55c1be8e",
   "metadata": {},
   "outputs": [],
   "source": [
    "drop_domestic_violence_dfj = f\"\"\"\n",
    "DROP TABLE IF EXISTS fcsq.domestic_violence_dfj;\n",
    "\"\"\"\n",
    "pydb.start_query_execution_and_wait(drop_domestic_violence_dfj)\n",
    "\n",
    "# clean up previous domestic_violence_dfj files\n",
    "bucket.objects.filter(Prefix=\"fcsq_processing/Adoption/domestic_violence_dfj/\").delete();"
   ]
  },
  {
   "cell_type": "markdown",
   "id": "2fa96193-acbb-433f-97e9-dae0ee89116d",
   "metadata": {},
   "source": [
    "### Create the domestic_violence_dfj table in Athena"
   ]
  },
  {
   "cell_type": "code",
   "execution_count": null,
   "id": "0bd31dac-4d38-4581-94fe-159554f99182",
   "metadata": {},
   "outputs": [],
   "source": [
    "create_domestic_violence_dfj = f\"\"\"\n",
    "CREATE TABLE IF NOT EXISTS fcsq.domestic_violence_dfj\n",
    "WITH (format = 'PARQUET', external_location = 's3://alpha-family-data/fcsq_processing/Adoption/domestic_violence_dfj/') AS\n",
    "SELECT\n",
    "Category,\n",
    "Stage,\n",
    "Year,\n",
    "Quarter,\n",
    "DFJ_New,\n",
    "Final_Region as region,\n",
    "SUM(count) as count,\n",
    "SUM(cases) as cases\n",
    "FROM fcsq.court_level_merge\n",
    "group by\n",
    "Category,\n",
    "Stage,\n",
    "Year,\n",
    "Quarter,\n",
    "DFJ_New,\n",
    "Final_Region\n",
    "order by\n",
    "Category,\n",
    "Stage,\n",
    "Year,\n",
    "Quarter,\n",
    "DFJ_New,\n",
    "Final_Region;\n",
    "\"\"\"\n",
    "pydb.start_query_execution_and_wait(create_domestic_violence_dfj);"
   ]
  },
  {
   "cell_type": "code",
   "execution_count": null,
   "id": "49c640be-7035-4ff2-a09c-bcc3e3f131fb",
   "metadata": {},
   "outputs": [],
   "source": [
    "df = pydb.read_sql_query(\"select * from fcsq.domestic_violence_dfj;\")\n",
    "df.to_csv(path_or_buf = 's3://alpha-family-data/CSVs/DFJ/domestic_violence_dfj.csv',index=False)"
   ]
  },
  {
   "cell_type": "markdown",
   "id": "2e5bf5e8-e931-4ded-a238-382f090e8441",
   "metadata": {},
   "source": [
    "#### domestic_violence_dfj validation"
   ]
  },
  {
   "cell_type": "code",
   "execution_count": null,
   "id": "d08a1edb-9c0c-4971-94da-b2ebd7cebc94",
   "metadata": {},
   "outputs": [],
   "source": [
    "#domestic_violence_dfj_count = pydb.read_sql_query(\"select * from __temp__.domestic_violence_dfj ORDER BY Category,Year,Quarter,region,DFJ_New,Stage\")\n",
    "#domestic_violence_dfj_count"
   ]
  }
 ],
 "metadata": {
  "kernelspec": {
   "display_name": "FCSQ (Python3)",
   "language": "python",
   "name": "fcsq"
  },
  "language_info": {
   "codemirror_mode": {
    "name": "ipython",
    "version": 3
   },
   "file_extension": ".py",
   "mimetype": "text/x-python",
   "name": "python",
   "nbconvert_exporter": "python",
   "pygments_lexer": "ipython3",
   "version": "3.9.4"
  }
 },
 "nbformat": 4,
 "nbformat_minor": 5
}
