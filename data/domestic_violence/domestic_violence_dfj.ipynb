{
 "cells": [
  {
   "cell_type": "markdown",
   "id": "52538669-0ee0-4e07-8013-caa2fd22cfd2",
   "metadata": {},
   "source": [
    "# Domestic Violence DFJ"
   ]
  },
  {
   "cell_type": "markdown",
   "id": "1350e42a-f47e-42f3-8c57-727899be8449",
   "metadata": {},
   "source": [
    "## Contents\n",
    "#### Setup\n",
    "1. [import_packages](#import_packages) \n",
    "2. [define_key_variables](#define_key_variables) "
   ]
  },
  {
   "cell_type": "markdown",
   "id": "9948f3f1-7666-48db-8e70-43f571c3a3b2",
   "metadata": {},
   "source": [
    "## 1. Import packages and set options \n",
    "<a name=\"import_packages\"></a>"
   ]
  },
  {
   "cell_type": "code",
   "execution_count": 1,
   "id": "a6c7e642-25f2-4fd0-99f0-1a408d109de7",
   "metadata": {},
   "outputs": [],
   "source": [
    "import pandas as pd  # a module which provides the data structures and functions to store and manipulate tables in dataframes\n",
    "import pydbtools as pydb  # A module which allows SQL queries to be run on the Analytical Platform from Python, see https://github.com/moj-analytical-services/pydbtools\n",
    "import boto3  # allows you to directly create, update, and delete AWS resources from Python scripts\n",
    "\n",
    "# sets parameters to view dataframes for tables easier\n",
    "pd.set_option(\"display.max_columns\", 100)\n",
    "pd.set_option(\"display.width\", 900)\n",
    "pd.set_option(\"display.max_colwidth\", 200)"
   ]
  },
  {
   "cell_type": "markdown",
   "id": "220a78c1-553e-4c95-85ce-d667924e5fe4",
   "metadata": {},
   "source": [
    "## 2. Define key variables to be used throughout the notebook \n",
    "<a name=\"define_key_variables\"></a>"
   ]
  },
  {
   "cell_type": "code",
   "execution_count": 2,
   "id": "667c2254-ef8f-4df9-b6ed-33b2b9b0c825",
   "metadata": {},
   "outputs": [],
   "source": [
    "#this is the database we will be extracting from\n",
    "database = \"familyman_dev_v3\" \n",
    "\n",
    "#this extracts the latest snapshot from athena\n",
    "#get_snapshot_date = f\"SELECT mojap_snapshot_date from {database}.events order by mojap_snapshot_date desc limit 1\"\n",
    "#snapshot_date = str(pydb.read_sql_query(get_snapshot_date)['mojap_snapshot_date'].values[0])\n",
    "\n",
    "#this extracts the August snapshot from athena\n",
    "snapshot_date = '2022-08-04'\n",
    "\n",
    "#this is the athena database we will be storing our tables in\n",
    "fcsq_database = \"fcsq\"\n",
    "\n",
    "#this is the s3 bucket we will be saving data to\n",
    "s3 = boto3.resource(\"s3\")\n",
    "bucket = s3.Bucket(\"alpha-family-data\")\n",
    "\n",
    "#change these to the current quarter and year not the quarter being published\n",
    "latest_quarter = 3\n",
    "latest_year = 2022"
   ]
  },
  {
   "cell_type": "markdown",
   "id": "17c33da4-684d-42d8-b8e1-b93b3bfaea1c",
   "metadata": {},
   "source": [
    "## 3. Dom_violence_Orders table "
   ]
  },
  {
   "cell_type": "code",
   "execution_count": 3,
   "id": "0339ed87-de0d-418a-88ea-7bd14e3ea03b",
   "metadata": {},
   "outputs": [],
   "source": [
    "create_Dom_Violence_Orders = f\"\"\"\n",
    "SELECT Year, Quarter, Event_court, count(*) as Disposals\n",
    "FROM fcsq.DV_ORDS_FINAL\n",
    "WHERE Year > 2010\n",
    "GROUP BY Year, Quarter, Event_court\n",
    "ORDER BY Year, Quarter, Event_court;\n",
    "\"\"\"\n",
    "\n",
    "pydb.create_temp_table(create_Dom_Violence_Orders,'Dom_Violence_Orders');"
   ]
  },
  {
   "cell_type": "code",
   "execution_count": 4,
   "id": "895a9a73-ec5b-4800-9c99-9db1199b5887",
   "metadata": {},
   "outputs": [],
   "source": [
    "#check = \"SELECT COUNT(*) as Count from __temp__.Dom_Violence_Orders\"\n",
    "#pydb.read_sql_query(check)"
   ]
  },
  {
   "cell_type": "markdown",
   "id": "04b44a92-3692-44ff-ae3d-7b4b06f8ea7b",
   "metadata": {},
   "source": [
    "## 4. Dom_violence_Cases table "
   ]
  },
  {
   "cell_type": "code",
   "execution_count": 5,
   "id": "8678b22d-17c9-403a-9270-8d21c313d051",
   "metadata": {},
   "outputs": [],
   "source": [
    "create_Dom_Violence_Cases = f\"\"\"\n",
    "SELECT Year, Quarter, Event_court, count(*) as Case_Count\n",
    "FROM fcsq.DV_ORDS_FINAL\n",
    "WHERE Year > 2010 and substring(case_number,5,1) = 'F'\n",
    "GROUP BY Year, Quarter, Event_court\n",
    "ORDER BY Year, Quarter, Event_court;\n",
    "\"\"\"\n",
    "\n",
    "pydb.create_temp_table(create_Dom_Violence_Cases,'Dom_Violence_Cases');"
   ]
  },
  {
   "cell_type": "code",
   "execution_count": 6,
   "id": "0c13bb64-faa9-4ff2-aa89-0c9e3a2d30a2",
   "metadata": {
    "tags": []
   },
   "outputs": [],
   "source": [
    "#check = \"SELECT COUNT(*) as Count from __temp__.Dom_Violence_Cases\"\n",
    "#pydb.read_sql_query(check)"
   ]
  },
  {
   "cell_type": "markdown",
   "id": "1f62240c-f429-41a3-840f-4081ea1ec03e",
   "metadata": {},
   "source": [
    "## 5. Dom_violence_Merge table "
   ]
  },
  {
   "cell_type": "code",
   "execution_count": 7,
   "id": "25444012-55fc-4c93-b5bf-b59608001b6b",
   "metadata": {},
   "outputs": [],
   "source": [
    "create_Dom_Violence_Merge = f\"\"\"\n",
    "Select t1.Year,\n",
    "t1.Quarter,\n",
    "t1.Event_court,\n",
    "COALESCE(t1.Disposals, 0) as Disposals,\n",
    "COALESCE(t2.Case_Count, 0) as Case_Count,\n",
    "'Domestic Violence' as Category,\n",
    "'End' as Stage\n",
    "from __temp__.Dom_Violence_Orders t1\n",
    "FULL OUTER JOIN\n",
    "__temp__. Dom_Violence_Cases t2 \n",
    "on t1.Year = t2.Year AND t1.Quarter = t2.Quarter AND t1.Event_court = t2.Event_court\n",
    "WHERE NOT (t1.year = {latest_year} AND t1.quarter = {latest_quarter})\n",
    "\n",
    "\"\"\"\n",
    "\n",
    "pydb.create_temp_table(create_Dom_Violence_Merge,'Dom_Violence_Merge');"
   ]
  },
  {
   "cell_type": "code",
   "execution_count": 8,
   "id": "4afc6841-9529-40a9-891b-13eb4406428d",
   "metadata": {},
   "outputs": [],
   "source": [
    "#check = \"SELECT COUNT(*) as Count from __temp__.Dom_Violence_Merge\"\n",
    "#pydb.read_sql_query(check)"
   ]
  },
  {
   "cell_type": "code",
   "execution_count": 9,
   "id": "c8e327b9-b3de-497d-a2f0-1435f6a22a44",
   "metadata": {},
   "outputs": [],
   "source": [
    "#check = \"SELECT * from __temp__.Dom_Violence_Merge\"\n",
    "#pydb.read_sql_query(check)"
   ]
  },
  {
   "cell_type": "markdown",
   "id": "63be58ab-0d43-4887-819e-45f6c801ba56",
   "metadata": {},
   "source": [
    "## 6. Dom_violence_Format table "
   ]
  },
  {
   "cell_type": "code",
   "execution_count": 10,
   "id": "39770e94-c97c-41e6-a468-e5c0973898de",
   "metadata": {},
   "outputs": [],
   "source": [
    "create_Dom_Violence_Format = f\"\"\"\n",
    "SELECT Category, \n",
    "Year, \n",
    "Quarter, \n",
    "Event_court as Court, \n",
    "Stage, \n",
    "Disposals as Count,\n",
    "Case_Count as Cases\n",
    "FROM __temp__.Dom_Violence_Merge;\n",
    "\"\"\"\n",
    "\n",
    "pydb.create_temp_table(create_Dom_Violence_Format,'Dom_Violence_Format');"
   ]
  },
  {
   "cell_type": "code",
   "execution_count": 11,
   "id": "972f88f7-7997-4f5c-bc26-b79a3fe50960",
   "metadata": {},
   "outputs": [],
   "source": [
    "#check = \"SELECT COUNT(*) as Count from __temp__.Dom_Violence_Format\"\n",
    "#pydb.read_sql_query(check)"
   ]
  },
  {
   "cell_type": "code",
   "execution_count": 12,
   "id": "0e0abbce-5b68-405f-ad42-1d047f476f88",
   "metadata": {},
   "outputs": [],
   "source": [
    "#check = \"SELECT * from __temp__.Dom_Violence_Format\"\n",
    "#pydb.read_sql_query(check)"
   ]
  },
  {
   "cell_type": "code",
   "execution_count": null,
   "id": "5ebe7c2d-62b0-4e25-acf6-6dbd410b6f94",
   "metadata": {},
   "outputs": [],
   "source": []
  },
  {
   "cell_type": "code",
   "execution_count": null,
   "id": "d02cb380-f485-4c5f-98df-66a0eca60654",
   "metadata": {},
   "outputs": [],
   "source": []
  },
  {
   "cell_type": "code",
   "execution_count": null,
   "id": "c675fe5e-c165-40b1-a096-98d6ae3290aa",
   "metadata": {},
   "outputs": [],
   "source": []
  },
  {
   "cell_type": "code",
   "execution_count": null,
   "id": "0c1dee24-edf5-42fa-b174-3c25840da23b",
   "metadata": {},
   "outputs": [],
   "source": []
  },
  {
   "cell_type": "code",
   "execution_count": null,
   "id": "0eb6d83f-757e-43c6-be14-e3bd49140286",
   "metadata": {},
   "outputs": [],
   "source": []
  },
  {
   "cell_type": "code",
   "execution_count": null,
   "id": "e3fb8f58-9da4-4620-93cc-cf4b4cba869e",
   "metadata": {},
   "outputs": [],
   "source": []
  },
  {
   "cell_type": "code",
   "execution_count": null,
   "id": "cfd4acdc-f90d-4817-beb2-fef7179c8404",
   "metadata": {},
   "outputs": [],
   "source": []
  },
  {
   "cell_type": "code",
   "execution_count": null,
   "id": "73ea8bec-173b-4e6e-a5c0-a50e2d599eb6",
   "metadata": {},
   "outputs": [],
   "source": []
  },
  {
   "cell_type": "code",
   "execution_count": null,
   "id": "5eedb2ea-aba1-4c34-8b94-a855f31fa91a",
   "metadata": {},
   "outputs": [],
   "source": []
  },
  {
   "cell_type": "code",
   "execution_count": null,
   "id": "9adef6b3-92f5-468a-9018-1d40c44ea9ac",
   "metadata": {},
   "outputs": [],
   "source": []
  },
  {
   "cell_type": "code",
   "execution_count": null,
   "id": "8a122b27-65d8-401c-a6ac-f809a12b8519",
   "metadata": {},
   "outputs": [],
   "source": []
  }
 ],
 "metadata": {
  "kernelspec": {
   "display_name": "venv",
   "language": "python",
   "name": "venv"
  },
  "language_info": {
   "codemirror_mode": {
    "name": "ipython",
    "version": 3
   },
   "file_extension": ".py",
   "mimetype": "text/x-python",
   "name": "python",
   "nbconvert_exporter": "python",
   "pygments_lexer": "ipython3",
   "version": "3.9.6"
  }
 },
 "nbformat": 4,
 "nbformat_minor": 5
}
