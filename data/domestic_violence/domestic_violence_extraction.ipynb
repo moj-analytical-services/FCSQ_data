{
 "cells": [
  {
   "cell_type": "markdown",
   "id": "f7d16a94-0449-43cd-9bb2-6ea0d2b31eb7",
   "metadata": {},
   "source": [
    "# Domestic Violence Extractions"
   ]
  },
  {
   "cell_type": "markdown",
   "id": "ad1901d6-9663-4a42-8579-8eb9acf0e7c8",
   "metadata": {
    "tags": []
   },
   "source": [
    "## Contents\n",
    "#### Setup\n",
    "1. [import_packages](#import_packages) \n",
    "2. [define_key_variables](#define_key_variables) \n",
    "\n",
    "#### [Familyman data extractions](#familyman_extracts)\n",
    "3. [DV_APPS1](#DV_APPS1) - Extracts the domestic violence application details from the event and events_fields table \n",
    "4. [DV_Ords1](#DV_Ords1) -  Extracts the domestic violence order details from the event and events_fields table \n",
    "5. [RES_ATTENDANCE_INFO](#RES_ATTENDANCE_INFO) - Extra orders info on Respondent attendance \n",
    "6. [DV_POA_CASES](#DV_POA_CASES) - This query extracts records for the event model “FL406” and field models “FL404B_8” and “FL404_67”, and tells us whether a power of arrest was attached to an order.\n",
    "\n",
    "#### Stage 1 - [Applications](#applications)\n",
    "7. [DV_Applications_1](#DV_Applications_1) - adds a comma to the start and the end of the value variable for later queries \n",
    "8. [DV_Applications_2](#DV_Applications_2) - Limits the data to only Domestic Violence applications \n",
    "9. [DV_APPLICATION_EVENTS](#DV_APPLICATION_EVENTS) - Calculates year and quarter of receipt date, deletes duplicates and calculates whether each case is a domestic violence or a childrens act case \n",
    "10. [APP_LOOKUP1](#APP_LOOKUP1) - groups the adjusted values so that there's one record per value \n",
    "11. [APP_LOOKUP2](#APP_LOOKUP2) - This query looks at the adjusted value to see whether it can find any of the four order types in the value string. If so, it puts the order type description. \n",
    "12. [APP_LOOKUP3](#APP_LOOKUP3) - This query breaks up the results from the previous query in to separate data sets for the four order types, then puts the data sets for the four order types together, so that there's one record per order type. \n",
    "13. [DV_APPS_FINAL](#DV_APPS_FINAL) - This query joins the look-up and the orders data to create a data set with one record per order type.  \n",
    "14. [DV_APP_CASES](#DV_APP_CASES) - This query groups the final data by case so that you can produce the case counts \n",
    "15. [DV_APP_CASES_FINAL](#DV_APP_CASES_FINAL) - This query adds the year and quarter of the receipt date back in so that you can do the case count summmaries \n",
    "16. [DV_APP_GENDER](#DV_APP_GENDER) - Below code is to add the gender of the applicant to the final application table. However, these don't match FCSQ final application figures. This is because there are a number of instances where there is both a male and a female applicant listed under the same application event and case number. \n",
    "17. [APP_COURT_AGG1](#APP_COURT_AGG1) - This query aggregates the final data so that you can produce the court level applications summary. \n",
    "\n",
    "#### Stage 2 - [Orders](#orders)\n",
    "18. [DV_Orders_2](#DV_Orders_2) - This query limits the data to domestic violence orders (NM and OCC)and deletes the general orders (GEN) and undertakings (UND). \n",
    "19. [Order_Lookup_1](#Order_Lookup_1) - This query aggregates the orders data to one record per value (order type string). \n",
    "20. [Order_Lookup_2](#Order_Lookup_2) - This query looks at the value string to see whether each order type is included.  If so, it puts the order type.  \n",
    "21. [Order_LOOKUP3](#Order_LOOKUP3) - This query breaks up the results from the previous query in to separate data sets for the two order types, then puts the data sets for the two order types together, so that there's one record per order type. \n",
    "22. [Orders3](#Orders3) - This query joins the look up table to the data on orders and brings back the order types. \n",
    "23. [Orders4](#Orders4) - This query calculates the year and quarter so you can do the later summaries \n",
    "24. [POA_CASE_LIST](#POA_CASE_LIST) - This query aggregates the power of arrest (POA) data to one record per case. \n",
    "25. [ORD_WITH_POA](#ORD_WITH_POA) - This query joins the information on POA and respondent attendance to the data on orders. Also adding a Case_Type at this stage \n",
    "26. [DV_ORDS_FINAL](#DV_ORDS_FINAL) - This query creates the final data set on domestic violence orders, refining the POA and respondent attendance information to find whether power of arrest was attached and whether the case was exparte or on notice \n",
    "27. [DV_ORD_CASES](#DV_ORD_CASES) - This query aggregates the final orders data, taking the last order date. \n",
    "28. [DV_ORD_CASES_FINAL](#DV_ORD_CASES_FINAL) - This query calculates the year and quarter of the last order date \n",
    "\n",
    "#### Stage 3 - [Preparing the final output](#Preparing_the_final_output)\n",
    "29. [DV_APPS](#DV_APPS) - Prepares the applications data for CSV output \n",
    "30. [DV_APP_COUNT](#DV_APP_COUNT) - Adding a Count for de duplicated applications \n",
    "31. [DV_ORDERS](#DV_ORDERS) - Prepares the orders data for CSV output \n",
    "32. [DV_CASE_STARTS](#DV_CASE_STARTS) - Prepares case start data for final CSV output \n",
    "33. [DV_CASES_Closed](#DV_CASES_Closed) - Prepares case closed data for final CSV output \n",
    "34. [DV_all_data](#DV_all_data) - Joins all data together \n",
    "35. [DV_CSV](#DV_CSV) - Final CSV output to copy into data tab of Domestic Violence workbook "
   ]
  },
  {
   "cell_type": "markdown",
   "id": "9e98b78b-def6-4245-a6fe-0eeb8f7cb833",
   "metadata": {
    "tags": []
   },
   "source": [
    "## 1. Import packages and set options \n",
    "<a name=import_packages></a>"
   ]
  },
  {
   "cell_type": "code",
   "execution_count": null,
   "id": "80cca3b1-95ad-413d-826b-aca6f5dc049e",
   "metadata": {},
   "outputs": [],
   "source": [
    "import pandas as pd  # a module which provides the data structures and functions to store and manipulate tables in dataframes\n",
    "import pydbtools as pydb  # A module which allows SQL queries to be run on the Analytical Platform from Python, see https://github.com/moj-analytical-services/pydbtools\n",
    "import boto3  # allows you to directly create, update, and delete AWS resources from Python scripts\n",
    "\n",
    "# sets parameters to view dataframes for tables easier\n",
    "pd.set_option(\"display.max_columns\", 100)\n",
    "pd.set_option(\"display.width\", 900)\n",
    "pd.set_option(\"display.max_colwidth\", 200)\n"
   ]
  },
  {
   "cell_type": "markdown",
   "id": "bd8c37bc-21dc-4a5a-8aeb-cdf41bac320c",
   "metadata": {},
   "source": [
    "## 2. Define key variables to be used throughout the notebook \n",
    "<a name=define_key_variables></a>"
   ]
  },
  {
   "cell_type": "code",
   "execution_count": null,
   "id": "8b522778-5805-474b-9769-cedfa9ba921a",
   "metadata": {},
   "outputs": [],
   "source": [
    "#this is the database we will be extracting from\n",
    "database = \"familyman_live_v4\"\n",
    "\n",
    "#this extracts the latest snapshot from athena\n",
    "get_snapshot_date = f\"SELECT mojap_snapshot_date from {database}.events order by mojap_snapshot_date desc limit 1\"\n",
    "snapshot_date = str(pydb.read_sql_query(get_snapshot_date)['mojap_snapshot_date'].values[0])\n",
    "\n",
    "#this extracts the February snapshot from athena\n",
    "#snapshot_date = '2023-02-09'\n",
    "\n",
    "#this is the athena database we will be storing our tables in\n",
    "fcsq_database = \"fcsq\"\n",
    "\n",
    "#this is the s3 bucket we will be saving data to\n",
    "s3 = boto3.resource(\"s3\")\n",
    "bucket = s3.Bucket(\"alpha-family-data\")\n",
    "\n",
    "#change these to the current quarter and year not the quarter being published\n",
    "latest_quarter = 1\n",
    "latest_year = 2024\n",
    "\n",
    "#change these to the current quarter and year being published\n",
    "pub_quarter = 4\n",
    "pub_year = 2023"
   ]
  },
  {
   "cell_type": "markdown",
   "id": "aa010a4b-5bd0-4fc9-b23f-881aa5041d39",
   "metadata": {},
   "source": [
    "## Familyman data extractions\n",
    "<a name=\"familyman_extracts\"></a>"
   ]
  },
  {
   "cell_type": "markdown",
   "id": "4e3668c5",
   "metadata": {},
   "source": [
    "## 3. DV_APPS1 table - extracts the domestic violence application details from the event and events_fields table <a name=DV_APPS1></a>"
   ]
  },
  {
   "cell_type": "markdown",
   "id": "59c89ca9",
   "metadata": {},
   "source": [
    "### Drop the DV_APPS1 table if it already exists and remove its data from the S3 bucket"
   ]
  },
  {
   "cell_type": "code",
   "execution_count": null,
   "id": "d964be3e",
   "metadata": {},
   "outputs": [],
   "source": [
    "drop_DV_APPS1 = \"DROP TABLE IF EXISTS fcsq.DV_APPS1\"\n",
    "pydb.start_query_execution_and_wait(drop_DV_APPS1)\n",
    "bucket.objects.filter(Prefix=\"fcsq_processing/Domestic_Violence/DV_APPS1\").delete();"
   ]
  },
  {
   "cell_type": "markdown",
   "id": "9ed3c03a",
   "metadata": {},
   "source": [
    "### Create the DV_APPS1 table"
   ]
  },
  {
   "cell_type": "code",
   "execution_count": null,
   "id": "d9c4045f",
   "metadata": {},
   "outputs": [],
   "source": [
    "create_DV_APPS1_table =f\"\"\"\n",
    "CREATE TABLE IF NOT EXISTS fcsq.DV_APPS1\n",
    "WITH (format = 'PARQUET', external_location = 's3://alpha-family-data/fcsq_processing/Domestic_Violence/DV_APPS1') AS\n",
    "SELECT /*csv*/ \n",
    "  TTE.RECEIPT_DATE, \n",
    "  TTE.CASE_NUMBER, \n",
    "  TTE.EVENT, \n",
    "  TTE.CREATING_COURT, \n",
    "  TTF.FIELD_MODEL, \n",
    "  TTF.VALUE, \n",
    "  TTE.Error\n",
    "FROM \n",
    "  {database}.events TTE\n",
    "  INNER JOIN {database}.event_fields TTF\n",
    "     ON TTE.EVENT = TTF.EVENT\n",
    "WHERE \n",
    "   TTE.Error= 'N' \n",
    "     AND TTF.FIELD_MODEL In ('U22_AT','G50_AT')\n",
    "     AND (TTE.mojap_snapshot_date = date'{snapshot_date}' AND TTF.mojap_snapshot_date= date'{snapshot_date}');\n",
    "\"\"\"\n",
    "pydb.start_query_execution_and_wait(create_DV_APPS1_table);"
   ]
  },
  {
   "cell_type": "markdown",
   "id": "fc65b0f7",
   "metadata": {},
   "source": [
    "#### DV_APPS1 validation"
   ]
  },
  {
   "cell_type": "code",
   "execution_count": null,
   "id": "477c4bfa",
   "metadata": {},
   "outputs": [],
   "source": [
    "#DV_APPS1_count = pydb.read_sql_query(\"SELECT count(*) as count from fcsq.DV_APPS1\")\n",
    "#DV_APPS1_count"
   ]
  },
  {
   "cell_type": "markdown",
   "id": "84a06e5d",
   "metadata": {},
   "source": [
    "## 4. DV_Ords1 table -  extracts the domestic violence order details from the event and events_fields table ¶ <a name=DV_Ords1></a>"
   ]
  },
  {
   "cell_type": "markdown",
   "id": "17f99af9",
   "metadata": {},
   "source": [
    "### Drop the DV_Ords1 table if it already exists and remove its data from the S3 bucket"
   ]
  },
  {
   "cell_type": "code",
   "execution_count": null,
   "id": "8d0f1128",
   "metadata": {},
   "outputs": [],
   "source": [
    "drop_DV_Ords1 = \"DROP TABLE IF EXISTS fcsq.DV_Ords1\"\n",
    "pydb.start_query_execution_and_wait(drop_DV_Ords1)\n",
    "bucket.objects.filter(Prefix=\"fcsq_processing/Domestic_Violence/DV_Ords1\").delete();"
   ]
  },
  {
   "cell_type": "markdown",
   "id": "bb38133c",
   "metadata": {},
   "source": [
    "### Create the DV_Ords1 table"
   ]
  },
  {
   "cell_type": "code",
   "execution_count": null,
   "id": "1b9b2728",
   "metadata": {},
   "outputs": [],
   "source": [
    "create_DV_Ords1_table =f\"\"\"\n",
    "CREATE TABLE IF NOT EXISTS fcsq.DV_Ords1\n",
    "WITH (format = 'PARQUET', external_location = 's3://alpha-family-data/fcsq_processing/Domestic_Violence/DV_Ords1') AS\n",
    "SELECT /*csv*/\n",
    "  TTE.RECEIPT_DATE, \n",
    "  TTE.CASE_NUMBER, \n",
    "  TTE.EVENT, \n",
    "  TTE.CREATING_COURT, \n",
    "  TTF.FIELD_MODEL, \n",
    "  TTF.VALUE, \n",
    "  TTE.Error\n",
    "FROM \n",
    "  {database}.events TTE\n",
    "  INNER JOIN {database}.event_fields  TTF\n",
    "    ON TTE.EVENT = TTF.EVENT\n",
    "WHERE \n",
    "  TTE.Error= 'N' \n",
    "   AND TTF.FIELD_MODEL In ('FL404B_7','FL404_79')\n",
    "    AND (TTE.mojap_snapshot_date = date'{snapshot_date}' AND TTF.mojap_snapshot_date= date'{snapshot_date}');\n",
    "\"\"\"\n",
    "pydb.start_query_execution_and_wait(create_DV_Ords1_table);"
   ]
  },
  {
   "cell_type": "markdown",
   "id": "142587a2",
   "metadata": {},
   "source": [
    "#### DV_Ords1 validation"
   ]
  },
  {
   "cell_type": "code",
   "execution_count": null,
   "id": "0f1c6b6a",
   "metadata": {},
   "outputs": [],
   "source": [
    "#DV_Ords1_count = pydb.read_sql_query(\"SELECT count(*) as count from fcsq.DV_Ords1\")\n",
    "#DV_Ords1_count"
   ]
  },
  {
   "cell_type": "markdown",
   "id": "f0070e44",
   "metadata": {},
   "source": [
    "## 5. RES_ATTENDANCE_INFO table - Extra orders info on Respondent attendance <a name=RES_ATTENDANCE_INFO></a>"
   ]
  },
  {
   "cell_type": "markdown",
   "id": "ef3b64b5",
   "metadata": {},
   "source": [
    "### Drop the RES_ATTENDANCE_INFO table if it already exists and remove its data from the S3 bucket"
   ]
  },
  {
   "cell_type": "code",
   "execution_count": null,
   "id": "cf68ce64",
   "metadata": {},
   "outputs": [],
   "source": [
    "drop_RES_ATTENDANCE_INFO = \"DROP TABLE IF EXISTS fcsq.RES_ATTENDANCE_INFO\"\n",
    "pydb.start_query_execution_and_wait(drop_RES_ATTENDANCE_INFO)\n",
    "bucket.objects.filter(Prefix=\"fcsq_processing/Domestic_Violence/RES_ATTENDANCE_INFO\").delete();"
   ]
  },
  {
   "cell_type": "markdown",
   "id": "57662e9f",
   "metadata": {},
   "source": [
    "### Create the RES_ATTENDANCE_INFO table"
   ]
  },
  {
   "cell_type": "code",
   "execution_count": null,
   "id": "0f1afa31",
   "metadata": {},
   "outputs": [],
   "source": [
    "create_RES_ATTENDANCE_INFO_table =f\"\"\"\n",
    "CREATE TABLE IF NOT EXISTS fcsq.RES_ATTENDANCE_INFO\n",
    "WITH (format = 'PARQUET', external_location = 's3://alpha-family-data/fcsq_processing/Domestic_Violence/RES_ATTENDANCE_INFO') AS\n",
    "SELECT /*csv*/\n",
    "  TTE.EVENT, \n",
    "  TTE.RECEIPT_DATE, \n",
    "  TTE.ENTRY_DATE, \n",
    "  TTE.Error, \n",
    "  TTE.CASE_NUMBER, \n",
    "  TTE.EVENT_MODEL, \n",
    "  TTF.FIELD_MODEL, \n",
    "  TTF.VALUE        \n",
    "FROM \n",
    "  {database}.events TTE\n",
    "  INNER JOIN {database}.event_fields TTF\n",
    "    ON TTE.EVENT = TTF.EVENT\n",
    "WHERE \n",
    "   TTE.Error='N' \n",
    "   AND TTF.FIELD_MODEL In ('FL404_5','FL404B_5')\n",
    "   AND (TTE.mojap_snapshot_date = date'{snapshot_date}' AND TTF.mojap_snapshot_date= date'{snapshot_date}'); \n",
    "\"\"\"\n",
    "pydb.start_query_execution_and_wait(create_RES_ATTENDANCE_INFO_table);"
   ]
  },
  {
   "cell_type": "markdown",
   "id": "6dae0f96",
   "metadata": {},
   "source": [
    "#### RES_ATTENDANCE_INFO validation"
   ]
  },
  {
   "cell_type": "code",
   "execution_count": null,
   "id": "c14fd7db",
   "metadata": {},
   "outputs": [],
   "source": [
    "#RES_ATTENDANCE_INFO_count = pydb.read_sql_query(\"SELECT count(*) as count from fcsq.RES_ATTENDANCE_INFO\")\n",
    "#RES_ATTENDANCE_INFO_count"
   ]
  },
  {
   "cell_type": "markdown",
   "id": "35ee1ffe",
   "metadata": {},
   "source": [
    "## 6. DV_POA_CASES table - This query extracts records for the event model “FL406” and field models “FL404B_8” and “FL404_67”, and tells us whether a power of arrest was attached to an order. <a name=DV_POA_CASES></a>"
   ]
  },
  {
   "cell_type": "markdown",
   "id": "07c4d86f",
   "metadata": {},
   "source": [
    "### Drop the DV_POA_CASES table if it already exists and remove its data from the S3 bucket"
   ]
  },
  {
   "cell_type": "code",
   "execution_count": null,
   "id": "2562e6a5",
   "metadata": {},
   "outputs": [],
   "source": [
    "drop_DV_POA_CASES = \"DROP TABLE IF EXISTS fcsq.DV_POA_CASES\"\n",
    "pydb.start_query_execution_and_wait(drop_DV_POA_CASES)\n",
    "bucket.objects.filter(Prefix=\"fcsq_processing/Domestic_Violence/DV_POA_CASES\").delete();"
   ]
  },
  {
   "cell_type": "markdown",
   "id": "793c787a",
   "metadata": {},
   "source": [
    "### Create the DV_POA_CASES table"
   ]
  },
  {
   "cell_type": "code",
   "execution_count": null,
   "id": "fa60d91b",
   "metadata": {},
   "outputs": [],
   "source": [
    "create_DV_POA_CASES_table =f\"\"\"\n",
    "CREATE TABLE IF NOT EXISTS fcsq.DV_POA_CASES\n",
    "WITH (format = 'PARQUET', external_location = 's3://alpha-family-data/fcsq_processing/Domestic_Violence/DV_POA_CASES') AS\n",
    "SELECT /*csv*/ \n",
    "  TTE.RECEIPT_DATE, \n",
    "  TTE.CASE_NUMBER, \n",
    "  TTE.EVENT, \n",
    "  TTE.EVENT_MODEL, \n",
    "  TTF.FIELD_MODEL, \n",
    "  TTF.VALUE, \n",
    "  TTE.Error      \n",
    "FROM \n",
    "  {database}.events TTE\n",
    "  INNER JOIN {database}.event_fields TTF\n",
    "    ON TTE.EVENT = TTF.EVENT\n",
    "WHERE\n",
    "    (TTE.mojap_snapshot_date = date'{snapshot_date}' \n",
    "    AND \n",
    "    TTF.mojap_snapshot_date = date'{snapshot_date}')\n",
    "    AND\n",
    "  ((TTE.EVENT_MODEL = 'FL406' \n",
    "    AND TTE.Error= 'N') \n",
    "  OR (TTF.FIELD_MODEL = 'FL404B_8' \n",
    "    AND TTF.VALUE= 'Y' \n",
    "    AND TTE.Error = 'N') \n",
    "  OR (TTF.FIELD_MODEL = 'FL404_67'\n",
    "    AND TTE.Error= 'N')); \n",
    "\"\"\"\n",
    "pydb.start_query_execution_and_wait(create_DV_POA_CASES_table);"
   ]
  },
  {
   "cell_type": "markdown",
   "id": "01fef2e0",
   "metadata": {},
   "source": [
    "#### DV_POA_CASES validation"
   ]
  },
  {
   "cell_type": "code",
   "execution_count": null,
   "id": "36c9fdfb",
   "metadata": {},
   "outputs": [],
   "source": [
    "#DV_POA_CASES_count = pydb.read_sql_query(\"SELECT count(*) as count from fcsq.DV_POA_CASES\")\n",
    "#DV_POA_CASES_count"
   ]
  },
  {
   "cell_type": "markdown",
   "id": "632643d8-d36c-4868-a7cc-cef0cd962a07",
   "metadata": {},
   "source": [
    "# Stage 1 - Applications\n",
    "<a name=\"applications\"></a>"
   ]
  },
  {
   "cell_type": "markdown",
   "id": "75e8e02c",
   "metadata": {},
   "source": [
    "## 7. DV_Applications_1 table - adds a comma to the start and the end of the value variable for later queries <a name=DV_Applications_1></a>"
   ]
  },
  {
   "cell_type": "markdown",
   "id": "7fb4058b",
   "metadata": {},
   "source": [
    "### Create the DV_Applications_1 table"
   ]
  },
  {
   "cell_type": "code",
   "execution_count": null,
   "id": "d073e7f2",
   "metadata": {},
   "outputs": [],
   "source": [
    "create_DV_Applications_1_table =f\"\"\"\n",
    "SELECT\n",
    "receipt_date,\n",
    "case_number,\n",
    "event,\n",
    "creating_court,\n",
    "field_model,\n",
    "', '|| value || ',' as Adjusted_Value,\n",
    "error\n",
    "from FCSQ.DV_Apps1\n",
    "\"\"\"\n",
    "pydb.create_temp_table(create_DV_Applications_1_table,'DV_Applications_1')"
   ]
  },
  {
   "cell_type": "markdown",
   "id": "a6ea3978",
   "metadata": {},
   "source": [
    "#### DV_Applications_1 validation"
   ]
  },
  {
   "cell_type": "code",
   "execution_count": null,
   "id": "ce68ecf6",
   "metadata": {},
   "outputs": [],
   "source": [
    "#DV_Applications_1_count = pydb.read_sql_query(\"SELECT count(*) as count from __temp__.DV_Applications_1\")\n",
    "#DV_Applications_1_count"
   ]
  },
  {
   "cell_type": "markdown",
   "id": "3d69e082",
   "metadata": {},
   "source": [
    "## 8. DV_Applications_2 table - Limits the data to only Domestic Violence applications <a name=DV_Applications_2></a>"
   ]
  },
  {
   "cell_type": "markdown",
   "id": "8636ce33",
   "metadata": {},
   "source": [
    "### Create the DV_Applications_2 table"
   ]
  },
  {
   "cell_type": "code",
   "execution_count": null,
   "id": "43e67293",
   "metadata": {},
   "outputs": [],
   "source": [
    "create_DV_Applications_2_table =f\"\"\"\n",
    "SELECT \n",
    "receipt_date,\n",
    "case_number,\n",
    "event,\n",
    "creating_court,\n",
    "field_model,\n",
    "Adjusted_Value,\n",
    "error\n",
    "FROM __temp__.DV_Applications_1\n",
    "Where strpos(Adjusted_Value, ', ENM') <> 0\n",
    "Or strpos(Adjusted_Value,', ONM') <> 0\n",
    "Or strpos(Adjusted_Value,', EO,') <> 0\n",
    "Or strpos(Adjusted_Value,', EO ,') <> 0\n",
    "Or strpos(Adjusted_Value,', ONO')<> 0;\n",
    "\"\"\"\n",
    "\n",
    "pydb.create_temp_table(create_DV_Applications_2_table,'DV_Applications_2')"
   ]
  },
  {
   "cell_type": "markdown",
   "id": "b15698d0",
   "metadata": {},
   "source": [
    "#### DV_Applications_2 validation"
   ]
  },
  {
   "cell_type": "code",
   "execution_count": null,
   "id": "728aa584",
   "metadata": {},
   "outputs": [],
   "source": [
    "#DV_Applications_2_count = pydb.read_sql_query(\"SELECT count(*) as count from __temp__.DV_Applications_2\")\n",
    "#DV_Applications_2_count"
   ]
  },
  {
   "cell_type": "markdown",
   "id": "ca6ca896",
   "metadata": {},
   "source": [
    "## 9. DV_APPLICATION_EVENTS table - Calculates year and quarter of receipt date, deletes duplicates and calculates whether each case is a domestic violence or a childrens act case <a name=DV_APPLICATION_EVENTS></a>"
   ]
  },
  {
   "cell_type": "markdown",
   "id": "64996705",
   "metadata": {},
   "source": [
    "### Drop the DV_APPLICATION_EVENTS table if it already exists and remove its data from the S3 bucket"
   ]
  },
  {
   "cell_type": "code",
   "execution_count": null,
   "id": "0f09c515",
   "metadata": {},
   "outputs": [],
   "source": [
    "drop_DV_APPLICATION_EVENTS = \"DROP TABLE IF EXISTS fcsq.DV_APPLICATION_EVENTS\"\n",
    "pydb.start_query_execution_and_wait(drop_DV_APPLICATION_EVENTS)\n",
    "bucket.objects.filter(Prefix=\"fcsq_processing/Domestic_Violence/DV_APPLICATION_EVENTS\").delete();"
   ]
  },
  {
   "cell_type": "markdown",
   "id": "bfa7e050",
   "metadata": {},
   "source": [
    "### Create the DV_APPLICATION_EVENTS table"
   ]
  },
  {
   "cell_type": "code",
   "execution_count": null,
   "id": "62a4f42f",
   "metadata": {},
   "outputs": [],
   "source": [
    "create_DV_APPLICATION_EVENTS_table =f\"\"\"\n",
    "CREATE TABLE IF NOT EXISTS fcsq.DV_APPLICATION_EVENTS\n",
    "WITH (format = 'PARQUET', external_location = 's3://alpha-family-data/fcsq_processing/Domestic_Violence/DV_APPLICATION_EVENTS') AS\n",
    "SELECT DISTINCT /*YEAR*/\n",
    "                EXTRACT(YEAR FROM (t1.receipt_date)) AS year,\n",
    "                /*QUARTER*/\n",
    "        CASE WHEN EXTRACT(Month FROM (t1.receipt_date)) <4 THEN 1\n",
    "              WHEN EXTRACT(Month FROM (t1.receipt_date)) <7 THEN 2\n",
    "              WHEN EXTRACT(Month FROM (t1.receipt_date))<10 THEN 3\n",
    "              ELSE 4\n",
    "              END AS quarter,\n",
    "                t1.RECEIPT_DATE,\n",
    "                t1.CASE_NUMBER,\n",
    "                t1.EVENT,\n",
    "                /*EVENT_COURT*/\n",
    "                cast((t1.EVENT / 100000000) as int)  AS EVENT_COURT,\n",
    "                t1.FIELD_model,\n",
    "                t1.ADJUSTED_VALUE,\n",
    "                CASE WHEN (substr(t1.CASE_NUMBER,5,1)) = 'F'\n",
    "                THEN 'Domestic Violence'\n",
    "                WHEN (Substr(t1.CASE_NUMBER,5,1)) IN ('C', 'P')\n",
    "                THEN 'Childrens Act'\n",
    "                WHEN (Substr(t1.CASE_NUMBER,5,1)) IN ('A', 'Z')\n",
    "                THEN 'Adoption'\n",
    "                ELSE 'Other' END AS CASE_TYPE\n",
    "FROM __temp__.DV_APPLICATIONS_2 AS t1;\n",
    "\"\"\"\n",
    "pydb.start_query_execution_and_wait(create_DV_APPLICATION_EVENTS_table);"
   ]
  },
  {
   "cell_type": "markdown",
   "id": "fa21e405",
   "metadata": {},
   "source": [
    "#### DV_APPLICATION_EVENTS validation"
   ]
  },
  {
   "cell_type": "code",
   "execution_count": null,
   "id": "fccfbd56",
   "metadata": {},
   "outputs": [],
   "source": [
    "#DV_APPLICATION_EVENTS_count = pydb.read_sql_query(\"SELECT count(*) as count from fcsq.DV_APPLICATION_EVENTS\")\n",
    "#DV_APPLICATION_EVENTS_count"
   ]
  },
  {
   "cell_type": "markdown",
   "id": "238ee1dc",
   "metadata": {},
   "source": [
    "## 10. APP_LOOKUP1 table - groups the adjusted values so that there's one record per value <a name=APP_LOOKUP1></a>"
   ]
  },
  {
   "cell_type": "markdown",
   "id": "8ebc4e79",
   "metadata": {},
   "source": [
    "### Create the APP_LOOKUP1 table"
   ]
  },
  {
   "cell_type": "code",
   "execution_count": null,
   "id": "8dc08917",
   "metadata": {},
   "outputs": [],
   "source": [
    "create_APP_LOOKUP1_table =f\"\"\"\n",
    "SELECT DISTINCT t1.ADJUSTED_VALUE\n",
    "FROM fcsq.DV_APPLICATION_EVENTS AS t1;\n",
    "\"\"\"\n",
    "pydb.create_temp_table(create_APP_LOOKUP1_table,'App_lookup1')"
   ]
  },
  {
   "cell_type": "markdown",
   "id": "facac6d8",
   "metadata": {},
   "source": [
    "#### APP_LOOKUP1 validation"
   ]
  },
  {
   "cell_type": "code",
   "execution_count": null,
   "id": "035cc6f1",
   "metadata": {},
   "outputs": [],
   "source": [
    "#APP_LOOKUP1_count = pydb.read_sql_query(\"SELECT count(*) as count from __temp__.APP_LOOKUP1\")\n",
    "#APP_LOOKUP1_count"
   ]
  },
  {
   "cell_type": "markdown",
   "id": "d613a764",
   "metadata": {},
   "source": [
    "## 11. APP_LOOKUP2 table - This query looks at the adjusted value to see whether it can find any of the four order types in the value string. If so, it puts the order type description. <a name=APP_LOOKUP2></a>"
   ]
  },
  {
   "cell_type": "markdown",
   "id": "89f9a07f",
   "metadata": {},
   "source": [
    "### Create the APP_LOOKUP2 table"
   ]
  },
  {
   "cell_type": "code",
   "execution_count": null,
   "id": "e137efd7",
   "metadata": {},
   "outputs": [],
   "source": [
    "create_APP_LOOKUP2_table =f\"\"\"\n",
    "SELECT t1.ADJUSTED_VALUE,\n",
    "       /*ENM*/\n",
    "       case when strpos(Adjusted_Value,'ENM') <> 0 then 'Exparte Non-Molestation' else '' end as ENM,\n",
    "       /*ONM*/\n",
    "       case when strpos(Adjusted_Value,'ONM') <> 0 then 'On Notice Non-Molestation' else '' end as ONM,\n",
    "       /*EO*/\n",
    "       case when ((strpos(Adjusted_Value,', EO') <> 0) OR (strpos(Adjusted_Value,', EO ,') <> 0))\n",
    "       then 'Exparte Occupation' else '' end as EO,\n",
    "       /*ONO*/\n",
    "       case when strpos(Adjusted_Value,'ONO') <> 0 then 'On Notice Occupation' else '' end as ONO\n",
    "FROM __temp__.APP_LOOKUP1 AS t1;\n",
    "\"\"\"\n",
    "pydb.create_temp_table(create_APP_LOOKUP2_table,'APP_LOOKUP2')"
   ]
  },
  {
   "cell_type": "markdown",
   "id": "d4e32fbb",
   "metadata": {},
   "source": [
    "#### APP_LOOKUP2 validation"
   ]
  },
  {
   "cell_type": "code",
   "execution_count": null,
   "id": "ada0062d",
   "metadata": {},
   "outputs": [],
   "source": [
    "#APP_LOOKUP2_count = pydb.read_sql_query(\"SELECT * from __temp__.APP_LOOKUP2\")\n",
    "#APP_LOOKUP2_count"
   ]
  },
  {
   "cell_type": "markdown",
   "id": "b6d34779",
   "metadata": {},
   "source": [
    "## 12. APP_LOOKUP3 table - This query breaks up the results from the previous query in to separate data sets for the four order types, then puts the data sets for the four order types together, so that there's one record per order type. <a name=APP_LOOKUP3></a>"
   ]
  },
  {
   "cell_type": "markdown",
   "id": "1fedd033",
   "metadata": {},
   "source": [
    "### Splits previous lookup"
   ]
  },
  {
   "cell_type": "code",
   "execution_count": null,
   "id": "108b9776",
   "metadata": {},
   "outputs": [],
   "source": [
    "create_ENM_table =f\"\"\"\n",
    "SELECT\n",
    "Adjusted_Value,\n",
    "ENM\n",
    "FROM __temp__.APP_LOOKUP2\n",
    "WHERE ENM = 'Exparte Non-Molestation'\n",
    "\"\"\"\n",
    "pydb.create_temp_table(create_ENM_table,'ENM')\n",
    "print (\"ENM done \")\n",
    "\n",
    "create_ONM_table =f\"\"\"\n",
    "SELECT\n",
    "Adjusted_Value,\n",
    "ONM\n",
    "FROM __temp__.APP_LOOKUP2\n",
    "WHERE ONM = 'On Notice Non-Molestation'\n",
    "\"\"\"\n",
    "pydb.create_temp_table(create_ONM_table,'ONM')\n",
    "print (\"ONM done \")\n",
    "\n",
    "create_EO_table =f\"\"\"\n",
    "SELECT\n",
    "Adjusted_Value,\n",
    "EO\n",
    "FROM __temp__.APP_LOOKUP2\n",
    "WHERE EO = 'Exparte Occupation'\n",
    "\"\"\"\n",
    "\n",
    "pydb.create_temp_table(create_EO_table,'EO')\n",
    "print (\"EO done \")\n",
    "\n",
    "create_ONO_table =f\"\"\"\n",
    "SELECT\n",
    "Adjusted_Value,\n",
    "ONO\n",
    "FROM __temp__.APP_LOOKUP2\n",
    "WHERE ONO = 'On Notice Occupation'\n",
    "\"\"\"\n",
    "pydb.create_temp_table(create_ONO_table,'ONO')\n",
    "print (\"ONO done \")"
   ]
  },
  {
   "cell_type": "markdown",
   "id": "9e41a8b3",
   "metadata": {},
   "source": [
    "### Creates new lookup"
   ]
  },
  {
   "cell_type": "code",
   "execution_count": null,
   "id": "30418efc",
   "metadata": {},
   "outputs": [],
   "source": [
    "#Equivalent to dvint.APP_LOOKUP4 in SAS code\n",
    "\n",
    "create_App_Lookup_3_table = f\"\"\"\n",
    "SELECT\n",
    "adjusted_value, ENM as description\n",
    "FROM __temp__.ENM\n",
    "UNION ALL\n",
    "SELECT\n",
    "adjusted_value, ONM as description\n",
    "FROM __temp__.ONM\n",
    "UNION ALL\n",
    "SELECT\n",
    "adjusted_value, EO as description\n",
    "FROM __temp__.EO\n",
    "UNION ALL\n",
    "SELECT\n",
    "adjusted_value, ONO as description\n",
    "FROM __temp__.ONO;\n",
    "\"\"\"\n",
    "pydb.create_temp_table(create_App_Lookup_3_table,'App_Lookup_3')"
   ]
  },
  {
   "cell_type": "markdown",
   "id": "9d2945b5",
   "metadata": {},
   "source": [
    "#### App_Lookup_3 validation"
   ]
  },
  {
   "cell_type": "code",
   "execution_count": null,
   "id": "bcb466ce",
   "metadata": {},
   "outputs": [],
   "source": [
    "#App_Lookup_3_count = pydb.read_sql_query(\"SELECT * from __temp__.App_Lookup_3\")\n",
    "#App_Lookup_3_count"
   ]
  },
  {
   "cell_type": "markdown",
   "id": "759cd792",
   "metadata": {},
   "source": [
    "## 13. DV_APPS_FINAL table - This query joins the look-up and the orders data to create a data set with one record per order type.  <a name=DV_APPS_FINAL></a>"
   ]
  },
  {
   "cell_type": "markdown",
   "id": "663eebc6",
   "metadata": {},
   "source": [
    "### Drop the DV_APPS_FINAL table if it already exists and remove its data from the S3 bucket"
   ]
  },
  {
   "cell_type": "code",
   "execution_count": null,
   "id": "4281fcdc",
   "metadata": {},
   "outputs": [],
   "source": [
    "drop_DV_APPS_FINAL = \"DROP TABLE IF EXISTS fcsq.DV_APPS_FINAL\"\n",
    "pydb.start_query_execution_and_wait(drop_DV_APPS_FINAL)\n",
    "bucket.objects.filter(Prefix=\"fcsq_processing/Domestic_Violence/DV_APPS_FINAL\").delete();"
   ]
  },
  {
   "cell_type": "markdown",
   "id": "6ab8e30a",
   "metadata": {},
   "source": [
    "### Create the DV_APPS_FINAL table"
   ]
  },
  {
   "cell_type": "code",
   "execution_count": null,
   "id": "5af9c72c",
   "metadata": {},
   "outputs": [],
   "source": [
    "create_DV_APPS_FINAL_table =f\"\"\"\n",
    "CREATE TABLE IF NOT EXISTS fcsq.DV_APPS_FINAL\n",
    "WITH (format = 'PARQUET', external_location = 's3://alpha-family-data/fcsq_processing/Domestic_Violence/DV_APPS_FINAL') AS\n",
    "SELECT t1.YEAR,\n",
    "       t1.QUARTER,\n",
    "       t1.RECEIPT_DATE,\n",
    "       t1.CASE_NUMBER,\n",
    "       t1.EVENT,\n",
    "       t1.EVENT_COURT,\n",
    "       t1.FIELD_model,\n",
    "       t1.ADJUSTED_VALUE,\n",
    "       t1.CASE_TYPE,\n",
    "       t2.DESCRIPTION\n",
    "FROM fcsq.DV_APPLICATION_EVENTS AS t1 LEFT JOIN __temp__.APP_LOOKUP_3 AS t2 ON (t1.ADJUSTED_VALUE=t2.ADJUSTED_VALUE);\n",
    "\"\"\"\n",
    "pydb.start_query_execution_and_wait(create_DV_APPS_FINAL_table);"
   ]
  },
  {
   "cell_type": "markdown",
   "id": "606c92ca",
   "metadata": {},
   "source": [
    "#### DV_APPS_FINAL validation"
   ]
  },
  {
   "cell_type": "code",
   "execution_count": null,
   "id": "1d796fe7",
   "metadata": {},
   "outputs": [],
   "source": [
    "#DV_APPS_FINAL_count = pydb.read_sql_query(\"SELECT count(*) as count from fcsq.DV_APPS_FINAL\")\n",
    "#DV_APPS_FINAL_count"
   ]
  },
  {
   "cell_type": "markdown",
   "id": "9dc7bd07",
   "metadata": {},
   "source": [
    "## 14. DV_APP_CASES table - This query groups the final data by case so that you can produce the case counts <a name=DV_APP_CASES></a>"
   ]
  },
  {
   "cell_type": "markdown",
   "id": "bbd7c341",
   "metadata": {},
   "source": [
    "### Create the DV_APP_CASES table"
   ]
  },
  {
   "cell_type": "code",
   "execution_count": null,
   "id": "ba171424",
   "metadata": {},
   "outputs": [],
   "source": [
    "create_DV_APP_CASES_table =f\"\"\"\n",
    "SELECT t1.CASE_NUMBER,\n",
    "       /*MIN_RECEIPT*/\n",
    "       MIN(t1.RECEIPT_DATE) AS MIN_RECEIPT,\n",
    "       t1.CASE_TYPE\n",
    "FROM fcsq.DV_APPS_FINAL AS t1\n",
    "GROUP BY CASE_NUMBER, CASE_TYPE;\n",
    "\"\"\"\n",
    "pydb.create_temp_table(create_DV_APP_CASES_table,'DV_APP_CASES')"
   ]
  },
  {
   "cell_type": "markdown",
   "id": "9e9043dd",
   "metadata": {},
   "source": [
    "#### DV_APP_CASES validation"
   ]
  },
  {
   "cell_type": "code",
   "execution_count": null,
   "id": "e75bb311",
   "metadata": {},
   "outputs": [],
   "source": [
    "#DV_APP_CASES_count = pydb.read_sql_query(\"SELECT count(*) as count from __temp__.DV_APP_CASES\")\n",
    "#DV_APP_CASES_count"
   ]
  },
  {
   "cell_type": "markdown",
   "id": "8d88f967",
   "metadata": {},
   "source": [
    "## 15. DV_APP_CASES_FINAL table - This query adds the year and quarter of the receipt date back in so that you can do the case count summmaries <a name=DV_APP_CASES_FINAL></a>"
   ]
  },
  {
   "cell_type": "markdown",
   "id": "2ea781f8",
   "metadata": {},
   "source": [
    "### Drop the DV_APP_CASES_FINAL table if it already exists and remove its data from the S3 bucket"
   ]
  },
  {
   "cell_type": "code",
   "execution_count": null,
   "id": "4304bc7d",
   "metadata": {},
   "outputs": [],
   "source": [
    "drop_DV_APP_CASES_FINAL = \"DROP TABLE IF EXISTS fcsq.DV_APP_CASES_FINAL\"\n",
    "pydb.start_query_execution_and_wait(drop_DV_APP_CASES_FINAL)\n",
    "bucket.objects.filter(Prefix=\"fcsq_processing/Domestic_Violence/DV_APP_CASES_FINAL\").delete();"
   ]
  },
  {
   "cell_type": "markdown",
   "id": "2fb031e9",
   "metadata": {
    "tags": []
   },
   "source": [
    "### Create the DV_APP_CASES_FINAL table"
   ]
  },
  {
   "cell_type": "code",
   "execution_count": null,
   "id": "9869adfd",
   "metadata": {},
   "outputs": [],
   "source": [
    "create_DV_APP_CASES_FINAL_table =f\"\"\"\n",
    "CREATE TABLE IF NOT EXISTS fcsq.DV_APP_CASES_FINAL\n",
    "WITH (format = 'PARQUET', external_location = 's3://alpha-family-data/fcsq_processing/Domestic_Violence/DV_APP_CASES_FINAL') AS\n",
    "SELECT t1.CASE_NUMBER,\n",
    "       t1.MIN_RECEIPT,\n",
    "       /*YEAR*/\n",
    "       EXTRACT(YEAR FROM t1.MIN_RECEIPT) AS YEAR,\n",
    "       /*QUARTER*/\n",
    "       CASE WHEN EXTRACT(MONTH FROM t1.MIN_RECEIPT) between 1 and 3 THEN 1\n",
    "              WHEN EXTRACT(MONTH from t1.MIN_RECEIPT) between 4 and 6 THEN 2\n",
    "              WHEN EXTRACT(month from t1.MIN_RECEIPT) between 7 and 9 THEN 3\n",
    "              WHEN EXTRACT(month from t1.MIN_RECEIPT) between 10 and 12 THEN 4\n",
    "              END AS quarter,\n",
    "       t1.CASE_TYPE\n",
    "FROM __temp__.DV_APP_CASES AS t1;\n",
    "\"\"\"\n",
    "pydb.start_query_execution_and_wait(create_DV_APP_CASES_FINAL_table);"
   ]
  },
  {
   "cell_type": "markdown",
   "id": "c000b152",
   "metadata": {},
   "source": [
    "#### DV_APP_CASES_FINAL validation"
   ]
  },
  {
   "cell_type": "code",
   "execution_count": null,
   "id": "01c73105",
   "metadata": {},
   "outputs": [],
   "source": [
    "#DV_APP_CASES_FINAL_count = pydb.read_sql_query(\"SELECT count(*) as count from fcsq.DV_APP_CASES_FINAL\")\n",
    "#DV_APP_CASES_FINAL_count"
   ]
  },
  {
   "cell_type": "code",
   "execution_count": null,
   "id": "5502dbc1",
   "metadata": {},
   "outputs": [],
   "source": [
    "drop_Applicants = \"DROP TABLE IF EXISTS fcsq.Applicants\"\n",
    "pydb.start_query_execution_and_wait(drop_Applicants)\n",
    "bucket.objects.filter(Prefix=\"fcsq_processing/Domestic_Violence/Applicants\").delete();"
   ]
  },
  {
   "cell_type": "code",
   "execution_count": null,
   "id": "3e043647",
   "metadata": {},
   "outputs": [],
   "source": [
    "create_Applicants_Table = f\"\"\"\n",
    "CREATE TABLE IF NOT EXISTS fcsq.Applicants\n",
    "WITH (format = 'PARQUET', external_location = 's3://alpha-family-data/fcsq_processing/Domestic_Violence/Applicants') AS\n",
    " SELECT DISTINCT\n",
    "   {database}.roles.ROLE, \n",
    "   {database}.roles.REPRESENTATIVE_ROLE, \n",
    "   {database}.roles.ROLE_MODEL, \n",
    "   {database}.roles.PARTY, \n",
    "   {database}.roles.CASE_NUMBER, \n",
    "   {database}.parties.PERSON_GIVEN_FIRST_NAME, \n",
    "   {database}.parties.PERSON_FAMILY_NAME, \n",
    "   {database}.parties.COMPANY, \n",
    "   {database}.addresses.POSTCODE, \n",
    "   {database}.parties.GENDER, \n",
    "   {database}.roles.DELETE_FLAG\n",
    "FROM \n",
    "  ({database}.roles INNER JOIN {database}.parties ON {database}.roles.PARTY = {database}.parties.PARTY) \n",
    "  INNER JOIN {database}.addresses ON {database}.roles.ADDRESS = {database}.addresses.ADDRESS\n",
    "WHERE (((({database}.roles.ROLE_MODEL)= 'APLC') AND (({database}.roles.DELETE_FLAG)= 'N'))\n",
    "    OR ((({database}.roles.ROLE_MODEL)= 'APLZ') AND (({database}.roles.DELETE_FLAG)= 'N')) \n",
    "    OR ((({database}.roles.ROLE_MODEL)= 'APLA') AND (({database}.roles.DELETE_FLAG)= 'N')))\n",
    "    AND {database}.roles.mojap_snapshot_date = date '{snapshot_date}'\n",
    "    AND {database}.parties.mojap_snapshot_date = date '{snapshot_date}'\n",
    "    AND {database}.addresses.mojap_snapshot_date = date '{snapshot_date}';\n",
    "\"\"\"\n",
    "\n",
    "pydb.start_query_execution_and_wait(create_Applicants_Table);"
   ]
  },
  {
   "cell_type": "code",
   "execution_count": null,
   "id": "6c8ad037",
   "metadata": {},
   "outputs": [],
   "source": [
    "#Applicants_count = pydb.read_sql_query(\"SELECT count(*) as count from fcsq.Applicants\")\n",
    "#Applicants_count"
   ]
  },
  {
   "cell_type": "markdown",
   "id": "f7c339a5",
   "metadata": {},
   "source": [
    "## 16. DV_APP_GENDER table - Below code is to add the gender of the applicant to the final application table. However, these don't match FCSQ final application figures. This is because there are a number of instances where there is both a male and a female applicant listed under the same application event and case number. <a name=DV_APP_GENDER></a>"
   ]
  },
  {
   "cell_type": "markdown",
   "id": "b711705e",
   "metadata": {},
   "source": [
    "### Drop the DV_APP_GENDER table if it already exists and remove its data from the S3 bucket"
   ]
  },
  {
   "cell_type": "code",
   "execution_count": null,
   "id": "d51db788",
   "metadata": {},
   "outputs": [],
   "source": [
    "drop_DV_APP_GENDER = \"DROP TABLE IF EXISTS fcsq.DV_APP_GENDER\"\n",
    "pydb.start_query_execution_and_wait(drop_DV_APP_GENDER)\n",
    "bucket.objects.filter(Prefix=\"fcsq_processing/Domestic_Violence/DV_APP_GENDER\").delete();"
   ]
  },
  {
   "cell_type": "markdown",
   "id": "fae8dc56",
   "metadata": {},
   "source": [
    "### Create the DV_APP_GENDER table"
   ]
  },
  {
   "cell_type": "code",
   "execution_count": null,
   "id": "b1c3e6ca",
   "metadata": {},
   "outputs": [],
   "source": [
    "create_DV_APP_GENDER_table =f\"\"\"\n",
    "CREATE TABLE IF NOT EXISTS fcsq.DV_APP_GENDER\n",
    "WITH (format = 'PARQUET', external_location = 's3://alpha-family-data/fcsq_processing/Domestic_Violence/DV_APP_GENDER') AS\n",
    "SELECT DISTINCT t1.YEAR,\n",
    "       t1.QUARTER,\n",
    "       t1.RECEIPT_DATE,\n",
    "       t1.CASE_NUMBER,\n",
    "       t1.EVENT,\n",
    "       t1.EVENT_COURT,\n",
    "       t1.FIELD_model,\n",
    "       t1.ADJUSTED_VALUE,\n",
    "       t1.DESCRIPTION,\n",
    "       t2.Gender,\n",
    "       Case when t2.Gender = 1\n",
    "              Then 'Male'\n",
    "                When t2.Gender = 2\n",
    "                Then 'Female'\n",
    "            Else 'Unknown'\n",
    "            End as Gender2\n",
    "FROM fcsq.DV_APPS_FINAL AS t1 LEFT JOIN fcsq.Applicants AS t2 ON (t1.CASE_NUMBER=t2.CASE_NUMBER);\n",
    "\n",
    "\"\"\"\n",
    "pydb.start_query_execution_and_wait(create_DV_APP_GENDER_table);"
   ]
  },
  {
   "cell_type": "markdown",
   "id": "4fd375ed",
   "metadata": {},
   "source": [
    "#### DV_APP_GENDER validation"
   ]
  },
  {
   "cell_type": "code",
   "execution_count": null,
   "id": "ffa19f89",
   "metadata": {},
   "outputs": [],
   "source": [
    "#DV_APP_GENDER_count = pydb.read_sql_query(\"SELECT count(*) as count from fcsq.DV_APP_GENDER\")\n",
    "#DV_APP_GENDER_count"
   ]
  },
  {
   "cell_type": "markdown",
   "id": "729b04a3",
   "metadata": {},
   "source": [
    "## 17. APP_COURT_AGG1 table - This query aggregates the final data so that you can produce the court level applications summary. <a name=APP_COURT_AGG1></a>"
   ]
  },
  {
   "cell_type": "markdown",
   "id": "77615dff",
   "metadata": {},
   "source": [
    "### Create the APP_COURT_AGG1 table"
   ]
  },
  {
   "cell_type": "code",
   "execution_count": null,
   "id": "5d9625e1",
   "metadata": {},
   "outputs": [],
   "source": [
    "create_APP_COURT_AGG1_table =f\"\"\"\n",
    "SELECT t1.YEAR,\n",
    "       t1.QUARTER,\n",
    "       t1.EVENT_COURT,\n",
    "       t1.CASE_NUMBER\n",
    "       \n",
    "FROM fcsq.DV_APPS_FINAL AS t1\n",
    "GROUP BY t1.YEAR,\n",
    "       t1.QUARTER,\n",
    "       t1.EVENT_COURT,\n",
    "       t1.CASE_NUMBER;\n",
    "\n",
    "\"\"\"\n",
    "pydb.create_temp_table(create_APP_COURT_AGG1_table,'APP_COURT_AGG1')"
   ]
  },
  {
   "cell_type": "markdown",
   "id": "8c8da321",
   "metadata": {},
   "source": [
    "#### APP_COURT_AGG1 validation"
   ]
  },
  {
   "cell_type": "code",
   "execution_count": null,
   "id": "a4070c1f",
   "metadata": {},
   "outputs": [],
   "source": [
    "#APP_COURT_AGG1_count = pydb.read_sql_query(\"SELECT count(*) as count from __temp__.APP_COURT_AGG1\")\n",
    "#APP_COURT_AGG1_count"
   ]
  },
  {
   "cell_type": "markdown",
   "id": "3a5d7c63-b8d3-4827-9653-b370771264ba",
   "metadata": {},
   "source": [
    "# Stage 2 - Orders\n",
    "<a name=\"orders\"></a>"
   ]
  },
  {
   "cell_type": "markdown",
   "id": "9da503a4",
   "metadata": {},
   "source": [
    "## 18. DV_Orders_2 table - This query limits the data to domestic violence orders (NM and OCC)and deletes the general orders (GEN) and undertakings (UND). <a name=DV_Orders_2></a>"
   ]
  },
  {
   "cell_type": "markdown",
   "id": "c8e6d2b3",
   "metadata": {},
   "source": [
    "### Create the DV_Orders_2 table"
   ]
  },
  {
   "cell_type": "code",
   "execution_count": null,
   "id": "cd6937fa",
   "metadata": {},
   "outputs": [],
   "source": [
    "create_DV_Orders_2_table =f\"\"\"\n",
    "SELECT \n",
    "* \n",
    "FROM\n",
    "fcsq.DV_Ords1\n",
    "Where strpos(value, 'NM') <> 0\n",
    "Or strpos(value,'OCC') <> 0;\n",
    "\"\"\"\n",
    "pydb.create_temp_table(create_DV_Orders_2_table,'DV_Orders_2')"
   ]
  },
  {
   "cell_type": "markdown",
   "id": "b96d8c21",
   "metadata": {},
   "source": [
    "#### DV_Orders_2 validation"
   ]
  },
  {
   "cell_type": "code",
   "execution_count": null,
   "id": "59a6fc13",
   "metadata": {},
   "outputs": [],
   "source": [
    "#DV_Orders_2_count = pydb.read_sql_query(\"SELECT count(*) as count from __temp__.DV_Orders_2\")\n",
    "#DV_Orders_2_count"
   ]
  },
  {
   "cell_type": "markdown",
   "id": "00919329",
   "metadata": {},
   "source": [
    "## 19. Order_Lookup_1 table - This query aggregates the orders data to one record per value (order type string). <a name=Order_Lookup_1></a>"
   ]
  },
  {
   "cell_type": "markdown",
   "id": "c63f8b9d",
   "metadata": {},
   "source": [
    "### Create the Order_Lookup_1 table"
   ]
  },
  {
   "cell_type": "code",
   "execution_count": null,
   "id": "d74d2329",
   "metadata": {},
   "outputs": [],
   "source": [
    "create_Order_Lookup_1_table =f\"\"\"\n",
    "SELECT DISTINCT t1.VALUE\n",
    "FROM __temp__.DV_Orders_2 AS t1;\n",
    "\"\"\"\n",
    "pydb.create_temp_table(create_Order_Lookup_1_table,'Order_Lookup_1')"
   ]
  },
  {
   "cell_type": "markdown",
   "id": "57518727",
   "metadata": {},
   "source": [
    "#### Order_Lookup_1 validation"
   ]
  },
  {
   "cell_type": "code",
   "execution_count": null,
   "id": "e149fd68",
   "metadata": {},
   "outputs": [],
   "source": [
    "#Order_Lookup_1_count = pydb.read_sql_query(\"SELECT count(*) as count from __temp__.Order_Lookup_1\")\n",
    "#Order_Lookup_1_count"
   ]
  },
  {
   "cell_type": "markdown",
   "id": "5b5c0d11",
   "metadata": {},
   "source": [
    "## 20. Order_Lookup_2 table - This query looks at the value string to see whether each order type is included.  If so, it puts the order type.  <a name=Order_Lookup_2></a>"
   ]
  },
  {
   "cell_type": "markdown",
   "id": "bff36592",
   "metadata": {},
   "source": [
    "### Create the Order_Lookup_2 table"
   ]
  },
  {
   "cell_type": "code",
   "execution_count": null,
   "id": "e4028664",
   "metadata": {},
   "outputs": [],
   "source": [
    "create_Order_Lookup_2_table =f\"\"\"\n",
    "SELECT t1.VALUE,\n",
    "       /*NM*/\n",
    "       case when strpos(value, 'NM') <> 0 then 'Non-Molestation' else '' END AS NM,\n",
    "       /*OCC*/\n",
    "       case when strpos(value, 'OCC') <> 0 then 'Occupation' else '' END AS OCC\n",
    "FROM __temp__.Order_Lookup_1 AS t1;\n",
    "\"\"\"\n",
    "pydb.create_temp_table(create_Order_Lookup_2_table,'Order_Lookup_2')"
   ]
  },
  {
   "cell_type": "markdown",
   "id": "aa39f8b9",
   "metadata": {},
   "source": [
    "#### Order_Lookup_2 validation"
   ]
  },
  {
   "cell_type": "code",
   "execution_count": null,
   "id": "e1dc18ec",
   "metadata": {},
   "outputs": [],
   "source": [
    "#Order_Lookup_2_count = pydb.read_sql_query(\"SELECT count(*) as count from __temp__.Order_Lookup_2\")\n",
    "#Order_Lookup_2_count"
   ]
  },
  {
   "cell_type": "markdown",
   "id": "1af740da",
   "metadata": {},
   "source": [
    "## 21. Order_LOOKUP3 table - This query breaks up the results from the previous query in to separate data sets for the two order types, then puts the data sets for the two order types together, so that there's one record per order type. <a name=Order_LOOKUP3></a>"
   ]
  },
  {
   "cell_type": "markdown",
   "id": "e0964437",
   "metadata": {},
   "source": [
    "### Splits previous lookup"
   ]
  },
  {
   "cell_type": "code",
   "execution_count": null,
   "id": "2c89692d",
   "metadata": {},
   "outputs": [],
   "source": [
    "create_NM_table =f\"\"\"\n",
    "SELECT\n",
    "Value,\n",
    "NM\n",
    "FROM __temp__.ORDER_LOOKUP_2\n",
    "WHERE NM = 'Non-Molestation'\n",
    "\"\"\"\n",
    "pydb.create_temp_table(create_NM_table,'NM')\n",
    "print (\"NM done \")\n",
    "\n",
    "create_OCC_table =f\"\"\"\n",
    "SELECT\n",
    "Value,\n",
    "OCC\n",
    "FROM __temp__.ORDER_LOOKUP_2\n",
    "WHERE OCC = 'Occupation'\n",
    "\"\"\"\n",
    "pydb.create_temp_table(create_OCC_table,'OCC')\n",
    "print (\"OCC done \")"
   ]
  },
  {
   "cell_type": "markdown",
   "id": "11463523",
   "metadata": {},
   "source": [
    "### Creates new lookup"
   ]
  },
  {
   "cell_type": "code",
   "execution_count": null,
   "id": "b47a4cba",
   "metadata": {},
   "outputs": [],
   "source": [
    "#Equivalent to dvint.APP_LOOKUP4 in SAS code\n",
    "\n",
    "create_Order_Lookup_3_table = f\"\"\"\n",
    "SELECT\n",
    "value, NM as description\n",
    "FROM __temp__.NM\n",
    "UNION ALL\n",
    "SELECT\n",
    "Value, OCC as description\n",
    "FROM __temp__.OCC;\n",
    "\"\"\"\n",
    "pydb.create_temp_table(create_Order_Lookup_3_table,'Order_Lookup_3')"
   ]
  },
  {
   "cell_type": "markdown",
   "id": "388d22bd",
   "metadata": {},
   "source": [
    "#### Order_Lookup_3 validation"
   ]
  },
  {
   "cell_type": "code",
   "execution_count": null,
   "id": "3ea07f91",
   "metadata": {},
   "outputs": [],
   "source": [
    "#Order_Lookup_3_count = pydb.read_sql_query(\"SELECT * from __temp__.Order_Lookup_3\")\n",
    "#Order_Lookup_3_count"
   ]
  },
  {
   "cell_type": "markdown",
   "id": "3ebc55a0",
   "metadata": {},
   "source": [
    "## 22. Orders3 table - This query joins the look up table to the data on orders and brings back the order types. <a name=Orders3></a>"
   ]
  },
  {
   "cell_type": "markdown",
   "id": "839b1b2d",
   "metadata": {},
   "source": [
    "### Create the Orders3 table"
   ]
  },
  {
   "cell_type": "code",
   "execution_count": null,
   "id": "e7ea488e",
   "metadata": {},
   "outputs": [],
   "source": [
    "create_Orders3_table =f\"\"\"\n",
    "SELECT t1.Receipt_Date,\n",
    "       t1.Case_Number,\n",
    "       t1.Event,\n",
    "       t1.Field_Model,\n",
    "       t2.Description\n",
    "FROM __temp__.DV_Orders_2 AS t1 LEFT JOIN __temp__.Order_LookUp_3 As t2 ON (t1.VALUE=t2.VALUE);\n",
    "\"\"\"\n",
    "pydb.create_temp_table(create_Orders3_table,'Orders3')"
   ]
  },
  {
   "cell_type": "markdown",
   "id": "b202bf28",
   "metadata": {},
   "source": [
    "#### Orders3 validation"
   ]
  },
  {
   "cell_type": "code",
   "execution_count": null,
   "id": "a0096c66",
   "metadata": {},
   "outputs": [],
   "source": [
    "#Orders3_count = pydb.read_sql_query(\"SELECT count(*) as count from __temp__.Orders3\")\n",
    "#Orders3_count"
   ]
  },
  {
   "cell_type": "markdown",
   "id": "bb527c20",
   "metadata": {},
   "source": [
    "## 23. Orders4 table - This query calculates the year and quarter so you can do the later summaries <a name=Orders4></a>"
   ]
  },
  {
   "cell_type": "markdown",
   "id": "c5458ee1",
   "metadata": {},
   "source": [
    "### Create the Orders4 table"
   ]
  },
  {
   "cell_type": "code",
   "execution_count": null,
   "id": "1c74cb68",
   "metadata": {},
   "outputs": [],
   "source": [
    "create_Orders4_table =f\"\"\"\n",
    "SELECT DISTINCT/*YEAR*/\n",
    "               EXTRACT(year from t1.RECEIPT_DATE) AS YEAR,\n",
    "              /*QUARTER*/\n",
    "              CASE WHEN EXTRACT(Month FROM (t1.receipt_date)) <4 THEN 1\n",
    "              WHEN EXTRACT(Month FROM (t1.receipt_date)) <7 THEN 2\n",
    "              WHEN EXTRACT(Month FROM (t1.receipt_date))<10 THEN 3\n",
    "              ELSE 4\n",
    "              END AS quarter,\n",
    "              t1.Receipt_Date,\n",
    "              t1.Case_Number,\n",
    "              t1.Event,\n",
    "              /*Event_Court*/\n",
    "              cast((t1.EVENT / 100000000) as int)  AS EVENT_COURT,\n",
    "              t1.Field_Model,\n",
    "              t1.Description\n",
    "FROM __temp__.Orders3 AS t1;\n",
    "\"\"\"\n",
    "pydb.create_temp_table(create_Orders4_table,'Orders4')"
   ]
  },
  {
   "cell_type": "markdown",
   "id": "a1f85a53",
   "metadata": {},
   "source": [
    "#### Orders4 validation"
   ]
  },
  {
   "cell_type": "code",
   "execution_count": null,
   "id": "dd5bf3ab",
   "metadata": {},
   "outputs": [],
   "source": [
    "#Orders4_count = pydb.read_sql_query(\"SELECT count(*) as count from __temp__.Orders4\")\n",
    "#Orders4_count"
   ]
  },
  {
   "cell_type": "markdown",
   "id": "898ed80f",
   "metadata": {},
   "source": [
    "## 24. POA_CASE_LIST table - This query aggregates the power of arrest (POA) data to one record per case. <a name=POA_CASE_LIST></a>"
   ]
  },
  {
   "cell_type": "markdown",
   "id": "4190c85a",
   "metadata": {},
   "source": [
    "### Create the POA_CASE_LIST table"
   ]
  },
  {
   "cell_type": "code",
   "execution_count": null,
   "id": "a97982d8",
   "metadata": {},
   "outputs": [],
   "source": [
    "create_POA_CASE_LIST_table =f\"\"\"\n",
    "SELECT DISTINCT t1.event\n",
    "FROM fcsq.DV_POA_CASES AS t1;\n",
    "\"\"\"\n",
    "pydb.create_temp_table(create_POA_CASE_LIST_table,'POA_CASE_LIST')"
   ]
  },
  {
   "cell_type": "markdown",
   "id": "88e718ac",
   "metadata": {},
   "source": [
    "#### POA_CASE_LIST validation"
   ]
  },
  {
   "cell_type": "code",
   "execution_count": null,
   "id": "e0093efb",
   "metadata": {},
   "outputs": [],
   "source": [
    "#POA_CASE_LIST_count = pydb.read_sql_query(\"SELECT count(*) as count from __temp__.POA_CASE_LIST\")\n",
    "#POA_CASE_LIST_count"
   ]
  },
  {
   "cell_type": "markdown",
   "id": "d5d1e9f2",
   "metadata": {},
   "source": [
    "## 25. ORD_WITH_POA table - This query joins the information on POA and respondent attendance to the data on orders. Also adding a Case_Type at this stage <a name=ORD_WITH_POA></a>"
   ]
  },
  {
   "cell_type": "markdown",
   "id": "ffb7e7fc",
   "metadata": {},
   "source": [
    "### Create the ORD_WITH_POA table"
   ]
  },
  {
   "cell_type": "code",
   "execution_count": null,
   "id": "4f0b7487",
   "metadata": {},
   "outputs": [],
   "source": [
    "create_ORD_WITH_POA_table =f\"\"\"\n",
    "SELECT        t1.YEAR,\n",
    "              t1.QUARTER,\n",
    "              t1.Receipt_Date,\n",
    "              t1.Case_Number,\n",
    "              t1.Event,\n",
    "              t1.Event_Court,\n",
    "              t1.Field_Model,\n",
    "              t1.Description,\n",
    "              CASE WHEN (Substr(t1.CASE_NUMBER,5,1)) = 'F'\n",
    "                THEN 'Domestic Violence'\n",
    "                WHEN (Substr(t1.CASE_NUMBER,5,1)) IN ('C', 'P')\n",
    "                THEN 'Childrens Act'\n",
    "                WHEN (Substr(t1.CASE_NUMBER,5,1)) IN ('A', 'Z')\n",
    "                THEN 'Adoption'\n",
    "                ELSE 'Other' END AS CASE_TYPE,\n",
    "              t2.event AS POA_IND,\n",
    "              t3.VALUE AS Res_Attend\n",
    "FROM __temp__.Orders4 AS t1 LEFT JOIN __temp__.POA_CASE_LIST AS t2 \n",
    "ON (t1.event=t2.event) \n",
    "LEFT JOIN fcsq.RES_ATTENDANCE_INFO AS t3 ON (t1.EVENT=t3.EVENT);\n",
    "\"\"\"\n",
    "pydb.create_temp_table(create_ORD_WITH_POA_table,'ORD_WITH_POA')"
   ]
  },
  {
   "cell_type": "markdown",
   "id": "625a39b2",
   "metadata": {},
   "source": [
    "#### ORD_WITH_POA validation"
   ]
  },
  {
   "cell_type": "code",
   "execution_count": null,
   "id": "bccac85d",
   "metadata": {},
   "outputs": [],
   "source": [
    "#ORD_WITH_POA_count = pydb.read_sql_query(\"SELECT count(*) as count from __temp__.ORD_WITH_POA\")\n",
    "#ORD_WITH_POA_count"
   ]
  },
  {
   "cell_type": "markdown",
   "id": "c82e878c",
   "metadata": {},
   "source": [
    "## 26. DV_ORDS_FINAL table - This query creates the final data set on domestic violence orders, refining the POA and respondent attendance information to find whether power of arrest was attached and whether the case was exparte or on notice <a name=DV_ORDS_FINAL></a>"
   ]
  },
  {
   "cell_type": "markdown",
   "id": "c374c755",
   "metadata": {},
   "source": [
    "### Drop the DV_ORDS_FINAL table if it already exists and remove its data from the S3 bucket"
   ]
  },
  {
   "cell_type": "code",
   "execution_count": null,
   "id": "65171f30",
   "metadata": {},
   "outputs": [],
   "source": [
    "drop_DV_ORDS_FINAL = \"DROP TABLE IF EXISTS fcsq.DV_ORDS_FINAL\"\n",
    "pydb.start_query_execution_and_wait(drop_DV_ORDS_FINAL)\n",
    "bucket.objects.filter(Prefix=\"fcsq_processing/Domestic_Violence/DV_ORDS_FINAL\").delete();"
   ]
  },
  {
   "cell_type": "markdown",
   "id": "850b7e0b",
   "metadata": {},
   "source": [
    "### Create the DV_ORDS_FINAL table"
   ]
  },
  {
   "cell_type": "code",
   "execution_count": null,
   "id": "43b4ee61",
   "metadata": {},
   "outputs": [],
   "source": [
    "create_DV_ORDS_FINAL_table =f\"\"\"\n",
    "CREATE TABLE IF NOT EXISTS fcsq.DV_ORDS_FINAL\n",
    "WITH (format = 'PARQUET', external_location = 's3://alpha-family-data/fcsq_processing/Domestic_Violence/DV_ORDS_FINAL') AS\n",
    "SELECT \n",
    "Year,\n",
    "Quarter,\n",
    "Receipt_Date,\n",
    "Case_Number,\n",
    "Event,\n",
    "Event_Court,\n",
    "Field_Model,\n",
    "Description,\n",
    "Case_Type,\n",
    "Res_Attend,\n",
    "CASE WHEN POA_IND IS NOT NULL then 'POA' ELSE 'No POA' end as POA,\n",
    "CASE WHEN Res_Attend='F' then 'Exparte' else 'On Notice' end as TYPE\n",
    "FROM __temp__.ORD_WITH_POA;\n",
    "\"\"\"\n",
    "pydb.start_query_execution_and_wait(create_DV_ORDS_FINAL_table);"
   ]
  },
  {
   "cell_type": "markdown",
   "id": "b50f12ab",
   "metadata": {},
   "source": [
    "#### DV_ORDS_FINAL validation"
   ]
  },
  {
   "cell_type": "code",
   "execution_count": null,
   "id": "52d82ae3",
   "metadata": {},
   "outputs": [],
   "source": [
    "#DV_ORDS_FINAL_count = pydb.read_sql_query(\"SELECT count(*) as count from fcsq.DV_ORDS_FINAL\")\n",
    "#DV_ORDS_FINAL_count"
   ]
  },
  {
   "cell_type": "markdown",
   "id": "8de10404",
   "metadata": {},
   "source": [
    "## 27. DV_ORD_CASES table - This query aggregates the final orders data, taking the last order date. <a name=DV_ORD_CASES></a>"
   ]
  },
  {
   "cell_type": "markdown",
   "id": "54bee5f7",
   "metadata": {},
   "source": [
    "### Create the DV_ORD_CASES table"
   ]
  },
  {
   "cell_type": "code",
   "execution_count": null,
   "id": "13ca95ed",
   "metadata": {},
   "outputs": [],
   "source": [
    "create_DV_ORD_CASES_table =f\"\"\"\n",
    "SELECT t1.CASE_NUMBER,\n",
    "       /*MAX_RECEIPT*/\n",
    "       MAX(t1.RECEIPT_DATE) AS MAX_RECEIPT,\n",
    "       t1.CASE_TYPE\n",
    "FROM fcsq.DV_Ords_Final AS t1\n",
    "GROUP BY CASE_NUMBER, CASE_TYPE;\n",
    "\n",
    "\"\"\"\n",
    "pydb.create_temp_table(create_DV_ORD_CASES_table,'DV_ORD_CASES')"
   ]
  },
  {
   "cell_type": "markdown",
   "id": "e18c0983",
   "metadata": {},
   "source": [
    "#### DV_ORD_CASES validation"
   ]
  },
  {
   "cell_type": "code",
   "execution_count": null,
   "id": "979d31f8",
   "metadata": {},
   "outputs": [],
   "source": [
    "#DV_ORD_CASES_count = pydb.read_sql_query(\"SELECT count(*) as count from __temp__.DV_ORD_CASES\")\n",
    "#DV_ORD_CASES_count"
   ]
  },
  {
   "cell_type": "markdown",
   "id": "e5f164be",
   "metadata": {},
   "source": [
    "## 28. DV_ORD_CASES_FINAL table - This query calculates the year and quarter of the last order date <a name=DV_ORD_CASES_FINAL></a>"
   ]
  },
  {
   "cell_type": "markdown",
   "id": "d55f1376",
   "metadata": {},
   "source": [
    "### Drop the DV_ORD_CASES_FINAL table if it already exists and remove its data from the S3 bucket"
   ]
  },
  {
   "cell_type": "code",
   "execution_count": null,
   "id": "86bfc272",
   "metadata": {},
   "outputs": [],
   "source": [
    "drop_DV_ORD_CASES_FINAL = \"DROP TABLE IF EXISTS fcsq.DV_ORD_CASES_FINAL\"\n",
    "pydb.start_query_execution_and_wait(drop_DV_ORD_CASES_FINAL)\n",
    "bucket.objects.filter(Prefix=\"fcsq_processing/Domestic_Violence/DV_ORD_CASES_FINAL\").delete();"
   ]
  },
  {
   "cell_type": "markdown",
   "id": "abb8a80b",
   "metadata": {},
   "source": [
    "### Create the DV_ORD_CASES_FINAL table"
   ]
  },
  {
   "cell_type": "code",
   "execution_count": null,
   "id": "0b18ca61",
   "metadata": {},
   "outputs": [],
   "source": [
    "create_DV_ORD_CASES_FINAL_table =f\"\"\"\n",
    "CREATE TABLE IF NOT EXISTS fcsq.DV_ORD_CASES_FINAL\n",
    "WITH (format = 'PARQUET', external_location = 's3://alpha-family-data/fcsq_processing/Domestic_Violence/DV_ORD_CASES_FINAL') AS\n",
    "SELECT t1.CASE_NUMBER,\n",
    "       t1.MAX_RECEIPT,\n",
    "       /*YEAR*/\n",
    "       YEAR(t1.MAX_RECEIPT) AS YEAR,\n",
    "       /*QUARTER*/\n",
    "      CASE WHEN EXTRACT(Month FROM (t1.MAX_RECEIPT)) <4 THEN 1\n",
    "              WHEN EXTRACT(Month FROM (t1.MAX_RECEIPT)) <7 THEN 2\n",
    "              WHEN EXTRACT(Month FROM (t1.MAX_RECEIPT)) <10 THEN 3\n",
    "              ELSE 4\n",
    "              END AS quarter,\n",
    "       t1.CASE_TYPE\n",
    "FROM __temp__.DV_ORD_CASES AS t1;\n",
    "\"\"\"\n",
    "pydb.start_query_execution_and_wait(create_DV_ORD_CASES_FINAL_table);"
   ]
  },
  {
   "cell_type": "markdown",
   "id": "5a457c5a",
   "metadata": {},
   "source": [
    "#### DV_ORD_CASES_FINAL validation"
   ]
  },
  {
   "cell_type": "code",
   "execution_count": null,
   "id": "72f53fb3",
   "metadata": {},
   "outputs": [],
   "source": [
    "#DV_ORD_CASES_FINAL_count = pydb.read_sql_query(\"SELECT count(*) as count from fcsq.DV_ORD_CASES_FINAL\")\n",
    "#DV_ORD_CASES_FINAL_count"
   ]
  },
  {
   "cell_type": "markdown",
   "id": "4ab8c745-5a4d-4294-b0a9-75e98b05f3c3",
   "metadata": {},
   "source": [
    "# Stage 3 - Preparing the final output\n",
    "<a name=\"Preparing_the_final_output\"></a>"
   ]
  },
  {
   "cell_type": "markdown",
   "id": "809417c6",
   "metadata": {},
   "source": [
    "## 29. DV_APPS table - Prepares the applications data for CSV output <a name=DV_APPS></a>"
   ]
  },
  {
   "cell_type": "markdown",
   "id": "c563dea5",
   "metadata": {},
   "source": [
    "### Create the DV_APPS table"
   ]
  },
  {
   "cell_type": "code",
   "execution_count": null,
   "id": "1347af03",
   "metadata": {},
   "outputs": [],
   "source": [
    "create_DV_APPS_table =f\"\"\"\n",
    "SELECT *, count(*) as Total FROM(\n",
    "SELECT\n",
    "  Year,\n",
    "  Quarter,\n",
    "  Case_Type,\n",
    "  'Orders applied for' AS Type,\n",
    "  CASE WHEN DESCRIPTION IN ('Exparte Non-Molestation', 'On Notice Non-Molestation')\n",
    "    THEN 'Non-Molestation'\n",
    "       WHEN DESCRIPTION IN ('Exparte Occupation', 'On Notice Occupation')\n",
    "    THEN 'Occupation'\n",
    "      ELSE 'Check'\n",
    "   END AS Order_type,\n",
    "  CASE WHEN DESCRIPTION IN ('Exparte Non-Molestation','Exparte Occupation')\n",
    "     THEN 'Exparte'\n",
    "       WHEN DESCRIPTION IN ('On Notice Non-Molestation','On Notice Occupation')\n",
    "     THEN 'On Notice' /*Should this just be 'on'? as this is in the current csv value, capitalised for consistency*/\n",
    "      ELSE 'Check'\n",
    "   END AS  Exparte_or_On_Notice,\n",
    "   'n/a' as Power_of_arrest\n",
    " FROM\n",
    "   fcsq.DV_APPS_FINAL\n",
    " WHERE \n",
    "  YEAR > 2010)\n",
    " GROUP BY\n",
    "  Type,\n",
    "  Year,\n",
    "  Quarter,\n",
    "  Order_type,\n",
    "  Exparte_or_On_Notice,\n",
    "  Power_of_arrest,\n",
    "  Case_Type\n",
    "  ORDER BY\n",
    "  Type,\n",
    "  Year,\n",
    "  Quarter,\n",
    "  Order_type,\n",
    "  Exparte_or_On_Notice,\n",
    "  Power_of_arrest,\n",
    "  Case_Type;\n",
    "\"\"\"\n",
    "pydb.create_temp_table(create_DV_APPS_table,'DV_APPS')"
   ]
  },
  {
   "cell_type": "markdown",
   "id": "d9cbf8e5",
   "metadata": {},
   "source": [
    "#### DV_APPS validation"
   ]
  },
  {
   "cell_type": "code",
   "execution_count": null,
   "id": "8f3d6823",
   "metadata": {},
   "outputs": [],
   "source": [
    "#DV_APPS_count = pydb.read_sql_query(\"SELECT count(*) as count from __temp__.DV_APPS\")\n",
    "#DV_APPS_count"
   ]
  },
  {
   "cell_type": "markdown",
   "id": "686ef897",
   "metadata": {},
   "source": [
    "## 30. DV_APP_COUNT table - Adding a Count for de duplicated applications <a name=DV_APP_COUNT></a>"
   ]
  },
  {
   "cell_type": "markdown",
   "id": "b84abd1d",
   "metadata": {},
   "source": [
    "### Create the DV_APP_COUNT table"
   ]
  },
  {
   "cell_type": "code",
   "execution_count": null,
   "id": "01eadd9e",
   "metadata": {},
   "outputs": [],
   "source": [
    "create_DV_APP_COUNT_table =f\"\"\"\n",
    "SELECT *,COUNT(*) AS Total FROM\n",
    "(SELECT  \n",
    "Year, \n",
    "Quarter,\n",
    "Case_Type,\n",
    "'Application events' AS Type, \n",
    "'n/a' AS Order_type, \n",
    "'n/a' AS Exparte_or_On_Notice, \n",
    "'n/a' AS Power_of_Arrest\n",
    "FROM fcsq.DV_APPLICATION_EVENTS\n",
    "WHERE YEAR > 2010)\n",
    "GROUP BY\n",
    "  Type,\n",
    "  Year,\n",
    "  Quarter,\n",
    "  Order_type,\n",
    "  Exparte_or_On_Notice,\n",
    "  Power_of_arrest,\n",
    "  Case_Type\n",
    "ORDER BY\n",
    "  Type,\n",
    "  Year,\n",
    "  Quarter,\n",
    "  Order_type,\n",
    "  Exparte_or_On_Notice,\n",
    "  Power_of_arrest,\n",
    "  Case_Type;\n",
    "\"\"\"\n",
    "pydb.create_temp_table(create_DV_APP_COUNT_table,'DV_APP_COUNT')"
   ]
  },
  {
   "cell_type": "markdown",
   "id": "f7668d89",
   "metadata": {},
   "source": [
    "#### DV_APP_COUNT validation"
   ]
  },
  {
   "cell_type": "code",
   "execution_count": null,
   "id": "abde83ab",
   "metadata": {},
   "outputs": [],
   "source": [
    "#DV_APP_COUNT_count = pydb.read_sql_query(\"SELECT count(*) as count from __temp__.DV_APP_COUNT\")\n",
    "#DV_APP_COUNT_count"
   ]
  },
  {
   "cell_type": "markdown",
   "id": "da6d7712",
   "metadata": {},
   "source": [
    "## 31. DV_ORDERS table - Prepares the orders data for CSV output <a name=DV_ORDERS></a>"
   ]
  },
  {
   "cell_type": "markdown",
   "id": "014685de",
   "metadata": {},
   "source": [
    "### Create the DV_ORDERS table"
   ]
  },
  {
   "cell_type": "code",
   "execution_count": null,
   "id": "2951568d",
   "metadata": {},
   "outputs": [],
   "source": [
    "create_DV_ORDERS_table =f\"\"\"\n",
    "SELECT *,count(*) as Total FROM(\n",
    "SELECT\n",
    "  Year,\n",
    "  Quarter,\n",
    "  Case_Type,\n",
    "  'Orders made' AS Type,\n",
    "  DESCRIPTION AS Order_type,\n",
    "  Type AS Exparte_or_On_Notice,\n",
    "  POA as Power_of_arrest  \n",
    " FROM\n",
    "   fcsq.DV_Ords_Final\n",
    " WHERE \n",
    "  YEAR > 2010)\n",
    " GROUP BY \n",
    "  Year,\n",
    "  Quarter,\n",
    "  case_type,\n",
    "  Type,\n",
    "  Order_type,\n",
    "  Exparte_or_On_Notice,\n",
    "  Power_of_arrest\n",
    "ORDER BY\n",
    "  Type,\n",
    "  Year,\n",
    "  Quarter,\n",
    "  Order_type,\n",
    "  Exparte_or_On_Notice,\n",
    "  Power_of_arrest,\n",
    "  Case_Type;\n",
    "  \"\"\"\n",
    "pydb.create_temp_table(create_DV_ORDERS_table,'DV_ORDERS')"
   ]
  },
  {
   "cell_type": "markdown",
   "id": "ee0151d9",
   "metadata": {},
   "source": [
    "#### DV_ORDERS validation"
   ]
  },
  {
   "cell_type": "code",
   "execution_count": null,
   "id": "d57f394f",
   "metadata": {},
   "outputs": [],
   "source": [
    "#DV_ORDERS_count = pydb.read_sql_query(\"SELECT * from __temp__.DV_ORDERS\")\n",
    "#DV_ORDERS_count"
   ]
  },
  {
   "cell_type": "markdown",
   "id": "a311641e",
   "metadata": {},
   "source": [
    "## 32. DV_CASE_STARTS table - Prepares case start data for final CSV output <a name=DV_CASE_STARTS></a>"
   ]
  },
  {
   "cell_type": "markdown",
   "id": "2a06d7c4",
   "metadata": {},
   "source": [
    "### Create the DV_CASE_STARTS table"
   ]
  },
  {
   "cell_type": "code",
   "execution_count": null,
   "id": "de28aecb",
   "metadata": {},
   "outputs": [],
   "source": [
    "create_DV_CASE_STARTS_table =f\"\"\"\n",
    "SELECT *, Count (*) as Total FROM(\n",
    "  SELECT\n",
    "  Year,\n",
    "  Quarter,\n",
    "  Case_Type,\n",
    "  'Cases started' AS Type,\n",
    "  'n/a' AS Order_type,\n",
    "  'n/a' AS Exparte_or_On_Notice,\n",
    "  'n/a' AS Power_of_arrest\n",
    "FROM\n",
    "  fcsq.DV_APP_CASES_FINAL\n",
    "WHERE\n",
    "  YEAR > 2010 AND Case_Type = 'Domestic Violence')\n",
    "GROUP BY\n",
    "  YEAR,\n",
    "  QUARTER,\n",
    "  Case_Type,\n",
    "  Type,\n",
    "  Order_type,\n",
    "  Exparte_or_On_Notice,\n",
    "  Power_of_arrest\n",
    "ORDER BY\n",
    "  Type,\n",
    "  Year,\n",
    "  Quarter,\n",
    "  Order_type,\n",
    "  Exparte_or_On_Notice,\n",
    "  Power_of_arrest,\n",
    "  Case_Type;\n",
    "\"\"\"\n",
    "pydb.create_temp_table(create_DV_CASE_STARTS_table,'DV_CASE_STARTS')"
   ]
  },
  {
   "cell_type": "markdown",
   "id": "e163968c",
   "metadata": {},
   "source": [
    "#### DV_CASE_STARTS validation"
   ]
  },
  {
   "cell_type": "code",
   "execution_count": null,
   "id": "4ed5ec30",
   "metadata": {},
   "outputs": [],
   "source": [
    "#DV_CASE_STARTS_count = pydb.read_sql_query(\"SELECT count(*) as count from __temp__.DV_CASE_STARTS\")\n",
    "#DV_CASE_STARTS_count"
   ]
  },
  {
   "cell_type": "markdown",
   "id": "ef8fb454",
   "metadata": {},
   "source": [
    "## 33. DV_CASES_Closed table - Prepares case closed data for final CSV output <a name=DV_CASES_Closed></a>"
   ]
  },
  {
   "cell_type": "markdown",
   "id": "b2ae2945",
   "metadata": {},
   "source": [
    "### Create the DV_CASES_Closed table"
   ]
  },
  {
   "cell_type": "code",
   "execution_count": null,
   "id": "106c92b6",
   "metadata": {},
   "outputs": [],
   "source": [
    "create_DV_CASES_Closed_table =f\"\"\"\n",
    "SELECT *, Count (*) as Total FROM(\n",
    "  SELECT\n",
    "  Year,\n",
    "  Quarter,\n",
    "  Case_Type,\n",
    "  'Cases concluded' AS Type,\n",
    "  'n/a' AS Order_type,\n",
    "  'n/a' AS Exparte_or_On_Notice,\n",
    "  'n/a' AS Power_of_arrest\n",
    "FROM\n",
    "  fcsq.DV_ORD_CASES_FINAL\n",
    "WHERE\n",
    "  YEAR > 2010 AND CASE_TYPE = 'Domestic Violence')\n",
    "GROUP BY\n",
    "  YEAR,\n",
    "  QUARTER,\n",
    "  Case_Type,\n",
    "  Type,\n",
    "  Order_type,\n",
    "  Exparte_or_On_Notice,\n",
    "  Power_of_arrest\n",
    "ORDER BY\n",
    "  Type,\n",
    "  Year,\n",
    "  Quarter,\n",
    "  Order_type,\n",
    "  Exparte_or_On_Notice,\n",
    "  Power_of_arrest,\n",
    "  Case_Type;\n",
    "\"\"\"\n",
    "pydb.create_temp_table(create_DV_CASES_Closed_table,'DV_CASES_Closed')"
   ]
  },
  {
   "cell_type": "markdown",
   "id": "6121b900",
   "metadata": {},
   "source": [
    "#### DV_CASES_Closed validation"
   ]
  },
  {
   "cell_type": "code",
   "execution_count": null,
   "id": "d0e27f47",
   "metadata": {},
   "outputs": [],
   "source": [
    "#DV_CASES_Closed_count = pydb.read_sql_query(\"SELECT count(*) as count from __temp__.DV_CASES_Closed\")\n",
    "#DV_CASES_Closed_count"
   ]
  },
  {
   "cell_type": "markdown",
   "id": "bac8793e",
   "metadata": {},
   "source": [
    "## 34. DV_all_data table - Joins all data together <a name=DV_all_data></a>"
   ]
  },
  {
   "cell_type": "markdown",
   "id": "c5c8c8c6",
   "metadata": {},
   "source": [
    "### Create the DV_all_data table"
   ]
  },
  {
   "cell_type": "code",
   "execution_count": null,
   "id": "01ff15ff",
   "metadata": {},
   "outputs": [],
   "source": [
    "create_DV_all_data_table =f\"\"\"\n",
    "SELECT\n",
    "  *\n",
    "FROM\n",
    "  __temp__.DV_APPS\n",
    "UNION ALL\n",
    "SELECT\n",
    "  *\n",
    "FROM \n",
    "  __temp__.DV_APP_COUNT\n",
    "UNION ALL\n",
    "SELECT\n",
    "  *\n",
    "FROM\n",
    "  __temp__.DV_ORDERS\n",
    "UNION ALL\n",
    "SELECT\n",
    "  *\n",
    "FROM\n",
    "  __temp__.DV_CASE_STARTS\n",
    "UNION ALL\n",
    "SELECT\n",
    "  *\n",
    "FROM\n",
    "  __temp__.DV_CASES_Closed\n",
    "\"\"\"\n",
    "pydb.create_temp_table(create_DV_all_data_table,'DV_all_data')"
   ]
  },
  {
   "cell_type": "markdown",
   "id": "a5da8bd6",
   "metadata": {},
   "source": [
    "#### DV_all_data validation"
   ]
  },
  {
   "cell_type": "code",
   "execution_count": null,
   "id": "df3a8e1d",
   "metadata": {},
   "outputs": [],
   "source": [
    "#DV_all_data_count = pydb.read_sql_query(\"SELECT count(*) as count from __temp__.DV_all_data\")\n",
    "#DV_all_data_count"
   ]
  },
  {
   "cell_type": "markdown",
   "id": "2ce064e3-b6d5-44ba-a0f2-ff339a55eb27",
   "metadata": {},
   "source": [
    "## 35. Import domestic violence 2008-2010 data \n",
    "<a name=\"import_domestic_violence_old_data\"></a>"
   ]
  },
  {
   "cell_type": "markdown",
   "id": "a0781219-cb90-4297-aff5-f8a16c839bc6",
   "metadata": {
    "tags": []
   },
   "source": [
    "### Create the dv_2008_2010_data table"
   ]
  },
  {
   "cell_type": "code",
   "execution_count": null,
   "id": "cf745ab9-7987-4897-ad1b-ae1306df7bc8",
   "metadata": {},
   "outputs": [],
   "source": [
    "dv_2008_2010_data = pd.read_csv(\"s3://alpha-family-data/CSVs/Domestic_Violence/Required data/DV_2008_2010_data.csv\", low_memory=False)"
   ]
  },
  {
   "cell_type": "code",
   "execution_count": null,
   "id": "b7a60d3d-2e91-44e4-8070-6d96dacb8f0f",
   "metadata": {},
   "outputs": [],
   "source": [
    "pydb.dataframe_to_temp_table(dv_2008_2010_data, \"dv_2008_2010_data\")"
   ]
  },
  {
   "cell_type": "markdown",
   "id": "43ae7aa5-45f9-4e29-81e6-346c0625ce73",
   "metadata": {
    "tags": []
   },
   "source": [
    "#### dv_2008_2010_data validation"
   ]
  },
  {
   "cell_type": "code",
   "execution_count": null,
   "id": "6ad0fc60-93e8-4510-80c4-7cc3ea77f801",
   "metadata": {},
   "outputs": [],
   "source": [
    "#dv_2008_2010_data_count = pydb.read_sql_query(\"SELECT * from __temp__.dv_2008_2010_data\")\n",
    "#dv_2008_2010_data_count"
   ]
  },
  {
   "cell_type": "markdown",
   "id": "7a358648",
   "metadata": {},
   "source": [
    "## 36. DV_CSV table - Final CSV output to copy into data tab of Domestic Violence workbook <a name=DV_CSV></a>"
   ]
  },
  {
   "cell_type": "markdown",
   "id": "0dd0f660",
   "metadata": {},
   "source": [
    "### Drop the DV_CSV table if it already exists and remove its data from the S3 bucket"
   ]
  },
  {
   "cell_type": "code",
   "execution_count": null,
   "id": "78813da0",
   "metadata": {},
   "outputs": [],
   "source": [
    "drop_DV_CSV = \"DROP TABLE IF EXISTS fcsq.DV_CSV\"\n",
    "pydb.start_query_execution_and_wait(drop_DV_CSV)\n",
    "bucket.objects.filter(Prefix=\"fcsq_processing/Domestic_Violence/DV_CSV\").delete();"
   ]
  },
  {
   "cell_type": "markdown",
   "id": "4630a51b",
   "metadata": {},
   "source": [
    "### Create the DV_CSV table"
   ]
  },
  {
   "cell_type": "code",
   "execution_count": null,
   "id": "24a6b1ce",
   "metadata": {},
   "outputs": [],
   "source": [
    "create_DV_CSV_temp_table =f\"\"\"\n",
    "SELECT\n",
    "year, \n",
    "quarter,\n",
    "'n/a' as case_type,\n",
    "type,\n",
    "order_type,\n",
    "CAST(exparte_or_on_notice AS varchar(9)) AS exparte_or_on_notice,\n",
    "CAST(power_of_arrest AS varchar(6)) AS power_of_arrest,\n",
    "total\n",
    "\n",
    "FROM \n",
    "__temp__.dv_2008_2010_data\n",
    "\n",
    "UNION \n",
    "\n",
    "SELECT *\n",
    "FROM __temp__.DV_all_data\n",
    "WHERE NOT (year = {latest_year} AND quarter = {latest_quarter});\n",
    "\"\"\"\n",
    "pydb.create_temp_table(create_DV_CSV_temp_table,'DV_CSV_temp')\n",
    "\n",
    "\n",
    "\n",
    "create_DV_CSV_table =f\"\"\"\n",
    "CREATE TABLE IF NOT EXISTS fcsq.DV_CSV\n",
    "WITH (format = 'PARQUET', external_location = 's3://alpha-family-data/fcsq_processing/Domestic_Violence/DV_CSV') AS\n",
    "SELECT\n",
    "  COALESCE(CAST(Year as varchar(20)), 'n/a') AS year,\n",
    "  COALESCE(CAST(Quarter as varchar(20)), 'n/a') as quarter,\n",
    "  COALESCE(CAST(Case_Type as varchar(20)), 'n/a') as case_Type,\n",
    "  COALESCE(CAST(Type as varchar(20)), 'n/a') as type,\n",
    "  COALESCE(CAST(Order_type as varchar(20)), 'n/a') as order_type,\n",
    "  COALESCE(CAST(Exparte_or_On_Notice as varchar(20)), 'n/a') as exparte_or_on_notice,\n",
    "  COALESCE(CAST(Power_of_arrest as varchar(20)), 'n/a') as power_of_arrest,\n",
    "  COALESCE(CAST(Total as varchar(20)), 'n/a') as total\n",
    " FROM\n",
    "   __temp__.DV_CSV_temp\n",
    " ORDER BY\n",
    "  Type,\n",
    "  Year,\n",
    "  Quarter,\n",
    "  Order_type,\n",
    "  Exparte_or_On_Notice,\n",
    "  Power_of_arrest,\n",
    "  Case_Type;\n",
    "\"\"\"\n",
    "pydb.start_query_execution_and_wait(create_DV_CSV_table);"
   ]
  },
  {
   "cell_type": "markdown",
   "id": "2c94b635",
   "metadata": {},
   "source": [
    "#### DV_CSV validation"
   ]
  },
  {
   "cell_type": "code",
   "execution_count": null,
   "id": "ca4f08d6",
   "metadata": {},
   "outputs": [],
   "source": [
    "#DV_CSV_count = pydb.read_sql_query(\"SELECT * from fcsq.DV_CSV\")\n",
    "#DV_CSV_count"
   ]
  },
  {
   "cell_type": "code",
   "execution_count": null,
   "id": "5f04b272",
   "metadata": {},
   "outputs": [],
   "source": [
    "df = pydb.read_sql_query(\"SELECT * from fcsq.DV_CSV ORDER BY Type, Year, Quarter, Order_type, Exparte_or_On_Notice, Power_of_arrest, Case_Type\")\n",
    "df.to_csv(path_or_buf = 's3://alpha-family-data/CSVs/CSV_bulletin/' + str(pub_year) + \" Q\" + str(pub_quarter) + '/domestic_violence.csv',index=False)"
   ]
  }
 ],
 "metadata": {
  "kernelspec": {
   "display_name": "FCSQ_run",
   "language": "python",
   "name": "venv_fcsq"
  },
  "language_info": {
   "codemirror_mode": {
    "name": "ipython",
    "version": 3
   },
   "file_extension": ".py",
   "mimetype": "text/x-python",
   "name": "python",
   "nbconvert_exporter": "python",
   "pygments_lexer": "ipython3",
   "version": "3.9.6"
  }
 },
 "nbformat": 4,
 "nbformat_minor": 5
}
