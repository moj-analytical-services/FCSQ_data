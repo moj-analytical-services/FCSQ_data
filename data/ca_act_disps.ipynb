{
 "cells": [
  {
   "cell_type": "markdown",
   "metadata": {},
   "source": [
    "# Childrens Act Disposals"
   ]
  },
  {
   "cell_type": "code",
   "execution_count": 20,
   "metadata": {},
   "outputs": [],
   "source": [
    "# libraries\n",
    "import pandas as pd\n",
    "import pydbtools as pydb\n",
    "import boto3\n",
    "from datetime import datetime\n",
    "#import re"
   ]
  },
  {
   "cell_type": "code",
   "execution_count": 21,
   "metadata": {},
   "outputs": [],
   "source": [
    "# Structured  dataframes\n",
    "pd.set_option(\"display.max_columns\", 100)\n",
    "pd.set_option(\"display.width\", 900)\n",
    "pd.set_option(\"display.max_colwidth\", 200)"
   ]
  },
  {
   "cell_type": "code",
   "execution_count": 22,
   "metadata": {},
   "outputs": [],
   "source": [
    "# Assigning databases and S3 bucket\n",
    "db1 = \"familyman_dev_v2\"\n",
    "fcsq_db = \"fcsq\"\n",
    "s3 = boto3.resource(\"s3\")\n",
    "bucket = s3.Bucket(\"alpha-family-data\")\n",
    "snapshot_date = \"2021-11-11\""
   ]
  },
  {
   "cell_type": "markdown",
   "metadata": {},
   "source": [
    "### Extracting disposals "
   ]
  },
  {
   "cell_type": "code",
   "execution_count": 36,
   "metadata": {},
   "outputs": [],
   "source": [
    "# The first select query extracts orders where the type of order is defined by the event model.\n",
    "# The second select query extracts disposals where the type of order is determined by the value of the field model. Included in this are orders of no order (ORDNOM) and orders refused (ORDREF).\n",
    "    # C43 contains child arrangement orders (contact/residence - the most common orders types in children act cases) \n",
    "# The cross join unnest function in the second select query splits the value (order types - where multiple values can be entered) into one row per value\n",
    "pydb.create_temp_table(\n",
    "f\"\"\" \n",
    "SELECT \n",
    "  event,\n",
    "  case_number,\n",
    "  event_model,\n",
    "  event_model as lookup_event_code,\n",
    "  receipt_date,\n",
    "  entry_date,\n",
    "  COALESCE(receipt_date, entry_date) AS disp_date,\n",
    "  creating_court,\n",
    "  CAST(NULL AS VARCHAR) AS field_model,\n",
    "  CAST(NULL AS VARCHAR) AS all_event_ord_types,\n",
    "  'N/A' AS order_type\n",
    "FROM \n",
    "  {db1}.events \n",
    "WHERE \n",
    "  ((event_model IN ('C23','C25','C26','C27','C28','C29',\n",
    "                    'C30','C31','C32A','C32B','C33','C34A','C34B','C35A','C35B','C37',\n",
    "                    'C38A','C38B','C39','C40','C42','C43A','C44A','C44B','C45A','C45B',\n",
    "                    'C53','C80','C81','C82') \n",
    "            AND error = 'N')\n",
    "    OR (event_model = 'CPA' AND error = 'N' AND narrative Is Null))\n",
    "  AND mojap_snapshot_date = date '{snapshot_date}'\n",
    "\n",
    "UNION ALL\n",
    "\n",
    "SELECT \n",
    "  e.event,\n",
    "  e.case_number,\n",
    "  e.event_model,\n",
    "  CASE WHEN e.event_model IN ('C43', 'ORDNOM', 'ORDREF')\n",
    "      THEN 'GEN'\n",
    "      ELSE e.event_model END\n",
    "    AS lookup_event_code,\n",
    "  e.receipt_date,\n",
    "  e.entry_date,\n",
    "  COALESCE(e.receipt_date, e.entry_date) AS disp_date,\n",
    "  e.creating_court,\n",
    "  f.field_model,\n",
    "  f.value as all_event_ord_types,\n",
    "  TRIM(ord_type) as order_type\n",
    "FROM \n",
    "  {db1}.events e\n",
    "  INNER JOIN {db1}.event_fields f\n",
    "    ON e.event = f.event\n",
    "  CROSS JOIN UNNEST(SPLIT(f.value,',')) AS t(ord_type)  \n",
    "WHERE \n",
    "  ((f.field_model IN ('C21_3', 'C24_6', 'C36_5', 'C43_5', 'ORDNOM_5', 'ORDREF_5'))\n",
    "    AND error = 'N')\n",
    "  AND e.mojap_snapshot_date = date '{snapshot_date}'\n",
    "  AND f.mojap_snapshot_date = date '{snapshot_date}'\n",
    "  \n",
    "\"\"\",\n",
    "\n",
    "\"ca_disps1\")"
   ]
  },
  {
   "cell_type": "markdown",
   "metadata": {},
   "source": [
    "### Withdrawn events"
   ]
  },
  {
   "cell_type": "code",
   "execution_count": 37,
   "metadata": {},
   "outputs": [],
   "source": [
    "#Extracting withdrawn events (G63). \n",
    "#To get the type of order being withdrawn we can link back to the original application (U22/G50) event\n",
    "#Cross Join unnest function splits out the application values into a single row per order type\n",
    "\n",
    "pydb.create_temp_table(\n",
    "f\"\"\" \n",
    "SELECT \n",
    "  w.event,\n",
    "  e.case_number,\n",
    "  e.event_model,\n",
    "  'GEN' AS lookup_event_code,\n",
    "  e.receipt_date,\n",
    "  e.entry_date,\n",
    "  COALESCE(e.receipt_date, e.entry_date) AS disp_date,\n",
    "  e.creating_court,\n",
    "  w.field_model,\n",
    "  a.value as all_event_ord_types,\n",
    "  TRIM(ord_type) as order_type\n",
    "FROM \n",
    "  {db1}.event_fields w\n",
    "  left join {db1}.event_fields a\n",
    "    on w.value = CAST (a.event AS VARCHAR)\n",
    "  left join {db1}.events e\n",
    "    on w.event = e.event\n",
    "CROSS JOIN UNNEST(SPLIT(a.value,',')) AS t(ord_type)    \n",
    "WHERE \n",
    "  w.field_model = 'G63_1' \n",
    "  AND a.field_model IN ('G50_AT','U22_AT')\n",
    "  AND w.mojap_snapshot_date = date '{snapshot_date}'\n",
    "  AND e.mojap_snapshot_date = date '{snapshot_date}'\n",
    "  AND a.mojap_snapshot_date = date '{snapshot_date}'\n",
    "  \n",
    "\"\"\",\n",
    "\n",
    "\"ca_withdrawn\")"
   ]
  },
  {
   "cell_type": "markdown",
   "metadata": {},
   "source": [
    "### Joining withdrawn events to other disposal events"
   ]
  },
  {
   "cell_type": "code",
   "execution_count": 38,
   "metadata": {},
   "outputs": [],
   "source": [
    "#Append withdrawn events to the main set of disposal events\n",
    "pydb.create_temp_table(\n",
    "f\"\"\" \n",
    "SELECT \n",
    "  *\n",
    "FROM\n",
    "  __temp__.ca_disps1\n",
    "UNION ALL \n",
    "SELECT\n",
    "  *\n",
    "FROM\n",
    "  __temp__.ca_withdrawn\n",
    "\n",
    "\"\"\",\n",
    "    \n",
    "\"ca_disps_all\")"
   ]
  },
  {
   "cell_type": "markdown",
   "metadata": {},
   "source": [
    "### Adding the order and disposal type description"
   ]
  },
  {
   "cell_type": "code",
   "execution_count": 44,
   "metadata": {},
   "outputs": [],
   "source": [
    "pydb.create_temp_table(\n",
    "f\"\"\"\n",
    "SELECT\n",
    "  t1.*,\n",
    "  CASE WHEN t1.event_model = 'G63' THEN 'Withdrawn'\n",
    "       WHEN t1.event_model = 'ORDREF' THEN 'Refused'\n",
    "       WHEN t1.event_model = 'ORDNOM' THEN 'No order'\n",
    "       WHEN t2.order_code BETWEEN 40 AND 45 THEN 'Interim Order'\n",
    "       ELSE 'Order' END\n",
    "    AS disp_type,\n",
    "  order_code,\n",
    "  order_desc\n",
    "FROM\n",
    "  __temp__.ca_disps_all t1\n",
    "  LEFT JOIN {fcsq_db}.ca_order_type_lookup t2\n",
    "    ON t1.lookup_event_code = t2.event_model\n",
    "    AND t1.order_type = t2.value\n",
    "WHERE\n",
    "  t2.order_code > 0\n",
    "    \n",
    "\"\"\",\n",
    "    \n",
    "\"ca_disps_order_name\")"
   ]
  },
  {
   "cell_type": "markdown",
   "metadata": {},
   "source": [
    "### Extracting children"
   ]
  },
  {
   "cell_type": "markdown",
   "metadata": {},
   "source": [
    "#### Children - event level"
   ]
  },
  {
   "cell_type": "code",
   "execution_count": 45,
   "metadata": {},
   "outputs": [],
   "source": [
    "#First we extract the child role ID where the child is listed on the event\n",
    "#Cross join unnest function splits where multiple children are listed in the event field into one row per child\n",
    "pydb.create_temp_table(\n",
    "f\"\"\"\n",
    "  SELECT \n",
    "    a.*,\n",
    "    f.value children,\n",
    "    TRY_CAST(TRIM(child_role_id) as bigint) child_role_id\n",
    "  FROM \n",
    "    __temp__.ca_disps_order_name a\n",
    "    LEFT JOIN {db1}.event_fields f\n",
    "      ON f.event = a.event\n",
    "   CROSS JOIN UNNEST(SPLIT(f.value,',')) AS t(child_role_id)\n",
    "  WHERE \n",
    "     f.field_model IN('C21_CH','C23_CH','C24_CH','C25_CH','C26_CH','C27_CH','C28_CH','C29_CH',\n",
    "                      'C30_CH','C31_CH','C32A_CH','C32B_CH','C33_CH','C34A_CH',\n",
    "                      'C34B_CH','C35A_CH','C35B_CH','C36_CH','C37_CH','C38A_CH',\n",
    "                      'C38B_CH','C39_CH','C40_CH','C42_CH','C43_CH',\n",
    "                      'C43A_CH','C44A_CH','C44B_CH','C45A_CH','C45B_CH','C53_CH',\n",
    "                      'C80_CH','C81_CH','C82_CH','CPA_CH','ORDNOM_CH','ORDREF_CH', 'G63_CH')\n",
    "    AND child_role_id <> ''\n",
    "    AND f.mojap_snapshot_date = DATE'{snapshot_date}'\n",
    "\"\"\",\n",
    "\n",
    "\"ca_disps_child_event\")"
   ]
  },
  {
   "cell_type": "markdown",
   "metadata": {},
   "source": [
    "#### Children - case level"
   ]
  },
  {
   "cell_type": "code",
   "execution_count": 46,
   "metadata": {},
   "outputs": [],
   "source": [
    "#Secondly, we take all the events in which children were not directly recorded and link to the case details to get child information recorded on the case\n",
    "#Where a child id is not recorded on the event, this means the event relates to all children listed on the case\n",
    "#We get the dob and gender of the child from the party table\n",
    "pydb.create_temp_table(\n",
    "f\"\"\"\n",
    "  SELECT\n",
    "    a.*,\n",
    "    r.role child_role_id,\n",
    "    p.dob,\n",
    "    p.gender,\n",
    "    r.delete_flag\n",
    "  FROM\n",
    "    __temp__.ca_disps_order_name a\n",
    "    JOIN {db1}.roles r \n",
    "      on a.case_number = r.case_number\n",
    "    JOIN {db1}.parties p \n",
    "      on r.party = p.party \n",
    "  WHERE\n",
    "    event not in (SELECT event FROM __temp__.ca_disps_child_event)\n",
    "    AND role_model in ('CHLDC', 'CHLDZ')\n",
    "    AND r.mojap_snapshot_date = DATE'{snapshot_date}'\n",
    "    AND p.mojap_snapshot_date = DATE'{snapshot_date}'\n",
    "\"\"\",\n",
    "\n",
    "\"ca_disps_child_case\")"
   ]
  },
  {
   "cell_type": "markdown",
   "metadata": {},
   "source": [
    "#### Combining children events and children case data"
   ]
  },
  {
   "cell_type": "code",
   "execution_count": 54,
   "metadata": {},
   "outputs": [],
   "source": [
    "#Append the two datasets created previouly, which also includes all disposal data\n",
    "#The child event table also links to the party table to get the dob/gender info\n",
    "\n",
    "pydb.create_temp_table( \n",
    "f\"\"\"\n",
    "  SELECT \n",
    "    a.case_number,\n",
    "    a.disp_date,\n",
    "    EXTRACT(YEAR FROM a.disp_date) AS Year,\n",
    "    EXTRACT(QUARTER FROM a.disp_date) AS Quarter,\n",
    "    a.receipt_date,\n",
    "    a.entry_date,\n",
    "    a.event,\n",
    "    a.event_model,\n",
    "    a.field_model,\n",
    "    a.order_type,\n",
    "    a.disp_type,\n",
    "    a.order_code,\n",
    "    a.order_desc,\n",
    "    a.child_role_id,\n",
    "    p.dob,\n",
    "    p.gender,\n",
    "    a.creating_court,\n",
    "    r.delete_flag\n",
    "  FROM\n",
    "    __temp__.ca_disps_child_event a\n",
    "    JOIN {db1}.roles r on a.child_role_id = r.role\n",
    "    JOIN {db1}.parties p on r.party = p.party\n",
    "  WHERE\n",
    "    r.mojap_snapshot_date = DATE'{snapshot_date}'\n",
    "    AND p.mojap_snapshot_date = DATE'{snapshot_date}'\n",
    "  UNION ALL\n",
    "  SELECT\n",
    "    a.case_number,\n",
    "    a.disp_date,\n",
    "    EXTRACT(YEAR FROM a.disp_date) AS Year,\n",
    "    EXTRACT(QUARTER FROM a.disp_date) AS Quarter,\n",
    "    a.receipt_date,\n",
    "    a.entry_date,\n",
    "    a.event,\n",
    "    a.event_model,\n",
    "    a.field_model,\n",
    "    a.order_type,\n",
    "    a.disp_type,\n",
    "    a.order_code,\n",
    "    a.order_desc,\n",
    "    a.child_role_id,\n",
    "    a.dob,\n",
    "    a.gender,\n",
    "     a.creating_court,\n",
    "    a.delete_flag\n",
    "  FROM\n",
    "    __temp__.ca_disps_child_case a\n",
    "\"\"\",\n",
    "\n",
    "\"ca_disps_all_children\")"
   ]
  },
  {
   "cell_type": "markdown",
   "metadata": {},
   "source": [
    "### Final orders"
   ]
  },
  {
   "cell_type": "code",
   "execution_count": 55,
   "metadata": {},
   "outputs": [],
   "source": [
    "#Extract final order information for all disposals\n",
    "pydb.create_temp_table( \n",
    "f\"\"\"\n",
    "  SELECT \n",
    "    event,\n",
    "    field_model,\n",
    "    value as FO_value\n",
    "  FROM \n",
    "    {db1}.event_fields\n",
    "  WHERE \n",
    "      field_model IN ('C21_FO','C23_FO','C24_FO','C25_FO','C26_FO','C27_FO','C28_FO','C29_FO','C30_FO',\n",
    "                      'C31_FO','C32A_FO','C32B_FO','C33_FO','C34A_FO','C34B_FO','C35A_FO','C35B_FO','C36_FO',\n",
    "                      'C37_FO','C38A_FO','C38B_FO','C39_FO','C40_FO','C42_FO','C43_FO','C43A_FO','C44A_FO',\n",
    "                      'C44B_FO','C45A_FO','C45B_FO','C53_FO','C80_FO','C81_FO','C82_FO','CPA_FO',\n",
    "                      'ORDNOM_FO','ORDREF_FO','G63_FO')\n",
    "              \n",
    "    AND mojap_snapshot_date = DATE'{snapshot_date}'\n",
    "\"\"\",\n",
    "\n",
    "\"ca_final_orders\")"
   ]
  },
  {
   "cell_type": "markdown",
   "metadata": {},
   "source": [
    "### Link final disposal information to all disposals"
   ]
  },
  {
   "cell_type": "code",
   "execution_count": 56,
   "metadata": {},
   "outputs": [],
   "source": [
    "#Extract final order information for all disposals\n",
    "pydb.create_temp_table( \n",
    "f\"\"\"\n",
    "  SELECT \n",
    "    a.*,\n",
    "    b.FO_value\n",
    "  FROM \n",
    "    __temp__.ca_disps_all_children a \n",
    "  LEFT JOIN __temp__.ca_final_orders b\n",
    "    ON a.event = b.event\n",
    "\"\"\",\n",
    "\n",
    "\"ca_disps_children_FO\")"
   ]
  },
  {
   "cell_type": "code",
   "execution_count": 57,
   "metadata": {},
   "outputs": [
    {
     "data": {
      "text/html": [
       "<div>\n",
       "<style scoped>\n",
       "    .dataframe tbody tr th:only-of-type {\n",
       "        vertical-align: middle;\n",
       "    }\n",
       "\n",
       "    .dataframe tbody tr th {\n",
       "        vertical-align: top;\n",
       "    }\n",
       "\n",
       "    .dataframe thead th {\n",
       "        text-align: right;\n",
       "    }\n",
       "</style>\n",
       "<table border=\"1\" class=\"dataframe\">\n",
       "  <thead>\n",
       "    <tr style=\"text-align: right;\">\n",
       "      <th></th>\n",
       "      <th>count</th>\n",
       "    </tr>\n",
       "  </thead>\n",
       "  <tbody>\n",
       "    <tr>\n",
       "      <th>0</th>\n",
       "      <td>15343909</td>\n",
       "    </tr>\n",
       "  </tbody>\n",
       "</table>\n",
       "</div>"
      ],
      "text/plain": [
       "      count\n",
       "0  15343909"
      ]
     },
     "execution_count": 57,
     "metadata": {},
     "output_type": "execute_result"
    }
   ],
   "source": [
    "pydb.read_sql_query (\"select count(*) count from __temp__.ca_disps_all_children\")"
   ]
  },
  {
   "cell_type": "code",
   "execution_count": 65,
   "metadata": {},
   "outputs": [
    {
     "data": {
      "text/html": [
       "<div>\n",
       "<style scoped>\n",
       "    .dataframe tbody tr th:only-of-type {\n",
       "        vertical-align: middle;\n",
       "    }\n",
       "\n",
       "    .dataframe tbody tr th {\n",
       "        vertical-align: top;\n",
       "    }\n",
       "\n",
       "    .dataframe thead th {\n",
       "        text-align: right;\n",
       "    }\n",
       "</style>\n",
       "<table border=\"1\" class=\"dataframe\">\n",
       "  <thead>\n",
       "    <tr style=\"text-align: right;\">\n",
       "      <th></th>\n",
       "      <th>count</th>\n",
       "    </tr>\n",
       "  </thead>\n",
       "  <tbody>\n",
       "    <tr>\n",
       "      <th>0</th>\n",
       "      <td>3625</td>\n",
       "    </tr>\n",
       "  </tbody>\n",
       "</table>\n",
       "</div>"
      ],
      "text/plain": [
       "   count\n",
       "0   3625"
      ]
     },
     "execution_count": 65,
     "metadata": {},
     "output_type": "execute_result"
    }
   ],
   "source": [
    "pydb.read_sql_query (\"select count (*) count from __temp__.ca_disps_children_FO where year = 2019 and disp_type = 'Withdrawn'\")"
   ]
  },
  {
   "cell_type": "code",
   "execution_count": null,
   "metadata": {},
   "outputs": [],
   "source": []
  }
 ],
 "metadata": {
  "kernelspec": {
   "display_name": "Python 3",
   "language": "python",
   "name": "python3"
  },
  "language_info": {
   "codemirror_mode": {
    "name": "ipython",
    "version": 3
   },
   "file_extension": ".py",
   "mimetype": "text/x-python",
   "name": "python",
   "nbconvert_exporter": "python",
   "pygments_lexer": "ipython3",
   "version": "3.7.1"
  }
 },
 "nbformat": 4,
 "nbformat_minor": 4
}
