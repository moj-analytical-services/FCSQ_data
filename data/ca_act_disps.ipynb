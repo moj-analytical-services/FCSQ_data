{
 "cells": [
  {
   "cell_type": "markdown",
   "metadata": {},
   "source": [
    "# Childrens Act Disposals"
   ]
  },
  {
   "cell_type": "code",
   "execution_count": null,
   "metadata": {},
   "outputs": [],
   "source": [
    "# libraries\n",
    "import pandas as pd\n",
    "import pydbtools as pydb\n",
    "import boto3\n",
    "from datetime import datetime\n",
    "#import re\n",
    "import os  # for file paths\n",
    "import awswrangler as wr"
   ]
  },
  {
   "cell_type": "code",
   "execution_count": null,
   "metadata": {},
   "outputs": [],
   "source": [
    "# Structured  dataframes\n",
    "pd.set_option(\"display.max_columns\", 100)\n",
    "pd.set_option(\"display.width\", 900)\n",
    "pd.set_option(\"display.max_colwidth\", 200)"
   ]
  },
  {
   "cell_type": "code",
   "execution_count": null,
   "metadata": {},
   "outputs": [],
   "source": [
    "# Assigning databases and S3 bucket\n",
    "db1 = \"familyman_dev_v2\"\n",
    "fcsq_db = \"fcsq\"\n",
    "# create path for within athena FCSQ database in the S3 folder\n",
    "fcsq_db_path = f\"s3://alpha-family-data/fcsq_processing/CA_disps/\"\n",
    "s3 = boto3.resource(\"s3\")\n",
    "bucket = s3.Bucket(\"alpha-family-data\")\n",
    "snapshot_date = \"2022-02-21\""
   ]
  },
  {
   "cell_type": "markdown",
   "metadata": {},
   "source": [
    "#### Extracting disposals "
   ]
  },
  {
   "cell_type": "code",
   "execution_count": null,
   "metadata": {},
   "outputs": [],
   "source": [
    "# The first select query extracts orders where the type of order is defined by the event model.\n",
    "# The second select query extracts disposals where the type of order is determined by the value of the field model. Included in this are orders of no order (ORDNOM) and orders refused (ORDREF).\n",
    "    # C43 contains child arrangement orders (contact/residence - the most common orders types in children act cases) \n",
    "# The cross join unnest function in the second select query splits the value (order types - where multiple values can be entered) into one row per value\n",
    "pydb.create_temp_table(\n",
    "f\"\"\" \n",
    "SELECT \n",
    "  event,\n",
    "  case_number,\n",
    "  event_model,\n",
    "  event_model as lookup_event_code,\n",
    "  receipt_date,\n",
    "  entry_date,\n",
    "  COALESCE(receipt_date, entry_date) AS disp_date,\n",
    "  creating_court,\n",
    "  CAST(NULL AS VARCHAR) AS field_model,\n",
    "  CAST(NULL AS VARCHAR) AS all_event_ord_types,\n",
    "  'N/A' AS order_type\n",
    "FROM \n",
    "  {db1}.events \n",
    "WHERE \n",
    "  ((event_model IN ('C23','C25','C26','C27','C28','C29',\n",
    "                    'C30','C31','C32A','C32B','C33','C34A','C34B','C35A','C35B','C37',\n",
    "                    'C38A','C38B','C39','C40','C42','C43A','C44A','C44B','C45A','C45B',\n",
    "                    'C53','C80','C81','C82') \n",
    "            AND error = 'N')\n",
    "    OR (event_model = 'CPA' AND error = 'N' AND narrative Is Null))\n",
    "  AND mojap_snapshot_date = date '{snapshot_date}'\n",
    "\n",
    "UNION ALL\n",
    "\n",
    "SELECT \n",
    "  e.event,\n",
    "  e.case_number,\n",
    "  e.event_model,\n",
    "  CASE WHEN e.event_model IN ('C43', 'ORDNOM', 'ORDREF')\n",
    "      THEN 'GEN'\n",
    "      ELSE e.event_model END\n",
    "    AS lookup_event_code,\n",
    "  e.receipt_date,\n",
    "  e.entry_date,\n",
    "  COALESCE(e.receipt_date, e.entry_date) AS disp_date,\n",
    "  e.creating_court,\n",
    "  f.field_model,\n",
    "  f.value as all_event_ord_types,\n",
    "  TRIM(ord_type) as order_type\n",
    "FROM \n",
    "  {db1}.events e\n",
    "  INNER JOIN {db1}.event_fields f\n",
    "    ON e.event = f.event\n",
    "  CROSS JOIN UNNEST(SPLIT(f.value,',')) AS t(ord_type)  \n",
    "WHERE \n",
    "  ((f.field_model IN ('C21_3', 'C24_6', 'C36_5', 'C43_5', 'ORDNOM_5', 'ORDREF_5'))\n",
    "    AND error = 'N')\n",
    "  AND e.mojap_snapshot_date = date '{snapshot_date}'\n",
    "  AND f.mojap_snapshot_date = date '{snapshot_date}'\n",
    "  \n",
    "\"\"\",\n",
    "\n",
    "\"ca_disps1\")"
   ]
  },
  {
   "cell_type": "markdown",
   "metadata": {},
   "source": [
    "#### Withdrawn events\n",
    "###### Withdrawn events are extracted seperately to other disposal events as they need to be linked back to the original application to get the order type being withdrawn"
   ]
  },
  {
   "cell_type": "code",
   "execution_count": null,
   "metadata": {},
   "outputs": [],
   "source": [
    "#Extracting withdrawn events (G63). \n",
    "#To get the type of order being withdrawn we can link back to the original application (U22/G50) event\n",
    "#Cross Join unnest function splits out the application values into a single row per order type\n",
    "\n",
    "pydb.create_temp_table(\n",
    "f\"\"\" \n",
    "SELECT \n",
    "  w.event,\n",
    "  e.case_number,\n",
    "  e.event_model,\n",
    "  'GEN' AS lookup_event_code,\n",
    "  e.receipt_date,\n",
    "  e.entry_date,\n",
    "  COALESCE(e.receipt_date, e.entry_date) AS disp_date,\n",
    "  e.creating_court,\n",
    "  w.field_model,\n",
    "  a.value as all_event_ord_types,\n",
    "  TRIM(ord_type) as order_type\n",
    "FROM \n",
    "  {db1}.event_fields w\n",
    "  left join {db1}.event_fields a\n",
    "    on w.value = CAST (a.event AS VARCHAR)\n",
    "  left join {db1}.events e\n",
    "    on w.event = e.event\n",
    "CROSS JOIN UNNEST(SPLIT(a.value,',')) AS t(ord_type)    \n",
    "WHERE \n",
    "  w.field_model = 'G63_1' \n",
    "  AND a.field_model IN ('G50_AT','U22_AT')\n",
    "  AND e.error = 'N'\n",
    "  AND w.mojap_snapshot_date = date '{snapshot_date}'\n",
    "  AND e.mojap_snapshot_date = date '{snapshot_date}'\n",
    "  AND a.mojap_snapshot_date = date '{snapshot_date}'\n",
    "  \n",
    "\"\"\",\n",
    "\n",
    "\"ca_withdrawn\")"
   ]
  },
  {
   "cell_type": "markdown",
   "metadata": {},
   "source": [
    "#### Joining withdrawn events to other disposal events"
   ]
  },
  {
   "cell_type": "code",
   "execution_count": null,
   "metadata": {},
   "outputs": [],
   "source": [
    "#Append withdrawn events to the main set of disposal events\n",
    "pydb.create_temp_table(\n",
    "f\"\"\" \n",
    "SELECT \n",
    "  *\n",
    "FROM\n",
    "  __temp__.ca_disps1\n",
    "UNION ALL \n",
    "SELECT\n",
    "  *\n",
    "FROM\n",
    "  __temp__.ca_withdrawn\n",
    "\n",
    "\"\"\",\n",
    "    \n",
    "\"ca_disps_all\")"
   ]
  },
  {
   "cell_type": "markdown",
   "metadata": {},
   "source": [
    "#### Adding the order & disposal type description and case type, filtering out order types we do not include"
   ]
  },
  {
   "cell_type": "code",
   "execution_count": null,
   "metadata": {},
   "outputs": [],
   "source": [
    "# The order type lookup file has been created previosuly\n",
    "# Order code to be up to 45 but including up to 54 as this is what some of the published data includes\n",
    "pydb.create_temp_table(\n",
    "f\"\"\"\n",
    "SELECT\n",
    "  t1.*,\n",
    "  CASE WHEN t2.order_code < 19 OR (SUBSTR(case_number,5,1) = 'C') THEN 'C'\n",
    "        ELSE 'P' END \n",
    "      AS case_type,\n",
    "  CASE WHEN t1.event_model = 'G63' THEN 3\n",
    "       WHEN t1.event_model = 'ORDREF' THEN 4\n",
    "       WHEN t1.event_model = 'ORDNOM' THEN 5\n",
    "       WHEN t2.order_code BETWEEN 40 AND 45 THEN 2\n",
    "       ELSE 1 END\n",
    "    AS disp_type_code,\n",
    "  CASE WHEN t1.event_model = 'G63' THEN 'Withdrawn'\n",
    "       WHEN t1.event_model = 'ORDREF' THEN 'Refused'\n",
    "       WHEN t1.event_model = 'ORDNOM' THEN 'No order'\n",
    "       WHEN t2.order_code BETWEEN 40 AND 45 THEN 'Interim Order'\n",
    "       ELSE 'Order' END\n",
    "    AS disp_type,\n",
    "  order_code,\n",
    "  order_desc\n",
    "FROM\n",
    "  __temp__.ca_disps_all t1\n",
    "  LEFT JOIN {fcsq_db}.ca_order_type_lookup t2\n",
    "    ON t1.lookup_event_code = t2.event_model\n",
    "    AND t1.order_type = t2.value\n",
    "WHERE\n",
    "  t2.order_code BETWEEN 0 AND 54\n",
    "\n",
    "\"\"\",\n",
    "    \n",
    "\"ca_disps_order_name\")"
   ]
  },
  {
   "cell_type": "markdown",
   "metadata": {},
   "source": [
    "### Adding children to the disposal events\n",
    "##### This is done in 3 stages:    \n",
    "######   - First, some children are recorded directly on the event\n",
    "######   - Second, where the child data field within the event is blank, we pull out all the children recorded on the case from the roles table\n",
    "######   - Finally, there are a small number of cases in which children are neither recorded on the event or the case. Here we default to one child per disposal event, with unknown characteristics"
   ]
  },
  {
   "cell_type": "markdown",
   "metadata": {},
   "source": [
    "#### Children - event level"
   ]
  },
  {
   "cell_type": "code",
   "execution_count": null,
   "metadata": {},
   "outputs": [],
   "source": [
    "#First we extract the child role ID where the child is listed on the event\n",
    "#Cross join unnest function splits where multiple children are listed in the event field into one row per child\n",
    "pydb.create_temp_table(\n",
    "f\"\"\"\n",
    "  SELECT \n",
    "    a.*,\n",
    "    f.value children,\n",
    "    TRY_CAST(TRIM(child_role_id) as bigint) child_role_id\n",
    "  FROM \n",
    "    __temp__.ca_disps_order_name a\n",
    "    LEFT JOIN {db1}.event_fields f\n",
    "      ON f.event = a.event\n",
    "   CROSS JOIN UNNEST(SPLIT(f.value,',')) AS t(child_role_id)\n",
    "  WHERE \n",
    "     f.field_model IN('C21_CH','C23_CH','C24_CH','C25_CH','C26_CH','C27_CH','C28_CH','C29_CH',\n",
    "                      'C30_CH','C31_CH','C32A_CH','C32B_CH','C33_CH','C34A_CH',\n",
    "                      'C34B_CH','C35A_CH','C35B_CH','C36_CH','C37_CH','C38A_CH',\n",
    "                      'C38B_CH','C39_CH','C40_CH','C42_CH','C43_CH',\n",
    "                      'C43A_CH','C44A_CH','C44B_CH','C45A_CH','C45B_CH','C53_CH',\n",
    "                      'C80_CH','C81_CH','C82_CH','CPA_CH','ORDNOM_CH','ORDREF_CH', 'G63_CH')\n",
    "    AND child_role_id <> ''\n",
    "    AND f.mojap_snapshot_date = DATE'{snapshot_date}'\n",
    "\"\"\",\n",
    "\n",
    "\"ca_disps_child_event\")"
   ]
  },
  {
   "cell_type": "markdown",
   "metadata": {},
   "source": [
    "#### Children - case level"
   ]
  },
  {
   "cell_type": "code",
   "execution_count": null,
   "metadata": {},
   "outputs": [],
   "source": [
    "#Secondly, we take all the events in which children were not directly recorded and link to the case details to get child information recorded on the case\n",
    "#Where a child id is not recorded on the event, this means the event relates to all children listed on the case\n",
    "#We get the dob and gender of the child from the party table\n",
    "pydb.create_temp_table(\n",
    "f\"\"\"\n",
    "  SELECT\n",
    "    a.*,\n",
    "    r.role child_role_id,\n",
    "    p.dob,\n",
    "    p.gender,\n",
    "    r.delete_flag\n",
    "  FROM\n",
    "    __temp__.ca_disps_order_name a\n",
    "    JOIN {db1}.roles r \n",
    "      on a.case_number = r.case_number\n",
    "    JOIN {db1}.parties p \n",
    "      on r.party = p.party \n",
    "  WHERE\n",
    "    event not in (SELECT event FROM __temp__.ca_disps_child_event)\n",
    "    AND role_model in ('CHLDC', 'CHLDZ')\n",
    "    AND r.mojap_snapshot_date = DATE'{snapshot_date}'\n",
    "    AND p.mojap_snapshot_date = DATE'{snapshot_date}'\n",
    "\"\"\",\n",
    "\n",
    "\"ca_disps_child_case\")"
   ]
  },
  {
   "cell_type": "markdown",
   "metadata": {},
   "source": [
    "#### Children - not recorded on event or case"
   ]
  },
  {
   "cell_type": "code",
   "execution_count": null,
   "metadata": {},
   "outputs": [],
   "source": [
    "#There are a small number of disposals where the children are not reocorded on the event and there are also no children recorded on the case. This tends to be for DV cases, where CA order types \n",
    "#   may have been made but children are not necessarily recorded on the case. Here we default to just one child per order/disposal, with unknown characteristics.\n",
    "pydb.create_temp_table(\n",
    "f\"\"\"\n",
    "  SELECT\n",
    "    *,\n",
    "    CAST(NULL AS INTEGER) AS child_role_id,\n",
    "    CAST(NULL AS DATE) dob,\n",
    "    CAST(NULL AS INTEGER) AS gender\n",
    "  FROM\n",
    "    __temp__.ca_disps_order_name\n",
    "  WHERE\n",
    "    event NOT IN (SELECT event FROM __temp__.ca_disps_child_event)\n",
    "    AND event NOT IN (SELECT event FROM __temp__.ca_disps_child_case)\n",
    "\"\"\",\n",
    "\n",
    "\"ca_disps_no_child\")"
   ]
  },
  {
   "cell_type": "markdown",
   "metadata": {},
   "source": [
    "### Child disposals data set\n",
    "##### Combining children data sets together"
   ]
  },
  {
   "cell_type": "code",
   "execution_count": null,
   "metadata": {},
   "outputs": [],
   "source": [
    "#Append the two datasets created previouly, which also includes all disposal data\n",
    "#The child event table also links to the party table to get the dob/gender info\n",
    "\n",
    "pydb.create_temp_table( \n",
    "f\"\"\"\n",
    "  SELECT \n",
    "    a.case_number,\n",
    "    a.disp_date,\n",
    "    EXTRACT(YEAR FROM a.disp_date) AS Year,\n",
    "    EXTRACT(QUARTER FROM a.disp_date) AS Quarter,\n",
    "    a.case_type,\n",
    "    a.receipt_date,\n",
    "    a.entry_date,\n",
    "    a.event,\n",
    "    a.event_model,\n",
    "    a.field_model,\n",
    "    a.order_type,\n",
    "    a.disp_type_code,\n",
    "    a.disp_type,\n",
    "    a.order_code,\n",
    "    a.order_desc,\n",
    "    a.child_role_id,\n",
    "    p.dob,\n",
    "    p.gender,\n",
    "    a.creating_court\n",
    "  FROM\n",
    "    __temp__.ca_disps_child_event a\n",
    "    JOIN {db1}.roles r on a.child_role_id = r.role\n",
    "    JOIN {db1}.parties p on r.party = p.party\n",
    "  WHERE\n",
    "    r.mojap_snapshot_date = DATE'{snapshot_date}'\n",
    "    AND p.mojap_snapshot_date = DATE'{snapshot_date}'\n",
    "    AND r.delete_flag = 'N'\n",
    "  UNION ALL\n",
    "  SELECT\n",
    "    a.case_number,\n",
    "    a.disp_date,\n",
    "    EXTRACT(YEAR FROM a.disp_date) AS Year,\n",
    "    EXTRACT(QUARTER FROM a.disp_date) AS Quarter,\n",
    "    a.case_type,\n",
    "    a.receipt_date,\n",
    "    a.entry_date,\n",
    "    a.event,\n",
    "    a.event_model,\n",
    "    a.field_model,\n",
    "    a.order_type,\n",
    "    a.disp_type_code,\n",
    "    a.disp_type,\n",
    "    a.order_code,\n",
    "    a.order_desc,\n",
    "    a.child_role_id,\n",
    "    a.dob,\n",
    "    a.gender,\n",
    "    a.creating_court\n",
    "  FROM\n",
    "    __temp__.ca_disps_child_case a\n",
    "  WHERE\n",
    "    a.delete_flag = 'N'\n",
    "  UNION ALL\n",
    "  SELECT\n",
    "    a.case_number,\n",
    "    a.disp_date,\n",
    "    EXTRACT(YEAR FROM a.disp_date) AS Year,\n",
    "    EXTRACT(QUARTER FROM a.disp_date) AS Quarter,\n",
    "    a.case_type,\n",
    "    a.receipt_date,\n",
    "    a.entry_date,\n",
    "    a.event,\n",
    "    a.event_model,\n",
    "    a.field_model,\n",
    "    a.order_type,\n",
    "    a.disp_type_code,\n",
    "    a.disp_type,\n",
    "    a.order_code,\n",
    "    a.order_desc,\n",
    "    a.child_role_id,\n",
    "    a.dob,\n",
    "    a.gender,\n",
    "    a.creating_court\n",
    "  FROM\n",
    "    __temp__.ca_disps_no_child a\n",
    "\"\"\",\n",
    "\n",
    "\"ca_disps_all_children\")"
   ]
  },
  {
   "cell_type": "markdown",
   "metadata": {},
   "source": [
    "### Removal of duplicate children"
   ]
  },
  {
   "cell_type": "markdown",
   "metadata": {},
   "source": [
    "#### This code is not currently used as the old SAS process never removed duplicate orders made - but placing here as it's likely we will come to this in future"
   ]
  },
  {
   "cell_type": "code",
   "execution_count": null,
   "metadata": {},
   "outputs": [],
   "source": [
    "pydb.create_temp_table(\n",
    "f\"\"\"\n",
    "  SELECT\n",
    "    *,\n",
    "    ROW_NUMBER() OVER(PARTITION BY case_number, child_role_id, order_code, receipt_date, disp_type \n",
    "                       ORDER BY case_number, child_role_id, order_code, receipt_date, event) \n",
    "      AS dup_rank\n",
    "  FROM\n",
    "    __temp__.ca_disps_all_children\n",
    "\n",
    "\"\"\",\n",
    "    \n",
    "\"ca_disp_dup_flag\")"
   ]
  },
  {
   "cell_type": "code",
   "execution_count": null,
   "metadata": {},
   "outputs": [],
   "source": [
    "#get an idea of how many might be duplicate order types\n",
    "pydb.read_sql_query (\"select count(*) count from __temp__.ca_disp_dup_flag where year > 2010 and disp_type_code = 1 and dup_rank > 1\")"
   ]
  },
  {
   "cell_type": "code",
   "execution_count": null,
   "metadata": {},
   "outputs": [],
   "source": [
    "#drop table in Athena (if it already exists)\n",
    "_ = pydb.start_query_execution_and_wait(f\"\"\"DROP TABLE {fcsq_db}.ca_disps\"\"\")"
   ]
  },
  {
   "cell_type": "code",
   "execution_count": null,
   "metadata": {},
   "outputs": [],
   "source": [
    "#set S3 file path\n",
    "disp_s3_path = os.path.join(fcsq_db_path, \"disps/\")\n",
    "# Delete all the underlying data stored within the S3 location\n",
    "if wr.s3.list_objects(disp_s3_path):\n",
    "    print(\"deleting objs\")\n",
    "    wr.s3.delete_objects(disp_s3_path)\n",
    "    \n",
    "t_disps = f\"\"\"\n",
    "CREATE TABLE {fcsq_db}.ca_disps WITH\n",
    "(\n",
    "    external_location='{disp_s3_path}'\n",
    ") AS   \n",
    "SELECT\n",
    "*\n",
    "FROM\n",
    "__temp__.ca_disps_children_FO\n",
    "\"\"\"\n",
    "    \n",
    "_ = pydb.start_query_execution_and_wait(t_disps)    "
   ]
  }
 ],
 "metadata": {
  "kernelspec": {
   "display_name": "Python 3",
   "language": "python",
   "name": "python3"
  },
  "language_info": {
   "codemirror_mode": {
    "name": "ipython",
    "version": 3
   },
   "file_extension": ".py",
   "mimetype": "text/x-python",
   "name": "python",
   "nbconvert_exporter": "python",
   "pygments_lexer": "ipython3",
   "version": "3.9.4"
  }
 },
 "nbformat": 4,
 "nbformat_minor": 4
}
