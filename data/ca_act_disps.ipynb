{
 "cells": [
  {
   "cell_type": "markdown",
   "metadata": {},
   "source": [
    "# Childrens Act Disposals"
   ]
  },
  {
   "cell_type": "code",
   "execution_count": 2,
   "metadata": {},
   "outputs": [],
   "source": [
    "# libraries\n",
    "import pandas as pd\n",
    "import pydbtools as pydb\n",
    "import boto3\n",
    "from datetime import datetime\n",
    "#import re"
   ]
  },
  {
   "cell_type": "code",
   "execution_count": 3,
   "metadata": {},
   "outputs": [],
   "source": [
    "# Structured  dataframes\n",
    "pd.set_option(\"display.max_columns\", 100)\n",
    "pd.set_option(\"display.width\", 900)\n",
    "pd.set_option(\"display.max_colwidth\", 200)"
   ]
  },
  {
   "cell_type": "code",
   "execution_count": 4,
   "metadata": {},
   "outputs": [],
   "source": [
    "# Assigning databases and S3 bucket\n",
    "db1 = \"familyman_dev_v2\"\n",
    "fcsq_db = \"fcsq\"\n",
    "s3 = boto3.resource(\"s3\")\n",
    "bucket = s3.Bucket(\"alpha-family-data\")\n",
    "snapshot_date = \"2021-08-19\""
   ]
  },
  {
   "cell_type": "markdown",
   "metadata": {},
   "source": [
    "### Extracting disposals "
   ]
  },
  {
   "cell_type": "code",
   "execution_count": 5,
   "metadata": {},
   "outputs": [],
   "source": [
    "# creating table childrens_act_disposals afresh.\n",
    "d1 = f\"\"\" \n",
    "SELECT \n",
    "  event,\n",
    "  case_number,\n",
    "  event_model,\n",
    "  receipt_date,\n",
    "  entry_date,\n",
    "  error,\n",
    "  creating_court,\n",
    "  CAST(NULL AS VARCHAR) AS field_model,\n",
    "  CAST(NULL AS VARCHAR) AS value\n",
    "FROM \n",
    "  {db1}.events \n",
    "WHERE \n",
    "  ((event_model IN ('C23','C25','C26','C27','C28','C29',\n",
    "                        'C30','C31','C32A','C32B','C33','C34A','C34B','C35A','C35B','C37',\n",
    "                        'C38A','C38B','C39','C40','C42','C43A','C44A','C44B','C45A','C45B',\n",
    "                        'C53','C80','C81','C82') \n",
    "            AND error = 'N')\n",
    "    OR (event_model = 'CPA' AND error = 'N' AND narrative Is Null))\n",
    "  AND mojap_snapshot_date = date '{snapshot_date}'\n",
    "\n",
    "\n",
    "UNION ALL\n",
    "\n",
    "\n",
    "SELECT \n",
    "  e.event,\n",
    "  e.case_number,\n",
    "  e.event_model,\n",
    "  e.receipt_date,\n",
    "  e.entry_date,\n",
    "  e.error,\n",
    "  e.creating_court,\n",
    "  f.field_model,\n",
    "  f.value\n",
    "FROM \n",
    "  {db1}.events e\n",
    "  INNER JOIN {db1}.event_fields f\n",
    "    ON e.event = f.event\n",
    "WHERE \n",
    "  ((f.field_model IN ('C21_3', 'C24_6', 'C36_5', 'C43_5', 'ORDNOM_5', 'ORDREF_5'))\n",
    "    OR error = 'N')\n",
    "  AND e.mojap_snapshot_date = date '{snapshot_date}'\n",
    "  AND f.mojap_snapshot_date = date '{snapshot_date}'\n",
    "  \n",
    "\"\"\"\n",
    "\n",
    "pydb.create_temp_table (d1,\"ca_disps\")"
   ]
  },
  {
   "cell_type": "code",
   "execution_count": null,
   "metadata": {},
   "outputs": [],
   "source": [
    "pydb.read_sql_query (\"select * from __temp__.ca_disps\")"
   ]
  },
  {
   "cell_type": "code",
   "execution_count": null,
   "metadata": {},
   "outputs": [],
   "source": []
  }
 ],
 "metadata": {
  "kernelspec": {
   "display_name": "Python 3",
   "language": "python",
   "name": "python3"
  },
  "language_info": {
   "codemirror_mode": {
    "name": "ipython",
    "version": 3
   },
   "file_extension": ".py",
   "mimetype": "text/x-python",
   "name": "python",
   "nbconvert_exporter": "python",
   "pygments_lexer": "ipython3",
   "version": "3.7.1"
  }
 },
 "nbformat": 4,
 "nbformat_minor": 4
}
