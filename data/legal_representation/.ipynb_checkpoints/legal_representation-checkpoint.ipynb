{
 "cells": [
  {
   "cell_type": "markdown",
   "id": "dad4cd0d-da36-42b3-9d96-67faadee00cb",
   "metadata": {
    "tags": []
   },
   "source": [
    "# Table 11 and CSV Legal Representation National"
   ]
  },
  {
   "cell_type": "markdown",
   "id": "53931958-7962-454e-8e49-e95e0543f9df",
   "metadata": {},
   "source": [
    "## Contents\n",
    "#### Setup\n",
    "1. [import_packages](#import_packages) \n",
    "\n",
    "#### Stage 1 - [CSV Legal Representation National](#CSV_Legal_Representation_National)\n",
    "2. [divorce_csv_legrep_table](#divorce_csv_legrep_table) - imports Divorce CSV legal representation data from S3 bucket into a temporary table\n",
    "3. [fr_csv_legrep_table](#fr_csv_legrep_table) - imports Financial Remedy CSV legal representation data from S3 bucket into a temporary table\n",
    "4. [csv_legrep_temp](#csv_legrep_temp) -  joins all the csv legal representation outputs from each case type (Adoption, Domestic Violence, Divorce, Financial Remedy, Private Law, and Public Law)\n",
    "\n",
    "#### Stage 2 - [Table 11 Legal Representation](#Table_11_Legal_Representation)\n",
    "5. [divorce_t11_legrep_table](#divorce_t11_legrep_table) -  imports Divorce Table 11 legal representation data from S3 bucket into a temporary table\n",
    "6. [fin_rem_t11_legrep_table](#fin_rem_t11_legrep_table) -  imports Financial Remedy Table 11 legal representation data from S3 bucket into a temporary table\n",
    "7. [t11_legrep_temp](#t11_legrep_temp) - joins all the Table 11 legal representation outputs from each case type (Adoption, Domestic Violence, Divorce, Financial Remedy, Private Law, and Public Law)"
   ]
  },
  {
   "cell_type": "markdown",
   "id": "a7823761-9169-44fc-8aec-9dafd0b2f733",
   "metadata": {
    "tags": []
   },
   "source": [
    "## 1. Import packages and set options \n",
    "<a name=\"import_packages\"></a>"
   ]
  },
  {
   "cell_type": "code",
   "execution_count": null,
   "id": "d0054013-ce77-4625-8a91-fa995681284e",
   "metadata": {
    "tags": []
   },
   "outputs": [],
   "source": [
    "import pandas as pd  # a module which provides the data structures and functions to store and manipulate tables in dataframes\n",
    "import pydbtools as pydb  # A module which allows SQL queries to be run on the Analytical Platform from Python, see https://github.com/moj-analytical-services/pydbtools\n",
    "import boto3  # allows you to directly create, update, and delete AWS resources from Python scripts\n",
    "import numpy as np\n",
    "import re\n",
    "\n",
    "# sets parameters to view dataframes for tables easier\n",
    "pd.set_option(\"display.max_columns\", 100)\n",
    "pd.set_option(\"display.width\", 900)\n",
    "pd.set_option(\"display.max_colwidth\", 200)"
   ]
  },
  {
   "cell_type": "markdown",
   "id": "fd6f4453-f6af-4c83-bd30-42c2b5779e48",
   "metadata": {},
   "source": [
    "## Stage 1 - CSV Legal Representation National\n",
    "<a name=\"CSV_Legal_Representation_National\"></a>"
   ]
  },
  {
   "cell_type": "markdown",
   "id": "8482a836-7c00-4f04-afd5-853ad730c768",
   "metadata": {},
   "source": [
    "### Import Divorce CSV Legal Representation\n",
    "<a name=\"divorce_csv_legrep_table\"></a>"
   ]
  },
  {
   "cell_type": "markdown",
   "id": "08e79896-659c-4a4f-8123-b93df92491f7",
   "metadata": {},
   "source": [
    "#### Create the divorce_csv_legrep table"
   ]
  },
  {
   "cell_type": "code",
   "execution_count": null,
   "id": "5483b698-75d9-4307-8be6-7fc5f86c94d0",
   "metadata": {},
   "outputs": [],
   "source": [
    "#imports Divorce CSV Legal Representation data from S3 bucket into a temporary table\n",
    "divorce_csv_legrep_table = pd.read_csv(\"s3://alpha-family-data/CSVs/Legal Representation/DIV_LEG_REP_CSV.csv\", low_memory=False)"
   ]
  },
  {
   "cell_type": "code",
   "execution_count": null,
   "id": "cf45692d-b777-447d-a0c8-197865ebd78c",
   "metadata": {},
   "outputs": [],
   "source": [
    "pydb.dataframe_to_temp_table(divorce_csv_legrep_table, \"divorce_csv_legrep\")"
   ]
  },
  {
   "cell_type": "markdown",
   "id": "b52fb019-200c-465b-9613-85e0d5412fb4",
   "metadata": {},
   "source": [
    "##### divorce_csv_legrep validation"
   ]
  },
  {
   "cell_type": "code",
   "execution_count": null,
   "id": "792feb51-5c8d-4e42-a153-e446f9c1a496",
   "metadata": {
    "tags": []
   },
   "outputs": [],
   "source": [
    "#divorce_csv_legrep_count = pydb.read_sql_query(\"SELECT * from __temp__.divorce_csv_legrep limit 10\")\n",
    "#divorce_csv_legrep_count"
   ]
  },
  {
   "cell_type": "markdown",
   "id": "85cf9020-df4b-4920-b0dc-237bcc004ac6",
   "metadata": {},
   "source": [
    "### Import Financial Remedy CSV Legal Representation\n",
    "<a name=\"fr_csv_legrep_table\"></a>"
   ]
  },
  {
   "cell_type": "markdown",
   "id": "91563986-74dd-47d6-a797-10f618852725",
   "metadata": {},
   "source": [
    "#### Create the fr_csv_legrep table"
   ]
  },
  {
   "cell_type": "code",
   "execution_count": null,
   "id": "2483ef1d-b9fe-46a4-b84e-f5a7bae27585",
   "metadata": {},
   "outputs": [],
   "source": [
    "#imports Financial Remedy CSV Legal Representation data from S3 bucket into a temporary table\n",
    "fr_csv_legrep_table = pd.read_csv(\"s3://alpha-family-data/CSVs/Legal Representation/FR_LEG_REP_CSV.csv\", low_memory=False)"
   ]
  },
  {
   "cell_type": "code",
   "execution_count": null,
   "id": "17645bdc-0024-47d6-aa48-65beb30f8e54",
   "metadata": {},
   "outputs": [],
   "source": [
    "pydb.dataframe_to_temp_table(fr_csv_legrep_table, \"fr_csv_legrep\")"
   ]
  },
  {
   "cell_type": "markdown",
   "id": "3746f825-2e15-4ccf-9a84-dc517b0ada72",
   "metadata": {},
   "source": [
    "##### fr_csv_legrep validation"
   ]
  },
  {
   "cell_type": "code",
   "execution_count": null,
   "id": "06dc80ff-d50c-49ce-ac4b-cd2f0dd827c9",
   "metadata": {
    "tags": []
   },
   "outputs": [],
   "source": [
    "#fr_csv_legrep_count = pydb.read_sql_query(\"SELECT * from __temp__.fr_csv_legrep limit 10\")\n",
    "#fr_csv_legrep_count"
   ]
  },
  {
   "cell_type": "markdown",
   "id": "dcaaba54-b164-4ac8-94fc-1808a5dfcc88",
   "metadata": {},
   "source": [
    "### Final Output CSV Legal Representation\n",
    "<a name=\"csv_legrep_temp\"></a>"
   ]
  },
  {
   "cell_type": "code",
   "execution_count": null,
   "id": "1992a67b-a587-47c9-abcf-779a8fe7de5a",
   "metadata": {},
   "outputs": [],
   "source": [
    "pydb.create_temp_table(\n",
    "f\"\"\" \n",
    "SELECT * FROM fcsq.adoption_legrep\n",
    "\n",
    "UNION\n",
    "\n",
    "SELECT * FROM __temp__.divorce_csv_legrep\n",
    "\n",
    "UNION\n",
    "\n",
    "SELECT * FROM fcsq.domestic_violence_legrep\n",
    "\n",
    "UNION\n",
    "\n",
    "SELECT * FROM __temp__.fr_csv_legrep\n",
    "\n",
    "UNION \n",
    "\n",
    "SELECT * FROM fcsq.ca_leg_rep_csv\n",
    "\"\"\",\n",
    "\n",
    "\"csv_legrep_temp\")"
   ]
  },
  {
   "cell_type": "code",
   "execution_count": null,
   "id": "d8663e70-36f8-4ea5-b142-7be012035791",
   "metadata": {},
   "outputs": [],
   "source": [
    "#csv_legrep_temp = pydb.read_sql_query(\"SELECT * FROM __temp__.csv_legrep_temp;\")\n",
    "#csv_legrep_temp"
   ]
  },
  {
   "cell_type": "code",
   "execution_count": null,
   "id": "d3a72136-7222-4066-8edb-ac6a716ef8f0",
   "metadata": {},
   "outputs": [],
   "source": [
    "#Orders the data by year, country, and county_ua\n",
    "csv_legrep = pydb.read_sql_query(\"\"\"\n",
    "SELECT *\n",
    "from __temp__.csv_legrep_temp\n",
    "ORDER BY case_type,\n",
    "category,\n",
    "party,\n",
    "gender,\n",
    "representation,\n",
    "year, \n",
    "quarter\n",
    "\"\"\")"
   ]
  },
  {
   "cell_type": "code",
   "execution_count": null,
   "id": "1b315964-fff5-4986-af35-284f0166369a",
   "metadata": {},
   "outputs": [],
   "source": [
    "#Export the final csv\n",
    "csv_legrep.to_csv(\"s3://alpha-family-data/CSVs/Legal Representation/CSV Legal Representation National.csv\", index = False)"
   ]
  },
  {
   "cell_type": "markdown",
   "id": "0c55e950-54aa-4224-ac01-4fefbdca0524",
   "metadata": {},
   "source": [
    "## Stage 2 - Table 11 Legal Representation\n",
    "<a name=\"Table_11_Legal_Representation\"></a>"
   ]
  },
  {
   "cell_type": "markdown",
   "id": "293648ee-a6f2-490a-bad9-5f1ecda38d7f",
   "metadata": {},
   "source": [
    "### Import Divorce Table 11 Legal Representation\n",
    "<a name=\"divorce_t11_legrep_table\"></a>"
   ]
  },
  {
   "cell_type": "markdown",
   "id": "6ad0eb1d-f508-4e35-b72f-534ca75af2da",
   "metadata": {},
   "source": [
    "#### Create the divorce_t11_legrep table"
   ]
  },
  {
   "cell_type": "code",
   "execution_count": null,
   "id": "f10008c9-ef29-4ecc-aaa1-d2e2708ff3d5",
   "metadata": {},
   "outputs": [],
   "source": [
    "#imports Divorce Table 11 Legal Representation data from S3 bucket into a temporary table\n",
    "divorce_t11_legrep_table = pd.read_csv(\"s3://alpha-family-data/CSVs/Legal Representation/DIV_TABLE_11_LOOKUP.csv\", low_memory=False)"
   ]
  },
  {
   "cell_type": "code",
   "execution_count": null,
   "id": "73bcd83a-843e-4158-8703-e43b40405eda",
   "metadata": {},
   "outputs": [],
   "source": [
    "pydb.dataframe_to_temp_table(divorce_t11_legrep_table, \"div_t11_legrep\")"
   ]
  },
  {
   "cell_type": "markdown",
   "id": "59b697e1-2dcd-42c6-930a-46bcfe546ffd",
   "metadata": {},
   "source": [
    "##### divorce_t11_legrep validation"
   ]
  },
  {
   "cell_type": "code",
   "execution_count": null,
   "id": "c99eb3ab-7acb-4973-a2ae-576afa9c2647",
   "metadata": {
    "tags": []
   },
   "outputs": [],
   "source": [
    "#div_t11_legrep_count = pydb.read_sql_query(\"SELECT * from __temp__.div_t11_legrep limit 10\")\n",
    "#div_t11_legrep_count"
   ]
  },
  {
   "cell_type": "markdown",
   "id": "48bac5fa-3151-41ab-b233-d913da8c2184",
   "metadata": {},
   "source": [
    "### Import Financial Remedy Table 11 Legal Representation\n",
    "<a name=\"fin_rem_t11_legrep_table\"></a>"
   ]
  },
  {
   "cell_type": "markdown",
   "id": "804f2dbe-5198-407b-9541-b615861c694e",
   "metadata": {},
   "source": [
    "#### Create the fr_t11_legrep table"
   ]
  },
  {
   "cell_type": "code",
   "execution_count": null,
   "id": "b28a2529-3786-4cb4-93ac-e0448fae992d",
   "metadata": {},
   "outputs": [],
   "source": [
    "#imports Financial Remedy Table 11 Legal Representation data from S3 bucket into a temporary table\n",
    "fin_rem_t11_legrep_table = pd.read_csv(\"s3://alpha-family-data/CSVs/Legal Representation/FR_TABLE_11_LOOKUP.csv\", low_memory=False)"
   ]
  },
  {
   "cell_type": "code",
   "execution_count": null,
   "id": "0a1fe0d1-2080-4e15-8446-ff2e8fd64414",
   "metadata": {},
   "outputs": [],
   "source": [
    "pydb.dataframe_to_temp_table(fin_rem_t11_legrep_table, \"fin_rem_t11_legrep\")"
   ]
  },
  {
   "cell_type": "markdown",
   "id": "a2d569d1-b168-4bd3-bcfa-6bab3122e80c",
   "metadata": {},
   "source": [
    "##### fr_t11_legrep validation"
   ]
  },
  {
   "cell_type": "code",
   "execution_count": null,
   "id": "2b1c082d-53c3-497e-a06c-c5d281ce2a9e",
   "metadata": {
    "tags": []
   },
   "outputs": [],
   "source": [
    "#fin_rem_t11_legrep_count = pydb.read_sql_query(\"SELECT * from __temp__.fin_rem_t11_legrep limit 10\")\n",
    "#fin_rem_t11_legrep_count"
   ]
  },
  {
   "cell_type": "markdown",
   "id": "81bc25f9-53a3-4d1e-8158-4588ef59b30a",
   "metadata": {},
   "source": [
    "### Final Output Table 11 Legal Representation\n",
    "<a name=\"t11_legrep_temp\"></a>"
   ]
  },
  {
   "cell_type": "code",
   "execution_count": null,
   "id": "95022956-adad-4e54-9ccc-d7840ad4cca2",
   "metadata": {},
   "outputs": [],
   "source": [
    "pydb.create_temp_table(\n",
    "f\"\"\" \n",
    "SELECT * FROM fcsq.adopt_legrep_t11_lookup\n",
    "\n",
    "UNION \n",
    "\n",
    "SELECT * FROM fcsq.domestic_violence_table11_lookup\n",
    "\n",
    "UNION\n",
    "\n",
    "SELECT * FROM __temp__.div_t11_legrep\n",
    "\n",
    "UNION \n",
    "\n",
    "SELECT * FROM __temp__.fin_rem_t11_legrep\n",
    "\n",
    "UNION \n",
    "\n",
    "SELECT * FROM fcsq.ca_leg_rep_lookup\n",
    "\n",
    "\"\"\",\n",
    "\n",
    "\"t11_legrep_temp\")"
   ]
  },
  {
   "cell_type": "code",
   "execution_count": null,
   "id": "b497dfbb-776e-4d5b-b7e0-071f74b37225",
   "metadata": {},
   "outputs": [],
   "source": [
    "#t11_legrep_temp = pydb.read_sql_query(\"SELECT * FROM __temp__.t11_legrep_temp;\")\n",
    "#t11_legrep_temp"
   ]
  },
  {
   "cell_type": "code",
   "execution_count": null,
   "id": "9323ecd0-0a45-48c2-a3c3-097318b11e5c",
   "metadata": {},
   "outputs": [],
   "source": [
    "#Orders the data by year, country, and county_ua\n",
    "t11_legrep = pydb.read_sql_query(\"\"\"\n",
    "SELECT *\n",
    "from __temp__.t11_legrep_temp\n",
    "ORDER BY lookup\n",
    "\"\"\")"
   ]
  },
  {
   "cell_type": "code",
   "execution_count": null,
   "id": "6055813c-dfe8-4b25-b7fe-0288a73ab9cd",
   "metadata": {},
   "outputs": [],
   "source": [
    "#Export the final csv\n",
    "t11_legrep.to_csv(\"s3://alpha-family-data/CSVs/Legal Representation/Table_11_lookup.csv\", index = False)"
   ]
  }
 ],
 "metadata": {
  "kernelspec": {
   "display_name": "Nixon FOI (Python3)",
   "language": "python",
   "name": "venv_nixonfoi"
  },
  "language_info": {
   "codemirror_mode": {
    "name": "ipython",
    "version": 3
   },
   "file_extension": ".py",
   "mimetype": "text/x-python",
   "name": "python",
   "nbconvert_exporter": "python",
   "pygments_lexer": "ipython3",
   "version": "3.9.6"
  }
 },
 "nbformat": 4,
 "nbformat_minor": 5
}
