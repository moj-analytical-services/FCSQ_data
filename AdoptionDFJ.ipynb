{
 "cells": [
  {
   "cell_type": "markdown",
   "id": "d0498ecb",
   "metadata": {},
   "source": [
    "# Adoption DFJ"
   ]
  },
  {
   "cell_type": "code",
   "execution_count": 58,
   "id": "053dd161",
   "metadata": {},
   "outputs": [],
   "source": [
    "import pandas as pd  # for the data structures to store and manipulate tables\n",
    "import pydbtools as pydb  # see https://github.com/moj-analytical-services/pydbtools\n",
    "import boto3  # for working with AWS\n",
    "\n",
    "# few things for viewing dataframes better\n",
    "pd.set_option(\"display.max_columns\", 100)\n",
    "pd.set_option(\"display.width\", 900)\n",
    "pd.set_option(\"display.max_colwidth\", 200)\n",
    "\n",
    "database = \"familyman_dev_v2\"\n",
    "snapshot_date = \"2021-08-19\"\n",
    "database_derived = \"familyman_derived_dev_v1\"\n",
    "\n",
    "fcsq_database = \"fcsq\"\n",
    "\n",
    "s3 = boto3.resource(\"s3\")\n",
    "bucket = s3.Bucket(\"alpha-family-data\")"
   ]
  },
  {
   "cell_type": "markdown",
   "id": "de433726",
   "metadata": {
    "tags": []
   },
   "source": [
    "## Adoption_Disposals_Orders table"
   ]
  },
  {
   "cell_type": "markdown",
   "id": "27ab9b76",
   "metadata": {},
   "source": [
    "### Create the Adoption_Disposals_Orders temp table "
   ]
  },
  {
   "cell_type": "code",
   "execution_count": 2,
   "id": "0d1350f2",
   "metadata": {},
   "outputs": [],
   "source": [
    "create_Adoption_Disposals_Orders = f\"\"\"\n",
    "SELECT YEAR, QUARTER, Court, count(*) as Disposals\n",
    "FROM fcsq.adopt_disposals5_adoption\n",
    "WHERE Year>2010\n",
    "GROUP BY Year,Quarter,Court\n",
    "ORDER BY Year,Quarter,Court;\n",
    "\"\"\"\n",
    "\n",
    "pydb.create_temp_table(create_Adoption_Disposals_Orders,'Adoption_Disposals_Orders');\n",
    "\n"
   ]
  },
  {
   "cell_type": "markdown",
   "id": "b9ef8cd3",
   "metadata": {},
   "source": [
    "#### Adoption_Disposals_Orders validation"
   ]
  },
  {
   "cell_type": "code",
   "execution_count": 3,
   "id": "ce4f4d7a",
   "metadata": {},
   "outputs": [
    {
     "data": {
      "text/html": [
       "<div>\n",
       "<style scoped>\n",
       "    .dataframe tbody tr th:only-of-type {\n",
       "        vertical-align: middle;\n",
       "    }\n",
       "\n",
       "    .dataframe tbody tr th {\n",
       "        vertical-align: top;\n",
       "    }\n",
       "\n",
       "    .dataframe thead th {\n",
       "        text-align: right;\n",
       "    }\n",
       "</style>\n",
       "<table border=\"1\" class=\"dataframe\">\n",
       "  <thead>\n",
       "    <tr style=\"text-align: right;\">\n",
       "      <th></th>\n",
       "      <th>count</th>\n",
       "    </tr>\n",
       "  </thead>\n",
       "  <tbody>\n",
       "    <tr>\n",
       "      <th>0</th>\n",
       "      <td>3603</td>\n",
       "    </tr>\n",
       "  </tbody>\n",
       "</table>\n",
       "</div>"
      ],
      "text/plain": [
       "   count\n",
       "0   3603"
      ]
     },
     "execution_count": 3,
     "metadata": {},
     "output_type": "execute_result"
    }
   ],
   "source": [
    "Adoption_Disposals_Orders_count = pydb.read_sql_query(\"select count(*) as count from __temp__.Adoption_Disposals_Orders\")\n",
    "Adoption_Disposals_Orders_count"
   ]
  },
  {
   "cell_type": "markdown",
   "id": "7368113e",
   "metadata": {
    "tags": []
   },
   "source": [
    "## adopt_disposal_case_count_A table"
   ]
  },
  {
   "cell_type": "markdown",
   "id": "5f6e1fa0",
   "metadata": {},
   "source": [
    "### Drop the adopt_disposal_case_count_A table if it already exists and remove its data from the S3 bucket"
   ]
  },
  {
   "cell_type": "code",
   "execution_count": 4,
   "id": "00c85ce4",
   "metadata": {
    "scrolled": true,
    "tags": []
   },
   "outputs": [],
   "source": [
    "drop_adopt_disposal_case_count_A = f\"\"\"\n",
    "DROP TABLE IF EXISTS fcsq.adopt_disposal_case_count_A;\n",
    "\"\"\"\n",
    "pydb.start_query_execution_and_wait(drop_adopt_disposal_case_count_A)\n",
    "\n",
    "# clean up previous adopt_disposal_case_count_A files\n",
    "bucket.objects.filter(Prefix=\"fcsq_processing/Adoption/adopt_disposal_case_count_A/\").delete();"
   ]
  },
  {
   "cell_type": "markdown",
   "id": "79a0a67f",
   "metadata": {},
   "source": [
    "### Create the adopt_disposal_case_count_A table in Athena"
   ]
  },
  {
   "cell_type": "code",
   "execution_count": 5,
   "id": "7b434d72",
   "metadata": {
    "scrolled": true
   },
   "outputs": [],
   "source": [
    "create_adopt_disposal_case_count_A = f\"\"\"\n",
    "SELECT \n",
    "t1.CASE_NUMBER, \n",
    "Min(t1.Receipt_date) AS MinOfReceipt_date,\n",
    "t1.Court \n",
    "FROM fcsq.adopt_disposals5_adoption as t1\n",
    "GROUP BY t1.CASE_NUMBER, t1.Court;\n",
    "\n",
    "\"\"\"\n",
    "\n",
    "pydb.create_temp_table(create_adopt_disposal_case_count_A,'adopt_disposal_case_count_A');\n",
    "\n"
   ]
  },
  {
   "cell_type": "markdown",
   "id": "671d30e3",
   "metadata": {},
   "source": [
    "#### adopt_disposal_case_count_A validation"
   ]
  },
  {
   "cell_type": "code",
   "execution_count": 6,
   "id": "caad0bbc",
   "metadata": {},
   "outputs": [
    {
     "data": {
      "text/html": [
       "<div>\n",
       "<style scoped>\n",
       "    .dataframe tbody tr th:only-of-type {\n",
       "        vertical-align: middle;\n",
       "    }\n",
       "\n",
       "    .dataframe tbody tr th {\n",
       "        vertical-align: top;\n",
       "    }\n",
       "\n",
       "    .dataframe thead th {\n",
       "        text-align: right;\n",
       "    }\n",
       "</style>\n",
       "<table border=\"1\" class=\"dataframe\">\n",
       "  <thead>\n",
       "    <tr style=\"text-align: right;\">\n",
       "      <th></th>\n",
       "      <th>count</th>\n",
       "    </tr>\n",
       "  </thead>\n",
       "  <tbody>\n",
       "    <tr>\n",
       "      <th>0</th>\n",
       "      <td>83703</td>\n",
       "    </tr>\n",
       "  </tbody>\n",
       "</table>\n",
       "</div>"
      ],
      "text/plain": [
       "   count\n",
       "0  83703"
      ]
     },
     "execution_count": 6,
     "metadata": {},
     "output_type": "execute_result"
    }
   ],
   "source": [
    "adopt_disposal_case_count_A_count = pydb.read_sql_query(\"select count(*) as count from __temp__.adopt_disposal_case_count_A\")\n",
    "adopt_disposal_case_count_A_count"
   ]
  },
  {
   "cell_type": "markdown",
   "id": "b623346b",
   "metadata": {},
   "source": [
    "### Create the adopt_disposal_case_count_B table in Athena"
   ]
  },
  {
   "cell_type": "code",
   "execution_count": 7,
   "id": "fb3924e4",
   "metadata": {
    "scrolled": true
   },
   "outputs": [],
   "source": [
    "create_adopt_disposal_case_count_B = f\"\"\"\n",
    "SELECT \n",
    "t1.CASE_NUMBER, \n",
    "Year (t1.MinOfReceipt_date) AS YEAR,\n",
    "CASE WHEN Month(t1.MinOfReceipt_date)<4\n",
    "    THEN 1\n",
    "        WHEN Month(t1.MinOfReceipt_date)<7\n",
    "        THEN 2\n",
    "            WHEN Month(t1.MinOfReceipt_date)<10\n",
    "            THEN 3\n",
    "\n",
    "ELSE 4\n",
    "END AS Quarter,\n",
    "t1.MinOfReceipt_date,\n",
    "t1.Court \n",
    "FROM __temp__.adopt_disposal_case_count_A  as t1;\n",
    "\n",
    "\"\"\"\n",
    "\n",
    "pydb.create_temp_table(create_adopt_disposal_case_count_B,'adopt_disposal_case_count_B')\n",
    "\n"
   ]
  },
  {
   "cell_type": "markdown",
   "id": "68a22d06",
   "metadata": {},
   "source": [
    "#### adopt_disposal_case_count_B validation"
   ]
  },
  {
   "cell_type": "code",
   "execution_count": 8,
   "id": "27215b23",
   "metadata": {},
   "outputs": [
    {
     "data": {
      "text/html": [
       "<div>\n",
       "<style scoped>\n",
       "    .dataframe tbody tr th:only-of-type {\n",
       "        vertical-align: middle;\n",
       "    }\n",
       "\n",
       "    .dataframe tbody tr th {\n",
       "        vertical-align: top;\n",
       "    }\n",
       "\n",
       "    .dataframe thead th {\n",
       "        text-align: right;\n",
       "    }\n",
       "</style>\n",
       "<table border=\"1\" class=\"dataframe\">\n",
       "  <thead>\n",
       "    <tr style=\"text-align: right;\">\n",
       "      <th></th>\n",
       "      <th>count</th>\n",
       "    </tr>\n",
       "  </thead>\n",
       "  <tbody>\n",
       "    <tr>\n",
       "      <th>0</th>\n",
       "      <td>83703</td>\n",
       "    </tr>\n",
       "  </tbody>\n",
       "</table>\n",
       "</div>"
      ],
      "text/plain": [
       "   count\n",
       "0  83703"
      ]
     },
     "execution_count": 8,
     "metadata": {},
     "output_type": "execute_result"
    }
   ],
   "source": [
    "adopt_disposal_case_count_B_count = pydb.read_sql_query(\"select count(*) as count from __temp__.adopt_disposal_case_count_B\")\n",
    "adopt_disposal_case_count_B_count"
   ]
  },
  {
   "cell_type": "markdown",
   "id": "cedf0421",
   "metadata": {
    "tags": []
   },
   "source": [
    "## Adoption_Disposals_Case table"
   ]
  },
  {
   "cell_type": "markdown",
   "id": "b7f0986c",
   "metadata": {},
   "source": [
    "### Create the Adoption_Disposals_Case table in Athena"
   ]
  },
  {
   "cell_type": "code",
   "execution_count": 9,
   "id": "df10b4b0",
   "metadata": {
    "scrolled": true
   },
   "outputs": [],
   "source": [
    "create_Adoption_Disposals_Case = f\"\"\"\n",
    "SELECT Year,Quarter,Court,count(*) as Case_End\n",
    "FROM __temp__.adopt_disposal_case_count_B\n",
    "WHERE year>2010\n",
    "GROUP BY Year,Quarter,Court\n",
    "ORDER BY Year,Quarter,Court;\n",
    "\"\"\"\n",
    "\n",
    "pydb.create_temp_table(create_Adoption_Disposals_Case,'Adoption_Disposals_Case');\n",
    "\n"
   ]
  },
  {
   "cell_type": "markdown",
   "id": "08516c3a",
   "metadata": {},
   "source": [
    "#### Adoption_Disposals_Case validation"
   ]
  },
  {
   "cell_type": "code",
   "execution_count": 10,
   "id": "bbf392d1",
   "metadata": {},
   "outputs": [
    {
     "data": {
      "text/html": [
       "<div>\n",
       "<style scoped>\n",
       "    .dataframe tbody tr th:only-of-type {\n",
       "        vertical-align: middle;\n",
       "    }\n",
       "\n",
       "    .dataframe tbody tr th {\n",
       "        vertical-align: top;\n",
       "    }\n",
       "\n",
       "    .dataframe thead th {\n",
       "        text-align: right;\n",
       "    }\n",
       "</style>\n",
       "<table border=\"1\" class=\"dataframe\">\n",
       "  <thead>\n",
       "    <tr style=\"text-align: right;\">\n",
       "      <th></th>\n",
       "      <th>count</th>\n",
       "    </tr>\n",
       "  </thead>\n",
       "  <tbody>\n",
       "    <tr>\n",
       "      <th>0</th>\n",
       "      <td>3601</td>\n",
       "    </tr>\n",
       "  </tbody>\n",
       "</table>\n",
       "</div>"
      ],
      "text/plain": [
       "   count\n",
       "0   3601"
      ]
     },
     "execution_count": 10,
     "metadata": {},
     "output_type": "execute_result"
    }
   ],
   "source": [
    "Adoption_Disposals_Case_count = pydb.read_sql_query(\"select count(*) as count from __temp__.Adoption_Disposals_Case\")\n",
    "Adoption_Disposals_Case_count"
   ]
  },
  {
   "cell_type": "markdown",
   "id": "6e442430",
   "metadata": {
    "tags": []
   },
   "source": [
    "## adoption_disposals_merge table"
   ]
  },
  {
   "cell_type": "markdown",
   "id": "fdd7040f",
   "metadata": {},
   "source": [
    "### Create the adoption_disposals_merge table in Athena"
   ]
  },
  {
   "cell_type": "code",
   "execution_count": 11,
   "id": "1e63bce5",
   "metadata": {},
   "outputs": [],
   "source": [
    "create_adoption_disposals_merge = f\"\"\"\n",
    "SELECT\n",
    "t1.year,\n",
    "t1.quarter,\n",
    "t1.court,\n",
    "t1.Disposals,\n",
    "t2.Case_End,\n",
    "'Adoption' as Category,\n",
    "'End' as Stage\n",
    "FROM __temp__.adoption_disposals_orders t1 \n",
    "INNER JOIN \n",
    "__temp__.adoption_disposals_case t2\n",
    "ON t1.year = t2.year AND t1.quarter = t2.quarter AND t1.court = t2.court\n",
    "where t1.year <> 2021 or t1.quarter <> 3;\n",
    "\"\"\"\n",
    "\n",
    "pydb.create_temp_table(create_adoption_disposals_merge,'adoption_disposals_merge');\n",
    "\n"
   ]
  },
  {
   "cell_type": "markdown",
   "id": "cd6aed63",
   "metadata": {},
   "source": [
    "#### adoption_disposals_merge validation"
   ]
  },
  {
   "cell_type": "code",
   "execution_count": 12,
   "id": "354694b4",
   "metadata": {},
   "outputs": [
    {
     "data": {
      "text/html": [
       "<div>\n",
       "<style scoped>\n",
       "    .dataframe tbody tr th:only-of-type {\n",
       "        vertical-align: middle;\n",
       "    }\n",
       "\n",
       "    .dataframe tbody tr th {\n",
       "        vertical-align: top;\n",
       "    }\n",
       "\n",
       "    .dataframe thead th {\n",
       "        text-align: right;\n",
       "    }\n",
       "</style>\n",
       "<table border=\"1\" class=\"dataframe\">\n",
       "  <thead>\n",
       "    <tr style=\"text-align: right;\">\n",
       "      <th></th>\n",
       "      <th>year</th>\n",
       "      <th>quarter</th>\n",
       "      <th>court</th>\n",
       "      <th>disposals</th>\n",
       "      <th>case_end</th>\n",
       "      <th>category</th>\n",
       "      <th>stage</th>\n",
       "    </tr>\n",
       "  </thead>\n",
       "  <tbody>\n",
       "    <tr>\n",
       "      <th>0</th>\n",
       "      <td>2011</td>\n",
       "      <td>1</td>\n",
       "      <td>100</td>\n",
       "      <td>52</td>\n",
       "      <td>51</td>\n",
       "      <td>Adoption</td>\n",
       "      <td>End</td>\n",
       "    </tr>\n",
       "    <tr>\n",
       "      <th>1</th>\n",
       "      <td>2011</td>\n",
       "      <td>1</td>\n",
       "      <td>127</td>\n",
       "      <td>39</td>\n",
       "      <td>38</td>\n",
       "      <td>Adoption</td>\n",
       "      <td>End</td>\n",
       "    </tr>\n",
       "    <tr>\n",
       "      <th>2</th>\n",
       "      <td>2011</td>\n",
       "      <td>1</td>\n",
       "      <td>130</td>\n",
       "      <td>12</td>\n",
       "      <td>12</td>\n",
       "      <td>Adoption</td>\n",
       "      <td>End</td>\n",
       "    </tr>\n",
       "    <tr>\n",
       "      <th>3</th>\n",
       "      <td>2011</td>\n",
       "      <td>1</td>\n",
       "      <td>139</td>\n",
       "      <td>18</td>\n",
       "      <td>18</td>\n",
       "      <td>Adoption</td>\n",
       "      <td>End</td>\n",
       "    </tr>\n",
       "    <tr>\n",
       "      <th>4</th>\n",
       "      <td>2011</td>\n",
       "      <td>1</td>\n",
       "      <td>144</td>\n",
       "      <td>1</td>\n",
       "      <td>1</td>\n",
       "      <td>Adoption</td>\n",
       "      <td>End</td>\n",
       "    </tr>\n",
       "    <tr>\n",
       "      <th>...</th>\n",
       "      <td>...</td>\n",
       "      <td>...</td>\n",
       "      <td>...</td>\n",
       "      <td>...</td>\n",
       "      <td>...</td>\n",
       "      <td>...</td>\n",
       "      <td>...</td>\n",
       "    </tr>\n",
       "    <tr>\n",
       "      <th>3537</th>\n",
       "      <td>2022</td>\n",
       "      <td>2</td>\n",
       "      <td>378</td>\n",
       "      <td>4</td>\n",
       "      <td>4</td>\n",
       "      <td>Adoption</td>\n",
       "      <td>End</td>\n",
       "    </tr>\n",
       "    <tr>\n",
       "      <th>3538</th>\n",
       "      <td>2022</td>\n",
       "      <td>2</td>\n",
       "      <td>384</td>\n",
       "      <td>2</td>\n",
       "      <td>2</td>\n",
       "      <td>Adoption</td>\n",
       "      <td>End</td>\n",
       "    </tr>\n",
       "    <tr>\n",
       "      <th>3539</th>\n",
       "      <td>2022</td>\n",
       "      <td>2</td>\n",
       "      <td>386</td>\n",
       "      <td>3</td>\n",
       "      <td>3</td>\n",
       "      <td>Adoption</td>\n",
       "      <td>End</td>\n",
       "    </tr>\n",
       "    <tr>\n",
       "      <th>3540</th>\n",
       "      <td>2022</td>\n",
       "      <td>2</td>\n",
       "      <td>388</td>\n",
       "      <td>13</td>\n",
       "      <td>13</td>\n",
       "      <td>Adoption</td>\n",
       "      <td>End</td>\n",
       "    </tr>\n",
       "    <tr>\n",
       "      <th>3541</th>\n",
       "      <td>2022</td>\n",
       "      <td>2</td>\n",
       "      <td>554</td>\n",
       "      <td>2</td>\n",
       "      <td>2</td>\n",
       "      <td>Adoption</td>\n",
       "      <td>End</td>\n",
       "    </tr>\n",
       "  </tbody>\n",
       "</table>\n",
       "<p>3542 rows × 7 columns</p>\n",
       "</div>"
      ],
      "text/plain": [
       "      year  quarter court  disposals  case_end  category stage\n",
       "0     2011        1   100         52        51  Adoption   End\n",
       "1     2011        1   127         39        38  Adoption   End\n",
       "2     2011        1   130         12        12  Adoption   End\n",
       "3     2011        1   139         18        18  Adoption   End\n",
       "4     2011        1   144          1         1  Adoption   End\n",
       "...    ...      ...   ...        ...       ...       ...   ...\n",
       "3537  2022        2   378          4         4  Adoption   End\n",
       "3538  2022        2   384          2         2  Adoption   End\n",
       "3539  2022        2   386          3         3  Adoption   End\n",
       "3540  2022        2   388         13        13  Adoption   End\n",
       "3541  2022        2   554          2         2  Adoption   End\n",
       "\n",
       "[3542 rows x 7 columns]"
      ]
     },
     "execution_count": 12,
     "metadata": {},
     "output_type": "execute_result"
    }
   ],
   "source": [
    "adoption_disposals_merge_count = pydb.read_sql_query(\"select * from __temp__.adoption_disposals_merge ORDER BY Year,Quarter,Court;\")\n",
    "adoption_disposals_merge_count"
   ]
  },
  {
   "cell_type": "markdown",
   "id": "5eea6774",
   "metadata": {
    "tags": []
   },
   "source": [
    "## adoption_disposals_format  table"
   ]
  },
  {
   "cell_type": "markdown",
   "id": "3eccd0b0",
   "metadata": {},
   "source": [
    "### Create the adoption_disposals_format  table in Athena"
   ]
  },
  {
   "cell_type": "code",
   "execution_count": 13,
   "id": "cfffc664",
   "metadata": {
    "scrolled": true
   },
   "outputs": [],
   "source": [
    "create_adoption_disposals_format  = f\"\"\"\n",
    "SELECT\n",
    "Category,\n",
    "Stage,\n",
    "Year,\n",
    "Quarter,\n",
    "Court,\n",
    "Disposals as Count,\n",
    "Case_end as Cases\n",
    "FROM\n",
    "__temp__.adoption_disposals_merge;\n",
    "\"\"\"\n",
    "\n",
    "pydb.create_temp_table(create_adoption_disposals_format,'adoption_disposals_format');\n",
    "\n"
   ]
  },
  {
   "cell_type": "markdown",
   "id": "a8dcc2fa",
   "metadata": {},
   "source": [
    "#### adoption_disposals_format  validation"
   ]
  },
  {
   "cell_type": "code",
   "execution_count": 14,
   "id": "f21fb3f0",
   "metadata": {
    "scrolled": true
   },
   "outputs": [
    {
     "data": {
      "text/html": [
       "<div>\n",
       "<style scoped>\n",
       "    .dataframe tbody tr th:only-of-type {\n",
       "        vertical-align: middle;\n",
       "    }\n",
       "\n",
       "    .dataframe tbody tr th {\n",
       "        vertical-align: top;\n",
       "    }\n",
       "\n",
       "    .dataframe thead th {\n",
       "        text-align: right;\n",
       "    }\n",
       "</style>\n",
       "<table border=\"1\" class=\"dataframe\">\n",
       "  <thead>\n",
       "    <tr style=\"text-align: right;\">\n",
       "      <th></th>\n",
       "      <th>count</th>\n",
       "    </tr>\n",
       "  </thead>\n",
       "  <tbody>\n",
       "    <tr>\n",
       "      <th>0</th>\n",
       "      <td>3542</td>\n",
       "    </tr>\n",
       "  </tbody>\n",
       "</table>\n",
       "</div>"
      ],
      "text/plain": [
       "   count\n",
       "0   3542"
      ]
     },
     "execution_count": 14,
     "metadata": {},
     "output_type": "execute_result"
    }
   ],
   "source": [
    "adoption_disposals_format_count = pydb.read_sql_query(\"select count(*) as count from __temp__.adoption_disposals_format \")\n",
    "adoption_disposals_format_count"
   ]
  },
  {
   "cell_type": "markdown",
   "id": "dfb0e15b",
   "metadata": {
    "tags": []
   },
   "source": [
    "## Adoption_Applications_Ordera table"
   ]
  },
  {
   "cell_type": "markdown",
   "id": "e24fc5ce",
   "metadata": {},
   "source": [
    "### Create the Adoption_Applications_Ordera table in Athena"
   ]
  },
  {
   "cell_type": "code",
   "execution_count": 15,
   "id": "d514b64d",
   "metadata": {},
   "outputs": [],
   "source": [
    "create_Adoption_Applications_Ordera = f\"\"\"\n",
    "SELECT YEAR, QUARTER, Court, count(*) as Apps\n",
    "FROM fcsq.adopt_apps_6_adoptions_only\n",
    "WHERE Year>2010\n",
    "GROUP BY Year,Quarter,Court\n",
    "ORDER BY Year,Quarter,Court;\n",
    "\"\"\"\n",
    "\n",
    "pydb.create_temp_table(create_Adoption_Applications_Ordera,'Adoption_Applications_Ordera');\n",
    "\n"
   ]
  },
  {
   "cell_type": "markdown",
   "id": "a9ec4666",
   "metadata": {},
   "source": [
    "#### Adoption_Applications_Ordera validation"
   ]
  },
  {
   "cell_type": "code",
   "execution_count": 16,
   "id": "12f19dbc",
   "metadata": {},
   "outputs": [
    {
     "data": {
      "text/html": [
       "<div>\n",
       "<style scoped>\n",
       "    .dataframe tbody tr th:only-of-type {\n",
       "        vertical-align: middle;\n",
       "    }\n",
       "\n",
       "    .dataframe tbody tr th {\n",
       "        vertical-align: top;\n",
       "    }\n",
       "\n",
       "    .dataframe thead th {\n",
       "        text-align: right;\n",
       "    }\n",
       "</style>\n",
       "<table border=\"1\" class=\"dataframe\">\n",
       "  <thead>\n",
       "    <tr style=\"text-align: right;\">\n",
       "      <th></th>\n",
       "      <th>count</th>\n",
       "    </tr>\n",
       "  </thead>\n",
       "  <tbody>\n",
       "    <tr>\n",
       "      <th>0</th>\n",
       "      <td>3594</td>\n",
       "    </tr>\n",
       "  </tbody>\n",
       "</table>\n",
       "</div>"
      ],
      "text/plain": [
       "   count\n",
       "0   3594"
      ]
     },
     "execution_count": 16,
     "metadata": {},
     "output_type": "execute_result"
    }
   ],
   "source": [
    "Adoption_Applications_Ordera_count = pydb.read_sql_query(\"select count(*) as count from __temp__.Adoption_Applications_Ordera\")\n",
    "Adoption_Applications_Ordera_count"
   ]
  },
  {
   "cell_type": "markdown",
   "id": "886005f2",
   "metadata": {
    "tags": []
   },
   "source": [
    "## Application_case_count_C table"
   ]
  },
  {
   "cell_type": "markdown",
   "id": "f8490e5d",
   "metadata": {},
   "source": [
    "### Create the Application_case_count_C table in Athena"
   ]
  },
  {
   "cell_type": "code",
   "execution_count": 17,
   "id": "757389b6",
   "metadata": {
    "scrolled": true
   },
   "outputs": [],
   "source": [
    "create_Application_case_count_C = f\"\"\"\n",
    "SELECT \n",
    "t1.CASE_NUMBER, \n",
    "Min(t1.App_date) AS MinOfApp_date,\n",
    "t1.Court \n",
    "FROM fcsq.adopt_apps_6_adoptions_only as t1\n",
    "GROUP BY t1.CASE_NUMBER, t1.Court;\n",
    "\n",
    "\"\"\"\n",
    "\n",
    "pydb.create_temp_table(create_Application_case_count_C,'Application_case_count_C');\n",
    "\n"
   ]
  },
  {
   "cell_type": "markdown",
   "id": "e5f5f609",
   "metadata": {},
   "source": [
    "#### Application_case_count_C validation"
   ]
  },
  {
   "cell_type": "code",
   "execution_count": 18,
   "id": "36723130",
   "metadata": {},
   "outputs": [
    {
     "data": {
      "text/html": [
       "<div>\n",
       "<style scoped>\n",
       "    .dataframe tbody tr th:only-of-type {\n",
       "        vertical-align: middle;\n",
       "    }\n",
       "\n",
       "    .dataframe tbody tr th {\n",
       "        vertical-align: top;\n",
       "    }\n",
       "\n",
       "    .dataframe thead th {\n",
       "        text-align: right;\n",
       "    }\n",
       "</style>\n",
       "<table border=\"1\" class=\"dataframe\">\n",
       "  <thead>\n",
       "    <tr style=\"text-align: right;\">\n",
       "      <th></th>\n",
       "      <th>count</th>\n",
       "    </tr>\n",
       "  </thead>\n",
       "  <tbody>\n",
       "    <tr>\n",
       "      <th>0</th>\n",
       "      <td>71276</td>\n",
       "    </tr>\n",
       "  </tbody>\n",
       "</table>\n",
       "</div>"
      ],
      "text/plain": [
       "   count\n",
       "0  71276"
      ]
     },
     "execution_count": 18,
     "metadata": {},
     "output_type": "execute_result"
    }
   ],
   "source": [
    "Application_case_count_C_count = pydb.read_sql_query(\"select count(*) as count from __temp__.Application_case_count_C\")\n",
    "Application_case_count_C_count"
   ]
  },
  {
   "cell_type": "markdown",
   "id": "9a36ab3d",
   "metadata": {},
   "source": [
    "### Create the Application_case_count_D table in Athena"
   ]
  },
  {
   "cell_type": "code",
   "execution_count": 19,
   "id": "d452416a",
   "metadata": {
    "scrolled": true
   },
   "outputs": [],
   "source": [
    "create_Application_case_count_D = f\"\"\"\n",
    "SELECT \n",
    "t1.CASE_NUMBER, \n",
    "Year (t1.MinOfApp_date) AS YEAR,\n",
    "CASE WHEN Month(t1.MinOfApp_date)<4\n",
    "    THEN 1\n",
    "        WHEN Month(t1.MinOfApp_date)<7\n",
    "        THEN 2\n",
    "            WHEN Month(t1.MinOfApp_date)<10\n",
    "            THEN 3\n",
    "\n",
    "ELSE 4\n",
    "END AS Quarter,\n",
    "t1.MinOfApp_date,\n",
    "t1.Court \n",
    "FROM __temp__.application_case_count_C  as t1;\n",
    "\n",
    "\"\"\"\n",
    "\n",
    "pydb.create_temp_table(create_Application_case_count_D,'Application_case_count_D');\n",
    "\n"
   ]
  },
  {
   "cell_type": "markdown",
   "id": "cde591a9",
   "metadata": {},
   "source": [
    "#### Application_case_count_D validation"
   ]
  },
  {
   "cell_type": "code",
   "execution_count": 20,
   "id": "e07b6ee7",
   "metadata": {},
   "outputs": [
    {
     "data": {
      "text/html": [
       "<div>\n",
       "<style scoped>\n",
       "    .dataframe tbody tr th:only-of-type {\n",
       "        vertical-align: middle;\n",
       "    }\n",
       "\n",
       "    .dataframe tbody tr th {\n",
       "        vertical-align: top;\n",
       "    }\n",
       "\n",
       "    .dataframe thead th {\n",
       "        text-align: right;\n",
       "    }\n",
       "</style>\n",
       "<table border=\"1\" class=\"dataframe\">\n",
       "  <thead>\n",
       "    <tr style=\"text-align: right;\">\n",
       "      <th></th>\n",
       "      <th>count</th>\n",
       "    </tr>\n",
       "  </thead>\n",
       "  <tbody>\n",
       "    <tr>\n",
       "      <th>0</th>\n",
       "      <td>71276</td>\n",
       "    </tr>\n",
       "  </tbody>\n",
       "</table>\n",
       "</div>"
      ],
      "text/plain": [
       "   count\n",
       "0  71276"
      ]
     },
     "execution_count": 20,
     "metadata": {},
     "output_type": "execute_result"
    }
   ],
   "source": [
    "Application_case_count_D_count = pydb.read_sql_query(\"select count(*) as count from __temp__.Application_case_count_D\")\n",
    "Application_case_count_D_count"
   ]
  },
  {
   "cell_type": "markdown",
   "id": "758ca4f6",
   "metadata": {
    "tags": []
   },
   "source": [
    "## Adoption_Applications_Case table"
   ]
  },
  {
   "cell_type": "markdown",
   "id": "fe57fa0b",
   "metadata": {},
   "source": [
    "### Create the Adoption_Applications_Case table in Athena"
   ]
  },
  {
   "cell_type": "code",
   "execution_count": 21,
   "id": "fd215fd0",
   "metadata": {
    "scrolled": true
   },
   "outputs": [],
   "source": [
    "create_Adoption_Applications_Case = f\"\"\"\n",
    "SELECT Year,Quarter,Court,count(*) as Case_Count\n",
    "FROM __temp__.Application_case_count_D\n",
    "WHERE year>2010\n",
    "GROUP BY Year,Quarter,Court\n",
    "ORDER BY Year,Quarter,Court;\n",
    "\"\"\"\n",
    "\n",
    "pydb.create_temp_table(create_Adoption_Applications_Case,'Adoption_Applications_Case');\n",
    "\n"
   ]
  },
  {
   "cell_type": "markdown",
   "id": "819a40e3",
   "metadata": {},
   "source": [
    "#### Adoption_Applications_Case validation"
   ]
  },
  {
   "cell_type": "code",
   "execution_count": 22,
   "id": "b6031e83",
   "metadata": {},
   "outputs": [
    {
     "data": {
      "text/html": [
       "<div>\n",
       "<style scoped>\n",
       "    .dataframe tbody tr th:only-of-type {\n",
       "        vertical-align: middle;\n",
       "    }\n",
       "\n",
       "    .dataframe tbody tr th {\n",
       "        vertical-align: top;\n",
       "    }\n",
       "\n",
       "    .dataframe thead th {\n",
       "        text-align: right;\n",
       "    }\n",
       "</style>\n",
       "<table border=\"1\" class=\"dataframe\">\n",
       "  <thead>\n",
       "    <tr style=\"text-align: right;\">\n",
       "      <th></th>\n",
       "      <th>count</th>\n",
       "    </tr>\n",
       "  </thead>\n",
       "  <tbody>\n",
       "    <tr>\n",
       "      <th>0</th>\n",
       "      <td>3594</td>\n",
       "    </tr>\n",
       "  </tbody>\n",
       "</table>\n",
       "</div>"
      ],
      "text/plain": [
       "   count\n",
       "0   3594"
      ]
     },
     "execution_count": 22,
     "metadata": {},
     "output_type": "execute_result"
    }
   ],
   "source": [
    "Adoption_Applications_Case_count = pydb.read_sql_query(\"select count(*) as count from __temp__.Adoption_Applications_Case\")\n",
    "Adoption_Applications_Case_count"
   ]
  },
  {
   "cell_type": "markdown",
   "id": "2ad3a19f",
   "metadata": {
    "tags": []
   },
   "source": [
    "## adoption_Applications_merge table"
   ]
  },
  {
   "cell_type": "markdown",
   "id": "ef79dfbc",
   "metadata": {},
   "source": [
    "### Create the adoption_Applications_merge table in Athena"
   ]
  },
  {
   "cell_type": "code",
   "execution_count": 23,
   "id": "7b5d6c3c",
   "metadata": {},
   "outputs": [],
   "source": [
    "create_adoption_Applications_merge = f\"\"\"\n",
    "SELECT\n",
    "t1.year,\n",
    "t1.quarter,\n",
    "t1.court,\n",
    "t1.apps,\n",
    "t2.Case_Count,\n",
    "'Adoption' as Category,\n",
    "'Start' as Stage\n",
    "FROM __temp__.Adoption_Applications_Ordera t1 \n",
    "INNER JOIN \n",
    "__temp__.Adoption_Applications_Case t2\n",
    "ON t1.year = t2.year AND t1.quarter = t2.quarter AND t1.court = t2.court\n",
    "where t1.year <> 2021 or t1.quarter <> 3;\n",
    "\"\"\"\n",
    "\n",
    "pydb.create_temp_table(create_adoption_Applications_merge,'adoption_Applications_merge');\n",
    "\n"
   ]
  },
  {
   "cell_type": "markdown",
   "id": "be843817",
   "metadata": {},
   "source": [
    "#### adoption_Applications_merge validation"
   ]
  },
  {
   "cell_type": "code",
   "execution_count": 37,
   "id": "d0cb5a63",
   "metadata": {},
   "outputs": [
    {
     "data": {
      "text/html": [
       "<div>\n",
       "<style scoped>\n",
       "    .dataframe tbody tr th:only-of-type {\n",
       "        vertical-align: middle;\n",
       "    }\n",
       "\n",
       "    .dataframe tbody tr th {\n",
       "        vertical-align: top;\n",
       "    }\n",
       "\n",
       "    .dataframe thead th {\n",
       "        text-align: right;\n",
       "    }\n",
       "</style>\n",
       "<table border=\"1\" class=\"dataframe\">\n",
       "  <thead>\n",
       "    <tr style=\"text-align: right;\">\n",
       "      <th></th>\n",
       "      <th>year</th>\n",
       "      <th>quarter</th>\n",
       "      <th>court</th>\n",
       "      <th>apps</th>\n",
       "      <th>case_count</th>\n",
       "      <th>category</th>\n",
       "      <th>stage</th>\n",
       "    </tr>\n",
       "  </thead>\n",
       "  <tbody>\n",
       "    <tr>\n",
       "      <th>0</th>\n",
       "      <td>2011</td>\n",
       "      <td>1</td>\n",
       "      <td>100</td>\n",
       "      <td>90</td>\n",
       "      <td>90</td>\n",
       "      <td>Adoption</td>\n",
       "      <td>Start</td>\n",
       "    </tr>\n",
       "    <tr>\n",
       "      <th>1</th>\n",
       "      <td>2011</td>\n",
       "      <td>1</td>\n",
       "      <td>127</td>\n",
       "      <td>37</td>\n",
       "      <td>37</td>\n",
       "      <td>Adoption</td>\n",
       "      <td>Start</td>\n",
       "    </tr>\n",
       "    <tr>\n",
       "      <th>2</th>\n",
       "      <td>2011</td>\n",
       "      <td>1</td>\n",
       "      <td>130</td>\n",
       "      <td>14</td>\n",
       "      <td>14</td>\n",
       "      <td>Adoption</td>\n",
       "      <td>Start</td>\n",
       "    </tr>\n",
       "    <tr>\n",
       "      <th>3</th>\n",
       "      <td>2011</td>\n",
       "      <td>1</td>\n",
       "      <td>139</td>\n",
       "      <td>15</td>\n",
       "      <td>15</td>\n",
       "      <td>Adoption</td>\n",
       "      <td>Start</td>\n",
       "    </tr>\n",
       "    <tr>\n",
       "      <th>4</th>\n",
       "      <td>2011</td>\n",
       "      <td>1</td>\n",
       "      <td>150</td>\n",
       "      <td>47</td>\n",
       "      <td>47</td>\n",
       "      <td>Adoption</td>\n",
       "      <td>Start</td>\n",
       "    </tr>\n",
       "    <tr>\n",
       "      <th>...</th>\n",
       "      <td>...</td>\n",
       "      <td>...</td>\n",
       "      <td>...</td>\n",
       "      <td>...</td>\n",
       "      <td>...</td>\n",
       "      <td>...</td>\n",
       "      <td>...</td>\n",
       "    </tr>\n",
       "    <tr>\n",
       "      <th>3531</th>\n",
       "      <td>2022</td>\n",
       "      <td>2</td>\n",
       "      <td>380</td>\n",
       "      <td>7</td>\n",
       "      <td>7</td>\n",
       "      <td>Adoption</td>\n",
       "      <td>Start</td>\n",
       "    </tr>\n",
       "    <tr>\n",
       "      <th>3532</th>\n",
       "      <td>2022</td>\n",
       "      <td>2</td>\n",
       "      <td>384</td>\n",
       "      <td>3</td>\n",
       "      <td>3</td>\n",
       "      <td>Adoption</td>\n",
       "      <td>Start</td>\n",
       "    </tr>\n",
       "    <tr>\n",
       "      <th>3533</th>\n",
       "      <td>2022</td>\n",
       "      <td>2</td>\n",
       "      <td>386</td>\n",
       "      <td>4</td>\n",
       "      <td>4</td>\n",
       "      <td>Adoption</td>\n",
       "      <td>Start</td>\n",
       "    </tr>\n",
       "    <tr>\n",
       "      <th>3534</th>\n",
       "      <td>2022</td>\n",
       "      <td>2</td>\n",
       "      <td>388</td>\n",
       "      <td>4</td>\n",
       "      <td>4</td>\n",
       "      <td>Adoption</td>\n",
       "      <td>Start</td>\n",
       "    </tr>\n",
       "    <tr>\n",
       "      <th>3535</th>\n",
       "      <td>2022</td>\n",
       "      <td>2</td>\n",
       "      <td>554</td>\n",
       "      <td>7</td>\n",
       "      <td>7</td>\n",
       "      <td>Adoption</td>\n",
       "      <td>Start</td>\n",
       "    </tr>\n",
       "  </tbody>\n",
       "</table>\n",
       "<p>3536 rows × 7 columns</p>\n",
       "</div>"
      ],
      "text/plain": [
       "      year  quarter court  apps  case_count  category  stage\n",
       "0     2011        1   100    90          90  Adoption  Start\n",
       "1     2011        1   127    37          37  Adoption  Start\n",
       "2     2011        1   130    14          14  Adoption  Start\n",
       "3     2011        1   139    15          15  Adoption  Start\n",
       "4     2011        1   150    47          47  Adoption  Start\n",
       "...    ...      ...   ...   ...         ...       ...    ...\n",
       "3531  2022        2   380     7           7  Adoption  Start\n",
       "3532  2022        2   384     3           3  Adoption  Start\n",
       "3533  2022        2   386     4           4  Adoption  Start\n",
       "3534  2022        2   388     4           4  Adoption  Start\n",
       "3535  2022        2   554     7           7  Adoption  Start\n",
       "\n",
       "[3536 rows x 7 columns]"
      ]
     },
     "execution_count": 37,
     "metadata": {},
     "output_type": "execute_result"
    }
   ],
   "source": [
    "adoption_Applications_merge_count = pydb.read_sql_query(\"select * from __temp__.adoption_Applications_merge ORDER BY Year,Quarter,Court;\")\n",
    "adoption_Applications_merge_count"
   ]
  },
  {
   "cell_type": "markdown",
   "id": "7f40c922",
   "metadata": {
    "tags": []
   },
   "source": [
    "## adoption_Applications_format  table"
   ]
  },
  {
   "cell_type": "markdown",
   "id": "0d333811",
   "metadata": {},
   "source": [
    "### Create the adoption_Applications_format  table in Athena"
   ]
  },
  {
   "cell_type": "code",
   "execution_count": 25,
   "id": "5c336fec",
   "metadata": {
    "scrolled": true
   },
   "outputs": [],
   "source": [
    "create_adoption_Applications_format  = f\"\"\"\n",
    "SELECT\n",
    "Category,\n",
    "Stage,\n",
    "Year,\n",
    "Quarter,\n",
    "Court,\n",
    "apps as Count,\n",
    "Case_Count as Cases\n",
    "FROM\n",
    "__temp__.adoption_Applications_merge;\n",
    "\"\"\"\n",
    "\n",
    "pydb.create_temp_table(create_adoption_Applications_format,'adoption_Applications_format');\n",
    "\n"
   ]
  },
  {
   "cell_type": "markdown",
   "id": "3d0ff009",
   "metadata": {},
   "source": [
    "#### adoption_Applications_format  validation"
   ]
  },
  {
   "cell_type": "code",
   "execution_count": 26,
   "id": "fc8d4d9f",
   "metadata": {},
   "outputs": [
    {
     "data": {
      "text/html": [
       "<div>\n",
       "<style scoped>\n",
       "    .dataframe tbody tr th:only-of-type {\n",
       "        vertical-align: middle;\n",
       "    }\n",
       "\n",
       "    .dataframe tbody tr th {\n",
       "        vertical-align: top;\n",
       "    }\n",
       "\n",
       "    .dataframe thead th {\n",
       "        text-align: right;\n",
       "    }\n",
       "</style>\n",
       "<table border=\"1\" class=\"dataframe\">\n",
       "  <thead>\n",
       "    <tr style=\"text-align: right;\">\n",
       "      <th></th>\n",
       "      <th>category</th>\n",
       "      <th>stage</th>\n",
       "      <th>year</th>\n",
       "      <th>quarter</th>\n",
       "      <th>court</th>\n",
       "      <th>count</th>\n",
       "      <th>cases</th>\n",
       "    </tr>\n",
       "  </thead>\n",
       "  <tbody>\n",
       "    <tr>\n",
       "      <th>0</th>\n",
       "      <td>Adoption</td>\n",
       "      <td>Start</td>\n",
       "      <td>2011</td>\n",
       "      <td>1</td>\n",
       "      <td>100</td>\n",
       "      <td>90</td>\n",
       "      <td>90</td>\n",
       "    </tr>\n",
       "    <tr>\n",
       "      <th>1</th>\n",
       "      <td>Adoption</td>\n",
       "      <td>Start</td>\n",
       "      <td>2011</td>\n",
       "      <td>1</td>\n",
       "      <td>127</td>\n",
       "      <td>37</td>\n",
       "      <td>37</td>\n",
       "    </tr>\n",
       "    <tr>\n",
       "      <th>2</th>\n",
       "      <td>Adoption</td>\n",
       "      <td>Start</td>\n",
       "      <td>2011</td>\n",
       "      <td>1</td>\n",
       "      <td>130</td>\n",
       "      <td>14</td>\n",
       "      <td>14</td>\n",
       "    </tr>\n",
       "    <tr>\n",
       "      <th>3</th>\n",
       "      <td>Adoption</td>\n",
       "      <td>Start</td>\n",
       "      <td>2011</td>\n",
       "      <td>1</td>\n",
       "      <td>139</td>\n",
       "      <td>15</td>\n",
       "      <td>15</td>\n",
       "    </tr>\n",
       "    <tr>\n",
       "      <th>4</th>\n",
       "      <td>Adoption</td>\n",
       "      <td>Start</td>\n",
       "      <td>2011</td>\n",
       "      <td>1</td>\n",
       "      <td>150</td>\n",
       "      <td>47</td>\n",
       "      <td>47</td>\n",
       "    </tr>\n",
       "    <tr>\n",
       "      <th>...</th>\n",
       "      <td>...</td>\n",
       "      <td>...</td>\n",
       "      <td>...</td>\n",
       "      <td>...</td>\n",
       "      <td>...</td>\n",
       "      <td>...</td>\n",
       "      <td>...</td>\n",
       "    </tr>\n",
       "    <tr>\n",
       "      <th>3531</th>\n",
       "      <td>Adoption</td>\n",
       "      <td>Start</td>\n",
       "      <td>2022</td>\n",
       "      <td>2</td>\n",
       "      <td>380</td>\n",
       "      <td>7</td>\n",
       "      <td>7</td>\n",
       "    </tr>\n",
       "    <tr>\n",
       "      <th>3532</th>\n",
       "      <td>Adoption</td>\n",
       "      <td>Start</td>\n",
       "      <td>2022</td>\n",
       "      <td>2</td>\n",
       "      <td>384</td>\n",
       "      <td>3</td>\n",
       "      <td>3</td>\n",
       "    </tr>\n",
       "    <tr>\n",
       "      <th>3533</th>\n",
       "      <td>Adoption</td>\n",
       "      <td>Start</td>\n",
       "      <td>2022</td>\n",
       "      <td>2</td>\n",
       "      <td>386</td>\n",
       "      <td>4</td>\n",
       "      <td>4</td>\n",
       "    </tr>\n",
       "    <tr>\n",
       "      <th>3534</th>\n",
       "      <td>Adoption</td>\n",
       "      <td>Start</td>\n",
       "      <td>2022</td>\n",
       "      <td>2</td>\n",
       "      <td>388</td>\n",
       "      <td>4</td>\n",
       "      <td>4</td>\n",
       "    </tr>\n",
       "    <tr>\n",
       "      <th>3535</th>\n",
       "      <td>Adoption</td>\n",
       "      <td>Start</td>\n",
       "      <td>2022</td>\n",
       "      <td>2</td>\n",
       "      <td>554</td>\n",
       "      <td>7</td>\n",
       "      <td>7</td>\n",
       "    </tr>\n",
       "  </tbody>\n",
       "</table>\n",
       "<p>3536 rows × 7 columns</p>\n",
       "</div>"
      ],
      "text/plain": [
       "      category  stage  year  quarter court  count  cases\n",
       "0     Adoption  Start  2011        1   100     90     90\n",
       "1     Adoption  Start  2011        1   127     37     37\n",
       "2     Adoption  Start  2011        1   130     14     14\n",
       "3     Adoption  Start  2011        1   139     15     15\n",
       "4     Adoption  Start  2011        1   150     47     47\n",
       "...        ...    ...   ...      ...   ...    ...    ...\n",
       "3531  Adoption  Start  2022        2   380      7      7\n",
       "3532  Adoption  Start  2022        2   384      3      3\n",
       "3533  Adoption  Start  2022        2   386      4      4\n",
       "3534  Adoption  Start  2022        2   388      4      4\n",
       "3535  Adoption  Start  2022        2   554      7      7\n",
       "\n",
       "[3536 rows x 7 columns]"
      ]
     },
     "execution_count": 26,
     "metadata": {},
     "output_type": "execute_result"
    }
   ],
   "source": [
    "adoption_Applications_format_count = pydb.read_sql_query(\"select * from __temp__.adoption_Applications_format ORDER BY Year,Quarter,Court\")\n",
    "adoption_Applications_format_count"
   ]
  },
  {
   "cell_type": "markdown",
   "id": "2ca41353",
   "metadata": {
    "tags": []
   },
   "source": [
    "## adopt_court_level_append table"
   ]
  },
  {
   "cell_type": "markdown",
   "id": "29c116c8",
   "metadata": {},
   "source": [
    "### Create the adopt_court_level_append table in Athena"
   ]
  },
  {
   "cell_type": "code",
   "execution_count": 27,
   "id": "352dc722",
   "metadata": {
    "scrolled": true
   },
   "outputs": [],
   "source": [
    "create_adopt_court_level_append = f\"\"\"\n",
    "SELECT * FROM __temp__.adoption_Applications_format \n",
    "UNION \n",
    "SELECT * FROM __temp__.adoption_Disposals_format \n",
    "ORDER BY Year,Quarter,Court\n",
    "\"\"\"\n",
    "\n",
    "pydb.create_temp_table(create_adopt_court_level_append,'adopt_court_level_append');\n",
    "\n"
   ]
  },
  {
   "cell_type": "markdown",
   "id": "6786c2cd",
   "metadata": {},
   "source": [
    "#### adopt_court_level_append validation"
   ]
  },
  {
   "cell_type": "code",
   "execution_count": 28,
   "id": "c6c54299",
   "metadata": {},
   "outputs": [
    {
     "data": {
      "text/html": [
       "<div>\n",
       "<style scoped>\n",
       "    .dataframe tbody tr th:only-of-type {\n",
       "        vertical-align: middle;\n",
       "    }\n",
       "\n",
       "    .dataframe tbody tr th {\n",
       "        vertical-align: top;\n",
       "    }\n",
       "\n",
       "    .dataframe thead th {\n",
       "        text-align: right;\n",
       "    }\n",
       "</style>\n",
       "<table border=\"1\" class=\"dataframe\">\n",
       "  <thead>\n",
       "    <tr style=\"text-align: right;\">\n",
       "      <th></th>\n",
       "      <th>category</th>\n",
       "      <th>stage</th>\n",
       "      <th>year</th>\n",
       "      <th>quarter</th>\n",
       "      <th>court</th>\n",
       "      <th>count</th>\n",
       "      <th>cases</th>\n",
       "    </tr>\n",
       "  </thead>\n",
       "  <tbody>\n",
       "    <tr>\n",
       "      <th>0</th>\n",
       "      <td>Adoption</td>\n",
       "      <td>End</td>\n",
       "      <td>2011</td>\n",
       "      <td>1</td>\n",
       "      <td>100</td>\n",
       "      <td>52</td>\n",
       "      <td>51</td>\n",
       "    </tr>\n",
       "    <tr>\n",
       "      <th>1</th>\n",
       "      <td>Adoption</td>\n",
       "      <td>Start</td>\n",
       "      <td>2011</td>\n",
       "      <td>1</td>\n",
       "      <td>100</td>\n",
       "      <td>90</td>\n",
       "      <td>90</td>\n",
       "    </tr>\n",
       "    <tr>\n",
       "      <th>2</th>\n",
       "      <td>Adoption</td>\n",
       "      <td>End</td>\n",
       "      <td>2011</td>\n",
       "      <td>1</td>\n",
       "      <td>127</td>\n",
       "      <td>39</td>\n",
       "      <td>38</td>\n",
       "    </tr>\n",
       "    <tr>\n",
       "      <th>3</th>\n",
       "      <td>Adoption</td>\n",
       "      <td>Start</td>\n",
       "      <td>2011</td>\n",
       "      <td>1</td>\n",
       "      <td>127</td>\n",
       "      <td>37</td>\n",
       "      <td>37</td>\n",
       "    </tr>\n",
       "    <tr>\n",
       "      <th>4</th>\n",
       "      <td>Adoption</td>\n",
       "      <td>Start</td>\n",
       "      <td>2011</td>\n",
       "      <td>1</td>\n",
       "      <td>130</td>\n",
       "      <td>14</td>\n",
       "      <td>14</td>\n",
       "    </tr>\n",
       "    <tr>\n",
       "      <th>...</th>\n",
       "      <td>...</td>\n",
       "      <td>...</td>\n",
       "      <td>...</td>\n",
       "      <td>...</td>\n",
       "      <td>...</td>\n",
       "      <td>...</td>\n",
       "      <td>...</td>\n",
       "    </tr>\n",
       "    <tr>\n",
       "      <th>7073</th>\n",
       "      <td>Adoption</td>\n",
       "      <td>End</td>\n",
       "      <td>2022</td>\n",
       "      <td>2</td>\n",
       "      <td>386</td>\n",
       "      <td>3</td>\n",
       "      <td>3</td>\n",
       "    </tr>\n",
       "    <tr>\n",
       "      <th>7074</th>\n",
       "      <td>Adoption</td>\n",
       "      <td>End</td>\n",
       "      <td>2022</td>\n",
       "      <td>2</td>\n",
       "      <td>388</td>\n",
       "      <td>13</td>\n",
       "      <td>13</td>\n",
       "    </tr>\n",
       "    <tr>\n",
       "      <th>7075</th>\n",
       "      <td>Adoption</td>\n",
       "      <td>Start</td>\n",
       "      <td>2022</td>\n",
       "      <td>2</td>\n",
       "      <td>388</td>\n",
       "      <td>4</td>\n",
       "      <td>4</td>\n",
       "    </tr>\n",
       "    <tr>\n",
       "      <th>7076</th>\n",
       "      <td>Adoption</td>\n",
       "      <td>End</td>\n",
       "      <td>2022</td>\n",
       "      <td>2</td>\n",
       "      <td>554</td>\n",
       "      <td>2</td>\n",
       "      <td>2</td>\n",
       "    </tr>\n",
       "    <tr>\n",
       "      <th>7077</th>\n",
       "      <td>Adoption</td>\n",
       "      <td>Start</td>\n",
       "      <td>2022</td>\n",
       "      <td>2</td>\n",
       "      <td>554</td>\n",
       "      <td>7</td>\n",
       "      <td>7</td>\n",
       "    </tr>\n",
       "  </tbody>\n",
       "</table>\n",
       "<p>7078 rows × 7 columns</p>\n",
       "</div>"
      ],
      "text/plain": [
       "      category  stage  year  quarter court  count  cases\n",
       "0     Adoption    End  2011        1   100     52     51\n",
       "1     Adoption  Start  2011        1   100     90     90\n",
       "2     Adoption    End  2011        1   127     39     38\n",
       "3     Adoption  Start  2011        1   127     37     37\n",
       "4     Adoption  Start  2011        1   130     14     14\n",
       "...        ...    ...   ...      ...   ...    ...    ...\n",
       "7073  Adoption    End  2022        2   386      3      3\n",
       "7074  Adoption    End  2022        2   388     13     13\n",
       "7075  Adoption  Start  2022        2   388      4      4\n",
       "7076  Adoption    End  2022        2   554      2      2\n",
       "7077  Adoption  Start  2022        2   554      7      7\n",
       "\n",
       "[7078 rows x 7 columns]"
      ]
     },
     "execution_count": 28,
     "metadata": {},
     "output_type": "execute_result"
    }
   ],
   "source": [
    "adopt_court_level_append_count = pydb.read_sql_query(\"select * from __temp__.adopt_court_level_append\")\n",
    "adopt_court_level_append_count"
   ]
  },
  {
   "cell_type": "markdown",
   "id": "bf7642ed",
   "metadata": {
    "tags": []
   },
   "source": [
    "## court_lookup table"
   ]
  },
  {
   "cell_type": "markdown",
   "id": "45f698ca",
   "metadata": {},
   "source": [
    "### Create the court_lookup table in Athena"
   ]
  },
  {
   "cell_type": "code",
   "execution_count": 29,
   "id": "87483770",
   "metadata": {
    "scrolled": true
   },
   "outputs": [],
   "source": [
    "create_court_lookup = f\"\"\"\n",
    "SELECT \n",
    "code,\n",
    "Region,\n",
    "Region_Pre2014,\n",
    "DFJ_New\n",
    "FROM fcsq.court_mv_feb21_dfj;\n",
    "\"\"\"\n",
    "\n",
    "pydb.create_temp_table(create_court_lookup,'court_lookup');\n",
    "\n"
   ]
  },
  {
   "cell_type": "markdown",
   "id": "399d5c1b",
   "metadata": {},
   "source": [
    "#### court_lookup validation"
   ]
  },
  {
   "cell_type": "code",
   "execution_count": 49,
   "id": "4edf295f",
   "metadata": {},
   "outputs": [
    {
     "data": {
      "text/html": [
       "<div>\n",
       "<style scoped>\n",
       "    .dataframe tbody tr th:only-of-type {\n",
       "        vertical-align: middle;\n",
       "    }\n",
       "\n",
       "    .dataframe tbody tr th {\n",
       "        vertical-align: top;\n",
       "    }\n",
       "\n",
       "    .dataframe thead th {\n",
       "        text-align: right;\n",
       "    }\n",
       "</style>\n",
       "<table border=\"1\" class=\"dataframe\">\n",
       "  <thead>\n",
       "    <tr style=\"text-align: right;\">\n",
       "      <th></th>\n",
       "      <th>code</th>\n",
       "      <th>region</th>\n",
       "      <th>region_pre2014</th>\n",
       "      <th>dfj_new</th>\n",
       "    </tr>\n",
       "  </thead>\n",
       "  <tbody>\n",
       "    <tr>\n",
       "      <th>0</th>\n",
       "      <td>120</td>\n",
       "      <td>NORTH WEST</td>\n",
       "      <td>NORTH WEST</td>\n",
       "      <td>Carlisle DFJ</td>\n",
       "    </tr>\n",
       "    <tr>\n",
       "      <th>1</th>\n",
       "      <td>165</td>\n",
       "      <td>NORTH WEST</td>\n",
       "      <td>NORTH WEST</td>\n",
       "      <td>Carlisle DFJ</td>\n",
       "    </tr>\n",
       "    <tr>\n",
       "      <th>2</th>\n",
       "      <td>235</td>\n",
       "      <td>NORTH WEST</td>\n",
       "      <td>NORTH WEST</td>\n",
       "      <td>Carlisle DFJ</td>\n",
       "    </tr>\n",
       "    <tr>\n",
       "      <th>3</th>\n",
       "      <td>373</td>\n",
       "      <td>NORTH WEST</td>\n",
       "      <td>NORTH WEST</td>\n",
       "      <td>Carlisle DFJ</td>\n",
       "    </tr>\n",
       "    <tr>\n",
       "      <th>4</th>\n",
       "      <td>430</td>\n",
       "      <td>NORTH WEST</td>\n",
       "      <td>NORTH WEST</td>\n",
       "      <td>Carlisle DFJ</td>\n",
       "    </tr>\n",
       "    <tr>\n",
       "      <th>5</th>\n",
       "      <td>436</td>\n",
       "      <td>NORTH WEST</td>\n",
       "      <td>NORTH WEST</td>\n",
       "      <td>Carlisle DFJ</td>\n",
       "    </tr>\n",
       "    <tr>\n",
       "      <th>6</th>\n",
       "      <td>578</td>\n",
       "      <td>NORTH WEST</td>\n",
       "      <td>NORTH WEST</td>\n",
       "      <td>Carlisle DFJ</td>\n",
       "    </tr>\n",
       "  </tbody>\n",
       "</table>\n",
       "</div>"
      ],
      "text/plain": [
       "   code      region region_pre2014       dfj_new\n",
       "0   120  NORTH WEST     NORTH WEST  Carlisle DFJ\n",
       "1   165  NORTH WEST     NORTH WEST  Carlisle DFJ\n",
       "2   235  NORTH WEST     NORTH WEST  Carlisle DFJ\n",
       "3   373  NORTH WEST     NORTH WEST  Carlisle DFJ\n",
       "4   430  NORTH WEST     NORTH WEST  Carlisle DFJ\n",
       "5   436  NORTH WEST     NORTH WEST  Carlisle DFJ\n",
       "6   578  NORTH WEST     NORTH WEST  Carlisle DFJ"
      ]
     },
     "execution_count": 49,
     "metadata": {},
     "output_type": "execute_result"
    }
   ],
   "source": [
    "court_lookup_count = pydb.read_sql_query(\"select * from __temp__.court_lookup\")\n",
    "court_lookup_count"
   ]
  },
  {
   "cell_type": "markdown",
   "id": "53957372",
   "metadata": {
    "tags": []
   },
   "source": [
    "## court_level_merge table"
   ]
  },
  {
   "cell_type": "markdown",
   "id": "cf7d003c",
   "metadata": {},
   "source": [
    "### Create the court_level_merge table in Athena"
   ]
  },
  {
   "cell_type": "code",
   "execution_count": 50,
   "id": "3920845d",
   "metadata": {
    "scrolled": true
   },
   "outputs": [],
   "source": [
    "create_court_level_merge = f\"\"\"\n",
    "SELECT\n",
    "t1.Category,\n",
    "t1.Stage,\n",
    "t1.Year,\n",
    "t1.Quarter,\n",
    "t1.Count,\n",
    "t1.Cases,\n",
    "t2.DFJ_New,\n",
    "Case when Year < 2014 then t2.Region_Pre2014\n",
    "Else t2.Region\n",
    "End As Final_Region\n",
    "FROM \n",
    "__temp__.adopt_court_level_append t1\n",
    "RIGHT JOIN\n",
    "__temp__.court_lookup t2\n",
    "ON CAST(t1.court as integer) = t2.code\n",
    "where CAST(t1.court as integer) in (SELECT code from __temp__.court_lookup);\n",
    "\"\"\"\n",
    "\n",
    "pydb.create_temp_table(create_court_level_merge,'court_level_merge');\n",
    "\n"
   ]
  },
  {
   "cell_type": "markdown",
   "id": "87a2d3b4",
   "metadata": {},
   "source": [
    "#### court_level_merge validation"
   ]
  },
  {
   "cell_type": "code",
   "execution_count": 59,
   "id": "8ed3baad",
   "metadata": {},
   "outputs": [
    {
     "data": {
      "text/html": [
       "<div>\n",
       "<style scoped>\n",
       "    .dataframe tbody tr th:only-of-type {\n",
       "        vertical-align: middle;\n",
       "    }\n",
       "\n",
       "    .dataframe tbody tr th {\n",
       "        vertical-align: top;\n",
       "    }\n",
       "\n",
       "    .dataframe thead th {\n",
       "        text-align: right;\n",
       "    }\n",
       "</style>\n",
       "<table border=\"1\" class=\"dataframe\">\n",
       "  <thead>\n",
       "    <tr style=\"text-align: right;\">\n",
       "      <th></th>\n",
       "      <th>category</th>\n",
       "      <th>stage</th>\n",
       "      <th>year</th>\n",
       "      <th>quarter</th>\n",
       "      <th>count</th>\n",
       "      <th>cases</th>\n",
       "      <th>dfj_new</th>\n",
       "      <th>final_region</th>\n",
       "    </tr>\n",
       "  </thead>\n",
       "  <tbody>\n",
       "    <tr>\n",
       "      <th>0</th>\n",
       "      <td>Adoption</td>\n",
       "      <td>End</td>\n",
       "      <td>2011</td>\n",
       "      <td>1</td>\n",
       "      <td>39</td>\n",
       "      <td>38</td>\n",
       "      <td>Birmingham DJF</td>\n",
       "      <td>MIDLANDS</td>\n",
       "    </tr>\n",
       "    <tr>\n",
       "      <th>1</th>\n",
       "      <td>Adoption</td>\n",
       "      <td>Start</td>\n",
       "      <td>2011</td>\n",
       "      <td>1</td>\n",
       "      <td>37</td>\n",
       "      <td>37</td>\n",
       "      <td>Birmingham DJF</td>\n",
       "      <td>MIDLANDS</td>\n",
       "    </tr>\n",
       "    <tr>\n",
       "      <th>2</th>\n",
       "      <td>Adoption</td>\n",
       "      <td>End</td>\n",
       "      <td>2011</td>\n",
       "      <td>1</td>\n",
       "      <td>18</td>\n",
       "      <td>18</td>\n",
       "      <td>Bournemouth and Poole DFJ</td>\n",
       "      <td>SOUTH WEST</td>\n",
       "    </tr>\n",
       "    <tr>\n",
       "      <th>3</th>\n",
       "      <td>Adoption</td>\n",
       "      <td>Start</td>\n",
       "      <td>2011</td>\n",
       "      <td>1</td>\n",
       "      <td>15</td>\n",
       "      <td>15</td>\n",
       "      <td>Bournemouth and Poole DFJ</td>\n",
       "      <td>SOUTH WEST</td>\n",
       "    </tr>\n",
       "    <tr>\n",
       "      <th>4</th>\n",
       "      <td>Adoption</td>\n",
       "      <td>End</td>\n",
       "      <td>2011</td>\n",
       "      <td>1</td>\n",
       "      <td>35</td>\n",
       "      <td>35</td>\n",
       "      <td>Brighton DFJ</td>\n",
       "      <td>SOUTH EAST</td>\n",
       "    </tr>\n",
       "    <tr>\n",
       "      <th>...</th>\n",
       "      <td>...</td>\n",
       "      <td>...</td>\n",
       "      <td>...</td>\n",
       "      <td>...</td>\n",
       "      <td>...</td>\n",
       "      <td>...</td>\n",
       "      <td>...</td>\n",
       "      <td>...</td>\n",
       "    </tr>\n",
       "    <tr>\n",
       "      <th>7073</th>\n",
       "      <td>Adoption</td>\n",
       "      <td>End</td>\n",
       "      <td>2022</td>\n",
       "      <td>2</td>\n",
       "      <td>4</td>\n",
       "      <td>4</td>\n",
       "      <td>Wrexham DFJ</td>\n",
       "      <td>WALES</td>\n",
       "    </tr>\n",
       "    <tr>\n",
       "      <th>7074</th>\n",
       "      <td>Adoption</td>\n",
       "      <td>Start</td>\n",
       "      <td>2022</td>\n",
       "      <td>2</td>\n",
       "      <td>3</td>\n",
       "      <td>3</td>\n",
       "      <td>Wrexham DFJ</td>\n",
       "      <td>WALES</td>\n",
       "    </tr>\n",
       "    <tr>\n",
       "      <th>7075</th>\n",
       "      <td>Adoption</td>\n",
       "      <td>End</td>\n",
       "      <td>2022</td>\n",
       "      <td>2</td>\n",
       "      <td>2</td>\n",
       "      <td>2</td>\n",
       "      <td>Wrexham DFJ</td>\n",
       "      <td>WALES</td>\n",
       "    </tr>\n",
       "    <tr>\n",
       "      <th>7076</th>\n",
       "      <td>Adoption</td>\n",
       "      <td>End</td>\n",
       "      <td>2022</td>\n",
       "      <td>2</td>\n",
       "      <td>3</td>\n",
       "      <td>3</td>\n",
       "      <td>York DFJ</td>\n",
       "      <td>NORTH EAST</td>\n",
       "    </tr>\n",
       "    <tr>\n",
       "      <th>7077</th>\n",
       "      <td>Adoption</td>\n",
       "      <td>Start</td>\n",
       "      <td>2022</td>\n",
       "      <td>2</td>\n",
       "      <td>4</td>\n",
       "      <td>4</td>\n",
       "      <td>York DFJ</td>\n",
       "      <td>NORTH EAST</td>\n",
       "    </tr>\n",
       "  </tbody>\n",
       "</table>\n",
       "<p>7078 rows × 8 columns</p>\n",
       "</div>"
      ],
      "text/plain": [
       "      category  stage  year  quarter  count  cases                    dfj_new final_region\n",
       "0     Adoption    End  2011        1     39     38             Birmingham DJF     MIDLANDS\n",
       "1     Adoption  Start  2011        1     37     37             Birmingham DJF     MIDLANDS\n",
       "2     Adoption    End  2011        1     18     18  Bournemouth and Poole DFJ   SOUTH WEST\n",
       "3     Adoption  Start  2011        1     15     15  Bournemouth and Poole DFJ   SOUTH WEST\n",
       "4     Adoption    End  2011        1     35     35               Brighton DFJ   SOUTH EAST\n",
       "...        ...    ...   ...      ...    ...    ...                        ...          ...\n",
       "7073  Adoption    End  2022        2      4      4                Wrexham DFJ        WALES\n",
       "7074  Adoption  Start  2022        2      3      3                Wrexham DFJ        WALES\n",
       "7075  Adoption    End  2022        2      2      2                Wrexham DFJ        WALES\n",
       "7076  Adoption    End  2022        2      3      3                   York DFJ   NORTH EAST\n",
       "7077  Adoption  Start  2022        2      4      4                   York DFJ   NORTH EAST\n",
       "\n",
       "[7078 rows x 8 columns]"
      ]
     },
     "execution_count": 59,
     "metadata": {},
     "output_type": "execute_result"
    }
   ],
   "source": [
    "court_level_merge_count = pydb.read_sql_query(\"select * from __temp__.court_level_merge order by year,quarter,dfj_new\")\n",
    "court_level_merge_count"
   ]
  },
  {
   "cell_type": "markdown",
   "id": "4988fdbd",
   "metadata": {
    "tags": []
   },
   "source": [
    "## court_level_sum table"
   ]
  },
  {
   "cell_type": "markdown",
   "id": "9bcc67cd",
   "metadata": {},
   "source": [
    "### Create the court_level_sum table in Athena"
   ]
  },
  {
   "cell_type": "code",
   "execution_count": 33,
   "id": "2a4a385a",
   "metadata": {
    "scrolled": true
   },
   "outputs": [],
   "source": [
    "create_court_level_sum = f\"\"\"\n",
    "SELECT\n",
    "Category,\n",
    "Stage,\n",
    "Year,\n",
    "Quarter,\n",
    "DFJ_New,\n",
    "Final_Region as region,\n",
    "SUM(count) as count,\n",
    "SUM(cases) as cases\n",
    "FROM __temp__.court_level_merge\n",
    "group by\n",
    "Category,\n",
    "Stage,\n",
    "Year,\n",
    "Quarter,\n",
    "DFJ_New,\n",
    "Final_Region;\n",
    "\"\"\"\n",
    "\n",
    "pydb.create_temp_table(create_court_level_sum,'court_level_sum');\n",
    "\n"
   ]
  },
  {
   "cell_type": "markdown",
   "id": "e3e666e7",
   "metadata": {},
   "source": [
    "#### court_level_sum validation"
   ]
  },
  {
   "cell_type": "code",
   "execution_count": 34,
   "id": "c930066b",
   "metadata": {
    "scrolled": true
   },
   "outputs": [
    {
     "data": {
      "text/html": [
       "<div>\n",
       "<style scoped>\n",
       "    .dataframe tbody tr th:only-of-type {\n",
       "        vertical-align: middle;\n",
       "    }\n",
       "\n",
       "    .dataframe tbody tr th {\n",
       "        vertical-align: top;\n",
       "    }\n",
       "\n",
       "    .dataframe thead th {\n",
       "        text-align: right;\n",
       "    }\n",
       "</style>\n",
       "<table border=\"1\" class=\"dataframe\">\n",
       "  <thead>\n",
       "    <tr style=\"text-align: right;\">\n",
       "      <th></th>\n",
       "      <th>category</th>\n",
       "      <th>stage</th>\n",
       "      <th>year</th>\n",
       "      <th>quarter</th>\n",
       "      <th>dfj_new</th>\n",
       "      <th>region</th>\n",
       "      <th>count</th>\n",
       "      <th>cases</th>\n",
       "    </tr>\n",
       "  </thead>\n",
       "  <tbody>\n",
       "    <tr>\n",
       "      <th>0</th>\n",
       "      <td>Adoption</td>\n",
       "      <td>End</td>\n",
       "      <td>2011</td>\n",
       "      <td>1</td>\n",
       "      <td>Central Family Court</td>\n",
       "      <td>LONDON</td>\n",
       "      <td>104</td>\n",
       "      <td>103</td>\n",
       "    </tr>\n",
       "    <tr>\n",
       "      <th>1</th>\n",
       "      <td>Adoption</td>\n",
       "      <td>Start</td>\n",
       "      <td>2011</td>\n",
       "      <td>1</td>\n",
       "      <td>Central Family Court</td>\n",
       "      <td>LONDON</td>\n",
       "      <td>142</td>\n",
       "      <td>142</td>\n",
       "    </tr>\n",
       "    <tr>\n",
       "      <th>2</th>\n",
       "      <td>Adoption</td>\n",
       "      <td>End</td>\n",
       "      <td>2011</td>\n",
       "      <td>1</td>\n",
       "      <td>East London Family Court</td>\n",
       "      <td>LONDON</td>\n",
       "      <td>15</td>\n",
       "      <td>15</td>\n",
       "    </tr>\n",
       "    <tr>\n",
       "      <th>3</th>\n",
       "      <td>Adoption</td>\n",
       "      <td>Start</td>\n",
       "      <td>2011</td>\n",
       "      <td>1</td>\n",
       "      <td>East London Family Court</td>\n",
       "      <td>LONDON</td>\n",
       "      <td>16</td>\n",
       "      <td>16</td>\n",
       "    </tr>\n",
       "    <tr>\n",
       "      <th>4</th>\n",
       "      <td>Adoption</td>\n",
       "      <td>End</td>\n",
       "      <td>2011</td>\n",
       "      <td>1</td>\n",
       "      <td>West London Family Court</td>\n",
       "      <td>LONDON</td>\n",
       "      <td>26</td>\n",
       "      <td>26</td>\n",
       "    </tr>\n",
       "    <tr>\n",
       "      <th>...</th>\n",
       "      <td>...</td>\n",
       "      <td>...</td>\n",
       "      <td>...</td>\n",
       "      <td>...</td>\n",
       "      <td>...</td>\n",
       "      <td>...</td>\n",
       "      <td>...</td>\n",
       "      <td>...</td>\n",
       "    </tr>\n",
       "    <tr>\n",
       "      <th>4080</th>\n",
       "      <td>Adoption</td>\n",
       "      <td>Start</td>\n",
       "      <td>2022</td>\n",
       "      <td>2</td>\n",
       "      <td>South East Wales DFJ</td>\n",
       "      <td>WALES</td>\n",
       "      <td>16</td>\n",
       "      <td>16</td>\n",
       "    </tr>\n",
       "    <tr>\n",
       "      <th>4081</th>\n",
       "      <td>Adoption</td>\n",
       "      <td>End</td>\n",
       "      <td>2022</td>\n",
       "      <td>2</td>\n",
       "      <td>Swansea DFJ</td>\n",
       "      <td>WALES</td>\n",
       "      <td>5</td>\n",
       "      <td>5</td>\n",
       "    </tr>\n",
       "    <tr>\n",
       "      <th>4082</th>\n",
       "      <td>Adoption</td>\n",
       "      <td>Start</td>\n",
       "      <td>2022</td>\n",
       "      <td>2</td>\n",
       "      <td>Swansea DFJ</td>\n",
       "      <td>WALES</td>\n",
       "      <td>4</td>\n",
       "      <td>4</td>\n",
       "    </tr>\n",
       "    <tr>\n",
       "      <th>4083</th>\n",
       "      <td>Adoption</td>\n",
       "      <td>End</td>\n",
       "      <td>2022</td>\n",
       "      <td>2</td>\n",
       "      <td>Wrexham DFJ</td>\n",
       "      <td>WALES</td>\n",
       "      <td>6</td>\n",
       "      <td>6</td>\n",
       "    </tr>\n",
       "    <tr>\n",
       "      <th>4084</th>\n",
       "      <td>Adoption</td>\n",
       "      <td>Start</td>\n",
       "      <td>2022</td>\n",
       "      <td>2</td>\n",
       "      <td>Wrexham DFJ</td>\n",
       "      <td>WALES</td>\n",
       "      <td>3</td>\n",
       "      <td>3</td>\n",
       "    </tr>\n",
       "  </tbody>\n",
       "</table>\n",
       "<p>4085 rows × 8 columns</p>\n",
       "</div>"
      ],
      "text/plain": [
       "      category  stage  year  quarter                   dfj_new  region  count  cases\n",
       "0     Adoption    End  2011        1      Central Family Court  LONDON    104    103\n",
       "1     Adoption  Start  2011        1      Central Family Court  LONDON    142    142\n",
       "2     Adoption    End  2011        1  East London Family Court  LONDON     15     15\n",
       "3     Adoption  Start  2011        1  East London Family Court  LONDON     16     16\n",
       "4     Adoption    End  2011        1  West London Family Court  LONDON     26     26\n",
       "...        ...    ...   ...      ...                       ...     ...    ...    ...\n",
       "4080  Adoption  Start  2022        2      South East Wales DFJ   WALES     16     16\n",
       "4081  Adoption    End  2022        2               Swansea DFJ   WALES      5      5\n",
       "4082  Adoption  Start  2022        2               Swansea DFJ   WALES      4      4\n",
       "4083  Adoption    End  2022        2               Wrexham DFJ   WALES      6      6\n",
       "4084  Adoption  Start  2022        2               Wrexham DFJ   WALES      3      3\n",
       "\n",
       "[4085 rows x 8 columns]"
      ]
     },
     "execution_count": 34,
     "metadata": {},
     "output_type": "execute_result"
    }
   ],
   "source": [
    "court_level_sum_count = pydb.read_sql_query(\"select * from __temp__.court_level_sum ORDER BY Category,Year,Quarter,region,DFJ_New,Stage\")\n",
    "court_level_sum_count.to_csv(path_or_buf = '~/FCSQ_data/adopt_dfj.csv')\n",
    "court_level_sum_count"
   ]
  },
  {
   "cell_type": "code",
   "execution_count": null,
   "id": "5de24813",
   "metadata": {},
   "outputs": [],
   "source": []
  }
 ],
 "metadata": {
  "kernelspec": {
   "display_name": "venvname",
   "language": "python",
   "name": "venvname"
  },
  "language_info": {
   "codemirror_mode": {
    "name": "ipython",
    "version": 3
   },
   "file_extension": ".py",
   "mimetype": "text/x-python",
   "name": "python",
   "nbconvert_exporter": "python",
   "pygments_lexer": "ipython3",
   "version": "3.9.6"
  }
 },
 "nbformat": 4,
 "nbformat_minor": 5
}
