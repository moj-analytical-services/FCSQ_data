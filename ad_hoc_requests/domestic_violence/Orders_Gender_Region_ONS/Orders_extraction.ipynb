{
 "cells": [
  {
   "cell_type": "code",
   "execution_count": null,
   "id": "485a7cff-9c7b-49bc-b327-3dee2748742f",
   "metadata": {
    "tags": []
   },
   "outputs": [],
   "source": [
    "# Importing packages \n",
    "import pandas as pd  # a module which provides the data structures and functions to store and manipulate tables in dataframes\n",
    "import pydbtools as pydb  # A module which allows SQL queries to be run on the Analytical Platform from Python, see https://github.com/moj-analytical-services/pydbtools\n",
    "import boto3  # allows you to directly create, update, and delete AWS resources from Python scripts\n",
    "\n",
    "# sets parameters to view dataframes for tables easier\n",
    "pd.set_option(\"display.max_columns\", 100)\n",
    "pd.set_option(\"display.width\", 900)\n",
    "pd.set_option(\"display.max_colwidth\", 200)\n"
   ]
  },
  {
   "cell_type": "code",
   "execution_count": null,
   "id": "06011ef7-c895-446d-9157-34317b5dcec0",
   "metadata": {},
   "outputs": [],
   "source": [
    "#this is the database we will be extracting from\n",
    "database = \"familyman_live_v4\"\n",
    "\n",
    "#this extracts the latest snapshot from athena\n",
    "get_snapshot_date = f\"SELECT mojap_snapshot_date from {database}.events order by mojap_snapshot_date desc limit 1\"\n",
    "snapshot_date = str(pydb.read_sql_query(get_snapshot_date)['mojap_snapshot_date'].values[0])\n",
    "\n",
    "#this extracts the February snapshot from athena\n",
    "#snapshot_date = '2023-02-09'\n",
    "\n",
    "#this is the athena database we will be storing our tables in\n",
    "fcsq_database = \"fcsq\"\n",
    "\n",
    "#this is the s3 bucket we will be saving data to\n",
    "s3 = boto3.resource(\"s3\")\n",
    "bucket = s3.Bucket(\"alpha-family-data\")\n",
    "\n",
    "#change these to the current quarter and year not the quarter being published\n",
    "latest_quarter = 3\n",
    "latest_year = 2023\n",
    "\n",
    "#change these to the current quarter and year being published\n",
    "pub_quarter = 2\n",
    "pub_year = 2023"
   ]
  },
  {
   "cell_type": "code",
   "execution_count": null,
   "id": "f1fa0ab1-339c-4c1a-904a-1b9334b50906",
   "metadata": {},
   "outputs": [],
   "source": [
    "create_dv_apps_with_app_gender = f\"\"\"\n",
    "SELECT\n",
    "A.*,\n",
    "B.ROLE,\n",
    "B.ROLE_MODEL,\n",
    "B.PARTY,\n",
    "B.GENDER\n",
    "FROM {fcsq_database}.DV_APPS_FINAL A\n",
    "LEFT JOIN {fcsq_database}.applicants B\n",
    "ON A.CASE_NUMBER = B.CASE_NUMBER\n",
    "\"\"\"\n",
    "\n",
    "pydb.create_temp_table(create_dv_apps_with_app_gender,'dv_apps_with_app_gender')"
   ]
  },
  {
   "cell_type": "code",
   "execution_count": null,
   "id": "dd4ec80c-1acc-41e2-8d05-059220a740cf",
   "metadata": {},
   "outputs": [],
   "source": [
    "DV_apps_with_app_gender_count = pydb.read_sql_query(\"SELECT * from __temp__.DV_apps_with_app_gender\")\n",
    "DV_apps_with_app_gender_count"
   ]
  },
  {
   "cell_type": "code",
   "execution_count": null,
   "id": "0d1af76f-9756-46b9-b16f-f5b19561e426",
   "metadata": {},
   "outputs": [],
   "source": [
    "create_APP_CASE_GENDER_FLAG_table =f\"\"\"\n",
    "SELECT\n",
    "  CASE_NUMBER,\n",
    "  CASE WHEN GENDER = 1 THEN 1 ELSE 0\n",
    "     END AS MALE,\n",
    "  CASE WHEN GENDER = 2 THEN 1 ELSE 0\n",
    "     END AS FEMALE,\n",
    "  CASE WHEN GENDER <> 1 AND GENDER <> 2 THEN 1 ELSE 0\n",
    "    END AS UNKNOWN\n",
    "FROM \n",
    "  __temp__.DV_apps_with_app_gender;\n",
    "\"\"\"\n",
    "pydb.create_temp_table(create_APP_CASE_GENDER_FLAG_table,'APP_CASE_GENDER_FLAG')"
   ]
  },
  {
   "cell_type": "code",
   "execution_count": null,
   "id": "e2584b5e-cb3a-4495-86f0-8779542e6d26",
   "metadata": {
    "tags": []
   },
   "outputs": [],
   "source": [
    "create_APP_CASE_GENDER_COUNT_table =f\"\"\"\n",
    "SELECT\n",
    "  CASE_NUMBER,\n",
    "  SUM(MALE) AS MALE,\n",
    "  SUM(FEMALE) AS FEMALE,\n",
    "  SUM(UNKNOWN) AS UNKNOWN\n",
    "FROM\n",
    "  __temp__.APP_CASE_GENDER_FLAG\n",
    "GROUP BY\n",
    "  CASE_NUMBER;\n",
    "\"\"\"\n",
    "pydb.create_temp_table(create_APP_CASE_GENDER_COUNT_table,'APP_CASE_GENDER_COUNT')"
   ]
  },
  {
   "cell_type": "code",
   "execution_count": null,
   "id": "ca971083-96ec-4feb-afe3-8d93369d9766",
   "metadata": {},
   "outputs": [],
   "source": [
    "create_APP_CASE_GENDER_ADD_table =f\"\"\"\n",
    "SELECT\n",
    "  CASE_NUMBER,\n",
    "  MALE,\n",
    "  FEMALE,\n",
    "  UNKNOWN,\n",
    "  CASE WHEN MALE > 0 AND FEMALE > 0 THEN 'Both'\n",
    "       WHEN MALE > 0 THEN 'Male'\n",
    "       WHEN FEMALE > 0 THEN 'Female'\n",
    "       ELSE 'Unknown'\n",
    "    END AS Gender\n",
    "FROM\n",
    "  __temp__.APP_CASE_GENDER_COUNT;\n",
    "\"\"\"\n",
    "pydb.create_temp_table(create_APP_CASE_GENDER_ADD_table,'APP_CASE_GENDER_ADD')"
   ]
  },
  {
   "cell_type": "code",
   "execution_count": null,
   "id": "e305831c-ab5a-468a-8123-d50ca574fbb8",
   "metadata": {},
   "outputs": [],
   "source": [
    "create_DV_ORDS_WITH_APP_GENDER_table =f\"\"\"\n",
    "SELECT\n",
    "  A.*,\n",
    "  B.GENDER\n",
    "FROM\n",
    "  {fcsq_database}.DV_ORDS_FINAL AS A\n",
    "  LEFT JOIN __temp__.APP_CASE_GENDER_ADD AS B\n",
    "    ON A.CASE_NUMBER = B.CASE_NUMBER;\n",
    "\"\"\"\n",
    "pydb.create_temp_table(create_DV_ORDS_WITH_APP_GENDER_table,'DV_ORDS_WITH_APP_GENDER')"
   ]
  },
  {
   "cell_type": "code",
   "execution_count": null,
   "id": "26091ea6-d6d1-40bb-9edd-104abb099e27",
   "metadata": {},
   "outputs": [],
   "source": [
    "create_dv_ords_region = f\"\"\"\n",
    "SELECT\n",
    "Year, \n",
    "Quarter, \n",
    "RECEIPT_DATE, \n",
    "CASE_NUMBER,  \n",
    "Event_Court, \n",
    "Description, \n",
    "TYPE, \n",
    "CASE WHEN GENDER = 'Both' THEN 'Unknown'\n",
    "WHEN GENDER IS NULL THEN 'Unknown' \n",
    "ELSE Gender\n",
    "END AS Gender2,\n",
    "Case when Year < 2014 then B.Region_Pre2014\n",
    "Else B.Region\n",
    "End As Final_Region\n",
    "FROM\n",
    "__temp__.DV_ORDS_WITH_APP_GENDER AS A\n",
    "INNER JOIN {fcsq_database}.COURT_MV_FEB21_DFJ AS B\n",
    "ON A.EVENT_COURT = B.CODE;\n",
    "\"\"\"\n",
    "pydb.create_temp_table(create_dv_ords_region,'DV_ORDS_REGION')"
   ]
  },
  {
   "cell_type": "code",
   "execution_count": null,
   "id": "cc085bfd-860e-4ef9-a46e-7a0e8870d577",
   "metadata": {},
   "outputs": [],
   "source": [
    "# COURT TRIBUNAL CASE - EVENT COURT 803\n",
    "DV_ord_reg = pydb.read_sql_query(\"SELECT * from __temp__.DV_ords_region where final_region = 'COURT TRIB'\")\n",
    "DV_ord_reg"
   ]
  },
  {
   "cell_type": "code",
   "execution_count": null,
   "id": "03ffcc22-f2ea-4af1-8435-e21b6f19d313",
   "metadata": {},
   "outputs": [],
   "source": [
    "create_dv_final = f\"\"\"\n",
    "SELECT\n",
    "YEAR,\n",
    "QUARTER,\n",
    "Final_Region,\n",
    "Description,\n",
    "Gender2,\n",
    "COUNT (*) AS COUNT\n",
    "FROM\n",
    "  __temp__.DV_ORDS_REGION\n",
    "WHERE\n",
    "  YEAR >= 2011\n",
    "  AND NOT (YEAR = {latest_year} AND QUARTER = {latest_quarter})\n",
    "GROUP BY\n",
    "  YEAR,\n",
    "  QUARTER,\n",
    "  Final_Region,\n",
    "  Description,\n",
    "  Gender2;\n",
    "  \"\"\"\n",
    "pydb.create_temp_table(create_dv_final,'DV_FINAL')"
   ]
  },
  {
   "cell_type": "code",
   "execution_count": null,
   "id": "09e6e731-be3e-444a-92ee-402e6d46922f",
   "metadata": {},
   "outputs": [],
   "source": [
    "df = pydb.read_sql_query(\"SELECT * from __temp__.dv_final\")\n",
    "df.to_csv(path_or_buf = 's3://alpha-family-data/FOIs/domestic_violence_ons.csv',index=False)"
   ]
  },
  {
   "cell_type": "code",
   "execution_count": null,
   "id": "b504e643-1ced-4612-bb9e-6db9ba9429e3",
   "metadata": {},
   "outputs": [],
   "source": [
    "df"
   ]
  },
  {
   "cell_type": "code",
   "execution_count": null,
   "id": "773a723e-565d-45f6-8c26-c5184e6aadf4",
   "metadata": {},
   "outputs": [],
   "source": []
  }
 ],
 "metadata": {
  "kernelspec": {
   "display_name": "FCSQ_run",
   "language": "python",
   "name": "venv_fcsq"
  },
  "language_info": {
   "codemirror_mode": {
    "name": "ipython",
    "version": 3
   },
   "file_extension": ".py",
   "mimetype": "text/x-python",
   "name": "python",
   "nbconvert_exporter": "python",
   "pygments_lexer": "ipython3",
   "version": "3.9.6"
  }
 },
 "nbformat": 4,
 "nbformat_minor": 5
}
