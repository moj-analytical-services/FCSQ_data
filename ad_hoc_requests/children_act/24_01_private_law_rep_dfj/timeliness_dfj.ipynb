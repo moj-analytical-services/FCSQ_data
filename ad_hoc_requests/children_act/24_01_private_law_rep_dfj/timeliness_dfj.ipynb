{
 "cells": [
  {
   "cell_type": "markdown",
   "id": "af4c502d-8c56-40dd-b629-6c2966995dc0",
   "metadata": {},
   "source": [
    "## Children Act timeliess"
   ]
  },
  {
   "cell_type": "markdown",
   "id": "bd22c19c-7c38-4b0c-863f-8473d02d0873",
   "metadata": {},
   "source": [
    "#### This code has been put together trying to replicate the existing SAS output"
   ]
  },
  {
   "cell_type": "code",
   "execution_count": null,
   "id": "79f62fc9-c10e-4284-a1a9-646aa5bc1cd1",
   "metadata": {},
   "outputs": [],
   "source": [
    "# libraries\n",
    "import pandas as pd\n",
    "import pydbtools as pydb\n",
    "import os  # for file paths\n",
    "import awswrangler as wr"
   ]
  },
  {
   "cell_type": "code",
   "execution_count": null,
   "id": "ca30fab2-625c-40fa-ab5f-57b16bfae077",
   "metadata": {},
   "outputs": [],
   "source": [
    "# Structured  dataframes\n",
    "pd.set_option(\"display.max_columns\", 100)\n",
    "pd.set_option(\"display.width\", 900)\n",
    "pd.set_option(\"display.max_colwidth\", 200)"
   ]
  },
  {
   "cell_type": "markdown",
   "id": "52374633-48ce-4e76-9791-328863ca7cb3",
   "metadata": {},
   "source": [
    "##### Assigning key variables"
   ]
  },
  {
   "cell_type": "code",
   "execution_count": null,
   "id": "94081d79-60c1-4c0e-890d-1a09b64a9373",
   "metadata": {},
   "outputs": [],
   "source": [
    "# define some variables to be used throughout the notebook\n",
    "db1 = \"familyman_live_v4\" #database where Familyman data is stored\n",
    "db2 = \"fcsq\" #database where tables created as part of FCSQ processing are stored where required\n",
    "#snapshot date and pub periods are set in the main run file. However, if running this notebook independently you will need to set them here\n",
    "#snapshot_date = \"2022-08-04\"\n",
    "get_snapshot_date = f\"SELECT mojap_snapshot_date from {db1}.events order by mojap_snapshot_date desc limit 1\"\n",
    "snapshot_date = str(pydb.read_sql_query(get_snapshot_date)['mojap_snapshot_date'].values[0])\n",
    "pub_year = 2023 #set the publication year\n",
    "pub_qtr = 3 #set the publication quarter\n",
    "fcsq_db_path = f\"s3://alpha-family-data/fcsq_processing/CA_disps/\" # create path for within athena FCSQ database in the S3 folder, alongside other S3 items"
   ]
  },
  {
   "cell_type": "markdown",
   "id": "50c2765e-ad19-4637-8602-7a3da1e85f58",
   "metadata": {},
   "source": [
    "#### Extract date of issue"
   ]
  },
  {
   "cell_type": "code",
   "execution_count": null,
   "id": "55c90f29-032e-4cf7-9490-3f093222640c",
   "metadata": {},
   "outputs": [],
   "source": [
    "print(\"extracting date of issue....\")\n",
    "pydb.create_temp_table(\n",
    "f\"\"\" \n",
    "SELECT \n",
    "  case_number,\n",
    "  CAST(value AS Date) AS case_DOI\n",
    "FROM \n",
    "  {db1}.case_fields AS f\n",
    " \n",
    "WHERE\n",
    "  field_model = 'FM2C_DI'\n",
    "  AND mojap_snapshot_date = DATE'{snapshot_date}'\n",
    "\n",
    "\"\"\",\n",
    "\n",
    "\"DOI\")"
   ]
  },
  {
   "cell_type": "markdown",
   "id": "3b93c8bc-4a0e-41bf-bdc5-e38d6b8bd5ef",
   "metadata": {},
   "source": [
    "#### Create start date using date of issue"
   ]
  },
  {
   "cell_type": "code",
   "execution_count": null,
   "id": "584a18e3-b4be-40a4-945e-3ed84135664e",
   "metadata": {},
   "outputs": [],
   "source": [
    "#Adding the start date to the main child apps data created in the main child apps process (so data is at child and order level)\n",
    "#Only including specific order types\n",
    "print(\"creating start date....\")\n",
    "pydb.create_temp_table(\n",
    "f\"\"\" \n",
    "SELECT \n",
    "  t1.case_number,\n",
    "  t1.receipt_date,\n",
    "  t1.event,\n",
    "  t1.field_model,\n",
    "  t1.order_type,\n",
    "  t1.order_code,\n",
    "  t1.order_desc,\n",
    "  t1.child_role_id,\n",
    "  t1.order_case_type,\n",
    "  t2.case_DOI,\n",
    "  CASE WHEN  t2.case_DOI is null\n",
    "        THEN t1.receipt_date\n",
    "       WHEN t1.field_model = 'U22_AT' AND (t2.Case_DOI<t1.Receipt_date)\n",
    "        THEN t2.Case_DOI\n",
    "        ELSE t1.Receipt_date END\n",
    "      AS Start_date\n",
    "FROM \n",
    "  {db2}.ca_apps_child AS t1\n",
    "      LEFT JOIN __temp__.DOI AS t2 \n",
    "       ON t1.case_number = t2.case_number\n",
    "WHERE\n",
    "  t1.order_code IN (1,4,14,25,27,29,30,31,32)\n",
    "\n",
    "\"\"\",\n",
    "\n",
    "\"ca_apps_issue_date\")"
   ]
  },
  {
   "cell_type": "markdown",
   "id": "47d49c18-ab4c-4083-9f46-68c1efbb6bee",
   "metadata": {},
   "source": [
    "#### Matching applications to disposals"
   ]
  },
  {
   "cell_type": "code",
   "execution_count": null,
   "id": "7c1690b7-41b2-48d7-8474-29eb49b86ced",
   "metadata": {},
   "outputs": [],
   "source": [
    "#Matching apps data to the main child disposal data set created in the child disposals processing - matches at child and order level\n",
    "#Filetering out certain order types alongside interim orders\n",
    "#Ranks the earlies diposal as the first disposal\n",
    "print(\"matching applications to disposals....\")\n",
    "pydb.create_temp_table(\n",
    "f\"\"\" \n",
    "SELECT \n",
    "  a.*,\n",
    "  YEAR(d.disp_date) AS Year,\n",
    "  QUARTER(d.disp_date) AS Quarter,\n",
    "  MONTH(d.disp_date) AS Month,\n",
    "  d.disp_date,\n",
    "  date_diff('day',a.start_date, d.disp_date) AS days,\n",
    "  date_diff('week',a.start_date, d.disp_date) AS weeks,\n",
    "  ROW_NUMBER() OVER(PARTITION BY a.case_number, a.child_role_id, a.order_code, a.start_date\n",
    "                       ORDER BY d.disp_date) \n",
    "      AS disp_rank,\n",
    "  d.disposal_court,\n",
    "  d.disposal_dfj,\n",
    "  d.disposal_region \n",
    "FROM\n",
    "  __temp__.ca_apps_issue_date a\n",
    "  LEFT JOIN {db2}.ca_disps_all_children d\n",
    "    ON a.case_number = d.case_number\n",
    "    AND a.order_case_type = d.order_case_type\n",
    "    AND a.child_role_id = d.child_role_id\n",
    "WHERE \n",
    "  date_diff('day',a.start_date, d.disp_date) >= 0\n",
    "  AND d.event_model NOT IN ('CPA','C21','C27','C30','C31','C33','C35B','C44A','C44B','C46A','C46B','C47A','C47C','C48A', \n",
    "                          'C48B','C48C','C49','D51','D84C','MAGEPO','MAGS37')\n",
    "  AND d.disp_type_code <> 2\n",
    "\n",
    "\"\"\",\n",
    "\n",
    "\"app_disp_match\")"
   ]
  },
  {
   "cell_type": "markdown",
   "id": "6898759a-81e5-4359-96c7-a30d1f3e9967",
   "metadata": {},
   "source": [
    "#### Selecting the earliest disposal"
   ]
  },
  {
   "cell_type": "code",
   "execution_count": null,
   "id": "c333b37d-7440-4ae7-8624-4ffa5e48f0dc",
   "metadata": {},
   "outputs": [],
   "source": [
    "#Selects the first diposal for each order type/child matched\n",
    "#Multiple children can get matched to the same disposal (if the disposal has multiple child id's)\n",
    "#More than one application/order type can be matched to one disposal - here we are replicating the SAS process \n",
    "print(\"selecting the earliest disposal....\")\n",
    "pydb.create_temp_table(\n",
    "f\"\"\" \n",
    "SELECT \n",
    "  *\n",
    "FROM \n",
    "  __temp__.app_disp_match\n",
    "WHERE\n",
    "  disp_rank = 1\n",
    "\n",
    "\"\"\",\n",
    "\n",
    "\"first_disp\")"
   ]
  },
  {
   "cell_type": "markdown",
   "id": "5dab54fe-8047-4974-93a8-103b826d5d29",
   "metadata": {},
   "source": [
    "#### Creation of main timeliess dataset, deletion of dup apps"
   ]
  },
  {
   "cell_type": "code",
   "execution_count": null,
   "id": "31196a9c-3b1d-4428-98b9-f4026a32411b",
   "metadata": {},
   "outputs": [],
   "source": [
    "#Here we get rid of any instances of an application of the same order type for the same child, and only the earliest one is selected\n",
    "print(\"creating main timeliness dataset....\")\n",
    "pydb.create_temp_table(\n",
    "f\"\"\" \n",
    "WITH dup_app_type AS\n",
    " (SELECT \n",
    "   *,\n",
    "   ROW_NUMBER() OVER(PARTITION BY case_number, child_role_id, order_code\n",
    "                       ORDER BY start_date, case_number, child_role_id, order_code) \n",
    "     AS dup_app_rank\n",
    " FROM \n",
    "   __temp__.first_disp\n",
    " )\n",
    "\n",
    "SELECT\n",
    "  *\n",
    "FROM\n",
    "  dup_app_type\n",
    "WHERE\n",
    "  dup_app_rank = 1\n",
    "\n",
    "\"\"\",\n",
    "\n",
    "\"ca_timeliness_all\")"
   ]
  },
  {
   "cell_type": "markdown",
   "id": "432a2666-b672-485e-a601-d61b49d9dba1",
   "metadata": {},
   "source": [
    "#### Legal rep"
   ]
  },
  {
   "cell_type": "markdown",
   "id": "e4d595b1-758c-4dda-bf00-249112822eed",
   "metadata": {},
   "source": [
    "##### Applicants"
   ]
  },
  {
   "cell_type": "code",
   "execution_count": null,
   "id": "15ab2263-5958-4036-8ddf-37998172d359",
   "metadata": {},
   "outputs": [],
   "source": [
    "#Table of case numbers in which at least one applicant has legal rep\n",
    "#Applicants table was created during main application processing\n",
    "print(\"getting applicants with legal representation....\")\n",
    "pydb.create_temp_table(\n",
    "f\"\"\" \n",
    "SELECT \n",
    "  DISTINCT\n",
    "    case_number,\n",
    "    representation\n",
    "FROM \n",
    "  {db2}.ca_applicants\n",
    "WHERE\n",
    "  representation = 'Y'\n",
    "\n",
    "\"\"\",\n",
    "\n",
    "\"app_legal_rep\")"
   ]
  },
  {
   "cell_type": "markdown",
   "id": "4653ba5c-1202-4e31-9e95-9959dc0eaa92",
   "metadata": {},
   "source": [
    "##### Respondents"
   ]
  },
  {
   "cell_type": "code",
   "execution_count": null,
   "id": "18490d77-ea6c-4e90-912a-2d3bebf5df44",
   "metadata": {},
   "outputs": [],
   "source": [
    "#Table of case numbers in which at least one respondent has legal rep\n",
    "#Respondents table was created during main application processing\n",
    "print(\"getting respondents with legal representation....\")\n",
    "pydb.create_temp_table(\n",
    "f\"\"\" \n",
    "SELECT \n",
    "  DISTINCT\n",
    "    case_number,\n",
    "    representation\n",
    "FROM \n",
    "  {db2}.ca_respondents\n",
    "WHERE\n",
    "  representation = 'Y'\n",
    "\n",
    "\"\"\",\n",
    "\n",
    "\"resp_legal_rep\")"
   ]
  },
  {
   "cell_type": "markdown",
   "id": "0d2b4f62-0744-4977-86e8-96fb029d9d31",
   "metadata": {},
   "source": [
    "#### Timeliness with legal rep\n",
    "##### - For FOI have only incuded 2023"
   ]
  },
  {
   "cell_type": "code",
   "execution_count": null,
   "id": "82d789ba-ef98-40fc-839d-2f2767858742",
   "metadata": {},
   "outputs": [],
   "source": [
    "print(\"creating timeliness with party representation....\")\n",
    "pydb.create_temp_table(\n",
    "f\"\"\" \n",
    "SELECT \n",
    "  t.*,\n",
    "  CASE WHEN a.representation = 'Y'\n",
    "       AND  r.representation = 'Y'\n",
    "         THEN 'Both'\n",
    "       WHEN a.representation = 'Y'\n",
    "       AND  r.representation IS NULL\n",
    "         THEN 'Applicant Only'\n",
    "       WHEN a.representation IS NULL\n",
    "       AND  r.representation = 'Y'\n",
    "         THEN 'Respondent Only' \n",
    "      WHEN a.representation IS NULL\n",
    "      AND  r.representation IS NULL\n",
    "         THEN 'Neither' END\n",
    "    AS representation\n",
    "FROM \n",
    "  __temp__.ca_timeliness_all t\n",
    "  LEFT JOIN __temp__.app_legal_rep a\n",
    "    ON t.case_number = a.case_number\n",
    "  LEFT JOIN __temp__.resp_legal_rep r\n",
    "    ON t.case_number = r.case_number\n",
    "WHERE \n",
    "  t.year = 2023\n",
    "  AND quarter IN (1,2,3)\n",
    "\n",
    "\"\"\",\n",
    "\n",
    "\"timeliness_legal_rep\")"
   ]
  },
  {
   "cell_type": "markdown",
   "id": "77679a01-3e81-4b23-9708-4670707ef4dd",
   "metadata": {},
   "source": [
    "#### CSV outputs\n",
    "##### For FOI have included dfj and only those dfjs we are interested in. Have removed year/quarter as we have already filtered time period in earlier step"
   ]
  },
  {
   "cell_type": "code",
   "execution_count": null,
   "id": "7505a1ca-4804-489e-bab8-9ed8862d9b53",
   "metadata": {
    "tags": []
   },
   "outputs": [],
   "source": [
    "#Regional, quarterly for csv\n",
    "#Median calculation takes the max value from the lower half of the median group if an even number of rows, else takes the aveage of the max value from group one and min value from group 2\n",
    "print(\"creating regional csv....\")\n",
    "pydb.create_temp_table(\n",
    "f\"\"\" \n",
    " SELECT\n",
    "  'Children Act (Private)' as Case_type,\n",
    "  disposal_dfj AS dfj,\n",
    "  disposal_region AS region,\n",
    "  Representation,\n",
    "  COUNT (*) AS Number_of_cases,\n",
    "  ROUND(AVG ((days)/7),1) as mean_duration\n",
    "FROM\n",
    "  __temp__.timeliness_legal_rep\n",
    "WHERE\n",
    "  order_case_type = 'P'  \n",
    "  AND disposal_dfj IN ('Central Family Court', 'Chelmsford DFJ', 'East London Family Court', 'Medway DFJ', 'West London Family Court')\n",
    "GROUP BY\n",
    "  disposal_dfj,\n",
    "  disposal_region,\n",
    "  representation\n",
    "\"\"\",\n",
    "\n",
    "\"ca_timeliness_region_csv\")"
   ]
  },
  {
   "cell_type": "code",
   "execution_count": null,
   "id": "ef0ebd0f-abf3-4733-8385-e3f53261ac83",
   "metadata": {},
   "outputs": [],
   "source": [
    "#E&W, quarterly for csv\n",
    "#Median calculation takes the max value from the lower half of the median group if an even number of rows, else takes the aveage of the max value from group one and min value from group 2\n",
    "print(\"creating E&W csv....\")\n",
    "pydb.create_temp_table(\n",
    "f\"\"\" \n",
    " SELECT\n",
    "  'Children Act (Private)' as Case_type,\n",
    "  'England & Wales' AS dfj,\n",
    "  'England & Wales' AS region,\n",
    "  Representation,\n",
    "  COUNT (*) AS Number_of_disposals,\n",
    "  ROUND(AVG ((days)/7),1) as mean_duration\n",
    "FROM\n",
    "  __temp__.timeliness_legal_rep\n",
    "WHERE\n",
    "  order_case_type = 'P'\n",
    "GROUP BY\n",
    "  representation\n",
    "\"\"\",\n",
    "\n",
    "\"ca_timeliness_national_csv\")"
   ]
  },
  {
   "cell_type": "code",
   "execution_count": null,
   "id": "d3fc43b1-9ae9-41bb-84f3-594f887d1db0",
   "metadata": {},
   "outputs": [],
   "source": [
    "#Append regional and national csv data\n",
    "print(\"combining regional and national csv's....\")\n",
    "pydb.create_temp_table(\n",
    "f\"\"\" \n",
    "SELECT\n",
    "   *\n",
    "FROM\n",
    "  __temp__.ca_timeliness_region_csv\n",
    "UNION ALL\n",
    "SELECT\n",
    "   *\n",
    "FROM\n",
    "  __temp__.ca_timeliness_national_csv\n",
    "\n",
    "\"\"\",\n",
    "\n",
    "\"ca_timeliness_csv\")"
   ]
  },
  {
   "cell_type": "markdown",
   "id": "db79a5d3-d221-461c-be37-f50068a067e6",
   "metadata": {},
   "source": [
    "##### Export csv to S3"
   ]
  },
  {
   "cell_type": "code",
   "execution_count": null,
   "id": "107c641c-bcc9-4cf9-b783-b4cb0c212fb1",
   "metadata": {},
   "outputs": [],
   "source": [
    "ca_time_csv_data = pydb.read_sql_query (\"select * from __temp__.ca_timeliness_csv\")"
   ]
  },
  {
   "cell_type": "code",
   "execution_count": null,
   "id": "83d7869d-1d06-4dbf-a91e-0f29f68d675e",
   "metadata": {},
   "outputs": [],
   "source": [
    "ca_time_csv_df = pd.DataFrame(ca_time_csv_data)"
   ]
  },
  {
   "cell_type": "code",
   "execution_count": null,
   "id": "2df41d64-8622-47e4-943c-900317a1a29b",
   "metadata": {},
   "outputs": [],
   "source": [
    "print(\"exporting csv to S3....\")\n",
    "ca_time_csv_df.to_csv (r's3://alpha-family-data/Adhoc/timeliness_dfj.csv',header = True, index = False)"
   ]
  },
  {
   "cell_type": "markdown",
   "id": "62f8f02f-cb7d-4b19-9219-a7cdff6ed172",
   "metadata": {},
   "source": [
    "#### Separate code for total timeliness - not goruped by representation - have not added this to the csv output, will just copy and paste for now"
   ]
  },
  {
   "cell_type": "code",
   "execution_count": null,
   "id": "188d8aa1-0087-40d2-9716-2a913a95862f",
   "metadata": {},
   "outputs": [],
   "source": [
    "#Regional - total timeliness\n",
    "print(\"creating regional total timeliness....\")\n",
    "pydb.create_temp_table(\n",
    "f\"\"\" \n",
    " SELECT\n",
    "  'Children Act (Private)' as Case_type,\n",
    "  disposal_dfj AS dfj,\n",
    "  disposal_region AS region,\n",
    "  COUNT (*) AS Number_of_cases,\n",
    "  ROUND(AVG ((days)/7),1) as mean_duration\n",
    "FROM\n",
    "  __temp__.timeliness_legal_rep\n",
    "WHERE\n",
    "  order_case_type = 'P'  \n",
    "  AND disposal_dfj IN ('Central Family Court', 'Chelmsford DFJ', 'East London Family Court', 'Medway DFJ', 'West London Family Court')\n",
    "GROUP BY\n",
    "  disposal_dfj,\n",
    "  disposal_region\n",
    "\"\"\",\n",
    "\n",
    "\"ca_total_timeliness_region\")"
   ]
  },
  {
   "cell_type": "code",
   "execution_count": null,
   "id": "283d9b02-1505-4c6f-ae5c-835264d7c6a1",
   "metadata": {},
   "outputs": [],
   "source": [
    "pydb.read_sql_query (\"select * from __temp__.ca_total_timeliness_region\")"
   ]
  },
  {
   "cell_type": "code",
   "execution_count": null,
   "id": "5e737c4a-07b8-4c08-8466-edce7538f55f",
   "metadata": {},
   "outputs": [],
   "source": [
    "#E&W - total timeliness\n",
    "print(\"creating national total timeliness....\")\n",
    "pydb.create_temp_table(\n",
    "f\"\"\" \n",
    " SELECT\n",
    "  'Children Act (Private)' as Case_type,\n",
    "  'England & Wales' AS dfj,\n",
    "  'England & Wales' AS region,\n",
    "  COUNT (*) AS Number_of_disposals,\n",
    "  ROUND(AVG ((days)/7),1) as mean_duration\n",
    "FROM\n",
    "  __temp__.timeliness_legal_rep\n",
    "WHERE\n",
    "  order_case_type = 'P'\n",
    "\"\"\",\n",
    "\n",
    "\"ca_total_timeliness_national\")"
   ]
  },
  {
   "cell_type": "code",
   "execution_count": null,
   "id": "968a3f5d-da38-4c56-8bf6-e28652fb90e4",
   "metadata": {},
   "outputs": [],
   "source": [
    "pydb.read_sql_query (\"select * from __temp__.ca_total_timeliness_national\")"
   ]
  }
 ],
 "metadata": {
  "kernelspec": {
   "display_name": "Python 3",
   "language": "python",
   "name": "python3"
  },
  "language_info": {
   "codemirror_mode": {
    "name": "ipython",
    "version": 3
   },
   "file_extension": ".py",
   "mimetype": "text/x-python",
   "name": "python",
   "nbconvert_exporter": "python",
   "pygments_lexer": "ipython3",
   "version": "3.9.4"
  }
 },
 "nbformat": 4,
 "nbformat_minor": 5
}
