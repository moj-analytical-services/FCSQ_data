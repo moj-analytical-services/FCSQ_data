{
 "cells": [
  {
   "cell_type": "code",
   "execution_count": null,
   "id": "ea0b7369-b451-4539-a7f2-3c80a35aab27",
   "metadata": {},
   "outputs": [],
   "source": [
    "import os  # for file paths\n",
    "import pandas as pd\n",
    "import awswrangler as wr\n",
    "import pydbtools as pydb  # see https://github.com/moj-analytical-services/pydbtools\n",
    "\n",
    "# few things for viewing dataframes better\n",
    "pd.set_option(\"display.max_columns\", 100)\n",
    "pd.set_option(\"display.width\", 900)\n",
    "pd.set_option(\"display.max_colwidth\", 200)"
   ]
  },
  {
   "cell_type": "code",
   "execution_count": null,
   "id": "3b7f9aea-3149-4345-a389-f110fff09698",
   "metadata": {},
   "outputs": [],
   "source": [
    "# define some variables to be used throughout the notebook\n",
    "db1 = \"familyman_dev_v3\" #database where Familyman data is stored\n",
    "db2 = \"fcsq\" #database where tables created as part of FCSQ processing are stored where required\n",
    "#snapshot dates and publication period are set in the main run file. However, if running this notebook independently you will need to set them here\n",
    "snapshot_date = \"2023-05-10\""
   ]
  },
  {
   "cell_type": "code",
   "execution_count": null,
   "id": "5bc03c9e-8acd-4417-9a54-20c670e01172",
   "metadata": {},
   "outputs": [],
   "source": [
    "#Join applicants to address table\n",
    "pydb.create_temp_table( \n",
    "f\"\"\"\n",
    "SELECT    \n",
    "  ap.year,\n",
    "  ap.party_id,\n",
    "  ad.postcode,\n",
    "  ap.case_number\n",
    "FROM\n",
    "  {db2}.ca_applicants ap\n",
    "  LEFT JOIN {db1}.parties p\n",
    "    ON ap.party_id = p.party\n",
    "  LEFT JOIN {db1}.addresses ad \n",
    "    ON p.address = ad.address \n",
    "WHERE\n",
    "  main_case_type = 'P'\n",
    "  AND p.mojap_snapshot_date = DATE'{snapshot_date}'\n",
    "  AND ad.mojap_snapshot_date = DATE'{snapshot_date}'\n",
    "  \n",
    "\"\"\",\n",
    "    \n",
    "  \n",
    "\"priv_app_postcode\")"
   ]
  },
  {
   "cell_type": "code",
   "execution_count": null,
   "id": "9e4eadcc-386c-451f-a1e5-a2842b6589af",
   "metadata": {},
   "outputs": [],
   "source": [
    "#Join the postcode to the kinship applicants data\n",
    "pydb.create_temp_table( \n",
    "f\"\"\"\n",
    "SELECT    \n",
    "  DISTINCT\n",
    "  ap.year,\n",
    "  ad.party_id,\n",
    "  ad.postcode\n",
    "FROM\n",
    "  __temp__.priv_res_kinship ap\n",
    "  LEFT JOIN __temp__.priv_app_postcode ad\n",
    "    ON ap.case_number = ad.case_number\n",
    "\n",
    "  \n",
    "\"\"\",\n",
    "    \n",
    "  \n",
    "\"priv_app_postcode_2\")"
   ]
  },
  {
   "cell_type": "code",
   "execution_count": null,
   "id": "37bb362d-3c8b-40cf-8ab9-66d9a32c07cb",
   "metadata": {},
   "outputs": [],
   "source": [
    "pydb.create_temp_table( \n",
    "f\"\"\"\n",
    "SELECT \n",
    "  year,\n",
    "  COUNT (*) AS app_count,\n",
    "  SUM (CASE WHEN postcode IS NOT NULL THEN 1 ELSE 0 END) AS postcode_count\n",
    "FROM \n",
    "  __temp__.priv_app_postcode_2\n",
    "GROUP BY\n",
    "  Year\n",
    "  \n",
    "\"\"\",\n",
    "    \n",
    "\"priv_app_postcode_count\")"
   ]
  },
  {
   "cell_type": "code",
   "execution_count": null,
   "id": "21f2d268-8caa-4404-af64-c2b62d903c0e",
   "metadata": {},
   "outputs": [],
   "source": [
    "pydb.read_sql_query (\"select * from __temp__.priv_app_postcode_count order by year\")"
   ]
  }
 ],
 "metadata": {
  "kernelspec": {
   "display_name": "Python 3",
   "language": "python",
   "name": "python3"
  },
  "language_info": {
   "codemirror_mode": {
    "name": "ipython",
    "version": 3
   },
   "file_extension": ".py",
   "mimetype": "text/x-python",
   "name": "python",
   "nbconvert_exporter": "python",
   "pygments_lexer": "ipython3",
   "version": "3.9.4"
  }
 },
 "nbformat": 4,
 "nbformat_minor": 5
}
