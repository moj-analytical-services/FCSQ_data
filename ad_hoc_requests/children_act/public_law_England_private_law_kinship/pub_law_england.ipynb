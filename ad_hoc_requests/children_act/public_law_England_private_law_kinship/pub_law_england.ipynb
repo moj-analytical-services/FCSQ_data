{
 "cells": [
  {
   "cell_type": "code",
   "execution_count": null,
   "id": "c997ee19-4236-4ef7-8299-49d27f526839",
   "metadata": {},
   "outputs": [],
   "source": [
    "import os  # for file paths\n",
    "import pandas as pd\n",
    "import awswrangler as wr\n",
    "import pydbtools as pydb  # see https://github.com/moj-analytical-services/pydbtools\n",
    "\n",
    "# few things for viewing dataframes better\n",
    "pd.set_option(\"display.max_columns\", 100)\n",
    "pd.set_option(\"display.width\", 900)\n",
    "pd.set_option(\"display.max_colwidth\", 200)"
   ]
  },
  {
   "cell_type": "code",
   "execution_count": null,
   "id": "a7ddfb31-aedc-4c56-adf3-dd08cfe1980a",
   "metadata": {},
   "outputs": [],
   "source": [
    "# define some variables to be used throughout the notebook\n",
    "db2 = \"fcsq\""
   ]
  },
  {
   "cell_type": "code",
   "execution_count": null,
   "id": "a8d1b4fb-9ff2-40dd-9df9-afb75968d1fa",
   "metadata": {},
   "outputs": [],
   "source": [
    "#Orders made - adding a country variable\n",
    "print(\"aggregating order level dataset....\")\n",
    "pydb.create_temp_table( \n",
    "f\"\"\"\n",
    "SELECT\n",
    "  Year,\n",
    "   Order_desc,\n",
    "   order_code,  \n",
    "   CASE WHEN disposal_region = 'WALES' \n",
    "         THEN 'Wales'\n",
    "         ELSE 'England' END \n",
    "      AS country,\n",
    "   COUNT(*) AS Count\n",
    "FROM\n",
    "  {db2}.ca_disps_all_children\n",
    "WHERE\n",
    "  year BETWEEN 2011 AND 2021  \n",
    "  AND disp_type_code = 1\n",
    "  AND order_case_type = 'C'\n",
    "  AND order_code IN (27,30)\n",
    "GROUP BY\n",
    "  Year,\n",
    "  Order_desc,\n",
    "  order_code,\n",
    "  CASE WHEN disposal_region = 'WALES' \n",
    "         THEN 'Wales'\n",
    "         ELSE 'England' END\n",
    "  \n",
    "\"\"\",\n",
    "\n",
    "\"pub_sgo_cao\")"
   ]
  },
  {
   "cell_type": "code",
   "execution_count": null,
   "id": "5657b903-3749-4b48-90a2-3c20f7ea681f",
   "metadata": {},
   "outputs": [],
   "source": [
    "pub_data = pydb.read_sql_query(\"SELECT * FROM __temp__.pub_sgo_cao\")"
   ]
  },
  {
   "cell_type": "code",
   "execution_count": null,
   "id": "b5241677-6c2c-4d2a-9b39-9b2c134ab16c",
   "metadata": {},
   "outputs": [],
   "source": [
    "pub_df = pd.DataFrame(pub_data)"
   ]
  },
  {
   "cell_type": "code",
   "execution_count": null,
   "id": "9d361945-cefd-4c0f-ae28-7d17c7a329b8",
   "metadata": {},
   "outputs": [],
   "source": [
    "pub_df.to_csv (r's3://alpha-family-data/Adhoc/pub_child_sgo_cao_county.csv', header = True, index=False)"
   ]
  }
 ],
 "metadata": {
  "kernelspec": {
   "display_name": "Python 3",
   "language": "python",
   "name": "python3"
  },
  "language_info": {
   "codemirror_mode": {
    "name": "ipython",
    "version": 3
   },
   "file_extension": ".py",
   "mimetype": "text/x-python",
   "name": "python",
   "nbconvert_exporter": "python",
   "pygments_lexer": "ipython3",
   "version": "3.9.4"
  }
 },
 "nbformat": 4,
 "nbformat_minor": 5
}
