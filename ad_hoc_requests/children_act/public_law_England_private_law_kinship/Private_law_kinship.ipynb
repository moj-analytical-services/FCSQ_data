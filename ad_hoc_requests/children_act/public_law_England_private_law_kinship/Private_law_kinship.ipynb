{
 "cells": [
  {
   "cell_type": "code",
   "execution_count": null,
   "id": "ea0b7369-b451-4539-a7f2-3c80a35aab27",
   "metadata": {},
   "outputs": [],
   "source": [
    "import os  # for file paths\n",
    "import pandas as pd\n",
    "import awswrangler as wr\n",
    "import pydbtools as pydb  # see https://github.com/moj-analytical-services/pydbtools\n",
    "\n",
    "# few things for viewing dataframes better\n",
    "pd.set_option(\"display.max_columns\", 100)\n",
    "pd.set_option(\"display.width\", 900)\n",
    "pd.set_option(\"display.max_colwidth\", 200)"
   ]
  },
  {
   "cell_type": "code",
   "execution_count": null,
   "id": "3b7f9aea-3149-4345-a389-f110fff09698",
   "metadata": {},
   "outputs": [],
   "source": [
    "# define some variables to be used throughout the notebook\n",
    "db1 = \"familyman_dev_v3\" #database where Familyman data is stored\n",
    "db2 = \"fcsq\" #database where tables created as part of FCSQ processing are stored where required\n",
    "#snapshot dates and publication period are set in the main run file. However, if running this notebook independently you will need to set them here\n",
    "snapshot_date = \"2023-05-10\""
   ]
  },
  {
   "cell_type": "code",
   "execution_count": null,
   "id": "e6dff399-e59f-47a9-83e3-bae407dc6333",
   "metadata": {
    "tags": []
   },
   "outputs": [],
   "source": [
    "#Extract res orders made\n",
    "pydb.create_temp_table( \n",
    "f\"\"\"\n",
    "SELECT    \n",
    "  year,\n",
    "  case_number,\n",
    "  Order_desc,\n",
    "  CASE WHEN disposal_region = 'WALES'\n",
    "        THEN 'Wales'\n",
    "        ELSE 'England' END \n",
    "    AS country\n",
    "FROM \n",
    "  {db2}.ca_disps_all_children\n",
    "WHERE\n",
    "  disp_type_code = 1\n",
    "  AND Year > 2010\n",
    "  AND order_case_type = 'P'\n",
    "  AND order_code = 30\n",
    "\n",
    "\"\"\",\n",
    "\n",
    "\"priv_res_ords\")"
   ]
  },
  {
   "cell_type": "code",
   "execution_count": null,
   "id": "e489ecc8-15a0-4d0b-9cda-9c17bdfd1178",
   "metadata": {},
   "outputs": [],
   "source": [
    "#Extract applicant relationship to child information\n",
    "pydb.create_temp_table( \n",
    "f\"\"\"\n",
    "SELECT    \n",
    "  value AS rtc,\n",
    "  field_model,\n",
    "  role\n",
    "FROM \n",
    "  {db1}.role_fields\n",
    "WHERE\n",
    "  field_model IN ('APLC_RC')\n",
    "  AND mojap_snapshot_date = DATE'{snapshot_date}'\n",
    "\"\"\",\n",
    "\n",
    "\"app_rtc\")"
   ]
  },
  {
   "cell_type": "code",
   "execution_count": null,
   "id": "50ee1a5d-9d5e-4045-b608-268190200eda",
   "metadata": {},
   "outputs": [],
   "source": [
    "#Get rtc for applicants\n",
    "pydb.create_temp_table( \n",
    "f\"\"\"\n",
    "SELECT    \n",
    "  a.case_number,\n",
    "  a.role_id,\n",
    "  CASE WHEN (r.rtc IN ('--','Child')\n",
    "              OR r.rtc IS NULL)\n",
    "        THEN 'Not recorded'\n",
    "        ELSE r.rtc\n",
    "    END AS rtc   \n",
    "FROM \n",
    "  {db2}.ca_applicants a\n",
    "  LEFT JOIN __temp__.app_rtc r\n",
    "    ON a.role_id = r.role\n",
    "\n",
    "\"\"\",\n",
    "\n",
    "\"apps_rtc\")"
   ]
  },
  {
   "cell_type": "code",
   "execution_count": null,
   "id": "92cc92ff-d536-4807-a578-8f565c9fe0f6",
   "metadata": {},
   "outputs": [],
   "source": [
    "#add a flag for parent applicants and not recorded rtc \n",
    "pydb.create_temp_table(\n",
    "f\"\"\"\n",
    "SELECT\n",
    "  o.*,\n",
    "  CASE WHEN case_number IN (SELECT case_number\n",
    "                            FROM __temp__.apps_rtc\n",
    "                            WHERE rtc IN ('Father','Mother'))\n",
    "        THEN 1\n",
    "        ELSE 0 END\n",
    "     AS parent_app,\n",
    "  CASE WHEN case_number NOT IN (SELECT case_number\n",
    "                                FROM __temp__.apps_rtc)\n",
    "        OR case_number IN (SELECT case_number\n",
    "                            FROM __temp__.apps_rtc\n",
    "                            WHERE rtc = 'Not recorded')\n",
    "        THEN 1 \n",
    "        ELSE 0 END\n",
    "     AS rtc_not_recorded   \n",
    "FROM\n",
    "  __temp__.priv_res_ords o\n",
    "  \n",
    "\"\"\", \n",
    "  \n",
    "\"priv_res_orders_rtc\"  )"
   ]
  },
  {
   "cell_type": "code",
   "execution_count": null,
   "id": "ef0540a2-455f-427f-8b2f-680562b8cdba",
   "metadata": {},
   "outputs": [],
   "source": [
    "#add another flag column - as there may be more than one applicant in a case if one is not recorded and the other is recorded as a parent we don't want to count the order within the case as rtc not recorded\n",
    "pydb.create_temp_table(\n",
    "f\"\"\"\n",
    "SELECT\n",
    "  o.*,\n",
    "  CASE WHEN parent_app = 1\n",
    "       AND rtc_not_recorded = 1\n",
    "          THEN 'Y'\n",
    "          ELSE 'N' END \n",
    "    AS rtc_nr_parent\n",
    "FROM\n",
    "  __temp__.priv_res_orders_rtc o\n",
    "  \n",
    "\"\"\",\n",
    "    \n",
    "\"priv_res_rtc\" )"
   ]
  },
  {
   "cell_type": "code",
   "execution_count": null,
   "id": "dc8c2f8d-7f9f-4e02-a522-4f778b8c91a9",
   "metadata": {},
   "outputs": [],
   "source": [
    "#Aggregate up\n",
    "pydb.create_temp_table(\n",
    "f\"\"\"\n",
    "SELECT \n",
    "  year,\n",
    "  country,\n",
    "  SUM(parent_app) AS parent_app,\n",
    "  SUM(CASE WHEN rtc_nr_parent = 'N' THEN rtc_not_recorded END)\n",
    "      AS rtc_not_recorded,\n",
    "  count(*) AS children\n",
    "FROM\n",
    "  __temp__.priv_res_rtc\n",
    "GROUP BY \n",
    "  year,\n",
    "  country\n",
    "  \n",
    "\"\"\",\n",
    "\n",
    "\"priv_res_agg\")"
   ]
  },
  {
   "cell_type": "code",
   "execution_count": null,
   "id": "2d35be44-643c-4159-9e09-685aac4f2328",
   "metadata": {},
   "outputs": [],
   "source": [
    "priv_data = pydb.read_sql_query(\"SELECT * FROM __temp__.priv_res_agg\")"
   ]
  },
  {
   "cell_type": "code",
   "execution_count": null,
   "id": "b2b40563-fa57-4dd3-b0e9-8ce357ecdad2",
   "metadata": {},
   "outputs": [],
   "source": [
    "priv_df = pd.DataFrame(priv_data)"
   ]
  },
  {
   "cell_type": "code",
   "execution_count": null,
   "id": "2c575f91-a81e-49c5-84b4-772a50bed8c7",
   "metadata": {},
   "outputs": [],
   "source": [
    "priv_df.to_csv (r's3://alpha-family-data/Adhoc/priv_res_child.csv', header = True, index=False)"
   ]
  }
 ],
 "metadata": {
  "kernelspec": {
   "display_name": "Python 3",
   "language": "python",
   "name": "python3"
  },
  "language_info": {
   "codemirror_mode": {
    "name": "ipython",
    "version": 3
   },
   "file_extension": ".py",
   "mimetype": "text/x-python",
   "name": "python",
   "nbconvert_exporter": "python",
   "pygments_lexer": "ipython3",
   "version": "3.9.4"
  }
 },
 "nbformat": 4,
 "nbformat_minor": 5
}
