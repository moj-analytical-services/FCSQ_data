{
 "cells": [
  {
   "cell_type": "code",
   "execution_count": null,
   "id": "c997ee19-4236-4ef7-8299-49d27f526839",
   "metadata": {},
   "outputs": [],
   "source": [
    "import os  # for file paths\n",
    "import pandas as pd\n",
    "import awswrangler as wr\n",
    "import pydbtools as pydb  # see https://github.com/moj-analytical-services/pydbtools\n",
    "\n",
    "# few things for viewing dataframes better\n",
    "pd.set_option(\"display.max_columns\", 100)\n",
    "pd.set_option(\"display.width\", 900)\n",
    "pd.set_option(\"display.max_colwidth\", 200)"
   ]
  },
  {
   "cell_type": "code",
   "execution_count": null,
   "id": "a7ddfb31-aedc-4c56-adf3-dd08cfe1980a",
   "metadata": {},
   "outputs": [],
   "source": [
    "# define some variables to be used throughout the notebook\n",
    "db2 = \"fcsq\""
   ]
  },
  {
   "cell_type": "code",
   "execution_count": null,
   "id": "ab32c6c4-cec8-469e-a756-9b5e5d35b7c2",
   "metadata": {},
   "outputs": [],
   "source": [
    "#Orders made - adding a country variable\n",
    "# Age calculation copied from apps code\n",
    "print(\"aggregating order level dataset....\")\n",
    "pydb.create_temp_table( \n",
    "f\"\"\"\n",
    "SELECT\n",
    "  Year,\n",
    "   Order_desc,\n",
    "   order_code,  \n",
    "   Floor((date_diff('day',cast(dob as date),cast(receipt_date as date)))/365.25) AS child_age,\n",
    "   CASE WHEN disposal_region = 'WALES' \n",
    "         THEN 'Wales'\n",
    "         ELSE 'England' END \n",
    "      AS country\n",
    "FROM\n",
    "  {db2}.ca_disps_all_children\n",
    "WHERE\n",
    "  year BETWEEN 2011 AND 2023  \n",
    "  AND disp_type_code = 1\n",
    "  AND order_case_type = 'P'\n",
    "  AND order_code = 27\n",
    "  \n",
    "\"\"\",\n",
    "\n",
    "\"priv_sgo_cao_age\")"
   ]
  },
  {
   "cell_type": "code",
   "execution_count": null,
   "id": "ff49ddda-eba6-4357-a018-660dc45a98e3",
   "metadata": {},
   "outputs": [],
   "source": [
    "#Orders made - adding a country variable\n",
    "# Age calculation copied from apps code\n",
    "print(\"aggregating order level dataset....\")\n",
    "pydb.create_temp_table( \n",
    "f\"\"\"\n",
    "SELECT\n",
    "  Year,\n",
    "   Order_desc,\n",
    "   order_code,  \n",
    "   CASE WHEN child_age < 0 \n",
    "         OR child_age > 17 \n",
    "         OR child_age IS NULL\n",
    "        THEN 'Unknown'\n",
    "    ELSE CAST(child_age AS VARCHAR) END\n",
    "      AS child_age,\n",
    "   COUNT(*) AS Count\n",
    "FROM\n",
    "  __temp__.priv_sgo_cao_age\n",
    "WHERE\n",
    "  country = 'England'\n",
    "GROUP BY\n",
    "  Year,\n",
    "  Order_desc,\n",
    "  order_code,\n",
    "  CASE WHEN child_age < 0 \n",
    "         OR child_age > 17 \n",
    "         OR child_age IS NULL\n",
    "        THEN 'Unknown'\n",
    "    ELSE CAST(child_age AS VARCHAR) END\n",
    "  \n",
    "\"\"\",\n",
    "\n",
    "\"priv_sgo_cao_age_agg\")"
   ]
  },
  {
   "cell_type": "code",
   "execution_count": null,
   "id": "a8d1b4fb-9ff2-40dd-9df9-afb75968d1fa",
   "metadata": {},
   "outputs": [],
   "source": [
    "#Orders made - adding a country variable\n",
    "# Age calculation copied from apps code\n",
    "# Alternative setup without filtering country - used for QA\n",
    "print(\"aggregating order level dataset....\")\n",
    "pydb.create_temp_table( \n",
    "f\"\"\"\n",
    "SELECT\n",
    "  Year,\n",
    "   Order_desc,\n",
    "   order_code,  \n",
    "   Floor((date_diff('day',cast(dob as date),cast(receipt_date as date)))/365.25) AS child_age,\n",
    "   CASE WHEN disposal_region = 'WALES' \n",
    "         THEN 'Wales'\n",
    "         ELSE 'England' END \n",
    "      AS country,\n",
    "   COUNT(*) AS Count\n",
    "FROM\n",
    "  {db2}.ca_disps_all_children\n",
    "WHERE\n",
    "  year BETWEEN 2011 AND 2023  \n",
    "  AND disp_type_code = 1\n",
    "  AND order_case_type = 'P'\n",
    "  AND order_code = 27\n",
    "GROUP BY\n",
    "  Year,\n",
    "  Order_desc,\n",
    "  order_code,\n",
    "  Floor((date_diff('day',cast(dob as date),cast(receipt_date as date)))/365.25),\n",
    "  CASE WHEN disposal_region = 'WALES' \n",
    "         THEN 'Wales'\n",
    "         ELSE 'England' END\n",
    "  \n",
    "\"\"\",\n",
    "\n",
    "\"priv_sgo_cao_age_alt\")"
   ]
  },
  {
   "cell_type": "code",
   "execution_count": null,
   "id": "5657b903-3749-4b48-90a2-3c20f7ea681f",
   "metadata": {},
   "outputs": [],
   "source": [
    "pub_data = pydb.read_sql_query(\"SELECT * FROM __temp__.priv_sgo_cao_age_agg\")"
   ]
  },
  {
   "cell_type": "code",
   "execution_count": null,
   "id": "b5241677-6c2c-4d2a-9b39-9b2c134ab16c",
   "metadata": {},
   "outputs": [],
   "source": [
    "pub_df = pd.DataFrame(pub_data)"
   ]
  },
  {
   "cell_type": "code",
   "execution_count": null,
   "id": "9d361945-cefd-4c0f-ae28-7d17c7a329b8",
   "metadata": {},
   "outputs": [],
   "source": [
    "pub_df.to_csv (r's3://alpha-family-data/Adhoc/priv_child_sgo_cao_age_county.csv', header = True, index=False)"
   ]
  },
  {
   "cell_type": "code",
   "execution_count": null,
   "id": "ac4f7aed-fa74-42c0-908c-5d29762ec9ae",
   "metadata": {},
   "outputs": [],
   "source": []
  }
 ],
 "metadata": {
  "kernelspec": {
   "display_name": "FCSQ_run",
   "language": "python",
   "name": "venv_fcsq"
  },
  "language_info": {
   "codemirror_mode": {
    "name": "ipython",
    "version": 3
   },
   "file_extension": ".py",
   "mimetype": "text/x-python",
   "name": "python",
   "nbconvert_exporter": "python",
   "pygments_lexer": "ipython3",
   "version": "3.9.6"
  }
 },
 "nbformat": 4,
 "nbformat_minor": 5
}
