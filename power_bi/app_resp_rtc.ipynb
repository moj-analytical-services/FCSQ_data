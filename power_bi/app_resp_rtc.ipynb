{
 "cells": [
  {
   "cell_type": "code",
   "execution_count": null,
   "id": "edae3ff3-863b-4e58-bba2-8f7bff2eada0",
   "metadata": {},
   "outputs": [],
   "source": [
    "import os  # for file paths\n",
    "import pandas as pd\n",
    "import awswrangler as wr\n",
    "import pydbtools as pydb  # see https://github.com/moj-analytical-services/pydbtools\n",
    "\n",
    "# few things for viewing dataframes better\n",
    "pd.set_option(\"display.max_columns\", 100)\n",
    "pd.set_option(\"display.width\", 900)\n",
    "pd.set_option(\"display.max_colwidth\", 200)"
   ]
  },
  {
   "cell_type": "code",
   "execution_count": null,
   "id": "f19da494-b9f3-470f-b9cc-1dad63744155",
   "metadata": {},
   "outputs": [],
   "source": [
    "# define some variables to be used throughout the notebook\n",
    "db1 = \"familyman_dev_v3\" #database where Familyman data is stored\n",
    "db2 = \"fcsq\" #database where tables created as part of FCSQ processing are stored where required\n",
    "#snapshot dates and publication period are set in the main run file. However, if running this notebook independently you will need to set them here\n",
    "snapshot_date = \"2023-01-05\"\n",
    "#pub_year = 2011\n",
    "#pub_qtr = 4"
   ]
  },
  {
   "cell_type": "code",
   "execution_count": null,
   "id": "6625bd46-a51f-4252-b550-d373a0174408",
   "metadata": {},
   "outputs": [],
   "source": [
    "# create path for within athena FCSQ database in the S3 folder\n",
    "fcsq_db_path = f\"s3://alpha-family-data/power_bi\""
   ]
  },
  {
   "cell_type": "markdown",
   "id": "9a84b8a3-b6ce-4c24-a2a2-6160537f2361",
   "metadata": {},
   "source": [
    "### Orders Applied for (aggregated)"
   ]
  },
  {
   "cell_type": "code",
   "execution_count": null,
   "id": "1a08e313-b4b3-4680-b218-8e354cffd5e7",
   "metadata": {},
   "outputs": [],
   "source": [
    "#Aggregate up orders applied for\n",
    "pydb.create_temp_table( \n",
    "f\"\"\"\n",
    "SELECT    \n",
    "  year,\n",
    "  quarter,\n",
    "  order_case_type,\n",
    "  order_code,\n",
    "  order_desc,\n",
    "  count(*) AS orders_applied_for\n",
    "FROM \n",
    "  {db2}.ca_apps_order_types\n",
    "WHERE\n",
    "  year > 2010 \n",
    "  AND order_case_type = 'P'\n",
    "GROUP BY \n",
    "  year,\n",
    "  quarter,\n",
    "  order_case_type,\n",
    "  order_code,\n",
    "  order_desc\n",
    "\"\"\",\n",
    "\n",
    "\"ca_orders_applied\")"
   ]
  },
  {
   "cell_type": "markdown",
   "id": "a83e5f9b-0840-40f3-b2ab-de4111c7bb33",
   "metadata": {},
   "source": [
    "### Extract relationship to child info from Familyman"
   ]
  },
  {
   "cell_type": "code",
   "execution_count": null,
   "id": "32cff45c-3bfd-41bf-8c6e-713e19eba4da",
   "metadata": {},
   "outputs": [],
   "source": [
    "#Extract applicant and respondent relationship to child information\n",
    "pydb.create_temp_table( \n",
    "f\"\"\"\n",
    "SELECT    \n",
    "  value AS rtc,\n",
    "  field_model,\n",
    "  role\n",
    "FROM \n",
    "  {db1}.role_fields\n",
    "WHERE\n",
    "  field_model IN ('APLC_RC','RSPC_RC')\n",
    "  AND mojap_snapshot_date = DATE'{snapshot_date}'\n",
    "\"\"\",\n",
    "\n",
    "\"app_resp_rtc\")"
   ]
  },
  {
   "cell_type": "markdown",
   "id": "ffd5e82e-f444-429f-bbaa-b98b0e631007",
   "metadata": {},
   "source": [
    "### RTC - applicants"
   ]
  },
  {
   "cell_type": "code",
   "execution_count": null,
   "id": "1ea3441c-d89f-42a5-ad24-70efec24da7f",
   "metadata": {},
   "outputs": [],
   "source": [
    "#Get rtc for applicants\n",
    "#As joining applicants using role id it will automatically filter out and rspc_rc records from the app_resp_rtc table\n",
    "pydb.create_temp_table( \n",
    "f\"\"\"\n",
    "SELECT    \n",
    "  a.case_number,\n",
    "  a.year,\n",
    "  a.quarter,\n",
    "  a.order_case_type,\n",
    "  a.order_code,\n",
    "  a.order_desc,\n",
    "  ap.role_id,\n",
    "  r.field_model AS app_resp,\n",
    "  CASE WHEN (r.rtc IN ('--','Child')\n",
    "              OR r.rtc IS NULL)\n",
    "        THEN 'Not recorded'\n",
    "        ELSE r.rtc\n",
    "    END AS rtc   \n",
    "FROM \n",
    "  {db2}.ca_apps_order_types a\n",
    "  LEFT JOIN {db2}.ca_applicants ap \n",
    "    ON a.case_number = ap.case_number\n",
    "  LEFT JOIN __temp__.app_resp_rtc r\n",
    "    ON ap.role_id = r.role\n",
    "\n",
    "\"\"\",\n",
    "\n",
    "\"apps_rtc\")"
   ]
  },
  {
   "cell_type": "code",
   "execution_count": null,
   "id": "9eac4487-828e-4e35-be14-e3e4ab4620e9",
   "metadata": {},
   "outputs": [],
   "source": [
    "#Aggregate up applicant rtc data\n",
    "pydb.create_temp_table( \n",
    "f\"\"\"\n",
    "SELECT    \n",
    "  year,\n",
    "  quarter,\n",
    "  order_case_type,\n",
    "  order_code,\n",
    "  order_desc,\n",
    "  rtc,\n",
    "  count(*) AS applicants\n",
    "FROM \n",
    "  __temp__.apps_rtc\n",
    "WHERE\n",
    "  year > 2010  \n",
    "  AND order_case_type = 'P'\n",
    "GROUP BY\n",
    "  year,\n",
    "  quarter,\n",
    "  order_case_type,\n",
    "  order_code,\n",
    "  order_desc,\n",
    "  rtc\n",
    "\"\"\",\n",
    "\n",
    "\"agg_apps_rtc\")"
   ]
  },
  {
   "cell_type": "markdown",
   "id": "bc1dd8f9-d846-46a6-8cf2-b69fd9ea9d0c",
   "metadata": {},
   "source": [
    "### RTC - Respondents"
   ]
  },
  {
   "cell_type": "code",
   "execution_count": null,
   "id": "b2882d4f-33ee-4155-b18c-deb1eca508da",
   "metadata": {},
   "outputs": [],
   "source": [
    "#Get rtc for resps\n",
    "#As joining respondents using role id it will automatically filter out and aplc_rc records from the app_resp_rtc table\n",
    "pydb.create_temp_table( \n",
    "f\"\"\"\n",
    "SELECT    \n",
    "  a.case_number,\n",
    "  a.year,\n",
    "  a.quarter,\n",
    "  a.order_case_type,\n",
    "  a.order_code,\n",
    "  a.order_desc,\n",
    "  rp.role_id,\n",
    "  r.field_model AS app_resp,\n",
    "  CASE WHEN (r.rtc IN ('--','Child')\n",
    "              OR r.rtc IS NULL)\n",
    "        THEN 'Not recorded'\n",
    "        ELSE r.rtc\n",
    "    END AS rtc   \n",
    "FROM \n",
    "  {db2}.ca_apps_order_types a\n",
    "  LEFT JOIN {db2}.ca_respondents rp \n",
    "    ON a.case_number = rp.case_number\n",
    "  LEFT JOIN __temp__.app_resp_rtc r\n",
    "    ON rp.role_id = r.role\n",
    "\"\"\",\n",
    "\n",
    "\"resps_rtc\")"
   ]
  },
  {
   "cell_type": "code",
   "execution_count": null,
   "id": "37f248a4-0fd7-4cf8-84c8-04987b8930ac",
   "metadata": {},
   "outputs": [],
   "source": [
    "#Aggregate up respondent rtc data\n",
    "pydb.create_temp_table( \n",
    "f\"\"\"\n",
    "SELECT    \n",
    "  year,\n",
    "  quarter,\n",
    "  order_case_type,\n",
    "  order_code,\n",
    "  order_desc,\n",
    "  rtc,\n",
    "  count(*) AS respondents\n",
    "FROM \n",
    "  __temp__.resps_rtc\n",
    "WHERE\n",
    "  year > 2010   \n",
    "  AND order_case_type = 'P'\n",
    "GROUP BY\n",
    "  year,\n",
    "  quarter,\n",
    "  order_case_type,\n",
    "  order_code,\n",
    "  order_desc,\n",
    "  rtc\n",
    "\"\"\",\n",
    "\n",
    "\"agg_resps_rtc\")"
   ]
  },
  {
   "cell_type": "markdown",
   "id": "de2800ee-d5df-413b-b276-a8fe3ffb4c04",
   "metadata": {},
   "source": [
    "### Exporting data"
   ]
  },
  {
   "cell_type": "markdown",
   "id": "fe6f7e0e-dee4-44df-9cc8-fd047cb8974c",
   "metadata": {},
   "source": [
    "###### Orders applied data"
   ]
  },
  {
   "cell_type": "code",
   "execution_count": null,
   "id": "087a8a5f-61be-4171-9939-2a676c721c49",
   "metadata": {},
   "outputs": [],
   "source": [
    "ca_orders_applied_data = pydb.read_sql_query(\"SELECT * FROM __temp__.ca_orders_applied\")"
   ]
  },
  {
   "cell_type": "code",
   "execution_count": null,
   "id": "a952388f-43ba-482f-a842-8b240c2a6425",
   "metadata": {},
   "outputs": [],
   "source": [
    "ca_orders_applied_df = pd.DataFrame(ca_orders_applied_data)"
   ]
  },
  {
   "cell_type": "code",
   "execution_count": null,
   "id": "2651d3d5-bd2e-4392-b003-8e67fe60df20",
   "metadata": {},
   "outputs": [],
   "source": [
    "ca_orders_applied_df.to_csv (r's3://alpha-family-data/power_bi/ca_orders_applied.csv', header = True, index=False)"
   ]
  },
  {
   "cell_type": "markdown",
   "id": "91b776d0-ece9-4ff6-b26f-dafcb072cf07",
   "metadata": {},
   "source": [
    "###### Applicant RTC data"
   ]
  },
  {
   "cell_type": "code",
   "execution_count": null,
   "id": "4979de3f-2052-436a-9124-552160bc14dc",
   "metadata": {},
   "outputs": [],
   "source": [
    "agg_apps_rtc_data = pydb.read_sql_query(\"SELECT * FROM __temp__.agg_apps_rtc\")"
   ]
  },
  {
   "cell_type": "code",
   "execution_count": null,
   "id": "e25f6daa-1a12-4b3d-be53-56c4cab6c948",
   "metadata": {},
   "outputs": [],
   "source": [
    "agg_apps_rtc_df = pd.DataFrame(agg_apps_rtc_data)"
   ]
  },
  {
   "cell_type": "code",
   "execution_count": null,
   "id": "cfb4a73c-ecf9-4940-9aa8-aef2d588ada3",
   "metadata": {},
   "outputs": [],
   "source": [
    "agg_apps_rtc_df.to_csv (r's3://alpha-family-data/power_bi/agg_apps_rtc.csv', header = True, index=False)"
   ]
  },
  {
   "cell_type": "markdown",
   "id": "689b6b5b-75ea-4666-9328-615e04d744cd",
   "metadata": {},
   "source": [
    "###### Respondent RTC data"
   ]
  },
  {
   "cell_type": "code",
   "execution_count": null,
   "id": "56a7391a-1bef-49c4-9663-c90940a2e4a9",
   "metadata": {},
   "outputs": [],
   "source": [
    "agg_resps_rtc_data = pydb.read_sql_query(\"SELECT * FROM __temp__.agg_resps_rtc\")"
   ]
  },
  {
   "cell_type": "code",
   "execution_count": null,
   "id": "1663fdff-60c3-4673-8195-acb70361c6ef",
   "metadata": {},
   "outputs": [],
   "source": [
    "agg_resps_rtc_df = pd.DataFrame(agg_resps_rtc_data)"
   ]
  },
  {
   "cell_type": "code",
   "execution_count": null,
   "id": "47a42518-cdb1-4f92-b5d9-1ed6ea210b5f",
   "metadata": {},
   "outputs": [],
   "source": [
    "agg_resps_rtc_df.to_csv (r's3://alpha-family-data/power_bi/agg_resps_rtc.csv', header = True, index=False)"
   ]
  }
 ],
 "metadata": {
  "kernelspec": {
   "display_name": "Python 3",
   "language": "python",
   "name": "python3"
  },
  "language_info": {
   "codemirror_mode": {
    "name": "ipython",
    "version": 3
   },
   "file_extension": ".py",
   "mimetype": "text/x-python",
   "name": "python",
   "nbconvert_exporter": "python",
   "pygments_lexer": "ipython3",
   "version": "3.9.4"
  }
 },
 "nbformat": 4,
 "nbformat_minor": 5
}
