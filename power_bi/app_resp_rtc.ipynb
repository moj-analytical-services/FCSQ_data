{
 "cells": [
  {
   "cell_type": "code",
   "execution_count": null,
   "id": "edae3ff3-863b-4e58-bba2-8f7bff2eada0",
   "metadata": {},
   "outputs": [],
   "source": [
    "import os  # for file paths\n",
    "import pandas as pd\n",
    "import awswrangler as wr\n",
    "import pydbtools as pydb  # see https://github.com/moj-analytical-services/pydbtools\n",
    "\n",
    "# few things for viewing dataframes better\n",
    "pd.set_option(\"display.max_columns\", 100)\n",
    "pd.set_option(\"display.width\", 900)\n",
    "pd.set_option(\"display.max_colwidth\", 200)"
   ]
  },
  {
   "cell_type": "code",
   "execution_count": null,
   "id": "f19da494-b9f3-470f-b9cc-1dad63744155",
   "metadata": {},
   "outputs": [],
   "source": [
    "# define some variables to be used throughout the notebook\n",
    "db1 = \"familyman_dev_v3\" #database where Familyman data is stored\n",
    "db2 = \"fcsq\" #database where tables created as part of FCSQ processing are stored where required\n",
    "#snapshot dates and publication period are set in the main run file. However, if running this notebook independently you will need to set them here\n",
    "snapshot_date = \"2023-01-05\"\n",
    "#pub_year = 2011\n",
    "#pub_qtr = 4"
   ]
  },
  {
   "cell_type": "code",
   "execution_count": null,
   "id": "6625bd46-a51f-4252-b550-d373a0174408",
   "metadata": {},
   "outputs": [],
   "source": [
    "# create path for within athena FCSQ database in the S3 folder\n",
    "fcsq_db_path = f\"s3://alpha-family-data/fcsq_processing/CA_apps/\""
   ]
  },
  {
   "cell_type": "markdown",
   "id": "9a84b8a3-b6ce-4c24-a2a2-6160537f2361",
   "metadata": {},
   "source": [
    "### Orders Applied for (aggregated)"
   ]
  },
  {
   "cell_type": "code",
   "execution_count": null,
   "id": "1a08e313-b4b3-4680-b218-8e354cffd5e7",
   "metadata": {},
   "outputs": [],
   "source": [
    "#Aggregate up orders applied for\n",
    "pydb.create_temp_table( \n",
    "f\"\"\"\n",
    "SELECT    \n",
    "  year,\n",
    "  quarter,\n",
    "  order_case_type,\n",
    "  order_code,\n",
    "  order_desc,\n",
    "  count(*) AS count\n",
    "FROM \n",
    "  {db2}.ca_apps_order_types\n",
    "GROUP BY \n",
    "  year,\n",
    "  quarter,\n",
    "  order_case_type,\n",
    "  order_code,\n",
    "  order_desc\n",
    "\"\"\",\n",
    "\n",
    "\"ca_orders_applied\")"
   ]
  },
  {
   "cell_type": "markdown",
   "id": "a83e5f9b-0840-40f3-b2ab-de4111c7bb33",
   "metadata": {},
   "source": [
    "### Extract relationshipt to child info from Familyman"
   ]
  },
  {
   "cell_type": "code",
   "execution_count": null,
   "id": "32cff45c-3bfd-41bf-8c6e-713e19eba4da",
   "metadata": {},
   "outputs": [],
   "source": [
    "#Extract applicant and respondent relationship to child information\n",
    "pydb.create_temp_table( \n",
    "f\"\"\"\n",
    "SELECT    \n",
    "  value AS rtc,\n",
    "  field_model,\n",
    "  role\n",
    "FROM \n",
    "  {db1}.role_fields\n",
    "WHERE\n",
    "  field_model IN ('APLC_RC','RSPC_RC')\n",
    "  AND mojap_snapshot_date = DATE'{snapshot_date}'\n",
    "\"\"\",\n",
    "\n",
    "\"app_resp_rtc\")"
   ]
  },
  {
   "cell_type": "markdown",
   "id": "ffd5e82e-f444-429f-bbaa-b98b0e631007",
   "metadata": {},
   "source": [
    "### RTC - applicants"
   ]
  },
  {
   "cell_type": "code",
   "execution_count": null,
   "id": "1ea3441c-d89f-42a5-ad24-70efec24da7f",
   "metadata": {},
   "outputs": [],
   "source": [
    "#Get rtc for applicants\n",
    "#As joining applicants using role id it will automatically filter out and rspc_rc records from the app_resp_rtc table\n",
    "pydb.create_temp_table( \n",
    "f\"\"\"\n",
    "SELECT    \n",
    "  a.case_number,\n",
    "  a.year,\n",
    "  a.quarter,\n",
    "  a.order_case_type,\n",
    "  a.order_code,\n",
    "  a.order_desc,\n",
    "  ap.role_id,\n",
    "  r.field_model AS app_resp,\n",
    "  r.rtc\n",
    "FROM \n",
    "  {db2}.ca_apps_order_types a\n",
    "  LEFT JOIN {db2}.ca_applicants ap \n",
    "    ON a.case_number = ap.case_number\n",
    "  LEFT JOIN __temp__.app_resp_rtc r\n",
    "    ON ap.role_id = r.role\n",
    "\"\"\",\n",
    "\n",
    "\"apps_rtc\")"
   ]
  },
  {
   "cell_type": "code",
   "execution_count": null,
   "id": "9eac4487-828e-4e35-be14-e3e4ab4620e9",
   "metadata": {},
   "outputs": [],
   "source": [
    "#Aggregate up applicant rtc data\n",
    "pydb.create_temp_table( \n",
    "f\"\"\"\n",
    "SELECT    \n",
    "  year,\n",
    "  quarter,\n",
    "  order_case_type,\n",
    "  order_code,\n",
    "  order_desc,\n",
    "  rtc,\n",
    "  count(*) AS count\n",
    "FROM \n",
    "  __temp__.apps_rtc\n",
    "GROUP BY\n",
    "  year,\n",
    "  quarter,\n",
    "  order_case_type,\n",
    "  order_code,\n",
    "  order_desc,\n",
    "  rtc\n",
    "\"\"\",\n",
    "\n",
    "\"agg_apps_rtc\")"
   ]
  },
  {
   "cell_type": "markdown",
   "id": "bc1dd8f9-d846-46a6-8cf2-b69fd9ea9d0c",
   "metadata": {},
   "source": [
    "### RTC - Respondents"
   ]
  },
  {
   "cell_type": "code",
   "execution_count": null,
   "id": "b2882d4f-33ee-4155-b18c-deb1eca508da",
   "metadata": {},
   "outputs": [],
   "source": [
    "#Get rtc for resps\n",
    "#As joining respondents using role id it will automatically filter out and aplc_rc records from the app_resp_rtc table\n",
    "pydb.create_temp_table( \n",
    "f\"\"\"\n",
    "SELECT    \n",
    "  a.case_number,\n",
    "  a.year,\n",
    "  a.quarter,\n",
    "  a.order_case_type,\n",
    "  a.order_code,\n",
    "  a.order_desc,\n",
    "  rp.role_id,\n",
    "  r.field_model AS app_resp,\n",
    "  r.rtc\n",
    "FROM \n",
    "  {db2}.ca_apps_order_types a\n",
    "  LEFT JOIN {db2}.ca_respondents rp \n",
    "    ON a.case_number = rp.case_number\n",
    "  LEFT JOIN __temp__.app_resp_rtc r\n",
    "    ON rp.role_id = r.role\n",
    "\"\"\",\n",
    "\n",
    "\"resps_rtc\")"
   ]
  },
  {
   "cell_type": "code",
   "execution_count": null,
   "id": "37f248a4-0fd7-4cf8-84c8-04987b8930ac",
   "metadata": {},
   "outputs": [],
   "source": [
    "#Aggregate up respondent rtc data\n",
    "pydb.create_temp_table( \n",
    "f\"\"\"\n",
    "SELECT    \n",
    "  year,\n",
    "  quarter,\n",
    "  order_case_type,\n",
    "  order_code,\n",
    "  order_desc,\n",
    "  rtc,\n",
    "  count(*) AS count\n",
    "FROM \n",
    "  __temp__.apps_rtc\n",
    "GROUP BY\n",
    "  year,\n",
    "  quarter,\n",
    "  order_case_type,\n",
    "  order_code,\n",
    "  order_desc,\n",
    "  rtc\n",
    "\"\"\",\n",
    "\n",
    "\"agg_resps_rtc\")"
   ]
  }
 ],
 "metadata": {
  "kernelspec": {
   "display_name": "Python 3",
   "language": "python",
   "name": "python3"
  },
  "language_info": {
   "codemirror_mode": {
    "name": "ipython",
    "version": 3
   },
   "file_extension": ".py",
   "mimetype": "text/x-python",
   "name": "python",
   "nbconvert_exporter": "python",
   "pygments_lexer": "ipython3",
   "version": "3.9.4"
  }
 },
 "nbformat": 4,
 "nbformat_minor": 5
}
