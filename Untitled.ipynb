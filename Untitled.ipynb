{
 "cells": [
  {
   "cell_type": "markdown",
   "id": "bd73f5a2-bafc-491c-b503-bd08bc097c12",
   "metadata": {
    "tags": []
   },
   "source": [
    "## Import packages and set options \n",
    "<a name=\"import_packages\"></a>"
   ]
  },
  {
   "cell_type": "code",
   "execution_count": 1,
   "id": "dc8de393-9b95-4a7d-8d7b-e6b5a548ecaf",
   "metadata": {},
   "outputs": [],
   "source": [
    "import pandas as pd  # for the data structures to store and manipulate tables\n",
    "import pydbtools as pydb  # see https://github.com/moj-analytical-services/pydbtools\n",
    "import boto3  # for working with AWS\n",
    "\n",
    "# few things for viewing dataframes better\n",
    "pd.set_option(\"display.max_columns\", 100)\n",
    "pd.set_option(\"display.width\", 900)\n",
    "pd.set_option(\"display.max_colwidth\", 200)"
   ]
  },
  {
   "cell_type": "markdown",
   "id": "322f238e-a0f2-4fa2-aaa0-4e0229c854c4",
   "metadata": {},
   "source": [
    "## Define some variables to be used throughout the notebook \n",
    "<a name=\"define_key_variables\"></a>"
   ]
  },
  {
   "cell_type": "code",
   "execution_count": 2,
   "id": "1831ebda-9009-4620-9281-561c154e1cdd",
   "metadata": {},
   "outputs": [],
   "source": [
    "database = \"familyman_dev_v2\"\n",
    "snapshot_date = \"2021-08-19\"\n",
    "database_derived = \"familyman_derived_dev_v1\"\n",
    "\n",
    "fcsq_database = \"fcsq\"\n",
    "\n",
    "s3 = boto3.resource(\"s3\")\n",
    "bucket = s3.Bucket(\"alpha-family-data\")"
   ]
  },
  {
   "cell_type": "code",
   "execution_count": 6,
   "id": "27c17bf2-c27d-4e41-9ed4-258dea446904",
   "metadata": {},
   "outputs": [
    {
     "data": {
      "text/plain": [
       "{'paths': ['s3://alpha-family-data/fcsq_processing/Adoption/adopt_disposals_fields_sas/adopt_disposals_fields_parquet/90ffed9ad2c647b6a014289511e103e4.snappy.parquet'],\n",
       " 'partitions_values': {}}"
      ]
     },
     "execution_count": 6,
     "metadata": {},
     "output_type": "execute_result"
    }
   ],
   "source": [
    "#Create parquet file to add into athena for birth_country_lookup table\n",
    "data = pd.read_csv('s3://alpha-family-data/fcsq_processing/Adoption/adopt_disposals_fields_sas/ADOPT_DISPOSALS_FINAL_SAS.csv')\n",
    "import os\n",
    "os.environ['AWS_DEFAULT_REGION'] = 'eu-west-2'\n",
    "import awswrangler as wr\n",
    "wr.s3.to_parquet(  # Storing the data and metadata to Data Lake\n",
    "    df=data,\n",
    "    path=\"s3://alpha-family-data/fcsq_processing/Adoption/adopt_disposals_fields_sas/adopt_disposals_fields_parquet/\",\n",
    "    dataset=True, database = \"default\", table = \"adopt_disposals_fields_sas\"\n",
    ")\n",
    "\n"
   ]
  },
  {
   "cell_type": "code",
   "execution_count": null,
   "id": "c73f4374-733c-4676-bf03-75ff04b70f31",
   "metadata": {},
   "outputs": [],
   "source": []
  }
 ],
 "metadata": {
  "kernelspec": {
   "display_name": "venvname",
   "language": "python",
   "name": "venvname"
  },
  "language_info": {
   "codemirror_mode": {
    "name": "ipython",
    "version": 3
   },
   "file_extension": ".py",
   "mimetype": "text/x-python",
   "name": "python",
   "nbconvert_exporter": "python",
   "pygments_lexer": "ipython3",
   "version": "3.9.6"
  }
 },
 "nbformat": 4,
 "nbformat_minor": 5
}
